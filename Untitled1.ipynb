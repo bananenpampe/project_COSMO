{
 "cells": [
  {
   "cell_type": "code",
   "execution_count": 2,
   "id": "a9cadb42-3f43-4518-8781-39e30c8ac0b1",
   "metadata": {},
   "outputs": [],
   "source": [
    "from ase.io import read\n",
    "from rascal.representations import SphericalInvariants\n",
    "from loader import load_data"
   ]
  },
  {
   "cell_type": "code",
   "execution_count": 3,
   "id": "83ae2148-05c5-45e4-a7b9-0e5fa2d78fe6",
   "metadata": {},
   "outputs": [],
   "source": [
    "S_train, S_test, y_train, y_test = load_data(\"./make_tensor_data/train_tensor/CSD-3k+S546_shift_tensors.xyz\",\\\n",
    "                                                                                    \"./make_tensor_data/test_tensor/CSD-500+104-7_shift_tensors.xyz\",selected_species=100,random_subsample_test=200)"
   ]
  },
  {
   "cell_type": "code",
   "execution_count": null,
   "id": "d74ee251-af03-4d90-a3f0-3cbb1934c4c5",
   "metadata": {},
   "outputs": [],
   "source": []
  },
  {
   "cell_type": "code",
   "execution_count": null,
   "id": "d4f6b170-956d-436b-bf26-4c6d0c8a7913",
   "metadata": {},
   "outputs": [],
   "source": [
    "calculator = SphericalInvariants(**)"
   ]
  }
 ],
 "metadata": {
  "kernelspec": {
   "display_name": "Python 3",
   "language": "python",
   "name": "python3"
  },
  "language_info": {
   "codemirror_mode": {
    "name": "ipython",
    "version": 3
   },
   "file_extension": ".py",
   "mimetype": "text/x-python",
   "name": "python",
   "nbconvert_exporter": "python",
   "pygments_lexer": "ipython3",
   "version": "3.8.10"
  }
 },
 "nbformat": 4,
 "nbformat_minor": 5
}
