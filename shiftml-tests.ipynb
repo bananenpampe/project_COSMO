{
 "cells": [
  {
   "cell_type": "code",
   "execution_count": 6,
   "metadata": {},
   "outputs": [
    {
     "name": "stdout",
     "output_type": "stream",
     "text": [
      "The autoreload extension is already loaded. To reload it, use:\n",
      "  %reload_ext autoreload\n"
     ]
    }
   ],
   "source": [
    "%load_ext autoreload \n",
    "%autoreload 2"
   ]
  },
  {
   "cell_type": "code",
   "execution_count": 7,
   "metadata": {},
   "outputs": [],
   "source": [
    "from ase.io import read\n",
    "import ase\n",
    "import time \n",
    "from tqdm.notebook import tqdm\n",
    "from copy import deepcopy\n",
    "import numpy as np\n",
    "import matplotlib.pyplot as plt\n",
    "\n",
    "from rascal.representations import SphericalExpansion, SphericalInvariants\n",
    "from rascal.utils import (get_radial_basis_covariance, get_radial_basis_pca, \n",
    "                          get_radial_basis_projections, get_optimal_radial_basis_hypers )\n",
    "from rascal.utils import radial_basis\n",
    "from rascal.utils import (WignerDReal, ClebschGordanReal, \n",
    "                          spherical_expansion_reshape, spherical_expansion_conjugate,\n",
    "                    lm_slice, real2complex_matrix, compute_lambda_soap)\n",
    "from rascal.neighbourlist.structure_manager import mask_center_atoms_by_species,mask_center_atoms_by_id"
   ]
  },
  {
   "cell_type": "code",
   "execution_count": 8,
   "metadata": {},
   "outputs": [],
   "source": [
    "from skcosmo.linear_model import AtomRidge\n",
    "from skcosmo.model_selection import atom_groups_by_frame, train_test_split_by_frame"
   ]
  },
  {
   "cell_type": "code",
   "execution_count": 9,
   "metadata": {},
   "outputs": [],
   "source": [
    "#AtomRidge is for loss implementation as dicsussed on 11th of november\n",
    "\n",
    "# do not split by environment split by structure -+ symmetries in crystal structures \n",
    "# can lead to equal environments \n",
    "\n",
    "# "
   ]
  },
  {
   "cell_type": "code",
   "execution_count": 10,
   "metadata": {},
   "outputs": [
    {
     "name": "stdout",
     "output_type": "stream",
     "text": [
      "ORAVUZ SUSPICIOUS\n",
      "SAJYEH SUSPICIOUS\n",
      "DIZVOZ SUSPICIOUS\n",
      "CUGLUN SUSPICIOUS\n"
     ]
    }
   ],
   "source": [
    "frames = read(\"./make_tensor_data/train_tensor/CSD-3k+S546_shift_tensors.xyz\",\"::20\")\n",
    "clean_frames = []\n",
    "for f in frames:\n",
    "    if f.info['STATUS'] == 'PASSING':\n",
    "        clean_frames.append(f)\n",
    "    else:\n",
    "        print(f.info['NAME'], f.info['STATUS'])\n",
    "frames = clean_frames"
   ]
  },
  {
   "cell_type": "code",
   "execution_count": 11,
   "metadata": {},
   "outputs": [],
   "source": [
    "y = []\n",
    "s = []\n",
    "atom_sigma = {'H': 0.1, 'C': 1, 'N':1, 'O':1, 'S':2}\n",
    "type_idx = {'H': [], 'C': [], 'N': [], 'O': [], 'S': []}\n",
    "idx = 0\n",
    "groups = []\n",
    "for iframe, f in enumerate(frames):\n",
    "    y.append(f.arrays['cs_iso'])\n",
    "    f.wrap(eps=1e-12)\n",
    "    for l in f.symbols:\n",
    "        type_idx[l].append(idx)\n",
    "        idx+=1\n",
    "        s.append(atom_sigma[l])    \n",
    "groups = atom_groups_by_frame(frames)        \n",
    "cs = np.concatenate(y)\n",
    "sigmas = np.asarray(s)"
   ]
  },
  {
   "cell_type": "code",
   "execution_count": 14,
   "metadata": {},
   "outputs": [
    {
     "data": {
      "text/plain": [
       "{'magres_units': {'cs_tensor': 'ppm', 'cs_iso': 'ppm'},\n",
       " 'STATUS': 'PASSING',\n",
       " 'NAME': 'FADBOB',\n",
       " 'ENERGY': -2300.05217586}"
      ]
     },
     "execution_count": 14,
     "metadata": {},
     "output_type": "execute_result"
    }
   ],
   "source": [
    "f.info"
   ]
  },
  {
   "cell_type": "code",
   "execution_count": 13,
   "metadata": {
    "collapsed": true,
    "jupyter": {
     "outputs_hidden": true
    }
   },
   "outputs": [
    {
     "ename": "KeyboardInterrupt",
     "evalue": "",
     "output_type": "error",
     "traceback": [
      "\u001b[0;31m---------------------------------------------------------------------------\u001b[0m",
      "\u001b[0;31mKeyboardInterrupt\u001b[0m                         Traceback (most recent call last)",
      "\u001b[0;32m<ipython-input-13-a7dfda066995>\u001b[0m in \u001b[0;36m<module>\u001b[0;34m\u001b[0m\n\u001b[1;32m     24\u001b[0m \u001b[0;34m\u001b[0m\u001b[0m\n\u001b[1;32m     25\u001b[0m \u001b[0mhypers_1\u001b[0m \u001b[0;34m=\u001b[0m \u001b[0mget_optimal_radial_basis_hypers\u001b[0m\u001b[0;34m(\u001b[0m\u001b[0mhypers_1\u001b[0m\u001b[0;34m,\u001b[0m \u001b[0mframes\u001b[0m\u001b[0;34m,\u001b[0m \u001b[0mexpanded_max_radial\u001b[0m\u001b[0;34m=\u001b[0m\u001b[0;36m50\u001b[0m\u001b[0;34m)\u001b[0m\u001b[0;34m\u001b[0m\u001b[0;34m\u001b[0m\u001b[0m\n\u001b[0;32m---> 26\u001b[0;31m \u001b[0mhypers_2\u001b[0m \u001b[0;34m=\u001b[0m \u001b[0mget_optimal_radial_basis_hypers\u001b[0m\u001b[0;34m(\u001b[0m\u001b[0mhypers_2\u001b[0m\u001b[0;34m,\u001b[0m \u001b[0mframes\u001b[0m\u001b[0;34m,\u001b[0m \u001b[0mexpanded_max_radial\u001b[0m\u001b[0;34m=\u001b[0m\u001b[0;36m50\u001b[0m\u001b[0;34m)\u001b[0m\u001b[0;34m\u001b[0m\u001b[0;34m\u001b[0m\u001b[0m\n\u001b[0m",
      "\u001b[0;32m~/anaconda3/lib/python3.7/site-packages/rascal/utils/radial_basis.py\u001b[0m in \u001b[0;36mget_optimal_radial_basis_hypers\u001b[0;34m(hypers, frames, expanded_max_radial)\u001b[0m\n\u001b[1;32m    387\u001b[0m     \u001b[0;32mif\u001b[0m \u001b[0;32mnot\u001b[0m \u001b[0mtype\u001b[0m\u001b[0;34m(\u001b[0m\u001b[0mframes\u001b[0m\u001b[0;34m[\u001b[0m\u001b[0;36m0\u001b[0m\u001b[0;34m]\u001b[0m\u001b[0;34m)\u001b[0m \u001b[0;32mis\u001b[0m \u001b[0mlist\u001b[0m\u001b[0;34m:\u001b[0m\u001b[0;34m\u001b[0m\u001b[0;34m\u001b[0m\u001b[0m\n\u001b[1;32m    388\u001b[0m         \u001b[0mframes\u001b[0m \u001b[0;34m=\u001b[0m \u001b[0;34m[\u001b[0m\u001b[0mframes\u001b[0m\u001b[0;34m]\u001b[0m\u001b[0;34m\u001b[0m\u001b[0;34m\u001b[0m\u001b[0m\n\u001b[0;32m--> 389\u001b[0;31m     \u001b[0mfeats\u001b[0m \u001b[0;34m=\u001b[0m \u001b[0mspex\u001b[0m\u001b[0;34m.\u001b[0m\u001b[0mtransform\u001b[0m\u001b[0;34m(\u001b[0m\u001b[0mframes\u001b[0m\u001b[0;34m[\u001b[0m\u001b[0;36m0\u001b[0m\u001b[0;34m]\u001b[0m\u001b[0;34m)\u001b[0m\u001b[0;34m.\u001b[0m\u001b[0mget_features_by_species\u001b[0m\u001b[0;34m(\u001b[0m\u001b[0mspex\u001b[0m\u001b[0;34m)\u001b[0m\u001b[0;34m\u001b[0m\u001b[0;34m\u001b[0m\u001b[0m\n\u001b[0m\u001b[1;32m    390\u001b[0m     \u001b[0mcov\u001b[0m \u001b[0;34m=\u001b[0m \u001b[0mget_radial_basis_covariance\u001b[0m\u001b[0;34m(\u001b[0m\u001b[0mspex\u001b[0m\u001b[0;34m,\u001b[0m \u001b[0mfeats\u001b[0m\u001b[0;34m)\u001b[0m\u001b[0;34m\u001b[0m\u001b[0;34m\u001b[0m\u001b[0m\n\u001b[1;32m    391\u001b[0m     \u001b[0mnframes\u001b[0m \u001b[0;34m=\u001b[0m \u001b[0mlen\u001b[0m\u001b[0;34m(\u001b[0m\u001b[0mframes\u001b[0m\u001b[0;34m[\u001b[0m\u001b[0;36m0\u001b[0m\u001b[0;34m]\u001b[0m\u001b[0;34m)\u001b[0m\u001b[0;34m\u001b[0m\u001b[0;34m\u001b[0m\u001b[0m\n",
      "\u001b[0;32m~/anaconda3/lib/python3.7/site-packages/rascal/representations/spherical_expansion.py\u001b[0m in \u001b[0;36mtransform\u001b[0;34m(self, frames)\u001b[0m\n\u001b[1;32m    281\u001b[0m             \u001b[0mframes\u001b[0m \u001b[0;34m=\u001b[0m \u001b[0mAtomsList\u001b[0m\u001b[0;34m(\u001b[0m\u001b[0mframes\u001b[0m\u001b[0;34m,\u001b[0m \u001b[0mself\u001b[0m\u001b[0;34m.\u001b[0m\u001b[0mnl_options\u001b[0m\u001b[0;34m)\u001b[0m\u001b[0;34m\u001b[0m\u001b[0;34m\u001b[0m\u001b[0m\n\u001b[1;32m    282\u001b[0m \u001b[0;34m\u001b[0m\u001b[0m\n\u001b[0;32m--> 283\u001b[0;31m         \u001b[0mself\u001b[0m\u001b[0;34m.\u001b[0m\u001b[0m_representation\u001b[0m\u001b[0;34m.\u001b[0m\u001b[0mcompute\u001b[0m\u001b[0;34m(\u001b[0m\u001b[0mframes\u001b[0m\u001b[0;34m.\u001b[0m\u001b[0mmanagers\u001b[0m\u001b[0;34m)\u001b[0m\u001b[0;34m\u001b[0m\u001b[0;34m\u001b[0m\u001b[0m\n\u001b[0m\u001b[1;32m    284\u001b[0m         \u001b[0;32mreturn\u001b[0m \u001b[0mframes\u001b[0m\u001b[0;34m\u001b[0m\u001b[0;34m\u001b[0m\u001b[0m\n\u001b[1;32m    285\u001b[0m \u001b[0;34m\u001b[0m\u001b[0m\n",
      "\u001b[0;31mKeyboardInterrupt\u001b[0m: "
     ]
    }
   ],
   "source": [
    "hypers_1 = {\n",
    "    'interaction_cutoff': 6,\n",
    "    'max_radial': 10,\n",
    "    'max_angular': 0,\n",
    "    'gaussian_sigma_type': 'Constant',\n",
    "    'gaussian_sigma_constant': 0.2,\n",
    "    'cutoff_smooth_width': 0.3,\n",
    "    'radial_basis': 'DVR',        \n",
    "    'soap_type' : \"RadialSpectrum\",\n",
    "    'normalize' : False\n",
    "}\n",
    "\n",
    "hypers_2 = {\n",
    "    'interaction_cutoff': 6,\n",
    "    'max_radial': 8,\n",
    "    'max_angular': 6,\n",
    "    'gaussian_sigma_type': 'Constant',\n",
    "    'gaussian_sigma_constant': 0.2,\n",
    "    'cutoff_smooth_width': 0.3,\n",
    "    'radial_basis': 'DVR',\n",
    "    'normalize' : False,\n",
    "    'soap_type' : \"PowerSpectrum\"\n",
    "}\n",
    "\n",
    "hypers_1 = get_optimal_radial_basis_hypers(hypers_1, frames, expanded_max_radial=50)\n",
    "hypers_2 = get_optimal_radial_basis_hypers(hypers_2, frames, expanded_max_radial=50)"
   ]
  },
  {
   "cell_type": "code",
   "execution_count": null,
   "metadata": {},
   "outputs": [],
   "source": [
    "soap1 = SphericalInvariants(**hypers_1)\n",
    "soap2 = SphericalInvariants(**hypers_2)"
   ]
  },
  {
   "cell_type": "code",
   "execution_count": null,
   "metadata": {},
   "outputs": [],
   "source": [
    "feat1 = soap1.transform(frames).get_features(soap1)\n",
    "feat2 = soap2.transform(frames).get_features(soap2)"
   ]
  },
  {
   "cell_type": "code",
   "execution_count": null,
   "metadata": {},
   "outputs": [],
   "source": [
    "feat1.shape"
   ]
  },
  {
   "cell_type": "code",
   "execution_count": null,
   "metadata": {},
   "outputs": [],
   "source": [
    "from sklearn.model_selection import GroupKFold, GridSearchCV, train_test_split"
   ]
  },
  {
   "cell_type": "code",
   "execution_count": null,
   "metadata": {},
   "outputs": [],
   "source": [
    "#from skcosmo.kernel_model import RKHSTransform\n",
    "from skcosmo.sample_selection import CUR, PCovCUR, FPS"
   ]
  },
  {
   "cell_type": "code",
   "execution_count": 17,
   "metadata": {},
   "outputs": [],
   "source": [
    "feats = np.hstack([feat1, feat2])\n",
    "X_train, X_test, y_train, y_test, sig_train, sig_test, g_train, g_test = train_test_split_by_frame(frames, feats, cs, sigmas, train_size=0.8)"
   ]
  },
  {
   "cell_type": "code",
   "execution_count": 18,
   "metadata": {},
   "outputs": [],
   "source": [
    "ar = AtomRidge(sigma=1, delta=[10, 2], feature_groups=[slice(0,feat1.shape[1]), slice(feat1.shape[1],feat1.shape[1]+feat2.shape[1])])"
   ]
  },
  {
   "cell_type": "code",
   "execution_count": 19,
   "metadata": {},
   "outputs": [],
   "source": [
    "splits = list(GroupKFold(n_splits=2).split(X_train, y_train, g_train))\n",
    "gcv = GridSearchCV(ar, dict(delta=[[1,100], [1,10], [1, 1], [10, 1], [100,1]]), cv = splits, scoring='neg_mean_squared_error')"
   ]
  },
  {
   "cell_type": "code",
   "execution_count": 20,
   "metadata": {},
   "outputs": [],
   "source": [
    "ar.fit(X_train, y_train, sample_sigmas=sig_train)"
   ]
  },
  {
   "cell_type": "code",
   "execution_count": 21,
   "metadata": {},
   "outputs": [
    {
     "data": {
      "text/plain": [
       "GridSearchCV(cv=[(array([   48,    49,    50, ..., 12388, 12389, 12390]),\n",
       "                  array([    0,     1,     2, ..., 12516, 12517, 12518])),\n",
       "                 (array([    0,     1,     2, ..., 12516, 12517, 12518]),\n",
       "                  array([   48,    49,    50, ..., 12388, 12389, 12390]))],\n",
       "             estimator=AtomRidge(delta=[10, 2],\n",
       "                                 feature_groups=[slice(0, 50, None),\n",
       "                                                 slice(50, 6770, None)],\n",
       "                                 sigma=1),\n",
       "             param_grid={'delta': [[1, 100], [1, 10], [1, 1], [10, 1],\n",
       "                                   [100, 1]]},\n",
       "             scoring='neg_mean_squared_error')"
      ]
     },
     "execution_count": 21,
     "metadata": {},
     "output_type": "execute_result"
    }
   ],
   "source": [
    "gcv.fit(X_train, y_train, sample_sigmas=sig_train)"
   ]
  },
  {
   "cell_type": "code",
   "execution_count": 22,
   "metadata": {},
   "outputs": [
    {
     "data": {
      "text/plain": [
       "{'mean_fit_time': array([9.77995157, 8.71252716, 8.86782694, 8.19846475, 8.09635651]),\n",
       " 'std_fit_time': array([0.12617469, 0.62481511, 0.02244496, 0.27919543, 0.22832644]),\n",
       " 'mean_score_time': array([0.89520335, 0.79375887, 0.81087995, 0.75069821, 0.73616409]),\n",
       " 'std_score_time': array([0.03439927, 0.02039814, 0.01566386, 0.14561546, 0.06710982]),\n",
       " 'param_delta': masked_array(data=[list([1, 100]), list([1, 10]), list([1, 1]),\n",
       "                    list([10, 1]), list([100, 1])],\n",
       "              mask=[False, False, False, False, False],\n",
       "        fill_value='?',\n",
       "             dtype=object),\n",
       " 'params': [{'delta': [1, 100]},\n",
       "  {'delta': [1, 10]},\n",
       "  {'delta': [1, 1]},\n",
       "  {'delta': [10, 1]},\n",
       "  {'delta': [100, 1]}],\n",
       " 'split0_test_score': array([-2586.47216441, -2089.35336834, -1821.57109327, -1804.70164913,\n",
       "        -1806.46648514]),\n",
       " 'split1_test_score': array([-2935.61359181, -2696.64796999, -2332.56827662, -2206.94776095,\n",
       "        -2205.86307688]),\n",
       " 'mean_test_score': array([-2761.04287811, -2393.00066916, -2077.06968494, -2005.82470504,\n",
       "        -2006.16478101]),\n",
       " 'std_test_score': array([174.5707137 , 303.64730083, 255.49859168, 201.12305591,\n",
       "        199.69829587]),\n",
       " 'rank_test_score': array([5, 4, 3, 1, 2], dtype=int32)}"
      ]
     },
     "execution_count": 22,
     "metadata": {},
     "output_type": "execute_result"
    }
   ],
   "source": [
    "gcv.cv_results_"
   ]
  },
  {
   "cell_type": "code",
   "execution_count": 23,
   "metadata": {},
   "outputs": [],
   "source": [
    "cs_pred = gcv.predict(feats)"
   ]
  },
  {
   "cell_type": "code",
   "execution_count": 24,
   "metadata": {},
   "outputs": [],
   "source": [
    "p_test = gcv.predict(X_test)"
   ]
  },
  {
   "cell_type": "code",
   "execution_count": 25,
   "metadata": {},
   "outputs": [
    {
     "data": {
      "text/plain": [
       "34.38657195325989"
      ]
     },
     "execution_count": 25,
     "metadata": {},
     "output_type": "execute_result"
    },
    {
     "data": {
      "image/png": "[encoded data removed]",
      "text/plain": [
       "<Figure size 432x288 with 1 Axes>"
      ]
     },
     "metadata": {
      "needs_background": "light"
     },
     "output_type": "display_data"
    }
   ],
   "source": [
    "plt.plot(p_test, y_test, 'r.')\n",
    "np.sqrt(np.mean((p_test-y_test)**2))"
   ]
  },
  {
   "cell_type": "code",
   "execution_count": 26,
   "metadata": {},
   "outputs": [
    {
     "data": {
      "text/plain": [
       "[<matplotlib.lines.Line2D at 0x7fb3c7268b70>]"
      ]
     },
     "execution_count": 26,
     "metadata": {},
     "output_type": "execute_result"
    },
    {
     "data": {
      "image/png": "[encoded data removed]",
      "text/plain": [
       "<Figure size 432x288 with 1 Axes>"
      ]
     },
     "metadata": {
      "needs_background": "light"
     },
     "output_type": "display_data"
    }
   ],
   "source": [
    "plt.plot(cs[type_idx['C']], cs_pred[type_idx['C']], 'r.')\n",
    "plt.plot(cs[type_idx['H']], cs_pred[type_idx['H']], 'b.')"
   ]
  },
  {
   "cell_type": "code",
   "execution_count": 27,
   "metadata": {},
   "outputs": [],
   "source": [
    "sel = FPS(n_to_select = 1000, progress_bar=tqdm)"
   ]
  },
  {
   "cell_type": "code",
   "execution_count": 23,
   "metadata": {},
   "outputs": [
    {
     "data": {
      "application/vnd.jupyter.widget-view+json": {
       "model_id": "7db6095e87eb454e8936e90351820e2c",
       "version_major": 2,
       "version_minor": 0
      },
      "text/plain": [
       "HBox(children=(FloatProgress(value=0.0, max=999.0), HTML(value='')))"
      ]
     },
     "metadata": {},
     "output_type": "display_data"
    },
    {
     "name": "stdout",
     "output_type": "stream",
     "text": [
      "\n"
     ]
    },
    {
     "data": {
      "text/plain": [
       "FPS()"
      ]
     },
     "execution_count": 23,
     "metadata": {},
     "output_type": "execute_result"
    }
   ],
   "source": [
    "sel.fit(feats)"
   ]
  },
  {
   "cell_type": "code",
   "execution_count": null,
   "metadata": {},
   "outputs": [],
   "source": []
  },
  {
   "cell_type": "code",
   "execution_count": 24,
   "metadata": {},
   "outputs": [],
   "source": [
    "KBB1 = (feat1[sel.selected_idx_]@feat1[sel.selected_idx_].T)**2\n",
    "KBB2 = (feat2[sel.selected_idx_]@feat2[sel.selected_idx_].T)**2"
   ]
  },
  {
   "cell_type": "code",
   "execution_count": 25,
   "metadata": {},
   "outputs": [],
   "source": [
    "rkhs1 = RKHSTransform(jitter=1e-10)\n",
    "rkhs1.fit(KBB1)\n",
    "rkhs2 = RKHSTransform(jitter=1e-10)\n",
    "rkhs2.fit(KBB2)"
   ]
  },
  {
   "cell_type": "code",
   "execution_count": 26,
   "metadata": {},
   "outputs": [],
   "source": [
    "feats = np.hstack([rkhs1.transform((feat1@feat1[sel.selected_idx_].T)**2), \n",
    "                   rkhs2.transform((feat2@feat2[sel.selected_idx_].T)**2)])\n",
    "X_train, X_test, y_train, y_test, sig_train, sig_test, g_train, g_test = train_test_split_by_frame(frames, feats, cs, sigmas, train_size=0.8)"
   ]
  },
  {
   "cell_type": "code",
   "execution_count": 27,
   "metadata": {},
   "outputs": [],
   "source": [
    "ar = AtomRidge(sigma=1, delta=[10, 2], feature_groups=[slice(0,rkhs1.nB_), slice(rkhs1.nB_,rkhs1.nB_+rkhs2.nB_)])\n",
    "splits = list(GroupKFold(n_splits=2).split(X_train, y_train, g_train))\n",
    "gcv = GridSearchCV(ar, dict(delta=[[1,100], [1,10], [1, 1], [10, 1], [100,1]]), cv = splits, scoring='neg_mean_squared_error')"
   ]
  },
  {
   "cell_type": "code",
   "execution_count": 28,
   "metadata": {},
   "outputs": [
    {
     "data": {
      "text/plain": [
       "GridSearchCV(cv=[(array([   48,    49,    50, ..., 12806, 12807, 12808]),\n",
       "                  array([    0,     1,     2, ..., 12658, 12659, 12660])),\n",
       "                 (array([    0,     1,     2, ..., 12658, 12659, 12660]),\n",
       "                  array([   48,    49,    50, ..., 12806, 12807, 12808]))],\n",
       "             estimator=AtomRidge(delta=[10, 2],\n",
       "                                 feature_groups=[slice(0, 961, None),\n",
       "                                                 slice(961, 1961, None)],\n",
       "                                 sigma=1),\n",
       "             param_grid={'delta': [[1, 100], [1, 10], [1, 1], [10, 1],\n",
       "                                   [100, 1]]},\n",
       "             scoring='neg_mean_squared_error')"
      ]
     },
     "execution_count": 28,
     "metadata": {},
     "output_type": "execute_result"
    }
   ],
   "source": [
    "gcv.fit(X_train, y_train, sample_sigmas=sig_train)"
   ]
  },
  {
   "cell_type": "code",
   "execution_count": 29,
   "metadata": {},
   "outputs": [
    {
     "data": {
      "text/plain": [
       "{'mean_fit_time': array([0.57306707, 0.56071413, 0.57852292, 0.59785664, 0.66454113]),\n",
       " 'std_fit_time': array([0.00267851, 0.00508988, 0.00524592, 0.00488198, 0.05927074]),\n",
       " 'mean_score_time': array([0.08969927, 0.08821619, 0.09062922, 0.09227931, 0.10231376]),\n",
       " 'std_score_time': array([2.85792351e-03, 5.90682030e-04, 4.64916229e-06, 3.19838524e-04,\n",
       "        2.43973732e-03]),\n",
       " 'param_delta': masked_array(data=[list([1, 100]), list([1, 10]), list([1, 1]),\n",
       "                    list([10, 1]), list([100, 1])],\n",
       "              mask=[False, False, False, False, False],\n",
       "        fill_value='?',\n",
       "             dtype=object),\n",
       " 'params': [{'delta': [1, 100]},\n",
       "  {'delta': [1, 10]},\n",
       "  {'delta': [1, 1]},\n",
       "  {'delta': [10, 1]},\n",
       "  {'delta': [100, 1]}],\n",
       " 'split0_test_score': array([-6871.25681638, -4275.81785461, -2327.1206239 , -2435.99582069,\n",
       "        -3313.62749191]),\n",
       " 'split1_test_score': array([-8311.50051452, -4682.43061987, -1994.2089419 , -2013.5957211 ,\n",
       "        -3163.56645951]),\n",
       " 'mean_test_score': array([-7591.37866545, -4479.12423724, -2160.6647829 , -2224.7957709 ,\n",
       "        -3238.59697571]),\n",
       " 'std_test_score': array([720.12184907, 203.30638263, 166.455841  , 211.20004979,\n",
       "         75.0305162 ]),\n",
       " 'rank_test_score': array([5, 4, 1, 2, 3], dtype=int32)}"
      ]
     },
     "execution_count": 29,
     "metadata": {},
     "output_type": "execute_result"
    }
   ],
   "source": [
    "gcv.cv_results_"
   ]
  },
  {
   "cell_type": "code",
   "execution_count": 5,
   "metadata": {},
   "outputs": [
    {
     "ename": "NameError",
     "evalue": "name 'gcv' is not defined",
     "output_type": "error",
     "traceback": [
      "\u001b[0;31m---------------------------------------------------------------------------\u001b[0m",
      "\u001b[0;31mNameError\u001b[0m                                 Traceback (most recent call last)",
      "\u001b[0;32m<ipython-input-5-574284d0187e>\u001b[0m in \u001b[0;36m<module>\u001b[0;34m\u001b[0m\n\u001b[0;32m----> 1\u001b[0;31m \u001b[0mcs_pred\u001b[0m \u001b[0;34m=\u001b[0m \u001b[0mgcv\u001b[0m\u001b[0;34m.\u001b[0m\u001b[0mpredict\u001b[0m\u001b[0;34m(\u001b[0m\u001b[0mfeats\u001b[0m\u001b[0;34m)\u001b[0m\u001b[0;34m\u001b[0m\u001b[0;34m\u001b[0m\u001b[0m\n\u001b[0m",
      "\u001b[0;31mNameError\u001b[0m: name 'gcv' is not defined"
     ]
    }
   ],
   "source": [
    "cs_pred = gcv.predict(feats)"
   ]
  },
  {
   "cell_type": "code",
   "execution_count": 31,
   "metadata": {},
   "outputs": [
    {
     "data": {
      "text/plain": [
       "[<matplotlib.lines.Line2D at 0x7f2c96c57280>]"
      ]
     },
     "execution_count": 31,
     "metadata": {},
     "output_type": "execute_result"
    },
    {
     "data": {
      "image/png": "[encoded data removed]",
      "text/plain": [
       "<Figure size 432x288 with 1 Axes>"
      ]
     },
     "metadata": {
      "needs_background": "light"
     },
     "output_type": "display_data"
    }
   ],
   "source": [
    "plt.plot(cs[type_idx['C']], cs_pred[type_idx['C']], 'r.')\n",
    "plt.plot(cs[type_idx['H']], cs_pred[type_idx['H']], 'b.')\n",
    "plt.plot([-50,200],[-50,200], 'k--')"
   ]
  },
  {
   "cell_type": "code",
   "execution_count": 32,
   "metadata": {},
   "outputs": [],
   "source": [
    "p_test = gcv.predict(X_test)"
   ]
  },
  {
   "cell_type": "code",
   "execution_count": 33,
   "metadata": {},
   "outputs": [
    {
     "data": {
      "text/plain": [
       "37.9234057386919"
      ]
     },
     "execution_count": 33,
     "metadata": {},
     "output_type": "execute_result"
    },
    {
     "data": {
      "image/png": "[encoded data removed]",
      "text/plain": [
       "<Figure size 432x288 with 1 Axes>"
      ]
     },
     "metadata": {
      "needs_background": "light"
     },
     "output_type": "display_data"
    }
   ],
   "source": [
    "plt.plot(p_test, y_test, 'r.')\n",
    "np.sqrt(np.mean((p_test-y_test)**2))"
   ]
  },
  {
   "cell_type": "code",
   "execution_count": 34,
   "metadata": {},
   "outputs": [],
   "source": [
    "feats = np.hstack([feat1, feat2, rkhs1.transform((feat1@feat1[sel.selected_idx_].T)**2), \n",
    "                   rkhs2.transform((feat2@feat2[sel.selected_idx_].T)**2)])\n",
    "ar = AtomRidge(sigma=1, delta=[10, 2], \n",
    "               feature_groups=[slice(0,feat1.shape[1]),\n",
    "                               slice(feat1.shape[1],feat1.shape[1]+feat2.shape[1]),\n",
    "                               slice(feat1.shape[1]+feat2.shape[1],feat1.shape[1]+feat2.shape[1]+rkhs1.nB_),\n",
    "                               slice(feat1.shape[1]+feat2.shape[1]+rkhs1.nB_,\n",
    "                                     feat1.shape[1]+feat2.shape[1]+rkhs1.nB_+rkhs2.nB_)])\n",
    "X_train, X_test, y_train, y_test, sig_train, sig_test, g_train, g_test = train_test_split_by_frame(frames, feats, cs, sigmas, train_size=0.8)"
   ]
  },
  {
   "cell_type": "code",
   "execution_count": 35,
   "metadata": {},
   "outputs": [],
   "source": [
    "splits = list(GroupKFold(n_splits=2).split(X_train, y_train, g_train))\n",
    "gcv = GridSearchCV(ar, dict(delta=[[1,1,1,1], [10,1,1,1], [1, 10, 1, 1], [1, 1, 1,10]]), cv = splits, scoring='neg_mean_squared_error')"
   ]
  },
  {
   "cell_type": "code",
   "execution_count": 36,
   "metadata": {},
   "outputs": [
    {
     "data": {
      "text/plain": [
       "GridSearchCV(cv=[(array([    0,     1,     2, ..., 12873, 12874, 12875]),\n",
       "                  array([   86,    87,    88, ..., 12605, 12606, 12607])),\n",
       "                 (array([   86,    87,    88, ..., 12605, 12606, 12607]),\n",
       "                  array([    0,     1,     2, ..., 12873, 12874, 12875]))],\n",
       "             estimator=AtomRidge(delta=[10, 2],\n",
       "                                 feature_groups=[slice(0, 50, None),\n",
       "                                                 slice(50, 6770, None),\n",
       "                                                 slice(6770, 7731, None),\n",
       "                                                 slice(7731, 8731, None)],\n",
       "                                 sigma=1),\n",
       "             param_grid={'delta': [[1, 1, 1, 1], [10, 1, 1, 1], [1, 10, 1, 1],\n",
       "                                   [1, 1, 1, 10]]},\n",
       "             scoring='neg_mean_squared_error')"
      ]
     },
     "execution_count": 36,
     "metadata": {},
     "output_type": "execute_result"
    }
   ],
   "source": [
    "gcv.fit(X_train, y_train, sample_sigmas=sig_train)"
   ]
  },
  {
   "cell_type": "code",
   "execution_count": 37,
   "metadata": {},
   "outputs": [
    {
     "data": {
      "text/plain": [
       "{'mean_fit_time': array([ 9.85993683, 13.27722335, 12.66051674, 11.67009723]),\n",
       " 'std_fit_time': array([1.35135758, 1.50251627, 0.07989526, 0.10312021]),\n",
       " 'mean_score_time': array([1.03893089, 1.13393652, 1.11975455, 0.98259676]),\n",
       " 'std_score_time': array([0.07027054, 0.11650789, 0.00368428, 0.00716817]),\n",
       " 'param_delta': masked_array(data=[list([1, 1, 1, 1]), list([10, 1, 1, 1]),\n",
       "                    list([1, 10, 1, 1]), list([1, 1, 1, 10])],\n",
       "              mask=[False, False, False, False],\n",
       "        fill_value='?',\n",
       "             dtype=object),\n",
       " 'params': [{'delta': [1, 1, 1, 1]},\n",
       "  {'delta': [10, 1, 1, 1]},\n",
       "  {'delta': [1, 10, 1, 1]},\n",
       "  {'delta': [1, 1, 1, 10]}],\n",
       " 'split0_test_score': array([-2254.38191997, -2350.89008397, -2407.5595815 , -4178.02238631]),\n",
       " 'split1_test_score': array([-1904.86760492, -1755.33312981, -2329.76061556, -5183.96133146]),\n",
       " 'mean_test_score': array([-2079.62476245, -2053.11160689, -2368.66009853, -4680.99185888]),\n",
       " 'std_test_score': array([174.75715753, 297.77847708,  38.89948297, 502.96947258]),\n",
       " 'rank_test_score': array([2, 1, 3, 4], dtype=int32)}"
      ]
     },
     "execution_count": 37,
     "metadata": {},
     "output_type": "execute_result"
    }
   ],
   "source": [
    "gcv.cv_results_"
   ]
  },
  {
   "cell_type": "code",
   "execution_count": 53,
   "metadata": {},
   "outputs": [],
   "source": [
    "cs_pred = gcv.predict(feats)"
   ]
  },
  {
   "cell_type": "code",
   "execution_count": 54,
   "metadata": {},
   "outputs": [
    {
     "data": {
      "text/plain": [
       "[<matplotlib.lines.Line2D at 0x7f0cfe652790>]"
      ]
     },
     "execution_count": 54,
     "metadata": {},
     "output_type": "execute_result"
    },
    {
     "data": {
      "image/png": "[encoded data removed]",
      "text/plain": [
       "<Figure size 432x288 with 1 Axes>"
      ]
     },
     "metadata": {
      "needs_background": "light"
     },
     "output_type": "display_data"
    }
   ],
   "source": [
    "plt.plot(cs[type_idx['C']], cs_pred[type_idx['C']], 'r.')\n",
    "plt.plot(cs[type_idx['H']], cs_pred[type_idx['H']], 'b.')\n",
    "plt.plot([-50,200],[-50,200], 'k--')"
   ]
  },
  {
   "cell_type": "code",
   "execution_count": 55,
   "metadata": {},
   "outputs": [],
   "source": [
    "p_test = gcv.predict(X_test)"
   ]
  },
  {
   "cell_type": "code",
   "execution_count": 56,
   "metadata": {},
   "outputs": [
    {
     "data": {
      "text/plain": [
       "33.52512284197961"
      ]
     },
     "execution_count": 56,
     "metadata": {},
     "output_type": "execute_result"
    },
    {
     "data": {
      "image/png": "[encoded data removed]",
      "text/plain": [
       "<Figure size 432x288 with 1 Axes>"
      ]
     },
     "metadata": {
      "needs_background": "light"
     },
     "output_type": "display_data"
    }
   ],
   "source": [
    "plt.plot(p_test, y_test, 'r.')\n",
    "np.sqrt(np.mean((p_test-y_test)**2))"
   ]
  },
  {
   "cell_type": "code",
   "execution_count": null,
   "metadata": {},
   "outputs": [],
   "source": []
  }
 ],
 "metadata": {
  "kernelspec": {
   "display_name": "Python 3",
   "language": "python",
   "name": "python3"
  },
  "language_info": {
   "codemirror_mode": {
    "name": "ipython",
    "version": 3
   },
   "file_extension": ".py",
   "mimetype": "text/x-python",
   "name": "python",
   "nbconvert_exporter": "python",
   "pygments_lexer": "ipython3",
   "version": "3.8.10"
  },
  "toc": {
   "base_numbering": 1,
   "nav_menu": {},
   "number_sections": true,
   "sideBar": true,
   "skip_h1_title": false,
   "title_cell": "Table of Contents",
   "title_sidebar": "Contents",
   "toc_cell": false,
   "toc_position": {},
   "toc_section_display": true,
   "toc_window_display": false
  }
 },
 "nbformat": 4,
 "nbformat_minor": 4
}
