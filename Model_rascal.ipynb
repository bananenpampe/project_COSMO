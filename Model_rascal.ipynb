{
 "cells": [
  {
   "cell_type": "code",
   "execution_count": 47,
   "metadata": {},
   "outputs": [],
   "source": [
    "from helpers import load_CSD_data, make_element_wise_environments\n",
    "import numpy as np\n",
    "from rascal.representations import SphericalInvariants\n",
    "from rascal.models.kernels import Kernel\n",
    "from sklearn.kernel_ridge import KernelRidge\n",
    "from rascal.neighbourlist.structure_manager import mask_center_atoms_by_species\n",
    "\n",
    "PATH_TRAIN = \"CSD-2k_relaxed_shifts.txt\"\n",
    "PATH_TEST = \"CSD-500.txt\"\n",
    "structures_test, shifts_test = load_CSD_data(PATH_TEST,random_subsample=50)\n",
    "structures_train, shifts_train = load_CSD_data(PATH_TRAIN,random_subsample=200)"
   ]
  },
  {
   "cell_type": "code",
   "execution_count": 48,
   "metadata": {},
   "outputs": [],
   "source": [
    "hypers = {\"soap_type\": \"PowerSpectrum\",\n",
    "          \"interaction_cutoff\": 3,\n",
    "          \"radial_basis\": \"GTO\",\n",
    "          \"max_radial\": 9,\n",
    "          \"max_angular\": 9,\n",
    "          \"gaussian_sigma_constant\": 0.3,\n",
    "          \"gaussian_sigma_type\":\"Constant\",\n",
    "          \"cutoff_function_type\":\"ShiftedCosine\",\n",
    "          \"cutoff_smooth_width\": 0.5,\n",
    "          \"normalize\": True,\n",
    "          \"compute_gradients\":False,\n",
    "          \"cutoff_function_parameters\":dict(rate=1,scale=3.5,exponent=4),\n",
    "          #\"optimization\": dict(Spline=dict(accuracy=1.0e-05))\n",
    "          \"expansion_by_species_method\":'user defined',\n",
    "          \"global_species\":[1,6,7,8]\n",
    "         }\n"
   ]
  },
  {
   "cell_type": "code",
   "execution_count": 49,
   "metadata": {},
   "outputs": [],
   "source": [
    "! export OMP_NUM_THREADS=1\n",
    "! export MKL_NUM_THREADS=1"
   ]
  },
  {
   "cell_type": "code",
   "execution_count": 3,
   "metadata": {},
   "outputs": [],
   "source": [
    "calculator = SphericalInvariants(**hypers)\n",
    "atoms_list_train = calculator.transform(structures_train)\n",
    "#X_repr_new = atoms_list_new.get_features(calculator)"
   ]
  },
  {
   "cell_type": "code",
   "execution_count": 35,
   "metadata": {},
   "outputs": [],
   "source": [
    "for structure in structures_train: mask_center_atoms_by_species(structure,species_select=[1])\n",
    "calculator = SphericalInvariants(**hypers)\n",
    "atoms_list_train = calculator.transform(structures_train)\n",
    "kernel = Kernel(calculator,target_type=\"Atom\",zeta=2)\n",
    "#kernel_computed = kernel(atoms_list_train)"
   ]
  },
  {
   "cell_type": "code",
   "execution_count": 21,
   "metadata": {},
   "outputs": [
    {
     "data": {
      "text/plain": [
       "(3694, 3694)"
      ]
     },
     "execution_count": 21,
     "metadata": {},
     "output_type": "execute_result"
    }
   ],
   "source": [
    "kernel_computed.shape"
   ]
  },
  {
   "cell_type": "code",
   "execution_count": 31,
   "metadata": {
    "collapsed": true,
    "jupyter": {
     "outputs_hidden": true
    }
   },
   "outputs": [
    {
     "ename": "KeyError",
     "evalue": "'center_atoms_mask'",
     "output_type": "error",
     "traceback": [
      "\u001b[0;31m---------------------------------------------------------------------------\u001b[0m",
      "\u001b[0;31mKeyError\u001b[0m                                  Traceback (most recent call last)",
      "\u001b[0;32m<ipython-input-31-73032384f25d>\u001b[0m in \u001b[0;36m<module>\u001b[0;34m\u001b[0m\n\u001b[1;32m      1\u001b[0m \u001b[0;31m#masking the species\u001b[0m\u001b[0;34m\u001b[0m\u001b[0;34m\u001b[0m\u001b[0;34m\u001b[0m\u001b[0m\n\u001b[1;32m      2\u001b[0m \u001b[0;31m#for structure in structures_train: mask_center_atoms_by_species(structure,species_select=[1])\u001b[0m\u001b[0;34m\u001b[0m\u001b[0;34m\u001b[0m\u001b[0;34m\u001b[0m\u001b[0m\n\u001b[0;32m----> 3\u001b[0;31m \u001b[0mH_train_shifts\u001b[0m \u001b[0;34m=\u001b[0m \u001b[0mnp\u001b[0m\u001b[0;34m.\u001b[0m\u001b[0marray\u001b[0m\u001b[0;34m(\u001b[0m\u001b[0;34m[\u001b[0m\u001b[0mshift\u001b[0m \u001b[0;32mfor\u001b[0m \u001b[0mstructure\u001b[0m \u001b[0;32min\u001b[0m \u001b[0mstructures_train\u001b[0m \u001b[0;32mfor\u001b[0m \u001b[0mshift\u001b[0m \u001b[0;32min\u001b[0m \u001b[0mstructure\u001b[0m\u001b[0;34m.\u001b[0m\u001b[0marrays\u001b[0m\u001b[0;34m[\u001b[0m\u001b[0;34m\"CS\"\u001b[0m\u001b[0;34m]\u001b[0m\u001b[0;34m[\u001b[0m\u001b[0mstructure\u001b[0m\u001b[0;34m.\u001b[0m\u001b[0marrays\u001b[0m\u001b[0;34m[\u001b[0m\u001b[0;34m\"center_atoms_mask\"\u001b[0m\u001b[0;34m]\u001b[0m\u001b[0;34m]\u001b[0m\u001b[0;34m]\u001b[0m\u001b[0;34m)\u001b[0m\u001b[0;34m\u001b[0m\u001b[0;34m\u001b[0m\u001b[0m\n\u001b[0m",
      "\u001b[0;32m<ipython-input-31-73032384f25d>\u001b[0m in \u001b[0;36m<listcomp>\u001b[0;34m(.0)\u001b[0m\n\u001b[1;32m      1\u001b[0m \u001b[0;31m#masking the species\u001b[0m\u001b[0;34m\u001b[0m\u001b[0;34m\u001b[0m\u001b[0;34m\u001b[0m\u001b[0m\n\u001b[1;32m      2\u001b[0m \u001b[0;31m#for structure in structures_train: mask_center_atoms_by_species(structure,species_select=[1])\u001b[0m\u001b[0;34m\u001b[0m\u001b[0;34m\u001b[0m\u001b[0;34m\u001b[0m\u001b[0m\n\u001b[0;32m----> 3\u001b[0;31m \u001b[0mH_train_shifts\u001b[0m \u001b[0;34m=\u001b[0m \u001b[0mnp\u001b[0m\u001b[0;34m.\u001b[0m\u001b[0marray\u001b[0m\u001b[0;34m(\u001b[0m\u001b[0;34m[\u001b[0m\u001b[0mshift\u001b[0m \u001b[0;32mfor\u001b[0m \u001b[0mstructure\u001b[0m \u001b[0;32min\u001b[0m \u001b[0mstructures_train\u001b[0m \u001b[0;32mfor\u001b[0m \u001b[0mshift\u001b[0m \u001b[0;32min\u001b[0m \u001b[0mstructure\u001b[0m\u001b[0;34m.\u001b[0m\u001b[0marrays\u001b[0m\u001b[0;34m[\u001b[0m\u001b[0;34m\"CS\"\u001b[0m\u001b[0;34m]\u001b[0m\u001b[0;34m[\u001b[0m\u001b[0mstructure\u001b[0m\u001b[0;34m.\u001b[0m\u001b[0marrays\u001b[0m\u001b[0;34m[\u001b[0m\u001b[0;34m\"center_atoms_mask\"\u001b[0m\u001b[0;34m]\u001b[0m\u001b[0;34m]\u001b[0m\u001b[0;34m]\u001b[0m\u001b[0;34m)\u001b[0m\u001b[0;34m\u001b[0m\u001b[0;34m\u001b[0m\u001b[0m\n\u001b[0m",
      "\u001b[0;31mKeyError\u001b[0m: 'center_atoms_mask'"
     ]
    }
   ],
   "source": [
    "#masking the species\n",
    "#for structure in structures_train: mask_center_atoms_by_species(structure,species_select=[1])\n",
    "H_train_shifts = np.array([shift for structure in structures_train for shift in structure.arrays[\"CS\"][structure.arrays[\"center_atoms_mask\"]]])    "
   ]
  },
  {
   "cell_type": "code",
   "execution_count": 28,
   "metadata": {},
   "outputs": [],
   "source": [
    "\n",
    "\n",
    "kernel = Kernel(calculator,target_type=\"Atom\",zeta=2)\n",
    "kernel_computed = kernel(atoms_list_train)\n",
    "\n",
    "#clf = KernelRidge(alpha=1e-02,kernel=\"precomputed\")\n",
    "\n",
    "#clf.fit(kernel_computed, H_train_shifts)"
   ]
  },
  {
   "cell_type": "code",
   "execution_count": 37,
   "metadata": {},
   "outputs": [],
   "source": [
    "X_train = calculator.transform(structures_train).get_features(calculator)\n",
    "X_test = calculator.transform(structures_test).get_features(calculator)"
   ]
  },
  {
   "cell_type": "code",
   "execution_count": 13,
   "metadata": {},
   "outputs": [],
   "source": [
    "import sklearn"
   ]
  },
  {
   "cell_type": "code",
   "execution_count": 24,
   "metadata": {},
   "outputs": [],
   "source": [
    "Kernel_sklearn = sklearn.metrics.pairwise.polynomial_kernel(X_train, degree=2, gamma=1., coef0=0)"
   ]
  },
  {
   "cell_type": "code",
   "execution_count": 14,
   "metadata": {},
   "outputs": [
    {
     "data": {
      "text/plain": [
       "(3928, 3928)"
      ]
     },
     "execution_count": 14,
     "metadata": {},
     "output_type": "execute_result"
    }
   ],
   "source": [
    "Kernel_sklearn.shape"
   ]
  },
  {
   "cell_type": "code",
   "execution_count": 25,
   "metadata": {},
   "outputs": [
    {
     "data": {
      "text/plain": [
       "True"
      ]
     },
     "execution_count": 25,
     "metadata": {},
     "output_type": "execute_result"
    }
   ],
   "source": [
    "np.allclose(kernel_computed,Kernel_sklearn) #returns True"
   ]
  },
  {
   "cell_type": "code",
   "execution_count": 9,
   "metadata": {},
   "outputs": [],
   "source": [
    "import cProfile"
   ]
  },
  {
   "cell_type": "code",
   "execution_count": 42,
   "metadata": {},
   "outputs": [],
   "source": []
  },
  {
   "cell_type": "code",
   "execution_count": 45,
   "metadata": {},
   "outputs": [
    {
     "name": "stdout",
     "output_type": "stream",
     "text": [
      "         5 function calls in 30.057 seconds\n",
      "\n",
      "   Ordered by: standard name\n",
      "\n",
      "   ncalls  tottime  percall  cumtime  percall filename:lineno(function)\n",
      "        1    0.065    0.065   30.055   30.055 <string>:1(<module>)\n",
      "        1   29.990   29.990   29.990   29.990 kernels.py:114(__call__)\n",
      "        1    0.001    0.001   30.057   30.057 {built-in method builtins.exec}\n",
      "        1    0.000    0.000    0.000    0.000 {built-in method builtins.isinstance}\n",
      "        1    0.000    0.000    0.000    0.000 {method 'disable' of '_lsprof.Profiler' objects}\n",
      "\n",
      "\n"
     ]
    }
   ],
   "source": [
    "cProfile.run(\"kernel(atoms_list_train)\")"
   ]
  },
  {
   "cell_type": "code",
   "execution_count": 46,
   "metadata": {
    "collapsed": true,
    "jupyter": {
     "outputs_hidden": true
    }
   },
   "outputs": [
    {
     "name": "stdout",
     "output_type": "stream",
     "text": [
      "         9106 function calls in 8.811 seconds\n",
      "\n",
      "   Ordered by: standard name\n",
      "\n",
      "   ncalls  tottime  percall  cumtime  percall filename:lineno(function)\n",
      "      200    0.000    0.000    0.006    0.000 <__array_function__ internals>:2(all)\n",
      "        1    0.000    0.000    0.052    0.052 <__array_function__ internals>:2(sum)\n",
      "        1    0.000    0.000    0.000    0.000 <frozen importlib._bootstrap>:1009(_handle_fromlist)\n",
      "        1    0.000    0.000    0.000    0.000 <frozen importlib._bootstrap>:416(parent)\n",
      "        1    0.226    0.226    8.810    8.810 <string>:1(<module>)\n",
      "        1    0.000    0.000    0.000    0.000 __init__.py:183(dumps)\n",
      "        1    0.000    0.000    0.000    0.000 _asarray.py:110(asanyarray)\n",
      "      401    0.000    0.000    0.003    0.000 _asarray.py:23(asarray)\n",
      "        1    0.000    0.000    0.000    0.000 _config.py:16(_get_threadlocal_config)\n",
      "        1    0.000    0.000    0.000    0.000 _config.py:24(get_config)\n",
      "        2    0.000    0.000    0.002    0.001 abc.py:137(__instancecheck__)\n",
      "        1    0.000    0.000    0.000    0.000 abc.py:141(__subclasscheck__)\n",
      "      200    0.000    0.000    0.004    0.000 arraywrapper.py:66(attr)\n",
      "      200    0.002    0.000    0.002    0.000 atoms.py:1947(cell)\n",
      "      200    0.000    0.000    0.011    0.000 atoms.py:399(get_cell)\n",
      "      200    0.001    0.000    0.001    0.000 atoms.py:433(pbc)\n",
      "      200    0.000    0.000    0.003    0.000 atoms.py:446(get_pbc)\n",
      "      200    0.001    0.000    0.012    0.000 atoms.py:480(get_array)\n",
      "      200    0.000    0.000    0.002    0.000 atoms.py:522(get_atomic_numbers)\n",
      "      200    0.003    0.000    0.025    0.000 atoms.py:695(get_positions)\n",
      "      200    0.001    0.000    0.007    0.000 base.py:112(adapt_structure)\n",
      "        3    0.003    0.001    0.003    0.001 base.py:1205(isspmatrix)\n",
      "        1    0.000    0.000    0.000    0.000 base.py:74(StructureCollectionFactory)\n",
      "      200    0.000    0.000    0.000    0.000 base.py:99(is_valid_structure)\n",
      "      200    0.002    0.000    0.008    0.000 cell.py:195(copy)\n",
      "      200    0.000    0.000    0.000    0.000 cell.py:222(__array__)\n",
      "      200    0.001    0.000    0.001    0.000 cell.py:23(__init__)\n",
      "        1    0.000    0.000    0.000    0.000 encoder.py:182(encode)\n",
      "        1    0.000    0.000    0.000    0.000 encoder.py:204(iterencode)\n",
      "        1    4.913    4.913    4.913    4.913 extmath.py:120(safe_sparse_dot)\n",
      "        1    0.000    0.000    0.052    0.052 extmath.py:869(_safe_accumulator_op)\n",
      "        1    0.000    0.000    0.000    0.000 fromnumeric.py:2106(_sum_dispatcher)\n",
      "        1    0.000    0.000    0.052    0.052 fromnumeric.py:2111(sum)\n",
      "      200    0.000    0.000    0.000    0.000 fromnumeric.py:2350(_all_dispatcher)\n",
      "      200    0.000    0.000    0.005    0.000 fromnumeric.py:2355(all)\n",
      "      201    0.001    0.000    0.057    0.000 fromnumeric.py:70(_wrapreduction)\n",
      "      201    0.000    0.000    0.000    0.000 fromnumeric.py:71(<dictcomp>)\n",
      "        2    0.000    0.000    0.000    0.000 numerictypes.py:285(issubclass_)\n",
      "        1    0.000    0.000    0.000    0.000 numerictypes.py:359(issubdtype)\n",
      "        1    0.228    0.228    5.207    5.207 pairwise.py:1071(polynomial_kernel)\n",
      "        1    0.002    0.002    0.004    0.004 pairwise.py:39(_return_float_dtype)\n",
      "        1    0.004    0.004    0.066    0.066 pairwise.py:63(check_pairwise_arrays)\n",
      "        1    2.340    2.340    2.628    2.628 spherical_invariants.py:325(transform)\n",
      "        1    0.750    0.750    0.750    0.750 structure_manager.py:117(get_features)\n",
      "        1    0.032    0.032    0.107    0.107 structure_manager.py:231(convert_to_structure_list)\n",
      "      200    0.002    0.000    0.008    0.000 structure_manager.py:265(sanitize_non_periodic_structure)\n",
      "      200    0.000    0.000    0.002    0.000 structure_manager.py:298(is_ase_Atoms)\n",
      "      200    0.002    0.000    0.062    0.000 structure_manager.py:311(unpack_ase)\n",
      "        1    0.181    0.181    0.288    0.288 structure_manager.py:35(__init__)\n",
      "        1    0.000    0.000    0.000    0.000 validation.py:253(_num_samples)\n",
      "        1    0.000    0.000    0.000    0.000 validation.py:476(_ensure_no_complex_data)\n",
      "        1    0.000    0.000    0.057    0.057 validation.py:486(check_array)\n",
      "        1    0.005    0.005    0.057    0.057 validation.py:90(_assert_all_finite)\n",
      "        1    0.000    0.000    0.000    0.000 warnings.py:165(simplefilter)\n",
      "        1    0.000    0.000    0.000    0.000 warnings.py:181(_add_filter)\n",
      "        1    0.000    0.000    0.000    0.000 warnings.py:453(__init__)\n",
      "        1    0.000    0.000    0.000    0.000 warnings.py:474(__enter__)\n",
      "        1    0.000    0.000    0.000    0.000 warnings.py:493(__exit__)\n",
      "        2    0.002    0.001    0.002    0.001 {built-in method _abc._abc_instancecheck}\n",
      "        1    0.000    0.000    0.000    0.000 {built-in method _abc._abc_subclasscheck}\n",
      "        3    0.000    0.000    0.000    0.000 {built-in method _warnings._filters_mutated}\n",
      "        1    0.000    0.000    8.811    8.811 {built-in method builtins.exec}\n",
      "      201    0.001    0.000    0.001    0.000 {built-in method builtins.getattr}\n",
      "      810    0.002    0.000    0.002    0.000 {built-in method builtins.hasattr}\n",
      "      217    0.000    0.000    0.002    0.000 {built-in method builtins.isinstance}\n",
      "        3    0.000    0.000    0.000    0.000 {built-in method builtins.issubclass}\n",
      "        1    0.000    0.000    0.000    0.000 {built-in method builtins.len}\n",
      "      802    0.005    0.000    0.005    0.000 {built-in method numpy.array}\n",
      "      201    0.000    0.000    0.058    0.000 {built-in method numpy.core._multiarray_umath.implement_array_function}\n",
      "        4    0.000    0.000    0.000    0.000 {method 'append' of 'list' objects}\n",
      "      200    0.000    0.000    0.000    0.000 {method 'astype' of 'numpy.ndarray' objects}\n",
      "        1    0.000    0.000    0.000    0.000 {method 'copy' of 'dict' objects}\n",
      "     1000    0.042    0.000    0.042    0.000 {method 'copy' of 'numpy.ndarray' objects}\n",
      "        1    0.000    0.000    0.000    0.000 {method 'disable' of '_lsprof.Profiler' objects}\n",
      "        5    0.000    0.000    0.000    0.000 {method 'insert' of 'list' objects}\n",
      "      201    0.000    0.000    0.000    0.000 {method 'items' of 'dict' objects}\n",
      "        5    0.000    0.000    0.000    0.000 {method 'join' of 'str' objects}\n",
      "      200    0.000    0.000    0.000    0.000 {method 'keys' of 'dict' objects}\n",
      "        1    0.000    0.000    0.000    0.000 {method 'pop' of 'list' objects}\n",
      "      201    0.056    0.000    0.056    0.000 {method 'reduce' of 'numpy.ufunc' objects}\n",
      "        1    0.000    0.000    0.000    0.000 {method 'remove' of 'list' objects}\n",
      "      400    0.000    0.000    0.000    0.000 {method 'reshape' of 'numpy.ndarray' objects}\n",
      "        1    0.000    0.000    0.000    0.000 {method 'rpartition' of 'str' objects}\n",
      "\n",
      "\n"
     ]
    }
   ],
   "source": [
    "cProfile.run(\"X_train = calculator.transform(structures_train).get_features(calculator); sklearn.metrics.pairwise.polynomial_kernel(X_train, degree=2, gamma=1., coef0=0)\")"
   ]
  },
  {
   "cell_type": "code",
   "execution_count": 65,
   "metadata": {
    "collapsed": true,
    "jupyter": {
     "outputs_hidden": true
    }
   },
   "outputs": [
    {
     "name": "stdout",
     "output_type": "stream",
     "text": [
      "         358 function calls in 1.674 seconds\n",
      "\n",
      "   Ordered by: standard name\n",
      "\n",
      "   ncalls  tottime  percall  cumtime  percall filename:lineno(function)\n",
      "        3    0.000    0.000    0.000    0.000 <__array_function__ internals>:2(atleast_1d)\n",
      "        1    0.000    0.000    0.000    0.000 <__array_function__ internals>:2(atleast_2d)\n",
      "        3    0.000    0.000    0.236    0.079 <__array_function__ internals>:2(sum)\n",
      "        1    0.000    0.000    0.000    0.000 <__array_function__ internals>:2(unique)\n",
      "        4    0.000    0.000    0.000    0.000 <frozen importlib._bootstrap>:1009(_handle_fromlist)\n",
      "        4    0.000    0.000    0.000    0.000 <frozen importlib._bootstrap>:416(parent)\n",
      "        1    0.012    0.012    1.674    1.674 <string>:1(<module>)\n",
      "        9    0.000    0.000    0.000    0.000 _asarray.py:110(asanyarray)\n",
      "        5    0.000    0.000    0.000    0.000 _asarray.py:23(asarray)\n",
      "        3    0.000    0.000    0.000    0.000 _config.py:16(_get_threadlocal_config)\n",
      "        3    0.000    0.000    0.000    0.000 _config.py:24(get_config)\n",
      "        3    0.000    0.000    0.002    0.001 _methods.py:59(_all)\n",
      "        1    0.000    0.000    0.000    0.000 _parallel_backends.py:254(__init__)\n",
      "        1    0.000    0.000    0.000    0.000 _parallel_backends.py:480(effective_n_jobs)\n",
      "        1    0.013    0.013    0.750    0.750 _ridge.py:166(_solve_cholesky_kernel)\n",
      "        2    0.000    0.000    0.024    0.012 _util.py:247(_asarray_validated)\n",
      "        6    0.000    0.000    0.000    0.000 abc.py:137(__instancecheck__)\n",
      "        5    0.000    0.000    0.000    0.000 abc.py:141(__subclasscheck__)\n",
      "        1    0.000    0.000    0.000    0.000 arraysetops.py:125(_unpack_tuple)\n",
      "        1    0.000    0.000    0.000    0.000 arraysetops.py:133(_unique_dispatcher)\n",
      "        1    0.000    0.000    0.000    0.000 arraysetops.py:138(unique)\n",
      "        1    0.000    0.000    0.000    0.000 arraysetops.py:310(_unique1d)\n",
      "       10    0.000    0.000    0.000    0.000 base.py:1205(isspmatrix)\n",
      "        1    0.000    0.000    0.000    0.000 base.py:354(_check_n_features)\n",
      "        1    0.000    0.000    0.000    0.000 base.py:400(_check_feature_names)\n",
      "        1    0.000    0.000    0.227    0.227 base.py:486(_validate_data)\n",
      "        2    0.000    0.000    0.000    0.000 basic.py:23(_solve_check)\n",
      "        1    0.713    0.713    0.737    0.737 basic.py:40(solve)\n",
      "        3    0.000    0.000    0.000    0.000 blas.py:383(getter)\n",
      "        2    0.000    0.000    0.000    0.000 core.py:6371(isMaskedArray)\n",
      "        1    0.637    0.637    0.637    0.637 extmath.py:120(safe_sparse_dot)\n",
      "        3    0.000    0.000    0.236    0.079 extmath.py:869(_safe_accumulator_op)\n",
      "        3    0.000    0.000    0.000    0.000 fromnumeric.py:2106(_sum_dispatcher)\n",
      "        3    0.000    0.000    0.236    0.079 fromnumeric.py:2111(sum)\n",
      "        3    0.000    0.000    0.236    0.079 fromnumeric.py:70(_wrapreduction)\n",
      "        3    0.000    0.000    0.000    0.000 fromnumeric.py:71(<dictcomp>)\n",
      "        2    0.021    0.011    0.023    0.012 function_base.py:422(asarray_chkfinite)\n",
      "        1    0.000    0.000    0.684    0.684 kernel_ridge.py:150(_get_kernel)\n",
      "        1    0.000    0.000    1.662    1.662 kernel_ridge.py:170(fit)\n",
      "        2    0.000    0.000    0.000    0.000 misc.py:180(_datacopied)\n",
      "        6    0.000    0.000    0.000    0.000 numerictypes.py:285(issubclass_)\n",
      "        3    0.000    0.000    0.000    0.000 numerictypes.py:359(issubdtype)\n",
      "        1    0.035    0.035    0.683    0.683 pairwise.py:1071(polynomial_kernel)\n",
      "        1    0.000    0.000    0.684    0.684 pairwise.py:1416(_parallel_pairwise)\n",
      "        1    0.000    0.000    0.684    0.684 pairwise.py:1956(pairwise_kernels)\n",
      "        1    0.000    0.000    0.000    0.000 pairwise.py:2041(<dictcomp>)\n",
      "        2    0.000    0.000    0.000    0.000 pairwise.py:39(_return_float_dtype)\n",
      "        1    0.000    0.000    0.012    0.012 pairwise.py:63(check_pairwise_arrays)\n",
      "        1    0.000    0.000    0.000    0.000 parallel.py:335(effective_n_jobs)\n",
      "        1    0.000    0.000    0.000    0.000 parallel.py:78(get_active_backend)\n",
      "        3    0.000    0.000    0.000    0.000 shape_base.py:20(_atleast_1d_dispatcher)\n",
      "        3    0.000    0.000    0.000    0.000 shape_base.py:24(atleast_1d)\n",
      "        1    0.000    0.000    0.000    0.000 shape_base.py:78(_atleast_2d_dispatcher)\n",
      "        1    0.000    0.000    0.000    0.000 shape_base.py:82(atleast_2d)\n",
      "        1    0.000    0.000    0.000    0.000 validation.py:1638(_get_feature_names)\n",
      "        1    0.000    0.000    0.000    0.000 validation.py:200(_num_features)\n",
      "        5    0.000    0.000    0.000    0.000 validation.py:253(_num_samples)\n",
      "        1    0.000    0.000    0.001    0.001 validation.py:317(check_consistent_length)\n",
      "        1    0.000    0.000    0.000    0.000 validation.py:328(<listcomp>)\n",
      "        3    0.000    0.000    0.000    0.000 validation.py:476(_ensure_no_complex_data)\n",
      "        3    0.000    0.000    0.238    0.079 validation.py:486(check_array)\n",
      "        1    0.000    0.000    0.227    0.227 validation.py:837(check_X_y)\n",
      "        3    0.000    0.000    0.237    0.079 validation.py:90(_assert_all_finite)\n",
      "        1    0.000    0.000    0.000    0.000 validation.py:978(_check_y)\n",
      "        3    0.000    0.000    0.000    0.000 warnings.py:165(simplefilter)\n",
      "        3    0.000    0.000    0.000    0.000 warnings.py:181(_add_filter)\n",
      "        3    0.000    0.000    0.000    0.000 warnings.py:453(__init__)\n",
      "        3    0.000    0.000    0.000    0.000 warnings.py:474(__enter__)\n",
      "        3    0.000    0.000    0.000    0.000 warnings.py:493(__exit__)\n",
      "        6    0.000    0.000    0.000    0.000 {built-in method _abc._abc_instancecheck}\n",
      "        5    0.000    0.000    0.000    0.000 {built-in method _abc._abc_subclasscheck}\n",
      "        9    0.000    0.000    0.000    0.000 {built-in method _warnings._filters_mutated}\n",
      "        1    0.000    0.000    0.000    0.000 {built-in method builtins.callable}\n",
      "        1    0.000    0.000    1.674    1.674 {built-in method builtins.exec}\n",
      "        6    0.000    0.000    0.000    0.000 {built-in method builtins.getattr}\n",
      "       41    0.000    0.000    0.000    0.000 {built-in method builtins.hasattr}\n",
      "       41    0.000    0.000    0.000    0.000 {built-in method builtins.isinstance}\n",
      "        9    0.000    0.000    0.000    0.000 {built-in method builtins.issubclass}\n",
      "       13    0.000    0.000    0.000    0.000 {built-in method builtins.len}\n",
      "       14    0.000    0.000    0.000    0.000 {built-in method numpy.array}\n",
      "        8    0.000    0.000    0.237    0.030 {built-in method numpy.core._multiarray_umath.implement_array_function}\n",
      "        1    0.000    0.000    0.000    0.000 {built-in method numpy.empty}\n",
      "        3    0.000    0.000    0.002    0.001 {method 'all' of 'numpy.ndarray' objects}\n",
      "        4    0.000    0.000    0.000    0.000 {method 'append' of 'list' objects}\n",
      "        3    0.000    0.000    0.000    0.000 {method 'copy' of 'dict' objects}\n",
      "        1    0.000    0.000    0.000    0.000 {method 'disable' of '_lsprof.Profiler' objects}\n",
      "        1    0.000    0.000    0.000    0.000 {method 'flatten' of 'numpy.ndarray' objects}\n",
      "        4    0.000    0.000    0.000    0.000 {method 'get' of 'dict' objects}\n",
      "        3    0.000    0.000    0.000    0.000 {method 'insert' of 'list' objects}\n",
      "        3    0.000    0.000    0.000    0.000 {method 'items' of 'dict' objects}\n",
      "        1    0.000    0.000    0.000    0.000 {method 'ravel' of 'numpy.ndarray' objects}\n",
      "        6    0.238    0.040    0.238    0.040 {method 'reduce' of 'numpy.ufunc' objects}\n",
      "        3    0.000    0.000    0.000    0.000 {method 'remove' of 'list' objects}\n",
      "        2    0.000    0.000    0.000    0.000 {method 'reshape' of 'numpy.ndarray' objects}\n",
      "        4    0.000    0.000    0.000    0.000 {method 'rpartition' of 'str' objects}\n",
      "        1    0.000    0.000    0.000    0.000 {method 'sort' of 'numpy.ndarray' objects}\n",
      "\n",
      "\n"
     ]
    }
   ],
   "source": [
    "cProfile.run(\"clf.fit(kernel_computed, H_train_shifts)\")"
   ]
  },
  {
   "cell_type": "code",
   "execution_count": 62,
   "metadata": {},
   "outputs": [
    {
     "data": {
      "text/plain": [
       "(3684, 3684)"
      ]
     },
     "execution_count": 62,
     "metadata": {},
     "output_type": "execute_result"
    }
   ],
   "source": [
    "kernel_computed.shape"
   ]
  },
  {
   "cell_type": "code",
   "execution_count": 16,
   "metadata": {},
   "outputs": [],
   "source": [
    "for structure in structures_test: mask_center_atoms_by_species(structure,species_select=[1])\n",
    "H_test_shifts = np.array([shift[0] for structure in structures_test for shift in structure.arrays[\"CS\"][structure.arrays[\"center_atoms_mask\"]]]) "
   ]
  },
  {
   "cell_type": "code",
   "execution_count": 17,
   "metadata": {},
   "outputs": [],
   "source": [
    "atom_list_test = calculator.transform(structures_test)"
   ]
  },
  {
   "cell_type": "code",
   "execution_count": 88,
   "metadata": {},
   "outputs": [],
   "source": [
    "kernel_test = kernel(atoms_list_train,Y=atom_list_test)"
   ]
  },
  {
   "cell_type": "code",
   "execution_count": 89,
   "metadata": {},
   "outputs": [],
   "source": [
    "y_predictions = clf.predict(kernel_test.T)"
   ]
  },
  {
   "cell_type": "code",
   "execution_count": 55,
   "metadata": {},
   "outputs": [],
   "source": [
    "from sklearn.metrics import mean_squared_error, mean_absolute_error"
   ]
  },
  {
   "cell_type": "code",
   "execution_count": 91,
   "metadata": {},
   "outputs": [
    {
     "data": {
      "text/plain": [
       "1.4245174413573556"
      ]
     },
     "execution_count": 91,
     "metadata": {},
     "output_type": "execute_result"
    }
   ],
   "source": [
    "np.sqrt(2*mean_squared_error(H_test_shifts,y_predictions))"
   ]
  },
  {
   "cell_type": "code",
   "execution_count": 99,
   "metadata": {},
   "outputs": [
    {
     "data": {
      "text/plain": [
       "KernelRidge(alpha=1.0, gamma=1.0, kernel='poly')"
      ]
     },
     "execution_count": 99,
     "metadata": {},
     "output_type": "execute_result"
    }
   ],
   "source": [
    "clf = KernelRidge(alpha=1.,kernel=\"poly\",degree=3,gamma=1.,coef0=1)\n",
    "\n",
    "clf.fit(X_train,H_train_shifts)"
   ]
  },
  {
   "cell_type": "code",
   "execution_count": 60,
   "metadata": {
    "collapsed": true,
    "jupyter": {
     "outputs_hidden": true
    }
   },
   "outputs": [
    {
     "name": "stdout",
     "output_type": "stream",
     "text": [
      "         358 function calls in 3.393 seconds\n",
      "\n",
      "   Ordered by: standard name\n",
      "\n",
      "   ncalls  tottime  percall  cumtime  percall filename:lineno(function)\n",
      "        3    0.000    0.000    0.000    0.000 <__array_function__ internals>:2(atleast_1d)\n",
      "        1    0.000    0.000    0.000    0.000 <__array_function__ internals>:2(atleast_2d)\n",
      "        3    0.001    0.000    1.226    0.409 <__array_function__ internals>:2(sum)\n",
      "        1    0.000    0.000    0.000    0.000 <__array_function__ internals>:2(unique)\n",
      "        4    0.000    0.000    0.000    0.000 <frozen importlib._bootstrap>:1009(_handle_fromlist)\n",
      "        4    0.001    0.000    0.001    0.000 <frozen importlib._bootstrap>:416(parent)\n",
      "        1    0.012    0.012    3.392    3.392 <string>:1(<module>)\n",
      "        9    0.000    0.000    0.000    0.000 _asarray.py:110(asanyarray)\n",
      "        5    0.001    0.000    0.001    0.000 _asarray.py:23(asarray)\n",
      "        3    0.000    0.000    0.000    0.000 _config.py:16(_get_threadlocal_config)\n",
      "        3    0.000    0.000    0.000    0.000 _config.py:24(get_config)\n",
      "        3    0.000    0.000    0.002    0.001 _methods.py:59(_all)\n",
      "        1    0.000    0.000    0.000    0.000 _parallel_backends.py:254(__init__)\n",
      "        1    0.000    0.000    0.000    0.000 _parallel_backends.py:480(effective_n_jobs)\n",
      "        1    0.014    0.014    0.806    0.806 _ridge.py:166(_solve_cholesky_kernel)\n",
      "        2    0.000    0.000    0.019    0.010 _util.py:247(_asarray_validated)\n",
      "        6    0.000    0.000    0.000    0.000 abc.py:137(__instancecheck__)\n",
      "        5    0.000    0.000    0.000    0.000 abc.py:141(__subclasscheck__)\n",
      "        1    0.000    0.000    0.000    0.000 arraysetops.py:125(_unpack_tuple)\n",
      "        1    0.000    0.000    0.000    0.000 arraysetops.py:133(_unique_dispatcher)\n",
      "        1    0.000    0.000    0.000    0.000 arraysetops.py:138(unique)\n",
      "        1    0.000    0.000    0.000    0.000 arraysetops.py:310(_unique1d)\n",
      "       10    0.000    0.000    0.000    0.000 base.py:1205(isspmatrix)\n",
      "        1    0.000    0.000    0.000    0.000 base.py:354(_check_n_features)\n",
      "        1    0.000    0.000    0.000    0.000 base.py:400(_check_feature_names)\n",
      "        1    0.001    0.001    1.211    1.211 base.py:486(_validate_data)\n",
      "        2    0.000    0.000    0.000    0.000 basic.py:23(_solve_check)\n",
      "        1    0.771    0.771    0.792    0.792 basic.py:40(solve)\n",
      "        3    0.000    0.000    0.002    0.001 blas.py:383(getter)\n",
      "        2    0.000    0.000    0.000    0.000 core.py:6371(isMaskedArray)\n",
      "        1    1.299    1.299    1.299    1.299 extmath.py:120(safe_sparse_dot)\n",
      "        3    0.000    0.000    1.227    0.409 extmath.py:869(_safe_accumulator_op)\n",
      "        3    0.000    0.000    0.000    0.000 fromnumeric.py:2106(_sum_dispatcher)\n",
      "        3    0.000    0.000    1.225    0.408 fromnumeric.py:2111(sum)\n",
      "        3    0.001    0.000    1.225    0.408 fromnumeric.py:70(_wrapreduction)\n",
      "        3    0.000    0.000    0.000    0.000 fromnumeric.py:71(<dictcomp>)\n",
      "        2    0.017    0.009    0.019    0.010 function_base.py:422(asarray_chkfinite)\n",
      "        1    0.000    0.000    1.361    1.361 kernel_ridge.py:150(_get_kernel)\n",
      "        1    0.003    0.003    3.381    3.381 kernel_ridge.py:170(fit)\n",
      "        2    0.000    0.000    0.000    0.000 misc.py:180(_datacopied)\n",
      "        6    0.000    0.000    0.000    0.000 numerictypes.py:285(issubclass_)\n",
      "        3    0.000    0.000    0.000    0.000 numerictypes.py:359(issubdtype)\n",
      "        1    0.034    0.034    1.357    1.357 pairwise.py:1071(polynomial_kernel)\n",
      "        1    0.000    0.000    1.359    1.359 pairwise.py:1416(_parallel_pairwise)\n",
      "        1    0.002    0.002    1.361    1.361 pairwise.py:1956(pairwise_kernels)\n",
      "        1    0.000    0.000    0.000    0.000 pairwise.py:2041(<dictcomp>)\n",
      "        2    0.000    0.000    0.000    0.000 pairwise.py:39(_return_float_dtype)\n",
      "        1    0.000    0.000    0.024    0.024 pairwise.py:63(check_pairwise_arrays)\n",
      "        1    0.000    0.000    0.002    0.002 parallel.py:335(effective_n_jobs)\n",
      "        1    0.001    0.001    0.002    0.002 parallel.py:78(get_active_backend)\n",
      "        3    0.000    0.000    0.000    0.000 shape_base.py:20(_atleast_1d_dispatcher)\n",
      "        3    0.000    0.000    0.000    0.000 shape_base.py:24(atleast_1d)\n",
      "        1    0.000    0.000    0.000    0.000 shape_base.py:78(_atleast_2d_dispatcher)\n",
      "        1    0.000    0.000    0.000    0.000 shape_base.py:82(atleast_2d)\n",
      "        1    0.000    0.000    0.000    0.000 validation.py:1638(_get_feature_names)\n",
      "        1    0.000    0.000    0.000    0.000 validation.py:200(_num_features)\n",
      "        5    0.000    0.000    0.000    0.000 validation.py:253(_num_samples)\n",
      "        1    0.000    0.000    0.001    0.001 validation.py:317(check_consistent_length)\n",
      "        1    0.000    0.000    0.000    0.000 validation.py:328(<listcomp>)\n",
      "        3    0.000    0.000    0.000    0.000 validation.py:476(_ensure_no_complex_data)\n",
      "        3    0.001    0.000    1.232    0.411 validation.py:486(check_array)\n",
      "        1    0.001    0.001    1.210    1.210 validation.py:837(check_X_y)\n",
      "        3    0.000    0.000    1.228    0.409 validation.py:90(_assert_all_finite)\n",
      "        1    0.000    0.000    0.000    0.000 validation.py:978(_check_y)\n",
      "        3    0.000    0.000    0.000    0.000 warnings.py:165(simplefilter)\n",
      "        3    0.000    0.000    0.000    0.000 warnings.py:181(_add_filter)\n",
      "        3    0.000    0.000    0.000    0.000 warnings.py:453(__init__)\n",
      "        3    0.000    0.000    0.000    0.000 warnings.py:474(__enter__)\n",
      "        3    0.000    0.000    0.000    0.000 warnings.py:493(__exit__)\n",
      "        6    0.000    0.000    0.000    0.000 {built-in method _abc._abc_instancecheck}\n",
      "        5    0.000    0.000    0.000    0.000 {built-in method _abc._abc_subclasscheck}\n",
      "        9    0.000    0.000    0.000    0.000 {built-in method _warnings._filters_mutated}\n",
      "        1    0.000    0.000    0.000    0.000 {built-in method builtins.callable}\n",
      "        1    0.001    0.001    3.393    3.393 {built-in method builtins.exec}\n",
      "        6    0.000    0.000    0.000    0.000 {built-in method builtins.getattr}\n",
      "       41    0.001    0.000    0.001    0.000 {built-in method builtins.hasattr}\n",
      "       41    0.000    0.000    0.000    0.000 {built-in method builtins.isinstance}\n",
      "        9    0.000    0.000    0.000    0.000 {built-in method builtins.issubclass}\n",
      "       13    0.000    0.000    0.000    0.000 {built-in method builtins.len}\n",
      "       14    0.000    0.000    0.000    0.000 {built-in method numpy.array}\n",
      "        8    0.000    0.000    1.226    0.153 {built-in method numpy.core._multiarray_umath.implement_array_function}\n",
      "        1    0.000    0.000    0.000    0.000 {built-in method numpy.empty}\n",
      "        3    0.000    0.000    0.002    0.001 {method 'all' of 'numpy.ndarray' objects}\n",
      "        4    0.000    0.000    0.000    0.000 {method 'append' of 'list' objects}\n",
      "        3    0.000    0.000    0.000    0.000 {method 'copy' of 'dict' objects}\n",
      "        1    0.000    0.000    0.000    0.000 {method 'disable' of '_lsprof.Profiler' objects}\n",
      "        1    0.000    0.000    0.000    0.000 {method 'flatten' of 'numpy.ndarray' objects}\n",
      "        4    0.002    0.000    0.002    0.000 {method 'get' of 'dict' objects}\n",
      "        3    0.000    0.000    0.000    0.000 {method 'insert' of 'list' objects}\n",
      "        3    0.000    0.000    0.000    0.000 {method 'items' of 'dict' objects}\n",
      "        1    0.000    0.000    0.000    0.000 {method 'ravel' of 'numpy.ndarray' objects}\n",
      "        6    1.226    0.204    1.226    0.204 {method 'reduce' of 'numpy.ufunc' objects}\n",
      "        3    0.000    0.000    0.000    0.000 {method 'remove' of 'list' objects}\n",
      "        2    0.000    0.000    0.000    0.000 {method 'reshape' of 'numpy.ndarray' objects}\n",
      "        4    0.000    0.000    0.000    0.000 {method 'rpartition' of 'str' objects}\n",
      "        1    0.000    0.000    0.000    0.000 {method 'sort' of 'numpy.ndarray' objects}\n",
      "\n",
      "\n"
     ]
    }
   ],
   "source": [
    "cProfile.run(\"clf.fit(X_train,H_train_shifts)\")"
   ]
  },
  {
   "cell_type": "code",
   "execution_count": 39,
   "metadata": {
    "collapsed": true,
    "jupyter": {
     "outputs_hidden": true
    }
   },
   "outputs": [
    {
     "name": "stdout",
     "output_type": "stream",
     "text": [
      "         2683 function calls (2583 primitive calls) in 3.136 seconds\n",
      "\n",
      "   Ordered by: standard name\n",
      "\n",
      "   ncalls  tottime  percall  cumtime  percall filename:lineno(function)\n",
      "       50    0.000    0.000    0.001    0.000 <__array_function__ internals>:2(all)\n",
      "       50    0.000    0.000    0.000    0.000 <__array_function__ internals>:2(copyto)\n",
      "       50    0.000    0.000    0.000    0.000 <__array_function__ internals>:2(empty_like)\n",
      "       50    0.000    0.000    0.001    0.000 <__array_function__ internals>:2(ones_like)\n",
      "        1    0.213    0.213    3.136    3.136 <string>:1(<module>)\n",
      "        1    0.000    0.000    0.000    0.000 __init__.py:183(dumps)\n",
      "      100    0.000    0.000    0.001    0.000 _asarray.py:23(asarray)\n",
      "        1    0.000    0.000    0.000    0.000 abc.py:137(__instancecheck__)\n",
      "       50    0.000    0.000    0.001    0.000 arraywrapper.py:66(attr)\n",
      "       50    0.000    0.000    0.000    0.000 atoms.py:1947(cell)\n",
      "       50    0.000    0.000    0.001    0.000 atoms.py:399(get_cell)\n",
      "       50    0.000    0.000    0.000    0.000 atoms.py:433(pbc)\n",
      "       50    0.000    0.000    0.000    0.000 atoms.py:446(get_pbc)\n",
      "       50    0.000    0.000    0.000    0.000 atoms.py:522(get_atomic_numbers)\n",
      "       50    0.000    0.000    0.001    0.000 atoms.py:695(get_positions)\n",
      "       50    0.000    0.000    0.001    0.000 base.py:112(adapt_structure)\n",
      "        1    0.000    0.000    0.000    0.000 base.py:74(StructureCollectionFactory)\n",
      "       50    0.000    0.000    0.000    0.000 base.py:99(is_valid_structure)\n",
      "       50    0.000    0.000    0.000    0.000 cell.py:195(copy)\n",
      "       50    0.000    0.000    0.000    0.000 cell.py:222(__array__)\n",
      "       50    0.000    0.000    0.000    0.000 cell.py:23(__init__)\n",
      "        1    0.000    0.000    0.000    0.000 encoder.py:182(encode)\n",
      "        1    0.000    0.000    0.000    0.000 encoder.py:204(iterencode)\n",
      "       50    0.000    0.000    0.000    0.000 fromnumeric.py:2350(_all_dispatcher)\n",
      "       50    0.000    0.000    0.001    0.000 fromnumeric.py:2355(all)\n",
      "       50    0.000    0.000    0.001    0.000 fromnumeric.py:70(_wrapreduction)\n",
      "       50    0.000    0.000    0.000    0.000 fromnumeric.py:71(<dictcomp>)\n",
      "       50    0.000    0.000    0.000    0.000 multiarray.py:1054(copyto)\n",
      "       50    0.000    0.000    0.000    0.000 multiarray.py:75(empty_like)\n",
      "       50    0.000    0.000    0.000    0.000 numeric.py:213(_ones_like_dispatcher)\n",
      "       50    0.000    0.000    0.001    0.000 numeric.py:217(ones_like)\n",
      "        1    1.838    1.838    1.908    1.908 spherical_invariants.py:325(transform)\n",
      "        1    1.014    1.014    1.014    1.014 structure_manager.py:117(get_features)\n",
      "        1    0.002    0.002    0.007    0.007 structure_manager.py:231(convert_to_structure_list)\n",
      "       50    0.000    0.000    0.001    0.000 structure_manager.py:265(sanitize_non_periodic_structure)\n",
      "       50    0.000    0.000    0.000    0.000 structure_manager.py:298(is_ase_Atoms)\n",
      "       50    0.000    0.000    0.004    0.000 structure_manager.py:311(unpack_ase)\n",
      "        1    0.063    0.063    0.070    0.070 structure_manager.py:35(__init__)\n",
      "        1    0.000    0.000    0.000    0.000 {built-in method _abc._abc_instancecheck}\n",
      "        1    0.000    0.000    3.136    3.136 {built-in method builtins.exec}\n",
      "       50    0.000    0.000    0.000    0.000 {built-in method builtins.getattr}\n",
      "      200    0.000    0.000    0.000    0.000 {built-in method builtins.hasattr}\n",
      "       56    0.000    0.000    0.000    0.000 {built-in method builtins.isinstance}\n",
      "      200    0.001    0.000    0.001    0.000 {built-in method numpy.array}\n",
      "  200/100    0.000    0.000    0.001    0.000 {built-in method numpy.core._multiarray_umath.implement_array_function}\n",
      "        4    0.000    0.000    0.000    0.000 {method 'append' of 'list' objects}\n",
      "       50    0.000    0.000    0.000    0.000 {method 'astype' of 'numpy.ndarray' objects}\n",
      "      200    0.001    0.000    0.001    0.000 {method 'copy' of 'numpy.ndarray' objects}\n",
      "        1    0.000    0.000    0.000    0.000 {method 'disable' of '_lsprof.Profiler' objects}\n",
      "        4    0.000    0.000    0.000    0.000 {method 'insert' of 'list' objects}\n",
      "       50    0.000    0.000    0.000    0.000 {method 'items' of 'dict' objects}\n",
      "        5    0.000    0.000    0.000    0.000 {method 'join' of 'str' objects}\n",
      "       50    0.000    0.000    0.000    0.000 {method 'keys' of 'dict' objects}\n",
      "        1    0.000    0.000    0.000    0.000 {method 'pop' of 'list' objects}\n",
      "       50    0.000    0.000    0.000    0.000 {method 'reduce' of 'numpy.ufunc' objects}\n",
      "      100    0.000    0.000    0.000    0.000 {method 'reshape' of 'numpy.ndarray' objects}\n",
      "\n",
      "\n"
     ]
    }
   ],
   "source": [
    "cProfile.run(\"X_test = calculator.transform(structures_test).get_features(calculator)\")"
   ]
  },
  {
   "cell_type": "code",
   "execution_count": 94,
   "metadata": {},
   "outputs": [
    {
     "data": {
      "text/plain": [
       "1.424517441357186"
      ]
     },
     "execution_count": 94,
     "metadata": {},
     "output_type": "execute_result"
    }
   ],
   "source": [
    "np.sqrt(2*mean_squared_error(H_test_shifts,clf.predict(X_test)))"
   ]
  },
  {
   "cell_type": "code",
   "execution_count": 100,
   "metadata": {},
   "outputs": [
    {
     "data": {
      "text/plain": [
       "1.3884203203710437"
      ]
     },
     "execution_count": 100,
     "metadata": {},
     "output_type": "execute_result"
    }
   ],
   "source": [
    "np.sqrt(2*mean_squared_error(H_test_shifts,clf.predict(X_test)))"
   ]
  },
  {
   "cell_type": "code",
   "execution_count": 56,
   "metadata": {},
   "outputs": [
    {
     "data": {
      "text/plain": [
       "0.7229663159244093"
      ]
     },
     "execution_count": 56,
     "metadata": {},
     "output_type": "execute_result"
    }
   ],
   "source": [
    "mean_absolute_error(H_test_shifts,clf.predict(X_test))"
   ]
  },
  {
   "cell_type": "code",
   "execution_count": 57,
   "metadata": {},
   "outputs": [
    {
     "data": {
      "text/plain": [
       "0.7341750449242127"
      ]
     },
     "execution_count": 57,
     "metadata": {},
     "output_type": "execute_result"
    }
   ],
   "source": [
    "mean_absolute_error(H_test_shifts,y_predictions)"
   ]
  },
  {
   "cell_type": "code",
   "execution_count": null,
   "metadata": {},
   "outputs": [],
   "source": []
  }
 ],
 "metadata": {
  "kernelspec": {
   "display_name": "Python 3",
   "language": "python",
   "name": "python3"
  },
  "language_info": {
   "codemirror_mode": {
    "name": "ipython",
    "version": 3
   },
   "file_extension": ".py",
   "mimetype": "text/x-python",
   "name": "python",
   "nbconvert_exporter": "python",
   "pygments_lexer": "ipython3",
   "version": "3.7.3"
  }
 },
 "nbformat": 4,
 "nbformat_minor": 4
}
