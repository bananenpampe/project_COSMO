{
 "cells": [
  {
   "cell_type": "code",
   "execution_count": 5,
   "id": "26543565-ee7e-4ec1-b805-49e65de3fbc9",
   "metadata": {},
   "outputs": [],
   "source": [
    "import numpy as np"
   ]
  },
  {
   "cell_type": "code",
   "execution_count": 2,
   "id": "d5fb8a7d-c226-48a3-8e65-58e70b9ba1c8",
   "metadata": {},
   "outputs": [],
   "source": [
    "this = np.load(\"specie_1_predictions.npy\")\n",
    "that = np.load(\"specie_1_true.npy\")"
   ]
  },
  {
   "cell_type": "code",
   "execution_count": 12,
   "id": "631e64fc-3352-4851-a287-22fbc0b09c7f",
   "metadata": {},
   "outputs": [
    {
     "data": {
      "text/plain": [
       "(35289,)"
      ]
     },
     "execution_count": 12,
     "metadata": {},
     "output_type": "execute_result"
    }
   ],
   "source": [
    "this.shape"
   ]
  },
  {
   "cell_type": "code",
   "execution_count": 13,
   "id": "b18ca478-3e94-4391-bcbb-eef46ecab73d",
   "metadata": {},
   "outputs": [
    {
     "data": {
      "text/plain": [
       "array([[0.20226577, 0.32340641, 0.11864289, ..., 0.08267625, 0.70755508,\n",
       "        0.0861369 ]])"
      ]
     },
     "execution_count": 13,
     "metadata": {},
     "output_type": "execute_result"
    }
   ],
   "source": [
    "np.sqrt((this-that)**2)"
   ]
  },
  {
   "cell_type": "code",
   "execution_count": 17,
   "id": "c517e6a7-3482-4eb0-a64a-610ce3e46fc9",
   "metadata": {},
   "outputs": [],
   "source": [
    "truth = {}\n",
    "predictions = {}\n",
    "for specie in [1,6,7,8]:\n",
    "    truth[specie] = None\n",
    "    predictions[specie] = []\n",
    "    for model in range(16):\n",
    "        predictions[specie].append(np.load(\"specie_{}_model_no_{}_predictions.npy\".format(specie,model)))\n",
    "    truth[specie] = np.load(\"specie_{}_true.npy\".format(specie,model))\n",
    "\n",
    "        "
   ]
  },
  {
   "cell_type": "code",
   "execution_count": 21,
   "id": "e87bd936-e84c-4235-b153-79981a456423",
   "metadata": {},
   "outputs": [
    {
     "data": {
      "text/plain": [
       "(16, 6346)"
      ]
     },
     "execution_count": 21,
     "metadata": {},
     "output_type": "execute_result"
    }
   ],
   "source": [
    "np.array(predictions[8]).shape"
   ]
  },
  {
   "cell_type": "code",
   "execution_count": 29,
   "id": "d55a0e54-e0b8-4b11-b1d2-e3cf7025ea3a",
   "metadata": {},
   "outputs": [],
   "source": [
    "from sklearn.metrics import mean_squared_error"
   ]
  },
  {
   "cell_type": "code",
   "execution_count": 39,
   "id": "c16f77ed-36ea-48e1-a57c-4abd56feb4d4",
   "metadata": {},
   "outputs": [
    {
     "data": {
      "text/plain": [
       "20.77086386268814"
      ]
     },
     "execution_count": 39,
     "metadata": {},
     "output_type": "execute_result"
    }
   ],
   "source": [
    "specie = 8\n",
    "a = np.mean(np.array(predictions[specie]).T, axis=1)\n",
    "b = truth[specie]\n",
    "\n",
    "mean_squared_error(a,b,squared=False)"
   ]
  },
  {
   "cell_type": "code",
   "execution_count": 27,
   "id": "6da449eb-803d-43ed-b1e4-42ba0d796923",
   "metadata": {},
   "outputs": [
    {
     "data": {
      "text/plain": [
       "array([ 34.99,  34.92,  34.99, ..., 275.74, 270.72, 270.72])"
      ]
     },
     "execution_count": 27,
     "metadata": {},
     "output_type": "execute_result"
    }
   ],
   "source": [
    "truth[8]"
   ]
  },
  {
   "cell_type": "code",
   "execution_count": 22,
   "id": "b9908449-3fc5-4242-8d5f-2c0664fd1f6b",
   "metadata": {},
   "outputs": [
    {
     "data": {
      "text/plain": [
       "182.07052068222416"
      ]
     },
     "execution_count": 22,
     "metadata": {},
     "output_type": "execute_result"
    }
   ],
   "source": [
    "np.sqrt(np.mean((np.mean(np.array(predictions[8]).T)-truth[8])**2))\n",
    "\n"
   ]
  },
  {
   "cell_type": "code",
   "execution_count": 31,
   "id": "8a5740c5-ff84-4207-825c-d64752c810ba",
   "metadata": {},
   "outputs": [
    {
     "data": {
      "text/plain": [
       "(16, 35289)"
      ]
     },
     "execution_count": 31,
     "metadata": {},
     "output_type": "execute_result"
    }
   ],
   "source": [
    "predictions[1].shape"
   ]
  },
  {
   "cell_type": "code",
   "execution_count": 23,
   "id": "89b8fc98-ea00-4fcd-a38c-9310dfa19154",
   "metadata": {},
   "outputs": [
    {
     "data": {
      "text/plain": [
       "72.17157860194177"
      ]
     },
     "execution_count": 23,
     "metadata": {},
     "output_type": "execute_result"
    }
   ],
   "source": [
    "mean_squared_error(predictions[6][2,:],truth[6],squared=False)"
   ]
  },
  {
   "cell_type": "code",
   "execution_count": 13,
   "id": "552f216a-3872-45ee-813f-0aa68c6c0ca8",
   "metadata": {},
   "outputs": [
    {
     "data": {
      "text/plain": [
       "array([[23.654572  , 26.82900175, 23.4458764 , ..., 29.71811258,\n",
       "        27.50561546, 29.0154882 ],\n",
       "       [29.45269597, 29.48117895, 25.98512724, ..., 22.65803328,\n",
       "        28.225881  , 22.96607394],\n",
       "       [24.76814582, 25.83893208, 24.70187623, ..., 25.5458996 ,\n",
       "        27.93268119, 30.00599412],\n",
       "       ...,\n",
       "       [30.39343633, 21.85847612, 23.51107785, ..., 24.69511621,\n",
       "        23.34125465, 23.31528024],\n",
       "       [28.06356956, 26.95733595, 23.81485905, ..., 24.1111879 ,\n",
       "        22.89318268, 29.95392336],\n",
       "       [28.03755932, 25.59684075, 29.7471701 , ..., 23.7523713 ,\n",
       "        28.12607618, 28.85379662]])"
      ]
     },
     "execution_count": 13,
     "metadata": {},
     "output_type": "execute_result"
    }
   ],
   "source": [
    "predictions[1]"
   ]
  },
  {
   "cell_type": "code",
   "execution_count": 14,
   "id": "7dccd8ba-d082-4369-be9c-9c0e29a78c6d",
   "metadata": {},
   "outputs": [
    {
     "data": {
      "text/plain": [
       "array([27.47, 25.7 , 29.75, ..., 23.58, 27.46, 28.9 ])"
      ]
     },
     "execution_count": 14,
     "metadata": {},
     "output_type": "execute_result"
    }
   ],
   "source": [
    "truth[1]"
   ]
  },
  {
   "cell_type": "code",
   "execution_count": 28,
   "id": "0c41bf9a-cdde-4a15-a804-c13b1d43f28f",
   "metadata": {},
   "outputs": [
    {
     "name": "stdout",
     "output_type": "stream",
     "text": [
      "Requirement already satisfied: seaborn in /home/kellner/venvs/COSMO/lib/python3.7/site-packages (0.11.2)\n",
      "Requirement already satisfied: matplotlib>=2.2 in /ssoft/spack/arvine/v1/opt/spack/linux-rhel7-broadwell/gcc-8.4.0/python-3.7.7-oj5bqtdwernlqpzm5gwdliaatkqu47w5/lib/python3.7/site-packages (from seaborn) (3.2.2)\n",
      "Requirement already satisfied: pandas>=0.23 in /ssoft/spack/arvine/v1/opt/spack/linux-rhel7-broadwell/gcc-8.4.0/python-3.7.7-oj5bqtdwernlqpzm5gwdliaatkqu47w5/lib/python3.7/site-packages (from seaborn) (1.0.5)\n",
      "Requirement already satisfied: numpy>=1.15 in /home/kellner/.local/lib/python3.7/site-packages (from seaborn) (1.21.4)\n",
      "Requirement already satisfied: scipy>=1.0 in /home/kellner/venvs/COSMO/lib/python3.7/site-packages (from seaborn) (1.7.3)\n",
      "Requirement already satisfied: cycler>=0.10 in /ssoft/spack/arvine/v1/opt/spack/linux-rhel7-broadwell/gcc-8.4.0/python-3.7.7-oj5bqtdwernlqpzm5gwdliaatkqu47w5/lib/python3.7/site-packages (from matplotlib>=2.2->seaborn) (0.10.0)\n",
      "Requirement already satisfied: kiwisolver>=1.0.1 in /ssoft/spack/arvine/v1/opt/spack/linux-rhel7-broadwell/gcc-8.4.0/python-3.7.7-oj5bqtdwernlqpzm5gwdliaatkqu47w5/lib/python3.7/site-packages (from matplotlib>=2.2->seaborn) (1.1.0)\n",
      "Requirement already satisfied: pyparsing!=2.0.4,!=2.1.2,!=2.1.6,>=2.0.1 in /ssoft/spack/arvine/v1/opt/spack/linux-rhel7-broadwell/gcc-8.4.0/python-3.7.7-oj5bqtdwernlqpzm5gwdliaatkqu47w5/lib/python3.7/site-packages (from matplotlib>=2.2->seaborn) (2.4.2)\n",
      "Requirement already satisfied: python-dateutil>=2.1 in /ssoft/spack/arvine/v1/opt/spack/linux-rhel7-broadwell/gcc-8.4.0/python-3.7.7-oj5bqtdwernlqpzm5gwdliaatkqu47w5/lib/python3.7/site-packages (from matplotlib>=2.2->seaborn) (2.8.0)\n",
      "Requirement already satisfied: pytz>=2017.2 in /ssoft/spack/arvine/v1/opt/spack/linux-rhel7-broadwell/gcc-8.4.0/python-3.7.7-oj5bqtdwernlqpzm5gwdliaatkqu47w5/lib/python3.7/site-packages (from pandas>=0.23->seaborn) (2019.3)\n",
      "Requirement already satisfied: six in /ssoft/spack/arvine/v1/opt/spack/linux-rhel7-broadwell/gcc-8.4.0/python-3.7.7-oj5bqtdwernlqpzm5gwdliaatkqu47w5/lib/python3.7/site-packages (from cycler>=0.10->matplotlib>=2.2->seaborn) (1.14.0)\n",
      "Requirement already satisfied: setuptools in /home/kellner/venvs/COSMO/lib/python3.7/site-packages (from kiwisolver>=1.0.1->matplotlib>=2.2->seaborn) (60.8.2)\n",
      "\u001b[33mWARNING: You are using pip version 22.0.3; however, version 22.1.2 is available.\n",
      "You should consider upgrading via the '/home/kellner/venvs/COSMO/bin/python3.7 -m pip install --upgrade pip' command.\u001b[0m\u001b[33m\n",
      "\u001b[0mNote: you may need to restart the kernel to use updated packages.\n"
     ]
    }
   ],
   "source": [
    "%pip install seaborn --upgrade"
   ]
  },
  {
   "cell_type": "code",
   "execution_count": 4,
   "id": "e5ced236-b6c4-4dfb-a7fa-12bdb47e2a69",
   "metadata": {},
   "outputs": [],
   "source": [
    "import seaborn as sns"
   ]
  },
  {
   "cell_type": "code",
   "execution_count": 25,
   "id": "e56a04dd-8261-430c-9e7d-bc8dccfc7f24",
   "metadata": {
    "tags": []
   },
   "outputs": [
    {
     "data": {
      "text/plain": [
       "<seaborn.axisgrid.FacetGrid at 0x2b784f37e510>"
      ]
     },
     "execution_count": 25,
     "metadata": {},
     "output_type": "execute_result"
    },
    {
     "data": {
      "image/png": "[encoded data removed]",
      "text/plain": [
       "<Figure size 408.75x360 with 1 Axes>"
      ]
     },
     "metadata": {
      "needs_background": "light"
     },
     "output_type": "display_data"
    },
    {
     "data": {
      "image/png": "[encoded data removed]",
      "text/plain": [
       "<Figure size 360x360 with 1 Axes>"
      ]
     },
     "metadata": {
      "needs_background": "light"
     },
     "output_type": "display_data"
    }
   ],
   "source": [
    "sns.displot(predictions[1].T,kind=\"kde\")\n",
    "sns.displot(truth[1],kind=\"kde\")"
   ]
  },
  {
   "cell_type": "code",
   "execution_count": 36,
   "id": "fda6a5fc-e891-467a-a6da-32564fdaa157",
   "metadata": {},
   "outputs": [
    {
     "data": {
      "text/plain": [
       "9.477777956023171"
      ]
     },
     "execution_count": 36,
     "metadata": {},
     "output_type": "execute_result"
    }
   ],
   "source": [
    "np.var(truth[1])"
   ]
  },
  {
   "cell_type": "code",
   "execution_count": 5,
   "id": "16808528-718c-40d8-8da3-d6e38156b4e1",
   "metadata": {},
   "outputs": [],
   "source": [
    "import json"
   ]
  },
  {
   "cell_type": "code",
   "execution_count": 6,
   "id": "823b6819-6a6c-4289-93b7-3e45c531e7a5",
   "metadata": {},
   "outputs": [],
   "source": [
    "with open(\"errors_RR_mine.json\",\"r\") as fg:\n",
    "    errors = json.load(fg)"
   ]
  },
  {
   "cell_type": "code",
   "execution_count": 7,
   "id": "6f2fba25-0a3a-490d-aacb-c7b630aa2413",
   "metadata": {
    "collapsed": true,
    "jupyter": {
     "outputs_hidden": true
    },
    "tags": []
   },
   "outputs": [
    {
     "data": {
      "text/plain": [
       "{'1': [0.7964752341235164,\n",
       "  0.8035192525570292,\n",
       "  0.7895970116762391,\n",
       "  0.8021366099649538,\n",
       "  0.7898753835956904,\n",
       "  0.7875821925991512,\n",
       "  0.7847530982716254,\n",
       "  0.7965160524644275,\n",
       "  0.7890722767251598,\n",
       "  0.7917979758412172,\n",
       "  0.7954440287406548,\n",
       "  0.7986705701398435,\n",
       "  0.7874705591196226,\n",
       "  0.7927912216894488,\n",
       "  0.7928586469056064,\n",
       "  0.8006321462984275],\n",
       " '6': [5.842426230872462,\n",
       "  5.989877565530109,\n",
       "  5.8631478334336915,\n",
       "  6.009567385139647,\n",
       "  5.81550865603247,\n",
       "  5.795464339992549,\n",
       "  5.917352856110594,\n",
       "  5.838298684268937,\n",
       "  5.989307311414601,\n",
       "  5.921264599530234,\n",
       "  5.886377198873361,\n",
       "  5.924130725896698,\n",
       "  5.917493924253121,\n",
       "  5.838689585827727,\n",
       "  5.828096238459079,\n",
       "  5.890606350958516],\n",
       " '7': [17.33769178762558,\n",
       "  17.55784603845763,\n",
       "  21.435615182483588,\n",
       "  18.531866909426682,\n",
       "  17.38924109151853,\n",
       "  17.229883652099314,\n",
       "  18.06046469748669,\n",
       "  19.94578800835531,\n",
       "  17.727471527626008,\n",
       "  17.682800462316877,\n",
       "  17.768161533299036,\n",
       "  18.532416721126005,\n",
       "  19.36125894332561,\n",
       "  16.931592001372643,\n",
       "  17.714633692865192,\n",
       "  18.778819110659644],\n",
       " '8': [20.979871849325058,\n",
       "  22.502921696686162,\n",
       "  21.119257420849223,\n",
       "  21.82899642830438,\n",
       "  22.348314678164254,\n",
       "  21.663890557074083,\n",
       "  25.59382050893148,\n",
       "  21.393155836292813,\n",
       "  21.527195217343014,\n",
       "  21.998155826088723,\n",
       "  21.830230909145737,\n",
       "  21.91616000591466,\n",
       "  21.854117143196202,\n",
       "  22.144805776711895,\n",
       "  22.979572046475774,\n",
       "  24.997441501053995]}"
      ]
     },
     "execution_count": 7,
     "metadata": {},
     "output_type": "execute_result"
    }
   ],
   "source": [
    "errors"
   ]
  },
  {
   "cell_type": "code",
   "execution_count": 4,
   "id": "64260161-02ae-4b47-abed-1b17f6f7dd3e",
   "metadata": {},
   "outputs": [
    {
     "data": {
      "text/plain": [
       "array([ True,  True,  True])"
      ]
     },
     "execution_count": 4,
     "metadata": {},
     "output_type": "execute_result"
    }
   ],
   "source": [
    "np.full(3, True)"
   ]
  },
  {
   "cell_type": "code",
   "execution_count": null,
   "id": "eebc140d-e7e2-4658-9151-e6a95c0a2945",
   "metadata": {},
   "outputs": [],
   "source": []
  }
 ],
 "metadata": {
  "kernelspec": {
   "display_name": "Python 3 (ipykernel)",
   "language": "python",
   "name": "python3"
  },
  "language_info": {
   "codemirror_mode": {
    "name": "ipython",
    "version": 3
   },
   "file_extension": ".py",
   "mimetype": "text/x-python",
   "name": "python",
   "nbconvert_exporter": "python",
   "pygments_lexer": "ipython3",
   "version": "3.7.7"
  }
 },
 "nbformat": 4,
 "nbformat_minor": 5
}
