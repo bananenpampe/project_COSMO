{
 "cells": [
  {
   "cell_type": "code",
   "execution_count": 35,
   "id": "1bce4698-f76a-416b-8dbc-83aa65905978",
   "metadata": {},
   "outputs": [],
   "source": [
    "from joblib import effective_n_jobs"
   ]
  },
  {
   "cell_type": "code",
   "execution_count": 89,
   "id": "3db2a6a4-f71f-44da-8394-4614ede59d91",
   "metadata": {},
   "outputs": [],
   "source": [
    "from sklearn.ensemble import BaggingRegressor\n",
    "from sklearn.utils.validation import check_is_fitted\n",
    "from sklearn.ensemble._base import _partition_estimators\n",
    "from sklearn.ensemble._bagging import _parallel_predict_regression, BaseBagging\n",
    "from joblib import Parallel\n",
    "from sklearn.utils.fixes import delayed\n",
    "from sklearn.base import ClassifierMixin, RegressorMixin\n",
    "\n",
    "\n",
    "def _parallel_predict_regression(estimators, estimators_features, X):\n",
    "    \"\"\"Private function used to compute predictions within a job.\"\"\"\n",
    "    return [estimator.predict(X[:, features])\n",
    "        for estimator, features in zip(estimators, estimators_features)]\n",
    "\n",
    "\n",
    "class UncertaintyEnsembleRegressor(BaggingRegressor):\n",
    "    def predict(self, X):\n",
    "        \"\"\"Predict regression target for X.\n",
    "        The predicted regression target of an input sample is computed as the\n",
    "        mean predicted regression targets of the estimators in the ensemble.\n",
    "        Parameters\n",
    "        ----------\n",
    "        X : {array-like, sparse matrix} of shape (n_samples, n_features)\n",
    "            The training input samples. Sparse matrices are accepted only if\n",
    "            they are supported by the base estimator.\n",
    "        Returns\n",
    "        -------\n",
    "        y : ndarray of shape (n_samples,)\n",
    "            The predicted values.\n",
    "        \"\"\"\n",
    "        check_is_fitted(self)\n",
    "        # Check data\n",
    "        X = self._validate_data(\n",
    "            X,\n",
    "            accept_sparse=[\"csr\", \"csc\"],\n",
    "            dtype=None,\n",
    "            force_all_finite=False,\n",
    "            reset=False,\n",
    "        )\n",
    "\n",
    "        # Parallel loop\n",
    "        n_jobs, n_estimators, starts = _partition_estimators(\n",
    "            self.n_estimators, self.n_jobs\n",
    "        )\n",
    "\n",
    "        all_y_hat = Parallel(n_jobs=n_jobs, verbose=self.verbose)(\n",
    "            delayed(_parallel_predict_regression)(\n",
    "                self.estimators_[starts[i] : starts[i + 1]],\n",
    "                self.estimators_features_[starts[i] : starts[i + 1]],\n",
    "                X,\n",
    "            )\n",
    "            for i in range(n_jobs)\n",
    "        )\n",
    "        \n",
    "        #fix this later -> unroll nested lists\n",
    "        \n",
    "        gathered = [est for job_res in all_y_hat for est in job_res]\n",
    "        \n",
    "        return np.vstack(gathered).T"
   ]
  },
  {
   "cell_type": "code",
   "execution_count": 52,
   "id": "901a208d-1b59-4524-a42d-654866c1b956",
   "metadata": {},
   "outputs": [],
   "source": [
    "def a():\n",
    "    return [a for a in range(10)]"
   ]
  },
  {
   "cell_type": "code",
   "execution_count": 65,
   "id": "9d126090-d99c-4b31-97d3-ddde4b357531",
   "metadata": {},
   "outputs": [
    {
     "ename": "SyntaxError",
     "evalue": "invalid syntax (2058626915.py, line 1)",
     "output_type": "error",
     "traceback": [
      "\u001b[0;36m  File \u001b[0;32m\"/tmp/ipykernel_28087/2058626915.py\"\u001b[0;36m, line \u001b[0;32m1\u001b[0m\n\u001b[0;31m    [**[1,2,4] for i in range(10)]\u001b[0m\n\u001b[0m     ^\u001b[0m\n\u001b[0;31mSyntaxError\u001b[0m\u001b[0;31m:\u001b[0m invalid syntax\n"
     ]
    }
   ],
   "source": [
    "[**[1,2,4] for i in range(10)]"
   ]
  },
  {
   "cell_type": "code",
   "execution_count": 63,
   "id": "8d0adc3d-ca64-4481-a250-95ec92b28041",
   "metadata": {},
   "outputs": [
    {
     "ename": "SyntaxError",
     "evalue": "can't use starred expression here (416246314.py, line 1)",
     "output_type": "error",
     "traceback": [
      "\u001b[0;36m  File \u001b[0;32m\"/tmp/ipykernel_28087/416246314.py\"\u001b[0;36m, line \u001b[0;32m1\u001b[0m\n\u001b[0;31m    *[np.array(19),1]\u001b[0m\n\u001b[0m    ^\u001b[0m\n\u001b[0;31mSyntaxError\u001b[0m\u001b[0;31m:\u001b[0m can't use starred expression here\n"
     ]
    }
   ],
   "source": [
    "*[np.array(19),1]"
   ]
  },
  {
   "cell_type": "code",
   "execution_count": 46,
   "id": "953f7bc0-a56e-4e64-a43b-c79a17507c55",
   "metadata": {},
   "outputs": [
    {
     "data": {
      "text/plain": [
       "\u001b[0;31mSignature:\u001b[0m \u001b[0m_parallel_predict_regression\u001b[0m\u001b[0;34m(\u001b[0m\u001b[0mestimators\u001b[0m\u001b[0;34m,\u001b[0m \u001b[0mestimators_features\u001b[0m\u001b[0;34m,\u001b[0m \u001b[0mX\u001b[0m\u001b[0;34m)\u001b[0m\u001b[0;34m\u001b[0m\u001b[0;34m\u001b[0m\u001b[0m\n",
       "\u001b[0;31mSource:\u001b[0m   \n",
       "\u001b[0;32mdef\u001b[0m \u001b[0m_parallel_predict_regression\u001b[0m\u001b[0;34m(\u001b[0m\u001b[0mestimators\u001b[0m\u001b[0;34m,\u001b[0m \u001b[0mestimators_features\u001b[0m\u001b[0;34m,\u001b[0m \u001b[0mX\u001b[0m\u001b[0;34m)\u001b[0m\u001b[0;34m:\u001b[0m\u001b[0;34m\u001b[0m\n",
       "\u001b[0;34m\u001b[0m    \u001b[0;34m\"\"\"Private function used to compute predictions within a job.\"\"\"\u001b[0m\u001b[0;34m\u001b[0m\n",
       "\u001b[0;34m\u001b[0m    \u001b[0;32mreturn\u001b[0m \u001b[0msum\u001b[0m\u001b[0;34m(\u001b[0m\u001b[0;34m\u001b[0m\n",
       "\u001b[0;34m\u001b[0m        \u001b[0mestimator\u001b[0m\u001b[0;34m.\u001b[0m\u001b[0mpredict\u001b[0m\u001b[0;34m(\u001b[0m\u001b[0mX\u001b[0m\u001b[0;34m[\u001b[0m\u001b[0;34m:\u001b[0m\u001b[0;34m,\u001b[0m \u001b[0mfeatures\u001b[0m\u001b[0;34m]\u001b[0m\u001b[0;34m)\u001b[0m\u001b[0;34m\u001b[0m\n",
       "\u001b[0;34m\u001b[0m        \u001b[0;32mfor\u001b[0m \u001b[0mestimator\u001b[0m\u001b[0;34m,\u001b[0m \u001b[0mfeatures\u001b[0m \u001b[0;32min\u001b[0m \u001b[0mzip\u001b[0m\u001b[0;34m(\u001b[0m\u001b[0mestimators\u001b[0m\u001b[0;34m,\u001b[0m \u001b[0mestimators_features\u001b[0m\u001b[0;34m)\u001b[0m\u001b[0;34m\u001b[0m\n",
       "\u001b[0;34m\u001b[0m    \u001b[0;34m)\u001b[0m\u001b[0;34m\u001b[0m\u001b[0;34m\u001b[0m\u001b[0m\n",
       "\u001b[0;31mFile:\u001b[0m      /ssd/scratch/kellner/miniconda3/lib/python3.8/site-packages/sklearn/ensemble/_bagging.py\n",
       "\u001b[0;31mType:\u001b[0m      function\n"
      ]
     },
     "metadata": {},
     "output_type": "display_data"
    }
   ],
   "source": [
    "_parallel_predict_regression??"
   ]
  },
  {
   "cell_type": "code",
   "execution_count": 40,
   "id": "2dc8de9a-3b46-41b4-9dd7-a66afc54a0ea",
   "metadata": {},
   "outputs": [
    {
     "data": {
      "text/plain": [
       "(4, [4, 4, 4, 4], [0, 4, 8, 12, 16])"
      ]
     },
     "execution_count": 40,
     "metadata": {},
     "output_type": "execute_result"
    }
   ],
   "source": [
    "_partition_estimators(16,4)"
   ]
  },
  {
   "cell_type": "code",
   "execution_count": 41,
   "id": "f2096df8-431a-41c0-ab73-54d2b0590c95",
   "metadata": {},
   "outputs": [
    {
     "data": {
      "text/plain": [
       "array([1, 1, 1, 1, 1, 1, 1, 1, 1, 1, 1, 1, 1, 1, 1, 1])"
      ]
     },
     "execution_count": 41,
     "metadata": {},
     "output_type": "execute_result"
    }
   ],
   "source": [
    "np.full(16, 16 // 16, dtype=int)"
   ]
  },
  {
   "cell_type": "code",
   "execution_count": 38,
   "id": "f0f47250-3d92-490d-a367-168a90ebc27d",
   "metadata": {},
   "outputs": [
    {
     "data": {
      "text/plain": [
       "6"
      ]
     },
     "execution_count": 38,
     "metadata": {},
     "output_type": "execute_result"
    }
   ],
   "source": [
    "effective_n_jobs(n_jobs=6)"
   ]
  },
  {
   "cell_type": "code",
   "execution_count": 6,
   "id": "943385c7-1159-4148-9628-8f2649a29fe7",
   "metadata": {
    "collapsed": true,
    "jupyter": {
     "outputs_hidden": true
    },
    "tags": []
   },
   "outputs": [
    {
     "name": "stdout",
     "output_type": "stream",
     "text": [
      "Help on class UncertaintyEnsembleRegressor in module __main__:\n",
      "\n",
      "class UncertaintyEnsembleRegressor(sklearn.ensemble._bagging.BaggingRegressor)\n",
      " |  UncertaintyEnsembleRegressor(base_estimator=None, n_estimators=10, *, max_samples=1.0, max_features=1.0, bootstrap=True, bootstrap_features=False, oob_score=False, warm_start=False, n_jobs=None, random_state=None, verbose=0)\n",
      " |  \n",
      " |  A Bagging regressor.\n",
      " |  \n",
      " |  A Bagging regressor is an ensemble meta-estimator that fits base\n",
      " |  regressors each on random subsets of the original dataset and then\n",
      " |  aggregate their individual predictions (either by voting or by averaging)\n",
      " |  to form a final prediction. Such a meta-estimator can typically be used as\n",
      " |  a way to reduce the variance of a black-box estimator (e.g., a decision\n",
      " |  tree), by introducing randomization into its construction procedure and\n",
      " |  then making an ensemble out of it.\n",
      " |  \n",
      " |  This algorithm encompasses several works from the literature. When random\n",
      " |  subsets of the dataset are drawn as random subsets of the samples, then\n",
      " |  this algorithm is known as Pasting [1]_. If samples are drawn with\n",
      " |  replacement, then the method is known as Bagging [2]_. When random subsets\n",
      " |  of the dataset are drawn as random subsets of the features, then the method\n",
      " |  is known as Random Subspaces [3]_. Finally, when base estimators are built\n",
      " |  on subsets of both samples and features, then the method is known as\n",
      " |  Random Patches [4]_.\n",
      " |  \n",
      " |  Read more in the :ref:`User Guide <bagging>`.\n",
      " |  \n",
      " |  .. versionadded:: 0.15\n",
      " |  \n",
      " |  Parameters\n",
      " |  ----------\n",
      " |  base_estimator : object, default=None\n",
      " |      The base estimator to fit on random subsets of the dataset.\n",
      " |      If None, then the base estimator is a\n",
      " |      :class:`~sklearn.tree.DecisionTreeRegressor`.\n",
      " |  \n",
      " |  n_estimators : int, default=10\n",
      " |      The number of base estimators in the ensemble.\n",
      " |  \n",
      " |  max_samples : int or float, default=1.0\n",
      " |      The number of samples to draw from X to train each base estimator (with\n",
      " |      replacement by default, see `bootstrap` for more details).\n",
      " |  \n",
      " |      - If int, then draw `max_samples` samples.\n",
      " |      - If float, then draw `max_samples * X.shape[0]` samples.\n",
      " |  \n",
      " |  max_features : int or float, default=1.0\n",
      " |      The number of features to draw from X to train each base estimator (\n",
      " |      without replacement by default, see `bootstrap_features` for more\n",
      " |      details).\n",
      " |  \n",
      " |      - If int, then draw `max_features` features.\n",
      " |      - If float, then draw `max_features * X.shape[1]` features.\n",
      " |  \n",
      " |  bootstrap : bool, default=True\n",
      " |      Whether samples are drawn with replacement. If False, sampling\n",
      " |      without replacement is performed.\n",
      " |  \n",
      " |  bootstrap_features : bool, default=False\n",
      " |      Whether features are drawn with replacement.\n",
      " |  \n",
      " |  oob_score : bool, default=False\n",
      " |      Whether to use out-of-bag samples to estimate\n",
      " |      the generalization error. Only available if bootstrap=True.\n",
      " |  \n",
      " |  warm_start : bool, default=False\n",
      " |      When set to True, reuse the solution of the previous call to fit\n",
      " |      and add more estimators to the ensemble, otherwise, just fit\n",
      " |      a whole new ensemble. See :term:`the Glossary <warm_start>`.\n",
      " |  \n",
      " |  n_jobs : int, default=None\n",
      " |      The number of jobs to run in parallel for both :meth:`fit` and\n",
      " |      :meth:`predict`. ``None`` means 1 unless in a\n",
      " |      :obj:`joblib.parallel_backend` context. ``-1`` means using all\n",
      " |      processors. See :term:`Glossary <n_jobs>` for more details.\n",
      " |  \n",
      " |  random_state : int, RandomState instance or None, default=None\n",
      " |      Controls the random resampling of the original dataset\n",
      " |      (sample wise and feature wise).\n",
      " |      If the base estimator accepts a `random_state` attribute, a different\n",
      " |      seed is generated for each instance in the ensemble.\n",
      " |      Pass an int for reproducible output across multiple function calls.\n",
      " |      See :term:`Glossary <random_state>`.\n",
      " |  \n",
      " |  verbose : int, default=0\n",
      " |      Controls the verbosity when fitting and predicting.\n",
      " |  \n",
      " |  Attributes\n",
      " |  ----------\n",
      " |  base_estimator_ : estimator\n",
      " |      The base estimator from which the ensemble is grown.\n",
      " |  \n",
      " |  n_features_ : int\n",
      " |      The number of features when :meth:`fit` is performed.\n",
      " |  \n",
      " |      .. deprecated:: 1.0\n",
      " |          Attribute `n_features_` was deprecated in version 1.0 and will be\n",
      " |          removed in 1.2. Use `n_features_in_` instead.\n",
      " |  \n",
      " |  n_features_in_ : int\n",
      " |      Number of features seen during :term:`fit`.\n",
      " |  \n",
      " |      .. versionadded:: 0.24\n",
      " |  \n",
      " |  feature_names_in_ : ndarray of shape (`n_features_in_`,)\n",
      " |      Names of features seen during :term:`fit`. Defined only when `X`\n",
      " |      has feature names that are all strings.\n",
      " |  \n",
      " |      .. versionadded:: 1.0\n",
      " |  \n",
      " |  estimators_ : list of estimators\n",
      " |      The collection of fitted sub-estimators.\n",
      " |  \n",
      " |  estimators_samples_ : list of arrays\n",
      " |      The subset of drawn samples (i.e., the in-bag samples) for each base\n",
      " |      estimator. Each subset is defined by an array of the indices selected.\n",
      " |  \n",
      " |  estimators_features_ : list of arrays\n",
      " |      The subset of drawn features for each base estimator.\n",
      " |  \n",
      " |  oob_score_ : float\n",
      " |      Score of the training dataset obtained using an out-of-bag estimate.\n",
      " |      This attribute exists only when ``oob_score`` is True.\n",
      " |  \n",
      " |  oob_prediction_ : ndarray of shape (n_samples,)\n",
      " |      Prediction computed with out-of-bag estimate on the training\n",
      " |      set. If n_estimators is small it might be possible that a data point\n",
      " |      was never left out during the bootstrap. In this case,\n",
      " |      `oob_prediction_` might contain NaN. This attribute exists only\n",
      " |      when ``oob_score`` is True.\n",
      " |  \n",
      " |  See Also\n",
      " |  --------\n",
      " |  BaggingClassifier : A Bagging classifier.\n",
      " |  \n",
      " |  References\n",
      " |  ----------\n",
      " |  \n",
      " |  .. [1] L. Breiman, \"Pasting small votes for classification in large\n",
      " |         databases and on-line\", Machine Learning, 36(1), 85-103, 1999.\n",
      " |  \n",
      " |  .. [2] L. Breiman, \"Bagging predictors\", Machine Learning, 24(2), 123-140,\n",
      " |         1996.\n",
      " |  \n",
      " |  .. [3] T. Ho, \"The random subspace method for constructing decision\n",
      " |         forests\", Pattern Analysis and Machine Intelligence, 20(8), 832-844,\n",
      " |         1998.\n",
      " |  \n",
      " |  .. [4] G. Louppe and P. Geurts, \"Ensembles on Random Patches\", Machine\n",
      " |         Learning and Knowledge Discovery in Databases, 346-361, 2012.\n",
      " |  \n",
      " |  Examples\n",
      " |  --------\n",
      " |  >>> from sklearn.svm import SVR\n",
      " |  >>> from sklearn.ensemble import BaggingRegressor\n",
      " |  >>> from sklearn.datasets import make_regression\n",
      " |  >>> X, y = make_regression(n_samples=100, n_features=4,\n",
      " |  ...                        n_informative=2, n_targets=1,\n",
      " |  ...                        random_state=0, shuffle=False)\n",
      " |  >>> regr = BaggingRegressor(base_estimator=SVR(),\n",
      " |  ...                         n_estimators=10, random_state=0).fit(X, y)\n",
      " |  >>> regr.predict([[0, 0, 0, 0]])\n",
      " |  array([-2.8720...])\n",
      " |  \n",
      " |  Method resolution order:\n",
      " |      UncertaintyEnsembleRegressor\n",
      " |      sklearn.ensemble._bagging.BaggingRegressor\n",
      " |      sklearn.base.RegressorMixin\n",
      " |      sklearn.ensemble._bagging.BaseBagging\n",
      " |      sklearn.ensemble._base.BaseEnsemble\n",
      " |      sklearn.base.MetaEstimatorMixin\n",
      " |      sklearn.base.BaseEstimator\n",
      " |      builtins.object\n",
      " |  \n",
      " |  Methods defined here:\n",
      " |  \n",
      " |  predict(self, X)\n",
      " |      Predict regression target for X.\n",
      " |      The predicted regression target of an input sample is computed as the\n",
      " |      mean predicted regression targets of the estimators in the ensemble.\n",
      " |      Parameters\n",
      " |      ----------\n",
      " |      X : {array-like, sparse matrix} of shape (n_samples, n_features)\n",
      " |          The training input samples. Sparse matrices are accepted only if\n",
      " |          they are supported by the base estimator.\n",
      " |      Returns\n",
      " |      -------\n",
      " |      y : ndarray of shape (n_samples,)\n",
      " |          The predicted values.\n",
      " |  \n",
      " |  ----------------------------------------------------------------------\n",
      " |  Data and other attributes defined here:\n",
      " |  \n",
      " |  __abstractmethods__ = frozenset()\n",
      " |  \n",
      " |  ----------------------------------------------------------------------\n",
      " |  Methods inherited from sklearn.ensemble._bagging.BaggingRegressor:\n",
      " |  \n",
      " |  __init__(self, base_estimator=None, n_estimators=10, *, max_samples=1.0, max_features=1.0, bootstrap=True, bootstrap_features=False, oob_score=False, warm_start=False, n_jobs=None, random_state=None, verbose=0)\n",
      " |      Initialize self.  See help(type(self)) for accurate signature.\n",
      " |  \n",
      " |  ----------------------------------------------------------------------\n",
      " |  Methods inherited from sklearn.base.RegressorMixin:\n",
      " |  \n",
      " |  score(self, X, y, sample_weight=None)\n",
      " |      Return the coefficient of determination of the prediction.\n",
      " |      \n",
      " |      The coefficient of determination :math:`R^2` is defined as\n",
      " |      :math:`(1 - \\frac{u}{v})`, where :math:`u` is the residual\n",
      " |      sum of squares ``((y_true - y_pred)** 2).sum()`` and :math:`v`\n",
      " |      is the total sum of squares ``((y_true - y_true.mean()) ** 2).sum()``.\n",
      " |      The best possible score is 1.0 and it can be negative (because the\n",
      " |      model can be arbitrarily worse). A constant model that always predicts\n",
      " |      the expected value of `y`, disregarding the input features, would get\n",
      " |      a :math:`R^2` score of 0.0.\n",
      " |      \n",
      " |      Parameters\n",
      " |      ----------\n",
      " |      X : array-like of shape (n_samples, n_features)\n",
      " |          Test samples. For some estimators this may be a precomputed\n",
      " |          kernel matrix or a list of generic objects instead with shape\n",
      " |          ``(n_samples, n_samples_fitted)``, where ``n_samples_fitted``\n",
      " |          is the number of samples used in the fitting for the estimator.\n",
      " |      \n",
      " |      y : array-like of shape (n_samples,) or (n_samples, n_outputs)\n",
      " |          True values for `X`.\n",
      " |      \n",
      " |      sample_weight : array-like of shape (n_samples,), default=None\n",
      " |          Sample weights.\n",
      " |      \n",
      " |      Returns\n",
      " |      -------\n",
      " |      score : float\n",
      " |          :math:`R^2` of ``self.predict(X)`` wrt. `y`.\n",
      " |      \n",
      " |      Notes\n",
      " |      -----\n",
      " |      The :math:`R^2` score used when calling ``score`` on a regressor uses\n",
      " |      ``multioutput='uniform_average'`` from version 0.23 to keep consistent\n",
      " |      with default value of :func:`~sklearn.metrics.r2_score`.\n",
      " |      This influences the ``score`` method of all the multioutput\n",
      " |      regressors (except for\n",
      " |      :class:`~sklearn.multioutput.MultiOutputRegressor`).\n",
      " |  \n",
      " |  ----------------------------------------------------------------------\n",
      " |  Data descriptors inherited from sklearn.base.RegressorMixin:\n",
      " |  \n",
      " |  __dict__\n",
      " |      dictionary for instance variables (if defined)\n",
      " |  \n",
      " |  __weakref__\n",
      " |      list of weak references to the object (if defined)\n",
      " |  \n",
      " |  ----------------------------------------------------------------------\n",
      " |  Methods inherited from sklearn.ensemble._bagging.BaseBagging:\n",
      " |  \n",
      " |  fit(self, X, y, sample_weight=None)\n",
      " |      Build a Bagging ensemble of estimators from the training set (X, y).\n",
      " |      \n",
      " |      Parameters\n",
      " |      ----------\n",
      " |      X : {array-like, sparse matrix} of shape (n_samples, n_features)\n",
      " |          The training input samples. Sparse matrices are accepted only if\n",
      " |          they are supported by the base estimator.\n",
      " |      \n",
      " |      y : array-like of shape (n_samples,)\n",
      " |          The target values (class labels in classification, real numbers in\n",
      " |          regression).\n",
      " |      \n",
      " |      sample_weight : array-like of shape (n_samples,), default=None\n",
      " |          Sample weights. If None, then samples are equally weighted.\n",
      " |          Note that this is supported only if the base estimator supports\n",
      " |          sample weighting.\n",
      " |      \n",
      " |      Returns\n",
      " |      -------\n",
      " |      self : object\n",
      " |          Fitted estimator.\n",
      " |  \n",
      " |  ----------------------------------------------------------------------\n",
      " |  Readonly properties inherited from sklearn.ensemble._bagging.BaseBagging:\n",
      " |  \n",
      " |  estimators_samples_\n",
      " |      The subset of drawn samples for each base estimator.\n",
      " |      \n",
      " |      Returns a dynamically generated list of indices identifying\n",
      " |      the samples used for fitting each member of the ensemble, i.e.,\n",
      " |      the in-bag samples.\n",
      " |      \n",
      " |      Note: the list is re-created at each call to the property in order\n",
      " |      to reduce the object memory footprint by not storing the sampling\n",
      " |      data. Thus fetching the property may be slower than expected.\n",
      " |  \n",
      " |  n_features_\n",
      " |      DEPRECATED: Attribute `n_features_` was deprecated in version 1.0 and will be removed in 1.2. Use `n_features_in_` instead.\n",
      " |  \n",
      " |  ----------------------------------------------------------------------\n",
      " |  Methods inherited from sklearn.ensemble._base.BaseEnsemble:\n",
      " |  \n",
      " |  __getitem__(self, index)\n",
      " |      Return the index'th estimator in the ensemble.\n",
      " |  \n",
      " |  __iter__(self)\n",
      " |      Return iterator over estimators in the ensemble.\n",
      " |  \n",
      " |  __len__(self)\n",
      " |      Return the number of estimators in the ensemble.\n",
      " |  \n",
      " |  ----------------------------------------------------------------------\n",
      " |  Data and other attributes inherited from sklearn.ensemble._base.BaseEnsemble:\n",
      " |  \n",
      " |  __annotations__ = {'_required_parameters': typing.List[str]}\n",
      " |  \n",
      " |  ----------------------------------------------------------------------\n",
      " |  Methods inherited from sklearn.base.BaseEstimator:\n",
      " |  \n",
      " |  __getstate__(self)\n",
      " |  \n",
      " |  __repr__(self, N_CHAR_MAX=700)\n",
      " |      Return repr(self).\n",
      " |  \n",
      " |  __setstate__(self, state)\n",
      " |  \n",
      " |  get_params(self, deep=True)\n",
      " |      Get parameters for this estimator.\n",
      " |      \n",
      " |      Parameters\n",
      " |      ----------\n",
      " |      deep : bool, default=True\n",
      " |          If True, will return the parameters for this estimator and\n",
      " |          contained subobjects that are estimators.\n",
      " |      \n",
      " |      Returns\n",
      " |      -------\n",
      " |      params : dict\n",
      " |          Parameter names mapped to their values.\n",
      " |  \n",
      " |  set_params(self, **params)\n",
      " |      Set the parameters of this estimator.\n",
      " |      \n",
      " |      The method works on simple estimators as well as on nested objects\n",
      " |      (such as :class:`~sklearn.pipeline.Pipeline`). The latter have\n",
      " |      parameters of the form ``<component>__<parameter>`` so that it's\n",
      " |      possible to update each component of a nested object.\n",
      " |      \n",
      " |      Parameters\n",
      " |      ----------\n",
      " |      **params : dict\n",
      " |          Estimator parameters.\n",
      " |      \n",
      " |      Returns\n",
      " |      -------\n",
      " |      self : estimator instance\n",
      " |          Estimator instance.\n",
      "\n"
     ]
    }
   ],
   "source": [
    "help(UncertaintyEnsembleRegressor)"
   ]
  },
  {
   "cell_type": "code",
   "execution_count": 68,
   "id": "6f1a9699-bd7c-429e-bdf5-0b4639d38d2d",
   "metadata": {},
   "outputs": [],
   "source": [
    "from lshiftml.feature_utils.parallel import get_features_in_parallel\n",
    "from rascal.representations import SphericalInvariants as SOAP\n",
    "from rascal.neighbourlist.structure_manager import mask_center_atoms_by_species\n",
    "from ase.io import read\n",
    "import json\n",
    "import numpy as np\n",
    "from sklearn.model_selection import train_test_split"
   ]
  },
  {
   "cell_type": "code",
   "execution_count": 3,
   "id": "123b7e60-eca7-4935-8de7-2885fd431313",
   "metadata": {},
   "outputs": [],
   "source": [
    "#load\n",
    "#frames = read(\"../../COSMO_project/Shiftml2/CSD-1k_test_md_w_shifts.xyz\",index=\":\",format=\"extxyz\")\n",
    "#frames = read(\"../../COSMO_project/make_tensor_data/test_tensor/CSD-500+104-7_shift_tensors.xyz\",index=\":\",format=\"extxyz\")\n",
    "frames = read(\"../../COSMO_project/make_tensor_data/train_tensor/CSD-3k+S546_shift_tensors.xyz\",index=\":\",format=\"extxyz\")\n",
    "frames = frames[::6]\n",
    "\n",
    "with open(\"/ssd/scratch/kellner/ShiftML-Light/src/lshiftml/models/RR_model_data/RR_this_work_models/hypers/1_hypers.json\",\"r\") as fg:\n",
    "                hypers = json.load(fg)\n",
    "tmp = []\n",
    "\n",
    "for frame in frames:\n",
    "    numbers = np.unique(frame.numbers)\n",
    "    \n",
    "    defined = True\n",
    "    for number in numbers:\n",
    "        if number not in [1,6,7,8,16]:\n",
    "            defined = False\n",
    "        else:\n",
    "            continue\n",
    "    \n",
    "    if defined:\n",
    "        tmp.append(frame)\n",
    "\n",
    "frames = tmp\n",
    "        \n",
    "results = {}\n",
    "for specie in [1,6,7,8]:\n",
    "    tmp_array = []\n",
    "    for frame in frames:\n",
    "        mask_center_atoms_by_species(frame,species_select=[specie])\n",
    "        tmp_array.append(frame.arrays[\"cs_iso\"][frame.arrays[\"center_atoms_mask\"]])\n",
    "        del frame.arrays[\"center_atoms_mask\"]\n",
    "    results[specie] = np.hstack(tmp_array)   \n",
    "for frame in frames: frame.wrap(eps=1e-12)\n",
    "#feat\n",
    "for frame in frames: mask_center_atoms_by_species(frame,species_select=[1])\n",
    "Xpredict = get_features_in_parallel(frames,SOAP,hypers)\n",
    "#predict\n"
   ]
  },
  {
   "cell_type": "code",
   "execution_count": 26,
   "id": "021c350a-8e33-4e87-ada0-83db95118eb6",
   "metadata": {},
   "outputs": [
    {
     "data": {
      "text/plain": [
       "array([18.39, 18.39, 18.39, ..., 26.06, 26.06, 26.06])"
      ]
     },
     "execution_count": 26,
     "metadata": {},
     "output_type": "execute_result"
    }
   ],
   "source": [
    "results[1]"
   ]
  },
  {
   "cell_type": "code",
   "execution_count": 8,
   "id": "039dd6dd-5c96-4987-85bd-af5a19e49844",
   "metadata": {},
   "outputs": [],
   "source": [
    "Xtrain,Xtest,Ytrain,Ytest = train_test_split(Xpredict,results[1],train_size=0.75)"
   ]
  },
  {
   "cell_type": "code",
   "execution_count": 29,
   "id": "ece3fa39-8686-4482-bd11-e64cd5032bd4",
   "metadata": {},
   "outputs": [
    {
     "data": {
      "text/plain": [
       "(17026, 8640)"
      ]
     },
     "execution_count": 29,
     "metadata": {},
     "output_type": "execute_result"
    }
   ],
   "source": [
    "Xtrain.shape"
   ]
  },
  {
   "cell_type": "code",
   "execution_count": 5,
   "id": "5e730d22-eccf-41ce-8853-b5ad832a4df4",
   "metadata": {},
   "outputs": [],
   "source": [
    "from sklearn.linear_model import Ridge"
   ]
  },
  {
   "cell_type": "code",
   "execution_count": 134,
   "id": "4a612844-5c05-4ffd-bfbc-4817a1baebd2",
   "metadata": {},
   "outputs": [],
   "source": [
    "model = UncertaintyEnsembleRegressor(base_estimator=Ridge(alpha=0.00001),n_estimators=64,bootstrap=False,max_samples=0.66,max_features=0.66,n_jobs=4)"
   ]
  },
  {
   "cell_type": "code",
   "execution_count": null,
   "id": "ba7fce99-93e7-44b6-9038-dcdd94a477f8",
   "metadata": {},
   "outputs": [],
   "source": [
    "model.fit(Xtrain,Ytrain)"
   ]
  },
  {
   "cell_type": "code",
   "execution_count": 20,
   "id": "06b46cd0-5952-408d-8f1a-734b2e979e0e",
   "metadata": {},
   "outputs": [
    {
     "data": {
      "text/plain": [
       "array([28.20621596, 24.37364048, 29.13407567, ..., 27.30800666,\n",
       "       28.03435682, 26.25195637])"
      ]
     },
     "execution_count": 20,
     "metadata": {},
     "output_type": "execute_result"
    }
   ],
   "source": [
    "model.estimators_[3].predict(Xtrain)"
   ]
  },
  {
   "cell_type": "code",
   "execution_count": 39,
   "id": "0a896e92-3f8c-4c57-b424-dc6141d62ec3",
   "metadata": {},
   "outputs": [],
   "source": [
    "model2 = Ridge(alpha=0.00001)"
   ]
  },
  {
   "cell_type": "code",
   "execution_count": 40,
   "id": "b007f330-453b-461a-822a-9a5ac85d37ae",
   "metadata": {},
   "outputs": [
    {
     "data": {
      "text/plain": [
       "Ridge(alpha=1e-05)"
      ]
     },
     "execution_count": 40,
     "metadata": {},
     "output_type": "execute_result"
    }
   ],
   "source": [
    "model2.fit(Xtrain,Ytrain)"
   ]
  },
  {
   "cell_type": "code",
   "execution_count": 57,
   "id": "648bea14-2acc-4953-ae86-198a044bf78d",
   "metadata": {},
   "outputs": [
    {
     "ename": "NameError",
     "evalue": "name 'model2' is not defined",
     "output_type": "error",
     "traceback": [
      "\u001b[0;31m---------------------------------------------------------------------------\u001b[0m",
      "\u001b[0;31mNameError\u001b[0m                                 Traceback (most recent call last)",
      "\u001b[0;32m/tmp/ipykernel_28087/1588960280.py\u001b[0m in \u001b[0;36m<module>\u001b[0;34m\u001b[0m\n\u001b[0;32m----> 1\u001b[0;31m \u001b[0mYpredict2\u001b[0m \u001b[0;34m=\u001b[0m \u001b[0mmodel2\u001b[0m\u001b[0;34m.\u001b[0m\u001b[0mpredict\u001b[0m\u001b[0;34m(\u001b[0m\u001b[0mXtest\u001b[0m\u001b[0;34m)\u001b[0m\u001b[0;34m\u001b[0m\u001b[0;34m\u001b[0m\u001b[0m\n\u001b[0m",
      "\u001b[0;31mNameError\u001b[0m: name 'model2' is not defined"
     ]
    }
   ],
   "source": [
    "Ypredict2 = model2.predict(Xtest)"
   ]
  },
  {
   "cell_type": "code",
   "execution_count": 27,
   "id": "8f200f9d-2d9a-4444-8571-43ec699130b4",
   "metadata": {},
   "outputs": [
    {
     "ename": "NameError",
     "evalue": "name 'mean_absolute_error' is not defined",
     "output_type": "error",
     "traceback": [
      "\u001b[0;31m---------------------------------------------------------------------------\u001b[0m",
      "\u001b[0;31mNameError\u001b[0m                                 Traceback (most recent call last)",
      "\u001b[0;32m/tmp/ipykernel_28087/1826801905.py\u001b[0m in \u001b[0;36m<module>\u001b[0;34m\u001b[0m\n\u001b[0;32m----> 1\u001b[0;31m \u001b[0mmean_absolute_error\u001b[0m\u001b[0;34m(\u001b[0m\u001b[0mmean_absolute_error\u001b[0m\u001b[0;34m(\u001b[0m\u001b[0mYpredict2\u001b[0m\u001b[0;34m,\u001b[0m\u001b[0mYtest\u001b[0m\u001b[0;34m)\u001b[0m\u001b[0;34m)\u001b[0m\u001b[0;34m\u001b[0m\u001b[0;34m\u001b[0m\u001b[0m\n\u001b[0m",
      "\u001b[0;31mNameError\u001b[0m: name 'mean_absolute_error' is not defined"
     ]
    }
   ],
   "source": [
    "mean_absolute_error(Ypredict2,Ytest))"
   ]
  },
  {
   "cell_type": "code",
   "execution_count": 132,
   "id": "71339f3d-8379-4da1-bb45-a8622b991766",
   "metadata": {},
   "outputs": [],
   "source": [
    "Ytest_predict = model.predict(Xtest[:600])"
   ]
  },
  {
   "cell_type": "code",
   "execution_count": 76,
   "id": "3be0514b-1d5b-43cb-aaa4-3674e7f3fbc5",
   "metadata": {},
   "outputs": [
    {
     "data": {
      "text/plain": [
       "0.21369528658343487"
      ]
     },
     "execution_count": 76,
     "metadata": {},
     "output_type": "execute_result"
    }
   ],
   "source": [
    "mean_absolute_error((np.sum(Ytest_predict,axis=0)/16),Ytest)"
   ]
  },
  {
   "cell_type": "code",
   "execution_count": 96,
   "id": "2c3ceacb-e36c-450f-a7a0-f9e33ca9dc38",
   "metadata": {},
   "outputs": [],
   "source": [
    "import cProfile"
   ]
  },
  {
   "cell_type": "code",
   "execution_count": 124,
   "id": "4f399869-cc64-4b15-8e3f-2012cbe250fc",
   "metadata": {},
   "outputs": [
    {
     "data": {
      "text/plain": [
       "(5676, 64)"
      ]
     },
     "execution_count": 124,
     "metadata": {},
     "output_type": "execute_result"
    }
   ],
   "source": [
    "Ytest_pred_arr.shape"
   ]
  },
  {
   "cell_type": "code",
   "execution_count": 123,
   "id": "3a82e54b-e4b4-49e1-b537-617355e91de3",
   "metadata": {},
   "outputs": [],
   "source": [
    "Ytest_pred_arr = np.vstack(Ytest_predict)"
   ]
  },
  {
   "cell_type": "code",
   "execution_count": 100,
   "id": "2ecab042-dec3-4fec-95a8-7810045e8395",
   "metadata": {},
   "outputs": [],
   "source": [
    "from matplotlib import pyplot as plt"
   ]
  },
  {
   "cell_type": "code",
   "execution_count": 129,
   "id": "9bdb339c-8a86-4dd5-8064-4d5cf32c77d2",
   "metadata": {},
   "outputs": [
    {
     "data": {
      "text/plain": [
       "0.3530222567539967"
      ]
     },
     "execution_count": 129,
     "metadata": {},
     "output_type": "execute_result"
    }
   ],
   "source": [
    "np.sqrt(np.mean(np.abs(np.mean(Ytest_pred_arr,axis=1)-Ytest)**2))"
   ]
  },
  {
   "cell_type": "code",
   "execution_count": 126,
   "id": "8cbfb2da-24a5-4f18-bba0-1af0970242fa",
   "metadata": {},
   "outputs": [],
   "source": [
    "z = np.abs(np.mean(Ytest_pred_arr,axis=1)-Ytest)\n",
    "std = np.std(Ytest_pred_arr,axis=1,ddof=1)\n"
   ]
  },
  {
   "cell_type": "code",
   "execution_count": 133,
   "id": "8c4b3c36-2bc7-426b-9cbb-74ecdc8eb974",
   "metadata": {},
   "outputs": [
    {
     "data": {
      "image/png": "[encoded data removed]",
      "text/plain": [
       "<Figure size 432x288 with 1 Axes>"
      ]
     },
     "metadata": {
      "needs_background": "light"
     },
     "output_type": "display_data"
    }
   ],
   "source": [
    "plt.scatter(std,z)\n",
    "plt.plot(np.logspace(-2,1),np.logspace(-2,1),c=\"black\",linestyle=\"--\")\n",
    "plt.yscale(\"log\")\n",
    "plt.xscale(\"log\")\n"
   ]
  },
  {
   "cell_type": "code",
   "execution_count": 99,
   "id": "471a771e-ed2a-48b7-9c90-50bbb58191ef",
   "metadata": {},
   "outputs": [
    {
     "name": "stdout",
     "output_type": "stream",
     "text": [
      "         50 function calls (48 primitive calls) in 0.002 seconds\n",
      "\n",
      "   Ordered by: standard name\n",
      "\n",
      "   ncalls  tottime  percall  cumtime  percall filename:lineno(function)\n",
      "        1    0.000    0.000    0.000    0.000 <__array_function__ internals>:2(atleast_2d)\n",
      "        1    0.000    0.000    0.002    0.002 <__array_function__ internals>:2(concatenate)\n",
      "        1    0.000    0.000    0.002    0.002 <__array_function__ internals>:2(vstack)\n",
      "        1    0.000    0.000    0.002    0.002 <string>:1(<module>)\n",
      "        1    0.000    0.000    0.000    0.000 multiarray.py:148(concatenate)\n",
      "        1    0.000    0.000    0.000    0.000 shape_base.py:207(_arrays_for_stack_dispatcher)\n",
      "        1    0.000    0.000    0.000    0.000 shape_base.py:218(_vhstack_dispatcher)\n",
      "        1    0.000    0.000    0.002    0.002 shape_base.py:222(vstack)\n",
      "        1    0.000    0.000    0.000    0.000 shape_base.py:77(_atleast_2d_dispatcher)\n",
      "        1    0.000    0.000    0.000    0.000 shape_base.py:81(atleast_2d)\n",
      "        1    0.000    0.000    0.002    0.002 {built-in method builtins.exec}\n",
      "        1    0.000    0.000    0.000    0.000 {built-in method builtins.hasattr}\n",
      "        1    0.000    0.000    0.000    0.000 {built-in method builtins.isinstance}\n",
      "        1    0.000    0.000    0.000    0.000 {built-in method builtins.len}\n",
      "       16    0.000    0.000    0.000    0.000 {built-in method numpy.asanyarray}\n",
      "      3/1    0.002    0.001    0.002    0.002 {built-in method numpy.core._multiarray_umath.implement_array_function}\n",
      "       16    0.000    0.000    0.000    0.000 {method 'append' of 'list' objects}\n",
      "        1    0.000    0.000    0.000    0.000 {method 'disable' of '_lsprof.Profiler' objects}\n",
      "\n",
      "\n"
     ]
    }
   ],
   "source": [
    "cProfile.run(\"Ytest_pred_arr_2 = np.vstack(Ytest_predict).T\")"
   ]
  },
  {
   "cell_type": "code",
   "execution_count": 91,
   "id": "ac9def62-9cd3-40df-a904-3824ed82c175",
   "metadata": {},
   "outputs": [
    {
     "data": {
      "text/plain": [
       "(5676, 16)"
      ]
     },
     "execution_count": 91,
     "metadata": {},
     "output_type": "execute_result"
    }
   ],
   "source": [
    "Ytest_pred_arr.shape"
   ]
  },
  {
   "cell_type": "code",
   "execution_count": 77,
   "id": "af0a5fde-bb59-4c70-8bc4-98427a27071c",
   "metadata": {},
   "outputs": [
    {
     "data": {
      "text/plain": [
       "[array([28.85642404, 21.43166309, 25.90917912, ..., 26.27594175,\n",
       "        25.32492778, 26.63795367]),\n",
       " array([28.93368911, 21.43770239, 25.77790438, ..., 26.36408385,\n",
       "        25.98256076, 26.6051287 ]),\n",
       " array([28.84623697, 21.55214696, 26.03742927, ..., 26.16851735,\n",
       "        26.10633477, 26.56136771]),\n",
       " array([28.9454782 , 21.57454439, 25.86642631, ..., 26.20618799,\n",
       "        25.92779018, 26.67656671]),\n",
       " array([28.96816858, 21.52131212, 25.94151753, ..., 26.43166807,\n",
       "        25.6996471 , 26.65496561]),\n",
       " array([28.98405291, 21.52432182, 25.81195925, ..., 26.04872971,\n",
       "        26.07736105, 26.56986235]),\n",
       " array([29.06818136, 21.4761263 , 26.35923883, ..., 26.20353751,\n",
       "        25.99142286, 26.6238453 ]),\n",
       " array([28.97420428, 21.46431715, 25.93428261, ..., 26.25708842,\n",
       "        26.17595207, 26.60960543]),\n",
       " array([29.06685872, 21.52113331, 25.95387502, ..., 26.26201608,\n",
       "        25.75742888, 26.55718367]),\n",
       " array([29.08429103, 21.4741021 , 26.03703136, ..., 26.42867613,\n",
       "        25.78474114, 26.54838221]),\n",
       " array([29.01642794, 21.43691553, 25.84907108, ..., 26.27487233,\n",
       "        25.73689962, 26.5751711 ]),\n",
       " array([29.05181417, 21.52123052, 26.23088956, ..., 26.15505221,\n",
       "        25.9641623 , 26.63065199]),\n",
       " array([28.80664888, 21.58951175, 26.05453859, ..., 26.47371074,\n",
       "        25.76899357, 26.75357867]),\n",
       " array([28.99457035, 21.48125968, 25.96223275, ..., 26.16411152,\n",
       "        25.8107012 , 26.60718166]),\n",
       " array([28.81897356, 21.44358502, 25.83179683, ..., 26.08018145,\n",
       "        25.7506087 , 26.71196469]),\n",
       " array([28.87201214, 21.41915673, 25.77060015, ..., 26.38928782,\n",
       "        26.17978782, 26.61196137])]"
      ]
     },
     "execution_count": 77,
     "metadata": {},
     "output_type": "execute_result"
    }
   ],
   "source": [
    "Ytest_predict"
   ]
  },
  {
   "cell_type": "code",
   "execution_count": 10,
   "id": "784ea2dc-9136-462d-af98-661522e8fd4d",
   "metadata": {},
   "outputs": [
    {
     "ename": "NameError",
     "evalue": "name 'mean_absolute_error' is not defined",
     "output_type": "error",
     "traceback": [
      "\u001b[0;31m---------------------------------------------------------------------------\u001b[0m",
      "\u001b[0;31mNameError\u001b[0m                                 Traceback (most recent call last)",
      "\u001b[0;32m/tmp/ipykernel_28087/4129301937.py\u001b[0m in \u001b[0;36m<module>\u001b[0;34m\u001b[0m\n\u001b[0;32m----> 1\u001b[0;31m \u001b[0mmean_absolute_error\u001b[0m\u001b[0;34m(\u001b[0m\u001b[0mYtest_predict\u001b[0m\u001b[0;34m,\u001b[0m\u001b[0mYtest\u001b[0m\u001b[0;34m)\u001b[0m\u001b[0;34m\u001b[0m\u001b[0;34m\u001b[0m\u001b[0m\n\u001b[0m",
      "\u001b[0;31mNameError\u001b[0m: name 'mean_absolute_error' is not defined"
     ]
    }
   ],
   "source": [
    "mean_absolute_error(Ytest_predict,Ytest)"
   ]
  },
  {
   "cell_type": "code",
   "execution_count": 46,
   "id": "ef7632c2-24d4-4715-864c-5c9d7a4c521f",
   "metadata": {},
   "outputs": [
    {
     "data": {
      "text/plain": [
       "(5676, 8640)"
      ]
     },
     "execution_count": 46,
     "metadata": {},
     "output_type": "execute_result"
    }
   ],
   "source": [
    "Xtest.shape"
   ]
  },
  {
   "cell_type": "code",
   "execution_count": null,
   "id": "af31e66c-6651-49e3-a55a-00a64805de45",
   "metadata": {},
   "outputs": [],
   "source": [
    "np.std(Ytest_predict,axis=0)"
   ]
  },
  {
   "cell_type": "code",
   "execution_count": null,
   "id": "21919af2-1b87-481f-81c8-23f281f61d21",
   "metadata": {},
   "outputs": [],
   "source": [
    "np.mean(Ytest_predict,axis=0)"
   ]
  },
  {
   "cell_type": "code",
   "execution_count": 29,
   "id": "77545299-2d62-474a-b9cf-ffcab1915207",
   "metadata": {},
   "outputs": [],
   "source": [
    "from sklearn.metrics import mean_squared_error, mean_absolute_error"
   ]
  },
  {
   "cell_type": "code",
   "execution_count": 36,
   "id": "2a65d434-82f3-481c-8dee-040c3770dc5b",
   "metadata": {},
   "outputs": [
    {
     "data": {
      "text/plain": [
       "75.36458217326111"
      ]
     },
     "execution_count": 36,
     "metadata": {},
     "output_type": "execute_result"
    }
   ],
   "source": [
    "mean_absolute_error(np.mean(Ytest_predict,axis=0),Ytest)"
   ]
  },
  {
   "cell_type": "code",
   "execution_count": 37,
   "id": "decf0530-f320-48da-94b3-165d9b3f7bcf",
   "metadata": {},
   "outputs": [
    {
     "data": {
      "text/plain": [
       "array([ 62.22064019, 106.04607908, 103.43052958, ...,  93.77745888,\n",
       "        82.44643906, 116.03518078])"
      ]
     },
     "execution_count": 37,
     "metadata": {},
     "output_type": "execute_result"
    }
   ],
   "source": [
    "np.mean(Ytest_predict,axis=0)"
   ]
  },
  {
   "cell_type": "code",
   "execution_count": 23,
   "id": "c4664b39-6d9d-46e8-8d5d-c552cf640484",
   "metadata": {},
   "outputs": [
    {
     "data": {
      "text/plain": [
       "16"
      ]
     },
     "execution_count": 23,
     "metadata": {},
     "output_type": "execute_result"
    }
   ],
   "source": [
    "model.n_estimators"
   ]
  },
  {
   "cell_type": "code",
   "execution_count": 56,
   "id": "a07fc268-c9f2-409c-8f43-77ff9c898cc2",
   "metadata": {},
   "outputs": [
    {
     "ename": "TypeError",
     "evalue": "sum() takes at most 2 arguments (4 given)",
     "output_type": "error",
     "traceback": [
      "\u001b[0;31m---------------------------------------------------------------------------\u001b[0m",
      "\u001b[0;31mTypeError\u001b[0m                                 Traceback (most recent call last)",
      "\u001b[0;32m/tmp/ipykernel_27762/3859692421.py\u001b[0m in \u001b[0;36m<module>\u001b[0;34m\u001b[0m\n\u001b[0;32m----> 1\u001b[0;31m \u001b[0msum\u001b[0m\u001b[0;34m(\u001b[0m\u001b[0;36m1\u001b[0m\u001b[0;34m,\u001b[0m\u001b[0;36m2\u001b[0m\u001b[0;34m,\u001b[0m\u001b[0;36m3\u001b[0m\u001b[0;34m,\u001b[0m\u001b[0;36m4\u001b[0m\u001b[0;34m)\u001b[0m\u001b[0;34m\u001b[0m\u001b[0;34m\u001b[0m\u001b[0m\n\u001b[0m",
      "\u001b[0;31mTypeError\u001b[0m: sum() takes at most 2 arguments (4 given)"
     ]
    }
   ],
   "source": [
    "sum(1,2,3,4)"
   ]
  },
  {
   "cell_type": "code",
   "execution_count": null,
   "id": "89f322fb-d5de-4d8d-877b-74c78f2bf3a8",
   "metadata": {},
   "outputs": [],
   "source": []
  }
 ],
 "metadata": {
  "kernelspec": {
   "display_name": "Python 3 (ipykernel)",
   "language": "python",
   "name": "python3"
  },
  "language_info": {
   "codemirror_mode": {
    "name": "ipython",
    "version": 3
   },
   "file_extension": ".py",
   "mimetype": "text/x-python",
   "name": "python",
   "nbconvert_exporter": "python",
   "pygments_lexer": "ipython3",
   "version": "3.8.10"
  }
 },
 "nbformat": 4,
 "nbformat_minor": 5
}
