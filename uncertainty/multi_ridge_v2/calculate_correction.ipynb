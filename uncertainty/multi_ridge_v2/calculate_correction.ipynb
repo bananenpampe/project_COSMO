{
 "cells": [
  {
   "cell_type": "code",
   "execution_count": 1,
   "id": "b31202a1",
   "metadata": {},
   "outputs": [],
   "source": [
    "import numpy as np"
   ]
  },
  {
   "cell_type": "code",
   "execution_count": 2,
   "id": "759cdca2",
   "metadata": {},
   "outputs": [],
   "source": [
    "commitee_pred = np.load(\"13C_commitee_prediction.npy\")\n",
    "reference = np.load(\"13C_reference_shifts.npy\")\n",
    "binary_encoded = np.load(\"13C_Binary_encoded_in_validation_set_1_else_0.npy\")\n",
    "commitee_pred_test = np.load(\"13C_test_commitee_prediction.npy\")\n",
    "test_reference_shift = np.load(\"13C_test_reference_shifts.npy\")\n",
    "train_1hot = np.load(\"13C_train_binary_1_hot_N_sample_M_models.npy\")"
   ]
  },
  {
   "cell_type": "code",
   "execution_count": null,
   "id": "8b60f366",
   "metadata": {},
   "outputs": [],
   "source": []
  },
  {
   "cell_type": "code",
   "execution_count": 3,
   "id": "dfeb7ebf",
   "metadata": {},
   "outputs": [
    {
     "data": {
      "text/plain": [
       "array([[False, False,  True, ...,  True,  True,  True],\n",
       "       [False, False,  True, ...,  True,  True,  True],\n",
       "       [False, False,  True, ...,  True,  True,  True],\n",
       "       ...,\n",
       "       [False, False,  True, ..., False,  True,  True],\n",
       "       [False, False,  True, ..., False,  True,  True],\n",
       "       [False, False,  True, ..., False,  True,  True]])"
      ]
     },
     "execution_count": 3,
     "metadata": {},
     "output_type": "execute_result"
    }
   ],
   "source": [
    "train_1hot"
   ]
  },
  {
   "cell_type": "code",
   "execution_count": 3,
   "id": "cede3ce5",
   "metadata": {},
   "outputs": [],
   "source": [
    "min5 = np.sum(train_1hot.astype(\"int\"),axis=1) < 12\n"
   ]
  },
  {
   "cell_type": "code",
   "execution_count": 4,
   "id": "a1ed5482",
   "metadata": {},
   "outputs": [],
   "source": [
    "cleaned_pred = commitee_pred[min5]\n",
    "cleaned_pred[train_1hot[min5]] = np.NaN\n",
    "\n"
   ]
  },
  {
   "cell_type": "code",
   "execution_count": null,
   "id": "62830b40",
   "metadata": {},
   "outputs": [],
   "source": []
  },
  {
   "cell_type": "code",
   "execution_count": 6,
   "id": "e0ff5920",
   "metadata": {},
   "outputs": [
    {
     "data": {
      "text/plain": [
       "(48342, 16)"
      ]
     },
     "execution_count": 6,
     "metadata": {},
     "output_type": "execute_result"
    }
   ],
   "source": [
    "cleaned_pred.shape"
   ]
  },
  {
   "cell_type": "code",
   "execution_count": 5,
   "id": "f8be2746",
   "metadata": {},
   "outputs": [],
   "source": [
    "means = np.nanmean(cleaned_pred,axis=1)\n",
    "nvars = np.nanvar(cleaned_pred,axis=1)\n",
    "\n",
    "#np.sqrt(np.mean( (means - reference[min5]) ** 2 / nvars))"
   ]
  },
  {
   "cell_type": "code",
   "execution_count": 3,
   "id": "9027a8b3",
   "metadata": {},
   "outputs": [
    {
     "name": "stderr",
     "output_type": "stream",
     "text": [
      "/tmp/ipykernel_35355/2902420616.py:3: RuntimeWarning: Mean of empty slice\n",
      "  means = np.nanmean(cleaned_pred,axis=1)\n",
      "/tmp/ipykernel_35355/2902420616.py:4: RuntimeWarning: Degrees of freedom <= 0 for slice.\n",
      "  nvars = np.nanvar(cleaned_pred,axis=1)\n",
      "/home/kellner/anaconda3/envs/python38/lib/python3.8/site-packages/numpy/lib/nanfunctions.py:1670: RuntimeWarning: Degrees of freedom <= 0 for slice.\n",
      "  var = nanvar(a, axis=axis, dtype=dtype, out=out, ddof=ddof,\n"
     ]
    }
   ],
   "source": [
    "cleaned_pred = commitee_pred\n",
    "cleaned_pred[train_1hot] = np.NaN\n",
    "means = np.nanmean(cleaned_pred,axis=1)\n",
    "nvars = np.nanvar(cleaned_pred,axis=1)\n",
    "nstd = np.nanstd(cleaned_pred,axis=1)"
   ]
  },
  {
   "cell_type": "code",
   "execution_count": 7,
   "id": "34de7bd4",
   "metadata": {},
   "outputs": [],
   "source": [
    "nstd = np.nanstd(cleaned_pred,axis=1)"
   ]
  },
  {
   "cell_type": "code",
   "execution_count": 4,
   "id": "7e3910e9",
   "metadata": {},
   "outputs": [],
   "source": [
    "means_test = np.nanmean(commitee_pred_test,axis=1)\n",
    "nvars_test = np.nanvar(commitee_pred_test,axis=1)\n",
    "nstd_test = np.nanstd(commitee_pred_test,axis=1)"
   ]
  },
  {
   "cell_type": "code",
   "execution_count": 12,
   "id": "875aa6db",
   "metadata": {
    "scrolled": true
   },
   "outputs": [
    {
     "data": {
      "text/plain": [
       "0.4674680404502958"
      ]
     },
     "execution_count": 12,
     "metadata": {},
     "output_type": "execute_result"
    }
   ],
   "source": [
    "np.mean(np.abs(means_test - test_reference_shift) >  5.340778967043847 * 3 * nstd_test) * 100"
   ]
  },
  {
   "cell_type": "code",
   "execution_count": 9,
   "id": "246bcbc0",
   "metadata": {},
   "outputs": [],
   "source": [
    "from scipy.stats import norm"
   ]
  },
  {
   "cell_type": "code",
   "execution_count": 10,
   "id": "7230d5f1",
   "metadata": {},
   "outputs": [],
   "source": [
    "import matplotlib.pyplot as plt"
   ]
  },
  {
   "cell_type": "code",
   "execution_count": 19,
   "id": "b679ecd5",
   "metadata": {},
   "outputs": [
    {
     "data": {
      "text/plain": [
       "(134692,)"
      ]
     },
     "execution_count": 19,
     "metadata": {},
     "output_type": "execute_result"
    }
   ],
   "source": [
    "means.shape"
   ]
  },
  {
   "cell_type": "code",
   "execution_count": 12,
   "id": "c0b16a31",
   "metadata": {},
   "outputs": [
    {
     "data": {
      "text/plain": [
       "(134692, 16)"
      ]
     },
     "execution_count": 12,
     "metadata": {},
     "output_type": "execute_result"
    }
   ],
   "source": [
    "cleaned_pred.shape"
   ]
  },
  {
   "cell_type": "code",
   "execution_count": 13,
   "id": "c712f940",
   "metadata": {},
   "outputs": [
    {
     "data": {
      "text/plain": [
       "(134692,)"
      ]
     },
     "execution_count": 13,
     "metadata": {},
     "output_type": "execute_result"
    }
   ],
   "source": [
    "means.shape"
   ]
  },
  {
   "cell_type": "code",
   "execution_count": 14,
   "id": "2144c866",
   "metadata": {},
   "outputs": [
    {
     "data": {
      "text/plain": [
       "(48342,)"
      ]
     },
     "execution_count": 14,
     "metadata": {},
     "output_type": "execute_result"
    }
   ],
   "source": [
    "means[min5].shape"
   ]
  },
  {
   "cell_type": "code",
   "execution_count": 30,
   "id": "66a737eb",
   "metadata": {
    "scrolled": true
   },
   "outputs": [],
   "source": [
    "error_dist = np.abs(means[min5].reshape(-1,1) + 6.3 * (cleaned_pred[min5]-means[min5].reshape(-1,1)) - reference[min5].reshape(-1,1)).flatten()"
   ]
  },
  {
   "cell_type": "code",
   "execution_count": 29,
   "id": "7b3b70e8",
   "metadata": {},
   "outputs": [
    {
     "data": {
      "text/plain": [
       "(48342, 16)"
      ]
     },
     "execution_count": 29,
     "metadata": {},
     "output_type": "execute_result"
    }
   ],
   "source": [
    "error_dist.shape"
   ]
  },
  {
   "cell_type": "code",
   "execution_count": 11,
   "id": "112f180b",
   "metadata": {},
   "outputs": [],
   "source": [
    "(mu, sigma) = norm.fit(reference[min5]-means[min5])"
   ]
  },
  {
   "cell_type": "code",
   "execution_count": 17,
   "id": "f4c26f72",
   "metadata": {},
   "outputs": [
    {
     "data": {
      "text/plain": [
       "<matplotlib.legend.Legend at 0x7f5b283c28b0>"
      ]
     },
     "execution_count": 17,
     "metadata": {},
     "output_type": "execute_result"
    },
    {
     "data": {
      "image/png": "[encoded data removed]",
      "text/plain": [
       "<Figure size 1260x780 with 1 Axes>"
      ]
     },
     "metadata": {
      "needs_background": "light"
     },
     "output_type": "display_data"
    }
   ],
   "source": [
    "plt.figure(figsize=(4.2,2.6),dpi=300)\n",
    "n, bins, patches = plt.hist(np.abs(means[min5] - reference[min5]),bins=50,log=True,density=True)\n",
    "#_ = plt.hist(error_dist,bins=50,log=True,density=True,alpha=0.3)\n",
    "y = norm.pdf( bins, mu, sigma) * 2\n",
    "l = plt.plot(bins[:40], y[:40], 'r--', linewidth=2)\n",
    "#_ = plt.hist(6.33*nstd,bins=40,log=True,density=True,alpha=0.3)\n",
    "#_ = plt.hist(,bins=50,log=True,density=True)\n",
    "plt.xlim(0,35)\n",
    "plt.ylim(1e-04,1)\n",
    "plt.ylabel(\"Density\")\n",
    "plt.xlabel(\"Error $^{13}$C [ppm]\")\n",
    "plt.legend(labels=[\"Gauss.\",\"Errors\"])\n",
    "plt.savefig(,dpi=300,bbox_inches=\"tight\")"
   ]
  },
  {
   "cell_type": "code",
   "execution_count": 66,
   "id": "f7dea953",
   "metadata": {},
   "outputs": [
    {
     "data": {
      "text/plain": [
       "1.8207047951924866"
      ]
     },
     "execution_count": 66,
     "metadata": {},
     "output_type": "execute_result"
    }
   ],
   "source": [
    "n[0]"
   ]
  },
  {
   "cell_type": "code",
   "execution_count": 31,
   "id": "fdc28537",
   "metadata": {},
   "outputs": [
    {
     "data": {
      "text/plain": [
       "array([1.78585406e+00, 1.55953564e+00, 1.24563321e+00, 9.36911954e-01,\n",
       "       6.20253572e-01, 4.24746648e-01, 2.75043573e-01, 1.73073511e-01,\n",
       "       1.15804919e-01, 7.56232028e-02, 4.78432507e-02, 3.14729219e-02,\n",
       "       1.82443733e-02, 1.35592623e-02, 1.11891474e-02, 7.38593963e-03,\n",
       "       3.85832667e-03, 4.96070572e-03, 3.74808877e-03, 1.98428229e-03,\n",
       "       1.98428229e-03, 1.21261695e-03, 6.61427430e-04, 2.20475810e-04,\n",
       "       7.71665335e-04, 8.81903239e-04, 4.40951620e-04, 9.92141144e-04,\n",
       "       0.00000000e+00, 6.61427430e-04, 6.61427430e-04, 4.40951620e-04,\n",
       "       6.61427430e-04, 4.40951620e-04, 0.00000000e+00, 0.00000000e+00,\n",
       "       0.00000000e+00, 0.00000000e+00, 0.00000000e+00, 4.40951620e-04])"
      ]
     },
     "execution_count": 31,
     "metadata": {},
     "output_type": "execute_result"
    }
   ],
   "source": [
    "n"
   ]
  },
  {
   "cell_type": "code",
   "execution_count": null,
   "id": "cddf6b74",
   "metadata": {},
   "outputs": [],
   "source": [
    "n, bins, patches = plt.hist(true_vals_missing_five[specie]-means_missing_five[specie],bins=300, density=True)\n",
    "y = norm.pdf( bins, mu, sigma)\n",
    "l = plt.plot(bins, y, 'r--', linewidth=2)"
   ]
  },
  {
   "cell_type": "code",
   "execution_count": null,
   "id": "edf777fc",
   "metadata": {},
   "outputs": [],
   "source": [
    "#1H 6.3299182108964045\n",
    "#13C 5.340778967043847\n",
    "#15N 4.9891876429312605\n",
    "#17O 4.570059189333062"
   ]
  }
 ],
 "metadata": {
  "kernelspec": {
   "display_name": "Python 3 (ipykernel)",
   "language": "python",
   "name": "python3"
  },
  "language_info": {
   "codemirror_mode": {
    "name": "ipython",
    "version": 3
   },
   "file_extension": ".py",
   "mimetype": "text/x-python",
   "name": "python",
   "nbconvert_exporter": "python",
   "pygments_lexer": "ipython3",
   "version": "3.8.10"
  }
 },
 "nbformat": 4,
 "nbformat_minor": 5
}
