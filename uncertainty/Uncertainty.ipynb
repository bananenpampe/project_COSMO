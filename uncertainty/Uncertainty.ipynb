{
 "cells": [
  {
   "cell_type": "code",
   "execution_count": 2,
   "id": "7f772762-2f58-4f8f-96b5-443c04a04463",
   "metadata": {},
   "outputs": [],
   "source": [
    "import numpy as np"
   ]
  },
  {
   "cell_type": "code",
   "execution_count": 59,
   "id": "00e580b4-f23f-4f02-a840-d3314f2fab03",
   "metadata": {},
   "outputs": [],
   "source": [
    "from torch.nn import GaussianNLLLoss"
   ]
  },
  {
   "cell_type": "code",
   "execution_count": 2,
   "id": "5922da45-99ce-4434-96d5-a92c5340b451",
   "metadata": {},
   "outputs": [
    {
     "data": {
      "text/plain": [
       "'./multi_NN_v2/specie_1_model_no_8_predictions_test.npy'"
      ]
     },
     "execution_count": 2,
     "metadata": {},
     "output_type": "execute_result"
    }
   ],
   "source": [
    "\"./multi_NN_v2/membership_specie_1_model_0_one_hot_train.npy\"\n",
    "\"./multi_NN_v2/specie_1_model_no_0_predictions_train_complete.npy\"\n",
    "\"./multi_NN_v2/specie_1_true_train_complete.npy\"\n",
    "\"./multi_NN_v2/specie_1_true_test.npy\"\n",
    "\"./multi_NN_v2/specie_1_model_no_8_predictions_test.npy\"\n",
    "\n",
    "#for specie in [1,6,7,8]:"
   ]
  },
  {
   "cell_type": "code",
   "execution_count": 3,
   "id": "e66f7f45-83d9-449c-a226-e4ed8be98b5c",
   "metadata": {},
   "outputs": [],
   "source": [
    "a = np.load(\"./multi_NN_v2/membership_specie_1_model_0_one_hot_train.npy\")\n",
    "b = np.load(\"./multi_NN_v2/specie_1_model_no_0_predictions_train_complete.npy\")\n",
    "c = np.load(\"./multi_NN_v2/specie_1_true_train_complete.npy\")\n",
    "d = np.load(\"./multi_NN_v2/specie_1_true_test.npy\")\n",
    "e = np.load(\"./multi_NN_v2/specie_1_model_no_1_predictions_test.npy\")"
   ]
  },
  {
   "cell_type": "code",
   "execution_count": 4,
   "id": "cb2fe17d-d5f1-41c1-88dd-543088b06e8c",
   "metadata": {},
   "outputs": [],
   "source": [
    "f = np.load(\"./multi_kernel_v2/specie_1_model_no_10_test_pred.npy\")\n",
    "g = np.load(\"./multi_ridge_v2/1H_test_reference_shifts.npy\")#_reference_shifts.npy_shifts.npy.npy\")"
   ]
  },
  {
   "cell_type": "code",
   "execution_count": 3,
   "id": "61b12d61-601e-4528-a716-298f1b4d7861",
   "metadata": {},
   "outputs": [],
   "source": [
    "from sklearn.metrics import mean_squared_error"
   ]
  },
  {
   "cell_type": "code",
   "execution_count": 6,
   "id": "d48862e2-df0b-44e6-b4c8-7d7695fc4065",
   "metadata": {},
   "outputs": [
    {
     "data": {
      "text/plain": [
       "3.2639577225177536"
      ]
     },
     "execution_count": 6,
     "metadata": {},
     "output_type": "execute_result"
    }
   ],
   "source": [
    "mean_squared_error(f,g,squared=False)"
   ]
  },
  {
   "cell_type": "code",
   "execution_count": 7,
   "id": "255e077e-3c70-4e58-8f23-971ed8f5a78d",
   "metadata": {},
   "outputs": [
    {
     "data": {
      "text/plain": [
       "(134692,)"
      ]
     },
     "execution_count": 7,
     "metadata": {},
     "output_type": "execute_result"
    }
   ],
   "source": [
    "b.shape"
   ]
  },
  {
   "cell_type": "code",
   "execution_count": 148,
   "id": "2bc9761c-821f-4d4d-b307-667aee82a245",
   "metadata": {},
   "outputs": [
    {
     "data": {
      "text/plain": [
       "2.0"
      ]
     },
     "execution_count": 148,
     "metadata": {},
     "output_type": "execute_result"
    }
   ],
   "source": [
    "np.around(17 / 9)"
   ]
  },
  {
   "cell_type": "code",
   "execution_count": 8,
   "id": "7a92b058-e5d2-47bf-b51c-13d6aa39784e",
   "metadata": {},
   "outputs": [],
   "source": [
    "\n",
    "results = {\"v1\":None,\"v2\":None}\n",
    "\n",
    "#NN:\n",
    "TRUTH_TRAIN_IDENTIFIER = \"./multi_NN_{}/specie_{}_true_train_complete.npy\"\n",
    "TRUTH_TEST_IDENTIFIER = \"./multi_NN_{}/specie_{}_true_test.npy\"\n",
    "FULL_TRAIN_IDENTIFIER = \"./multi_NN_{}/specie_{}_model_no_{}_predictions_train_complete.npy\"\n",
    "FULL_TEST_IDENTIFIER = \"./multi_NN_{}/specie_{}_model_no_{}_predictions_test.npy\"\n",
    "ONE_HOT_IDENTIFIER = \"./multi_NN_{}/membership_specie_{}_model_{}_one_hot_train.npy\"\n",
    "\n",
    "\n",
    "\"\"\"\n",
    "TRUTH_TRAIN_IDENTIFIER = \"./multi_NN_{}/specie_{}_true_train_complete.npy\"\n",
    "TRUTH_TEST_IDENTIFIER = \"./multi_NN_{}/specie_{}_true_test.npy\"\n",
    "FULL_TRAIN_IDENTIFIER = \"./multi_kernel_{}/specie_{}_model_no_{}_full_test_pred.npy\"\n",
    "FULL_TEST_IDENTIFIER = \"./multi_kernel_{}/specie_{}_model_no_{}_test_pred.npy\"\n",
    "ONE_HOT_IDENTIFIER = \"./multi_kernel_{}/specie_{}_model_no_{}_one_hot.npy\"\n",
    "\"\"\"\n",
    "\n",
    "\n",
    "\n",
    "for degree in [\"v1\",\"v2\"]:\n",
    "    train_true = {}\n",
    "    test_true = {}\n",
    "    pred_train = {}\n",
    "    pred_test = {}\n",
    "    one_hot = {}\n",
    "    means_train = {}\n",
    "    means_test = {}\n",
    "    residuals_train = {}\n",
    "    residuals_test = {}\n",
    "   \n",
    "    \n",
    "    for specie in [1,6,7,8]:\n",
    "        train_true[specie] = np.load(TRUTH_TRAIN_IDENTIFIER.format(degree,specie))\n",
    "        test_true[specie] = np.load(TRUTH_TEST_IDENTIFIER.format(degree,specie))\n",
    "        pred_train[specie] = []\n",
    "        pred_test[specie] = []\n",
    "        one_hot[specie] = []\n",
    "        for model in range(16):\n",
    "            pred_train[specie].append(np.load(FULL_TRAIN_IDENTIFIER.format(degree,specie,model)))\n",
    "            pred_test[specie].append(np.load(FULL_TEST_IDENTIFIER.format(degree,specie,model)))\n",
    "            one_hot[specie].append(np.load(ONE_HOT_IDENTIFIER.format(degree,specie,model)))\n",
    "        \n",
    "       \n",
    "        pred_train[specie] = np.vstack(pred_train[specie]).T\n",
    "        pred_test[specie] = np.vstack(pred_test[specie]).T\n",
    "        one_hot[specie] = np.vstack(one_hot[specie]).T\n",
    "        means_train[specie] = np.mean(pred_train[specie],axis=1)\n",
    "        means_test[specie] = np.mean(pred_test[specie],axis=1)\n",
    "        #residuals_train[specie] = np.abs(train_true[specie]- means[specie])\n",
    "    \n",
    "    results[degree] = {\"train_true\":train_true,\"test_true\":test_true,\"means_train\":means_train,\"means_test\":means_test,\"pred_train\":pred_train,\"pred_test\":pred_test,\"one_hot\":one_hot}"
   ]
  },
  {
   "cell_type": "code",
   "execution_count": 9,
   "id": "acad05a5-db26-4287-b6f1-a9e654b551c0",
   "metadata": {},
   "outputs": [
    {
     "data": {
      "text/plain": [
       "array([[0.07545509, 0.13531934, 0.10904534, ..., 0.01391235, 0.09623394,\n",
       "        0.03887014],\n",
       "       [0.07540607, 0.13528755, 0.10903713, ..., 0.01380014, 0.0961101 ,\n",
       "        0.03891771],\n",
       "       [0.07540404, 0.13528233, 0.1090202 , ..., 0.01377803, 0.09612086,\n",
       "        0.0389397 ],\n",
       "       ...,\n",
       "       [0.07858664, 0.31956719, 0.29038829, ..., 0.05152736, 0.09751837,\n",
       "        0.03976812],\n",
       "       [0.07841407, 0.3196044 , 0.29033115, ..., 0.05155682, 0.09757243,\n",
       "        0.03973988],\n",
       "       [0.07865021, 0.31953269, 0.29041752, ..., 0.05150369, 0.09751635,\n",
       "        0.0398359 ]])"
      ]
     },
     "execution_count": 9,
     "metadata": {},
     "output_type": "execute_result"
    }
   ],
   "source": [
    "np.abs(results[\"v1\"][\"pred_train\"][1] - results[\"v1\"][\"means_train\"][1].reshape(-1,1))"
   ]
  },
  {
   "cell_type": "code",
   "execution_count": 10,
   "id": "1e24254a-d225-44d9-8918-2d1b703d7789",
   "metadata": {},
   "outputs": [],
   "source": [
    "import matplotlib.pyplot as plt"
   ]
  },
  {
   "cell_type": "code",
   "execution_count": 11,
   "id": "d24d5870-2898-4fa8-bcd6-07e4501dba3e",
   "metadata": {},
   "outputs": [
    {
     "data": {
      "image/png": "[encoded data removed]",
      "text/plain": [
       "<Figure size 432x288 with 1 Axes>"
      ]
     },
     "metadata": {
      "needs_background": "light"
     },
     "output_type": "display_data"
    }
   ],
   "source": [
    "plt.scatter(np.std(results[\"v1\"][\"pred_train\"][1],axis=1),np.abs(results[\"v1\"][\"means_train\"][1]-results[\"v1\"][\"train_true\"][1]),s=1)\n",
    "plt.plot(np.logspace(-2,1),np.logspace(-2,1))\n",
    "plt.yscale(\"log\")\n",
    "plt.xscale(\"log\")\n"
   ]
  },
  {
   "cell_type": "code",
   "execution_count": 12,
   "id": "fb36e33c-558c-424e-94c8-3a8119afed58",
   "metadata": {},
   "outputs": [
    {
     "data": {
      "image/png": "[encoded data removed]",
      "text/plain": [
       "<Figure size 432x288 with 1 Axes>"
      ]
     },
     "metadata": {
      "needs_background": "light"
     },
     "output_type": "display_data"
    }
   ],
   "source": [
    "plt.scatter(np.std(results[\"v2\"][\"pred_train\"][1],axis=1),np.abs(results[\"v2\"][\"means_train\"][1]-results[\"v2\"][\"train_true\"][1]),s=1)\n",
    "plt.plot(np.logspace(-2,1),np.logspace(-2,1))\n",
    "plt.yscale(\"log\")\n",
    "plt.xscale(\"log\")"
   ]
  },
  {
   "cell_type": "code",
   "execution_count": 13,
   "id": "e3798bab-5bcf-4821-be52-89f6e233d526",
   "metadata": {},
   "outputs": [
    {
     "data": {
      "image/png": "[encoded data removed]",
      "text/plain": [
       "<Figure size 432x288 with 1 Axes>"
      ]
     },
     "metadata": {
      "needs_background": "light"
     },
     "output_type": "display_data"
    }
   ],
   "source": [
    "plt.scatter(3*np.std(results[\"v2\"][\"pred_train\"][1],axis=1),np.abs(results[\"v2\"][\"means_train\"][1]-results[\"v2\"][\"train_true\"][1]),s=1)\n",
    "plt.plot(np.logspace(-2,1),np.logspace(-2,1))\n",
    "plt.yscale(\"log\")\n",
    "plt.xscale(\"log\")"
   ]
  },
  {
   "cell_type": "code",
   "execution_count": null,
   "id": "f3610f59-50cc-425e-a83e-93ecc1713d96",
   "metadata": {},
   "outputs": [],
   "source": []
  },
  {
   "cell_type": "code",
   "execution_count": null,
   "id": "a3718e83-9e8e-4f73-924c-cf6df8872648",
   "metadata": {},
   "outputs": [],
   "source": []
  },
  {
   "cell_type": "code",
   "execution_count": 14,
   "id": "d8f83fae-83b9-47c0-a994-aae5d1935953",
   "metadata": {
    "tags": []
   },
   "outputs": [
    {
     "ename": "AxisError",
     "evalue": "axis 1 is out of bounds for array of dimension 0",
     "output_type": "error",
     "traceback": [
      "\u001b[0;31m---------------------------------------------------------------------------\u001b[0m",
      "\u001b[0;31mAxisError\u001b[0m                                 Traceback (most recent call last)",
      "\u001b[0;32m/tmp/ipykernel_13340/3975497482.py\u001b[0m in \u001b[0;36m<module>\u001b[0;34m\u001b[0m\n\u001b[1;32m      3\u001b[0m     \u001b[0;32mreturn\u001b[0m \u001b[0mcomb\u001b[0m\u001b[0;34m(\u001b[0m\u001b[0mn\u001b[0m\u001b[0;34m,\u001b[0m\u001b[0mk\u001b[0m\u001b[0;34m)\u001b[0m \u001b[0;34m*\u001b[0m \u001b[0mp\u001b[0m \u001b[0;34m**\u001b[0m \u001b[0mk\u001b[0m \u001b[0;34m*\u001b[0m \u001b[0;34m(\u001b[0m\u001b[0;36m1\u001b[0m\u001b[0;34m-\u001b[0m\u001b[0mp\u001b[0m\u001b[0;34m)\u001b[0m \u001b[0;34m**\u001b[0m \u001b[0;34m(\u001b[0m\u001b[0mn\u001b[0m\u001b[0;34m-\u001b[0m\u001b[0mk\u001b[0m\u001b[0;34m)\u001b[0m\u001b[0;34m\u001b[0m\u001b[0;34m\u001b[0m\u001b[0m\n\u001b[1;32m      4\u001b[0m \u001b[0;34m\u001b[0m\u001b[0m\n\u001b[0;32m----> 5\u001b[0;31m \u001b[0mplt\u001b[0m\u001b[0;34m.\u001b[0m\u001b[0mhist\u001b[0m\u001b[0;34m(\u001b[0m\u001b[0mnp\u001b[0m\u001b[0;34m.\u001b[0m\u001b[0msum\u001b[0m\u001b[0;34m(\u001b[0m\u001b[0mone_hot\u001b[0m\u001b[0;34m,\u001b[0m\u001b[0maxis\u001b[0m\u001b[0;34m=\u001b[0m\u001b[0;36m1\u001b[0m\u001b[0;34m)\u001b[0m\u001b[0;34m,\u001b[0m\u001b[0mdensity\u001b[0m\u001b[0;34m=\u001b[0m\u001b[0;32mTrue\u001b[0m\u001b[0;34m)\u001b[0m\u001b[0;34m\u001b[0m\u001b[0;34m\u001b[0m\u001b[0m\n\u001b[0m\u001b[1;32m      6\u001b[0m \u001b[0mplt\u001b[0m\u001b[0;34m.\u001b[0m\u001b[0mscatter\u001b[0m\u001b[0;34m(\u001b[0m\u001b[0;34m[\u001b[0m\u001b[0mi\u001b[0m \u001b[0;32mfor\u001b[0m \u001b[0mi\u001b[0m \u001b[0;32min\u001b[0m \u001b[0mrange\u001b[0m\u001b[0;34m(\u001b[0m\u001b[0;36m5\u001b[0m\u001b[0;34m,\u001b[0m\u001b[0;36m17\u001b[0m\u001b[0;34m)\u001b[0m\u001b[0;34m]\u001b[0m\u001b[0;34m,\u001b[0m\u001b[0;34m[\u001b[0m\u001b[0mbernoulli\u001b[0m\u001b[0;34m(\u001b[0m\u001b[0;36m16\u001b[0m\u001b[0;34m,\u001b[0m\u001b[0mi\u001b[0m\u001b[0;34m,\u001b[0m\u001b[0;36m0.75\u001b[0m\u001b[0;34m)\u001b[0m \u001b[0;32mfor\u001b[0m \u001b[0mi\u001b[0m \u001b[0;32min\u001b[0m \u001b[0mrange\u001b[0m\u001b[0;34m(\u001b[0m\u001b[0;36m5\u001b[0m\u001b[0;34m,\u001b[0m\u001b[0;36m17\u001b[0m\u001b[0;34m)\u001b[0m\u001b[0;34m]\u001b[0m\u001b[0;34m,\u001b[0m\u001b[0mcolor\u001b[0m\u001b[0;34m=\u001b[0m\u001b[0;34m\"tab:red\"\u001b[0m\u001b[0;34m,\u001b[0m\u001b[0;34m)\u001b[0m\u001b[0;34m\u001b[0m\u001b[0;34m\u001b[0m\u001b[0m\n",
      "\u001b[0;32m<__array_function__ internals>\u001b[0m in \u001b[0;36msum\u001b[0;34m(*args, **kwargs)\u001b[0m\n",
      "\u001b[0;32m/ssd/scratch/kellner/miniconda3/lib/python3.8/site-packages/numpy/core/fromnumeric.py\u001b[0m in \u001b[0;36msum\u001b[0;34m(a, axis, dtype, out, keepdims, initial, where)\u001b[0m\n\u001b[1;32m   2257\u001b[0m         \u001b[0;32mreturn\u001b[0m \u001b[0mres\u001b[0m\u001b[0;34m\u001b[0m\u001b[0;34m\u001b[0m\u001b[0m\n\u001b[1;32m   2258\u001b[0m \u001b[0;34m\u001b[0m\u001b[0m\n\u001b[0;32m-> 2259\u001b[0;31m     return _wrapreduction(a, np.add, 'sum', axis, dtype, out, keepdims=keepdims,\n\u001b[0m\u001b[1;32m   2260\u001b[0m                           initial=initial, where=where)\n\u001b[1;32m   2261\u001b[0m \u001b[0;34m\u001b[0m\u001b[0m\n",
      "\u001b[0;32m/ssd/scratch/kellner/miniconda3/lib/python3.8/site-packages/numpy/core/fromnumeric.py\u001b[0m in \u001b[0;36m_wrapreduction\u001b[0;34m(obj, ufunc, method, axis, dtype, out, **kwargs)\u001b[0m\n\u001b[1;32m     84\u001b[0m                 \u001b[0;32mreturn\u001b[0m \u001b[0mreduction\u001b[0m\u001b[0;34m(\u001b[0m\u001b[0maxis\u001b[0m\u001b[0;34m=\u001b[0m\u001b[0maxis\u001b[0m\u001b[0;34m,\u001b[0m \u001b[0mout\u001b[0m\u001b[0;34m=\u001b[0m\u001b[0mout\u001b[0m\u001b[0;34m,\u001b[0m \u001b[0;34m**\u001b[0m\u001b[0mpasskwargs\u001b[0m\u001b[0;34m)\u001b[0m\u001b[0;34m\u001b[0m\u001b[0;34m\u001b[0m\u001b[0m\n\u001b[1;32m     85\u001b[0m \u001b[0;34m\u001b[0m\u001b[0m\n\u001b[0;32m---> 86\u001b[0;31m     \u001b[0;32mreturn\u001b[0m \u001b[0mufunc\u001b[0m\u001b[0;34m.\u001b[0m\u001b[0mreduce\u001b[0m\u001b[0;34m(\u001b[0m\u001b[0mobj\u001b[0m\u001b[0;34m,\u001b[0m \u001b[0maxis\u001b[0m\u001b[0;34m,\u001b[0m \u001b[0mdtype\u001b[0m\u001b[0;34m,\u001b[0m \u001b[0mout\u001b[0m\u001b[0;34m,\u001b[0m \u001b[0;34m**\u001b[0m\u001b[0mpasskwargs\u001b[0m\u001b[0;34m)\u001b[0m\u001b[0;34m\u001b[0m\u001b[0;34m\u001b[0m\u001b[0m\n\u001b[0m\u001b[1;32m     87\u001b[0m \u001b[0;34m\u001b[0m\u001b[0m\n\u001b[1;32m     88\u001b[0m \u001b[0;34m\u001b[0m\u001b[0m\n",
      "\u001b[0;31mAxisError\u001b[0m: axis 1 is out of bounds for array of dimension 0"
     ]
    }
   ],
   "source": [
    "from math import comb\n",
    "def bernoulli(n,k,p):\n",
    "    return comb(n,k) * p ** k * (1-p) ** (n-k)\n",
    "\n",
    "plt.hist(np.sum(one_hot,axis=1),density=True)\n",
    "plt.scatter([i for i in range(5,17)],[bernoulli(16,i,0.75) for i in range(5,17)],color=\"tab:red\",)"
   ]
  },
  {
   "cell_type": "code",
   "execution_count": null,
   "id": "6425c50a-a28c-46bb-85dd-dcfe03220686",
   "metadata": {},
   "outputs": [],
   "source": [
    "\n",
    "    "
   ]
  },
  {
   "cell_type": "code",
   "execution_count": 15,
   "id": "835ab84e-4049-4a9b-89db-2abceaf1d827",
   "metadata": {},
   "outputs": [],
   "source": [
    "probas = [bernoulli(16,i,0.75) for i in range(5,17)]"
   ]
  },
  {
   "cell_type": "code",
   "execution_count": null,
   "id": "bd0aaa75-8204-44ab-a5f0-7666a5c80a1a",
   "metadata": {},
   "outputs": [],
   "source": []
  },
  {
   "cell_type": "code",
   "execution_count": null,
   "id": "e5eaed75-bca3-4f4c-a724-6020e11f9617",
   "metadata": {},
   "outputs": [],
   "source": []
  },
  {
   "cell_type": "code",
   "execution_count": 16,
   "id": "be758c0b-6a40-48da-b22a-75d66ec2cb9d",
   "metadata": {},
   "outputs": [
    {
     "name": "stdout",
     "output_type": "stream",
     "text": [
      "10\n",
      "11\n",
      "12\n",
      "13\n",
      "14\n",
      "15\n",
      "16\n"
     ]
    }
   ],
   "source": [
    "for i in range(10,17): print(i)"
   ]
  },
  {
   "cell_type": "code",
   "execution_count": null,
   "id": "fe328f3b-9e4e-40d6-89e9-0ff4c6b68f2f",
   "metadata": {},
   "outputs": [],
   "source": [
    "alpha_as_func_of_points = []\n",
    "\n",
    "for i in range"
   ]
  },
  {
   "cell_type": "code",
   "execution_count": 80,
   "id": "5aaefe3b-c6c5-40d9-a080-6feb4430d867",
   "metadata": {},
   "outputs": [
    {
     "data": {
      "text/plain": [
       "24513"
      ]
     },
     "execution_count": 80,
     "metadata": {},
     "output_type": "execute_result"
    }
   ],
   "source": [
    "np.sum(np.sum(one_hot,axis=1) < 11)"
   ]
  },
  {
   "cell_type": "code",
   "execution_count": 15,
   "id": "20b8360f-4033-4fd3-82c2-5e75920aaa53",
   "metadata": {},
   "outputs": [
    {
     "ename": "NameError",
     "evalue": "name 'commitee_pred' is not defined",
     "output_type": "error",
     "traceback": [
      "\u001b[0;31m---------------------------------------------------------------------------\u001b[0m",
      "\u001b[0;31mNameError\u001b[0m                                 Traceback (most recent call last)",
      "\u001b[0;32m/tmp/ipykernel_12926/3308839296.py\u001b[0m in \u001b[0;36m<module>\u001b[0;34m\u001b[0m\n\u001b[0;32m----> 1\u001b[0;31m \u001b[0mmasked_commitee_pred\u001b[0m \u001b[0;34m=\u001b[0m \u001b[0mnp\u001b[0m\u001b[0;34m.\u001b[0m\u001b[0mma\u001b[0m\u001b[0;34m.\u001b[0m\u001b[0mmasked_array\u001b[0m\u001b[0;34m(\u001b[0m\u001b[0mdata\u001b[0m\u001b[0;34m=\u001b[0m\u001b[0mcommitee_pred\u001b[0m\u001b[0;34m,\u001b[0m\u001b[0mmask\u001b[0m\u001b[0;34m=\u001b[0m\u001b[0mone_hot\u001b[0m\u001b[0;34m)\u001b[0m\u001b[0;34m\u001b[0m\u001b[0;34m\u001b[0m\u001b[0m\n\u001b[0m",
      "\u001b[0;31mNameError\u001b[0m: name 'commitee_pred' is not defined"
     ]
    }
   ],
   "source": []
  },
  {
   "cell_type": "code",
   "execution_count": 93,
   "id": "b0c5fc32-a3ff-4a46-888f-395a36cd5bc7",
   "metadata": {},
   "outputs": [
    {
     "data": {
      "text/plain": [
       "masked_array(data=[0.07249109, 0.07249792, 0.9043318 , ..., 0.12076808,\n",
       "                   0.12079035, 0.1207693 ],\n",
       "             mask=False,\n",
       "       fill_value=1e+20)"
      ]
     },
     "execution_count": 93,
     "metadata": {},
     "output_type": "execute_result"
    }
   ],
   "source": [
    "(masked_commitee_pred[smaller5].mean(axis=1)-reference[smaller5])**2"
   ]
  },
  {
   "cell_type": "code",
   "execution_count": 119,
   "id": "8810dfd8-24ab-4dfc-8dfa-747ba07fc4eb",
   "metadata": {},
   "outputs": [
    {
     "data": {
      "text/plain": [
       "5.407140210206114"
      ]
     },
     "execution_count": 119,
     "metadata": {},
     "output_type": "execute_result"
    }
   ],
   "source": []
  },
  {
   "cell_type": "code",
   "execution_count": null,
   "id": "b19159f7-63f7-432f-916c-e62cbb2113e3",
   "metadata": {},
   "outputs": [],
   "source": []
  },
  {
   "cell_type": "code",
   "execution_count": 85,
   "id": "92ece5ca-fcf9-4cae-b3a7-995ee51e71aa",
   "metadata": {},
   "outputs": [
    {
     "data": {
      "text/plain": [
       "masked_array(data=[0.00504775, 0.00504775, 0.01604163, ..., 0.00526478,\n",
       "                   0.00526449, 0.00526487],\n",
       "             mask=False,\n",
       "       fill_value=1e+20)"
      ]
     },
     "execution_count": 85,
     "metadata": {},
     "output_type": "execute_result"
    }
   ],
   "source": [
    "masked_commitee_pred[smaller5].var(axis=1)"
   ]
  },
  {
   "cell_type": "code",
   "execution_count": 4,
   "id": "ed5d35fa-ea7a-43a0-8807-980530137905",
   "metadata": {},
   "outputs": [
    {
     "ename": "NameError",
     "evalue": "name 'yvars_data' is not defined",
     "output_type": "error",
     "traceback": [
      "\u001b[0;31m---------------------------------------------------------------------------\u001b[0m",
      "\u001b[0;31mNameError\u001b[0m                                 Traceback (most recent call last)",
      "\u001b[0;32m/tmp/ipykernel_27463/1467173870.py\u001b[0m in \u001b[0;36m<module>\u001b[0;34m\u001b[0m\n\u001b[0;32m----> 1\u001b[0;31m \u001b[0;32mdef\u001b[0m \u001b[0mneglog_likelihood_gamma\u001b[0m\u001b[0;34m(\u001b[0m\u001b[0mx\u001b[0m\u001b[0;34m,\u001b[0m\u001b[0myvars\u001b[0m\u001b[0;34m=\u001b[0m\u001b[0myvars_data\u001b[0m\u001b[0;34m,\u001b[0m\u001b[0mymeans\u001b[0m\u001b[0;34m=\u001b[0m\u001b[0mymeans_data\u001b[0m\u001b[0;34m,\u001b[0m\u001b[0mytrue\u001b[0m\u001b[0;34m=\u001b[0m\u001b[0mytrue_data\u001b[0m\u001b[0;34m)\u001b[0m\u001b[0;34m:\u001b[0m\u001b[0;34m\u001b[0m\u001b[0;34m\u001b[0m\u001b[0m\n\u001b[0m\u001b[1;32m      2\u001b[0m     \u001b[0malpha\u001b[0m \u001b[0;34m=\u001b[0m \u001b[0mx\u001b[0m\u001b[0;34m[\u001b[0m\u001b[0;36m0\u001b[0m\u001b[0;34m]\u001b[0m\u001b[0;34m\u001b[0m\u001b[0;34m\u001b[0m\u001b[0m\n\u001b[1;32m      3\u001b[0m     \u001b[0mbeta\u001b[0m \u001b[0;34m=\u001b[0m \u001b[0mx\u001b[0m\u001b[0;34m[\u001b[0m\u001b[0;36m1\u001b[0m\u001b[0;34m]\u001b[0m\u001b[0;34m\u001b[0m\u001b[0;34m\u001b[0m\u001b[0m\n\u001b[1;32m      4\u001b[0m     \u001b[0mgamma\u001b[0m \u001b[0;34m=\u001b[0m \u001b[0mx\u001b[0m\u001b[0;34m[\u001b[0m\u001b[0;36m2\u001b[0m\u001b[0;34m]\u001b[0m\u001b[0;34m\u001b[0m\u001b[0;34m\u001b[0m\u001b[0m\n\u001b[1;32m      5\u001b[0m     \u001b[0;31m#beta = x[1]\u001b[0m\u001b[0;34m\u001b[0m\u001b[0;34m\u001b[0m\u001b[0;34m\u001b[0m\u001b[0m\n",
      "\u001b[0;31mNameError\u001b[0m: name 'yvars_data' is not defined"
     ]
    }
   ],
   "source": [
    "def neglog_likelihood_gamma(x,yvars=yvars_data,ymeans=ymeans_data,ytrue=ytrue_data):\n",
    "    alpha = x[0]\n",
    "    beta = x[1]\n",
    "    gamma = x[2]\n",
    "    #beta = x[1]\n",
    "    #gamma = x[2]\n",
    "    ll = np.mean(-0.5*np.log(np.pi*((alpha**2*yvars + beta**2)**(gamma+2))) - (ymeans-ytrue)**2/(2*((alpha**2 * yvars + beta **2)**(gamma+2) )))\n",
    "    return -ll\n",
    "\n",
    "def neglog_likelihood_gamma_2(x,yvars=yvars_data,ymeans=ymeans_data,ytrue=ytrue_data):\n",
    "    alpha = x[0]\n",
    "    beta = x[1]\n",
    "    gamma = x[2]\n",
    "    #beta = x[1]\n",
    "    #gamma = x[2]\n",
    "    ll = np.mean(-0.5*np.log(np.pi*((alpha**2*yvars)**(gamma+2)+ beta**2)) - (ymeans-ytrue)**2/(2*((alpha**2 * yvars)**(gamma+2) + beta **2)))\n",
    "    return -ll\n",
    "\n",
    "def neglog_likelihood_gamma_3(x,yvars=yvars_data,ymeans=ymeans_data,ytrue=ytrue_data):\n",
    "    alpha = x[0]\n",
    "    gamma = x[1]\n",
    "    #beta = x[1]\n",
    "    #gamma = x[2]\n",
    "    ll = np.mean(-0.5*np.log(np.pi*((alpha**2*yvars)**(gamma+2))) - (ymeans-ytrue)**2/(2*((alpha**2 * yvars)**(gamma+2))))\n",
    "    return -ll"
   ]
  },
  {
   "cell_type": "code",
   "execution_count": null,
   "id": "9888fe49-0b14-4d9f-9eaa-3e5043955fd3",
   "metadata": {},
   "outputs": [],
   "source": [
    "plt.scatter(np.std(results[\"v2\"][\"pred_train\"][1],axis=1),np.abs(results[\"v2\"][\"means_train\"][1]-results[\"v2\"][\"train_true\"][1]),s=1)"
   ]
  },
  {
   "cell_type": "code",
   "execution_count": 5,
   "id": "09d4a4d0-b125-49f9-b4c2-85542849d3ec",
   "metadata": {},
   "outputs": [],
   "source": [
    "from scipy.optimize import minimize\n",
    "\n",
    "\n",
    "\n",
    "commitee_pred = np.load(\"1H_commitee_prediction.npy\")\n",
    "reference = np.load(\"1H_reference_shifts.npy\")\n",
    "one_hot = np.load(\"1H_train_binary_1_hot_N_sample_M_models.npy\")\n",
    "smaller5 = np.sum(one_hot,axis=1) < 11\n",
    "masked_commitee_pred = np.ma.masked_array(data=commitee_pred,mask=one_hot)\n",
    "alpha_ref = np.sqrt(np.mean((masked_commitee_pred[smaller5].mean(axis=1)-reference[smaller5])**2/masked_commitee_pred[smaller5].var(ddof=1,axis=1)))\n",
    "\n",
    "yvars_data = masked_commitee_pred[smaller5].var(ddof=1,axis=1)\n",
    "ymeans_data = masked_commitee_pred[smaller5].mean(axis=1)\n",
    "ytrue_data = reference[smaller5]\n",
    "\n",
    "def neglog_likelihood(x,yvars=yvars_data,ymeans=ymeans_data,ytrue=ytrue_data):\n",
    "    alpha = x[0]\n",
    "    #beta = x[1]\n",
    "    #gamma = x[2]\n",
    "    ll = np.mean(-0.5*np.log(np.pi*(alpha**2)*yvars) - (ymeans-ytrue)**2/(2*(alpha**2 * yvars)))\n",
    "    return -ll\n"
   ]
  },
  {
   "cell_type": "code",
   "execution_count": 6,
   "id": "fc2053fc-942d-4016-8cd4-307b7e25b811",
   "metadata": {},
   "outputs": [
    {
     "ename": "NameError",
     "evalue": "name 'neglog_likelihood_gamma_2' is not defined",
     "output_type": "error",
     "traceback": [
      "\u001b[0;31m---------------------------------------------------------------------------\u001b[0m",
      "\u001b[0;31mNameError\u001b[0m                                 Traceback (most recent call last)",
      "\u001b[0;32m/tmp/ipykernel_26259/2376792074.py\u001b[0m in \u001b[0;36m<module>\u001b[0;34m\u001b[0m\n\u001b[0;32m----> 1\u001b[0;31m \u001b[0mminimize\u001b[0m\u001b[0;34m(\u001b[0m\u001b[0mneglog_likelihood_gamma_2\u001b[0m\u001b[0;34m,\u001b[0m\u001b[0mx0\u001b[0m\u001b[0;34m=\u001b[0m\u001b[0mnp\u001b[0m\u001b[0;34m.\u001b[0m\u001b[0marray\u001b[0m\u001b[0;34m(\u001b[0m\u001b[0;34m[\u001b[0m\u001b[0;36m1.\u001b[0m\u001b[0;34m,\u001b[0m\u001b[0;36m1.\u001b[0m\u001b[0;34m,\u001b[0m\u001b[0;36m1.\u001b[0m\u001b[0;34m]\u001b[0m\u001b[0;34m)\u001b[0m\u001b[0;34m)\u001b[0m\u001b[0;34m\u001b[0m\u001b[0;34m\u001b[0m\u001b[0m\n\u001b[0m",
      "\u001b[0;31mNameError\u001b[0m: name 'neglog_likelihood_gamma_2' is not defined"
     ]
    }
   ],
   "source": [
    "minimize(neglog_likelihood_gamma_2,x0=np.array([1.,1.,1.]))"
   ]
  },
  {
   "cell_type": "code",
   "execution_count": 7,
   "id": "441d227a-64d8-463d-91f7-6c7208629dce",
   "metadata": {},
   "outputs": [
    {
     "data": {
      "text/plain": [
       "2.9412796508614267"
      ]
     },
     "execution_count": 7,
     "metadata": {},
     "output_type": "execute_result"
    }
   ],
   "source": [
    "neglog_likelihood(np.array([100.]))"
   ]
  },
  {
   "cell_type": "code",
   "execution_count": 17,
   "id": "0287d3b4-0f69-43d9-9454-711072892e98",
   "metadata": {},
   "outputs": [],
   "source": []
  },
  {
   "cell_type": "code",
   "execution_count": 8,
   "id": "2486b5f4-dc95-4ada-9b0d-d89f8270defe",
   "metadata": {},
   "outputs": [
    {
     "data": {
      "text/plain": [
       "      fun: 0.5223679479352333\n",
       " hess_inv: array([[14.41370751]])\n",
       "      jac: array([-1.74343586e-06])\n",
       "  message: 'Optimization terminated successfully.'\n",
       "     nfev: 26\n",
       "      nit: 12\n",
       "     njev: 13\n",
       "   status: 0\n",
       "  success: True\n",
       "        x: array([5.40711458])"
      ]
     },
     "execution_count": 8,
     "metadata": {},
     "output_type": "execute_result"
    }
   ],
   "source": [
    "minimize(neglog_likelihood,x0=np.array([1.]))"
   ]
  },
  {
   "cell_type": "markdown",
   "id": "7c4834a1-4239-4018-ab36-268ed8840014",
   "metadata": {},
   "source": [
    "We find the closed form solution"
   ]
  },
  {
   "cell_type": "code",
   "execution_count": 7,
   "id": "d47e354b-ea89-47d4-a8dc-b249d8c29ad4",
   "metadata": {},
   "outputs": [],
   "source": [
    "from scipy.optimize import minimize"
   ]
  },
  {
   "cell_type": "code",
   "execution_count": null,
   "id": "694ec75c-98d3-4111-a9da-9cdca767b063",
   "metadata": {},
   "outputs": [],
   "source": []
  },
  {
   "cell_type": "code",
   "execution_count": 196,
   "id": "b418cec3-8293-471d-a648-1312bcad54a1",
   "metadata": {},
   "outputs": [
    {
     "data": {
      "text/plain": [
       "834.4967802030027"
      ]
     },
     "execution_count": 196,
     "metadata": {},
     "output_type": "execute_result"
    }
   ],
   "source": [
    "neglog_likelihood_gamma(np.array([100.,0.,1.]))"
   ]
  },
  {
   "cell_type": "code",
   "execution_count": 53,
   "id": "cba4ebf0-4245-4edc-9cb5-357842890657",
   "metadata": {},
   "outputs": [
    {
     "data": {
      "text/plain": [
       "      fun: 0.40484529204736025\n",
       " hess_inv: array([[84.59082015, 10.21219635],\n",
       "       [10.21219635,  1.38444868]])\n",
       "      jac: array([-8.30367208e-06,  6.90668821e-06])\n",
       "  message: 'Optimization terminated successfully.'\n",
       "     nfev: 51\n",
       "      nit: 15\n",
       "     njev: 17\n",
       "   status: 0\n",
       "  success: True\n",
       "        x: array([ 1.70574255, -1.60818739])"
      ]
     },
     "execution_count": 53,
     "metadata": {},
     "output_type": "execute_result"
    }
   ],
   "source": [
    "minimize(neglog_likelihood_gamma_3,x0=np.array([1.,-1.]))"
   ]
  },
  {
   "cell_type": "code",
   "execution_count": 38,
   "id": "caf64b7d-da0b-42c0-ae22-3f63821ec5f4",
   "metadata": {},
   "outputs": [
    {
     "data": {
      "text/plain": [
       "      fun: 0.3995387136582517\n",
       " hess_inv: array([[98.81484932,  4.10141489, 45.23511524],\n",
       "       [ 4.10141489,  1.14893892,  5.06222957],\n",
       "       [45.23511524,  5.06222957, 33.39513965]])\n",
       "      jac: array([ 2.33575702e-06,  9.35792923e-06, -5.48735261e-06])\n",
       "  message: 'Optimization terminated successfully.'\n",
       "     nfev: 132\n",
       "      nit: 28\n",
       "     njev: 33\n",
       "   status: 0\n",
       "  success: True\n",
       "        x: array([ 2.51258894,  0.38170234, -1.09009478])"
      ]
     },
     "execution_count": 38,
     "metadata": {},
     "output_type": "execute_result"
    }
   ],
   "source": [
    "minimize(neglog_likelihood_gamma_2,x0=np.array([1.,1.,1.]))"
   ]
  },
  {
   "cell_type": "code",
   "execution_count": 39,
   "id": "e0a5b972-4381-462a-bde8-4c0642419e4c",
   "metadata": {},
   "outputs": [
    {
     "data": {
      "text/plain": [
       "      fun: 0.39954101101193207\n",
       " hess_inv: array([[53.18059379, 12.22762613, 31.12163993],\n",
       "       [12.22762613, 12.85136839, 27.17693058],\n",
       "       [31.12163993, 27.17693058, 58.73576882]])\n",
       "      jac: array([-2.75671482e-07, -9.94652510e-07,  1.26287341e-06])\n",
       "  message: 'Optimization terminated successfully.'\n",
       "     nfev: 188\n",
       "      nit: 35\n",
       "     njev: 47\n",
       "   status: 0\n",
       "  success: True\n",
       "        x: array([ 2.58862742,  0.33212022, -1.13984364])"
      ]
     },
     "execution_count": 39,
     "metadata": {},
     "output_type": "execute_result"
    }
   ],
   "source": [
    "minimize(neglog_likelihood_gamma,x0=np.array([1.,1.,1.]))"
   ]
  },
  {
   "cell_type": "code",
   "execution_count": 21,
   "id": "975f22fd-7319-4128-98c2-96e568fd5406",
   "metadata": {},
   "outputs": [],
   "source": [
    "def rescale_var(var,alpha,beta,gamma):\n",
    "    return np.sqrt((alpha**2*var + beta**2)**(gamma+2))"
   ]
  },
  {
   "cell_type": "code",
   "execution_count": 23,
   "id": "87bee684-b729-4965-821f-7baa9600af6d",
   "metadata": {},
   "outputs": [],
   "source": [
    "commitee_pred = np.load(\"1H_commitee_prediction.npy\")\n",
    "reference = np.load(\"1H_reference_shifts.npy\")\n",
    "one_hot = np.load(\"1H_train_binary_1_hot_N_sample_M_models.npy\")\n",
    "smaller5 = np.sum(one_hot,axis=1) < 11\n",
    "alpha_ref = np.sqrt(np.mean((masked_commitee_pred[smaller5].mean(axis=1)-reference[smaller5])**2/masked_commitee_pred[smaller5].var(ddof=1,axis=1)))"
   ]
  },
  {
   "cell_type": "code",
   "execution_count": 24,
   "id": "3f919136-abe0-435a-8198-f10db563225b",
   "metadata": {},
   "outputs": [
    {
     "data": {
      "image/png": "[encoded data removed]",
      "text/plain": [
       "<Figure size 432x288 with 1 Axes>"
      ]
     },
     "metadata": {
      "needs_background": "light"
     },
     "output_type": "display_data"
    }
   ],
   "source": [
    "plt.scatter(5.4*masked_commitee_pred[smaller5].std(axis=1),np.abs((masked_commitee_pred[smaller5].mean(axis=1)-reference[smaller5])**2),s=1)\n",
    "plt.plot(np.logspace(-2,1),np.logspace(-2,1),c=\"tab:red\")\n",
    "plt.yscale(\"log\")\n",
    "plt.xscale(\"log\")"
   ]
  },
  {
   "cell_type": "code",
   "execution_count": 25,
   "id": "c562130b-29f4-42d7-bbc6-80a3d5d5ec99",
   "metadata": {},
   "outputs": [
    {
     "data": {
      "image/png": "[encoded data removed]",
      "text/plain": [
       "<Figure size 432x288 with 1 Axes>"
      ]
     },
     "metadata": {
      "needs_background": "light"
     },
     "output_type": "display_data"
    }
   ],
   "source": [
    "plt.scatter(5.4*masked_commitee_pred[smaller5].std(axis=1),np.abs((masked_commitee_pred[smaller5].mean(axis=1)-reference[smaller5])),s=1)\n",
    "plt.plot(np.logspace(-2,1),np.logspace(-2,1),c=\"tab:red\")\n",
    "plt.yscale(\"log\")\n",
    "plt.xscale(\"log\")"
   ]
  },
  {
   "cell_type": "code",
   "execution_count": null,
   "id": "93713a57-c06c-4b92-af34-e912e199d9f3",
   "metadata": {},
   "outputs": [],
   "source": [
    "# x: array([ 2.58862742,  0.33212022, -1.13984364])"
   ]
  },
  {
   "cell_type": "code",
   "execution_count": null,
   "id": "28724c9e-a70b-405c-ab8b-0a3e87a5d504",
   "metadata": {},
   "outputs": [],
   "source": []
  },
  {
   "cell_type": "code",
   "execution_count": 11,
   "id": "dfe706c3-8a33-485f-b9fc-272849151bfd",
   "metadata": {},
   "outputs": [
    {
     "ename": "NameError",
     "evalue": "name 'rescale_var' is not defined",
     "output_type": "error",
     "traceback": [
      "\u001b[0;31m---------------------------------------------------------------------------\u001b[0m",
      "\u001b[0;31mNameError\u001b[0m                                 Traceback (most recent call last)",
      "\u001b[0;32m/tmp/ipykernel_26259/439394503.py\u001b[0m in \u001b[0;36m<module>\u001b[0;34m\u001b[0m\n\u001b[1;32m      1\u001b[0m \u001b[0merrors\u001b[0m \u001b[0;34m=\u001b[0m \u001b[0mmasked_commitee_pred\u001b[0m\u001b[0;34m[\u001b[0m\u001b[0msmaller5\u001b[0m\u001b[0;34m]\u001b[0m\u001b[0;34m.\u001b[0m\u001b[0mvar\u001b[0m\u001b[0;34m(\u001b[0m\u001b[0maxis\u001b[0m\u001b[0;34m=\u001b[0m\u001b[0;36m1\u001b[0m\u001b[0;34m,\u001b[0m\u001b[0mddof\u001b[0m\u001b[0;34m=\u001b[0m\u001b[0;36m1\u001b[0m\u001b[0;34m)\u001b[0m\u001b[0;34m\u001b[0m\u001b[0;34m\u001b[0m\u001b[0m\n\u001b[0;32m----> 2\u001b[0;31m \u001b[0mplt\u001b[0m\u001b[0;34m.\u001b[0m\u001b[0mscatter\u001b[0m\u001b[0;34m(\u001b[0m\u001b[0mrescale_var\u001b[0m\u001b[0;34m(\u001b[0m\u001b[0merrors\u001b[0m\u001b[0;34m,\u001b[0m\u001b[0;36m2.58862742\u001b[0m\u001b[0;34m,\u001b[0m\u001b[0;36m0.33212022\u001b[0m\u001b[0;34m,\u001b[0m\u001b[0;34m-\u001b[0m\u001b[0;36m1.13984364\u001b[0m\u001b[0;34m)\u001b[0m\u001b[0;34m,\u001b[0m\u001b[0mnp\u001b[0m\u001b[0;34m.\u001b[0m\u001b[0mabs\u001b[0m\u001b[0;34m(\u001b[0m\u001b[0;34m(\u001b[0m\u001b[0mmasked_commitee_pred\u001b[0m\u001b[0;34m[\u001b[0m\u001b[0msmaller5\u001b[0m\u001b[0;34m]\u001b[0m\u001b[0;34m.\u001b[0m\u001b[0mmean\u001b[0m\u001b[0;34m(\u001b[0m\u001b[0maxis\u001b[0m\u001b[0;34m=\u001b[0m\u001b[0;36m1\u001b[0m\u001b[0;34m)\u001b[0m\u001b[0;34m-\u001b[0m\u001b[0mreference\u001b[0m\u001b[0;34m[\u001b[0m\u001b[0msmaller5\u001b[0m\u001b[0;34m]\u001b[0m\u001b[0;34m)\u001b[0m\u001b[0;34m)\u001b[0m\u001b[0;34m,\u001b[0m\u001b[0ms\u001b[0m\u001b[0;34m=\u001b[0m\u001b[0;36m1\u001b[0m\u001b[0;34m)\u001b[0m\u001b[0;34m\u001b[0m\u001b[0;34m\u001b[0m\u001b[0m\n\u001b[0m\u001b[1;32m      3\u001b[0m \u001b[0mplt\u001b[0m\u001b[0;34m.\u001b[0m\u001b[0mplot\u001b[0m\u001b[0;34m(\u001b[0m\u001b[0mnp\u001b[0m\u001b[0;34m.\u001b[0m\u001b[0mlogspace\u001b[0m\u001b[0;34m(\u001b[0m\u001b[0;34m-\u001b[0m\u001b[0;36m2\u001b[0m\u001b[0;34m,\u001b[0m\u001b[0;36m1\u001b[0m\u001b[0;34m)\u001b[0m\u001b[0;34m,\u001b[0m\u001b[0mnp\u001b[0m\u001b[0;34m.\u001b[0m\u001b[0mlogspace\u001b[0m\u001b[0;34m(\u001b[0m\u001b[0;34m-\u001b[0m\u001b[0;36m2\u001b[0m\u001b[0;34m,\u001b[0m\u001b[0;36m1\u001b[0m\u001b[0;34m)\u001b[0m\u001b[0;34m,\u001b[0m\u001b[0mc\u001b[0m\u001b[0;34m=\u001b[0m\u001b[0;34m\"tab:red\"\u001b[0m\u001b[0;34m)\u001b[0m\u001b[0;34m\u001b[0m\u001b[0;34m\u001b[0m\u001b[0m\n\u001b[1;32m      4\u001b[0m \u001b[0mplt\u001b[0m\u001b[0;34m.\u001b[0m\u001b[0myscale\u001b[0m\u001b[0;34m(\u001b[0m\u001b[0;34m\"log\"\u001b[0m\u001b[0;34m)\u001b[0m\u001b[0;34m\u001b[0m\u001b[0;34m\u001b[0m\u001b[0m\n\u001b[1;32m      5\u001b[0m \u001b[0mplt\u001b[0m\u001b[0;34m.\u001b[0m\u001b[0mxscale\u001b[0m\u001b[0;34m(\u001b[0m\u001b[0;34m\"log\"\u001b[0m\u001b[0;34m)\u001b[0m\u001b[0;34m\u001b[0m\u001b[0;34m\u001b[0m\u001b[0m\n",
      "\u001b[0;31mNameError\u001b[0m: name 'rescale_var' is not defined"
     ]
    }
   ],
   "source": [
    "errors = masked_commitee_pred[smaller5].var(axis=1,ddof=1)\n",
    "plt.scatter(rescale_var(errors,2.58862742,0.33212022,-1.13984364),np.abs((masked_commitee_pred[smaller5].mean(axis=1)-reference[smaller5])),s=1)\n",
    "plt.plot(np.logspace(-2,1),np.logspace(-2,1),c=\"tab:red\")\n",
    "plt.yscale(\"log\")\n",
    "plt.xscale(\"log\")"
   ]
  },
  {
   "cell_type": "code",
   "execution_count": 68,
   "id": "6f439b68-faef-471c-96f0-2afafae932fc",
   "metadata": {},
   "outputs": [
    {
     "data": {
      "text/plain": [
       "(0.0001, 10)"
      ]
     },
     "execution_count": 68,
     "metadata": {},
     "output_type": "execute_result"
    },
    {
     "data": {
      "image/png": "[encoded data removed]",
      "text/plain": [
       "<Figure size 432x288 with 1 Axes>"
      ]
     },
     "metadata": {
      "needs_background": "light"
     },
     "output_type": "display_data"
    }
   ],
   "source": [
    "errors = masked_commitee_pred.var(axis=1,ddof=1)\n",
    "plt.scatter(rescale_var(errors,2.58862742,0.33212022,-1.13984364),np.abs((masked_commitee_pred.mean(axis=1)-reference)),s=0.001)\n",
    "plt.plot(np.logspace(-2,1),np.logspace(-2,1),c=\"tab:red\")\n",
    "plt.yscale(\"log\")\n",
    "plt.xscale(\"log\")\n",
    "plt.xlim(0.28,2)\n",
    "plt.ylim(1e-04,10)"
   ]
  },
  {
   "cell_type": "code",
   "execution_count": 137,
   "id": "efb5f218-54b3-48a1-b902-a9a4903d060d",
   "metadata": {},
   "outputs": [],
   "source": [
    "from matplotlib import pyplot as plt"
   ]
  },
  {
   "cell_type": "code",
   "execution_count": 135,
   "id": "a12a6453-163f-48ef-a492-760e9eb6eab9",
   "metadata": {},
   "outputs": [],
   "source": [
    "from scipy.optimize import minimize\n",
    "\n",
    "\n",
    "\n",
    "commitee_pred = results[\"v2\"][\"pred_train\"][1]\n",
    "reference = results[\"v2\"][\"train_true\"][1]\n",
    "one_hot = results[\"v2\"][\"one_hot\"][1]\n",
    "smaller5 = np.sum(one_hot,axis=1) < 11\n",
    "masked_commitee_pred = np.ma.masked_array(data=commitee_pred,mask=one_hot)\n",
    "alpha_ref = np.sqrt(np.mean((masked_commitee_pred[smaller5].mean(axis=1)-reference[smaller5])**2/masked_commitee_pred[smaller5].var(ddof=1,axis=1)))\n",
    "\n",
    "yvars_data = masked_commitee_pred[smaller5].var(ddof=1,axis=1)\n",
    "ymeans_data = masked_commitee_pred[smaller5].mean(axis=1)\n",
    "ytrue_data = reference[smaller5]"
   ]
  },
  {
   "cell_type": "code",
   "execution_count": 139,
   "id": "f91b6ddf-a73b-4b27-9501-f2db3ba54b30",
   "metadata": {},
   "outputs": [],
   "source": [
    "def neglog_likelihood(x,yvars=yvars_data,ymeans=ymeans_data,ytrue=ytrue_data):\n",
    "    alpha = x[0]\n",
    "    #beta = x[1]\n",
    "    #gamma = x[2]\n",
    "    ll = np.mean(-0.5*np.log(np.pi*(alpha**2)*yvars) - (ymeans-ytrue)**2/(2*(alpha**2 * yvars)))\n",
    "    return -ll\n",
    "\n",
    "\n",
    "def neglog_likelihood_gamma(x,yvars=yvars_data,ymeans=ymeans_data,ytrue=ytrue_data):\n",
    "    alpha = x[0]\n",
    "    beta = x[1]\n",
    "    gamma = x[2]\n",
    "    #beta = x[1]\n",
    "    #gamma = x[2]\n",
    "    ll = np.mean(-0.5*np.log(np.pi*((alpha**2*yvars + beta**2)**(gamma+2))) - (ymeans-ytrue)**2/(2*((alpha**2 * yvars + beta **2)**(gamma+2) )))\n",
    "    return -ll\n",
    "\n",
    "#v2: params:\n",
    "\n",
    "\n",
    "\n",
    "\n",
    "def neglog_likelihood_gamma_2(x,yvars=yvars_data,ymeans=ymeans_data,ytrue=ytrue_data):\n",
    "    alpha = x[0]\n",
    "    beta = x[1]\n",
    "    gamma = x[2]\n",
    "    #beta = x[1]\n",
    "    #gamma = x[2]\n",
    "    ll = np.mean(-0.5*np.log(np.pi*((alpha**2*yvars)**(gamma+2)+ beta**2)) - (ymeans-ytrue)**2/(2*((alpha**2 * yvars)**(gamma+2) + beta **2)))\n",
    "    return -ll\n",
    "\n",
    "def neglog_likelihood_gamma_3(x,yvars=yvars_data,ymeans=ymeans_data,ytrue=ytrue_data):\n",
    "    alpha = x[0]\n",
    "    gamma = x[1]\n",
    "    #beta = x[1]\n",
    "    #gamma = x[2]\n",
    "    ll = np.mean(-0.5*np.log(np.pi*((alpha**2*yvars)**(gamma+2))) - (ymeans-ytrue)**2/(2*((alpha**2 * yvars)**(gamma+2))))\n",
    "    return -ll\n",
    "\n",
    "def neglog_likelihood_gamma_4(x,yvars=yvars_data,ymeans=ymeans_data,ytrue=ytrue_data):\n",
    "    alpha = x[0]\n",
    "    beta = x[1]\n",
    "    #beta = x[1]\n",
    "    #gamma = x[2]\n",
    "    ll = np.mean(-0.5*np.log(np.pi*((alpha**2*yvars) + beta**2)) - (ymeans-ytrue)**2/(2*(((alpha**2 * yvars)+ beta **2))))\n",
    "    return -ll\n",
    "\n",
    "def rescale_var_2(var,alpha,beta,gamma):\n",
    "    return np.sqrt((alpha**2*var)**(gamma+2) + beta**2)"
   ]
  },
  {
   "cell_type": "code",
   "execution_count": 22,
   "id": "2f27f603-490f-4a75-8a17-535deb6f034f",
   "metadata": {},
   "outputs": [
    {
     "data": {
      "image/png": "[encoded data removed]",
      "text/plain": [
       "<Figure size 432x288 with 1 Axes>"
      ]
     },
     "metadata": {
      "needs_background": "light"
     },
     "output_type": "display_data"
    }
   ],
   "source": [
    "errors = masked_commitee_pred.var(axis=1,ddof=1)\n",
    "plt.scatter(errors,np.abs((masked_commitee_pred.mean(axis=1)-reference)),s=0.01)\n",
    "plt.plot(np.logspace(-3,1),np.logspace(-3,1),c=\"tab:red\")\n",
    "plt.yscale(\"log\")\n",
    "plt.xscale(\"log\")\n",
    "#plt.xlim(1,100)\n",
    "#plt.ylim(1e-04,300)"
   ]
  },
  {
   "cell_type": "code",
   "execution_count": 140,
   "id": "6c0359e1-5c1f-415b-808f-67feeba17b72",
   "metadata": {},
   "outputs": [
    {
     "data": {
      "text/plain": [
       "(0.0001, 300)"
      ]
     },
     "execution_count": 140,
     "metadata": {},
     "output_type": "execute_result"
    },
    {
     "data": {
      "image/png": "[encoded data removed]",
      "text/plain": [
       "<Figure size 432x288 with 1 Axes>"
      ]
     },
     "metadata": {
      "needs_background": "light"
     },
     "output_type": "display_data"
    }
   ],
   "source": [
    "errors = masked_commitee_pred.var(axis=1,ddof=1)\n",
    "plt.scatter(rescale_var_2(errors, 2.82506317,  2.05308354, -1.07379308 ),np.abs((masked_commitee_pred.mean(axis=1)-reference)),s=0.01)\n",
    "plt.plot(np.logspace(-2,3),np.logspace(-2,3),c=\"tab:red\")\n",
    "plt.yscale(\"log\")\n",
    "plt.xscale(\"log\")\n",
    "plt.xlim(1,100)\n",
    "plt.ylim(1e-04,300)"
   ]
  },
  {
   "cell_type": "code",
   "execution_count": 27,
   "id": "f2cf0a61-622a-436e-9e3d-01becbb1e5ff",
   "metadata": {},
   "outputs": [
    {
     "data": {
      "text/plain": [
       "(0.0001, 10)"
      ]
     },
     "execution_count": 27,
     "metadata": {},
     "output_type": "execute_result"
    },
    {
     "data": {
      "image/png": "[encoded data removed]",
      "text/plain": [
       "<Figure size 432x288 with 1 Axes>"
      ]
     },
     "metadata": {
      "needs_background": "light"
     },
     "output_type": "display_data"
    }
   ],
   "source": [
    "errors = masked_commitee_pred.var(axis=1,ddof=1)\n",
    "plt.scatter(rescale_var_2(errors[smaller5],2.82506317,  2.05308354, -1.07379308),np.abs((masked_commitee_pred.mean(axis=1)-reference))[smaller5],s=0.01)\n",
    "plt.plot(np.logspace(0,2),np.logspace(0,2),c=\"tab:red\")\n",
    "plt.yscale(\"log\")\n",
    "plt.xscale(\"log\")\n",
    "plt.xlim(0.28,2)\n",
    "plt.ylim(1e-04,10)"
   ]
  },
  {
   "cell_type": "code",
   "execution_count": null,
   "id": "feba2c2c-9fb5-4dc0-a164-8a0597caa4af",
   "metadata": {},
   "outputs": [],
   "source": []
  },
  {
   "cell_type": "code",
   "execution_count": 36,
   "id": "469863b3-3cf9-4cbd-bf17-af7db49d5e13",
   "metadata": {},
   "outputs": [],
   "source": [
    "from scipy.optimize import basinhopping"
   ]
  },
  {
   "cell_type": "code",
   "execution_count": 97,
   "id": "0b468046-b9cc-491e-b7f0-cbd19d8e24f0",
   "metadata": {},
   "outputs": [],
   "source": [
    "bounds = [(0.001,100.), (0.01, 100.), (-10., 10.)]"
   ]
  },
  {
   "cell_type": "code",
   "execution_count": 11,
   "id": "a69cbca7-2415-439f-a5de-39d5490a66c9",
   "metadata": {},
   "outputs": [
    {
     "ename": "NameError",
     "evalue": "name 'basinhopping' is not defined",
     "output_type": "error",
     "traceback": [
      "\u001b[0;31m---------------------------------------------------------------------------\u001b[0m",
      "\u001b[0;31mNameError\u001b[0m                                 Traceback (most recent call last)",
      "\u001b[0;32m/tmp/ipykernel_27463/1162715248.py\u001b[0m in \u001b[0;36m<module>\u001b[0;34m\u001b[0m\n\u001b[0;32m----> 1\u001b[0;31m \u001b[0mbasinhopping\u001b[0m\u001b[0;34m(\u001b[0m\u001b[0mneglog_likelihood_gamma_2\u001b[0m\u001b[0;34m,\u001b[0m\u001b[0mx0\u001b[0m\u001b[0;34m=\u001b[0m\u001b[0mnp\u001b[0m\u001b[0;34m.\u001b[0m\u001b[0marray\u001b[0m\u001b[0;34m(\u001b[0m\u001b[0;34m[\u001b[0m\u001b[0;36m1.\u001b[0m\u001b[0;34m,\u001b[0m\u001b[0;36m1.\u001b[0m\u001b[0;34m,\u001b[0m\u001b[0;36m1.\u001b[0m\u001b[0;34m]\u001b[0m\u001b[0;34m)\u001b[0m\u001b[0;34m)\u001b[0m\u001b[0;34m\u001b[0m\u001b[0;34m\u001b[0m\u001b[0m\n\u001b[0m",
      "\u001b[0;31mNameError\u001b[0m: name 'basinhopping' is not defined"
     ]
    }
   ],
   "source": [
    "basinhopping(neglog_likelihood_gamma_2,x0=np.array([1.,1.,1.]))"
   ]
  },
  {
   "cell_type": "code",
   "execution_count": 20,
   "id": "d4f5ef6a-fb88-4633-a725-ceb1201e3fb1",
   "metadata": {},
   "outputs": [
    {
     "data": {
      "text/plain": [
       "      fun: 0.8695339287971146\n",
       " hess_inv: array([[12.95228581]])\n",
       "      jac: array([-3.05473804e-07])\n",
       "  message: 'Optimization terminated successfully.'\n",
       "     nfev: 26\n",
       "      nit: 12\n",
       "     njev: 13\n",
       "   status: 0\n",
       "  success: True\n",
       "        x: array([5.10742353])"
      ]
     },
     "execution_count": 20,
     "metadata": {},
     "output_type": "execute_result"
    }
   ],
   "source": [
    "minimize(neglog_likelihood,x0=np.array([1.]))"
   ]
  },
  {
   "cell_type": "code",
   "execution_count": 21,
   "id": "93ea2e35-8c73-4aba-87b0-1e1561c81e43",
   "metadata": {},
   "outputs": [
    {
     "data": {
      "text/plain": [
       "      fun: 0.7145129484960685\n",
       " hess_inv: array([[30.0613867 , -2.54457387],\n",
       "       [-2.54457387,  0.53029003]])\n",
       "      jac: array([-5.73694706e-07, -1.26659870e-07])\n",
       "  message: 'Optimization terminated successfully.'\n",
       "     nfev: 57\n",
       "      nit: 15\n",
       "     njev: 19\n",
       "   status: 0\n",
       "  success: True\n",
       "        x: array([2.1995187 , 0.54911996])"
      ]
     },
     "execution_count": 21,
     "metadata": {},
     "output_type": "execute_result"
    }
   ],
   "source": [
    "minimize(neglog_likelihood_gamma_4,x0=np.array([1.,0.]))"
   ]
  },
  {
   "cell_type": "code",
   "execution_count": 22,
   "id": "4e8541d0-293d-466d-a652-5f1c9c7f097b",
   "metadata": {},
   "outputs": [
    {
     "data": {
      "text/plain": [
       "      fun: 0.8695339287971146\n",
       " hess_inv: array([[12.95228581]])\n",
       "      jac: array([-3.05473804e-07])\n",
       "  message: 'Optimization terminated successfully.'\n",
       "     nfev: 26\n",
       "      nit: 12\n",
       "     njev: 13\n",
       "   status: 0\n",
       "  success: True\n",
       "        x: array([5.10742353])"
      ]
     },
     "execution_count": 22,
     "metadata": {},
     "output_type": "execute_result"
    }
   ],
   "source": [
    "minimize(neglog_likelihood,x0=np.array([1.]))"
   ]
  },
  {
   "cell_type": "code",
   "execution_count": 23,
   "id": "30a6ab2f-6202-40fc-b579-d347260a7fad",
   "metadata": {},
   "outputs": [
    {
     "data": {
      "text/plain": [
       "      fun: 0.7180497410069153\n",
       " hess_inv: array([[63.11274308,  6.83373855],\n",
       "       [ 6.83373855,  1.10370673]])\n",
       "      jac: array([ 3.72529030e-08, -5.43892384e-07])\n",
       "  message: 'Optimization terminated successfully.'\n",
       "     nfev: 60\n",
       "      nit: 19\n",
       "     njev: 20\n",
       "   status: 0\n",
       "  success: True\n",
       "        x: array([ 2.44203651, -1.62334734])"
      ]
     },
     "execution_count": 23,
     "metadata": {},
     "output_type": "execute_result"
    }
   ],
   "source": [
    "minimize(neglog_likelihood_gamma_3,x0=np.array([1.,-1.]))"
   ]
  },
  {
   "cell_type": "code",
   "execution_count": 35,
   "id": "bf3d39a2-40aa-4d63-9368-dbeddf0969b3",
   "metadata": {},
   "outputs": [
    {
     "data": {
      "text/plain": [
       "array([ 2.1666222 ,  0.49662761, -1.233789  ])"
      ]
     },
     "execution_count": 35,
     "metadata": {},
     "output_type": "execute_result"
    }
   ],
   "source": [
    "minimize(neglog_likelihood_gamma_2,x0=np.array([1.,1.,1.]))[\"x\"]"
   ]
  },
  {
   "cell_type": "code",
   "execution_count": 17,
   "id": "4c580716-1dba-452f-8cff-d9ddc986a057",
   "metadata": {},
   "outputs": [
    {
     "data": {
      "text/plain": [
       "      fun: 0.3282352616255311\n",
       " hess_inv: array([[95.58059606, 30.04564751, 56.72150577],\n",
       "       [30.04564751, 14.24463887, 24.34867136],\n",
       "       [56.72150577, 24.34867136, 42.89448403]])\n",
       "      jac: array([-1.97440386e-07, -1.35600567e-06,  9.68575478e-07])\n",
       "  message: 'Optimization terminated successfully.'\n",
       "     nfev: 224\n",
       "      nit: 43\n",
       "     njev: 56\n",
       "   status: 0\n",
       "  success: True\n",
       "        x: array([ 2.00352551,  0.19882436, -1.30232118])"
      ]
     },
     "execution_count": 17,
     "metadata": {},
     "output_type": "execute_result"
    }
   ],
   "source": [
    "minimize(neglog_likelihood_gamma,x0=np.array([1.,1.,1.]))"
   ]
  },
  {
   "cell_type": "code",
   "execution_count": 116,
   "id": "7734a981-9510-4595-a751-e97796d2a008",
   "metadata": {},
   "outputs": [
    {
     "data": {
      "image/png": "[encoded data removed]",
      "text/plain": [
       "<Figure size 432x288 with 1 Axes>"
      ]
     },
     "metadata": {
      "needs_background": "light"
     },
     "output_type": "display_data"
    }
   ],
   "source": [
    "plt.scatter(masked_commitee_pred[smaller5].std(axis=1),np.abs((masked_commitee_pred[smaller5].mean(axis=1)-reference[smaller5])),s=1)\n",
    "plt.plot(np.logspace(-2,1),np.logspace(-2,1),c=\"tab:red\")\n",
    "plt.yscale(\"log\")\n",
    "plt.xscale(\"log\")"
   ]
  },
  {
   "cell_type": "code",
   "execution_count": null,
   "id": "968d314c-da5b-480f-9640-e2324d770db7",
   "metadata": {},
   "outputs": [],
   "source": []
  },
  {
   "cell_type": "code",
   "execution_count": 28,
   "id": "8b74e012-77e6-4e42-8b69-b50f41bc1920",
   "metadata": {},
   "outputs": [
    {
     "data": {
      "text/plain": [
       "masked_array(data=[0.47452430070453355, 0.47450810721054476,\n",
       "                   0.4745204888602984, ..., 0.4101925103613436,\n",
       "                   0.4101847144185199, 0.41019527118494065],\n",
       "             mask=[False, False, False, ..., False, False, False],\n",
       "       fill_value=1e+20)"
      ]
     },
     "execution_count": 28,
     "metadata": {},
     "output_type": "execute_result"
    }
   ],
   "source": [
    "rescale_var(errors,2.58862742,0.33212022,-1.13984364) "
   ]
  },
  {
   "cell_type": "code",
   "execution_count": 14,
   "id": "b50584c8-429a-45d7-9516-b1a4443c11c7",
   "metadata": {},
   "outputs": [
    {
     "data": {
      "text/plain": [
       "array([[18.59039914, 18.65026338, 18.62398939, ..., 18.50103169,\n",
       "        18.61117799, 18.4760739 ],\n",
       "       [18.59076842, 18.6506499 , 18.62439948, ..., 18.50156221,\n",
       "        18.61147245, 18.47644463],\n",
       "       [18.59074837, 18.65062666, 18.62436453, ..., 18.5015663 ,\n",
       "        18.61146519, 18.47640463],\n",
       "       ...,\n",
       "       [28.97528875, 28.7343082 , 29.34426368, ..., 29.10540275,\n",
       "        28.95635702, 29.01410727],\n",
       "       [28.97535831, 28.73416798, 29.34410354, ..., 29.1053292 ,\n",
       "        28.95619995, 29.01403251],\n",
       "       [28.97526769, 28.73438521, 29.34433542, ..., 29.10542159,\n",
       "        28.95640155, 29.014082  ]])"
      ]
     },
     "execution_count": 14,
     "metadata": {},
     "output_type": "execute_result"
    }
   ],
   "source": [
    "results[\"v1\"][\"pred_train\"][1]"
   ]
  },
  {
   "cell_type": "code",
   "execution_count": null,
   "id": "e0e88eeb-f36c-4ed3-b126-15c3424e43ec",
   "metadata": {},
   "outputs": [],
   "source": []
  },
  {
   "cell_type": "code",
   "execution_count": 6,
   "id": "75074b5a-a217-4a0d-91b5-d1fbd7b3efe6",
   "metadata": {},
   "outputs": [
    {
     "data": {
      "text/plain": [
       "array([[ True,  True,  True, ...,  True, False,  True],\n",
       "       [ True,  True,  True, ...,  True, False,  True],\n",
       "       [ True,  True,  True, ...,  True, False,  True],\n",
       "       ...,\n",
       "       [False,  True, False, ...,  True,  True,  True],\n",
       "       [False,  True, False, ...,  True,  True,  True],\n",
       "       [False,  True, False, ...,  True,  True,  True]])"
      ]
     },
     "execution_count": 6,
     "metadata": {},
     "output_type": "execute_result"
    }
   ],
   "source": [
    "results[\"v1\"][\"one_hot\"][1]"
   ]
  },
  {
   "cell_type": "code",
   "execution_count": 7,
   "id": "159e9eb3-b194-4bb6-8ec4-b0e33a56e282",
   "metadata": {},
   "outputs": [
    {
     "ename": "NameError",
     "evalue": "name 'masked_data' is not defined",
     "output_type": "error",
     "traceback": [
      "\u001b[0;31m---------------------------------------------------------------------------\u001b[0m",
      "\u001b[0;31mNameError\u001b[0m                                 Traceback (most recent call last)",
      "\u001b[0;32m/tmp/ipykernel_1148/228524742.py\u001b[0m in \u001b[0;36m<module>\u001b[0;34m\u001b[0m\n\u001b[0;32m----> 1\u001b[0;31m \u001b[0mmasked_data\u001b[0m\u001b[0;34m[\u001b[0m\u001b[0;36m0\u001b[0m\u001b[0;34m]\u001b[0m\u001b[0;34m\u001b[0m\u001b[0;34m\u001b[0m\u001b[0m\n\u001b[0m",
      "\u001b[0;31mNameError\u001b[0m: name 'masked_data' is not defined"
     ]
    }
   ],
   "source": [
    "masked_data[0]"
   ]
  },
  {
   "cell_type": "code",
   "execution_count": 134,
   "id": "7e9ef854-8b17-49ca-8fc6-662ea29e1451",
   "metadata": {},
   "outputs": [
    {
     "data": {
      "text/plain": [
       "array([[25.56566676, 25.80387562, 26.1461332 , ..., 25.56757337,\n",
       "        25.36534673, 25.83320965],\n",
       "       [25.56562752, 25.80402077, 26.14578587, ..., 25.56826825,\n",
       "        25.3653084 , 25.83355888],\n",
       "       [25.56572055, 25.80387387, 26.14615138, ..., 25.56766468,\n",
       "        25.36539483, 25.83322793],\n",
       "       ...,\n",
       "       [23.88370755, 23.80358532, 23.85518202, ..., 23.84139776,\n",
       "        23.77877264, 23.63310141],\n",
       "       [23.07604488, 22.96260893, 22.85789514, ..., 23.10004013,\n",
       "        22.69891725, 22.83079989],\n",
       "       [23.07619821, 22.96265473, 22.85797487, ..., 23.10020363,\n",
       "        22.69899634, 22.83092983]])"
      ]
     },
     "execution_count": 134,
     "metadata": {},
     "output_type": "execute_result"
    }
   ],
   "source": [
    "results[\"v1\"][\"pred_train\"][1][at_least_5]"
   ]
  },
  {
   "cell_type": "code",
   "execution_count": 110,
   "id": "74606911-31df-4c3f-876f-d382ec1d5c3c",
   "metadata": {
    "tags": []
   },
   "outputs": [
    {
     "data": {
      "text/plain": [
       "25767"
      ]
     },
     "execution_count": 110,
     "metadata": {},
     "output_type": "execute_result"
    }
   ],
   "source": [
    "#get all those points that are at least absent from 5 models\n"
   ]
  },
  {
   "cell_type": "code",
   "execution_count": 135,
   "id": "ee22f035-66c0-4412-abcf-2504ea2808c3",
   "metadata": {},
   "outputs": [],
   "source": [
    "at_least_5 = (16 - np.sum(results[\"v1\"][\"one_hot\"][1],axis=1)) > 5\n",
    "inverted_one_hot = results[\"v1\"][\"one_hot\"][1][at_least_5]\n",
    "\n",
    "masked_data = np.ma.masked_array(data=results[\"v1\"][\"pred_train\"][1][at_least_5],mask=inverted_one_hot)"
   ]
  },
  {
   "cell_type": "code",
   "execution_count": 130,
   "id": "cc456d2b-ad1c-4e71-9983-96fce5c9527f",
   "metadata": {},
   "outputs": [
    {
     "data": {
      "text/plain": [
       "array([0.17126007, 0.17128784, 0.17126036, ..., 0.12701497, 0.19518773,\n",
       "       0.19520695])"
      ]
     },
     "execution_count": 130,
     "metadata": {},
     "output_type": "execute_result"
    }
   ],
   "source": [
    "np.ma.std(masked_data,axis=1).data"
   ]
  },
  {
   "cell_type": "code",
   "execution_count": 129,
   "id": "e6c5970f-8713-492b-a904-3bdaf7a20b69",
   "metadata": {},
   "outputs": [
    {
     "data": {
      "text/plain": [
       "array([0.2041144 , 0.20408072, 0.20410867, ..., 0.12944991, 0.17849065,\n",
       "       0.17849937])"
      ]
     },
     "execution_count": 129,
     "metadata": {},
     "output_type": "execute_result"
    }
   ],
   "source": [
    "np.std(results[\"v1\"][\"pred_train\"][1][at_least_5],axis=1)"
   ]
  },
  {
   "cell_type": "code",
   "execution_count": 116,
   "id": "3bcb0f6b-86f0-4d3e-a3db-f5c66dbff412",
   "metadata": {},
   "outputs": [
    {
     "data": {
      "text/plain": [
       "(134692, 16)"
      ]
     },
     "execution_count": 116,
     "metadata": {},
     "output_type": "execute_result"
    }
   ],
   "source": [
    "results[\"v1\"][\"pred_train\"][1].shape"
   ]
  },
  {
   "cell_type": "code",
   "execution_count": 117,
   "id": "d5a26fe8-5698-44dd-b7e9-3fefc2373979",
   "metadata": {},
   "outputs": [
    {
     "data": {
      "text/plain": [
       "(25767, 16)"
      ]
     },
     "execution_count": 117,
     "metadata": {},
     "output_type": "execute_result"
    }
   ],
   "source": [
    "inverted_one_hot.shape"
   ]
  },
  {
   "cell_type": "code",
   "execution_count": 118,
   "id": "7fc924e7-7700-4f2c-bab4-265552aedda2",
   "metadata": {},
   "outputs": [
    {
     "data": {
      "text/plain": [
       "(134692,)"
      ]
     },
     "execution_count": 118,
     "metadata": {},
     "output_type": "execute_result"
    }
   ],
   "source": [
    "at_least_5.shape"
   ]
  },
  {
   "cell_type": "code",
   "execution_count": 45,
   "id": "786b1fa5-c49f-4d91-a42a-dd164b76fe90",
   "metadata": {
    "collapsed": true,
    "jupyter": {
     "outputs_hidden": true
    },
    "tags": []
   },
   "outputs": [
    {
     "data": {
      "text/plain": [
       "{'train_true': {1: array([18.39, 18.39, 18.39, ..., 29.29, 29.29, 29.29]),\n",
       "  6: array([-1.11422813, -1.11422813, -1.11422813, ..., -1.11422813,\n",
       "         -1.11422813, -1.11422813])},\n",
       " 'test_true': {1: array([25.97, 25.97, 25.97, ..., 23.13, 23.13, 23.13]),\n",
       "  6: array([42.16, 42.16, 42.16, ..., 27.3 , 27.3 , 27.3 ])},\n",
       " 'pred_train': {1: array([[18.32890649, 18.1396572 , 18.46484448, ..., 18.2680678 ,\n",
       "          18.27901386, 18.28285448],\n",
       "         [18.3289414 , 18.1397208 , 18.46490925, ..., 18.26811355,\n",
       "          18.27907394, 18.28289723],\n",
       "         [18.32899895, 18.13976985, 18.46496161, ..., 18.26817097,\n",
       "          18.27912312, 18.2829462 ],\n",
       "         ...,\n",
       "         [29.0940906 , 29.22756977, 29.25466736, ..., 29.0979574 ,\n",
       "          29.25260292, 29.22238075],\n",
       "         [29.09403322, 29.22757   , 29.25463434, ..., 29.09794328,\n",
       "          29.25254919, 29.22232945],\n",
       "         [29.09410237, 29.22758567, 29.25466916, ..., 29.09796735,\n",
       "          29.25260588, 29.22240147]]),\n",
       "  6: array([[  3.96101675, -14.8584976 , -14.96551085, ...,  -2.78380965,\n",
       "          -25.63433008,  -9.53751099],\n",
       "         [  3.96068981, -14.85854684, -14.96645697, ...,  -2.78345976,\n",
       "          -25.63438108,  -9.53841398],\n",
       "         [  3.96058969, -14.85919204, -14.96640488, ...,  -2.78443988,\n",
       "          -25.63507131,  -9.53830066],\n",
       "         ...,\n",
       "         [134.33520698, 140.19638682, 131.88754395, ..., 137.28518817,\n",
       "          139.77282125, 132.45120891],\n",
       "         [134.33654518, 140.19986507, 131.89113306, ..., 137.28845628,\n",
       "          139.77664998, 132.45375841],\n",
       "         [134.33554487, 140.19700631, 131.88795108, ..., 137.28511762,\n",
       "          139.77309312, 132.45194027]])},\n",
       " 'pred_test': {1: array([[26.08593724, 26.37557787, 26.51198966, ..., 26.33158098,\n",
       "          26.51658321, 26.46265654],\n",
       "         [26.08593754, 26.37557803, 26.51199402, ..., 26.3315819 ,\n",
       "          26.51658379, 26.46265719],\n",
       "         [26.08592911, 26.37556642, 26.51197924, ..., 26.33157024,\n",
       "          26.51658081, 26.46264863],\n",
       "         ...,\n",
       "         [23.41490075, 23.32238738, 23.41279794, ..., 23.57091718,\n",
       "          23.50397839, 23.48118392],\n",
       "         [23.41535569, 23.32266142, 23.41298955, ..., 23.57073065,\n",
       "          23.50363192, 23.48178231],\n",
       "         [23.41487293, 23.32236481, 23.41277419, ..., 23.5708902 ,\n",
       "          23.50395117, 23.48116198]]),\n",
       "  6: array([[38.50500596, 39.17836148, 37.21712857, ..., 38.39146722,\n",
       "          39.3262405 , 37.31971783],\n",
       "         [38.50556305, 39.17885794, 37.21751576, ..., 38.39187807,\n",
       "          39.32663897, 37.32023292],\n",
       "         [38.50505306, 39.17847263, 37.21712905, ..., 38.39146833,\n",
       "          39.32629081, 37.31976374],\n",
       "         ...,\n",
       "         [25.04594876, 23.81689879, 23.32485829, ..., 27.16778255,\n",
       "          24.92232876, 27.79201705],\n",
       "         [25.04733161, 23.81877571, 23.33209141, ..., 27.16831309,\n",
       "          24.92805951, 27.79289729],\n",
       "         [25.04675477, 23.81797196, 23.32646372, ..., 27.16860084,\n",
       "          24.92359824, 27.79342261]])},\n",
       " 'one_hot': {1: [array([ True,  True,  True, ..., False, False, False]),\n",
       "   array([ True,  True,  True, ...,  True,  True,  True]),\n",
       "   array([False, False, False, ...,  True,  True,  True]),\n",
       "   array([ True,  True,  True, ...,  True,  True,  True]),\n",
       "   array([False, False, False, ..., False, False, False]),\n",
       "   array([False, False, False, ...,  True,  True,  True]),\n",
       "   array([ True,  True,  True, ...,  True,  True,  True]),\n",
       "   array([False, False, False, ..., False, False, False]),\n",
       "   array([ True,  True,  True, ...,  True,  True,  True]),\n",
       "   array([ True,  True,  True, ...,  True,  True,  True]),\n",
       "   array([ True,  True,  True, ..., False, False, False]),\n",
       "   array([ True,  True,  True, ..., False, False, False]),\n",
       "   array([False, False, False, ..., False, False, False]),\n",
       "   array([ True,  True,  True, ...,  True,  True,  True]),\n",
       "   array([ True,  True,  True, ...,  True,  True,  True]),\n",
       "   array([ True,  True,  True, ...,  True,  True,  True])],\n",
       "  6: [array([ True,  True,  True, ...,  True,  True,  True]),\n",
       "   array([ True,  True,  True, ...,  True,  True,  True]),\n",
       "   array([ True,  True,  True, ...,  True,  True,  True]),\n",
       "   array([ True,  True,  True, ...,  True,  True,  True]),\n",
       "   array([False, False, False, ...,  True,  True,  True]),\n",
       "   array([ True,  True,  True, ..., False, False, False]),\n",
       "   array([ True,  True,  True, ...,  True,  True,  True]),\n",
       "   array([ True,  True,  True, ...,  True,  True,  True]),\n",
       "   array([ True,  True,  True, ...,  True,  True,  True]),\n",
       "   array([ True,  True,  True, ..., False, False, False]),\n",
       "   array([False, False, False, ..., False, False, False]),\n",
       "   array([False, False, False, ...,  True,  True,  True]),\n",
       "   array([ True,  True,  True, ...,  True,  True,  True]),\n",
       "   array([ True,  True,  True, ...,  True,  True,  True]),\n",
       "   array([ True,  True,  True, ...,  True,  True,  True]),\n",
       "   array([False, False, False, ..., False, False, False])]}}"
      ]
     },
     "execution_count": 45,
     "metadata": {},
     "output_type": "execute_result"
    }
   ],
   "source": [
    "results[\"v2\"][\"te\"]"
   ]
  },
  {
   "cell_type": "code",
   "execution_count": 95,
   "id": "91a1b6dc-6101-4a82-af5f-c043f1f11126",
   "metadata": {},
   "outputs": [],
   "source": [
    "specie=6\n",
    "train_pred_mat = []\n",
    "test_pred_mat = []\n",
    "test_true = []\n",
    "train_mean = []\n",
    "test_mean = []\n",
    "train_std = []\n",
    "test_std = []\n",
    "\n",
    "for order in [\"v1\",\"v2\"]:\n",
    "    train_pred_mat.append(results[order][\"pred_train\"][specie])\n",
    "    test_pred_mat.append(results[order][\"pred_test\"][specie])\n",
    "    test_true.append(results[order][\"test_true\"][specie])\n",
    "    train_mean.append(np.mean(results[order][\"pred_train\"][specie],axis=1))\n",
    "    test_mean.append(np.mean(results[order][\"pred_test\"][specie],axis=1))\n",
    "    train_std.append(np.std(results[order][\"pred_train\"][specie],axis=1))\n",
    "    test_std.append(np.std(results[order][\"pred_test\"][specie],axis=1))   \n",
    "\n",
    "test_final = (1/(test_std[1]**2) + 1/(test_std[0]**2))**-1 * (1/(test_std[0]**2) * test_mean[0] + 1/(test_std[1]**2) * test_mean[1])"
   ]
  },
  {
   "cell_type": "code",
   "execution_count": 89,
   "id": "f84bfd10-10f2-45b0-83e2-03196958a719",
   "metadata": {},
   "outputs": [
    {
     "data": {
      "text/plain": [
       "(134692, 16)"
      ]
     },
     "execution_count": 89,
     "metadata": {},
     "output_type": "execute_result"
    }
   ],
   "source": [
    "results[\"v1\"][\"pred_train\"][specie].shape"
   ]
  },
  {
   "cell_type": "code",
   "execution_count": 90,
   "id": "765c291f-746e-406b-9844-4ffc3f66cfa4",
   "metadata": {},
   "outputs": [
    {
     "data": {
      "text/plain": [
       "array([0.39088323, 0.39088095, 0.39088156, ..., 0.50558773, 0.50558712,\n",
       "       0.50558754])"
      ]
     },
     "execution_count": 90,
     "metadata": {},
     "output_type": "execute_result"
    }
   ],
   "source": [
    "train_std[1]"
   ]
  },
  {
   "cell_type": "code",
   "execution_count": 68,
   "id": "0a63c1dd-8ce0-4584-b4e8-90517426a23b",
   "metadata": {},
   "outputs": [
    {
     "data": {
      "text/plain": [
       "array([26.49065939, 26.49068945, 26.49066843, ..., 23.71452636,\n",
       "       23.71389533, 23.71456647])"
      ]
     },
     "execution_count": 68,
     "metadata": {},
     "output_type": "execute_result"
    }
   ],
   "source": [
    "test_final\n"
   ]
  },
  {
   "cell_type": "code",
   "execution_count": 69,
   "id": "6e448542-5e1d-4759-a163-41be780428f3",
   "metadata": {},
   "outputs": [
    {
     "data": {
      "text/plain": [
       "[array([25.97, 25.97, 25.97, ..., 23.13, 23.13, 23.13]),\n",
       " array([25.97, 25.97, 25.97, ..., 23.13, 23.13, 23.13])]"
      ]
     },
     "execution_count": 69,
     "metadata": {},
     "output_type": "execute_result"
    }
   ],
   "source": [
    "test_true"
   ]
  },
  {
   "cell_type": "code",
   "execution_count": 64,
   "id": "23a64828-81d9-464d-adf5-c9d8c39f2104",
   "metadata": {},
   "outputs": [
    {
     "data": {
      "text/plain": [
       "{1: array([18.39, 18.39, 18.39, ..., 29.29, 29.29, 29.29]),\n",
       " 6: array([-1.11422813, -1.11422813, -1.11422813, ..., -1.11422813,\n",
       "        -1.11422813, -1.11422813])}"
      ]
     },
     "execution_count": 64,
     "metadata": {},
     "output_type": "execute_result"
    }
   ],
   "source": [
    "train_true"
   ]
  },
  {
   "cell_type": "code",
   "execution_count": 96,
   "id": "fcf0941b-15b9-4437-953e-69ee78882a21",
   "metadata": {},
   "outputs": [
    {
     "data": {
      "text/plain": [
       "50.65007036578378"
      ]
     },
     "execution_count": 96,
     "metadata": {},
     "output_type": "execute_result"
    }
   ],
   "source": [
    "mean_squared_error(test_mean[0],test_true[0],squared=False)"
   ]
  },
  {
   "cell_type": "code",
   "execution_count": 92,
   "id": "0caf35df-fcdd-4d3e-b268-ca4cc12dc622",
   "metadata": {},
   "outputs": [
    {
     "data": {
      "text/plain": [
       "3.2339660069133225"
      ]
     },
     "execution_count": 92,
     "metadata": {},
     "output_type": "execute_result"
    }
   ],
   "source": [
    "mean_squared_error(test_final,test_true[0],squared=False)"
   ]
  },
  {
   "cell_type": "code",
   "execution_count": 32,
   "id": "6502f827-f97d-4f22-8d35-3d1aa95c65c7",
   "metadata": {},
   "outputs": [
    {
     "data": {
      "text/plain": [
       "array([42.16, 42.16, 42.16, ..., 27.3 , 27.3 , 27.3 ])"
      ]
     },
     "execution_count": 32,
     "metadata": {},
     "output_type": "execute_result"
    }
   ],
   "source": [
    "test_true"
   ]
  },
  {
   "cell_type": "code",
   "execution_count": 18,
   "id": "e59bf587-96cb-4e2b-99fd-e7e82081dfe1",
   "metadata": {},
   "outputs": [
    {
     "data": {
      "text/plain": [
       "'a_alpha'"
      ]
     },
     "execution_count": 18,
     "metadata": {},
     "output_type": "execute_result"
    }
   ],
   "source": [
    "teststring.format(\"alpha\")"
   ]
  },
  {
   "cell_type": "code",
   "execution_count": 18,
   "id": "a4efce0d-fc81-4c10-8bc5-c21c605cf42e",
   "metadata": {},
   "outputs": [],
   "source": [
    "import seaborn as sns"
   ]
  },
  {
   "cell_type": "code",
   "execution_count": 20,
   "id": "31c98c42-0f9a-42a6-8bcb-6fc2e94102b0",
   "metadata": {},
   "outputs": [
    {
     "data": {
      "text/plain": [
       "<seaborn.axisgrid.FacetGrid at 0x7fa443260160>"
      ]
     },
     "execution_count": 20,
     "metadata": {},
     "output_type": "execute_result"
    },
    {
     "data": {
      "image/png": "[encoded data removed]",
      "text/plain": [
       "<Figure size 408.75x360 with 1 Axes>"
      ]
     },
     "metadata": {
      "needs_background": "light"
     },
     "output_type": "display_data"
    }
   ],
   "source": [
    "sns.displot(results[\"v2\"][\"pred_test\"][6],kind=\"kde\")"
   ]
  },
  {
   "cell_type": "code",
   "execution_count": 143,
   "id": "7f3eec34-934a-4468-98b6-6057b86dc5b9",
   "metadata": {},
   "outputs": [
    {
     "data": {
      "text/plain": [
       "<seaborn.axisgrid.FacetGrid at 0x7f82b3fa2430>"
      ]
     },
     "execution_count": 143,
     "metadata": {},
     "output_type": "execute_result"
    },
    {
     "data": {
      "image/png": "[encoded data removed]",
      "text/plain": [
       "<Figure size 408.75x360 with 1 Axes>"
      ]
     },
     "metadata": {
      "needs_background": "light"
     },
     "output_type": "display_data"
    }
   ],
   "source": [
    "sns.displot(results[\"v1\"][\"pred_test\"][specie],kind=\"kde\")"
   ]
  },
  {
   "cell_type": "code",
   "execution_count": 139,
   "id": "295d1b91-dc18-4ee2-96c7-3bc89d73fd7d",
   "metadata": {},
   "outputs": [
    {
     "data": {
      "text/plain": [
       "<seaborn.axisgrid.FacetGrid at 0x7f82b42b58e0>"
      ]
     },
     "execution_count": 139,
     "metadata": {},
     "output_type": "execute_result"
    },
    {
     "data": {
      "image/png": "[encoded data removed]",
      "text/plain": [
       "<Figure size 408.75x360 with 1 Axes>"
      ]
     },
     "metadata": {
      "needs_background": "light"
     },
     "output_type": "display_data"
    }
   ],
   "source": [
    "sns.displot(results[\"v1\"][\"pred_train\"][specie],kind=\"kde\")"
   ]
  },
  {
   "cell_type": "code",
   "execution_count": 140,
   "id": "4e29a590-f965-4991-8e84-01a413990af7",
   "metadata": {},
   "outputs": [
    {
     "data": {
      "text/plain": [
       "<seaborn.axisgrid.FacetGrid at 0x7f82b3fc0430>"
      ]
     },
     "execution_count": 140,
     "metadata": {},
     "output_type": "execute_result"
    },
    {
     "data": {
      "image/png": "[encoded data removed]",
      "text/plain": [
       "<Figure size 408.75x360 with 1 Axes>"
      ]
     },
     "metadata": {
      "needs_background": "light"
     },
     "output_type": "display_data"
    }
   ],
   "source": [
    "sns.displot(results[\"v2\"][\"pred_train\"][specie],kind=\"kde\")"
   ]
  },
  {
   "cell_type": "code",
   "execution_count": null,
   "id": "dec57c39-00bc-426b-9002-f5429fe54d62",
   "metadata": {},
   "outputs": [],
   "source": []
  },
  {
   "cell_type": "code",
   "execution_count": null,
   "id": "dcb6720a-b251-404e-9edf-9101de838314",
   "metadata": {},
   "outputs": [],
   "source": [
    "#1\n",
    "#v1 rescale_2 params x: [ 2.1666222 ,  0.49662761, -1.233789  ]\n",
    "#v2 rescale_2 params x: array([ 1.93856492,  0.30912756, -1.21839927])"
   ]
  },
  {
   "cell_type": "code",
   "execution_count": 118,
   "id": "024a7998-0656-4d23-9a89-98bf45f2ef78",
   "metadata": {},
   "outputs": [],
   "source": [
    "results = {\"v1\":None,\"v2\":None}\n",
    "\n",
    "#NN:\n",
    "TRUTH_TRAIN_IDENTIFIER = \"./multi_NN_{}/specie_{}_true_train_complete.npy\"\n",
    "TRUTH_TEST_IDENTIFIER = \"./multi_NN_{}/specie_{}_true_test.npy\"\n",
    "FULL_TRAIN_IDENTIFIER = \"./multi_NN_{}/specie_{}_model_no_{}_predictions_train_complete.npy\"\n",
    "FULL_TEST_IDENTIFIER = \"./multi_NN_{}/specie_{}_model_no_{}_predictions_test.npy\"\n",
    "ONE_HOT_IDENTIFIER = \"./multi_NN_{}/membership_specie_{}_model_{}_one_hot_train.npy\"\n",
    "\n",
    "\n",
    "\"\"\"\n",
    "TRUTH_TRAIN_IDENTIFIER = \"./multi_NN_{}/specie_{}_true_train_complete.npy\"\n",
    "TRUTH_TEST_IDENTIFIER = \"./multi_NN_{}/specie_{}_true_test.npy\"\n",
    "FULL_TRAIN_IDENTIFIER = \"./multi_kernel_{}/specie_{}_model_no_{}_full_test_pred.npy\"\n",
    "FULL_TEST_IDENTIFIER = \"./multi_kernel_{}/specie_{}_model_no_{}_test_pred.npy\"\n",
    "ONE_HOT_IDENTIFIER = \"./multi_kernel_{}/specie_{}_model_no_{}_one_hot.npy\"\n",
    "\"\"\"\n",
    "\n",
    "\n",
    "\n",
    "for degree in [\"v1\",\"v2\"]:\n",
    "    train_true = {}\n",
    "    test_true = {}\n",
    "    pred_train = {}\n",
    "    pred_test = {}\n",
    "    one_hot = {}\n",
    "    means_train = {}\n",
    "    means_test = {}\n",
    "    residuals_train = {}\n",
    "    residuals_test = {}\n",
    "   \n",
    "    \n",
    "    for specie in [1,6,7,8]:\n",
    "        train_true[specie] = np.load(TRUTH_TRAIN_IDENTIFIER.format(degree,specie))\n",
    "        test_true[specie] = np.load(TRUTH_TEST_IDENTIFIER.format(degree,specie))\n",
    "        pred_train[specie] = []\n",
    "        pred_test[specie] = []\n",
    "        one_hot[specie] = []\n",
    "        for model in range(16):\n",
    "            pred_train[specie].append(np.load(FULL_TRAIN_IDENTIFIER.format(degree,specie,model)))\n",
    "            pred_test[specie].append(np.load(FULL_TEST_IDENTIFIER.format(degree,specie,model)))\n",
    "            one_hot[specie].append(np.load(ONE_HOT_IDENTIFIER.format(degree,specie,model)))\n",
    "        \n",
    "       \n",
    "        pred_train[specie] = np.vstack(pred_train[specie]).T\n",
    "        pred_test[specie] = np.vstack(pred_test[specie]).T\n",
    "        one_hot[specie] = np.vstack(one_hot[specie]).T\n",
    "        means_train[specie] = np.mean(pred_train[specie],axis=1)\n",
    "        means_test[specie] = np.mean(pred_test[specie],axis=1)\n",
    "        #residuals_train[specie] = np.abs(train_true[specie]- means[specie])\n",
    "    \n",
    "    results[degree] = {\"train_true\":train_true,\"test_true\":test_true,\"means_train\":means_train,\"means_test\":means_test,\"pred_train\":pred_train,\"pred_test\":pred_test,\"one_hot\":one_hot}"
   ]
  },
  {
   "cell_type": "markdown",
   "id": "7d432eff-a101-4f63-924a-ff3b4ea40ef7",
   "metadata": {},
   "source": [
    "Import RR results"
   ]
  },
  {
   "cell_type": "code",
   "execution_count": null,
   "id": "f4ac1873-f1e9-4a9c-88e8-195dffcabe3a",
   "metadata": {},
   "outputs": [],
   "source": [
    "\"./multi_ridge_v2/"
   ]
  },
  {
   "cell_type": "code",
   "execution_count": 126,
   "id": "7a27fc94-bd83-43ed-ac43-f71cc595315b",
   "metadata": {},
   "outputs": [],
   "source": []
  },
  {
   "cell_type": "code",
   "execution_count": 111,
   "id": "0d98eb53-4194-49f3-ba08-092d86d0b2ee",
   "metadata": {},
   "outputs": [
    {
     "data": {
      "text/plain": [
       "(134692, 16)"
      ]
     },
     "execution_count": 111,
     "metadata": {},
     "output_type": "execute_result"
    }
   ],
   "source": [
    "ridge_results[\"v1\"][\"pred_train\"][1].type()"
   ]
  },
  {
   "cell_type": "code",
   "execution_count": 55,
   "id": "76af3a5e-1912-4d90-b919-5d8af4b30ea7",
   "metadata": {},
   "outputs": [],
   "source": [
    "from sklearn.metrics import mean_squared_error"
   ]
  },
  {
   "cell_type": "code",
   "execution_count": 65,
   "id": "62a4bcdf-87d8-4f38-a9d4-54d33c831ad2",
   "metadata": {},
   "outputs": [],
   "source": [
    "import torch"
   ]
  },
  {
   "cell_type": "code",
   "execution_count": 141,
   "id": "7f9e36bf-7a4f-4eb0-a716-d2eaae8c5052",
   "metadata": {
    "tags": []
   },
   "outputs": [
    {
     "name": "stdout",
     "output_type": "stream",
     "text": [
      "(35289,)\n",
      "(35289,)\n",
      "(35289,)\n",
      "LL: 4.180561979657982, v1\n",
      "LL: 0.6748133910489671, v2\n",
      "LL rescale a,b,g: 1.675158294771339, v1\n",
      "LL rescale a,b,g: 1.084551583670042, v2\n",
      "[5.40711449]\n",
      "LL rescale a: 1.9672662521630964, v1\n",
      "LL rescale a: 1.2232918598944664, v2\n",
      "LL worst: 1.6379913768573948, v1\n",
      "LL worst: 0.8993529909822635, v2\n",
      "LL best: 1.1335703012255427, v1\n",
      "LL best: 0.370877952609018, v2\n",
      "v1 dimensionless alpha rescale 0.0\n",
      "v1 dimensionless alpha beta gamma rescale 0.0\n",
      "v2 dimensionless alpha rescale 0.0\n",
      "v2 dimensionless alpha beta gamma rescale 0.0\n",
      "1 v1 acc: 1.2157143322637558\n",
      "1 v2 acc: 0.47772337725071135\n",
      "1 combined acc: 0.5275856696714548\n",
      "1 v2 acc only alpha: 0.4777233772507114\n",
      "1 combined acc only alpha: 0.478114090334682\n",
      "1 2nd v2 acc : 0.4777233772507114\n",
      "1 2nd combined acc : 0.6197734449583366\n",
      "(31446,)\n",
      "(31446,)\n",
      "(31446,)\n",
      "LL: 72.41791164436242, v1\n",
      "LL: 9.639713658197868, v2\n",
      "LL rescale a,b,g: 738.1056577030489, v1\n",
      "LL rescale a,b,g: 4.482301280081628, v2\n",
      "[4.4158463]\n",
      "LL rescale a: 4.511079829268523, v1\n",
      "LL rescale a: 3.635469043669916, v2\n",
      "LL worst: 15.585887270743195, v1\n",
      "LL worst: 5.965925953137871, v2\n",
      "LL best: 4.978899748614995, v1\n",
      "LL best: 2.8567105362933534, v2\n",
      "v1 dimensionless alpha rescale 104.41048807091089\n",
      "v1 dimensionless alpha beta gamma rescale 0.0\n",
      "v2 dimensionless alpha rescale 74.95321478346104\n",
      "v2 dimensionless alpha beta gamma rescale 47.717011340499056\n",
      "6 v1 acc: 9.269229219654484\n",
      "6 v2 acc: 4.437857324092521\n",
      "6 combined acc: 4.739015035642555\n",
      "6 v2 acc only alpha: 4.437857324092521\n",
      "6 combined acc only alpha: 4.441607812784328\n",
      "6 2nd v2 acc : 4.437857324092521\n",
      "6 2nd combined acc : 5.834643626592387\n",
      "(3367,)\n",
      "(3367,)\n",
      "(3367,)\n",
      "LL: 416.93094526955696, v1\n",
      "LL: 40.80444711116388, v2\n",
      "LL rescale a,b,g: 89.1852377780878, v1\n",
      "LL rescale a,b,g: 20.247230957568146, v2\n",
      "[4.31009669]\n",
      "LL rescale a: 21.91055189720712, v1\n",
      "LL rescale a: 11.121979062053088, v2\n",
      "LL worst: 111.60936215209294, v1\n",
      "LL worst: 27.830772232877848, v2\n",
      "LL best: 14.913143011690911, v1\n",
      "LL best: 6.322183617302708, v2\n",
      "v1 dimensionless alpha rescale 92.76351345717453\n",
      "v1 dimensionless alpha beta gamma rescale 23.19028041980165\n",
      "v2 dimensionless alpha rescale 77.6842844942663\n",
      "v2 dimensionless alpha beta gamma rescale 35.258200390788026\n",
      "7 v1 acc: 36.39708512735697\n",
      "7 v2 acc: 14.021403278054839\n",
      "7 combined acc: 14.626106518524532\n",
      "7 v2 acc only alpha: 14.021403278054839\n",
      "7 combined acc only alpha: 13.977030338640539\n",
      "7 2nd v2 acc : 14.021403278054839\n",
      "7 2nd combined acc : 22.759886410197762\n",
      "(6346,)\n",
      "(6346,)\n",
      "(6346,)\n",
      "LL: 846.1809864582214, v1\n",
      "LL: 64.42880894703882, v2\n",
      "LL rescale a,b,g: 110.40374353829039, v1\n",
      "LL rescale a,b,g: 14.980983868042275, v2\n",
      "[3.9194862]\n",
      "LL rescale a: 38.69617070031818, v1\n",
      "LL rescale a: 18.097274000057237, v2\n",
      "LL worst: 191.64776510565153, v1\n",
      "LL worst: 38.08997828481191, v2\n",
      "LL best: 22.22029299266019, v1\n",
      "LL best: 8.14748345441024, v2\n",
      "v1 dimensionless alpha rescale 90.27555714419785\n",
      "v1 dimensionless alpha beta gamma rescale 47.95209451816612\n",
      "v2 dimensionless alpha rescale 66.7703355982728\n",
      "v2 dimensionless alpha beta gamma rescale 77.17791903334074\n",
      "8 v1 acc: 52.41526389869994\n",
      "8 v2 acc: 17.45288816096928\n",
      "8 combined acc: 18.725691210215576\n",
      "8 v2 acc only alpha: 17.45288816096928\n",
      "8 combined acc only alpha: 17.456956523219883\n",
      "8 2nd v2 acc : 17.45288816096928\n",
      "8 2nd combined acc : 35.20378233105902\n"
     ]
    }
   ],
   "source": [
    "ridge_results = {\"v1\":None,\"v2\":None}\n",
    "ridge_results[\"v1\"] = {\"pred_train\":{},\"pred_test\":{},\"one_hot\":{},\"means_train\":{}}\n",
    "ridge_results[\"v2\"] = {\"pred_train\":{},\"pred_test\":{},\"one_hot\":{},\"means_train\":{}}\n",
    "\n",
    "\n",
    "for v in [1]:\n",
    "    for species in [1,6,7,8]:\n",
    "        pred_test = []\n",
    "        pred_train = []\n",
    "        one_hot_train = []\n",
    "        \n",
    "        for i in range(16):\n",
    "                pred_test.append(np.load(\"./multi_ridge_v{}/specie_{}_model_no_{}_test_pred.npy\".format(v,species,i)))\n",
    "                pred_train.append(np.load(\"./multi_ridge_v{}/specie_{}_model_no_{}_full_test_pred.npy\".format(v,species,i)))\n",
    "                one_hot_train.append(np.load(\"./multi_ridge_v{}/specie_{}_model_no_{}_one_hot.npy\".format(v,species,i)))\n",
    "        \n",
    "        pred_test = np.vstack(pred_test).T\n",
    "        pred_train = np.vstack(pred_train).T\n",
    "        one_hot_train = np.vstack(one_hot_train).T\n",
    "    \n",
    "        ridge_results[\"v1\"][\"pred_train\"][species] = pred_train    \n",
    "        ridge_results[\"v1\"][\"pred_test\"][species] = pred_test\n",
    "        ridge_results[\"v1\"][\"one_hot\"][species] = one_hot_train\n",
    "        ridge_results[\"v1\"][\"means_train\"][species] = np.mean(pred_train,axis=1)\n",
    "        \n",
    "for species, a_num in zip([\"1H\", \"13C\", \"15N\", \"17O\"],[1,6,7,8]):\n",
    "    pred_test = np.load(\"./multi_ridge_v2/{}_test_commitee_prediction.npy\".format(species))\n",
    "    pred_train = np.load(\"./multi_ridge_v2/{}_commitee_prediction.npy\".format(species))\n",
    "    one_hot_train = np.load(\"./multi_ridge_v2/{}_train_binary_1_hot_N_sample_M_models.npy\".format(species))\n",
    "    \n",
    "    ridge_results[\"v2\"][\"pred_train\"][a_num] = pred_train    \n",
    "    ridge_results[\"v2\"][\"pred_test\"][a_num] = pred_test\n",
    "    ridge_results[\"v2\"][\"one_hot\"][a_num]= one_hot_train\n",
    "    ridge_results[\"v2\"][\"means_train\"][a_num] = np.mean(pred_train,axis=1)\n",
    "\n",
    "params_RR = {}\n",
    "\n",
    "\n",
    "for a_specie in [1,6,7,8]:\n",
    "    \n",
    "    int_param = {\"alpha_v1\":None,\"alpha_v2\":None,\"beta_v1\":None,\"beta_v2\":None,\"gamma_v1\":None,\"gamma_v2\":None}\n",
    "    pred_v1 = np.copy(ridge_results[\"v1\"][\"pred_train\"][a_specie])\n",
    "    pred_v1_test = np.copy(ridge_results[\"v1\"][\"pred_test\"][a_specie])\n",
    "    mean_v1 = np.copy(ridge_results[\"v1\"][\"means_train\"][a_specie])\n",
    "    pred_v2 = np.copy(ridge_results[\"v2\"][\"pred_train\"][a_specie])\n",
    "    pred_v2_test = np.copy(ridge_results[\"v2\"][\"pred_test\"][a_specie])\n",
    "    mean_v2 = np.copy(ridge_results[\"v2\"][\"means_train\"][a_specie])\n",
    "    \n",
    "    truth = np.copy(results[\"v1\"][\"train_true\"][a_specie])\n",
    "    truth_test = np.copy(results[\"v1\"][\"test_true\"][a_specie])\n",
    "\n",
    "\n",
    "    one_hot_v1 = np.copy(ridge_results[\"v1\"][\"one_hot\"][a_specie])\n",
    "    one_hot_v2 = np.copy(ridge_results[\"v2\"][\"one_hot\"][a_specie])\n",
    "    \n",
    "    #def loss(ymeans,ytrue,ystd):\n",
    "    \n",
    "    smaller5_v1 = np.sum(one_hot_v1,axis=1) < 11\n",
    "    smaller5_v2 = np.sum(one_hot_v2,axis=1) < 11\n",
    "    masked_commitee_pred_v1 = np.ma.masked_array(data=pred_v1,mask=one_hot_v1)\n",
    "    masked_commitee_pred_v2 = np.ma.masked_array(data=pred_v2,mask=one_hot_v2)\n",
    "\n",
    "    ystd_data_v1 = masked_commitee_pred_v1[smaller5_v1].std(ddof=1,axis=1)\n",
    "    ymeans_data_v1 = masked_commitee_pred_v1[smaller5_v1].mean(axis=1)\n",
    "    ytrue_data_v1 = np.copy(truth[smaller5_v1])\n",
    "\n",
    "    ystd_data_v2 = masked_commitee_pred_v2[smaller5_v2].std(ddof=1,axis=1)\n",
    "    ymeans_data_v2 = masked_commitee_pred_v2[smaller5_v2].mean(axis=1)\n",
    "    ytrue_data_v2 = np.copy(truth[smaller5_v2])\n",
    "    \n",
    "    def neglog_likelihood_gamma_v1(x,ystd=ystd_data_v1,ymeans=ymeans_data_v1,ytrue=ytrue_data_v1):\n",
    "        alpha = x[0]\n",
    "        beta = x[1]\n",
    "        gamma = x[2]\n",
    "        #beta = x[1]\n",
    "        #gamma = x[2]\n",
    "        ll = np.mean(-0.5*np.log(np.pi*((alpha**2*ystd + beta**2)**(gamma+2))) - (ymeans-ytrue)**2/(2*((alpha**2 * ystd + beta **2)**(gamma+2) )))\n",
    "        return -ll\n",
    "    \n",
    "    def neglog_likelihood_gamma_v2(x,ystd=ystd_data_v2,ymeans=ymeans_data_v2,ytrue=ytrue_data_v2):\n",
    "        alpha = x[0]\n",
    "        beta = x[1]\n",
    "        gamma = x[2]\n",
    "        #beta = x[1]\n",
    "        #gamma = x[2]\n",
    "        ll = np.mean(-0.5*np.log(np.pi*((alpha**2*ystd + beta**2)**(gamma+2))) - (ymeans-ytrue)**2/(2*((alpha**2 * ystd + beta **2)**(gamma+2) )))\n",
    "        return -ll\n",
    "\n",
    "    def neglog_likelihood_gamma_2_v1(x,ystd=ystd_data_v1,ymeans=ymeans_data_v1,ytrue=ytrue_data_v1):\n",
    "        alpha = x[0]\n",
    "        beta = x[1]\n",
    "        gamma = x[2]\n",
    "        #beta = x[1]\n",
    "        #gamma = x[2]\n",
    "        ll = np.mean(-0.5*np.log(np.pi*((alpha**2*ystd**(gamma+2))+ beta**2)) - (ymeans-ytrue)**2/(2*((alpha**2 * ystd**(gamma+2)) + beta **2)))\n",
    "        return -ll\n",
    "\n",
    "    def neglog_likelihood_gamma_2_v2(x,ystd=ystd_data_v2,ymeans=ymeans_data_v2,ytrue=ytrue_data_v2):\n",
    "        alpha = x[0]\n",
    "        beta = x[1]\n",
    "        gamma = x[2]\n",
    "        #beta = x[1]\n",
    "        #gamma = x[2]\n",
    "        ll = np.mean(-0.5*np.log(np.pi*((alpha**2*ystd**(gamma+2)+ beta**2))) - (ymeans-ytrue)**2/(2*((alpha**2 * ystd**(gamma+2)) + beta **2)))\n",
    "        return -ll\n",
    "\n",
    "    def neglog_likelihood_v1(x,ystd=ystd_data_v1,ymeans=ymeans_data_v1,ytrue=ytrue_data_v1):\n",
    "        alpha = x[0]\n",
    "        #beta = x[1]\n",
    "        #gamma = x[2]\n",
    "        ll = np.mean(-0.5*np.log(np.pi*(alpha**2)*ystd**2) - (ymeans-ytrue)**2/(2*(alpha**2 * ystd**2)))\n",
    "        return -ll\n",
    "\n",
    "    def neglog_likelihood_v2(x,ystd=ystd_data_v2,ymeans=ymeans_data_v2,ytrue=ytrue_data_v2):\n",
    "        alpha = x[0]\n",
    "        #beta = x[1]\n",
    "        #gamma = x[2]\n",
    "        ll = np.mean(-0.5*np.log(np.pi*(alpha**2)*ystd**2) - (ymeans-ytrue)**2/(2*(alpha**2 * ystd**2)))\n",
    "        return -ll\n",
    "\n",
    "    def rescale_std_2_std(std,alpha,beta,gamma):\n",
    "        return np.sqrt((alpha**2*std**(gamma+2) + beta**2))\n",
    "    \n",
    "    def rescale_std_3_std(std,alpha,beta,gamma):\n",
    "        return np.sqrt((alpha**2*std**2 + beta**2)**(gamma+2) )\n",
    "\n",
    "    alpha_v1,beta_v1,gamma_v1 = minimize(neglog_likelihood_gamma_2_v1,x0=np.array([1.,1.,1.]))[\"x\"]\n",
    "    alpha_v2,beta_v2,gamma_v2 = minimize(neglog_likelihood_gamma_2_v2,x0=np.array([1.,0.,0.]))[\"x\"]\n",
    "    \n",
    "    int_param[\"alpha_v1\"] = alpha_v1\n",
    "    int_param[\"alpha_v2\"] = alpha_v2\n",
    "    int_param[\"beta_v1\"] = beta_v1\n",
    "    int_param[\"beta_v2\"] = beta_v2\n",
    "    int_param[\"gamma_v1\"] = gamma_v1\n",
    "    int_param[\"gamma_v2\"] = gamma_v2\n",
    "    \n",
    "    params[a_specie] = int_param\n",
    "    \n",
    "    alpha_v1_3,beta_v1_3,gamma_v1_3 = minimize(neglog_likelihood_gamma_v1,x0=np.array([1.,1.,1.]))[\"x\"]\n",
    "    alpha_v2_3,beta_v2_3,gamma_v2_3 = minimize(neglog_likelihood_gamma_v2,x0=np.array([1.,1.,1.]))[\"x\"]\n",
    "    \n",
    "    alpha_v1_2 = minimize(neglog_likelihood_v1,x0=np.array([1.]))[\"x\"]\n",
    "    alpha_v2_2 = minimize(neglog_likelihood_v2,x0=np.array([1.]))[\"x\"]\n",
    "\n",
    "    def combined_pred(pred_v1,pred_v2,a_v1,a_v2,b_v1,b_v2,g_v1,g_v2):\n",
    "        mean_v1 = pred_v1.mean(axis=1)\n",
    "        mean_v2 = pred_v2.mean(axis=1)\n",
    "        std_v1 = pred_v1.std(axis=1,ddof=1)\n",
    "        std_v2 = pred_v2.std(axis=1,ddof=1)\n",
    "        std_v1 = rescale_std_2_std(std_v1, a_v1, b_v1, g_v1)\n",
    "        std_v2 = rescale_std_2_std(std_v2, a_v2, b_v2, g_v2)\n",
    "        final_pred = (1/std_v1**2 + 1/std_v2**2)**-1 * (1/std_v1**2 * mean_v1 + 1/std_v2**2 * mean_v2)\n",
    "        return final_pred\n",
    "\n",
    "    def combined_pred_2(pred_v1,pred_v2,a_v1,a_v2):\n",
    "        mean_v1 = pred_v1.mean(axis=1)\n",
    "        mean_v2 = pred_v2.mean(axis=1)\n",
    "        std_v1 = pred_v1.std(axis=1,ddof=1)\n",
    "        std_v2 = pred_v2.std(axis=1,ddof=1)\n",
    "        std_v1 = a_v1 **2 * std_v1\n",
    "        std_v2 = a_v2 **2 * std_v2\n",
    "        final_pred = (1/std_v1**2 + 1/std_v2**2)**-1 * (1/std_v1**2 * mean_v1 + 1/std_v2**2 * mean_v2)\n",
    "        return final_pred\n",
    "\n",
    "    def combined_pred_3(pred_v1,pred_v2,a_v1,a_v2,b_v1,b_v2,g_v1,g_v2):\n",
    "        mean_v1 = pred_v1.mean(axis=1)\n",
    "        mean_v2 = pred_v2.mean(axis=1)\n",
    "        std_v1 = pred_v1.std(axis=1,ddof=1)\n",
    "        std_v2 = pred_v2.std(axis=1,ddof=1)\n",
    "        std_v1 = rescale_std_3_std(std_v1, a_v1, b_v1, g_v1)\n",
    "        std_v2 = rescale_std_3_std(std_v2, a_v2, b_v2, g_v2)\n",
    "        final_pred = (1/std_v1**2 + 1/std_v2**2)**-1 * (1/std_v1**2 * mean_v1 + 1/std_v2**2 * mean_v2)\n",
    "        return final_pred\n",
    "\n",
    "    print(pred_v1_test.std(axis=1,ddof=1).shape)\n",
    "    print(pred_v1_test.std(axis=1,ddof=1).shape)\n",
    "    print(truth_test.shape)\n",
    "    LL_v1_test =  neglog_likelihood_clean(ystd=pred_v1_test.std(axis=1,ddof=1),ymeans=pred_v1_test.mean(axis=1),ytrue=truth_test)\n",
    "    LL_v2_test =  neglog_likelihood_clean(ystd=pred_v2_test.std(axis=1,ddof=1),ymeans=pred_v2_test.mean(axis=1),ytrue=truth_test)\n",
    "    print(\"LL: {}, v1\".format(LL_v1_test))\n",
    "    print(\"LL: {}, v2\".format(LL_v2_test))\n",
    "    # -print LL after rescaling\n",
    "    LL_v1_test_r_a_b_g =  neglog_likelihood_clean(ystd=rescale_var_2_var(pred_v1_test.std(axis=1,ddof=1),alpha_v1,beta_v1,gamma_v1),ymeans=pred_v1_test.mean(axis=1),ytrue=truth_test)\n",
    "    LL_v2_test_r_a_b_g =  neglog_likelihood_clean(ystd=rescale_var_2_var(pred_v2_test.std(axis=1,ddof=1),alpha_v2,beta_v2,gamma_v2),ymeans=pred_v2_test.mean(axis=1),ytrue=truth_test)\n",
    "    print(\"LL rescale a,b,g: {}, v1\".format(LL_v1_test_r_a_b_g))\n",
    "    print(\"LL rescale a,b,g: {}, v2\".format(LL_v2_test_r_a_b_g))\n",
    "    LL_v1_test_rescale_a =  neglog_likelihood_clean(ystd=alpha_v1_2**2*pred_v1_test.std(axis=1,ddof=1),ymeans=pred_v1_test.mean(axis=1),ytrue=truth_test)\n",
    "    LL_v2_test_rescale_a =  neglog_likelihood_clean(ystd=alpha_v2_2**2*pred_v2_test.std(axis=1,ddof=1),ymeans=pred_v2_test.mean(axis=1),ytrue=truth_test)\n",
    "    print(alpha_v2_2)\n",
    "    print(\"LL rescale a: {}, v1\".format(LL_v1_test_rescale_a))\n",
    "    print(\"LL rescale a: {}, v2\".format(LL_v2_test_rescale_a))    \n",
    "    \n",
    "    # -print LL worst guess\n",
    "    RMSE_test_v1 = mean_squared_error(pred_v1_test.mean(axis=1),truth_test,squared=False)\n",
    "    RMSE_test_v2 = mean_squared_error(pred_v2_test.mean(axis=1),truth_test,squared=False)\n",
    "    LL_v1_test_worst =  neglog_likelihood_clean(ystd=RMSE_test_v1*np.ones(truth_test.shape),ymeans=pred_v1_test.mean(axis=1),ytrue=truth_test)\n",
    "    LL_v2_test_worst =  neglog_likelihood_clean(ystd=RMSE_test_v2*np.ones(truth_test.shape),ymeans=pred_v2_test.mean(axis=1),ytrue=truth_test)\n",
    "    print(\"LL worst: {}, v1\".format(LL_v1_test_worst))\n",
    "    print(\"LL worst: {}, v2\".format(LL_v2_test_worst))\n",
    "    \n",
    "\n",
    "    LL_v1_test_clean =  neglog_likelihood_clean(ystd=np.abs(pred_v1_test.mean(axis=1)-truth_test)**2,ymeans=pred_v1_test.mean(axis=1),ytrue=truth_test)\n",
    "    LL_v2_test_clean =  neglog_likelihood_clean(ystd=np.abs(pred_v2_test.mean(axis=1)-truth_test)**2,ymeans=pred_v2_test.mean(axis=1),ytrue=truth_test)\n",
    "    print(\"LL best: {}, v1\".format(LL_v1_test_clean))\n",
    "    print(\"LL best: {}, v2\".format(LL_v2_test_clean))\n",
    "    # -print LL ideal guess\n",
    "    # -print LL metric\n",
    "    \n",
    "    def dimensionless_coeff(LLworst,LLbest,LLactual):\n",
    "        return max((LLworst-LLactual),0)/(LLworst-LLbest)*100\n",
    "    \n",
    "    print(\"v1 dimensionless alpha rescale {}\".format(dimensionless_coeff(LL_v1_test_worst,LL_v1_test_clean,LL_v1_test_rescale_a)))\n",
    "    print(\"v1 dimensionless alpha beta gamma rescale {}\".format(dimensionless_coeff(LL_v1_test_worst,LL_v1_test_clean,LL_v1_test_r_a_b_g)))\n",
    "    print(\"v2 dimensionless alpha rescale {}\".format(dimensionless_coeff(LL_v2_test_worst,LL_v2_test_clean,LL_v2_test_rescale_a)))\n",
    "    print(\"v2 dimensionless alpha beta gamma rescale {}\".format(dimensionless_coeff(LL_v2_test_worst,LL_v2_test_clean,LL_v2_test_r_a_b_g)))\n",
    "\n",
    "    final_pred = combined_pred(pred_v1_test,pred_v2_test,alpha_v1,alpha_v2,beta_v1,beta_v2,gamma_v1,gamma_v2)\n",
    "    final_pred_test = combined_pred(pred_v2_test,pred_v2_test,alpha_v1,alpha_v1,beta_v1,beta_v1,gamma_v1,gamma_v1)\n",
    "    final_pred_test_v1 = combined_pred(pred_v1_test,pred_v1_test,alpha_v1,alpha_v1,beta_v1,beta_v1,gamma_v1,gamma_v1)\n",
    "    final_pred_3 = combined_pred_3(pred_v1_test,pred_v2_test,alpha_v1_3,alpha_v2_3,beta_v1_3,beta_v2_3,gamma_v1_3,gamma_v2_3)\n",
    "    final_pred_test_3 = combined_pred_3(pred_v2_test,pred_v2_test,alpha_v1_3,alpha_v1_3,beta_v1_3,beta_v1_3,gamma_v1_3,gamma_v1_3)\n",
    "    final_pred_only_alpha = combined_pred_2(pred_v1_test,pred_v2_test,alpha_v1_2,alpha_v2_2)\n",
    "    final_pred_test_only_alpha = combined_pred_2(pred_v2_test,pred_v2_test,alpha_v1_2,alpha_v2_2)\n",
    "    print(\"{} v1 acc: {}\".format(a_specie, mean_squared_error(final_pred_test_v1,truth_test,squared=False)))\n",
    "    print(\"{} v2 acc: {}\".format(a_specie, mean_squared_error(final_pred_test,truth_test,squared=False)))\n",
    "    print(\"{} combined acc: {}\".format(a_specie, mean_squared_error(final_pred,truth_test,squared=False)))\n",
    "    print(\"{} v2 acc only alpha: {}\".format(a_specie, mean_squared_error(final_pred_test_only_alpha,truth_test,squared=False)))\n",
    "    print(\"{} combined acc only alpha: {}\".format(a_specie, mean_squared_error(final_pred_only_alpha,truth_test,squared=False)))\n",
    "    print(\"{} 2nd v2 acc : {}\".format(a_specie, mean_squared_error(final_pred_test_3,truth_test,squared=False)))\n",
    "    print(\"{} 2nd combined acc : {}\".format(a_specie, mean_squared_error(final_pred_3,truth_test,squared=False)))"
   ]
  },
  {
   "cell_type": "code",
   "execution_count": 76,
   "id": "e937df41-5c23-45e9-9a17-458c26276899",
   "metadata": {},
   "outputs": [
    {
     "data": {
      "text/plain": [
       "6.232122407334439"
      ]
     },
     "execution_count": 76,
     "metadata": {},
     "output_type": "execute_result"
    }
   ],
   "source": [
    "np.sqrt(38.8393497)"
   ]
  },
  {
   "cell_type": "code",
   "execution_count": 123,
   "id": "d3870764-79ae-41a3-95ca-637cde03fd9c",
   "metadata": {
    "collapsed": true,
    "jupyter": {
     "outputs_hidden": true
    },
    "tags": []
   },
   "outputs": [
    {
     "name": "stdout",
     "output_type": "stream",
     "text": [
      "(35289,)\n",
      "(35289,)\n",
      "(35289,)\n",
      "LL: 1.1586511618244986, v1\n",
      "LL: 0.697596432357622, v2\n",
      "LL rescale a,b,g: 1.288816070952682, v1\n",
      "LL rescale a,b,g: 1.137058916410714, v2\n",
      "[1.76632733]\n",
      "LL rescale a: 1.2609179827731918, v1\n",
      "LL rescale a: 1.090065843757783, v2\n",
      "LL worst: 1.1905670133475852, v1\n",
      "LL worst: 0.8952479198927992, v2\n",
      "LL best: 0.6982000903347031, v1\n",
      "LL best: 0.3513668022484648, v2\n",
      "v1 dimensionless alpha rescale 0.0\n",
      "v1 dimensionless alpha beta gamma rescale 0.0\n",
      "v2 dimensionless alpha rescale 0.0\n",
      "v2 dimensionless alpha beta gamma rescale 0.0\n",
      "1 v1 acc: 0.7691183741079172\n",
      "1 v2 acc: 0.47378677541603864\n",
      "1 combined acc: 0.509881395014886\n",
      "1 v2 acc only alpha: 0.4737867754160387\n",
      "1 combined acc only alpha: 0.546859912545512\n",
      "1 2nd v2 acc : 0.4737867754160387\n",
      "1 2nd combined acc : 0.49799945481085434\n",
      "(31446,)\n",
      "(31446,)\n",
      "(31446,)\n",
      "LL: 11.5846397050476, v1\n",
      "LL: 6.171536670828824, v2\n",
      "LL rescale a,b,g: 5.7794255761516355, v1\n",
      "LL rescale a,b,g: 4.3715671642175895, v2\n",
      "[4.365713]\n",
      "LL rescale a: 5.797791209393444, v1\n",
      "LL rescale a: 4.312657680441443, v2\n",
      "LL worst: 8.358109308978774, v1\n",
      "LL worst: 5.088036572496819, v2\n",
      "LL best: 3.4646737449800282, v1\n",
      "LL best: 2.5136958880063225, v2\n",
      "v1 dimensionless alpha rescale 52.321483875699116\n",
      "v1 dimensionless alpha beta gamma rescale 52.696795515172326\n",
      "v2 dimensionless alpha rescale 30.119513579797825\n",
      "v2 dimensionless alpha beta gamma rescale 27.83118072117289\n",
      "6 v1 acc: 5.808422550843552\n",
      "6 v2 acc: 3.8856945291952805\n",
      "6 combined acc: 4.075000475112261\n",
      "6 v2 acc only alpha: 3.8856945291952805\n",
      "6 combined acc only alpha: 4.199765998655859\n",
      "6 2nd v2 acc : 3.8856945291952805\n",
      "6 2nd combined acc : 4.289472822188012\n",
      "(3367,)\n",
      "(3367,)\n",
      "(3367,)\n",
      "LL: 43.044169835036776, v1\n",
      "LL: 27.399616126817687, v2\n",
      "LL rescale a,b,g: 32.91607821515284, v1\n",
      "LL rescale a,b,g: 37.389585086632046, v2\n",
      "[6.09231735]\n",
      "LL rescale a: 32.96485945517274, v1\n",
      "LL rescale a: 37.86767326088949, v2\n",
      "LL worst: 33.98035074600011, v1\n",
      "LL worst: 23.758624157987644, v2\n",
      "LL best: 7.376695133263357, v1\n",
      "LL best: 5.6154257323478705, v2\n",
      "v1 dimensionless alpha rescale 3.8171118496256353\n",
      "v1 dimensionless alpha beta gamma rescale 4.00047477060914\n",
      "v2 dimensionless alpha rescale 0.0\n",
      "v2 dimensionless alpha beta gamma rescale 0.0\n",
      "7 v1 acc: 16.121890717106734\n",
      "7 v2 acc: 12.541575915164287\n",
      "7 combined acc: 12.490215502875166\n",
      "7 v2 acc only alpha: 12.541575915164287\n",
      "7 combined acc only alpha: 12.459391564741683\n",
      "7 2nd v2 acc : 12.541575915164287\n",
      "7 2nd combined acc : 13.36455930865476\n",
      "(6346,)\n",
      "(6346,)\n",
      "(6346,)\n",
      "LL: 62.06505613599669, v1\n",
      "LL: 46.0054951043782, v2\n",
      "LL rescale a,b,g: 99.97628120421764, v1\n",
      "LL rescale a,b,g: 19.8851934090414, v2\n",
      "[7.64077694]\n",
      "LL rescale a: 99.97811259784498, v1\n",
      "LL rescale a: 19.91027288381497, v2\n",
      "LL worst: 47.884637097600645, v1\n",
      "LL worst: 34.22240764045702, v2\n",
      "LL best: 9.479856548848627, v1\n",
      "LL best: 7.457322225473222, v2\n",
      "v1 dimensionless alpha rescale 0.0\n",
      "v1 dimensionless alpha beta gamma rescale 0.0\n",
      "v2 dimensionless alpha rescale 53.473151812285046\n",
      "v2 dimensionless alpha beta gamma rescale 53.56685401567697\n",
      "8 v1 acc: 20.441784637238857\n",
      "8 v2 acc: 16.201761642532723\n",
      "8 combined acc: 15.66594928528516\n",
      "8 v2 acc only alpha: 16.201761642532723\n",
      "8 combined acc only alpha: 16.109676697725448\n",
      "8 2nd v2 acc : 16.201761642532723\n",
      "8 2nd combined acc : 18.152714043973354\n"
     ]
    }
   ],
   "source": [
    "params = {}\n",
    "\n",
    "\n",
    "\n",
    "for a_specie in [1,6,7,8]:\n",
    "    int_param = {\"alpha_v1\":None,\"alpha_v2\":None,\"beta_v1\":None,\"beta_v2\":None,\"gamma_v1\":None,\"gamma_v2\":None}\n",
    "    pred_v1 = np.copy(results[\"v1\"][\"pred_train\"][a_specie])\n",
    "    pred_v1_test = np.copy(results[\"v1\"][\"pred_test\"][a_specie])\n",
    "    mean_v1 = np.copy(results[\"v1\"][\"means_train\"][a_specie])\n",
    "    pred_v2 = np.copy(results[\"v2\"][\"pred_train\"][a_specie])\n",
    "    pred_v2_test = np.copy(results[\"v2\"][\"pred_test\"][a_specie])\n",
    "    mean_v2 = np.copy(results[\"v2\"][\"means_train\"][a_specie])\n",
    "    truth = np.copy(results[\"v1\"][\"train_true\"][a_specie])\n",
    "    truth_test = np.copy(results[\"v1\"][\"test_true\"][a_specie])\n",
    "\n",
    "\n",
    "    one_hot_v1 = np.copy(results[\"v1\"][\"one_hot\"][a_specie])\n",
    "    one_hot_v2 = np.copy(results[\"v2\"][\"one_hot\"][a_specie])\n",
    "    smaller5_v1 = np.sum(one_hot_v1,axis=1) < 11\n",
    "    smaller5_v2 = np.sum(one_hot_v2,axis=1) < 11\n",
    "    masked_commitee_pred_v1 = np.ma.masked_array(data=pred_v1,mask=one_hot_v1)\n",
    "    masked_commitee_pred_v2 = np.ma.masked_array(data=pred_v2,mask=one_hot_v2)\n",
    "\n",
    "    ystd_data_v1 = masked_commitee_pred_v1[smaller5_v1].std(ddof=1,axis=1)\n",
    "    ymeans_data_v1 = masked_commitee_pred_v1[smaller5_v1].mean(axis=1)\n",
    "    ytrue_data_v1 = np.copy(truth[smaller5_v1])\n",
    "\n",
    "    ystd_data_v2 = masked_commitee_pred_v2[smaller5_v2].std(ddof=1,axis=1)\n",
    "    ymeans_data_v2 = masked_commitee_pred_v2[smaller5_v2].mean(axis=1)\n",
    "    ytrue_data_v2 = np.copy(truth[smaller5_v2])\n",
    "    \n",
    "    def neglog_likelihood_gamma_v1(x,ystd=ystd_data_v1,ymeans=ymeans_data_v1,ytrue=ytrue_data_v1):\n",
    "        alpha = x[0]\n",
    "        beta = x[1]\n",
    "        gamma = x[2]\n",
    "        #beta = x[1]\n",
    "        #gamma = x[2]\n",
    "        ll = np.mean(-0.5*np.log(np.pi*((alpha**2*ystd + beta**2)**(gamma+2))) - (ymeans-ytrue)**2/(2*((alpha**2 * ystd + beta **2)**(gamma+2) )))\n",
    "        return -ll\n",
    "    \n",
    "    def neglog_likelihood_gamma_v2(x,ystd=ystd_data_v2,ymeans=ymeans_data_v2,ytrue=ytrue_data_v2):\n",
    "        alpha = x[0]\n",
    "        beta = x[1]\n",
    "        gamma = x[2]\n",
    "        #beta = x[1]\n",
    "        #gamma = x[2]\n",
    "        ll = np.mean(-0.5*np.log(np.pi*((alpha**2*ystd + beta**2)**(gamma+2))) - (ymeans-ytrue)**2/(2*((alpha**2 * ystd + beta **2)**(gamma+2) )))\n",
    "        return -ll\n",
    "\n",
    "    def neglog_likelihood_gamma_2_v1(x,ystd=ystd_data_v1,ymeans=ymeans_data_v1,ytrue=ytrue_data_v1):\n",
    "        alpha = x[0]\n",
    "        beta = x[1]\n",
    "        gamma = x[2]\n",
    "        #beta = x[1]\n",
    "        #gamma = x[2]\n",
    "        ll = np.mean(-0.5*np.log(np.pi*((alpha**2*ystd**(gamma+2))+ beta**2)) - (ymeans-ytrue)**2/(2*((alpha**2 * ystd**(gamma+2)) + beta **2)))\n",
    "        return -ll\n",
    "\n",
    "    def neglog_likelihood_gamma_2_v2(x,ystd=ystd_data_v2,ymeans=ymeans_data_v2,ytrue=ytrue_data_v2):\n",
    "        alpha = x[0]\n",
    "        beta = x[1]\n",
    "        gamma = x[2]\n",
    "        #beta = x[1]\n",
    "        #gamma = x[2]\n",
    "        ll = np.mean(-0.5*np.log(np.pi*((alpha**2*ystd**(gamma+2)+ beta**2))) - (ymeans-ytrue)**2/(2*((alpha**2 * ystd**(gamma+2)) + beta **2)))\n",
    "        return -ll\n",
    "\n",
    "    def neglog_likelihood_v1(x,ystd=ystd_data_v1,ymeans=ymeans_data_v1,ytrue=ytrue_data_v1):\n",
    "        alpha = x[0]\n",
    "        #beta = x[1]\n",
    "        #gamma = x[2]\n",
    "        ll = np.mean(-0.5*np.log(np.pi*(alpha**2)*ystd) - (ymeans-ytrue)**2/(2*(alpha**2 * ystd)))\n",
    "        return -ll\n",
    "\n",
    "    def neglog_likelihood_v2(x,ystd=ystd_data_v1,ymeans=ymeans_data_v1,ytrue=ytrue_data_v1):\n",
    "        alpha = x[0]\n",
    "        #beta = x[1]\n",
    "        #gamma = x[2]\n",
    "        ll = np.mean(-0.5*np.log(np.pi*(alpha**2)*ystd) - (ymeans-ytrue)**2/(2*(alpha**2 * ystd)))\n",
    "        return -ll\n",
    "\n",
    "    def rescale_std_2_std(std,alpha,beta,gamma):\n",
    "        return np.sqrt((alpha**2*std**(gamma+2)) + beta**2)\n",
    "    \n",
    "    def rescale_std_3_std(std,alpha,beta,gamma):\n",
    "        return np.sqrt((alpha**2*std**2 + beta**2)**(gamma+2) )\n",
    "\n",
    "    alpha_v1,beta_v1,gamma_v1 = minimize(neglog_likelihood_gamma_2_v1,x0=np.array([1.,1.,1.]))[\"x\"]\n",
    "    alpha_v2,beta_v2,gamma_v2 = minimize(neglog_likelihood_gamma_2_v2,x0=np.array([1.,1.,1.]))[\"x\"]\n",
    "    \n",
    "    int_param[\"alpha_v1\"] = alpha_v1\n",
    "    int_param[\"alpha_v2\"] = alpha_v2\n",
    "    int_param[\"beta_v1\"] = beta_v1\n",
    "    int_param[\"beta_v2\"] = beta_v2\n",
    "    int_param[\"gamma_v1\"] = gamma_v1\n",
    "    int_param[\"gamma_v2\"] = gamma_v2\n",
    "    \n",
    "    params[a_specie] = int_param\n",
    "    \n",
    "    alpha_v1_3,beta_v1_3,gamma_v1_3 = minimize(neglog_likelihood_gamma_v1,x0=np.array([1.,1.,1.]))[\"x\"]\n",
    "    alpha_v2_3,beta_v2_3,gamma_v2_3 = minimize(neglog_likelihood_gamma_v2,x0=np.array([1.,1.,1.]))[\"x\"]\n",
    "\n",
    "    alpha_v1_2 = minimize(neglog_likelihood_v1,x0=np.array([1.]))[\"x\"]\n",
    "    alpha_v2_2 = minimize(neglog_likelihood_v2,x0=np.array([1.]))[\"x\"]\n",
    "\n",
    "    def combined_pred(pred_v1,pred_v2,a_v1,a_v2,b_v1,b_v2,g_v1,g_v2):\n",
    "        mean_v1 = pred_v1.mean(axis=1)\n",
    "        mean_v2 = pred_v2.mean(axis=1)\n",
    "        std_v1 = pred_v1.std(axis=1,ddof=1)\n",
    "        std_v2 = pred_v2.std(axis=1,ddof=1)\n",
    "        std_v1 = rescale_std_2_std(std_v1, a_v1, b_v1, g_v1)\n",
    "        std_v2 = rescale_std_2_std(std_v2, a_v2, b_v2, g_v2)\n",
    "        final_pred = (1/std_v1**2 + 1/std_v2**2)**-1 * (1/std_v1**2 * mean_v1 + 1/std_v2**2 * mean_v2)\n",
    "        return final_pred\n",
    "\n",
    "    def combined_pred_2(pred_v1,pred_v2,a_v1,a_v2):\n",
    "        mean_v1 = pred_v1.mean(axis=1)\n",
    "        mean_v2 = pred_v2.mean(axis=1)\n",
    "        std_v1 = pred_v1.std(axis=1,ddof=1)\n",
    "        std_v2 = pred_v2.std(axis=1,ddof=1)\n",
    "        std_v1 = a_v1 **2 * std_v1\n",
    "        std_v2 = a_v2 **2 * std_v2\n",
    "        final_pred = (1/std_v1**2 + 1/std_v2**2)**-1 * (1/std_v1**2 * mean_v1 + 1/std_v2**2 * mean_v2)\n",
    "        return final_pred\n",
    "\n",
    "    def combined_pred_3(pred_v1,pred_v2,a_v1,a_v2,b_v1,b_v2,g_v1,g_v2):\n",
    "        mean_v1 = pred_v1.mean(axis=1)\n",
    "        mean_v2 = pred_v2.mean(axis=1)\n",
    "        std_v1 = pred_v1.std(axis=1,ddof=1)\n",
    "        std_v2 = pred_v2.std(axis=1,ddof=1)\n",
    "        std_v1 = rescale_std_3_std(std_v1, a_v1, b_v1, g_v1)\n",
    "        std_v2 = rescale_std_3_std(std_v2, a_v2, b_v2, g_v2)\n",
    "        final_pred = (1/std_v1**2 + 1/std_v2**2)**-1 * (1/std_v1**2 * mean_v1 + 1/std_v2**2 * mean_v2)\n",
    "        return final_pred\n",
    "\n",
    "    print(pred_v1_test.std(axis=1,ddof=1).shape)\n",
    "    print(pred_v1_test.std(axis=1,ddof=1).shape)\n",
    "    print(truth_test.shape)\n",
    "    LL_v1_test =  neglog_likelihood_clean(ystd=pred_v1_test.std(axis=1,ddof=1),ymeans=pred_v1_test.mean(axis=1),ytrue=truth_test)\n",
    "    LL_v2_test =  neglog_likelihood_clean(ystd=pred_v2_test.std(axis=1,ddof=1),ymeans=pred_v2_test.mean(axis=1),ytrue=truth_test)\n",
    "    print(\"LL: {}, v1\".format(LL_v1_test))\n",
    "    print(\"LL: {}, v2\".format(LL_v2_test))\n",
    "    # -print LL after rescaling\n",
    "    LL_v1_test_r_a_b_g =  neglog_likelihood_clean(ystd=rescale_var_2_var(pred_v1_test.std(axis=1,ddof=1),alpha_v1,beta_v1,gamma_v1),ymeans=pred_v1_test.mean(axis=1),ytrue=truth_test)\n",
    "    LL_v2_test_r_a_b_g =  neglog_likelihood_clean(ystd=rescale_var_2_var(pred_v2_test.std(axis=1,ddof=1),alpha_v2,beta_v2,gamma_v2),ymeans=pred_v2_test.mean(axis=1),ytrue=truth_test)\n",
    "    print(\"LL rescale a,b,g: {}, v1\".format(LL_v1_test_r_a_b_g))\n",
    "    print(\"LL rescale a,b,g: {}, v2\".format(LL_v2_test_r_a_b_g))\n",
    "    LL_v1_test_rescale_a =  neglog_likelihood_clean(ystd=rescale_var_2_var(alpha_v1_2*pred_v1_test.std(axis=1,ddof=1),alpha_v1,beta_v1,gamma_v1),ymeans=pred_v1_test.mean(axis=1),ytrue=truth_test)\n",
    "    LL_v2_test_rescale_a =  neglog_likelihood_clean(ystd=rescale_var_2_var(alpha_v2_2*pred_v2_test.std(axis=1,ddof=1),alpha_v2,beta_v2,gamma_v2),ymeans=pred_v2_test.mean(axis=1),ytrue=truth_test)\n",
    "    print(alpha_v2_2)\n",
    "    print(\"LL rescale a: {}, v1\".format(LL_v1_test_rescale_a))\n",
    "    print(\"LL rescale a: {}, v2\".format(LL_v2_test_rescale_a))    \n",
    "    \n",
    "    # -print LL worst guess\n",
    "    RMSE_test_v1 = mean_squared_error(pred_v1_test.mean(axis=1),truth_test,squared=False)\n",
    "    RMSE_test_v2 = mean_squared_error(pred_v2_test.mean(axis=1),truth_test,squared=False)\n",
    "    LL_v1_test_worst =  neglog_likelihood_clean(ystd=RMSE_test_v1*np.ones(truth_test.shape),ymeans=pred_v1_test.mean(axis=1),ytrue=truth_test)\n",
    "    LL_v2_test_worst =  neglog_likelihood_clean(ystd=RMSE_test_v2*np.ones(truth_test.shape),ymeans=pred_v2_test.mean(axis=1),ytrue=truth_test)\n",
    "    print(\"LL worst: {}, v1\".format(LL_v1_test_worst))\n",
    "    print(\"LL worst: {}, v2\".format(LL_v2_test_worst))\n",
    "    \n",
    "\n",
    "    LL_v1_test_clean =  neglog_likelihood_clean(ystd=np.abs(pred_v1_test.mean(axis=1)-truth_test)**2,ymeans=pred_v1_test.mean(axis=1),ytrue=truth_test)\n",
    "    LL_v2_test_clean =  neglog_likelihood_clean(ystd=np.abs(pred_v2_test.mean(axis=1)-truth_test)**2,ymeans=pred_v2_test.mean(axis=1),ytrue=truth_test)\n",
    "    print(\"LL best: {}, v1\".format(LL_v1_test_clean))\n",
    "    print(\"LL best: {}, v2\".format(LL_v2_test_clean))\n",
    "    # -print LL ideal guess\n",
    "    # -print LL metric\n",
    "    \n",
    "    def dimensionless_coeff(LLworst,LLbest,LLactual):\n",
    "        return max((LLworst-LLactual),0)/(LLworst-LLbest)*100\n",
    "    \n",
    "    print(\"v1 dimensionless alpha rescale {}\".format(dimensionless_coeff(LL_v1_test_worst,LL_v1_test_clean,LL_v1_test_rescale_a)))\n",
    "    print(\"v1 dimensionless alpha beta gamma rescale {}\".format(dimensionless_coeff(LL_v1_test_worst,LL_v1_test_clean,LL_v1_test_r_a_b_g)))\n",
    "    print(\"v2 dimensionless alpha rescale {}\".format(dimensionless_coeff(LL_v2_test_worst,LL_v2_test_clean,LL_v2_test_rescale_a)))\n",
    "    print(\"v2 dimensionless alpha beta gamma rescale {}\".format(dimensionless_coeff(LL_v2_test_worst,LL_v2_test_clean,LL_v2_test_r_a_b_g)))\n",
    "\n",
    "    final_pred = combined_pred(pred_v1_test,pred_v2_test,alpha_v1,alpha_v2,beta_v1,beta_v2,gamma_v1,gamma_v2)\n",
    "    final_pred_test = combined_pred(pred_v2_test,pred_v2_test,alpha_v1,alpha_v1,beta_v1,beta_v1,gamma_v1,gamma_v1)\n",
    "    final_pred_test_v1 = combined_pred(pred_v1_test,pred_v1_test,alpha_v1,alpha_v1,beta_v1,beta_v1,gamma_v1,gamma_v1)\n",
    "    final_pred_3 = combined_pred_3(pred_v1_test,pred_v2_test,alpha_v1_3,alpha_v2_3,beta_v1_3,beta_v2_3,gamma_v1_3,gamma_v2_3)\n",
    "    final_pred_test_3 = combined_pred_3(pred_v2_test,pred_v2_test,alpha_v1_3,alpha_v1_3,beta_v1_3,beta_v1_3,gamma_v1_3,gamma_v1_3)\n",
    "    final_pred_only_alpha = combined_pred_2(pred_v1_test,pred_v2_test,alpha_v1_2,alpha_v2_2)\n",
    "    final_pred_test_only_alpha = combined_pred_2(pred_v2_test,pred_v2_test,alpha_v1_2,alpha_v2_2)\n",
    "    print(\"{} v1 acc: {}\".format(a_specie, mean_squared_error(final_pred_test_v1,truth_test,squared=False)))\n",
    "    print(\"{} v2 acc: {}\".format(a_specie, mean_squared_error(final_pred_test,truth_test,squared=False)))\n",
    "    print(\"{} combined acc: {}\".format(a_specie, mean_squared_error(final_pred,truth_test,squared=False)))\n",
    "    print(\"{} v2 acc only alpha: {}\".format(a_specie, mean_squared_error(final_pred_test_only_alpha,truth_test,squared=False)))\n",
    "    print(\"{} combined acc only alpha: {}\".format(a_specie, mean_squared_error(final_pred_only_alpha,truth_test,squared=False)))\n",
    "    print(\"{} 2nd v2 acc : {}\".format(a_specie, mean_squared_error(final_pred_test_3,truth_test,squared=False)))\n",
    "    print(\"{} 2nd combined acc : {}\".format(a_specie, mean_squared_error(final_pred_3,truth_test,squared=False)))"
   ]
  },
  {
   "cell_type": "code",
   "execution_count": 52,
   "id": "48d1a15f-0bcd-4a51-a43d-a6f39fe1e6c0",
   "metadata": {},
   "outputs": [],
   "source": [
    "with open(\"rescaling_params_RR.json\",\"w\") as fg:\n",
    "    json.dump(params_RR,fg)"
   ]
  },
  {
   "cell_type": "code",
   "execution_count": 101,
   "id": "69c7613b-535c-4f9a-be0c-d6276e00cdfa",
   "metadata": {},
   "outputs": [
    {
     "data": {
      "text/plain": [
       "(134692, 16)"
      ]
     },
     "execution_count": 101,
     "metadata": {},
     "output_type": "execute_result"
    }
   ],
   "source": [
    "one_hot_train.shape"
   ]
  },
  {
   "cell_type": "code",
   "execution_count": 102,
   "id": "5fed5548-147d-4ab2-9c5e-e8bdcd70d90a",
   "metadata": {},
   "outputs": [
    {
     "data": {
      "image/png": "[encoded data removed]",
      "text/plain": [
       "<Figure size 432x288 with 1 Axes>"
      ]
     },
     "metadata": {
      "needs_background": "light"
     },
     "output_type": "display_data"
    }
   ],
   "source": [
    "_ = plt.hist(one_hot_train.sum(axis=1))"
   ]
  },
  {
   "cell_type": "code",
   "execution_count": null,
   "id": "3b338fb8-bc42-4e07-bcbe-56d05e086a2e",
   "metadata": {},
   "outputs": [],
   "source": []
  },
  {
   "cell_type": "code",
   "execution_count": 90,
   "id": "cdf8cc0e-a0a6-400f-ba04-26a94c4c2108",
   "metadata": {},
   "outputs": [
    {
     "data": {
      "text/plain": [
       "array([False, False, False, ..., False, False, False])"
      ]
     },
     "execution_count": 90,
     "metadata": {},
     "output_type": "execute_result"
    }
   ],
   "source": [
    "_ = plt.hist(one_hot_train.sum(axis=1))"
   ]
  },
  {
   "cell_type": "code",
   "execution_count": 88,
   "id": "18e2bb9e-3680-46b4-a93a-d465de1a2ffd",
   "metadata": {},
   "outputs": [
    {
     "data": {
      "image/png": "[encoded data removed]",
      "text/plain": [
       "<Figure size 432x288 with 1 Axes>"
      ]
     },
     "metadata": {
      "needs_background": "light"
     },
     "output_type": "display_data"
    }
   ],
   "source": [
    "from matplotlib import pyplot as plt\n",
    "_ = plt.hist(one_hot_train.sum(axis=1))"
   ]
  },
  {
   "cell_type": "code",
   "execution_count": 87,
   "id": "8dfdbc61-716a-4560-80a3-ca0c4fb2ac50",
   "metadata": {},
   "outputs": [
    {
     "data": {
      "text/plain": [
       "(134692, 16)"
      ]
     },
     "execution_count": 87,
     "metadata": {},
     "output_type": "execute_result"
    }
   ],
   "source": [
    "one_hot_train.shape"
   ]
  },
  {
   "cell_type": "code",
   "execution_count": null,
   "id": "5ee6126a-7663-45f5-8838-63dd737c70da",
   "metadata": {},
   "outputs": [],
   "source": []
  },
  {
   "cell_type": "code",
   "execution_count": 80,
   "id": "2086ce8a-9a91-4293-8501-e478fc2580f9",
   "metadata": {},
   "outputs": [
    {
     "data": {
      "text/plain": [
       "array([ True,  True,  True,  True,  True,  True,  True,  True,  True,\n",
       "        True,  True,  True,  True,  True,  True,  True])"
      ]
     },
     "execution_count": 80,
     "metadata": {},
     "output_type": "execute_result"
    }
   ],
   "source": [
    "one_hot_train[-1]"
   ]
  },
  {
   "cell_type": "code",
   "execution_count": 45,
   "id": "fdd90ba9-1557-4005-ba78-441bcd74b15f",
   "metadata": {},
   "outputs": [
    {
     "data": {
      "text/plain": [
       "(134692, 16)"
      ]
     },
     "execution_count": 45,
     "metadata": {},
     "output_type": "execute_result"
    }
   ],
   "source": [
    "results[\"v1\"][\"one_hot\"][a_specie].shape"
   ]
  },
  {
   "cell_type": "code",
   "execution_count": 53,
   "id": "0399cc6a-0ebb-41f2-b0d4-60a480552975",
   "metadata": {},
   "outputs": [],
   "source": [
    "with open(\"rescaling_params_RR.json\",\"w\") as fg:\n",
    "    json.dump(params_RR,fg)"
   ]
  },
  {
   "cell_type": "code",
   "execution_count": 10,
   "id": "501bf1e2-359e-4dcb-8a01-dc4e234bba9a",
   "metadata": {},
   "outputs": [],
   "source": [
    "import json"
   ]
  },
  {
   "cell_type": "code",
   "execution_count": 54,
   "id": "22c24c96-68ca-4afb-8833-a99823d045f6",
   "metadata": {},
   "outputs": [],
   "source": [
    "with open(\"rescaling_params_NN.json\",\"w\") as fg:\n",
    "    json.dump(params,fg)"
   ]
  },
  {
   "cell_type": "code",
   "execution_count": 64,
   "id": "6ec7ea32-fef3-4b32-8b41-2780c5c761b3",
   "metadata": {},
   "outputs": [
    {
     "data": {
      "text/plain": [
       "array([26.39822153, 26.39822325, 26.39821328, ..., 23.55054368,\n",
       "       23.55029808, 23.5505181 ])"
      ]
     },
     "execution_count": 64,
     "metadata": {},
     "output_type": "execute_result"
    }
   ],
   "source": [
    "final_pred_test"
   ]
  },
  {
   "cell_type": "code",
   "execution_count": 65,
   "id": "2b15fc61-62d8-4d5e-ace4-4fbb0ba7ce8b",
   "metadata": {},
   "outputs": [
    {
     "data": {
      "text/plain": [
       "(35289,)"
      ]
     },
     "execution_count": 65,
     "metadata": {},
     "output_type": "execute_result"
    }
   ],
   "source": [
    "final_pred.shape"
   ]
  },
  {
   "cell_type": "code",
   "execution_count": 66,
   "id": "b7b1310f-46ec-4ab0-beb9-67b4bc450894",
   "metadata": {},
   "outputs": [
    {
     "data": {
      "text/plain": [
       "0.4737867754160387"
      ]
     },
     "execution_count": 66,
     "metadata": {},
     "output_type": "execute_result"
    }
   ],
   "source": [
    "mean_squared_error(final_pred_test,truth_test,squared=False)"
   ]
  },
  {
   "cell_type": "code",
   "execution_count": 67,
   "id": "d9bbff48-414d-4cda-a633-3bd4393c1e25",
   "metadata": {},
   "outputs": [
    {
     "data": {
      "text/plain": [
       "0.4737867754160387"
      ]
     },
     "execution_count": 67,
     "metadata": {},
     "output_type": "execute_result"
    }
   ],
   "source": [
    "mean_squared_error(pred_v2_test.mean(axis=1),truth_test,squared=False)"
   ]
  },
  {
   "cell_type": "code",
   "execution_count": 59,
   "id": "087d631f-3b38-4a55-9354-5f94a5f6ef3b",
   "metadata": {},
   "outputs": [
    {
     "data": {
      "text/plain": [
       "0.5094365939057868"
      ]
     },
     "execution_count": 59,
     "metadata": {},
     "output_type": "execute_result"
    }
   ],
   "source": [
    "mean_squared_error(final_pred,truth_test,squared=False)"
   ]
  },
  {
   "cell_type": "code",
   "execution_count": 48,
   "id": "98d79491-8295-4cc4-9bec-7d71050523e2",
   "metadata": {},
   "outputs": [
    {
     "data": {
      "text/plain": [
       "2.1666221954826015"
      ]
     },
     "execution_count": 48,
     "metadata": {},
     "output_type": "execute_result"
    }
   ],
   "source": [
    "alpha_v1"
   ]
  },
  {
   "cell_type": "code",
   "execution_count": 50,
   "id": "36c43ecd-62e2-40a5-846f-29f151958f5d",
   "metadata": {},
   "outputs": [
    {
     "data": {
      "text/plain": [
       "-1.2337890032550534"
      ]
     },
     "execution_count": 50,
     "metadata": {},
     "output_type": "execute_result"
    }
   ],
   "source": [
    "gamma_v1"
   ]
  },
  {
   "cell_type": "code",
   "execution_count": 49,
   "id": "bc482e26-0618-4607-9867-2a9bf0caa30b",
   "metadata": {},
   "outputs": [
    {
     "data": {
      "text/plain": [
       "1.9385516672672058"
      ]
     },
     "execution_count": 49,
     "metadata": {},
     "output_type": "execute_result"
    }
   ],
   "source": [
    "alpha_v2"
   ]
  },
  {
   "cell_type": "code",
   "execution_count": 12,
   "id": "82bc50eb-2724-47a1-8f27-68530e714ad7",
   "metadata": {},
   "outputs": [],
   "source": [
    "from sklearn.metrics import mean_squared_error"
   ]
  },
  {
   "cell_type": "code",
   "execution_count": 13,
   "id": "e044cee9-a385-4055-b5ae-6714d9df92e9",
   "metadata": {},
   "outputs": [
    {
     "data": {
      "text/plain": [
       "19.094484483998148"
      ]
     },
     "execution_count": 13,
     "metadata": {},
     "output_type": "execute_result"
    }
   ],
   "source": [
    "mean_squared_error(mean_v1,truth,squared=False)"
   ]
  },
  {
   "cell_type": "code",
   "execution_count": 16,
   "id": "a5242e68-ce3d-4bc0-9bfe-aa60774fb58a",
   "metadata": {},
   "outputs": [
    {
     "data": {
      "text/plain": [
       "3.8856945291952805"
      ]
     },
     "execution_count": 16,
     "metadata": {},
     "output_type": "execute_result"
    }
   ],
   "source": [
    "mean_squared_error(results[\"v2\"][\"means_test\"][6],results[\"v1\"][\"test_true\"][6],squared=False)"
   ]
  },
  {
   "cell_type": "code",
   "execution_count": 17,
   "id": "81c80a30-992b-45ce-b957-0aa10cac94ba",
   "metadata": {},
   "outputs": [
    {
     "data": {
      "text/plain": [
       "5.808422550843553"
      ]
     },
     "execution_count": 17,
     "metadata": {},
     "output_type": "execute_result"
    }
   ],
   "source": [
    "mean_squared_error(results[\"v1\"][\"means_test\"][6],results[\"v1\"][\"test_true\"][6],squared=False)"
   ]
  },
  {
   "cell_type": "code",
   "execution_count": 24,
   "id": "1eb6d068-a87f-40b6-b018-4b0f3eeb1921",
   "metadata": {},
   "outputs": [],
   "source": [
    "a = np.load(\"./multi_ridge_v2/13C_test_commitee_prediction.npy\")"
   ]
  },
  {
   "cell_type": "code",
   "execution_count": 25,
   "id": "44d6b302-0150-4a76-8451-606c28314271",
   "metadata": {},
   "outputs": [
    {
     "data": {
      "text/plain": [
       "4.437857324092521"
      ]
     },
     "execution_count": 25,
     "metadata": {},
     "output_type": "execute_result"
    }
   ],
   "source": [
    "mean_squared_error(np.mean(a,axis=1),results[\"v1\"][\"test_true\"][6],squared=False)"
   ]
  },
  {
   "cell_type": "code",
   "execution_count": 65,
   "id": "af73cd90-53be-4be5-a225-51a97ef74aba",
   "metadata": {},
   "outputs": [],
   "source": [
    "a = np.load(\"./multi_ridge_v1/specie_1_model_no_1_test_pred.npy\")"
   ]
  },
  {
   "cell_type": "code",
   "execution_count": 56,
   "id": "06933d59-6c0f-46b5-94b3-24d736567735",
   "metadata": {},
   "outputs": [
    {
     "data": {
      "text/plain": [
       "(31446,)"
      ]
     },
     "execution_count": 56,
     "metadata": {},
     "output_type": "execute_result"
    }
   ],
   "source": [
    "a.shape"
   ]
  },
  {
   "cell_type": "code",
   "execution_count": 57,
   "id": "3474c341-5232-4b95-bc77-f3d699324136",
   "metadata": {},
   "outputs": [
    {
     "data": {
      "text/plain": [
       "array([39.3994998 , 39.40112541, 39.39960339, ..., 23.0001398 ,\n",
       "       22.99961172, 23.00144591])"
      ]
     },
     "execution_count": 57,
     "metadata": {},
     "output_type": "execute_result"
    }
   ],
   "source": [
    "a"
   ]
  },
  {
   "cell_type": "code",
   "execution_count": 66,
   "id": "040b6616-7cda-4789-9fe9-2c04056afb28",
   "metadata": {},
   "outputs": [
    {
     "data": {
      "text/plain": [
       "1.2168659259406447"
      ]
     },
     "execution_count": 66,
     "metadata": {},
     "output_type": "execute_result"
    }
   ],
   "source": [
    "mean_squared_error(a,results[\"v1\"][\"test_true\"][1],squared=False)"
   ]
  },
  {
   "cell_type": "markdown",
   "id": "9fbab745-e40a-458b-8c9a-d78ced092a25",
   "metadata": {},
   "source": []
  }
 ],
 "metadata": {
  "kernelspec": {
   "display_name": "Python 3 (ipykernel)",
   "language": "python",
   "name": "python3"
  },
  "language_info": {
   "codemirror_mode": {
    "name": "ipython",
    "version": 3
   },
   "file_extension": ".py",
   "mimetype": "text/x-python",
   "name": "python",
   "nbconvert_exporter": "python",
   "pygments_lexer": "ipython3",
   "version": "3.8.10"
  }
 },
 "nbformat": 4,
 "nbformat_minor": 5
}
