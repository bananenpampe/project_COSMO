{
 "cells": [
  {
   "cell_type": "markdown",
   "metadata": {},
   "source": [
    "## Notebook for data curation"
   ]
  },
  {
   "cell_type": "markdown",
   "metadata": {},
   "source": [
    "This Notebook is used to generate a dataset (in the extended .xyz format) of the CSD-2K CSD-1K and CSD-S546 data (CSD-3K+S546_shift_tensors.xyz) and the CSD-500 and CSD-S104 data (CSD-500+104-7_shift_tensors.xyz), containing the atom-wise isotropic chemical shifts and shift tensor extracted from the .magres files given in the original CSD-X data \n",
    "(archived in https://archive.materialscloud.org/record/2019.0023/v1)."
   ]
  },
  {
   "cell_type": "markdown",
   "metadata": {},
   "source": [
    "The CSD-500+104-7_shift_tensors.xyz file misses 7 files from the originally reported CSD-500+104.xyz file. I have noticed that there are 7 structures in the CSD-500+104.xyz file (‘JEKPIZ’, ‘NECFIM’, ‘CUMZAM’, ‘ODEJAJ01’, ‘ITOFEE’, ‘WEPBAV’, ‘FOQREK) that have missing .magres files. These structures were excluded from the tensor containing .xyz file. I have done this by returning the intersection of two dicts containing {key(CSD-identifier) : value(e.g. atoms object)} pairs."
   ]
  },
  {
   "cell_type": "markdown",
   "metadata": {},
   "source": [
    "A second file helpers.py contains helper functions building CSD-identifier:property dicts, testing functions and a modified .magres parser from the ASE library. This is necessary because either the .magres parser from the ASE (and http://tfgg.me/magres-format/build/html/index.html) are broken, or the .magres files were not written according to specifications. \n",
    "\n",
    "This originates from large isotropic shifts and tensor values not being white-space separated. \n",
    "'m N-6.0351   57.0173   -6.0146   39.7698   98.8410   49.6738   13.0950   46.7860-115.2668'\n",
    "\n",
    "The not so nice fix is to replace each \"-\" with \" -\" in the file and resubstituting the only other two lines containing \"-\" in the .magres file (some unit information and calculator version number)\n",
    "\n",
    "The modified ASE parser takes a modified file object as input instead of a file path."
   ]
  },
  {
   "cell_type": "code",
   "execution_count": 3,
   "metadata": {},
   "outputs": [],
   "source": [
    "import os\n",
    "import glob\n",
    "from ase.io import read, write\n",
    "import numpy as np\n",
    "\n",
    "from helpers import *"
   ]
  },
  {
   "cell_type": "code",
   "execution_count": 4,
   "metadata": {},
   "outputs": [
    {
     "name": "stdout",
     "output_type": "stream",
     "text": [
      "/Users/matthiaskellner/Desktop/EPFL_2021/COSMO_project/make_tensor_data/CSD-500/magres/*magres\n",
      "/Users/matthiaskellner/Desktop/EPFL_2021/COSMO_project/make_tensor_data/CSD-S104/magres/*magres\n"
     ]
    }
   ],
   "source": [
    "#Build dictionary with {key: STRUCTURE-CSD-NAME value: atoms object}\n",
    "\n",
    "extyz_dict = build_extxy_dict(\"CSD-500+S104.xyz\")\n",
    "\n",
    "\n",
    "#da\n",
    "datasets = [\"CSD-500\",\"CSD-S104\"] #test directories\n",
    "contained_in = \"magres\"\n",
    "extension = \"*magres\"\n",
    "\n",
    "#build path\n",
    "#./CSD-500/magres/*magres\n",
    "\n",
    "extyz_dict_tens = {}\n",
    "\n",
    "for dataset in datasets:\n",
    "    DATASETPATH = os.path.join(os.getcwd(),dataset,contained_in,extension)\n",
    "    files = glob.glob(DATASETPATH)\n",
    "    print(DATASETPATH)\n",
    "    for n, file in enumerate(files):\n",
    "        structname = file.rstrip(\".nmr.magres\").split(\"/\")[-1]\n",
    "        extyz_dict_tens.update({structname : None})\n",
    "\n",
    "#build intersection of two sets (.xyz files) necessary for train set due to the 7 missing files\n",
    "final_dict = {x:extyz_dict[x] for x in extyz_dict \n",
    "                              if x in extyz_dict_tens}  \n",
    "\n",
    "# else, just do:\n",
    "# final_dict = {x:extyz_dict[x] for x in extyz_dict}"
   ]
  },
  {
   "cell_type": "code",
   "execution_count": 5,
   "metadata": {},
   "outputs": [],
   "source": [
    "#Build dictionary with {key: STRUCTURE-CSD-NAME value: STATUS}\n",
    "\n",
    "all_ids = generate_status_dict(\"CSD-3k+S546.xyz\",\"PASSING\")\n",
    "souspicious = generate_status_dict(\"./frames_status/frames_suspicious.xyz\",\"SUSPICIOUS\")\n",
    "outliers = generate_status_dict(\"./frames_status/frames_blatant_outliers.xyz\",\"FAIL\")\n",
    "\n",
    "all_ids.update(souspicious) \n",
    "all_ids.update(outliers)"
   ]
  },
  {
   "cell_type": "code",
   "execution_count": 6,
   "metadata": {},
   "outputs": [
    {
     "name": "stdout",
     "output_type": "stream",
     "text": [
      "/Users/matthiaskellner/Desktop/EPFL_2021/COSMO_project/make_tensor_data/CSD-500/magres/*magres\n",
      "/Users/matthiaskellner/Desktop/EPFL_2021/COSMO_project/make_tensor_data/CSD-S104/magres/*magres\n"
     ]
    }
   ],
   "source": [
    "#loop through datasets (magres directories and files that are contained in the latter)\n",
    "#extract the CSD name from the file name\n",
    "# read and generate atoms objects from .magres files\n",
    "# remove atoms.info pairs that are garbage\n",
    "# if set_status (for training) is True: write status to info dict\n",
    "# flatten shift tensor and add it with another name\n",
    "# change coordinates to coordinates from .extyz file (higher precision) \n",
    "# \n",
    "\n",
    "\n",
    "# Directories, where .magresfiles are located\n",
    "datasets= [\"CSD-500\",\"CSD-S104\"] #[\"CSD-2k\",\"CSD-1k\",\"CSD-S546\"]\n",
    "contained_in = \"magres\"\n",
    "extension = \"*magres\"\n",
    "\n",
    "structs = []\n",
    "\n",
    "set_status=False\n",
    "\n",
    "for dataset in datasets:\n",
    "    #build combined filepaths from the working directory and \n",
    "    DATASETPATH = os.path.join(os.getcwd(),dataset,contained_in,extension)\n",
    "    files = glob.glob(DATASETPATH)\n",
    "    print(DATASETPATH)\n",
    "    \n",
    "    for n, file in enumerate(files):\n",
    "        structname = file.rstrip(\".nmr.magres\").split(\"/\")[-1]\n",
    "        #print(structname)\n",
    "        \n",
    "        #try:\n",
    "        with open(file) as f:\n",
    "            fd = f.read()\n",
    "            fd = fd.replace(\"-\",\" -\")\n",
    "            fd = fd.replace(\"units sus 10^ -6.cm^3.mol^ -1\",\"units sus 10^-6.cm^3.mol^-1\")\n",
    "            fd = fd.replace(\"#$magres -abinitio -v1.0\",\"#$magres-abinitio-v1.0\")\n",
    "            fd = fd.replace(\"QE -GIPAW 5.x\",\"QE-GIPAW 5.x\")\n",
    "            atoms = read_magres_modified(fd)\n",
    "            #print(fd)\n",
    "       \n",
    "        \n",
    "        if set_status is True:\n",
    "            atoms.info.update({\"STATUS\":all_ids[structname]})\n",
    "        \n",
    "        #-----flatten TENSOR-----\n",
    "        atoms.arrays.update({\"cs_tensor\": atoms.arrays[\"ms\"].reshape((-1,9))})\n",
    "        atoms.info.update({\"magres_units\": {'cs_tensor': 'ppm', 'cs_iso': 'ppm'}})\n",
    "            \n",
    "        \n",
    "        #----remove labels and incices\n",
    "        atoms.arrays.pop(\"ms\")\n",
    "        atoms.arrays.pop(\"indices\")\n",
    "        atoms.arrays.pop(\"labels\")\n",
    "        \n",
    "        #remove garbage from comments\n",
    "        atoms.info.pop(\"magresblock_calculation\")\n",
    "        \n",
    "        #check if structname is in final dict:\n",
    "        #nescessary for -7 files. probably to complicated\n",
    "        if structname in final_dict:\n",
    "            atoms.info.update({\"NAME\":structname})\n",
    "            atoms.info.update({\"ENERGY\": final_dict[structname].info[\"ENERGY\"]})\n",
    "            atoms.set_positions(final_dict[structname].get_positions())\n",
    "            atoms.set_cell(final_dict[structname].get_cell())\n",
    "            atoms.arrays.update({\"cs_iso\": final_dict[structname].arrays[\"CS\"]})\n",
    "            structs.append(atoms)"
   ]
  },
  {
   "cell_type": "code",
   "execution_count": 7,
   "metadata": {},
   "outputs": [],
   "source": [
    "#write(\"CSD-500+104-7_shift_tensors.xyz\",structs,format=\"extxyz\")"
   ]
  },
  {
   "cell_type": "code",
   "execution_count": 8,
   "metadata": {},
   "outputs": [],
   "source": [
    "check_plausibility(\"./test_tensor/CSD-500+104-7_shift_tensors.xyz\",\"CSD-500+S104.xyz\") \n",
    "#check if PBC, cell, coordinate and shifts are transferred correctly\n",
    "# diagonalizes shift tensor and takes average of eigenvalues. compares the average to the iso shift\n",
    "# to ensure that tensor values are written correctly"
   ]
  },
  {
   "cell_type": "code",
   "execution_count": 10,
   "metadata": {},
   "outputs": [],
   "source": [
    "#can be used to check if status was written correctly\n",
    "test_status(\"./train_tensor/CSD-3k+S546_shift_tensors.xyz\",all_ids) "
   ]
  },
  {
   "cell_type": "code",
   "execution_count": 239,
   "metadata": {
    "collapsed": true,
    "jupyter": {
     "outputs_hidden": true
    }
   },
   "outputs": [
    {
     "name": "stdout",
     "output_type": "stream",
     "text": [
      "[True, False, False, True]\n",
      "False\n",
      "[True, False, True, True]\n",
      "False\n",
      "[False, True, True, True]\n",
      "False\n",
      "[True, True, True, False]\n",
      "False\n",
      "[True, False, True, True]\n",
      "False\n",
      "[True, False, True, True]\n",
      "False\n",
      "[True, True, True, False]\n",
      "False\n",
      "[False, True, True, True]\n",
      "False\n"
     ]
    }
   ],
   "source": [
    "\"\"\"\n",
    "struct_iso_good = read(\"teststructs_iso_good.xyz\",format=\"extxyz\")\n",
    "struct_tensor_good = read(\"teststructs_tens_good.xyz\",format=\"extxyz\")\n",
    "\n",
    "#-----testing the comparison helper functions\n",
    "bad_structs_iso = [read(this,format=\"extxyz\") for this in [\"teststructs_iso_bad_no_PBC.xyz\",\"teststructs_iso_bad_cell.xyz\",\"teststructs_iso_bad_coordinates.xyz\",\"teststructs_iso_bad_shift.xyz\"]]\n",
    "bad_structs_tens = [read(this,format=\"extxyz\") for this in [\"teststructs_tens_bad_no_PBC.xyz\",\"teststructs_tens_bad_cell.xyz\", \"teststructs_tens_bad_shift.xyz\",\"teststructs_tens_bad_coordinates.xyz\"]]\n",
    "\n",
    "for bad_struct in bad_structs_iso:\n",
    "    print(compaire(bad_struct,struct_tensor_good))\n",
    "for bad_struct in bad_structs_tens:\n",
    "    print(compaire(struct_iso_good,bad_struct))\n",
    "    \n",
    "compaire(struct_iso_bad,struct_tensor_bad)\n",
    "\"\"\""
   ]
  }
 ],
 "metadata": {
  "kernelspec": {
   "display_name": "Python 3",
   "language": "python",
   "name": "python3"
  },
  "language_info": {
   "codemirror_mode": {
    "name": "ipython",
    "version": 3
   },
   "file_extension": ".py",
   "mimetype": "text/x-python",
   "name": "python",
   "nbconvert_exporter": "python",
   "pygments_lexer": "ipython3",
   "version": "3.7.3"
  }
 },
 "nbformat": 4,
 "nbformat_minor": 4
}
