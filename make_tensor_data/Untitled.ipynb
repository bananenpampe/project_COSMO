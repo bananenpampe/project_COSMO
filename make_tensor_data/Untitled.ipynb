{
 "cells": [
  {
   "cell_type": "code",
   "execution_count": 1,
   "id": "d125f0cd-9653-4d24-bf5e-27a11d502c40",
   "metadata": {},
   "outputs": [],
   "source": [
    "with open(\"../ShiftMLv1_datasets/CSD-2k/gipaw/ABEWAG.nmr.out\") as file:\n",
    "    lines = file.readlines()"
   ]
  },
  {
   "cell_type": "code",
   "execution_count": 14,
   "id": "1f02891d-e687-4321-bd51-d5fd5cd998f2",
   "metadata": {},
   "outputs": [],
   "source": [
    "import numpy as np"
   ]
  },
  {
   "cell_type": "code",
   "execution_count": 19,
   "id": "80eba28b-d4b7-4f62-9467-3cc3ab13f2a8",
   "metadata": {},
   "outputs": [],
   "source": [
    "\n",
    "#get macroscopic contribution\n",
    "\n"
   ]
  },
  {
   "cell_type": "code",
   "execution_count": 109,
   "id": "47e28a67-0c1d-47d9-860b-7f8440406436",
   "metadata": {},
   "outputs": [],
   "source": []
  },
  {
   "cell_type": "code",
   "execution_count": null,
   "id": "c5ff0f3c-a40a-4668-82d8-03fede527b03",
   "metadata": {},
   "outputs": [],
   "source": [
    "#get structure"
   ]
  },
  {
   "cell_type": "code",
   "execution_count": 53,
   "id": "2dd49398-056b-4042-9c8b-e5756b830a36",
   "metadata": {
    "tags": []
   },
   "outputs": [],
   "source": [
    "iso, tens = get_contributions(lines, \"Total sigma: \", True)"
   ]
  },
  {
   "cell_type": "code",
   "execution_count": 156,
   "id": "84015661-376b-4814-98ac-6efc5e732d30",
   "metadata": {
    "tags": []
   },
   "outputs": [],
   "source": [
    "def get_macroscopic_tensor(lines):\n",
    "    \"\"\"retrieves the macroscopic contribution iso and tensor from a GIPAW FILE as line-list\n",
    "    \"\"\"\n",
    "    for n,line in enumerate(lines):\n",
    "        if  \"Macroscopic shape contribution in ppm:\" in line:\n",
    "            macroscopic_iso = float(line.split()[-1])\n",
    "            macroscopic_tensor = lines[n+1:n+4]\n",
    "            macroscopic_tensor = [ column.rstrip(\"\\n\").split() for column in macroscopic_tensor]\n",
    "            macroscopic_tensor = np.array(macroscopic_tensor,dtype=float)\n",
    "    \n",
    "    return macroscopic_iso, macroscopic_tensor\n",
    "\n",
    "def get_contributions(lines,propstring,istens):\n",
    "    \"\"\"gets contribution iso and tensorial from GIPAW FILE\n",
    "       istens option is for \"core\" contirbution which has no tensor written\n",
    "       and will be added on diagonal\n",
    "    \"\"\"\n",
    "    \n",
    "    props_iso = []\n",
    "    props_tensor = []\n",
    "    \n",
    "    for n, line in enumerate(lines):\n",
    "        \n",
    "        if propstring in line:\n",
    "            iso = float(line.rstrip(\"\\n\").split()[-1])\n",
    "            \n",
    "            if istens is True:\n",
    "                tensor = [ column.rstrip(\"\\n\").split() for column in lines[n+1:n+4]]\n",
    "                tensor = np.array(tensor,dtype=float)\n",
    "            \n",
    "            else:\n",
    "                tensor = np.eye(3)\n",
    "                tensor *= iso\n",
    "        \n",
    "            props_iso.append(iso)\n",
    "            props_tensor.append(tensor)\n",
    "    \n",
    "    return np.array(props_iso).reshape(-1,1), np.array(props_tensor)\n",
    "\n",
    "def get_nmr_contributions(lines):\n",
    "    \"\"\"gets the individual_contributions of GIPAW shift calculations\n",
    "    \"\"\"\n",
    "\n",
    "    tot_iso = {}\n",
    "    tot_tens = {}\n",
    "\n",
    "    iso_makro, tens_makro = get_macroscopic_tensor(lines)\n",
    "    \n",
    "    prop_identifiers = {\"core sigma:\":\"core_sigma\",\"para_oo sigma:\":\"para_oo_sigma\",\\\n",
    "                        \"para_lq sigma:\":\"para_lq_sigma\",\"para sigma:\":\"para_sigma\",\\\n",
    "                        \"dia sigma:\":\"dia_sigma\",\"bare sigma:\":\"bare_sigma\"}\n",
    "\n",
    "    for propstring in [\"core sigma:\", \"para_oo sigma:\", \"para_lq sigma:\", \"para sigma:\", \"dia sigma:\", \"bare sigma:\"]:\n",
    "\n",
    "        if propstring == \"core sigma:\":\n",
    "            iso, tens = get_contributions(lines, propstring, False)\n",
    "\n",
    "        else:\n",
    "            iso, tens = get_contributions(lines, propstring, True)\n",
    "        \n",
    "        identifier = prop_identifiers[propstring]\n",
    "        tot_iso[identifier+\"_iso\"] = iso \n",
    "        tot_tens[identifier+\"_tensor\"] = tens\n",
    "    \n",
    "    tot_iso[\"shape_contribution_iso\"] = iso_makro\n",
    "    tot_tens[\"shape_contribution_iso\"] = tens_makro\n",
    "\n",
    "    return tot_iso, tot_tens\n"
   ]
  },
  {
   "cell_type": "code",
   "execution_count": 162,
   "id": "4fa74c7a-42ba-4075-84a6-059f9bd73652",
   "metadata": {
    "tags": []
   },
   "outputs": [],
   "source": [
    "a = get_nmr_contributions(lines)"
   ]
  },
  {
   "cell_type": "code",
   "execution_count": null,
   "id": "d16734f5-7577-4359-90e0-a9d05062b884",
   "metadata": {},
   "outputs": [],
   "source": [
    "tot_iso = np.concatenate(tot_iso,axis=1)\n",
    "    tot_tens = np.stack(tot_tens,axis=3)#,axis=1)\n",
    "\n",
    "    final_iso, final_tens = get_contributions(lines, \"Total sigma:\",True)\n",
    "\n",
    "    final_iso_contrib = np.sum(tot_iso,axis=1).reshape(-1,1) + iso_makro\n",
    "    final_tens_contrib = np.sum(tot_tens,axis=3) + tens_makro"
   ]
  },
  {
   "cell_type": "code",
   "execution_count": null,
   "id": "7c4c7083-87f9-4abb-9d0f-d01f7161fa14",
   "metadata": {},
   "outputs": [],
   "source": [
    "def "
   ]
  },
  {
   "cell_type": "code",
   "execution_count": 135,
   "id": "e6371a85-9459-416c-a1a5-bc4671a01172",
   "metadata": {},
   "outputs": [
    {
     "data": {
      "text/plain": [
       "(72, 1)"
      ]
     },
     "execution_count": 135,
     "metadata": {},
     "output_type": "execute_result"
    }
   ],
   "source": [
    "final_iso.shape"
   ]
  },
  {
   "cell_type": "code",
   "execution_count": 136,
   "id": "131df323-9bcb-4f9b-8cbf-9f1997c8d184",
   "metadata": {},
   "outputs": [
    {
     "data": {
      "text/plain": [
       "(72, 1)"
      ]
     },
     "execution_count": 136,
     "metadata": {},
     "output_type": "execute_result"
    }
   ],
   "source": [
    "final_iso_contrib.shape"
   ]
  },
  {
   "cell_type": "code",
   "execution_count": 146,
   "id": "f2fb1ce2-d5a2-41ec-ad4a-94a8f7ca88f9",
   "metadata": {},
   "outputs": [
    {
     "data": {
      "text/plain": [
       "True"
      ]
     },
     "execution_count": 146,
     "metadata": {},
     "output_type": "execute_result"
    }
   ],
   "source": [
    "np.allclose(final_iso,final_iso_contrib,atol=0.01)"
   ]
  },
  {
   "cell_type": "code",
   "execution_count": 149,
   "id": "41a9c421-cbd7-4aab-9f5f-dd3ae1e46984",
   "metadata": {},
   "outputs": [
    {
     "data": {
      "text/plain": [
       "False"
      ]
     },
     "execution_count": 149,
     "metadata": {},
     "output_type": "execute_result"
    }
   ],
   "source": [
    "np.allclose(final_tens,final_tens_contrib,atol=0.001)"
   ]
  },
  {
   "cell_type": "code",
   "execution_count": 126,
   "id": "37b5a970-41ef-409a-b7f1-1e9e3faea2cb",
   "metadata": {},
   "outputs": [
    {
     "data": {
      "text/plain": [
       "array([[301.62],\n",
       "       [301.61],\n",
       "       [301.61],\n",
       "       [301.62],\n",
       "       [301.62],\n",
       "       [301.61],\n",
       "       [301.61],\n",
       "       [301.62],\n",
       "       [107.02],\n",
       "       [107.02],\n",
       "       [107.02],\n",
       "       [107.02],\n",
       "       [107.02],\n",
       "       [107.02],\n",
       "       [107.02],\n",
       "       [107.02],\n",
       "       [107.73],\n",
       "       [107.74],\n",
       "       [107.74],\n",
       "       [107.73],\n",
       "       [107.73],\n",
       "       [107.74],\n",
       "       [107.74],\n",
       "       [107.73],\n",
       "       [ 26.96],\n",
       "       [ 26.96],\n",
       "       [ 26.96],\n",
       "       [ 26.96],\n",
       "       [ 26.96],\n",
       "       [ 26.96],\n",
       "       [ 26.96],\n",
       "       [ 26.96],\n",
       "       [ 27.03],\n",
       "       [ 27.03],\n",
       "       [ 27.03],\n",
       "       [ 27.03],\n",
       "       [ 27.03],\n",
       "       [ 27.03],\n",
       "       [ 27.03],\n",
       "       [ 27.03],\n",
       "       [ 26.91],\n",
       "       [ 26.91],\n",
       "       [ 26.91],\n",
       "       [ 26.91],\n",
       "       [ 26.91],\n",
       "       [ 26.91],\n",
       "       [ 26.91],\n",
       "       [ 26.91],\n",
       "       [ 27.04],\n",
       "       [ 27.04],\n",
       "       [ 27.04],\n",
       "       [ 27.04],\n",
       "       [ 27.04],\n",
       "       [ 27.04],\n",
       "       [ 27.04],\n",
       "       [ 27.04],\n",
       "       [ 26.76],\n",
       "       [ 26.76],\n",
       "       [ 26.76],\n",
       "       [ 26.76],\n",
       "       [ 26.76],\n",
       "       [ 26.76],\n",
       "       [ 26.76],\n",
       "       [ 26.76],\n",
       "       [ 26.24],\n",
       "       [ 26.24],\n",
       "       [ 26.24],\n",
       "       [ 26.24],\n",
       "       [ 26.24],\n",
       "       [ 26.24],\n",
       "       [ 26.24],\n",
       "       [ 26.24]])"
      ]
     },
     "execution_count": 126,
     "metadata": {},
     "output_type": "execute_result"
    }
   ],
   "source": [
    "final_iso"
   ]
  },
  {
   "cell_type": "code",
   "execution_count": 119,
   "id": "4f53453d-a8e2-42ad-bf66-8005f640c8a3",
   "metadata": {},
   "outputs": [
    {
     "data": {
      "text/plain": [
       "(72, 1)"
      ]
     },
     "execution_count": 119,
     "metadata": {},
     "output_type": "execute_result"
    }
   ],
   "source": [
    "final_tens.shape"
   ]
  },
  {
   "cell_type": "code",
   "execution_count": 114,
   "id": "6f18979c-068b-446d-a3d1-04a4813da7ed",
   "metadata": {},
   "outputs": [
    {
     "data": {
      "text/plain": [
       "(72, 3, 3, 5)"
      ]
     },
     "execution_count": 114,
     "metadata": {},
     "output_type": "execute_result"
    }
   ],
   "source": [
    "tot_tens.shape"
   ]
  },
  {
   "cell_type": "code",
   "execution_count": 116,
   "id": "4cce9ecf-7edc-461f-9a97-90d489ed2775",
   "metadata": {},
   "outputs": [
    {
     "data": {
      "text/plain": [
       "(72, 3, 3)"
      ]
     },
     "execution_count": 116,
     "metadata": {},
     "output_type": "execute_result"
    }
   ],
   "source": [
    "np.sum(tot_tens,axis=3).shape"
   ]
  },
  {
   "cell_type": "code",
   "execution_count": 29,
   "id": "63bac7bc-82d7-422d-addd-27e3d3743c76",
   "metadata": {
    "collapsed": true,
    "jupyter": {
     "outputs_hidden": true
    },
    "tags": []
   },
   "outputs": [
    {
     "name": "stdout",
     "output_type": "stream",
     "text": [
      "17.65\n",
      "[[17.6301  0.7178 -0.7659]\n",
      " [ 0.7178 17.6373  0.0662]\n",
      " [-0.7659  0.0662 17.6794]]\n",
      "17.65\n",
      "[[17.637  -0.7178 -0.0658]\n",
      " [-0.7178 17.6292 -0.7661]\n",
      " [-0.0658 -0.7661 17.6797]]\n",
      "17.65\n",
      "[[17.637  -0.7178  0.0658]\n",
      " [-0.7178 17.6292  0.7661]\n",
      " [ 0.0658  0.7661 17.6797]]\n",
      "17.65\n",
      "[[17.6301  0.7178  0.7659]\n",
      " [ 0.7178 17.6373 -0.0662]\n",
      " [ 0.7659 -0.0662 17.6794]]\n",
      "17.65\n",
      "[[17.6301  0.7178 -0.7659]\n",
      " [ 0.7178 17.6373  0.0662]\n",
      " [-0.7659  0.0662 17.6794]]\n",
      "17.65\n",
      "[[17.637  -0.7178 -0.0658]\n",
      " [-0.7178 17.6292 -0.7661]\n",
      " [-0.0658 -0.7661 17.6797]]\n",
      "17.65\n",
      "[[17.637  -0.7178  0.0658]\n",
      " [-0.7178 17.6292  0.7661]\n",
      " [ 0.0658  0.7661 17.6797]]\n",
      "17.65\n",
      "[[17.6301  0.7178  0.7659]\n",
      " [ 0.7178 17.6373 -0.0662]\n",
      " [ 0.7659 -0.0662 17.6794]]\n",
      "4.18\n",
      "[[ 4.1834 -0.0092 -0.149 ]\n",
      " [-0.0092  4.053   0.0071]\n",
      " [-0.149   0.0071  4.304 ]]\n",
      "4.18\n",
      "[[ 4.0529  0.0092 -0.0071]\n",
      " [ 0.0092  4.1833 -0.1491]\n",
      " [-0.0071 -0.1491  4.304 ]]\n",
      "4.18\n",
      "[[4.0529 0.0092 0.0071]\n",
      " [0.0092 4.1833 0.1491]\n",
      " [0.0071 0.1491 4.304 ]]\n",
      "4.18\n",
      "[[ 4.1834 -0.0092  0.149 ]\n",
      " [-0.0092  4.053  -0.0071]\n",
      " [ 0.149  -0.0071  4.304 ]]\n",
      "4.18\n",
      "[[ 4.1834 -0.0092 -0.149 ]\n",
      " [-0.0092  4.053   0.0071]\n",
      " [-0.149   0.0071  4.304 ]]\n",
      "4.18\n",
      "[[ 4.0529  0.0092 -0.0071]\n",
      " [ 0.0092  4.1833 -0.1491]\n",
      " [-0.0071 -0.1491  4.304 ]]\n",
      "4.18\n",
      "[[4.0529 0.0092 0.0071]\n",
      " [0.0092 4.1833 0.1491]\n",
      " [0.0071 0.1491 4.304 ]]\n",
      "4.18\n",
      "[[ 4.1834 -0.0092  0.149 ]\n",
      " [-0.0092  4.053  -0.0071]\n",
      " [ 0.149  -0.0071  4.304 ]]\n",
      "4.20\n",
      "[[ 4.2118  0.1609 -0.0047]\n",
      " [ 0.1609  4.3079 -0.0188]\n",
      " [-0.0047 -0.0188  4.0755]]\n",
      "4.20\n",
      "[[ 4.3079 -0.1609  0.0189]\n",
      " [-0.1609  4.2119 -0.0049]\n",
      " [ 0.0189 -0.0049  4.0755]]\n",
      "4.20\n",
      "[[ 4.3079 -0.1609 -0.0189]\n",
      " [-0.1609  4.2119  0.0049]\n",
      " [-0.0189  0.0049  4.0755]]\n",
      "4.20\n",
      "[[4.2118 0.1609 0.0047]\n",
      " [0.1609 4.3079 0.0188]\n",
      " [0.0047 0.0188 4.0755]]\n",
      "4.20\n",
      "[[ 4.2118  0.1609 -0.0047]\n",
      " [ 0.1609  4.3079 -0.0188]\n",
      " [-0.0047 -0.0188  4.0755]]\n",
      "4.20\n",
      "[[ 4.3079 -0.1609  0.0189]\n",
      " [-0.1609  4.2119 -0.0049]\n",
      " [ 0.0189 -0.0049  4.0755]]\n",
      "4.20\n",
      "[[ 4.3079 -0.1609 -0.0189]\n",
      " [-0.1609  4.2119  0.0049]\n",
      " [-0.0189  0.0049  4.0755]]\n",
      "4.20\n",
      "[[4.2118 0.1609 0.0047]\n",
      " [0.1609 4.3079 0.0188]\n",
      " [0.0047 0.0188 4.0755]]\n",
      "1.15\n",
      "[[ 1.1472 -0.     -0.    ]\n",
      " [-0.      1.1472  0.    ]\n",
      " [-0.      0.      1.1472]]\n",
      "1.15\n",
      "[[ 1.1472 -0.     -0.    ]\n",
      " [-0.      1.1472  0.    ]\n",
      " [-0.      0.      1.1472]]\n",
      "1.15\n",
      "[[ 1.1472 -0.      0.    ]\n",
      " [-0.      1.1472 -0.    ]\n",
      " [ 0.     -0.      1.1472]]\n",
      "1.15\n",
      "[[ 1.1472 -0.      0.    ]\n",
      " [-0.      1.1472 -0.    ]\n",
      " [ 0.     -0.      1.1472]]\n",
      "1.15\n",
      "[[ 1.1472 -0.     -0.    ]\n",
      " [-0.      1.1472  0.    ]\n",
      " [-0.      0.      1.1472]]\n",
      "1.15\n",
      "[[ 1.1472 -0.     -0.    ]\n",
      " [-0.      1.1472  0.    ]\n",
      " [-0.      0.      1.1472]]\n",
      "1.15\n",
      "[[ 1.1472 -0.      0.    ]\n",
      " [-0.      1.1472 -0.    ]\n",
      " [ 0.     -0.      1.1472]]\n",
      "1.15\n",
      "[[ 1.1472 -0.      0.    ]\n",
      " [-0.      1.1472 -0.    ]\n",
      " [ 0.     -0.      1.1472]]\n",
      "1.14\n",
      "[[ 1.1419 -0.      0.    ]\n",
      " [-0.      1.1419 -0.    ]\n",
      " [ 0.     -0.      1.1419]]\n",
      "1.14\n",
      "[[ 1.1419 -0.     -0.    ]\n",
      " [-0.      1.1419  0.    ]\n",
      " [-0.      0.      1.1419]]\n",
      "1.14\n",
      "[[ 1.1419 -0.      0.    ]\n",
      " [-0.      1.1419 -0.    ]\n",
      " [ 0.     -0.      1.1419]]\n",
      "1.14\n",
      "[[ 1.1419 -0.     -0.    ]\n",
      " [-0.      1.1419  0.    ]\n",
      " [-0.      0.      1.1419]]\n",
      "1.14\n",
      "[[ 1.1419 -0.      0.    ]\n",
      " [-0.      1.1419 -0.    ]\n",
      " [ 0.     -0.      1.1419]]\n",
      "1.14\n",
      "[[ 1.1419 -0.     -0.    ]\n",
      " [-0.      1.1419  0.    ]\n",
      " [-0.      0.      1.1419]]\n",
      "1.14\n",
      "[[ 1.1419 -0.      0.    ]\n",
      " [-0.      1.1419 -0.    ]\n",
      " [ 0.     -0.      1.1419]]\n",
      "1.14\n",
      "[[ 1.1419 -0.     -0.    ]\n",
      " [-0.      1.1419  0.    ]\n",
      " [-0.      0.      1.1419]]\n",
      "1.14\n",
      "[[ 1.1447 -0.     -0.    ]\n",
      " [-0.      1.1447  0.    ]\n",
      " [-0.      0.      1.1447]]\n",
      "1.14\n",
      "[[ 1.1447 -0.     -0.    ]\n",
      " [-0.      1.1447  0.    ]\n",
      " [-0.      0.      1.1447]]\n",
      "1.14\n",
      "[[ 1.1447 -0.      0.    ]\n",
      " [-0.      1.1447 -0.    ]\n",
      " [ 0.     -0.      1.1447]]\n",
      "1.14\n",
      "[[ 1.1447 -0.      0.    ]\n",
      " [-0.      1.1447 -0.    ]\n",
      " [ 0.     -0.      1.1447]]\n",
      "1.14\n",
      "[[ 1.1447 -0.     -0.    ]\n",
      " [-0.      1.1447  0.    ]\n",
      " [-0.      0.      1.1447]]\n",
      "1.14\n",
      "[[ 1.1447 -0.     -0.    ]\n",
      " [-0.      1.1447  0.    ]\n",
      " [-0.      0.      1.1447]]\n",
      "1.14\n",
      "[[ 1.1447 -0.      0.    ]\n",
      " [-0.      1.1447 -0.    ]\n",
      " [ 0.     -0.      1.1447]]\n",
      "1.14\n",
      "[[ 1.1447 -0.      0.    ]\n",
      " [-0.      1.1447 -0.    ]\n",
      " [ 0.     -0.      1.1447]]\n",
      "1.11\n",
      "[[ 1.1142 -0.     -0.    ]\n",
      " [-0.      1.1142  0.    ]\n",
      " [-0.      0.      1.1142]]\n",
      "1.11\n",
      "[[ 1.1142 -0.      0.    ]\n",
      " [-0.      1.1142 -0.    ]\n",
      " [ 0.     -0.      1.1142]]\n",
      "1.11\n",
      "[[ 1.1142 -0.     -0.    ]\n",
      " [-0.      1.1142  0.    ]\n",
      " [-0.      0.      1.1142]]\n",
      "1.11\n",
      "[[ 1.1142 -0.      0.    ]\n",
      " [-0.      1.1142 -0.    ]\n",
      " [ 0.     -0.      1.1142]]\n",
      "1.11\n",
      "[[ 1.1142 -0.     -0.    ]\n",
      " [-0.      1.1142  0.    ]\n",
      " [-0.      0.      1.1142]]\n",
      "1.11\n",
      "[[ 1.1142 -0.      0.    ]\n",
      " [-0.      1.1142 -0.    ]\n",
      " [ 0.     -0.      1.1142]]\n",
      "1.11\n",
      "[[ 1.1142 -0.     -0.    ]\n",
      " [-0.      1.1142  0.    ]\n",
      " [-0.      0.      1.1142]]\n",
      "1.11\n",
      "[[ 1.1142 -0.      0.    ]\n",
      " [-0.      1.1142 -0.    ]\n",
      " [ 0.     -0.      1.1142]]\n",
      "1.14\n",
      "[[ 1.1447 -0.      0.    ]\n",
      " [-0.      1.1447 -0.    ]\n",
      " [ 0.     -0.      1.1447]]\n",
      "1.14\n",
      "[[ 1.1447 -0.     -0.    ]\n",
      " [-0.      1.1447  0.    ]\n",
      " [-0.      0.      1.1447]]\n",
      "1.14\n",
      "[[ 1.1447 -0.      0.    ]\n",
      " [-0.      1.1447 -0.    ]\n",
      " [ 0.     -0.      1.1447]]\n",
      "1.14\n",
      "[[ 1.1447 -0.     -0.    ]\n",
      " [-0.      1.1447  0.    ]\n",
      " [-0.      0.      1.1447]]\n",
      "1.14\n",
      "[[ 1.1447 -0.      0.    ]\n",
      " [-0.      1.1447 -0.    ]\n",
      " [ 0.     -0.      1.1447]]\n",
      "1.14\n",
      "[[ 1.1447 -0.     -0.    ]\n",
      " [-0.      1.1447  0.    ]\n",
      " [-0.      0.      1.1447]]\n",
      "1.14\n",
      "[[ 1.1447 -0.      0.    ]\n",
      " [-0.      1.1447 -0.    ]\n",
      " [ 0.     -0.      1.1447]]\n",
      "1.14\n",
      "[[ 1.1447 -0.     -0.    ]\n",
      " [-0.      1.1447  0.    ]\n",
      " [-0.      0.      1.1447]]\n",
      "1.15\n",
      "[[ 1.1521 -0.     -0.    ]\n",
      " [-0.      1.1521  0.    ]\n",
      " [-0.      0.      1.1521]]\n",
      "1.15\n",
      "[[ 1.1521 -0.      0.    ]\n",
      " [-0.      1.1521 -0.    ]\n",
      " [ 0.     -0.      1.1521]]\n",
      "1.15\n",
      "[[ 1.1521 -0.     -0.    ]\n",
      " [-0.      1.1521  0.    ]\n",
      " [-0.      0.      1.1521]]\n",
      "1.15\n",
      "[[ 1.1521 -0.      0.    ]\n",
      " [-0.      1.1521 -0.    ]\n",
      " [ 0.     -0.      1.1521]]\n",
      "1.15\n",
      "[[ 1.1521 -0.     -0.    ]\n",
      " [-0.      1.1521  0.    ]\n",
      " [-0.      0.      1.1521]]\n",
      "1.15\n",
      "[[ 1.1521 -0.      0.    ]\n",
      " [-0.      1.1521 -0.    ]\n",
      " [ 0.     -0.      1.1521]]\n",
      "1.15\n",
      "[[ 1.1521 -0.     -0.    ]\n",
      " [-0.      1.1521  0.    ]\n",
      " [-0.      0.      1.1521]]\n",
      "1.15\n",
      "[[ 1.1521 -0.      0.    ]\n",
      " [-0.      1.1521 -0.    ]\n",
      " [ 0.     -0.      1.1521]]\n"
     ]
    }
   ],
   "source": [
    "\n",
    "        print(iso)\n",
    "        print(tensor)"
   ]
  },
  {
   "cell_type": "code",
   "execution_count": null,
   "id": "57dac114-3110-4179-b4a1-e76f90369fcb",
   "metadata": {},
   "outputs": [],
   "source": [
    "macroscopic_iso = float(line.split()[-1])\n",
    "            macroscopic_tensor = lines[n+1:n+4]\n",
    "            macroscopic_tensor = [ column.rstrip(\"\\n\").split() for column in macroscopic_tensor]\n",
    "            macroscopic_tensor = np.array(macroscopic_tensor,dtype=float)"
   ]
  },
  {
   "cell_type": "code",
   "execution_count": null,
   "id": "57267446-e7d9-48c6-a4c2-02e9c24fa6f2",
   "metadata": {},
   "outputs": [],
   "source": [
    " iso_contribs = {\"core_sigma_iso\"}\n",
    "    tensor_contribs = {\"core_sigma_tens\"}\n",
    "    "
   ]
  },
  {
   "cell_type": "code",
   "execution_count": 21,
   "id": "77da5348-708f-4118-97f6-2d1f6e460e95",
   "metadata": {},
   "outputs": [
    {
     "data": {
      "text/plain": [
       "(4.99,\n",
       " array([[5.0248, 0.    , 0.    ],\n",
       "        [0.    , 5.0229, 0.    ],\n",
       "        [0.    , 0.    , 4.9349]]))"
      ]
     },
     "execution_count": 21,
     "metadata": {},
     "output_type": "execute_result"
    }
   ],
   "source": [
    "get_macroscopic_tensor(lines)"
   ]
  },
  {
   "cell_type": "code",
   "execution_count": null,
   "id": "cd5b521d-954a-4718-a74f-2f435b61a6b5",
   "metadata": {},
   "outputs": [],
   "source": [
    "#core sigma: para_oo sigma: para sigma: dia sigma: bare sigma: Total sigma: "
   ]
  }
 ],
 "metadata": {
  "kernelspec": {
   "display_name": "Python 3 (ipykernel)",
   "language": "python",
   "name": "python3"
  },
  "language_info": {
   "codemirror_mode": {
    "name": "ipython",
    "version": 3
   },
   "file_extension": ".py",
   "mimetype": "text/x-python",
   "name": "python",
   "nbconvert_exporter": "python",
   "pygments_lexer": "ipython3",
   "version": "3.8.10"
  }
 },
 "nbformat": 4,
 "nbformat_minor": 5
}
