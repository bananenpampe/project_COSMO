{
 "cells": [
  {
   "cell_type": "code",
   "execution_count": 1,
   "id": "0be2cdb4-59cf-4759-9239-b7a43ee301f0",
   "metadata": {},
   "outputs": [],
   "source": [
    "from loader.loader import load_data\n",
    "from sklearn.linear_model import Ridge\n",
    "from feature_utils.parallel import get_features_in_parallel, get_optimal_radial_basis_hypers_parallel\n",
    "from rascal.representations import SphericalInvariants as SOAP\n",
    "from sklearn.metrics import mean_squared_error, mean_absolute_error\n",
    "from skcosmo.preprocessing import StandardFlexibleScaler\n",
    "from sklearn.compose import TransformedTargetRegressor"
   ]
  },
  {
   "cell_type": "code",
   "execution_count": 2,
   "id": "876f7640-2938-41b6-9a0d-4d2b1c700781",
   "metadata": {},
   "outputs": [],
   "source": [
    "train_structures, test_structures, train_properties, test_properties = load_data(\"./make_tensor_data/train_tensor/CSD-3k+S546_shift_tensors.xyz\",\\\n",
    "                                                                                    \"./make_tensor_data/test_tensor/CSD-500+104-7_shift_tensors.xyz\",selected_species=8)"
   ]
  },
  {
   "cell_type": "code",
   "execution_count": 3,
   "id": "f7f4b18e-1c40-4ef4-b85f-a0f7b7728a5e",
   "metadata": {
    "tags": []
   },
   "outputs": [
    {
     "data": {
      "text/plain": [
       "['alpha',\n",
       " 'scale',\n",
       " 'interaction_cutoff',\n",
       " 'gaussian_sigma_constant',\n",
       " 'exponent',\n",
       " 'rate']"
      ]
     },
     "execution_count": 3,
     "metadata": {},
     "output_type": "execute_result"
    }
   ],
   "source": [
    "['alpha',\n",
    " 'scale',\n",
    " 'interaction_cutoff',\n",
    " 'gaussian_sigma_constant',\n",
    " 'exponent',\n",
    " 'rate']\n",
    "[1.456693428263504e-09,\n",
    " 2.7085076329719846,\n",
    " 3.4725192517412458,\n",
    " 0.21409235201520946,\n",
    " 9.877773929644158,\n",
    " 6.453130640583704]\n",
    "\n",
    "[6.807032768097378e-09,\n",
    " 8.980976577887834,\n",
    " 3.0,\n",
    " 0.2977552912955241,\n",
    " 2.6021120381353486,\n",
    " 4.501788716344205]\n",
    "\n",
    "#wo transformer\n",
    "[5.885085390784933e-09,\n",
    " 8.541943750546949,\n",
    " 3.0,\n",
    " 0.29896574407432996,\n",
    " 2.5322795441109633,\n",
    " 4.76022484062971]\n",
    "\n",
    "[0.0025321586963319496,\n",
    " 2.513807665262468,\n",
    " 6.0162081478510965,\n",
    " 0.2687521416964727,\n",
    " 4.563666005760138,\n",
    " 1.587405944267303]\n",
    "\n",
    "['alpha',\n",
    " 'scale',\n",
    " 'interaction_cutoff',\n",
    " 'gaussian_sigma_constant',\n",
    " 'exponent',\n",
    " 'rate']\n",
    "\n",
    "['alpha',\n",
    " 'scale',\n",
    " 'interaction_cutoff',\n",
    " 'gaussian_sigma_constant',\n",
    " 'exponent',\n",
    " 'rate']\n",
    "\n",
    "[0.0025321586963319496,\n",
    " 2.513807665262468,\n",
    " 6.0162081478510965,\n",
    " 0.2687521416964727,\n",
    " 4.563666005760138,\n",
    " 1.587405944267303]\n",
    "\n",
    "[5.456850976456539e-08,\n",
    " 2.249291598493281,\n",
    " 3.9089255981781594,\n",
    " 0.3564873968655404,\n",
    " 3.010198126900897,\n",
    " 7.9976962755361045]\n",
    "\n",
    "[1e-09,\n",
    " 2.757135725892865,\n",
    " 10.0,\n",
    " 0.20741613785910068,\n",
    " 9.684443818928921,\n",
    " 8.785342408252136]\n",
    "\n",
    "\n",
    "[1e-09,\n",
    " 3.615969485888429,\n",
    " 6.877624306387482,\n",
    " 0.22598361767120764,\n",
    " 14.01528102998905,\n",
    " 0.49181937699811507]\n",
    "\n",
    "\n",
    "#good C-Params\n",
    "[0.008074263369350854,\n",
    " 2.6009421646538335,\n",
    " 4.643475126818923,\n",
    " 0.1793445885211041,\n",
    " 4.6984309434873435,\n",
    " 1.967643707392294]\n",
    "\n",
    "#good H-Params\n",
    "[0.0025321586963319496,\n",
    " 2.513807665262468,\n",
    " 6.0162081478510965,\n",
    " 0.2687521416964727,\n",
    " 4.563666005760138,\n",
    " 1.587405944267303]\n",
    "\n",
    "\n",
    "[0.006195730385402691,\n",
    " 3.0611716397011275,\n",
    " 7.470301865642101,\n",
    " 0.22801873566157893,\n",
    " 5.0,\n",
    " 0.5]\n",
    "\n",
    "\n",
    "['alpha',\n",
    " 'scale',\n",
    " 'interaction_cutoff',\n",
    " 'gaussian_sigma_constant',\n",
    " 'exponent',\n",
    " 'rate']"
   ]
  },
  {
   "cell_type": "code",
   "execution_count": 4,
   "id": "e8a19553-0de8-47d1-bbd2-57ea0c3a433a",
   "metadata": {
    "tags": []
   },
   "outputs": [],
   "source": [
    "hypers = dict(soap_type=\"PowerSpectrum\",\n",
    "              interaction_cutoff=7.470301865642101,\n",
    "              max_radial=8,\n",
    "              max_angular=8,\n",
    "              gaussian_sigma_constant=0.22801873566157893,\n",
    "              gaussian_sigma_type=\"Constant\",\n",
    "              radial_basis=\"GTO\",\n",
    "              normalize=True,\n",
    "              cutoff_smooth_width=0.3,\n",
    "              cutoff_function_type=\"RadialScaling\",\n",
    "              optimization=\n",
    "                    dict(\n",
    "                            Spline=dict(\n",
    "                               accuracy=1.0e-05\n",
    "                            )\n",
    "                        ),\n",
    "              cutoff_function_parameters= dict(rate= 0.5,\n",
    "                    scale= 3.0611716397011275,\n",
    "                    exponent=5.0\n",
    "                        ),\n",
    "              compute_gradients=False,\n",
    "              expansion_by_species_method=\"user defined\",\n",
    "              global_species=[1, 6, 7, 8, 16]\n",
    "              )\n",
    "\n",
    "hypers = get_optimal_radial_basis_hypers_parallel(hypers,train_structures)"
   ]
  },
  {
   "cell_type": "code",
   "execution_count": 5,
   "id": "326a8eb2-6694-47c6-b32f-1eae7dcdc035",
   "metadata": {},
   "outputs": [],
   "source": [
    "Xtrain = get_features_in_parallel(train_structures,SOAP,hypers)\n",
    "Xtest = get_features_in_parallel(test_structures,SOAP,hypers)"
   ]
  },
  {
   "cell_type": "code",
   "execution_count": 6,
   "id": "e29e0a34-d622-419e-b569-2bcfe0f0df95",
   "metadata": {},
   "outputs": [
    {
     "data": {
      "text/plain": [
       "Ridge(alpha=0.006195730385402691)"
      ]
     },
     "execution_count": 6,
     "metadata": {},
     "output_type": "execute_result"
    }
   ],
   "source": [
    "model = Ridge(alpha=0.006195730385402691)#TransformedTargetRegressor(regressor=,transformer=StandardFlexibleScaler())\n",
    "model.fit(Xtrain, train_properties)"
   ]
  },
  {
   "cell_type": "code",
   "execution_count": 7,
   "id": "2773f326-331d-4e7c-aec2-8cee67b232c8",
   "metadata": {},
   "outputs": [],
   "source": [
    "ypred = model.predict(Xtest)"
   ]
  },
  {
   "cell_type": "code",
   "execution_count": 8,
   "id": "0f8c0947-606f-481a-9979-693dc9171e4f",
   "metadata": {},
   "outputs": [],
   "source": [
    "ypred_train = model.predict(Xtrain)"
   ]
  },
  {
   "cell_type": "code",
   "execution_count": 9,
   "id": "90c498b8-93e2-4cf6-b8a6-372864e3bd12",
   "metadata": {},
   "outputs": [
    {
     "data": {
      "text/plain": [
       "18.97300438728194"
      ]
     },
     "execution_count": 9,
     "metadata": {},
     "output_type": "execute_result"
    }
   ],
   "source": [
    "mean_squared_error(test_properties,ypred,squared=False)"
   ]
  },
  {
   "cell_type": "code",
   "execution_count": 10,
   "id": "21e0aa9f-ef5f-456c-84b2-813403350541",
   "metadata": {},
   "outputs": [
    {
     "data": {
      "text/plain": [
       "13.585670996253953"
      ]
     },
     "execution_count": 10,
     "metadata": {},
     "output_type": "execute_result"
    }
   ],
   "source": [
    "mean_absolute_error(test_properties, ypred)"
   ]
  },
  {
   "cell_type": "code",
   "execution_count": 11,
   "id": "f6dce14a-7672-4185-a715-2dbc1cb42f9a",
   "metadata": {},
   "outputs": [
    {
     "data": {
      "text/plain": [
       "16.127028453678317"
      ]
     },
     "execution_count": 11,
     "metadata": {},
     "output_type": "execute_result"
    }
   ],
   "source": [
    "mean_squared_error(train_properties,ypred_train,squared=False)"
   ]
  },
  {
   "cell_type": "code",
   "execution_count": 21,
   "id": "190e7ebc-a01b-4ad6-874e-f2c7e5902164",
   "metadata": {},
   "outputs": [
    {
     "data": {
      "text/plain": [
       "(1306, 8640)"
      ]
     },
     "execution_count": 21,
     "metadata": {},
     "output_type": "execute_result"
    }
   ],
   "source": [
    "Xtrain.shape"
   ]
  },
  {
   "cell_type": "code",
   "execution_count": 22,
   "id": "2d154195-6152-4d9c-9b3e-5b1c8e0e541e",
   "metadata": {},
   "outputs": [],
   "source": [
    "scaler_X = StandardFlexibleScaler().fit(Xtrain)\n",
    "X_train = scaler_X.transform(Xtrain)\n",
    "X_test = scaler_X.transform(Xtest)"
   ]
  },
  {
   "cell_type": "code",
   "execution_count": null,
   "id": "41424c35-78d0-4081-b91b-ba318139d391",
   "metadata": {},
   "outputs": [],
   "source": [
    "X_train_1 = StandardFlexibleScaler().fittr"
   ]
  },
  {
   "cell_type": "code",
   "execution_count": 12,
   "id": "cc5d8b51-d974-4817-bf73-570532d38290",
   "metadata": {},
   "outputs": [
    {
     "data": {
      "text/plain": [
       "array([25.72835754, 25.72837792, 25.72835436, ..., 23.67834178,\n",
       "       23.67871497, 23.67835327])"
      ]
     },
     "execution_count": 12,
     "metadata": {},
     "output_type": "execute_result"
    }
   ],
   "source": [
    "ypred"
   ]
  },
  {
   "cell_type": "code",
   "execution_count": 14,
   "id": "feafd24c-0ea7-42bb-9f64-06115ec8d14d",
   "metadata": {},
   "outputs": [
    {
     "data": {
      "text/plain": [
       "array([25.97, 25.97, 25.97, ..., 23.13, 23.13, 23.13])"
      ]
     },
     "execution_count": 14,
     "metadata": {},
     "output_type": "execute_result"
    }
   ],
   "source": [
    "test_properties"
   ]
  },
  {
   "cell_type": "code",
   "execution_count": null,
   "id": "05cf06a2-954d-4f73-8875-cc441fb2d746",
   "metadata": {},
   "outputs": [],
   "source": []
  },
  {
   "cell_type": "code",
   "execution_count": 6,
   "id": "fc8050c1-92c1-4c34-807e-c7cfe6c6c904",
   "metadata": {},
   "outputs": [
    {
     "data": {
      "text/plain": [
       "Ridge(alpha=0.008074263369350854)"
      ]
     },
     "execution_count": 6,
     "metadata": {},
     "output_type": "execute_result"
    }
   ],
   "source": [
    "model = Ridge(alpha=0.008074263369350854)\n",
    "model.fit(Xtrain, train_properties)"
   ]
  },
  {
   "cell_type": "code",
   "execution_count": 10,
   "id": "d614f2cf-5291-4d30-a8a8-6bdc32390c2b",
   "metadata": {},
   "outputs": [],
   "source": [
    "ypred = model.predict(Xtest)"
   ]
  },
  {
   "cell_type": "code",
   "execution_count": 14,
   "id": "94640afe-9d12-4e18-86da-9eeae26b6233",
   "metadata": {},
   "outputs": [],
   "source": [
    "ypred_train = model.predict(Xtrain)"
   ]
  },
  {
   "cell_type": "code",
   "execution_count": 11,
   "id": "109337d1-21fd-4138-a066-b39431d42deb",
   "metadata": {},
   "outputs": [
    {
     "data": {
      "text/plain": [
       "4.581345029628307"
      ]
     },
     "execution_count": 11,
     "metadata": {},
     "output_type": "execute_result"
    }
   ],
   "source": [
    "mean_squared_error(test_properties,ypred,squared=False)"
   ]
  },
  {
   "cell_type": "code",
   "execution_count": 13,
   "id": "b95d793f-cb11-4861-a7f5-6cbfde32ea0e",
   "metadata": {},
   "outputs": [
    {
     "data": {
      "text/plain": [
       "3.304196952773039"
      ]
     },
     "execution_count": 13,
     "metadata": {},
     "output_type": "execute_result"
    }
   ],
   "source": [
    "mean_absolute_error(test_properties, ypred)"
   ]
  },
  {
   "cell_type": "code",
   "execution_count": 15,
   "id": "39b4875f-20d0-4598-a37d-ba725a99f226",
   "metadata": {},
   "outputs": [
    {
     "data": {
      "text/plain": [
       "4.448780803474874"
      ]
     },
     "execution_count": 15,
     "metadata": {},
     "output_type": "execute_result"
    }
   ],
   "source": [
    "mean_squared_error(train_properties,ypred_train,squared=False)"
   ]
  },
  {
   "cell_type": "code",
   "execution_count": 18,
   "id": "6006db52-2328-4c25-b7b5-5f670a075404",
   "metadata": {},
   "outputs": [],
   "source": [
    "import matplotlib.pyplot as plt"
   ]
  },
  {
   "cell_type": "code",
   "execution_count": 19,
   "id": "50699be5-2114-4e9e-a9e4-08aa49131d8e",
   "metadata": {},
   "outputs": [
    {
     "data": {
      "text/plain": [
       "array([-3.64203956,  3.77079297,  4.88872818, ..., -6.05801772,\n",
       "        3.07436328, -1.99985217])"
      ]
     },
     "execution_count": 19,
     "metadata": {},
     "output_type": "execute_result"
    }
   ],
   "source": [
    "model.coef_"
   ]
  },
  {
   "cell_type": "code",
   "execution_count": 21,
   "id": "81f01f69-92d8-47a9-bc97-825ee66b4d97",
   "metadata": {},
   "outputs": [],
   "source": [
    "import numpy as np"
   ]
  },
  {
   "cell_type": "code",
   "execution_count": 26,
   "id": "44e6cc00-9d22-4e36-9b41-7d5012fc9592",
   "metadata": {
    "tags": []
   },
   "outputs": [
    {
     "data": {
      "text/plain": [
       "(0.0, 100.0)"
      ]
     },
     "execution_count": 26,
     "metadata": {},
     "output_type": "execute_result"
    },
    {
     "data": {
      "image/png": "[encoded data removed]",
      "text/plain": [
       "<Figure size 432x288 with 1 Axes>"
      ]
     },
     "metadata": {
      "needs_background": "light"
     },
     "output_type": "display_data"
    }
   ],
   "source": [
    "plt.hist(np.abs(model.coef_),bins=50)\n",
    "plt.ylim(0,100)"
   ]
  },
  {
   "cell_type": "code",
   "execution_count": 24,
   "id": "60abf53b-d888-49dd-8944-7589f0972d97",
   "metadata": {},
   "outputs": [
    {
     "data": {
      "text/plain": [
       "951.1333757264705"
      ]
     },
     "execution_count": 24,
     "metadata": {},
     "output_type": "execute_result"
    }
   ],
   "source": [
    "np.max(np.abs(model.coef_))"
   ]
  },
  {
   "cell_type": "code",
   "execution_count": null,
   "id": "d718e99f-1f78-470b-bd01-a21d18cba083",
   "metadata": {},
   "outputs": [],
   "source": []
  }
 ],
 "metadata": {
  "kernelspec": {
   "display_name": "Python [conda env:root] *",
   "language": "python",
   "name": "conda-root-py"
  },
  "language_info": {
   "codemirror_mode": {
    "name": "ipython",
    "version": 3
   },
   "file_extension": ".py",
   "mimetype": "text/x-python",
   "name": "python",
   "nbconvert_exporter": "python",
   "pygments_lexer": "ipython3",
   "version": "3.8.10"
  }
 },
 "nbformat": 4,
 "nbformat_minor": 5
}
