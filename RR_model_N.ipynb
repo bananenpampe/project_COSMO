{
 "cells": [
  {
   "cell_type": "code",
   "execution_count": 1,
   "id": "0be2cdb4-59cf-4759-9239-b7a43ee301f0",
   "metadata": {},
   "outputs": [],
   "source": [
    "from loader.loader import load_data\n",
    "from sklearn.linear_model import Ridge, RidgeCV\n",
    "from feature_utils.parallel import get_features_in_parallel, get_optimal_radial_basis_hypers_parallel\n",
    "from rascal.representations import SphericalInvariants as SOAP\n",
    "from sklearn.metrics import mean_squared_error, mean_absolute_error\n",
    "from skcosmo.preprocessing import StandardFlexibleScaler\n",
    "from sklearn.compose import TransformedTargetRegressor\n",
    "from skcosmo.model_selection import atom_groups_by_frame\n",
    "from sklearn.model_selection import GroupKFold\n",
    "from joblib import dump, load\n",
    "import time\n",
    "import json"
   ]
  },
  {
   "cell_type": "code",
   "execution_count": 2,
   "id": "612908d1-8167-4a11-9cb3-6352894ded09",
   "metadata": {},
   "outputs": [],
   "source": [
    "from rascal.utils import get_optimal_radial_basis_hypers"
   ]
  },
  {
   "cell_type": "code",
   "execution_count": 3,
   "id": "f7f4b18e-1c40-4ef4-b85f-a0f7b7728a5e",
   "metadata": {
    "collapsed": true,
    "jupyter": {
     "outputs_hidden": true
    },
    "tags": []
   },
   "outputs": [
    {
     "ename": "NameError",
     "evalue": "name 'myres' is not defined",
     "output_type": "error",
     "traceback": [
      "\u001b[0;31m---------------------------------------------------------------------------\u001b[0m",
      "\u001b[0;31mNameError\u001b[0m                                 Traceback (most recent call last)",
      "\u001b[0;32m/tmp/ipykernel_17290/1099724692.py\u001b[0m in \u001b[0;36m<module>\u001b[0;34m\u001b[0m\n\u001b[1;32m    136\u001b[0m  8.951776040034101]\n\u001b[1;32m    137\u001b[0m \u001b[0;34m\u001b[0m\u001b[0m\n\u001b[0;32m--> 138\u001b[0;31m \u001b[0mmyres\u001b[0m\u001b[0;34m.\u001b[0m\u001b[0mx\u001b[0m\u001b[0;34m\u001b[0m\u001b[0;34m\u001b[0m\u001b[0m\n\u001b[0m\u001b[1;32m    139\u001b[0m \u001b[0;31m#N-engel-wo-proj\u001b[0m\u001b[0;34m\u001b[0m\u001b[0;34m\u001b[0m\u001b[0;34m\u001b[0m\u001b[0m\n\u001b[1;32m    140\u001b[0m [7.127871334464479e-05,\n",
      "\u001b[0;31mNameError\u001b[0m: name 'myres' is not defined"
     ]
    }
   ],
   "source": [
    "['alpha',\n",
    " 'scale',\n",
    " 'interaction_cutoff',\n",
    " 'gaussian_sigma_constant',\n",
    " 'exponent',\n",
    " 'rate']\n",
    "[1.456693428263504e-09,\n",
    " 2.7085076329719846,\n",
    " 3.4725192517412458,\n",
    " 0.21409235201520946,\n",
    " 9.877773929644158,\n",
    " 6.453130640583704]\n",
    "\n",
    "[6.807032768097378e-09,\n",
    " 8.980976577887834,\n",
    " 3.0,\n",
    " 0.2977552912955241,\n",
    " 2.6021120381353486,\n",
    " 4.501788716344205]\n",
    "\n",
    "#wo transformer\n",
    "[5.885085390784933e-09,\n",
    " 8.541943750546949,\n",
    " 3.0,\n",
    " 0.29896574407432996,\n",
    " 2.5322795441109633,\n",
    " 4.76022484062971]\n",
    "\n",
    "[0.0025321586963319496,\n",
    " 2.513807665262468,\n",
    " 6.0162081478510965,\n",
    " 0.2687521416964727,\n",
    " 4.563666005760138,\n",
    " 1.587405944267303]\n",
    "\n",
    "['alpha',\n",
    " 'scale',\n",
    " 'interaction_cutoff',\n",
    " 'gaussian_sigma_constant',\n",
    " 'exponent',\n",
    " 'rate']\n",
    "\n",
    "['alpha',\n",
    " 'scale',\n",
    " 'interaction_cutoff',\n",
    " 'gaussian_sigma_constant',\n",
    " 'exponent',\n",
    " 'rate']\n",
    "\n",
    "[0.0025321586963319496,\n",
    " 2.513807665262468,\n",
    " 6.0162081478510965,\n",
    " 0.2687521416964727,\n",
    " 4.563666005760138,\n",
    " 1.587405944267303]\n",
    "\n",
    "[5.456850976456539e-08,\n",
    " 2.249291598493281,\n",
    " 3.9089255981781594,\n",
    " 0.3564873968655404,\n",
    " 3.010198126900897,\n",
    " 7.9976962755361045]\n",
    "\n",
    "[1e-09,\n",
    " 2.757135725892865,\n",
    " 10.0,\n",
    " 0.20741613785910068,\n",
    " 9.684443818928921,\n",
    " 8.785342408252136]\n",
    "\n",
    "\n",
    "[1e-09,\n",
    " 3.615969485888429,\n",
    " 6.877624306387482,\n",
    " 0.22598361767120764,\n",
    " 14.01528102998905,\n",
    " 0.49181937699811507]\n",
    "\n",
    "\n",
    "#good C-Params\n",
    "[0.008074263369350854,\n",
    " 2.6009421646538335,\n",
    " 4.643475126818923,\n",
    " 0.1793445885211041,\n",
    " 4.6984309434873435,\n",
    " 1.967643707392294]\n",
    "\n",
    "#good H-Params\n",
    "[0.0025321586963319496,\n",
    " 2.513807665262468,\n",
    " 6.0162081478510965,\n",
    " 0.2687521416964727,\n",
    " 4.563666005760138,\n",
    " 1.587405944267303]\n",
    "\n",
    "['alpha',\n",
    " 'scale',\n",
    " 'interaction_cutoff',\n",
    " 'gaussian_sigma_constant',\n",
    " 'exponent',\n",
    " 'rate']\n",
    "\n",
    "[0.006195730385402691,\n",
    " 3.0611716397011275,\n",
    " 7.470301865642101,\n",
    " 0.22801873566157893,\n",
    " 5.0,\n",
    " 0.5]\n",
    "\n",
    "\n",
    "['alpha',\n",
    " 'scale',\n",
    " 'interaction_cutoff',\n",
    " 'gaussian_sigma_constant',\n",
    " 'exponent',\n",
    " 'rate']\n",
    "#O Params\n",
    "[0.003989882718900864,\n",
    " 2.415028605215485,\n",
    " 5.631249765195175,\n",
    " 0.1759552323571449,\n",
    " 6.829001301667477,\n",
    " 3.33033564862975]\n",
    "['alpha',\n",
    " 'scale',\n",
    " 'interaction_cutoff',\n",
    " 'gaussian_sigma_constant',\n",
    " 'exponent',\n",
    " 'rate']\n",
    "#N Params\n",
    "[0.005899338403743736,\n",
    " 2.3877664810426134,\n",
    " 5.349323256638301,\n",
    " 0.16711419154715376,\n",
    " 14.272655977837486,\n",
    " 8.951776040034101]\n",
    "\n",
    "myres.x\n",
    "#N-engel-wo-proj\n",
    "[7.127871334464479e-05,\n",
    " 2.595853382833044,\n",
    " 6.107559209767776,\n",
    " 0.06161144080105453,\n",
    " 17.311350560892954,\n",
    " 1.6536242588616492]\n",
    "\n",
    "#Nparams solver-opt\n",
    "['alpha',\n",
    " 'scale',\n",
    " 'interaction_cutoff',\n",
    " 'gaussian_sigma_constant',\n",
    " 'exponent',\n",
    " 'rate']\n",
    "[0.00014541235295701202,\n",
    " 1.7676477782307636,\n",
    " 6.914698486615254,\n",
    " 0.12265607366287667,\n",
    " 5.996856926677453,\n",
    " 4.8639728841745455]"
   ]
  },
  {
   "cell_type": "code",
   "execution_count": 6,
   "id": "c3a09590-5f9d-47bb-a763-27e0eee57208",
   "metadata": {
    "tags": []
   },
   "outputs": [],
   "source": [
    "feature_dict = {1:[\n",
    " 2.513807665262468,\n",
    " 6.0162081478510965,\n",
    " 0.2687521416964727,\n",
    " 4.563666005760138,\n",
    " 1.587405944267303]\n",
    ",\n",
    "                ,7:[\n",
    " 1.7676477782307636,\n",
    " 6.914698486615254,\n",
    " 0.12265607366287667,\n",
    " 5.996856926677453,\n",
    " 4.8639728841745455],8:[\n",
    " 2.415028605215485,\n",
    " 5.631249765195175,\n",
    " 0.1759552323571449,\n",
    " 6.829001301667477,\n",
    " 3.33033564862975]}\n",
    "\n",
    "\n",
    "alpha_dict = {1:0.0025,6:0.0080,7:0.00015,8:0.0040}"
   ]
  },
  {
   "cell_type": "code",
   "execution_count": 4,
   "id": "d11c10c4-3f61-4ca0-8649-33abace437fe",
   "metadata": {},
   "outputs": [],
   "source": [
    "def update_hypers(hypers,param_list,params):\n",
    "        cutoff_dict = hypers[\"cutoff_function_parameters\"]\n",
    "        for param,value in zip(param_list, params):\n",
    "                if param in cutoff_dict:\n",
    "                        hypers[\"cutoff_function_parameters\"][param] = value\n",
    "                else:\n",
    "                        hypers[param] = value\n",
    "        return hypers\n"
   ]
  },
  {
   "cell_type": "code",
   "execution_count": 7,
   "id": "e8a19553-0de8-47d1-bbd2-57ea0c3a433a",
   "metadata": {
    "collapsed": true,
    "jupyter": {
     "outputs_hidden": true
    },
    "tags": []
   },
   "outputs": [
    {
     "name": "stdout",
     "output_type": "stream",
     "text": [
      "--- 10 steps took 37.00060772895813 seconds ---\n",
      "1 mse test: 0.48325284445724115\n",
      "               mse train: 0.42935013279564593\n",
      "               mae test: 0.36722468687427745\n",
      "               mae train: 0.32617054129440115\n",
      "--- 10 steps took 28.6470205783844 seconds ---\n",
      "6 mse test: 4.572262771618222\n",
      "               mse train: 4.4041101335256165\n",
      "               mae test: 3.2968743763589807\n",
      "               mae train: 3.1991103404399963\n",
      "--- 10 steps took 13.208891153335571 seconds ---\n",
      "7 mse test: 14.255481416210506\n",
      "               mse train: 8.880363763823649\n",
      "               mae test: 9.339624793665356\n",
      "               mae train: 6.222476055711792\n",
      "--- 10 steps took 13.172137975692749 seconds ---\n",
      "8 mse test: 18.16765012233749\n",
      "               mse train: 14.595687736383443\n",
      "               mae test: 12.897166389149898\n",
      "               mae train: 10.34185292012172\n"
     ]
    }
   ],
   "source": [
    "hypers = dict(soap_type=\"PowerSpectrum\",\n",
    "              interaction_cutoff=4.5,\n",
    "              max_radial=8,\n",
    "              max_angular=8,\n",
    "              gaussian_sigma_constant=0.3,\n",
    "              gaussian_sigma_type=\"Constant\",\n",
    "              radial_basis=\"GTO\",\n",
    "              normalize=True,\n",
    "              cutoff_smooth_width=0.3,\n",
    "              cutoff_function_type=\"RadialScaling\",\n",
    "              optimization=\n",
    "                    dict(\n",
    "                            Spline=dict(\n",
    "                               accuracy=1.0e-05\n",
    "                            )\n",
    "                        ),\n",
    "              cutoff_function_parameters= dict(rate=1.,\n",
    "                    scale= 2.0,\n",
    "                    exponent=3.\n",
    "                        ),\n",
    "              compute_gradients=False,\n",
    "              expansion_by_species_method=\"user defined\",\n",
    "              global_species=[1, 6, 7, 8, 16]\n",
    "              )\n",
    "\n",
    "\n",
    "for specie in [1,6,7,8]:\n",
    "    train_structures, test_structures, train_properties, test_properties = load_data(\"./make_tensor_data/train_tensor/CSD-3k+S546_shift_tensors.xyz\",\\\n",
    "                                                                                    \"./make_tensor_data/test_tensor/CSD-500+104-7_shift_tensors.xyz\",selected_species=specie)\n",
    "    new_hyp = hypers.copy()\n",
    "    new_hyp = update_hypers(new_hyp,[\n",
    "     'scale',\n",
    "     'interaction_cutoff',\n",
    "     'gaussian_sigma_constant',\n",
    "     'exponent',\n",
    "     'rate'],feature_dict[specie])\n",
    "\n",
    "    new_hyp = get_optimal_radial_basis_hypers_parallel(new_hyp,train_structures,expanded_max_radial=20)\n",
    "    \n",
    "    Xtrain = get_features_in_parallel(train_structures,SOAP,new_hyp)\n",
    "    Xtest = get_features_in_parallel(test_structures,SOAP,new_hyp)\n",
    "    \n",
    "    model = Ridge(alpha=alpha_dict[specie])\n",
    "    start_time = time.time()\n",
    "    #RidgeCV(alphas=np.logspace(-8,0,50),cv=splits,scoring=\"neg_mean_squared_error\")#TransformedTargetRegressor(regressor=,transformer=StandardFlexibleScaler())\n",
    "    model.fit(Xtrain, train_properties)\n",
    "    print(\"--- 10 steps took %s seconds ---\" % (time.time() - start_time))\n",
    "    \n",
    "    ypred = model.predict(Xtest)\n",
    "    ypred_train = model.predict(Xtrain)\n",
    "    \n",
    "    mse_test = mean_squared_error(test_properties,ypred,squared=False)\n",
    "    mse_train = mean_squared_error(train_properties,ypred_train,squared=False)\n",
    "    mae_train = mean_absolute_error(train_properties,ypred_train)\n",
    "    mae_test = mean_absolute_error(test_properties, ypred)\n",
    "    \n",
    "    print(\"{} mse test: {}\\n \\\n",
    "              mse train: {}\\n \\\n",
    "              mae test: {}\\n \\\n",
    "              mae train: {}\".format(specie, mse_test,mse_train, mae_test, mae_train))\n",
    "    \n",
    "    with open(\"./RR_this_work_models/hypers/{}_hypers.json\".format(specie), 'w') as fileob:\n",
    "        json.dump(new_hyp, fileob) \n",
    "    \n",
    "    dump(model, './RR_this_work_models/{}_RR.joblib'.format(specie)) "
   ]
  },
  {
   "cell_type": "code",
   "execution_count": 12,
   "id": "326a8eb2-6694-47c6-b32f-1eae7dcdc035",
   "metadata": {},
   "outputs": [],
   "source": [
    "test_traj = as"
   ]
  },
  {
   "cell_type": "code",
   "execution_count": 11,
   "id": "e29e0a34-d622-419e-b569-2bcfe0f0df95",
   "metadata": {},
   "outputs": [],
   "source": [
    "hypers = get_optimal_radial_basis_hypers_parallel(hypers,train_structures,expanded_max_radial=20)"
   ]
  },
  {
   "cell_type": "code",
   "execution_count": 14,
   "id": "9f3e5138-89c1-435e-a905-767ebdc4676c",
   "metadata": {},
   "outputs": [],
   "source": [
    "f = open(\"./RR_this_work_models/hypers/1_hypers.json\")\n",
    "hypers = json.load(f)\n",
    "model = load(\"./RR_this_work_models/1_RR.joblib\")\n",
    "train_structures, test_structures, train_properties, test_properties = load_data(\"./make_tensor_data/train_tensor/CSD-3k+S546_shift_tensors.xyz\",\\\n",
    "                                                                                    \"./make_tensor_data/test_tensor/CSD-500+104-7_shift_tensors.xyz\",selected_species=1)\n",
    "Xtrain = get_features_in_parallel(train_structures, SOAP, hypers)\n",
    "Xtest = get_features_in_parallel(test_structures,SOAP,hypers)"
   ]
  },
  {
   "cell_type": "code",
   "execution_count": 15,
   "id": "2773f326-331d-4e7c-aec2-8cee67b232c8",
   "metadata": {},
   "outputs": [],
   "source": [
    "ypred = model.predict(Xtest)"
   ]
  },
  {
   "cell_type": "code",
   "execution_count": 16,
   "id": "0f8c0947-606f-481a-9979-693dc9171e4f",
   "metadata": {},
   "outputs": [],
   "source": [
    "ypred_train = model.predict(Xtrain)"
   ]
  },
  {
   "cell_type": "code",
   "execution_count": 17,
   "id": "90c498b8-93e2-4cf6-b8a6-372864e3bd12",
   "metadata": {},
   "outputs": [
    {
     "data": {
      "text/plain": [
       "0.48325284445724115"
      ]
     },
     "execution_count": 17,
     "metadata": {},
     "output_type": "execute_result"
    }
   ],
   "source": [
    "mean_squared_error(test_properties,ypred,squared=False)"
   ]
  },
  {
   "cell_type": "code",
   "execution_count": 18,
   "id": "21e0aa9f-ef5f-456c-84b2-813403350541",
   "metadata": {},
   "outputs": [
    {
     "data": {
      "text/plain": [
       "0.36722468687427745"
      ]
     },
     "execution_count": 18,
     "metadata": {},
     "output_type": "execute_result"
    }
   ],
   "source": [
    "mean_absolute_error(test_properties, ypred)"
   ]
  },
  {
   "cell_type": "code",
   "execution_count": 19,
   "id": "538da850-2f84-42f5-9a43-1300b327eed7",
   "metadata": {},
   "outputs": [
    {
     "data": {
      "text/plain": [
       "0.32617054129440115"
      ]
     },
     "execution_count": 19,
     "metadata": {},
     "output_type": "execute_result"
    }
   ],
   "source": [
    "mean_absolute_error(train_properties,ypred_train)"
   ]
  },
  {
   "cell_type": "code",
   "execution_count": 26,
   "id": "f6dce14a-7672-4185-a715-2dbc1cb42f9a",
   "metadata": {},
   "outputs": [
    {
     "data": {
      "text/plain": [
       "0.43668370589819866"
      ]
     },
     "execution_count": 26,
     "metadata": {},
     "output_type": "execute_result"
    }
   ],
   "source": [
    "mean_squared_error(train_properties,ypred_train,squared=False)"
   ]
  },
  {
   "cell_type": "code",
   "execution_count": 21,
   "id": "190e7ebc-a01b-4ad6-874e-f2c7e5902164",
   "metadata": {},
   "outputs": [
    {
     "data": {
      "text/plain": [
       "(1306, 8640)"
      ]
     },
     "execution_count": 21,
     "metadata": {},
     "output_type": "execute_result"
    }
   ],
   "source": [
    "Xtrain.shape"
   ]
  },
  {
   "cell_type": "code",
   "execution_count": 22,
   "id": "2d154195-6152-4d9c-9b3e-5b1c8e0e541e",
   "metadata": {},
   "outputs": [],
   "source": [
    "scaler_X = StandardFlexibleScaler().fit(Xtrain)\n",
    "X_train = scaler_X.transform(Xtrain)\n",
    "X_test = scaler_X.transform(Xtest)"
   ]
  },
  {
   "cell_type": "code",
   "execution_count": null,
   "id": "41424c35-78d0-4081-b91b-ba318139d391",
   "metadata": {},
   "outputs": [],
   "source": [
    "X_train_1 = StandardFlexibleScaler().fittr"
   ]
  },
  {
   "cell_type": "code",
   "execution_count": 17,
   "id": "b985139c-0428-4622-846f-4ec7eeadbc74",
   "metadata": {},
   "outputs": [
    {
     "ename": "AttributeError",
     "evalue": "'Ridge' object has no attribute 'alpha_'",
     "output_type": "error",
     "traceback": [
      "\u001b[0;31m---------------------------------------------------------------------------\u001b[0m",
      "\u001b[0;31mAttributeError\u001b[0m                            Traceback (most recent call last)",
      "\u001b[0;32m/tmp/ipykernel_11178/300576962.py\u001b[0m in \u001b[0;36m<module>\u001b[0;34m\u001b[0m\n\u001b[0;32m----> 1\u001b[0;31m \u001b[0mmodel\u001b[0m\u001b[0;34m.\u001b[0m\u001b[0malpha_\u001b[0m\u001b[0;34m\u001b[0m\u001b[0;34m\u001b[0m\u001b[0m\n\u001b[0m",
      "\u001b[0;31mAttributeError\u001b[0m: 'Ridge' object has no attribute 'alpha_'"
     ]
    }
   ],
   "source": [
    "model.alpha_"
   ]
  },
  {
   "cell_type": "code",
   "execution_count": 12,
   "id": "cc5d8b51-d974-4817-bf73-570532d38290",
   "metadata": {},
   "outputs": [
    {
     "data": {
      "text/plain": [
       "array([25.72835754, 25.72837792, 25.72835436, ..., 23.67834178,\n",
       "       23.67871497, 23.67835327])"
      ]
     },
     "execution_count": 12,
     "metadata": {},
     "output_type": "execute_result"
    }
   ],
   "source": [
    "ypred"
   ]
  },
  {
   "cell_type": "code",
   "execution_count": 14,
   "id": "feafd24c-0ea7-42bb-9f64-06115ec8d14d",
   "metadata": {},
   "outputs": [
    {
     "data": {
      "text/plain": [
       "array([25.97, 25.97, 25.97, ..., 23.13, 23.13, 23.13])"
      ]
     },
     "execution_count": 14,
     "metadata": {},
     "output_type": "execute_result"
    }
   ],
   "source": [
    "test_properties"
   ]
  },
  {
   "cell_type": "code",
   "execution_count": null,
   "id": "05cf06a2-954d-4f73-8875-cc441fb2d746",
   "metadata": {},
   "outputs": [],
   "source": []
  },
  {
   "cell_type": "code",
   "execution_count": 6,
   "id": "fc8050c1-92c1-4c34-807e-c7cfe6c6c904",
   "metadata": {},
   "outputs": [
    {
     "data": {
      "text/plain": [
       "Ridge(alpha=0.008074263369350854)"
      ]
     },
     "execution_count": 6,
     "metadata": {},
     "output_type": "execute_result"
    }
   ],
   "source": [
    "model = Ridge(alpha=0.0005114824487042008)\n",
    "model.fit(Xtrain, train_properties)"
   ]
  },
  {
   "cell_type": "code",
   "execution_count": 10,
   "id": "d614f2cf-5291-4d30-a8a8-6bdc32390c2b",
   "metadata": {},
   "outputs": [],
   "source": [
    "ypred = model.predict(Xtest)"
   ]
  },
  {
   "cell_type": "code",
   "execution_count": 14,
   "id": "94640afe-9d12-4e18-86da-9eeae26b6233",
   "metadata": {},
   "outputs": [],
   "source": [
    "ypred_train = model.predict(Xtrain)"
   ]
  },
  {
   "cell_type": "code",
   "execution_count": 11,
   "id": "109337d1-21fd-4138-a066-b39431d42deb",
   "metadata": {},
   "outputs": [
    {
     "data": {
      "text/plain": [
       "4.581345029628307"
      ]
     },
     "execution_count": 11,
     "metadata": {},
     "output_type": "execute_result"
    }
   ],
   "source": [
    "mean_squared_error(test_properties,ypred,squared=False)"
   ]
  },
  {
   "cell_type": "code",
   "execution_count": 13,
   "id": "b95d793f-cb11-4861-a7f5-6cbfde32ea0e",
   "metadata": {},
   "outputs": [
    {
     "data": {
      "text/plain": [
       "3.304196952773039"
      ]
     },
     "execution_count": 13,
     "metadata": {},
     "output_type": "execute_result"
    }
   ],
   "source": [
    "mean_absolute_error(test_properties, ypred)"
   ]
  },
  {
   "cell_type": "code",
   "execution_count": 15,
   "id": "39b4875f-20d0-4598-a37d-ba725a99f226",
   "metadata": {},
   "outputs": [
    {
     "data": {
      "text/plain": [
       "4.448780803474874"
      ]
     },
     "execution_count": 15,
     "metadata": {},
     "output_type": "execute_result"
    }
   ],
   "source": [
    "mean_squared_error(train_properties,ypred_train,squared=False)"
   ]
  },
  {
   "cell_type": "code",
   "execution_count": 18,
   "id": "6006db52-2328-4c25-b7b5-5f670a075404",
   "metadata": {},
   "outputs": [],
   "source": [
    "import matplotlib.pyplot as plt"
   ]
  },
  {
   "cell_type": "code",
   "execution_count": 19,
   "id": "50699be5-2114-4e9e-a9e4-08aa49131d8e",
   "metadata": {},
   "outputs": [
    {
     "data": {
      "text/plain": [
       "array([-3.64203956,  3.77079297,  4.88872818, ..., -6.05801772,\n",
       "        3.07436328, -1.99985217])"
      ]
     },
     "execution_count": 19,
     "metadata": {},
     "output_type": "execute_result"
    }
   ],
   "source": [
    "model.coef_"
   ]
  },
  {
   "cell_type": "code",
   "execution_count": 21,
   "id": "81f01f69-92d8-47a9-bc97-825ee66b4d97",
   "metadata": {},
   "outputs": [],
   "source": [
    "import numpy as np"
   ]
  },
  {
   "cell_type": "code",
   "execution_count": 26,
   "id": "44e6cc00-9d22-4e36-9b41-7d5012fc9592",
   "metadata": {
    "tags": []
   },
   "outputs": [
    {
     "data": {
      "text/plain": [
       "(0.0, 100.0)"
      ]
     },
     "execution_count": 26,
     "metadata": {},
     "output_type": "execute_result"
    },
    {
     "data": {
      "image/png": "[encoded data removed]",
      "text/plain": [
       "<Figure size 432x288 with 1 Axes>"
      ]
     },
     "metadata": {
      "needs_background": "light"
     },
     "output_type": "display_data"
    }
   ],
   "source": [
    "plt.hist(np.abs(model.coef_),bins=50)\n",
    "plt.ylim(0,100)"
   ]
  },
  {
   "cell_type": "code",
   "execution_count": 24,
   "id": "60abf53b-d888-49dd-8944-7589f0972d97",
   "metadata": {},
   "outputs": [
    {
     "data": {
      "text/plain": [
       "951.1333757264705"
      ]
     },
     "execution_count": 24,
     "metadata": {},
     "output_type": "execute_result"
    }
   ],
   "source": [
    "np.max(np.abs(model.coef_))"
   ]
  },
  {
   "cell_type": "code",
   "execution_count": null,
   "id": "d718e99f-1f78-470b-bd01-a21d18cba083",
   "metadata": {},
   "outputs": [],
   "source": []
  }
 ],
 "metadata": {
  "kernelspec": {
   "display_name": "Python [conda env:root] *",
   "language": "python",
   "name": "conda-root-py"
  },
  "language_info": {
   "codemirror_mode": {
    "name": "ipython",
    "version": 3
   },
   "file_extension": ".py",
   "mimetype": "text/x-python",
   "name": "python",
   "nbconvert_exporter": "python",
   "pygments_lexer": "ipython3",
   "version": "3.8.10"
  }
 },
 "nbformat": 4,
 "nbformat_minor": 5
}
