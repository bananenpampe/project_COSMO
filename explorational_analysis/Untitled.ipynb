{
 "cells": [
  {
   "cell_type": "code",
   "execution_count": 1,
   "id": "e68eeeb5-1848-4d02-a031-61280364a7ab",
   "metadata": {},
   "outputs": [],
   "source": [
    "from ase.io import read, write\n",
    "from rascal.neighbourlist.structure_manager import mask_center_atoms_by_species"
   ]
  },
  {
   "cell_type": "code",
   "execution_count": 2,
   "id": "eb56d8ef-62af-45f0-8198-d48485c76317",
   "metadata": {},
   "outputs": [],
   "source": [
    "import seaborn as sns\n",
    "from helpers import filter_by_status"
   ]
  },
  {
   "cell_type": "code",
   "execution_count": 3,
   "id": "79eab986-5f38-4127-8964-d72f4593f2b4",
   "metadata": {},
   "outputs": [],
   "source": [
    "import numpy as np\n",
    "import pandas as pd"
   ]
  },
  {
   "cell_type": "code",
   "execution_count": 4,
   "id": "fe591de9-3b08-451f-a552-a422e14a0ba7",
   "metadata": {},
   "outputs": [],
   "source": [
    "import matplotlib.pyplot as plt"
   ]
  },
  {
   "cell_type": "code",
   "execution_count": 5,
   "id": "c86af93a-5c66-49e8-81f6-82d09d06664e",
   "metadata": {},
   "outputs": [],
   "source": [
    "PATH_TRAIN = \"../make_tensor_data/train_tensor/CSD-3k+S546_shift_tensors_components.xyz\"\n",
    "PATH_TEST = \"../make_tensor_data/test_tensor/CSD-500+104-7_shift_tensors_components.xyz\""
   ]
  },
  {
   "cell_type": "code",
   "execution_count": 6,
   "id": "1e16bb61-9681-4ae6-b376-157660ca33b3",
   "metadata": {},
   "outputs": [],
   "source": [
    "#TODO: This as a helper function\n",
    "species_shifts = {}\n",
    "species_shift_tensors = {}\n",
    "labels_tensor = [\"XX\", \"YX\", \"ZX\",\"XY\",\"YY\",\"ZY\",\"XZ\", ]\n",
    "for i in zip([1,6,7,8],[\"1H shift\",\"13C shift\", \"15N shift\", \"17O shift\"]):\n",
    "    structures_train = read(PATH_TRAIN,format=\"extxyz\",index=\":\")\n",
    "    structures_train = filter_by_status(structures_train)\n",
    "    for structure in structures_train: mask_center_atoms_by_species(structure,species_select=[i[0]])\n",
    "    shifts = np.array([tensor for structure in structures_train for tensor in structure.arrays[\"shape_contribution_iso\"][structure.arrays[\"center_atoms_mask\"]]])\n",
    "    \n",
    "    #shifts = np.array([tensor for structure in structures_train for tensor in structure.arrays[\"cs_tensor\"][structure.arrays[\"center_atoms_mask\"]]])\n",
    "    species_shifts[i[0]] = pd.DataFrame(shifts, columns=[i[1]])\n",
    "    "
   ]
  },
  {
   "cell_type": "code",
   "execution_count": 7,
   "id": "fbe354d0-73e8-40f8-af16-9c963cc5e8de",
   "metadata": {},
   "outputs": [],
   "source": [
    "species_shifts_test = {}\n",
    "species_shift_tensors = {}\n",
    "labels_tensor = [\"XX\", \"YX\", \"ZX\",\"XY\",\"YY\",\"ZY\",\"XZ\", ]\n",
    "for i in zip([1,6,7,8],[\"1H shift\",\"13C shift\", \"15N shift\", \"17O shift\"]):\n",
    "    structures_test = read(PATH_TEST,format=\"extxyz\",index=\":\")\n",
    "    for structure in structures_test: mask_center_atoms_by_species(structure,species_select=[i[0]])\n",
    "    shifts = np.array([tensor for structure in structures_test for tensor in structure.arrays[\"shape_contribution_iso\"][structure.arrays[\"center_atoms_mask\"]]])\n",
    "    \n",
    "    #shifts = np.array([tensor for structure in structures_train for tensor in structure.arrays[\"cs_tensor\"][structure.arrays[\"center_atoms_mask\"]]])\n",
    "    species_shifts_test[i[0]] = pd.DataFrame(shifts, columns=[i[1]])"
   ]
  },
  {
   "cell_type": "code",
   "execution_count": 8,
   "id": "d250c7ea-3a6f-4309-a879-f24ba2c386c4",
   "metadata": {},
   "outputs": [],
   "source": [
    "structures_train = read(PATH_TRAIN,format=\"extxyz\",index=\":\")\n",
    "structures_train = filter_by_status(structures_train)"
   ]
  },
  {
   "cell_type": "code",
   "execution_count": 9,
   "id": "bee338b7-efd6-4c34-a59e-4947a6277128",
   "metadata": {},
   "outputs": [],
   "source": [
    "def get_molecular_masses(structures):\n",
    "    #returns np array of masses of list of ase.atoms objects\n",
    "    return np.array([np.sum(structure.get_masses()) for structure in structures])"
   ]
  },
  {
   "cell_type": "code",
   "execution_count": 10,
   "id": "b3315c4d-13cc-4c0e-9893-d9dcd476de61",
   "metadata": {},
   "outputs": [
    {
     "data": {
      "text/plain": [
       "380.404"
      ]
     },
     "execution_count": 10,
     "metadata": {},
     "output_type": "execute_result"
    }
   ],
   "source": [
    "np.sum(structures_train[0].get_masses())"
   ]
  },
  {
   "cell_type": "code",
   "execution_count": 11,
   "id": "bea96d31-fea9-48f2-80bb-3ff1adcbd984",
   "metadata": {},
   "outputs": [],
   "source": [
    "#explore distributions -> Unit Cell"
   ]
  },
  {
   "cell_type": "code",
   "execution_count": 12,
   "id": "d0f4a5a6-4cf1-401e-b825-818dabab7718",
   "metadata": {},
   "outputs": [
    {
     "data": {
      "text/plain": [
       "440.4976357989425"
      ]
     },
     "execution_count": 12,
     "metadata": {},
     "output_type": "execute_result"
    }
   ],
   "source": [
    "structures_train[0].get_volume()"
   ]
  },
  {
   "cell_type": "code",
   "execution_count": 13,
   "id": "aac9e9a6-ea31-41db-8c0b-281310fbef9b",
   "metadata": {},
   "outputs": [
    {
     "data": {
      "text/plain": [
       "{'magres_units': {'cs_tensor': 'ppm', 'cs_iso': 'ppm'},\n",
       " 'STATUS': 'PASSING',\n",
       " 'NAME': 'PYRIDO04',\n",
       " 'ENERGY': -672.17949092}"
      ]
     },
     "execution_count": 13,
     "metadata": {},
     "output_type": "execute_result"
    }
   ],
   "source": [
    "structures_train[0].info"
   ]
  },
  {
   "cell_type": "code",
   "execution_count": 18,
   "id": "34b9ec02-e05e-491b-9a1f-90e3f8df6ca6",
   "metadata": {},
   "outputs": [
    {
     "data": {
      "text/plain": [
       "(43354,)"
      ]
     },
     "execution_count": 18,
     "metadata": {},
     "output_type": "execute_result"
    }
   ],
   "source": [
    "shifts.shape"
   ]
  },
  {
   "cell_type": "code",
   "execution_count": 14,
   "id": "505c85ea-b688-41b9-974b-4e63721abe6d",
   "metadata": {},
   "outputs": [],
   "source": [
    "import pandas as pd"
   ]
  },
  {
   "cell_type": "code",
   "execution_count": 15,
   "id": "c0ebd8a9-1371-445e-85b6-0e415b075a20",
   "metadata": {},
   "outputs": [],
   "source": [
    "shifts_pd = pd.DataFrame(shifts, columns=[\"13C shift\"])"
   ]
  },
  {
   "cell_type": "code",
   "execution_count": 16,
   "id": "bdce38b3-3fe9-4d81-865a-6b4c7c648618",
   "metadata": {},
   "outputs": [
    {
     "data": {
      "text/plain": [
       "4"
      ]
     },
     "execution_count": 16,
     "metadata": {},
     "output_type": "execute_result"
    }
   ],
   "source": [
    "len(structures_train[0][structures_train[0].numbers == 8])"
   ]
  },
  {
   "cell_type": "code",
   "execution_count": 22,
   "id": "5e20328c-fa24-4fc9-8cfe-8313bb935a20",
   "metadata": {},
   "outputs": [
    {
     "data": {
      "text/plain": [
       "'C20H20N4O4'"
      ]
     },
     "execution_count": 22,
     "metadata": {},
     "output_type": "execute_result"
    }
   ],
   "source": [
    "structures_train[0].get_chemical_formula()"
   ]
  },
  {
   "cell_type": "code",
   "execution_count": 17,
   "id": "5c251473-e2ac-49da-ae9f-6d6169559091",
   "metadata": {},
   "outputs": [],
   "source": [
    "from glob import glob"
   ]
  },
  {
   "cell_type": "code",
   "execution_count": 18,
   "id": "9ba92b01-9db2-4a29-b9f4-b461032c3248",
   "metadata": {
    "tags": []
   },
   "outputs": [],
   "source": [
    "qm9_data = [read(path,format=\"extxyz\") for path in glob(\"../../QM9_kaggle_dataset/xyz_QM9/*\")]"
   ]
  },
  {
   "cell_type": "code",
   "execution_count": 19,
   "id": "4840bc52-7235-4267-818b-09a9abf1138c",
   "metadata": {},
   "outputs": [
    {
     "data": {
      "text/plain": [
       "130831"
      ]
     },
     "execution_count": 19,
     "metadata": {},
     "output_type": "execute_result"
    }
   ],
   "source": [
    "len(qm9_data)"
   ]
  },
  {
   "cell_type": "code",
   "execution_count": 20,
   "id": "95a683ee-22ed-4832-83de-49e03ac8f81e",
   "metadata": {},
   "outputs": [
    {
     "data": {
      "text/plain": [
       "130831"
      ]
     },
     "execution_count": 20,
     "metadata": {},
     "output_type": "execute_result"
    }
   ],
   "source": [
    "len(glob(\"../../QM9_kaggle_dataset/qm9_exyz/*\"))"
   ]
  },
  {
   "cell_type": "code",
   "execution_count": 21,
   "id": "a0fa2aa4-fa3b-465d-b110-2cd0d94f4cc1",
   "metadata": {},
   "outputs": [],
   "source": [
    "masses_qm9 = get_molecular_masses(qm9_data)"
   ]
  },
  {
   "cell_type": "code",
   "execution_count": 22,
   "id": "92186b67-a0ec-4281-8a6a-b59e6dd5284d",
   "metadata": {},
   "outputs": [],
   "source": [
    "masses = get_molecular_masses(structures_train)\n",
    "#masses \n",
    "volumes = [structure.get_volume() for structure in structures_train]\n",
    "total_atoms = [len(structure) for structure in structures_train]\n",
    "H_count = [len(structure[structure.numbers == 1]) for structure in structures_train]\n",
    "C_count = [len(structure[structure.numbers == 6]) for structure in structures_train]\n",
    "N_count = [len(structure[structure.numbers == 7]) for structure in structures_train]\n",
    "O_count = [len(structure[structure.numbers == 8]) for structure in structures_train]\n",
    "S_count = [len(structure[structure.numbers == 16]) for structure in structures_train]"
   ]
  },
  {
   "cell_type": "code",
   "execution_count": 23,
   "id": "af817bb9-b31c-40a6-95a7-9b678bb93957",
   "metadata": {},
   "outputs": [],
   "source": [
    "masses_test = get_molecular_masses(structures_test)"
   ]
  },
  {
   "cell_type": "code",
   "execution_count": 24,
   "id": "11a2c054-e04c-4421-95c4-1cceb75f93c3",
   "metadata": {},
   "outputs": [
    {
     "data": {
      "text/plain": [
       "969.2322294807371"
      ]
     },
     "execution_count": 24,
     "metadata": {},
     "output_type": "execute_result"
    }
   ],
   "source": [
    "np.average(masses_test)"
   ]
  },
  {
   "cell_type": "code",
   "execution_count": 25,
   "id": "cff6f864-1b96-40f6-a4e6-d50a6ac8282d",
   "metadata": {},
   "outputs": [
    {
     "data": {
      "text/plain": [
       "825.685879883382"
      ]
     },
     "execution_count": 25,
     "metadata": {},
     "output_type": "execute_result"
    }
   ],
   "source": [
    "np.average(masses)"
   ]
  },
  {
   "cell_type": "code",
   "execution_count": 26,
   "id": "fddb4494-4639-4ba7-8698-7a543d597f5b",
   "metadata": {},
   "outputs": [],
   "source": [
    "total_atoms_test = [len(structure) for structure in structures_test]"
   ]
  },
  {
   "cell_type": "code",
   "execution_count": 31,
   "id": "d40350e1-0fc2-4b7a-a5ae-794e7b74df36",
   "metadata": {},
   "outputs": [
    {
     "data": {
      "text/plain": [
       "<matplotlib.legend.Legend at 0x7f07f6171370>"
      ]
     },
     "execution_count": 31,
     "metadata": {},
     "output_type": "execute_result"
    },
    {
     "data": {
      "image/png": "[encoded data removed]",
      "text/plain": [
       "<Figure size 201.6x129.6 with 1 Axes>"
      ]
     },
     "metadata": {
      "needs_background": "light"
     },
     "output_type": "display_data"
    }
   ],
   "source": [
    "fig, ax = plt.subplots(figsize=(2.8,1.8))\n",
    "sns.kdeplot(data=[masses_qm9,masses],fill=True,color=\"orange\", ax=ax,common_norm=True,log_scale=(False,True))\n",
    "#sns.kdeplot(data=masses_qm9,fill=True,color=\"blue\", ax=ax,common_norm=False)\n",
    "ax.set_xlabel(\"molecular mass [g/mol]\")\n",
    "ax.set_ylabel(\"Log density\")\n",
    "#ax.set_ylim(0.001,0.01)\n",
    "ax.set_yticks([])\n",
    "plt.legend(loc='upper right', labels=['CSD-3K','QM9'])\n",
    "#plt.savefig(\"molecular_masses_log.png\", dpi=300,bbox_inches='tight')"
   ]
  },
  {
   "cell_type": "code",
   "execution_count": 32,
   "id": "c47b3d1e-72bc-4d68-9494-b4eeaf853b15",
   "metadata": {},
   "outputs": [
    {
     "name": "stderr",
     "output_type": "stream",
     "text": [
      "/ssd/scratch/kellner/miniconda3/lib/python3.8/site-packages/seaborn/distributions.py:2619: FutureWarning: `distplot` is a deprecated function and will be removed in a future version. Please adapt your code to use either `displot` (a figure-level function with similar flexibility) or `histplot` (an axes-level function for histograms).\n",
      "  warnings.warn(msg, FutureWarning)\n"
     ]
    },
    {
     "ename": "ValueError",
     "evalue": "setting an array element with a sequence. The requested array has an inhomogeneous shape after 1 dimensions. The detected shape was (2,) + inhomogeneous part.",
     "output_type": "error",
     "traceback": [
      "\u001b[0;31m---------------------------------------------------------------------------\u001b[0m",
      "\u001b[0;31mValueError\u001b[0m                                Traceback (most recent call last)",
      "\u001b[0;32m/tmp/ipykernel_16961/2759762117.py\u001b[0m in \u001b[0;36m<module>\u001b[0;34m\u001b[0m\n\u001b[0;32m----> 1\u001b[0;31m \u001b[0msns\u001b[0m\u001b[0;34m.\u001b[0m\u001b[0mdistplot\u001b[0m\u001b[0;34m(\u001b[0m\u001b[0;34m[\u001b[0m\u001b[0mmasses\u001b[0m\u001b[0;34m,\u001b[0m\u001b[0mmasses_qm9\u001b[0m\u001b[0;34m]\u001b[0m\u001b[0;34m)\u001b[0m\u001b[0;34m\u001b[0m\u001b[0;34m\u001b[0m\u001b[0m\n\u001b[0m",
      "\u001b[0;32m/ssd/scratch/kellner/miniconda3/lib/python3.8/site-packages/seaborn/distributions.py\u001b[0m in \u001b[0;36mdistplot\u001b[0;34m(a, bins, hist, kde, rug, fit, hist_kws, kde_kws, rug_kws, fit_kws, color, vertical, norm_hist, axlabel, label, ax, x)\u001b[0m\n\u001b[1;32m   2634\u001b[0m \u001b[0;34m\u001b[0m\u001b[0m\n\u001b[1;32m   2635\u001b[0m     \u001b[0;31m# Make a a 1-d float array\u001b[0m\u001b[0;34m\u001b[0m\u001b[0;34m\u001b[0m\u001b[0;34m\u001b[0m\u001b[0m\n\u001b[0;32m-> 2636\u001b[0;31m     \u001b[0ma\u001b[0m \u001b[0;34m=\u001b[0m \u001b[0mnp\u001b[0m\u001b[0;34m.\u001b[0m\u001b[0masarray\u001b[0m\u001b[0;34m(\u001b[0m\u001b[0ma\u001b[0m\u001b[0;34m,\u001b[0m \u001b[0mfloat\u001b[0m\u001b[0;34m)\u001b[0m\u001b[0;34m\u001b[0m\u001b[0;34m\u001b[0m\u001b[0m\n\u001b[0m\u001b[1;32m   2637\u001b[0m     \u001b[0;32mif\u001b[0m \u001b[0ma\u001b[0m\u001b[0;34m.\u001b[0m\u001b[0mndim\u001b[0m \u001b[0;34m>\u001b[0m \u001b[0;36m1\u001b[0m\u001b[0;34m:\u001b[0m\u001b[0;34m\u001b[0m\u001b[0;34m\u001b[0m\u001b[0m\n\u001b[1;32m   2638\u001b[0m         \u001b[0ma\u001b[0m \u001b[0;34m=\u001b[0m \u001b[0ma\u001b[0m\u001b[0;34m.\u001b[0m\u001b[0msqueeze\u001b[0m\u001b[0;34m(\u001b[0m\u001b[0;34m)\u001b[0m\u001b[0;34m\u001b[0m\u001b[0;34m\u001b[0m\u001b[0m\n",
      "\u001b[0;31mValueError\u001b[0m: setting an array element with a sequence. The requested array has an inhomogeneous shape after 1 dimensions. The detected shape was (2,) + inhomogeneous part."
     ]
    },
    {
     "data": {
      "image/png": "[encoded data removed]",
      "text/plain": [
       "<Figure size 432x288 with 1 Axes>"
      ]
     },
     "metadata": {
      "needs_background": "light"
     },
     "output_type": "display_data"
    }
   ],
   "source": [
    "sns.distplot([masses,masses_qm9])"
   ]
  },
  {
   "cell_type": "code",
   "execution_count": 33,
   "id": "148f1dec-37d1-4c3d-bf6b-0c3f3c2b2aef",
   "metadata": {},
   "outputs": [
    {
     "data": {
      "text/plain": [
       "[]"
      ]
     },
     "execution_count": 33,
     "metadata": {},
     "output_type": "execute_result"
    },
    {
     "data": {
      "image/png": "[encoded data removed]",
      "text/plain": [
       "<Figure size 201.6x129.6 with 1 Axes>"
      ]
     },
     "metadata": {
      "needs_background": "light"
     },
     "output_type": "display_data"
    }
   ],
   "source": [
    "fig, ax = plt.subplots(figsize=(2.8,1.8))\n",
    "sns.kdeplot(data=total_atoms,fill=True,color=\"orange\", ax=ax)\n",
    "ax.set_xlabel(\"N atoms in structure\")\n",
    "plt.legend(loc='upper right', labels=['CSD-3K'])\n",
    "ax.set_yticks([])"
   ]
  },
  {
   "cell_type": "code",
   "execution_count": 39,
   "id": "614a2d31-4716-4ae3-b8a4-c4e0efa10aa2",
   "metadata": {},
   "outputs": [
    {
     "data": {
      "image/png": "[encoded data removed]",
      "text/plain": [
       "<Figure size 201.6x129.6 with 1 Axes>"
      ]
     },
     "metadata": {
      "needs_background": "light"
     },
     "output_type": "display_data"
    }
   ],
   "source": [
    "fig, ax = plt.subplots(figsize=(2.8,1.8))\n",
    "sns.kdeplot(data=total_atoms,fill=True,color=\"orange\", ax=ax,cut=True,bw_adjust=.3)\n",
    "sns.kdeplot(data=total_atoms_test,fill=True,color=\"tab:green\", ax=ax,cut=True,bw_adjust=.3)\n",
    "ax.set_xlabel(\"N atoms in structure\")\n",
    "plt.legend(loc='upper left', labels=['Train',\"Test\"],\n",
    "bbox_to_anchor=(1.0,1.05))\n",
    "ax.set_yticks([])\n",
    "plt.savefig(\"atoms_distribution_train_test.png\",dpi=300,bbox_inches=\"tight\")"
   ]
  },
  {
   "cell_type": "code",
   "execution_count": 40,
   "id": "f66b222a-7d18-4f7f-8c39-01355d389fa0",
   "metadata": {},
   "outputs": [
    {
     "data": {
      "image/png": "[encoded data removed]",
      "text/plain": [
       "<Figure size 201.6x129.6 with 1 Axes>"
      ]
     },
     "metadata": {
      "needs_background": "light"
     },
     "output_type": "display_data"
    }
   ],
   "source": [
    "fig, ax = plt.subplots(figsize=(2.8,1.8))\n",
    "sns.kdeplot(data=masses,fill=True,color=\"orange\", ax=ax,bw_adjust=.3)\n",
    "sns.kdeplot(data=masses_test,fill=True,color=\"tab:green\", ax=ax,bw_adjust=.3)\n",
    "ax.set_xlabel(\"molecular mass [g/mol]\")\n",
    "ax.set_yticks([])\n",
    "plt.legend(loc='upper right', labels=['Train',\"Test\"])\n",
    "plt.savefig(\"mass_distribution_train_test.png\",dpi=300,bbox_inches=\"tight\")"
   ]
  },
  {
   "cell_type": "code",
   "execution_count": 42,
   "id": "34462099-0e6e-4a84-a11f-4f636023af2a",
   "metadata": {},
   "outputs": [
    {
     "data": {
      "text/plain": [
       "<seaborn.axisgrid.FacetGrid at 0x7f712986cb20>"
      ]
     },
     "execution_count": 42,
     "metadata": {},
     "output_type": "execute_result"
    },
    {
     "data": {
      "image/png": "[encoded data removed]",
      "text/plain": [
       "<Figure size 360x360 with 1 Axes>"
      ]
     },
     "metadata": {
      "needs_background": "light"
     },
     "output_type": "display_data"
    }
   ],
   "source": [
    "sns.displot(species_shifts[6], x=\"13C shift\", kind=\"kde\",fill=True,color=\"orange\")\n"
   ]
  },
  {
   "cell_type": "code",
   "execution_count": 12,
   "id": "99337b47-9bf2-465f-8327-c327d5290166",
   "metadata": {},
   "outputs": [],
   "source": [
    "QM9_PATH = \"../../QM9_kaggle_dataset/magnetic_shielding_tensors_train.csv\"\n",
    "QM9_STRUCTURES = \"../../QM9_kaggle_dataset/structures_train.csv\""
   ]
  },
  {
   "cell_type": "code",
   "execution_count": 13,
   "id": "e71d3934-9531-4bc8-ac9b-f20f4943ecdf",
   "metadata": {},
   "outputs": [],
   "source": [
    "pd_QM9 = pd.read_csv(QM9_PATH)\n",
    "pd_structures = pd.read_csv(QM9_STRUCTURES)"
   ]
  },
  {
   "cell_type": "code",
   "execution_count": 16,
   "id": "e35c5ff0-dc3c-4453-a61a-3e5ded1a5cca",
   "metadata": {},
   "outputs": [],
   "source": [
    "df = pd.concat([pd_structures, pd_QM9], axis=1)\n",
    "df = df.loc[:,~df.columns.duplicated()]"
   ]
  },
  {
   "cell_type": "code",
   "execution_count": 111,
   "id": "3322f664-c6b4-4c62-a213-5281614a7623",
   "metadata": {},
   "outputs": [
    {
     "data": {
      "text/html": [
       "<div>\n",
       "<style scoped>\n",
       "    .dataframe tbody tr th:only-of-type {\n",
       "        vertical-align: middle;\n",
       "    }\n",
       "\n",
       "    .dataframe tbody tr th {\n",
       "        vertical-align: top;\n",
       "    }\n",
       "\n",
       "    .dataframe thead th {\n",
       "        text-align: right;\n",
       "    }\n",
       "</style>\n",
       "<table border=\"1\" class=\"dataframe\">\n",
       "  <thead>\n",
       "    <tr style=\"text-align: right;\">\n",
       "      <th></th>\n",
       "      <th>molecule_name</th>\n",
       "      <th>atom_index</th>\n",
       "      <th>atom</th>\n",
       "      <th>x</th>\n",
       "      <th>y</th>\n",
       "      <th>z</th>\n",
       "      <th>XX</th>\n",
       "      <th>YX</th>\n",
       "      <th>ZX</th>\n",
       "      <th>XY</th>\n",
       "      <th>YY</th>\n",
       "      <th>ZY</th>\n",
       "      <th>XZ</th>\n",
       "      <th>YZ</th>\n",
       "      <th>ZZ</th>\n",
       "    </tr>\n",
       "  </thead>\n",
       "  <tbody>\n",
       "    <tr>\n",
       "      <th>0</th>\n",
       "      <td>dsgdb9nsd_000001</td>\n",
       "      <td>0</td>\n",
       "      <td>C</td>\n",
       "      <td>-0.012698</td>\n",
       "      <td>1.085804</td>\n",
       "      <td>0.008001</td>\n",
       "      <td>195.3147</td>\n",
       "      <td>0.0000</td>\n",
       "      <td>-0.0001</td>\n",
       "      <td>0.0000</td>\n",
       "      <td>195.3171</td>\n",
       "      <td>0.0007</td>\n",
       "      <td>-0.0001</td>\n",
       "      <td>0.0007</td>\n",
       "      <td>195.3169</td>\n",
       "    </tr>\n",
       "    <tr>\n",
       "      <th>1</th>\n",
       "      <td>dsgdb9nsd_000001</td>\n",
       "      <td>1</td>\n",
       "      <td>H</td>\n",
       "      <td>0.002150</td>\n",
       "      <td>-0.006031</td>\n",
       "      <td>0.001976</td>\n",
       "      <td>31.3410</td>\n",
       "      <td>-1.2317</td>\n",
       "      <td>4.0544</td>\n",
       "      <td>-1.2317</td>\n",
       "      <td>28.9546</td>\n",
       "      <td>-1.7173</td>\n",
       "      <td>4.0546</td>\n",
       "      <td>-1.7173</td>\n",
       "      <td>34.0861</td>\n",
       "    </tr>\n",
       "    <tr>\n",
       "      <th>2</th>\n",
       "      <td>dsgdb9nsd_000001</td>\n",
       "      <td>2</td>\n",
       "      <td>H</td>\n",
       "      <td>1.011731</td>\n",
       "      <td>1.463751</td>\n",
       "      <td>0.000277</td>\n",
       "      <td>31.5814</td>\n",
       "      <td>1.2173</td>\n",
       "      <td>-4.1474</td>\n",
       "      <td>1.2173</td>\n",
       "      <td>28.9036</td>\n",
       "      <td>-1.6036</td>\n",
       "      <td>-4.1476</td>\n",
       "      <td>-1.6036</td>\n",
       "      <td>33.8967</td>\n",
       "    </tr>\n",
       "    <tr>\n",
       "      <th>3</th>\n",
       "      <td>dsgdb9nsd_000001</td>\n",
       "      <td>3</td>\n",
       "      <td>H</td>\n",
       "      <td>-0.540815</td>\n",
       "      <td>1.447527</td>\n",
       "      <td>-0.876644</td>\n",
       "      <td>31.5172</td>\n",
       "      <td>4.1086</td>\n",
       "      <td>1.2723</td>\n",
       "      <td>4.1088</td>\n",
       "      <td>33.9068</td>\n",
       "      <td>1.6950</td>\n",
       "      <td>1.2724</td>\n",
       "      <td>1.6951</td>\n",
       "      <td>28.9579</td>\n",
       "    </tr>\n",
       "    <tr>\n",
       "      <th>4</th>\n",
       "      <td>dsgdb9nsd_000001</td>\n",
       "      <td>4</td>\n",
       "      <td>H</td>\n",
       "      <td>-0.523814</td>\n",
       "      <td>1.437933</td>\n",
       "      <td>0.906397</td>\n",
       "      <td>31.4029</td>\n",
       "      <td>-4.0942</td>\n",
       "      <td>-1.1793</td>\n",
       "      <td>-4.0944</td>\n",
       "      <td>34.0776</td>\n",
       "      <td>1.6259</td>\n",
       "      <td>-1.1795</td>\n",
       "      <td>1.6260</td>\n",
       "      <td>28.9013</td>\n",
       "    </tr>\n",
       "    <tr>\n",
       "      <th>...</th>\n",
       "      <td>...</td>\n",
       "      <td>...</td>\n",
       "      <td>...</td>\n",
       "      <td>...</td>\n",
       "      <td>...</td>\n",
       "      <td>...</td>\n",
       "      <td>...</td>\n",
       "      <td>...</td>\n",
       "      <td>...</td>\n",
       "      <td>...</td>\n",
       "      <td>...</td>\n",
       "      <td>...</td>\n",
       "      <td>...</td>\n",
       "      <td>...</td>\n",
       "      <td>...</td>\n",
       "    </tr>\n",
       "    <tr>\n",
       "      <th>1533532</th>\n",
       "      <td>dsgdb9nsd_133884</td>\n",
       "      <td>13</td>\n",
       "      <td>H</td>\n",
       "      <td>2.582409</td>\n",
       "      <td>-1.260138</td>\n",
       "      <td>0.293499</td>\n",
       "      <td>38.9961</td>\n",
       "      <td>3.3026</td>\n",
       "      <td>-0.0001</td>\n",
       "      <td>-1.7562</td>\n",
       "      <td>26.1603</td>\n",
       "      <td>0.0000</td>\n",
       "      <td>0.0001</td>\n",
       "      <td>0.0000</td>\n",
       "      <td>24.1113</td>\n",
       "    </tr>\n",
       "    <tr>\n",
       "      <th>1533533</th>\n",
       "      <td>dsgdb9nsd_133884</td>\n",
       "      <td>14</td>\n",
       "      <td>H</td>\n",
       "      <td>2.087537</td>\n",
       "      <td>1.391489</td>\n",
       "      <td>0.548687</td>\n",
       "      <td>26.9291</td>\n",
       "      <td>0.6933</td>\n",
       "      <td>-0.8246</td>\n",
       "      <td>1.9653</td>\n",
       "      <td>34.1115</td>\n",
       "      <td>-4.9683</td>\n",
       "      <td>-0.7688</td>\n",
       "      <td>-5.1307</td>\n",
       "      <td>29.9158</td>\n",
       "    </tr>\n",
       "    <tr>\n",
       "      <th>1533534</th>\n",
       "      <td>dsgdb9nsd_133884</td>\n",
       "      <td>15</td>\n",
       "      <td>H</td>\n",
       "      <td>1.542918</td>\n",
       "      <td>0.547487</td>\n",
       "      <td>2.023550</td>\n",
       "      <td>26.9291</td>\n",
       "      <td>0.6933</td>\n",
       "      <td>0.8246</td>\n",
       "      <td>1.9654</td>\n",
       "      <td>34.1115</td>\n",
       "      <td>4.9683</td>\n",
       "      <td>0.7688</td>\n",
       "      <td>5.1307</td>\n",
       "      <td>29.9158</td>\n",
       "    </tr>\n",
       "    <tr>\n",
       "      <th>1533535</th>\n",
       "      <td>dsgdb9nsd_133884</td>\n",
       "      <td>16</td>\n",
       "      <td>H</td>\n",
       "      <td>-0.084531</td>\n",
       "      <td>1.110807</td>\n",
       "      <td>-1.796741</td>\n",
       "      <td>28.9460</td>\n",
       "      <td>0.0146</td>\n",
       "      <td>2.5359</td>\n",
       "      <td>-2.0440</td>\n",
       "      <td>24.9160</td>\n",
       "      <td>-1.7686</td>\n",
       "      <td>1.8798</td>\n",
       "      <td>0.9608</td>\n",
       "      <td>31.6697</td>\n",
       "    </tr>\n",
       "    <tr>\n",
       "      <th>1533536</th>\n",
       "      <td>dsgdb9nsd_133884</td>\n",
       "      <td>17</td>\n",
       "      <td>H</td>\n",
       "      <td>1.126550</td>\n",
       "      <td>-1.348733</td>\n",
       "      <td>-1.933838</td>\n",
       "      <td>30.1753</td>\n",
       "      <td>-6.4689</td>\n",
       "      <td>-5.5474</td>\n",
       "      <td>-3.8417</td>\n",
       "      <td>30.4761</td>\n",
       "      <td>6.3612</td>\n",
       "      <td>-1.5380</td>\n",
       "      <td>4.0582</td>\n",
       "      <td>29.4963</td>\n",
       "    </tr>\n",
       "  </tbody>\n",
       "</table>\n",
       "<p>1533537 rows × 15 columns</p>\n",
       "</div>"
      ],
      "text/plain": [
       "            molecule_name  atom_index atom         x         y         z  \\\n",
       "0        dsgdb9nsd_000001           0    C -0.012698  1.085804  0.008001   \n",
       "1        dsgdb9nsd_000001           1    H  0.002150 -0.006031  0.001976   \n",
       "2        dsgdb9nsd_000001           2    H  1.011731  1.463751  0.000277   \n",
       "3        dsgdb9nsd_000001           3    H -0.540815  1.447527 -0.876644   \n",
       "4        dsgdb9nsd_000001           4    H -0.523814  1.437933  0.906397   \n",
       "...                   ...         ...  ...       ...       ...       ...   \n",
       "1533532  dsgdb9nsd_133884          13    H  2.582409 -1.260138  0.293499   \n",
       "1533533  dsgdb9nsd_133884          14    H  2.087537  1.391489  0.548687   \n",
       "1533534  dsgdb9nsd_133884          15    H  1.542918  0.547487  2.023550   \n",
       "1533535  dsgdb9nsd_133884          16    H -0.084531  1.110807 -1.796741   \n",
       "1533536  dsgdb9nsd_133884          17    H  1.126550 -1.348733 -1.933838   \n",
       "\n",
       "               XX      YX      ZX      XY        YY      ZY      XZ      YZ  \\\n",
       "0        195.3147  0.0000 -0.0001  0.0000  195.3171  0.0007 -0.0001  0.0007   \n",
       "1         31.3410 -1.2317  4.0544 -1.2317   28.9546 -1.7173  4.0546 -1.7173   \n",
       "2         31.5814  1.2173 -4.1474  1.2173   28.9036 -1.6036 -4.1476 -1.6036   \n",
       "3         31.5172  4.1086  1.2723  4.1088   33.9068  1.6950  1.2724  1.6951   \n",
       "4         31.4029 -4.0942 -1.1793 -4.0944   34.0776  1.6259 -1.1795  1.6260   \n",
       "...           ...     ...     ...     ...       ...     ...     ...     ...   \n",
       "1533532   38.9961  3.3026 -0.0001 -1.7562   26.1603  0.0000  0.0001  0.0000   \n",
       "1533533   26.9291  0.6933 -0.8246  1.9653   34.1115 -4.9683 -0.7688 -5.1307   \n",
       "1533534   26.9291  0.6933  0.8246  1.9654   34.1115  4.9683  0.7688  5.1307   \n",
       "1533535   28.9460  0.0146  2.5359 -2.0440   24.9160 -1.7686  1.8798  0.9608   \n",
       "1533536   30.1753 -6.4689 -5.5474 -3.8417   30.4761  6.3612 -1.5380  4.0582   \n",
       "\n",
       "               ZZ  \n",
       "0        195.3169  \n",
       "1         34.0861  \n",
       "2         33.8967  \n",
       "3         28.9579  \n",
       "4         28.9013  \n",
       "...           ...  \n",
       "1533532   24.1113  \n",
       "1533533   29.9158  \n",
       "1533534   29.9158  \n",
       "1533535   31.6697  \n",
       "1533536   29.4963  \n",
       "\n",
       "[1533537 rows x 15 columns]"
      ]
     },
     "execution_count": 111,
     "metadata": {},
     "output_type": "execute_result"
    }
   ],
   "source": [
    "df"
   ]
  },
  {
   "cell_type": "code",
   "execution_count": 83,
   "id": "677f1aa4-12be-4561-aa95-98aa38ea938c",
   "metadata": {},
   "outputs": [
    {
     "data": {
      "text/plain": [
       "(541140, 9)"
      ]
     },
     "execution_count": 83,
     "metadata": {},
     "output_type": "execute_result"
    }
   ],
   "source": [
    "tensors_QM9.shape"
   ]
  },
  {
   "cell_type": "code",
   "execution_count": 85,
   "id": "221b90c2-171c-42bf-bd51-0f81ba0641ac",
   "metadata": {},
   "outputs": [
    {
     "data": {
      "text/plain": [
       "(array([195.314695  , 195.31629646, 195.31770854]),\n",
       " array([[-0.99864855,  0.0471778 , -0.02180212],\n",
       "        [ 0.01452426,  0.656126  ,  0.75451157],\n",
       "        [-0.04990113, -0.75317523,  0.6559245 ]]))"
      ]
     },
     "execution_count": 85,
     "metadata": {},
     "output_type": "execute_result"
    }
   ],
   "source": [
    "np.linalg.eig(tensors_QM9[0].reshape(3,3).T)"
   ]
  },
  {
   "cell_type": "code",
   "execution_count": 44,
   "id": "0b838e5f-ebdb-422d-8a3c-14b80376f36c",
   "metadata": {},
   "outputs": [
    {
     "data": {
      "text/plain": [
       "(541140,)"
      ]
     },
     "execution_count": 44,
     "metadata": {},
     "output_type": "execute_result"
    }
   ],
   "source": [
    "np.average(tensors_QM9[:,0::4],axis=1).shape"
   ]
  },
  {
   "cell_type": "code",
   "execution_count": 10,
   "id": "9b6b4652-127b-44f7-adb1-f565b2f0b217",
   "metadata": {},
   "outputs": [
    {
     "data": {
      "text/plain": [
       "(1533537, 11)"
      ]
     },
     "execution_count": 10,
     "metadata": {},
     "output_type": "execute_result"
    }
   ],
   "source": [
    "pd_QM9.shape"
   ]
  },
  {
   "cell_type": "code",
   "execution_count": null,
   "id": "43fb23c2-b916-4f87-92ef-5711222a5100",
   "metadata": {},
   "outputs": [],
   "source": [
    "for elem in [\"H\",\"\"]"
   ]
  },
  {
   "cell_type": "code",
   "execution_count": 80,
   "id": "4ed64e2a-95cc-4696-8ae8-cfb894b61973",
   "metadata": {},
   "outputs": [
    {
     "data": {
      "text/plain": [
       "array([31.46056667, 31.46056667, 31.46063333, ..., 30.3188    ,\n",
       "       28.51056667, 30.04923333])"
      ]
     },
     "execution_count": 80,
     "metadata": {},
     "output_type": "execute_result"
    }
   ],
   "source": [
    "np.average(np.array(df[df[\"atom\"]==\"H\"].iloc[:, 6:])[:,0::4],axis=1)"
   ]
  },
  {
   "cell_type": "code",
   "execution_count": 81,
   "id": "a13adddc-622f-42cb-a8b7-ff57528dc806",
   "metadata": {},
   "outputs": [
    {
     "data": {
      "text/plain": [
       "31.460566666666665"
      ]
     },
     "execution_count": 81,
     "metadata": {},
     "output_type": "execute_result"
    }
   ],
   "source": [
    "(31.3410 + 28.9546 + 34.0861)/3"
   ]
  },
  {
   "cell_type": "code",
   "execution_count": 71,
   "id": "7d70f950-1b11-4d01-b978-1f62f4485a4f",
   "metadata": {},
   "outputs": [
    {
     "data": {
      "text/html": [
       "<div>\n",
       "<style scoped>\n",
       "    .dataframe tbody tr th:only-of-type {\n",
       "        vertical-align: middle;\n",
       "    }\n",
       "\n",
       "    .dataframe tbody tr th {\n",
       "        vertical-align: top;\n",
       "    }\n",
       "\n",
       "    .dataframe thead th {\n",
       "        text-align: right;\n",
       "    }\n",
       "</style>\n",
       "<table border=\"1\" class=\"dataframe\">\n",
       "  <thead>\n",
       "    <tr style=\"text-align: right;\">\n",
       "      <th></th>\n",
       "      <th>XX</th>\n",
       "      <th>YX</th>\n",
       "      <th>ZX</th>\n",
       "      <th>XY</th>\n",
       "      <th>YY</th>\n",
       "      <th>ZY</th>\n",
       "      <th>XZ</th>\n",
       "      <th>YZ</th>\n",
       "      <th>ZZ</th>\n",
       "    </tr>\n",
       "  </thead>\n",
       "  <tbody>\n",
       "    <tr>\n",
       "      <th>1</th>\n",
       "      <td>31.3410</td>\n",
       "      <td>-1.2317</td>\n",
       "      <td>4.0544</td>\n",
       "      <td>-1.2317</td>\n",
       "      <td>28.9546</td>\n",
       "      <td>-1.7173</td>\n",
       "      <td>4.0546</td>\n",
       "      <td>-1.7173</td>\n",
       "      <td>34.0861</td>\n",
       "    </tr>\n",
       "    <tr>\n",
       "      <th>2</th>\n",
       "      <td>31.5814</td>\n",
       "      <td>1.2173</td>\n",
       "      <td>-4.1474</td>\n",
       "      <td>1.2173</td>\n",
       "      <td>28.9036</td>\n",
       "      <td>-1.6036</td>\n",
       "      <td>-4.1476</td>\n",
       "      <td>-1.6036</td>\n",
       "      <td>33.8967</td>\n",
       "    </tr>\n",
       "    <tr>\n",
       "      <th>3</th>\n",
       "      <td>31.5172</td>\n",
       "      <td>4.1086</td>\n",
       "      <td>1.2723</td>\n",
       "      <td>4.1088</td>\n",
       "      <td>33.9068</td>\n",
       "      <td>1.6950</td>\n",
       "      <td>1.2724</td>\n",
       "      <td>1.6951</td>\n",
       "      <td>28.9579</td>\n",
       "    </tr>\n",
       "    <tr>\n",
       "      <th>4</th>\n",
       "      <td>31.4029</td>\n",
       "      <td>-4.0942</td>\n",
       "      <td>-1.1793</td>\n",
       "      <td>-4.0944</td>\n",
       "      <td>34.0776</td>\n",
       "      <td>1.6259</td>\n",
       "      <td>-1.1795</td>\n",
       "      <td>1.6260</td>\n",
       "      <td>28.9013</td>\n",
       "    </tr>\n",
       "    <tr>\n",
       "      <th>6</th>\n",
       "      <td>31.2593</td>\n",
       "      <td>5.6126</td>\n",
       "      <td>-2.1025</td>\n",
       "      <td>5.6136</td>\n",
       "      <td>37.4364</td>\n",
       "      <td>-3.5567</td>\n",
       "      <td>-2.4461</td>\n",
       "      <td>-4.1372</td>\n",
       "      <td>27.9884</td>\n",
       "    </tr>\n",
       "    <tr>\n",
       "      <th>...</th>\n",
       "      <td>...</td>\n",
       "      <td>...</td>\n",
       "      <td>...</td>\n",
       "      <td>...</td>\n",
       "      <td>...</td>\n",
       "      <td>...</td>\n",
       "      <td>...</td>\n",
       "      <td>...</td>\n",
       "      <td>...</td>\n",
       "    </tr>\n",
       "    <tr>\n",
       "      <th>1533532</th>\n",
       "      <td>38.9961</td>\n",
       "      <td>3.3026</td>\n",
       "      <td>-0.0001</td>\n",
       "      <td>-1.7562</td>\n",
       "      <td>26.1603</td>\n",
       "      <td>0.0000</td>\n",
       "      <td>0.0001</td>\n",
       "      <td>0.0000</td>\n",
       "      <td>24.1113</td>\n",
       "    </tr>\n",
       "    <tr>\n",
       "      <th>1533533</th>\n",
       "      <td>26.9291</td>\n",
       "      <td>0.6933</td>\n",
       "      <td>-0.8246</td>\n",
       "      <td>1.9653</td>\n",
       "      <td>34.1115</td>\n",
       "      <td>-4.9683</td>\n",
       "      <td>-0.7688</td>\n",
       "      <td>-5.1307</td>\n",
       "      <td>29.9158</td>\n",
       "    </tr>\n",
       "    <tr>\n",
       "      <th>1533534</th>\n",
       "      <td>26.9291</td>\n",
       "      <td>0.6933</td>\n",
       "      <td>0.8246</td>\n",
       "      <td>1.9654</td>\n",
       "      <td>34.1115</td>\n",
       "      <td>4.9683</td>\n",
       "      <td>0.7688</td>\n",
       "      <td>5.1307</td>\n",
       "      <td>29.9158</td>\n",
       "    </tr>\n",
       "    <tr>\n",
       "      <th>1533535</th>\n",
       "      <td>28.9460</td>\n",
       "      <td>0.0146</td>\n",
       "      <td>2.5359</td>\n",
       "      <td>-2.0440</td>\n",
       "      <td>24.9160</td>\n",
       "      <td>-1.7686</td>\n",
       "      <td>1.8798</td>\n",
       "      <td>0.9608</td>\n",
       "      <td>31.6697</td>\n",
       "    </tr>\n",
       "    <tr>\n",
       "      <th>1533536</th>\n",
       "      <td>30.1753</td>\n",
       "      <td>-6.4689</td>\n",
       "      <td>-5.5474</td>\n",
       "      <td>-3.8417</td>\n",
       "      <td>30.4761</td>\n",
       "      <td>6.3612</td>\n",
       "      <td>-1.5380</td>\n",
       "      <td>4.0582</td>\n",
       "      <td>29.4963</td>\n",
       "    </tr>\n",
       "  </tbody>\n",
       "</table>\n",
       "<p>785837 rows × 9 columns</p>\n",
       "</div>"
      ],
      "text/plain": [
       "              XX      YX      ZX      XY       YY      ZY      XZ      YZ  \\\n",
       "1        31.3410 -1.2317  4.0544 -1.2317  28.9546 -1.7173  4.0546 -1.7173   \n",
       "2        31.5814  1.2173 -4.1474  1.2173  28.9036 -1.6036 -4.1476 -1.6036   \n",
       "3        31.5172  4.1086  1.2723  4.1088  33.9068  1.6950  1.2724  1.6951   \n",
       "4        31.4029 -4.0942 -1.1793 -4.0944  34.0776  1.6259 -1.1795  1.6260   \n",
       "6        31.2593  5.6126 -2.1025  5.6136  37.4364 -3.5567 -2.4461 -4.1372   \n",
       "...          ...     ...     ...     ...      ...     ...     ...     ...   \n",
       "1533532  38.9961  3.3026 -0.0001 -1.7562  26.1603  0.0000  0.0001  0.0000   \n",
       "1533533  26.9291  0.6933 -0.8246  1.9653  34.1115 -4.9683 -0.7688 -5.1307   \n",
       "1533534  26.9291  0.6933  0.8246  1.9654  34.1115  4.9683  0.7688  5.1307   \n",
       "1533535  28.9460  0.0146  2.5359 -2.0440  24.9160 -1.7686  1.8798  0.9608   \n",
       "1533536  30.1753 -6.4689 -5.5474 -3.8417  30.4761  6.3612 -1.5380  4.0582   \n",
       "\n",
       "              ZZ  \n",
       "1        34.0861  \n",
       "2        33.8967  \n",
       "3        28.9579  \n",
       "4        28.9013  \n",
       "6        27.9884  \n",
       "...          ...  \n",
       "1533532  24.1113  \n",
       "1533533  29.9158  \n",
       "1533534  29.9158  \n",
       "1533535  31.6697  \n",
       "1533536  29.4963  \n",
       "\n",
       "[785837 rows x 9 columns]"
      ]
     },
     "execution_count": 71,
     "metadata": {},
     "output_type": "execute_result"
    }
   ],
   "source": [
    "df[df[\"atom\"]==\"H\"].iloc[:, 6:]"
   ]
  },
  {
   "cell_type": "code",
   "execution_count": 30,
   "id": "fa1989e9-3810-48ac-9950-2dfda9d471d7",
   "metadata": {},
   "outputs": [],
   "source": [
    "\n",
    "\n",
    "tensors_QM9 = np.array(df[df[\"atom\"]==\"C\"].iloc[:, 6:])"
   ]
  },
  {
   "cell_type": "code",
   "execution_count": 31,
   "id": "dbb9ca05-97f2-429b-9f77-6877f3c720fd",
   "metadata": {},
   "outputs": [
    {
     "data": {
      "text/plain": [
       "(541140, 9)"
      ]
     },
     "execution_count": 31,
     "metadata": {},
     "output_type": "execute_result"
    }
   ],
   "source": [
    "tensors_QM9.shape"
   ]
  },
  {
   "cell_type": "code",
   "execution_count": 37,
   "id": "ad425e5f-7966-4756-86c7-0c6b86470bf2",
   "metadata": {},
   "outputs": [],
   "source": [
    "isos = np.sum(tensors_QM9[:,0::3])"
   ]
  },
  {
   "cell_type": "code",
   "execution_count": null,
   "id": "49105b4c-6d3d-40a8-aa24-41f00cc93455",
   "metadata": {},
   "outputs": [],
   "source": []
  },
  {
   "cell_type": "code",
   "execution_count": 32,
   "id": "968031de-ffbb-45f5-ad16-310fdb2590ca",
   "metadata": {},
   "outputs": [],
   "source": [
    "isos_QM9 = []\n",
    "for tensor in tensors_QM9:\n",
    "        iso_shift = np.sum(np.linalg.eig(tensor.reshape((3,3)))[0])/3\n",
    "        isos_QM9.append(iso_shift)\n",
    "isos_QM9 = np.array(isos_QM9)"
   ]
  },
  {
   "cell_type": "code",
   "execution_count": 45,
   "id": "e5c51dc7-a428-4715-870c-02e5e06a9dde",
   "metadata": {},
   "outputs": [],
   "source": [
    "isos_QM9 = np.average(tensors_QM9[:,0::4],axis=1)"
   ]
  },
  {
   "cell_type": "code",
   "execution_count": 47,
   "id": "88cf871f-9019-406d-a463-feac27d69d2a",
   "metadata": {},
   "outputs": [],
   "source": [
    "isos_QM9_C = pd.DataFrame(isos_QM9, columns=[\"13C shift\"])"
   ]
  },
  {
   "cell_type": "code",
   "execution_count": 49,
   "id": "47386ea6-ae83-48dc-8d2a-55b8807080e1",
   "metadata": {},
   "outputs": [],
   "source": [
    "from matplotlib import pyplot as plt"
   ]
  },
  {
   "cell_type": "code",
   "execution_count": 56,
   "id": "4172b42b-3e2f-4fc3-84ef-871c4b33b483",
   "metadata": {},
   "outputs": [
    {
     "data": {
      "text/plain": [
       "<AxesSubplot:xlabel='13C shift', ylabel='Density'>"
      ]
     },
     "execution_count": 56,
     "metadata": {},
     "output_type": "execute_result"
    },
    {
     "data": {
      "image/png": "[encoded data removed]",
      "text/plain": [
       "<Figure size 432x288 with 1 Axes>"
      ]
     },
     "metadata": {
      "needs_background": "light"
     },
     "output_type": "display_data"
    }
   ],
   "source": [
    "sns.kdeplot(data=isos_QM9_C, x=\"13C shift\",fill=True)"
   ]
  },
  {
   "cell_type": "code",
   "execution_count": 66,
   "id": "0011dfb2-2835-4d4d-8b39-8eeb6bfb05a4",
   "metadata": {},
   "outputs": [
    {
     "data": {
      "image/png": "[encoded data removed]",
      "text/plain": [
       "<Figure size 273.6x187.2 with 1 Axes>"
      ]
     },
     "metadata": {
      "needs_background": "light"
     },
     "output_type": "display_data"
    }
   ],
   "source": [
    "fig, ax = plt.subplots(figsize=(3.8,2.6))\n",
    "sns.kdeplot(data=species_shifts[6], x=\"13C shift\",fill=True,color=\"orange\", ax=ax)\n",
    "sns.kdeplot(data=isos_QM9_C, x=\"13C shift\", fill=True,ax=ax)\n",
    "#ax.set_title(\"\")\n",
    "ax.set_xlabel(r\"$^{13}$C $\\sigma_{iso}$ [ppm]\")\n",
    "ax.set_title(r\"$^{13}$C $\\sigma_{iso}$ distribution\")\n",
    "plt.legend(loc='upper left', labels=['CSD-3K', 'QM9'])\n",
    "#plt.savefig(\"QM9_CSD3K_C13_iso.png\", dpi=300,bbox_inches='tight')"
   ]
  },
  {
   "cell_type": "code",
   "execution_count": 52,
   "id": "9283918d-d850-47a4-8ac5-54f2a5fed975",
   "metadata": {},
   "outputs": [
    {
     "data": {
      "text/plain": [
       "<matplotlib.legend.Legend at 0x7f07ef484130>"
      ]
     },
     "execution_count": 52,
     "metadata": {},
     "output_type": "execute_result"
    },
    {
     "data": {
      "image/png": "[encoded data removed]",
      "text/plain": [
       "<Figure size 273.6x187.2 with 1 Axes>"
      ]
     },
     "metadata": {
      "needs_background": "light"
     },
     "output_type": "display_data"
    }
   ],
   "source": [
    "fig, ax = plt.subplots(figsize=(3.8,2.6))\n",
    "sns.kdeplot(data=species_shifts[6], x=\"13C shift\",fill=True,color=\"orange\", ax=ax)\n",
    "sns.kdeplot(data=species_shifts_test[6], x=\"13C shift\", fill=True,ax=ax)\n",
    "#ax.set_title(\"\")\n",
    "ax.set_xlabel(r\"$^{13}$C $\\sigma_{iso}$ [ppm]\")\n",
    "ax.set_title(r\"$^{13}$C $\\sigma_{iso}$ distribution\")\n",
    "plt.legend(loc='upper left', labels=['CSD-3K', ''])"
   ]
  },
  {
   "cell_type": "code",
   "execution_count": null,
   "id": "ea5f6a9b-5f23-4750-9270-d5b97411c737",
   "metadata": {},
   "outputs": [],
   "source": [
    "fig, ax = plt.subplots(figsize=(2.8,1.8))\n",
    "sns.kdeplot(data=total_atoms,fill=True,color=\"orange\", ax=ax)\n",
    "sns.kdeplot(data=total_atoms_test,fill=True,color=\"tab:green\", ax=ax)\n",
    "ax.set_xlabel(\"N atoms in structure\")\n",
    "plt.legend(loc='upper left', labels=['Train',\"Test\"],\n",
    "bbox_to_anchor=(1.0,1.05))\n",
    "ax.set_yticks([])\n",
    "plt.savefig(\"atoms_distribution_train_test.png\",dpi=300,bbox_inches=\"tight\")"
   ]
  },
  {
   "cell_type": "code",
   "execution_count": null,
   "id": "dae577c4-3d7d-4b1d-ab4d-84af33817400",
   "metadata": {},
   "outputs": [],
   "source": [
    "fig, ax = plt.subplots(figsize=(3.8,2.6))\n",
    "sns.kdeplot(data=species_shifts[7], x=\"13C shift\",fill=True,color=\"orange\", ax=ax)\n",
    "sns.kdeplot(data=isos_QM9_C, x=\"13C shift\", fill=True,ax=ax)\n",
    "#ax.set_title(\"\")\n",
    "ax.set_xlabel(r\"$^{13}$C $\\sigma_{iso}$ [ppm]\")\n",
    "ax.set_title(r\"$^{13}$C $\\sigma_{iso}$ distribution\")\n",
    "plt.legend(loc='upper left', labels=['train', 'test'])"
   ]
  },
  {
   "cell_type": "code",
   "execution_count": 143,
   "id": "cbcff474-0718-44d4-ae92-4dd15fdd4088",
   "metadata": {},
   "outputs": [
    {
     "data": {
      "image/png": "[encoded data removed]",
      "text/plain": [
       "<Figure size 273.6x187.2 with 1 Axes>"
      ]
     },
     "metadata": {
      "needs_background": "light"
     },
     "output_type": "display_data"
    }
   ],
   "source": [
    "fig, ax = plt.subplots(figsize=(3.8,2.6))\n",
    "sns.kdeplot(data=species_shifts[6], x=\"13C shift\",fill=True,color=\"orange\", ax=ax)\n",
    "sns.kdeplot(data=np.average(np.array(df[df[\"atom\"]==\"C\"].iloc[:, 6:])[:,0::4],axis=1), fill=True,ax=ax)\n",
    "#ax.set_xlim(-400,300)\n",
    "ax.set_xlabel(r\"$^{13}$C $\\sigma_{iso}$ [ppm]\")\n",
    "ax.set_title(r\"$^{13}$C $\\sigma_{iso}$ Distribution\")\n",
    "ax.set_yticks([])\n",
    "#plt.axis('off')\n",
    "plt.legend(loc='upper left', labels=['CSD-3K', 'QM9'])\n",
    "#plt.savefig(\"QM9_CSD3K_C13_iso.png\", dpi=300,bbox_inches='tight')"
   ]
  },
  {
   "cell_type": "code",
   "execution_count": 80,
   "id": "b04ae137-665a-4ea7-a9b2-1f2840f0f194",
   "metadata": {},
   "outputs": [
    {
     "data": {
      "text/plain": [
       "array([[  3.99],\n",
       "       [  3.99],\n",
       "       [  3.99],\n",
       "       ...,\n",
       "       [134.16],\n",
       "       [134.16],\n",
       "       [134.16]])"
      ]
     },
     "execution_count": 80,
     "metadata": {},
     "output_type": "execute_result"
    }
   ],
   "source": [
    "species_shifts[6].to_numpy()"
   ]
  },
  {
   "cell_type": "code",
   "execution_count": 95,
   "id": "5bae89ad-7641-4a7f-b08e-b7b02849d22e",
   "metadata": {},
   "outputs": [
    {
     "data": {
      "text/plain": [
       "<matplotlib.legend.Legend at 0x7f07f44da6a0>"
      ]
     },
     "execution_count": 95,
     "metadata": {},
     "output_type": "execute_result"
    },
    {
     "data": {
      "image/png": "[encoded data removed]",
      "text/plain": [
       "<Figure size 273.6x187.2 with 1 Axes>"
      ]
     },
     "metadata": {
      "needs_background": "light"
     },
     "output_type": "display_data"
    }
   ],
   "source": [
    "fig, ax = plt.subplots(figsize=(3.8,2.6))\n",
    "a = list(species_shifts[1].to_numpy().flatten())\n",
    "b = list(species_shifts_test[1].to_numpy().flatten())\n",
    "\n",
    "sns.kdeplot(data=a,fill=True,color=\"orange\", ax=ax)\n",
    "sns.kdeplot(data=b,fill=True,color=\"tab:green\",ax=ax)\n",
    "#ax.set_xlim(-400,300)\n",
    "ax.set_xlabel(r\"$^{1}$H $\\sigma_{shape}$ [ppm]\")\n",
    "ax.set_title(r\"$^{1}$H $\\sigma_{shape}$ Distribution\")\n",
    "ax.set_yticks([])\n",
    "#plt.axis('off')\n",
    "plt.legend(loc='upper left', labels=['train', 'test'])\n",
    "#plt.savefig(\"train_test_H1_iso.png\", dpi=300,bbox_inches='tight')"
   ]
  },
  {
   "cell_type": "code",
   "execution_count": 86,
   "id": "3e0c1814-5c3e-40c8-9b30-c80830cd24bd",
   "metadata": {
    "collapsed": true,
    "jupyter": {
     "outputs_hidden": true
    },
    "tags": []
   },
   "outputs": [
    {
     "data": {
      "text/plain": [
       "[array([3.99]),\n",
       " array([3.99]),\n",
       " array([3.99]),\n",
       " array([3.99]),\n",
       " array([43.06]),\n",
       " array([43.06]),\n",
       " array([43.06]),\n",
       " array([43.06]),\n",
       " array([22.7]),\n",
       " array([22.7]),\n",
       " array([22.7]),\n",
       " array([22.7]),\n",
       " array([58.12]),\n",
       " array([58.12]),\n",
       " array([58.12]),\n",
       " array([58.12]),\n",
       " array([27.33]),\n",
       " array([27.33]),\n",
       " array([27.33]),\n",
       " array([27.33]),\n",
       " array([13.46]),\n",
       " array([13.46]),\n",
       " array([4.61]),\n",
       " array([4.61]),\n",
       " array([86.77]),\n",
       " array([86.77]),\n",
       " array([9.5]),\n",
       " array([9.5]),\n",
       " array([15.33]),\n",
       " array([15.33]),\n",
       " array([137.13]),\n",
       " array([137.13]),\n",
       " array([128.37]),\n",
       " array([128.37]),\n",
       " array([141.57]),\n",
       " array([141.57]),\n",
       " array([142.87]),\n",
       " array([142.87]),\n",
       " array([21.82]),\n",
       " array([21.83]),\n",
       " array([21.82]),\n",
       " array([21.83]),\n",
       " array([10.07]),\n",
       " array([10.07]),\n",
       " array([10.07]),\n",
       " array([10.07]),\n",
       " array([10.63]),\n",
       " array([10.63]),\n",
       " array([10.63]),\n",
       " array([10.63]),\n",
       " array([21.49]),\n",
       " array([21.49]),\n",
       " array([21.49]),\n",
       " array([21.49]),\n",
       " array([97.42]),\n",
       " array([97.43]),\n",
       " array([97.42]),\n",
       " array([97.43]),\n",
       " array([11.79]),\n",
       " array([11.78]),\n",
       " array([11.79]),\n",
       " array([11.78]),\n",
       " array([97.2]),\n",
       " array([97.19]),\n",
       " array([97.2]),\n",
       " array([97.19]),\n",
       " array([11.71]),\n",
       " array([11.71]),\n",
       " array([-0.39]),\n",
       " array([-0.39]),\n",
       " array([65.54]),\n",
       " array([65.54]),\n",
       " array([7.42]),\n",
       " array([7.42]),\n",
       " array([135.04]),\n",
       " array([135.04]),\n",
       " array([142.69]),\n",
       " array([142.69]),\n",
       " array([136.68]),\n",
       " array([136.68]),\n",
       " array([137.07]),\n",
       " array([137.07]),\n",
       " array([137.01]),\n",
       " array([137.01]),\n",
       " array([134.94]),\n",
       " array([134.94]),\n",
       " array([136.12]),\n",
       " array([136.12]),\n",
       " array([135.46]),\n",
       " array([135.46]),\n",
       " array([135.86]),\n",
       " array([135.86]),\n",
       " array([136.22]),\n",
       " array([136.22]),\n",
       " array([133.34]),\n",
       " array([133.34]),\n",
       " array([144.47]),\n",
       " array([144.47]),\n",
       " array([154.96]),\n",
       " array([154.96]),\n",
       " array([-0.21]),\n",
       " array([-0.21]),\n",
       " array([2.43]),\n",
       " array([2.43]),\n",
       " array([-13.95]),\n",
       " array([-13.95]),\n",
       " array([129.67]),\n",
       " array([129.67]),\n",
       " array([143.35]),\n",
       " array([143.35]),\n",
       " array([136.31]),\n",
       " array([136.31]),\n",
       " array([136.58]),\n",
       " array([136.58]),\n",
       " array([134.89]),\n",
       " array([134.89]),\n",
       " array([136.72]),\n",
       " array([136.72]),\n",
       " array([134.45]),\n",
       " array([134.45]),\n",
       " array([137.82]),\n",
       " array([137.82]),\n",
       " array([134.71]),\n",
       " array([134.71]),\n",
       " array([137.01]),\n",
       " array([137.01]),\n",
       " array([142.96]),\n",
       " array([142.96]),\n",
       " array([157.86]),\n",
       " array([157.86]),\n",
       " array([12.23]),\n",
       " array([12.25]),\n",
       " array([12.23]),\n",
       " array([12.25]),\n",
       " array([11.14]),\n",
       " array([11.14]),\n",
       " array([11.14]),\n",
       " array([11.14]),\n",
       " array([-5.95]),\n",
       " array([-5.92]),\n",
       " array([-5.95]),\n",
       " array([-5.92]),\n",
       " array([-8.32]),\n",
       " array([-8.32]),\n",
       " array([-8.32]),\n",
       " array([-8.32]),\n",
       " array([137.04]),\n",
       " array([137.04]),\n",
       " array([137.04]),\n",
       " array([137.04]),\n",
       " array([126.84]),\n",
       " array([126.85]),\n",
       " array([126.84]),\n",
       " array([126.85]),\n",
       " array([114.45]),\n",
       " array([114.45]),\n",
       " array([114.45]),\n",
       " array([114.45]),\n",
       " array([121.58]),\n",
       " array([121.58]),\n",
       " array([121.58]),\n",
       " array([121.58]),\n",
       " array([41.07]),\n",
       " array([41.07]),\n",
       " array([7.06]),\n",
       " array([7.06]),\n",
       " array([51.35]),\n",
       " array([51.35]),\n",
       " array([3.91]),\n",
       " array([3.91]),\n",
       " array([48.13]),\n",
       " array([48.13]),\n",
       " array([18.8]),\n",
       " array([18.8]),\n",
       " array([151.76]),\n",
       " array([151.76]),\n",
       " array([2.85]),\n",
       " array([2.85]),\n",
       " array([14.2]),\n",
       " array([14.2]),\n",
       " array([21.9]),\n",
       " array([21.9]),\n",
       " array([20.69]),\n",
       " array([20.69]),\n",
       " array([49.84]),\n",
       " array([49.84]),\n",
       " array([18.23]),\n",
       " array([18.23]),\n",
       " array([55.23]),\n",
       " array([55.23]),\n",
       " array([100.13]),\n",
       " array([100.13]),\n",
       " array([-2.85]),\n",
       " array([-2.85]),\n",
       " array([-11.01]),\n",
       " array([-11.01]),\n",
       " array([153.]),\n",
       " array([153.]),\n",
       " array([-8.81]),\n",
       " array([-8.81]),\n",
       " array([153.01]),\n",
       " array([153.01]),\n",
       " array([30.27]),\n",
       " array([30.27]),\n",
       " array([30.27]),\n",
       " array([30.27]),\n",
       " array([30.27]),\n",
       " array([30.27]),\n",
       " array([30.27]),\n",
       " array([30.27]),\n",
       " array([30.59]),\n",
       " array([30.59]),\n",
       " array([30.59]),\n",
       " array([30.59]),\n",
       " array([30.59]),\n",
       " array([30.59]),\n",
       " array([30.59]),\n",
       " array([30.59]),\n",
       " array([28.81]),\n",
       " array([28.81]),\n",
       " array([28.81]),\n",
       " array([28.81]),\n",
       " array([28.81]),\n",
       " array([28.81]),\n",
       " array([28.81]),\n",
       " array([28.81]),\n",
       " array([130.64]),\n",
       " array([130.64]),\n",
       " array([130.64]),\n",
       " array([130.64]),\n",
       " array([130.64]),\n",
       " array([130.64]),\n",
       " array([130.64]),\n",
       " array([130.64]),\n",
       " array([4.73]),\n",
       " array([4.73]),\n",
       " array([4.73]),\n",
       " array([4.73]),\n",
       " array([4.73]),\n",
       " array([4.73]),\n",
       " array([4.73]),\n",
       " array([4.73]),\n",
       " array([17.83]),\n",
       " array([17.83]),\n",
       " array([17.83]),\n",
       " array([17.83]),\n",
       " array([16.92]),\n",
       " array([16.92]),\n",
       " array([16.92]),\n",
       " array([16.92]),\n",
       " array([16.71]),\n",
       " array([16.71]),\n",
       " array([16.71]),\n",
       " array([16.71]),\n",
       " array([97.98]),\n",
       " array([97.98]),\n",
       " array([97.98]),\n",
       " array([97.98]),\n",
       " array([140.28]),\n",
       " array([140.29]),\n",
       " array([140.28]),\n",
       " array([140.29]),\n",
       " array([153.32]),\n",
       " array([153.32]),\n",
       " array([153.32]),\n",
       " array([153.32]),\n",
       " array([157.85]),\n",
       " array([157.85]),\n",
       " array([157.85]),\n",
       " array([157.85]),\n",
       " array([21.25]),\n",
       " array([21.25]),\n",
       " array([21.25]),\n",
       " array([21.25]),\n",
       " array([30.12]),\n",
       " array([30.12]),\n",
       " array([30.12]),\n",
       " array([30.12]),\n",
       " array([45.09]),\n",
       " array([45.09]),\n",
       " array([45.09]),\n",
       " array([45.09]),\n",
       " array([35.09]),\n",
       " array([35.09]),\n",
       " array([35.09]),\n",
       " array([35.09]),\n",
       " array([38.94]),\n",
       " array([38.94]),\n",
       " array([38.94]),\n",
       " array([38.94]),\n",
       " array([36.39]),\n",
       " array([36.39]),\n",
       " array([36.39]),\n",
       " array([36.39]),\n",
       " array([46.88]),\n",
       " array([46.88]),\n",
       " array([46.88]),\n",
       " array([46.88]),\n",
       " array([35.07]),\n",
       " array([35.07]),\n",
       " array([35.07]),\n",
       " array([35.07]),\n",
       " array([39.04]),\n",
       " array([39.04]),\n",
       " array([39.04]),\n",
       " array([39.04]),\n",
       " array([37.56]),\n",
       " array([37.55]),\n",
       " array([37.56]),\n",
       " array([37.55]),\n",
       " array([39.6]),\n",
       " array([39.6]),\n",
       " array([39.6]),\n",
       " array([39.6]),\n",
       " array([33.54]),\n",
       " array([33.54]),\n",
       " array([33.54]),\n",
       " array([33.54]),\n",
       " array([37.31]),\n",
       " array([37.31]),\n",
       " array([37.31]),\n",
       " array([37.31]),\n",
       " array([-44.35]),\n",
       " array([-44.35]),\n",
       " array([-44.35]),\n",
       " array([-44.35]),\n",
       " array([122.59]),\n",
       " array([122.59]),\n",
       " array([122.59]),\n",
       " array([122.59]),\n",
       " array([135.73]),\n",
       " array([135.73]),\n",
       " array([135.73]),\n",
       " array([135.73]),\n",
       " array([128.83]),\n",
       " array([128.83]),\n",
       " array([128.83]),\n",
       " array([128.83]),\n",
       " array([-44.48]),\n",
       " array([-44.48]),\n",
       " array([-44.48]),\n",
       " array([-44.48]),\n",
       " array([123.92]),\n",
       " array([123.92]),\n",
       " array([123.92]),\n",
       " array([123.92]),\n",
       " array([140.33]),\n",
       " array([140.33]),\n",
       " array([140.33]),\n",
       " array([140.33]),\n",
       " array([127.25]),\n",
       " array([127.25]),\n",
       " array([127.25]),\n",
       " array([127.25]),\n",
       " array([-43.9]),\n",
       " array([-43.9]),\n",
       " array([-43.9]),\n",
       " array([-43.9]),\n",
       " array([122.15]),\n",
       " array([122.15]),\n",
       " array([122.15]),\n",
       " array([122.15]),\n",
       " array([138.43]),\n",
       " array([138.43]),\n",
       " array([138.43]),\n",
       " array([138.43]),\n",
       " array([126.28]),\n",
       " array([126.28]),\n",
       " array([126.28]),\n",
       " array([126.28]),\n",
       " array([95.72]),\n",
       " array([95.73]),\n",
       " array([95.72]),\n",
       " array([95.73]),\n",
       " array([93.45]),\n",
       " array([93.45]),\n",
       " array([93.45]),\n",
       " array([93.45]),\n",
       " array([95.]),\n",
       " array([95.]),\n",
       " array([95.]),\n",
       " array([95.]),\n",
       " array([91.69]),\n",
       " array([91.68]),\n",
       " array([91.69]),\n",
       " array([91.68]),\n",
       " array([94.75]),\n",
       " array([94.74]),\n",
       " array([94.75]),\n",
       " array([94.74]),\n",
       " array([91.24]),\n",
       " array([91.23]),\n",
       " array([91.24]),\n",
       " array([91.23]),\n",
       " array([15.76]),\n",
       " array([15.76]),\n",
       " array([15.76]),\n",
       " array([15.76]),\n",
       " array([88.42]),\n",
       " array([88.42]),\n",
       " array([88.42]),\n",
       " array([88.42]),\n",
       " array([17.86]),\n",
       " array([17.86]),\n",
       " array([17.86]),\n",
       " array([17.86]),\n",
       " array([51.15]),\n",
       " array([51.15]),\n",
       " array([51.15]),\n",
       " array([51.15]),\n",
       " array([44.52]),\n",
       " array([44.52]),\n",
       " array([44.52]),\n",
       " array([44.52]),\n",
       " array([47.04]),\n",
       " array([47.04]),\n",
       " array([47.04]),\n",
       " array([47.04]),\n",
       " array([50.54]),\n",
       " array([50.54]),\n",
       " array([50.54]),\n",
       " array([50.54]),\n",
       " array([21.77]),\n",
       " array([21.77]),\n",
       " array([21.77]),\n",
       " array([21.77]),\n",
       " array([55.8]),\n",
       " array([55.8]),\n",
       " array([55.8]),\n",
       " array([55.8]),\n",
       " array([31.72]),\n",
       " array([31.72]),\n",
       " array([31.72]),\n",
       " array([31.72]),\n",
       " array([39.41]),\n",
       " array([39.41]),\n",
       " array([39.41]),\n",
       " array([39.41]),\n",
       " array([39.02]),\n",
       " array([39.02]),\n",
       " array([39.02]),\n",
       " array([39.02]),\n",
       " array([40.47]),\n",
       " array([40.47]),\n",
       " array([40.47]),\n",
       " array([40.47]),\n",
       " array([40.21]),\n",
       " array([40.21]),\n",
       " array([40.21]),\n",
       " array([40.21]),\n",
       " array([34.34]),\n",
       " array([34.34]),\n",
       " array([34.34]),\n",
       " array([34.34]),\n",
       " array([28.13]),\n",
       " array([28.13]),\n",
       " array([28.13]),\n",
       " array([28.13]),\n",
       " array([37.89]),\n",
       " array([37.89]),\n",
       " array([37.89]),\n",
       " array([37.89]),\n",
       " array([39.31]),\n",
       " array([39.31]),\n",
       " array([39.31]),\n",
       " array([39.31]),\n",
       " array([37.68]),\n",
       " array([37.68]),\n",
       " array([37.68]),\n",
       " array([37.68]),\n",
       " array([37.9]),\n",
       " array([37.9]),\n",
       " array([37.9]),\n",
       " array([37.9]),\n",
       " array([39.26]),\n",
       " array([39.26]),\n",
       " array([39.26]),\n",
       " array([39.26]),\n",
       " array([105.49]),\n",
       " array([67.21]),\n",
       " array([93.13]),\n",
       " array([105.52]),\n",
       " array([67.27]),\n",
       " array([93.38]),\n",
       " array([100.43]),\n",
       " array([100.42]),\n",
       " array([100.41]),\n",
       " array([100.41]),\n",
       " array([101.37]),\n",
       " array([101.37]),\n",
       " array([101.37]),\n",
       " array([101.37]),\n",
       " array([108.42]),\n",
       " array([108.42]),\n",
       " array([108.43]),\n",
       " array([108.42]),\n",
       " array([107.45]),\n",
       " array([107.45]),\n",
       " array([107.45]),\n",
       " array([107.45]),\n",
       " array([132.68]),\n",
       " array([132.68]),\n",
       " array([132.68]),\n",
       " array([132.68]),\n",
       " array([133.43]),\n",
       " array([133.43]),\n",
       " array([133.44]),\n",
       " array([133.43]),\n",
       " array([133.78]),\n",
       " array([133.77]),\n",
       " array([133.78]),\n",
       " array([133.77]),\n",
       " array([133.81]),\n",
       " array([133.81]),\n",
       " array([133.8]),\n",
       " array([133.81]),\n",
       " array([35.14]),\n",
       " array([35.14]),\n",
       " array([35.14]),\n",
       " array([35.14]),\n",
       " array([15.49]),\n",
       " array([15.49]),\n",
       " array([15.49]),\n",
       " array([15.49]),\n",
       " array([44.86]),\n",
       " array([44.86]),\n",
       " array([44.86]),\n",
       " array([44.86]),\n",
       " array([17.57]),\n",
       " array([17.58]),\n",
       " array([17.57]),\n",
       " array([17.58]),\n",
       " array([38.13]),\n",
       " array([38.14]),\n",
       " array([38.13]),\n",
       " array([38.14]),\n",
       " array([36.86]),\n",
       " array([36.86]),\n",
       " array([36.86]),\n",
       " array([36.86]),\n",
       " array([24.37]),\n",
       " array([24.38]),\n",
       " array([24.37]),\n",
       " array([24.38]),\n",
       " array([9.91]),\n",
       " array([9.92]),\n",
       " array([9.91]),\n",
       " array([9.92]),\n",
       " array([143.63]),\n",
       " array([143.63]),\n",
       " array([143.63]),\n",
       " array([143.63]),\n",
       " array([1.23]),\n",
       " array([1.23]),\n",
       " array([1.23]),\n",
       " array([1.23]),\n",
       " array([2.31]),\n",
       " array([2.31]),\n",
       " array([2.31]),\n",
       " array([2.31]),\n",
       " array([141.71]),\n",
       " array([141.71]),\n",
       " array([141.71]),\n",
       " array([141.71]),\n",
       " array([2.72]),\n",
       " array([2.72]),\n",
       " array([2.72]),\n",
       " array([2.72]),\n",
       " array([142.84]),\n",
       " array([142.84]),\n",
       " array([142.84]),\n",
       " array([142.84]),\n",
       " array([10.43]),\n",
       " array([10.43]),\n",
       " array([10.43]),\n",
       " array([10.43]),\n",
       " array([60.3]),\n",
       " array([60.3]),\n",
       " array([60.3]),\n",
       " array([60.3]),\n",
       " array([16.73]),\n",
       " array([16.74]),\n",
       " array([16.73]),\n",
       " array([16.74]),\n",
       " array([132.76]),\n",
       " array([132.76]),\n",
       " array([132.76]),\n",
       " array([132.76]),\n",
       " array([137.02]),\n",
       " array([137.02]),\n",
       " array([137.02]),\n",
       " array([137.02]),\n",
       " array([135.01]),\n",
       " array([135.01]),\n",
       " array([135.01]),\n",
       " array([135.01]),\n",
       " array([140.31]),\n",
       " array([140.31]),\n",
       " array([140.31]),\n",
       " array([140.31]),\n",
       " array([144.2]),\n",
       " array([144.2]),\n",
       " array([144.2]),\n",
       " array([144.2]),\n",
       " array([71.39]),\n",
       " array([71.39]),\n",
       " array([71.39]),\n",
       " array([71.39]),\n",
       " array([97.35]),\n",
       " array([97.35]),\n",
       " array([97.35]),\n",
       " array([97.35]),\n",
       " array([34.35]),\n",
       " array([34.35]),\n",
       " array([34.35]),\n",
       " array([34.35]),\n",
       " array([31.33]),\n",
       " array([31.33]),\n",
       " array([31.33]),\n",
       " array([31.33]),\n",
       " array([97.89]),\n",
       " array([97.89]),\n",
       " array([97.89]),\n",
       " array([97.89]),\n",
       " array([70.85]),\n",
       " array([70.85]),\n",
       " array([70.85]),\n",
       " array([70.85]),\n",
       " array([150.86]),\n",
       " array([150.86]),\n",
       " array([150.86]),\n",
       " array([150.86]),\n",
       " array([155.1]),\n",
       " array([155.1]),\n",
       " array([155.1]),\n",
       " array([155.1]),\n",
       " array([155.24]),\n",
       " array([155.24]),\n",
       " array([155.24]),\n",
       " array([155.24]),\n",
       " array([154.35]),\n",
       " array([154.35]),\n",
       " array([154.35]),\n",
       " array([154.35]),\n",
       " array([154.17]),\n",
       " array([154.17]),\n",
       " array([154.17]),\n",
       " array([154.17]),\n",
       " array([151.16]),\n",
       " array([151.16]),\n",
       " array([151.16]),\n",
       " array([151.16]),\n",
       " array([-4.5]),\n",
       " array([-4.61]),\n",
       " array([-4.53]),\n",
       " array([-4.59]),\n",
       " array([-4.5]),\n",
       " array([-4.61]),\n",
       " array([-4.53]),\n",
       " array([-4.59]),\n",
       " array([45.73]),\n",
       " array([45.67]),\n",
       " array([45.71]),\n",
       " array([45.67]),\n",
       " array([45.73]),\n",
       " array([45.67]),\n",
       " array([45.71]),\n",
       " array([45.67]),\n",
       " array([44.03]),\n",
       " array([44.11]),\n",
       " array([44.05]),\n",
       " array([44.15]),\n",
       " array([44.03]),\n",
       " array([44.11]),\n",
       " array([44.05]),\n",
       " array([44.15]),\n",
       " array([46.29]),\n",
       " array([46.26]),\n",
       " array([46.29]),\n",
       " array([46.26]),\n",
       " array([46.29]),\n",
       " array([46.26]),\n",
       " array([46.29]),\n",
       " array([46.26]),\n",
       " array([11.74]),\n",
       " array([11.73]),\n",
       " array([11.73]),\n",
       " array([11.74]),\n",
       " array([11.74]),\n",
       " array([11.73]),\n",
       " array([11.73]),\n",
       " array([11.74]),\n",
       " array([19.93]),\n",
       " array([20.08]),\n",
       " array([19.96]),\n",
       " array([20.1]),\n",
       " array([19.93]),\n",
       " array([20.08]),\n",
       " array([19.96]),\n",
       " array([20.1]),\n",
       " array([9.46]),\n",
       " array([9.41]),\n",
       " array([9.46]),\n",
       " array([9.4]),\n",
       " array([9.46]),\n",
       " array([9.41]),\n",
       " array([9.46]),\n",
       " array([9.4]),\n",
       " array([136.89]),\n",
       " array([136.93]),\n",
       " array([136.89]),\n",
       " array([136.92]),\n",
       " array([136.89]),\n",
       " array([136.93]),\n",
       " array([136.89]),\n",
       " array([136.92]),\n",
       " array([43.89]),\n",
       " array([43.89]),\n",
       " array([43.89]),\n",
       " array([43.89]),\n",
       " array([7.14]),\n",
       " array([7.14]),\n",
       " array([7.14]),\n",
       " array([7.14]),\n",
       " array([15.06]),\n",
       " array([15.06]),\n",
       " array([15.06]),\n",
       " array([15.06]),\n",
       " array([22.8]),\n",
       " array([22.8]),\n",
       " array([22.8]),\n",
       " array([22.8]),\n",
       " array([22.31]),\n",
       " array([22.31]),\n",
       " array([22.31]),\n",
       " array([22.31]),\n",
       " array([26.08]),\n",
       " array([26.08]),\n",
       " array([26.08]),\n",
       " array([26.08]),\n",
       " array([19.95]),\n",
       " array([19.95]),\n",
       " array([19.95]),\n",
       " array([19.95]),\n",
       " array([17.49]),\n",
       " array([17.49]),\n",
       " array([17.49]),\n",
       " array([17.49]),\n",
       " array([9.48]),\n",
       " array([9.48]),\n",
       " array([9.48]),\n",
       " array([9.48]),\n",
       " array([39.04]),\n",
       " array([39.04]),\n",
       " array([39.04]),\n",
       " array([39.04]),\n",
       " array([9.67]),\n",
       " array([9.67]),\n",
       " array([6.94]),\n",
       " array([6.94]),\n",
       " array([0.86]),\n",
       " array([0.86]),\n",
       " array([111.2]),\n",
       " array([111.2]),\n",
       " array([142.17]),\n",
       " array([142.17]),\n",
       " array([152.13]),\n",
       " array([152.13]),\n",
       " array([142.19]),\n",
       " array([142.19]),\n",
       " array([-6.2]),\n",
       " array([-6.2]),\n",
       " array([-12.22]),\n",
       " array([-12.22]),\n",
       " array([115.42]),\n",
       " array([115.42]),\n",
       " array([7.11]),\n",
       " array([7.11]),\n",
       " array([7.11]),\n",
       " array([7.11]),\n",
       " array([5.15]),\n",
       " array([5.15]),\n",
       " array([5.15]),\n",
       " array([5.15]),\n",
       " array([12.74]),\n",
       " array([12.74]),\n",
       " array([12.74]),\n",
       " array([12.74]),\n",
       " array([13.21]),\n",
       " array([13.21]),\n",
       " array([13.21]),\n",
       " array([13.21]),\n",
       " array([5.87]),\n",
       " array([5.92]),\n",
       " array([5.87]),\n",
       " array([5.92]),\n",
       " array([137.76]),\n",
       " array([137.75]),\n",
       " array([137.76]),\n",
       " array([137.75]),\n",
       " array([138.04]),\n",
       " array([138.03]),\n",
       " array([138.04]),\n",
       " array([138.03]),\n",
       " array([97.62]),\n",
       " array([97.64]),\n",
       " array([97.62]),\n",
       " array([97.64]),\n",
       " array([93.25]),\n",
       " array([93.27]),\n",
       " array([93.25]),\n",
       " array([93.27]),\n",
       " array([137.24]),\n",
       " array([137.23]),\n",
       " array([137.24]),\n",
       " array([137.23]),\n",
       " array([138.2]),\n",
       " array([138.2]),\n",
       " array([138.2]),\n",
       " array([138.2]),\n",
       " array([6.74]),\n",
       " array([6.71]),\n",
       " array([6.74]),\n",
       " array([6.71]),\n",
       " array([22.88]),\n",
       " array([22.88]),\n",
       " array([22.88]),\n",
       " array([22.88]),\n",
       " array([37.13]),\n",
       " array([37.12]),\n",
       " array([37.13]),\n",
       " array([37.12]),\n",
       " array([33.25]),\n",
       " array([33.24]),\n",
       " array([33.25]),\n",
       " array([33.24]),\n",
       " array([36.9]),\n",
       " array([36.94]),\n",
       " array([36.9]),\n",
       " array([36.94]),\n",
       " array([35.9]),\n",
       " array([35.93]),\n",
       " array([35.9]),\n",
       " array([35.93]),\n",
       " array([24.57]),\n",
       " array([24.57]),\n",
       " array([24.57]),\n",
       " array([24.57]),\n",
       " array([-9.66]),\n",
       " array([-9.63]),\n",
       " array([-9.66]),\n",
       " array([-9.63]),\n",
       " array([151.39]),\n",
       " array([151.4]),\n",
       " array([151.39]),\n",
       " array([151.4]),\n",
       " array([-10.86]),\n",
       " array([-10.87]),\n",
       " array([-10.86]),\n",
       " array([-10.87]),\n",
       " array([150.32]),\n",
       " array([150.31]),\n",
       " array([150.32]),\n",
       " array([150.31]),\n",
       " array([8.08]),\n",
       " array([8.08]),\n",
       " array([8.08]),\n",
       " array([8.08]),\n",
       " array([71.33]),\n",
       " array([71.33]),\n",
       " array([71.33]),\n",
       " array([71.33]),\n",
       " array([5.63]),\n",
       " array([5.63]),\n",
       " array([5.63]),\n",
       " array([5.63]),\n",
       " array([55.03]),\n",
       " array([55.03]),\n",
       " array([55.03]),\n",
       " array([55.03]),\n",
       " array([24.74]),\n",
       " array([24.74]),\n",
       " array([24.74]),\n",
       " array([24.74]),\n",
       " array([70.06]),\n",
       " array([70.06]),\n",
       " array([70.06]),\n",
       " array([70.06]),\n",
       " array([47.16]),\n",
       " array([47.16]),\n",
       " array([47.16]),\n",
       " array([47.16]),\n",
       " array([46.15]),\n",
       " array([46.15]),\n",
       " array([46.15]),\n",
       " array([46.15]),\n",
       " array([36.63]),\n",
       " array([36.63]),\n",
       " array([36.63]),\n",
       " array([36.63]),\n",
       " array([41.32]),\n",
       " array([41.32]),\n",
       " array([41.32]),\n",
       " array([41.32]),\n",
       " array([46.34]),\n",
       " array([46.34]),\n",
       " array([46.34]),\n",
       " array([46.34]),\n",
       " array([9.91]),\n",
       " array([9.91]),\n",
       " array([9.91]),\n",
       " array([9.91]),\n",
       " array([49.41]),\n",
       " array([49.41]),\n",
       " array([49.41]),\n",
       " array([49.41]),\n",
       " array([37.2]),\n",
       " array([37.2]),\n",
       " array([37.2]),\n",
       " array([37.2]),\n",
       " array([3.84]),\n",
       " array([3.84]),\n",
       " array([3.84]),\n",
       " array([3.84]),\n",
       " array([12.17]),\n",
       " array([12.17]),\n",
       " array([12.17]),\n",
       " array([12.17]),\n",
       " array([105.6]),\n",
       " array([105.6]),\n",
       " array([105.6]),\n",
       " array([105.6]),\n",
       " array([20.08]),\n",
       " array([20.08]),\n",
       " array([20.08]),\n",
       " array([20.08]),\n",
       " array([5.79]),\n",
       " array([5.79]),\n",
       " array([5.79]),\n",
       " array([5.79]),\n",
       " array([109.45]),\n",
       " array([109.45]),\n",
       " array([109.45]),\n",
       " array([109.45]),\n",
       " array([19.83]),\n",
       " array([19.84]),\n",
       " array([19.83]),\n",
       " array([19.84]),\n",
       " array([25.26]),\n",
       " array([25.26]),\n",
       " array([25.26]),\n",
       " array([25.26]),\n",
       " array([16.]),\n",
       " array([16.]),\n",
       " array([16.]),\n",
       " array([16.]),\n",
       " array([15.53]),\n",
       " array([15.53]),\n",
       " array([15.53]),\n",
       " array([15.53]),\n",
       " array([0.05]),\n",
       " array([0.05]),\n",
       " array([0.05]),\n",
       " array([0.05]),\n",
       " array([9.87]),\n",
       " array([9.87]),\n",
       " array([9.87]),\n",
       " array([9.87]),\n",
       " array([114.2]),\n",
       " array([114.2]),\n",
       " array([114.2]),\n",
       " array([114.2]),\n",
       " array([-9.46]),\n",
       " array([-9.46]),\n",
       " array([-9.46]),\n",
       " array([-9.46]),\n",
       " array([118.16]),\n",
       " array([118.16]),\n",
       " array([118.16]),\n",
       " array([118.16]),\n",
       " array([-10.22]),\n",
       " array([-10.22]),\n",
       " array([-10.22]),\n",
       " array([-10.22]),\n",
       " array([69.34]),\n",
       " array([69.34]),\n",
       " array([69.34]),\n",
       " array([69.34]),\n",
       " array([69.34]),\n",
       " array([69.34]),\n",
       " array([69.34]),\n",
       " array([69.34]),\n",
       " array([37.93]),\n",
       " array([37.93]),\n",
       " array([37.93]),\n",
       " array([37.93]),\n",
       " array([37.93]),\n",
       " array([37.93]),\n",
       " array([37.93]),\n",
       " array([37.93]),\n",
       " ...]"
      ]
     },
     "execution_count": 86,
     "metadata": {},
     "output_type": "execute_result"
    }
   ],
   "source": [
    "a"
   ]
  },
  {
   "cell_type": "code",
   "execution_count": 83,
   "id": "f62edeab-e5e4-421e-9df9-23650225986b",
   "metadata": {},
   "outputs": [
    {
     "data": {
      "text/plain": [
       "list"
      ]
     },
     "execution_count": 83,
     "metadata": {},
     "output_type": "execute_result"
    }
   ],
   "source": [
    "type(total_atoms)"
   ]
  },
  {
   "cell_type": "code",
   "execution_count": 79,
   "id": "fc3b4666-83c7-4597-9f61-44641b98f49b",
   "metadata": {},
   "outputs": [
    {
     "data": {
      "text/plain": [
       "[]"
      ]
     },
     "execution_count": 79,
     "metadata": {},
     "output_type": "execute_result"
    },
    {
     "data": {
      "image/png": "[encoded data removed]",
      "text/plain": [
       "<Figure size 201.6x129.6 with 1 Axes>"
      ]
     },
     "metadata": {
      "needs_background": "light"
     },
     "output_type": "display_data"
    }
   ],
   "source": [
    "fig, ax = plt.subplots(figsize=(2.8,1.8))\n",
    "sns.kdeplot(data=total_atoms,fill=True,color=\"orange\", ax=ax)\n",
    "sns.kdeplot(data=total_atoms_test,fill=True,color=\"tab:green\", ax=ax)\n",
    "ax.set_xlabel(\"N atoms in structure\")\n",
    "plt.legend(loc='upper left', labels=['Train',\"Test\"],\n",
    "bbox_to_anchor=(1.0,1.05))\n",
    "ax.set_yticks([])\n",
    "#plt.savefig(\"atoms_distribution_train_test.png\",dpi=300,bbox_inches=\"tight\")"
   ]
  },
  {
   "cell_type": "code",
   "execution_count": 48,
   "id": "e467b4c0-02dd-446f-b55f-1afd98b30175",
   "metadata": {},
   "outputs": [
    {
     "data": {
      "text/plain": [
       "<seaborn.axisgrid.FacetGrid at 0x7fda489772b0>"
      ]
     },
     "execution_count": 48,
     "metadata": {},
     "output_type": "execute_result"
    },
    {
     "data": {
      "image/png": "[encoded data removed]",
      "text/plain": [
       "<Figure size 360x360 with 1 Axes>"
      ]
     },
     "metadata": {
      "needs_background": "light"
     },
     "output_type": "display_data"
    },
    {
     "data": {
      "image/png": "[encoded data removed]",
      "text/plain": [
       "<Figure size 360x360 with 1 Axes>"
      ]
     },
     "metadata": {
      "needs_background": "light"
     },
     "output_type": "display_data"
    }
   ],
   "source": [
    "sns.displot(species_shifts[6], x=\"13C shift\", kind=\"kde\",fill=True,color=\"orange\")\n",
    "sns.displot(isos_QM9_C, x=\"13C shift\", kind=\"kde\",fill=True)"
   ]
  },
  {
   "cell_type": "code",
   "execution_count": 79,
   "id": "4c2a7046-9999-4033-aec8-4902d66b1e51",
   "metadata": {},
   "outputs": [
    {
     "data": {
      "text/plain": [
       "<AxesSubplot:ylabel='Density'>"
      ]
     },
     "execution_count": 79,
     "metadata": {},
     "output_type": "execute_result"
    },
    {
     "data": {
      "image/png": "[encoded data removed]",
      "text/plain": [
       "<Figure size 432x288 with 1 Axes>"
      ]
     },
     "metadata": {
      "needs_background": "light"
     },
     "output_type": "display_data"
    }
   ],
   "source": [
    "sns.kdeplot(data=np.average(np.array(df[df[\"atom\"]==\"H\"].iloc[:, 6:])[:,0::4],axis=1),fill=True)"
   ]
  },
  {
   "cell_type": "code",
   "execution_count": 1,
   "id": "21a17a4d-9892-43bc-86a2-076ea3a5cecf",
   "metadata": {},
   "outputs": [],
   "source": [
    "import joblib"
   ]
  },
  {
   "cell_type": "code",
   "execution_count": 2,
   "id": "de5a00b7-f9f8-4dad-97ba-f3f1276802c7",
   "metadata": {},
   "outputs": [
    {
     "data": {
      "text/plain": [
       "'1.1.0'"
      ]
     },
     "execution_count": 2,
     "metadata": {},
     "output_type": "execute_result"
    }
   ],
   "source": [
    "joblib.__version__"
   ]
  },
  {
   "cell_type": "code",
   "execution_count": 3,
   "id": "0b63006a-da6b-48d9-84bc-2a1ded1ae840",
   "metadata": {},
   "outputs": [],
   "source": [
    "import rascal"
   ]
  },
  {
   "cell_type": "code",
   "execution_count": 4,
   "id": "0a5a5df6-b54c-4bec-8b0a-18931a34e646",
   "metadata": {},
   "outputs": [
    {
     "data": {
      "text/plain": [
       "'0.0.0'"
      ]
     },
     "execution_count": 4,
     "metadata": {},
     "output_type": "execute_result"
    }
   ],
   "source": [
    "rascal.__version__"
   ]
  },
  {
   "cell_type": "code",
   "execution_count": 5,
   "id": "6126f267-0682-4d0e-8601-c52f7b442399",
   "metadata": {},
   "outputs": [],
   "source": [
    "import sklearn"
   ]
  },
  {
   "cell_type": "code",
   "execution_count": 6,
   "id": "85f7e588-5169-4844-8489-ffd4961c8b1c",
   "metadata": {},
   "outputs": [
    {
     "data": {
      "text/plain": [
       "'1.0.2'"
      ]
     },
     "execution_count": 6,
     "metadata": {},
     "output_type": "execute_result"
    }
   ],
   "source": [
    "sklearn.__version__"
   ]
  },
  {
   "cell_type": "code",
   "execution_count": null,
   "id": "c7043cfe-0308-4aa1-ab8c-402e8b9b0c49",
   "metadata": {},
   "outputs": [],
   "source": []
  }
 ],
 "metadata": {
  "kernelspec": {
   "display_name": "Python 3 (ipykernel)",
   "language": "python",
   "name": "python3"
  },
  "language_info": {
   "codemirror_mode": {
    "name": "ipython",
    "version": 3
   },
   "file_extension": ".py",
   "mimetype": "text/x-python",
   "name": "python",
   "nbconvert_exporter": "python",
   "pygments_lexer": "ipython3",
   "version": "3.8.10"
  }
 },
 "nbformat": 4,
 "nbformat_minor": 5
}
