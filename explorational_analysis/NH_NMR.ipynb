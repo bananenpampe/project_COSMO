{
 "cells": [
  {
   "cell_type": "code",
   "execution_count": 1,
   "id": "c8daa643",
   "metadata": {},
   "outputs": [],
   "source": [
    "import json\n",
    "from ase.io import read, write\n",
    "from ase import Atoms\n",
    "import numpy as np\n",
    "from tqdm.auto import tqdm\n",
    "from matplotlib import pyplot as plt"
   ]
  },
  {
   "cell_type": "code",
   "execution_count": 5,
   "id": "b2ea97b6",
   "metadata": {},
   "outputs": [],
   "source": [
    "ds = json.load(open('chemiscope_C.json',\"r\"))"
   ]
  },
  {
   "cell_type": "code",
   "execution_count": 6,
   "id": "7c1a847e",
   "metadata": {},
   "outputs": [
    {
     "data": {
      "application/vnd.jupyter.widget-view+json": {
       "model_id": "5190aa999c804748b0e646ca9b5dfa9f",
       "version_major": 2,
       "version_minor": 0
      },
      "text/plain": [
       "  0%|          | 0/3430 [00:00<?, ?it/s]"
      ]
     },
     "metadata": {},
     "output_type": "display_data"
    }
   ],
   "source": [
    "frames = [\n",
    "    Atoms(cell=np.reshape(s['cell'], (3, 3)),\n",
    "          symbols=s['names'],\n",
    "          positions=np.vstack([s['x'], s['y'], s['z']]).T)\n",
    "    for s in tqdm(ds['structures'])\n",
    "]"
   ]
  },
  {
   "cell_type": "code",
   "execution_count": 7,
   "id": "6894a297",
   "metadata": {},
   "outputs": [],
   "source": [
    "NC = sum(len(np.where(frame.numbers==6)[0]) for frame in frames)"
   ]
  },
  {
   "cell_type": "code",
   "execution_count": 8,
   "id": "09e62408",
   "metadata": {},
   "outputs": [
    {
     "data": {
      "application/vnd.jupyter.widget-view+json": {
       "model_id": "760343f1ca1e4dfd91c8acc6a3bcf34b",
       "version_major": 2,
       "version_minor": 0
      },
      "text/plain": [
       "  0%|          | 0/3430 [00:00<?, ?it/s]"
      ]
     },
     "metadata": {},
     "output_type": "display_data"
    }
   ],
   "source": [
    "NH = np.zeros(NC)\n",
    "counter = 0\n",
    "for frame in tqdm(frames):\n",
    "    for i in np.where(frame.numbers == 6)[0]:\n",
    "        NH[counter] = len(\n",
    "            np.where(\n",
    "                np.logical_and(\n",
    "                    frame.numbers == 1,\n",
    "                    frame.get_distances(i, np.arange(len(frame)), mic=True) <\n",
    "                    1.28))[0])\n",
    "        counter += 1"
   ]
  },
  {
   "cell_type": "code",
   "execution_count": 11,
   "id": "ce0184e7",
   "metadata": {},
   "outputs": [],
   "source": [
    "import chemiscope\n",
    "\n",
    "props = {\n",
    "    **{k: ds['properties'][k]['values']\n",
    "       for k in ds['properties']},\n",
    "    'NH': NH,\n",
    "    \"H0\": [1 if nh == 0 else np.nan for nh in NH],\n",
    "    \"H1\": [1 if nh == 1 else np.nan for nh in NH],\n",
    "    \"H2\": [1 if nh == 2 else np.nan for nh in NH],\n",
    "    \"H3\": [1 if nh == 3 else np.nan for nh in NH],\n",
    "}\n",
    "widget = chemiscope.show(frames,\n",
    "                         props,\n",
    "                         environments=[(e['structure'], e['center'],\n",
    "                                        e['cutoff'])\n",
    "                                       for e in ds['environments']])"
   ]
  },
  {
   "cell_type": "code",
   "execution_count": 12,
   "id": "144479e0",
   "metadata": {},
   "outputs": [],
   "source": [
    "widget.save('chemiscope2.json')"
   ]
  },
  {
   "cell_type": "code",
   "execution_count": 13,
   "id": "de668c25",
   "metadata": {},
   "outputs": [
    {
     "data": {
      "image/png": "[encoded data removed]",
      "text/plain": [
       "<Figure size 432x288 with 1 Axes>"
      ]
     },
     "metadata": {
      "needs_background": "light"
     },
     "output_type": "display_data"
    }
   ],
   "source": [
    "bins = np.linspace(min(ds['properties']['NMR errors']['values']),\n",
    "                   max(ds['properties']['NMR errors']['values']), 100)\n",
    "\n",
    "\n",
    "plt.hist(np.array(\n",
    "    ds['properties']['NMR errors']['values'])[np.where(NH == 0)[0]],\n",
    "         bins=bins,\n",
    "         histtype='step')\n",
    "plt.hist(np.array(\n",
    "    ds['properties']['NMR errors']['values'])[np.where(NH == 1)[0]],\n",
    "         bins=bins,\n",
    "         histtype='step')\n",
    "plt.hist(np.array(\n",
    "    ds['properties']['NMR errors']['values'])[np.where(NH == 2)[0]],\n",
    "         bins=bins,\n",
    "         histtype='step')\n",
    "plt.hist(np.array(\n",
    "    ds['properties']['NMR errors']['values'])[np.where(NH == 3)[0]],\n",
    "         bins=bins,\n",
    "         histtype='step')\n",
    "plt.gca().set_yscale('log')\n",
    "plt.show()"
   ]
  },
  {
   "cell_type": "code",
   "execution_count": null,
   "id": "679f32c4",
   "metadata": {},
   "outputs": [],
   "source": []
  },
  {
   "cell_type": "code",
   "execution_count": null,
   "id": "1695ffc0-6252-4443-a720-6ec5ed9fdabf",
   "metadata": {},
   "outputs": [],
   "source": []
  }
 ],
 "metadata": {
  "kernelspec": {
   "display_name": "Python 3 (ipykernel)",
   "language": "python",
   "name": "python3"
  },
  "language_info": {
   "codemirror_mode": {
    "name": "ipython",
    "version": 3
   },
   "file_extension": ".py",
   "mimetype": "text/x-python",
   "name": "python",
   "nbconvert_exporter": "python",
   "pygments_lexer": "ipython3",
   "version": "3.8.10"
  },
  "toc": {
   "base_numbering": 1,
   "nav_menu": {},
   "number_sections": true,
   "sideBar": true,
   "skip_h1_title": false,
   "title_cell": "Table of Contents",
   "title_sidebar": "Contents",
   "toc_cell": false,
   "toc_position": {},
   "toc_section_display": true,
   "toc_window_display": false
  }
 },
 "nbformat": 4,
 "nbformat_minor": 5
}
