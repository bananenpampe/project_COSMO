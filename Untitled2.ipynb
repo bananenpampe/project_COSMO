{
 "cells": [
  {
   "cell_type": "code",
   "execution_count": 1,
   "id": "a1483faa-e55e-435e-b36f-3dbf433a8158",
   "metadata": {},
   "outputs": [],
   "source": [
    "import numpy as np"
   ]
  },
  {
   "cell_type": "code",
   "execution_count": 3,
   "id": "2561e3c8-b766-4b15-9ea4-b8d67034b07d",
   "metadata": {},
   "outputs": [
    {
     "data": {
      "text/plain": [
       "0.5339286533300973"
      ]
     },
     "execution_count": 3,
     "metadata": {},
     "output_type": "execute_result"
    }
   ],
   "source": [
    "np.sqrt(0.2850798068468912)"
   ]
  },
  {
   "cell_type": "code",
   "execution_count": null,
   "id": "e14e45a2-0159-4799-a141-4c390d431c60",
   "metadata": {},
   "outputs": [],
   "source": [
    "#-405.447952573715 RBF\n",
    "#-411.85452152690874 Poly"
   ]
  }
 ],
 "metadata": {
  "kernelspec": {
   "display_name": "Python 3 (ipykernel)",
   "language": "python",
   "name": "python3"
  },
  "language_info": {
   "codemirror_mode": {
    "name": "ipython",
    "version": 3
   },
   "file_extension": ".py",
   "mimetype": "text/x-python",
   "name": "python",
   "nbconvert_exporter": "python",
   "pygments_lexer": "ipython3",
   "version": "3.8.10"
  }
 },
 "nbformat": 4,
 "nbformat_minor": 5
}
