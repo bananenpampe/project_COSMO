{
 "cells": [
  {
   "cell_type": "markdown",
   "id": "3e2af58a-a122-456e-a1bf-1acd33aa3fce",
   "metadata": {},
   "source": [
    "#### Load Modules"
   ]
  },
  {
   "cell_type": "code",
   "execution_count": 7,
   "id": "122a4fc2-2cf8-4d39-b0f3-74f67a9ef874",
   "metadata": {},
   "outputs": [],
   "source": [
    "#from loader import load_data\n",
    "\n",
    "import sys\n",
    "from loader.loader import load_data\n",
    "#sys.path.append(\"/home/kellner/packages/project_COSMO/\")\n",
    "#sys.path.append(\"/home/kellner/packages/project_COSMO/loader\")\n",
    "\n",
    "from sklearn.pipeline import Pipeline\n",
    "from skopt import BayesSearchCV\n",
    "from skopt.space import Real, Categorical, Integer\n",
    "from sklearn.kernel_ridge import KernelRidge\n",
    "from skcosmo.model_selection import atom_groups_by_frame\n",
    "from sklearn.model_selection import GroupKFold\n",
    "from feature_utils.parallel import get_features_in_parallel, get_optimal_radial_basis_hypers_parallel\n",
    "from rascal.representations import SphericalInvariants as SOAP\n",
    "\n",
    "from falkon import Falkon, kernels\n",
    "import falkon\n",
    "import torch"
   ]
  },
  {
   "cell_type": "code",
   "execution_count": 8,
   "id": "dbd1c7a5-eb77-437f-999a-dd9050c057df",
   "metadata": {},
   "outputs": [],
   "source": [
    "#train_structures, test_structures, train_properties, test_properties = load_data(\"/home/kellner/packages/project_COSMO/make_tensor_data/train_tensor/CSD-3k+S546_shift_tensors.xyz\",\\\n",
    "                                                                                   # \"/home/kellner/packages/project_COSMO/make_tensor_data/test_tensor/CSD-500+104-7_shift_tensors.xyz\",selected_species=6)\n",
    "train_structures, test_structures, train_properties, test_properties = load_data(\"./make_tensor_data/train_tensor/CSD-3k+S546_shift_tensors.xyz\",\\\n",
    "                                                                                    \"./make_tensor_data/test_tensor/CSD-500+104-7_shift_tensors.xyz\",random_subsample_train=200, random_subsample_test=200, selected_species=6)\n",
    "\n",
    "\n",
    "hypers = dict(soap_type=\"PowerSpectrum\",\n",
    "              interaction_cutoff=4.643,\n",
    "              max_radial=8,\n",
    "              max_angular=8,\n",
    "              gaussian_sigma_constant=0.179,\n",
    "              gaussian_sigma_type=\"Constant\",\n",
    "              radial_basis=\"GTO\",\n",
    "              normalize=True,\n",
    "              cutoff_smooth_width=0.3,\n",
    "              cutoff_function_type=\"RadialScaling\",\n",
    "              optimization=\n",
    "                    dict(\n",
    "                            Spline=dict(\n",
    "                               accuracy=1.0e-05\n",
    "                            )\n",
    "                        ),\n",
    "              cutoff_function_parameters= dict(rate=1.968,\n",
    "                    scale= 2.601,\n",
    "                    exponent=4.698\n",
    "                        ),\n",
    "              compute_gradients=False,\n",
    "              expansion_by_species_method=\"user defined\",\n",
    "              global_species=[1, 6, 7, 8, 16]\n",
    "              )\n",
    "\n",
    "hypers = get_optimal_radial_basis_hypers_parallel(hypers,train_structures,expanded_max_radial=20)\n",
    "\n",
    "Xtrain = get_features_in_parallel(train_structures,SOAP,hypers)\n",
    "Xtest = get_features_in_parallel(test_structures,SOAP,hypers)\n",
    "\n",
    "Xtrain = torch.from_numpy(Xtrain)\n",
    "Ytrain = torch.from_numpy(train_properties).reshape(-1, 1)\n",
    "Xtest = torch.from_numpy(Xtest)\n",
    "Ytest = torch.from_numpy(test_properties).reshape(-1, 1)\n",
    "\n",
    "structure_groups = atom_groups_by_frame(train_structures)\n"
   ]
  },
  {
   "cell_type": "code",
   "execution_count": 13,
   "id": "2eb32f40-4a02-48fb-a734-75a135ca57bd",
   "metadata": {},
   "outputs": [],
   "source": [
    "estimator = falkon.Falkon(\n",
    "    kernel=falkon.kernels.GaussianKernel(sigma=1), penalty=1e-3, M=1000,  # Mandatory parameters, will be overridden\n",
    "    maxiter=10, options=falkon.FalkonOptions(use_cpu=True))\n"
   ]
  },
  {
   "cell_type": "code",
   "execution_count": 14,
   "id": "c10f4bda-8f4a-44b6-b059-04f0ab06e758",
   "metadata": {},
   "outputs": [
    {
     "data": {
      "text/plain": [
       "{'M': 1000,\n",
       " 'center_selection': <falkon.center_selection.UniformSelector at 0x7fc9304cfb80>,\n",
       " 'error_every': 1,\n",
       " 'error_fn': None,\n",
       " 'kernel': GaussianKernel(sigma=Parameter containing:\n",
       " tensor([1.], dtype=torch.float64)),\n",
       " 'maxiter': 10,\n",
       " 'options': FalkonOptions(keops_acc_dtype='auto', keops_sum_scheme='auto', keops_active='auto', keops_memory_slack=0.7, chol_force_in_core=False, chol_force_ooc=False, chol_par_blk_multiplier=2, pc_epsilon_32=1e-05, pc_epsilon_64=1e-13, cpu_preconditioner=False, cg_epsilon_32=1e-07, cg_epsilon_64=1e-15, cg_tolerance=1e-07, cg_full_gradient_every=10, cg_differential_convergence=False, debug=False, use_cpu=True, max_gpu_mem=inf, max_cpu_mem=inf, compute_arch_speed=False, no_single_kernel=True, min_cuda_pc_size_32=10000, min_cuda_pc_size_64=30000, min_cuda_iter_size_32=300000000, min_cuda_iter_size_64=900000000, never_store_kernel=False, store_kernel_d_threshold=1200, num_fmm_streams=2),\n",
       " 'penalty': 0.001,\n",
       " 'seed': None,\n",
       " 'weight_fn': None}"
      ]
     },
     "execution_count": 14,
     "metadata": {},
     "output_type": "execute_result"
    }
   ],
   "source": [
    "estimator.get_params()"
   ]
  },
  {
   "cell_type": "code",
   "execution_count": null,
   "id": "08cb5271-5415-466a-8763-a981eaabeaae",
   "metadata": {},
   "outputs": [],
   "source": [
    "gaussian_parameter_grid = {\n",
    "    'kernel': Categorical([\n",
    "               falkon.kernels.GaussianKernel(sigma=0.01),\n",
    "               falkon.kernels.GaussianKernel(sigma=0.1),\n",
    "               falkon.kernels.GaussianKernel(sigma=1),\n",
    "               falkon.kernels.GaussianKernel(sigma=5),\n",
    "               falkon.kernels.GaussianKernel(sigma=10),\n",
    "               falkon.kernels.GaussianKernel(sigma=15),]),\n",
    "    'penalty': Real(1e-6, 1e+4, prior='log-uniform'),\n",
    "    'maxiter': Categorical([5,10,20,40]),\n",
    "}\n",
    "\n",
    "\n",
    "\n",
    "\n",
    "\n",
    "estimator = falkon.Falkon(\n",
    "    kernel=falkon.kernels.GaussianKernel(1), penalty=1e-3, M=1000,  # Mandatory parameters, will be overridden\n",
    "    maxiter=10, options=falkon.FalkonOptions(use_cpu=True))\n"
   ]
  },
  {
   "cell_type": "code",
   "execution_count": null,
   "id": "e4064a79-4345-47b2-98f0-551e3d465c87",
   "metadata": {},
   "outputs": [],
   "source": [
    "\n",
    "\n",
    "general_kernel_space = {\n",
    "    \"model\":[KernelRidge(kernel_params={\"n_jobs\":-1})],\n",
    "    \"model__kernel\": Categorical([\"linear\",\"poly\",\"rbf\",\"laplacian\"]),\n",
    "    \"model__gamma\": Real(1e-6, 1e+1, prior='log-uniform'),\n",
    "    \"model__degree\": Integer(1,8),\n",
    "    \"model__alpha\": Real(1e-6, 1e+4, prior='log-uniform'),\n",
    "    \"model__coef0\": Integer(0,1)\n",
    "}\n",
    "\n",
    "opt = BayesSearchCV(pipe,general_kernel_space,n_iter=100,cv=GroupKFold(n_splits=3),n_jobs=-1,scoring=\"neg_mean_squared_error\",verbose=2)\n",
    "\n",
    "opt.fit(Xtrain, train_properties, groups=structure_groups)\n",
    "\n",
    "print(\"val. score: %s\" % opt.best_score_)\n",
    "print(\"test score: %s\" % opt.score(Xtest, test_properties))\n",
    "print(\"best params: %s\" % str(opt.best_params_))"
   ]
  },
  {
   "cell_type": "code",
   "execution_count": null,
   "id": "59fcbf7f-d3ce-4d94-9561-57dce9ea8a8e",
   "metadata": {},
   "outputs": [],
   "source": [
    "np."
   ]
  }
 ],
 "metadata": {
  "kernelspec": {
   "display_name": "Python [conda env:root] *",
   "language": "python",
   "name": "conda-root-py"
  },
  "language_info": {
   "codemirror_mode": {
    "name": "ipython",
    "version": 3
   },
   "file_extension": ".py",
   "mimetype": "text/x-python",
   "name": "python",
   "nbconvert_exporter": "python",
   "pygments_lexer": "ipython3",
   "version": "3.8.10"
  }
 },
 "nbformat": 4,
 "nbformat_minor": 5
}
