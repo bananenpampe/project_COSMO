{
 "cells": [
  {
   "cell_type": "code",
   "execution_count": 16,
   "id": "25c18781-232c-44b1-a91b-98d8d0c0fc50",
   "metadata": {},
   "outputs": [],
   "source": [
    "from loader.loader import load_data\n",
    "train_structures, test_structures, train_properties, test_properties = load_data(\"./make_tensor_data/train_tensor/CSD-3k+S546_shift_tensors.xyz\",\\\n",
    "                                                                                    \"./make_tensor_data/test_tensor/CSD-500+104-7_shift_tensors.xyz\",selected_species=6)"
   ]
  },
  {
   "cell_type": "code",
   "execution_count": 17,
   "id": "5719fe2a-f558-460f-97dc-adc9395ad57c",
   "metadata": {},
   "outputs": [],
   "source": [
    "\n",
    "repeated_train_struct = [ struct.repeat((3, 3, 3)) for struct in train_structures]\n",
    "\n"
   ]
  },
  {
   "cell_type": "code",
   "execution_count": 18,
   "id": "16a7d435-c5d9-4bf0-9384-dff784958137",
   "metadata": {},
   "outputs": [],
   "source": [
    "from ase.geometry.analysis import Analysis\n",
    "ana = Analysis(repeated_train_struct)"
   ]
  },
  {
   "cell_type": "code",
   "execution_count": null,
   "id": "c1a5fbd3-1a26-4e9e-8e73-09620a80dc51",
   "metadata": {
    "tags": []
   },
   "outputs": [],
   "source": [
    "rdf = ana.get_rdf(4.5,45,imageIdx=slice(None),elements=[1,6])"
   ]
  },
  {
   "cell_type": "code",
   "execution_count": 3,
   "id": "e7be58d9-37ad-46b4-8aff-f77f9af802cd",
   "metadata": {},
   "outputs": [],
   "source": [
    "import ase\n",
    "import numpy as np"
   ]
  },
  {
   "cell_type": "code",
   "execution_count": 15,
   "id": "dcd5c20c-a6f2-4720-aef2-166e22ea5405",
   "metadata": {},
   "outputs": [
    {
     "data": {
      "text/plain": [
       "476"
      ]
     },
     "execution_count": 15,
     "metadata": {},
     "output_type": "execute_result"
    }
   ],
   "source": [
    "np.argmin([np.min(frame.get_cell().diagonal()) for frame in train_structures])"
   ]
  },
  {
   "cell_type": "code",
   "execution_count": 22,
   "id": "3f8ea3f8-7be5-4b2b-8965-6d647c08ae91",
   "metadata": {},
   "outputs": [
    {
     "data": {
      "text/plain": [
       "array([  0.        ,   0.        ,   0.        ,   0.        ,\n",
       "         0.        ,   0.        ,   0.        ,   0.        ,\n",
       "         0.        ,   0.        ,   0.        ,   0.        ,\n",
       "         0.        ,   0.        ,   0.        ,   0.        ,\n",
       "         0.        ,   0.        ,   0.        ,   0.        ,\n",
       "         0.        ,   0.        ,   0.        ,   0.        ,\n",
       "         0.        ,   0.        ,   0.        , 156.42071036,\n",
       "         0.        ,   0.        ,   0.        ,   0.        ,\n",
       "         0.        ,   0.        ,   0.        ,   0.        ,\n",
       "         0.        ,   0.        ,   0.        ,   0.        ,\n",
       "         0.        ,   0.        ,   0.        ,   0.        ,\n",
       "         0.        ])"
      ]
     },
     "execution_count": 22,
     "metadata": {},
     "output_type": "execute_result"
    }
   ],
   "source": [
    "rdf[0]"
   ]
  },
  {
   "cell_type": "code",
   "execution_count": null,
   "id": "0caa384a-da61-4251-9464-84217275b1f3",
   "metadata": {},
   "outputs": [],
   "source": [
    "from joblib import dump\n",
    "\n"
   ]
  },
  {
   "cell_type": "code",
   "execution_count": null,
   "id": "eee36a14-f9d7-4458-a4c4-f6ac49303f81",
   "metadata": {
    "tags": []
   },
   "outputs": [],
   "source": [
    "len(rdf)"
   ]
  },
  {
   "cell_type": "code",
   "execution_count": 13,
   "id": "4960e697-a486-4a89-8065-5b88436df22c",
   "metadata": {},
   "outputs": [],
   "source": [
    "import matplotlib.pyplot as plt\n",
    "import numpy as np"
   ]
  },
  {
   "cell_type": "code",
   "execution_count": null,
   "id": "45e5e241-76d8-4454-b4c9-6430a47e079a",
   "metadata": {},
   "outputs": [],
   "source": [
    "plt.plot(np.linspace(0,1.,60),rdf[])"
   ]
  }
 ],
 "metadata": {
  "kernelspec": {
   "display_name": "Python [conda env:root] *",
   "language": "python",
   "name": "conda-root-py"
  },
  "language_info": {
   "codemirror_mode": {
    "name": "ipython",
    "version": 3
   },
   "file_extension": ".py",
   "mimetype": "text/x-python",
   "name": "python",
   "nbconvert_exporter": "python",
   "pygments_lexer": "ipython3",
   "version": "3.8.10"
  }
 },
 "nbformat": 4,
 "nbformat_minor": 5
}
