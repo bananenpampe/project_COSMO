{
 "cells": [
  {
   "cell_type": "code",
   "execution_count": 1,
   "metadata": {},
   "outputs": [],
   "source": [
    "from helpers import load_CSD_data, make_element_wise_environments\n",
    "import numpy as np\n",
    "from rascal.representations import SphericalInvariants\n",
    "from rascal.models.kernels import Kernel\n",
    "from sklearn.kernel_ridge import KernelRidge\n",
    "from rascal.neighbourlist.structure_manager import mask_center_atoms_by_species\n",
    "from sklearn.metrics import mean_squared_error, mean_absolute_error\n",
    "\n",
    "\n",
    "PATH_TRAIN = \"CSD-2k_relaxed_shifts.txt\"\n",
    "PATH_TEST = \"CSD-500.txt\"\n",
    "structures_test, shifts_test = load_CSD_data(PATH_TEST)\n",
    "structures_train, shifts_train = load_CSD_data(PATH_TRAIN,random_subsample=200)"
   ]
  },
  {
   "cell_type": "code",
   "execution_count": 2,
   "metadata": {},
   "outputs": [],
   "source": [
    "hypers = {\"soap_type\": \"PowerSpectrum\",\n",
    "          \"interaction_cutoff\": 3,\n",
    "          \"radial_basis\": \"GTO\",\n",
    "          \"max_radial\": 9,\n",
    "          \"max_angular\": 9,\n",
    "          \"gaussian_sigma_constant\": 0.3,\n",
    "          \"gaussian_sigma_type\":\"Constant\",\n",
    "          \"cutoff_function_type\":\"ShiftedCosine\",\n",
    "          \"cutoff_smooth_width\": 0.5,\n",
    "          \"normalize\": True,\n",
    "          \"compute_gradients\":False,\n",
    "          \"cutoff_function_parameters\":dict(rate=1,scale=3.5,exponent=4),\n",
    "          #\"optimization\": dict(Spline=dict(accuracy=1.0e-05))\n",
    "          \"expansion_by_species_method\":'user defined',\n",
    "          \"global_species\":[1,6,7,8]\n",
    "         }"
   ]
  },
  {
   "cell_type": "code",
   "execution_count": 20,
   "metadata": {},
   "outputs": [],
   "source": [
    "for structure in structures_test: \n",
    "    mask_center_atoms_by_species(structure,species_select=[1])\n",
    "for structure in structures_train: \n",
    "    mask_center_atoms_by_species(structure,species_select=[1])\n",
    "\n",
    "H_train_shifts = np.array([shift for structure in structures_train for shift in structure.arrays[\"CS\"][structure.arrays[\"center_atoms_mask\"]]])        \n",
    "H_test_shifts = np.array([shift[0] for structure in structures_test for shift in structure.arrays[\"CS\"][structure.arrays[\"center_atoms_mask\"]]]) \n",
    "H_test_shifts_ML = np.array([shift[1] for structure in structures_test for shift in structure.arrays[\"CS\"][structure.arrays[\"center_atoms_mask\"]]]) "
   ]
  },
  {
   "cell_type": "code",
   "execution_count": 4,
   "metadata": {},
   "outputs": [],
   "source": [
    "\n",
    "calculator = SphericalInvariants(**hypers)\n",
    "atoms_list_train = calculator.transform(structures_train)"
   ]
  },
  {
   "cell_type": "code",
   "execution_count": 5,
   "metadata": {},
   "outputs": [],
   "source": [
    "X_train = calculator.transform(structures_train).get_features(calculator)\n",
    "X_test = calculator.transform(structures_test).get_features(calculator)"
   ]
  },
  {
   "cell_type": "code",
   "execution_count": 32,
   "metadata": {},
   "outputs": [
    {
     "data": {
      "text/plain": [
       "KernelRidge(alpha=0.01, coef0=0, degree=2, gamma=1.0, kernel='poly')"
      ]
     },
     "execution_count": 32,
     "metadata": {},
     "output_type": "execute_result"
    }
   ],
   "source": [
    "from sklearn.kernel_ridge import KernelRidge\n",
    "from sklearn.metrics.pairwise import polynomial_kernel\n",
    "\n",
    "import numpy as np\n",
    "\n",
    "clf = KernelRidge(alpha=1e-02,kernel='poly', degree=2, coef0=0,gamma=1.)\n",
    "clf.fit(X_train, H_train_shifts)"
   ]
  },
  {
   "cell_type": "code",
   "execution_count": 34,
   "metadata": {},
   "outputs": [],
   "source": [
    "predictions = clf.predict(X_test)"
   ]
  },
  {
   "cell_type": "code",
   "execution_count": 35,
   "metadata": {},
   "outputs": [
    {
     "data": {
      "text/plain": [
       "0.882802633457133"
      ]
     },
     "execution_count": 35,
     "metadata": {},
     "output_type": "execute_result"
    }
   ],
   "source": [
    "mean_squared_error(H_test_shifts,predictions,squared=False)"
   ]
  },
  {
   "cell_type": "code",
   "execution_count": null,
   "metadata": {},
   "outputs": [],
   "source": []
  },
  {
   "cell_type": "code",
   "execution_count": null,
   "metadata": {},
   "outputs": [],
   "source": [
    "def build_multiscale_kernel(structures,hypers,kernel_weights=[256,128,32,8,8,1],kernel_distances=[2,3,4,5,6,7]):\n",
    "    sum_weights = \n",
    "    msk_kernel = \n",
    "    for distance, weight in zip(kernel_distances,kernel_weights):\n",
    "        hypers[\"interaction_cutoff\"] = distance\n",
    "        calculator = SphericalInvariants(**hypers)\n",
    "        atoms_list_train = calculator.transform(structures_train)\n",
    "        X_train = calculator.transform(structures_train).get_features(calculator)\n",
    "        msk_tmp = sklearn.metrics.pairwise.polynomial_kernel(X_train, degree=2, gamma=1., coef0=0)\n",
    "        msk_kernel += weight * \n",
    "        \n",
    "    msk_kernel = 1/sum_weights * kernel    \n",
    "    return msk_kerneld"
   ]
  }
 ],
 "metadata": {
  "kernelspec": {
   "display_name": "Python 3",
   "language": "python",
   "name": "python3"
  },
  "language_info": {
   "codemirror_mode": {
    "name": "ipython",
    "version": 3
   },
   "file_extension": ".py",
   "mimetype": "text/x-python",
   "name": "python",
   "nbconvert_exporter": "python",
   "pygments_lexer": "ipython3",
   "version": "3.8.10"
  }
 },
 "nbformat": 4,
 "nbformat_minor": 4
}
