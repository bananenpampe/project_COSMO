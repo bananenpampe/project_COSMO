{
 "cells": [
  {
   "cell_type": "code",
   "execution_count": 1,
   "id": "0be2cdb4-59cf-4759-9239-b7a43ee301f0",
   "metadata": {},
   "outputs": [],
   "source": [
    "from loader.loader import load_data\n",
    "from sklearn.linear_model import Ridge, RidgeCV\n",
    "from feature_utils.parallel import get_features_in_parallel, get_optimal_radial_basis_hypers_parallel\n",
    "from rascal.representations import SphericalInvariants as SOAP\n",
    "from sklearn.metrics import mean_squared_error, mean_absolute_error\n",
    "from skcosmo.preprocessing import StandardFlexibleScaler\n",
    "from sklearn.compose import TransformedTargetRegressor\n",
    "from skcosmo.model_selection import atom_groups_by_frame\n",
    "from sklearn.model_selection import GroupKFold\n",
    "import numpy as np\n",
    "import ase.io\n",
    "from tqdm import tqdm, trange\n",
    "from nice.blocks import *\n",
    "from nice.utilities import *\n",
    "from matplotlib import pyplot as plt\n",
    "from sklearn.metrics import mean_squared_error\n",
    "from joblib import dump\n",
    "from helpers.helpers import return_relative_inds"
   ]
  },
  {
   "cell_type": "code",
   "execution_count": 2,
   "id": "0f6b6379-caf3-4d89-889d-59c851ec3fb7",
   "metadata": {},
   "outputs": [],
   "source": [
    "from rascal.neighbourlist.structure_manager import mask_center_atoms_by_id"
   ]
  },
  {
   "cell_type": "code",
   "execution_count": 3,
   "id": "612908d1-8167-4a11-9cb3-6352894ded09",
   "metadata": {},
   "outputs": [],
   "source": [
    "from rascal.utils import get_optimal_radial_basis_hypers"
   ]
  },
  {
   "cell_type": "code",
   "execution_count": 4,
   "id": "876f7640-2938-41b6-9a0d-4d2b1c700781",
   "metadata": {},
   "outputs": [],
   "source": [
    "train_structures, test_structures, train_properties, test_properties = load_data(\"../make_tensor_data/train_tensor/CSD-3k+S546_shift_tensors.xyz\",\\\n",
    "                                                                                    \"../make_tensor_data/test_tensor/CSD-500+104-7_shift_tensors.xyz\")"
   ]
  },
  {
   "cell_type": "code",
   "execution_count": 5,
   "id": "f20b02d2-6ff5-4ece-8a00-386b9a3e6c74",
   "metadata": {},
   "outputs": [],
   "source": [
    "def transform_sequentially_modified(nice,\n",
    "                           structures,\n",
    "                           rascal_hypers,\n",
    "                           all_species,\n",
    "                           fit_species,\n",
    "                           block_size=500,\n",
    "                           show_progress=True):\n",
    "    ''' transforming structures into structural features by chunks in order to use less amount of RAM\n",
    "    \n",
    "    Args:\n",
    "        nice: dictionary where keys are species and entries are nice transformers.\\\n",
    "        If you want to use single nice transformer to all environments regardless of central\\\n",
    "        specie just pass {key : nice_single for specie in all_species}\n",
    "        structures: list of Ase atoms objects\n",
    "        rascal_hypers: dictionary with parameters for librascal controlling spherical expansion.\\\n",
    "        Should be the same as used for fitting nice transformers\n",
    "        all_species: numpy array with ints of all unique species in the dataset. \n",
    "        block_size: size of chunks measured in number of environments\n",
    "        show_progress: whether or not show progress via tqdm\n",
    "        \n",
    "        \n",
    "    Return:\n",
    "        numpy array with shape [len(structures), number of structural features] with structural features\n",
    "    '''\n",
    "\n",
    "    pieces = []\n",
    "\n",
    "    for i in tqdm.tqdm(range(0, len(structures), block_size),\n",
    "                       disable=not show_progress):\n",
    "        now = {}\n",
    "        coefficients = get_spherical_expansion(structures[i:i + block_size],\n",
    "                                               rascal_hypers,\n",
    "                                               all_species,\n",
    "                                               show_progress=False)\n",
    "        for specie in fit_species:\n",
    "            if (coefficients[specie].shape[0] != 0):\n",
    "                now[specie] = nice[specie].transform(\n",
    "                    coefficients[specie], return_only_invariants=True)\n",
    "            else:\n",
    "                # determining size of output\n",
    "                dummy_shape = coefficients[specie].shape\n",
    "                dummy_shape = list(dummy_shape)\n",
    "                dummy_shape[0] = 1\n",
    "                dummy_data = np.ones(dummy_shape)\n",
    "                dummy_output = nice[specie].transform(\n",
    "                    dummy_data, return_only_invariants=True)\n",
    "                current_block = {}\n",
    "                for key in dummy_output.keys():\n",
    "                    current_block[key] = np.zeros(\n",
    "                        [0, dummy_output[key].shape[1]])\n",
    "                now[specie] = current_block\n",
    "\n",
    "        pieces.append(now)\n",
    "\n",
    "    max_v = len(pieces[0][int(fit_species[0])])\n",
    "\n",
    "    new_feat = {}\n",
    "    for specie in fit_species:\n",
    "        new_feat[int(specie)] = {val: [] for val in range(1,max_v+1)}\n",
    "\n",
    "    for specie in fit_species:\n",
    "        for block in pieces:\n",
    "            for v, feat in block[int(specie)].items():\n",
    "                new_feat[int(specie)][v].append(feat)\n",
    "\n",
    "        for key_v in new_feat[int(specie)].keys():\n",
    "            new_feat[int(specie)][key_v] = np.concatenate(new_feat[int(specie)][key_v])\n",
    "        \n",
    "        \n",
    "    return new_feat"
   ]
  },
  {
   "cell_type": "code",
   "execution_count": 6,
   "id": "3f728865-83dd-4c10-b7fd-c61d6373601a",
   "metadata": {},
   "outputs": [],
   "source": [
    "HYPERS = {\n",
    "'interaction_cutoff': 6.3,\n",
    "'max_radial': 5,\n",
    "'max_angular': 5,\n",
    "'gaussian_sigma_type': 'Constant',\n",
    "'gaussian_sigma_constant': 0.05,\n",
    "'cutoff_smooth_width': 0.3,\n",
    "\"cutoff_function_type\":\"RadialScaling\",\n",
    " 'cutoff_function_parameters': dict(rate=1.,\n",
    "                    scale= 2.0,\n",
    "                    exponent=3.\n",
    "                        ),\n",
    "'radial_basis': 'GTO'\n",
    "}\n",
    "\n",
    "def get_transformer():\n",
    "    return StandardSequence([\n",
    "        StandardBlock(ThresholdExpansioner(num_expand=150),\n",
    "                      CovariantsPurifierBoth(max_take=10),\n",
    "                      IndividualLambdaPCAsBoth(n_components=50),\n",
    "                      ThresholdExpansioner(num_expand=300, mode='invariants'),\n",
    "                      InvariantsPurifier(max_take=50),\n",
    "                      InvariantsPCA(n_components=200)),\n",
    "        StandardBlock(ThresholdExpansioner(num_expand=150),\n",
    "                      CovariantsPurifierBoth(max_take=10),\n",
    "                      IndividualLambdaPCAsBoth(n_components=50),\n",
    "                      ThresholdExpansioner(num_expand=300, mode='invariants'),\n",
    "                      InvariantsPurifier(max_take=50),\n",
    "                      InvariantsPCA(n_components=200)),\n",
    "        StandardBlock(None, None, None,\n",
    "                      ThresholdExpansioner(num_expand=300, mode='invariants'),\n",
    "                      InvariantsPurifier(max_take=50),\n",
    "                      InvariantsPCA(n_components=200))\n",
    "    ],\n",
    "                            initial_scaler=InitialScaler(\n",
    "                                mode='signal integral', individually=True))"
   ]
  },
  {
   "cell_type": "code",
   "execution_count": 7,
   "id": "e8388dcb-c55b-4133-a95e-b196a43581d8",
   "metadata": {
    "tags": []
   },
   "outputs": [
    {
     "name": "stderr",
     "output_type": "stream",
     "text": [
      "100%|███████████████████████████████████████████| 35/35 [00:12<00:00,  2.79it/s]\n",
      "100%|█████████████████████████████████████████████| 5/5 [00:00<00:00,  6.60it/s]\n",
      "100%|█████████████████████████████████████████████| 6/6 [00:03<00:00,  1.51it/s]\n",
      "100%|█████████████████████████████████████████████| 5/5 [00:00<00:00, 27.80it/s]\n"
     ]
    },
    {
     "name": "stdout",
     "output_type": "stream",
     "text": [
      "dict_keys([1, 6, 7, 8, 16])\n",
      "fitted\n",
      "fitted\n",
      "fitted\n",
      "fitted\n"
     ]
    }
   ],
   "source": [
    "all_species = get_all_species(train_structures + test_structures)\n",
    "fit_species = [1,6,7,8]\n",
    "\n",
    "fit_ind = {}\n",
    "for specie in [1,6,7,8]:\n",
    "    fit_ind[specie] = np.load(\"../PCov-FPS-sample-ids/PCOV_FPS_selected_sample_ids_{}_selected_20000_n8_l8_PASSING.npy\".format(specie))\n",
    "    \n",
    "    \n",
    "train_coefficients = get_spherical_expansion(train_structures, HYPERS, all_species)\n",
    "test_coefficients = get_spherical_expansion(test_structures, HYPERS, all_species)\n",
    "\n",
    "\n",
    "transformers = {}\n",
    "for key in train_coefficients.keys():\n",
    "    transformers[key] = get_transformer()\n",
    "\n",
    "print(transformers.keys())\n",
    "\n",
    "for specie in [1,6,7,8]:\n",
    "        ind = fit_ind[specie]\n",
    "        transformers[specie].fit(train_coefficients[specie][ind])\n",
    "        print(\"fitted\")\n",
    "        \n",
    "train_features = {}\n",
    "for specie in [1,6,7,8]:\n",
    "    train_features[specie] = transformers[specie].transform(train_coefficients[specie], return_only_invariants=True)\n",
    "\n",
    "test_features = {}\n",
    "for specie in [1,6,7,8]:\n",
    "    test_features[specie] = transformers[specie].transform(test_coefficients[specie],\n",
    "                                                   return_only_invariants=True)"
   ]
  },
  {
   "cell_type": "code",
   "execution_count": 8,
   "id": "e38823d4-a581-404f-b4df-fbb8a792820c",
   "metadata": {},
   "outputs": [
    {
     "name": "stderr",
     "output_type": "stream",
     "text": [
      "100%|███████████████████████████████████████████| 12/12 [00:52<00:00,  4.39s/it]\n"
     ]
    }
   ],
   "source": [
    "this = transform_sequentially_modified({1:transformers[1], 6:transformers[6]},test_structures,HYPERS,np.array([1,6,7,8,16]),np.array([1, 6]),block_size=50)"
   ]
  },
  {
   "cell_type": "code",
   "execution_count": 13,
   "id": "dfcf354b-417d-489d-aea5-3729caa5a94c",
   "metadata": {
    "tags": []
   },
   "outputs": [
    {
     "data": {
      "text/plain": [
       "(31446, 200)"
      ]
     },
     "execution_count": 13,
     "metadata": {},
     "output_type": "execute_result"
    }
   ],
   "source": [
    "this[1][].shape"
   ]
  },
  {
   "cell_type": "code",
   "execution_count": 16,
   "id": "38e25cfd-c0fb-4abe-8bfe-e0e3170cb3c0",
   "metadata": {},
   "outputs": [],
   "source": [
    "new_this = this.copy()"
   ]
  },
  {
   "cell_type": "code",
   "execution_count": 20,
   "id": "e5c203ae-5c3e-4715-833e-bc502550afe8",
   "metadata": {
    "collapsed": true,
    "jupyter": {
     "outputs_hidden": true
    },
    "tags": []
   },
   "outputs": [
    {
     "name": "stdout",
     "output_type": "stream",
     "text": [
      "0\n",
      "0\n",
      "1\n",
      "0\n",
      "1\n",
      "2\n",
      "0\n",
      "1\n",
      "2\n",
      "3\n",
      "0\n",
      "1\n",
      "2\n",
      "3\n",
      "4\n"
     ]
    },
    {
     "data": {
      "text/plain": [
       "[None,\n",
       " None,\n",
       " None,\n",
       " None,\n",
       " None,\n",
       " None,\n",
       " None,\n",
       " None,\n",
       " None,\n",
       " None,\n",
       " None,\n",
       " None,\n",
       " None,\n",
       " None,\n",
       " None]"
      ]
     },
     "execution_count": 20,
     "metadata": {},
     "output_type": "execute_result"
    }
   ],
   "source": [
    "[print(a) for i in range(1,6) for a in range(i) ]"
   ]
  },
  {
   "cell_type": "code",
   "execution_count": 24,
   "id": "dc1c0128-6c2c-44db-b1f7-9d79fc72eb5c",
   "metadata": {
    "collapsed": true,
    "jupyter": {
     "outputs_hidden": true
    },
    "tags": []
   },
   "outputs": [
    {
     "data": {
      "text/plain": [
       "{1: {1: array([[ 9.52380949e-01,  7.82997514e-02, -2.24303347e-01, ...,\n",
       "           3.87404416e-03,  9.80443260e-05,  1.19503899e-04],\n",
       "         [ 9.52380782e-01,  7.82997780e-02, -2.24303517e-01, ...,\n",
       "           3.87415339e-03,  9.80599606e-05,  1.19502369e-04],\n",
       "         [ 9.52380962e-01,  7.82997334e-02, -2.24303260e-01, ...,\n",
       "           3.87405288e-03,  9.80459620e-05,  1.19503925e-04],\n",
       "         ...,\n",
       "         [ 9.80052854e-01, -1.72693760e-01,  5.87731086e-02, ...,\n",
       "          -1.58678037e-05, -1.82004648e-04,  2.89683750e-05],\n",
       "         [ 9.80052749e-01, -1.72694178e-01,  5.87736813e-02, ...,\n",
       "          -1.57088529e-05, -1.81989955e-04,  2.89639057e-05],\n",
       "         [ 9.80030086e-01, -1.72827231e-01,  5.88581736e-02, ...,\n",
       "          -4.54925361e-07, -1.80953646e-04,  2.86133403e-05]]),\n",
       "  2: array([[-1.11727001e-01, -7.63402573e-03,  4.90459847e-03, ...,\n",
       "           4.96379914e-18,  7.50193780e-18, -1.05659282e-17],\n",
       "         [-1.11728538e-01, -7.63163188e-03,  4.90148543e-03, ...,\n",
       "           4.79171742e-18,  7.30448880e-18, -9.85654662e-18],\n",
       "         [-1.11727026e-01, -7.63388486e-03,  4.90428451e-03, ...,\n",
       "           4.94713786e-18,  6.10743027e-18, -1.18001356e-17],\n",
       "         ...,\n",
       "         [ 6.00143104e-02, -4.34335547e-04, -4.50093587e-02, ...,\n",
       "           7.11342708e-18, -9.66771033e-18,  9.62419126e-18],\n",
       "         [ 6.00132884e-02, -4.31436261e-04, -4.50137190e-02, ...,\n",
       "           8.84483461e-18, -1.00697087e-17,  7.84183702e-18],\n",
       "         [ 5.99616475e-02, -2.16318856e-04, -4.54350663e-02, ...,\n",
       "           6.96955089e-18, -1.06680544e-17,  8.67009188e-18]]),\n",
       "  3: array([[-8.74180478e-03, -4.00828710e-03,  5.57872485e-03, ...,\n",
       "          -4.83147435e-04,  5.76562347e-05,  6.34480802e-04],\n",
       "         [-8.74200612e-03, -4.00969286e-03,  5.57853017e-03, ...,\n",
       "          -4.83153224e-04,  5.76549896e-05,  6.34470022e-04],\n",
       "         [-8.74167607e-03, -4.00837588e-03,  5.57864947e-03, ...,\n",
       "          -4.83146714e-04,  5.76542661e-05,  6.34478234e-04],\n",
       "         ...,\n",
       "         [-1.26017969e-02, -3.29359937e-03,  5.51414357e-03, ...,\n",
       "          -3.35079665e-04,  2.73435911e-04, -3.00484994e-04],\n",
       "         [-1.26012222e-02, -3.29405344e-03,  5.51400659e-03, ...,\n",
       "          -3.35044489e-04,  2.73451155e-04, -3.00437678e-04],\n",
       "         [-1.25640009e-02, -3.35546732e-03,  5.52428340e-03, ...,\n",
       "          -3.34584486e-04,  2.77301773e-04, -2.98720665e-04]]),\n",
       "  4: array([[ 0.00279656, -0.00179496, -0.00155824, ...,  0.00035386,\n",
       "          -0.0002587 ,  0.00015931],\n",
       "         [ 0.00279655, -0.00179499, -0.00155851, ...,  0.00035386,\n",
       "          -0.00025869,  0.00015928],\n",
       "         [ 0.00279643, -0.00179496, -0.00155826, ...,  0.00035386,\n",
       "          -0.0002587 ,  0.00015931],\n",
       "         ...,\n",
       "         [-0.00856572, -0.00381605, -0.00263025, ..., -0.00029519,\n",
       "           0.00074996, -0.00012693],\n",
       "         [-0.00856617, -0.00381513, -0.00262946, ..., -0.00029527,\n",
       "           0.00074994, -0.00012694],\n",
       "         [-0.00860494, -0.00371169, -0.00260742, ..., -0.00030344,\n",
       "           0.00075072, -0.00012864]])}}"
      ]
     },
     "execution_count": 24,
     "metadata": {},
     "output_type": "execute_result"
    }
   ],
   "source": [
    "new_this[1]"
   ]
  },
  {
   "cell_type": "code",
   "execution_count": 91,
   "id": "b3fa9b09-7c16-4064-b616-75cc9c507cca",
   "metadata": {},
   "outputs": [],
   "source": [
    "fit_species = np.array([1,6])\n",
    "\n",
    "max_v = len(new_this[0][int(fit_species[0])])\n",
    "\n",
    "new_feat = {}\n",
    "for specie in fit_species:\n",
    "    new_feat[specie] = {val: [] for val in range(1,max_v+1)}\n",
    "    \n",
    "for specie in fit_species:\n",
    "    for block in this:\n",
    "        for v, feat in block[specie].items():\n",
    "            new_feat[specie][v].append(feat)\n",
    "\n",
    "    for key_v in new_feat[specie].keys():\n",
    "        new_feat[specie][key_v] = np.concatenate(new_feat[specie][key_v])\n"
   ]
  },
  {
   "cell_type": "code",
   "execution_count": 86,
   "id": "16c0bd2b-50d9-42dc-9d04-a58d99aebd9f",
   "metadata": {},
   "outputs": [
    {
     "data": {
      "text/plain": [
       "(31446, 25)"
      ]
     },
     "execution_count": 86,
     "metadata": {},
     "output_type": "execute_result"
    }
   ],
   "source": [
    "new_feat[6][1].shape"
   ]
  },
  {
   "cell_type": "code",
   "execution_count": 72,
   "id": "e5808877-01aa-4a09-826f-22bcaa19048d",
   "metadata": {
    "collapsed": true,
    "jupyter": {
     "outputs_hidden": true
    },
    "tags": []
   },
   "outputs": [
    {
     "data": {
      "text/plain": [
       "{1: array([[ 9.71176310e-01, -1.20317536e-01, -1.45874314e-01, ...,\n",
       "          4.60990362e-04, -1.32776683e-03, -3.85676367e-04],\n",
       "        [ 9.71176270e-01, -1.20317360e-01, -1.45874474e-01, ...,\n",
       "          4.60983589e-04, -1.32778650e-03, -3.85681409e-04],\n",
       "        [ 9.71176278e-01, -1.20317478e-01, -1.45874462e-01, ...,\n",
       "          4.60992841e-04, -1.32777227e-03, -3.85676571e-04],\n",
       "        ...,\n",
       "        [ 8.86965994e-01, -1.94275624e-01,  3.79754539e-01, ...,\n",
       "          5.08065188e-04, -2.57350113e-03,  9.06237349e-04],\n",
       "        [ 8.86986361e-01, -1.94228851e-01,  3.79737539e-01, ...,\n",
       "          5.07804791e-04, -2.57605218e-03,  9.04899297e-04],\n",
       "        [ 8.86985602e-01, -1.94229607e-01,  3.79738667e-01, ...,\n",
       "          5.07809407e-04, -2.57608990e-03,  9.04892298e-04]]),\n",
       " 2: array([[-3.55381374e-02,  9.00472744e-02, -9.57336358e-02, ...,\n",
       "         -7.06105295e-18, -1.82261296e-18,  2.45394227e-18],\n",
       "        [-3.55388371e-02,  9.00470223e-02, -9.57344379e-02, ...,\n",
       "         -7.53995458e-18, -1.20629043e-18,  3.75861958e-18],\n",
       "        [-3.55382358e-02,  9.00473089e-02, -9.57337269e-02, ...,\n",
       "         -6.88194984e-18, -1.15607863e-18,  2.69814382e-18],\n",
       "        ...,\n",
       "        [ 2.15075275e-01,  2.63463220e-01,  3.64621389e-03, ...,\n",
       "          2.02517455e-17, -2.12673144e-17,  1.57521981e-17],\n",
       "        [ 2.15068724e-01,  2.63500373e-01,  3.68477461e-03, ...,\n",
       "          2.35316578e-17, -2.10639044e-17,  1.66902686e-17],\n",
       "        [ 2.15068358e-01,  2.63504445e-01,  3.68468415e-03, ...,\n",
       "          2.23136379e-17, -2.05492449e-17,  1.30058878e-17]]),\n",
       " 3: array([[ 6.62259255e-02, -2.68924864e-02,  8.98916732e-03, ...,\n",
       "         -6.29128583e-04, -1.24986471e-04,  3.33298201e-04],\n",
       "        [ 6.62259719e-02, -2.68921337e-02,  8.98920058e-03, ...,\n",
       "         -6.29064274e-04, -1.25026252e-04,  3.33256622e-04],\n",
       "        [ 6.62261832e-02, -2.68924457e-02,  8.98943932e-03, ...,\n",
       "         -6.29117402e-04, -1.24987224e-04,  3.33297439e-04],\n",
       "        ...,\n",
       "        [ 1.56930813e-01,  5.76839756e-02, -2.79506221e-02, ...,\n",
       "         -1.16536749e-03,  4.38310146e-03,  1.53289612e-03],\n",
       "        [ 1.56777230e-01,  5.75881669e-02, -2.80114896e-02, ...,\n",
       "         -1.16775560e-03,  4.39678114e-03,  1.52894753e-03],\n",
       "        [ 1.56768325e-01,  5.75789692e-02, -2.80149390e-02, ...,\n",
       "         -1.16811219e-03,  4.39738351e-03,  1.52897433e-03]]),\n",
       " 4: array([[ 2.10105764e-03,  2.54389027e-03,  2.20004853e-03, ...,\n",
       "         -5.34895516e-04,  2.46187802e-05, -5.96931816e-05],\n",
       "        [ 2.10119664e-03,  2.54344228e-03,  2.19990884e-03, ...,\n",
       "         -5.34912474e-04,  2.46239060e-05, -5.96970817e-05],\n",
       "        [ 2.10104139e-03,  2.54381758e-03,  2.20008783e-03, ...,\n",
       "         -5.34890352e-04,  2.46218222e-05, -5.96848091e-05],\n",
       "        ...,\n",
       "        [ 9.97817723e-02, -1.19577765e-02, -3.99780926e-02, ...,\n",
       "          2.63161003e-03,  1.99646517e-03,  4.31755017e-04],\n",
       "        [ 9.98138296e-02, -1.19601980e-02, -3.99581999e-02, ...,\n",
       "          2.63771066e-03,  2.00469064e-03,  4.37781962e-04],\n",
       "        [ 9.98157763e-02, -1.19631729e-02, -3.99579204e-02, ...,\n",
       "          2.63760171e-03,  2.00469012e-03,  4.37748796e-04]])}"
      ]
     },
     "execution_count": 72,
     "metadata": {},
     "output_type": "execute_result"
    }
   ],
   "source": [
    "this[0][6]"
   ]
  },
  {
   "cell_type": "code",
   "execution_count": 53,
   "id": "b87a485f-1996-4b42-83c4-243ba7e07732",
   "metadata": {},
   "outputs": [
    {
     "data": {
      "text/plain": [
       "4"
      ]
     },
     "execution_count": 53,
     "metadata": {},
     "output_type": "execute_result"
    }
   ],
   "source": [
    "max_v"
   ]
  },
  {
   "cell_type": "code",
   "execution_count": 54,
   "id": "2b3a7903-8327-47eb-bef2-cf0017ebb6b9",
   "metadata": {},
   "outputs": [
    {
     "ename": "KeyError",
     "evalue": "5",
     "output_type": "error",
     "traceback": [
      "\u001b[0;31m---------------------------------------------------------------------------\u001b[0m",
      "\u001b[0;31mKeyError\u001b[0m                                  Traceback (most recent call last)",
      "\u001b[0;32m/tmp/ipykernel_14086/941675678.py\u001b[0m in \u001b[0;36m<module>\u001b[0;34m\u001b[0m\n\u001b[0;32m----> 1\u001b[0;31m \u001b[0mnew_feat\u001b[0m\u001b[0;34m[\u001b[0m\u001b[0;36m5\u001b[0m\u001b[0;34m]\u001b[0m\u001b[0;34m\u001b[0m\u001b[0;34m\u001b[0m\u001b[0m\n\u001b[0m",
      "\u001b[0;31mKeyError\u001b[0m: 5"
     ]
    }
   ],
   "source": [
    "new_feat[5]"
   ]
  },
  {
   "cell_type": "code",
   "execution_count": 39,
   "id": "a65778de-aff2-42bf-9f66-8c6d0dbc7d15",
   "metadata": {},
   "outputs": [
    {
     "ename": "KeyError",
     "evalue": "6",
     "output_type": "error",
     "traceback": [
      "\u001b[0;31m---------------------------------------------------------------------------\u001b[0m",
      "\u001b[0;31mKeyError\u001b[0m                                  Traceback (most recent call last)",
      "\u001b[0;32m/tmp/ipykernel_14086/2299587049.py\u001b[0m in \u001b[0;36m<module>\u001b[0;34m\u001b[0m\n\u001b[0;32m----> 1\u001b[0;31m \u001b[0mnew_feat\u001b[0m\u001b[0;34m[\u001b[0m\u001b[0;36m6\u001b[0m\u001b[0;34m]\u001b[0m\u001b[0;34m.\u001b[0m\u001b[0mshape\u001b[0m\u001b[0;34m\u001b[0m\u001b[0;34m\u001b[0m\u001b[0m\n\u001b[0m",
      "\u001b[0;31mKeyError\u001b[0m: 6"
     ]
    }
   ],
   "source": [
    "new_feat[6].shape"
   ]
  },
  {
   "cell_type": "code",
   "execution_count": 30,
   "id": "6c1dfd06-7088-4f47-a25b-8aaae8f21b4e",
   "metadata": {},
   "outputs": [
    {
     "data": {
      "text/plain": [
       "(134692, 40, 9, 17)"
      ]
     },
     "execution_count": 30,
     "metadata": {},
     "output_type": "execute_result"
    }
   ],
   "source": [
    "train_coefficients[1].shape"
   ]
  },
  {
   "cell_type": "code",
   "execution_count": 16,
   "id": "2a68b876-e165-4d60-a50c-ada815460fe7",
   "metadata": {
    "tags": []
   },
   "outputs": [
    {
     "data": {
      "text/plain": [
       "(43354, 25, 6, 11)"
      ]
     },
     "execution_count": 16,
     "metadata": {},
     "output_type": "execute_result"
    }
   ],
   "source": [
    "train_coefficients[8].shape"
   ]
  },
  {
   "cell_type": "code",
   "execution_count": 11,
   "id": "e1cddcfc-f893-4df2-9b84-f7efd36fe678",
   "metadata": {},
   "outputs": [
    {
     "data": {
      "text/plain": [
       "array([ 1,  6,  7,  8, 16])"
      ]
     },
     "execution_count": 11,
     "metadata": {},
     "output_type": "execute_result"
    }
   ],
   "source": [
    "all_species"
   ]
  },
  {
   "cell_type": "code",
   "execution_count": 16,
   "id": "1c2dc653-9d77-43f4-b134-9c2f546b8954",
   "metadata": {
    "tags": []
   },
   "outputs": [],
   "source": [
    "fit_species = np.load(\"../PCov-FPS-sample-ids/PCOV_FPS_selected_sample_ids_7_selected_20000_n8_l8_PASSING.npy\")\n",
    "relative_inds = return_relative_inds(train_structures,fit_species,7)\n",
    "map_dict = {key.info[\"NAME\"]:index for index,key in enumerate(train_structures)}\n",
    "for pairs in relative_inds:\n",
    "    struct_ind = map_dict[pairs[0]]\n",
    "    mask_center_atoms_by_id(train_structures[struct_ind],id_select=int(pairs[1]))\n"
   ]
  },
  {
   "cell_type": "code",
   "execution_count": 31,
   "id": "1777ed8c-ef98-475d-b8ae-5318d97dfdb5",
   "metadata": {},
   "outputs": [
    {
     "data": {
      "text/plain": [
       "array([False, False, False, False, False, False,  True,  True, False,\n",
       "       False, False, False, False,  True,  True, False, False, False,\n",
       "       False, False,  True, False, False,  True, False, False, False,\n",
       "       False,  True, False, False,  True, False, False, False, False,\n",
       "        True,  True, False, False, False, False, False, False, False,\n",
       "       False, False, False, False, False, False, False, False, False,\n",
       "       False, False, False,  True,  True, False, False, False, False,\n",
       "       False, False, False, False, False, False, False, False, False,\n",
       "       False, False, False, False, False, False, False, False, False,\n",
       "       False, False, False, False, False, False, False, False, False,\n",
       "       False, False, False, False, False, False,  True, False, False,\n",
       "        True, False, False, False, False, False, False, False, False])"
      ]
     },
     "execution_count": 31,
     "metadata": {},
     "output_type": "execute_result"
    }
   ],
   "source": [
    "train_structures[2].arrays['center_atoms_mask']"
   ]
  },
  {
   "cell_type": "code",
   "execution_count": 32,
   "id": "0e87a164-77f4-4060-b838-92250215cc13",
   "metadata": {},
   "outputs": [
    {
     "data": {
      "text/plain": [
       "array([False, False, False, False,  True,  True,  True,  True, False,\n",
       "       False, False, False,  True,  True,  True,  True, False, False,\n",
       "       False, False,  True,  True,  True,  True, False, False, False,\n",
       "       False,  True,  True,  True,  True, False, False, False, False,\n",
       "        True,  True,  True,  True, False, False, False, False, False,\n",
       "       False, False, False, False, False, False, False, False, False,\n",
       "       False, False,  True,  True,  True,  True, False, False, False,\n",
       "       False, False, False, False, False, False, False, False, False,\n",
       "       False, False, False, False,  True,  True,  True,  True, False,\n",
       "       False, False, False, False, False, False, False, False, False,\n",
       "       False, False, False, False, False, False,  True,  True,  True,\n",
       "        True, False, False, False, False, False, False, False, False])"
      ]
     },
     "execution_count": 32,
     "metadata": {},
     "output_type": "execute_result"
    }
   ],
   "source": [
    "train_structures[2].numbers == 7"
   ]
  },
  {
   "cell_type": "code",
   "execution_count": 25,
   "id": "9e866397-4027-4360-95df-51faeca201e7",
   "metadata": {},
   "outputs": [
    {
     "data": {
      "text/plain": [
       "array([ 0,  1,  2,  3,  7,  9, 11, 14, 15, 17, 18, 20, 23, 24, 27, 28, 29,\n",
       "       33, 34, 40, 43, 45, 47, 48, 50])"
      ]
     },
     "execution_count": 25,
     "metadata": {},
     "output_type": "execute_result"
    }
   ],
   "source": [
    "np.sort(np.load(\"../PCov-FPS-sample-ids/PCOV_FPS_selected_sample_ids_7_selected_20000_n8_l8_PASSING.npy\"))[:25]"
   ]
  },
  {
   "cell_type": "code",
   "execution_count": null,
   "id": "f99ba183-aeef-4f7e-a525-e43a2ab8acd5",
   "metadata": {},
   "outputs": [],
   "source": [
    "for key in [1,6,7,8]:\n",
    "        fit_species = np.load(\"../PCov-FPS-sample-ids/PCOV_FPS_selected_sample_ids_{}_selected_20000_n8_l8_PASSING.npy\".format(key))\n",
    "        relatvie \n",
    "        for frame in mask_center_atoms_by_id()"
   ]
  },
  {
   "cell_type": "code",
   "execution_count": null,
   "id": "28820998-fedc-4080-80fc-147df7a6f542",
   "metadata": {
    "tags": []
   },
   "outputs": [
    {
     "name": "stderr",
     "output_type": "stream",
     "text": [
      "100%|████████████████████████████████████████████████████████████████████████████████████████████████████████████████████████████████████████████████████████████████████████| 35/35 [00:34<00:00,  1.02it/s]\n",
      "100%|██████████████████████████████████████████████████████████████████████████████████████████████████████████████████████████████████████████████████████████████████████████| 5/5 [00:02<00:00,  1.77it/s]\n",
      "100%|██████████████████████████████████████████████████████████████████████████████████████████████████████████████████████████████████████████████████████████████████████████| 6/6 [00:10<00:00,  1.81s/it]\n",
      "100%|██████████████████████████████████████████████████████████████████████████████████████████████████████████████████████████████████████████████████████████████████████████| 5/5 [00:00<00:00,  7.75it/s]\n"
     ]
    },
    {
     "name": "stdout",
     "output_type": "stream",
     "text": [
      "dict_keys([1, 6, 7, 8, 16])\n",
      "(20000, 40, 9, 17)\n",
      "(20000, 40, 9, 17)\n",
      "(20000, 40, 9, 17)\n",
      "(20000, 40, 9, 17)\n"
     ]
    }
   ],
   "source": [
    "all_species = get_all_species(train_structures + test_structures)\n",
    "\n",
    "train_coefficients = get_spherical_expansion(train_structures, HYPERS, all_species)\n",
    "test_coefficients = get_spherical_expansion(test_structures, HYPERS, all_species)\n",
    "print(test_coefficients.keys())\n",
    "transformers = {}\n",
    "for key in train_coefficients.keys():\n",
    "    transformers[key] = get_transformer()\n",
    "\n",
    "#TODO: Pass here train_coefficients:\n",
    "\n",
    "fit_species = [1,6,7,8]\n",
    "\n",
    "\n",
    "\n",
    "\n",
    "for key in fit_species:\n",
    "        fit_species = np.load(\"../PCov-FPS-sample-ids/PCOV_FPS_selected_sample_ids_{}_selected_20000_n8_l8_PASSING.npy\".format(key))\n",
    "        print(train_coefficients[key][fit_species].shape)\n",
    "        transformers[key].fit(train_coefficients[key][fit_species])\n",
    "\n",
    "train_features = {}\n",
    "for specie in [1,6,7,8]:\n",
    "    train_features[specie] = transformers[specie].transform(train_coefficients[specie], return_only_invariants=True)\n",
    "\n",
    "test_features = {}\n",
    "for specie in [1,6,7,8]:\n",
    "    test_features[specie] = transformers[specie].transform(test_coefficients[specie],\n",
    "                                                   return_only_invariants=True)\n",
    "\n",
    "for specie in [1,6,7,8]:\n",
    "    Strain, Stest, Ytrain, Ytest = load_data(\"../make_tensor_data/train_tensor/CSD-3k+S546_shift_tensors.xyz\",\\\n",
    "                                                                                    \"../make_tensor_data/test_tensor/CSD-500+104-7_shift_tensors.xyz\", selected_species=int(specie))\n",
    "    \n",
    "    \n",
    "    Xtrain = np.concatenate([value for key, value in train_features[specie].items()],axis=1)\n",
    "    Xtest = np.concatenate([value for key, value in test_features[specie].items()],axis=1)\n",
    "    \n",
    "    \n",
    "    \n",
    "    groups = atom_groups_by_frame(Strain)\n",
    "    splits = list(GroupKFold(n_splits=5).split(Xtrain,Ytrain,groups=groups))\n",
    "    model = RidgeCV(alphas=np.logspace(-6,3,10),cv=splits,scoring=\"neg_mean_squared_error\")\n",
    "    model.fit(Xtrain,Ytrain)\n",
    "    print(\"{} species ridges' alpha is: {}\".format(specie,model.alpha_))\n",
    "    \n",
    "    Ypred_test = model.predict(Xtest)\n",
    "    Ypred_train = model.predict(Xtrain)\n",
    "    \n",
    "    rmse_test = mean_squared_error(Ytest,Ypred_test,squared=False)\n",
    "    \n",
    "    rmse_train = mean_squared_error(Ytrain,Ypred_train,squared=False)\n",
    "    \n",
    "    mae_test = mean_absolute_error(Ypred_test,Ytest)\n",
    "    mae_train = mean_absolute_error(Ypred_train,Ytrain)\n",
    "    \n",
    "    print(\"test-RMSE: {} \\n   train-RMSE: {}:\\n  test-MAE:{}\\n  train-MAE:{}\".format(rmse_test,rmse_train,mae_test,mae_train))\n",
    "    \n",
    "    \n",
    "    dump(transformers[specie],str(specie) + \"_NICE_transformer.pkl\")\n",
    "    \n",
    "    \n",
    "    "
   ]
  },
  {
   "cell_type": "code",
   "execution_count": null,
   "id": "933fdade-28b7-42aa-b644-c074eda2fb71",
   "metadata": {},
   "outputs": [],
   "source": []
  },
  {
   "cell_type": "raw",
   "id": "51d74792-8226-4e57-b997-bb4651658ac6",
   "metadata": {},
   "source": [
    "1 species ridges' alpha is: 0.001\n",
    "0.6780207650967022: test-RMSE:\n",
    "  0.699399691870669: train-RMSE\n",
    " 0.512391787851752: test-MAE\n",
    " 0.5229707497116007: train-MAE\n",
    "6 species ridges' alpha is: 1e-06\n",
    "6.925216279107971: test-RMSE:\n",
    "  7.896686985253237: train-RMSE\n",
    " 4.974776767308507: test-MAE\n",
    " 5.647328507723254: train-MAE\n",
    "7 species ridges' alpha is: 0.001\n",
    "29.23245126371511: test-RMSE:\n",
    "  27.445575759377128: train-RMSE\n",
    " 19.818140270636203: test-MAE\n",
    " 18.25650635406322: train-MAE\n",
    "8 species ridges' alpha is: 0.0001\n",
    "26.653552585180158: test-RMSE:\n",
    "  27.745678510551524: train-RMSE\n",
    " 19.410194231917963: test-MAE\n",
    " 19.47090461922412: train-MAE\n",
    "16 species ridges' alpha is: 0.01\n",
    "69.81086582089362: test-RMSE:\n",
    "  56.61515923043835: train-RMSE\n",
    " 53.319361582894594: test-MAE\n",
    " 40.14213060312708: train-MAE"
   ]
  },
  {
   "cell_type": "code",
   "execution_count": 14,
   "id": "1a519316-e96a-4b7b-bca6-68f0a881cdb9",
   "metadata": {},
   "outputs": [
    {
     "data": {
      "text/plain": [
       "int"
      ]
     },
     "execution_count": 14,
     "metadata": {},
     "output_type": "execute_result"
    }
   ],
   "source": [
    "type(int(all_species[0]))"
   ]
  },
  {
   "cell_type": "code",
   "execution_count": 12,
   "id": "f1283811-29b9-4e57-90e7-85a6f31337f2",
   "metadata": {},
   "outputs": [],
   "source": []
  },
  {
   "cell_type": "code",
   "execution_count": 23,
   "id": "ed043ba3-24c7-4551-907a-517849ff2dda",
   "metadata": {
    "tags": []
   },
   "outputs": [],
   "source": [
    "H_feats = np.concatenate([value for key, value in train_features[1].items()],axis=1)"
   ]
  },
  {
   "cell_type": "code",
   "execution_count": 51,
   "id": "233ff34f-5b9e-45ca-8c16-2ecef4beb842",
   "metadata": {},
   "outputs": [],
   "source": [
    "H_feats_test = np.concatenate([value for key, value in test_features[1].items()],axis=1)"
   ]
  },
  {
   "cell_type": "code",
   "execution_count": 52,
   "id": "b722558d-eb35-4a8c-98eb-966876f7a5bc",
   "metadata": {
    "collapsed": true,
    "jupyter": {
     "outputs_hidden": true
    },
    "tags": []
   },
   "outputs": [
    {
     "data": {
      "text/plain": [
       "[None,\n",
       " None,\n",
       " None,\n",
       " None,\n",
       " None,\n",
       " None,\n",
       " None,\n",
       " None,\n",
       " None,\n",
       " None,\n",
       " None,\n",
       " None,\n",
       " None,\n",
       " None,\n",
       " None,\n",
       " None,\n",
       " None,\n",
       " None,\n",
       " None,\n",
       " None,\n",
       " None,\n",
       " None,\n",
       " None,\n",
       " None,\n",
       " None,\n",
       " None,\n",
       " None,\n",
       " None,\n",
       " None,\n",
       " None,\n",
       " None,\n",
       " None,\n",
       " None,\n",
       " None,\n",
       " None,\n",
       " None,\n",
       " None,\n",
       " None,\n",
       " None,\n",
       " None,\n",
       " None,\n",
       " None,\n",
       " None,\n",
       " None,\n",
       " None,\n",
       " None,\n",
       " None,\n",
       " None,\n",
       " None,\n",
       " None,\n",
       " None,\n",
       " None,\n",
       " None,\n",
       " None,\n",
       " None,\n",
       " None,\n",
       " None,\n",
       " None,\n",
       " None,\n",
       " None,\n",
       " None,\n",
       " None,\n",
       " None,\n",
       " None,\n",
       " None,\n",
       " None,\n",
       " None,\n",
       " None,\n",
       " None,\n",
       " None,\n",
       " None,\n",
       " None,\n",
       " None,\n",
       " None,\n",
       " None,\n",
       " None,\n",
       " None,\n",
       " None,\n",
       " None,\n",
       " None,\n",
       " None,\n",
       " None,\n",
       " None,\n",
       " None,\n",
       " None,\n",
       " None,\n",
       " None,\n",
       " None,\n",
       " None,\n",
       " None,\n",
       " None,\n",
       " None,\n",
       " None,\n",
       " None,\n",
       " None,\n",
       " None,\n",
       " None,\n",
       " None,\n",
       " None,\n",
       " None]"
      ]
     },
     "execution_count": 52,
     "metadata": {},
     "output_type": "execute_result"
    }
   ],
   "source": [
    "int_structs_test = deepcopy(test_structures)\n",
    "[mask_center_atoms_by_species(frame,species_select=[1]) for frame in int_structs_test]"
   ]
  },
  {
   "cell_type": "code",
   "execution_count": 39,
   "id": "55b1731d-6ada-49bc-8f6d-758a613b86da",
   "metadata": {},
   "outputs": [],
   "source": [
    "train_properties_H = np.concatenate([structure.arrays[\"cs_iso\"][structure.numbers == 1]for structure in train_structures])"
   ]
  },
  {
   "cell_type": "code",
   "execution_count": 53,
   "id": "b36e437b-b2d7-4a4b-9803-b2a5e227ce15",
   "metadata": {},
   "outputs": [],
   "source": [
    "test_properties_H = np.concatenate([structure.arrays[\"cs_iso\"][structure.numbers == 1]for structure in test_structures])"
   ]
  },
  {
   "cell_type": "code",
   "execution_count": 54,
   "id": "75a193cd-b8dc-476f-9c76-72cf1d405bb6",
   "metadata": {},
   "outputs": [
    {
     "data": {
      "text/plain": [
       "(5428,)"
      ]
     },
     "execution_count": 54,
     "metadata": {},
     "output_type": "execute_result"
    }
   ],
   "source": [
    "test_properties_H.shape"
   ]
  },
  {
   "cell_type": "code",
   "execution_count": 55,
   "id": "74c36470-e144-4926-861d-e48c6bae1317",
   "metadata": {},
   "outputs": [
    {
     "data": {
      "text/plain": [
       "(5428, 625)"
      ]
     },
     "execution_count": 55,
     "metadata": {},
     "output_type": "execute_result"
    }
   ],
   "source": [
    "H_feats_test.shape"
   ]
  },
  {
   "cell_type": "code",
   "execution_count": 31,
   "id": "02f60acf-b2ba-4270-b744-0dbc3ae7177e",
   "metadata": {},
   "outputs": [],
   "source": [
    "from copy import deepcopy"
   ]
  },
  {
   "cell_type": "code",
   "execution_count": 32,
   "id": "d6aed695-f7c5-4970-a5fc-d14e6af2ac63",
   "metadata": {},
   "outputs": [],
   "source": [
    "from rascal.neighbourlist.structure_manager import mask_center_atoms_by_species"
   ]
  },
  {
   "cell_type": "code",
   "execution_count": 38,
   "id": "7a4999e2-04c3-42d6-9d30-dbc1e50b8ff7",
   "metadata": {},
   "outputs": [],
   "source": [
    "int_structs = deepcopy(train_structures)\n",
    "[mask_center_atoms_by_species(frame,species_select=[1]) for frame in int_structs]\n",
    "groups = atom_groups_by_frame(int_structs)"
   ]
  },
  {
   "cell_type": "code",
   "execution_count": 35,
   "id": "b968156a-d60c-4ce4-aec9-275c3f96355a",
   "metadata": {
    "collapsed": true,
    "jupyter": {
     "outputs_hidden": true
    },
    "tags": []
   },
   "outputs": [
    {
     "data": {
      "text/plain": [
       "[Atoms(symbols='C32H40N16O20', pbc=True, cell=[[9.176034118, 0.0, 0.0], [0.0, 15.1320602235, 0.0], [-2.59975398631, 0.0, 7.49494796345]], center_atoms_mask=..., cs_iso=..., cs_tensor=...),\n",
       " Atoms(symbols='C40H28N4', pbc=True, cell=[[5.752027846, 0.0, 0.0], [0.585579442834, 8.8607170474, 0.0], [1.18489472816, 0.511320763342, 13.1036716279]], center_atoms_mask=..., cs_iso=..., cs_tensor=...),\n",
       " Atoms(symbols='C56H52N12O12', pbc=True, cell=[[11.986138672, 0.0, 0.0], [0.0, 7.70902892056, 0.0], [-2.70475609431, 0.0, 13.8708031584]], center_atoms_mask=..., cs_iso=..., cs_tensor=...),\n",
       " Atoms(symbols='C32H16N64O48', pbc=True, cell=[12.129281862, 12.4461836092, 12.6773798508], center_atoms_mask=..., cs_iso=..., cs_tensor=...),\n",
       " Atoms(symbols='C28H46N10O12', pbc=True, cell=[[8.584040452, 0.0, 0.0], [0.304948037057, 12.5673614153, 0.0], [-3.45549689991, -0.639588270038, 7.76044469083]], center_atoms_mask=..., cs_iso=..., cs_tensor=...),\n",
       " Atoms(symbols='C16H24N16O20S4', pbc=True, cell=[[7.308028718, 0.0, 0.0], [0.0, 7.00302813945, 0.0], [-0.496251690096, 0.0, 16.2424811513]], center_atoms_mask=..., cs_iso=..., cs_tensor=...),\n",
       " Atoms(symbols='C48H48S16', pbc=True, cell=[[6.377042344, 0.0, 0.0], [0.0, 14.5340957634, 0.0], [-1.05475004961, 0.0, 12.8759563442]], center_atoms_mask=..., cs_iso=..., cs_tensor=...),\n",
       " Atoms(symbols='C32H28N4O12S4', pbc=True, cell=[[3.314042668, 0.0, 0.0], [0.0, 16.3312112109, 0.0], [-0.567937434143, 0.0, 13.7804787344]], center_atoms_mask=..., cs_iso=..., cs_tensor=...),\n",
       " Atoms(symbols='S4O4C28H24', pbc=True, cell=[[6.414032026, 0.0, 0.0], [0.0, 13.3090651417, 0.0], [-2.19257270777, 0.0, 7.21661343938]], center_atoms_mask=..., cs_iso=..., cs_tensor=...),\n",
       " Atoms(symbols='C84H64O4', pbc=True, cell=[[9.289066966, 0.0, 0.0], [0.0, 14.7901081577, 0.0], [-3.09872127105, 0.0, 10.5149915788]], center_atoms_mask=..., cs_iso=..., cs_tensor=...),\n",
       " Atoms(symbols='C48H64O4', pbc=True, cell=[[8.517046264, 0.0, 0.0], [0.760052691553, 8.70493230458, 0.0], [2.0771798281, 4.1601427306, 12.3443428266]], center_atoms_mask=..., cs_iso=..., cs_tensor=...),\n",
       " Atoms(symbols='C8H14N2O8', pbc=True, cell=[[7.61701692, 0.0, 0.0], [0.0, 6.98201668745, 0.0], [-0.878760008027, 0.0, 5.06636740013]], center_atoms_mask=..., cs_iso=..., cs_tensor=...),\n",
       " Atoms(symbols='C32H24N8O20', pbc=True, cell=[[3.957525548, 0.0, 0.0], [0.0, 12.322879731, 0.0], [-1.94613297586, 0.0, 18.9977016831]], center_atoms_mask=..., cs_iso=..., cs_tensor=...),\n",
       " Atoms(symbols='C36H44N12O12', pbc=True, cell=[[6.938026062, 0.0, 0.0], [0.0, 14.6940523347, 0.0], [-3.31014611023, 0.0, 9.83703862385]], center_atoms_mask=..., cs_iso=..., cs_tensor=...),\n",
       " Atoms(symbols='C36H28N20', pbc=True, cell=[9.510052534, 15.9600839943, 5.77003417395], center_atoms_mask=..., cs_iso=..., cs_tensor=...),\n",
       " Atoms(symbols='C32H48O16', pbc=True, cell=[[15.300075504, 0.0, 0.0], [0.0, 4.06001273567, 0.0], [-4.83851117746, 0.0, 15.439688693]], center_atoms_mask=..., cs_iso=..., cs_tensor=...),\n",
       " Atoms(symbols='C56H76N12O12', pbc=True, cell=[[16.492106372, 0.0, 0.0], [0.0, 10.9035747147, 0.0], [-0.975640028755, 0.0, 8.17231697841]], center_atoms_mask=..., cs_iso=..., cs_tensor=...),\n",
       " Atoms(symbols='N2H2C2H4C2H4C2H4C2H4N2H2C2H4C2H4C2H4C2H4', pbc=True, cell=[[7.702056146, 0.0, 0.0], [-0.822656616954, 4.86902423793, 0.0], [-1.56994861452, -1.08223131319, 10.3986923418]], center_atoms_mask=..., cs_iso=..., cs_tensor=...),\n",
       " Atoms(symbols='C52H64N16O20', pbc=True, cell=[[6.227019814, 0.0, 0.0], [0.0, 16.2220529066, 0.0], [-0.867199687377, 0.0, 13.0562733953]], center_atoms_mask=..., cs_iso=..., cs_tensor=...),\n",
       " Atoms(symbols='C88H88N8O16', pbc=True, cell=[5.734035726, 8.58305445086, 38.3502401258], center_atoms_mask=..., cs_iso=..., cs_tensor=...),\n",
       " Atoms(symbols='C12H24N24O24', pbc=True, cell=[[13.165575056, 0.0, 0.0], [0.0, 4.98663270494, 0.0], [-5.26857349476, 0.0, 11.6506913278]], center_atoms_mask=..., cs_iso=..., cs_tensor=...),\n",
       " Atoms(symbols='C16O12H32', pbc=True, cell=[[5.802035356, 0.0, 0.0], [0.0, 9.52505639306, 0.0], [0.00710169127574, 0.0, 10.1710608116]], center_atoms_mask=..., cs_iso=..., cs_tensor=...),\n",
       " Atoms(symbols='C56H76N20O12', pbc=True, cell=[6.896961694, 10.1350921063, 20.3111797529], center_atoms_mask=..., cs_iso=..., cs_tensor=...),\n",
       " Atoms(symbols='O4N20C4H12', pbc=True, cell=[[11.760072976, 0.0, 0.0], [0.0, 3.61982102245, 0.0], [-4.26595471197, 0.0, 9.30476965985]], center_atoms_mask=..., cs_iso=..., cs_tensor=...),\n",
       " Atoms(symbols='C64H64N48O8', pbc=True, cell=[9.548047658, 9.548047658, 21.9571105084], center_atoms_mask=..., cs_iso=..., cs_tensor=...),\n",
       " Atoms(symbols='C32H36N20O4', pbc=True, cell=[[5.143417928, 0.0, 0.0], [0.0, 6.58852291589, 0.0], [-1.8982863981, 0.0, 25.684032893]], center_atoms_mask=..., cs_iso=..., cs_tensor=...),\n",
       " Atoms(symbols='S4C18N2H34', pbc=True, cell=[[8.208745996, 0.0, 0.0], [0.0, 7.35514312611, 0.0], [-2.90859676002, 0.0, 9.85906512602]], center_atoms_mask=..., cs_iso=..., cs_tensor=...),\n",
       " Atoms(symbols='C32H80N16O48', pbc=True, cell=[[28.619165678, 0.0, 0.0], [0.0, 3.58801342022, 0.0], [-1.4318740972, 0.0, 16.0121942435]], center_atoms_mask=..., cs_iso=..., cs_tensor=...),\n",
       " Atoms(symbols='O12C8H8C4H8C4H8', pbc=True, cell=[[6.097053206, 0.0, 0.0], [0.0, 11.3061010978, 0.0], [-1.42985043261, 0.0, 6.58050684586]], center_atoms_mask=..., cs_iso=..., cs_tensor=...),\n",
       " Atoms(symbols='C36H28N12O12', pbc=True, cell=[[7.408043738, 0.0, 0.0], [0.0, 4.59602441549, 0.0], [-2.91849513515, 0.0, 27.6515751943]], center_atoms_mask=..., cs_iso=..., cs_tensor=...),\n",
       " Atoms(symbols='C2H2C4H2C2H2C6H2N4O2H2O2H2O4', pbc=True, cell=[[7.0936579, 0.0, 0.0], [-0.140525362999, 7.21359037412, 0.0], [-1.53396095893, -2.36450770683, 7.55761150129]], center_atoms_mask=..., cs_iso=..., cs_tensor=...),\n",
       " Atoms(symbols='C18H36N8O4', pbc=True, cell=[[8.658019816, 0.0, 0.0], [4.00147701836, 7.68349042155, 0.0], [1.00460735529, 3.05008185286, 8.28762107025]], center_atoms_mask=..., cs_iso=..., cs_tensor=...),\n",
       " Atoms(symbols='C56H36N12', pbc=True, cell=[4.424526898, 13.2561790297, 17.6001087457], center_atoms_mask=..., cs_iso=..., cs_tensor=...),\n",
       " Atoms(symbols='C20H24N16O4', pbc=True, cell=[[3.71934163, 0.0, 0.0], [0.0, 16.9781882883, 0.0], [-1.56205281711, 0.0, 9.66043570202]], center_atoms_mask=..., cs_iso=..., cs_tensor=...),\n",
       " Atoms(symbols='C20H20N20O16S4', pbc=True, cell=[[7.733066094, 0.0, 0.0], [0.0, 6.24465193062, 0.0], [-2.11275872061, 0.0, 17.6083538904]], center_atoms_mask=..., cs_iso=..., cs_tensor=...),\n",
       " Atoms(symbols='C32H36N4O12', pbc=True, cell=[[12.09308595, 0.0, 0.0], [0.0, 9.10675884008, 0.0], [-2.97494751604, 0.0, 6.68497326156]], center_atoms_mask=..., cs_iso=..., cs_tensor=...),\n",
       " Atoms(symbols='O10N8C14H20', pbc=True, cell=[[8.886043478, 0.0, 0.0], [3.71042965654, 7.35177921109, 0.0], [1.39654836509, -0.76331113476, 7.70845611025]], center_atoms_mask=..., cs_iso=..., cs_tensor=...),\n",
       " Atoms(symbols='S12C4H8C8H4C4H4C8H8', pbc=True, cell=[14.69506401, 6.76922245595, 7.34003752235], center_atoms_mask=..., cs_iso=..., cs_tensor=...),\n",
       " Atoms(symbols='C28H56N24', pbc=True, cell=[7.083021382, 11.3665352269, 12.0396347489], center_atoms_mask=..., cs_iso=..., cs_tensor=...),\n",
       " Atoms(symbols='C48H60N36O24', pbc=True, cell=[[7.112761298, 0.0, 0.0], [0.0, 21.2844829675, 0.0], [-3.07670313982, 0.0, 11.4848262999]], center_atoms_mask=..., cs_iso=..., cs_tensor=...),\n",
       " Atoms(symbols='C32H32N24', pbc=True, cell=[[13.034073826, 0.0, 0.0], [-0.288039997481, 8.46014360491, 0.0], [0.0, 0.0, 7.50434193717]], center_atoms_mask=..., cs_iso=..., cs_tensor=...),\n",
       " Atoms(symbols='C20H32N8O8', pbc=True, cell=[[8.620024692, 0.0, 0.0], [0.0, 6.72001608944, 0.0], [-1.71411777008, 0.0, 10.2983521196]], center_atoms_mask=..., cs_iso=..., cs_tensor=...),\n",
       " Atoms(symbols='C40H36N12', pbc=True, cell=[[10.684038364, 0.0, 0.0], [0.0, 13.7550476673, 0.0], [-1.39526062207, 0.0, 5.91159595122]], center_atoms_mask=..., cs_iso=..., cs_tensor=...),\n",
       " Atoms(symbols='O4H4O4C8O4H4O4H4C4O4H4O4', pbc=True, cell=[[5.384036074, 0.0, 0.0], [0.0, 6.26804095699, 0.0], [-3.36794607784, 0.0, 13.9533863382]], center_atoms_mask=..., cs_iso=..., cs_tensor=...),\n",
       " Atoms(symbols='C36H88N8S4', pbc=True, cell=[[8.883238824, 0.0, 0.0], [0.0, 14.7504670522, 0.0], [-3.333595267, 0.0, 8.75228211726]], center_atoms_mask=..., cs_iso=..., cs_tensor=...),\n",
       " Atoms(symbols='C32H48O16S4', pbc=True, cell=[10.962069536, 10.9542645425, 8.05615644684], center_atoms_mask=..., cs_iso=..., cs_tensor=...),\n",
       " Atoms(symbols='O6N2H6N2H4C2H2C4H4C2', pbc=True, cell=[[5.062241716, 0.0, 0.0], [0.0, 6.70015533442, 0.0], [-0.239788265603, 0.0, 8.05079685994]], center_atoms_mask=..., cs_iso=..., cs_tensor=...),\n",
       " Atoms(symbols='C20H44N12O8', pbc=True, cell=[6.314017006, 7.14801657027, 16.2630451724], center_atoms_mask=..., cs_iso=..., cs_tensor=...),\n",
       " Atoms(symbols='C48H64O32', pbc=True, cell=[5.905331292, 13.5525699659, 16.3577853948], center_atoms_mask=..., cs_iso=..., cs_tensor=...),\n",
       " Atoms(symbols='C18H42N10O10', pbc=True, cell=[[12.984066316, 0.0, 0.0], [-2.9844785312, 6.47976321533, 0.0], [-2.20391541648, -1.52603029819, 8.70671236545]], center_atoms_mask=..., cs_iso=..., cs_tensor=...),\n",
       " Atoms(symbols='C24H48O24S12', pbc=True, cell=[[5.997831956, 0.0, 0.0], [0.0, 12.9947707636, 0.0], [-2.7065876463, 0.0, 13.552551142]], center_atoms_mask=..., cs_iso=..., cs_tensor=...),\n",
       " Atoms(symbols='S8O8N4C4H8C8H4', pbc=True, cell=[[3.919795014, 0.0, 0.0], [0.0, 18.3221763203, 0.0], [-1.81483765292, 0.0, 7.72486938733]], center_atoms_mask=..., cs_iso=..., cs_tensor=...),\n",
       " Atoms(symbols='C16H24N16O16', pbc=True, cell=[[9.137033552, 0.0, 0.0], [0.0, 5.62302181824, 0.0], [-4.91996363454, 0.0, 14.1839928159]], center_atoms_mask=..., cs_iso=..., cs_tensor=...),\n",
       " Atoms(symbols='C20H44N4O28', pbc=True, cell=[[11.80706416, 0.0, 0.0], [0.0, 5.87482910703, 0.0], [-5.23776715321, 0.0, 9.85911110075]], center_atoms_mask=..., cs_iso=..., cs_tensor=...),\n",
       " Atoms(symbols='C60H40N16O4', pbc=True, cell=[13.301045136, 13.8920504745, 6.79332258858], center_atoms_mask=..., cs_iso=..., cs_tensor=...),\n",
       " Atoms(symbols='C48H40N8O12', pbc=True, cell=[[8.472065964, 0.0, 0.0], [-2.2615417605, 9.87440468269, 0.0], [-0.465353639271, -0.362451926072, 12.7464604607]], center_atoms_mask=..., cs_iso=..., cs_tensor=...),\n",
       " Atoms(symbols='S4O4C20H32', pbc=True, cell=[[6.904423132, 0.0, 0.0], [0.0, 5.37401631825, 0.0], [-0.322843921229, 0.0, 15.1597104586]], center_atoms_mask=..., cs_iso=..., cs_tensor=...),\n",
       " Atoms(symbols='C100H52N4', pbc=True, cell=[20.7121052, 9.48164965477, 8.04534800757], center_atoms_mask=..., cs_iso=..., cs_tensor=...),\n",
       " Atoms(symbols='C60H120O6', pbc=True, cell=[[11.952165316, 0.0, 0.0], [-2.99033614474, 12.1133283131, 0.0], [-2.00201159476, -6.57519689663, 10.7820483316]], center_atoms_mask=..., cs_iso=..., cs_tensor=...),\n",
       " Atoms(symbols='C24H28N12O8', pbc=True, cell=[[7.217062676, 0.0, 0.0], [0.0, 12.7371124514, 0.0], [-1.75367405964, 0.0, 7.11822500265]], center_atoms_mask=..., cs_iso=..., cs_tensor=...),\n",
       " Atoms(symbols='C40H64N32O16', pbc=True, cell=[12.50664012, 3.88331175726, 27.9659854126], center_atoms_mask=..., cs_iso=..., cs_tensor=...),\n",
       " Atoms(symbols='C32H28N4O4S4', pbc=True, cell=[[9.240064898, 0.0, 0.0], [0.0, 6.90004618278, 0.0], [-2.01176540972, 0.0, 12.7017628114]], center_atoms_mask=..., cs_iso=..., cs_tensor=...),\n",
       " Atoms(symbols='C26H28N12O6', pbc=True, cell=[[8.36236695, 0.0, 0.0], [-3.48523384795, 8.92351522181, 0.0], [-0.210112831986, -2.82223194669, 10.2131343657]], center_atoms_mask=..., cs_iso=..., cs_tensor=...),\n",
       " Atoms(symbols='C24H28N12O8S4', pbc=True, cell=[[5.49183004, 0.0, 0.0], [0.0, 16.0080859571, 0.0], [-2.14468594271, 0.0, 9.19515226636]], center_atoms_mask=..., cs_iso=..., cs_tensor=...),\n",
       " Atoms(symbols='C32H40N32O12', pbc=True, cell=[[15.59308247, 0.0, 0.0], [0.0, 4.20202386402, 0.0], [-5.92106764784, 0.0, 17.1571310141]], center_atoms_mask=..., cs_iso=..., cs_tensor=...),\n",
       " Atoms(symbols='C6N3O6H15', pbc=True, cell=[[7.03703564, 0.0, 0.0], [-3.51851782, 6.09424879013, 0.0], [0.0, 0.0, 5.47802965321]], center_atoms_mask=..., cs_iso=..., cs_tensor=...),\n",
       " Atoms(symbols='C72H72N8O40', pbc=True, cell=[13.976067144, 6.90103255403, 19.8010962647], center_atoms_mask=..., cs_iso=..., cs_tensor=...),\n",
       " Atoms(symbols='N4C4H4N4C4H4C8H4C4O4H4O4', pbc=True, cell=[[3.623242542, 0.0, 0.0], [0.0, 11.2121312927, 0.0], [-1.52216042432, 0.0, 12.659971766]], center_atoms_mask=..., cs_iso=..., cs_tensor=...),\n",
       " Atoms(symbols='S2O2C2H4S2O2C2H4C6H2C2H2O2', pbc=True, cell=[[4.81103997, 0.0, 0.0], [1.49703687434, 7.37465072841, 0.0], [0.820700875362, 1.15995135885, 10.5831236623]], center_atoms_mask=..., cs_iso=..., cs_tensor=...),\n",
       " Atoms(symbols='C52H52N8O22', pbc=True, cell=[[8.357022232, 0.0, 0.0], [-0.172948575091, 11.1206811271, 0.0], [-1.59368413964, -0.826125075722, 14.9365643344]], center_atoms_mask=..., cs_iso=..., cs_tensor=...),\n",
       " Atoms(symbols='C20H36N4O12', pbc=True, cell=[4.968523938, 8.30073904488, 14.1440660241], center_atoms_mask=..., cs_iso=..., cs_tensor=...),\n",
       " Atoms(symbols='O8N4C18H20', pbc=True, cell=[[8.002947894, 0.0, 0.0], [0.0, 5.49523217436, 0.0], [-1.30150341011, 0.0, 10.8502847134]], center_atoms_mask=..., cs_iso=..., cs_tensor=...),\n",
       " Atoms(symbols='C36H32N24', pbc=True, cell=[[7.283051422, 0.0, 0.0], [0.965200955803, 8.53767355826, 0.0], [3.57669927029, 3.02950905086, 14.8845178522]], center_atoms_mask=..., cs_iso=..., cs_tensor=...),\n",
       " Atoms(symbols='C20H48N8O12', pbc=True, cell=[5.252852352, 11.2348111162, 14.1081423641], center_atoms_mask=..., cs_iso=..., cs_tensor=...),\n",
       " Atoms(symbols='C6N2C12O4H22', pbc=True, cell=[[6.651051748, 0.0, 0.0], [-3.24141002254, 7.36317320761, 0.0], [-0.708410172731, -0.142764825771, 8.57868616981]], center_atoms_mask=..., cs_iso=..., cs_tensor=...),\n",
       " Atoms(symbols='O6N8C16H16', pbc=True, cell=[[10.118768288, 0.0, 0.0], [-2.91791885491, 10.0304719159, 0.0], [-0.426253114132, -0.0599638208747, 4.27993542278]], center_atoms_mask=..., cs_iso=..., cs_tensor=...),\n",
       " Atoms(symbols='C28H24N24O16', pbc=True, cell=[[14.49106512, 0.0, 0.0], [0.0, 5.96902912464, 0.0], [-1.30494939619, 0.0, 11.6522074987]], center_atoms_mask=..., cs_iso=..., cs_tensor=...),\n",
       " Atoms(symbols='N8C16H16', pbc=True, cell=[11.555068644, 9.46105910433, 3.69302304876], center_atoms_mask=..., cs_iso=..., cs_tensor=...),\n",
       " Atoms(symbols='C36H24O4S8', pbc=True, cell=[[6.168016244, 0.0, 0.0], [0.0, 11.16803226, 0.0], [-3.53580297584, 0.0, 12.8981731524]], center_atoms_mask=..., cs_iso=..., cs_tensor=...),\n",
       " Atoms(symbols='C20H20N4O20S2', pbc=True, cell=[[11.749066032, 0.0, 0.0], [1.30767104936, 7.66631258214, 0.0], [2.34928449843, 2.85248524751, 7.32464974193]], center_atoms_mask=..., cs_iso=..., cs_tensor=...),\n",
       " Atoms(symbols='C32H48N48O8', pbc=True, cell=[12.821343466, 15.9442509154, 6.16471990129], center_atoms_mask=..., cs_iso=..., cs_tensor=...),\n",
       " Atoms(symbols='C32H32S32', pbc=True, cell=[[12.075040912, 0.0, 0.0], [0.0, 11.5660417124, 0.0], [-0.945258352673, 0.0, 10.5497700442]], center_atoms_mask=..., cs_iso=..., cs_tensor=...),\n",
       " Atoms(symbols='C12H20N28O12', pbc=True, cell=[[4.51231786, 0.0, 0.0], [0.0, 13.4390543317, 0.0], [-1.03986365084, 0.0, 11.835755599]], center_atoms_mask=..., cs_iso=..., cs_tensor=...),\n",
       " Atoms(symbols='C12H36N36O4', pbc=True, cell=[12.786152996, 8.64693004506, 7.47903004426], center_atoms_mask=..., cs_iso=..., cs_tensor=...),\n",
       " Atoms(symbols='C16H36N12O28S4', pbc=True, cell=[[10.579049052, 0.0, 0.0], [0.0, 12.104061289, 0.0], [-1.48708634619, 0.0, 6.84332235551]], center_atoms_mask=..., cs_iso=..., cs_tensor=...),\n",
       " Atoms(symbols='C24H32O8', pbc=True, cell=[7.134034334, 9.69404688458, 9.93004787439], center_atoms_mask=..., cs_iso=..., cs_tensor=...),\n",
       " Atoms(symbols='C28H44N20O16', pbc=True, cell=[6.024608464, 7.00451103067, 24.8977367347], center_atoms_mask=..., cs_iso=..., cs_tensor=...),\n",
       " Atoms(symbols='C72H60N8', pbc=True, cell=[[6.062127326, 0.0, 0.0], [-2.6229794378, 11.9260170263, 0.0], [-0.275899538861, -1.17890796321, 18.2780231568]], center_atoms_mask=..., cs_iso=..., cs_tensor=...),\n",
       " Atoms(symbols='O8C8H16', pbc=True, cell=[8.741153994, 8.741153994, 4.47402855452], center_atoms_mask=..., cs_iso=..., cs_tensor=...),\n",
       " Atoms(symbols='C64H24N8S24', pbc=True, cell=[[10.7767507, 0.0, 0.0], [0.0, 4.61542368279, 0.0], [-5.2475124416, 0.0, 31.5166828594]], center_atoms_mask=..., cs_iso=..., cs_tensor=...),\n",
       " Atoms(symbols='C48H48O16', pbc=True, cell=[[5.259043758, 0.0, 0.0], [0.0, 20.9751753835, 0.0], [-1.53302177354, 0.0, 9.624754789]], center_atoms_mask=..., cs_iso=..., cs_tensor=...),\n",
       " Atoms(symbols='C40H48O8', pbc=True, cell=[[10.373039278, 0.0, 0.0], [0.0, 9.84943937436, 0.0], [-0.248994434829, 0.0, 7.70880712376]], center_atoms_mask=..., cs_iso=..., cs_tensor=...),\n",
       " Atoms(symbols='C40H60N20O28S8', pbc=True, cell=[[7.257121602, 0.0, 0.0], [0.0, 8.5170232262, 0.0], [-0.162508724034, 0.0, 25.509558943]], center_atoms_mask=..., cs_iso=..., cs_tensor=...),\n",
       " Atoms(symbols='C40H48N32O8S8', pbc=True, cell=[[15.29409577, 0.0, 0.0], [0.0, 7.73205246929, 0.0], [-2.49761760382, 0.0, 12.1245014803]], center_atoms_mask=..., cs_iso=..., cs_tensor=...),\n",
       " Atoms(symbols='C76H80O24', pbc=True, cell=[23.088546744, 10.4956608445, 7.33294553444], center_atoms_mask=..., cs_iso=..., cs_tensor=...),\n",
       " Atoms(symbols='C56H60N4O20', pbc=True, cell=[9.026064506, 13.3870978327, 23.2141623812], center_atoms_mask=..., cs_iso=..., cs_tensor=...),\n",
       " Atoms(symbols='C52H40O20', pbc=True, cell=[[6.666027542, 0.0, 0.0], [0.0, 7.17803178545, 0.0], [-1.14047065408, 0.0, 24.3644239904]], center_atoms_mask=..., cs_iso=..., cs_tensor=...),\n",
       " Atoms(symbols='C24H40N16O20', pbc=True, cell=[12.51907585, 10.7570660004, 6.59004152744], center_atoms_mask=..., cs_iso=..., cs_tensor=...),\n",
       " Atoms(symbols='C64H64N32O16', pbc=True, cell=[[10.106067968, 0.0, 0.0], [0.0, 11.0010714533, 0.0], [-4.30209249757, 0.0, 15.9221505079]], center_atoms_mask=..., cs_iso=..., cs_tensor=...),\n",
       " Atoms(symbols='O8N16C2O2N2H8O2N2H8', pbc=True, cell=[[8.101851636, 0.0, 0.0], [3.0822522327, 7.5115669295, 0.0], [3.7193899472, 1.1514027471, 7.56656229841]], center_atoms_mask=..., cs_iso=..., cs_tensor=...),\n",
       " Atoms(symbols='C28H52N4O8', pbc=True, cell=[[13.044075328, 0.0, 0.0], [0.0, 6.84704384487, 0.0], [-1.39249417349, 0.0, 9.36205896479]], center_atoms_mask=..., cs_iso=..., cs_tensor=...),\n",
       " Atoms(symbols='C32H44N20O32', pbc=True, cell=[[8.115663234, 0.0, 0.0], [0.0, 8.01286212781, 0.0], [-1.00902852555, 0.0, 18.7463136946]], center_atoms_mask=..., cs_iso=..., cs_tensor=...),\n",
       " Atoms(symbols='C8H24N24O12', pbc=True, cell=[[9.883865286, 0.0, 0.0], [0.0, 5.42653855797, 0.0], [-1.69324449761, 0.0, 12.2213401229]], center_atoms_mask=..., cs_iso=..., cs_tensor=...),\n",
       " Atoms(symbols='C56H40N24O32', pbc=True, cell=[11.218933508, 10.5028289822, 13.0799414172], center_atoms_mask=..., cs_iso=..., cs_tensor=...),\n",
       " Atoms(symbols='O2N2C6H2C4H2C2H2C2H2C2H6C2H2C2H2O2H4O2H4', pbc=True, cell=[[6.690052314, 0.0, 0.0], [-0.383199506494, 8.85477930145, 0.0], [-3.29489759501, -2.8434060345, 8.00894929734]], center_atoms_mask=..., cs_iso=..., cs_tensor=...),\n",
       " Atoms(symbols='C28H32N8O4', pbc=True, cell=[[12.905059742, 0.0, 0.0], [0.603763220029, 7.9371021336, 0.0], [1.59785287702, 0.645369132638, 6.79801122535]], center_atoms_mask=..., cs_iso=..., cs_tensor=...),\n",
       " Atoms(symbols='C24H52N20O12', pbc=True, cell=[[5.937029174, 0.0, 0.0], [0.0, 13.1628627041, 0.0], [-1.3914793386, 0.0, 11.7512627736]], center_atoms_mask=..., cs_iso=..., cs_tensor=...),\n",
       " Atoms(symbols='C28H32N16O20', pbc=True, cell=[[5.322651194, 0.0, 0.0], [0.0, 11.5542089512, 0.0], [-1.86439164698, 0.0, 14.4736565178]], center_atoms_mask=..., cs_iso=..., cs_tensor=...),\n",
       " Atoms(symbols='C16H20N36O2S2', pbc=True, cell=[[9.753951596, 0.0, 0.0], [2.77194624221, 9.4468679379, 0.0], [4.87502500768, 0.50499133598, 8.86206976996]], center_atoms_mask=..., cs_iso=..., cs_tensor=...),\n",
       " Atoms(symbols='C72H80N16O24', pbc=True, cell=[9.658170016, 9.71407150405, 20.1411477514], center_atoms_mask=..., cs_iso=..., cs_tensor=...),\n",
       " Atoms(symbols='C60H70N20', pbc=True, cell=[[9.34505421, 0.0, 0.0], [1.63595453506, 9.92715763674, 0.0], [0.665321134481, 1.66241972858, 14.8522348318]], center_atoms_mask=..., cs_iso=..., cs_tensor=...),\n",
       " Atoms(symbols='C40H32N8O4', pbc=True, cell=[[8.65103464, 0.0, 0.0], [0.0, 11.53404384, 0.0], [-0.557455370132, 0.0, 8.86051944381]], center_atoms_mask=..., cs_iso=..., cs_tensor=...),\n",
       " Atoms(symbols='C72H80O24', pbc=True, cell=[[11.987038278, 0.0, 0.0], [0.0, 13.1310452501, 0.0], [-4.60534818418, 0.0, 10.8653271971]], center_atoms_mask=..., cs_iso=..., cs_tensor=...),\n",
       " Atoms(symbols='C40H48O40', pbc=True, cell=[9.744267602, 14.8441054483, 8.47756153508], center_atoms_mask=..., cs_iso=..., cs_tensor=...),\n",
       " Atoms(symbols='S6O12C2H6C14H4C2H6', pbc=True, cell=[[6.461922816, 0.0, 0.0], [-1.17303284879, 6.32049071133, 0.0], [-1.72753690755, -0.650651008343, 14.7358786423]], center_atoms_mask=..., cs_iso=..., cs_tensor=...),\n",
       " Atoms(symbols='C44H96N8O8S8', pbc=True, cell=[[9.62525502, 0.0, 0.0], [0.0, 12.3461702353, 0.0], [-2.87787424894, 0.0, 11.8902507808]], center_atoms_mask=..., cs_iso=..., cs_tensor=...),\n",
       " Atoms(symbols='C32H32O28', pbc=True, cell=[7.941245506, 10.0129576336, 10.8310647456], center_atoms_mask=..., cs_iso=..., cs_tensor=...),\n",
       " Atoms(symbols='C104H72N16O8', pbc=True, cell=[11.950048596, 11.950048596, 21.0800888742], center_atoms_mask=..., cs_iso=..., cs_tensor=...),\n",
       " Atoms(symbols='C28H24N8O20', pbc=True, cell=[[3.9079943, 0.0, 0.0], [0.0, 13.7799787012, 0.0], [-1.42703147461, 0.0, 15.3538022577]], center_atoms_mask=..., cs_iso=..., cs_tensor=...),\n",
       " Atoms(symbols='C48H64N16O16', pbc=True, cell=[9.54005704, 12.6100760156, 10.6900632159], center_atoms_mask=..., cs_iso=..., cs_tensor=...),\n",
       " Atoms(symbols='C16H48N8O4S16', pbc=True, cell=[[20.561130146, 0.0, 0.0], [0.0, 5.47304386678, 0.0], [-4.10264454255, 0.0, 9.1032758831]], center_atoms_mask=..., cs_iso=..., cs_tensor=...),\n",
       " Atoms(symbols='C12N16O8H24', pbc=True, cell=[[5.208930412, 0.0, 0.0], [0.0, 17.0775981611, 0.0], [-2.4927232308, 0.0, 6.35708806234]], center_atoms_mask=..., cs_iso=..., cs_tensor=...),\n",
       " Atoms(symbols='C20H20N28O4', pbc=True, cell=[11.73006847, 17.0101007303, 3.78002629453], center_atoms_mask=..., cs_iso=..., cs_tensor=...),\n",
       " Atoms(symbols='C32H24N8O24', pbc=True, cell=[[7.813025192, 0.0, 0.0], [0.0, 12.7080417353, 0.0], [-1.81460635294, 0.0, 9.21506474968]], center_atoms_mask=..., cs_iso=..., cs_tensor=...),\n",
       " Atoms(symbols='C64H44N20O16', pbc=True, cell=[[15.446076266, 0.0, 0.0], [0.0, 9.0270422296, 0.0], [-1.60755038738, 0.0, 12.5837947653]], center_atoms_mask=..., cs_iso=..., cs_tensor=...),\n",
       " Atoms(symbols='O4H4N8H8C8H12', pbc=True, cell=[5.042238712, 8.01606034404, 9.28407245086], center_atoms_mask=..., cs_iso=..., cs_tensor=...),\n",
       " Atoms(symbols='C64H64O40', pbc=True, cell=[[15.270706014, 0.0, 0.0], [0.0, 11.0750795367, 0.0], [-6.23266230608, 0.0, 9.86137909337]], center_atoms_mask=..., cs_iso=..., cs_tensor=...),\n",
       " Atoms(symbols='C8H32N32S16', pbc=True, cell=[10.678746564, 6.87622645125, 15.2174701436], center_atoms_mask=..., cs_iso=..., cs_tensor=...),\n",
       " Atoms(symbols='C20H48N16O16', pbc=True, cell=[8.96404461, 11.1440554389, 9.35104930795], center_atoms_mask=..., cs_iso=..., cs_tensor=...),\n",
       " Atoms(symbols='N4H8C4H4C4H4N4O8', pbc=True, cell=[[5.545912236, 0.0, 0.0], [0.0, 10.3058245144, 0.0], [-1.20846536805, 0.0, 6.76309577808]], center_atoms_mask=..., cs_iso=..., cs_tensor=...),\n",
       " Atoms(symbols='C8N8H4N4H4N4O8H16', pbc=True, cell=[[5.079545902, 0.0, 0.0], [0.0, 14.6680319966, 0.0], [-2.8791475718, 0.0, 6.41837705403]], center_atoms_mask=..., cs_iso=..., cs_tensor=...),\n",
       " Atoms(symbols='C16H32N8O8', pbc=True, cell=[[7.470063634, 0.0, 0.0], [0.0, 8.9360785623, 0.0], [-7.47658499955, 0.0, 8.39154080364]], center_atoms_mask=..., cs_iso=..., cs_tensor=...),\n",
       " Atoms(symbols='C48H72N16O28', pbc=True, cell=[[8.15916183, 0.0, 0.0], [0.0, 20.4009561015, 0.0], [-1.4304071379, 0.0, 9.71483657948]], center_atoms_mask=..., cs_iso=..., cs_tensor=...),\n",
       " Atoms(symbols='N2C2N2H4C2N2O4C4H6C2N2O4C2H2', pbc=True, cell=[[7.366026846, 0.0, 0.0], [-1.17706899191, 7.57714454143, 0.0], [-2.74791104695, -2.94361901423, 6.7815399818]], center_atoms_mask=..., cs_iso=..., cs_tensor=...),\n",
       " Atoms(symbols='C36H48N8O16', pbc=True, cell=[[7.928016006, 0.0, 0.0], [0.0, 10.570019412, 0.0], [-4.94708991576, 0.0, 12.6951795985]], center_atoms_mask=..., cs_iso=..., cs_tensor=...),\n",
       " Atoms(symbols='O6N6C6H6O2H4N10C2H6', pbc=True, cell=[[5.474843362, 0.0, 0.0], [2.93064532778, 9.19955449616, 0.0], [2.49905795071, 3.37388317152, 8.94467863828]], center_atoms_mask=..., cs_iso=..., cs_tensor=...),\n",
       " Atoms(symbols='C48H40N8O24', pbc=True, cell=[[5.41562812, 0.0, 0.0], [0.0, 13.4490679763, 0.0], [-2.2366814917, 0.0, 16.2438191145]], center_atoms_mask=..., cs_iso=..., cs_tensor=...),\n",
       " Atoms(symbols='C34H46N2O2', pbc=True, cell=[[12.426046006, 0.0, 0.0], [0.0, 7.39502577723, 0.0], [-5.59492662257, 0.0, 16.9273935977]], center_atoms_mask=..., cs_iso=..., cs_tensor=...),\n",
       " Atoms(symbols='C16H32N8O16', pbc=True, cell=[[5.426846736, 0.0, 0.0], [0.0, 16.4093409884, 0.0], [-5.38982478757, 0.0, 7.06875549652]], center_atoms_mask=..., cs_iso=..., cs_tensor=...),\n",
       " Atoms(symbols='N2H2C2H4C2H4N2H2C2H4C2H4N2H2C2H4C2H4', pbc=True, cell=[[4.795005816, 0.0, 0.0], [1.81179294758, 7.83526007361, 0.0], [0.826855597917, 2.42638802304, 10.9129920967]], center_atoms_mask=..., cs_iso=..., cs_tensor=...),\n",
       " Atoms(symbols='C16H24N16S8', pbc=True, cell=[[8.59626451, 0.0, 0.0], [0.0, 10.2017802363, 0.0], [-1.57392445419, 0.0, 8.54624284682]], center_atoms_mask=..., cs_iso=..., cs_tensor=...),\n",
       " Atoms(symbols='C16H20N12O20', pbc=True, cell=[[10.327053536, 0.0, 0.0], [0.0, 6.06153636233, 0.0], [-1.98704902497, 0.0, 11.0746082874]], center_atoms_mask=..., cs_iso=..., cs_tensor=...),\n",
       " Atoms(symbols='C48H40N8O16', pbc=True, cell=[[11.21438256, 0.0, 0.0], [0.0, 9.37307065871, 0.0], [-3.73895364618, 0.0, 10.7852754257]], center_atoms_mask=..., cs_iso=..., cs_tensor=...),\n",
       " Atoms(symbols='C40H24N8O8', pbc=True, cell=[[7.156259894, 0.0, 0.0], [-3.32331700095, 9.4676531209, 0.0], [-0.918126675621, -2.05905634678, 12.5067306351]], center_atoms_mask=..., cs_iso=..., cs_tensor=...),\n",
       " Atoms(symbols='C28H28N12O12', pbc=True, cell=[[7.784026128, 0.0, 0.0], [0.0, 14.2720508258, 0.0], [-3.20645053083, 0.0, 7.1883068244]], center_atoms_mask=..., cs_iso=..., cs_tensor=...),\n",
       " Atoms(symbols='C12H36N12O24', pbc=True, cell=[12.56379156, 5.56123669612, 11.2936801798], center_atoms_mask=..., cs_iso=..., cs_tensor=...),\n",
       " Atoms(symbols='C24H48N8O16S8', pbc=True, cell=[6.601943844, 7.9218506709, 18.1667207202], center_atoms_mask=..., cs_iso=..., cs_tensor=...),\n",
       " Atoms(symbols='C32H28N20O12', pbc=True, cell=[[11.7530878, 0.0, 0.0], [0.0, 11.3100786616, 0.0], [-1.7541013418, 0.0, 7.13870799884]], center_atoms_mask=..., cs_iso=..., cs_tensor=...),\n",
       " Atoms(symbols='C12H28N12O12S4', pbc=True, cell=[[5.449707312, 0.0, 0.0], [0.0, 7.48231189669, 0.0], [-1.52444117668, 0.0, 16.7120397447]], center_atoms_mask=..., cs_iso=..., cs_tensor=...),\n",
       " Atoms(symbols='C22H26N6O18S2', pbc=True, cell=[[7.36274593, 0.0, 0.0], [1.66710238445, 9.44303089055, 0.0], [3.30649875597, 3.52894939876, 10.7440943611]], center_atoms_mask=..., cs_iso=..., cs_tensor=...),\n",
       " Atoms(symbols='C20H36N20O24', pbc=True, cell=[[12.300842018, 0.0, 0.0], [0.0, 10.5086339377, 0.0], [-0.937791593768, 0.0, 7.07928219146]], center_atoms_mask=..., cs_iso=..., cs_tensor=...),\n",
       " Atoms(symbols='C48H56N8O8', pbc=True, cell=[[12.832456246, 0.0, 0.0], [0.0, 7.38212710464, 0.0], [-2.52203962076, 0.0, 10.5463798307]], center_atoms_mask=..., cs_iso=..., cs_tensor=...),\n",
       " Atoms(symbols='C96H48S24', pbc=True, cell=[[9.956045438, 0.0, 0.0], [0.0, 15.670068816, 0.0], [-0.430330151967, 0.0, 13.6933059503]], center_atoms_mask=..., cs_iso=..., cs_tensor=...),\n",
       " Atoms(symbols='C2O2N2H4N2H6C2H2C2H6C2O2C2O2C2O2H2C2O4H4', pbc=True, cell=[[6.21892336, 0.0, 0.0], [0.0, 6.46432207579, 0.0], [-2.61551125429, 0.0, 12.5197623785]], center_atoms_mask=..., cs_iso=..., cs_tensor=...),\n",
       " Atoms(symbols='N2C2H2C4O4C2H2C2H2C2H6C4O8H2', pbc=True, cell=[[8.43803969, 0.0, 0.0], [0.0, 6.04803245213, 0.0], [-1.71774017773, 0.0, 8.60425219581]], center_atoms_mask=..., cs_iso=..., cs_tensor=...),\n",
       " Atoms(symbols='C44H56O16', pbc=True, cell=[[9.239059456, 0.0, 0.0], [0.0, 7.38844812978, 0.0], [-0.635942940475, 0.0, 15.6361749843]], center_atoms_mask=..., cs_iso=..., cs_tensor=...),\n",
       " Atoms(symbols='C4N2C4N6C2O2C6O14H20', pbc=True, cell=[[8.47905114, 0.0, 0.0], [0.0, 6.77404114151, 0.0], [-0.684344217509, 0.0, 10.2492396046]], center_atoms_mask=..., cs_iso=..., cs_tensor=...),\n",
       " Atoms(symbols='C16H16N32O56', pbc=True, cell=[[11.820081988, 0.0, 0.0], [0.0, 6.16204514198, 0.0], [-1.93709867636, 0.0, 18.1259066073]], center_atoms_mask=..., cs_iso=..., cs_tensor=...),\n",
       " Atoms(symbols='S6N2C4N2C2H2C2H2C2H2C2H2C6H2C6H2', pbc=True, cell=[[6.876059084, 0.0, 0.0], [-2.27891851009, 9.07945096111, 0.0], [-0.987264563281, -2.27926918911, 9.17790237508]], center_atoms_mask=..., cs_iso=..., cs_tensor=...),\n",
       " Atoms(symbols='C20H32N16O16', pbc=True, cell=[7.000045958, 13.1230841581, 8.26305725016], center_atoms_mask=..., cs_iso=..., cs_tensor=...),\n",
       " Atoms(symbols='C24H44N4O16', pbc=True, cell=[[6.541828996, 0.0, 0.0], [-1.78400910184, 8.42492063981, 0.0], [-0.905650806206, -0.648092456805, 12.7365616291]], center_atoms_mask=..., cs_iso=..., cs_tensor=...),\n",
       " Atoms(symbols='C56H72N8O16', pbc=True, cell=[6.944640812, 7.04714371039, 30.2461746892], center_atoms_mask=..., cs_iso=..., cs_tensor=...),\n",
       " Atoms(symbols='C8H32N24O4', pbc=True, cell=[[6.261416514, 0.0, 0.0], [0.0, 13.6551350676, 0.0], [-1.06375831298, 0.0, 6.98265655941]], center_atoms_mask=..., cs_iso=..., cs_tensor=...),\n",
       " Atoms(symbols='C40H76N12', pbc=True, cell=[[7.47704881, 0.0, 0.0], [0.0, 8.97805888156, 0.0], [-6.01884484288, 0.0, 15.4694457322]], center_atoms_mask=..., cs_iso=..., cs_tensor=...),\n",
       " Atoms(symbols='C16H28N4O20S4', pbc=True, cell=[[6.811022862, 0.0, 0.0], [0.0, 8.98803009938, 0.0], [-0.00201606276715, 0.0, 11.5630394577]], center_atoms_mask=..., cs_iso=..., cs_tensor=...),\n",
       " Atoms(symbols='C20H40N24O8', pbc=True, cell=[[12.15605837, 0.0, 0.0], [0.0, 7.3970344545, 0.0], [-4.00440012401, 0.0, 9.07918981174]], center_atoms_mask=..., cs_iso=..., cs_tensor=...),\n",
       " Atoms(symbols='C24H56N8O12', pbc=True, cell=[[8.932240892, 0.0, 0.0], [0.0, 9.90104960363, 0.0], [-2.49121984926, 0.0, 10.0922174232]], center_atoms_mask=..., cs_iso=..., cs_tensor=...),\n",
       " Atoms(symbols='C40H44N8O4', pbc=True, cell=[[8.786345966, 0.0, 0.0], [-2.91728651936, 8.50133447555, 0.0], [-0.172783493421, -1.55279334988, 12.546559372]], center_atoms_mask=..., cs_iso=..., cs_tensor=...),\n",
       " Atoms(symbols='C28H72N40O24', pbc=True, cell=[7.502555286, 13.8947023795, 14.2478026414], center_atoms_mask=..., cs_iso=..., cs_tensor=...),\n",
       " Atoms(symbols='C32H28N12', pbc=True, cell=[[17.044305702, 0.0, 0.0], [0.0, 5.73493162816, 0.0], [-0.648689230712, 0.0, 7.35981642365]], center_atoms_mask=..., cs_iso=..., cs_tensor=...),\n",
       " Atoms(symbols='O4N4C16H28', pbc=True, cell=[[9.365268886, 0.0, 0.0], [0.0, 6.08634776998, 0.0], [-4.16377981618, 0.0, 8.8085411118]], center_atoms_mask=..., cs_iso=..., cs_tensor=...),\n",
       " Atoms(symbols='C12H24N16O12', pbc=True, cell=[12.618085428, 5.18713088434, 9.87406824423], center_atoms_mask=..., cs_iso=..., cs_tensor=...),\n",
       " Atoms(symbols='C32H24N8O20', pbc=True, cell=[[5.483045652, 0.0, 0.0], [0.0, 20.2021665608, 0.0], [-0.164590064382, 0.0, 7.85734149546]], center_atoms_mask=..., cs_iso=..., cs_tensor=...),\n",
       " Atoms(symbols='C24H30N6O6', pbc=True, cell=[[7.331153884, 0.0, 0.0], [1.52104581439, 8.32190068219, 0.0], [0.967309099224, 2.07914456612, 10.0625951981]], center_atoms_mask=..., cs_iso=..., cs_tensor=...),\n",
       " Atoms(symbols='C36H32N8O8', pbc=True, cell=[[6.97512158, 0.0, 0.0], [0.0, 15.341249806, 0.0], [-1.90079038177, 0.0, 7.83299875825]], center_atoms_mask=..., cs_iso=..., cs_tensor=...),\n",
       " Atoms(symbols='C36H32N16', pbc=True, cell=[[7.331048048, 0.0, 0.0], [0.0, 14.0055934123, 0.0], [-3.08740490598, 0.0, 8.74230412143]], center_atoms_mask=..., cs_iso=..., cs_tensor=...),\n",
       " Atoms(symbols='C48H64N32O40', pbc=True, cell=[7.907060478, 17.6861333383, 12.2070939213], center_atoms_mask=..., cs_iso=..., cs_tensor=...),\n",
       " Atoms(symbols='C32H48O16', pbc=True, cell=[6.403924688, 7.74383065832, 15.8502579364], center_atoms_mask=..., cs_iso=..., cs_tensor=...),\n",
       " Atoms(symbols='C80H96O24', pbc=True, cell=[8.53514422, 25.0051303616, 8.26794299505], center_atoms_mask=..., cs_iso=..., cs_tensor=...),\n",
       " Atoms(symbols='C48H76N4O8S4', pbc=True, cell=[11.326462884, 13.6710746804, 8.37104892368], center_atoms_mask=..., cs_iso=..., cs_tensor=...),\n",
       " Atoms(symbols='C56H56N8O32', pbc=True, cell=[[24.350111864, 0.0, 0.0], [0.0, 6.97304413405, 0.0], [-0.279709734982, 0.0, 9.20780000048]], center_atoms_mask=..., cs_iso=..., cs_tensor=...),\n",
       " Atoms(symbols='O8H4O8H4N8H4C12H4C8', pbc=True, cell=[[6.06202149, 0.0, 0.0], [0.0, 28.2690975586, 0.0], [-0.113717461131, 0.0, 3.65924834212]], center_atoms_mask=..., cs_iso=..., cs_tensor=...),\n",
       " Atoms(symbols='C12H26N30O10', pbc=True, cell=[[8.274152644, 0.0, 0.0], [-2.68697315207, 8.05574811081, 0.0], [-1.6804969503, -3.16379602064, 10.7706217056]], center_atoms_mask=..., cs_iso=..., cs_tensor=...),\n",
       " Atoms(symbols='C24H16N48', pbc=True, cell=[6.858014046, 13.6700313918, 10.4790248882], center_atoms_mask=..., cs_iso=..., cs_tensor=...),\n",
       " Atoms(symbols='C40H32O20', pbc=True, cell=[[7.516419802, 0.0, 0.0], [0.0, 16.3891399752, 0.0], [-0.135288040016, 0.0, 7.10412914302]], center_atoms_mask=..., cs_iso=..., cs_tensor=...),\n",
       " Atoms(symbols='C100H20S8', pbc=True, cell=[[10.311548562, 0.0, 0.0], [1.76047006289, 10.513376502, 0.0], [0.251581161816, 5.25392991176, 13.2681891927]], center_atoms_mask=..., cs_iso=..., cs_tensor=...),\n",
       " Atoms(symbols='C16H32N24', pbc=True, cell=[[7.533036054, 0.0, 0.0], [0.0, 7.40803285372, 0.0], [-1.38863233316, 0.0, 11.9486381326]], center_atoms_mask=..., cs_iso=..., cs_tensor=...),\n",
       " Atoms(symbols='C72H88N24O8', pbc=True, cell=[[10.689277246, 0.0, 0.0], [0.0, 12.1226879461, 0.0], [-5.30091947906, 0.0, 12.7221105463]], center_atoms_mask=..., cs_iso=..., cs_tensor=...),\n",
       " Atoms(symbols='C24H40N8O20S8', pbc=True, cell=[[7.577963436, 0.0, 0.0], [0.0, 11.5017950133, 0.0], [-1.53887219088, 0.0, 11.7315967545]], center_atoms_mask=..., cs_iso=..., cs_tensor=...),\n",
       " Atoms(symbols='C28H24N8O4', pbc=True, cell=[4.301333794, 11.3334897845, 13.4103070816], center_atoms_mask=..., cs_iso=..., cs_tensor=...),\n",
       " Atoms(symbols='C14N12H24', pbc=True, cell=[[7.94405016, 0.0, 0.0], [-3.12080421726, 7.89029277257, 0.0], [-0.434746089056, 0.198315268194, 6.81230105396]], center_atoms_mask=..., cs_iso=..., cs_tensor=...),\n",
       " Atoms(symbols='C40H48N32O40', pbc=True, cell=[[10.023039626, 0.0, 0.0], [0.0, 15.9200649208, 0.0], [-5.25155156596, 0.0, 10.926546487]], center_atoms_mask=..., cs_iso=..., cs_tensor=...),\n",
       " Atoms(symbols='C56H80N16O24', pbc=True, cell=[[12.642057282, 0.0, 0.0], [0.0, 8.50364190457, 0.0], [-2.49951171345, 0.0, 16.748589391]], center_atoms_mask=..., cs_iso=..., cs_tensor=...),\n",
       " Atoms(symbols='C30H24N4O6', pbc=True, cell=[[8.226050182, 0.0, 0.0], [3.93293217437, 8.44958486965, 0.0], [2.48709691623, -0.821420466974, 10.0617344104]], center_atoms_mask=..., cs_iso=..., cs_tensor=...),\n",
       " Atoms(symbols='O4N4C24H28', pbc=True, cell=[[7.0010514, 0.0, 0.0], [0.0, 7.159051128, 0.0], [-0.997159750902, 0.0, 11.3292834028]], center_atoms_mask=..., cs_iso=..., cs_tensor=...),\n",
       " Atoms(symbols='C52H80N8O12', pbc=True, cell=[16.198411472, 10.7524731383, 7.91015407571], center_atoms_mask=..., cs_iso=..., cs_tensor=...),\n",
       " Atoms(symbols='C52H40N8O4S20', pbc=True, cell=[[8.131750306, 0.0, 0.0], [0.0, 20.8561261546, 0.0], [-1.75711673787, 0.0, 8.53730508901]], center_atoms_mask=..., cs_iso=..., cs_tensor=...),\n",
       " Atoms(symbols='S2O2C2H6C2H6', pbc=True, cell=[[5.173052008, 0.0, 0.0], [2.55258043672, 5.02488545239, 0.0], [0.74336757355, 2.0707727188, 6.52196153045]], center_atoms_mask=..., cs_iso=..., cs_tensor=...),\n",
       " Atoms(symbols='C24H48N24O16', pbc=True, cell=[7.334064374, 11.2361019857, 11.6251007601], center_atoms_mask=..., cs_iso=..., cs_tensor=...),\n",
       " Atoms(symbols='N4O4C2H2C2H2N4O4C2H2C2H2O8C2H2C2H2', pbc=True, cell=[[6.836053076, 0.0, 0.0], [1.39761054323, 7.5115439886, 0.0], [2.26414179509, 0.764045144145, 8.44500020007]], center_atoms_mask=..., cs_iso=..., cs_tensor=...),\n",
       " Atoms(symbols='C28H32N8O4', pbc=True, cell=[[14.805080532, 0.0, 0.0], [0.0, 3.90501765128, 0.0], [-4.1593097145, 0.0, 11.8439755951]], center_atoms_mask=..., cs_iso=..., cs_tensor=...),\n",
       " Atoms(symbols='C80H80O24', pbc=True, cell=[7.979028958, 8.63402744516, 23.5600857348], center_atoms_mask=..., cs_iso=..., cs_tensor=...),\n",
       " Atoms(symbols='C40H32O10', pbc=True, cell=[[9.094064136, 0.0, 0.0], [-1.93013326629, 10.2936803243, 0.0], [-2.17404516048, -2.54633795808, 7.83678248701]], center_atoms_mask=..., cs_iso=..., cs_tensor=...),\n",
       " Atoms(symbols='O2N4C8H32', pbc=True, cell=[[5.104046936, 0.0, 0.0], [-1.1268357542, 8.05867252226, 0.0], [-1.37393797851, -1.90605528778, 9.09549840875]], center_atoms_mask=..., cs_iso=..., cs_tensor=...),\n",
       " Atoms(symbols='C36H96N16O24S4', pbc=True, cell=[[10.109878064, 0.0, 0.0], [0.0, 6.37224603386, 0.0], [-2.47740539983, 0.0, 22.6700063953]], center_atoms_mask=..., cs_iso=..., cs_tensor=...),\n",
       " Atoms(symbols='O8N4C8H4C4H4C8H12', pbc=True, cell=[[8.832225872, 0.0, 0.0], [0.0, 5.93421358333, 0.0], [-2.2326012237, 0.0, 9.57662353294]], center_atoms_mask=..., cs_iso=..., cs_tensor=...),\n",
       " Atoms(symbols='C40H80N32O16', pbc=True, cell=[8.346967812, 10.2983803759, 17.8417438618], center_atoms_mask=..., cs_iso=..., cs_tensor=...),\n",
       " Atoms(symbols='C12H22N18O12', pbc=True, cell=[[6.998035074, 0.0, 0.0], [0.53380311741, 7.1832310742, 0.0], [1.25595834884, 2.45363006354, 11.7983582271]], center_atoms_mask=..., cs_iso=..., cs_tensor=...),\n",
       " Atoms(symbols='C14H26N26O10', pbc=True, cell=[[7.446832632, 0.0, 0.0], [-2.72061094011, 8.05203672, 0.0], [-1.62988081133, -1.063534296, 12.4767808396]], center_atoms_mask=..., cs_iso=..., cs_tensor=...),\n",
       " Atoms(symbols='C24H48N40O24S4', pbc=True, cell=[[6.903047264, 0.0, 0.0], [0.0, 20.2641368501, 0.0], [-1.49780938925, 0.0, 9.49971132892]], center_atoms_mask=..., cs_iso=..., cs_tensor=...),\n",
       " Atoms(symbols='S2H2S2H2C6H2C2H2C2H2C2H2S2H2S2H2C6H2C2H2C2H2C2H2', pbc=True, cell=[[7.600559422, 0.0, 0.0], [-3.25186894647, 9.48301277573, 0.0], [-3.62260143339, -2.26169086665, 9.08595955152]], center_atoms_mask=..., cs_iso=..., cs_tensor=...),\n",
       " Atoms(symbols='O6N8C12H20', pbc=True, cell=[[6.953054774, 0.0, 0.0], [-3.19205705703, 7.88872735494, 0.0], [-3.35340269306, -2.80971552806, 7.83658639719]], center_atoms_mask=..., cs_iso=..., cs_tensor=...),\n",
       " Atoms(symbols='C20H80N32O48', pbc=True, cell=[10.156075478, 10.156075478, 14.6291056447], center_atoms_mask=..., cs_iso=..., cs_tensor=...),\n",
       " Atoms(symbols='C16H40O4S4', pbc=True, cell=[[8.41554954, 0.0, 0.0], [0.0, 7.81704407226, 0.0], [-4.10705747311, 0.0, 9.31590393864]], center_atoms_mask=..., cs_iso=..., cs_tensor=...),\n",
       " Atoms(symbols='C54H48O2', pbc=True, cell=[[9.673039974, 0.0, 0.0], [-4.61094469481, 8.58856644339, 0.0], [-3.68616338113, -2.42541804308, 11.7188395633]], center_atoms_mask=..., cs_iso=..., cs_tensor=...),\n",
       " Atoms(symbols='C32H48N8O20S4', pbc=True, cell=[[6.91003244, 0.0, 0.0], [0.0, 13.833062651, 0.0], [-0.22310421739, 0.0, 12.0579927877]], center_atoms_mask=..., cs_iso=..., cs_tensor=...),\n",
       " Atoms(symbols='O4N8C4H4C4H4C4H8', pbc=True, cell=[5.102406478, 8.29221160457, 9.30641183779], center_atoms_mask=..., cs_iso=..., cs_tensor=...),\n",
       " Atoms(symbols='C40H48N16O28', pbc=True, cell=[[10.738067642, 0.0, 0.0], [0.0, 9.0000577038, 0.0], [-0.349996576723, 0.0, 13.0183822103]], center_atoms_mask=..., cs_iso=..., cs_tensor=...),\n",
       " Atoms(symbols='C36H32O8', pbc=True, cell=[7.683058584, 17.1601343965, 5.55304583746], center_atoms_mask=..., cs_iso=..., cs_tensor=...),\n",
       " Atoms(symbols='C36H40N24O8', pbc=True, cell=[[11.634075218, 0.0, 0.0], [0.0, 9.73805834565, 0.0], [-1.5435741977, 0.0, 9.62609200575]], center_atoms_mask=..., cs_iso=..., cs_tensor=...),\n",
       " Atoms(symbols='O6N12C2O2H4N2H8N2H8', pbc=True, cell=[[9.58186226, 0.0, 0.0], [0.0, 3.6516189617, 0.0], [-3.17371399962, 0.0, 10.9076374679]], center_atoms_mask=..., cs_iso=..., cs_tensor=...),\n",
       " Atoms(symbols='C28H36N4O28', pbc=True, cell=[[17.85109353, 0.0, 0.0], [0.0, 4.89302043876, 0.0], [-1.36812565923, 0.0, 9.83434593661]], center_atoms_mask=..., cs_iso=..., cs_tensor=...),\n",
       " Atoms(symbols='C32H40N16O4', pbc=True, cell=[7.589023298, 20.1170588486, 5.69901499075], center_atoms_mask=..., cs_iso=..., cs_tensor=...),\n",
       " Atoms(symbols='C64H56O20', pbc=True, cell=[[10.13406159, 0.0, 0.0], [0.0, 6.51603945738, 0.0], [-3.72128822022, 0.0, 21.8140033371]], center_atoms_mask=..., cs_iso=..., cs_tensor=...),\n",
       " Atoms(symbols='O8N12C8H20', pbc=True, cell=[12.824042284, 8.28302326315, 4.25201640394], center_atoms_mask=..., cs_iso=..., cs_tensor=...),\n",
       " Atoms(symbols='C60H40O28', pbc=True, cell=[14.799894568, 11.2379743425, 10.3512682593], center_atoms_mask=..., cs_iso=..., cs_tensor=...),\n",
       " Atoms(symbols='C64H64O16', pbc=True, cell=[12.361062702, 5.79093537676, 16.6410806626], center_atoms_mask=..., cs_iso=..., cs_tensor=...),\n",
       " Atoms(symbols='C24H48N24O24', pbc=True, cell=[7.310039602, 10.7320592007, 14.1550802749], center_atoms_mask=..., cs_iso=..., cs_tensor=...),\n",
       " Atoms(symbols='C56H48N32O8S16', pbc=True, cell=[8.86006074, 14.1580935406, 14.0340969905], center_atoms_mask=..., cs_iso=..., cs_tensor=...),\n",
       " Atoms(symbols='C8H28N36O16', pbc=True, cell=[[3.615410678, 0.0, 0.0], [0.0, 23.1600677245, 0.0], [-0.324786802847, 0.0, 10.028270676]], center_atoms_mask=..., cs_iso=..., cs_tensor=...),\n",
       " Atoms(symbols='N3O6C6H15', pbc=True, cell=[[6.975015744, 0.0, 0.0], [-3.487507872, 6.0405380097, 0.0], [0.0, 0.0, 5.47300887867]], center_atoms_mask=..., cs_iso=..., cs_tensor=...),\n",
       " Atoms(symbols='C14N4S4N2S2N2S2N2S2H10', pbc=True, cell=[[6.113034442, 0.0, 0.0], [2.93667118076, 8.14799025133, 0.0], [2.83031049451, -0.18618469, 11.7876114886]], center_atoms_mask=..., cs_iso=..., cs_tensor=...),\n",
       " Atoms(symbols='C24H44N12O24', pbc=True, cell=[[7.1545136, 0.0, 0.0], [0.0, 12.3681221325, 0.0], [-0.766448732941, 0.0, 10.4871504255]], center_atoms_mask=..., cs_iso=..., cs_tensor=...),\n",
       " Atoms(symbols='C20H24O20', pbc=True, cell=[[16.710075614, 0.0, 0.0], [0.0, 6.37502752735, 0.0], [-0.455600211616, 0.0, 5.50620385587]], center_atoms_mask=..., cs_iso=..., cs_tensor=...),\n",
       " Atoms(symbols='C28H36N12O16', pbc=True, cell=[[4.661917046, 0.0, 0.0], [0.0, 17.3256650577, 0.0], [-2.54665143897, 0.0, 10.854294839]], center_atoms_mask=..., cs_iso=..., cs_tensor=...),\n",
       " Atoms(symbols='C56H96O16', pbc=True, cell=[6.075938924, 9.23695830109, 25.7301674216], center_atoms_mask=..., cs_iso=..., cs_tensor=...),\n",
       " Atoms(symbols='C36H40O12', pbc=True, cell=[[7.357030786, 0.0, 0.0], [0.0, 15.001059343, 0.0], [-0.129888378527, 0.0, 7.31687611197]], center_atoms_mask=..., cs_iso=..., cs_tensor=...),\n",
       " Atoms(symbols='C36H36N4O20', pbc=True, cell=[[4.782040906, 0.0, 0.0], [0.0, 17.2371485861, 0.0], [-0.322797325237, 0.0, 12.2698609795]], center_atoms_mask=..., cs_iso=..., cs_tensor=...),\n",
       " Atoms(symbols='C20H36N4O20', pbc=True, cell=[[7.50271404, 0.0, 0.0], [0.0, 6.93651422226, 0.0], [-2.06911348338, 0.0, 13.6636502038]], center_atoms_mask=..., cs_iso=..., cs_tensor=...),\n",
       " Atoms(symbols='C20H36N4O24', pbc=True, cell=[5.630422282, 7.23532911011, 19.5970788821], center_atoms_mask=..., cs_iso=..., cs_tensor=...),\n",
       " Atoms(symbols='C16H88N32O36S4', pbc=True, cell=[[11.179562516, 0.0, 0.0], [0.0, 6.64684243258, 0.0], [-3.75736152513, 0.0, 20.9833680688]], center_atoms_mask=..., cs_iso=..., cs_tensor=...),\n",
       " Atoms(symbols='C20H4N28O28', pbc=True, cell=[[8.410945674, 0.0, 0.0], [0.0, 17.9446011985, 0.0], [-2.0980767546, 0.0, 6.02857895562]], center_atoms_mask=..., cs_iso=..., cs_tensor=...),\n",
       " Atoms(symbols='C24H32N32O16', pbc=True, cell=[8.713954142, 9.81985949007, 12.889079704], center_atoms_mask=..., cs_iso=..., cs_tensor=...),\n",
       " Atoms(symbols='C30H24N20O4', pbc=True, cell=[[7.152026454, 0.0, 0.0], [-2.67846966716, 11.1591924438, 0.0], [-0.329157713492, -5.84514381209, 10.3176063389]], center_atoms_mask=..., cs_iso=..., cs_tensor=...),\n",
       " Atoms(symbols='C36H36N4O24', pbc=True, cell=[[9.633033966, 0.0, 0.0], [0.0, 5.17701401311, 0.0], [-4.29642947918, 0.0, 19.2258500152]], center_atoms_mask=..., cs_iso=..., cs_tensor=...),\n",
       " Atoms(symbols='C24H36N4O24', pbc=True, cell=[[7.034019314, 0.0, 0.0], [0.0, 12.16403511, 0.0], [-3.310877721, 0.0, 9.12280651939]], center_atoms_mask=..., cs_iso=..., cs_tensor=...),\n",
       " Atoms(symbols='C32H32O12', pbc=True, cell=[[7.453024038, 0.0, 0.0], [0.0, 5.71801966615, 0.0], [-0.974386003656, 0.0, 14.7478949059]], center_atoms_mask=..., cs_iso=..., cs_tensor=...),\n",
       " Atoms(symbols='C56H72N8O16', pbc=True, cell=[12.947076634, 13.7210787693, 7.21404636508], center_atoms_mask=..., cs_iso=..., cs_tensor=...),\n",
       " Atoms(symbols='C56H64N16O24', pbc=True, cell=[7.329037164, 14.912076769, 13.8520707949], center_atoms_mask=..., cs_iso=..., cs_tensor=...),\n",
       " Atoms(symbols='C48H44N20O8', pbc=True, cell=[[15.16656339, 0.0, 0.0], [0.0, 4.19161345722, 0.0], [-4.13493600983, 0.0, 18.9137662068]], center_atoms_mask=..., cs_iso=..., cs_tensor=...),\n",
       " Atoms(symbols='C40H48O16S24', pbc=True, cell=[[13.71184757, 0.0, 0.0], [0.0, 8.95402842908, 0.0], [-2.56950425169, 0.0, 12.5643990298]], center_atoms_mask=..., cs_iso=..., cs_tensor=...),\n",
       " Atoms(symbols='C38H36N8O16', pbc=True, cell=[[7.777940558, 0.0, 0.0], [2.80026860528, 7.81053012894, 0.0], [3.20582598185, -0.491838071185, 16.5686312002]], center_atoms_mask=..., cs_iso=..., cs_tensor=...),\n",
       " Atoms(symbols='C42H60O24', pbc=True, cell=[[8.902024714, 0.0, 0.0], [0.0, 9.49603011709, 0.0], [-0.632497757954, 0.0, 14.7224622388]], center_atoms_mask=..., cs_iso=..., cs_tensor=...),\n",
       " Atoms(symbols='C40H104N8O40', pbc=True, cell=[6.498012892, 11.874020396, 20.5897401079], center_atoms_mask=..., cs_iso=..., cs_tensor=...),\n",
       " Atoms(symbols='C40H44N36O36', pbc=True, cell=[[9.509735026, 0.0, 0.0], [0.0, 11.521043984, 0.0], [-0.712754640199, 0.0, 14.6046706635]], center_atoms_mask=..., cs_iso=..., cs_tensor=...),\n",
       " Atoms(symbols='C8N16O8H24', pbc=True, cell=[[4.632018376, 0.0, 0.0], [0.0, 10.1265417337, 0.0], [-1.98347195677, 0.0, 11.063552731]], center_atoms_mask=..., cs_iso=..., cs_tensor=...),\n",
       " Atoms(symbols='C32H48N32', pbc=True, cell=[[7.816623616, 0.0, 0.0], [0.0, 14.6283420999, 0.0], [-2.69397587938, 0.0, 8.79403768282]], center_atoms_mask=..., cs_iso=..., cs_tensor=...),\n",
       " Atoms(symbols='C8H24O4', pbc=True, cell=[[5.377050898, 0.0, 0.0], [0.0, 6.88206593615, 0.0], [-1.74450350809, 0.0, 8.06864664306]], center_atoms_mask=..., cs_iso=..., cs_tensor=...),\n",
       " Atoms(symbols='C24H24N8O16', pbc=True, cell=[[7.07301988, 0.0, 0.0], [0.0, 11.6240342804, 0.0], [-0.973162659249, 0.0, 8.17329177951]], center_atoms_mask=..., cs_iso=..., cs_tensor=...),\n",
       " Atoms(symbols='C72H56N8O32', pbc=True, cell=[[12.760064422, 0.0, 0.0], [0.0, 8.05934600939, 0.0], [-4.2041349855, 0.0, 16.1279303054]], center_atoms_mask=..., cs_iso=..., cs_tensor=...),\n",
       " Atoms(symbols='O2N10C14H14', pbc=True, cell=[[7.582038122, 0.0, 0.0], [-3.65880348023, 6.92488013185, 0.0], [-0.489511545233, -3.64025023294, 7.28441279756]], center_atoms_mask=..., cs_iso=..., cs_tensor=...),\n",
       " Atoms(symbols='C48H48O24', pbc=True, cell=[10.408758928, 8.58485291856, 13.0950722497], center_atoms_mask=..., cs_iso=..., cs_tensor=...),\n",
       " Atoms(symbols='C36H44N4O24', pbc=True, cell=[[4.263021162, 0.0, 0.0], [0.0, 22.5003109535, 0.0], [-0.502802030952, 0.0, 10.0363625134]], center_atoms_mask=..., cs_iso=..., cs_tensor=...),\n",
       " Atoms(symbols='C16H36N12O24', pbc=True, cell=[[8.459048136, 0.0, 0.0], [0.0, 9.90905587223, 0.0], [-0.0762752370423, 0.0, 9.50074607776]], center_atoms_mask=..., cs_iso=..., cs_tensor=...),\n",
       " Atoms(symbols='C16H28N36O24', pbc=True, cell=[[5.82203836, 0.0, 0.0], [0.0, 23.2250541883, 0.0], [-1.39954815728, 0.0, 7.11449594369]], center_atoms_mask=..., cs_iso=..., cs_tensor=...),\n",
       " Atoms(symbols='O8N4C14H10O2H4N2H8', pbc=True, cell=[[6.812451648, 0.0, 0.0], [-1.18364303649, 6.94795131128, 0.0], [-2.7005920823, -2.56355280495, 10.0366215142]], center_atoms_mask=..., cs_iso=..., cs_tensor=...),\n",
       " Atoms(symbols='C48H32N48O32', pbc=True, cell=[20.745126032, 11.5970648252, 7.45403496019], center_atoms_mask=..., cs_iso=..., cs_tensor=...),\n",
       " Atoms(symbols='C16H48N16O8S4', pbc=True, cell=[[5.513050158, 0.0, 0.0], [0.0, 10.9520986437, 0.0], [-2.70245308305, 0.0, 14.3987197763]], center_atoms_mask=..., cs_iso=..., cs_tensor=...),\n",
       " Atoms(symbols='C4N12H12', pbc=True, cell=[[5.578033462, 0.0, 0.0], [-0.841730827449, 6.1083147911, 0.0], [-0.104543503145, -3.10828105423, 6.70926980416]], center_atoms_mask=..., cs_iso=..., cs_tensor=...),\n",
       " Atoms(symbols='C18H32N12O2', pbc=True, cell=[[4.703034332, 0.0, 0.0], [2.12693787058, 7.63326927862, 0.0], [1.05483886729, 2.92951538237, 15.5239450323]], center_atoms_mask=..., cs_iso=..., cs_tensor=...),\n",
       " Atoms(symbols='O4N2H2O2C8H4C2H2C2H2C2H4N2H6', pbc=True, cell=[[5.431609356, 0.0, 0.0], [0.0, 9.85901734265, 0.0], [-1.49918392996, 0.0, 7.54654224899]], center_atoms_mask=..., cs_iso=..., cs_tensor=...),\n",
       " Atoms(symbols='C72H48O8', pbc=True, cell=[12.851083382, 9.8680642052, 9.80605772789], center_atoms_mask=..., cs_iso=..., cs_tensor=...),\n",
       " Atoms(symbols='C6N6S6N4C6H26', pbc=True, cell=[[6.820018922, 0.0, 0.0], [-0.700204522703, 9.23050686985, 0.0], [-1.22932205073, -4.37373269483, 8.75884800124]], center_atoms_mask=..., cs_iso=..., cs_tensor=...),\n",
       " Atoms(symbols='S2O8H2S2O8H2N8C12H16', pbc=True, cell=[[7.681365208, 0.0, 0.0], [3.28274664212, 8.73221437528, 0.0], [0.291262005957, 3.35947579918, 9.02157140267]], center_atoms_mask=..., cs_iso=..., cs_tensor=...),\n",
       " Atoms(symbols='C40H36N4O16', pbc=True, cell=[[8.072058802, 0.0, 0.0], [0.0, 9.4320715572, 0.0], [-5.23762800221, 0.0, 11.1811414025]], center_atoms_mask=..., cs_iso=..., cs_tensor=...),\n",
       " Atoms(symbols='N2C2N6C8H8', pbc=True, cell=[[3.737016242, 0.0, 0.0], [0.0, 6.64702705263, 0.0], [-0.619160062023, 0.0, 10.7382115349]], center_atoms_mask=..., cs_iso=..., cs_tensor=...),\n",
       " Atoms(symbols='N2C4H4N2C2O2C2H6N2H4O2S2C2H6C2H6', pbc=True, cell=[[5.899721984, 0.0, 0.0], [1.30633414086, 7.18402066325, 0.0], [1.22504187165, 2.57686286901, 10.9090874248]], center_atoms_mask=..., cs_iso=..., cs_tensor=...),\n",
       " Atoms(symbols='O8N8C20H24', pbc=True, cell=[[3.756807574, 0.0, 0.0], [0.0, 15.499032732, 0.0], [-0.70755338168, 0.0, 9.54382777226]], center_atoms_mask=..., cs_iso=..., cs_tensor=...),\n",
       " Atoms(symbols='C28H32O16', pbc=True, cell=[[17.790079076, 0.0, 0.0], [0.0, 6.39003629339, 0.0], [-1.82597371636, 0.0, 6.53989991952]], center_atoms_mask=..., cs_iso=..., cs_tensor=...),\n",
       " Atoms(symbols='O12N8C8H12N4H16', pbc=True, cell=[17.88707777, 3.71900966163, 7.67504099078], center_atoms_mask=..., cs_iso=..., cs_tensor=...),\n",
       " Atoms(symbols='C32H52N4O24', pbc=True, cell=[[8.353847152, 0.0, 0.0], [0.0, 10.6290591931, 0.0], [-0.353501396084, 0.0, 11.772057622]], center_atoms_mask=..., cs_iso=..., cs_tensor=...),\n",
       " Atoms(symbols='C28H48O16', pbc=True, cell=[[5.641640898, 0.0, 0.0], [0.0, 9.64677152923, 0.0], [-0.652799909948, 0.0, 15.1949924956]], center_atoms_mask=..., cs_iso=..., cs_tensor=...),\n",
       " Atoms(symbols='C56H80O40', pbc=True, cell=[[25.412123206, 0.0, 0.0], [0.0, 6.29102522088, 0.0], [-2.75510616162, 0.0, 10.398259634]], center_atoms_mask=..., cs_iso=..., cs_tensor=...),\n",
       " Atoms(symbols='O12N8C8H16', pbc=True, cell=[[8.385068772, 0.0, 0.0], [0.0, 5.12604409239, 0.0], [-3.85708132471, 0.0, 10.1007041532]], center_atoms_mask=..., cs_iso=..., cs_tensor=...),\n",
       " Atoms(symbols='O2H2C2H6N2H2N2C2H2C6H2C6H2C2H6C2H6', pbc=True, cell=[[10.027061394, 0.0, 0.0], [-0.00244660298014, 7.00544655116, 0.0], [-0.555609498903, -2.8928774016, 5.85933337971]], center_atoms_mask=..., cs_iso=..., cs_tensor=...),\n",
       " Atoms(symbols='C40H40O8', pbc=True, cell=[[12.699049968, 0.0, 0.0], [0.0, 5.46042639859, 0.0], [-5.28171266839, 0.0, 11.82402193]], center_atoms_mask=..., cs_iso=..., cs_tensor=...),\n",
       " Atoms(symbols='C48H54N2O26', pbc=True, cell=[[6.94363537, 0.0, 0.0], [-2.1175240988, 10.6454956948, 0.0], [-3.30957964458, -4.41502722639, 15.416592543]], center_atoms_mask=..., cs_iso=..., cs_tensor=...),\n",
       " Atoms(symbols='C48H48N16O16S8', pbc=True, cell=[[24.179715904, 0.0, 0.0], [0.0, 4.22361605525, 0.0], [-6.42201164552, 0.0, 14.3505404904]], center_atoms_mask=..., cs_iso=..., cs_tensor=...),\n",
       " Atoms(symbols='C10H20N4O6', pbc=True, cell=[[8.367023734, 0.0, 0.0], [0.0, 6.41101439356, 0.0], [-1.26277632301, 0.0, 6.49642497184]], center_atoms_mask=..., cs_iso=..., cs_tensor=...),\n",
       " Atoms(symbols='C16N2O10H18', pbc=True, cell=[[4.470036378, 0.0, 0.0], [-0.990349969655, 9.68256367853, 0.0], [-1.86400963966, -2.72892144848, 9.99384360179]], center_atoms_mask=..., cs_iso=..., cs_tensor=...),\n",
       " Atoms(symbols='C16H12N28O8', pbc=True, cell=[5.1383378, 7.35375269582, 19.0861399479], center_atoms_mask=..., cs_iso=..., cs_tensor=...),\n",
       " Atoms(symbols='N4O4C12O4H28', pbc=True, cell=[[6.217018312, 0.0, 0.0], [1.72946258807, 6.81974580331, 0.0], [2.29192866879, 0.375389782697, 9.78755761789]], center_atoms_mask=..., cs_iso=..., cs_tensor=...),\n",
       " Atoms(symbols='S4C8N8C8H24', pbc=True, cell=[[14.445661476, 0.0, 0.0], [0.0, 5.46346473552, 0.0], [-0.354958793788, 0.0, 6.76461435598]], center_atoms_mask=..., cs_iso=..., cs_tensor=...),\n",
       " Atoms(symbols='C16H24N24O56', pbc=True, cell=[[6.124253058, 0.0, 0.0], [0.0, 18.822463076, 0.0], [-3.03274236283, 0.0, 11.3484552653]], center_atoms_mask=..., cs_iso=..., cs_tensor=...),\n",
       " Atoms(symbols='C32H56N8O16S4', pbc=True, cell=[[12.84108188, 0.0, 0.0], [0.0, 6.09893604432, 0.0], [-9.33640392574, 0.0, 12.9495376576]], center_atoms_mask=..., cs_iso=..., cs_tensor=...),\n",
       " Atoms(symbols='O8N4C12H24', pbc=True, cell=[[6.300046654, 0.0, 0.0], [-3.06580430333, 5.59516593412, 0.0], [1.85392102892, -1.50013560902, 11.6086549661]], center_atoms_mask=..., cs_iso=..., cs_tensor=...),\n",
       " Atoms(symbols='C48H44N4O16', pbc=True, cell=[[9.278060022, 0.0, 0.0], [0.0, 14.0500910234, 0.0], [-3.23367298141, 0.0, 8.33259787158]], center_atoms_mask=..., cs_iso=..., cs_tensor=...),\n",
       " Atoms(symbols='C72H72N8O16', pbc=True, cell=[[20.019091072, 0.0, 0.0], [0.0, 7.1950415031, 0.0], [-2.62204049134, 0.0, 11.1879092747]], center_atoms_mask=..., cs_iso=..., cs_tensor=...),\n",
       " Atoms(symbols='H28S4C4N12C4', pbc=True, cell=[[8.607165618, 0.0, 0.0], [0.0, 5.93374554839, 0.0], [-1.44124406124, 0.0, 9.63437058435]], center_atoms_mask=..., cs_iso=..., cs_tensor=...),\n",
       " Atoms(symbols='C36H40N8O12', pbc=True, cell=[[12.798059546, 0.0, 0.0], [0.0, 5.4360269844, 0.0], [-0.410600144414, 0.0, 13.4698040955]], center_atoms_mask=..., cs_iso=..., cs_tensor=...),\n",
       " Atoms(symbols='C72H64N16', pbc=True, cell=[[14.926103998, 0.0, 0.0], [0.0, 5.23424137171, 0.0], [-7.39280975359, 0.0, 18.1200514359]], center_atoms_mask=..., cs_iso=..., cs_tensor=...),\n",
       " Atoms(symbols='C40H48N16O24', pbc=True, cell=[7.756032506, 21.3130886964, 6.83102480124], center_atoms_mask=..., cs_iso=..., cs_tensor=...),\n",
       " Atoms(symbols='S4O16C24H16', pbc=True, cell=[[12.213686072, 0.0, 0.0], [0.0, 5.8945447447, 0.0], [-2.9381976036, 0.0, 9.25790076046]], center_atoms_mask=..., cs_iso=..., cs_tensor=...),\n",
       " Atoms(symbols='C16H32N24O8', pbc=True, cell=[[3.956996368, 0.0, 0.0], [0.0, 15.7979835255, 0.0], [-0.827411897545, 0.0, 11.4310819038]], center_atoms_mask=..., cs_iso=..., cs_tensor=...),\n",
       " Atoms(symbols='C24H36N12O12S4', pbc=True, cell=[5.494052596, 10.9441033248, 14.2651372499], center_atoms_mask=..., cs_iso=..., cs_tensor=...),\n",
       " Atoms(symbols='C24H28N20O4', pbc=True, cell=[[6.601044238, 0.0, 0.0], [0.0, 10.5980689387, 0.0], [-1.69062644502, 0.0, 10.2455203681]], center_atoms_mask=..., cs_iso=..., cs_tensor=...),\n",
       " Atoms(symbols='C64H72N8O32', pbc=True, cell=[6.430013262, 10.2400211702, 26.1300564136], center_atoms_mask=..., cs_iso=..., cs_tensor=...),\n",
       " Atoms(symbols='CN4H2', pbc=True, cell=[[3.725003856, 0.0, 0.0], [-0.957296190961, 4.67601969046, 0.0], [-1.4620863635, -1.77492708735, 4.36761917121]], center_atoms_mask=..., cs_iso=..., cs_tensor=...),\n",
       " Atoms(symbols='C40H44N12O24S4', pbc=True, cell=[6.383022078, 8.02122469432, 22.0071792638], center_atoms_mask=..., cs_iso=..., cs_tensor=...),\n",
       " Atoms(symbols='C96H60N12O12', pbc=True, cell=[[7.098050094, 0.0, 0.0], [0.0, 12.1575827893, 0.0], [-3.28162020581, 0.0, 21.0569760362]], center_atoms_mask=..., cs_iso=..., cs_tensor=...),\n",
       " Atoms(symbols='C16H38N2O16', pbc=True, cell=[[7.267017268, 0.0, 0.0], [-0.485763769279, 7.3212219498, 0.0], [-2.23287099278, -3.42089024277, 10.8624612656]], center_atoms_mask=..., cs_iso=..., cs_tensor=...),\n",
       " Atoms(symbols='C60H88N8O12', pbc=True, cell=[6.553947218, 11.5029835031, 19.5241432229], center_atoms_mask=..., cs_iso=..., cs_tensor=...),\n",
       " Atoms(symbols='O4C6N2H2N4H2N2H4O4C6N2H2N4H2N2H4O2H4', pbc=True, cell=[[6.544051552, 0.0, 0.0], [-1.17120199436, 6.84964567138, 0.0], [-3.12700959361, -1.38390984601, 11.5779650476]], center_atoms_mask=..., cs_iso=..., cs_tensor=...),\n",
       " Atoms(symbols='C4H20N28O12', pbc=True, cell=[[8.622829346, 0.0, 0.0], [0.0, 9.20142981795, 0.0], [-0.503866410004, 0.0, 7.65075192534]], center_atoms_mask=..., cs_iso=..., cs_tensor=...),\n",
       " Atoms(symbols='C16H32N16O8', pbc=True, cell=[[7.686127828, 0.0, 0.0], [0.0, 10.8182402902, 0.0], [-0.200569505672, 0.0, 7.82125764134]], center_atoms_mask=..., cs_iso=..., cs_tensor=...),\n",
       " Atoms(symbols='C40H52N12O12', pbc=True, cell=[[5.505535802, 0.0, 0.0], [0.0, 25.2008634029, 0.0], [-1.47130489326, 0.0, 7.98981523854]], center_atoms_mask=..., cs_iso=..., cs_tensor=...),\n",
       " Atoms(symbols='C56H80N16O16', pbc=True, cell=[9.461050466, 10.8930561424, 15.471078703], center_atoms_mask=..., cs_iso=..., cs_tensor=...),\n",
       " Atoms(symbols='C4H32N32O28', pbc=True, cell=[[7.369836942, 0.0, 0.0], [0.0, 13.7548720528, 0.0], [-0.797173152505, 0.0, 8.64908586856]], center_atoms_mask=..., cs_iso=..., cs_tensor=...),\n",
       " Atoms(symbols='C24H28N4O12', pbc=True, cell=[[8.790050226, 0.0, 0.0], [0.0, 5.31403365418, 0.0], [-1.60732221418, 0.0, 14.1732352053]], center_atoms_mask=..., cs_iso=..., cs_tensor=...),\n",
       " Atoms(symbols='C10O8N6H14', pbc=True, cell=[[6.324018508, 0.0, 0.0], [0.0, 11.013031595, 0.0], [-0.40020918726, 0.0, 5.11939416652]], center_atoms_mask=..., cs_iso=..., cs_tensor=...),\n",
       " Atoms(symbols='O12C16H4C4H4C4H16', pbc=True, cell=[[12.120762064, 0.0, 0.0], [0.0, 3.8065253262, 0.0], [-5.66301396849, 0.0, 11.8845041698]], center_atoms_mask=..., cs_iso=..., cs_tensor=...),\n",
       " Atoms(symbols='O4N4C4O4C8H12', pbc=True, cell=[[6.261151924, 0.0, 0.0], [0.0, 8.01106875293, 0.0], [-0.0890461026631, 0.0, 7.08550144747]], center_atoms_mask=..., cs_iso=..., cs_tensor=...),\n",
       " Atoms(symbols='C76H40N8O4', pbc=True, cell=[[10.541053928, 0.0, 0.0], [0.0, 8.86504743556, 0.0], [-2.24273571583, 0.0, 13.5649239041]], center_atoms_mask=..., cs_iso=..., cs_tensor=...),\n",
       " Atoms(symbols='C24H56N8O8', pbc=True, cell=[[9.506030766, 0.0, 0.0], [0.0, 5.12891235758, 0.0], [-2.27609548852, 0.0, 16.8410457076]], center_atoms_mask=..., cs_iso=..., cs_tensor=...),\n",
       " Atoms(symbols='C56H28N4O20', pbc=True, cell=[[7.46964029, 0.0, 0.0], [0.0, 10.1464531147, 0.0], [-0.0300130146852, 0.0, 14.5732457969]], center_atoms_mask=..., cs_iso=..., cs_tensor=...),\n",
       " Atoms(symbols='C8H28N24O4', pbc=True, cell=[[7.402328594, 0.0, 0.0], [-1.99968725337, 7.17415181509, 0.0], [-0.0938467219147, -3.70111988303, 11.2774698199]], center_atoms_mask=..., cs_iso=..., cs_tensor=...),\n",
       " Atoms(symbols='C16O2N2O4C2O2C6O2H22', pbc=True, cell=[[6.92061604, 0.0, 0.0], [0.580452829123, 8.47947788239, 0.0], [0.578667310185, 3.24615647726, 8.69136638369]], center_atoms_mask=..., cs_iso=..., cs_tensor=...),\n",
       " Atoms(symbols='C6H2C6H2N2H2C4N2O2C2H6N2O4H2', pbc=True, cell=[[11.21888059, 0.0, 0.0], [-2.23156997592, 10.9456110966, 0.0], [-0.369314330142, -0.606122461636, 3.86519605415]], center_atoms_mask=..., cs_iso=..., cs_tensor=...),\n",
       " Atoms(symbols='O10N10C4N2H2N2H4N2H2N2H4N2H2N2H4C2', pbc=True, cell=[[6.496848696, 0.0, 0.0], [1.93445618978, 7.80799722189, 0.0], [0.675081051153, 3.81047322554, 10.3118632188]], center_atoms_mask=..., cs_iso=..., cs_tensor=...),\n",
       " Atoms(symbols='C52H40N24O4', pbc=True, cell=[15.70209355, 12.5290772938, 6.47604584701], center_atoms_mask=..., cs_iso=..., cs_tensor=...),\n",
       " Atoms(symbols='C40H24N24O8S8', pbc=True, cell=[[12.668092938, 0.0, 0.0], [0.0, 6.21534643817, 0.0], [-1.68865678864, 0.0, 16.3129566381]], center_atoms_mask=..., cs_iso=..., cs_tensor=...),\n",
       " Atoms(symbols='C48H28N4O20', pbc=True, cell=[[12.12907019, 0.0, 0.0], [0.0, 5.13852910227, 0.0], [-2.98111925851, 0.0, 16.5517779569]], center_atoms_mask=..., cs_iso=..., cs_tensor=...),\n",
       " Atoms(symbols='C12H8N28O26', pbc=True, cell=[[7.313743862, 0.0, 0.0], [-2.40314995818, 9.9983120565, 0.0], [-0.757265039471, -4.67652484526, 11.4181949761]], center_atoms_mask=..., cs_iso=..., cs_tensor=...),\n",
       " Atoms(symbols='C40H40N40', pbc=True, cell=[17.585074744, 17.585074744, 3.74651775928], center_atoms_mask=..., cs_iso=..., cs_tensor=...),\n",
       " Atoms(symbols='C44H84N20', pbc=True, cell=[[9.970068708, 0.0, 0.0], [0.0, 10.0960704363, 0.0], [-3.62863641648, 0.0, 13.5744778575]], center_atoms_mask=..., cs_iso=..., cs_tensor=...),\n",
       " Atoms(symbols='C16H20N28O12', pbc=True, cell=[[6.113510704, 0.0, 0.0], [0.0, 11.8540177794, 0.0], [-1.08507478783, 0.0, 10.516186005]], center_atoms_mask=..., cs_iso=..., cs_tensor=...),\n",
       " Atoms(symbols='C28H40O24', pbc=True, cell=[[11.731179748, 0.0, 0.0], [0.0, 6.40074283174, 0.0], [-4.73845812381, 0.0, 10.1825349783]], center_atoms_mask=..., cs_iso=..., cs_tensor=...),\n",
       " Atoms(symbols='C24H30N10O16', pbc=True, cell=[[7.068945194, 0.0, 0.0], [-1.84045643282, 8.35351391465, 0.0], [-3.40971985222, -0.850768760933, 12.5925058655]], center_atoms_mask=..., cs_iso=..., cs_tensor=...),\n",
       " Atoms(symbols='C8H16O8', pbc=True, cell=[13.310094114, 4.0900322001, 5.76904733221], center_atoms_mask=..., cs_iso=..., cs_tensor=...),\n",
       " Atoms(symbols='C84H56N16O32', pbc=True, cell=[[9.119041432, 0.0, 0.0], [0.0, 13.2110562509, 0.0], [-3.09297823482, 0.0, 15.7359820378]], center_atoms_mask=..., cs_iso=..., cs_tensor=...),\n",
       " Atoms(symbols='O12N4H4C8H8C8H8', pbc=True, cell=[[5.379008864, 0.0, 0.0], [0.0, 9.21801286925, 0.0], [-0.389633886073, 0.0, 9.78626212366]], center_atoms_mask=..., cs_iso=..., cs_tensor=...),\n",
       " Atoms(symbols='C32H28N20', pbc=True, cell=[11.986562016, 3.73152463464, 17.5501966951], center_atoms_mask=..., cs_iso=..., cs_tensor=...),\n",
       " Atoms(symbols='N14C2N2C2H4N12C2N4C2H4', pbc=True, cell=[[6.851240542, 0.0, 0.0], [0.0, 7.92704973687, 0.0], [-0.282483498787, 0.0, 9.77687783197]], center_atoms_mask=..., cs_iso=..., cs_tensor=...),\n",
       " Atoms(symbols='C28H32O20', pbc=True, cell=[[6.388049288, 0.0, 0.0], [0.0, 15.5941226389, 0.0], [-2.58302689375, 0.0, 7.43833402364]], center_atoms_mask=..., cs_iso=..., cs_tensor=...),\n",
       " Atoms(symbols='C36H48N8O16', pbc=True, cell=[[14.932083732, 0.0, 0.0], [0.0, 8.9760488334, 0.0], [-6.21265768962, 0.0, 7.96329518636]], center_atoms_mask=..., cs_iso=..., cs_tensor=...),\n",
       " Atoms(symbols='C36H24N8O8', pbc=True, cell=[[9.094804988, 0.0, 0.0], [-3.03228074144, 6.80901674517, 0.0], [-2.15244021209, -1.82960191944, 12.4432939093]], center_atoms_mask=..., cs_iso=..., cs_tensor=...),\n",
       " Atoms(symbols='O4N12C16H20', pbc=True, cell=[5.23702987, 5.28802806687, 17.4950995463], center_atoms_mask=..., cs_iso=..., cs_tensor=...),\n",
       " Atoms(symbols='S2O4C2H6N4C2H6C2H2C4H2', pbc=True, cell=[[6.586333034, 0.0, 0.0], [0.0, 7.48063850602, 0.0], [-1.30608959964, 0.0, 7.69265256639]], center_atoms_mask=..., cs_iso=..., cs_tensor=...),\n",
       " Atoms(symbols='C20H24N40O4', pbc=True, cell=[[15.60710574, 0.0, 0.0], [0.0, 3.67061959188, 0.0], [-8.82414833566, 0.0, 15.8343608067]], center_atoms_mask=..., cs_iso=..., cs_tensor=...),\n",
       " Atoms(symbols='O16N4C16H20', pbc=True, cell=[[5.356042452, 0.0, 0.0], [0.0, 6.68805271752, 0.0], [-2.04292849225, 0.0, 16.6623588419]], center_atoms_mask=..., cs_iso=..., cs_tensor=...),\n",
       " Atoms(symbols='C60H48N24', pbc=True, cell=[8.183027848, 17.1280592492, 9.17303510613], center_atoms_mask=..., cs_iso=..., cs_tensor=...),\n",
       " Atoms(symbols='C48H84N12O24', pbc=True, cell=[[11.535436066, 0.0, 0.0], [0.0, 12.7225362561, 0.0], [-5.23130872049, 0.0, 10.6755961971]], center_atoms_mask=..., cs_iso=..., cs_tensor=...),\n",
       " Atoms(symbols='C24H8N56O8', pbc=True, cell=[[5.816905314, 0.0, 0.0], [0.0, 9.81100772809, 0.0], [-0.934538190842, 0.0, 19.7509238948]], center_atoms_mask=..., cs_iso=..., cs_tensor=...),\n",
       " Atoms(symbols='C60H24N16O32S20', pbc=True, cell=[10.13406159, 20.4881235231, 9.65605817292], center_atoms_mask=..., cs_iso=..., cs_tensor=...),\n",
       " Atoms(symbols='C28H32O12', pbc=True, cell=[[8.486036316, 0.0, 0.0], [0.0, 6.6640249167, 0.0], [2.46848613189, 0.0, 11.0343081613]], center_atoms_mask=..., cs_iso=..., cs_tensor=...),\n",
       " Atoms(symbols='C28H48N16O8', pbc=True, cell=[[7.928016006, 0.0, 0.0], [-2.32953651114, 9.00766115371, 0.0], [-0.11364018143, -1.97401256137, 12.6129819286]], center_atoms_mask=..., cs_iso=..., cs_tensor=...),\n",
       " Atoms(symbols='C12H12N12O16', pbc=True, cell=[7.01004746, 5.82403856038, 14.2250967479], center_atoms_mask=..., cs_iso=..., cs_tensor=...),\n",
       " Atoms(symbols='O10N4C22H20', pbc=True, cell=[[7.403863216, 0.0, 0.0], [2.14295936151, 7.25728893591, 0.0], [3.24338814744, -0.942844961242, 10.2089500649]], center_atoms_mask=..., cs_iso=..., cs_tensor=...),\n",
       " Atoms(symbols='C32H32N16O12', pbc=True, cell=[[6.845842906, 0.0, 0.0], [0.0, 17.9415097838, 0.0], [-2.85224514251, 0.0, 6.77991743882]], center_atoms_mask=..., cs_iso=..., cs_tensor=...),\n",
       " Atoms(symbols='C12H28N12O20', pbc=True, cell=[[9.728074694, 0.0, 0.0], [0.0, 7.37945480485, 0.0], [-6.89434490409, 0.0, 9.55361140244]], center_atoms_mask=..., cs_iso=..., cs_tensor=...),\n",
       " Atoms(symbols='C56H80N16O12', pbc=True, cell=[27.12153336, 7.13274630141, 7.47762371962], center_atoms_mask=..., cs_iso=..., cs_tensor=...),\n",
       " Atoms(symbols='O4N4O4C4N4C4O4H16', pbc=True, cell=[4.784739724, 7.99706564776, 11.2400952463], center_atoms_mask=..., cs_iso=..., cs_tensor=...),\n",
       " Atoms(symbols='C48H40N40O56', pbc=True, cell=[12.427051448, 11.8390530817, 13.5880611566], center_atoms_mask=..., cs_iso=..., cs_tensor=...),\n",
       " Atoms(symbols='C20H32N8O8', pbc=True, cell=[[9.243028306, 0.0, 0.0], [0.0, 7.15302247453, 0.0], [-0.231316026386, 0.0, 8.89902127851]], center_atoms_mask=..., cs_iso=..., cs_tensor=...),\n",
       " Atoms(symbols='C48H72N8O8', pbc=True, cell=[[11.927875954, 0.0, 0.0], [0.0, 9.36616181899, 0.0], [-5.58107701463, 0.0, 10.054447973]], center_atoms_mask=..., cs_iso=..., cs_tensor=...),\n",
       " Atoms(symbols='C68H84N4', pbc=True, cell=[6.480020772, 7.14102177087, 29.6740952017], center_atoms_mask=..., cs_iso=..., cs_tensor=...),\n",
       " Atoms(symbols='C12H8N24O24', pbc=True, cell=[[6.459859014, 0.0, 0.0], [-0.187781641678, 9.70057002569, 0.0], [-0.0634745746716, -2.15710196139, 11.3797909968]], center_atoms_mask=..., cs_iso=..., cs_tensor=...),\n",
       " Atoms(symbols='C64H56N24', pbc=True, cell=[7.514038492, 11.4922560031, 15.9890849369], center_atoms_mask=..., cs_iso=..., cs_tensor=...),\n",
       " Atoms(symbols='C32H48N8O16', pbc=True, cell=[7.190021578, 8.40202194534, 15.290048237], center_atoms_mask=..., cs_iso=..., cs_tensor=...),\n",
       " Atoms(symbols='C12H28N4O20', pbc=True, cell=[[4.241801044, 0.0, 0.0], [0.0, 9.02580182285, 0.0], [-1.07463484369, 0.0, 14.1763323881]], center_atoms_mask=..., cs_iso=..., cs_tensor=...),\n",
       " Atoms(symbols='C12O12H16', pbc=True, cell=[[11.867073172, 0.0, 0.0], [0.0, 5.24703827007, 0.0], [-2.99845337837, 0.0, 6.31759067507]], center_atoms_mask=..., cs_iso=..., cs_tensor=...),\n",
       " Atoms(symbols='C16H32N8O8S8', pbc=True, cell=[[5.755044172, 0.0, 0.0], [0.0, 14.4331098092, 0.0], [-0.642262929595, 0.0, 9.6697690939]], center_atoms_mask=..., cs_iso=..., cs_tensor=...),\n",
       " Atoms(symbols='S8C4H8C4H8C8H8C4H8', pbc=True, cell=[[5.801347422, 0.0, 0.0], [0.0, 19.2533551878, 0.0], [-1.96219553989, 0.0, 5.47749300351]], center_atoms_mask=..., cs_iso=..., cs_tensor=...),\n",
       " Atoms(symbols='C36H60N12O12', pbc=True, cell=[7.9350541, 8.25705859538, 16.9981158156], center_atoms_mask=..., cs_iso=..., cs_tensor=...),\n",
       " Atoms(symbols='C36H28N4O12', pbc=True, cell=[[7.648132704, 0.0, 0.0], [0.0, 8.82473673545, 0.0], [-0.740216875624, 0.0, 11.7034632927]], center_atoms_mask=..., cs_iso=..., cs_tensor=...),\n",
       " Atoms(symbols='C16H56N56O16', pbc=True, cell=[[6.541035226, 0.0, 0.0], [0.0, 19.1571027054, 0.0], [-1.16585449558, 0.0, 10.6625088167]], center_atoms_mask=..., cs_iso=..., cs_tensor=...),\n",
       " Atoms(symbols='C40H88N16S8', pbc=True, cell=[[12.787052602, 0.0, 0.0], [0.0, 6.2500299967, 0.0], [-2.53860076602, 0.0, 17.5948820839]], center_atoms_mask=..., cs_iso=..., cs_tensor=...),\n",
       " Atoms(symbols='C40H88N16O24', pbc=True, cell=[[7.521023668, 0.0, 0.0], [0.0, 11.9570362427, 0.0], [-0.792542911063, 0.0, 16.2046847797]], center_atoms_mask=..., cs_iso=..., cs_tensor=...),\n",
       " Atoms(symbols='C56H48N16', pbc=True, cell=[9.782051054, 7.8590367655, 12.9670673131], center_atoms_mask=..., cs_iso=..., cs_tensor=...),\n",
       " Atoms(symbols='C60H64N24O16', pbc=True, cell=[[35.228200534, 0.0, 0.0], [0.0, 3.82373934236, 0.0], [-2.00589373841, 0.0, 11.6334086623]], center_atoms_mask=..., cs_iso=..., cs_tensor=...),\n",
       " Atoms(symbols='C16H44N4O24', pbc=True, cell=[[8.630026194, 0.0, 0.0], [0.0, 13.7260394015, 0.0], [-3.73951117023, 0.0, 6.32065707456]], center_atoms_mask=..., cs_iso=..., cs_tensor=...),\n",
       " Atoms(symbols='C28H48N24O12S4', pbc=True, cell=[[7.748465232, 0.0, 0.0], [-0.158541347112, 9.58127170105, 0.0], [-3.18791230808, -2.62826390976, 16.85215253]], center_atoms_mask=..., cs_iso=..., cs_tensor=...),\n",
       " Atoms(symbols='N4C4N4C12N4O8C4H20', pbc=True, cell=[15.35706819, 6.08003222417, 6.09902891752], center_atoms_mask=..., cs_iso=..., cs_tensor=...),\n",
       " Atoms(symbols='C64H16S24', pbc=True, cell=[19.71513008, 3.90201854543, 17.8461160333], center_atoms_mask=..., cs_iso=..., cs_tensor=...),\n",
       " Atoms(symbols='C40H72N8O24', pbc=True, cell=[[8.568059216, 0.0, 0.0], [0.0, 5.91603925523, 0.0], [-1.10104701761, 0.0, 26.3802146563]], center_atoms_mask=..., cs_iso=..., cs_tensor=...),\n",
       " Atoms(symbols='C40H64N16O24', pbc=True, cell=[[12.494045636, 0.0, 0.0], [0.0, 6.19302355276, 0.0], [-1.48149395533, 0.0, 16.7516790495]], center_atoms_mask=..., cs_iso=..., cs_tensor=...),\n",
       " Atoms(symbols='C16H8N24O32', pbc=True, cell=[15.098087498, 5.42312734267, 11.6910681713], center_atoms_mask=..., cs_iso=..., cs_tensor=...),\n",
       " Atoms(symbols='C32H28N12O16', pbc=True, cell=[18.65412418, 3.85261761277, 12.0746840028], center_atoms_mask=..., cs_iso=..., cs_tensor=...),\n",
       " Atoms(symbols='N16C8H16', pbc=True, cell=[[4.586032634, 0.0, 0.0], [0.0, 12.8430926709, 0.0], [-6.78232493672, 0.0, 7.02820966242]], center_atoms_mask=..., cs_iso=..., cs_tensor=...),\n",
       " Atoms(symbols='C22H28N12', pbc=True, cell=[[10.717059196, 0.0, 0.0], [1.48891031704, 7.6179000177, 0.0], [0.924850057437, 2.27028038596, 7.00127258274]], center_atoms_mask=..., cs_iso=..., cs_tensor=...),\n",
       " Atoms(symbols='C32H28N4O8', pbc=True, cell=[[6.91505965, 0.0, 0.0], [0.0, 15.502132318, 0.0], [-2.72938787397, 0.0, 6.47208092882]], center_atoms_mask=..., cs_iso=..., cs_tensor=...),\n",
       " Atoms(symbols='C48H32N16O32', pbc=True, cell=[[7.969027456, 0.0, 0.0], [0.0, 11.9520430068, 0.0], [-2.90471847674, 0.0, 14.0386930011]], center_atoms_mask=..., cs_iso=..., cs_tensor=...),\n",
       " Atoms(symbols='C40H96O32', pbc=True, cell=[12.987347232, 12.987347232, 8.36792964444], center_atoms_mask=..., cs_iso=..., cs_tensor=...),\n",
       " Atoms(symbols='C12H28N28O8', pbc=True, cell=[[8.624469804, 0.0, 0.0], [0.0, 6.87155494081, 0.0], [-1.73153480255, 0.0, 11.9231225168]], center_atoms_mask=..., cs_iso=..., cs_tensor=...),\n",
       " Atoms(symbols='C48H76N12O12', pbc=True, cell=[[6.749055884, 0.0, 0.0], [0.0, 21.574180518, 0.0], [-2.66315720466, 0.0, 9.43024656598]], center_atoms_mask=..., cs_iso=..., cs_tensor=...),\n",
       " Atoms(symbols='C36H32N8O4', pbc=True, cell=[[14.5074697, 0.0, 0.0], [0.0, 4.33732723115, 0.0], [-1.58327270571, 0.0, 12.7384433523]], center_atoms_mask=..., cs_iso=..., cs_tensor=...),\n",
       " Atoms(symbols='C72H60N12O24', pbc=True, cell=[[12.444091044, 0.0, 0.0], [0.0, 13.8331004863, 0.0], [-0.485879534813, 0.0, 10.9963454919]], center_atoms_mask=..., cs_iso=..., cs_tensor=...),\n",
       " Atoms(symbols='C40H60N4O16', pbc=True, cell=[[7.681735634, 0.0, 0.0], [0.0, 7.83853522176, 0.0], [-2.4204995348, 0.0, 17.8836259592]], center_atoms_mask=..., cs_iso=..., cs_tensor=...),\n",
       " Atoms(symbols='C40H64O16', pbc=True, cell=[[10.706158088, 0.0, 0.0], [0.0, 14.9744784884, 0.0], [-0.0758424238954, 0.0, 6.26097195602]], center_atoms_mask=..., cs_iso=..., cs_tensor=...),\n",
       " Atoms(symbols='C28H44N4O16', pbc=True, cell=[5.881518192, 8.99022992149, 15.9025488733], center_atoms_mask=..., cs_iso=..., cs_tensor=...),\n",
       " Atoms(symbols='C32H48O4S24', pbc=True, cell=[[13.301045136, 0.0, 0.0], [0.0, 12.7100397975, 0.0], [-0.514564232131, 0.0, 8.08867147124]], center_atoms_mask=..., cs_iso=..., cs_tensor=...),\n",
       " Atoms(symbols='C16H24N24O4', pbc=True, cell=[[3.871639634, 0.0, 0.0], [0.0, 15.8020623214, 0.0], [-0.33913627374, 0.0, 10.8822265878]], center_atoms_mask=..., cs_iso=..., cs_tensor=...),\n",
       " Atoms(symbols='C20H48N8S8', pbc=True, cell=[[11.057057346, 0.0, 0.0], [0.0, 11.8660580038, 0.0], [-0.71041593448, 0.0, 6.55012337237]], center_atoms_mask=..., cs_iso=..., cs_tensor=...),\n",
       " Atoms(symbols='C12H32N24O16', pbc=True, cell=[[10.599157892, 0.0, 0.0], [0.0, 5.34682999188, 0.0], [-5.07708142353, 0.0, 14.0559460486]], center_atoms_mask=..., cs_iso=..., cs_tensor=...),\n",
       " Atoms(symbols='C34H28N4O12', pbc=True, cell=[[6.428055296, 0.0, 0.0], [-2.19431952417, 9.66614958303, 0.0], [-0.573684651002, -1.18563551518, 12.3852683977]], center_atoms_mask=..., cs_iso=..., cs_tensor=...),\n",
       " Atoms(symbols='C36H40N8O8', pbc=True, cell=[[5.984020358, 0.0, 0.0], [0.0, 11.7030383744, 0.0], [-1.98847799692, 0.0, 12.4006255477]], center_atoms_mask=..., cs_iso=..., cs_tensor=...),\n",
       " Atoms(symbols='C20H60N12O12', pbc=True, cell=[[10.058759276, 0.0, 0.0], [0.0, 6.59233983058, 0.0], [-0.277088641776, 0.0, 13.4181233464]], center_atoms_mask=..., cs_iso=..., cs_tensor=...),\n",
       " Atoms(symbols='C64H112N8', pbc=True, cell=[[11.361970862, 0.0, 0.0], [0.0, 11.4620698253, 0.0], [-1.67652697251, 0.0, 12.6373520913]], center_atoms_mask=..., cs_iso=..., cs_tensor=...),\n",
       " Atoms(symbols='C8H44N44O16', pbc=True, cell=[22.429135546, 3.63103032441, 12.3070685363], center_atoms_mask=..., cs_iso=..., cs_tensor=...),\n",
       " Atoms(symbols='N12O8C8O4C8H20', pbc=True, cell=[6.743023232, 6.30602138238, 13.6120465961], center_atoms_mask=..., cs_iso=..., cs_tensor=...),\n",
       " Atoms(symbols='C40H80N32O8', pbc=True, cell=[[6.651051748, 0.0, 0.0], [0.0, 10.5880819708, 0.0], [-1.61644501263, 0.0, 19.9598062957]], center_atoms_mask=..., cs_iso=..., cs_tensor=...),\n",
       " Atoms(symbols='C28H24N16O20', pbc=True, cell=[[13.968076526, 0.0, 0.0], [0.0, 7.60804811372, 0.0], [-0.632963387776, 0.0, 8.63989786285]], center_atoms_mask=..., cs_iso=..., cs_tensor=...),\n",
       " Atoms(symbols='C40H48N16O4', pbc=True, cell=[6.799010476, 8.88801324376, 15.767027676], center_atoms_mask=..., cs_iso=..., cs_tensor=...),\n",
       " Atoms(symbols='C32H56N8O8', pbc=True, cell=[12.80906649, 17.3160902433, 3.91802444889], center_atoms_mask=..., cs_iso=..., cs_tensor=...),\n",
       " Atoms(symbols='O2N16C4N4H10N4H10', pbc=True, cell=[[3.654940424, 0.0, 0.0], [-0.485328574082, 8.4222217617, 0.0], [-1.64373635689, -3.46007362035, 13.8167676299]], center_atoms_mask=..., cs_iso=..., cs_tensor=...),\n",
       " Atoms(symbols='C24H32N8', pbc=True, cell=[[7.287020272, 0.0, 0.0], [0.0, 10.7250291493, 0.0], [-0.0481234818763, 0.0, 7.45186724459]], center_atoms_mask=..., cs_iso=..., cs_tensor=...),\n",
       " Atoms(symbols='C40H32N8O8', pbc=True, cell=[[19.917118086, 0.0, 0.0], [0.0, 4.83243060985, 0.0], [-2.37509641464, 0.0, 9.60166420402]], center_atoms_mask=..., cs_iso=..., cs_tensor=...),\n",
       " Atoms(symbols='C16H24N16O8', pbc=True, cell=[[6.640044804, 0.0, 0.0], [0.0, 24.7901690328, 0.0], [-0.217594268227, 0.0, 3.77375658359]], center_atoms_mask=..., cs_iso=..., cs_tensor=...),\n",
       " Atoms(symbols='S10O4C8H2C2H2C10H2C2H2C2', pbc=True, cell=[[7.253258588, 0.0, 0.0], [0.694129593613, 7.67172083572, 0.0], [0.864233014019, -0.0686738523112, 10.8334525205]], center_atoms_mask=..., cs_iso=..., cs_tensor=...),\n",
       " Atoms(symbols='O8N2C14H10', pbc=True, cell=[[4.947250902, 0.0, 0.0], [2.45097198912, 7.06363536537, 0.0], [0.595446171314, 3.75246507291, 9.64804955307]], center_atoms_mask=..., cs_iso=..., cs_tensor=...),\n",
       " Atoms(symbols='C18H38N2O8', pbc=True, cell=[[7.315013894, 0.0, 0.0], [0.0, 8.27901568501, 0.0], [-3.52427128393, 0.0, 9.63573862694]], center_atoms_mask=..., cs_iso=..., cs_tensor=...),\n",
       " Atoms(symbols='C28H12N24O38', pbc=True, cell=[[9.673357482, 0.0, 0.0], [2.92655822589, 10.914207413, 0.0], [3.00713729371, 1.96681606331, 10.8249803636]], center_atoms_mask=..., cs_iso=..., cs_tensor=...),\n",
       " Atoms(symbols='C36H40N16', pbc=True, cell=[[14.907053518, 0.0, 0.0], [0.0, 4.9488138128, 0.0], [-4.02248950719, 0.0, 12.1557928137]], center_atoms_mask=..., cs_iso=..., cs_tensor=...),\n",
       " Atoms(symbols='C24H36N4O12', pbc=True, cell=[[8.423063896, 0.0, 0.0], [0.0, 10.2400788166, 0.0], [-1.63599485439, 0.0, 7.97702897045]], center_atoms_mask=..., cs_iso=..., cs_tensor=...),\n",
       " Atoms(symbols='N2O4N2C2H4C2H4N2H6', pbc=True, cell=[[4.344938226, 0.0, 0.0], [-0.69695416108, 6.25685877334, 0.0], [-0.408845652252, -2.30514180173, 8.2162477708]], center_atoms_mask=..., cs_iso=..., cs_tensor=...),\n",
       " Atoms(symbols='C6H12O4', pbc=True, cell=[[6.947022122, 0.0, 0.0], [-3.3462346687, 5.50358375954, 0.0], [-1.28519214555, -0.911310361964, 4.59227339757]], center_atoms_mask=..., cs_iso=..., cs_tensor=...),\n",
       " Atoms(symbols='C12H12N20O20', pbc=True, cell=[[11.970686616, 0.0, 0.0], [0.0, 5.23633744644, 0.0], [-3.83987305787, 0.0, 10.4269109579]], center_atoms_mask=..., cs_iso=..., cs_tensor=...),\n",
       " Atoms(symbols='C24H32N64', pbc=True, cell=[9.742045046, 6.87103514481, 17.995086701], center_atoms_mask=..., cs_iso=..., cs_tensor=...),\n",
       " Atoms(symbols='C24H24N16O4', pbc=True, cell=[[3.911910232, 0.0, 0.0], [0.0, 14.7110396445, 0.0], [0.884193422098, 0.0, 11.6776036219]], center_atoms_mask=..., cs_iso=..., cs_tensor=...),\n",
       " Atoms(symbols='C48H44N12O24', pbc=True, cell=[[8.203030852, 0.0, 0.0], [0.0, 11.9690423162, 0.0], [-3.8427836299, 0.0, 11.7085632745]], center_atoms_mask=..., cs_iso=..., cs_tensor=...),\n",
       " Atoms(symbols='C20H36N12O24', pbc=True, cell=[[7.516313966, 0.0, 0.0], [0.0, 12.1990226647, 0.0], [-1.30957489861, 0.0, 9.64148409306]], center_atoms_mask=..., cs_iso=..., cs_tensor=...),\n",
       " Atoms(symbols='N2C2O2N2C2N2C4H12C2O4C6O4H6', pbc=True, cell=[[7.62204413, 0.0, 0.0], [-0.292633140283, 7.97668259928, 0.0], [-0.801191168725, -2.3499143155, 7.90954763458]], center_atoms_mask=..., cs_iso=..., cs_tensor=...),\n",
       " Atoms(symbols='N2H2N2H2C2H4C4H2C2H2C2H2C4H2C2H2C2H2', pbc=True, cell=[[6.043553108, 0.0, 0.0], [0.0, 7.27806365782, 0.0], [-1.68251914171, 0.0, 8.85871266834]], center_atoms_mask=..., cs_iso=..., cs_tensor=...),\n",
       " Atoms(symbols='C4N8H4O4C4N4C4H4C4H4C8H8', pbc=True, cell=[[6.208445596, 0.0, 0.0], [0.0, 5.18954033857, 0.0], [-1.03392348733, 0.0, 18.5162916496]], center_atoms_mask=..., cs_iso=..., cs_tensor=...),\n",
       " Atoms(symbols='C18H40N8O4', pbc=True, cell=[[5.678207236, 0.0, 0.0], [0.50469041555, 10.5262208266, 0.0], [0.447136107006, 3.62258265242, 10.2806724329]], center_atoms_mask=..., cs_iso=..., cs_tensor=...),\n",
       " Atoms(symbols='C24H32N16', pbc=True, cell=[13.074079834, 8.52105767997, 5.10202891442], center_atoms_mask=..., cs_iso=..., cs_tensor=...),\n",
       " Atoms(symbols='C20H40N16O12', pbc=True, cell=[[10.39203684, 0.0, 0.0], [0.0, 6.4785204705, 0.0], [-1.54002711543, 0.0, 11.7515646676]], center_atoms_mask=..., cs_iso=..., cs_tensor=...),\n",
       " Atoms(symbols='O10N2H4N4H4N2C4H4C2H2C6H2C2H2C2H2', pbc=True, cell=[[5.452035704, 0.0, 0.0], [-1.00134268554, 6.04405045295, 0.0], [-0.72142972046, -2.7171146777, 15.3064811983]], center_atoms_mask=..., cs_iso=..., cs_tensor=...),\n",
       " Atoms(symbols='C96H48O12', pbc=True, cell=[[7.913516474, 0.0, 0.0], [0.0, 17.8413394313, 0.0], [-2.70461835235, 0.0, 12.1066989292]], center_atoms_mask=..., cs_iso=..., cs_tensor=...),\n",
       " Atoms(symbols='C30H34N6O6', pbc=True, cell=[[8.61875466, 0.0, 0.0], [1.1751844354, 8.76673867751, 0.0], [0.87354525981, 1.10753583007, 8.94613805576]], center_atoms_mask=..., cs_iso=..., cs_tensor=...),\n",
       " Atoms(symbols='C42H44N4O16', pbc=True, cell=[[7.421537828, 0.0, 0.0], [-2.76182140116, 11.5535458076, 0.0], [-1.04352016938, -6.18663846265, 11.9784362698]], center_atoms_mask=..., cs_iso=..., cs_tensor=...),\n",
       " Atoms(symbols='C64H72N40', pbc=True, cell=[[23.320115912, 0.0, 0.0], [0.0, 3.87001987583, 0.0], [-0.534613657283, 0.0, 18.2272591181]], center_atoms_mask=..., cs_iso=..., cs_tensor=...),\n",
       " Atoms(symbols='C44H72N16O4S4', pbc=True, cell=[9.797026848, 10.290032833, 13.8560428384], center_atoms_mask=..., cs_iso=..., cs_tensor=...),\n",
       " Atoms(symbols='C52H76N12O40', pbc=True, cell=[[15.291873214, 0.0, 0.0], [0.0, 10.7293440463, 0.0], [-1.13623205542, 0.0, 10.6549337912]], center_atoms_mask=..., cs_iso=..., cs_tensor=...),\n",
       " Atoms(symbols='C20H26N22O24', pbc=True, cell=[[10.432042848, 0.0, 0.0], [0.0, 7.92303222263, 0.0], [-4.85980888891, 0.0, 11.1805210583]], center_atoms_mask=..., cs_iso=..., cs_tensor=...),\n",
       " Atoms(symbols='S8O4N4C12H20', pbc=True, cell=[[9.749030222, 0.0, 0.0], [0.0, 5.41701939576, 0.0], [-0.361074832332, 0.0, 11.0591438994]], center_atoms_mask=..., cs_iso=..., cs_tensor=...),\n",
       " Atoms(symbols='C12N8O8H24', pbc=True, cell=[[3.915032394, 0.0, 0.0], [0.0, 12.0090995614, 0.0], [-0.977301706449, 0.0, 10.22448294]], center_atoms_mask=..., cs_iso=..., cs_tensor=...),\n",
       " Atoms(symbols='N2C2O2C2H2O2H2C2H2O2H2C2O2C2H4C2O4H2', pbc=True, cell=[[4.624027758, 0.0, 0.0], [0.0, 11.5054688752, 0.0], [-1.94913867666, 0.0, 7.15428187509]], center_atoms_mask=..., cs_iso=..., cs_tensor=...),\n",
       " Atoms(symbols='C32H48O16', pbc=True, cell=[[10.12824061, 0.0, 0.0], [0.0, 10.2303434036, 0.0], [-0.477212312821, 0.0, 8.29957663962]], center_atoms_mask=..., cs_iso=..., cs_tensor=...),\n",
       " Atoms(symbols='C60H100N8O24', pbc=True, cell=[[8.714853748, 0.0, 0.0], [2.38992663244, 11.2312067638, 0.0], [2.41619320163, 1.98401488942, 16.6787136891]], center_atoms_mask=..., cs_iso=..., cs_tensor=...),\n",
       " Atoms(symbols='C16H36N12O8', pbc=True, cell=[[9.845076392, 0.0, 0.0], [0.0, 5.83734269434, 0.0], [-3.16238621326, 0.0, 11.2332420083]], center_atoms_mask=..., cs_iso=..., cs_tensor=...),\n",
       " Atoms(symbols='C48H108N12O12', pbc=True, cell=[[6.052019988, 0.0, 0.0], [0.0, 12.8560397716, 0.0], [-1.424288436, 0.0, 18.3428495089]], center_atoms_mask=..., cs_iso=..., cs_tensor=...),\n",
       " Atoms(symbols='C24H20N20', pbc=True, cell=[[6.576014024, 0.0, 0.0], [0.0, 13.8190265744, 0.0], [-0.281104871484, 0.0, 7.59381659456]], center_atoms_mask=..., cs_iso=..., cs_tensor=...),\n",
       " Atoms(symbols='C72H88O20', pbc=True, cell=[[8.741048158, 0.0, 0.0], [0.0, 20.4771115748, 0.0], [-0.374483985185, 0.0, 9.88296120726]], center_atoms_mask=..., cs_iso=..., cs_tensor=...),\n",
       " Atoms(symbols='C12H20N24O18', pbc=True, cell=[[8.327017726, 0.0, 0.0], [0.697412715606, 8.48641349931, 0.0], [1.08588474656, 0.772314240051, 10.2679206527]], center_atoms_mask=..., cs_iso=..., cs_tensor=...),\n",
       " Atoms(symbols='S4O12N4C20H20', pbc=True, cell=[[5.54633558, 0.0, 0.0], [0.0, 14.8124930531, 0.0], [-1.92570989872, 0.0, 7.68927880438]], center_atoms_mask=..., cs_iso=..., cs_tensor=...),\n",
       " Atoms(symbols='C28H44O16', pbc=True, cell=[[14.012051384, 0.0, 0.0], [0.0, 7.25501984509, 0.0], [-2.09097639188, 0.0, 8.34299958686]], center_atoms_mask=..., cs_iso=..., cs_tensor=...),\n",
       " Atoms(symbols='C32H40N24O24', pbc=True, cell=[[7.554256172, 0.0, 0.0], [0.0, 11.3112823823, 0.0], [-1.39005867821, 0.0, 13.4055261581]], center_atoms_mask=..., cs_iso=..., cs_tensor=...),\n",
       " Atoms(symbols='C20H32N8O4', pbc=True, cell=[[4.169038794, 0.0, 0.0], [0.0, 9.39408677644, 0.0], [-0.739750074569, 0.0, 15.8629091165]], center_atoms_mask=..., cs_iso=..., cs_tensor=...),\n",
       " Atoms(symbols='C16H4N28O40', pbc=True, cell=[[6.034609966, 0.0, 0.0], [1.05854300336, 12.5219605101, 0.0], [1.14421032643, 5.3772599024, 13.3656170872]], center_atoms_mask=..., cs_iso=..., cs_tensor=...),\n",
       " Atoms(symbols='C32H32N16O8', pbc=True, cell=[[7.606644992, 0.0, 0.0], [2.38609043432, 8.02701101419, 0.0], [2.04987672567, 2.36325528605, 14.166060348]], center_atoms_mask=..., cs_iso=..., cs_tensor=...),\n",
       " Atoms(symbols='C32H60N4O16', pbc=True, cell=[[5.789017528, 0.0, 0.0], [0.0, 9.71802951327, 0.0], [-0.265987988359, 0.0, 18.3601295958]], center_atoms_mask=..., cs_iso=..., cs_tensor=...),\n",
       " Atoms(symbols='C56H64O32', pbc=True, cell=[[20.543085108, 0.0, 0.0], [0.0, 6.17903131112, 0.0], [-1.79986185865, 0.0, 12.262660535]], center_atoms_mask=..., cs_iso=..., cs_tensor=...),\n",
       " Atoms(symbols='C56H72N8O40', pbc=True, cell=[9.144865416, 9.144865416, 19.350141991], center_atoms_mask=..., cs_iso=..., cs_tensor=...),\n",
       " Atoms(symbols='C24H56N8O4', pbc=True, cell=[[12.176643472, 0.0, 0.0], [0.0, 6.1741183659, 0.0], [-0.835208152388, 0.0, 10.1980972042]], center_atoms_mask=..., cs_iso=..., cs_tensor=...),\n",
       " Atoms(symbols='C64H56N8O24', pbc=True, cell=[[17.719116038, 0.0, 0.0], [0.0, 7.78505310334, 0.0], [-0.653640471526, 0.0, 10.9696212333]], center_atoms_mask=..., cs_iso=..., cs_tensor=...),\n",
       " Atoms(symbols='C24H30N2O16S2', pbc=True, cell=[[10.296678604, 0.0, 0.0], [0.0, 6.41154612982, 0.0], [-1.51593880415, 0.0, 10.663569856]], center_atoms_mask=..., cs_iso=..., cs_tensor=...),\n",
       " Atoms(symbols='N4C2O2C6O2H8', pbc=True, cell=[[5.818122428, 0.0, 0.0], [-1.7083403798, 5.54272742099, 0.0], [-1.18871804763, 1.11918566649, 7.12434327619]], center_atoms_mask=..., cs_iso=..., cs_tensor=...),\n",
       " Atoms(symbols='C64H72O36', pbc=True, cell=[[9.501056474, 0.0, 0.0], [-3.42576742966, 10.0977703258, 0.0], [-1.13176584718, -1.86598848938, 16.11801975]], center_atoms_mask=..., cs_iso=..., cs_tensor=...),\n",
       " Atoms(symbols='C32H36O4S2', pbc=True, cell=[[14.660085212, 0.0, 0.0], [0.0, 6.10003213654, 0.0], [-1.66625062511, 0.0, 7.97586333984]], center_atoms_mask=..., cs_iso=..., cs_tensor=...),\n",
       " Atoms(symbols='C48H52N20O44', pbc=True, cell=[[12.339048814, 0.0, 0.0], [0.0, 8.31302694982, 0.0], [-0.377994421368, 0.0, 16.1232376605]], center_atoms_mask=..., cs_iso=..., cs_tensor=...),\n",
       " Atoms(symbols='C48H60N4O12', pbc=True, cell=[[5.666141932, 0.0, 0.0], [0.0, 30.2693234606, 0.0], [-2.8137607543, 0.0, 6.86423631124]], center_atoms_mask=..., cs_iso=..., cs_tensor=...),\n",
       " Atoms(symbols='S4N4C4H12N12C8H12', pbc=True, cell=[[6.345344462, 0.0, 0.0], [0.0, 12.5969872223, 0.0], [-0.585465897475, 0.0, 6.90707877119]], center_atoms_mask=..., cs_iso=..., cs_tensor=...),\n",
       " Atoms(symbols='C12H32N24O12', pbc=True, cell=[11.40303523, 8.30602787671, 8.32862869253], center_atoms_mask=..., cs_iso=..., cs_tensor=...),\n",
       " Atoms(symbols='C26H30N2O16', pbc=True, cell=[[8.640027696, 0.0, 0.0], [0.0, 9.45302838211, 0.0], [-4.22122377132, 0.0, 8.04707123525]], center_atoms_mask=..., cs_iso=..., cs_tensor=...),\n",
       " Atoms(symbols='C12H24N24O12', pbc=True, cell=[[10.58783344, 0.0, 0.0], [0.0, 5.94471907806, 0.0], [-2.39677844365, 0.0, 11.4577404233]], center_atoms_mask=..., cs_iso=..., cs_tensor=...),\n",
       " Atoms(symbols='C56H72N24O16', pbc=True, cell=[13.392064096, 11.433059568, 10.0980448744], center_atoms_mask=..., cs_iso=..., cs_tensor=...),\n",
       " Atoms(symbols='C36H24N8O12', pbc=True, cell=[[12.16214394, 0.0, 0.0], [0.0, 5.65662530864, 0.0], [-2.43351121881, 0.0, 11.8153404056]], center_atoms_mask=..., cs_iso=..., cs_tensor=...),\n",
       " Atoms(symbols='C72H96N16', pbc=True, cell=[[11.844053842, 0.0, 0.0], [0.0, 8.11803294385, 0.0], [-3.25077823774, 0.0, 17.4885153612]], center_atoms_mask=..., cs_iso=..., cs_tensor=...),\n",
       " Atoms(symbols='C16H20N28O20', pbc=True, cell=[[6.596440372, 0.0, 0.0], [0.0, 7.47754670181, 0.0], [-2.14458192222, 0.0, 17.3585328389]], center_atoms_mask=..., cs_iso=..., cs_tensor=...),\n",
       " Atoms(symbols='C2H6C4H2C2H2C4H2C2H2C2H2C2H2C4H6O6H2O2H2O2', pbc=True, cell=[[7.76994994, 0.0, 0.0], [0.0, 5.70573841924, 0.0], [-2.49573900053, 0.0, 12.4718185969]], center_atoms_mask=..., cs_iso=..., cs_tensor=...),\n",
       " Atoms(symbols='C32H44N4O6', pbc=True, cell=[[5.28412689, 0.0, 0.0], [-0.0292423582093, 7.6159803818, 0.0], [-2.20756554322, -2.80137458661, 17.3737706318]], center_atoms_mask=..., cs_iso=..., cs_tensor=...),\n",
       " Atoms(symbols='C48H28S8', pbc=True, cell=[[10.209046396, 0.0, 0.0], [-2.64381632708, 21.0164552103, 0.0], [-3.64421099247, -1.82093656042, 9.30209513227]], center_atoms_mask=..., cs_iso=..., cs_tensor=...),\n",
       " Atoms(symbols='C28H32O16', pbc=True, cell=[5.231050136, 9.40109160397, 15.0951472186], center_atoms_mask=..., cs_iso=..., cs_tensor=...),\n",
       " Atoms(symbols='C24H24N24S4', pbc=True, cell=[[13.401959762, 0.0, 0.0], [0.0, 8.13553905588, 0.0], [-1.59670948604, 0.0, 7.68051571804]], center_atoms_mask=..., cs_iso=..., cs_tensor=...),\n",
       " Atoms(symbols='C32H64N24O20', pbc=True, cell=[[4.53904145, 0.0, 0.0], [0.0, 28.5442614529, 0.0], [-1.29933692739, 0.0, 9.77713159563]], center_atoms_mask=..., cs_iso=..., cs_tensor=...),\n",
       " Atoms(symbols='C32H24N16S16', pbc=True, cell=[[5.433408568, 0.0, 0.0], [0.0, 31.3556520717, 0.0], [-2.25082753315, 0.0, 6.93309996708]], center_atoms_mask=..., cs_iso=..., cs_tensor=...),\n",
       " Atoms(symbols='C16H28N4O8', pbc=True, cell=[7.457045806, 9.81005695372, 6.32804161393], center_atoms_mask=..., cs_iso=..., cs_tensor=...),\n",
       " Atoms(symbols='C36H28N28', pbc=True, cell=[[10.935081356, 0.0, 0.0], [0.0, 6.73304670825, 0.0], [-0.741256359879, 0.0, 13.2583924812]], center_atoms_mask=..., cs_iso=..., cs_tensor=...),\n",
       " Atoms(symbols='C56H40N8O32', pbc=True, cell=[[7.206055732, 0.0, 0.0], [0.0, 15.9681222843, 0.0], [-5.52744107951, 0.0, 11.8272200063]], center_atoms_mask=..., cs_iso=..., cs_tensor=...),\n",
       " Atoms(symbols='C28H28N12O16', pbc=True, cell=[4.9425412, 9.65248146859, 15.7171327398], center_atoms_mask=..., cs_iso=..., cs_tensor=...),\n",
       " Atoms(symbols='N16C4H4C4H8C4H8O4H4', pbc=True, cell=[[7.525045436, 0.0, 0.0], [0.0, 9.21905356437, 0.0], [-2.83614447456, 0.0, 7.69183054304]], center_atoms_mask=..., cs_iso=..., cs_tensor=...),\n",
       " Atoms(symbols='C68H88N8O16', pbc=True, cell=[[13.155044374, 0.0, 0.0], [0.0, 6.49402712036, 0.0], [-5.5523101138, 0.0, 19.8460156637]], center_atoms_mask=..., cs_iso=..., cs_tensor=...),\n",
       " Atoms(symbols='C12H28N20O4', pbc=True, cell=[[7.006025692, 0.0, 0.0], [0.0, 6.05702448189, 0.0], [-3.15809218913, 0.0, 13.4995676107]], center_atoms_mask=..., cs_iso=..., cs_tensor=...),\n",
       " Atoms(symbols='C44H76N4O12', pbc=True, cell=[6.391912302, 7.36591189858, 22.8347423599], center_atoms_mask=..., cs_iso=..., cs_tensor=...),\n",
       " Atoms(symbols='C28H40N8O12', pbc=True, cell=[[8.736020948, 0.0, 0.0], [0.0, 3.76000962408, 0.0], [-2.55535601546, 0.0, 29.3731232335]], center_atoms_mask=..., cs_iso=..., cs_tensor=...),\n",
       " Atoms(symbols='C2H6C2H2O2H2C2H4C2H4C2H2O2H2C2H6', pbc=True, cell=[[5.943643924, 0.0, 0.0], [0.0, 7.37085547761, 0.0], [-2.59467992409, 0.0, 8.41167668336]], center_atoms_mask=..., cs_iso=..., cs_tensor=...),\n",
       " Atoms(symbols='C16H24N16O16S12', pbc=True, cell=[[8.975051554, 0.0, 0.0], [0.0, 8.87505152959, 0.0], [-0.980551307429, 0.0, 12.74340645]], center_atoms_mask=..., cs_iso=..., cs_tensor=...),\n",
       " Atoms(symbols='C72H44N4O8', pbc=True, cell=[7.044126652, 9.73804018403, 17.8410681309], center_atoms_mask=..., cs_iso=..., cs_tensor=...),\n",
       " Atoms(symbols='C20H32N16O24', pbc=True, cell=[[5.981109868, 0.0, 0.0], [-0.00665697528308, 9.30451356615, 0.0], [-0.024558437118, -0.021932729886, 15.1291875056]], center_atoms_mask=..., cs_iso=..., cs_tensor=...)]"
      ]
     },
     "execution_count": 35,
     "metadata": {},
     "output_type": "execute_result"
    }
   ],
   "source": [
    "int_structs"
   ]
  },
  {
   "cell_type": "code",
   "execution_count": 45,
   "id": "3e74c7fa-9b3e-4c58-965a-0761ae859e8f",
   "metadata": {},
   "outputs": [],
   "source": [
    "splits = list(GroupKFold(n_splits=3).split(H_feats,train_properties_H,groups=groups))"
   ]
  },
  {
   "cell_type": "code",
   "execution_count": 49,
   "id": "30293f93-577f-4b30-9e8b-43752bb5a4ce",
   "metadata": {},
   "outputs": [],
   "source": [
    "model = RidgeCV(alphas=np.logspace(-6,3,10),cv=splits,scoring=\"neg_mean_squared_error\")"
   ]
  },
  {
   "cell_type": "code",
   "execution_count": 50,
   "id": "08bdd1d0-5f99-4a2d-91d8-54a4d4057588",
   "metadata": {},
   "outputs": [
    {
     "data": {
      "text/plain": [
       "RidgeCV(alphas=array([1.00000000e-06, 2.97635144e-06, 8.85866790e-06, 2.63665090e-05,\n",
       "       7.84759970e-05, 2.33572147e-04, 6.95192796e-04, 2.06913808e-03,\n",
       "       6.15848211e-03, 1.83298071e-02, 5.45559478e-02, 1.62377674e-01,\n",
       "       4.83293024e-01, 1.43844989e+00, 4.28133240e+00, 1.27427499e+01,\n",
       "       3.79269019e+01, 1.12883789e+02, 3.35981829e+02, 1.00000000e+03]),\n",
       "        cv=[(array([   68,    69,    70, ..., 19443, 19444, 19445]),\n",
       "             array([    0,     1,     2, ..., 19519, 19520, 19521])),\n",
       "            (array([    0,     1,     2, ..., 19519, 19520, 19521]),\n",
       "             array([   68,    69,    70, ..., 19443, 19444, 19445])),\n",
       "            (array([    0,     1,     2, ..., 19519, 19520, 19521]),\n",
       "             array([  182,   183,   184, ..., 19419, 19420, 19421]))],\n",
       "        scoring='neg_mean_squared_error')"
      ]
     },
     "execution_count": 50,
     "metadata": {},
     "output_type": "execute_result"
    }
   ],
   "source": [
    "model.fit(H_feats,train_properties_H)"
   ]
  },
  {
   "cell_type": "code",
   "execution_count": 59,
   "id": "f4f7644c-035b-4c5d-9834-0270174f22f0",
   "metadata": {},
   "outputs": [
    {
     "data": {
      "text/plain": [
       "0.05455594781168514"
      ]
     },
     "execution_count": 59,
     "metadata": {},
     "output_type": "execute_result"
    }
   ],
   "source": [
    "model.alpha_"
   ]
  },
  {
   "cell_type": "code",
   "execution_count": 56,
   "id": "60c693f8-3853-4c14-9244-623ac01a6c0e",
   "metadata": {},
   "outputs": [],
   "source": [
    "y_pred = model.predict(H_feats_test)"
   ]
  },
  {
   "cell_type": "code",
   "execution_count": 57,
   "id": "e70dea2f-0029-4b5c-9c2b-93fab7650ef8",
   "metadata": {},
   "outputs": [],
   "source": [
    "from sklearn.metrics import mean_squared_error"
   ]
  },
  {
   "cell_type": "code",
   "execution_count": 58,
   "id": "08854536-5e06-4196-bc94-bfde73cfafab",
   "metadata": {},
   "outputs": [
    {
     "data": {
      "text/plain": [
       "1.3084624824108166"
      ]
     },
     "execution_count": 58,
     "metadata": {},
     "output_type": "execute_result"
    }
   ],
   "source": [
    "mean_squared_error(test_properties_H,y_pred,squared=\"False\")"
   ]
  },
  {
   "cell_type": "code",
   "execution_count": 28,
   "id": "158e0684-4d2c-4abd-9128-dbce97c43c6a",
   "metadata": {},
   "outputs": [
    {
     "data": {
      "text/plain": [
       "array([27.96, 27.95, 27.96, 27.95, 26.71, 26.71, 26.71, 26.71, 27.46,\n",
       "       27.46, 27.46, 27.46, 27.15, 27.15, 27.15, 27.15, 28.06, 28.06,\n",
       "       28.06, 28.06, 27.61, 27.61, 27.61, 27.61, 26.97, 26.97, 26.97,\n",
       "       26.97, 26.3 , 26.3 , 26.3 , 26.3 , 27.72, 27.71, 27.72, 27.71,\n",
       "       18.26, 18.26, 18.26, 18.26])"
      ]
     },
     "execution_count": 28,
     "metadata": {},
     "output_type": "execute_result"
    }
   ],
   "source": [
    "train_structures[0].arrays[\"cs_iso\"][train_structures[0].numbers == 1]"
   ]
  },
  {
   "cell_type": "code",
   "execution_count": 25,
   "id": "1d4164ab-cf2d-4515-a8e9-3e3b74bf7ccb",
   "metadata": {},
   "outputs": [
    {
     "data": {
      "text/plain": [
       "(48217,)"
      ]
     },
     "execution_count": 25,
     "metadata": {},
     "output_type": "execute_result"
    }
   ],
   "source": [
    "train_properties.shape"
   ]
  },
  {
   "cell_type": "code",
   "execution_count": 14,
   "id": "326a8eb2-6694-47c6-b32f-1eae7dcdc035",
   "metadata": {},
   "outputs": [
    {
     "ename": "AttributeError",
     "evalue": "'dict' object has no attribute 'shape'",
     "output_type": "error",
     "traceback": [
      "\u001b[0;31m---------------------------------------------------------------------------\u001b[0m",
      "\u001b[0;31mAttributeError\u001b[0m                            Traceback (most recent call last)",
      "\u001b[0;32m/tmp/ipykernel_22859/2795388710.py\u001b[0m in \u001b[0;36m<module>\u001b[0;34m\u001b[0m\n\u001b[0;32m----> 1\u001b[0;31m \u001b[0mtrain_features\u001b[0m\u001b[0;34m.\u001b[0m\u001b[0mshape\u001b[0m\u001b[0;34m\u001b[0m\u001b[0;34m\u001b[0m\u001b[0m\n\u001b[0m",
      "\u001b[0;31mAttributeError\u001b[0m: 'dict' object has no attribute 'shape'"
     ]
    }
   ],
   "source": [
    "train_features.shape"
   ]
  },
  {
   "cell_type": "code",
   "execution_count": 6,
   "id": "0175200e-5e03-4380-8207-ca135cd53c8c",
   "metadata": {},
   "outputs": [],
   "source": [
    "atom_group = atom_groups_by_frame(train_structures)"
   ]
  },
  {
   "cell_type": "code",
   "execution_count": 7,
   "id": "c6b08949-8199-4c9d-8016-c80ebcc66426",
   "metadata": {},
   "outputs": [],
   "source": [
    "import time"
   ]
  },
  {
   "cell_type": "code",
   "execution_count": 8,
   "id": "e29e0a34-d622-419e-b569-2bcfe0f0df95",
   "metadata": {},
   "outputs": [
    {
     "name": "stdout",
     "output_type": "stream",
     "text": [
      "--- 10 steps took 30.988507747650146 seconds ---\n"
     ]
    }
   ],
   "source": [
    "model = Ridge(alpha=0.0002587533653942811)\n",
    "start_time = time.time()\n",
    "#RidgeCV(alphas=np.logspace(-8,0,50),cv=splits,scoring=\"neg_mean_squared_error\")#TransformedTargetRegressor(regressor=,transformer=StandardFlexibleScaler())\n",
    "model.fit(Xtrain, train_properties)\n",
    "print(\"--- 10 steps took %s seconds ---\" % (time.time() - start_time))"
   ]
  }
 ],
 "metadata": {
  "kernelspec": {
   "display_name": "Python [conda env:root] *",
   "language": "python",
   "name": "conda-root-py"
  },
  "language_info": {
   "codemirror_mode": {
    "name": "ipython",
    "version": 3
   },
   "file_extension": ".py",
   "mimetype": "text/x-python",
   "name": "python",
   "nbconvert_exporter": "python",
   "pygments_lexer": "ipython3",
   "version": "3.8.10"
  }
 },
 "nbformat": 4,
 "nbformat_minor": 5
}
