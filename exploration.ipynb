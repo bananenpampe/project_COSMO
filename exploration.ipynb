{
 "cells": [
  {
   "cell_type": "code",
   "execution_count": 1,
   "metadata": {},
   "outputs": [
    {
     "name": "stdout",
     "output_type": "stream",
     "text": [
      "['/Users/matthiaskellner/Desktop/EPFL_2021/COSMO_project', '/Users/matthiaskellner/anaconda3/lib/python37.zip', '/Users/matthiaskellner/anaconda3/lib/python3.7', '/Users/matthiaskellner/anaconda3/lib/python3.7/lib-dynload', '', '/Users/matthiaskellner/.local/lib/python3.7/site-packages', '/Users/matthiaskellner/anaconda3/lib/python3.7/site-packages', '/Users/matthiaskellner/anaconda3/lib/python3.7/site-packages/aeosa', '/Users/matthiaskellner/.local/lib/python3.7/site-packages/IPython/extensions', '/Users/matthiaskellner/.ipython']\n"
     ]
    }
   ],
   "source": [
    "import sys\n",
    "print(sys.path)"
   ]
  },
  {
   "cell_type": "code",
   "execution_count": 2,
   "metadata": {},
   "outputs": [],
   "source": [
    "from rascal.models import Kernel, train_gap_model, compute_KNM"
   ]
  },
  {
   "cell_type": "code",
   "execution_count": 3,
   "metadata": {},
   "outputs": [],
   "source": [
    "from rascal.models import Kernel, train_gap_model, compute_KNM\n",
    "from rascal.representations import SphericalInvariants\n",
    "from rascal.utils import from_dict, to_dict, CURFilter, dump_obj, load_obj"
   ]
  },
  {
   "cell_type": "code",
   "execution_count": null,
   "metadata": {},
   "outputs": [],
   "source": [
    "cd "
   ]
  }
 ],
 "metadata": {
  "kernelspec": {
   "display_name": "Python 3",
   "language": "python",
   "name": "python3"
  },
  "language_info": {
   "codemirror_mode": {
    "name": "ipython",
    "version": 3
   },
   "file_extension": ".py",
   "mimetype": "text/x-python",
   "name": "python",
   "nbconvert_exporter": "python",
   "pygments_lexer": "ipython3",
   "version": "3.7.3"
  }
 },
 "nbformat": 4,
 "nbformat_minor": 2
}
