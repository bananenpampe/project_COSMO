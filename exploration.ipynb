{
 "cells": [
  {
   "cell_type": "code",
   "execution_count": 1,
   "metadata": {},
   "outputs": [],
   "source": [
    "from ase.io import read"
   ]
  },
  {
   "cell_type": "code",
   "execution_count": 2,
   "metadata": {},
   "outputs": [],
   "source": [
    "PATH = \"CSD-500.txt\""
   ]
  },
  {
   "cell_type": "code",
   "execution_count": 3,
   "metadata": {},
   "outputs": [],
   "source": [
    "this = read(PATH,format=\"extxyz\",index=\":\")\n",
    "#include index=\":\" to read all from file\n",
    "#format=\"extyz\" top properly recognize the extended xyz format\n",
    "#doc on the extended xyz format: https://wiki.fysik.dtu.dk/ase/ase/io/formatoptions.html#ase.io.extxyz.read_extxyz\n",
    "\n",
    "#------------extyz format (from ase doc)--------\n",
    "# The list of properties in the file is described by the Properties parameter, \n",
    "# which should take the form of a series of colon separated triplets giving the name, \n",
    "# format ( R for real, I for integer) and number of columns of each property. For example:\n",
    "# Properties=species:S:1:pos:R:3:CS:R:2 (in the CS-500/2K file)\n",
    "#\n",
    "# How to access?\n",
    "#\n",
    "# Additional key-value pairs in the comment line are parsed \n",
    "# into the ase.Atoms.atoms.info dictionary, with the following conventions..."
   ]
  },
  {
   "cell_type": "code",
   "execution_count": 60,
   "metadata": {},
   "outputs": [
    {
     "name": "stdout",
     "output_type": "stream",
     "text": [
      "<class 'list'>\n"
     ]
    },
    {
     "data": {
      "text/plain": [
       "ase.atoms.Atoms"
      ]
     },
     "execution_count": 60,
     "metadata": {},
     "output_type": "execute_result"
    }
   ],
   "source": [
    "print(type(this))\n",
    "type(this[0])"
   ]
  },
  {
   "cell_type": "code",
   "execution_count": 122,
   "metadata": {},
   "outputs": [],
   "source": [
    "atoms = this[0]"
   ]
  },
  {
   "cell_type": "code",
   "execution_count": 128,
   "metadata": {},
   "outputs": [],
   "source": [
    "import numpy as np"
   ]
  },
  {
   "cell_type": "code",
   "execution_count": 134,
   "metadata": {},
   "outputs": [],
   "source": [
    "shifts = np.concatenate([atom.arrays[\"CS\"] for atom in this]) #retrieving shifts ->\n"
   ]
  },
  {
   "cell_type": "code",
   "execution_count": 135,
   "metadata": {},
   "outputs": [
    {
     "data": {
      "text/plain": [
       "(64637, 2)"
      ]
     },
     "execution_count": 135,
     "metadata": {},
     "output_type": "execute_result"
    }
   ],
   "source": [
    "shifts.shape"
   ]
  },
  {
   "cell_type": "code",
   "execution_count": 20,
   "metadata": {},
   "outputs": [],
   "source": [
    "def load_CSD(DATAPATH):    \n",
    "    pass"
   ]
  },
  {
   "cell_type": "code",
   "execution_count": 121,
   "metadata": {},
   "outputs": [],
   "source": [
    "class DataContainer:\n",
    "    def load_dataset(self,DATAPATH):\n",
    "        \n",
    "        atoms = read(DATAPATH,format=\"extxyz\",index=\":\")\n",
    "        \n",
    "        for atom in atoms:\n",
    "            atom.wrap()\n",
    "            \n",
    "        self.atoms = atoms\n",
    "        \n",
    "        \n",
    "        \n",
    "        \n",
    "        \n",
    "    def build_representations(self,hypers):\n",
    "        self.hypers = hypers\n",
    "        self.X = \n",
    "        SphericalInvariants(**hypers)\n",
    "X = soap.transform(this[:2]).get_features(soap)\n",
    "        \n",
    "        \n",
    "    \n",
    "    def __init__(self, DATAPATH=None, hypers=None):\n",
    "        self.Y = None\n",
    "        self.X = None \n",
    "        self.atoms = None\n",
    "        self.hypers = hypers\n",
    "        \n",
    "        if DATAPATH:\n",
    "            self.load_dataset(DATAPATH)\n",
    "            if hypers:\n",
    "                self.build_representations(hypers)\n",
    "    "
   ]
  },
  {
   "cell_type": "code",
   "execution_count": null,
   "metadata": {},
   "outputs": [],
   "source": []
  },
  {
   "cell_type": "code",
   "execution_count": 21,
   "metadata": {},
   "outputs": [],
   "source": [
    "from rascal.representations import SphericalInvariants"
   ]
  },
  {
   "cell_type": "code",
   "execution_count": 22,
   "metadata": {},
   "outputs": [],
   "source": [
    "for i in this:\n",
    "    i.wrap()"
   ]
  },
  {
   "cell_type": "code",
   "execution_count": 104,
   "metadata": {},
   "outputs": [],
   "source": [
    "hypers = {\"soap_type\": \"PowerSpectrum\",\n",
    "          \"interaction_cutoff\": 3,\n",
    "          \"radial_basis\": \"GTO\",\n",
    "          \"max_radial\": 3,\n",
    "          \"max_angular\": 3,\n",
    "          \"gaussian_sigma_constant\": 0.3,\n",
    "          \"gaussian_sigma_type\":\"Constant\",\n",
    "          \"cutoff_smooth_width\": 0.0,\n",
    "          \"normalize\": False\n",
    "         }\n",
    "\n",
    "#max_angular: Number of radial basis functions\n",
    "#max_radial: Highest angular momentum number (l) in the expansion\n",
    "\n",
    "# num_interactions grow :  e.g.\n",
    "# H-H\n",
    "# H-H, O-O, H-O\n",
    "# H-H, O-O, N-N, H-O, H-N, N-O\n",
    "# H-H, O-O, N-N, C-C, H-C, N-C, O-C, O-H, O-N, N-H,\n",
    "\n",
    "#scales as N_elements + (n over 2) binomial"
   ]
  },
  {
   "cell_type": "code",
   "execution_count": 105,
   "metadata": {},
   "outputs": [
    {
     "data": {
      "text/plain": [
       "(254, 216)"
      ]
     },
     "execution_count": 105,
     "metadata": {},
     "output_type": "execute_result"
    }
   ],
   "source": [
    "soap = SphericalInvariants(**hypers)\n",
    "X = soap.transform(this[:2]).get_features(soap)\n",
    "X.shape\n",
    "#BUG,When setting max_radial and max_angular to zero"
   ]
  },
  {
   "cell_type": "code",
   "execution_count": 123,
   "metadata": {},
   "outputs": [
    {
     "ename": "AttributeError",
     "evalue": "'SphericalInvariants' object has no attribute 'shape'",
     "output_type": "error",
     "traceback": [
      "\u001b[0;31m---------------------------------------------------------------------------\u001b[0m",
      "\u001b[0;31mAttributeError\u001b[0m                            Traceback (most recent call last)",
      "\u001b[0;32m<ipython-input-123-df7bcb0b380d>\u001b[0m in \u001b[0;36m<module>\u001b[0;34m\u001b[0m\n\u001b[0;32m----> 1\u001b[0;31m \u001b[0msoap\u001b[0m\u001b[0;34m.\u001b[0m\u001b[0mshape\u001b[0m\u001b[0;34m\u001b[0m\u001b[0;34m\u001b[0m\u001b[0m\n\u001b[0m",
      "\u001b[0;31mAttributeError\u001b[0m: 'SphericalInvariants' object has no attribute 'shape'"
     ]
    }
   ],
   "source": [
    "soap.shape"
   ]
  },
  {
   "cell_type": "code",
   "execution_count": null,
   "metadata": {},
   "outputs": [],
   "source": []
  }
 ],
 "metadata": {
  "kernelspec": {
   "display_name": "Python 3",
   "language": "python",
   "name": "python3"
  },
  "language_info": {
   "codemirror_mode": {
    "name": "ipython",
    "version": 3
   },
   "file_extension": ".py",
   "mimetype": "text/x-python",
   "name": "python",
   "nbconvert_exporter": "python",
   "pygments_lexer": "ipython3",
   "version": "3.7.3"
  }
 },
 "nbformat": 4,
 "nbformat_minor": 2
}
