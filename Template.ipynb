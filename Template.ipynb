{
 "cells": [
  {
   "cell_type": "code",
   "execution_count": 51,
   "id": "c1a53f1d-81a9-4311-a01b-ce3a5de8af26",
   "metadata": {},
   "outputs": [],
   "source": [
    "%config IPCompleter.use_jedi = False\n",
    "from loader import load_data\n",
    "import numpy as np\n",
    "from sklearn.linear_model import RidgeCV\n",
    "from rascal.representations import SphericalInvariants as SOAP\n",
    "from rascal.utils import get_optimal_radial_basis_hypers\n",
    "from rascal.neighbourlist.structure_manager import mask_center_atoms_by_id\n",
    "from skcosmo.model_selection import atom_groups_by_frame\n",
    "from sklearn.linear_model import LinearRegression, Ridge\n",
    "from copy import deepcopy\n",
    "from skopt.space import Real, Integer\n",
    "from skopt.utils import use_named_args\n",
    "from skopt import gp_minimize\n",
    "from sklearn.model_selection import GroupKFold\n",
    "from sklearn.metrics import mean_squared_error\n",
    "from sklearn.model_selection import cross_val_score"
   ]
  },
  {
   "cell_type": "code",
   "execution_count": 91,
   "id": "7d9ba638-2b75-452b-a54e-532bff28766a",
   "metadata": {
    "tags": []
   },
   "outputs": [],
   "source": [
    "train_structures, test_structures, train_properties, test_properties = load_data(\"./make_tensor_data/train_tensor/CSD-3k+S546_shift_tensors.xyz\",\\\n",
    "                                                                                    \"./make_tensor_data/test_tensor/CSD-500+104-7_shift_tensors.xyz\",selected_species=1,random_subsample_test=200)"
   ]
  },
  {
   "cell_type": "code",
   "execution_count": 29,
   "id": "f1ea7fd9-56fd-463b-b898-506428489ca3",
   "metadata": {
    "tags": []
   },
   "outputs": [],
   "source": [
    "class BufferedSOAPFeatures:\n",
    "    def __init__(self, structures, calculator_params, calculator=SOAP):\n",
    "        self.X = None\n",
    "        self.structures = structures\n",
    "        self.calculator = calculator\n",
    "        self.calculator_params = calculator_params\n",
    "\n",
    "    def get_features(self, update_params):\n",
    "        \n",
    "        updated_params = self.calculator_params.copy()\n",
    "        \n",
    "        for key, value in update_params.items():\n",
    "            \n",
    "            if isinstance(value, np.integer):\n",
    "                value = int(value)\n",
    "            if isinstance(value, np.floating):\n",
    "                value = float(value)\n",
    "            if isinstance(value, np.ndarray):\n",
    "                value = value.tolist()\n",
    "                \n",
    "            updated_params[key] = value\n",
    "\n",
    "        \n",
    "        if self.X is None:\n",
    "            \n",
    "            #print(\"Initial calculation\")\n",
    "            self.X = get_features_in_parallel(self.structures,self.calculator,updated_params)\n",
    "        \n",
    "        else:\n",
    "            \n",
    "            if updated_params == self.calculator_params:\n",
    "                #print(\"Stored\")\n",
    "                pass\n",
    "            else:\n",
    "                #print(\"Recalculate\")\n",
    "                self.X = get_features_in_parallel(self.structures,self.calculator,updated_params)\n",
    "        \n",
    "        self.calculator_params = updated_params\n",
    "        \n",
    "        return self.X"
   ]
  },
  {
   "cell_type": "code",
   "execution_count": 3,
   "id": "8906e2aa-f661-4231-91de-97561da493ae",
   "metadata": {},
   "outputs": [],
   "source": [
    "hypers = dict(soap_type=\"PowerSpectrum\",\n",
    "              interaction_cutoff=3.,\n",
    "              max_radial=8,\n",
    "              max_angular=8,\n",
    "              gaussian_sigma_constant=0.3,\n",
    "              gaussian_sigma_type=\"Constant\",\n",
    "              radial_basis=\"GTO\",\n",
    "              normalize=True,\n",
    "              cutoff_smooth_width=0.3,\n",
    "              optimization=\n",
    "                    dict(\n",
    "                            Spline=dict(\n",
    "                               accuracy=1.0e-05\n",
    "                            )\n",
    "                        ),\n",
    "              compute_gradients=False,\n",
    "              \n",
    "              )"
   ]
  },
  {
   "cell_type": "code",
   "execution_count": 3,
   "id": "4a7058ed-09f6-4c16-99d7-6fd32d2f942f",
   "metadata": {},
   "outputs": [],
   "source": [
    "SOAP_HYPERS = {\n",
    "    \"soap_type\": \"PowerSpectrum\",\n",
    "    \"interaction_cutoff\": 4.5,\n",
    "    \"max_radial\": 9,\n",
    "    \"max_angular\": 9,\n",
    "    \"gaussian_sigma_constant\": 0.1,\n",
    "    \"gaussian_sigma_type\": \"Constant\",\n",
    "    \"cutoff_smooth_width\": 0.5,\n",
    "    \"radial_basis\": \"GTO\",\n",
    "    \"expansion_by_species_method\": \"user defined\",\n",
    "    \"global_species\": [1, 6, 7, 8],\n",
    "    \"compute_gradients\": False,\n",
    "    \"normalize\": True,\n",
    "}"
   ]
  },
  {
   "cell_type": "code",
   "execution_count": 41,
   "id": "ab2dce4f-e7a8-4525-bf5c-6def157a41f5",
   "metadata": {},
   "outputs": [],
   "source": []
  },
  {
   "cell_type": "code",
   "execution_count": 51,
   "id": "a15495f3-8ca7-42c9-87c0-f0b5b9bc3722",
   "metadata": {},
   "outputs": [
    {
     "data": {
      "text/plain": [
       "10"
      ]
     },
     "execution_count": 51,
     "metadata": {},
     "output_type": "execute_result"
    }
   ],
   "source": [
    "len(list(combinations_with_replacement(SOAP_HYPERS[\"global_species\"],2)))"
   ]
  },
  {
   "cell_type": "code",
   "execution_count": 31,
   "id": "42953431-8e57-4a5f-ae21-61a0b88e7fd6",
   "metadata": {},
   "outputs": [],
   "source": [
    "mysoap = SOAP(**SOAP_HYPERS)"
   ]
  },
  {
   "cell_type": "code",
   "execution_count": 48,
   "id": "cf2430e0-4f2c-4af8-8403-79fd90a33c9f",
   "metadata": {},
   "outputs": [
    {
     "data": {
      "text/plain": [
       "<itertools.combinations_with_replacement at 0x7fe1158b9db0>"
      ]
     },
     "execution_count": 48,
     "metadata": {},
     "output_type": "execute_result"
    }
   ],
   "source": [
    "combinations_with_replacement(SOAP_HYPERS[\"global_species\"],2)"
   ]
  },
  {
   "cell_type": "code",
   "execution_count": 35,
   "id": "8b4f49c0-368b-48af-a411-87d5a483845e",
   "metadata": {},
   "outputs": [
    {
     "data": {
      "text/plain": [
       "(7667, 12150)"
      ]
     },
     "execution_count": 35,
     "metadata": {},
     "output_type": "execute_result"
    }
   ],
   "source": [
    "mysoap.transform(train_structures).get_features(mysoap).shape"
   ]
  },
  {
   "cell_type": "code",
   "execution_count": 36,
   "id": "1433e238-ac01-4bc5-a2ea-e9f493531ee3",
   "metadata": {},
   "outputs": [
    {
     "data": {
      "text/plain": [
       "810"
      ]
     },
     "execution_count": 36,
     "metadata": {},
     "output_type": "execute_result"
    }
   ],
   "source": [
    "mysoap.get_num_coefficients()"
   ]
  },
  {
   "cell_type": "code",
   "execution_count": 37,
   "id": "ab715295-7b47-4b70-99eb-a86af52a3dcf",
   "metadata": {},
   "outputs": [
    {
     "data": {
      "text/plain": [
       "15.0"
      ]
     },
     "execution_count": 37,
     "metadata": {},
     "output_type": "execute_result"
    }
   ],
   "source": [
    "12150/810"
   ]
  },
  {
   "cell_type": "code",
   "execution_count": 33,
   "id": "52b42357-9c12-448b-9912-365e57f4e5fc",
   "metadata": {
    "tags": []
   },
   "outputs": [
    {
     "name": "stdout",
     "output_type": "stream",
     "text": [
      "step\n",
      "step\n",
      "step\n",
      "step\n",
      "step\n",
      "step\n",
      "step\n",
      "step\n",
      "step\n",
      "step\n"
     ]
    }
   ],
   "source": [
    "hypers = dict(soap_type=\"PowerSpectrum\",\n",
    "              interaction_cutoff=3.,\n",
    "              max_radial=4,\n",
    "              max_angular=4,\n",
    "              gaussian_sigma_constant=0.3,\n",
    "              gaussian_sigma_type=\"Constant\",\n",
    "              radial_basis=\"GTO\",\n",
    "              normalize=True,\n",
    "              cutoff_smooth_width=0.3,\n",
    "              optimization=\n",
    "                    dict(\n",
    "                            Spline=dict(\n",
    "                               accuracy=1.0e-05\n",
    "                            )\n",
    "                        ),\n",
    "              compute_gradients=False,\n",
    "              expansion_by_species_method=\"user defined\",\n",
    "              global_species=[1, 6, 7, 8, 16]\n",
    "              )\n",
    "\n",
    "space = [Real(10**-5, 10**2, \"log-uniform\", name='alpha'),\n",
    "        Real(0.05,1.5, \"uniform\", name=\"gaussian_sigma_constant\"),\n",
    "        Real(2.,4.5, \"uniform\", name=\"interaction_cutoff\")]\n",
    "\n",
    "reg = Ridge()\n",
    "y = train_properties\n",
    "atom_groups = atom_groups_by_frame(train_structures)\n",
    "Feature_gen = BufferedSOAPFeatures(train_structures, hypers)\n",
    "\n",
    "\n",
    "@use_named_args(space)\n",
    "def soap_objective(**params):\n",
    "    update_dict = {}\n",
    "    \n",
    "    new_params = params.copy()\n",
    "    \n",
    "    for key, value in new_params.items():\n",
    "        if key in Feature_gen.calculator_params:\n",
    "            #hypers[key] = value\n",
    "            update_dict[key] = params.pop(key, None)\n",
    "    \n",
    "    #print(update_dict)\n",
    "    reg.set_params(**params)\n",
    "    \n",
    "    print(\"step\")\n",
    "    \n",
    "    X = Feature_gen.get_features(update_dict)\n",
    "    #print(X.shape)\n",
    "    \n",
    "    #print(Feature_gen.hypers[\"max_angular\"])\n",
    "    splits = list(GroupKFold(n_splits=5).split(X,y,groups=atom_groups))\n",
    "    \n",
    "    return -np.mean(cross_val_score(reg, X, y, cv=splits, n_jobs=-1,\n",
    "                                    scoring=\"neg_mean_squared_error\"))\n",
    "\n",
    "res_gp = gp_minimize(soap_objective, space, n_calls=10, random_state=0)"
   ]
  },
  {
   "cell_type": "code",
   "execution_count": 82,
   "id": "77c39393-47fe-4dc7-8f7e-3cf620fc5156",
   "metadata": {},
   "outputs": [
    {
     "data": {
      "text/plain": [
       "3662"
      ]
     },
     "execution_count": 82,
     "metadata": {},
     "output_type": "execute_result"
    }
   ],
   "source": [
    "len(y)"
   ]
  },
  {
   "cell_type": "code",
   "execution_count": 73,
   "id": "2304f1e6-26dc-4e04-b702-b26cb70c3b64",
   "metadata": {},
   "outputs": [
    {
     "data": {
      "text/plain": [
       "134692"
      ]
     },
     "execution_count": 73,
     "metadata": {},
     "output_type": "execute_result"
    }
   ],
   "source": []
  },
  {
   "cell_type": "code",
   "execution_count": 40,
   "id": "c8f1c1c9-2caf-4a5b-b0da-8658ea055caf",
   "metadata": {},
   "outputs": [
    {
     "data": {
      "text/plain": [
       "2.043192897589359"
      ]
     },
     "execution_count": 40,
     "metadata": {},
     "output_type": "execute_result"
    }
   ],
   "source": [
    "reg.alpha"
   ]
  },
  {
   "cell_type": "code",
   "execution_count": null,
   "id": "9a38523f-32a6-4847-981b-e1263d5397c6",
   "metadata": {},
   "outputs": [],
   "source": []
  },
  {
   "cell_type": "code",
   "execution_count": 42,
   "id": "8c01a7c1-2d31-457d-8d49-621fdf117f3e",
   "metadata": {},
   "outputs": [],
   "source": [
    "paramdict = {}\n",
    "for param in zip(space,res_gp.x):\n",
    "    paramdict[param[0].name] = param[1]"
   ]
  },
  {
   "cell_type": "code",
   "execution_count": 43,
   "id": "1486703c-e1bf-4d72-8099-3dd7f014dbf2",
   "metadata": {},
   "outputs": [
    {
     "data": {
      "text/plain": [
       "{'alpha': 0.0033970924303804028,\n",
       " 'gaussian_sigma_constant': 0.05557628804633241,\n",
       " 'interaction_cutoff': 3.6601119046746073}"
      ]
     },
     "execution_count": 43,
     "metadata": {},
     "output_type": "execute_result"
    }
   ],
   "source": [
    "paramdict"
   ]
  },
  {
   "cell_type": "code",
   "execution_count": 28,
   "id": "6b39ffcf-0150-47f8-81ab-2a797238c0ea",
   "metadata": {},
   "outputs": [],
   "source": [
    "import cProfile"
   ]
  },
  {
   "cell_type": "code",
   "execution_count": 30,
   "id": "80330e11-85ee-4309-a52e-00940cedad65",
   "metadata": {
    "collapsed": true,
    "jupyter": {
     "outputs_hidden": true
    },
    "tags": []
   },
   "outputs": [
    {
     "name": "stdout",
     "output_type": "stream",
     "text": [
      "         551440 function calls (545703 primitive calls) in 168.840 seconds\n",
      "\n",
      "   Ordered by: standard name\n",
      "\n",
      "   ncalls  tottime  percall  cumtime  percall filename:lineno(function)\n",
      "     2935    0.003    0.000    0.030    0.000 <__array_function__ internals>:2(all)\n",
      "      117    0.000    0.000    0.009    0.000 <__array_function__ internals>:2(allclose)\n",
      "      141    0.000    0.000    0.001    0.000 <__array_function__ internals>:2(alltrue)\n",
      "        1    0.000    0.000    0.000    0.000 <__array_function__ internals>:2(amax)\n",
      "       19    0.000    0.000    0.000    0.000 <__array_function__ internals>:2(amin)\n",
      "      422    0.000    0.000    0.005    0.000 <__array_function__ internals>:2(any)\n",
      "      145    0.000    0.000    0.002    0.000 <__array_function__ internals>:2(append)\n",
      "        1    0.000    0.000    0.000    0.000 <__array_function__ internals>:2(argmax)\n",
      "     2014    0.001    0.000    0.004    0.000 <__array_function__ internals>:2(argmin)\n",
      "       13    0.000    0.000    0.002    0.000 <__array_function__ internals>:2(argsort)\n",
      "      679    0.001    0.000    0.005    0.000 <__array_function__ internals>:2(atleast_1d)\n",
      "     1860    0.001    0.000    0.011    0.000 <__array_function__ internals>:2(atleast_2d)\n",
      "      280    0.000    0.000    0.001    0.000 <__array_function__ internals>:2(atleast_3d)\n",
      "       10    0.000    0.000    0.000    0.000 <__array_function__ internals>:2(bincount)\n",
      "       33    0.000    0.000    0.002    0.000 <__array_function__ internals>:2(broadcast_arrays)\n",
      "       39    0.000    0.000    0.002    0.000 <__array_function__ internals>:2(clip)\n",
      "      897    0.001    0.000    0.003    0.000 <__array_function__ internals>:2(concatenate)\n",
      "        2    0.000    0.000    0.000    0.000 <__array_function__ internals>:2(copy)\n",
      "     1221    0.001    0.000    0.004    0.000 <__array_function__ internals>:2(copyto)\n",
      "       10    0.000    0.000    0.000    0.000 <__array_function__ internals>:2(cumsum)\n",
      "      140    0.000    0.000    0.001    0.000 <__array_function__ internals>:2(diag)\n",
      "      141    0.000    0.000    0.004    0.000 <__array_function__ internals>:2(diag_indices_from)\n",
      "      140    0.000    0.000    0.001    0.000 <__array_function__ internals>:2(diagonal)\n",
      "      141    0.000    0.000    0.001    0.000 <__array_function__ internals>:2(diff)\n",
      "      351    0.000    0.000    0.001    0.000 <__array_function__ internals>:2(dot)\n",
      "      280    0.000    0.000    0.003    0.000 <__array_function__ internals>:2(dstack)\n",
      "      558    0.000    0.000    0.015    0.000 <__array_function__ internals>:2(einsum)\n",
      "      342    0.000    0.000    0.001    0.000 <__array_function__ internals>:2(empty_like)\n",
      "      819    0.001    0.000    0.005    0.000 <__array_function__ internals>:2(expand_dims)\n",
      "      322    0.000    0.000    0.008    0.000 <__array_function__ internals>:2(extract)\n",
      "      141    0.000    0.000    0.001    0.000 <__array_function__ internals>:2(fill_diagonal)\n",
      "      431    0.000    0.000    0.006    0.000 <__array_function__ internals>:2(hstack)\n",
      "      117    0.000    0.000    0.007    0.000 <__array_function__ internals>:2(isclose)\n",
      "       11    0.000    0.000    0.001    0.000 <__array_function__ internals>:2(mean)\n",
      "      916    0.001    0.000    0.002    0.000 <__array_function__ internals>:2(ndim)\n",
      "      322    0.000    0.000    0.002    0.000 <__array_function__ internals>:2(nonzero)\n",
      "      431    0.000    0.000    0.002    0.000 <__array_function__ internals>:2(place)\n",
      "      107    0.000    0.000    0.000    0.000 <__array_function__ internals>:2(putmask)\n",
      "      789    0.001    0.000    0.003    0.000 <__array_function__ internals>:2(ravel)\n",
      "      117    0.000    0.000    0.000    0.000 <__array_function__ internals>:2(result_type)\n",
      "      215    0.000    0.000    0.001    0.000 <__array_function__ internals>:2(shape)\n",
      "      378    0.000    0.000    0.001    0.000 <__array_function__ internals>:2(squeeze)\n",
      "      240    0.000    0.000    0.003    0.000 <__array_function__ internals>:2(sum)\n",
      "      322    0.000    0.000    0.002    0.000 <__array_function__ internals>:2(take)\n",
      "       41    0.000    0.000    0.005    0.000 <__array_function__ internals>:2(unique)\n",
      "       39    0.000    0.000    0.000    0.000 <__array_function__ internals>:2(vstack)\n",
      "       50    0.000    0.000    0.000    0.000 <__array_function__ internals>:2(where)\n",
      "      342    0.000    0.000    0.004    0.000 <__array_function__ internals>:2(zeros_like)\n",
      "        1    0.000    0.000    0.000    0.000 <frozen importlib._bootstrap>:103(release)\n",
      "        1    0.000    0.000    0.000    0.000 <frozen importlib._bootstrap>:143(__init__)\n",
      "        1    0.000    0.000    0.000    0.000 <frozen importlib._bootstrap>:147(__enter__)\n",
      "        1    0.000    0.000    0.000    0.000 <frozen importlib._bootstrap>:151(__exit__)\n",
      "        1    0.000    0.000    0.000    0.000 <frozen importlib._bootstrap>:157(_get_module_lock)\n",
      "        1    0.000    0.000    0.000    0.000 <frozen importlib._bootstrap>:176(cb)\n",
      "       40    0.000    0.000    0.000    0.000 <frozen importlib._bootstrap>:222(_verbose_message)\n",
      "        1    0.000    0.000    0.000    0.000 <frozen importlib._bootstrap>:342(__init__)\n",
      "      194    0.000    0.000    0.000    0.000 <frozen importlib._bootstrap>:389(parent)\n",
      "        1    0.000    0.000    0.000    0.000 <frozen importlib._bootstrap>:58(__init__)\n",
      "        1    0.000    0.000    0.000    0.000 <frozen importlib._bootstrap>:725(find_spec)\n",
      "        1    0.000    0.000    0.000    0.000 <frozen importlib._bootstrap>:78(acquire)\n",
      "        1    0.000    0.000    0.000    0.000 <frozen importlib._bootstrap>:800(find_spec)\n",
      "        4    0.000    0.000    0.000    0.000 <frozen importlib._bootstrap>:863(__enter__)\n",
      "        4    0.000    0.000    0.000    0.000 <frozen importlib._bootstrap>:867(__exit__)\n",
      "        1    0.000    0.000    0.000    0.000 <frozen importlib._bootstrap>:890(_find_spec)\n",
      "        1    0.000    0.000    0.000    0.000 <frozen importlib._bootstrap>:956(_find_and_load_unlocked)\n",
      "        1    0.000    0.000    0.000    0.000 <frozen importlib._bootstrap>:986(_find_and_load)\n",
      "       40    0.000    0.000    0.000    0.000 <frozen importlib._bootstrap_external>:121(_path_join)\n",
      "       40    0.000    0.000    0.000    0.000 <frozen importlib._bootstrap_external>:123(<listcomp>)\n",
      "        9    0.000    0.000    0.000    0.000 <frozen importlib._bootstrap_external>:1330(_path_importer_cache)\n",
      "        8    0.000    0.000    0.000    0.000 <frozen importlib._bootstrap_external>:135(_path_stat)\n",
      "        1    0.000    0.000    0.000    0.000 <frozen importlib._bootstrap_external>:1367(_get_spec)\n",
      "        1    0.000    0.000    0.000    0.000 <frozen importlib._bootstrap_external>:1399(find_spec)\n",
      "        8    0.000    0.000    0.000    0.000 <frozen importlib._bootstrap_external>:1498(find_spec)\n",
      "        1    0.000    0.000    0.000    0.000 <frozen importlib._bootstrap_external>:1549(_fill_cache)\n",
      "        8    0.000    0.000    0.000    0.000 <frozen importlib._bootstrap_external>:68(_relax_case)\n",
      "       10    0.017    0.002  168.447   16.845 <ipython-input-27-78d667976f79>:29(soap_objective)\n",
      "       10    0.256    0.026    9.792    0.979 <ipython-input-8-aeb28bfe5b6c>:9(get_features)\n",
      "        1    0.000    0.000    0.000    0.000 <string>:1(<module>)\n",
      "       27    0.000    0.000    0.000    0.000 <string>:1(__new__)\n",
      "        1    0.000    0.000    0.000    0.000 <string>:2(<module>)\n",
      "        1    0.000    0.000    0.000    0.000 <string>:2(_parse_args)\n",
      "       11    0.000    0.000    0.002    0.000 <string>:5(_parse_args_rvs)\n",
      "       20    0.000    0.000    0.001    0.000 __init__.py:183(dumps)\n",
      "        8    0.000    0.000    0.000    0.000 __init__.py:218(_acquireLock)\n",
      "        8    0.002    0.000    0.002    0.000 __init__.py:227(_releaseLock)\n",
      "      384    0.000    0.000    0.000    0.000 __init__.py:892(__getitem__)\n",
      "       16    0.000    0.000    0.000    0.000 __init__.py:906(__iter__)\n",
      "      756    0.000    0.000    0.002    0.000 _asarray.py:141(ascontiguousarray)\n",
      "     7664    0.003    0.000    0.017    0.000 _asarray.py:16(asarray)\n",
      "     5852    0.002    0.000    0.008    0.000 _asarray.py:88(asanyarray)\n",
      "       50    0.000    0.000    0.000    0.000 _base.py:316(__init__)\n",
      "       50    0.000    0.000    0.000    0.000 _base.py:386(__get_result)\n",
      "       50    0.000    0.000    0.000    0.000 _base.py:396(add_done_callback)\n",
      "       50    0.000    0.000  158.098    3.162 _base.py:416(result)\n",
      "       42    0.000    0.000    0.000    0.000 _bootlocale.py:33(getpreferredencoding)\n",
      "      111    0.000    0.000    0.000    0.000 _collections_abc.py:657(get)\n",
      "       10    0.000    0.000    0.000    0.000 _collections_abc.py:664(__contains__)\n",
      "       24    0.000    0.000    0.000    0.000 _collections_abc.py:672(keys)\n",
      "       24    0.000    0.000    0.000    0.000 _collections_abc.py:698(__init__)\n",
      "      688    0.000    0.000    0.001    0.000 _collections_abc.py:719(__iter__)\n",
      "      132    0.000    0.000    0.000    0.000 _config.py:13(get_config)\n",
      "      107    0.001    0.000    0.001    0.000 _continuous_distns.py:161(_norm_pdf)\n",
      "      108    0.001    0.000    0.001    0.000 _continuous_distns.py:169(_norm_cdf)\n",
      "      107    0.000    0.000    0.001    0.000 _continuous_distns.py:219(_pdf)\n",
      "      108    0.000    0.000    0.001    0.000 _continuous_distns.py:226(_cdf)\n",
      "       33    0.000    0.000    0.001    0.000 _continuous_distns.py:6523(_rvs)\n",
      "        9    0.001    0.000    0.016    0.002 _distn_infrastructure.py:1552(__init__)\n",
      "        9    0.000    0.000    0.000    0.000 _distn_infrastructure.py:1617(_updated_ctor_param)\n",
      "      107    0.004    0.000    0.018    0.000 _distn_infrastructure.py:1694(pdf)\n",
      "      108    0.005    0.000    0.018    0.000 _distn_infrastructure.py:1777(cdf)\n",
      "       27    0.000    0.000    0.000    0.000 _distn_infrastructure.py:41(instancemethod)\n",
      "        9    0.000    0.000    0.016    0.002 _distn_infrastructure.py:422(__init__)\n",
      "       33    0.000    0.000    0.008    0.000 _distn_infrastructure.py:460(rvs)\n",
      "      215    0.001    0.000    0.011    0.000 _distn_infrastructure.py:520(argsreduce)\n",
      "      215    0.001    0.000    0.009    0.000 _distn_infrastructure.py:545(<listcomp>)\n",
      "        9    0.000    0.000    0.002    0.000 _distn_infrastructure.py:587(__init__)\n",
      "        9    0.000    0.000    0.004    0.000 _distn_infrastructure.py:622(_construct_argparser)\n",
      "        9    0.000    0.000    0.010    0.001 _distn_infrastructure.py:702(_construct_doc)\n",
      "        9    0.000    0.000    0.000    0.000 _distn_infrastructure.py:710(<genexpr>)\n",
      "        9    0.000    0.000    0.016    0.002 _distn_infrastructure.py:753(freeze)\n",
      "        9    0.000    0.000    0.016    0.002 _distn_infrastructure.py:770(__call__)\n",
      "       33    0.001    0.000    0.003    0.000 _distn_infrastructure.py:788(_argcheck_rvs)\n",
      "       66    0.000    0.000    0.000    0.000 _distn_infrastructure.py:802(squeeze_left)\n",
      "       33    0.000    0.000    0.000    0.000 _distn_infrastructure.py:818(<listcomp>)\n",
      "       33    0.000    0.000    0.000    0.000 _distn_infrastructure.py:847(<listcomp>)\n",
      "      257    0.000    0.000    0.000    0.000 _distn_infrastructure.py:862(_argcheck)\n",
      "      323    0.000    0.000    0.000    0.000 _distn_infrastructure.py:874(_get_support)\n",
      "      107    0.001    0.000    0.001    0.000 _distn_infrastructure.py:895(_support_mask)\n",
      "      108    0.001    0.000    0.001    0.000 _distn_infrastructure.py:899(_open_support_mask)\n",
      "       33    0.002    0.000    0.008    0.000 _distn_infrastructure.py:931(rvs)\n",
      "        1    0.000    0.000    0.000    0.000 _dtype.py:319(_name_get)\n",
      "        2    0.000    0.000    0.000    0.000 _gpr.py:153(__init__)\n",
      "        1    0.000    0.000    0.164    0.164 _gpr.py:164(fit)\n",
      "      140    0.000    0.000    0.150    0.001 _gpr.py:219(obj_func)\n",
      "      140    0.005    0.000    0.150    0.001 _gpr.py:407(log_marginal_likelihood)\n",
      "        3    0.000    0.000    0.156    0.052 _gpr.py:489(_constrained_optimization)\n",
      "       10    0.000    0.000    0.000    0.000 _memmapping_reducer.py:115(__init__)\n",
      "       10    0.000    0.000    0.000    0.000 _memmapping_reducer.py:138(on_destroy)\n",
      "       20    0.000    0.000    0.001    0.000 _memmapping_reducer.py:168(_get_temp_dir)\n",
      "       10    0.000    0.000    0.000    0.000 _memmapping_reducer.py:338(__init__)\n",
      "        8    0.000    0.000    0.000    0.000 _memmapping_reducer.py:359(__reduce__)\n",
      "       10    0.000    0.000    0.000    0.000 _memmapping_reducer.py:473(get_memmapping_reducers)\n",
      "       10    0.000    0.000    0.001    0.000 _memmapping_reducer.py:518(__init__)\n",
      "       10    0.000    0.000    0.001    0.000 _memmapping_reducer.py:533(set_current_context)\n",
      "       20    0.000    0.000    0.002    0.000 _memmapping_reducer.py:537(register_new_context)\n",
      "       10    0.000    0.000    0.001    0.000 _memmapping_reducer.py:567(_unregister_context)\n",
      "       20    0.000    0.000    0.000    0.000 _memmapping_reducer.py:583(register_folder_finalizer)\n",
      "       10    0.000    0.000    0.205    0.020 _memmapping_reducer.py:612(_unlink_temporary_resources)\n",
      "       10    0.000    0.000    0.203    0.020 _memmapping_reducer.py:644(_try_delete_folder)\n",
      "       11    0.000    0.000    0.001    0.000 _methods.py:134(_mean)\n",
      "      560    0.000    0.000    0.002    0.000 _methods.py:36(_sum)\n",
      "      772    0.000    0.000    0.002    0.000 _methods.py:47(_all)\n",
      "       11    0.000    0.000    0.000    0.000 _methods.py:50(_count_reduce_items)\n",
      "       78    0.001    0.000    0.001    0.000 _methods.py:63(_clip_dep_is_scalar_nan)\n",
      "       78    0.000    0.000    0.000    0.000 _methods.py:73(_clip_dep_is_byte_swapped)\n",
      "       39    0.000    0.000    0.000    0.000 _methods.py:78(_clip_dep_invoke_with_casting)\n",
      "       39    0.000    0.000    0.002    0.000 _methods.py:97(_clip)\n",
      "        3    0.000    0.000    0.156    0.052 _minimize.py:42(minimize)\n",
      "        3    0.000    0.000    0.000    0.000 _minimize.py:787(standardize_bounds)\n",
      "        3    0.000    0.000    0.000    0.000 _minimize.py:799(standardize_constraints)\n",
      "       50    0.000    0.000    0.000    0.000 _parallel_backends.py:124(get_nested_backend)\n",
      "       26    0.000    0.000    0.000    0.000 _parallel_backends.py:137(retrieval_context)\n",
      "       10    0.000    0.000    0.001    0.000 _parallel_backends.py:154(_prepare_worker_env)\n",
      "       13    0.000    0.000    0.000    0.000 _parallel_backends.py:185(in_main_thread)\n",
      "        3    0.000    0.000    0.000    0.000 _parallel_backends.py:200(effective_n_jobs)\n",
      "       15    0.000    0.000    0.128    0.009 _parallel_backends.py:206(apply_async)\n",
      "       15    0.000    0.000    0.000    0.000 _parallel_backends.py:213(get_nested_backend)\n",
      "       28    0.000    0.000    0.000    0.000 _parallel_backends.py:280(__init__)\n",
      "       60    0.000    0.000    0.000    0.000 _parallel_backends.py:285(compute_batch_size)\n",
      "       81    0.000    0.000    0.000    0.000 _parallel_backends.py:34(__init__)\n",
      "       10    0.000    0.000    0.000    0.000 _parallel_backends.py:361(reset_batch_stats)\n",
      "       13    0.000    0.000    0.006    0.000 _parallel_backends.py:486(configure)\n",
      "       13    0.000    0.000    0.002    0.000 _parallel_backends.py:501(effective_n_jobs)\n",
      "       50    0.000    0.000    0.297    0.006 _parallel_backends.py:529(apply_async)\n",
      "       50    0.000    0.000  158.098    3.162 _parallel_backends.py:537(wrap_future_result)\n",
      "       10    0.000    0.000    0.205    0.021 _parallel_backends.py:546(terminate)\n",
      "       15    0.000    0.000    0.128    0.009 _parallel_backends.py:569(__init__)\n",
      "       15    0.000    0.000    0.000    0.000 _parallel_backends.py:574(get)\n",
      "       50    0.000    0.000    0.000    0.000 _parallel_backends.py:590(__init__)\n",
      "        3    0.000    0.000    0.000    0.000 _parallel_backends.py:609(__init__)\n",
      "        3    0.000    0.000    0.000    0.000 _parallel_backends.py:70(configure)\n",
      "       13    0.000    0.000    0.000    0.000 _parallel_backends.py:80(start_call)\n",
      "       13    0.000    0.000    0.000    0.000 _parallel_backends.py:83(stop_call)\n",
      "        3    0.000    0.000    0.000    0.000 _parallel_backends.py:86(terminate)\n",
      "       18    0.000    0.000    0.000    0.000 _parallel_backends.py:89(compute_batch_size)\n",
      "       15    0.000    0.000    0.000    0.000 _parallel_backends.py:93(batch_completed)\n",
      "       96    0.000    0.000    0.000    0.000 _posix_reduction.py:28(_mk_inheritable)\n",
      "       32    0.000    0.000    0.000    0.000 _posix_reduction.py:34(DupFd)\n",
      "       32    0.000    0.000    0.000    0.000 _posix_reduction.py:66(reduce_connection)\n",
      "       50    0.000    0.000    0.000    0.000 _ridge.py:525(__init__)\n",
      "       50    0.000    0.000    0.000    0.000 _ridge.py:738(__init__)\n",
      "       10    0.000    0.000    0.000    0.000 _scorer.py:133(__repr__)\n",
      "       10    0.000    0.000    0.000    0.000 _scorer.py:134(<listcomp>)\n",
      "       10    0.000    0.000    0.000    0.000 _scorer.py:171(_factory_args)\n",
      "       20    0.000    0.000    0.000    0.000 _scorer.py:338(get_scorer)\n",
      "       20    0.000    0.000    0.000    0.000 _scorer.py:374(check_scoring)\n",
      "       10    0.000    0.000    0.000    0.000 _scorer.py:436(_check_multimetric_scoring)\n",
      "       20    0.000    0.000    0.000    0.000 _scorer.py:518(<genexpr>)\n",
      "       10    0.000    0.000    0.000    0.000 _scorer.py:524(<dictcomp>)\n",
      "       10    0.000    0.000    0.000    0.000 _split.py:1915(__init__)\n",
      "       60    0.000    0.000    0.000    0.000 _split.py:1939(split)\n",
      "       10    0.000    0.000    0.000    0.000 _split.py:1965(check_cv)\n",
      "       10    0.000    0.000    0.000    0.000 _split.py:272(__init__)\n",
      "       60    0.000    0.000    0.015    0.000 _split.py:303(split)\n",
      "       10    0.000    0.000    0.000    0.000 _split.py:499(__init__)\n",
      "       60    0.002    0.000    0.009    0.000 _split.py:502(_iter_test_indices)\n",
      "       10    0.000    0.000    0.000    0.000 _split.py:539(split)\n",
      "       60    0.001    0.000    0.011    0.000 _split.py:54(split)\n",
      "       60    0.000    0.000    0.010    0.000 _split.py:87(_iter_test_masks)\n",
      "      238    0.001    0.000    0.001    0.000 _ufunc_config.py:139(geterr)\n",
      "      238    0.001    0.000    0.002    0.000 _ufunc_config.py:39(seterr)\n",
      "      117    0.000    0.000    0.000    0.000 _ufunc_config.py:437(__init__)\n",
      "      119    0.000    0.000    0.001    0.000 _ufunc_config.py:441(__enter__)\n",
      "      119    0.000    0.000    0.001    0.000 _ufunc_config.py:446(__exit__)\n",
      "       42    0.000    0.000    0.000    0.000 _util.py:174(check_random_state)\n",
      "      143    0.000    0.000    0.001    0.000 _util.py:193(_asarray_validated)\n",
      "       27    0.000    0.000    0.003    0.000 _util.py:270(getargspec_no_self)\n",
      "       27    0.000    0.000    0.000    0.000 _util.py:292(<listcomp>)\n",
      "       27    0.000    0.000    0.000    0.000 _util.py:296(<listcomp>)\n",
      "       27    0.000    0.000    0.000    0.000 _util.py:301(<listcomp>)\n",
      "       27    0.000    0.000    0.000    0.000 _util.py:306(<listcomp>)\n",
      "       10    0.000    0.000    0.000    0.000 _validation.py:1481(_aggregate_score_dicts)\n",
      "       10    0.000    0.000    0.000    0.000 _validation.py:1504(<dictcomp>)\n",
      "       10    0.000    0.000    0.000    0.000 _validation.py:1504(<listcomp>)\n",
      "       60    0.000    0.000    0.007    0.000 _validation.py:230(<genexpr>)\n",
      "       10    0.000    0.000  158.619   15.862 _validation.py:263(cross_val_score)\n",
      "       10    0.000    0.000  158.619   15.862 _validation.py:40(cross_validate)\n",
      "        9    0.000    0.000    0.000    0.000 _weakrefset.py:81(add)\n",
      "     2093    0.001    0.000    0.002    0.000 abc.py:100(__subclasscheck__)\n",
      "     2260    0.001    0.000    0.004    0.000 abc.py:96(__instancecheck__)\n",
      "       60    0.002    0.000    0.072    0.001 acquisition.py:149(gaussian_pi)\n",
      "      120    0.001    0.000    0.144    0.001 acquisition.py:20(_gaussian_acquisition)\n",
      "       48    0.002    0.000    0.054    0.001 acquisition.py:232(gaussian_ei)\n",
      "      117    0.000    0.000    0.121    0.001 acquisition.py:7(gaussian_acquisition_1D)\n",
      "       12    0.000    0.000    0.017    0.001 acquisition.py:90(gaussian_lcb)\n",
      "       41    0.000    0.000    0.000    0.000 arraysetops.py:138(_unpack_tuple)\n",
      "       41    0.000    0.000    0.000    0.000 arraysetops.py:146(_unique_dispatcher)\n",
      "       41    0.000    0.000    0.005    0.000 arraysetops.py:151(unique)\n",
      "       41    0.001    0.000    0.005    0.000 arraysetops.py:297(_unique1d)\n",
      "     2000    0.002    0.000    0.013    0.000 arraywrapper.py:66(attr)\n",
      "     2000    0.001    0.000    0.001    0.000 atoms.py:1947(cell)\n",
      "     2000    0.003    0.000    0.015    0.000 atoms.py:399(get_cell)\n",
      "     2000    0.001    0.000    0.001    0.000 atoms.py:433(pbc)\n",
      "     2000    0.002    0.000    0.004    0.000 atoms.py:446(get_pbc)\n",
      "     2000    0.001    0.000    0.003    0.000 atoms.py:480(get_array)\n",
      "     2000    0.001    0.000    0.003    0.000 atoms.py:522(get_atomic_numbers)\n",
      "     2000    0.002    0.000    0.006    0.000 atoms.py:695(get_positions)\n",
      "     2000    0.007    0.000    0.029    0.000 base.py:112(adapt_structure)\n",
      "      365    0.000    0.000    0.000    0.000 base.py:1189(isspmatrix)\n",
      "      115    0.001    0.000    0.008    0.000 base.py:146(_get_param_names)\n",
      "      115    0.001    0.000    0.001    0.000 base.py:160(<listcomp>)\n",
      "      115    0.000    0.000    0.000    0.000 base.py:171(<listcomp>)\n",
      "      115    0.000    0.000    0.009    0.000 base.py:173(get_params)\n",
      "       24    0.000    0.000    0.000    0.000 base.py:201(<genexpr>)\n",
      "       11    0.000    0.000    0.003    0.000 base.py:205(set_params)\n",
      "        1    0.000    0.000  168.827  168.827 base.py:22(base_minimize)\n",
      "        1    0.000    0.000    0.000    0.000 base.py:264(<genexpr>)\n",
      "        1    0.000    0.000    0.000    0.000 base.py:265(<genexpr>)\n",
      "       10    0.080    0.008    0.080    0.008 base.py:28(CalculatorFactory)\n",
      "   502/52    0.001    0.000    0.009    0.000 base.py:39(clone)\n",
      "       10    0.000    0.000    0.000    0.000 base.py:40(cutoff_function_dict_switch)\n",
      "     11/5    0.000    0.000    0.000    0.000 base.py:59(<listcomp>)\n",
      "       10    0.000    0.000    0.000    0.000 base.py:639(is_classifier)\n",
      "        1    0.000    0.000    0.000    0.000 base.py:655(is_regressor)\n",
      "       10    0.000    0.000    0.000    0.000 base.py:67(check_optimization_for_spherical_representations)\n",
      "       10    0.000    0.000    0.001    0.000 base.py:74(StructureCollectionFactory)\n",
      "     2000    0.002    0.000    0.002    0.000 base.py:99(is_valid_structure)\n",
      "        1    0.000    0.000    0.000    0.000 basic.py:261(solve_triangular)\n",
      "      423    0.002    0.000    0.002    0.000 blas.py:253(find_best_blas_type)\n",
      "      282    0.000    0.000    0.000    0.000 blas.py:300(<listcomp>)\n",
      "      423    0.001    0.000    0.004    0.000 blas.py:318(_get_funcs)\n",
      "        1    0.000    0.000    0.000    0.000 callbacks.py:19(check_callback)\n",
      "     2000    0.003    0.000    0.011    0.000 cell.py:195(copy)\n",
      "     2000    0.001    0.000    0.001    0.000 cell.py:222(__array__)\n",
      "     2000    0.003    0.000    0.006    0.000 cell.py:23(__init__)\n",
      "      104    0.000    0.000    0.000    0.000 cloudpickle.py:187(_is_registered_pickle_by_value)\n",
      "      104    0.000    0.000    0.000    0.000 cloudpickle.py:201(_whichmodule)\n",
      "      104    0.000    0.000    0.001    0.000 cloudpickle.py:247(_should_pickle_by_reference)\n",
      "      104    0.000    0.000    0.001    0.000 cloudpickle.py:284(_lookup_module_and_qualname)\n",
      "       80    0.000    0.000    0.001    0.000 cloudpickle_fast.py:407(_class_reduce)\n",
      "       24    0.000    0.000    0.000    0.000 cloudpickle_fast.py:550(_function_reduce)\n",
      "       16    0.000    0.000    0.004    0.000 cloudpickle_fast.py:600(dump)\n",
      "       16    0.000    0.000    0.000    0.000 cloudpickle_fast.py:634(__init__)\n",
      "      264    0.000    0.000    0.002    0.000 cloudpickle_fast.py:646(reducer_override)\n",
      "       42    0.000    0.000    0.000    0.000 codecs.py:260(__init__)\n",
      "       42    0.000    0.000    0.000    0.000 codecs.py:309(__init__)\n",
      "       42    0.000    0.000    0.000    0.000 codecs.py:319(decode)\n",
      "        6    0.000    0.000    0.000    0.000 connection.py:117(__init__)\n",
      "       82    0.000    0.000    0.000    0.000 connection.py:134(_check_closed)\n",
      "       50    0.000    0.000    0.000    0.000 connection.py:142(_check_writable)\n",
      "       32    0.000    0.000    0.000    0.000 connection.py:158(readable)\n",
      "       32    0.000    0.000    0.000    0.000 connection.py:163(writable)\n",
      "       32    0.000    0.000    0.000    0.000 connection.py:168(fileno)\n",
      "       50    0.000    0.000    0.001    0.000 connection.py:181(send_bytes)\n",
      "       50    0.000    0.000    0.000    0.000 connection.py:365(_send)\n",
      "       50    0.000    0.000    0.001    0.000 connection.py:390(_send_bytes)\n",
      "        3    0.000    0.000    0.000    0.000 connection.py:516(Pipe)\n",
      "       21    0.000    0.000    0.002    0.000 context.py:110(cpu_count)\n",
      "       21    0.000    0.000    0.002    0.000 context.py:169(_cpu_count_user)\n",
      "        1    0.000    0.000    0.000    0.000 context.py:187(get_context)\n",
      "        1    0.000    0.000    0.000    0.000 context.py:197(get_start_method)\n",
      "        1    0.000    0.000    0.000    0.000 context.py:213(_check_available)\n",
      "       14    0.000    0.000    0.000    0.000 context.py:233(get_context)\n",
      "        9    0.000    0.000    0.003    0.000 context.py:319(BoundedSemaphore)\n",
      "        5    0.000    0.000    0.000    0.000 context.py:324(Lock)\n",
      "      112    0.000    0.000    0.000    0.000 context.py:351(get_spawning_popen)\n",
      "       16    0.000    0.000    0.000    0.000 context.py:354(set_spawning_popen)\n",
      "       72    0.000    0.000    0.000    0.000 context.py:357(assert_spawning)\n",
      "       21    0.000    0.000    0.000    0.000 context.py:41(cpu_count)\n",
      "        1    0.000    0.000    0.000    0.000 context.py:41(get_context)\n",
      "        1    0.000    0.000    0.000    0.000 context.py:60(Pipe)\n",
      "       13    0.000    0.000    0.000    0.000 contextlib.py:108(__enter__)\n",
      "       13    0.000    0.000    0.000    0.000 contextlib.py:117(__exit__)\n",
      "       13    0.000    0.000    0.000    0.000 contextlib.py:238(helper)\n",
      "        2    0.000    0.000    0.000    0.000 contextlib.py:59(_recreate_cm)\n",
      "        2    0.000    0.000    0.001    0.000 contextlib.py:72(inner)\n",
      "       13    0.000    0.000    0.000    0.000 contextlib.py:82(__init__)\n",
      "  532/452    0.001    0.000    0.001    0.000 copy.py:128(deepcopy)\n",
      "      500    0.000    0.000    0.000    0.000 copy.py:182(_deepcopy_atomic)\n",
      "    30/20    0.000    0.000    0.000    0.000 copy.py:226(_deepcopy_dict)\n",
      "       32    0.000    0.000    0.000    0.000 copy.py:242(_keep_alive)\n",
      "        2    0.000    0.000    0.000    0.000 core.py:6251(isMaskedArray)\n",
      "      141    0.001    0.000    0.004    0.000 decomp_cholesky.py:15(_cholesky)\n",
      "      281    0.002    0.000    0.007    0.000 decomp_cholesky.py:159(cho_solve)\n",
      "      141    0.000    0.000    0.004    0.000 decomp_cholesky.py:47(cholesky)\n",
      "       10    0.000    0.000    0.202    0.020 disk.py:105(delete_folder)\n",
      "       13    0.000    0.000    0.000    0.000 disk.py:42(memstr_to_bytes)\n",
      "      378    0.000    0.000    0.000    0.000 distance.py:128(_args_to_kwargs_xdist)\n",
      "      141    0.000    0.000    0.000    0.000 distance.py:168(_copy_array_if_base_present)\n",
      "      378    0.001    0.000    0.001    0.000 distance.py:1713(_select_weighted_metric)\n",
      "      141    0.001    0.000    0.004    0.000 distance.py:1736(pdist)\n",
      "      615    0.000    0.000    0.002    0.000 distance.py:186(_convert_to_type)\n",
      "      378    0.000    0.000    0.000    0.000 distance.py:190(_filter_deprecated_kwargs)\n",
      "      141    0.001    0.000    0.002    0.000 distance.py:2097(squareform)\n",
      "      237    0.003    0.000    0.011    0.000 distance.py:2412(cdist)\n",
      "      237    0.001    0.000    0.003    0.000 distance.py:243(_validate_cdist_input)\n",
      "      141    0.000    0.000    0.001    0.000 distance.py:295(_validate_pdist_input)\n",
      "       18    0.003    0.000    0.009    0.000 doccer.py:12(docformat)\n",
      "       18    0.001    0.000    0.002    0.000 doccer.py:179(indentcount_lines)\n",
      "      558    0.000    0.000    0.013    0.000 einsumfunc.py:1004(einsum)\n",
      "     2910    0.001    0.000    0.001    0.000 einsumfunc.py:995(_einsum_dispatcher)\n",
      "       20    0.000    0.000    0.001    0.000 encoder.py:182(encode)\n",
      "       20    0.001    0.000    0.001    0.000 encoder.py:204(iterencode)\n",
      "     5405    0.003    0.000    0.004    0.000 enum.py:313(__call__)\n",
      "     5405    0.001    0.000    0.001    0.000 enum.py:631(__new__)\n",
      "       10    0.000    0.000    0.003    0.000 executor.py:19(get_memmapping_executor)\n",
      "       10    0.000    0.000    0.003    0.000 executor.py:25(get_memmapping_executor)\n",
      "      122    0.000    0.000    0.002    0.000 extmath.py:681(_safe_accumulator_op)\n",
      "        8    0.000    0.000    0.271    0.034 fork_exec.py:36(fork_exec)\n",
      "        1    0.000    0.000    0.000    0.000 fromnumeric.py:1087(_argmax_dispatcher)\n",
      "        1    0.000    0.000    0.000    0.000 fromnumeric.py:1091(argmax)\n",
      "     2014    0.000    0.000    0.000    0.000 fromnumeric.py:1156(_argmin_dispatcher)\n",
      "     2014    0.001    0.000    0.002    0.000 fromnumeric.py:1160(argmin)\n",
      "      378    0.000    0.000    0.000    0.000 fromnumeric.py:1377(_squeeze_dispatcher)\n",
      "      378    0.000    0.000    0.000    0.000 fromnumeric.py:1381(squeeze)\n",
      "      140    0.000    0.000    0.000    0.000 fromnumeric.py:1441(_diagonal_dispatcher)\n",
      "      140    0.000    0.000    0.000    0.000 fromnumeric.py:1445(diagonal)\n",
      "      789    0.000    0.000    0.000    0.000 fromnumeric.py:1644(_ravel_dispatcher)\n",
      "      789    0.001    0.000    0.002    0.000 fromnumeric.py:1648(ravel)\n",
      "      322    0.000    0.000    0.000    0.000 fromnumeric.py:1755(_nonzero_dispatcher)\n",
      "      322    0.000    0.000    0.001    0.000 fromnumeric.py:1759(nonzero)\n",
      "      215    0.000    0.000    0.000    0.000 fromnumeric.py:1852(_shape_dispatcher)\n",
      "      215    0.000    0.000    0.000    0.000 fromnumeric.py:1856(shape)\n",
      "       39    0.000    0.000    0.000    0.000 fromnumeric.py:1970(_clip_dispatcher)\n",
      "       39    0.000    0.000    0.002    0.000 fromnumeric.py:1974(clip)\n",
      "      240    0.000    0.000    0.000    0.000 fromnumeric.py:2040(_sum_dispatcher)\n",
      "      240    0.000    0.000    0.003    0.000 fromnumeric.py:2045(sum)\n",
      "      422    0.000    0.000    0.000    0.000 fromnumeric.py:2185(_any_dispatcher)\n",
      "      422    0.001    0.000    0.004    0.000 fromnumeric.py:2189(any)\n",
      "     3076    0.001    0.000    0.001    0.000 fromnumeric.py:2273(_all_dispatcher)\n",
      "     2935    0.003    0.000    0.024    0.000 fromnumeric.py:2277(all)\n",
      "       10    0.000    0.000    0.000    0.000 fromnumeric.py:2354(_cumsum_dispatcher)\n",
      "       10    0.000    0.000    0.000    0.000 fromnumeric.py:2358(cumsum)\n",
      "        1    0.000    0.000    0.000    0.000 fromnumeric.py:2499(_amax_dispatcher)\n",
      "        1    0.000    0.000    0.000    0.000 fromnumeric.py:2504(amax)\n",
      "       19    0.000    0.000    0.000    0.000 fromnumeric.py:2624(_amin_dispatcher)\n",
      "       19    0.000    0.000    0.000    0.000 fromnumeric.py:2629(amin)\n",
      "      916    0.000    0.000    0.000    0.000 fromnumeric.py:2982(_ndim_dispatcher)\n",
      "      916    0.001    0.000    0.001    0.000 fromnumeric.py:2986(ndim)\n",
      "       11    0.000    0.000    0.000    0.000 fromnumeric.py:3149(_mean_dispatcher)\n",
      "       11    0.000    0.000    0.001    0.000 fromnumeric.py:3153(mean)\n",
      "      141    0.000    0.000    0.001    0.000 fromnumeric.py:3562(alltrue)\n",
      "        1    0.000    0.000    0.000    0.000 fromnumeric.py:42(_wrapit)\n",
      "     2721    0.001    0.000    0.008    0.000 fromnumeric.py:55(_wrapfunc)\n",
      "     3617    0.008    0.000    0.027    0.000 fromnumeric.py:73(_wrapreduction)\n",
      "     3617    0.002    0.000    0.002    0.000 fromnumeric.py:74(<dictcomp>)\n",
      "      322    0.000    0.000    0.000    0.000 fromnumeric.py:93(_take_dispatcher)\n",
      "      322    0.000    0.000    0.001    0.000 fromnumeric.py:97(take)\n",
      "       13    0.000    0.000    0.000    0.000 fromnumeric.py:974(_argsort_dispatcher)\n",
      "       13    0.000    0.000    0.002    0.000 fromnumeric.py:978(argsort)\n",
      "      141    0.000    0.000    0.000    0.000 function_base.py:1143(_diff_dispatcher)\n",
      "      141    0.001    0.000    0.001    0.000 function_base.py:1147(diff)\n",
      "      322    0.000    0.000    0.000    0.000 function_base.py:1624(_extract_dispatcher)\n",
      "      322    0.001    0.000    0.007    0.000 function_base.py:1628(extract)\n",
      "      431    0.000    0.000    0.000    0.000 function_base.py:1680(_place_dispatcher)\n",
      "      431    0.000    0.000    0.001    0.000 function_base.py:1684(place)\n",
      "       36    0.000    0.000    0.000    0.000 function_base.py:2031(__init__)\n",
      "      717    0.000    0.000    0.000    0.000 function_base.py:257(iterable)\n",
      "      705    0.001    0.000    0.004    0.000 function_base.py:432(asarray_chkfinite)\n",
      "      145    0.000    0.000    0.000    0.000 function_base.py:4643(_append_dispatcher)\n",
      "      145    0.000    0.000    0.001    0.000 function_base.py:4647(append)\n",
      "        2    0.000    0.000    0.000    0.000 function_base.py:741(_copy_dispatcher)\n",
      "        2    0.000    0.000    0.000    0.000 function_base.py:745(copy)\n",
      "       65    0.000    0.000    0.000    0.000 functools.py:34(update_wrapper)\n",
      "       65    0.000    0.000    0.000    0.000 functools.py:64(wraps)\n",
      "      112    0.000    0.000    0.001    0.000 genericpath.py:16(exists)\n",
      "       10    0.000    0.000    0.000    0.000 genericpath.py:39(isdir)\n",
      "       10    0.000    0.000    0.000    0.000 genericpath.py:87(samestat)\n",
      "       33    0.000    0.000    0.000    0.000 getlimits.py:365(__new__)\n",
      "        1    0.000    0.000    0.000    0.000 getlimits.py:497(__init__)\n",
      "        1    0.000    0.000    0.000    0.000 getlimits.py:521(max)\n",
      "        1    0.000    0.000  168.841  168.841 gp.py:12(gp_minimize)\n",
      "        2    0.000    0.000    0.000    0.000 gpr.py:155(__init__)\n",
      "        1    0.000    0.000    0.164    0.164 gpr.py:166(fit)\n",
      "      2/1    0.000    0.000    0.000    0.000 gpr.py:17(_param_for_white_kernel_in_Sum)\n",
      "      120    0.005    0.000    0.099    0.001 gpr.py:239(predict)\n",
      "      141    0.000    0.000    0.000    0.000 index_tricks.py:747(_fill_diagonal_dispatcher)\n",
      "      141    0.000    0.000    0.000    0.000 index_tricks.py:751(fill_diagonal)\n",
      "      141    0.000    0.000    0.000    0.000 index_tricks.py:883(diag_indices)\n",
      "      141    0.000    0.000    0.000    0.000 index_tricks.py:952(_diag_indices_from)\n",
      "      141    0.001    0.000    0.004    0.000 index_tricks.py:956(diag_indices_from)\n",
      "        1    0.000    0.000    0.000    0.000 initializers.py:12(_make_viztracer_initializer_and_initargs)\n",
      "        1    0.000    0.000    0.000    0.000 initializers.py:46(_chain_initializers)\n",
      "        1    0.000    0.000    0.000    0.000 initializers.py:66(_prepare_initializer)\n",
      "     2878    0.001    0.000    0.001    0.000 inspect.py:158(isfunction)\n",
      "       27    0.001    0.000    0.001    0.000 inspect.py:1812(_signature_bound_method)\n",
      "     1439    0.012    0.000    0.031    0.000 inspect.py:2124(_signature_from_function)\n",
      "1466/1439    0.005    0.000    0.041    0.000 inspect.py:2218(_signature_from_callable)\n",
      "     5405    0.006    0.000    0.011    0.000 inspect.py:2489(__init__)\n",
      "    14749    0.001    0.000    0.001    0.000 inspect.py:2539(name)\n",
      "       36    0.000    0.000    0.000    0.000 inspect.py:2543(default)\n",
      "    10634    0.001    0.000    0.001    0.000 inspect.py:2551(kind)\n",
      "     1466    0.004    0.000    0.006    0.000 inspect.py:2772(__init__)\n",
      "     6844    0.002    0.000    0.002    0.000 inspect.py:2821(<genexpr>)\n",
      "     1439    0.001    0.000    0.042    0.000 inspect.py:2851(from_callable)\n",
      "     1547    0.000    0.000    0.000    0.000 inspect.py:2857(parameters)\n",
      "       27    0.000    0.000    0.000    0.000 inspect.py:2865(replace)\n",
      "     1439    0.001    0.000    0.043    0.000 inspect.py:3103(signature)\n",
      "     1439    0.002    0.000    0.003    0.000 inspect.py:493(unwrap)\n",
      "     1439    0.000    0.000    0.001    0.000 inspect.py:513(_is_wrapper)\n",
      "       18    0.000    0.000    0.000    0.000 interface.py:137(__new__)\n",
      "       18    0.000    0.000    0.000    0.000 interface.py:152(__init__)\n",
      "       32    0.000    0.000    0.002    0.000 iostream.py:195(schedule)\n",
      "       16    0.000    0.000    0.007    0.000 iostream.py:335(flush)\n",
      "       32    0.000    0.000    0.000    0.000 iostream.py:91(_event_pipe)\n",
      "        3    0.000    0.000    0.000    0.000 kernels.py:1032(__init__)\n",
      "      577    0.000    0.000    0.006    0.000 kernels.py:1036(hyperparameter_constant_value)\n",
      "      378    0.001    0.000    0.011    0.000 kernels.py:1041(__call__)\n",
      "      120    0.000    0.000    0.002    0.000 kernels.py:1087(diag)\n",
      "        3    0.000    0.000    0.000    0.000 kernels.py:1133(__init__)\n",
      "      289    0.000    0.000    0.003    0.000 kernels.py:1137(hyperparameter_noise_level)\n",
      "      261    0.001    0.000    0.007    0.000 kernels.py:1142(__call__)\n",
      "      120    0.000    0.000    0.002    0.000 kernels.py:1187(diag)\n",
      "        3    0.000    0.000    0.000    0.000 kernels.py:1241(__init__)\n",
      "      716    0.001    0.000    0.001    0.000 kernels.py:1245(anisotropic)\n",
      "      436    0.001    0.000    0.006    0.000 kernels.py:1249(hyperparameter_length_scale)\n",
      "     1297    0.008    0.000    0.045    0.000 kernels.py:126(get_params)\n",
      "        3    0.000    0.000    0.000    0.000 kernels.py:1366(__init__)\n",
      "      378    0.020    0.000    0.046    0.000 kernels.py:1371(__call__)\n",
      "      424    0.001    0.000    0.016    0.000 kernels.py:174(set_params)\n",
      "      283    0.000    0.000    0.044    0.000 kernels.py:223(n_dims)\n",
      "      882    0.001    0.000    0.037    0.000 kernels.py:228(hyperparameters)\n",
      "      882    0.005    0.000    0.020    0.000 kernels.py:231(<listcomp>)\n",
      "      429    0.002    0.000    0.042    0.000 kernels.py:235(theta)\n",
      "        1    0.000    0.000    0.000    0.000 kernels.py:25(__add__)\n",
      "      423    0.003    0.000    0.048    0.000 kernels.py:259(theta)\n",
      "      117    0.000    0.000    0.002    0.000 kernels.py:262(gradient_x)\n",
      "      117    0.000    0.000    0.001    0.000 kernels.py:268(gradient_x)\n",
      "      117    0.000    0.000    0.030    0.000 kernels.py:287(gradient_x)\n",
      "       30    0.000    0.000    0.002    0.000 kernels.py:288(bounds)\n",
      "      117    0.002    0.000    0.028    0.000 kernels.py:296(gradient_x)\n",
      "       30    0.000    0.000    0.000    0.000 kernels.py:297(<listcomp>)\n",
      "        1    0.000    0.000    0.000    0.000 kernels.py:35(__mul__)\n",
      "        1    0.000    0.000    0.000    0.000 kernels.py:369(requires_vector_input)\n",
      "      378    0.001    0.000    0.004    0.000 kernels.py:37(_check_length_scale)\n",
      "      120    0.000    0.000    0.001    0.000 kernels.py:383(diag)\n",
      "        1    0.000    0.000    0.000    0.000 kernels.py:421(requires_vector_input)\n",
      "        5    0.000    0.000    0.000    0.000 kernels.py:584(__init__)\n",
      "    14/12    0.000    0.000    0.001    0.000 kernels.py:588(get_params)\n",
      "       31    0.000    0.000    0.000    0.000 kernels.py:605(<genexpr>)\n",
      "       26    0.000    0.000    0.000    0.000 kernels.py:607(<genexpr>)\n",
      "  145/143    0.000    0.000    0.032    0.000 kernels.py:626(theta)\n",
      "  282/141    0.001    0.000    0.091    0.001 kernels.py:642(theta)\n",
      "      9/3    0.000    0.000    0.002    0.001 kernels.py:655(bounds)\n",
      "      2/1    0.000    0.000    0.000    0.000 kernels.py:680(requires_vector_input)\n",
      "      261    0.001    0.000    0.059    0.000 kernels.py:705(__call__)\n",
      "      120    0.000    0.000    0.005    0.000 kernels.py:741(diag)\n",
      "      261    0.002    0.000    0.049    0.000 kernels.py:783(__call__)\n",
      "      120    0.000    0.000    0.003    0.000 kernels.py:820(diag)\n",
      "     1302    0.003    0.000    0.012    0.000 kernels.py:94(__new__)\n",
      "      117    0.007    0.000    0.010    0.000 kernels.py:94(gradient_x)\n",
      "      423    0.000    0.000    0.004    0.000 lapack.py:662(get_lapack_funcs)\n",
      "       18    0.005    0.000    0.283    0.016 lbfgsb.py:211(_minimize_lbfgsb)\n",
      "       18    0.000    0.000    0.000    0.000 lbfgsb.py:269(<listcomp>)\n",
      "      257    0.001    0.000    0.276    0.001 lbfgsb.py:284(func_and_grad)\n",
      "       18    0.000    0.000    0.001    0.000 lbfgsb.py:400(__init__)\n",
      "       15    0.000    0.000    0.127    0.008 lbfgsb.py:49(fmin_l_bfgs_b)\n",
      "       13    0.000    0.000    0.000    0.000 logger.py:23(_squeeze_time)\n",
      "       13    0.000    0.000    0.000    0.000 logger.py:39(short_format_time)\n",
      "      423    0.000    0.000    0.000    0.000 misc.py:177(_datacopied)\n",
      "     1221    0.000    0.000    0.000    0.000 multiarray.py:1043(copyto)\n",
      "      107    0.000    0.000    0.000    0.000 multiarray.py:1078(putmask)\n",
      "      897    0.000    0.000    0.000    0.000 multiarray.py:145(concatenate)\n",
      "       50    0.000    0.000    0.000    0.000 multiarray.py:312(where)\n",
      "      117    0.000    0.000    0.000    0.000 multiarray.py:635(result_type)\n",
      "      351    0.000    0.000    0.000    0.000 multiarray.py:707(dot)\n",
      "      342    0.000    0.000    0.000    0.000 multiarray.py:77(empty_like)\n",
      "       10    0.000    0.000    0.000    0.000 multiarray.py:853(bincount)\n",
      "      121    0.000    0.000    0.001    0.000 numeric.py:166(ones)\n",
      "      117    0.000    0.000    0.000    0.000 numeric.py:2099(_allclose_dispatcher)\n",
      "      117    0.000    0.000    0.009    0.000 numeric.py:2103(allclose)\n",
      "      117    0.000    0.000    0.000    0.000 numeric.py:2175(_isclose_dispatcher)\n",
      "      117    0.001    0.000    0.007    0.000 numeric.py:2179(isclose)\n",
      "      117    0.001    0.000    0.004    0.000 numeric.py:2256(within_tol)\n",
      "      758    0.001    0.000    0.005    0.000 numeric.py:290(full)\n",
      "      342    0.000    0.000    0.000    0.000 numeric.py:93(_zeros_like_dispatcher)\n",
      "      342    0.001    0.000    0.003    0.000 numeric.py:97(zeros_like)\n",
      "      488    0.000    0.000    0.001    0.000 numerictypes.py:293(issubclass_)\n",
      "      244    0.000    0.000    0.001    0.000 numerictypes.py:365(issubdtype)\n",
      "      430    0.003    0.000    0.004    0.000 numerictypes.py:578(_can_coerce_all)\n",
      "     3010    0.001    0.000    0.001    0.000 numerictypes.py:587(<listcomp>)\n",
      "      215    0.001    0.000    0.005    0.000 numerictypes.py:602(find_common_type)\n",
      "      215    0.000    0.000    0.000    0.000 numerictypes.py:654(<listcomp>)\n",
      "      215    0.000    0.000    0.000    0.000 numerictypes.py:655(<listcomp>)\n",
      "       12    0.000    0.000    0.000    0.000 optimize.py:114(__getattr__)\n",
      "       18    0.000    0.000    0.000    0.000 optimize.py:139(_check_unknown_options)\n",
      "        3    0.000    0.000    0.000    0.000 optimize.py:216(_check_optimize_result)\n",
      "       18    0.000    0.000    0.000    0.000 optimize.py:320(wrap_function)\n",
      "      257    0.000    0.000    0.273    0.001 optimize.py:325(function_wrapper)\n",
      "       18    0.000    0.000    0.000    0.000 optimize.py:58(__init__)\n",
      "      257    0.001    0.000    0.272    0.001 optimize.py:63(__call__)\n",
      "      257    0.001    0.000    0.003    0.000 optimize.py:69(derivative)\n",
      "        1    0.000    0.000    0.005    0.005 optimizer.py:163(__init__)\n",
      "       10    0.000    0.000    0.013    0.001 optimizer.py:335(ask)\n",
      "       10    0.000    0.000    0.013    0.001 optimizer.py:423(_ask)\n",
      "       10    0.000    0.000    0.361    0.036 optimizer.py:455(tell)\n",
      "       10    0.001    0.000    0.360    0.036 optimizer.py:495(_tell)\n",
      "       18    0.000    0.000    0.001    0.000 optimizer.py:574(<genexpr>)\n",
      "        3    0.000    0.000    0.000    0.000 optimizer.py:584(<listcomp>)\n",
      "        3    0.000    0.000    0.000    0.000 optimizer.py:585(<listcomp>)\n",
      "       10    0.000    0.000    0.000    0.000 optimizer.py:617(_check_y_is_valid)\n",
      "        8    0.000    0.000    0.001    0.000 os.py:1019(fdopen)\n",
      "       20    0.000    0.000    0.000    0.000 os.py:198(makedirs)\n",
      "      401    0.000    0.000    0.001    0.000 os.py:670(__getitem__)\n",
      "      288    0.000    0.000    0.000    0.000 os.py:693(__iter__)\n",
      "        8    0.000    0.000    0.001    0.000 os.py:707(copy)\n",
      "      401    0.000    0.000    0.000    0.000 os.py:748(encode)\n",
      "      560    0.000    0.000    0.000    0.000 os.py:752(decode)\n",
      "       15    0.000    0.000    0.000    0.000 parallel.py:184(__init__)\n",
      "       15    0.000    0.000    0.000    0.000 parallel.py:216(__enter__)\n",
      "       15    0.000    0.000    0.000    0.000 parallel.py:219(__exit__)\n",
      "       15    0.000    0.000    0.000    0.000 parallel.py:222(unregister)\n",
      "       65    0.000    0.000    0.000    0.000 parallel.py:245(__init__)\n",
      "       15    0.000    0.000    0.128    0.009 parallel.py:258(__call__)\n",
      "       15    0.000    0.000    0.128    0.009 parallel.py:262(<listcomp>)\n",
      "      195    0.000    0.000    0.000    0.000 parallel.py:275(__len__)\n",
      "       65    0.000    0.000    0.001    0.000 parallel.py:321(delayed)\n",
      "       65    0.000    0.000    0.000    0.000 parallel.py:324(delayed_function)\n",
      "       65    0.000    0.000    0.000    0.000 parallel.py:345(__init__)\n",
      "       15    0.000    0.000    0.000    0.000 parallel.py:350(__call__)\n",
      "       13    0.000    0.000    0.001    0.000 parallel.py:639(__init__)\n",
      "    16/13    0.000    0.000    0.006    0.000 parallel.py:732(_initialize_backend)\n",
      "       13    0.000    0.000    0.205    0.016 parallel.py:757(_terminate_backend)\n",
      "       28    0.000    0.000    0.000    0.000 parallel.py:76(get_active_backend)\n",
      "       65    0.000    0.000    0.426    0.007 parallel.py:761(_dispatch)\n",
      "       78    0.001    0.000    0.436    0.006 parallel.py:798(dispatch_one_batch)\n",
      "       26    0.000    0.000    0.000    0.000 parallel.py:864(_print)\n",
      "       15    0.000    0.000    0.000    0.000 parallel.py:877(print_progress)\n",
      "       13    0.001    0.000  158.099   12.161 parallel.py:920(retrieve)\n",
      "       13    0.001    0.000  158.747   12.211 parallel.py:960(__call__)\n",
      "      104    0.000    0.000    0.000    0.000 pickle.py:322(_getattribute)\n",
      "       20    0.000    0.000    0.000    0.000 pickle.py:335(whichmodule)\n",
      "        8    0.002    0.000    0.282    0.035 popen_loky_posix.py:122(_launch)\n",
      "       32    0.000    0.000    0.000    0.000 popen_loky_posix.py:31(__init__)\n",
      "        8    0.001    0.000    0.289    0.036 popen_loky_posix.py:47(__init__)\n",
      "       40    0.000    0.000    0.000    0.000 popen_loky_posix.py:62(duplicate_for_child)\n",
      "       36    0.000    0.000    0.000    0.000 popen_loky_posix.py:66(poll)\n",
      "       20    0.000    0.000    0.000    0.000 posixpath.py:100(split)\n",
      "       20    0.000    0.000    0.000    0.000 posixpath.py:228(expanduser)\n",
      "       20    0.000    0.000    0.000    0.000 posixpath.py:334(normpath)\n",
      "       20    0.000    0.000    0.000    0.000 posixpath.py:372(abspath)\n",
      "       90    0.000    0.000    0.000    0.000 posixpath.py:41(_get_sep)\n",
      "       20    0.000    0.000    0.000    0.000 posixpath.py:60(isabs)\n",
      "       50    0.000    0.000    0.000    0.000 posixpath.py:71(join)\n",
      "        8    0.000    0.000    0.290    0.036 process.py:110(start)\n",
      "        8    0.000    0.000    0.001    0.000 process.py:17(__init__)\n",
      "       16    0.000    0.000    0.000    0.000 process.py:189(name)\n",
      "       21    0.000    0.000    0.000    0.000 process.py:198(daemon)\n",
      "       16    0.000    0.000    0.000    0.000 process.py:213(authkey)\n",
      "        8    0.000    0.000    0.000    0.000 process.py:217(authkey)\n",
      "        8    0.000    0.000    0.000    0.000 process.py:234(ident)\n",
      "        8    0.000    0.000    0.000    0.000 process.py:259(__repr__)\n",
      "        8    0.000    0.000    0.289    0.036 process.py:33(_Popen)\n",
      "        8    0.000    0.000    0.000    0.000 process.py:344(__reduce__)\n",
      "       29    0.000    0.000    0.000    0.000 process.py:37(current_process)\n",
      "        8    0.000    0.000    0.000    0.000 process.py:61(_cleanup)\n",
      "        8    0.000    0.000    0.000    0.000 process.py:80(__init__)\n",
      "       16    0.000    0.000    0.000    0.000 process.py:94(<genexpr>)\n",
      "       16    0.000    0.000    0.000    0.000 process.py:99(_check_closed)\n",
      "        1    0.000    0.000    0.000    0.000 process_executor.py:1028(_setup_queues)\n",
      "       50    0.000    0.000    0.001    0.000 process_executor.py:1047(_start_executor_manager_thread)\n",
      "        1    0.001    0.001    0.294    0.294 process_executor.py:1085(_adjust_process_count)\n",
      "       50    0.000    0.000    0.295    0.006 process_executor.py:1104(_ensure_executor_running)\n",
      "       50    0.000    0.000    0.297    0.006 process_executor.py:1112(submit)\n",
      "        1    0.000    0.000    0.000    0.000 process_executor.py:1172(shutdown)\n",
      "        1    0.000    0.000    0.000    0.000 process_executor.py:128(__init__)\n",
      "       50    0.000    0.000    0.001    0.000 process_executor.py:138(wakeup)\n",
      "        1    0.000    0.000    0.000    0.000 process_executor.py:160(__init__)\n",
      "        1    0.000    0.000    0.000    0.000 process_executor.py:167(flag_as_shutting_down)\n",
      "       50    0.000    0.000    0.000    0.000 process_executor.py:260(__init__)\n",
      "        1    0.000    0.000    0.000    0.000 process_executor.py:297(__init__)\n",
      "        1    0.000    0.000    0.000    0.000 process_executor.py:499(__init__)\n",
      "        1    0.000    0.000    0.000    0.000 process_executor.py:850(_check_system_limits)\n",
      "        1    0.000    0.000    0.000    0.000 process_executor.py:886(_check_max_depth)\n",
      "        1    0.000    0.000    0.001    0.001 process_executor.py:940(__init__)\n",
      "      115    0.000    0.000    0.001    0.000 queue.py:121(put)\n",
      "      103    0.000    0.000    0.001    0.000 queue.py:153(get)\n",
      "       14    0.000    0.000    0.000    0.000 queue.py:205(_init)\n",
      "      103    0.000    0.000    0.000    0.000 queue.py:208(_qsize)\n",
      "      115    0.000    0.000    0.000    0.000 queue.py:212(_put)\n",
      "       65    0.000    0.000    0.000    0.000 queue.py:216(_get)\n",
      "       14    0.000    0.000    0.000    0.000 queue.py:33(__init__)\n",
      "        1    0.000    0.000    0.000    0.000 queues.py:197(__init__)\n",
      "        8    0.000    0.000    0.000    0.000 queues.py:220(__getstate__)\n",
      "        1    0.000    0.000    0.000    0.000 queues.py:334(__init__)\n",
      "        1    0.000    0.000    0.000    0.000 queues.py:34(__init__)\n",
      "        1    0.000    0.000    0.000    0.000 queues.py:36(__init__)\n",
      "        8    0.000    0.000    0.000    0.000 queues.py:65(__getstate__)\n",
      "        1    0.000    0.000    0.000    0.000 queues.py:67(_after_fork)\n",
      "      112    0.000    0.000    0.000    0.000 random.py:250(_randbelow_with_getrandbits)\n",
      "      112    0.000    0.000    0.000    0.000 random.py:285(choice)\n",
      "        2    0.000    0.000    0.000    0.000 random.py:721(getrandbits)\n",
      "       16    0.000    0.000    0.000    0.000 reduction.py:173(_set_dispatch_table)\n",
      "       16    0.000    0.000    0.002    0.000 reduction.py:194(__init__)\n",
      "       16    0.000    0.000    0.006    0.000 reduction.py:261(dump)\n",
      "        8    0.000    0.000    0.000    0.000 resource_tracker.py:134(_check_alive)\n",
      "       70    0.000    0.000    0.001    0.000 resource_tracker.py:179(_check_alive)\n",
      "       34    0.000    0.000    0.001    0.000 resource_tracker.py:188(register)\n",
      "       10    0.000    0.000    0.000    0.000 resource_tracker.py:193(unregister)\n",
      "       10    0.000    0.000    0.000    0.000 resource_tracker.py:198(maybe_unlink)\n",
      "      124    0.000    0.000    0.002    0.000 resource_tracker.py:203(_send)\n",
      "        8    0.000    0.000    0.000    0.000 resource_tracker.py:70(ensure_running)\n",
      "        8    0.000    0.000    0.000    0.000 resource_tracker.py:90(getfd)\n",
      "       70    0.000    0.000    0.001    0.000 resource_tracker.py:94(ensure_running)\n",
      "    11/10    0.000    0.000    0.001    0.000 reusable_executor.py:105(get_reusable_executor)\n",
      "       50    0.000    0.000    0.297    0.006 reusable_executor.py:175(submit)\n",
      "        9    0.000    0.000    0.000    0.000 reusable_executor.py:180(_resize)\n",
      "        1    0.000    0.000    0.000    0.000 reusable_executor.py:227(_setup_queues)\n",
      "        1    0.000    0.000    0.000    0.000 reusable_executor.py:27(_get_next_executor_id)\n",
      "        1    0.000    0.000    0.001    0.001 reusable_executor.py:94(__init__)\n",
      "      280    0.000    0.000    0.000    0.000 shape_base.py:136(_atleast_3d_dispatcher)\n",
      "      280    0.000    0.000    0.001    0.000 shape_base.py:140(atleast_3d)\n",
      "      679    0.000    0.000    0.000    0.000 shape_base.py:20(_atleast_1d_dispatcher)\n",
      "      750    0.000    0.000    0.000    0.000 shape_base.py:208(_arrays_for_stack_dispatcher)\n",
      "      470    0.000    0.000    0.000    0.000 shape_base.py:219(_vhstack_dispatcher)\n",
      "       39    0.000    0.000    0.000    0.000 shape_base.py:223(vstack)\n",
      "      679    0.001    0.000    0.003    0.000 shape_base.py:24(atleast_1d)\n",
      "      431    0.001    0.000    0.004    0.000 shape_base.py:285(hstack)\n",
      "      819    0.000    0.000    0.000    0.000 shape_base.py:508(_expand_dims_dispatcher)\n",
      "      819    0.002    0.000    0.003    0.000 shape_base.py:512(expand_dims)\n",
      "      280    0.000    0.000    0.000    0.000 shape_base.py:644(_dstack_dispatcher)\n",
      "      280    0.000    0.000    0.003    0.000 shape_base.py:648(dstack)\n",
      "     1860    0.000    0.000    0.000    0.000 shape_base.py:78(_atleast_2d_dispatcher)\n",
      "     1860    0.003    0.000    0.008    0.000 shape_base.py:82(atleast_2d)\n",
      "       10    0.000    0.000    0.000    0.000 shutil.py:625(_rmtree_safe_fd)\n",
      "       10    0.000    0.000    0.001    0.000 shutil.py:682(rmtree)\n",
      "      384    0.000    0.000    0.001    0.000 six.py:130(callable)\n",
      "     1155    0.000    0.000    0.000    0.000 six.py:131(<genexpr>)\n",
      "        1    0.000    0.000    0.000    0.000 six.py:194(find_spec)\n",
      "       32    0.001    0.000    0.001    0.000 socket.py:357(send)\n",
      "    10013    0.001    0.000    0.002    0.000 space.py:1009(n_dims)\n",
      "        1    0.000    0.000    0.000    0.000 space.py:1014(transformed_n_dims)\n",
      "        1    0.000    0.000    0.000    0.000 space.py:1017(<listcomp>)\n",
      "       10    0.000    0.000    0.000    0.000 space.py:1032(__contains__)\n",
      "       16    0.000    0.000    0.000    0.000 space.py:1091(transformed_bounds)\n",
      "        4    0.000    0.000    0.000    0.000 space.py:1104(is_categorical)\n",
      "        4    0.000    0.000    0.000    0.000 space.py:1107(<listcomp>)\n",
      "       33    0.000    0.000    0.015    0.000 space.py:144(rvs)\n",
      "        6    0.000    0.000    0.001    0.000 space.py:160(transform)\n",
      "       36    0.000    0.000    0.003    0.000 space.py:164(inverse_transform)\n",
      "       54    0.000    0.000    0.000    0.000 space.py:177(transformed_size)\n",
      "       30    0.000    0.000    0.000    0.000 space.py:193(name)\n",
      "        9    0.000    0.000    0.016    0.002 space.py:205(_uniform_inclusive)\n",
      "       12    0.023    0.002    0.023    0.002 space.py:27(_transpose_list_array)\n",
      "        9    0.000    0.000    0.017    0.002 space.py:284(set_transformer)\n",
      "       36    0.000    0.000    0.006    0.000 space.py:337(inverse_transform)\n",
      "       30    0.000    0.000    0.000    0.000 space.py:361(__contains__)\n",
      "       48    0.000    0.000    0.000    0.000 space.py:366(transformed_bounds)\n",
      "       27    0.000    0.000    0.000    0.000 space.py:43(check_dimension)\n",
      "        9    0.000    0.000    0.000    0.000 space.py:770(__init__)\n",
      "        9    0.000    0.000    0.000    0.000 space.py:771(<listcomp>)\n",
      "        4    0.000    0.000    0.000    0.000 space.py:783(__iter__)\n",
      "       11    0.000    0.000    0.038    0.003 space.py:874(rvs)\n",
      "        2    0.006    0.003    0.011    0.005 space.py:942(transform)\n",
      "        2    0.000    0.000    0.000    0.000 space.py:972(<listcomp>)\n",
      "        1    0.000    0.000    0.000    0.000 space.py:976(inverse_transform)\n",
      "        8    0.000    0.000    0.000    0.000 spawn.py:35(_check_not_importing_main)\n",
      "        8    0.000    0.000    0.001    0.000 spawn.py:53(get_preparation_data)\n",
      "        8    0.000    0.000    0.000    0.000 spawn.py:68(<listcomp>)\n",
      "       10    0.000    0.000    0.082    0.008 spherical_invariants.py:208(__init__)\n",
      "       20    0.000    0.000    0.000    0.000 spherical_invariants.py:295(update_hyperparameters)\n",
      "       20    0.000    0.000    0.000    0.000 spherical_invariants.py:320(<dictcomp>)\n",
      "       10    6.582    0.658    7.393    0.739 spherical_invariants.py:325(transform)\n",
      "       36    0.000    0.000    0.000    0.000 sputils.py:187(isintlike)\n",
      "       18    0.000    0.000    0.000    0.000 sputils.py:209(isshape)\n",
      "       33    0.001    0.000    0.001    0.000 stride_tricks.py:185(_broadcast_shape)\n",
      "       33    0.000    0.000    0.000    0.000 stride_tricks.py:202(_broadcast_arrays_dispatcher)\n",
      "       33    0.000    0.000    0.001    0.000 stride_tricks.py:206(broadcast_arrays)\n",
      "       33    0.000    0.000    0.000    0.000 stride_tricks.py:262(<listcomp>)\n",
      "       99    0.000    0.000    0.000    0.000 stride_tricks.py:266(<genexpr>)\n",
      "       10    2.061    0.206    2.061    0.206 structure_manager.py:117(get_features)\n",
      "       10    0.042    0.004    0.151    0.015 structure_manager.py:231(convert_to_structure_list)\n",
      "     2000    0.009    0.000    0.030    0.000 structure_manager.py:265(sanitize_non_periodic_structure)\n",
      "     2000    0.002    0.000    0.004    0.000 structure_manager.py:298(is_ase_Atoms)\n",
      "     2000    0.010    0.000    0.073    0.000 structure_manager.py:311(unpack_ase)\n",
      "       10    0.658    0.066    0.811    0.081 structure_manager.py:35(__init__)\n",
      "       14    0.000    0.000    0.000    0.000 synchronize.py:105(_make_methods)\n",
      "       50    0.000    0.000    0.000    0.000 synchronize.py:109(__enter__)\n",
      "       50    0.000    0.000    0.000    0.000 synchronize.py:112(__exit__)\n",
      "       56    0.000    0.000    0.000    0.000 synchronize.py:115(__getstate__)\n",
      "       14    0.000    0.000    0.001    0.000 synchronize.py:127(_make_name)\n",
      "        9    0.000    0.000    0.003    0.000 synchronize.py:161(__init__)\n",
      "        5    0.000    0.000    0.000    0.000 synchronize.py:179(__init__)\n",
      "       14    0.001    0.000    0.003    0.000 synchronize.py:63(__init__)\n",
      "       14    0.000    0.000    0.000    0.000 tempfile.py:133(rng)\n",
      "       14    0.000    0.000    0.001    0.000 tempfile.py:144(__next__)\n",
      "       14    0.000    0.000    0.000    0.000 tempfile.py:147(<listcomp>)\n",
      "       48    0.000    0.000    0.000    0.000 threading.py:1017(_wait_for_tstate_lock)\n",
      "       48    0.000    0.000    0.000    0.000 threading.py:1071(is_alive)\n",
      "        1    0.000    0.000    0.000    0.000 threading.py:1095(daemon)\n",
      "        1    0.000    0.000    0.000    0.000 threading.py:1110(daemon)\n",
      "        1    0.000    0.000    0.000    0.000 threading.py:1177(_make_invoke_excepthook)\n",
      "       14    0.000    0.000    0.000    0.000 threading.py:1306(current_thread)\n",
      "      110    0.000    0.000    0.000    0.000 threading.py:222(__init__)\n",
      "      335    0.000    0.000    0.000    0.000 threading.py:246(__enter__)\n",
      "      335    0.000    0.000    0.000    0.000 threading.py:249(__exit__)\n",
      "       15    0.000    0.000    0.000    0.000 threading.py:255(_release_save)\n",
      "       15    0.000    0.000    0.000    0.000 threading.py:258(_acquire_restore)\n",
      "      195    0.000    0.000    0.000    0.000 threading.py:261(_is_owned)\n",
      "       38    0.000    0.000  158.102    4.161 threading.py:270(wait)\n",
      "      180    0.000    0.000    0.000    0.000 threading.py:341(notify)\n",
      "       17    0.000    0.000    0.000    0.000 threading.py:505(__init__)\n",
      "       50    0.000    0.000    0.000    0.000 threading.py:513(is_set)\n",
      "       17    0.000    0.000    0.005    0.000 threading.py:540(wait)\n",
      "        1    0.000    0.000    0.000    0.000 threading.py:761(__init__)\n",
      "       63    0.000    0.000    0.000    0.000 threading.py:81(RLock)\n",
      "        1    0.000    0.000    0.001    0.001 threading.py:834(start)\n",
      "        9    0.000    0.000    0.000    0.000 transformers.py:237(__init__)\n",
      "        4    0.000    0.000    0.000    0.000 transformers.py:24(transform)\n",
      "        6    0.000    0.000    0.001    0.000 transformers.py:243(transform)\n",
      "       36    0.001    0.000    0.002    0.000 transformers.py:267(inverse_transform)\n",
      "       24    0.000    0.000    0.000    0.000 transformers.py:27(inverse_transform)\n",
      "        9    0.000    0.000    0.000    0.000 transformers.py:288(__init__)\n",
      "        6    0.000    0.000    0.001    0.000 transformers.py:302(transform)\n",
      "       36    0.000    0.000    0.003    0.000 transformers.py:307(inverse_transform)\n",
      "        3    0.000    0.000    0.000    0.000 transformers.py:88(__init__)\n",
      "        2    0.000    0.000    0.001    0.000 transformers.py:91(transform)\n",
      "       12    0.001    0.000    0.001    0.000 transformers.py:94(inverse_transform)\n",
      "      422    0.001    0.000    0.002    0.000 twodim_base.py:154(eye)\n",
      "      140    0.000    0.000    0.000    0.000 twodim_base.py:212(_diag_dispatcher)\n",
      "      140    0.000    0.000    0.001    0.000 twodim_base.py:216(diag)\n",
      "       15    0.000    0.000    0.000    0.000 util.py:171(register_after_fork)\n",
      "       22    0.000    0.000    0.000    0.000 util.py:186(__init__)\n",
      "       48    0.000    0.000    0.000    0.000 util.py:48(debug)\n",
      "       80    0.000    0.000    0.000    0.000 utils.py:177(is_listlike)\n",
      "       10    0.000    0.000    0.001    0.000 utils.py:181(is_2Dlistlike)\n",
      "       10    0.000    0.000    0.000    0.000 utils.py:182(<listcomp>)\n",
      "       10    0.000    0.000    0.001    0.000 utils.py:185(check_x_in_space)\n",
      "       10    0.000    0.000    0.001    0.000 utils.py:29(create_result)\n",
      "        2    0.000    0.000    0.001    0.000 utils.py:301(has_gradients)\n",
      "        2    0.000    0.000    0.000    0.000 utils.py:327(<listcomp>)\n",
      "        1    0.000    0.000    0.006    0.006 utils.py:333(cook_estimator)\n",
      "        1    0.000    0.000    0.000    0.000 utils.py:408(cook_initial_point_generator)\n",
      "        3    0.000    0.000    0.017    0.006 utils.py:569(normalize_dimensions)\n",
      "       10    0.000    0.000    0.000    0.000 utils.py:75(eval_callbacks)\n",
      "       10    0.000    0.000  168.447   16.845 utils.py:755(wrapper)\n",
      "       10    0.000    0.000    0.000    0.000 utils.py:786(<dictcomp>)\n",
      "       33    0.000    0.000    0.000    0.000 uuid.py:132(__init__)\n",
      "       33    0.000    0.000    0.000    0.000 uuid.py:327(hex)\n",
      "       33    0.000    0.000    0.000    0.000 uuid.py:780(uuid4)\n",
      "     2081    0.005    0.000    0.011    0.000 validation.py:136(_num_samples)\n",
      "       31    0.000    0.000    0.004    0.000 validation.py:197(check_consistent_length)\n",
      "       31    0.000    0.000    0.000    0.000 validation.py:208(<listcomp>)\n",
      "       90    0.000    0.000    0.000    0.000 validation.py:215(_make_indexable)\n",
      "       30    0.000    0.000    0.004    0.000 validation.py:235(indexable)\n",
      "       30    0.000    0.000    0.000    0.000 validation.py:247(<listcomp>)\n",
      "      132    0.000    0.000    0.000    0.000 validation.py:343(_ensure_no_complex_data)\n",
      "      132    0.002    0.000    0.010    0.000 validation.py:350(check_array)\n",
      "      132    0.002    0.000    0.005    0.000 validation.py:37(_assert_all_finite)\n",
      "        1    0.000    0.000    0.001    0.001 validation.py:636(check_X_y)\n",
      "       47    0.001    0.000    0.002    0.000 validation.py:800(check_random_state)\n",
      "      256    0.000    0.000    0.001    0.000 warnings.py:165(simplefilter)\n",
      "      256    0.001    0.000    0.001    0.000 warnings.py:181(_add_filter)\n",
      "      256    0.000    0.000    0.000    0.000 warnings.py:437(__init__)\n",
      "      256    0.001    0.000    0.001    0.000 warnings.py:458(__enter__)\n",
      "      256    0.000    0.000    0.000    0.000 warnings.py:477(__exit__)\n",
      "       15    0.000    0.000    0.000    0.000 weakref.py:159(__setitem__)\n",
      "       15    0.000    0.000    0.000    0.000 weakref.py:323(__new__)\n",
      "       15    0.000    0.000    0.000    0.000 weakref.py:328(__init__)\n",
      "        1    0.000    0.000    0.000    0.000 weakref.py:395(__setitem__)\n",
      "     1362    0.000    0.000    0.000    0.000 {built-in method __new__ of type object at 0x5606d12bce20}\n",
      "     2260    0.002    0.000    0.003    0.000 {built-in method _abc._abc_instancecheck}\n",
      "     2093    0.001    0.000    0.001    0.000 {built-in method _abc._abc_subclasscheck}\n",
      "       42    0.000    0.000    0.000    0.000 {built-in method _codecs.utf_8_decode}\n",
      "        6    0.000    0.000    0.000    0.000 {built-in method _imp.acquire_lock}\n",
      "        1    0.000    0.000    0.000    0.000 {built-in method _imp.is_builtin}\n",
      "        1    0.000    0.000    0.000    0.000 {built-in method _imp.is_frozen}\n",
      "       16    0.000    0.000    0.000    0.000 {built-in method _imp.lock_held}\n",
      "        6    0.000    0.000    0.000    0.000 {built-in method _imp.release_lock}\n",
      "       42    0.000    0.000    0.000    0.000 {built-in method _locale.nl_langinfo}\n",
      "       36    0.000    0.000    0.000    0.000 {built-in method _operator.index}\n",
      "       10    0.000    0.000    0.000    0.000 {built-in method _stat.S_ISDIR}\n",
      "       50    0.000    0.000    0.000    0.000 {built-in method _struct.pack}\n",
      "       73    0.000    0.000    0.000    0.000 {built-in method _thread.allocate_lock}\n",
      "       16    0.000    0.000    0.000    0.000 {built-in method _thread.get_ident}\n",
      "        1    0.000    0.000    0.000    0.000 {built-in method _thread.start_new_thread}\n",
      "      768    0.000    0.000    0.000    0.000 {built-in method _warnings._filters_mutated}\n",
      "       20    0.000    0.000    0.000    0.000 {built-in method atexit.register}\n",
      "       10    0.000    0.000    0.000    0.000 {built-in method atexit.unregister}\n",
      "      234    0.000    0.000    0.000    0.000 {built-in method builtins.abs}\n",
      "       82    0.000    0.000    0.000    0.000 {built-in method builtins.all}\n",
      "      386    0.000    0.000    0.001    0.000 {built-in method builtins.any}\n",
      "     1486    0.000    0.000    0.000    0.000 {built-in method builtins.callable}\n",
      "      882    0.016    0.000    0.016    0.000 {built-in method builtins.dir}\n",
      "       10    0.000    0.000    0.000    0.000 {built-in method builtins.eval}\n",
      "     10/1    0.002    0.000  168.841  168.841 {built-in method builtins.exec}\n",
      "    14846    0.004    0.000    0.014    0.000 {built-in method builtins.getattr}\n",
      "    17940    0.004    0.000    0.004    0.000 {built-in method builtins.hasattr}\n",
      "     2070    0.000    0.000    0.000    0.000 {built-in method builtins.id}\n",
      "    24909    0.005    0.000    0.009    0.000 {built-in method builtins.isinstance}\n",
      "     1100    0.000    0.000    0.000    0.000 {built-in method builtins.issubclass}\n",
      "      750    0.000    0.000    0.000    0.000 {built-in method builtins.iter}\n",
      "    28737    0.003    0.000    0.003    0.000 {built-in method builtins.len}\n",
      "        2    0.000    0.000    0.000    0.000 {built-in method builtins.locals}\n",
      "      361    0.000    0.000    0.000    0.000 {built-in method builtins.max}\n",
      "      780    0.000    0.000    0.000    0.000 {built-in method builtins.min}\n",
      "       85    0.000    0.000    0.001    0.000 {built-in method builtins.next}\n",
      "       10    0.000    0.000    0.000    0.000 {built-in method builtins.repr}\n",
      "     1352    0.000    0.000    0.000    0.000 {built-in method builtins.setattr}\n",
      "      115    0.000    0.000    0.000    0.000 {built-in method builtins.sorted}\n",
      "        1    0.000    0.000    0.000    0.000 {built-in method builtins.sum}\n",
      "       35    0.000    0.000    0.000    0.000 {built-in method from_bytes}\n",
      "       50    0.001    0.000    0.001    0.000 {built-in method io.open}\n",
      "      612    0.000    0.000    0.000    0.000 {built-in method math.sqrt}\n",
      "      151    0.000    0.000    0.000    0.000 {built-in method numpy.arange}\n",
      "    19289    0.029    0.000    0.030    0.000 {built-in method numpy.array}\n",
      "      431    0.001    0.000    0.001    0.000 {built-in method numpy.core._multiarray_umath._insert}\n",
      "      558    0.013    0.000    0.013    0.000 {built-in method numpy.core._multiarray_umath.c_einsum}\n",
      "19082/14084    0.020    0.000    0.118    0.000 {built-in method numpy.core._multiarray_umath.implement_array_function}\n",
      "      141    0.000    0.000    0.000    0.000 {built-in method numpy.core._multiarray_umath.normalize_axis_index}\n",
      "     1308    0.002    0.000    0.002    0.000 {built-in method numpy.empty}\n",
      "      476    0.000    0.000    0.000    0.000 {built-in method numpy.geterrobj}\n",
      "      238    0.000    0.000    0.000    0.000 {built-in method numpy.seterrobj}\n",
      "     1626    0.002    0.000    0.002    0.000 {built-in method numpy.zeros}\n",
      "       26    0.000    0.000    0.000    0.000 {built-in method posix.close}\n",
      "       21    0.000    0.000    0.000    0.000 {built-in method posix.cpu_count}\n",
      "        8    0.268    0.033    0.270    0.034 {built-in method posix.fork}\n",
      "      150    0.000    0.000    0.000    0.000 {built-in method posix.fspath}\n",
      "       10    0.000    0.000    0.000    0.000 {built-in method posix.fstat}\n",
      "        9    0.000    0.000    0.000    0.000 {built-in method posix.getcwd}\n",
      "       95    0.000    0.000    0.000    0.000 {built-in method posix.getpid}\n",
      "       23    0.001    0.000    0.001    0.000 {built-in method posix.listdir}\n",
      "       10    0.000    0.000    0.000    0.000 {built-in method posix.lstat}\n",
      "       20    0.000    0.000    0.000    0.000 {built-in method posix.mkdir}\n",
      "       10    0.000    0.000    0.000    0.000 {built-in method posix.open}\n",
      "       19    0.000    0.000    0.000    0.000 {built-in method posix.pipe}\n",
      "       10    0.000    0.000    0.000    0.000 {built-in method posix.rmdir}\n",
      "       10    0.000    0.000    0.000    0.000 {built-in method posix.scandir}\n",
      "       21    0.000    0.000    0.000    0.000 {built-in method posix.sched_getaffinity}\n",
      "       96    0.000    0.000    0.000    0.000 {built-in method posix.set_inheritable}\n",
      "       20    0.000    0.000    0.000    0.000 {built-in method posix.statvfs}\n",
      "      130    0.001    0.000    0.001    0.000 {built-in method posix.stat}\n",
      "        1    0.000    0.000    0.000    0.000 {built-in method posix.sysconf}\n",
      "       35    0.000    0.000    0.000    0.000 {built-in method posix.urandom}\n",
      "       36    0.000    0.000    0.000    0.000 {built-in method posix.waitpid}\n",
      "      182    0.001    0.000    0.001    0.000 {built-in method posix.write}\n",
      "      237    0.002    0.000    0.002    0.000 {built-in method scipy.spatial._distance_wrap.cdist_euclidean_double_wrap}\n",
      "      141    0.000    0.000    0.000    0.000 {built-in method scipy.spatial._distance_wrap.pdist_euclidean_double_wrap}\n",
      "      141    0.000    0.000    0.000    0.000 {built-in method scipy.spatial._distance_wrap.to_squareform_from_vector_wrap}\n",
      "       10    0.000    0.000    0.000    0.000 {built-in method sys.audit}\n",
      "     1439    0.000    0.000    0.000    0.000 {built-in method sys.getrecursionlimit}\n",
      "        2    0.200    0.100    0.200    0.100 {built-in method time.sleep}\n",
      "      106    0.000    0.000    0.000    0.000 {built-in method time.time}\n",
      "       16    0.001    0.000    0.004    0.000 {function CloudPickler.dump at 0x7f5abfe85ca0}\n",
      "        2    0.000    0.000    0.000    0.000 {function SeedSequence.generate_state at 0x7f5ad80e31f0}\n",
      "        2    0.000    0.000    0.000    0.000 {method '__deepcopy__' of 'numpy.ndarray' objects}\n",
      "      100    0.000    0.000    0.000    0.000 {method '__enter__' of '_thread.RLock' objects}\n",
      "      235    0.000    0.000    0.000    0.000 {method '__enter__' of '_thread.lock' objects}\n",
      "      100    0.000    0.000    0.000    0.000 {method '__exit__' of '_thread.RLock' objects}\n",
      "      235    0.000    0.000    0.000    0.000 {method '__exit__' of '_thread.lock' objects}\n",
      "       23    0.000    0.000    0.000    0.000 {method '_acquire_restore' of '_thread.RLock' objects}\n",
      "       23    0.000    0.000    0.000    0.000 {method '_is_owned' of '_thread.RLock' objects}\n",
      "       23    0.000    0.000    0.000    0.000 {method '_release_save' of '_thread.RLock' objects}\n",
      "       58    0.000    0.000    0.000    0.000 {method 'acquire' of '_multiprocessing.SemLock' objects}\n",
      "        8    0.000    0.000    0.000    0.000 {method 'acquire' of '_thread.RLock' objects}\n",
      "      334  158.101    0.473  158.101    0.473 {method 'acquire' of '_thread.lock' objects}\n",
      "       17    0.000    0.000    0.000    0.000 {method 'add' of 'set' objects}\n",
      "       66    0.000    0.000    0.001    0.000 {method 'all' of 'numpy.generic' objects}\n",
      "      706    0.000    0.000    0.002    0.000 {method 'all' of 'numpy.ndarray' objects}\n",
      "      185    0.000    0.000    0.000    0.000 {method 'append' of 'collections.deque' objects}\n",
      "    47381    0.004    0.000    0.004    0.000 {method 'append' of 'list' objects}\n",
      "        1    0.000    0.000    0.000    0.000 {method 'argmax' of 'numpy.ndarray' objects}\n",
      "     2014    0.001    0.000    0.001    0.000 {method 'argmin' of 'numpy.ndarray' objects}\n",
      "       23    0.003    0.000    0.003    0.000 {method 'argsort' of 'numpy.ndarray' objects}\n",
      "     2414    0.003    0.000    0.003    0.000 {method 'astype' of 'numpy.ndarray' objects}\n",
      "      112    0.000    0.000    0.000    0.000 {method 'bit_length' of 'int' objects}\n",
      "       39    0.000    0.000    0.002    0.000 {method 'clip' of 'numpy.ndarray' objects}\n",
      "      222    0.000    0.000    0.000    0.000 {method 'copy' of 'dict' objects}\n",
      "    10257    0.011    0.000    0.011    0.000 {method 'copy' of 'numpy.ndarray' objects}\n",
      "       33    0.000    0.000    0.000    0.000 {method 'count' of 'list' objects}\n",
      "       10    0.000    0.000    0.000    0.000 {method 'cumsum' of 'numpy.ndarray' objects}\n",
      "      560    0.000    0.000    0.000    0.000 {method 'decode' of 'bytes' objects}\n",
      "      140    0.000    0.000    0.000    0.000 {method 'diagonal' of 'numpy.ndarray' objects}\n",
      "        1    0.000    0.000    0.000    0.000 {method 'disable' of '_lsprof.Profiler' objects}\n",
      "      121    0.001    0.000    0.001    0.000 {method 'dot' of 'numpy.ndarray' objects}\n",
      "      525    0.000    0.000    0.000    0.000 {method 'encode' of 'str' objects}\n",
      "      170    0.000    0.000    0.000    0.000 {method 'endswith' of 'str' objects}\n",
      "      576    0.001    0.000    0.001    0.000 {method 'expandtabs' of 'str' objects}\n",
      "       73    0.000    0.000    0.000    0.000 {method 'extend' of 'list' objects}\n",
      "       41    0.000    0.000    0.000    0.000 {method 'flatten' of 'numpy.ndarray' objects}\n",
      "      177    0.000    0.000    0.001    0.000 {method 'format' of 'str' objects}\n",
      "    11276    0.002    0.000    0.002    0.000 {method 'get' of 'dict' objects}\n",
      "        8    0.000    0.000    0.000    0.000 {method 'getbuffer' of '_io.BytesIO' objects}\n",
      "      191    0.000    0.000    0.000    0.000 {method 'getrandbits' of '_random.Random' objects}\n",
      "      668    0.000    0.000    0.000    0.000 {method 'index' of 'list' objects}\n",
      "      361    0.000    0.000    0.000    0.000 {method 'insert' of 'list' objects}\n",
      "     5405    0.001    0.000    0.001    0.000 {method 'isidentifier' of 'str' objects}\n",
      "     4244    0.001    0.000    0.001    0.000 {method 'items' of 'dict' objects}\n",
      "      655    0.000    0.000    0.000    0.000 {method 'join' of 'str' objects}\n",
      "     2001    0.001    0.000    0.001    0.000 {method 'keys' of 'dict' objects}\n",
      "      664    0.000    0.000    0.000    0.000 {method 'lower' of 'str' objects}\n",
      "      945    0.000    0.000    0.000    0.000 {method 'lstrip' of 'str' objects}\n",
      "       16    0.000    0.000    0.000    0.000 {method 'mro' of 'type' objects}\n",
      "        1    0.000    0.000    0.000    0.000 {method 'multinomial' of 'numpy.random.mtrand.RandomState' objects}\n",
      "      322    0.000    0.000    0.000    0.000 {method 'nonzero' of 'numpy.ndarray' objects}\n",
      "       12    0.000    0.000    0.000    0.000 {method 'partition' of 'str' objects}\n",
      "     1192    0.000    0.000    0.000    0.000 {method 'pop' of 'dict' objects}\n",
      "       75    0.000    0.000    0.000    0.000 {method 'pop' of 'list' objects}\n",
      "       65    0.000    0.000    0.000    0.000 {method 'popleft' of 'collections.deque' objects}\n",
      "        1    0.000    0.000    0.000    0.000 {method 'randint' of 'numpy.random.mtrand.RandomState' objects}\n",
      "      807    0.001    0.000    0.001    0.000 {method 'ravel' of 'numpy.ndarray' objects}\n",
      "       42    0.000    0.000    0.000    0.000 {method 'read' of '_io.TextIOWrapper' objects}\n",
      "     4894    0.019    0.000    0.019    0.000 {method 'reduce' of 'numpy.ufunc' objects}\n",
      "       50    0.000    0.000    0.000    0.000 {method 'release' of '_multiprocessing.SemLock' objects}\n",
      "        8    0.000    0.000    0.000    0.000 {method 'release' of '_thread.RLock' objects}\n",
      "       15    0.000    0.000    0.000    0.000 {method 'release' of '_thread.lock' objects}\n",
      "      256    0.000    0.000    0.000    0.000 {method 'remove' of 'list' objects}\n",
      "       54    0.001    0.000    0.001    0.000 {method 'replace' of 'str' objects}\n",
      "     5288    0.004    0.000    0.004    0.000 {method 'reshape' of 'numpy.ndarray' objects}\n",
      "       20    0.000    0.000    0.000    0.000 {method 'rfind' of 'str' objects}\n",
      "      203    0.000    0.000    0.000    0.000 {method 'rpartition' of 'str' objects}\n",
      "      368    0.000    0.000    0.000    0.000 {method 'rsplit' of 'str' objects}\n",
      "      100    0.000    0.000    0.000    0.000 {method 'rstrip' of 'str' objects}\n",
      "       31    0.002    0.000    0.002    0.000 {method 'sort' of 'numpy.ndarray' objects}\n",
      "     1112    0.000    0.000    0.000    0.000 {method 'split' of 'str' objects}\n",
      "      576    0.001    0.000    0.001    0.000 {method 'splitlines' of 'str' objects}\n",
      "      378    0.000    0.000    0.000    0.000 {method 'squeeze' of 'numpy.ndarray' objects}\n",
      "      699    0.000    0.000    0.000    0.000 {method 'startswith' of 'bytes' objects}\n",
      "    43471    0.005    0.000    0.005    0.000 {method 'startswith' of 'str' objects}\n",
      "       36    0.000    0.000    0.000    0.000 {method 'strip' of 'bytes' objects}\n",
      "      560    0.000    0.000    0.003    0.000 {method 'sum' of 'numpy.ndarray' objects}\n",
      "      322    0.001    0.000    0.001    0.000 {method 'take' of 'numpy.ndarray' objects}\n",
      "       36    0.001    0.000    0.001    0.000 {method 'tolist' of 'numpy.ndarray' objects}\n",
      "      487    0.000    0.000    0.000    0.000 {method 'tostring' of 'numpy.ndarray' objects}\n",
      "       35    0.001    0.000    0.001    0.000 {method 'uniform' of 'numpy.random.mtrand.RandomState' objects}\n",
      "      221    0.001    0.000    0.001    0.000 {method 'update' of 'dict' objects}\n",
      "        1    0.000    0.000    0.000    0.000 {method 'upper' of 'str' objects}\n",
      "     1547    0.000    0.000    0.000    0.000 {method 'values' of 'mappingproxy' objects}\n",
      "        8    0.000    0.000    0.000    0.000 {method 'write' of '_io.BufferedWriter' objects}\n",
      "\n",
      "\n"
     ]
    }
   ],
   "source": [
    "cProfile.run(\"gp_minimize(soap_objective, space, n_calls=10, random_state=0)\")"
   ]
  },
  {
   "cell_type": "code",
   "execution_count": null,
   "id": "149b2dd9-0e2c-42be-862e-7edd40e701e1",
   "metadata": {},
   "outputs": [],
   "source": [
    "import matplotlib.pyplot as plt"
   ]
  },
  {
   "cell_type": "code",
   "execution_count": null,
   "id": "74ad537c-e60d-4ef6-8ce8-ed96a2c31b0f",
   "metadata": {},
   "outputs": [],
   "source": [
    "from skopt.plots import plot_convergence\n",
    "\n",
    "\n",
    "plot_convergence(res_gp)\n",
    "plt.xlim(3,50)\n",
    "plt.ylim(0.8,1.)"
   ]
  },
  {
   "cell_type": "code",
   "execution_count": null,
   "id": "029d7fdf-c30f-4823-bb92-13c8ac54fa1c",
   "metadata": {},
   "outputs": [],
   "source": [
    "reg."
   ]
  },
  {
   "cell_type": "code",
   "execution_count": 41,
   "id": "28cc2f15-4ceb-473d-9cc2-59b0e4932688",
   "metadata": {},
   "outputs": [
    {
     "data": {
      "text/plain": [
       "[0.0033970924303804028, 0.05557628804633241, 3.6601119046746073]"
      ]
     },
     "execution_count": 41,
     "metadata": {},
     "output_type": "execute_result"
    }
   ],
   "source": [
    "res_gp.x"
   ]
  },
  {
   "cell_type": "code",
   "execution_count": 26,
   "id": "f32eb82f-b795-4ce9-b27d-948e9e3e376e",
   "metadata": {},
   "outputs": [
    {
     "data": {
      "text/plain": [
       "0.8944271909999159"
      ]
     },
     "execution_count": 26,
     "metadata": {},
     "output_type": "execute_result"
    }
   ],
   "source": [
    "np.sqrt(0.8)"
   ]
  },
  {
   "cell_type": "code",
   "execution_count": null,
   "id": "8b9bf625-d016-48d2-9b02-2e882ae99e0d",
   "metadata": {},
   "outputs": [],
   "source": []
  },
  {
   "cell_type": "code",
   "execution_count": 6,
   "id": "421dd0b9-22b5-45e6-a62c-a2b1e18d49d7",
   "metadata": {},
   "outputs": [],
   "source": [
    "\n",
    "def split(a, n):\n",
    "    k, m = divmod(len(a), n)\n",
    "    return (a[i*k+min(i, m):(i+1)*k+min(i+1, m)] for i in range(n))\n"
   ]
  },
  {
   "cell_type": "code",
   "execution_count": 54,
   "id": "afb0b741-c4df-46c4-a649-1e99619fe5a5",
   "metadata": {},
   "outputs": [
    {
     "data": {
      "text/plain": [
       "[range(0, 4), range(4, 7), range(7, 10)]"
      ]
     },
     "execution_count": 54,
     "metadata": {},
     "output_type": "execute_result"
    }
   ],
   "source": [
    "list(split(range(10),3))"
   ]
  },
  {
   "cell_type": "code",
   "execution_count": 48,
   "id": "4ef11926-06cd-46f6-a527-45073d24b434",
   "metadata": {},
   "outputs": [
    {
     "name": "stdout",
     "output_type": "stream",
     "text": [
      "Help on built-in function divmod in module builtins:\n",
      "\n",
      "divmod(x, y, /)\n",
      "    Return the tuple (x//y, x%y).  Invariant: div*y + mod == x.\n",
      "\n"
     ]
    }
   ],
   "source": [
    "help(divmod)"
   ]
  },
  {
   "cell_type": "code",
   "execution_count": null,
   "id": "39a2ed7b-40de-4252-bd2e-b7163c678600",
   "metadata": {},
   "outputs": [],
   "source": []
  },
  {
   "cell_type": "code",
   "execution_count": 4,
   "id": "a9be9fe9-09fa-49d2-8a28-be23fd82241f",
   "metadata": {},
   "outputs": [],
   "source": [
    "from helpers import grouper"
   ]
  },
  {
   "cell_type": "code",
   "execution_count": 5,
   "id": "e39af5ff-80a1-4978-9ddc-f4648b9bb126",
   "metadata": {},
   "outputs": [],
   "source": [
    "\n",
    "from joblib import Parallel, delayed"
   ]
  },
  {
   "cell_type": "code",
   "execution_count": 101,
   "id": "ca26ea76-1f26-40a9-ad84-e65caadfd7c1",
   "metadata": {},
   "outputs": [],
   "source": [
    "import joblib\n",
    "from itertools import combinations_with_replacement\n",
    "from joblib import Parallel, delayed, parallel_backend\n",
    "from helpers import grouper\n",
    "from joblib.externals.loky import set_loky_pickler\n",
    "\n",
    "def split(a, n):\n",
    "    #splits a list into n chunks, fails if len(a) is 0\n",
    "    k, m = divmod(len(a), n)\n",
    "    return (a[i*k+min(i, m):(i+1)*k+min(i+1, m)] for i in range(n))\n",
    "\n",
    "def get_features(frames,calculator,hypers):\n",
    "    calculatorinstance = calculator(**hypers)\n",
    "    #print(\"worker spawned\")\n",
    "    return calculatorinstance.transform(frames).get_features(calculatorinstance)\n",
    "\n",
    "def get_features_by_species(frames,calculator,hypers):\n",
    "    calculatorinstance = calculator(**hypers)\n",
    "    #print(\"worker spawned\")\n",
    "    return calculatorinstance.transform(frames).get_features_by_species(calculatorinstance)\n",
    "\n",
    "\n",
    "def get_features_in_parallel(frames,calculator,hypers,blocks=4):\n",
    "    \"\"\"helper function that returns the features of a calculator (from calculator.transform())\n",
    "       in parallel\n",
    "    \"\"\"\n",
    "    \n",
    "    #block is necessary to ensure that shape of the chunks is equal\n",
    "    #replace by get_atomic_species functions\n",
    "    \n",
    "\n",
    "    with parallel_backend(backend=\"threading\"):\n",
    "        results = Parallel(n_jobs=joblib.cpu_count())(delayed(get_features)(frame, calculator, hypers) for frame in grouper(25,frames))\n",
    "    \n",
    "    return np.concatenate(results)\n",
    "\n",
    "def get_features_in_parallel_by_species(frames,calculator,hypers,blocksize=25):\n",
    "    \"\"\"helper function that returns the features of a calculator (from calculator.transform())\n",
    "       in parallel\n",
    "    \"\"\"\n",
    "    \n",
    "    #block is necessary to ensure that shape of the chunks is equal\n",
    "    #replace by get_atomic_species functions\n",
    "    \n",
    "\n",
    "    with parallel_backend(backend=\"threading\"):\n",
    "        intermediate_results = Parallel(n_jobs=joblib.cpu_count())(delayed(get_features_by_species)(frame, calculator, hypers) for frame in grouper(blocksize,frames))\n",
    "    \n",
    "    results = {}\n",
    "    \n",
    "    for key in intermediate_results[0].keys():\n",
    "        results[key] = np.concatenate([chunk[key] for chunk in intermediate_results])\n",
    "    \n",
    "    return results\n"
   ]
  },
  {
   "cell_type": "code",
   "execution_count": null,
   "id": "5693fcf7-0bbf-4294-b47e-b1bacef5eac0",
   "metadata": {},
   "outputs": [],
   "source": [
    "mydict = {\"a\",\"b\"}"
   ]
  },
  {
   "cell_type": "code",
   "execution_count": 9,
   "id": "bb2067a8-cd60-4e1b-a25d-3780f230ef7c",
   "metadata": {},
   "outputs": [],
   "source": [
    "feat_gen = SOAP(**SOAP_HYPERS)"
   ]
  },
  {
   "cell_type": "code",
   "execution_count": 32,
   "id": "ee1776d3-7aae-47ad-8903-6b939aacfe2e",
   "metadata": {},
   "outputs": [],
   "source": [
    "my_feat = feat_gen.transform(train_structures[0]).get_features_by_species(feat_gen)"
   ]
  },
  {
   "cell_type": "code",
   "execution_count": 33,
   "id": "f82eb8e6-1690-4de3-9576-78531fe0a129",
   "metadata": {},
   "outputs": [
    {
     "data": {
      "text/plain": [
       "dict_keys([(1, 1), (1, 6), (1, 7), (1, 8), (6, 6), (6, 7), (6, 8), (7, 7), (7, 8), (8, 8)])"
      ]
     },
     "execution_count": 33,
     "metadata": {},
     "output_type": "execute_result"
    }
   ],
   "source": [
    "my_feat.keys()"
   ]
  },
  {
   "cell_type": "code",
   "execution_count": 5,
   "id": "456f34aa-664c-4190-85cc-27ed27df08fc",
   "metadata": {},
   "outputs": [],
   "source": [
    "def _get_features_in_parallel(frames,calculator,blocksize=100,n_jobs=-1):\n",
    "    \"\"\"helper function that returns the features of a calculator (from calculator.transform())\n",
    "       in parallel\n",
    "    \"\"\"\n",
    "    #for np.concatenate. arrays in list should all have same shape\n",
    "    hypers = calculator.hypers\n",
    "    hypers[\"expansion_by_species_method\"] = \"user defined\"\n",
    "    hypers[\"global_species\"] = get_all_species(frames).tolist()\n",
    "    calculator.update_hyperparameters(**hypers)\n",
    "    return np.concatenate(Parallel(n_jobs=2)(delayed(retrieve_features)(calculator, chunk)\\\n",
    "                                              for chunk in grouper(blocksize,frames)))\n"
   ]
  },
  {
   "cell_type": "code",
   "execution_count": null,
   "id": "22830f7e-6795-4f1a-bcad-71a7db94e6ac",
   "metadata": {},
   "outputs": [],
   "source": [
    "grouper(25,frames)"
   ]
  },
  {
   "cell_type": "code",
   "execution_count": 19,
   "id": "9ddf1771-801a-45aa-84b9-758a8e56427e",
   "metadata": {},
   "outputs": [
    {
     "data": {
      "text/plain": [
       "8"
      ]
     },
     "execution_count": 19,
     "metadata": {},
     "output_type": "execute_result"
    }
   ],
   "source": [
    "joblib.cpu_count()"
   ]
  },
  {
   "cell_type": "code",
   "execution_count": 8,
   "id": "67e47b33-aad0-4199-9692-92b8b76d172d",
   "metadata": {},
   "outputs": [],
   "source": [
    "import time"
   ]
  },
  {
   "cell_type": "code",
   "execution_count": null,
   "id": "2dd3ee00-0482-4cc8-9ed3-aafad786dfad",
   "metadata": {},
   "outputs": [],
   "source": [
    "grouper(50,frames)"
   ]
  },
  {
   "cell_type": "code",
   "execution_count": 37,
   "id": "0eeab91f-0752-47bc-8504-e0ed50e6664c",
   "metadata": {},
   "outputs": [
    {
     "name": "stderr",
     "output_type": "stream",
     "text": [
      "[Parallel(n_jobs=2)]: Using backend LokyBackend with 2 concurrent workers.\n",
      "[Parallel(n_jobs=2)]: Done  10 out of  10 | elapsed:    0.5s finished\n"
     ]
    },
    {
     "data": {
      "text/plain": [
       "[0.0, 1.0, 2.0, 3.0, 4.0, 5.0, 6.0, 7.0, 8.0, 9.0]"
      ]
     },
     "execution_count": 37,
     "metadata": {},
     "output_type": "execute_result"
    }
   ],
   "source": [
    "Parallel(n_jobs=2,verbose=1)(delayed(np.sqrt)(i ** 2) for i in range(10))"
   ]
  },
  {
   "cell_type": "code",
   "execution_count": 36,
   "id": "ee671ff7-5a68-45b8-b291-403f9b3d0046",
   "metadata": {},
   "outputs": [],
   "source": [
    "from rascal.utils import get_optimal_radial_basis_hypers"
   ]
  },
  {
   "cell_type": "code",
   "execution_count": null,
   "id": "7ea9f035-32df-49cd-b255-2f714080323b",
   "metadata": {},
   "outputs": [],
   "source": []
  },
  {
   "cell_type": "code",
   "execution_count": 55,
   "id": "6ee95138-6260-4f08-92f0-6756fafb2a18",
   "metadata": {},
   "outputs": [],
   "source": [
    "SOAP_HYPERS = {\n",
    "    \"soap_type\": \"PowerSpectrum\",\n",
    "    \"interaction_cutoff\": 4.5,\n",
    "    \"max_radial\": 9,\n",
    "    \"max_angular\": 9,\n",
    "    \"gaussian_sigma_constant\": 0.1,\n",
    "    \"gaussian_sigma_type\": \"Constant\",\n",
    "    \"cutoff_smooth_width\": 0.5,\n",
    "    \"radial_basis\": \"GTO\",\n",
    "    \"expansion_by_species_method\": \"user defined\",\n",
    "    \"global_species\": [1, 6, 7, 8],\n",
    "    \"compute_gradients\": False,\n",
    "    \"normalize\": False,\n",
    "}\n",
    "\n",
    "SOAP_HYPERS = get_optimal_radial_basis_hypers(SOAP_HYPERS, train_structures, expanded_max_radial=30)"
   ]
  },
  {
   "cell_type": "code",
   "execution_count": 58,
   "id": "4b1a58e6-bf43-4231-b979-5d47f6252445",
   "metadata": {},
   "outputs": [
    {
     "name": "stdout",
     "output_type": "stream",
     "text": [
      "--- 5.575486183166504 seconds ---\n"
     ]
    }
   ],
   "source": [
    "SOAP_HYPERS = {\n",
    "    \"soap_type\": \"PowerSpectrum\",\n",
    "    \"interaction_cutoff\": 4.5,\n",
    "    \"max_radial\": 9,\n",
    "    \"max_angular\": 0,\n",
    "    \"gaussian_sigma_constant\": 0.1,\n",
    "    \"gaussian_sigma_type\": \"Constant\",\n",
    "    \"cutoff_smooth_width\": 0.5,\n",
    "    \"radial_basis\": \"GTO\",\n",
    "    \"expansion_by_species_method\": \"user defined\",\n",
    "    \"global_species\": [1, 6, 7, 8],\n",
    "    \"compute_gradients\": False,\n",
    "    \"normalize\": False,\n",
    "}\n",
    "\n",
    "start_time = time.time()\n",
    "SOAP_HYPERS = get_optimal_radial_basis_hypers(SOAP_HYPERS, train_structures, expanded_max_radial=30)\n",
    "print(\"--- %s seconds ---\" % (time.time() - start_time))"
   ]
  },
  {
   "cell_type": "code",
   "execution_count": 47,
   "id": "a0c4370a-3520-4fd2-a826-80357e212c83",
   "metadata": {
    "tags": []
   },
   "outputs": [
    {
     "data": {
      "text/plain": [
       "232"
      ]
     },
     "execution_count": 47,
     "metadata": {},
     "output_type": "execute_result"
    }
   ],
   "source": [
    "sys.getsizeof(SOAP_HYPERS[\"optimization\"])"
   ]
  },
  {
   "cell_type": "code",
   "execution_count": 53,
   "id": "d2b61e8f-d224-4717-8635-fdd31be1aa80",
   "metadata": {
    "tags": []
   },
   "outputs": [
    {
     "data": {
      "text/plain": [
       "232"
      ]
     },
     "execution_count": 53,
     "metadata": {},
     "output_type": "execute_result"
    }
   ],
   "source": [
    "sys.getsizeof(SOAP_HYPERS[\"optimization\"][\"RadialDimReduction\"][\"projection_matrices\"])"
   ]
  },
  {
   "cell_type": "code",
   "execution_count": 45,
   "id": "ff082083-b9bc-4e04-8f7f-d75e32df673e",
   "metadata": {},
   "outputs": [],
   "source": [
    "import sys"
   ]
  },
  {
   "cell_type": "code",
   "execution_count": 46,
   "id": "34aa580f-6737-4673-93c0-4f972654641e",
   "metadata": {},
   "outputs": [
    {
     "data": {
      "text/plain": [
       "640"
      ]
     },
     "execution_count": 46,
     "metadata": {},
     "output_type": "execute_result"
    }
   ],
   "source": [
    "sys.getsizeof(SOAP_HYPERS)"
   ]
  },
  {
   "cell_type": "code",
   "execution_count": 35,
   "id": "8ed58684-b3d0-489f-afde-0fb9768d024f",
   "metadata": {
    "tags": []
   },
   "outputs": [
    {
     "name": "stdout",
     "output_type": "stream",
     "text": [
      "--- 5.222474098205566 seconds ---\n"
     ]
    }
   ],
   "source": [
    "\n",
    "\n",
    "\n",
    "\n",
    "start_time = time.time()\n",
    "get_features_in_parallel(train_structures,calculator=SOAP,hypers=SOAP_HYPERS)\n",
    "print(\"--- %s seconds ---\" % (time.time() - start_time))"
   ]
  },
  {
   "cell_type": "code",
   "execution_count": 29,
   "id": "0a36fa35-1434-496b-a0b1-f6d40fddc7c3",
   "metadata": {},
   "outputs": [],
   "source": [
    "mysoap = SOAP(**SOAP_HYPERS)\n",
    "soap_feats =  mysoap.transform(train_structures).get_features(mysoap)"
   ]
  },
  {
   "cell_type": "code",
   "execution_count": 30,
   "id": "7634f8a2-f283-4cce-8e55-37da80389bd8",
   "metadata": {},
   "outputs": [
    {
     "data": {
      "text/plain": [
       "True"
      ]
     },
     "execution_count": 30,
     "metadata": {},
     "output_type": "execute_result"
    }
   ],
   "source": [
    "np.allclose(feats,soap_feats)"
   ]
  },
  {
   "cell_type": "code",
   "execution_count": 35,
   "id": "5b574215-f3c4-4f0d-8c18-e0b1781a86ca",
   "metadata": {},
   "outputs": [
    {
     "data": {
      "text/plain": [
       "<generator object split.<locals>.<genexpr> at 0x7f9ac85bdcf0>"
      ]
     },
     "execution_count": 35,
     "metadata": {},
     "output_type": "execute_result"
    }
   ],
   "source": [
    "split([1,2,3,4,5],5)"
   ]
  },
  {
   "cell_type": "code",
   "execution_count": 56,
   "id": "ecff44f6-17ff-44a6-9ea3-80fa66b7e7b5",
   "metadata": {},
   "outputs": [
    {
     "data": {
      "text/plain": [
       "(134692, 12150)"
      ]
     },
     "execution_count": 56,
     "metadata": {},
     "output_type": "execute_result"
    }
   ],
   "source": [
    "feats.shape"
   ]
  },
  {
   "cell_type": "code",
   "execution_count": 36,
   "id": "b22d8081-fa95-49a0-8374-0d360eec7f68",
   "metadata": {},
   "outputs": [
    {
     "data": {
      "text/plain": [
       "generator"
      ]
     },
     "execution_count": 36,
     "metadata": {},
     "output_type": "execute_result"
    }
   ],
   "source": [
    "type(grouper(10,np.arange(100)))"
   ]
  },
  {
   "cell_type": "code",
   "execution_count": 38,
   "id": "4d335726-0f3c-4f11-bc4c-7ea34caf8718",
   "metadata": {},
   "outputs": [
    {
     "data": {
      "text/plain": [
       "generator"
      ]
     },
     "execution_count": 38,
     "metadata": {},
     "output_type": "execute_result"
    }
   ],
   "source": [
    "type(split(np.arange(100),10))"
   ]
  },
  {
   "cell_type": "code",
   "execution_count": 57,
   "id": "70547e56-6648-4fa2-a470-907f06b24563",
   "metadata": {
    "tags": []
   },
   "outputs": [
    {
     "data": {
      "text/plain": [
       "134692"
      ]
     },
     "execution_count": 57,
     "metadata": {},
     "output_type": "execute_result"
    }
   ],
   "source": [
    "len(train_properties)"
   ]
  },
  {
   "cell_type": "code",
   "execution_count": 28,
   "id": "33e63329-67fe-478e-b861-b3900d52c483",
   "metadata": {},
   "outputs": [],
   "source": [
    "import time"
   ]
  },
  {
   "cell_type": "code",
   "execution_count": 14,
   "id": "c39e0df0-038f-4b9a-82b7-fcb308754bfe",
   "metadata": {
    "collapsed": true,
    "jupyter": {
     "outputs_hidden": true
    },
    "tags": []
   },
   "outputs": [
    {
     "ename": "NameError",
     "evalue": "name 'hypers' is not defined",
     "output_type": "error",
     "traceback": [
      "\u001b[0;31m---------------------------------------------------------------------------\u001b[0m",
      "\u001b[0;31mNameError\u001b[0m                                 Traceback (most recent call last)",
      "\u001b[0;32m<ipython-input-14-f9cc3933cccc>\u001b[0m in \u001b[0;36m<module>\u001b[0;34m\u001b[0m\n\u001b[1;32m      1\u001b[0m \u001b[0mstart_time\u001b[0m \u001b[0;34m=\u001b[0m \u001b[0mtime\u001b[0m\u001b[0;34m.\u001b[0m\u001b[0mtime\u001b[0m\u001b[0;34m(\u001b[0m\u001b[0;34m)\u001b[0m\u001b[0;34m\u001b[0m\u001b[0;34m\u001b[0m\u001b[0m\n\u001b[0;32m----> 2\u001b[0;31m \u001b[0m_\u001b[0m \u001b[0;34m=\u001b[0m \u001b[0mget_features_in_parallel\u001b[0m\u001b[0;34m(\u001b[0m\u001b[0mtrain_structures\u001b[0m\u001b[0;34m,\u001b[0m\u001b[0mcalculator\u001b[0m\u001b[0;34m=\u001b[0m\u001b[0mSOAP\u001b[0m\u001b[0;34m,\u001b[0m\u001b[0mhypers\u001b[0m\u001b[0;34m=\u001b[0m\u001b[0mhypers\u001b[0m\u001b[0;34m,\u001b[0m\u001b[0mblocks\u001b[0m\u001b[0;34m=\u001b[0m\u001b[0;36m2\u001b[0m\u001b[0;34m)\u001b[0m\u001b[0;34m\u001b[0m\u001b[0;34m\u001b[0m\u001b[0m\n\u001b[0m\u001b[1;32m      3\u001b[0m \u001b[0mprint\u001b[0m\u001b[0;34m(\u001b[0m\u001b[0;34m\"--- %s seconds ---\"\u001b[0m \u001b[0;34m%\u001b[0m \u001b[0;34m(\u001b[0m\u001b[0mtime\u001b[0m\u001b[0;34m.\u001b[0m\u001b[0mtime\u001b[0m\u001b[0;34m(\u001b[0m\u001b[0;34m)\u001b[0m \u001b[0;34m-\u001b[0m \u001b[0mstart_time\u001b[0m\u001b[0;34m)\u001b[0m\u001b[0;34m)\u001b[0m\u001b[0;34m\u001b[0m\u001b[0;34m\u001b[0m\u001b[0m\n",
      "\u001b[0;31mNameError\u001b[0m: name 'hypers' is not defined"
     ]
    }
   ],
   "source": [
    "start_time = time.time()\n",
    "_ = get_features_in_parallel(train_structures,calculator=SOAP,hypers=hypers,blocks=2)\n",
    "print(\"--- %s seconds ---\" % (time.time() - start_time))"
   ]
  },
  {
   "cell_type": "code",
   "execution_count": 99,
   "id": "4c094590-d252-46fb-8ab8-c4bd84fec6f2",
   "metadata": {},
   "outputs": [],
   "source": [
    "import os\n",
    "import copy\n",
    "import numpy as np\n",
    "import multiprocessing\n",
    "from multiprocessing import shared_memory\n",
    "from itertools import combinations_with_replacement\n",
    "import ase\n",
    "from rascal.representations import SphericalInvariants, SphericalExpansion\n",
    "\n",
    "SOAP_HYPERS = {\n",
    "    \"soap_type\": \"PowerSpectrum\",\n",
    "    \"interaction_cutoff\": 4.5,\n",
    "    \"max_radial\": 9,\n",
    "    \"max_angular\": 9,\n",
    "    \"gaussian_sigma_constant\": 0.1,\n",
    "    \"gaussian_sigma_type\": \"Constant\",\n",
    "    \"cutoff_smooth_width\": 0.5,\n",
    "    \"radial_basis\": \"GTO\",\n",
    "    \"expansion_by_species_method\": \"user defined\",\n",
    "    \"global_species\": [1, 6, 7, 8, 16],\n",
    "    \"compute_gradients\": False,\n",
    "    \"normalize\": True,\n",
    "}\n",
    "CALCULATOR = None\n",
    "\n",
    "\n",
    "def _compute_single(data):\n",
    "    representation = CALCULATOR.transform(data[\"frame\"])\n",
    "    return representation.get_features(CALCULATOR)\n",
    "\n",
    "def _compute_single_by_species(data):\n",
    "    representation = CALCULATOR.transform(data[\"frame\"])\n",
    "    return representation.get_features_by_species(CALCULATOR)\n",
    "\n",
    "def _initializer_spherical(hypers):\n",
    "    global CALCULATOR\n",
    "    CALCULATOR = SphericalExpansion(**hypers)\n",
    "    \n",
    "def _initializer(hypers):\n",
    "    global CALCULATOR\n",
    "    CALCULATOR = SphericalInvariants(**hypers)\n",
    "\n",
    "\n",
    "def compute_soap(frames, passed_hyper, selected_features=None):\n",
    "    hypers = copy.deepcopy(passed_hyper)\n",
    "\n",
    "    if selected_features is not None:\n",
    "        hypers[\"coefficient_subselection\"] = selected_features\n",
    "\n",
    "    calculator = SphericalInvariants(**hypers)\n",
    "\n",
    "    if selected_features is not None:\n",
    "        n_features = calculator.get_num_coefficients()\n",
    "    else:\n",
    "        # get_num_coefficients does not handle global_species, the factor of 10\n",
    "        # comes from all the species pairs\n",
    "        n_pairs = len(list(combinations_with_replacement(hypers[\"global_species\"],2)))\n",
    "        n_features = n_pairs * calculator.get_num_coefficients()\n",
    "\n",
    "    #shape = (len(frames), n_features)\n",
    "\n",
    "    with multiprocessing.Pool(\n",
    "        processes=multiprocessing.cpu_count(),\n",
    "        initializer=_initializer,\n",
    "        initargs=(hypers,),\n",
    "    ) as pool:\n",
    "\n",
    "        iterator = pool.imap(\n",
    "            _compute_single,\n",
    "            map(\n",
    "                lambda data: {\"i\": data[0], \"frame\": data[1]},\n",
    "                enumerate(frames),\n",
    "            ),\n",
    "        )\n",
    "        \n",
    "        try:\n",
    "            lengths = [len(frame.arrays[\"center_atoms_mask\"].nonzero()[0]) for frame in frames]\n",
    "        except:\n",
    "            lengths = [len(frame) for frame in frames]\n",
    "            \n",
    "        cumulated_sum = np.cumsum([0, *lengths]) \n",
    "        result = np.zeros((np.sum(lengths),n_features),dtype=np.float64)\n",
    "        \n",
    "        for i,value in enumerate(iterator):\n",
    "            result[cumulated_sum[i]:cumulated_sum[i+1]] = value\n",
    "\n",
    "    return result\n",
    "\n",
    "def compute_spex_by_species(frames, passed_hyper, selected_features=None):\n",
    "    hypers = copy.deepcopy(passed_hyper)\n",
    "\n",
    "    if selected_features is not None:\n",
    "        hypers[\"coefficient_subselection\"] = selected_features\n",
    "\n",
    "    calculator = SphericalExpansion(**hypers)\n",
    "\n",
    "    if selected_features is not None:\n",
    "        n_features = calculator.get_num_coefficients()\n",
    "    else:\n",
    "        # get_num_coefficients does not handle global_species, the factor of 10\n",
    "        # comes from all the species pairs\n",
    "        n_pairs = len(list(combinations_with_replacement(hypers[\"global_species\"],2)))\n",
    "        n_features = n_pairs * calculator.get_num_coefficients()\n",
    "\n",
    "    #shape = (len(frames), n_features)\n",
    "\n",
    "    with multiprocessing.Pool(\n",
    "        processes=multiprocessing.cpu_count(),\n",
    "        initializer=_initializer_spherical,\n",
    "        initargs=(hypers,),\n",
    "    ) as pool:\n",
    "\n",
    "        iterator = pool.imap(\n",
    "            _compute_single_by_species,\n",
    "            map(\n",
    "                lambda data: {\"i\": data[0], \"frame\": data[1]},\n",
    "                enumerate(frames),\n",
    "            ),\n",
    "        )\n",
    "        \n",
    "        \"\"\"try:\n",
    "            lengths = [len(frame.arrays[\"center_atoms_mask\"].nonzero()[0]) for frame in frames]\n",
    "        except:\n",
    "            lengths = [len(frame) for frame in frames]\n",
    "            \n",
    "        cumulated_sum = np.cumsum([0, *lengths]) \n",
    "        result = np.zeros((np.sum(lengths),n_features),dtype=np.float64)\n",
    "        \n",
    "        \"\"\"\n",
    "        intermediate_results = []\n",
    "        \n",
    "        results = {}\n",
    "        \n",
    "        for i,value in enumerate(iterator):\n",
    "            intermediate_results.append(value)\n",
    "        \n",
    "        for key in intermediate_results[0].keys():\n",
    "            results[key] = np.concatenate([chunk[key] for chunk in intermediate_results])\n",
    "        \n",
    "        \n",
    "        \n",
    "    return results"
   ]
  },
  {
   "cell_type": "code",
   "execution_count": 20,
   "id": "91672651-9bd7-44cc-94e8-5ed93b779d62",
   "metadata": {},
   "outputs": [
    {
     "data": {
      "text/plain": [
       "4.0"
      ]
     },
     "execution_count": 20,
     "metadata": {},
     "output_type": "execute_result"
    }
   ],
   "source": [
    "8/2"
   ]
  },
  {
   "cell_type": "code",
   "execution_count": null,
   "id": "531a5546-ef3b-4654-8fe1-81b4d6215897",
   "metadata": {},
   "outputs": [],
   "source": [
    "lengths = [len(frame.arrays[\"center_atoms_mask\"].nonzero()[0]) for frame in frames]\n",
    "cumulated_sum = np.cumsum([0, *lengths]) "
   ]
  },
  {
   "cell_type": "code",
   "execution_count": 101,
   "id": "2625b824-3797-4795-bcb5-133bf57a2bc9",
   "metadata": {},
   "outputs": [
    {
     "data": {
      "text/plain": [
       "134692"
      ]
     },
     "execution_count": 101,
     "metadata": {},
     "output_type": "execute_result"
    }
   ],
   "source": [
    "np.sum([len(frame.arrays[\"center_atoms_mask\"].nonzero()[0]) for frame in train_structures])"
   ]
  },
  {
   "cell_type": "code",
   "execution_count": null,
   "id": "e423b6f3-c817-4cb8-b28b-9f49af92fb17",
   "metadata": {},
   "outputs": [],
   "source": [
    "len(list(combinations_with_replacement(SOAP_HYPERS[\"global_species\"],2)))"
   ]
  },
  {
   "cell_type": "code",
   "execution_count": 6,
   "id": "ab24750a-7735-45fc-96e4-efb620bde397",
   "metadata": {},
   "outputs": [],
   "source": [
    "import time"
   ]
  },
  {
   "cell_type": "code",
   "execution_count": 61,
   "id": "ca6e7afc-94c4-4e54-868e-8877adf5e549",
   "metadata": {},
   "outputs": [
    {
     "name": "stdout",
     "output_type": "stream",
     "text": [
      "CPU times: user 4 µs, sys: 3 µs, total: 7 µs\n",
      "Wall time: 11.9 µs\n"
     ]
    }
   ],
   "source": [
    "#multiprocessing.set_start_method(\"forkserver\")\n",
    "time = time.time()\n",
    "features = compute_soap(train_structures)"
   ]
  },
  {
   "cell_type": "code",
   "execution_count": 24,
   "id": "553745bb-0a9b-4c2e-9e67-16bab5d1bd7a",
   "metadata": {},
   "outputs": [
    {
     "name": "stdout",
     "output_type": "stream",
     "text": [
      "--- 26.577285051345825 seconds ---\n"
     ]
    }
   ],
   "source": [
    "start_time = time.time()\n",
    "compute_soap(train_structures,SOAP_HYPERS)\n",
    "print(\"--- %s seconds ---\" % (time.time() - start_time))"
   ]
  },
  {
   "cell_type": "code",
   "execution_count": 7,
   "id": "a4c0a5cb-3967-4016-b752-ab221d6ed2e8",
   "metadata": {},
   "outputs": [
    {
     "name": "stdout",
     "output_type": "stream",
     "text": [
      "--- 40.99152374267578 seconds ---\n"
     ]
    }
   ],
   "source": [
    "start_time = time.time()\n",
    "mysoap = SOAP(**SOAP_HYPERS)\n",
    "mysoap.transform(train_structures).get_features(mysoap)\n",
    "print(\"--- %s seconds ---\" % (time.time() - start_time))"
   ]
  },
  {
   "cell_type": "code",
   "execution_count": 11,
   "id": "da83c6d9-6d3a-4477-b1eb-d387ed1ef944",
   "metadata": {},
   "outputs": [
    {
     "data": {
      "text/plain": [
       "8"
      ]
     },
     "execution_count": 11,
     "metadata": {},
     "output_type": "execute_result"
    }
   ],
   "source": [
    "multiprocessing.cpu_count()"
   ]
  },
  {
   "cell_type": "code",
   "execution_count": 86,
   "id": "f468d172-5dbe-4e92-8237-1dc5151f1bae",
   "metadata": {},
   "outputs": [
    {
     "data": {
      "text/plain": [
       "(3662, 12150)"
      ]
     },
     "execution_count": 86,
     "metadata": {},
     "output_type": "execute_result"
    }
   ],
   "source": [
    "features.shape"
   ]
  },
  {
   "cell_type": "code",
   "execution_count": 39,
   "id": "670bf883-7664-46d7-be6e-6df1fa979e2d",
   "metadata": {},
   "outputs": [
    {
     "data": {
      "text/plain": [
       "[1, 6, 7]"
      ]
     },
     "execution_count": 39,
     "metadata": {},
     "output_type": "execute_result"
    }
   ],
   "source": [
    "SOAP_HYPERS[\"global_species\"]"
   ]
  },
  {
   "cell_type": "code",
   "execution_count": 106,
   "id": "ac8f4131-b0b6-43cc-860e-eb1d8cad5a2a",
   "metadata": {},
   "outputs": [],
   "source": [
    "from scipy.special import legendre, gamma\n",
    "from copy import deepcopy\n",
    "import numpy as np\n",
    "import time\n",
    "from rascal.representations.spherical_expansion import SphericalExpansion\n",
    "from rascal.utils import get_radial_basis_covariance, get_radial_basis_pca, get_radial_basis_projections\n",
    "\n",
    "def get_optimal_radial_basis_hypers_parallel(hypers, frames, blocksize=25,expanded_max_radial=-1):\n",
    "    \"\"\"\n",
    "    Helper function to compute an optimal radial basis following\n",
    "    Goscinski et al, arxiv:2105.08717.\n",
    "    hypers: dictionary\n",
    "        hyperparameters for the desired representation. \"max_radial\" indicates\n",
    "        the desired size of the optimal basis\n",
    "    frames: ase.Atoms\n",
    "        a list of structures used to estimate the optimal radial basis. can also\n",
    "        be given as a list of frames blocks, in which case it computes the covariance\n",
    "        incrementally (useful for large expanded_max_radial and/or large framesets)\n",
    "    expanded_max_radial: int\n",
    "        number of intermediate basis to be used to estimate the optimal basis.\n",
    "        defaults to -1, in which case it is taken to be 2*max_radial\n",
    "    Returns:\n",
    "    -------\n",
    "    optimal_hypers: dictionary\n",
    "        hyperparameters including the optimal basis projectors\n",
    "    \"\"\"\n",
    "\n",
    "    spherical_expansion_hypers = deepcopy(hypers)\n",
    "\n",
    "    # removes parameters that don't make sense for a spherical expansion\n",
    "    spherical_expansion_hypers.pop(\"normalize\", None)\n",
    "    spherical_expansion_hypers.pop(\"soap_type\", None)\n",
    "    spherical_expansion_hypers.pop(\"compute_gradients\", None)\n",
    "    spherical_expansion_hypers.pop(\"inversion_symmetry\", None)\n",
    "\n",
    "    if \"optimization\" in spherical_expansion_hypers:\n",
    "        spherical_expansion_hypers[\"optimization\"].pop(\"RadialDimReduction\", None)\n",
    "\n",
    "    if expanded_max_radial == -1:\n",
    "        expanded_max_radial = 2 * hypers[\"max_radial\"]\n",
    "    spherical_expansion_hypers[\"max_radial\"] = expanded_max_radial\n",
    "\n",
    "    spex = SphericalExpansion(**spherical_expansion_hypers)\n",
    "\n",
    "    # computes density expansion coefficients and covariance (incrementally if needed)\n",
    "    if not type(frames[0]) is list:\n",
    "        frames = [frames]\n",
    "    \n",
    "    start_time = time.time()\n",
    "    feats = get_features_in_parallel_by_species(frames[0],SphericalExpansion,spherical_expansion_hypers,blocksize=blocksize)\n",
    "    \n",
    "    #get_features_in_parallel_by_species(frames[0], calculator=SphericalExpansion, \\hypers=spherical_expansion_hypers)\n",
    "    #compute_spex(frames[0],spherical_expansion_hypers)\n",
    "    \"\"\"get_features_in_parallel(frames[0], calculator=SphericalExpansion, \\\n",
    "                         hypers=spherical_expansion_hypers)\"\"\"\n",
    "    print(\"parallel: --- %s seconds ---\" % (time.time() - start_time))\n",
    "    \n",
    "    start_time = time.time()\n",
    "    feats_spex = spex.transform(frames[0]).get_features_by_species(spex)\n",
    "    print(\"sequential: --- %s seconds ---\" % (time.time() - start_time))\n",
    "    \n",
    "    \n",
    "    \n",
    "    cov = get_radial_basis_covariance(spex, feats)\n",
    "    nframes = len(frames[0])\n",
    "    \n",
    "    for fr in frames[1:]:\n",
    "        feats = spex.transform(fr).get_features_by_species(spex)\n",
    "        icov = get_radial_basis_covariance(spex, feats)\n",
    "        # bit perverse: both cov and icov are normalized, so we need to\n",
    "        # un-normalize before accumulating\n",
    "        for s in cov.keys():\n",
    "            cov[s] = (cov[s] * nframes + icov[s] * len(fr)) / (nframes + len(fr))\n",
    "        nframes += len(fr)\n",
    "\n",
    "    # principal components from the covariance\n",
    "    p_val, p_vec = get_radial_basis_pca(cov)\n",
    "\n",
    "    # converts to the format suitable for hypers\n",
    "    p_mat = get_radial_basis_projections(p_vec, hypers[\"max_radial\"])\n",
    "\n",
    "    # assemble the updated hypers\n",
    "    optimal_hypers = deepcopy(hypers)\n",
    "    if not \"optimization\" in optimal_hypers:\n",
    "        optimal_hypers[\"optimization\"] = {}\n",
    "    optimal_hypers[\"optimization\"] = {\n",
    "        \"RadialDimReduction\": {\"projection_matrices\": p_mat},\n",
    "    }\n",
    "\n",
    "    if not \"Spline\" in optimal_hypers[\"optimization\"]:\n",
    "        optimal_hypers[\"optimization\"][\"Spline\"] = {\"accuracy\": 1e-8}\n",
    "\n",
    "    return optimal_hypers"
   ]
  },
  {
   "cell_type": "code",
   "execution_count": null,
   "id": "7e156755-8978-4f4a-bcac-88363454482c",
   "metadata": {},
   "outputs": [],
   "source": []
  },
  {
   "cell_type": "code",
   "execution_count": 107,
   "id": "e6f2dc42-ae38-4c60-a20f-b9ac6592c0fa",
   "metadata": {
    "tags": []
   },
   "outputs": [
    {
     "name": "stdout",
     "output_type": "stream",
     "text": [
      "parallel: --- 12.692618608474731 seconds ---\n",
      "sequential: --- 33.23567724227905 seconds ---\n",
      "--- 57.15631461143494 seconds ---\n"
     ]
    }
   ],
   "source": [
    "SOAP_HYPERS = {\n",
    "    \"soap_type\": \"PowerSpectrum\",\n",
    "    \"interaction_cutoff\": 4.5,\n",
    "    \"max_radial\": 9,\n",
    "    \"max_angular\": 9,\n",
    "    \"gaussian_sigma_constant\": 0.1,\n",
    "    \"gaussian_sigma_type\": \"Constant\",\n",
    "    \"cutoff_smooth_width\": 0.5,\n",
    "    \"radial_basis\": \"GTO\",\n",
    "    \"expansion_by_species_method\": \"user defined\",\n",
    "    \"global_species\": [1, 6, 7, 8, 16],\n",
    "    \"compute_gradients\": False,\n",
    "    \"normalize\": False,\n",
    "}\n",
    "\n",
    "start_time = time.time()\n",
    "SOAP_HYPERS = get_optimal_radial_basis_hypers_parallel(SOAP_HYPERS, train_structures, expanded_max_radial=20, blocksize=25)\n",
    "print(\"--- %s seconds ---\" % (time.time() - start_time))"
   ]
  },
  {
   "cell_type": "code",
   "execution_count": 95,
   "id": "c24f2864-852f-436d-b9b2-6e2c89f382c5",
   "metadata": {},
   "outputs": [
    {
     "name": "stdout",
     "output_type": "stream",
     "text": [
      "--- 44.46110129356384 seconds ---\n"
     ]
    }
   ],
   "source": [
    "start_time = time.time()\n",
    "SOAP_HYPERS = get_optimal_radial_basis_hypers(SOAP_HYPERS, train_structures, expanded_max_radial=20)\n",
    "print(\"--- %s seconds ---\" % (time.time() - start_time))"
   ]
  },
  {
   "cell_type": "code",
   "execution_count": 88,
   "id": "28c96e4c-09ee-49ed-86a9-a270d7bbbc4e",
   "metadata": {},
   "outputs": [],
   "source": [
    "HYPERS = {\n",
    "    \"interaction_cutoff\": 4.5,\n",
    "    \"max_radial\": 18,\n",
    "    \"max_angular\": 9,\n",
    "    \"gaussian_sigma_constant\": 0.1,\n",
    "    \"gaussian_sigma_type\": \"Constant\",\n",
    "    \"cutoff_smooth_width\": 0.5,\n",
    "    \"radial_basis\": \"GTO\",\n",
    "    \"expansion_by_species_method\": \"user defined\",\n",
    "    \"global_species\": [1, 6, 7, 8, 16],\n",
    "    \"compute_gradients\": False\n",
    "}"
   ]
  },
  {
   "cell_type": "code",
   "execution_count": 108,
   "id": "9e43f092-484a-424e-8957-6f4fefcff864",
   "metadata": {
    "tags": []
   },
   "outputs": [
    {
     "name": "stdout",
     "output_type": "stream",
     "text": [
      "--- 11.498345136642456 seconds ---\n"
     ]
    }
   ],
   "source": [
    "start_time = time.time()\n",
    "feat = get_features_in_parallel_by_species(train_structures,SphericalExpansion,HYPERS)\n",
    "print(\"--- %s seconds ---\" % (time.time() - start_time))"
   ]
  },
  {
   "cell_type": "code",
   "execution_count": 109,
   "id": "63970f76-27e0-49c6-9baa-5f9cfc83ac57",
   "metadata": {},
   "outputs": [],
   "source": [
    "mysoap = SphericalExpansion(**HYPERS)\n",
    "my_feat = mysoap.transform(train_structures).get_features_by_species(mysoap)"
   ]
  },
  {
   "cell_type": "code",
   "execution_count": 112,
   "id": "4c238f54-08f4-4222-92f5-4d102030be92",
   "metadata": {},
   "outputs": [
    {
     "name": "stdout",
     "output_type": "stream",
     "text": [
      "[[ True  True  True ...  True  True  True]\n",
      " [ True  True  True ...  True  True  True]\n",
      " [ True  True  True ...  True  True  True]\n",
      " ...\n",
      " [ True  True  True ...  True  True  True]\n",
      " [ True  True  True ...  True  True  True]\n",
      " [ True  True  True ...  True  True  True]]\n",
      "[[ True  True  True ...  True  True  True]\n",
      " [ True  True  True ...  True  True  True]\n",
      " [ True  True  True ...  True  True  True]\n",
      " ...\n",
      " [ True  True  True ...  True  True  True]\n",
      " [ True  True  True ...  True  True  True]\n",
      " [ True  True  True ...  True  True  True]]\n",
      "[[ True  True  True ...  True  True  True]\n",
      " [ True  True  True ...  True  True  True]\n",
      " [ True  True  True ...  True  True  True]\n",
      " ...\n",
      " [ True  True  True ...  True  True  True]\n",
      " [ True  True  True ...  True  True  True]\n",
      " [ True  True  True ...  True  True  True]]\n",
      "[[ True  True  True ...  True  True  True]\n",
      " [ True  True  True ...  True  True  True]\n",
      " [ True  True  True ...  True  True  True]\n",
      " ...\n",
      " [ True  True  True ...  True  True  True]\n",
      " [ True  True  True ...  True  True  True]\n",
      " [ True  True  True ...  True  True  True]]\n",
      "[[ True  True  True ...  True  True  True]\n",
      " [ True  True  True ...  True  True  True]\n",
      " [ True  True  True ...  True  True  True]\n",
      " ...\n",
      " [ True  True  True ...  True  True  True]\n",
      " [ True  True  True ...  True  True  True]\n",
      " [ True  True  True ...  True  True  True]]\n"
     ]
    }
   ],
   "source": [
    "for key in feat.keys():\n",
    "    print(np.equal(feat[key],my_feat[key]))"
   ]
  },
  {
   "cell_type": "code",
   "execution_count": 75,
   "id": "d667daea-ed44-4861-8383-babe7d9c97da",
   "metadata": {
    "collapsed": true,
    "jupyter": {
     "outputs_hidden": true
    },
    "tags": []
   },
   "outputs": [
    {
     "data": {
      "text/plain": [
       "array([ 1.61096077e-03,  4.12982012e-06,  7.78346713e-06,  5.31525923e-07,\n",
       "        3.06907294e-06, -1.36602380e-06, -2.98652990e-06, -3.26303524e-06,\n",
       "        2.73217042e-06, -5.50975307e-06, -7.05171349e-07,  3.53880289e-06,\n",
       "        6.74865133e-06,  3.14175617e-07, -5.61144676e-07, -8.72513218e-07,\n",
       "       -3.11290796e-06, -3.38386856e-06, -9.92018532e-07, -1.19032075e-05,\n",
       "       -1.09938769e-05,  5.69084903e-06, -2.34788979e-06,  1.77574607e-06,\n",
       "       -6.13369959e-06, -3.13528632e-06,  2.26332881e-06, -3.59902746e-06,\n",
       "       -1.22400555e-05,  7.86851329e-06,  4.97600284e-06, -3.07423202e-07,\n",
       "       -5.06172739e-06, -2.05555550e-06,  1.08991136e-06, -3.38540014e-06,\n",
       "        4.83562422e-06, -1.99152681e-06,  4.13255998e-06, -2.07195307e-06,\n",
       "        1.82864928e-06, -6.32409268e-06, -3.34862790e-06,  6.17707270e-06,\n",
       "        3.93006261e-06,  3.22510080e-06, -5.80384756e-07,  2.06395208e-06,\n",
       "        1.51530368e-06,  2.94945636e-06,  9.21527590e-07, -3.60663088e-06,\n",
       "        8.41772686e-06,  1.23468513e-06, -2.48346693e-06,  3.35079465e-06,\n",
       "        2.53687431e-06, -3.03095289e-06, -2.87724116e-06,  6.46177181e-07,\n",
       "        3.12836945e-06, -7.43615656e-07,  1.43109525e-06,  6.28443113e-06,\n",
       "       -4.75533766e-07,  6.53483975e-08, -1.19534173e-06,  2.78071143e-06,\n",
       "       -2.74690001e-06, -1.00933385e-06,  2.15788434e-06, -1.14849027e-05,\n",
       "       -3.00543875e-06,  6.69413536e-07,  7.21022071e-06, -4.33456105e-06,\n",
       "       -2.77716443e-06, -1.94288285e-06, -4.42952561e-07,  5.90301023e-06,\n",
       "        2.14535064e-07, -5.43932933e-07, -2.69235645e-06,  4.37233307e-06,\n",
       "       -2.51883246e-06, -2.74914688e-08, -1.72499997e-06, -3.51032666e-06,\n",
       "       -2.96892191e-06,  1.07101991e-05, -3.52319554e-06, -6.95144125e-06,\n",
       "       -6.60738320e-06, -1.77226114e-06, -2.51397783e-06, -2.57579759e-06,\n",
       "       -3.50990167e-06,  3.49659921e-06, -3.40606948e-06, -3.43004872e-06,\n",
       "       -1.03607623e-03, -2.35563703e-05, -2.16139576e-05, -1.04561766e-05,\n",
       "       -2.24219517e-05, -4.38921692e-06,  1.38070143e-05,  1.25758218e-06,\n",
       "        6.90058613e-08,  1.04655801e-05, -9.30583136e-06,  1.37405669e-06,\n",
       "       -5.42748901e-06,  5.51585868e-06,  5.57060670e-06,  1.70459662e-05,\n",
       "        1.86306344e-05,  3.69235450e-06,  8.52489418e-06,  3.64330018e-05,\n",
       "        2.02885836e-05, -5.27556823e-06,  1.91413422e-06,  1.03680403e-05,\n",
       "        2.47653965e-05,  2.26706997e-05,  1.12088082e-05,  5.97785853e-06,\n",
       "        3.71187947e-05, -1.91755954e-05, -2.23201847e-05,  1.18753788e-06,\n",
       "        5.44941853e-06, -6.29329253e-08,  8.14762987e-06,  1.73061709e-06,\n",
       "       -6.54522878e-06,  1.77463314e-05, -1.05601315e-05,  5.84815694e-06,\n",
       "       -3.09008458e-06,  2.42716611e-06,  5.69863138e-06, -1.85591187e-05,\n",
       "       -1.07310801e-05, -1.98176112e-05, -1.72358512e-06, -5.43827226e-06,\n",
       "       -1.94752453e-05, -1.60280477e-05,  1.48987886e-06,  6.53098215e-06,\n",
       "       -3.00985035e-05, -9.49071809e-07, -6.51972764e-06, -1.57662713e-05,\n",
       "        3.15067529e-06,  2.52142415e-06,  1.10926347e-05, -6.94830471e-06,\n",
       "       -1.55945878e-05, -2.98894389e-07, -2.00050377e-05, -2.55513804e-05,\n",
       "       -1.40600615e-05, -1.30017947e-05,  4.19833182e-06, -1.74883781e-05,\n",
       "        2.25714245e-06,  2.42421360e-07, -1.35285734e-05,  3.48213381e-05,\n",
       "        1.18123560e-05,  1.64563147e-06, -1.08930217e-05,  1.97843523e-05,\n",
       "        8.33789259e-07,  4.74726553e-06, -3.66337862e-07, -2.67477626e-05,\n",
       "        3.13345866e-07, -2.15939088e-06, -9.86511917e-06, -9.50814165e-06,\n",
       "        2.19095202e-06, -9.49821931e-06,  1.21019129e-05,  6.33577419e-06,\n",
       "        1.54874158e-05, -1.29344697e-05,  3.09211801e-06,  2.12235761e-05,\n",
       "        1.33236631e-05,  1.27263986e-05,  1.13023371e-05,  9.30646570e-06,\n",
       "        2.02372555e-05, -6.78563371e-06,  9.41997853e-06,  2.25755823e-05,\n",
       "        3.64862549e-04,  1.75401758e-05,  3.47337854e-05,  6.81335946e-06,\n",
       "        2.29021759e-05,  1.05881077e-06, -2.08257216e-05, -1.44673919e-05,\n",
       "        9.04079796e-06, -2.13627276e-05,  9.96954812e-07,  1.87853668e-05,\n",
       "        2.77267928e-05, -2.52226260e-06, -5.90732228e-06, -1.43470734e-05,\n",
       "       -2.04999469e-05, -1.43663260e-05, -5.78327920e-06, -5.85529255e-05,\n",
       "       -4.86106095e-05,  1.97637057e-05, -9.15325312e-06,  3.04679548e-06,\n",
       "       -2.65153347e-05, -1.91713917e-05,  1.17716668e-05, -1.80016874e-05,\n",
       "       -5.91504181e-05,  3.52314904e-05,  2.40236010e-05, -1.20120372e-06,\n",
       "       -1.88532953e-05, -5.42291880e-06, -1.03144269e-06, -1.79320178e-05,\n",
       "        1.60058965e-05, -1.98591476e-05,  1.79634422e-05, -9.42661236e-06,\n",
       "        1.10783232e-05, -2.23890138e-05, -1.01606336e-05,  3.27322097e-05,\n",
       "        1.79606072e-05,  2.47649813e-05, -4.86579616e-06,  2.03264974e-05,\n",
       "        1.70079238e-05,  2.42750747e-05,  3.61164901e-07, -1.71460157e-05,\n",
       "        3.92439511e-05,  7.78982961e-06, -5.11861334e-06,  1.63949620e-05,\n",
       "        1.09390719e-05, -1.53148409e-05, -1.81445845e-05,  4.48501627e-06,\n",
       "        2.22322655e-05, -6.75596446e-06,  9.80987458e-06,  3.28075405e-05,\n",
       "        1.19202631e-06, -7.04280933e-07, -2.65886580e-06,  2.22902316e-05,\n",
       "       -6.73279837e-06, -3.78746260e-06,  1.27298538e-05, -5.39882198e-05,\n",
       "       -1.88122222e-05, -6.30061655e-07,  3.22943077e-05, -2.35496961e-05,\n",
       "       -8.69851983e-06, -1.67773577e-05, -2.22459307e-06,  2.78430268e-05,\n",
       "       -4.88579949e-06,  8.42960362e-06,  1.15161947e-06,  2.09790400e-05,\n",
       "       -1.00702257e-05, -2.02796653e-07, -8.25818716e-06, -1.02218067e-05,\n",
       "       -1.18013632e-05,  4.42526275e-05, -1.20854605e-05, -2.88602222e-05,\n",
       "       -2.46972200e-05, -9.88991702e-06, -1.23944469e-05, -7.85733916e-06,\n",
       "       -2.02672003e-05,  1.98027937e-05, -1.45392982e-05, -1.32308813e-05,\n",
       "       -3.98343906e-04,  2.61701839e-04,  4.56505066e-05,  1.41994678e-04,\n",
       "        2.19989349e-04,  9.94216885e-05, -7.92556737e-05,  1.31810688e-04,\n",
       "       -1.11902179e-04,  4.21249863e-05,  1.84954136e-04, -2.09830079e-04,\n",
       "       -1.94361703e-04, -9.29835154e-05, -5.81095818e-05, -2.16648610e-04,\n",
       "       -1.67983806e-04,  8.26737256e-05, -1.05494974e-04, -1.01796045e-04,\n",
       "        1.26809703e-04, -1.32421002e-04,  6.70115958e-05, -2.50046199e-04,\n",
       "       -1.87950997e-04, -2.49638356e-04, -3.25303705e-04,  6.68550384e-05,\n",
       "       -1.03236006e-04, -2.75722729e-06,  1.79905410e-04, -1.03242496e-05,\n",
       "        1.11082865e-04,  7.43255302e-05, -1.68147498e-04,  1.45177800e-04,\n",
       "       -6.76560958e-05, -1.75608852e-04,  9.01897294e-06, -1.11266546e-05,\n",
       "       -4.69211234e-05,  2.10239091e-04,  1.60134982e-05,  3.25355281e-05,\n",
       "        1.53030863e-05,  1.57674522e-04,  7.37132626e-05, -6.41651736e-05,\n",
       "        2.30844318e-04,  9.22458036e-05, -5.03577814e-05,  5.27413244e-05,\n",
       "        1.62234520e-04, -5.68047519e-05,  1.99830711e-04,  1.34068729e-04,\n",
       "       -1.75230301e-04,  1.04985940e-04, -4.33760599e-05,  9.24791160e-05,\n",
       "        9.57657977e-05,  6.10801553e-05,  2.92274866e-04,  1.59971532e-04,\n",
       "        2.70122532e-04,  2.51347074e-04, -3.98094575e-05,  1.39512243e-04,\n",
       "        5.33756308e-05,  3.93576435e-05,  1.38462094e-04, -1.06018688e-04,\n",
       "       -4.98768115e-05, -3.96976485e-05, -1.29801118e-04, -1.46698615e-04,\n",
       "        9.08262973e-05,  5.14048664e-05,  2.91066941e-05,  2.20381027e-04,\n",
       "        2.12776360e-05, -1.37364387e-06,  2.32441906e-04, -3.35797494e-05,\n",
       "        7.11656712e-05,  1.81798840e-04, -1.43672988e-04,  7.72439586e-06,\n",
       "       -1.65035974e-04, -2.30324303e-04,  8.33499824e-05, -9.18390790e-05,\n",
       "        2.45657198e-05, -1.45934364e-04, -9.01380586e-05, -7.80850005e-05,\n",
       "       -1.89831254e-04, -6.05038201e-05, -2.30296458e-05, -2.82508266e-04,\n",
       "        8.18461888e-04, -3.19286996e-04, -2.29167838e-04, -2.85519558e-05,\n",
       "       -3.13018385e-05,  1.66620736e-04, -3.20193777e-06, -5.82581201e-05,\n",
       "       -1.20719631e-04,  1.94099907e-04, -1.31579090e-06,  1.10927195e-04,\n",
       "       -1.39482632e-04,  6.06390382e-05, -5.36761895e-05, -1.90586547e-04,\n",
       "       -3.41546029e-05, -5.99129103e-05,  3.39918601e-05,  1.77841532e-04,\n",
       "        2.17030394e-04, -1.86255085e-04,  2.37901989e-06,  2.54678388e-05,\n",
       "        2.17206602e-04,  2.43053217e-05,  3.84251264e-04, -1.50513608e-04,\n",
       "        2.88806431e-05, -3.12284861e-04, -2.65402927e-04,  1.19696887e-04,\n",
       "        1.78725820e-04,  6.96431795e-05, -1.31561835e-05, -7.22548058e-05,\n",
       "       -2.12582580e-04, -2.14814713e-04, -6.63926748e-05, -3.28460477e-05,\n",
       "       -5.69309027e-05,  2.44726801e-04,  2.15059349e-04,  7.26665746e-05,\n",
       "       -1.94917620e-04,  2.03703709e-04, -1.40153780e-04,  4.01984661e-04,\n",
       "        5.33683897e-05,  1.70278146e-04, -1.37938907e-04, -2.07148389e-05,\n",
       "       -2.15438684e-04,  1.27497938e-04,  9.19631780e-05, -3.75364336e-04,\n",
       "       -2.52924925e-05, -1.77144624e-05, -8.17483301e-06, -1.11910838e-04,\n",
       "        9.42726577e-05, -1.97783365e-04, -1.08721976e-04, -8.91299751e-05,\n",
       "        5.17807379e-06, -1.87687835e-04,  1.60634470e-04,  2.05262000e-04,\n",
       "        2.10055299e-04, -2.04949849e-05, -1.44981461e-04,  4.10959167e-04,\n",
       "       -8.35669950e-05, -2.31032010e-04, -7.32645493e-05,  2.68471134e-05,\n",
       "        2.99646884e-05, -3.45311249e-04, -8.09190373e-06, -2.00974180e-04,\n",
       "       -2.06823872e-04,  3.70513709e-04,  3.14113012e-04,  8.05851013e-05,\n",
       "        7.38282190e-05, -1.48588717e-04,  1.32795710e-04,  1.84675030e-04,\n",
       "        3.46894928e-04, -2.14153955e-04,  1.10201953e-04,  2.29429553e-04,\n",
       "        3.98781801e-04, -8.48707566e-05,  3.66272081e-05,  2.13890401e-04,\n",
       "        3.36478396e-05,  2.24084169e-04,  3.47516833e-05,  3.02497093e-04,\n",
       "        1.46810954e-04, -1.51084986e-04,  7.07145854e-05, -9.70900420e-05,\n",
       "       -8.75713640e-05,  1.29381808e-05,  4.37801274e-05, -1.89253781e-04,\n",
       "       -5.39835862e-06, -3.37450661e-05, -9.04894489e-05,  1.38342560e-04,\n",
       "        1.03138624e-04,  2.00681042e-04, -4.82031631e-05, -1.32293120e-04,\n",
       "       -9.70909133e-05, -2.64979212e-04, -1.24764739e-05, -2.04569631e-04,\n",
       "       -1.50529710e-04,  1.08652887e-04, -1.21299631e-04,  1.51436349e-04,\n",
       "       -1.10727445e-04, -1.07032293e-04,  4.85392905e-04, -3.49311526e-04,\n",
       "       -5.01903745e-04, -1.05867503e-04, -1.27698603e-04,  1.71159481e-04,\n",
       "       -3.76990650e-05, -7.38325835e-05,  1.48646151e-04, -9.93578198e-05,\n",
       "        5.10582029e-05, -1.76391745e-04,  1.20766988e-04, -1.65851608e-04,\n",
       "       -1.25071988e-04, -1.63251859e-05,  1.28512953e-05,  3.02698936e-04,\n",
       "       -9.91367047e-05,  2.41746898e-04, -1.18016810e-04,  3.72278326e-04,\n",
       "       -3.88116030e-05,  1.07543804e-04, -6.14337561e-05, -1.44590708e-04,\n",
       "        1.21048657e-04,  1.79316678e-04, -6.14445197e-05, -3.89771825e-04,\n",
       "       -1.46028029e-05, -7.01613452e-05, -2.25165710e-05, -1.63126345e-04,\n",
       "        8.58974933e-05, -2.05380428e-04, -4.83139699e-05,  1.01231082e-04,\n",
       "        3.34439285e-05, -1.15875429e-04,  9.09299841e-05,  2.25866337e-04,\n",
       "        3.59805252e-05, -9.40636266e-05, -1.46171792e-04,  8.65439128e-05,\n",
       "       -1.42011810e-04, -2.56876229e-04,  1.77142538e-04, -1.38491517e-04,\n",
       "       -1.93277649e-04, -3.66255321e-04,  8.80868849e-06,  4.34087320e-05,\n",
       "       -1.20321013e-04,  2.09822822e-04,  7.06547140e-05,  3.08771886e-04,\n",
       "       -1.02867339e-05, -1.39679524e-04,  8.00917308e-05, -6.08343414e-05,\n",
       "        2.37571633e-04,  2.09383229e-04, -7.39151205e-05, -1.21877846e-04,\n",
       "        1.58851599e-04, -2.48868121e-04, -7.82702342e-05,  6.13664272e-05,\n",
       "       -7.47108085e-05,  3.73880774e-04, -1.50214745e-04,  7.44874641e-05,\n",
       "        5.41141562e-04,  3.14780408e-04, -8.21538102e-05, -9.62125058e-05,\n",
       "       -1.61855215e-04, -1.48912460e-04, -7.00165974e-05,  1.37295948e-04,\n",
       "       -1.42209627e-04,  1.92324978e-05,  1.59324503e-04, -5.05141351e-05,\n",
       "        3.98542891e-05,  9.82079185e-05,  7.23347865e-05,  7.30465619e-05,\n",
       "       -6.72769025e-06, -9.02585976e-06,  3.12414702e-05, -5.09012013e-05,\n",
       "        1.52214971e-05, -2.80075972e-05,  1.74054379e-05, -3.02217173e-05,\n",
       "       -9.89196321e-06,  1.09486581e-04,  2.45690091e-04,  4.90332340e-05,\n",
       "       -6.94977788e-05,  1.80131233e-05, -3.40784527e-05,  3.44800556e-09,\n",
       "        9.45866864e-05, -5.59923187e-05, -1.70712279e-05,  8.90838526e-05,\n",
       "        5.67467467e-05, -8.23743269e-05,  2.72135605e-05,  5.54126652e-05,\n",
       "       -1.82308604e-04, -4.28317287e-05, -8.64497197e-05, -3.12065220e-05,\n",
       "       -2.34840969e-04, -9.30139822e-05, -1.43246226e-04, -2.52197761e-04,\n",
       "       -2.47440509e-04, -2.34405698e-04, -2.32401907e-04, -2.00013846e-05,\n",
       "       -1.13587507e-04, -2.14358721e-04, -1.62914862e-04, -2.03561865e-04,\n",
       "        7.05950170e-05,  6.46630004e-05,  7.78492263e-05,  8.14509001e-05,\n",
       "       -8.21744071e-05, -8.49162310e-05,  7.00860520e-05,  4.87066349e-05,\n",
       "        1.50702120e-04,  6.60807631e-05, -2.84744898e-05,  5.04468317e-06,\n",
       "        1.26109343e-04,  4.95061410e-05,  2.21250153e-05,  2.02476979e-04,\n",
       "        2.68311990e-05,  6.30151570e-05,  3.60856732e-05,  4.10930862e-06,\n",
       "        8.03022950e-05,  4.42231518e-05, -1.12308585e-04,  5.53299571e-05,\n",
       "        1.05986231e-04, -3.87531690e-05, -3.70943015e-05, -8.14184796e-05,\n",
       "        1.43798758e-04,  4.75432303e-05, -6.18525663e-05, -1.78319683e-04,\n",
       "        1.54617376e-04,  2.54840907e-05, -7.85098278e-05, -6.54674827e-05,\n",
       "       -1.44642771e-05, -1.05739133e-04, -1.17737885e-04, -1.03016731e-04,\n",
       "       -1.57319380e-05,  4.07090744e-05, -8.09335463e-05, -1.11613271e-04,\n",
       "        1.66930582e-04,  1.79060722e-04, -3.04211023e-05,  2.46739036e-05,\n",
       "       -1.44534141e-05, -6.04746716e-05, -7.00518067e-05,  4.96307238e-05,\n",
       "       -2.87120385e-05,  6.94476435e-06,  8.80151837e-05, -2.88635236e-06,\n",
       "        3.07620597e-05, -2.95940649e-06,  2.74176365e-05,  5.80401933e-05,\n",
       "        3.02625944e-05,  1.49250862e-05,  6.94061442e-06, -5.45454841e-05,\n",
       "       -1.14984934e-05,  1.90255348e-05, -1.90945664e-05, -3.41568035e-05,\n",
       "        3.92527991e-05,  9.28967124e-05,  1.22729929e-04,  2.97374618e-05,\n",
       "       -3.80601809e-05,  3.00118163e-05, -2.77711135e-05,  4.87075871e-06,\n",
       "        6.03040186e-05, -5.17498331e-05, -6.08578069e-05,  3.17517665e-05,\n",
       "        5.37785744e-05, -7.70683546e-05,  1.39016706e-05,  3.90131418e-05,\n",
       "       -7.07020288e-05, -4.26599545e-05, -3.96713517e-05, -4.56624264e-05,\n",
       "       -9.45375458e-05, -8.24857201e-06, -1.18164322e-04, -1.47519286e-04,\n",
       "       -8.56811375e-05, -5.36105583e-05, -1.50009565e-04, -4.50433980e-05,\n",
       "       -1.93155095e-05, -1.10436100e-04, -1.05923711e-04, -8.61958204e-05,\n",
       "        8.86027620e-05,  3.11697029e-06, -5.16409019e-06,  6.44133956e-05,\n",
       "        4.89068471e-06, -7.24831297e-05, -2.00199935e-06,  5.66245504e-05,\n",
       "        7.77148246e-05, -2.30082822e-05, -3.77295401e-05,  3.88799038e-05,\n",
       "        7.10141971e-05,  4.50192990e-06,  8.70437761e-06,  9.01288520e-05,\n",
       "        9.03742103e-06,  9.51363298e-05,  3.31834770e-05, -2.28428486e-05,\n",
       "        6.84699745e-05,  3.25520218e-05, -8.64560740e-05,  2.38996771e-05,\n",
       "        5.95702478e-05,  2.73658463e-05, -4.83477655e-05, -7.40035766e-05,\n",
       "        8.22518666e-05,  2.95872139e-05, -6.57149309e-05, -8.95166245e-05,\n",
       "        1.06815778e-04,  2.89229815e-05, -7.85180884e-05, -2.58423525e-05,\n",
       "        8.13501828e-06, -3.93790656e-05, -8.26086995e-05, -6.20989874e-05,\n",
       "       -6.92320357e-06,  1.51340456e-05, -5.46067923e-05, -7.47423423e-06,\n",
       "        8.44493292e-05,  7.24513891e-05, -1.72944889e-05,  1.72915791e-05,\n",
       "       -2.51744368e-06, -2.36680332e-05, -2.83040064e-05,  2.55027448e-05,\n",
       "       -5.52566788e-06,  1.12758087e-05,  3.51655313e-05, -1.07598848e-05,\n",
       "        6.03503720e-06, -1.15745251e-05,  9.00825856e-06,  3.16087044e-05,\n",
       "        1.97744840e-05,  1.34140555e-05,  1.01853913e-06, -8.43927684e-06,\n",
       "        1.03966875e-05,  5.83354319e-06, -6.21282690e-06, -2.19631739e-05,\n",
       "        2.20347394e-05,  4.23318122e-05,  2.56620135e-05,  2.00971276e-05,\n",
       "        6.27136762e-06,  1.15372720e-05, -1.17898082e-05, -4.85788230e-07,\n",
       "        2.92901007e-05, -2.00721703e-05, -3.01178299e-05,  2.21977544e-05,\n",
       "        2.20093075e-05, -2.41997604e-05, -2.67563475e-06,  2.21849599e-05,\n",
       "       -2.40727113e-05, -1.37766277e-05, -1.65576307e-05, -3.18704834e-05,\n",
       "       -3.02279950e-05, -8.56404217e-06, -4.05460116e-05, -7.20341088e-05,\n",
       "       -2.98975317e-05, -2.28507412e-05, -5.70679566e-05, -1.25101557e-05,\n",
       "       -1.09493442e-05, -4.55531806e-05, -3.82832417e-05, -2.19782966e-05,\n",
       "        3.32500022e-05,  2.56459250e-06, -4.87134249e-06,  2.97540774e-05,\n",
       "       -2.92212039e-07, -2.12441358e-05, -9.51397655e-07,  1.70654858e-05,\n",
       "        3.41732366e-05, -6.05359688e-06, -1.94792525e-05,  9.05456457e-06,\n",
       "        2.71784337e-05,  1.64584945e-06,  5.97539846e-06,  3.65715951e-05,\n",
       "        1.11128380e-05,  4.89439620e-05,  2.43029989e-06, -7.67579741e-06,\n",
       "        3.12811023e-05,  2.86456397e-05, -3.17430416e-05,  3.68011434e-06,\n",
       "        2.92703521e-05,  5.66095751e-06, -2.36053414e-05, -3.95108426e-05,\n",
       "        3.59231373e-05,  1.76608994e-05, -2.95762353e-05, -3.30504897e-05,\n",
       "        3.32490518e-05,  5.29869630e-07, -3.01629346e-05, -5.76376598e-06,\n",
       "        4.42437359e-06, -8.24042994e-06, -3.15236888e-05, -2.49888005e-05,\n",
       "        3.19035968e-06, -7.98514746e-06, -1.66771670e-05, -4.95388831e-06])"
      ]
     },
     "execution_count": 75,
     "metadata": {},
     "output_type": "execute_result"
    }
   ],
   "source": [
    "feat[(1,)][-1000]"
   ]
  },
  {
   "cell_type": "code",
   "execution_count": 68,
   "id": "359d2720-303f-4355-8083-ae57ccf61a57",
   "metadata": {},
   "outputs": [
    {
     "data": {
      "text/plain": [
       "200"
      ]
     },
     "execution_count": 68,
     "metadata": {},
     "output_type": "execute_result"
    }
   ],
   "source": [
    "len(train_structures)"
   ]
  },
  {
   "cell_type": "code",
   "execution_count": 60,
   "id": "6fc99c93-31e7-4608-8abd-a8f55427f1b7",
   "metadata": {},
   "outputs": [
    {
     "data": {
      "text/plain": [
       "dict_keys([(1,), (6,), (7,), (8,), (16,)])"
      ]
     },
     "execution_count": 60,
     "metadata": {},
     "output_type": "execute_result"
    }
   ],
   "source": [
    "my_feat.keys()"
   ]
  },
  {
   "cell_type": "code",
   "execution_count": 62,
   "id": "7ad38086-eb22-452b-9e99-e22aa3ed6cd7",
   "metadata": {},
   "outputs": [
    {
     "data": {
      "text/plain": [
       "8010"
      ]
     },
     "execution_count": 62,
     "metadata": {},
     "output_type": "execute_result"
    }
   ],
   "source": [
    "len(myfeat[(8,)])"
   ]
  },
  {
   "cell_type": "code",
   "execution_count": 61,
   "id": "aae89b43-bb94-400c-a68e-b90d99fe416c",
   "metadata": {},
   "outputs": [
    {
     "data": {
      "text/plain": [
       "dict_keys([(1,), (6,), (7,), (8,), (16,)])"
      ]
     },
     "execution_count": 61,
     "metadata": {},
     "output_type": "execute_result"
    }
   ],
   "source": [
    "myfeat.keys()"
   ]
  },
  {
   "cell_type": "code",
   "execution_count": 53,
   "id": "945395a5-7f94-4cd4-839a-682af213447b",
   "metadata": {},
   "outputs": [],
   "source": [
    "mysoap = SphericalExpansion(**HYPERS)\n",
    "my_feat = mysoap.transform(train_structures).get_features_by_species(mysoap)"
   ]
  },
  {
   "cell_type": "code",
   "execution_count": 54,
   "id": "f2233929-b736-4a2b-8c99-8462ae9dbb35",
   "metadata": {},
   "outputs": [
    {
     "data": {
      "text/plain": [
       "8010"
      ]
     },
     "execution_count": 54,
     "metadata": {},
     "output_type": "execute_result"
    }
   ],
   "source": [
    "len(my_feat[(8,)])"
   ]
  },
  {
   "cell_type": "code",
   "execution_count": 56,
   "id": "00349956-540b-4d7b-a214-8cd7f5546851",
   "metadata": {},
   "outputs": [
    {
     "data": {
      "text/plain": [
       "8010"
      ]
     },
     "execution_count": 56,
     "metadata": {},
     "output_type": "execute_result"
    }
   ],
   "source": [
    "len(train_properties)"
   ]
  },
  {
   "cell_type": "code",
   "execution_count": null,
   "id": "f3f97439-c008-4751-baae-1bc5d8780b1b",
   "metadata": {},
   "outputs": [],
   "source": []
  }
 ],
 "metadata": {
  "kernelspec": {
   "display_name": "Python 3",
   "language": "python",
   "name": "python3"
  },
  "language_info": {
   "codemirror_mode": {
    "name": "ipython",
    "version": 3
   },
   "file_extension": ".py",
   "mimetype": "text/x-python",
   "name": "python",
   "nbconvert_exporter": "python",
   "pygments_lexer": "ipython3",
   "version": "3.8.10"
  }
 },
 "nbformat": 4,
 "nbformat_minor": 5
}
