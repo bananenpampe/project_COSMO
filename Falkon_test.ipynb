{
 "cells": [
  {
   "cell_type": "code",
   "execution_count": 1,
   "id": "88cb953b-c94f-4624-bfcc-5ce9248fad92",
   "metadata": {
    "tags": []
   },
   "outputs": [
    {
     "name": "stdout",
     "output_type": "stream",
     "text": [
      "[pyKeOps]: Warning, no cuda detected. Switching to cpu only.\n",
      "--- 17.09061050415039 seconds ---\n"
     ]
    }
   ],
   "source": [
    "import torch\n",
    "from sklearn.datasets import load_boston\n",
    "from falkon import Falkon, kernels\n",
    "from loader.loader import load_data\n",
    "import falkon\n",
    "import time\n",
    "from rascal.representations import SphericalInvariants as SOAP\n",
    "from feature_utils.parallel import get_features_in_parallel\n",
    "from sklearn.compose import TransformedTargetRegressor\n",
    "from skcosmo.preprocessing import StandardFlexibleScaler\n",
    "from feature_utils.parallel import get_optimal_radial_basis_hypers_parallel\n",
    "import numpy as np\n",
    "from falkon.center_selection import FixedSelector\n",
    "\n",
    "options = falkon.FalkonOptions(use_cpu=True, keops_active=\"no\")\n",
    "train_structures, test_structures, train_properties, test_properties = load_data(\"./make_tensor_data/train_tensor/CSD-3k+S546_shift_tensors.xyz\",\\\n",
    "                                                                                    \"./make_tensor_data/test_tensor/CSD-500+104-7_shift_tensors.xyz\",selected_species=1)\n",
    "\n",
    "hypers = dict(soap_type=\"PowerSpectrum\",\n",
    "              interaction_cutoff=4.643,\n",
    "              max_radial=8,\n",
    "              max_angular=8,\n",
    "              gaussian_sigma_constant=0.179,\n",
    "              gaussian_sigma_type=\"Constant\",\n",
    "              radial_basis=\"GTO\",\n",
    "              normalize=True,\n",
    "              cutoff_smooth_width=0.3,\n",
    "              cutoff_function_type=\"RadialScaling\",\n",
    "              optimization=\n",
    "                    dict(\n",
    "                            Spline=dict(\n",
    "                               accuracy=1.0e-05\n",
    "                            )\n",
    "                        ),\n",
    "              cutoff_function_parameters= dict(rate=1.968,\n",
    "                    scale=2.601,\n",
    "                    exponent=4.698\n",
    "                        ),\n",
    "              compute_gradients=False,\n",
    "              expansion_by_species_method=\"user defined\",\n",
    "              global_species=[1, 6, 7, 8, 16]\n",
    "              )\n",
    "\n",
    "\n",
    "hypers = get_optimal_radial_basis_hypers_parallel(hypers,train_structures)\n",
    "\n",
    "start_time = time.time()\n",
    "Xtrain = get_features_in_parallel(train_structures,SOAP,hypers,n_cores=8)\n",
    "Xtest = get_features_in_parallel(test_structures,SOAP,hypers,n_cores=8)\n",
    "print(\"--- %s seconds ---\" % (time.time() - start_time))\n",
    "\n",
    "Xtrain = torch.from_numpy(Xtrain)\n",
    "Ytrain = torch.from_numpy(train_properties).reshape(-1, 1)\n",
    "Xtest = torch.from_numpy(Xtest)\n",
    "Ytest = torch.from_numpy(test_properties).reshape(-1, 1)\n",
    "\n",
    "indices = np.load(\"./PCov-FPS-sample-ids/PCOV_FPS_selected_sample_ids_6_selected_20000_n8_l8_PASSING.npy\")\n",
    "indices_torch = torch.from_numpy(indices).reshape(-1,1)\n",
    "X_centers_init = Xtrain[indices].clone()\n",
    "Y_centers_init = Ytrain[indices].clone()\n",
    "\n"
   ]
  },
  {
   "cell_type": "code",
   "execution_count": 15,
   "id": "24d579ae-edf6-4b81-b6ed-668e940498ad",
   "metadata": {},
   "outputs": [],
   "source": [
    "\n",
    "\n",
    "indices_torch = torch.from_numpy(indices).reshape(-1,1)\n",
    "X_centers_init = Xtrain[indices].clone()\n",
    "Y_centers_init = Ytrain[indices].clone()\n",
    "\n",
    "selector = FixedSelector(X_centers_init,Y_centers_init,indices_torch)\n",
    "\n",
    "kernel = kernels.GaussianKernel(sigma=1.352)\n",
    "\n",
    "model = Falkon(\n",
    "    maxiter=20,\n",
    "    kernel=kernel,\n",
    "    penalty=1.07e-06,\n",
    "    M=20000,\n",
    "    options=options,\n",
    "    #center_selection=selector\n",
    "        \n",
    ")"
   ]
  },
  {
   "cell_type": "code",
   "execution_count": 16,
   "id": "3419e039-377c-4cc5-8083-2313ab10f60b",
   "metadata": {},
   "outputs": [
    {
     "name": "stdout",
     "output_type": "stream",
     "text": [
      "--- 157.88375782966614 seconds ---\n"
     ]
    }
   ],
   "source": [
    "start_time = time.time()\n",
    "model.fit(Xtrain, Ytrain)\n",
    "print(\"--- %s seconds ---\" % (time.time() - start_time))"
   ]
  },
  {
   "cell_type": "code",
   "execution_count": 17,
   "id": "01246f1c-09d3-4723-97db-734a864954b3",
   "metadata": {},
   "outputs": [
    {
     "name": "stdout",
     "output_type": "stream",
     "text": [
      "Training RMSE: 5.76531312083172\n",
      "Test RMSE: 5.178937731049624\n"
     ]
    }
   ],
   "source": [
    "train_pred = model.predict(Xtrain).reshape(-1, )\n",
    "test_pred = model.predict(Xtest).reshape(-1, )\n",
    "\n",
    "def rmse(true, pred):\n",
    "    return torch.sqrt(torch.mean((true.reshape(-1, 1) - pred.reshape(-1, 1))**2))\n",
    "\n",
    "print(\"Training RMSE: {}\".format(rmse(train_pred, Ytrain)))\n",
    "print(\"Test RMSE: {}\".format(rmse(test_pred, Ytest)))\n",
    "\n"
   ]
  },
  {
   "cell_type": "code",
   "execution_count": null,
   "id": "8443a287-1a4d-4a1a-b100-b9e743978676",
   "metadata": {},
   "outputs": [],
   "source": [
    "Training RMSE: 5.799836323452176\n",
    "Test RMSE: 5.204630858539724\n"
   ]
  },
  {
   "cell_type": "code",
   "execution_count": 7,
   "id": "28ff7194-0b3e-4c27-9ca3-ef6a7a152d7a",
   "metadata": {},
   "outputs": [],
   "source": [
    "from sklearn.metrics import mean_squared_error"
   ]
  },
  {
   "cell_type": "code",
   "execution_count": 8,
   "id": "8651dc43-8943-435c-bb73-54b3ba3a2d7f",
   "metadata": {},
   "outputs": [
    {
     "data": {
      "text/plain": [
       "5.1982427007730605"
      ]
     },
     "execution_count": 8,
     "metadata": {},
     "output_type": "execute_result"
    }
   ],
   "source": [
    "mean_squared_error(test_pred, Ytest,squared=False)"
   ]
  },
  {
   "cell_type": "code",
   "execution_count": null,
   "id": "a235a2ab-38f4-4c86-a30f-daa10bc8f517",
   "metadata": {},
   "outputs": [],
   "source": [
    "Training RMSE: 53.89054682767797\n",
    "Test RMSE: 50.388110001305485\n",
    "\n",
    "\n"
   ]
  },
  {
   "cell_type": "code",
   "execution_count": null,
   "id": "0d9cd47f-4e9e-45d5-ba7a-6c4e5e875c0c",
   "metadata": {},
   "outputs": [],
   "source": [
    "Training RMSE: 53.891\n",
    "Test RMSE: 50.388"
   ]
  },
  {
   "cell_type": "code",
   "execution_count": 8,
   "id": "9c9a1e0e-43ad-450f-92a5-1d7e6336df3e",
   "metadata": {},
   "outputs": [
    {
     "data": {
      "text/plain": [
       "torch.Size([20000, 8640])"
      ]
     },
     "execution_count": 8,
     "metadata": {},
     "output_type": "execute_result"
    }
   ],
   "source": [
    "X_centers_init.shape"
   ]
  },
  {
   "cell_type": "code",
   "execution_count": 10,
   "id": "353d363d-0c54-4d68-8aa4-a185bbbf24c5",
   "metadata": {},
   "outputs": [
    {
     "data": {
      "text/plain": [
       "True"
      ]
     },
     "execution_count": 10,
     "metadata": {},
     "output_type": "execute_result"
    }
   ],
   "source": [
    "torch.allclose(model.ny_points_,X_centers_init)"
   ]
  },
  {
   "cell_type": "code",
   "execution_count": 14,
   "id": "49dc1b92-eac8-4ee6-bbb0-8915b104d4bd",
   "metadata": {},
   "outputs": [
    {
     "data": {
      "text/plain": [
       "False"
      ]
     },
     "execution_count": 14,
     "metadata": {},
     "output_type": "execute_result"
    }
   ],
   "source": [
    "torch.allclose(model.ny_points_,X_centers_init)"
   ]
  },
  {
   "cell_type": "code",
   "execution_count": null,
   "id": "c5ea245c-0b05-4ec5-82ce-f6c1fef7f115",
   "metadata": {},
   "outputs": [],
   "source": []
  },
  {
   "cell_type": "code",
   "execution_count": null,
   "id": "d54992fe-acc7-451a-9c57-ac9d2da0f730",
   "metadata": {},
   "outputs": [],
   "source": [
    "Training RMSE: 53.884\n",
    "Test RMSE: 50.378"
   ]
  },
  {
   "cell_type": "code",
   "execution_count": 5,
   "id": "f04afe9c-e36f-442c-b334-d883c47b6155",
   "metadata": {},
   "outputs": [],
   "source": [
    "from sklearn.model_selection import GroupKFold\n",
    "from skcosmo.model_selection import atom_groups_by_frame"
   ]
  },
  {
   "cell_type": "code",
   "execution_count": 6,
   "id": "a40c28bd-005b-4fea-b308-223e6390245b",
   "metadata": {},
   "outputs": [],
   "source": [
    "atom_groups = atom_groups_by_frame(train_structures)"
   ]
  },
  {
   "cell_type": "code",
   "execution_count": 26,
   "id": "5580b975-0cae-4200-bba8-7b5b9e2f296f",
   "metadata": {},
   "outputs": [
    {
     "data": {
      "text/plain": [
       "(array([    20,     21,     22, ..., 103909, 103910, 103911]),\n",
       " array([     0,      1,      2, ..., 103811, 103812, 103813]))"
      ]
     },
     "execution_count": 26,
     "metadata": {},
     "output_type": "execute_result"
    }
   ],
   "source": [
    "splits[1]"
   ]
  },
  {
   "cell_type": "code",
   "execution_count": 27,
   "id": "7a812da1-22aa-439e-affe-241f08aac71a",
   "metadata": {},
   "outputs": [
    {
     "data": {
      "text/plain": [
       "(array([     0,      1,      2, ..., 103839, 103840, 103841]),\n",
       " array([    20,     21,     22, ..., 103909, 103910, 103911]))"
      ]
     },
     "execution_count": 27,
     "metadata": {},
     "output_type": "execute_result"
    }
   ],
   "source": [
    "splits[0]"
   ]
  },
  {
   "cell_type": "code",
   "execution_count": 28,
   "id": "de63933a-83f9-4c7a-87ae-a8c839bd973a",
   "metadata": {},
   "outputs": [
    {
     "data": {
      "text/plain": [
       "(array([     0,      1,      2, ..., 103909, 103910, 103911]),\n",
       " array([   130,    131,    132, ..., 103769, 103770, 103771]))"
      ]
     },
     "execution_count": 28,
     "metadata": {},
     "output_type": "execute_result"
    }
   ],
   "source": [
    "splits[3]"
   ]
  },
  {
   "cell_type": "code",
   "execution_count": 23,
   "id": "faedce0e-a7c6-4281-b392-bdc6dd2001df",
   "metadata": {},
   "outputs": [
    {
     "data": {
      "text/plain": [
       "array([7, 7, 7, 7, 8, 8, 8, 8, 6, 6, 6, 6, 6, 6, 6, 6, 6, 6, 6, 6, 6, 6,\n",
       "       6, 6, 6, 6, 6, 6, 1, 1, 1, 1, 1, 1, 1, 1, 1, 1, 1, 1, 1, 1, 1, 1,\n",
       "       1, 1, 1, 1])"
      ]
     },
     "execution_count": 23,
     "metadata": {},
     "output_type": "execute_result"
    }
   ],
   "source": [
    "train_structures[0].get_atomic_numbers()"
   ]
  },
  {
   "cell_type": "code",
   "execution_count": 7,
   "id": "d0052f12-133a-4440-8985-1dac49d1d18b",
   "metadata": {},
   "outputs": [],
   "source": [
    "splits = list(GroupKFold(n_splits=5).split(Xtrain,Ytrain,groups=atom_groups))"
   ]
  },
  {
   "cell_type": "code",
   "execution_count": 10,
   "id": "07519a67-2640-476a-bede-4d0b1638abbe",
   "metadata": {},
   "outputs": [
    {
     "data": {
      "text/plain": [
       "numpy.ndarray"
      ]
     },
     "execution_count": 10,
     "metadata": {},
     "output_type": "execute_result"
    }
   ],
   "source": [
    "type(splits[1][1])"
   ]
  },
  {
   "cell_type": "code",
   "execution_count": 14,
   "id": "8ceda3ba-b4c7-4651-9db7-02d0e1da3500",
   "metadata": {},
   "outputs": [],
   "source": [
    "estimator = falkon.Falkon(\n",
    "    kernel=kernels.PolynomialKernel(gamma=1.,beta=0.,degree=3.), penalty=1e-3, M=20000,  # Mandatory parameters, will be overridden\n",
    "    maxiter=40, options=falkon.FalkonOptions(use_cpu=True))"
   ]
  },
  {
   "cell_type": "code",
   "execution_count": 15,
   "id": "760e399c-a469-4792-bf7a-2f3bfbae14fb",
   "metadata": {},
   "outputs": [],
   "source": [
    "import numpy as np"
   ]
  },
  {
   "cell_type": "code",
   "execution_count": 16,
   "id": "955d2bfb-745e-4b2b-b066-2f9fd890880d",
   "metadata": {},
   "outputs": [],
   "source": [
    "from sklearn.model_selection import cross_val_score"
   ]
  },
  {
   "cell_type": "code",
   "execution_count": 17,
   "id": "21595ac4-2e9a-4e90-9d5c-ce2f94d40031",
   "metadata": {},
   "outputs": [
    {
     "name": "stdout",
     "output_type": "stream",
     "text": [
      "6385.565644286591\n",
      "--- 685.7443106174469 seconds ---\n"
     ]
    }
   ],
   "source": [
    "\n",
    "start_time = time.time()\n",
    "score = -np.mean(cross_val_score(estimator, Xtrain, Ytrain, cv=splits, n_jobs=1,\n",
    "                                    scoring=\"neg_mean_squared_error\"))\n",
    "print(score)\n",
    "print(\"--- %s seconds ---\" % (time.time() - start_time))"
   ]
  },
  {
   "cell_type": "code",
   "execution_count": 5,
   "id": "b390b91d-4443-4c03-b2ed-a560ca4618cb",
   "metadata": {},
   "outputs": [],
   "source": [
    "import falkon.hopt\n",
    "from falkon import FalkonOptions\n",
    "from falkon.hopt.objectives import NystromCompReg\n",
    "import numpy as np"
   ]
  },
  {
   "cell_type": "code",
   "execution_count": 6,
   "id": "59b66fc5-82d7-48c9-b86f-0973eef856f5",
   "metadata": {},
   "outputs": [],
   "source": [
    "def rmse(true, pred):\n",
    "    return torch.sqrt(torch.mean((true.reshape(-1, 1) - pred.reshape(-1, 1))**2))"
   ]
  },
  {
   "cell_type": "code",
   "execution_count": 8,
   "id": "046bf5c4-3365-41e5-9c6e-2ea5c0f4c40b",
   "metadata": {},
   "outputs": [],
   "source": [
    "sigma_init = torch.tensor([1.0] * Xtrain.shape[1]).requires_grad_()\n",
    "penalty_init = torch.tensor(1e-5)\n",
    "centers_init = Xtrain[np.random.choice(Xtrain.shape[0], size=(5000, ), replace=False)].clone()\n",
    "options = falkon.FalkonOptions(use_cpu=True, max_cpu_mem=20*1e09)\n",
    "kernel = falkon.kernels.GaussianKernel(sigma=sigma_init, opt=options)\n",
    "#kernels.PolynomialKernel(gamma=2.,beta=0.,degree=2.,opt=options)\n",
    "model = NystromCompReg(\n",
    "    kernel=kernel, penalty_init=penalty_init, centers_init=centers_init,  # The initial hp values\n",
    "    opt_penalty=True, opt_centers=True,  # Whether the various hps are to be optimized\n",
    "    )\n",
    "\n",
    "opt_hp = torch.optim.Adam(model.parameters(), lr=0.1)"
   ]
  },
  {
   "cell_type": "code",
   "execution_count": null,
   "id": "caf5aae4-5a8f-4d16-bfa0-28bd0ee1f04c",
   "metadata": {},
   "outputs": [],
   "source": [
    "tr_loss, tr_err = [], []\n",
    "\n",
    "for epoch in range(50):\n",
    "    opt_hp.zero_grad()\n",
    "    loss = model(Xtrain, Ytrain)\n",
    "    loss.backward()\n",
    "    opt_hp.step()\n",
    "\n",
    "    tr_loss.append(loss.item())\n",
    "    tr_err.append(rmse(Ytrain, model.predict(Xtrain)))\n",
    "    print(f\"Epoch {epoch} Loss {tr_loss[-1]:.3f} Error {tr_err[-1] * 100:.2f}%\")"
   ]
  },
  {
   "cell_type": "code",
   "execution_count": null,
   "id": "9a2e3da1-4890-482f-b448-931509a7e8a0",
   "metadata": {},
   "outputs": [],
   "source": []
  },
  {
   "cell_type": "code",
   "execution_count": 9,
   "id": "78cd7bb4-6ab5-4d04-a6c4-37cf4026d0ff",
   "metadata": {},
   "outputs": [
    {
     "data": {
      "text/plain": [
       "10775.36"
      ]
     },
     "execution_count": 9,
     "metadata": {},
     "output_type": "execute_result"
    }
   ],
   "source": [
    "10775360000/1e06"
   ]
  },
  {
   "cell_type": "code",
   "execution_count": 3,
   "id": "e3d42d68-9481-4c10-a543-cbb0cff578b4",
   "metadata": {},
   "outputs": [
    {
     "data": {
      "text/plain": [
       "'0.7.1'"
      ]
     },
     "execution_count": 3,
     "metadata": {},
     "output_type": "execute_result"
    }
   ],
   "source": [
    "falkon.__version__"
   ]
  },
  {
   "cell_type": "code",
   "execution_count": 12,
   "id": "4368aeaf-1d6f-4bac-ae15-39981264a33b",
   "metadata": {},
   "outputs": [
    {
     "data": {
      "text/plain": [
       "{'M': 10000,\n",
       " 'center_selection': <falkon.center_selection.UniformSelector at 0x7f2e4d88a130>,\n",
       " 'error_every': 1,\n",
       " 'error_fn': None,\n",
       " 'kernel': PolynomialKernel(beta=tensor([0.], dtype=torch.float64), gamma=tensor([2.], dtype=torch.float64), degree=tensor([2.], dtype=torch.float64)),\n",
       " 'maxiter': 20,\n",
       " 'options': FalkonOptions(keops_acc_dtype='auto', keops_sum_scheme='auto', keops_active='no', keops_memory_slack=0.7, chol_force_in_core=False, chol_force_ooc=False, chol_par_blk_multiplier=2, pc_epsilon_32=1e-05, pc_epsilon_64=1e-13, cpu_preconditioner=False, cg_epsilon_32=1e-07, cg_epsilon_64=1e-15, cg_tolerance=1e-07, cg_full_gradient_every=10, cg_differential_convergence=False, debug=False, use_cpu=True, max_gpu_mem=inf, max_cpu_mem=inf, compute_arch_speed=False, no_single_kernel=True, min_cuda_pc_size_32=10000, min_cuda_pc_size_64=30000, min_cuda_iter_size_32=300000000, min_cuda_iter_size_64=900000000, never_store_kernel=False, store_kernel_d_threshold=1200, num_fmm_streams=2),\n",
       " 'penalty': 0.001,\n",
       " 'seed': None,\n",
       " 'weight_fn': None}"
      ]
     },
     "execution_count": 12,
     "metadata": {},
     "output_type": "execute_result"
    }
   ],
   "source": [
    "model.get_params()"
   ]
  },
  {
   "cell_type": "code",
   "execution_count": 14,
   "id": "93c28faf-83f2-4311-bc05-087342be437f",
   "metadata": {
    "collapsed": true,
    "jupyter": {
     "outputs_hidden": true
    },
    "tags": []
   },
   "outputs": [
    {
     "ename": "ValueError",
     "evalue": "Invalid parameter degree for estimator Falkon(M=10000, center_selection=<falkon.center_selection.UniformSelector object at 0x7f2e4d88a130>, kernel=PolynomialKernel(beta=tensor([0.], dtype=torch.float64), gamma=tensor([2.], dtype=torch.float64), degree=tensor([2.], dtype=torch.float64)), options=FalkonOptions(keops_acc_dtype='auto', keops_sum_scheme='auto', keops_active='no', keops_memory_slack=0.7, chol_force_in_core=False, chol_force_ooc=False, chol_par_blk_multiplier=2, pc_epsilon_32=1e-05, pc_epsilon_64=1e-13, cpu_preconditioner=False, cg_epsilon_32=1e-07, cg_epsilon_64=1e-15, cg_tolerance=1e-07, cg_full_gradient_every=10, cg_differential_convergence=False, debug=False, use_cpu=True, max_gpu_mem=inf, max_cpu_mem=inf, compute_arch_speed=False, no_single_kernel=True, min_cuda_pc_size_32=10000, min_cuda_pc_size_64=30000, min_cuda_iter_size_32=300000000, min_cuda_iter_size_64=900000000, never_store_kernel=False, store_kernel_d_threshold=1200, num_fmm_streams=2), penalty=0.001). Check the list of available parameters with `estimator.get_params().keys()`.",
     "output_type": "error",
     "traceback": [
      "\u001b[0;31m---------------------------------------------------------------------------\u001b[0m",
      "\u001b[0;31mValueError\u001b[0m                                Traceback (most recent call last)",
      "\u001b[0;32m/tmp/ipykernel_25289/2198768912.py\u001b[0m in \u001b[0;36m<module>\u001b[0;34m\u001b[0m\n\u001b[0;32m----> 1\u001b[0;31m \u001b[0mmodel\u001b[0m\u001b[0;34m.\u001b[0m\u001b[0mset_params\u001b[0m\u001b[0;34m(\u001b[0m\u001b[0mdegree\u001b[0m\u001b[0;34m=\u001b[0m\u001b[0;36m3.\u001b[0m\u001b[0;34m)\u001b[0m\u001b[0;34m\u001b[0m\u001b[0;34m\u001b[0m\u001b[0m\n\u001b[0m",
      "\u001b[0;32m/ssd/scratch/kellner/miniconda3/lib/python3.8/site-packages/sklearn/base.py\u001b[0m in \u001b[0;36mset_params\u001b[0;34m(self, **params)\u001b[0m\n\u001b[1;32m    243\u001b[0m             \u001b[0mkey\u001b[0m\u001b[0;34m,\u001b[0m \u001b[0mdelim\u001b[0m\u001b[0;34m,\u001b[0m \u001b[0msub_key\u001b[0m \u001b[0;34m=\u001b[0m \u001b[0mkey\u001b[0m\u001b[0;34m.\u001b[0m\u001b[0mpartition\u001b[0m\u001b[0;34m(\u001b[0m\u001b[0;34m\"__\"\u001b[0m\u001b[0;34m)\u001b[0m\u001b[0;34m\u001b[0m\u001b[0;34m\u001b[0m\u001b[0m\n\u001b[1;32m    244\u001b[0m             \u001b[0;32mif\u001b[0m \u001b[0mkey\u001b[0m \u001b[0;32mnot\u001b[0m \u001b[0;32min\u001b[0m \u001b[0mvalid_params\u001b[0m\u001b[0;34m:\u001b[0m\u001b[0;34m\u001b[0m\u001b[0;34m\u001b[0m\u001b[0m\n\u001b[0;32m--> 245\u001b[0;31m                 raise ValueError(\n\u001b[0m\u001b[1;32m    246\u001b[0m                     \u001b[0;34m\"Invalid parameter %s for estimator %s. \"\u001b[0m\u001b[0;34m\u001b[0m\u001b[0;34m\u001b[0m\u001b[0m\n\u001b[1;32m    247\u001b[0m                     \u001b[0;34m\"Check the list of available parameters \"\u001b[0m\u001b[0;34m\u001b[0m\u001b[0;34m\u001b[0m\u001b[0m\n",
      "\u001b[0;31mValueError\u001b[0m: Invalid parameter degree for estimator Falkon(M=10000, center_selection=<falkon.center_selection.UniformSelector object at 0x7f2e4d88a130>, kernel=PolynomialKernel(beta=tensor([0.], dtype=torch.float64), gamma=tensor([2.], dtype=torch.float64), degree=tensor([2.], dtype=torch.float64)), options=FalkonOptions(keops_acc_dtype='auto', keops_sum_scheme='auto', keops_active='no', keops_memory_slack=0.7, chol_force_in_core=False, chol_force_ooc=False, chol_par_blk_multiplier=2, pc_epsilon_32=1e-05, pc_epsilon_64=1e-13, cpu_preconditioner=False, cg_epsilon_32=1e-07, cg_epsilon_64=1e-15, cg_tolerance=1e-07, cg_full_gradient_every=10, cg_differential_convergence=False, debug=False, use_cpu=True, max_gpu_mem=inf, max_cpu_mem=inf, compute_arch_speed=False, no_single_kernel=True, min_cuda_pc_size_32=10000, min_cuda_pc_size_64=30000, min_cuda_iter_size_32=300000000, min_cuda_iter_size_64=900000000, never_store_kernel=False, store_kernel_d_threshold=1200, num_fmm_streams=2), penalty=0.001). Check the list of available parameters with `estimator.get_params().keys()`."
     ]
    }
   ],
   "source": [
    "model.set_params(degree=3.)"
   ]
  },
  {
   "cell_type": "code",
   "execution_count": null,
   "id": "7760e1f6-30d8-4c0c-b79e-9c8277b21237",
   "metadata": {},
   "outputs": [],
   "source": []
  }
 ],
 "metadata": {
  "kernelspec": {
   "display_name": "Python [conda env:root] *",
   "language": "python",
   "name": "conda-root-py"
  },
  "language_info": {
   "codemirror_mode": {
    "name": "ipython",
    "version": 3
   },
   "file_extension": ".py",
   "mimetype": "text/x-python",
   "name": "python",
   "nbconvert_exporter": "python",
   "pygments_lexer": "ipython3",
   "version": "3.8.10"
  }
 },
 "nbformat": 4,
 "nbformat_minor": 5
}
