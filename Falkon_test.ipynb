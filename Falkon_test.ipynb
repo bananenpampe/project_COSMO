{
 "cells": [
  {
   "cell_type": "code",
   "execution_count": 1,
   "id": "88cb953b-c94f-4624-bfcc-5ce9248fad92",
   "metadata": {
    "tags": []
   },
   "outputs": [
    {
     "name": "stdout",
     "output_type": "stream",
     "text": [
      "[pyKeOps]: Warning, no cuda detected. Switching to cpu only.\n",
      "--- 11.20531153678894 seconds ---\n"
     ]
    }
   ],
   "source": [
    "import torch\n",
    "from sklearn.datasets import load_boston\n",
    "from falkon import Falkon, kernels\n",
    "from loader.loader import load_data\n",
    "import falkon\n",
    "import time\n",
    "from rascal.representations import SphericalInvariants as SOAP\n",
    "from feature_utils.parallel import get_features_in_parallel\n",
    "from sklearn.compose import TransformedTargetRegressor\n",
    "from skcosmo.preprocessing import StandardFlexibleScaler\n",
    "\n",
    "options = falkon.FalkonOptions(use_cpu=True, keops_active=\"yes\")\n",
    "train_structures, test_structures, train_properties, test_properties = load_data(\"./make_tensor_data/train_tensor/CSD-3k+S546_shift_tensors.xyz\",\\\n",
    "                                                                                    \"./make_tensor_data/test_tensor/CSD-500+104-7_shift_tensors.xyz\",selected_species=1)\n",
    "\n",
    "hypers = dict(soap_type=\"PowerSpectrum\",\n",
    "              interaction_cutoff=4.5,\n",
    "              max_radial=8,\n",
    "              max_angular=8,\n",
    "              gaussian_sigma_constant=0.3,\n",
    "              gaussian_sigma_type=\"Constant\",\n",
    "              radial_basis=\"GTO\",\n",
    "              normalize=False,\n",
    "              cutoff_smooth_width=0.3,\n",
    "              cutoff_function_type=\"RadialScaling\",\n",
    "              optimization=\n",
    "                    dict(\n",
    "                            Spline=dict(\n",
    "                               accuracy=1.0e-05\n",
    "                            )\n",
    "                        ),\n",
    "              cutoff_function_parameters= dict(rate=1,\n",
    "                    scale=2.0,\n",
    "                    exponent=3.\n",
    "                        ),\n",
    "              compute_gradients=False,\n",
    "              expansion_by_species_method=\"user defined\",\n",
    "              global_species=[1, 6, 7, 8, 16]\n",
    "              )\n",
    "start_time = time.time()\n",
    "Xtrain = get_features_in_parallel(train_structures,SOAP,hypers,n_cores=8)\n",
    "Xtest = get_features_in_parallel(test_structures,SOAP,hypers,n_cores=8)\n",
    "print(\"--- %s seconds ---\" % (time.time() - start_time))\n",
    "\n",
    "Xtrain = torch.from_numpy(Xtrain)\n",
    "Ytrain = torch.from_numpy(train_properties).reshape(-1, 1)\n",
    "Xtest = torch.from_numpy(Xtest)\n",
    "Ytest = torch.from_numpy(test_properties).reshape(-1, 1)\n",
    "\n",
    "\n",
    "kernel = kernels.PolynomialKernel(gamma=2.,beta=0.,degree=2.)\n",
    "model = Falkon(\n",
    "    kernel=kernel,\n",
    "    penalty=1e-3,\n",
    "    M=20000,\n",
    "    options=options\n",
    ")\n",
    "\n",
    "\n",
    "reg = TransformedTargetRegressor(regressor=model, transformer=StandardFlexibleScaler())"
   ]
  },
  {
   "cell_type": "code",
   "execution_count": null,
   "id": "3419e039-377c-4cc5-8083-2313ab10f60b",
   "metadata": {},
   "outputs": [],
   "source": [
    "start_time = time.time()\n",
    "model.fit(Xtrain, Ytrain)\n",
    "print(\"--- %s seconds ---\" % (time.time() - start_time))"
   ]
  },
  {
   "cell_type": "code",
   "execution_count": 2,
   "id": "f04afe9c-e36f-442c-b334-d883c47b6155",
   "metadata": {},
   "outputs": [],
   "source": [
    "from sklearn.model_selection import GroupKFold\n",
    "from skcosmo.model_selection import atom_groups_by_frame"
   ]
  },
  {
   "cell_type": "code",
   "execution_count": null,
   "id": "a40c28bd-005b-4fea-b308-223e6390245b",
   "metadata": {},
   "outputs": [],
   "source": [
    "atom_groups = atom_groups_by_frame(train_structures)"
   ]
  },
  {
   "cell_type": "code",
   "execution_count": 4,
   "id": "d0052f12-133a-4440-8985-1dac49d1d18b",
   "metadata": {},
   "outputs": [],
   "source": [
    "splits = list(GroupKFold(n_splits=5).split(Xtrain,Ytrain,groups=atom_groups))"
   ]
  },
  {
   "cell_type": "code",
   "execution_count": 10,
   "id": "07519a67-2640-476a-bede-4d0b1638abbe",
   "metadata": {},
   "outputs": [
    {
     "data": {
      "text/plain": [
       "numpy.ndarray"
      ]
     },
     "execution_count": 10,
     "metadata": {},
     "output_type": "execute_result"
    }
   ],
   "source": [
    "type(splits[1][1])"
   ]
  },
  {
   "cell_type": "code",
   "execution_count": 5,
   "id": "8ceda3ba-b4c7-4651-9db7-02d0e1da3500",
   "metadata": {},
   "outputs": [],
   "source": [
    "estimator = falkon.Falkon(\n",
    "    kernel=kernels.PolynomialKernel(gamma=1.,beta=0.,degree=3.), penalty=1e-3, M=10000,  # Mandatory parameters, will be overridden\n",
    "    maxiter=10, options=falkon.FalkonOptions(use_cpu=True))"
   ]
  },
  {
   "cell_type": "code",
   "execution_count": 3,
   "id": "760e399c-a469-4792-bf7a-2f3bfbae14fb",
   "metadata": {},
   "outputs": [],
   "source": [
    "import numpy as np"
   ]
  },
  {
   "cell_type": "code",
   "execution_count": 4,
   "id": "955d2bfb-745e-4b2b-b066-2f9fd890880d",
   "metadata": {},
   "outputs": [],
   "source": [
    "from sklearn.model_selection import cross_val_score"
   ]
  },
  {
   "cell_type": "code",
   "execution_count": 8,
   "id": "21595ac4-2e9a-4e90-9d5c-ce2f94d40031",
   "metadata": {},
   "outputs": [
    {
     "name": "stdout",
     "output_type": "stream",
     "text": [
      "2.0899512074267608\n",
      "--- 363.4872148036957 seconds ---\n"
     ]
    }
   ],
   "source": [
    "\n",
    "start_time = time.time()\n",
    "score = -np.mean(cross_val_score(estimator, Xtrain, Ytrain, cv=splits, n_jobs=1,\n",
    "                                    scoring=\"neg_mean_squared_error\"))\n",
    "print(score)\n",
    "print(\"--- %s seconds ---\" % (time.time() - start_time))"
   ]
  },
  {
   "cell_type": "code",
   "execution_count": 5,
   "id": "b390b91d-4443-4c03-b2ed-a560ca4618cb",
   "metadata": {},
   "outputs": [],
   "source": [
    "import falkon.hopt\n",
    "from falkon import FalkonOptions\n",
    "from falkon.hopt.objectives import NystromCompReg\n",
    "import numpy as np"
   ]
  },
  {
   "cell_type": "code",
   "execution_count": 6,
   "id": "59b66fc5-82d7-48c9-b86f-0973eef856f5",
   "metadata": {},
   "outputs": [],
   "source": [
    "def rmse(true, pred):\n",
    "    return torch.sqrt(torch.mean((true.reshape(-1, 1) - pred.reshape(-1, 1))**2))"
   ]
  },
  {
   "cell_type": "code",
   "execution_count": 8,
   "id": "046bf5c4-3365-41e5-9c6e-2ea5c0f4c40b",
   "metadata": {},
   "outputs": [],
   "source": [
    "sigma_init = torch.tensor([1.0] * Xtrain.shape[1]).requires_grad_()\n",
    "penalty_init = torch.tensor(1e-5)\n",
    "centers_init = Xtrain[np.random.choice(Xtrain.shape[0], size=(5000, ), replace=False)].clone()\n",
    "options = falkon.FalkonOptions(use_cpu=True, max_cpu_mem=20*1e09)\n",
    "kernel = falkon.kernels.GaussianKernel(sigma=sigma_init, opt=options)\n",
    "#kernels.PolynomialKernel(gamma=2.,beta=0.,degree=2.,opt=options)\n",
    "model = NystromCompReg(\n",
    "    kernel=kernel, penalty_init=penalty_init, centers_init=centers_init,  # The initial hp values\n",
    "    opt_penalty=True, opt_centers=True,  # Whether the various hps are to be optimized\n",
    "    )\n",
    "\n",
    "opt_hp = torch.optim.Adam(model.parameters(), lr=0.1)"
   ]
  },
  {
   "cell_type": "code",
   "execution_count": null,
   "id": "caf5aae4-5a8f-4d16-bfa0-28bd0ee1f04c",
   "metadata": {},
   "outputs": [],
   "source": [
    "tr_loss, tr_err = [], []\n",
    "\n",
    "for epoch in range(50):\n",
    "    opt_hp.zero_grad()\n",
    "    loss = model(Xtrain, Ytrain)\n",
    "    loss.backward()\n",
    "    opt_hp.step()\n",
    "\n",
    "    tr_loss.append(loss.item())\n",
    "    tr_err.append(rmse(Ytrain, model.predict(Xtrain)))\n",
    "    print(f\"Epoch {epoch} Loss {tr_loss[-1]:.3f} Error {tr_err[-1] * 100:.2f}%\")"
   ]
  },
  {
   "cell_type": "code",
   "execution_count": null,
   "id": "9a2e3da1-4890-482f-b448-931509a7e8a0",
   "metadata": {},
   "outputs": [],
   "source": []
  },
  {
   "cell_type": "code",
   "execution_count": 9,
   "id": "78cd7bb4-6ab5-4d04-a6c4-37cf4026d0ff",
   "metadata": {},
   "outputs": [
    {
     "data": {
      "text/plain": [
       "10775.36"
      ]
     },
     "execution_count": 9,
     "metadata": {},
     "output_type": "execute_result"
    }
   ],
   "source": [
    "10775360000/1e06"
   ]
  },
  {
   "cell_type": "code",
   "execution_count": 3,
   "id": "e3d42d68-9481-4c10-a543-cbb0cff578b4",
   "metadata": {},
   "outputs": [
    {
     "data": {
      "text/plain": [
       "'0.7.1'"
      ]
     },
     "execution_count": 3,
     "metadata": {},
     "output_type": "execute_result"
    }
   ],
   "source": [
    "falkon.__version__"
   ]
  },
  {
   "cell_type": "code",
   "execution_count": 3,
   "id": "01246f1c-09d3-4723-97db-734a864954b3",
   "metadata": {},
   "outputs": [
    {
     "name": "stdout",
     "output_type": "stream",
     "text": [
      "Training RMSE: 1.169\n",
      "Test RMSE: 1.127\n"
     ]
    }
   ],
   "source": [
    "train_pred = model.predict(Xtrain).reshape(-1, )\n",
    "test_pred = model.predict(Xtest).reshape(-1, )\n",
    "\n",
    "def rmse(true, pred):\n",
    "    return torch.sqrt(torch.mean((true.reshape(-1, 1) - pred.reshape(-1, 1))**2))\n",
    "\n",
    "print(\"Training RMSE: %.3f\" % (rmse(train_pred, Ytrain)))\n",
    "print(\"Test RMSE: %.3f\" % (rmse(test_pred, Ytest)))\n",
    "\n"
   ]
  },
  {
   "cell_type": "code",
   "execution_count": 12,
   "id": "4368aeaf-1d6f-4bac-ae15-39981264a33b",
   "metadata": {},
   "outputs": [
    {
     "data": {
      "text/plain": [
       "{'M': 10000,\n",
       " 'center_selection': <falkon.center_selection.UniformSelector at 0x7f2e4d88a130>,\n",
       " 'error_every': 1,\n",
       " 'error_fn': None,\n",
       " 'kernel': PolynomialKernel(beta=tensor([0.], dtype=torch.float64), gamma=tensor([2.], dtype=torch.float64), degree=tensor([2.], dtype=torch.float64)),\n",
       " 'maxiter': 20,\n",
       " 'options': FalkonOptions(keops_acc_dtype='auto', keops_sum_scheme='auto', keops_active='no', keops_memory_slack=0.7, chol_force_in_core=False, chol_force_ooc=False, chol_par_blk_multiplier=2, pc_epsilon_32=1e-05, pc_epsilon_64=1e-13, cpu_preconditioner=False, cg_epsilon_32=1e-07, cg_epsilon_64=1e-15, cg_tolerance=1e-07, cg_full_gradient_every=10, cg_differential_convergence=False, debug=False, use_cpu=True, max_gpu_mem=inf, max_cpu_mem=inf, compute_arch_speed=False, no_single_kernel=True, min_cuda_pc_size_32=10000, min_cuda_pc_size_64=30000, min_cuda_iter_size_32=300000000, min_cuda_iter_size_64=900000000, never_store_kernel=False, store_kernel_d_threshold=1200, num_fmm_streams=2),\n",
       " 'penalty': 0.001,\n",
       " 'seed': None,\n",
       " 'weight_fn': None}"
      ]
     },
     "execution_count": 12,
     "metadata": {},
     "output_type": "execute_result"
    }
   ],
   "source": [
    "model.get_params()"
   ]
  },
  {
   "cell_type": "code",
   "execution_count": 14,
   "id": "93c28faf-83f2-4311-bc05-087342be437f",
   "metadata": {
    "collapsed": true,
    "jupyter": {
     "outputs_hidden": true
    },
    "tags": []
   },
   "outputs": [
    {
     "ename": "ValueError",
     "evalue": "Invalid parameter degree for estimator Falkon(M=10000, center_selection=<falkon.center_selection.UniformSelector object at 0x7f2e4d88a130>, kernel=PolynomialKernel(beta=tensor([0.], dtype=torch.float64), gamma=tensor([2.], dtype=torch.float64), degree=tensor([2.], dtype=torch.float64)), options=FalkonOptions(keops_acc_dtype='auto', keops_sum_scheme='auto', keops_active='no', keops_memory_slack=0.7, chol_force_in_core=False, chol_force_ooc=False, chol_par_blk_multiplier=2, pc_epsilon_32=1e-05, pc_epsilon_64=1e-13, cpu_preconditioner=False, cg_epsilon_32=1e-07, cg_epsilon_64=1e-15, cg_tolerance=1e-07, cg_full_gradient_every=10, cg_differential_convergence=False, debug=False, use_cpu=True, max_gpu_mem=inf, max_cpu_mem=inf, compute_arch_speed=False, no_single_kernel=True, min_cuda_pc_size_32=10000, min_cuda_pc_size_64=30000, min_cuda_iter_size_32=300000000, min_cuda_iter_size_64=900000000, never_store_kernel=False, store_kernel_d_threshold=1200, num_fmm_streams=2), penalty=0.001). Check the list of available parameters with `estimator.get_params().keys()`.",
     "output_type": "error",
     "traceback": [
      "\u001b[0;31m---------------------------------------------------------------------------\u001b[0m",
      "\u001b[0;31mValueError\u001b[0m                                Traceback (most recent call last)",
      "\u001b[0;32m/tmp/ipykernel_25289/2198768912.py\u001b[0m in \u001b[0;36m<module>\u001b[0;34m\u001b[0m\n\u001b[0;32m----> 1\u001b[0;31m \u001b[0mmodel\u001b[0m\u001b[0;34m.\u001b[0m\u001b[0mset_params\u001b[0m\u001b[0;34m(\u001b[0m\u001b[0mdegree\u001b[0m\u001b[0;34m=\u001b[0m\u001b[0;36m3.\u001b[0m\u001b[0;34m)\u001b[0m\u001b[0;34m\u001b[0m\u001b[0;34m\u001b[0m\u001b[0m\n\u001b[0m",
      "\u001b[0;32m/ssd/scratch/kellner/miniconda3/lib/python3.8/site-packages/sklearn/base.py\u001b[0m in \u001b[0;36mset_params\u001b[0;34m(self, **params)\u001b[0m\n\u001b[1;32m    243\u001b[0m             \u001b[0mkey\u001b[0m\u001b[0;34m,\u001b[0m \u001b[0mdelim\u001b[0m\u001b[0;34m,\u001b[0m \u001b[0msub_key\u001b[0m \u001b[0;34m=\u001b[0m \u001b[0mkey\u001b[0m\u001b[0;34m.\u001b[0m\u001b[0mpartition\u001b[0m\u001b[0;34m(\u001b[0m\u001b[0;34m\"__\"\u001b[0m\u001b[0;34m)\u001b[0m\u001b[0;34m\u001b[0m\u001b[0;34m\u001b[0m\u001b[0m\n\u001b[1;32m    244\u001b[0m             \u001b[0;32mif\u001b[0m \u001b[0mkey\u001b[0m \u001b[0;32mnot\u001b[0m \u001b[0;32min\u001b[0m \u001b[0mvalid_params\u001b[0m\u001b[0;34m:\u001b[0m\u001b[0;34m\u001b[0m\u001b[0;34m\u001b[0m\u001b[0m\n\u001b[0;32m--> 245\u001b[0;31m                 raise ValueError(\n\u001b[0m\u001b[1;32m    246\u001b[0m                     \u001b[0;34m\"Invalid parameter %s for estimator %s. \"\u001b[0m\u001b[0;34m\u001b[0m\u001b[0;34m\u001b[0m\u001b[0m\n\u001b[1;32m    247\u001b[0m                     \u001b[0;34m\"Check the list of available parameters \"\u001b[0m\u001b[0;34m\u001b[0m\u001b[0;34m\u001b[0m\u001b[0m\n",
      "\u001b[0;31mValueError\u001b[0m: Invalid parameter degree for estimator Falkon(M=10000, center_selection=<falkon.center_selection.UniformSelector object at 0x7f2e4d88a130>, kernel=PolynomialKernel(beta=tensor([0.], dtype=torch.float64), gamma=tensor([2.], dtype=torch.float64), degree=tensor([2.], dtype=torch.float64)), options=FalkonOptions(keops_acc_dtype='auto', keops_sum_scheme='auto', keops_active='no', keops_memory_slack=0.7, chol_force_in_core=False, chol_force_ooc=False, chol_par_blk_multiplier=2, pc_epsilon_32=1e-05, pc_epsilon_64=1e-13, cpu_preconditioner=False, cg_epsilon_32=1e-07, cg_epsilon_64=1e-15, cg_tolerance=1e-07, cg_full_gradient_every=10, cg_differential_convergence=False, debug=False, use_cpu=True, max_gpu_mem=inf, max_cpu_mem=inf, compute_arch_speed=False, no_single_kernel=True, min_cuda_pc_size_32=10000, min_cuda_pc_size_64=30000, min_cuda_iter_size_32=300000000, min_cuda_iter_size_64=900000000, never_store_kernel=False, store_kernel_d_threshold=1200, num_fmm_streams=2), penalty=0.001). Check the list of available parameters with `estimator.get_params().keys()`."
     ]
    }
   ],
   "source": [
    "model.set_params(degree=3.)"
   ]
  },
  {
   "cell_type": "code",
   "execution_count": null,
   "id": "7760e1f6-30d8-4c0c-b79e-9c8277b21237",
   "metadata": {},
   "outputs": [],
   "source": []
  }
 ],
 "metadata": {
  "kernelspec": {
   "display_name": "Python [conda env:root] *",
   "language": "python",
   "name": "conda-root-py"
  },
  "language_info": {
   "codemirror_mode": {
    "name": "ipython",
    "version": 3
   },
   "file_extension": ".py",
   "mimetype": "text/x-python",
   "name": "python",
   "nbconvert_exporter": "python",
   "pygments_lexer": "ipython3",
   "version": "3.8.10"
  }
 },
 "nbformat": 4,
 "nbformat_minor": 5
}
