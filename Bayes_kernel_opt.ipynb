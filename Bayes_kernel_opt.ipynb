{
 "cells": [
  {
   "cell_type": "markdown",
   "id": "b6afc4df-cbf2-4639-8de1-f531a5f3c6f5",
   "metadata": {},
   "source": [
    "Load modules"
   ]
  },
  {
   "cell_type": "code",
   "execution_count": 10,
   "id": "cc742a2e-d48a-4d28-8b9e-d8a9954a4802",
   "metadata": {},
   "outputs": [],
   "source": [
    "from loader.loader import load_data\n",
    "from sklearn.pipeline import Pipeline\n",
    "from skopt import BayesSearchCV\n",
    "from skopt.space import Real, Categorical, Integer\n",
    "from sklearn.kernel_ridge import KernelRidge\n",
    "from skcosmo.model_selection import atom_groups_by_frame\n",
    "from sklearn.model_selection import GroupKFold\n",
    "from feature_utils.parallel import get_features_in_parallel, get_optimal_radial_basis_hypers_parallel\n",
    "from rascal.representations import SphericalInvariants as SOAP"
   ]
  },
  {
   "cell_type": "code",
   "execution_count": null,
   "id": "7527a184-8e0e-4535-b4e2-d6dca8b22bb9",
   "metadata": {},
   "outputs": [],
   "source": []
  },
  {
   "cell_type": "markdown",
   "id": "4421a128-2474-47ce-b92f-718687b30c12",
   "metadata": {},
   "source": [
    "Generating features"
   ]
  },
  {
   "cell_type": "code",
   "execution_count": 11,
   "id": "873a831c-4b0f-4fda-89e1-95f91ea2efd2",
   "metadata": {},
   "outputs": [],
   "source": [
    "train_structures, test_structures, train_properties, test_properties = load_data(\"./make_tensor_data/train_tensor/CSD-3k+S546_shift_tensors.xyz\", \\\n",
    "                                                                                    \"./make_tensor_data/test_tensor/CSD-500+104-7_shift_tensors.xyz\",random_subsample_train=200,random_subsample_test=200,selected_species=1)\n",
    "\n",
    "hypers = dict(soap_type=\"PowerSpectrum\",\n",
    "              interaction_cutoff=6.016,\n",
    "              max_radial=8,\n",
    "              max_angular=8,\n",
    "              gaussian_sigma_constant=0.259,\n",
    "              gaussian_sigma_type=\"Constant\",\n",
    "              radial_basis=\"GTO\",\n",
    "              normalize=True,\n",
    "              cutoff_smooth_width=0.3,\n",
    "              cutoff_function_type=\"RadialScaling\",\n",
    "              optimization=\n",
    "                    dict(\n",
    "                            Spline=dict(\n",
    "                               accuracy=1.0e-05\n",
    "                            )\n",
    "                        ),\n",
    "              cutoff_function_parameters= dict(rate=1.587,\n",
    "                    scale= 2.514,\n",
    "                    exponent=4.564\n",
    "                        ),\n",
    "              compute_gradients=False,\n",
    "              expansion_by_species_method=\"user defined\",\n",
    "              global_species=[1, 6, 7, 8, 16]\n",
    "              )\n",
    "\n",
    "hypers = get_optimal_radial_basis_hypers_parallel(hypers,train_structures,expanded_max_radial=20)\n",
    "Xtrain = get_features_in_parallel(train_structures,SOAP,hypers)\n",
    "Xtest = get_features_in_parallel(test_structures,SOAP,hypers)\n",
    "\n",
    "structure_groups = atom_groups_by_frame(train_structures)"
   ]
  },
  {
   "cell_type": "code",
   "execution_count": 8,
   "id": "be5e22ac-b116-40eb-ad34-786c927e62e8",
   "metadata": {},
   "outputs": [],
   "source": [
    "import numpy as np"
   ]
  },
  {
   "cell_type": "code",
   "execution_count": 9,
   "id": "9c11b2c7-582a-4b46-b553-bf1c140c4999",
   "metadata": {},
   "outputs": [],
   "source": [
    "Xtrain_cop = np.copy(Xtrain)"
   ]
  },
  {
   "cell_type": "markdown",
   "id": "c15debce-4ede-46d2-95f9-bb0241380657",
   "metadata": {},
   "source": [
    "Initializing optimization grid/objective"
   ]
  },
  {
   "cell_type": "code",
   "execution_count": null,
   "id": "8addb96c-d88b-40e2-81c8-67eefc4cadbc",
   "metadata": {},
   "outputs": [],
   "source": [
    "np.allequal(Xtr"
   ]
  },
  {
   "cell_type": "code",
   "execution_count": 16,
   "id": "a250bdb4-e86c-4c48-a2a6-44fbec49b5ee",
   "metadata": {},
   "outputs": [
    {
     "data": {
      "text/plain": [
       "'def on_step(optim_result):\\n    score = opt.best_score_\\n    print(\"best score: %s\" % score)\\n    if score >= 0.98:\\n        print(\\'Interrupting!\\')\\n        return True'"
      ]
     },
     "execution_count": 16,
     "metadata": {},
     "output_type": "execute_result"
    }
   ],
   "source": [
    "pipe = Pipeline([\n",
    "    ('model', KernelRidge( kernel_params={\"n_jobs\":-1}))\n",
    "])\n",
    "\n",
    "general_kernel_space = {\n",
    "    \"model\":[KernelRidge(kernel_params={\"n_jobs\":-1})],\n",
    "    \"model__kernel\": Categorical([\"linear\",\"poly\",\"rbf\"]),\n",
    "    \"model__gamma\": Real(1e-6, 1e+1, prior='log-uniform'),\n",
    "    \"model__degree\": Integer(1,8),\n",
    "    \"model__alpha\": Real(1e-6, 1e+4, prior='log-uniform'),\n",
    "    \"model__coef0\": Integer(0,1)\n",
    "}\n",
    "\n",
    "opt = BayesSearchCV(pipe,general_kernel_space,n_iter=5,cv=GroupKFold(n_splits=3),n_jobs=-1,scoring=\"neg_mean_squared_error\",verbose=2)\n",
    "\n",
    "\"\"\"def on_step(optim_result):\n",
    "    score = opt.best_score_\n",
    "    print(\"best score: %s\" % score)\n",
    "    if score >= 0.98:\n",
    "        print('Interrupting!')\n",
    "        return True\"\"\""
   ]
  },
  {
   "cell_type": "code",
   "execution_count": null,
   "id": "49c564c7-a333-416f-ac3f-5769fa8f1fd1",
   "metadata": {},
   "outputs": [],
   "source": []
  },
  {
   "cell_type": "markdown",
   "id": "7f43f862-bdc4-43fd-a449-4f9b04a07232",
   "metadata": {},
   "source": [
    "Run objective"
   ]
  },
  {
   "cell_type": "code",
   "execution_count": 17,
   "id": "f4e255ae-d340-4991-a04a-0b8635ffa7b3",
   "metadata": {
    "tags": []
   },
   "outputs": [
    {
     "name": "stdout",
     "output_type": "stream",
     "text": [
      "Fitting 3 folds for each of 1 candidates, totalling 3 fits\n",
      "Fitting 3 folds for each of 1 candidates, totalling 3 fits\n",
      "Fitting 3 folds for each of 1 candidates, totalling 3 fits\n",
      "Fitting 3 folds for each of 1 candidates, totalling 3 fits\n",
      "Fitting 3 folds for each of 1 candidates, totalling 3 fits\n"
     ]
    },
    {
     "data": {
      "text/plain": [
       "BayesSearchCV(cv=GroupKFold(n_splits=3),\n",
       "              estimator=Pipeline(steps=[('model',\n",
       "                                         KernelRidge(kernel_params={'n_jobs': -1}))]),\n",
       "              n_iter=5, n_jobs=-1, scoring='neg_mean_squared_error',\n",
       "              search_spaces={'model': [KernelRidge(alpha=1.5885958688587535e-05,\n",
       "                                                   degree=4,\n",
       "                                                   gamma=2.61281144296764,\n",
       "                                                   kernel='poly',\n",
       "                                                   kernel_params={'n_jobs': -1})],\n",
       "                             'model__alpha': Real(low=1e-06, high=100...iform', transform='normalize'),\n",
       "                             'model__coef0': Integer(low=0, high=1, prior='uniform', transform='normalize'),\n",
       "                             'model__degree': Integer(low=1, high=8, prior='uniform', transform='normalize'),\n",
       "                             'model__gamma': Real(low=1e-06, high=10.0, prior='log-uniform', transform='normalize'),\n",
       "                             'model__kernel': Categorical(categories=('linear', 'poly', 'rbf'), prior=None)},\n",
       "              verbose=2)"
      ]
     },
     "execution_count": 17,
     "metadata": {},
     "output_type": "execute_result"
    }
   ],
   "source": [
    "opt.fit(Xtrain, train_properties, groups=structure_groups)"
   ]
  },
  {
   "cell_type": "code",
   "execution_count": null,
   "id": "8a813312-d8d7-4324-8260-ff72fe7314a8",
   "metadata": {},
   "outputs": [],
   "source": [
    "opt."
   ]
  },
  {
   "cell_type": "code",
   "execution_count": 18,
   "id": "65417500-e1ce-4532-bcc7-d6ac00e141ac",
   "metadata": {
    "tags": []
   },
   "outputs": [
    {
     "name": "stdout",
     "output_type": "stream",
     "text": [
      "val. score: -0.7467014128459297\n",
      "test score: -0.5034754595086551\n",
      "best params: OrderedDict([('model', KernelRidge(alpha=1.5885958688587535e-05, degree=4, gamma=2.61281144296764,\n",
      "            kernel='poly', kernel_params={'n_jobs': -1})), ('model__alpha', 1.5885958688587535e-05), ('model__coef0', 1), ('model__degree', 4), ('model__gamma', 2.61281144296764), ('model__kernel', 'poly')])\n"
     ]
    }
   ],
   "source": [
    "print(\"val. score: %s\" % opt.best_score_)\n",
    "print(\"test score: %s\" % opt.score(Xtest, test_properties))\n",
    "print(\"best params: %s\" % str(opt.best_params_))"
   ]
  },
  {
   "cell_type": "code",
   "execution_count": 19,
   "id": "0c13251f-af38-4c17-a9a9-e304398a7d0c",
   "metadata": {},
   "outputs": [
    {
     "data": {
      "text/plain": [
       "<AxesSubplot:title={'center':'Convergence plot'}, xlabel='Number of calls $n$', ylabel='$\\\\min f(x)$ after $n$ calls'>"
      ]
     },
     "execution_count": 19,
     "metadata": {},
     "output_type": "execute_result"
    },
    {
     "data": {
      "image/png": "[encoded data removed]",
      "text/plain": [
       "<Figure size 432x288 with 1 Axes>"
      ]
     },
     "metadata": {
      "needs_background": "light"
     },
     "output_type": "display_data"
    }
   ],
   "source": [
    "from skopt.plots import plot_convergence\n",
    "\n"
   ]
  },
  {
   "cell_type": "code",
   "execution_count": 22,
   "id": "7b9088e8-adcb-4cd8-aaf4-4235a1b24c24",
   "metadata": {},
   "outputs": [
    {
     "data": {
      "text/plain": [
       "skopt.searchcv.BayesSearchCV"
      ]
     },
     "execution_count": 22,
     "metadata": {},
     "output_type": "execute_result"
    }
   ],
   "source": [
    "type(opt.)"
   ]
  },
  {
   "cell_type": "code",
   "execution_count": 20,
   "id": "6bf1fa3a-afc5-452f-81a5-6ada50ea89c9",
   "metadata": {},
   "outputs": [
    {
     "data": {
      "text/plain": [
       "<AxesSubplot:title={'center':'Convergence plot'}, xlabel='Number of calls $n$', ylabel='$\\\\min f(x)$ after $n$ calls'>"
      ]
     },
     "execution_count": 20,
     "metadata": {},
     "output_type": "execute_result"
    },
    {
     "data": {
      "image/png": "[encoded data removed]",
      "text/plain": [
       "<Figure size 432x288 with 1 Axes>"
      ]
     },
     "metadata": {
      "needs_background": "light"
     },
     "output_type": "display_data"
    }
   ],
   "source": [
    "plot_convergence(opt)"
   ]
  },
  {
   "cell_type": "code",
   "execution_count": 21,
   "id": "809bc2ec-28cc-4867-b45f-db6d8aacdc94",
   "metadata": {},
   "outputs": [],
   "source": [
    "from skopt import dump"
   ]
  },
  {
   "cell_type": "code",
   "execution_count": 24,
   "id": "42ab13de-7cdf-433e-9f10-fdc6007c45b7",
   "metadata": {},
   "outputs": [
    {
     "data": {
      "text/plain": [
       "['optimization_result']"
      ]
     },
     "execution_count": 24,
     "metadata": {},
     "output_type": "execute_result"
    }
   ],
   "source": [
    "from joblib import dump, load\n",
    "dump(opt,\"optimization_result\")"
   ]
  },
  {
   "cell_type": "code",
   "execution_count": 23,
   "id": "5355bf0d-23e5-4271-80a2-00bd6787cb87",
   "metadata": {},
   "outputs": [],
   "source": [
    "sys."
   ]
  },
  {
   "cell_type": "code",
   "execution_count": 27,
   "id": "4ee9a896-caf5-4bc5-81a1-b423db965a38",
   "metadata": {},
   "outputs": [],
   "source": [
    "import sys"
   ]
  },
  {
   "cell_type": "code",
   "execution_count": 28,
   "id": "190b63f8-2838-40e7-a6e7-fad115c3c1f2",
   "metadata": {},
   "outputs": [
    {
     "data": {
      "text/plain": [
       "48"
      ]
     },
     "execution_count": 28,
     "metadata": {},
     "output_type": "execute_result"
    }
   ],
   "source": [
    "sys.getsizeof(my_opt)"
   ]
  },
  {
   "cell_type": "code",
   "execution_count": 25,
   "id": "4eccdabd-d250-4e7d-a10d-f66bc4147dc3",
   "metadata": {},
   "outputs": [],
   "source": [
    "my_opt = load(\"optimization_result\")"
   ]
  },
  {
   "cell_type": "code",
   "execution_count": 29,
   "id": "98a1ba61-4bb6-4c41-baa4-74aa961e5531",
   "metadata": {},
   "outputs": [
    {
     "data": {
      "text/plain": [
       "-4.3847108269873197e-07"
      ]
     },
     "execution_count": 29,
     "metadata": {},
     "output_type": "execute_result"
    }
   ],
   "source": [
    "my_opt.score(Xtrain,train_properties)"
   ]
  },
  {
   "cell_type": "code",
   "execution_count": null,
   "id": "ceaac028-036a-41cd-9fc2-406dd6ef3071",
   "metadata": {},
   "outputs": [],
   "source": []
  }
 ],
 "metadata": {
  "kernelspec": {
   "display_name": "Python [conda env:root] *",
   "language": "python",
   "name": "conda-root-py"
  },
  "language_info": {
   "codemirror_mode": {
    "name": "ipython",
    "version": 3
   },
   "file_extension": ".py",
   "mimetype": "text/x-python",
   "name": "python",
   "nbconvert_exporter": "python",
   "pygments_lexer": "ipython3",
   "version": "3.8.10"
  }
 },
 "nbformat": 4,
 "nbformat_minor": 5
}
