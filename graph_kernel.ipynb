{
 "cells": [
  {
   "cell_type": "code",
   "execution_count": 4,
   "id": "30e53838-bfae-42f7-9df3-e7c8eab140b2",
   "metadata": {},
   "outputs": [],
   "source": [
    "from sklearn.metrics.pairwise import polynomial_kernel"
   ]
  },
  {
   "cell_type": "code",
   "execution_count": 1,
   "id": "f6c2e15b-c2b3-4318-a36e-da5f2e557276",
   "metadata": {},
   "outputs": [],
   "source": [
    "from feature_utils.parallel import BufferedSOAPFeatures, get_features_in_parallel, get_optimal_radial_basis_hypers_parallel\n",
    "from loader.loader import load_data\n",
    "from copy import deepcopy\n",
    "import numpy as np\n",
    "from sklearn.linear_model import RidgeCV\n",
    "from rascal.representations import SphericalInvariants as SOAP\n",
    "from rascal.utils import get_optimal_radial_basis_hypers\n",
    "from rascal.neighbourlist.structure_manager import mask_center_atoms_by_id\n",
    "from skcosmo.model_selection import atom_groups_by_frame\n",
    "from sklearn.linear_model import LinearRegression, Ridge\n",
    "from copy import deepcopy\n",
    "from skopt.space import Real, Integer\n",
    "from skopt.utils import use_named_args\n",
    "from skopt import gp_minimize\n",
    "from sklearn.model_selection import GroupKFold\n",
    "from sklearn.metrics import mean_squared_error\n",
    "from sklearn.model_selection import cross_val_score\n",
    "import time\n",
    "from sklearn.compose import TransformedTargetRegressor\n",
    "from skcosmo.preprocessing import StandardFlexibleScaler\n",
    "#from sklearnex import patch_sklearn\n",
    "#patch_sklearn()\n",
    "\n",
    "from sklearn.svm import LinearSVR\n",
    "from sklearn.base import clone\n",
    "from sklearn.kernel_ridge import KernelRidge\n",
    "from sklearn.gaussian_process.kernels import PairwiseKernel"
   ]
  },
  {
   "cell_type": "code",
   "execution_count": 2,
   "id": "932ceffa-e447-4cab-806b-ed385e56fc07",
   "metadata": {},
   "outputs": [],
   "source": [
    "from skcosmo.preprocessing import StandardFlexibleScaler"
   ]
  },
  {
   "cell_type": "code",
   "execution_count": 37,
   "id": "7d57568e-0d8b-4a7c-80fc-5c95b58bc84f",
   "metadata": {},
   "outputs": [],
   "source": [
    "train_structures, test_structures, train_properties, test_properties = load_data(\"./make_tensor_data/train_tensor/CSD-3k+S546_shift_tensors.xyz\",\\\n",
    "                                                                                    \"./make_tensor_data/test_tensor/CSD-500+104-7_shift_tensors.xyz\",selected_species=7, random_subsample_train=10)"
   ]
  },
  {
   "cell_type": "code",
   "execution_count": 35,
   "id": "9f8c1a23-488e-4f94-a162-6978c289a597",
   "metadata": {},
   "outputs": [],
   "source": [
    "from rascal.neighbourlist.structure_manager import AtomsList, get_neighbourlist"
   ]
  },
  {
   "cell_type": "code",
   "execution_count": 38,
   "id": "3cba393f-f451-44b0-be2e-4705fcfd0f55",
   "metadata": {},
   "outputs": [
    {
     "data": {
      "text/plain": [
       "3367"
      ]
     },
     "execution_count": 38,
     "metadata": {},
     "output_type": "execute_result"
    }
   ],
   "source": [
    "len(test_properties)"
   ]
  },
  {
   "cell_type": "code",
   "execution_count": 25,
   "id": "5d7eae86-dbfa-4a6b-932c-7d72bc87371c",
   "metadata": {},
   "outputs": [
    {
     "ename": "TypeError",
     "evalue": "get_neighbourlist() missing 1 required positional argument: 'options'",
     "output_type": "error",
     "traceback": [
      "\u001b[0;31m---------------------------------------------------------------------------\u001b[0m",
      "\u001b[0;31mTypeError\u001b[0m                                 Traceback (most recent call last)",
      "\u001b[0;32m/tmp/ipykernel_27055/13580462.py\u001b[0m in \u001b[0;36m<module>\u001b[0;34m\u001b[0m\n\u001b[0;32m----> 1\u001b[0;31m \u001b[0mget_neighbourlist\u001b[0m\u001b[0;34m(\u001b[0m\u001b[0mtrain_structures\u001b[0m\u001b[0;34m)\u001b[0m\u001b[0;34m\u001b[0m\u001b[0;34m\u001b[0m\u001b[0m\n\u001b[0m",
      "\u001b[0;31mTypeError\u001b[0m: get_neighbourlist() missing 1 required positional argument: 'options'"
     ]
    }
   ],
   "source": [
    "get_neighbourlist(train_structures,)"
   ]
  },
  {
   "cell_type": "code",
   "execution_count": 11,
   "id": "39108ab1-5c2a-42c9-85a9-231b4f21c692",
   "metadata": {
    "tags": []
   },
   "outputs": [
    {
     "ename": "TypeError",
     "evalue": "string indices must be integers",
     "output_type": "error",
     "traceback": [
      "\u001b[0;31m---------------------------------------------------------------------------\u001b[0m",
      "\u001b[0;31mTypeError\u001b[0m                                 Traceback (most recent call last)",
      "\u001b[0;32m/tmp/ipykernel_27055/1364187431.py\u001b[0m in \u001b[0;36m<module>\u001b[0;34m\u001b[0m\n\u001b[0;32m----> 1\u001b[0;31m \u001b[0mthis\u001b[0m \u001b[0;34m=\u001b[0m \u001b[0mAtomsList\u001b[0m\u001b[0;34m(\u001b[0m\u001b[0mtrain_structures\u001b[0m\u001b[0;34m,\u001b[0m\u001b[0mdict\u001b[0m\u001b[0;34m(\u001b[0m\u001b[0mname\u001b[0m\u001b[0;34m=\u001b[0m\u001b[0;34m\"centers\"\u001b[0m\u001b[0;34m,\u001b[0m \u001b[0margs\u001b[0m\u001b[0;34m=\u001b[0m\u001b[0mdict\u001b[0m\u001b[0;34m(\u001b[0m\u001b[0;34m)\u001b[0m\u001b[0;34m)\u001b[0m\u001b[0;34m)\u001b[0m\u001b[0;34m\u001b[0m\u001b[0;34m\u001b[0m\u001b[0m\n\u001b[0m",
      "\u001b[0;32m/ssd/scratch/kellner/miniconda3/lib/python3.8/site-packages/rascal/neighbourlist/structure_manager.py\u001b[0m in \u001b[0;36m__init__\u001b[0;34m(self, frames, nl_options, start, length, managers)\u001b[0m\n\u001b[1;32m     76\u001b[0m             \u001b[0;31m# if python structure\u001b[0m\u001b[0;34m\u001b[0m\u001b[0;34m\u001b[0m\u001b[0;34m\u001b[0m\u001b[0m\n\u001b[1;32m     77\u001b[0m             \u001b[0mstructures\u001b[0m \u001b[0;34m=\u001b[0m \u001b[0mconvert_to_structure_list\u001b[0m\u001b[0;34m(\u001b[0m\u001b[0mframes\u001b[0m\u001b[0;34m)\u001b[0m\u001b[0;34m\u001b[0m\u001b[0;34m\u001b[0m\u001b[0m\n\u001b[0;32m---> 78\u001b[0;31m             \u001b[0mmanagers\u001b[0m \u001b[0;34m=\u001b[0m \u001b[0mStructureCollectionFactory\u001b[0m\u001b[0;34m(\u001b[0m\u001b[0mnl_options\u001b[0m\u001b[0;34m)\u001b[0m\u001b[0;34m\u001b[0m\u001b[0;34m\u001b[0m\u001b[0m\n\u001b[0m\u001b[1;32m     79\u001b[0m             \u001b[0;32mtry\u001b[0m\u001b[0;34m:\u001b[0m\u001b[0;34m\u001b[0m\u001b[0;34m\u001b[0m\u001b[0m\n\u001b[1;32m     80\u001b[0m                 \u001b[0mmanagers\u001b[0m\u001b[0;34m.\u001b[0m\u001b[0madd_structures\u001b[0m\u001b[0;34m(\u001b[0m\u001b[0mstructures\u001b[0m\u001b[0;34m)\u001b[0m\u001b[0;34m\u001b[0m\u001b[0;34m\u001b[0m\u001b[0m\n",
      "\u001b[0;32m/ssd/scratch/kellner/miniconda3/lib/python3.8/site-packages/rascal/neighbourlist/base.py\u001b[0m in \u001b[0;36mStructureCollectionFactory\u001b[0;34m(nl_options)\u001b[0m\n\u001b[1;32m     78\u001b[0m     \u001b[0mfull_name\u001b[0m \u001b[0;34m=\u001b[0m \u001b[0;34m[\u001b[0m\u001b[0;34m]\u001b[0m\u001b[0;34m\u001b[0m\u001b[0;34m\u001b[0m\u001b[0m\n\u001b[1;32m     79\u001b[0m     \u001b[0;32mfor\u001b[0m \u001b[0mopt\u001b[0m \u001b[0;32min\u001b[0m \u001b[0mnl_options\u001b[0m\u001b[0;34m:\u001b[0m\u001b[0;34m\u001b[0m\u001b[0;34m\u001b[0m\u001b[0m\n\u001b[0;32m---> 80\u001b[0;31m         \u001b[0mfull_name\u001b[0m\u001b[0;34m.\u001b[0m\u001b[0minsert\u001b[0m\u001b[0;34m(\u001b[0m\u001b[0;36m0\u001b[0m\u001b[0;34m,\u001b[0m \u001b[0mopt\u001b[0m\u001b[0;34m[\u001b[0m\u001b[0;34m\"name\"\u001b[0m\u001b[0;34m]\u001b[0m\u001b[0;34m)\u001b[0m\u001b[0;34m\u001b[0m\u001b[0;34m\u001b[0m\u001b[0m\n\u001b[0m\u001b[1;32m     81\u001b[0m         \u001b[0mname\u001b[0m \u001b[0;34m=\u001b[0m \u001b[0;34m\"_\"\u001b[0m\u001b[0;34m.\u001b[0m\u001b[0mjoin\u001b[0m\u001b[0;34m(\u001b[0m\u001b[0mfull_name\u001b[0m\u001b[0;34m)\u001b[0m\u001b[0;34m\u001b[0m\u001b[0;34m\u001b[0m\u001b[0m\n\u001b[1;32m     82\u001b[0m         \u001b[0margs\u001b[0m\u001b[0;34m.\u001b[0m\u001b[0mappend\u001b[0m\u001b[0;34m(\u001b[0m\u001b[0mdict\u001b[0m\u001b[0;34m(\u001b[0m\u001b[0mname\u001b[0m\u001b[0;34m=\u001b[0m\u001b[0mopt\u001b[0m\u001b[0;34m[\u001b[0m\u001b[0;34m\"name\"\u001b[0m\u001b[0;34m]\u001b[0m\u001b[0;34m,\u001b[0m \u001b[0minitialization_arguments\u001b[0m\u001b[0;34m=\u001b[0m\u001b[0mopt\u001b[0m\u001b[0;34m[\u001b[0m\u001b[0;34m\"args\"\u001b[0m\u001b[0;34m]\u001b[0m\u001b[0;34m)\u001b[0m\u001b[0;34m)\u001b[0m\u001b[0;34m\u001b[0m\u001b[0;34m\u001b[0m\u001b[0m\n",
      "\u001b[0;31mTypeError\u001b[0m: string indices must be integers"
     ]
    }
   ],
   "source": [
    "this = AtomsList(train_structures,dict(name=\"centers\", args=dict()))"
   ]
  },
  {
   "cell_type": "code",
   "execution_count": 12,
   "id": "e00e82ff-7327-46b2-9a5b-aa74bb6c7be1",
   "metadata": {},
   "outputs": [],
   "source": [
    "hypers = dict(soap_type=\"PowerSpectrum\",\n",
    "              interaction_cutoff=4.5,\n",
    "              max_radial=8,\n",
    "              max_angular=8,\n",
    "              gaussian_sigma_constant=0.3,\n",
    "              gaussian_sigma_type=\"Constant\",\n",
    "              radial_basis=\"GTO\",\n",
    "              normalize=True,\n",
    "              cutoff_smooth_width=0.3,\n",
    "              cutoff_function_type=\"RadialScaling\",\n",
    "              optimization=\n",
    "                    dict(\n",
    "                            Spline=dict(\n",
    "                               accuracy=1.0e-05\n",
    "                            )\n",
    "                        ),\n",
    "              cutoff_function_parameters= dict(rate=1,\n",
    "                    scale=2.0,\n",
    "                    exponent=3\n",
    "                        ),\n",
    "              compute_gradients=False,\n",
    "              expansion_by_species_method=\"user defined\",\n",
    "              global_species=[1, 6, 7, 8, 16]\n",
    "              )"
   ]
  },
  {
   "cell_type": "code",
   "execution_count": 20,
   "id": "badb421f-be96-429f-b7ba-d59851504205",
   "metadata": {},
   "outputs": [],
   "source": [
    "feat = SOAP(**hypers).transform(train_structures)\n"
   ]
  },
  {
   "cell_type": "code",
   "execution_count": 33,
   "id": "28a55ea3-f742-4189-98c1-a0cc2e4956d9",
   "metadata": {},
   "outputs": [
    {
     "data": {
      "text/plain": [
       "(96462,)"
      ]
     },
     "execution_count": 33,
     "metadata": {},
     "output_type": "execute_result"
    }
   ],
   "source": [
    "feat.get_distances().shape"
   ]
  },
  {
   "cell_type": "code",
   "execution_count": 28,
   "id": "55bcadba-db5a-4ab5-8742-cb5a59e442f7",
   "metadata": {},
   "outputs": [
    {
     "data": {
      "text/plain": [
       "<rascal.lib._rascal.neighbour_list.Adaptor.Strict_CenterContribution_NeighbourList_Centers at 0x7f54d9350f70>"
      ]
     },
     "execution_count": 28,
     "metadata": {},
     "output_type": "execute_result"
    }
   ],
   "source": []
  },
  {
   "cell_type": "code",
   "execution_count": 17,
   "id": "678ffb8b-e888-4267-8ff0-ac823bf4efef",
   "metadata": {},
   "outputs": [
    {
     "ename": "TypeError",
     "evalue": "get_features() missing 1 required positional argument: 'update_params'",
     "output_type": "error",
     "traceback": [
      "\u001b[0;31m---------------------------------------------------------------------------\u001b[0m",
      "\u001b[0;31mTypeError\u001b[0m                                 Traceback (most recent call last)",
      "\u001b[0;32m/tmp/ipykernel_27055/1345915403.py\u001b[0m in \u001b[0;36m<module>\u001b[0;34m\u001b[0m\n\u001b[0;32m----> 1\u001b[0;31m \u001b[0mBufferedSOAPFeatures\u001b[0m\u001b[0;34m.\u001b[0m\u001b[0mget_features\u001b[0m\u001b[0;34m(\u001b[0m\u001b[0mhypers\u001b[0m\u001b[0;34m)\u001b[0m\u001b[0;34m\u001b[0m\u001b[0;34m\u001b[0m\u001b[0m\n\u001b[0m",
      "\u001b[0;31mTypeError\u001b[0m: get_features() missing 1 required positional argument: 'update_params'"
     ]
    }
   ],
   "source": [
    "BufferedSOAPFeatures.get_features(hypers)"
   ]
  },
  {
   "cell_type": "code",
   "execution_count": 12,
   "id": "c61c01ee-ac49-406b-a4bc-9b71e93a6130",
   "metadata": {},
   "outputs": [],
   "source": [
    "hypers = dict(soap_type=\"PowerSpectrum\",\n",
    "              interaction_cutoff=4.5,\n",
    "              max_radial=8,\n",
    "              max_angular=8,\n",
    "              gaussian_sigma_constant=0.3,\n",
    "              gaussian_sigma_type=\"Constant\",\n",
    "              radial_basis=\"GTO\",\n",
    "              normalize=True,\n",
    "              cutoff_smooth_width=0.3,\n",
    "              cutoff_function_type=\"RadialScaling\",\n",
    "              optimization=\n",
    "                    dict(\n",
    "                            Spline=dict(\n",
    "                               accuracy=1.0e-05\n",
    "                            )\n",
    "                        ),\n",
    "              cutoff_function_parameters= dict(rate=1,\n",
    "                    scale=2.0,\n",
    "                    exponent=3\n",
    "                        ),\n",
    "              compute_gradients=False,\n",
    "              expansion_by_species_method=\"user defined\",\n",
    "              global_species=[1, 6, 7, 8, 16]\n",
    "              )\n",
    "\n",
    "hypers = get_optimal_radial_basis_hypers_parallel(hypers,train_structures)\n",
    "\n",
    "nested_param = dict(rate=1,\n",
    "                    scale=3.0,\n",
    "                    exponent=6\n",
    "                        )\n",
    "\n",
    "kernel_params = dict()\n",
    "\n",
    "\"\"\"space = [Real(10**-5, 10**2, \"log-uniform\", name='alpha'),\n",
    "        Real(0.05,1.5, \"uniform\", name=\"gaussian_sigma_constant\"),\n",
    "        Real(2.,4.5, \"uniform\", name=\"interaction_cutoff\")]\"\"\"\n",
    "\n",
    "space = [Real(10**-6, 10**1, \"log-uniform\", name='alpha'),\n",
    "        #Real(1.,3.5, \"uniform\", name=\"scale\"),\n",
    "        Real(3.5,8.0, \"uniform\", name=\"interaction_cutoff\"),\n",
    "        Real(0.01,0.5, \"uniform\", name=\"gaussian_sigma_constant\"),\n",
    "        #Real(1.,5., \"uniform\", name=\"exponent\"),\n",
    "        #Real(0.5,3., \"uniform\", name=\"rate\")\n",
    "        ]\n",
    "\n",
    "reg = Ridge()\n",
    "#TransformedTargetRegressor(regressor=LinearSVR(loss=\"squared_epsilon_insensitive\"), transformer=StandardFlexibleScaler(),check_inverse=False)\n",
    "y = train_properties\n",
    "atom_groups = atom_groups_by_frame(train_structures)\n",
    "Feature_gen = BufferedSOAPFeatures(train_structures, hypers,optimize=False,n_cores=-1)\n",
    "\n",
    "\n",
    "\n",
    "\n",
    "@use_named_args(space)\n",
    "def soap_objective(**params):\n",
    "    update_dict = {}\n",
    "    \n",
    "    new_params = params.copy()\n",
    "    #nested_dict_param = deepcopy(Feature_gen.calculator_params)\n",
    "    #nested_dict_param = nested_dict_param[\"cutoff_function_parameters\"]\n",
    "    \n",
    "    for key, value in new_params.items():\n",
    "        if key in Feature_gen.calculator_params:\n",
    "            #hypers[key] = value\n",
    "            update_dict[key] = params.pop(key, None)\n",
    "        \"\"\"if key in nested_param:\n",
    "            nested_dict_param[key] = params.pop(key, None)\n",
    "            #print(\"I update my {} to {}\".format(key,value))\n",
    "        \n",
    "        update_dict[\"cutoff_function_parameters\"] = nested_dict_param\"\"\"\n",
    "            \n",
    "            \n",
    "    #print(update_dict)\n",
    "    start_time = time.time()\n",
    "    \n",
    "    \n",
    "    \n",
    "    X = Feature_gen.get_features(update_dict)\n",
    "    print(\"--- feature_gen time %s seconds ---\" % (time.time() - start_time))\n",
    "    #print(X.shape)\n",
    "    \n",
    "    start_time = time.time()\n",
    "    Kernel = polynomial_kernel(X)\n",
    "    #print(Feature_gen.hypers[\"max_angular\"])\n",
    "    start_time = time.time()\n",
    "    splits = list(GroupKFold(n_splits=3).split(Kernel,y,groups=atom_groups))\n",
    "    \n",
    "    score = [] \n",
    "    \n",
    "    reg.set_params({\"alpha\":params.pop(\"alpha\",None)})\n",
    "    \n",
    "    \n",
    "    \n",
    "    Kernel = \n",
    "    \n",
    "    \n",
    "    for trainsplit, testsplit in GroupKFold(n_splits=5).split(X,y,groups=atom_groups):\n",
    "        X_train = X[trainsplit]\n",
    "        X_test = X[testsplit]\n",
    "\n",
    "        \n",
    "        y_train = y[trainsplit].reshape(-1, 1)\n",
    "        #print(y_train)\n",
    "        y_test = y[testsplit].reshape(-1, 1)\n",
    "\n",
    "        scaler_X = StandardFlexibleScaler().fit(X_train)\n",
    "        X_train = scaler_X.transform(X_train,copy=True)\n",
    "        X_test = scaler_X.transform(X_test,copy=True)\n",
    "\n",
    "        scaler_y = StandardFlexibleScaler().fit(y_train)\n",
    "        y_train = scaler_y.transform(y_train,copy=True)\n",
    "        y_test = scaler_y.transform(y_test,copy=True)\n",
    "\n",
    "        reg.fit(X_train,y_train)\n",
    "\n",
    "        y_test_pred = reg.predict(X_test)\n",
    "\n",
    "        score.append(mean_squared_error(scaler_y.inverse_transform(y_test), scaler_y.inverse_transform(y_test_pred)))\n",
    "        \n",
    "    #print(reg.alpha)\n",
    "    \n",
    "    #score = -np.mean(cross_val_score(reg, X, y, cv=splits, n_jobs=1,\n",
    "    #                                scoring=\"neg_mean_squared_error\"))\n",
    "    \n",
    "    print(\"--- cross_val time %s seconds ---\" % (time.time() - start_time))\n",
    "    #print(score)    \n",
    "    return -np.mean(score)"
   ]
  },
  {
   "cell_type": "code",
   "execution_count": null,
   "id": "04868742-6c86-443a-9370-9f555524f773",
   "metadata": {},
   "outputs": [],
   "source": []
  }
 ],
 "metadata": {
  "kernelspec": {
   "display_name": "Python [conda env:root] *",
   "language": "python",
   "name": "conda-root-py"
  },
  "language_info": {
   "codemirror_mode": {
    "name": "ipython",
    "version": 3
   },
   "file_extension": ".py",
   "mimetype": "text/x-python",
   "name": "python",
   "nbconvert_exporter": "python",
   "pygments_lexer": "ipython3",
   "version": "3.8.10"
  }
 },
 "nbformat": 4,
 "nbformat_minor": 5
}
