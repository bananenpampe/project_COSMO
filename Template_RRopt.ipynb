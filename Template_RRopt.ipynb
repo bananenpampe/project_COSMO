{
 "cells": [
  {
   "cell_type": "code",
   "execution_count": 1,
   "id": "f6c2e15b-c2b3-4318-a36e-da5f2e557276",
   "metadata": {},
   "outputs": [],
   "source": [
    "from feature_utils.parallel import BufferedSOAPFeatures, get_features_in_parallel, get_optimal_radial_basis_hypers_parallel\n",
    "from loader.loader import load_data\n",
    "from copy import deepcopy\n",
    "import numpy as np\n",
    "from sklearn.linear_model import RidgeCV\n",
    "from rascal.representations import SphericalInvariants as SOAP\n",
    "from rascal.utils import get_optimal_radial_basis_hypers\n",
    "from rascal.neighbourlist.structure_manager import mask_center_atoms_by_id\n",
    "from skcosmo.model_selection import atom_groups_by_frame\n",
    "from sklearn.linear_model import LinearRegression, Ridge\n",
    "from copy import deepcopy\n",
    "from skopt.space import Real, Integer\n",
    "from skopt.utils import use_named_args\n",
    "from skopt import gp_minimize\n",
    "from sklearn.model_selection import GroupKFold\n",
    "from sklearn.metrics import mean_squared_error\n",
    "from sklearn.model_selection import cross_val_score\n",
    "import time\n",
    "from sklearn.compose import TransformedTargetRegressor\n",
    "from skcosmo.preprocessing import StandardFlexibleScaler\n",
    "#from sklearnex import patch_sklearn\n",
    "#patch_sklearn()\n",
    "\n",
    "from sklearn.svm import LinearSVR\n",
    "\n",
    "from sklearn.kernel_ridge import KernelRidge\n",
    "from sklearn.gaussian_process.kernels import PairwiseKernel"
   ]
  },
  {
   "cell_type": "code",
   "execution_count": 2,
   "id": "932ceffa-e447-4cab-806b-ed385e56fc07",
   "metadata": {},
   "outputs": [],
   "source": [
    "from skcosmo.preprocessing import StandardFlexibleScaler"
   ]
  },
  {
   "cell_type": "code",
   "execution_count": 4,
   "id": "bdd0db4d-daf0-4191-93d3-9a786f345c8f",
   "metadata": {},
   "outputs": [],
   "source": [
    "wrapped_model = TransformedTargetRegressor(regressor=Ridge(), transformer=StandardFlexibleScaler())"
   ]
  },
  {
   "cell_type": "code",
   "execution_count": 5,
   "id": "8c924ea8-5615-44c4-ac1c-436fa704fddc",
   "metadata": {},
   "outputs": [],
   "source": [
    "import sklearn"
   ]
  },
  {
   "cell_type": "code",
   "execution_count": 6,
   "id": "f7218357-5df9-4577-bbdd-8935357c93e3",
   "metadata": {},
   "outputs": [
    {
     "data": {
      "text/plain": [
       "'1.0.2'"
      ]
     },
     "execution_count": 6,
     "metadata": {},
     "output_type": "execute_result"
    }
   ],
   "source": [
    "sklearn.__version__"
   ]
  },
  {
   "cell_type": "code",
   "execution_count": 17,
   "id": "e0fafda5-a6d1-4375-9d56-6e1f588fc08f",
   "metadata": {},
   "outputs": [
    {
     "data": {
      "text/plain": [
       "{'check_inverse': True,\n",
       " 'func': None,\n",
       " 'inverse_func': None,\n",
       " 'regressor__alpha': 1.0,\n",
       " 'regressor__copy_X': True,\n",
       " 'regressor__fit_intercept': True,\n",
       " 'regressor__max_iter': None,\n",
       " 'regressor__normalize': False,\n",
       " 'regressor__random_state': None,\n",
       " 'regressor__solver': 'auto',\n",
       " 'regressor__tol': 0.001,\n",
       " 'regressor': Ridge(alpha=1.0, copy_X=True, fit_intercept=True, max_iter=None,\n",
       "       normalize=False, random_state=None, solver='auto', tol=0.001),\n",
       " 'transformer__atol': 1e-12,\n",
       " 'transformer__column_wise': False,\n",
       " 'transformer__copy': False,\n",
       " 'transformer__rtol': 0,\n",
       " 'transformer__with_mean': True,\n",
       " 'transformer__with_std': True,\n",
       " 'transformer': StandardFlexibleScaler(atol=1e-12, column_wise=False, copy=False, rtol=0,\n",
       "                        with_mean=True, with_std=True)}"
      ]
     },
     "execution_count": 17,
     "metadata": {},
     "output_type": "execute_result"
    }
   ],
   "source": [
    "wrapped_model.get_params()"
   ]
  },
  {
   "cell_type": "code",
   "execution_count": 2,
   "id": "7d57568e-0d8b-4a7c-80fc-5c95b58bc84f",
   "metadata": {},
   "outputs": [],
   "source": [
    "train_structures, test_structures, train_properties, test_properties = load_data(\"./make_tensor_data/train_tensor/CSD-3k+S546_shift_tensors.xyz\",\\\n",
    "                                                                                    \"./make_tensor_data/test_tensor/CSD-500+104-7_shift_tensors.xyz\",selected_species=7, random_subsample_test=200)"
   ]
  },
  {
   "cell_type": "code",
   "execution_count": 10,
   "id": "63a0815d-49e9-4b42-9f3e-09eb6790e55f",
   "metadata": {
    "tags": []
   },
   "outputs": [
    {
     "name": "stdout",
     "output_type": "stream",
     "text": [
      "--- 0.7550456523895264 seconds ---\n"
     ]
    }
   ],
   "source": [
    "hypers = dict(soap_type=\"PowerSpectrum\",\n",
    "              interaction_cutoff=4.5,\n",
    "              max_radial=8,\n",
    "              max_angular=8,\n",
    "              gaussian_sigma_constant=0.3,\n",
    "              gaussian_sigma_type=\"Constant\",\n",
    "              radial_basis=\"GTO\",\n",
    "              normalize=True,\n",
    "              cutoff_smooth_width=0.3,\n",
    "              cutoff_function_type=\"RadialScaling\",\n",
    "              optimization=\n",
    "                    dict(\n",
    "                            Spline=dict(\n",
    "                               accuracy=1.0e-05\n",
    "                            )\n",
    "                        ),\n",
    "              cutoff_function_parameters= dict(rate=1,\n",
    "                    scale=5.0,\n",
    "                    exponent=3.1\n",
    "                        ),\n",
    "              compute_gradients=False,\n",
    "              expansion_by_species_method=\"user defined\",\n",
    "              global_species=[1, 6, 7, 8, 16]\n",
    "              )\n",
    "start_time = time.time()\n",
    "get_features_in_parallel(train_structures,SOAP,hypers,n_cores=8)\n",
    "print(\"--- %s seconds ---\" % (time.time() - start_time))"
   ]
  },
  {
   "cell_type": "code",
   "execution_count": 5,
   "id": "a2461f50-0fd4-4808-8bba-7a7109f0ddfe",
   "metadata": {},
   "outputs": [
    {
     "name": "stdout",
     "output_type": "stream",
     "text": [
      "--- 8.665013313293457 seconds ---\n"
     ]
    }
   ],
   "source": [
    "calc_object = BufferedSOAPFeatures(train_structures,hypers,optimize=False,n_cores=8)\n",
    "start_time = time.time()\n",
    "X = calc_object.get_features({})\n",
    "print(\"--- %s seconds ---\" % (time.time() - start_time))"
   ]
  },
  {
   "cell_type": "code",
   "execution_count": 6,
   "id": "8d335f6e-f80d-4f2f-962b-79596733a47f",
   "metadata": {},
   "outputs": [
    {
     "data": {
      "text/plain": [
       "(134692, 8640)"
      ]
     },
     "execution_count": 6,
     "metadata": {},
     "output_type": "execute_result"
    }
   ],
   "source": [
    "X.shape"
   ]
  },
  {
   "cell_type": "code",
   "execution_count": 7,
   "id": "b9be5ac4-5ed5-44f9-9c2a-90ddaf669b95",
   "metadata": {},
   "outputs": [
    {
     "name": "stdout",
     "output_type": "stream",
     "text": [
      "--- 16.396571397781372 seconds ---\n"
     ]
    }
   ],
   "source": [
    "start_time = time.time()\n",
    "get_optimal_radial_basis_hypers_parallel(hypers,train_structures)\n",
    "print(\"--- %s seconds ---\" % (time.time() - start_time))"
   ]
  },
  {
   "cell_type": "code",
   "execution_count": 3,
   "id": "c61c01ee-ac49-406b-a4bc-9b71e93a6130",
   "metadata": {},
   "outputs": [],
   "source": [
    "hypers = dict(soap_type=\"PowerSpectrum\",\n",
    "              interaction_cutoff=4.5,\n",
    "              max_radial=8,\n",
    "              max_angular=8,\n",
    "              gaussian_sigma_constant=0.3,\n",
    "              gaussian_sigma_type=\"Constant\",\n",
    "              radial_basis=\"GTO\",\n",
    "              normalize=True,\n",
    "              cutoff_smooth_width=0.3,\n",
    "              cutoff_function_type=\"RadialScaling\",\n",
    "              optimization=\n",
    "                    dict(\n",
    "                            Spline=dict(\n",
    "                               accuracy=1.0e-05\n",
    "                            )\n",
    "                        ),\n",
    "              cutoff_function_parameters= dict(rate=1,\n",
    "                    scale=2.0,\n",
    "                    exponent=3\n",
    "                        ),\n",
    "              compute_gradients=False,\n",
    "              expansion_by_species_method=\"user defined\",\n",
    "              global_species=[1, 6, 7, 8, 16]\n",
    "              )\n",
    "\n",
    "nested_param = dict(rate=1,\n",
    "                    scale=3.0,\n",
    "                    exponent=6\n",
    "                        )\n",
    "\n",
    "\"\"\"space = [Real(10**-5, 10**2, \"log-uniform\", name='alpha'),\n",
    "        Real(0.05,1.5, \"uniform\", name=\"gaussian_sigma_constant\"),\n",
    "        Real(2.,4.5, \"uniform\", name=\"interaction_cutoff\")]\"\"\"\n",
    "\n",
    "space = [Real(10**-3, 10**1, \"log-uniform\", name='regressor__C'),\n",
    "        #Real(1.,3.5, \"uniform\", name=\"scale\"),\n",
    "        Real(3.5,8.0, \"uniform\", name=\"interaction_cutoff\"),\n",
    "        Real(0.01,0.5, \"uniform\", name=\"gaussian_sigma_constant\"),\n",
    "        #Real(1.,5., \"uniform\", name=\"exponent\"),\n",
    "        #Real(0.5,3., \"uniform\", name=\"rate\")\n",
    "        ]\n",
    "\n",
    "reg = TransformedTargetRegressor(regressor=LinearSVR(loss=\"squared_epsilon_insensitive\"), transformer=StandardFlexibleScaler(),check_inverse=False)\n",
    "y = train_properties\n",
    "atom_groups = atom_groups_by_frame(train_structures)\n",
    "Feature_gen = BufferedSOAPFeatures(train_structures, hypers,optimize=False,n_cores=-1)\n",
    "\n",
    "\n",
    "\n",
    "\n",
    "@use_named_args(space)\n",
    "def soap_objective(**params):\n",
    "    update_dict = {}\n",
    "    \n",
    "    new_params = params.copy()\n",
    "    #nested_dict_param = deepcopy(Feature_gen.calculator_params)\n",
    "    #nested_dict_param = nested_dict_param[\"cutoff_function_parameters\"]\n",
    "    \n",
    "    for key, value in new_params.items():\n",
    "        if key in Feature_gen.calculator_params:\n",
    "            #hypers[key] = value\n",
    "            update_dict[key] = params.pop(key, None)\n",
    "        \"\"\"if key in nested_param:\n",
    "            nested_dict_param[key] = params.pop(key, None)\n",
    "            #print(\"I update my {} to {}\".format(key,value))\n",
    "        \n",
    "        update_dict[\"cutoff_function_parameters\"] = nested_dict_param\"\"\"\n",
    "            \n",
    "            \n",
    "    #print(update_dict)\n",
    "    start_time = time.time()\n",
    "    reg.set_params(**params)\n",
    "    \n",
    "    \n",
    "    X = Feature_gen.get_features(update_dict)\n",
    "    print(\"--- feature_gen time %s seconds ---\" % (time.time() - start_time))\n",
    "    #print(X.shape)\n",
    "    \n",
    "    #print(Feature_gen.hypers[\"max_angular\"])\n",
    "    start_time = time.time()\n",
    "    splits = list(GroupKFold(n_splits=3).split(X,y,groups=atom_groups))\n",
    "    \n",
    "    start_time = time.time()\n",
    "    score = -np.mean(cross_val_score(reg, X, y, cv=splits, n_jobs=1,\n",
    "                                    scoring=\"neg_mean_squared_error\"))\n",
    "    \n",
    "    print(\"--- cross_val time %s seconds ---\" % (time.time() - start_time))\n",
    "        \n",
    "    return score"
   ]
  },
  {
   "cell_type": "code",
   "execution_count": 24,
   "id": "ea462100-8759-4d56-8073-c2878a4d8bc2",
   "metadata": {
    "tags": []
   },
   "outputs": [
    {
     "data": {
      "text/plain": [
       "{'check_inverse': False,\n",
       " 'func': None,\n",
       " 'inverse_func': None,\n",
       " 'regressor__C': 1.0,\n",
       " 'regressor__dual': True,\n",
       " 'regressor__epsilon': 0.0,\n",
       " 'regressor__fit_intercept': True,\n",
       " 'regressor__intercept_scaling': 1.0,\n",
       " 'regressor__loss': 'epsilon_insensitive',\n",
       " 'regressor__max_iter': 1000,\n",
       " 'regressor__random_state': None,\n",
       " 'regressor__tol': 0.0001,\n",
       " 'regressor__verbose': 0,\n",
       " 'regressor': LinearSVR(),\n",
       " 'transformer__atol': 1e-12,\n",
       " 'transformer__column_wise': False,\n",
       " 'transformer__copy': False,\n",
       " 'transformer__rtol': 0,\n",
       " 'transformer__with_mean': True,\n",
       " 'transformer__with_std': True,\n",
       " 'transformer': StandardFlexibleScaler()}"
      ]
     },
     "execution_count": 24,
     "metadata": {},
     "output_type": "execute_result"
    }
   ],
   "source": [
    "reg.get_params()"
   ]
  },
  {
   "cell_type": "code",
   "execution_count": 14,
   "id": "2b50110b-cf3f-4ce0-ac14-5dfeb1d05e40",
   "metadata": {
    "jupyter": {
     "source_hidden": true
    },
    "tags": []
   },
   "outputs": [],
   "source": [
    "class MyFlex(StandardFlexibleScaler):\n",
    "    def _validate_data(\n",
    "        self,\n",
    "        X=\"no_validation\",\n",
    "        y=\"no_validation\",\n",
    "        reset=True,\n",
    "        validate_separately=False,\n",
    "        **check_params,\n",
    "    ):\n",
    "        \"\"\"Validate input data and set or check the `n_features_in_` attribute.\n",
    "        Parameters\n",
    "        ----------\n",
    "        X : {array-like, sparse matrix, dataframe} of shape \\\n",
    "                (n_samples, n_features), default='no validation'\n",
    "            The input samples.\n",
    "            If `'no_validation'`, no validation is performed on `X`. This is\n",
    "            useful for meta-estimator which can delegate input validation to\n",
    "            their underlying estimator(s). In that case `y` must be passed and\n",
    "            the only accepted `check_params` are `multi_output` and\n",
    "            `y_numeric`.\n",
    "        y : array-like of shape (n_samples,), default='no_validation'\n",
    "            The targets.\n",
    "            - If `None`, `check_array` is called on `X`. If the estimator's\n",
    "              requires_y tag is True, then an error will be raised.\n",
    "            - If `'no_validation'`, `check_array` is called on `X` and the\n",
    "              estimator's requires_y tag is ignored. This is a default\n",
    "              placeholder and is never meant to be explicitly set. In that case\n",
    "              `X` must be passed.\n",
    "            - Otherwise, only `y` with `_check_y` or both `X` and `y` are\n",
    "              checked with either `check_array` or `check_X_y` depending on\n",
    "              `validate_separately`.\n",
    "        reset : bool, default=True\n",
    "            Whether to reset the `n_features_in_` attribute.\n",
    "            If False, the input will be checked for consistency with data\n",
    "            provided when reset was last True.\n",
    "            .. note::\n",
    "               It is recommended to call reset=True in `fit` and in the first\n",
    "               call to `partial_fit`. All other methods that validate `X`\n",
    "               should set `reset=False`.\n",
    "        validate_separately : False or tuple of dicts, default=False\n",
    "            Only used if y is not None.\n",
    "            If False, call validate_X_y(). Else, it must be a tuple of kwargs\n",
    "            to be used for calling check_array() on X and y respectively.\n",
    "        **check_params : kwargs\n",
    "            Parameters passed to :func:`sklearn.utils.check_array` or\n",
    "            :func:`sklearn.utils.check_X_y`. Ignored if validate_separately\n",
    "            is not False.\n",
    "        Returns\n",
    "        -------\n",
    "        out : {ndarray, sparse matrix} or tuple of these\n",
    "            The validated input. A tuple is returned if both `X` and `y` are\n",
    "            validated.\n",
    "        \"\"\"\n",
    "        self._check_feature_names(X, reset=reset)\n",
    "\n",
    "        if y is None and self._get_tags()[\"requires_y\"]:\n",
    "            raise ValueError(\n",
    "                f\"This {self.__class__.__name__} estimator \"\n",
    "                \"requires y to be passed, but the target y is None.\"\n",
    "            )\n",
    "\n",
    "        no_val_X = isinstance(X, str) and X == \"no_validation\"\n",
    "        no_val_y = y is None or isinstance(y, str) and y == \"no_validation\"\n",
    "\n",
    "        if no_val_X and no_val_y:\n",
    "            raise ValueError(\"Validation should be done on X, y or both.\")\n",
    "        elif not no_val_X and no_val_y:\n",
    "            X = check_array(X, **check_params)\n",
    "            out = X\n",
    "        elif no_val_X and not no_val_y:\n",
    "            y = _check_y(y, **check_params)\n",
    "            out = y\n",
    "        else:\n",
    "            if validate_separately:\n",
    "                # We need this because some estimators validate X and y\n",
    "                # separately, and in general, separately calling check_array()\n",
    "                # on X and y isn't equivalent to just calling check_X_y()\n",
    "                # :(\n",
    "                check_X_params, check_y_params = validate_separately\n",
    "                X = check_array(X, **check_X_params)\n",
    "                y = check_array(y, **check_y_params)\n",
    "            else:\n",
    "                X, y = check_X_y(X, y, **check_params)\n",
    "            out = X, y\n",
    "\n",
    "        if not no_val_X and check_params.get(\"ensure_2d\", True):\n",
    "            self._check_n_features(X, reset=reset)\n",
    "\n",
    "        return out"
   ]
  },
  {
   "cell_type": "code",
   "execution_count": 4,
   "id": "e2801792-9025-4e06-a91c-94daf3eacb34",
   "metadata": {
    "tags": []
   },
   "outputs": [
    {
     "name": "stdout",
     "output_type": "stream",
     "text": [
      "--- feature_gen time 5.957897901535034 seconds ---\n",
      "--- cross_val time 26.52699875831604 seconds ---\n",
      "--- feature_gen time 4.739871025085449 seconds ---\n",
      "--- cross_val time 105.88008952140808 seconds ---\n",
      "--- feature_gen time 3.4844846725463867 seconds ---\n",
      "--- cross_val time 15.451254844665527 seconds ---\n",
      "--- feature_gen time 5.721749305725098 seconds ---\n",
      "--- cross_val time 19.410589456558228 seconds ---\n",
      "--- feature_gen time 5.756065607070923 seconds ---\n",
      "--- cross_val time 17.039902925491333 seconds ---\n",
      "--- feature_gen time 4.013485431671143 seconds ---\n",
      "--- cross_val time 32.404414892196655 seconds ---\n",
      "--- feature_gen time 6.085181713104248 seconds ---\n",
      "--- cross_val time 15.952741384506226 seconds ---\n",
      "--- feature_gen time 4.390804767608643 seconds ---\n",
      "--- cross_val time 76.05135440826416 seconds ---\n",
      "--- feature_gen time 4.580217599868774 seconds ---\n",
      "--- cross_val time 46.89388561248779 seconds ---\n",
      "--- feature_gen time 3.6919443607330322 seconds ---\n",
      "--- cross_val time 56.11977291107178 seconds ---\n",
      "--- 10 steps took 460.3856782913208 seconds ---\n"
     ]
    }
   ],
   "source": [
    "## patch_sklearn()\n",
    "import time\n",
    "start_time = time.time()\n",
    "res_gp = gp_minimize(soap_objective, space, n_calls=10, random_state=0, n_jobs=1)\n",
    "print(\"--- 10 steps took %s seconds ---\" % (time.time() - start_time))"
   ]
  },
  {
   "cell_type": "code",
   "execution_count": null,
   "id": "e27abf02-d644-4989-9692-86af0db60853",
   "metadata": {},
   "outputs": [],
   "source": []
  },
  {
   "cell_type": "code",
   "execution_count": null,
   "id": "35264c1e-66c6-4739-bc35-b071707e2bed",
   "metadata": {},
   "outputs": [],
   "source": [
    "--- feature_gen time 1.4659466743469238 seconds ---\n",
    "--- cross_val time 3.2741000652313232 seconds ---\n",
    "--- feature_gen time 1.0049035549163818 seconds ---\n",
    "--- cross_val time 1.3749923706054688 seconds ---\n",
    "--- feature_gen time 0.6205904483795166 seconds ---\n",
    "--- cross_val time 4.839658498764038 seconds ---\n",
    "--- feature_gen time 1.286834955215454 seconds ---\n",
    "--- cross_val time 4.872981071472168 seconds ---\n",
    "--- feature_gen time 1.240980863571167 seconds ---\n",
    "--- cross_val time 4.9696455001831055 seconds ---\n",
    "--- feature_gen time 0.7608432769775391 seconds ---\n",
    "--- cross_val time 2.616834878921509 seconds ---\n",
    "--- feature_gen time 1.2775135040283203 seconds ---\n",
    "--- cross_val time 4.769025802612305 seconds ---\n",
    "--- feature_gen time 0.8656597137451172 seconds ---\n",
    "--- cross_val time 1.5502421855926514 seconds ---\n",
    "--- feature_gen time 0.9591543674468994 seconds ---\n",
    "--- cross_val time 1.8793525695800781 seconds ---\n",
    "--- feature_gen time 0.6200380325317383 seconds ---\n",
    "--- cross_val time 1.605391025543213 seconds ---\n",
    "--- 10 steps took 42.09602952003479 seconds ---\n",
    "\n"
   ]
  },
  {
   "cell_type": "code",
   "execution_count": 20,
   "id": "879002e5-5d8b-4b54-a6e3-5c03f484f07f",
   "metadata": {},
   "outputs": [
    {
     "name": "stdout",
     "output_type": "stream",
     "text": [
      "\n",
      "PackageNotInstalledError: Package is not installed in prefix.\n",
      "  prefix: /ssd/scratch/kellner/miniconda3\n",
      "  package name: scikit-learn\n",
      "\n",
      "\n"
     ]
    }
   ],
   "source": [
    "!conda update scikit-learn"
   ]
  },
  {
   "cell_type": "code",
   "execution_count": null,
   "id": "301ebd53-a923-4c98-9f5a-d1689b4e7174",
   "metadata": {},
   "outputs": [],
   "source": []
  },
  {
   "cell_type": "markdown",
   "id": "30b1f472-fb93-4ee9-a3f5-ddb32ca57d29",
   "metadata": {
    "tags": []
   },
   "source": [
    "#time fit n_-1, n_cores=1 = 400 seconds\n",
    "#time fit n_-1, n_cores=8 = 342 seconds\n",
    "#time fit n_-1, n_cores=8, njobs=-1 =338 seconds\n",
    "\n",
    "--- feature_gen time 55.961002826690674 seconds ---\n",
    "--- cross_val time 272.33899450302124 seconds ---\n",
    "--- feature_gen time 39.429200172424316 seconds ---\n",
    "--- cross_val time 271.1294071674347 seconds ---\n",
    "--- feature_gen time 54.26414370536804 seconds ---\n",
    "--- cross_val time 272.70380902290344 seconds ---\n",
    "--- feature_gen time 40.761064291000366 seconds ---\n",
    "--- cross_val time 269.0713834762573 seconds ---\n",
    "--- feature_gen time 37.434038400650024 seconds ---\n",
    "--- cross_val time 272.76407980918884 seconds ---\n",
    "--- feature_gen time 43.45965504646301 seconds ---\n"
   ]
  },
  {
   "cell_type": "code",
   "execution_count": 11,
   "id": "2467d332-1e33-4895-8ed7-44129078bf37",
   "metadata": {},
   "outputs": [
    {
     "data": {
      "text/plain": [
       "[[0.5530405118212187,\n",
       "  3.1885314971620353,\n",
       "  7.360755279302406,\n",
       "  0.42515335200422155],\n",
       " [0.9738892550769331,\n",
       "  2.2687634145853997,\n",
       "  4.838905729450126,\n",
       "  0.037789358885547165],\n",
       " [0.0015179251497629848,\n",
       "  2.4553302346427,\n",
       "  7.154759279489721,\n",
       "  0.24518881446377816],\n",
       " [0.013876449797222516,\n",
       "  3.1721575270747557,\n",
       "  5.018282721877708,\n",
       "  0.3276042173050867],\n",
       " [0.008829422902952801,\n",
       "  3.414310317906093,\n",
       "  4.131578511856903,\n",
       "  0.43634275659563393],\n",
       " [0.06149847721451149,\n",
       "  3.1018215039592887,\n",
       "  5.842148657980422,\n",
       "  0.3426509697582906],\n",
       " [5.821853031748781,\n",
       "  2.6640395841502142,\n",
       "  5.918179532520549,\n",
       "  0.38172165591795515],\n",
       " [7.034947447310314e-05,\n",
       "  2.4472008386933153,\n",
       "  4.33849554497042,\n",
       "  0.37108990679318954],\n",
       " [0.0005400112846473881,\n",
       "  1.7704363468109041,\n",
       "  4.958634535069463,\n",
       "  0.08334068492000477],\n",
       " [0.0006005803324615732,\n",
       "  2.272977962251724,\n",
       "  7.561693139882322,\n",
       "  0.23047549505650158]]"
      ]
     },
     "execution_count": 11,
     "metadata": {},
     "output_type": "execute_result"
    }
   ],
   "source": [
    "res_gp.x_iters"
   ]
  },
  {
   "cell_type": "code",
   "execution_count": 6,
   "id": "b5480f1f-895d-4bd1-b37b-bbe75d2d3969",
   "metadata": {
    "tags": []
   },
   "outputs": [
    {
     "data": {
      "text/plain": [
       "<AxesSubplot:title={'center':'Convergence plot'}, xlabel='Number of calls $n$', ylabel='$\\\\min f(x)$ after $n$ calls'>"
      ]
     },
     "execution_count": 6,
     "metadata": {},
     "output_type": "execute_result"
    },
    {
     "data": {
      "image/png": "[encoded data removed]",
      "text/plain": [
       "<Figure size 432x288 with 1 Axes>"
      ]
     },
     "metadata": {
      "needs_background": "light"
     },
     "output_type": "display_data"
    }
   ],
   "source": [
    "from skopt.plots import plot_convergence\n",
    "\n",
    "plot_convergence(res_gp)"
   ]
  },
  {
   "cell_type": "code",
   "execution_count": 8,
   "id": "f3bf689a-4eb0-4bc2-9a88-a816ecc24ac1",
   "metadata": {},
   "outputs": [],
   "source": [
    "from skopt import dump, load"
   ]
  },
  {
   "cell_type": "code",
   "execution_count": 7,
   "id": "a0a80937-cbad-45fd-aa59-0c47bcae3b28",
   "metadata": {},
   "outputs": [],
   "source": [
    "dump(res_gp, \"1H_opt_RR\")"
   ]
  },
  {
   "cell_type": "code",
   "execution_count": 9,
   "id": "5d48b812-82e2-46f7-841f-88d37c7e781c",
   "metadata": {},
   "outputs": [],
   "source": [
    "my_res = load(\"1H_opt_RR\")"
   ]
  },
  {
   "cell_type": "code",
   "execution_count": 10,
   "id": "88768de3-2e8e-4f9a-be54-f27a9c9911bd",
   "metadata": {},
   "outputs": [
    {
     "data": {
      "text/plain": [
       "[0.0015179251497629848,\n",
       " 2.4553302346427,\n",
       " 7.154759279489721,\n",
       " 0.24518881446377816]"
      ]
     },
     "execution_count": 10,
     "metadata": {},
     "output_type": "execute_result"
    }
   ],
   "source": [
    "my_res.x"
   ]
  },
  {
   "cell_type": "code",
   "execution_count": 18,
   "id": "4fe63879-dbb5-45ac-a05e-8a0bba9f4765",
   "metadata": {},
   "outputs": [
    {
     "data": {
      "text/plain": [
       "<AxesSubplot:title={'center':'Convergence plot'}, xlabel='Number of calls $n$', ylabel='$\\\\min f(x)$ after $n$ calls'>"
      ]
     },
     "execution_count": 18,
     "metadata": {},
     "output_type": "execute_result"
    },
    {
     "data": {
      "image/png": "[encoded data removed]",
      "text/plain": [
       "<Figure size 432x288 with 1 Axes>"
      ]
     },
     "metadata": {
      "needs_background": "light"
     },
     "output_type": "display_data"
    }
   ],
   "source": [
    "plot_convergence(my_res)"
   ]
  },
  {
   "cell_type": "code",
   "execution_count": null,
   "id": "34d2f0a6-7015-4c4a-a897-8436ea9dfebf",
   "metadata": {},
   "outputs": [],
   "source": []
  }
 ],
 "metadata": {
  "kernelspec": {
   "display_name": "Python [conda env:root] *",
   "language": "python",
   "name": "conda-root-py"
  },
  "language_info": {
   "codemirror_mode": {
    "name": "ipython",
    "version": 3
   },
   "file_extension": ".py",
   "mimetype": "text/x-python",
   "name": "python",
   "nbconvert_exporter": "python",
   "pygments_lexer": "ipython3",
   "version": "3.8.10"
  }
 },
 "nbformat": 4,
 "nbformat_minor": 5
}
