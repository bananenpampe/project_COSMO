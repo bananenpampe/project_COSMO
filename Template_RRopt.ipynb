{
 "cells": [
  {
   "cell_type": "code",
   "execution_count": 1,
   "id": "f6c2e15b-c2b3-4318-a36e-da5f2e557276",
   "metadata": {},
   "outputs": [],
   "source": [
    "from feature_utils.parallel import BufferedSOAPFeatures, get_features_in_parallel, get_optimal_radial_basis_hypers_parallel\n",
    "from loader.loader import load_data\n",
    "from copy import deepcopy\n",
    "import numpy as np\n",
    "from sklearn.linear_model import RidgeCV\n",
    "from rascal.representations import SphericalInvariants as SOAP\n",
    "from rascal.utils import get_optimal_radial_basis_hypers\n",
    "from rascal.neighbourlist.structure_manager import mask_center_atoms_by_id\n",
    "from skcosmo.model_selection import atom_groups_by_frame\n",
    "from sklearn.linear_model import LinearRegression, Ridge\n",
    "from copy import deepcopy\n",
    "from skopt.space import Real, Integer\n",
    "from skopt.utils import use_named_args\n",
    "from skopt import gp_minimize\n",
    "from sklearn.model_selection import GroupKFold\n",
    "from sklearn.metrics import mean_squared_error\n",
    "from sklearn.model_selection import cross_val_score\n",
    "import time\n",
    "from sklearn.compose import TransformedTargetRegressor\n",
    "from skcosmo.preprocessing import StandardFlexibleScaler\n",
    "#from sklearnex import patch_sklearn\n",
    "#patch_sklearn()\n",
    "\n",
    "from sklearn.svm import LinearSVR\n",
    "from sklearn.base import clone\n",
    "from sklearn.kernel_ridge import KernelRidge\n",
    "from sklearn.gaussian_process.kernels import PairwiseKernel"
   ]
  },
  {
   "cell_type": "code",
   "execution_count": 2,
   "id": "932ceffa-e447-4cab-806b-ed385e56fc07",
   "metadata": {},
   "outputs": [],
   "source": [
    "from skcosmo.preprocessing import StandardFlexibleScaler"
   ]
  },
  {
   "cell_type": "code",
   "execution_count": 3,
   "id": "7d57568e-0d8b-4a7c-80fc-5c95b58bc84f",
   "metadata": {},
   "outputs": [],
   "source": [
    "train_structures, test_structures, train_properties, test_properties = load_data(\"./make_tensor_data/train_tensor/CSD-3k+S546_shift_tensors.xyz\",\\\n",
    "                                                                                    \"./make_tensor_data/test_tensor/CSD-500+104-7_shift_tensors.xyz\",selected_species=7, random_subsample_train=200,random_subsample_test=200)"
   ]
  },
  {
   "cell_type": "code",
   "execution_count": 4,
   "id": "30e53838-bfae-42f7-9df3-e7c8eab140b2",
   "metadata": {},
   "outputs": [],
   "source": [
    "from sklearn.metrics.pairwise import polynomial_kernel"
   ]
  },
  {
   "cell_type": "code",
   "execution_count": 12,
   "id": "c61c01ee-ac49-406b-a4bc-9b71e93a6130",
   "metadata": {},
   "outputs": [],
   "source": [
    "hypers = dict(soap_type=\"PowerSpectrum\",\n",
    "              interaction_cutoff=4.5,\n",
    "              max_radial=8,\n",
    "              max_angular=8,\n",
    "              gaussian_sigma_constant=0.3,\n",
    "              gaussian_sigma_type=\"Constant\",\n",
    "              radial_basis=\"GTO\",\n",
    "              normalize=True,\n",
    "              cutoff_smooth_width=0.3,\n",
    "              cutoff_function_type=\"RadialScaling\",\n",
    "              optimization=\n",
    "                    dict(\n",
    "                            Spline=dict(\n",
    "                               accuracy=1.0e-05\n",
    "                            )\n",
    "                        ),\n",
    "              cutoff_function_parameters= dict(rate=1,\n",
    "                    scale=2.0,\n",
    "                    exponent=3\n",
    "                        ),\n",
    "              compute_gradients=False,\n",
    "              expansion_by_species_method=\"user defined\",\n",
    "              global_species=[1, 6, 7, 8, 16]\n",
    "              )\n",
    "\n",
    "hypers = get_optimal_radial_basis_hypers_parallel(hypers,train_structures)\n",
    "\n",
    "nested_param = dict(rate=1,\n",
    "                    scale=3.0,\n",
    "                    exponent=6\n",
    "                        )\n",
    "\n",
    "kernel_params = dict()\n",
    "\n",
    "\"\"\"space = [Real(10**-5, 10**2, \"log-uniform\", name='alpha'),\n",
    "        Real(0.05,1.5, \"uniform\", name=\"gaussian_sigma_constant\"),\n",
    "        Real(2.,4.5, \"uniform\", name=\"interaction_cutoff\")]\"\"\"\n",
    "\n",
    "space = [Real(10**-6, 10**1, \"log-uniform\", name='alpha'),\n",
    "        #Real(1.,3.5, \"uniform\", name=\"scale\"),\n",
    "        Real(3.5,8.0, \"uniform\", name=\"interaction_cutoff\"),\n",
    "        Real(0.01,0.5, \"uniform\", name=\"gaussian_sigma_constant\"),\n",
    "        #Real(1.,5., \"uniform\", name=\"exponent\"),\n",
    "        #Real(0.5,3., \"uniform\", name=\"rate\")\n",
    "        ]\n",
    "\n",
    "reg = Ridge()\n",
    "#TransformedTargetRegressor(regressor=LinearSVR(loss=\"squared_epsilon_insensitive\"), transformer=StandardFlexibleScaler(),check_inverse=False)\n",
    "y = train_properties\n",
    "atom_groups = atom_groups_by_frame(train_structures)\n",
    "Feature_gen = BufferedSOAPFeatures(train_structures, hypers,optimize=False,n_cores=-1)\n",
    "\n",
    "\n",
    "\n",
    "\n",
    "@use_named_args(space)\n",
    "def soap_objective(**params):\n",
    "    update_dict = {}\n",
    "    \n",
    "    new_params = params.copy()\n",
    "    #nested_dict_param = deepcopy(Feature_gen.calculator_params)\n",
    "    #nested_dict_param = nested_dict_param[\"cutoff_function_parameters\"]\n",
    "    \n",
    "    for key, value in new_params.items():\n",
    "        if key in Feature_gen.calculator_params:\n",
    "            #hypers[key] = value\n",
    "            update_dict[key] = params.pop(key, None)\n",
    "        \"\"\"if key in nested_param:\n",
    "            nested_dict_param[key] = params.pop(key, None)\n",
    "            #print(\"I update my {} to {}\".format(key,value))\n",
    "        \n",
    "        update_dict[\"cutoff_function_parameters\"] = nested_dict_param\"\"\"\n",
    "            \n",
    "            \n",
    "    #print(update_dict)\n",
    "    start_time = time.time()\n",
    "    \n",
    "    \n",
    "    \n",
    "    X = Feature_gen.get_features(update_dict)\n",
    "    print(\"--- feature_gen time %s seconds ---\" % (time.time() - start_time))\n",
    "    #print(X.shape)\n",
    "    \n",
    "    start_time = time.time()\n",
    "    Kernel = polynomial_kernel(X)\n",
    "    #print(Feature_gen.hypers[\"max_angular\"])\n",
    "    start_time = time.time()\n",
    "    splits = list(GroupKFold(n_splits=3).split(Kernel,y,groups=atom_groups))\n",
    "    \n",
    "    score = [] \n",
    "    \n",
    "    reg.set_params({\"alpha\":params.pop(\"alpha\",None)})\n",
    "    \n",
    "    \n",
    "    \n",
    "    Kernel = \n",
    "    \n",
    "    \n",
    "    for trainsplit, testsplit in GroupKFold(n_splits=5).split(X,y,groups=atom_groups):\n",
    "        X_train = X[trainsplit]\n",
    "        X_test = X[testsplit]\n",
    "\n",
    "        \n",
    "        y_train = y[trainsplit].reshape(-1, 1)\n",
    "        #print(y_train)\n",
    "        y_test = y[testsplit].reshape(-1, 1)\n",
    "\n",
    "        scaler_X = StandardFlexibleScaler().fit(X_train)\n",
    "        X_train = scaler_X.transform(X_train,copy=True)\n",
    "        X_test = scaler_X.transform(X_test,copy=True)\n",
    "\n",
    "        scaler_y = StandardFlexibleScaler().fit(y_train)\n",
    "        y_train = scaler_y.transform(y_train,copy=True)\n",
    "        y_test = scaler_y.transform(y_test,copy=True)\n",
    "\n",
    "        reg.fit(X_train,y_train)\n",
    "\n",
    "        y_test_pred = reg.predict(X_test)\n",
    "\n",
    "        score.append(mean_squared_error(scaler_y.inverse_transform(y_test), scaler_y.inverse_transform(y_test_pred)))\n",
    "        \n",
    "    #print(reg.alpha)\n",
    "    \n",
    "    #score = -np.mean(cross_val_score(reg, X, y, cv=splits, n_jobs=1,\n",
    "    #                                scoring=\"neg_mean_squared_error\"))\n",
    "    \n",
    "    print(\"--- cross_val time %s seconds ---\" % (time.time() - start_time))\n",
    "    #print(score)    \n",
    "    return -np.mean(score)"
   ]
  },
  {
   "cell_type": "code",
   "execution_count": 13,
   "id": "e2801792-9025-4e06-a91c-94daf3eacb34",
   "metadata": {
    "tags": []
   },
   "outputs": [
    {
     "name": "stdout",
     "output_type": "stream",
     "text": [
      "--- feature_gen time 0.895482063293457 seconds ---\n",
      "--- cross_val time 2.0453360080718994 seconds ---\n",
      "--- feature_gen time 0.7276520729064941 seconds ---\n",
      "--- cross_val time 2.035644769668579 seconds ---\n",
      "--- feature_gen time 0.5316658020019531 seconds ---\n",
      "--- cross_val time 2.1040663719177246 seconds ---\n",
      "--- feature_gen time 0.8227658271789551 seconds ---\n",
      "--- cross_val time 2.0389199256896973 seconds ---\n",
      "--- feature_gen time 0.7466583251953125 seconds ---\n",
      "--- cross_val time 2.0485167503356934 seconds ---\n",
      "--- feature_gen time 0.699904203414917 seconds ---\n",
      "--- cross_val time 2.0785837173461914 seconds ---\n",
      "--- feature_gen time 0.8600943088531494 seconds ---\n",
      "--- cross_val time 2.07301926612854 seconds ---\n",
      "--- feature_gen time 0.7131829261779785 seconds ---\n",
      "--- cross_val time 2.158924102783203 seconds ---\n",
      "--- feature_gen time 0.76963210105896 seconds ---\n",
      "--- cross_val time 2.083653211593628 seconds ---\n",
      "--- feature_gen time 0.5935907363891602 seconds ---\n",
      "--- cross_val time 2.0612800121307373 seconds ---\n",
      "--- feature_gen time 0.8084859848022461 seconds ---\n",
      "--- cross_val time 2.0660903453826904 seconds ---\n",
      "--- feature_gen time 5.4836273193359375e-06 seconds ---\n",
      "--- cross_val time 2.0442073345184326 seconds ---\n",
      "--- feature_gen time 5.4836273193359375e-06 seconds ---\n"
     ]
    },
    {
     "name": "stderr",
     "output_type": "stream",
     "text": [
      "/ssd/scratch/kellner/miniconda3/lib/python3.8/site-packages/skopt/optimizer/optimizer.py:449: UserWarning: The objective has been evaluated at this point before.\n",
      "  warnings.warn(\"The objective has been evaluated \"\n"
     ]
    },
    {
     "name": "stdout",
     "output_type": "stream",
     "text": [
      "--- cross_val time 2.0700504779815674 seconds ---\n",
      "--- feature_gen time 5.4836273193359375e-06 seconds ---\n",
      "--- cross_val time 2.074106454849243 seconds ---\n",
      "--- feature_gen time 0.8647043704986572 seconds ---\n",
      "--- cross_val time 2.0458717346191406 seconds ---\n",
      "--- feature_gen time 1.078277587890625 seconds ---\n",
      "--- cross_val time 2.040588617324829 seconds ---\n"
     ]
    },
    {
     "name": "stderr",
     "output_type": "stream",
     "text": [
      "/ssd/scratch/kellner/miniconda3/lib/python3.8/site-packages/skopt/optimizer/optimizer.py:449: UserWarning: The objective has been evaluated at this point before.\n",
      "  warnings.warn(\"The objective has been evaluated \"\n"
     ]
    },
    {
     "name": "stdout",
     "output_type": "stream",
     "text": [
      "--- feature_gen time 0.8302633762359619 seconds ---\n",
      "--- cross_val time 2.060558795928955 seconds ---\n",
      "--- feature_gen time 6.198883056640625e-06 seconds ---\n"
     ]
    },
    {
     "name": "stderr",
     "output_type": "stream",
     "text": [
      "/ssd/scratch/kellner/miniconda3/lib/python3.8/site-packages/skopt/optimizer/optimizer.py:449: UserWarning: The objective has been evaluated at this point before.\n",
      "  warnings.warn(\"The objective has been evaluated \"\n"
     ]
    },
    {
     "name": "stdout",
     "output_type": "stream",
     "text": [
      "--- cross_val time 2.0540952682495117 seconds ---\n",
      "--- feature_gen time 5.4836273193359375e-06 seconds ---\n"
     ]
    },
    {
     "name": "stderr",
     "output_type": "stream",
     "text": [
      "/ssd/scratch/kellner/miniconda3/lib/python3.8/site-packages/skopt/optimizer/optimizer.py:449: UserWarning: The objective has been evaluated at this point before.\n",
      "  warnings.warn(\"The objective has been evaluated \"\n"
     ]
    },
    {
     "name": "stdout",
     "output_type": "stream",
     "text": [
      "--- cross_val time 2.0364983081817627 seconds ---\n",
      "--- feature_gen time 1.0231359004974365 seconds ---\n",
      "--- cross_val time 2.0161566734313965 seconds ---\n",
      "--- feature_gen time 5.7220458984375e-06 seconds ---\n"
     ]
    },
    {
     "name": "stderr",
     "output_type": "stream",
     "text": [
      "/ssd/scratch/kellner/miniconda3/lib/python3.8/site-packages/skopt/optimizer/optimizer.py:449: UserWarning: The objective has been evaluated at this point before.\n",
      "  warnings.warn(\"The objective has been evaluated \"\n"
     ]
    },
    {
     "name": "stdout",
     "output_type": "stream",
     "text": [
      "--- cross_val time 2.0232717990875244 seconds ---\n",
      "--- feature_gen time 0.937593936920166 seconds ---\n",
      "--- cross_val time 2.043954372406006 seconds ---\n",
      "--- feature_gen time 1.0136868953704834 seconds ---\n",
      "--- cross_val time 2.040130853652954 seconds ---\n",
      "--- feature_gen time 5.245208740234375e-06 seconds ---\n",
      "--- cross_val time 2.035952091217041 seconds ---\n",
      "--- feature_gen time 5.4836273193359375e-06 seconds ---\n",
      "--- cross_val time 2.0428946018218994 seconds ---\n",
      "--- 10 steps took 78.18302321434021 seconds ---\n"
     ]
    }
   ],
   "source": [
    "## patch_sklearn()\n",
    "import time\n",
    "start_time = time.time()\n",
    "res_gp = gp_minimize(soap_objective, space, n_calls=25, random_state=0, n_jobs=1)\n",
    "print(\"--- 10 steps took %s seconds ---\" % (time.time() - start_time))"
   ]
  },
  {
   "cell_type": "code",
   "execution_count": null,
   "id": "cd44fcbf-4736-4443-804b-b0c792b83dae",
   "metadata": {},
   "outputs": [],
   "source": [
    "res"
   ]
  },
  {
   "cell_type": "code",
   "execution_count": 33,
   "id": "9d9ee97c-5acd-4255-ab1e-91ff510bf834",
   "metadata": {},
   "outputs": [
    {
     "data": {
      "text/plain": [
       "[2.4491024634012133, 6.306036635536876, 0.19834703657342298]"
      ]
     },
     "execution_count": 33,
     "metadata": {},
     "output_type": "execute_result"
    }
   ],
   "source": [
    "res_gp.x"
   ]
  },
  {
   "cell_type": "code",
   "execution_count": 30,
   "id": "ad0c2dbc-53ba-4fbb-ab43-993ece28c0d6",
   "metadata": {},
   "outputs": [
    {
     "name": "stdout",
     "output_type": "stream",
     "text": [
      "[   0    1    2 ... 2558 2559 2560]\n",
      "[  16   17   18 ... 2550 2551 2552]\n",
      "[   0    1    2 ... 2558 2559 2560]\n",
      "[   0    1    2 ... 2558 2559 2560]\n",
      "[   0    1    2 ... 2558 2559 2560]\n"
     ]
    }
   ],
   "source": [
    "\n",
    "for trainsplit, testsplit in GroupKFold(n_splits=5).split(y,groups=atom_groups):\n",
    "    print(trainsplit)"
   ]
  },
  {
   "cell_type": "code",
   "execution_count": 20,
   "id": "9b50fc7e-c5dd-4a5b-b058-69304ed6d82d",
   "metadata": {},
   "outputs": [
    {
     "name": "stdout",
     "output_type": "stream",
     "text": [
      "[ 74.52  74.52  74.51 ... 108.16 108.12 108.16]\n"
     ]
    }
   ],
   "source": [
    "print(train_properties)"
   ]
  },
  {
   "cell_type": "code",
   "execution_count": 18,
   "id": "8b2648a1-b436-4334-9a08-cc6f07d9cf4f",
   "metadata": {
    "collapsed": true,
    "jupyter": {
     "outputs_hidden": true
    },
    "tags": []
   },
   "outputs": [
    {
     "name": "stdout",
     "output_type": "stream",
     "text": [
      "Help on class StandardFlexibleScaler in module skcosmo.preprocessing._data:\n",
      "\n",
      "class StandardFlexibleScaler(sklearn.base.TransformerMixin, sklearn.base.BaseEstimator)\n",
      " |  StandardFlexibleScaler(with_mean=True, with_std=True, column_wise=False, rtol=0, atol=1e-12, copy=False)\n",
      " |  \n",
      " |  Standardize features by removing the mean and scaling to unit variance.\n",
      " |  Reduce the mean of the column to zero and, in the case of `column_wise=True`\n",
      " |  the variance of each column equal to one / number of columns.\n",
      " |  The standard score of a sample `x` is calculated as:\n",
      " |  \n",
      " |      z = (x - u) / s\n",
      " |  \n",
      " |  where `u` is the mean of the samples if `with_mean`, otherwise zero,\n",
      " |  and `s` is the standard deviation of the samples if `with_std` or one.\n",
      " |  \n",
      " |  Centering and scaling can occur independently for each feature by calculating\n",
      " |  the appropriate statistics for the input or for the\n",
      " |  whole matrix (`column_wise=False`). The mean and standard deviation are then\n",
      " |  stored for use on later data using :py:meth:`transform`.\n",
      " |  \n",
      " |  Standardization of a dataset is a common requirement for many\n",
      " |  machine learning estimators: an improperly scaled / centered\n",
      " |  dataset may result in anomalous behavior.\n",
      " |  \n",
      " |  At the same time, depending on the conditions of the task, it may be necessary\n",
      " |  to preserve the ratio in the scale between the features (for example, in the\n",
      " |  case where the feature matrix is something like a covariance matrix), so\n",
      " |  the standardization should be carried out for the whole matrix,\n",
      " |  as opposed to the individual columns,\n",
      " |  as is done in `sklearn.preprocessing.StandardScaler`.\n",
      " |  \n",
      " |  Parameters\n",
      " |  ----------\n",
      " |  with_mean: bool, default=True\n",
      " |      If True, center the data before scaling. If False, keep the mean intact\n",
      " |  \n",
      " |  with_std: bool, default=True\n",
      " |      If True, scale the data to unit variance. If False, keep the variance intact\n",
      " |  \n",
      " |  column_wise: bool, default=False\n",
      " |      If True, normalize each column separately. If False, normalize the whole\n",
      " |      matrix with respect to its total variance.\n",
      " |  \n",
      " |  rtol: float, default=0\n",
      " |      The relative tolerance for the optimization: variance is\n",
      " |      considered zero when it is less than abs(mean) * rtol + atol.\n",
      " |  \n",
      " |  atol: float, default=1.0E-12\n",
      " |      The relative tolerance for the optimization: variance is\n",
      " |      considered zero when it is less than abs(mean) * rtol + atol.\n",
      " |  \n",
      " |  copy : bool, default=None\n",
      " |      Copy the input X or not.\n",
      " |  \n",
      " |  Attributes\n",
      " |  ----------\n",
      " |  n_samples_seen_: int\n",
      " |      Number of samples in the reference ndarray\n",
      " |  \n",
      " |  n_features_: int\n",
      " |      Number of features in the reference ndarray\n",
      " |  \n",
      " |  mean_ : ndarray of shape (n_features,)\n",
      " |      The mean value for each feature in the training set.\n",
      " |      Equal to ndarray of zeros shape (n_features,) when ``with_mean=False``.\n",
      " |  \n",
      " |  scale_ : ndarray of shape (n_features,), float  or None\n",
      " |      The scaling factor, ndarray of shape (n_features,)\n",
      " |      when `column_wise=True` or float  when `column_wise = False`.\n",
      " |  \n",
      " |  copy : bool, default=None\n",
      " |      Copy the input X or not.\n",
      " |  \n",
      " |  Examples\n",
      " |  --------\n",
      " |  >>> import numpy\n",
      " |  >>> from skcosmo.preprocessing import StandardFlexibleScaler\n",
      " |  >>> X = np.array([[ 1., -2.,  2.],\n",
      " |  ...      [ -2.,  1.,  3.],\n",
      " |  ...      [ 4.,  1., -2.]])\n",
      " |  >>> transformer = StandardFlexibleScaler().fit(X)\n",
      " |  >>> transformer\n",
      " |  StandardFlexibleScaler()\n",
      " |  >>> transformer.transform(X)\n",
      " |  array([[ 0.        , -0.56195149,  0.28097574],\n",
      " |         [-0.84292723,  0.28097574,  0.56195149],\n",
      " |         [ 0.84292723,  0.28097574, -0.84292723]])\n",
      " |  >>> transformer.scale_ * transformer.transform(X)\n",
      " |  array([[ 0., -2.,  1.],\n",
      " |         [-3.,  1.,  2.],\n",
      " |         [ 3.,  1., -3.]])\n",
      " |  >>> transformer.scale_ * transformer.transform(X) + transformer.mean_\n",
      " |      array([[ 1., -2.,  2.],\n",
      " |             [-2.,  1.,  3.],\n",
      " |             [ 4.,  1., -2.]])\n",
      " |  >>>\n",
      " |  \n",
      " |  Method resolution order:\n",
      " |      StandardFlexibleScaler\n",
      " |      sklearn.base.TransformerMixin\n",
      " |      sklearn.base.BaseEstimator\n",
      " |      builtins.object\n",
      " |  \n",
      " |  Methods defined here:\n",
      " |  \n",
      " |  __init__(self, with_mean=True, with_std=True, column_wise=False, rtol=0, atol=1e-12, copy=False)\n",
      " |      Initialize StandardFlexibleScaler.\n",
      " |  \n",
      " |  fit(self, X, y=None, sample_weight=None)\n",
      " |      Compute mean and scaling to be applied for subsequent normalization.\n",
      " |      \n",
      " |      Parameters\n",
      " |      ----------\n",
      " |      X : ndarray of shape (n_samples, n_features)\n",
      " |          The data used to compute the mean and standard deviation\n",
      " |          used for later scaling along the features axis.\n",
      " |      \n",
      " |      y: None\n",
      " |          Ignored.\n",
      " |      \n",
      " |      sample_weight: ndarray of shape (n_samples,)\n",
      " |          Weights for each sample. Sample weighting can be used to center\n",
      " |          (and scale) data using a weighted mean. Weights are internally\n",
      " |          normalized before preprocessing.\n",
      " |      \n",
      " |      Returns\n",
      " |      -------\n",
      " |      self : object\n",
      " |          Fitted scaler.\n",
      " |  \n",
      " |  inverse_transform(self, X_tr)\n",
      " |      Scale back the data to the original representation\n",
      " |      \n",
      " |      Parameters\n",
      " |      ----------\n",
      " |      X_tr : ndarray of shape (n_samples, n_features)\n",
      " |          Transformed matrix\n",
      " |      \n",
      " |      Returns\n",
      " |      -------\n",
      " |      X : original matrix\n",
      " |  \n",
      " |  transform(self, X, y=None, copy=None)\n",
      " |      Normalize a vector based on previously computed mean and scaling.\n",
      " |      \n",
      " |      Parameters\n",
      " |      ----------\n",
      " |      X : {array-like, sparse matrix} of shape (n_samples, n_features)\n",
      " |          The data used to scale along the features axis.\n",
      " |      \n",
      " |      y: None\n",
      " |          Ignored.\n",
      " |      \n",
      " |      copy : bool, default=None\n",
      " |          Copy the input X or not.\n",
      " |      \n",
      " |      Returns\n",
      " |      -------\n",
      " |      X : {array-like, sparse matrix} of shape (n_samples, n_features)\n",
      " |          Transformed array.\n",
      " |  \n",
      " |  ----------------------------------------------------------------------\n",
      " |  Methods inherited from sklearn.base.TransformerMixin:\n",
      " |  \n",
      " |  fit_transform(self, X, y=None, **fit_params)\n",
      " |      Fit to data, then transform it.\n",
      " |      \n",
      " |      Fits transformer to `X` and `y` with optional parameters `fit_params`\n",
      " |      and returns a transformed version of `X`.\n",
      " |      \n",
      " |      Parameters\n",
      " |      ----------\n",
      " |      X : array-like of shape (n_samples, n_features)\n",
      " |          Input samples.\n",
      " |      \n",
      " |      y :  array-like of shape (n_samples,) or (n_samples, n_outputs),                 default=None\n",
      " |          Target values (None for unsupervised transformations).\n",
      " |      \n",
      " |      **fit_params : dict\n",
      " |          Additional fit parameters.\n",
      " |      \n",
      " |      Returns\n",
      " |      -------\n",
      " |      X_new : ndarray array of shape (n_samples, n_features_new)\n",
      " |          Transformed array.\n",
      " |  \n",
      " |  ----------------------------------------------------------------------\n",
      " |  Data descriptors inherited from sklearn.base.TransformerMixin:\n",
      " |  \n",
      " |  __dict__\n",
      " |      dictionary for instance variables (if defined)\n",
      " |  \n",
      " |  __weakref__\n",
      " |      list of weak references to the object (if defined)\n",
      " |  \n",
      " |  ----------------------------------------------------------------------\n",
      " |  Methods inherited from sklearn.base.BaseEstimator:\n",
      " |  \n",
      " |  __getstate__(self)\n",
      " |  \n",
      " |  __repr__(self, N_CHAR_MAX=700)\n",
      " |      Return repr(self).\n",
      " |  \n",
      " |  __setstate__(self, state)\n",
      " |  \n",
      " |  get_params(self, deep=True)\n",
      " |      Get parameters for this estimator.\n",
      " |      \n",
      " |      Parameters\n",
      " |      ----------\n",
      " |      deep : bool, default=True\n",
      " |          If True, will return the parameters for this estimator and\n",
      " |          contained subobjects that are estimators.\n",
      " |      \n",
      " |      Returns\n",
      " |      -------\n",
      " |      params : dict\n",
      " |          Parameter names mapped to their values.\n",
      " |  \n",
      " |  set_params(self, **params)\n",
      " |      Set the parameters of this estimator.\n",
      " |      \n",
      " |      The method works on simple estimators as well as on nested objects\n",
      " |      (such as :class:`~sklearn.pipeline.Pipeline`). The latter have\n",
      " |      parameters of the form ``<component>__<parameter>`` so that it's\n",
      " |      possible to update each component of a nested object.\n",
      " |      \n",
      " |      Parameters\n",
      " |      ----------\n",
      " |      **params : dict\n",
      " |          Estimator parameters.\n",
      " |      \n",
      " |      Returns\n",
      " |      -------\n",
      " |      self : estimator instance\n",
      " |          Estimator instance.\n",
      "\n"
     ]
    }
   ],
   "source": [
    "help(StandardFlexibleScaler)"
   ]
  },
  {
   "cell_type": "code",
   "execution_count": 35,
   "id": "418551cf-c1e7-4ccc-b495-b1c580cdc223",
   "metadata": {},
   "outputs": [],
   "source": [
    "Xtrain = get_features_in_parallel(train_structures,SOAP,hypers)"
   ]
  },
  {
   "cell_type": "code",
   "execution_count": 61,
   "id": "3503b392-1821-41e7-a12a-e94c4e790180",
   "metadata": {},
   "outputs": [],
   "source": [
    "mymodel = TransformedTargetRegressor(regressor=RidgeCV(),transformer=StandardFlexibleScaler())"
   ]
  },
  {
   "cell_type": "code",
   "execution_count": 62,
   "id": "d4ce974b-c031-4c08-9996-b9c123657b86",
   "metadata": {
    "collapsed": true,
    "jupyter": {
     "outputs_hidden": true
    },
    "tags": []
   },
   "outputs": [
    {
     "ename": "KeyboardInterrupt",
     "evalue": "",
     "output_type": "error",
     "traceback": [
      "\u001b[0;31m---------------------------------------------------------------------------\u001b[0m",
      "\u001b[0;31mKeyboardInterrupt\u001b[0m                         Traceback (most recent call last)",
      "\u001b[0;32m/tmp/ipykernel_1947/3992696374.py\u001b[0m in \u001b[0;36m<module>\u001b[0;34m\u001b[0m\n\u001b[0;32m----> 1\u001b[0;31m \u001b[0mmymodel\u001b[0m\u001b[0;34m.\u001b[0m\u001b[0mfit\u001b[0m\u001b[0;34m(\u001b[0m\u001b[0mXtrain\u001b[0m\u001b[0;34m,\u001b[0m\u001b[0mtrain_properties\u001b[0m\u001b[0;34m)\u001b[0m\u001b[0;34m\u001b[0m\u001b[0;34m\u001b[0m\u001b[0m\n\u001b[0m",
      "\u001b[0;32m/ssd/scratch/kellner/miniconda3/lib/python3.8/site-packages/sklearn/compose/_target.py\u001b[0m in \u001b[0;36mfit\u001b[0;34m(self, X, y, **fit_params)\u001b[0m\n\u001b[1;32m    244\u001b[0m             \u001b[0mself\u001b[0m\u001b[0;34m.\u001b[0m\u001b[0mregressor_\u001b[0m \u001b[0;34m=\u001b[0m \u001b[0mclone\u001b[0m\u001b[0;34m(\u001b[0m\u001b[0mself\u001b[0m\u001b[0;34m.\u001b[0m\u001b[0mregressor\u001b[0m\u001b[0;34m)\u001b[0m\u001b[0;34m\u001b[0m\u001b[0;34m\u001b[0m\u001b[0m\n\u001b[1;32m    245\u001b[0m \u001b[0;34m\u001b[0m\u001b[0m\n\u001b[0;32m--> 246\u001b[0;31m         \u001b[0mself\u001b[0m\u001b[0;34m.\u001b[0m\u001b[0mregressor_\u001b[0m\u001b[0;34m.\u001b[0m\u001b[0mfit\u001b[0m\u001b[0;34m(\u001b[0m\u001b[0mX\u001b[0m\u001b[0;34m,\u001b[0m \u001b[0my_trans\u001b[0m\u001b[0;34m,\u001b[0m \u001b[0;34m**\u001b[0m\u001b[0mfit_params\u001b[0m\u001b[0;34m)\u001b[0m\u001b[0;34m\u001b[0m\u001b[0;34m\u001b[0m\u001b[0m\n\u001b[0m\u001b[1;32m    247\u001b[0m \u001b[0;34m\u001b[0m\u001b[0m\n\u001b[1;32m    248\u001b[0m         \u001b[0;32mif\u001b[0m \u001b[0mhasattr\u001b[0m\u001b[0;34m(\u001b[0m\u001b[0mself\u001b[0m\u001b[0;34m.\u001b[0m\u001b[0mregressor_\u001b[0m\u001b[0;34m,\u001b[0m \u001b[0;34m\"feature_names_in_\"\u001b[0m\u001b[0;34m)\u001b[0m\u001b[0;34m:\u001b[0m\u001b[0;34m\u001b[0m\u001b[0;34m\u001b[0m\u001b[0m\n",
      "\u001b[0;32m/ssd/scratch/kellner/miniconda3/lib/python3.8/site-packages/sklearn/linear_model/_ridge.py\u001b[0m in \u001b[0;36mfit\u001b[0;34m(self, X, y, sample_weight)\u001b[0m\n\u001b[1;32m   2028\u001b[0m                 \u001b[0malpha_per_target\u001b[0m\u001b[0;34m=\u001b[0m\u001b[0mself\u001b[0m\u001b[0;34m.\u001b[0m\u001b[0malpha_per_target\u001b[0m\u001b[0;34m,\u001b[0m\u001b[0;34m\u001b[0m\u001b[0;34m\u001b[0m\u001b[0m\n\u001b[1;32m   2029\u001b[0m             )\n\u001b[0;32m-> 2030\u001b[0;31m             \u001b[0mestimator\u001b[0m\u001b[0;34m.\u001b[0m\u001b[0mfit\u001b[0m\u001b[0;34m(\u001b[0m\u001b[0mX\u001b[0m\u001b[0;34m,\u001b[0m \u001b[0my\u001b[0m\u001b[0;34m,\u001b[0m \u001b[0msample_weight\u001b[0m\u001b[0;34m=\u001b[0m\u001b[0msample_weight\u001b[0m\u001b[0;34m)\u001b[0m\u001b[0;34m\u001b[0m\u001b[0;34m\u001b[0m\u001b[0m\n\u001b[0m\u001b[1;32m   2031\u001b[0m             \u001b[0mself\u001b[0m\u001b[0;34m.\u001b[0m\u001b[0malpha_\u001b[0m \u001b[0;34m=\u001b[0m \u001b[0mestimator\u001b[0m\u001b[0;34m.\u001b[0m\u001b[0malpha_\u001b[0m\u001b[0;34m\u001b[0m\u001b[0;34m\u001b[0m\u001b[0m\n\u001b[1;32m   2032\u001b[0m             \u001b[0mself\u001b[0m\u001b[0;34m.\u001b[0m\u001b[0mbest_score_\u001b[0m \u001b[0;34m=\u001b[0m \u001b[0mestimator\u001b[0m\u001b[0;34m.\u001b[0m\u001b[0mbest_score_\u001b[0m\u001b[0;34m\u001b[0m\u001b[0;34m\u001b[0m\u001b[0m\n",
      "\u001b[0;32m/ssd/scratch/kellner/miniconda3/lib/python3.8/site-packages/sklearn/linear_model/_ridge.py\u001b[0m in \u001b[0;36mfit\u001b[0;34m(self, X, y, sample_weight)\u001b[0m\n\u001b[1;32m   1879\u001b[0m             \u001b[0msqrt_sw\u001b[0m \u001b[0;34m=\u001b[0m \u001b[0mnp\u001b[0m\u001b[0;34m.\u001b[0m\u001b[0mones\u001b[0m\u001b[0;34m(\u001b[0m\u001b[0mn_samples\u001b[0m\u001b[0;34m,\u001b[0m \u001b[0mdtype\u001b[0m\u001b[0;34m=\u001b[0m\u001b[0mX\u001b[0m\u001b[0;34m.\u001b[0m\u001b[0mdtype\u001b[0m\u001b[0;34m)\u001b[0m\u001b[0;34m\u001b[0m\u001b[0;34m\u001b[0m\u001b[0m\n\u001b[1;32m   1880\u001b[0m \u001b[0;34m\u001b[0m\u001b[0m\n\u001b[0;32m-> 1881\u001b[0;31m         \u001b[0mX_mean\u001b[0m\u001b[0;34m,\u001b[0m \u001b[0;34m*\u001b[0m\u001b[0mdecomposition\u001b[0m \u001b[0;34m=\u001b[0m \u001b[0mdecompose\u001b[0m\u001b[0;34m(\u001b[0m\u001b[0mX\u001b[0m\u001b[0;34m,\u001b[0m \u001b[0my\u001b[0m\u001b[0;34m,\u001b[0m \u001b[0msqrt_sw\u001b[0m\u001b[0;34m)\u001b[0m\u001b[0;34m\u001b[0m\u001b[0;34m\u001b[0m\u001b[0m\n\u001b[0m\u001b[1;32m   1882\u001b[0m \u001b[0;34m\u001b[0m\u001b[0m\n\u001b[1;32m   1883\u001b[0m         \u001b[0mscorer\u001b[0m \u001b[0;34m=\u001b[0m \u001b[0mcheck_scoring\u001b[0m\u001b[0;34m(\u001b[0m\u001b[0mself\u001b[0m\u001b[0;34m,\u001b[0m \u001b[0mscoring\u001b[0m\u001b[0;34m=\u001b[0m\u001b[0mself\u001b[0m\u001b[0;34m.\u001b[0m\u001b[0mscoring\u001b[0m\u001b[0;34m,\u001b[0m \u001b[0mallow_none\u001b[0m\u001b[0;34m=\u001b[0m\u001b[0;32mTrue\u001b[0m\u001b[0;34m)\u001b[0m\u001b[0;34m\u001b[0m\u001b[0;34m\u001b[0m\u001b[0m\n",
      "\u001b[0;32m/ssd/scratch/kellner/miniconda3/lib/python3.8/site-packages/sklearn/linear_model/_ridge.py\u001b[0m in \u001b[0;36m_svd_decompose_design_matrix\u001b[0;34m(self, X, y, sqrt_sw)\u001b[0m\n\u001b[1;32m   1778\u001b[0m             \u001b[0mintercept_column\u001b[0m \u001b[0;34m=\u001b[0m \u001b[0msqrt_sw\u001b[0m\u001b[0;34m[\u001b[0m\u001b[0;34m:\u001b[0m\u001b[0;34m,\u001b[0m \u001b[0;32mNone\u001b[0m\u001b[0;34m]\u001b[0m\u001b[0;34m\u001b[0m\u001b[0;34m\u001b[0m\u001b[0m\n\u001b[1;32m   1779\u001b[0m             \u001b[0mX\u001b[0m \u001b[0;34m=\u001b[0m \u001b[0mnp\u001b[0m\u001b[0;34m.\u001b[0m\u001b[0mhstack\u001b[0m\u001b[0;34m(\u001b[0m\u001b[0;34m(\u001b[0m\u001b[0mX\u001b[0m\u001b[0;34m,\u001b[0m \u001b[0mintercept_column\u001b[0m\u001b[0;34m)\u001b[0m\u001b[0;34m)\u001b[0m\u001b[0;34m\u001b[0m\u001b[0;34m\u001b[0m\u001b[0m\n\u001b[0;32m-> 1780\u001b[0;31m         \u001b[0mU\u001b[0m\u001b[0;34m,\u001b[0m \u001b[0msingvals\u001b[0m\u001b[0;34m,\u001b[0m \u001b[0m_\u001b[0m \u001b[0;34m=\u001b[0m \u001b[0mlinalg\u001b[0m\u001b[0;34m.\u001b[0m\u001b[0msvd\u001b[0m\u001b[0;34m(\u001b[0m\u001b[0mX\u001b[0m\u001b[0;34m,\u001b[0m \u001b[0mfull_matrices\u001b[0m\u001b[0;34m=\u001b[0m\u001b[0;36m0\u001b[0m\u001b[0;34m)\u001b[0m\u001b[0;34m\u001b[0m\u001b[0;34m\u001b[0m\u001b[0m\n\u001b[0m\u001b[1;32m   1781\u001b[0m         \u001b[0msingvals_sq\u001b[0m \u001b[0;34m=\u001b[0m \u001b[0msingvals\u001b[0m \u001b[0;34m**\u001b[0m \u001b[0;36m2\u001b[0m\u001b[0;34m\u001b[0m\u001b[0;34m\u001b[0m\u001b[0m\n\u001b[1;32m   1782\u001b[0m         \u001b[0mUT_y\u001b[0m \u001b[0;34m=\u001b[0m \u001b[0mnp\u001b[0m\u001b[0;34m.\u001b[0m\u001b[0mdot\u001b[0m\u001b[0;34m(\u001b[0m\u001b[0mU\u001b[0m\u001b[0;34m.\u001b[0m\u001b[0mT\u001b[0m\u001b[0;34m,\u001b[0m \u001b[0my\u001b[0m\u001b[0;34m)\u001b[0m\u001b[0;34m\u001b[0m\u001b[0;34m\u001b[0m\u001b[0m\n",
      "\u001b[0;32m/ssd/scratch/kellner/miniconda3/lib/python3.8/site-packages/scipy/linalg/decomp_svd.py\u001b[0m in \u001b[0;36msvd\u001b[0;34m(a, full_matrices, compute_uv, overwrite_a, check_finite, lapack_driver)\u001b[0m\n\u001b[1;32m    125\u001b[0m \u001b[0;34m\u001b[0m\u001b[0m\n\u001b[1;32m    126\u001b[0m     \u001b[0;31m# perform decomposition\u001b[0m\u001b[0;34m\u001b[0m\u001b[0;34m\u001b[0m\u001b[0;34m\u001b[0m\u001b[0m\n\u001b[0;32m--> 127\u001b[0;31m     u, s, v, info = gesXd(a1, compute_uv=compute_uv, lwork=lwork,\n\u001b[0m\u001b[1;32m    128\u001b[0m                           full_matrices=full_matrices, overwrite_a=overwrite_a)\n\u001b[1;32m    129\u001b[0m \u001b[0;34m\u001b[0m\u001b[0m\n",
      "\u001b[0;31mKeyboardInterrupt\u001b[0m: "
     ]
    }
   ],
   "source": [
    "mymodel.fit(Xtrain,train_properties)"
   ]
  },
  {
   "cell_type": "code",
   "execution_count": null,
   "id": "2770a877-ad5a-49af-b313-787520771fe3",
   "metadata": {},
   "outputs": [],
   "source": []
  },
  {
   "cell_type": "code",
   "execution_count": 58,
   "id": "836d5623-eb23-4bc5-aecd-677d80bd0d2c",
   "metadata": {},
   "outputs": [
    {
     "data": {
      "text/plain": [
       "array([-1236.21587596, -1267.61661554, -1108.24118909, -1254.04773058,\n",
       "       -1036.6450259 ])"
      ]
     },
     "execution_count": 58,
     "metadata": {},
     "output_type": "execute_result"
    }
   ],
   "source": [
    "cross_val_score(mymodel,Xtrain,train_properties,groups=group,cv=GroupKFold(),scoring=\"neg_mean_squared_error\")"
   ]
  },
  {
   "cell_type": "code",
   "execution_count": 60,
   "id": "89f61b2d-228f-4c87-ab8f-329809c8f423",
   "metadata": {
    "collapsed": true,
    "jupyter": {
     "outputs_hidden": true
    },
    "tags": []
   },
   "outputs": [
    {
     "ename": "KeyboardInterrupt",
     "evalue": "",
     "output_type": "error",
     "traceback": [
      "\u001b[0;31m---------------------------------------------------------------------------\u001b[0m",
      "\u001b[0;31mKeyboardInterrupt\u001b[0m                         Traceback (most recent call last)",
      "\u001b[0;32m/tmp/ipykernel_1947/3264040286.py\u001b[0m in \u001b[0;36m<module>\u001b[0;34m\u001b[0m\n\u001b[0;32m----> 1\u001b[0;31m \u001b[0mcross_val_score\u001b[0m\u001b[0;34m(\u001b[0m\u001b[0mmymodel\u001b[0m\u001b[0;34m,\u001b[0m\u001b[0mXtrain\u001b[0m\u001b[0;34m,\u001b[0m\u001b[0mtrain_properties\u001b[0m\u001b[0;34m,\u001b[0m\u001b[0mgroups\u001b[0m\u001b[0;34m=\u001b[0m\u001b[0mgroup\u001b[0m\u001b[0;34m,\u001b[0m\u001b[0mcv\u001b[0m\u001b[0;34m=\u001b[0m\u001b[0mGroupKFold\u001b[0m\u001b[0;34m(\u001b[0m\u001b[0;34m)\u001b[0m\u001b[0;34m,\u001b[0m\u001b[0mscoring\u001b[0m\u001b[0;34m=\u001b[0m\u001b[0;34m\"neg_mean_squared_error\"\u001b[0m\u001b[0;34m)\u001b[0m\u001b[0;34m\u001b[0m\u001b[0;34m\u001b[0m\u001b[0m\n\u001b[0m",
      "\u001b[0;32m/ssd/scratch/kellner/miniconda3/lib/python3.8/site-packages/sklearn/model_selection/_validation.py\u001b[0m in \u001b[0;36mcross_val_score\u001b[0;34m(estimator, X, y, groups, scoring, cv, n_jobs, verbose, fit_params, pre_dispatch, error_score)\u001b[0m\n\u001b[1;32m    507\u001b[0m     \u001b[0mscorer\u001b[0m \u001b[0;34m=\u001b[0m \u001b[0mcheck_scoring\u001b[0m\u001b[0;34m(\u001b[0m\u001b[0mestimator\u001b[0m\u001b[0;34m,\u001b[0m \u001b[0mscoring\u001b[0m\u001b[0;34m=\u001b[0m\u001b[0mscoring\u001b[0m\u001b[0;34m)\u001b[0m\u001b[0;34m\u001b[0m\u001b[0;34m\u001b[0m\u001b[0m\n\u001b[1;32m    508\u001b[0m \u001b[0;34m\u001b[0m\u001b[0m\n\u001b[0;32m--> 509\u001b[0;31m     cv_results = cross_validate(\n\u001b[0m\u001b[1;32m    510\u001b[0m         \u001b[0mestimator\u001b[0m\u001b[0;34m=\u001b[0m\u001b[0mestimator\u001b[0m\u001b[0;34m,\u001b[0m\u001b[0;34m\u001b[0m\u001b[0;34m\u001b[0m\u001b[0m\n\u001b[1;32m    511\u001b[0m         \u001b[0mX\u001b[0m\u001b[0;34m=\u001b[0m\u001b[0mX\u001b[0m\u001b[0;34m,\u001b[0m\u001b[0;34m\u001b[0m\u001b[0;34m\u001b[0m\u001b[0m\n",
      "\u001b[0;32m/ssd/scratch/kellner/miniconda3/lib/python3.8/site-packages/sklearn/model_selection/_validation.py\u001b[0m in \u001b[0;36mcross_validate\u001b[0;34m(estimator, X, y, groups, scoring, cv, n_jobs, verbose, fit_params, pre_dispatch, return_train_score, return_estimator, error_score)\u001b[0m\n\u001b[1;32m    265\u001b[0m     \u001b[0;31m# independent, and that it is pickle-able.\u001b[0m\u001b[0;34m\u001b[0m\u001b[0;34m\u001b[0m\u001b[0;34m\u001b[0m\u001b[0m\n\u001b[1;32m    266\u001b[0m     \u001b[0mparallel\u001b[0m \u001b[0;34m=\u001b[0m \u001b[0mParallel\u001b[0m\u001b[0;34m(\u001b[0m\u001b[0mn_jobs\u001b[0m\u001b[0;34m=\u001b[0m\u001b[0mn_jobs\u001b[0m\u001b[0;34m,\u001b[0m \u001b[0mverbose\u001b[0m\u001b[0;34m=\u001b[0m\u001b[0mverbose\u001b[0m\u001b[0;34m,\u001b[0m \u001b[0mpre_dispatch\u001b[0m\u001b[0;34m=\u001b[0m\u001b[0mpre_dispatch\u001b[0m\u001b[0;34m)\u001b[0m\u001b[0;34m\u001b[0m\u001b[0;34m\u001b[0m\u001b[0m\n\u001b[0;32m--> 267\u001b[0;31m     results = parallel(\n\u001b[0m\u001b[1;32m    268\u001b[0m         delayed(_fit_and_score)(\n\u001b[1;32m    269\u001b[0m             \u001b[0mclone\u001b[0m\u001b[0;34m(\u001b[0m\u001b[0mestimator\u001b[0m\u001b[0;34m)\u001b[0m\u001b[0;34m,\u001b[0m\u001b[0;34m\u001b[0m\u001b[0;34m\u001b[0m\u001b[0m\n",
      "\u001b[0;32m/ssd/scratch/kellner/miniconda3/lib/python3.8/site-packages/joblib/parallel.py\u001b[0m in \u001b[0;36m__call__\u001b[0;34m(self, iterable)\u001b[0m\n\u001b[1;32m   1044\u001b[0m                 \u001b[0mself\u001b[0m\u001b[0;34m.\u001b[0m\u001b[0m_iterating\u001b[0m \u001b[0;34m=\u001b[0m \u001b[0mself\u001b[0m\u001b[0;34m.\u001b[0m\u001b[0m_original_iterator\u001b[0m \u001b[0;32mis\u001b[0m \u001b[0;32mnot\u001b[0m \u001b[0;32mNone\u001b[0m\u001b[0;34m\u001b[0m\u001b[0;34m\u001b[0m\u001b[0m\n\u001b[1;32m   1045\u001b[0m \u001b[0;34m\u001b[0m\u001b[0m\n\u001b[0;32m-> 1046\u001b[0;31m             \u001b[0;32mwhile\u001b[0m \u001b[0mself\u001b[0m\u001b[0;34m.\u001b[0m\u001b[0mdispatch_one_batch\u001b[0m\u001b[0;34m(\u001b[0m\u001b[0miterator\u001b[0m\u001b[0;34m)\u001b[0m\u001b[0;34m:\u001b[0m\u001b[0;34m\u001b[0m\u001b[0;34m\u001b[0m\u001b[0m\n\u001b[0m\u001b[1;32m   1047\u001b[0m                 \u001b[0;32mpass\u001b[0m\u001b[0;34m\u001b[0m\u001b[0;34m\u001b[0m\u001b[0m\n\u001b[1;32m   1048\u001b[0m \u001b[0;34m\u001b[0m\u001b[0m\n",
      "\u001b[0;32m/ssd/scratch/kellner/miniconda3/lib/python3.8/site-packages/joblib/parallel.py\u001b[0m in \u001b[0;36mdispatch_one_batch\u001b[0;34m(self, iterator)\u001b[0m\n\u001b[1;32m    859\u001b[0m                 \u001b[0;32mreturn\u001b[0m \u001b[0;32mFalse\u001b[0m\u001b[0;34m\u001b[0m\u001b[0;34m\u001b[0m\u001b[0m\n\u001b[1;32m    860\u001b[0m             \u001b[0;32melse\u001b[0m\u001b[0;34m:\u001b[0m\u001b[0;34m\u001b[0m\u001b[0;34m\u001b[0m\u001b[0m\n\u001b[0;32m--> 861\u001b[0;31m                 \u001b[0mself\u001b[0m\u001b[0;34m.\u001b[0m\u001b[0m_dispatch\u001b[0m\u001b[0;34m(\u001b[0m\u001b[0mtasks\u001b[0m\u001b[0;34m)\u001b[0m\u001b[0;34m\u001b[0m\u001b[0;34m\u001b[0m\u001b[0m\n\u001b[0m\u001b[1;32m    862\u001b[0m                 \u001b[0;32mreturn\u001b[0m \u001b[0;32mTrue\u001b[0m\u001b[0;34m\u001b[0m\u001b[0;34m\u001b[0m\u001b[0m\n\u001b[1;32m    863\u001b[0m \u001b[0;34m\u001b[0m\u001b[0m\n",
      "\u001b[0;32m/ssd/scratch/kellner/miniconda3/lib/python3.8/site-packages/joblib/parallel.py\u001b[0m in \u001b[0;36m_dispatch\u001b[0;34m(self, batch)\u001b[0m\n\u001b[1;32m    777\u001b[0m         \u001b[0;32mwith\u001b[0m \u001b[0mself\u001b[0m\u001b[0;34m.\u001b[0m\u001b[0m_lock\u001b[0m\u001b[0;34m:\u001b[0m\u001b[0;34m\u001b[0m\u001b[0;34m\u001b[0m\u001b[0m\n\u001b[1;32m    778\u001b[0m             \u001b[0mjob_idx\u001b[0m \u001b[0;34m=\u001b[0m \u001b[0mlen\u001b[0m\u001b[0;34m(\u001b[0m\u001b[0mself\u001b[0m\u001b[0;34m.\u001b[0m\u001b[0m_jobs\u001b[0m\u001b[0;34m)\u001b[0m\u001b[0;34m\u001b[0m\u001b[0;34m\u001b[0m\u001b[0m\n\u001b[0;32m--> 779\u001b[0;31m             \u001b[0mjob\u001b[0m \u001b[0;34m=\u001b[0m \u001b[0mself\u001b[0m\u001b[0;34m.\u001b[0m\u001b[0m_backend\u001b[0m\u001b[0;34m.\u001b[0m\u001b[0mapply_async\u001b[0m\u001b[0;34m(\u001b[0m\u001b[0mbatch\u001b[0m\u001b[0;34m,\u001b[0m \u001b[0mcallback\u001b[0m\u001b[0;34m=\u001b[0m\u001b[0mcb\u001b[0m\u001b[0;34m)\u001b[0m\u001b[0;34m\u001b[0m\u001b[0;34m\u001b[0m\u001b[0m\n\u001b[0m\u001b[1;32m    780\u001b[0m             \u001b[0;31m# A job can complete so quickly than its callback is\u001b[0m\u001b[0;34m\u001b[0m\u001b[0;34m\u001b[0m\u001b[0;34m\u001b[0m\u001b[0m\n\u001b[1;32m    781\u001b[0m             \u001b[0;31m# called before we get here, causing self._jobs to\u001b[0m\u001b[0;34m\u001b[0m\u001b[0;34m\u001b[0m\u001b[0;34m\u001b[0m\u001b[0m\n",
      "\u001b[0;32m/ssd/scratch/kellner/miniconda3/lib/python3.8/site-packages/joblib/_parallel_backends.py\u001b[0m in \u001b[0;36mapply_async\u001b[0;34m(self, func, callback)\u001b[0m\n\u001b[1;32m    206\u001b[0m     \u001b[0;32mdef\u001b[0m \u001b[0mapply_async\u001b[0m\u001b[0;34m(\u001b[0m\u001b[0mself\u001b[0m\u001b[0;34m,\u001b[0m \u001b[0mfunc\u001b[0m\u001b[0;34m,\u001b[0m \u001b[0mcallback\u001b[0m\u001b[0;34m=\u001b[0m\u001b[0;32mNone\u001b[0m\u001b[0;34m)\u001b[0m\u001b[0;34m:\u001b[0m\u001b[0;34m\u001b[0m\u001b[0;34m\u001b[0m\u001b[0m\n\u001b[1;32m    207\u001b[0m         \u001b[0;34m\"\"\"Schedule a func to be run\"\"\"\u001b[0m\u001b[0;34m\u001b[0m\u001b[0;34m\u001b[0m\u001b[0m\n\u001b[0;32m--> 208\u001b[0;31m         \u001b[0mresult\u001b[0m \u001b[0;34m=\u001b[0m \u001b[0mImmediateResult\u001b[0m\u001b[0;34m(\u001b[0m\u001b[0mfunc\u001b[0m\u001b[0;34m)\u001b[0m\u001b[0;34m\u001b[0m\u001b[0;34m\u001b[0m\u001b[0m\n\u001b[0m\u001b[1;32m    209\u001b[0m         \u001b[0;32mif\u001b[0m \u001b[0mcallback\u001b[0m\u001b[0;34m:\u001b[0m\u001b[0;34m\u001b[0m\u001b[0;34m\u001b[0m\u001b[0m\n\u001b[1;32m    210\u001b[0m             \u001b[0mcallback\u001b[0m\u001b[0;34m(\u001b[0m\u001b[0mresult\u001b[0m\u001b[0;34m)\u001b[0m\u001b[0;34m\u001b[0m\u001b[0;34m\u001b[0m\u001b[0m\n",
      "\u001b[0;32m/ssd/scratch/kellner/miniconda3/lib/python3.8/site-packages/joblib/_parallel_backends.py\u001b[0m in \u001b[0;36m__init__\u001b[0;34m(self, batch)\u001b[0m\n\u001b[1;32m    570\u001b[0m         \u001b[0;31m# Don't delay the application, to avoid keeping the input\u001b[0m\u001b[0;34m\u001b[0m\u001b[0;34m\u001b[0m\u001b[0;34m\u001b[0m\u001b[0m\n\u001b[1;32m    571\u001b[0m         \u001b[0;31m# arguments in memory\u001b[0m\u001b[0;34m\u001b[0m\u001b[0;34m\u001b[0m\u001b[0;34m\u001b[0m\u001b[0m\n\u001b[0;32m--> 572\u001b[0;31m         \u001b[0mself\u001b[0m\u001b[0;34m.\u001b[0m\u001b[0mresults\u001b[0m \u001b[0;34m=\u001b[0m \u001b[0mbatch\u001b[0m\u001b[0;34m(\u001b[0m\u001b[0;34m)\u001b[0m\u001b[0;34m\u001b[0m\u001b[0;34m\u001b[0m\u001b[0m\n\u001b[0m\u001b[1;32m    573\u001b[0m \u001b[0;34m\u001b[0m\u001b[0m\n\u001b[1;32m    574\u001b[0m     \u001b[0;32mdef\u001b[0m \u001b[0mget\u001b[0m\u001b[0;34m(\u001b[0m\u001b[0mself\u001b[0m\u001b[0;34m)\u001b[0m\u001b[0;34m:\u001b[0m\u001b[0;34m\u001b[0m\u001b[0;34m\u001b[0m\u001b[0m\n",
      "\u001b[0;32m/ssd/scratch/kellner/miniconda3/lib/python3.8/site-packages/joblib/parallel.py\u001b[0m in \u001b[0;36m__call__\u001b[0;34m(self)\u001b[0m\n\u001b[1;32m    260\u001b[0m         \u001b[0;31m# change the default number of processes to -1\u001b[0m\u001b[0;34m\u001b[0m\u001b[0;34m\u001b[0m\u001b[0;34m\u001b[0m\u001b[0m\n\u001b[1;32m    261\u001b[0m         \u001b[0;32mwith\u001b[0m \u001b[0mparallel_backend\u001b[0m\u001b[0;34m(\u001b[0m\u001b[0mself\u001b[0m\u001b[0;34m.\u001b[0m\u001b[0m_backend\u001b[0m\u001b[0;34m,\u001b[0m \u001b[0mn_jobs\u001b[0m\u001b[0;34m=\u001b[0m\u001b[0mself\u001b[0m\u001b[0;34m.\u001b[0m\u001b[0m_n_jobs\u001b[0m\u001b[0;34m)\u001b[0m\u001b[0;34m:\u001b[0m\u001b[0;34m\u001b[0m\u001b[0;34m\u001b[0m\u001b[0m\n\u001b[0;32m--> 262\u001b[0;31m             return [func(*args, **kwargs)\n\u001b[0m\u001b[1;32m    263\u001b[0m                     for func, args, kwargs in self.items]\n\u001b[1;32m    264\u001b[0m \u001b[0;34m\u001b[0m\u001b[0m\n",
      "\u001b[0;32m/ssd/scratch/kellner/miniconda3/lib/python3.8/site-packages/joblib/parallel.py\u001b[0m in \u001b[0;36m<listcomp>\u001b[0;34m(.0)\u001b[0m\n\u001b[1;32m    260\u001b[0m         \u001b[0;31m# change the default number of processes to -1\u001b[0m\u001b[0;34m\u001b[0m\u001b[0;34m\u001b[0m\u001b[0;34m\u001b[0m\u001b[0m\n\u001b[1;32m    261\u001b[0m         \u001b[0;32mwith\u001b[0m \u001b[0mparallel_backend\u001b[0m\u001b[0;34m(\u001b[0m\u001b[0mself\u001b[0m\u001b[0;34m.\u001b[0m\u001b[0m_backend\u001b[0m\u001b[0;34m,\u001b[0m \u001b[0mn_jobs\u001b[0m\u001b[0;34m=\u001b[0m\u001b[0mself\u001b[0m\u001b[0;34m.\u001b[0m\u001b[0m_n_jobs\u001b[0m\u001b[0;34m)\u001b[0m\u001b[0;34m:\u001b[0m\u001b[0;34m\u001b[0m\u001b[0;34m\u001b[0m\u001b[0m\n\u001b[0;32m--> 262\u001b[0;31m             return [func(*args, **kwargs)\n\u001b[0m\u001b[1;32m    263\u001b[0m                     for func, args, kwargs in self.items]\n\u001b[1;32m    264\u001b[0m \u001b[0;34m\u001b[0m\u001b[0m\n",
      "\u001b[0;32m/ssd/scratch/kellner/miniconda3/lib/python3.8/site-packages/sklearn/utils/fixes.py\u001b[0m in \u001b[0;36m__call__\u001b[0;34m(self, *args, **kwargs)\u001b[0m\n\u001b[1;32m    214\u001b[0m     \u001b[0;32mdef\u001b[0m \u001b[0m__call__\u001b[0m\u001b[0;34m(\u001b[0m\u001b[0mself\u001b[0m\u001b[0;34m,\u001b[0m \u001b[0;34m*\u001b[0m\u001b[0margs\u001b[0m\u001b[0;34m,\u001b[0m \u001b[0;34m**\u001b[0m\u001b[0mkwargs\u001b[0m\u001b[0;34m)\u001b[0m\u001b[0;34m:\u001b[0m\u001b[0;34m\u001b[0m\u001b[0;34m\u001b[0m\u001b[0m\n\u001b[1;32m    215\u001b[0m         \u001b[0;32mwith\u001b[0m \u001b[0mconfig_context\u001b[0m\u001b[0;34m(\u001b[0m\u001b[0;34m**\u001b[0m\u001b[0mself\u001b[0m\u001b[0;34m.\u001b[0m\u001b[0mconfig\u001b[0m\u001b[0;34m)\u001b[0m\u001b[0;34m:\u001b[0m\u001b[0;34m\u001b[0m\u001b[0;34m\u001b[0m\u001b[0m\n\u001b[0;32m--> 216\u001b[0;31m             \u001b[0;32mreturn\u001b[0m \u001b[0mself\u001b[0m\u001b[0;34m.\u001b[0m\u001b[0mfunction\u001b[0m\u001b[0;34m(\u001b[0m\u001b[0;34m*\u001b[0m\u001b[0margs\u001b[0m\u001b[0;34m,\u001b[0m \u001b[0;34m**\u001b[0m\u001b[0mkwargs\u001b[0m\u001b[0;34m)\u001b[0m\u001b[0;34m\u001b[0m\u001b[0;34m\u001b[0m\u001b[0m\n\u001b[0m\u001b[1;32m    217\u001b[0m \u001b[0;34m\u001b[0m\u001b[0m\n\u001b[1;32m    218\u001b[0m \u001b[0;34m\u001b[0m\u001b[0m\n",
      "\u001b[0;32m/ssd/scratch/kellner/miniconda3/lib/python3.8/site-packages/sklearn/model_selection/_validation.py\u001b[0m in \u001b[0;36m_fit_and_score\u001b[0;34m(estimator, X, y, scorer, train, test, verbose, parameters, fit_params, return_train_score, return_parameters, return_n_test_samples, return_times, return_estimator, split_progress, candidate_progress, error_score)\u001b[0m\n\u001b[1;32m    678\u001b[0m             \u001b[0mestimator\u001b[0m\u001b[0;34m.\u001b[0m\u001b[0mfit\u001b[0m\u001b[0;34m(\u001b[0m\u001b[0mX_train\u001b[0m\u001b[0;34m,\u001b[0m \u001b[0;34m**\u001b[0m\u001b[0mfit_params\u001b[0m\u001b[0;34m)\u001b[0m\u001b[0;34m\u001b[0m\u001b[0;34m\u001b[0m\u001b[0m\n\u001b[1;32m    679\u001b[0m         \u001b[0;32melse\u001b[0m\u001b[0;34m:\u001b[0m\u001b[0;34m\u001b[0m\u001b[0;34m\u001b[0m\u001b[0m\n\u001b[0;32m--> 680\u001b[0;31m             \u001b[0mestimator\u001b[0m\u001b[0;34m.\u001b[0m\u001b[0mfit\u001b[0m\u001b[0;34m(\u001b[0m\u001b[0mX_train\u001b[0m\u001b[0;34m,\u001b[0m \u001b[0my_train\u001b[0m\u001b[0;34m,\u001b[0m \u001b[0;34m**\u001b[0m\u001b[0mfit_params\u001b[0m\u001b[0;34m)\u001b[0m\u001b[0;34m\u001b[0m\u001b[0;34m\u001b[0m\u001b[0m\n\u001b[0m\u001b[1;32m    681\u001b[0m \u001b[0;34m\u001b[0m\u001b[0m\n\u001b[1;32m    682\u001b[0m     \u001b[0;32mexcept\u001b[0m \u001b[0mException\u001b[0m\u001b[0;34m:\u001b[0m\u001b[0;34m\u001b[0m\u001b[0;34m\u001b[0m\u001b[0m\n",
      "\u001b[0;32m/ssd/scratch/kellner/miniconda3/lib/python3.8/site-packages/sklearn/compose/_target.py\u001b[0m in \u001b[0;36mfit\u001b[0;34m(self, X, y, **fit_params)\u001b[0m\n\u001b[1;32m    244\u001b[0m             \u001b[0mself\u001b[0m\u001b[0;34m.\u001b[0m\u001b[0mregressor_\u001b[0m \u001b[0;34m=\u001b[0m \u001b[0mclone\u001b[0m\u001b[0;34m(\u001b[0m\u001b[0mself\u001b[0m\u001b[0;34m.\u001b[0m\u001b[0mregressor\u001b[0m\u001b[0;34m)\u001b[0m\u001b[0;34m\u001b[0m\u001b[0;34m\u001b[0m\u001b[0m\n\u001b[1;32m    245\u001b[0m \u001b[0;34m\u001b[0m\u001b[0m\n\u001b[0;32m--> 246\u001b[0;31m         \u001b[0mself\u001b[0m\u001b[0;34m.\u001b[0m\u001b[0mregressor_\u001b[0m\u001b[0;34m.\u001b[0m\u001b[0mfit\u001b[0m\u001b[0;34m(\u001b[0m\u001b[0mX\u001b[0m\u001b[0;34m,\u001b[0m \u001b[0my_trans\u001b[0m\u001b[0;34m,\u001b[0m \u001b[0;34m**\u001b[0m\u001b[0mfit_params\u001b[0m\u001b[0;34m)\u001b[0m\u001b[0;34m\u001b[0m\u001b[0;34m\u001b[0m\u001b[0m\n\u001b[0m\u001b[1;32m    247\u001b[0m \u001b[0;34m\u001b[0m\u001b[0m\n\u001b[1;32m    248\u001b[0m         \u001b[0;32mif\u001b[0m \u001b[0mhasattr\u001b[0m\u001b[0;34m(\u001b[0m\u001b[0mself\u001b[0m\u001b[0;34m.\u001b[0m\u001b[0mregressor_\u001b[0m\u001b[0;34m,\u001b[0m \u001b[0;34m\"feature_names_in_\"\u001b[0m\u001b[0;34m)\u001b[0m\u001b[0;34m:\u001b[0m\u001b[0;34m\u001b[0m\u001b[0;34m\u001b[0m\u001b[0m\n",
      "\u001b[0;32m/ssd/scratch/kellner/miniconda3/lib/python3.8/site-packages/sklearn/linear_model/_ridge.py\u001b[0m in \u001b[0;36mfit\u001b[0;34m(self, X, y, sample_weight)\u001b[0m\n\u001b[1;32m   2028\u001b[0m                 \u001b[0malpha_per_target\u001b[0m\u001b[0;34m=\u001b[0m\u001b[0mself\u001b[0m\u001b[0;34m.\u001b[0m\u001b[0malpha_per_target\u001b[0m\u001b[0;34m,\u001b[0m\u001b[0;34m\u001b[0m\u001b[0;34m\u001b[0m\u001b[0m\n\u001b[1;32m   2029\u001b[0m             )\n\u001b[0;32m-> 2030\u001b[0;31m             \u001b[0mestimator\u001b[0m\u001b[0;34m.\u001b[0m\u001b[0mfit\u001b[0m\u001b[0;34m(\u001b[0m\u001b[0mX\u001b[0m\u001b[0;34m,\u001b[0m \u001b[0my\u001b[0m\u001b[0;34m,\u001b[0m \u001b[0msample_weight\u001b[0m\u001b[0;34m=\u001b[0m\u001b[0msample_weight\u001b[0m\u001b[0;34m)\u001b[0m\u001b[0;34m\u001b[0m\u001b[0;34m\u001b[0m\u001b[0m\n\u001b[0m\u001b[1;32m   2031\u001b[0m             \u001b[0mself\u001b[0m\u001b[0;34m.\u001b[0m\u001b[0malpha_\u001b[0m \u001b[0;34m=\u001b[0m \u001b[0mestimator\u001b[0m\u001b[0;34m.\u001b[0m\u001b[0malpha_\u001b[0m\u001b[0;34m\u001b[0m\u001b[0;34m\u001b[0m\u001b[0m\n\u001b[1;32m   2032\u001b[0m             \u001b[0mself\u001b[0m\u001b[0;34m.\u001b[0m\u001b[0mbest_score_\u001b[0m \u001b[0;34m=\u001b[0m \u001b[0mestimator\u001b[0m\u001b[0;34m.\u001b[0m\u001b[0mbest_score_\u001b[0m\u001b[0;34m\u001b[0m\u001b[0;34m\u001b[0m\u001b[0m\n",
      "\u001b[0;32m/ssd/scratch/kellner/miniconda3/lib/python3.8/site-packages/sklearn/linear_model/_ridge.py\u001b[0m in \u001b[0;36mfit\u001b[0;34m(self, X, y, sample_weight)\u001b[0m\n\u001b[1;32m   1879\u001b[0m             \u001b[0msqrt_sw\u001b[0m \u001b[0;34m=\u001b[0m \u001b[0mnp\u001b[0m\u001b[0;34m.\u001b[0m\u001b[0mones\u001b[0m\u001b[0;34m(\u001b[0m\u001b[0mn_samples\u001b[0m\u001b[0;34m,\u001b[0m \u001b[0mdtype\u001b[0m\u001b[0;34m=\u001b[0m\u001b[0mX\u001b[0m\u001b[0;34m.\u001b[0m\u001b[0mdtype\u001b[0m\u001b[0;34m)\u001b[0m\u001b[0;34m\u001b[0m\u001b[0;34m\u001b[0m\u001b[0m\n\u001b[1;32m   1880\u001b[0m \u001b[0;34m\u001b[0m\u001b[0m\n\u001b[0;32m-> 1881\u001b[0;31m         \u001b[0mX_mean\u001b[0m\u001b[0;34m,\u001b[0m \u001b[0;34m*\u001b[0m\u001b[0mdecomposition\u001b[0m \u001b[0;34m=\u001b[0m \u001b[0mdecompose\u001b[0m\u001b[0;34m(\u001b[0m\u001b[0mX\u001b[0m\u001b[0;34m,\u001b[0m \u001b[0my\u001b[0m\u001b[0;34m,\u001b[0m \u001b[0msqrt_sw\u001b[0m\u001b[0;34m)\u001b[0m\u001b[0;34m\u001b[0m\u001b[0;34m\u001b[0m\u001b[0m\n\u001b[0m\u001b[1;32m   1882\u001b[0m \u001b[0;34m\u001b[0m\u001b[0m\n\u001b[1;32m   1883\u001b[0m         \u001b[0mscorer\u001b[0m \u001b[0;34m=\u001b[0m \u001b[0mcheck_scoring\u001b[0m\u001b[0;34m(\u001b[0m\u001b[0mself\u001b[0m\u001b[0;34m,\u001b[0m \u001b[0mscoring\u001b[0m\u001b[0;34m=\u001b[0m\u001b[0mself\u001b[0m\u001b[0;34m.\u001b[0m\u001b[0mscoring\u001b[0m\u001b[0;34m,\u001b[0m \u001b[0mallow_none\u001b[0m\u001b[0;34m=\u001b[0m\u001b[0;32mTrue\u001b[0m\u001b[0;34m)\u001b[0m\u001b[0;34m\u001b[0m\u001b[0;34m\u001b[0m\u001b[0m\n",
      "\u001b[0;32m/ssd/scratch/kellner/miniconda3/lib/python3.8/site-packages/sklearn/linear_model/_ridge.py\u001b[0m in \u001b[0;36m_svd_decompose_design_matrix\u001b[0;34m(self, X, y, sqrt_sw)\u001b[0m\n\u001b[1;32m   1778\u001b[0m             \u001b[0mintercept_column\u001b[0m \u001b[0;34m=\u001b[0m \u001b[0msqrt_sw\u001b[0m\u001b[0;34m[\u001b[0m\u001b[0;34m:\u001b[0m\u001b[0;34m,\u001b[0m \u001b[0;32mNone\u001b[0m\u001b[0;34m]\u001b[0m\u001b[0;34m\u001b[0m\u001b[0;34m\u001b[0m\u001b[0m\n\u001b[1;32m   1779\u001b[0m             \u001b[0mX\u001b[0m \u001b[0;34m=\u001b[0m \u001b[0mnp\u001b[0m\u001b[0;34m.\u001b[0m\u001b[0mhstack\u001b[0m\u001b[0;34m(\u001b[0m\u001b[0;34m(\u001b[0m\u001b[0mX\u001b[0m\u001b[0;34m,\u001b[0m \u001b[0mintercept_column\u001b[0m\u001b[0;34m)\u001b[0m\u001b[0;34m)\u001b[0m\u001b[0;34m\u001b[0m\u001b[0;34m\u001b[0m\u001b[0m\n\u001b[0;32m-> 1780\u001b[0;31m         \u001b[0mU\u001b[0m\u001b[0;34m,\u001b[0m \u001b[0msingvals\u001b[0m\u001b[0;34m,\u001b[0m \u001b[0m_\u001b[0m \u001b[0;34m=\u001b[0m \u001b[0mlinalg\u001b[0m\u001b[0;34m.\u001b[0m\u001b[0msvd\u001b[0m\u001b[0;34m(\u001b[0m\u001b[0mX\u001b[0m\u001b[0;34m,\u001b[0m \u001b[0mfull_matrices\u001b[0m\u001b[0;34m=\u001b[0m\u001b[0;36m0\u001b[0m\u001b[0;34m)\u001b[0m\u001b[0;34m\u001b[0m\u001b[0;34m\u001b[0m\u001b[0m\n\u001b[0m\u001b[1;32m   1781\u001b[0m         \u001b[0msingvals_sq\u001b[0m \u001b[0;34m=\u001b[0m \u001b[0msingvals\u001b[0m \u001b[0;34m**\u001b[0m \u001b[0;36m2\u001b[0m\u001b[0;34m\u001b[0m\u001b[0;34m\u001b[0m\u001b[0m\n\u001b[1;32m   1782\u001b[0m         \u001b[0mUT_y\u001b[0m \u001b[0;34m=\u001b[0m \u001b[0mnp\u001b[0m\u001b[0;34m.\u001b[0m\u001b[0mdot\u001b[0m\u001b[0;34m(\u001b[0m\u001b[0mU\u001b[0m\u001b[0;34m.\u001b[0m\u001b[0mT\u001b[0m\u001b[0;34m,\u001b[0m \u001b[0my\u001b[0m\u001b[0;34m)\u001b[0m\u001b[0;34m\u001b[0m\u001b[0;34m\u001b[0m\u001b[0m\n",
      "\u001b[0;32m/ssd/scratch/kellner/miniconda3/lib/python3.8/site-packages/scipy/linalg/decomp_svd.py\u001b[0m in \u001b[0;36msvd\u001b[0;34m(a, full_matrices, compute_uv, overwrite_a, check_finite, lapack_driver)\u001b[0m\n\u001b[1;32m    125\u001b[0m \u001b[0;34m\u001b[0m\u001b[0m\n\u001b[1;32m    126\u001b[0m     \u001b[0;31m# perform decomposition\u001b[0m\u001b[0;34m\u001b[0m\u001b[0;34m\u001b[0m\u001b[0;34m\u001b[0m\u001b[0m\n\u001b[0;32m--> 127\u001b[0;31m     u, s, v, info = gesXd(a1, compute_uv=compute_uv, lwork=lwork,\n\u001b[0m\u001b[1;32m    128\u001b[0m                           full_matrices=full_matrices, overwrite_a=overwrite_a)\n\u001b[1;32m    129\u001b[0m \u001b[0;34m\u001b[0m\u001b[0m\n",
      "\u001b[0;31mKeyboardInterrupt\u001b[0m: "
     ]
    }
   ],
   "source": [
    "cross_val_score(mymodel,Xtrain,train_properties,groups=group,cv=GroupKFold(),scoring=\"neg_mean_squared_error\")"
   ]
  },
  {
   "cell_type": "code",
   "execution_count": null,
   "id": "7ad087d7-21e2-4833-9df8-56e168b7f5cf",
   "metadata": {},
   "outputs": [],
   "source": []
  },
  {
   "cell_type": "code",
   "execution_count": 27,
   "id": "507ae600-92af-464c-b622-d545b92c737c",
   "metadata": {
    "collapsed": true,
    "jupyter": {
     "outputs_hidden": true
    },
    "tags": []
   },
   "outputs": [
    {
     "data": {
      "text/plain": [
       "{'check_inverse': True,\n",
       " 'func': None,\n",
       " 'inverse_func': None,\n",
       " 'regressor__alpha': 1.0,\n",
       " 'regressor__copy_X': True,\n",
       " 'regressor__fit_intercept': True,\n",
       " 'regressor__max_iter': None,\n",
       " 'regressor__normalize': 'deprecated',\n",
       " 'regressor__positive': False,\n",
       " 'regressor__random_state': None,\n",
       " 'regressor__solver': 'auto',\n",
       " 'regressor__tol': 0.001,\n",
       " 'regressor': Ridge(),\n",
       " 'transformer__atol': 1e-12,\n",
       " 'transformer__column_wise': False,\n",
       " 'transformer__copy': False,\n",
       " 'transformer__rtol': 0,\n",
       " 'transformer__with_mean': True,\n",
       " 'transformer__with_std': True,\n",
       " 'transformer': StandardFlexibleScaler()}"
      ]
     },
     "execution_count": 27,
     "metadata": {},
     "output_type": "execute_result"
    }
   ],
   "source": [
    "mymodel.get_params()"
   ]
  },
  {
   "cell_type": "code",
   "execution_count": 25,
   "id": "9329a86b-d183-4352-956f-f775648f7534",
   "metadata": {},
   "outputs": [],
   "source": [
    "from sklearn.model_selection import GridSearchCV"
   ]
  },
  {
   "cell_type": "code",
   "execution_count": 42,
   "id": "b397194b-d887-407f-8b4b-56b4653261fe",
   "metadata": {},
   "outputs": [],
   "source": [
    "params = {\"regressor__alpha\":np.logspace(-6,1,num=14)}"
   ]
  },
  {
   "cell_type": "code",
   "execution_count": 45,
   "id": "40886c08-eb6c-4be3-bbfa-3b0d1679e378",
   "metadata": {},
   "outputs": [],
   "source": [
    "from sklearn.model_selection import LeaveOneGroupOut"
   ]
  },
  {
   "cell_type": "code",
   "execution_count": 46,
   "id": "35b1b801-7271-40ed-98da-d070eff3e77b",
   "metadata": {},
   "outputs": [],
   "source": [
    "group = atom_groups_by_frame(train_structures)"
   ]
  },
  {
   "cell_type": "code",
   "execution_count": 54,
   "id": "ea78f7cf-4879-46d8-b17f-79631a836f8a",
   "metadata": {},
   "outputs": [],
   "source": [
    "cf = GridSearchCV(estimator = mymodel, cv=LeaveOneGroupOut(), param_grid=params,scoring=\"neg_mean_squared_error\",n_jobs=8)"
   ]
  },
  {
   "cell_type": "code",
   "execution_count": 55,
   "id": "828689e1-2f4f-4c3b-aabc-dceead199e09",
   "metadata": {
    "collapsed": true,
    "jupyter": {
     "outputs_hidden": true
    },
    "tags": []
   },
   "outputs": [
    {
     "ename": "KeyboardInterrupt",
     "evalue": "",
     "output_type": "error",
     "traceback": [
      "\u001b[0;31m---------------------------------------------------------------------------\u001b[0m",
      "\u001b[0;31mKeyboardInterrupt\u001b[0m                         Traceback (most recent call last)",
      "\u001b[0;32m/tmp/ipykernel_1947/344082688.py\u001b[0m in \u001b[0;36m<module>\u001b[0;34m\u001b[0m\n\u001b[0;32m----> 1\u001b[0;31m \u001b[0mcf\u001b[0m\u001b[0;34m.\u001b[0m\u001b[0mfit\u001b[0m\u001b[0;34m(\u001b[0m\u001b[0mXtrain\u001b[0m\u001b[0;34m,\u001b[0m\u001b[0mtrain_properties\u001b[0m\u001b[0;34m,\u001b[0m\u001b[0mgroups\u001b[0m\u001b[0;34m=\u001b[0m\u001b[0mgroup\u001b[0m\u001b[0;34m,\u001b[0m\u001b[0mverbose\u001b[0m\u001b[0;34m=\u001b[0m\u001b[0;36m1\u001b[0m\u001b[0;34m)\u001b[0m\u001b[0;34m\u001b[0m\u001b[0;34m\u001b[0m\u001b[0m\n\u001b[0m",
      "\u001b[0;32m/ssd/scratch/kellner/miniconda3/lib/python3.8/site-packages/sklearn/model_selection/_search.py\u001b[0m in \u001b[0;36mfit\u001b[0;34m(self, X, y, groups, **fit_params)\u001b[0m\n\u001b[1;32m    889\u001b[0m                 \u001b[0;32mreturn\u001b[0m \u001b[0mresults\u001b[0m\u001b[0;34m\u001b[0m\u001b[0;34m\u001b[0m\u001b[0m\n\u001b[1;32m    890\u001b[0m \u001b[0;34m\u001b[0m\u001b[0m\n\u001b[0;32m--> 891\u001b[0;31m             \u001b[0mself\u001b[0m\u001b[0;34m.\u001b[0m\u001b[0m_run_search\u001b[0m\u001b[0;34m(\u001b[0m\u001b[0mevaluate_candidates\u001b[0m\u001b[0;34m)\u001b[0m\u001b[0;34m\u001b[0m\u001b[0;34m\u001b[0m\u001b[0m\n\u001b[0m\u001b[1;32m    892\u001b[0m \u001b[0;34m\u001b[0m\u001b[0m\n\u001b[1;32m    893\u001b[0m             \u001b[0;31m# multimetric is determined here because in the case of a callable\u001b[0m\u001b[0;34m\u001b[0m\u001b[0;34m\u001b[0m\u001b[0;34m\u001b[0m\u001b[0m\n",
      "\u001b[0;32m/ssd/scratch/kellner/miniconda3/lib/python3.8/site-packages/sklearn/model_selection/_search.py\u001b[0m in \u001b[0;36m_run_search\u001b[0;34m(self, evaluate_candidates)\u001b[0m\n\u001b[1;32m   1390\u001b[0m     \u001b[0;32mdef\u001b[0m \u001b[0m_run_search\u001b[0m\u001b[0;34m(\u001b[0m\u001b[0mself\u001b[0m\u001b[0;34m,\u001b[0m \u001b[0mevaluate_candidates\u001b[0m\u001b[0;34m)\u001b[0m\u001b[0;34m:\u001b[0m\u001b[0;34m\u001b[0m\u001b[0;34m\u001b[0m\u001b[0m\n\u001b[1;32m   1391\u001b[0m         \u001b[0;34m\"\"\"Search all candidates in param_grid\"\"\"\u001b[0m\u001b[0;34m\u001b[0m\u001b[0;34m\u001b[0m\u001b[0m\n\u001b[0;32m-> 1392\u001b[0;31m         \u001b[0mevaluate_candidates\u001b[0m\u001b[0;34m(\u001b[0m\u001b[0mParameterGrid\u001b[0m\u001b[0;34m(\u001b[0m\u001b[0mself\u001b[0m\u001b[0;34m.\u001b[0m\u001b[0mparam_grid\u001b[0m\u001b[0;34m)\u001b[0m\u001b[0;34m)\u001b[0m\u001b[0;34m\u001b[0m\u001b[0;34m\u001b[0m\u001b[0m\n\u001b[0m\u001b[1;32m   1393\u001b[0m \u001b[0;34m\u001b[0m\u001b[0m\n\u001b[1;32m   1394\u001b[0m \u001b[0;34m\u001b[0m\u001b[0m\n",
      "\u001b[0;32m/ssd/scratch/kellner/miniconda3/lib/python3.8/site-packages/sklearn/model_selection/_search.py\u001b[0m in \u001b[0;36mevaluate_candidates\u001b[0;34m(candidate_params, cv, more_results)\u001b[0m\n\u001b[1;32m    836\u001b[0m                     )\n\u001b[1;32m    837\u001b[0m \u001b[0;34m\u001b[0m\u001b[0m\n\u001b[0;32m--> 838\u001b[0;31m                 out = parallel(\n\u001b[0m\u001b[1;32m    839\u001b[0m                     delayed(_fit_and_score)(\n\u001b[1;32m    840\u001b[0m                         \u001b[0mclone\u001b[0m\u001b[0;34m(\u001b[0m\u001b[0mbase_estimator\u001b[0m\u001b[0;34m)\u001b[0m\u001b[0;34m,\u001b[0m\u001b[0;34m\u001b[0m\u001b[0;34m\u001b[0m\u001b[0m\n",
      "\u001b[0;32m/ssd/scratch/kellner/miniconda3/lib/python3.8/site-packages/joblib/parallel.py\u001b[0m in \u001b[0;36m__call__\u001b[0;34m(self, iterable)\u001b[0m\n\u001b[1;32m   1054\u001b[0m \u001b[0;34m\u001b[0m\u001b[0m\n\u001b[1;32m   1055\u001b[0m             \u001b[0;32mwith\u001b[0m \u001b[0mself\u001b[0m\u001b[0;34m.\u001b[0m\u001b[0m_backend\u001b[0m\u001b[0;34m.\u001b[0m\u001b[0mretrieval_context\u001b[0m\u001b[0;34m(\u001b[0m\u001b[0;34m)\u001b[0m\u001b[0;34m:\u001b[0m\u001b[0;34m\u001b[0m\u001b[0;34m\u001b[0m\u001b[0m\n\u001b[0;32m-> 1056\u001b[0;31m                 \u001b[0mself\u001b[0m\u001b[0;34m.\u001b[0m\u001b[0mretrieve\u001b[0m\u001b[0;34m(\u001b[0m\u001b[0;34m)\u001b[0m\u001b[0;34m\u001b[0m\u001b[0;34m\u001b[0m\u001b[0m\n\u001b[0m\u001b[1;32m   1057\u001b[0m             \u001b[0;31m# Make sure that we get a last message telling us we are done\u001b[0m\u001b[0;34m\u001b[0m\u001b[0;34m\u001b[0m\u001b[0;34m\u001b[0m\u001b[0m\n\u001b[1;32m   1058\u001b[0m             \u001b[0melapsed_time\u001b[0m \u001b[0;34m=\u001b[0m \u001b[0mtime\u001b[0m\u001b[0;34m.\u001b[0m\u001b[0mtime\u001b[0m\u001b[0;34m(\u001b[0m\u001b[0;34m)\u001b[0m \u001b[0;34m-\u001b[0m \u001b[0mself\u001b[0m\u001b[0;34m.\u001b[0m\u001b[0m_start_time\u001b[0m\u001b[0;34m\u001b[0m\u001b[0;34m\u001b[0m\u001b[0m\n",
      "\u001b[0;32m/ssd/scratch/kellner/miniconda3/lib/python3.8/site-packages/joblib/parallel.py\u001b[0m in \u001b[0;36mretrieve\u001b[0;34m(self)\u001b[0m\n\u001b[1;32m    933\u001b[0m             \u001b[0;32mtry\u001b[0m\u001b[0;34m:\u001b[0m\u001b[0;34m\u001b[0m\u001b[0;34m\u001b[0m\u001b[0m\n\u001b[1;32m    934\u001b[0m                 \u001b[0;32mif\u001b[0m \u001b[0mgetattr\u001b[0m\u001b[0;34m(\u001b[0m\u001b[0mself\u001b[0m\u001b[0;34m.\u001b[0m\u001b[0m_backend\u001b[0m\u001b[0;34m,\u001b[0m \u001b[0;34m'supports_timeout'\u001b[0m\u001b[0;34m,\u001b[0m \u001b[0;32mFalse\u001b[0m\u001b[0;34m)\u001b[0m\u001b[0;34m:\u001b[0m\u001b[0;34m\u001b[0m\u001b[0;34m\u001b[0m\u001b[0m\n\u001b[0;32m--> 935\u001b[0;31m                     \u001b[0mself\u001b[0m\u001b[0;34m.\u001b[0m\u001b[0m_output\u001b[0m\u001b[0;34m.\u001b[0m\u001b[0mextend\u001b[0m\u001b[0;34m(\u001b[0m\u001b[0mjob\u001b[0m\u001b[0;34m.\u001b[0m\u001b[0mget\u001b[0m\u001b[0;34m(\u001b[0m\u001b[0mtimeout\u001b[0m\u001b[0;34m=\u001b[0m\u001b[0mself\u001b[0m\u001b[0;34m.\u001b[0m\u001b[0mtimeout\u001b[0m\u001b[0;34m)\u001b[0m\u001b[0;34m)\u001b[0m\u001b[0;34m\u001b[0m\u001b[0;34m\u001b[0m\u001b[0m\n\u001b[0m\u001b[1;32m    936\u001b[0m                 \u001b[0;32melse\u001b[0m\u001b[0;34m:\u001b[0m\u001b[0;34m\u001b[0m\u001b[0;34m\u001b[0m\u001b[0m\n\u001b[1;32m    937\u001b[0m                     \u001b[0mself\u001b[0m\u001b[0;34m.\u001b[0m\u001b[0m_output\u001b[0m\u001b[0;34m.\u001b[0m\u001b[0mextend\u001b[0m\u001b[0;34m(\u001b[0m\u001b[0mjob\u001b[0m\u001b[0;34m.\u001b[0m\u001b[0mget\u001b[0m\u001b[0;34m(\u001b[0m\u001b[0;34m)\u001b[0m\u001b[0;34m)\u001b[0m\u001b[0;34m\u001b[0m\u001b[0;34m\u001b[0m\u001b[0m\n",
      "\u001b[0;32m/ssd/scratch/kellner/miniconda3/lib/python3.8/site-packages/joblib/_parallel_backends.py\u001b[0m in \u001b[0;36mwrap_future_result\u001b[0;34m(future, timeout)\u001b[0m\n\u001b[1;32m    540\u001b[0m         AsyncResults.get from multiprocessing.\"\"\"\n\u001b[1;32m    541\u001b[0m         \u001b[0;32mtry\u001b[0m\u001b[0;34m:\u001b[0m\u001b[0;34m\u001b[0m\u001b[0;34m\u001b[0m\u001b[0m\n\u001b[0;32m--> 542\u001b[0;31m             \u001b[0;32mreturn\u001b[0m \u001b[0mfuture\u001b[0m\u001b[0;34m.\u001b[0m\u001b[0mresult\u001b[0m\u001b[0;34m(\u001b[0m\u001b[0mtimeout\u001b[0m\u001b[0;34m=\u001b[0m\u001b[0mtimeout\u001b[0m\u001b[0;34m)\u001b[0m\u001b[0;34m\u001b[0m\u001b[0;34m\u001b[0m\u001b[0m\n\u001b[0m\u001b[1;32m    543\u001b[0m         \u001b[0;32mexcept\u001b[0m \u001b[0mCfTimeoutError\u001b[0m \u001b[0;32mas\u001b[0m \u001b[0me\u001b[0m\u001b[0;34m:\u001b[0m\u001b[0;34m\u001b[0m\u001b[0;34m\u001b[0m\u001b[0m\n\u001b[1;32m    544\u001b[0m             \u001b[0;32mraise\u001b[0m \u001b[0mTimeoutError\u001b[0m \u001b[0;32mfrom\u001b[0m \u001b[0me\u001b[0m\u001b[0;34m\u001b[0m\u001b[0;34m\u001b[0m\u001b[0m\n",
      "\u001b[0;32m/ssd/scratch/kellner/miniconda3/lib/python3.8/concurrent/futures/_base.py\u001b[0m in \u001b[0;36mresult\u001b[0;34m(self, timeout)\u001b[0m\n\u001b[1;32m    437\u001b[0m                     \u001b[0;32mreturn\u001b[0m \u001b[0mself\u001b[0m\u001b[0;34m.\u001b[0m\u001b[0m__get_result\u001b[0m\u001b[0;34m(\u001b[0m\u001b[0;34m)\u001b[0m\u001b[0;34m\u001b[0m\u001b[0;34m\u001b[0m\u001b[0m\n\u001b[1;32m    438\u001b[0m \u001b[0;34m\u001b[0m\u001b[0m\n\u001b[0;32m--> 439\u001b[0;31m                 \u001b[0mself\u001b[0m\u001b[0;34m.\u001b[0m\u001b[0m_condition\u001b[0m\u001b[0;34m.\u001b[0m\u001b[0mwait\u001b[0m\u001b[0;34m(\u001b[0m\u001b[0mtimeout\u001b[0m\u001b[0;34m)\u001b[0m\u001b[0;34m\u001b[0m\u001b[0;34m\u001b[0m\u001b[0m\n\u001b[0m\u001b[1;32m    440\u001b[0m \u001b[0;34m\u001b[0m\u001b[0m\n\u001b[1;32m    441\u001b[0m                 \u001b[0;32mif\u001b[0m \u001b[0mself\u001b[0m\u001b[0;34m.\u001b[0m\u001b[0m_state\u001b[0m \u001b[0;32min\u001b[0m \u001b[0;34m[\u001b[0m\u001b[0mCANCELLED\u001b[0m\u001b[0;34m,\u001b[0m \u001b[0mCANCELLED_AND_NOTIFIED\u001b[0m\u001b[0;34m]\u001b[0m\u001b[0;34m:\u001b[0m\u001b[0;34m\u001b[0m\u001b[0;34m\u001b[0m\u001b[0m\n",
      "\u001b[0;32m/ssd/scratch/kellner/miniconda3/lib/python3.8/threading.py\u001b[0m in \u001b[0;36mwait\u001b[0;34m(self, timeout)\u001b[0m\n\u001b[1;32m    300\u001b[0m         \u001b[0;32mtry\u001b[0m\u001b[0;34m:\u001b[0m    \u001b[0;31m# restore state no matter what (e.g., KeyboardInterrupt)\u001b[0m\u001b[0;34m\u001b[0m\u001b[0;34m\u001b[0m\u001b[0m\n\u001b[1;32m    301\u001b[0m             \u001b[0;32mif\u001b[0m \u001b[0mtimeout\u001b[0m \u001b[0;32mis\u001b[0m \u001b[0;32mNone\u001b[0m\u001b[0;34m:\u001b[0m\u001b[0;34m\u001b[0m\u001b[0;34m\u001b[0m\u001b[0m\n\u001b[0;32m--> 302\u001b[0;31m                 \u001b[0mwaiter\u001b[0m\u001b[0;34m.\u001b[0m\u001b[0macquire\u001b[0m\u001b[0;34m(\u001b[0m\u001b[0;34m)\u001b[0m\u001b[0;34m\u001b[0m\u001b[0;34m\u001b[0m\u001b[0m\n\u001b[0m\u001b[1;32m    303\u001b[0m                 \u001b[0mgotit\u001b[0m \u001b[0;34m=\u001b[0m \u001b[0;32mTrue\u001b[0m\u001b[0;34m\u001b[0m\u001b[0;34m\u001b[0m\u001b[0m\n\u001b[1;32m    304\u001b[0m             \u001b[0;32melse\u001b[0m\u001b[0;34m:\u001b[0m\u001b[0;34m\u001b[0m\u001b[0;34m\u001b[0m\u001b[0m\n",
      "\u001b[0;31mKeyboardInterrupt\u001b[0m: "
     ]
    }
   ],
   "source": [
    "cf.fit(Xtrain,train_properties,groups=group,verbose=1)"
   ]
  },
  {
   "cell_type": "code",
   "execution_count": null,
   "id": "dc9d8255-dabc-4858-8669-c661e8c044e8",
   "metadata": {},
   "outputs": [],
   "source": []
  },
  {
   "cell_type": "code",
   "execution_count": 23,
   "id": "3328d9ee-0dff-424e-a5f5-a6fd4ecdb68c",
   "metadata": {},
   "outputs": [
    {
     "data": {
      "text/plain": [
       "RidgeCV(alphas=array([1.00000000e-12, 2.59294380e-12, 6.72335754e-12, 1.74332882e-11,\n",
       "       4.52035366e-11, 1.17210230e-10, 3.03919538e-10, 7.88046282e-10,\n",
       "       2.04335972e-09, 5.29831691e-09, 1.37382380e-08, 3.56224789e-08,\n",
       "       9.23670857e-08, 2.39502662e-07, 6.21016942e-07, 1.61026203e-06,\n",
       "       4.17531894e-06, 1.08263673e-05, 2.80721620e-05, 7.27895384e-05,\n",
       "       1.88739182e-04, 4.89390092e-04, 1.26896100e-03, 3.29034456e-03,\n",
       "       8.53167852e-03, 2.21221629e-02, 5.73615251e-02, 1.48735211e-01,\n",
       "       3.85662042e-01, 1.00000000e+00]))"
      ]
     },
     "execution_count": 23,
     "metadata": {},
     "output_type": "execute_result"
    }
   ],
   "source": [
    "mymodel.fit(Xtrain,train_properties)"
   ]
  },
  {
   "cell_type": "code",
   "execution_count": 13,
   "id": "20b282b6-cbc1-41be-bb8f-3bb0014b9c5f",
   "metadata": {},
   "outputs": [],
   "source": [
    "scaler = StandardFlexibleScaler()\n",
    "Xtrain = scaler.fit_transform(Xtrain)\n"
   ]
  },
  {
   "cell_type": "code",
   "execution_count": 9,
   "id": "c2bfc14f-3641-445d-beaf-81f1709784e2",
   "metadata": {
    "tags": []
   },
   "outputs": [],
   "source": [
    "from sklearn.linear_model import RidgeCV"
   ]
  },
  {
   "cell_type": "code",
   "execution_count": 13,
   "id": "ddf965fe-6b17-4f64-83c0-73add4091bd6",
   "metadata": {
    "tags": []
   },
   "outputs": [
    {
     "ename": "AttributeError",
     "evalue": "'RidgeCV' object has no attribute 'alpha_'",
     "output_type": "error",
     "traceback": [
      "\u001b[0;31m---------------------------------------------------------------------------\u001b[0m",
      "\u001b[0;31mAttributeError\u001b[0m                            Traceback (most recent call last)",
      "\u001b[0;32m/tmp/ipykernel_1947/915106458.py\u001b[0m in \u001b[0;36m<module>\u001b[0;34m\u001b[0m\n\u001b[0;32m----> 1\u001b[0;31m \u001b[0mmymodel\u001b[0m\u001b[0;34m.\u001b[0m\u001b[0mregressor\u001b[0m\u001b[0;34m.\u001b[0m\u001b[0malpha_\u001b[0m\u001b[0;34m\u001b[0m\u001b[0;34m\u001b[0m\u001b[0m\n\u001b[0m",
      "\u001b[0;31mAttributeError\u001b[0m: 'RidgeCV' object has no attribute 'alpha_'"
     ]
    }
   ],
   "source": [
    "mymodel.regressor.alpha_"
   ]
  },
  {
   "cell_type": "code",
   "execution_count": 24,
   "id": "62bf357a-9ecd-4ad8-9fdb-b569088a24cf",
   "metadata": {},
   "outputs": [
    {
     "data": {
      "text/plain": [
       "2.0433597178569395e-09"
      ]
     },
     "execution_count": 24,
     "metadata": {},
     "output_type": "execute_result"
    }
   ],
   "source": [
    "mymodel.alpha_"
   ]
  },
  {
   "cell_type": "code",
   "execution_count": 16,
   "id": "ecc4f908-e3b8-4dc7-86c3-68e3932455b6",
   "metadata": {},
   "outputs": [
    {
     "data": {
      "text/plain": [
       "array([[ 6.16310782e-04,  5.11436180e-03,  3.34222425e-03, ...,\n",
       "        -8.60169604e-06, -7.58355178e-06, -7.53181984e-06],\n",
       "       [ 6.16477006e-04,  5.11455509e-03,  3.34234429e-03, ...,\n",
       "        -8.60169604e-06, -7.58355178e-06, -7.53181984e-06],\n",
       "       [ 6.16475958e-04,  5.11455417e-03,  3.34234370e-03, ...,\n",
       "        -8.60169604e-06, -7.58355178e-06, -7.53181984e-06],\n",
       "       ...,\n",
       "       [-5.60464454e-03, -2.53845618e-03, -2.08982179e-03, ...,\n",
       "         1.55152148e-06,  3.69392899e-06,  1.96776767e-06],\n",
       "       [-5.60464433e-03, -2.53845462e-03, -2.08982050e-03, ...,\n",
       "         1.55038414e-06,  3.69318095e-06,  1.96783563e-06],\n",
       "       [-5.60464456e-03, -2.53845624e-03, -2.08982183e-03, ...,\n",
       "         1.55159646e-06,  3.69397016e-06,  1.96774082e-06]])"
      ]
     },
     "execution_count": 16,
     "metadata": {},
     "output_type": "execute_result"
    }
   ],
   "source": [
    "Xtrain"
   ]
  },
  {
   "cell_type": "code",
   "execution_count": 15,
   "id": "3c1ded94-9da8-4bcb-9992-21ed0452bb31",
   "metadata": {},
   "outputs": [
    {
     "data": {
      "text/plain": [
       "array([[5.10182591e+00, 1.23572831e+00, 1.12229594e+00, ...,\n",
       "        1.03295614e-03, 1.02890147e-03, 1.04653595e-03],\n",
       "       [1.23572831e+00, 6.46453173e-01, 5.30582521e-01, ...,\n",
       "        2.91924627e-04, 2.70881238e-04, 2.68104709e-04],\n",
       "       [1.12229594e+00, 5.30582521e-01, 4.77451549e-01, ...,\n",
       "        2.70024085e-04, 2.50268807e-04, 2.55010167e-04],\n",
       "       ...,\n",
       "       [1.03295614e-03, 2.91924627e-04, 2.70024085e-04, ...,\n",
       "        6.01780035e-05, 4.19107534e-05, 4.33046231e-05],\n",
       "       [1.02890147e-03, 2.70881238e-04, 2.50268807e-04, ...,\n",
       "        4.19107534e-05, 3.88819385e-05, 3.50572202e-05],\n",
       "       [1.04653595e-03, 2.68104709e-04, 2.55010167e-04, ...,\n",
       "        4.33046231e-05, 3.50572202e-05, 3.96132709e-05]])"
      ]
     },
     "execution_count": 15,
     "metadata": {},
     "output_type": "execute_result"
    }
   ],
   "source": [
    "kern"
   ]
  },
  {
   "cell_type": "code",
   "execution_count": 20,
   "id": "dfe10351-a272-43b4-92de-3d3a52af0992",
   "metadata": {},
   "outputs": [
    {
     "data": {
      "text/plain": [
       "array([[10, 11, 12],\n",
       "       [19, 20, 21],\n",
       "       [28, 29, 30]])"
      ]
     },
     "execution_count": 20,
     "metadata": {},
     "output_type": "execute_result"
    }
   ],
   "source": [
    "A = np.arange(81)\n",
    "A = A.reshape((9,9))\n",
    "A[np.ix_(np.array([1,2,3]),np.array([1,2,3]))]\n"
   ]
  },
  {
   "cell_type": "code",
   "execution_count": 10,
   "id": "63a0815d-49e9-4b42-9f3e-09eb6790e55f",
   "metadata": {
    "tags": []
   },
   "outputs": [
    {
     "name": "stdout",
     "output_type": "stream",
     "text": [
      "--- 0.7550456523895264 seconds ---\n"
     ]
    }
   ],
   "source": [
    "hypers = dict(soap_type=\"PowerSpectrum\",\n",
    "              interaction_cutoff=4.5,\n",
    "              max_radial=8,\n",
    "              max_angular=8,\n",
    "              gaussian_sigma_constant=0.3,\n",
    "              gaussian_sigma_type=\"Constant\",\n",
    "              radial_basis=\"GTO\",\n",
    "              normalize=True,\n",
    "              cutoff_smooth_width=0.3,\n",
    "              cutoff_function_type=\"RadialScaling\",\n",
    "              optimization=\n",
    "                    dict(\n",
    "                            Spline=dict(\n",
    "                               accuracy=1.0e-05\n",
    "                            )\n",
    "                        ),\n",
    "              cutoff_function_parameters= dict(rate=1,\n",
    "                    scale=5.0,\n",
    "                    exponent=3.1\n",
    "                        ),\n",
    "              compute_gradients=False,\n",
    "              expansion_by_species_method=\"user defined\",\n",
    "              global_species=[1, 6, 7, 8, 16]\n",
    "              )\n",
    "start_time = time.time()\n",
    "get_features_in_parallel(train_structures,SOAP,hypers,n_cores=8)\n",
    "print(\"--- %s seconds ---\" % (time.time() - start_time))"
   ]
  },
  {
   "cell_type": "code",
   "execution_count": 5,
   "id": "a2461f50-0fd4-4808-8bba-7a7109f0ddfe",
   "metadata": {},
   "outputs": [
    {
     "name": "stdout",
     "output_type": "stream",
     "text": [
      "--- 8.665013313293457 seconds ---\n"
     ]
    }
   ],
   "source": [
    "calc_object = BufferedSOAPFeatures(train_structures,hypers,optimize=False,n_cores=8)\n",
    "start_time = time.time()\n",
    "X = calc_object.get_features({})\n",
    "print(\"--- %s seconds ---\" % (time.time() - start_time))"
   ]
  },
  {
   "cell_type": "code",
   "execution_count": 6,
   "id": "8d335f6e-f80d-4f2f-962b-79596733a47f",
   "metadata": {},
   "outputs": [
    {
     "data": {
      "text/plain": [
       "(134692, 8640)"
      ]
     },
     "execution_count": 6,
     "metadata": {},
     "output_type": "execute_result"
    }
   ],
   "source": [
    "X.shape"
   ]
  },
  {
   "cell_type": "code",
   "execution_count": 7,
   "id": "b9be5ac4-5ed5-44f9-9c2a-90ddaf669b95",
   "metadata": {},
   "outputs": [
    {
     "name": "stdout",
     "output_type": "stream",
     "text": [
      "--- 16.396571397781372 seconds ---\n"
     ]
    }
   ],
   "source": [
    "start_time = time.time()\n",
    "get_optimal_radial_basis_hypers_parallel(hypers,train_structures)\n",
    "print(\"--- %s seconds ---\" % (time.time() - start_time))"
   ]
  },
  {
   "cell_type": "code",
   "execution_count": 3,
   "id": "b9d0752e-c478-4e2a-9037-fbc79579801c",
   "metadata": {
    "collapsed": true,
    "jupyter": {
     "outputs_hidden": true
    },
    "tags": []
   },
   "outputs": [
    {
     "name": "stdout",
     "output_type": "stream",
     "text": [
      "Help on class GroupKFold in module sklearn.model_selection._split:\n",
      "\n",
      "class GroupKFold(_BaseKFold)\n",
      " |  GroupKFold(n_splits=5)\n",
      " |  \n",
      " |  K-fold iterator variant with non-overlapping groups.\n",
      " |  \n",
      " |  The same group will not appear in two different folds (the number of\n",
      " |  distinct groups has to be at least equal to the number of folds).\n",
      " |  \n",
      " |  The folds are approximately balanced in the sense that the number of\n",
      " |  distinct groups is approximately the same in each fold.\n",
      " |  \n",
      " |  Read more in the :ref:`User Guide <group_k_fold>`.\n",
      " |  \n",
      " |  Parameters\n",
      " |  ----------\n",
      " |  n_splits : int, default=5\n",
      " |      Number of folds. Must be at least 2.\n",
      " |  \n",
      " |      .. versionchanged:: 0.22\n",
      " |          ``n_splits`` default value changed from 3 to 5.\n",
      " |  \n",
      " |  Examples\n",
      " |  --------\n",
      " |  >>> import numpy as np\n",
      " |  >>> from sklearn.model_selection import GroupKFold\n",
      " |  >>> X = np.array([[1, 2], [3, 4], [5, 6], [7, 8]])\n",
      " |  >>> y = np.array([1, 2, 3, 4])\n",
      " |  >>> groups = np.array([0, 0, 2, 2])\n",
      " |  >>> group_kfold = GroupKFold(n_splits=2)\n",
      " |  >>> group_kfold.get_n_splits(X, y, groups)\n",
      " |  2\n",
      " |  >>> print(group_kfold)\n",
      " |  GroupKFold(n_splits=2)\n",
      " |  >>> for train_index, test_index in group_kfold.split(X, y, groups):\n",
      " |  ...     print(\"TRAIN:\", train_index, \"TEST:\", test_index)\n",
      " |  ...     X_train, X_test = X[train_index], X[test_index]\n",
      " |  ...     y_train, y_test = y[train_index], y[test_index]\n",
      " |  ...     print(X_train, X_test, y_train, y_test)\n",
      " |  ...\n",
      " |  TRAIN: [0 1] TEST: [2 3]\n",
      " |  [[1 2]\n",
      " |   [3 4]] [[5 6]\n",
      " |   [7 8]] [1 2] [3 4]\n",
      " |  TRAIN: [2 3] TEST: [0 1]\n",
      " |  [[5 6]\n",
      " |   [7 8]] [[1 2]\n",
      " |   [3 4]] [3 4] [1 2]\n",
      " |  \n",
      " |  See Also\n",
      " |  --------\n",
      " |  LeaveOneGroupOut : For splitting the data according to explicit\n",
      " |      domain-specific stratification of the dataset.\n",
      " |  \n",
      " |  Method resolution order:\n",
      " |      GroupKFold\n",
      " |      _BaseKFold\n",
      " |      BaseCrossValidator\n",
      " |      builtins.object\n",
      " |  \n",
      " |  Methods defined here:\n",
      " |  \n",
      " |  __init__(self, n_splits=5)\n",
      " |      Initialize self.  See help(type(self)) for accurate signature.\n",
      " |  \n",
      " |  split(self, X, y=None, groups=None)\n",
      " |      Generate indices to split data into training and test set.\n",
      " |      \n",
      " |      Parameters\n",
      " |      ----------\n",
      " |      X : array-like of shape (n_samples, n_features)\n",
      " |          Training data, where `n_samples` is the number of samples\n",
      " |          and `n_features` is the number of features.\n",
      " |      \n",
      " |      y : array-like of shape (n_samples,), default=None\n",
      " |          The target variable for supervised learning problems.\n",
      " |      \n",
      " |      groups : array-like of shape (n_samples,)\n",
      " |          Group labels for the samples used while splitting the dataset into\n",
      " |          train/test set.\n",
      " |      \n",
      " |      Yields\n",
      " |      ------\n",
      " |      train : ndarray\n",
      " |          The training set indices for that split.\n",
      " |      \n",
      " |      test : ndarray\n",
      " |          The testing set indices for that split.\n",
      " |  \n",
      " |  ----------------------------------------------------------------------\n",
      " |  Data and other attributes defined here:\n",
      " |  \n",
      " |  __abstractmethods__ = frozenset()\n",
      " |  \n",
      " |  ----------------------------------------------------------------------\n",
      " |  Methods inherited from _BaseKFold:\n",
      " |  \n",
      " |  get_n_splits(self, X=None, y=None, groups=None)\n",
      " |      Returns the number of splitting iterations in the cross-validator\n",
      " |      \n",
      " |      Parameters\n",
      " |      ----------\n",
      " |      X : object\n",
      " |          Always ignored, exists for compatibility.\n",
      " |      \n",
      " |      y : object\n",
      " |          Always ignored, exists for compatibility.\n",
      " |      \n",
      " |      groups : object\n",
      " |          Always ignored, exists for compatibility.\n",
      " |      \n",
      " |      Returns\n",
      " |      -------\n",
      " |      n_splits : int\n",
      " |          Returns the number of splitting iterations in the cross-validator.\n",
      " |  \n",
      " |  ----------------------------------------------------------------------\n",
      " |  Methods inherited from BaseCrossValidator:\n",
      " |  \n",
      " |  __repr__(self)\n",
      " |      Return repr(self).\n",
      " |  \n",
      " |  ----------------------------------------------------------------------\n",
      " |  Data descriptors inherited from BaseCrossValidator:\n",
      " |  \n",
      " |  __dict__\n",
      " |      dictionary for instance variables (if defined)\n",
      " |  \n",
      " |  __weakref__\n",
      " |      list of weak references to the object (if defined)\n",
      "\n"
     ]
    }
   ],
   "source": [
    "help(GroupKFold)"
   ]
  },
  {
   "cell_type": "code",
   "execution_count": 24,
   "id": "ea462100-8759-4d56-8073-c2878a4d8bc2",
   "metadata": {
    "tags": []
   },
   "outputs": [
    {
     "data": {
      "text/plain": [
       "{'check_inverse': False,\n",
       " 'func': None,\n",
       " 'inverse_func': None,\n",
       " 'regressor__C': 1.0,\n",
       " 'regressor__dual': True,\n",
       " 'regressor__epsilon': 0.0,\n",
       " 'regressor__fit_intercept': True,\n",
       " 'regressor__intercept_scaling': 1.0,\n",
       " 'regressor__loss': 'epsilon_insensitive',\n",
       " 'regressor__max_iter': 1000,\n",
       " 'regressor__random_state': None,\n",
       " 'regressor__tol': 0.0001,\n",
       " 'regressor__verbose': 0,\n",
       " 'regressor': LinearSVR(),\n",
       " 'transformer__atol': 1e-12,\n",
       " 'transformer__column_wise': False,\n",
       " 'transformer__copy': False,\n",
       " 'transformer__rtol': 0,\n",
       " 'transformer__with_mean': True,\n",
       " 'transformer__with_std': True,\n",
       " 'transformer': StandardFlexibleScaler()}"
      ]
     },
     "execution_count": 24,
     "metadata": {},
     "output_type": "execute_result"
    }
   ],
   "source": [
    "reg.get_params()"
   ]
  },
  {
   "cell_type": "code",
   "execution_count": 14,
   "id": "2b50110b-cf3f-4ce0-ac14-5dfeb1d05e40",
   "metadata": {
    "tags": []
   },
   "outputs": [],
   "source": [
    "class MyFlex(StandardFlexibleScaler):\n",
    "    def _validate_data(\n",
    "        self,\n",
    "        X=\"no_validation\",\n",
    "        y=\"no_validation\",\n",
    "        reset=True,\n",
    "        validate_separately=False,\n",
    "        **check_params,\n",
    "    ):\n",
    "        \"\"\"Validate input data and set or check the `n_features_in_` attribute.\n",
    "        Parameters\n",
    "        ----------\n",
    "        X : {array-like, sparse matrix, dataframe} of shape \\\n",
    "                (n_samples, n_features), default='no validation'\n",
    "            The input samples.\n",
    "            If `'no_validation'`, no validation is performed on `X`. This is\n",
    "            useful for meta-estimator which can delegate input validation to\n",
    "            their underlying estimator(s). In that case `y` must be passed and\n",
    "            the only accepted `check_params` are `multi_output` and\n",
    "            `y_numeric`.\n",
    "        y : array-like of shape (n_samples,), default='no_validation'\n",
    "            The targets.\n",
    "            - If `None`, `check_array` is called on `X`. If the estimator's\n",
    "              requires_y tag is True, then an error will be raised.\n",
    "            - If `'no_validation'`, `check_array` is called on `X` and the\n",
    "              estimator's requires_y tag is ignored. This is a default\n",
    "              placeholder and is never meant to be explicitly set. In that case\n",
    "              `X` must be passed.\n",
    "            - Otherwise, only `y` with `_check_y` or both `X` and `y` are\n",
    "              checked with either `check_array` or `check_X_y` depending on\n",
    "              `validate_separately`.\n",
    "        reset : bool, default=True\n",
    "            Whether to reset the `n_features_in_` attribute.\n",
    "            If False, the input will be checked for consistency with data\n",
    "            provided when reset was last True.\n",
    "            .. note::\n",
    "               It is recommended to call reset=True in `fit` and in the first\n",
    "               call to `partial_fit`. All other methods that validate `X`\n",
    "               should set `reset=False`.\n",
    "        validate_separately : False or tuple of dicts, default=False\n",
    "            Only used if y is not None.\n",
    "            If False, call validate_X_y(). Else, it must be a tuple of kwargs\n",
    "            to be used for calling check_array() on X and y respectively.\n",
    "        **check_params : kwargs\n",
    "            Parameters passed to :func:`sklearn.utils.check_array` or\n",
    "            :func:`sklearn.utils.check_X_y`. Ignored if validate_separately\n",
    "            is not False.\n",
    "        Returns\n",
    "        -------\n",
    "        out : {ndarray, sparse matrix} or tuple of these\n",
    "            The validated input. A tuple is returned if both `X` and `y` are\n",
    "            validated.\n",
    "        \"\"\"\n",
    "        self._check_feature_names(X, reset=reset)\n",
    "\n",
    "        if y is None and self._get_tags()[\"requires_y\"]:\n",
    "            raise ValueError(\n",
    "                f\"This {self.__class__.__name__} estimator \"\n",
    "                \"requires y to be passed, but the target y is None.\"\n",
    "            )\n",
    "\n",
    "        no_val_X = isinstance(X, str) and X == \"no_validation\"\n",
    "        no_val_y = y is None or isinstance(y, str) and y == \"no_validation\"\n",
    "\n",
    "        if no_val_X and no_val_y:\n",
    "            raise ValueError(\"Validation should be done on X, y or both.\")\n",
    "        elif not no_val_X and no_val_y:\n",
    "            X = check_array(X, **check_params)\n",
    "            out = X\n",
    "        elif no_val_X and not no_val_y:\n",
    "            y = _check_y(y, **check_params)\n",
    "            out = y\n",
    "        else:\n",
    "            if validate_separately:\n",
    "                # We need this because some estimators validate X and y\n",
    "                # separately, and in general, separately calling check_array()\n",
    "                # on X and y isn't equivalent to just calling check_X_y()\n",
    "                # :(\n",
    "                check_X_params, check_y_params = validate_separately\n",
    "                X = check_array(X, **check_X_params)\n",
    "                y = check_array(y, **check_y_params)\n",
    "            else:\n",
    "                X, y = check_X_y(X, y, **check_params)\n",
    "            out = X, y\n",
    "\n",
    "        if not no_val_X and check_params.get(\"ensure_2d\", True):\n",
    "            self._check_n_features(X, reset=reset)\n",
    "\n",
    "        return out"
   ]
  },
  {
   "cell_type": "code",
   "execution_count": null,
   "id": "e27abf02-d644-4989-9692-86af0db60853",
   "metadata": {},
   "outputs": [],
   "source": []
  },
  {
   "cell_type": "code",
   "execution_count": null,
   "id": "35264c1e-66c6-4739-bc35-b071707e2bed",
   "metadata": {},
   "outputs": [],
   "source": [
    "--- feature_gen time 1.4659466743469238 seconds ---\n",
    "--- cross_val time 3.2741000652313232 seconds ---\n",
    "--- feature_gen time 1.0049035549163818 seconds ---\n",
    "--- cross_val time 1.3749923706054688 seconds ---\n",
    "--- feature_gen time 0.6205904483795166 seconds ---\n",
    "--- cross_val time 4.839658498764038 seconds ---\n",
    "--- feature_gen time 1.286834955215454 seconds ---\n",
    "--- cross_val time 4.872981071472168 seconds ---\n",
    "--- feature_gen time 1.240980863571167 seconds ---\n",
    "--- cross_val time 4.9696455001831055 seconds ---\n",
    "--- feature_gen time 0.7608432769775391 seconds ---\n",
    "--- cross_val time 2.616834878921509 seconds ---\n",
    "--- feature_gen time 1.2775135040283203 seconds ---\n",
    "--- cross_val time 4.769025802612305 seconds ---\n",
    "--- feature_gen time 0.8656597137451172 seconds ---\n",
    "--- cross_val time 1.5502421855926514 seconds ---\n",
    "--- feature_gen time 0.9591543674468994 seconds ---\n",
    "--- cross_val time 1.8793525695800781 seconds ---\n",
    "--- feature_gen time 0.6200380325317383 seconds ---\n",
    "--- cross_val time 1.605391025543213 seconds ---\n",
    "--- 10 steps took 42.09602952003479 seconds ---\n",
    "\n"
   ]
  },
  {
   "cell_type": "code",
   "execution_count": 20,
   "id": "879002e5-5d8b-4b54-a6e3-5c03f484f07f",
   "metadata": {},
   "outputs": [
    {
     "name": "stdout",
     "output_type": "stream",
     "text": [
      "\n",
      "PackageNotInstalledError: Package is not installed in prefix.\n",
      "  prefix: /ssd/scratch/kellner/miniconda3\n",
      "  package name: scikit-learn\n",
      "\n",
      "\n"
     ]
    }
   ],
   "source": [
    "!conda update scikit-learn"
   ]
  },
  {
   "cell_type": "code",
   "execution_count": null,
   "id": "301ebd53-a923-4c98-9f5a-d1689b4e7174",
   "metadata": {},
   "outputs": [],
   "source": []
  },
  {
   "cell_type": "markdown",
   "id": "30b1f472-fb93-4ee9-a3f5-ddb32ca57d29",
   "metadata": {
    "tags": []
   },
   "source": [
    "#time fit n_-1, n_cores=1 = 400 seconds\n",
    "#time fit n_-1, n_cores=8 = 342 seconds\n",
    "#time fit n_-1, n_cores=8, njobs=-1 =338 seconds\n",
    "\n",
    "--- feature_gen time 55.961002826690674 seconds ---\n",
    "--- cross_val time 272.33899450302124 seconds ---\n",
    "--- feature_gen time 39.429200172424316 seconds ---\n",
    "--- cross_val time 271.1294071674347 seconds ---\n",
    "--- feature_gen time 54.26414370536804 seconds ---\n",
    "--- cross_val time 272.70380902290344 seconds ---\n",
    "--- feature_gen time 40.761064291000366 seconds ---\n",
    "--- cross_val time 269.0713834762573 seconds ---\n",
    "--- feature_gen time 37.434038400650024 seconds ---\n",
    "--- cross_val time 272.76407980918884 seconds ---\n",
    "--- feature_gen time 43.45965504646301 seconds ---\n"
   ]
  },
  {
   "cell_type": "code",
   "execution_count": 11,
   "id": "2467d332-1e33-4895-8ed7-44129078bf37",
   "metadata": {},
   "outputs": [
    {
     "data": {
      "text/plain": [
       "[[0.5530405118212187,\n",
       "  3.1885314971620353,\n",
       "  7.360755279302406,\n",
       "  0.42515335200422155],\n",
       " [0.9738892550769331,\n",
       "  2.2687634145853997,\n",
       "  4.838905729450126,\n",
       "  0.037789358885547165],\n",
       " [0.0015179251497629848,\n",
       "  2.4553302346427,\n",
       "  7.154759279489721,\n",
       "  0.24518881446377816],\n",
       " [0.013876449797222516,\n",
       "  3.1721575270747557,\n",
       "  5.018282721877708,\n",
       "  0.3276042173050867],\n",
       " [0.008829422902952801,\n",
       "  3.414310317906093,\n",
       "  4.131578511856903,\n",
       "  0.43634275659563393],\n",
       " [0.06149847721451149,\n",
       "  3.1018215039592887,\n",
       "  5.842148657980422,\n",
       "  0.3426509697582906],\n",
       " [5.821853031748781,\n",
       "  2.6640395841502142,\n",
       "  5.918179532520549,\n",
       "  0.38172165591795515],\n",
       " [7.034947447310314e-05,\n",
       "  2.4472008386933153,\n",
       "  4.33849554497042,\n",
       "  0.37108990679318954],\n",
       " [0.0005400112846473881,\n",
       "  1.7704363468109041,\n",
       "  4.958634535069463,\n",
       "  0.08334068492000477],\n",
       " [0.0006005803324615732,\n",
       "  2.272977962251724,\n",
       "  7.561693139882322,\n",
       "  0.23047549505650158]]"
      ]
     },
     "execution_count": 11,
     "metadata": {},
     "output_type": "execute_result"
    }
   ],
   "source": [
    "res_gp.x_iters"
   ]
  },
  {
   "cell_type": "code",
   "execution_count": 11,
   "id": "b5480f1f-895d-4bd1-b37b-bbe75d2d3969",
   "metadata": {
    "tags": []
   },
   "outputs": [
    {
     "data": {
      "text/plain": [
       "<AxesSubplot:title={'center':'Convergence plot'}, xlabel='Number of calls $n$', ylabel='$\\\\min f(x)$ after $n$ calls'>"
      ]
     },
     "execution_count": 11,
     "metadata": {},
     "output_type": "execute_result"
    },
    {
     "data": {
      "image/png": "[encoded data removed]",
      "text/plain": [
       "<Figure size 432x288 with 1 Axes>"
      ]
     },
     "metadata": {
      "needs_background": "light"
     },
     "output_type": "display_data"
    }
   ],
   "source": [
    "from skopt.plots import plot_convergence\n",
    "\n",
    "plot_convergence(res_gp)"
   ]
  },
  {
   "cell_type": "code",
   "execution_count": 8,
   "id": "f3bf689a-4eb0-4bc2-9a88-a816ecc24ac1",
   "metadata": {},
   "outputs": [],
   "source": [
    "from skopt import dump, load"
   ]
  },
  {
   "cell_type": "code",
   "execution_count": 7,
   "id": "a0a80937-cbad-45fd-aa59-0c47bcae3b28",
   "metadata": {},
   "outputs": [],
   "source": [
    "dump(res_gp, \"1H_opt_RR\")"
   ]
  },
  {
   "cell_type": "code",
   "execution_count": 9,
   "id": "5d48b812-82e2-46f7-841f-88d37c7e781c",
   "metadata": {},
   "outputs": [],
   "source": [
    "my_res = load(\"1H_opt_RR\")"
   ]
  },
  {
   "cell_type": "code",
   "execution_count": 10,
   "id": "88768de3-2e8e-4f9a-be54-f27a9c9911bd",
   "metadata": {},
   "outputs": [
    {
     "data": {
      "text/plain": [
       "[0.0015179251497629848,\n",
       " 2.4553302346427,\n",
       " 7.154759279489721,\n",
       " 0.24518881446377816]"
      ]
     },
     "execution_count": 10,
     "metadata": {},
     "output_type": "execute_result"
    }
   ],
   "source": [
    "my_res.x"
   ]
  },
  {
   "cell_type": "code",
   "execution_count": null,
   "id": "0b789234-47f0-452a-a970-d58f42de5af9",
   "metadata": {},
   "outputs": [],
   "source": []
  },
  {
   "cell_type": "code",
   "execution_count": 18,
   "id": "4fe63879-dbb5-45ac-a05e-8a0bba9f4765",
   "metadata": {},
   "outputs": [
    {
     "data": {
      "text/plain": [
       "<AxesSubplot:title={'center':'Convergence plot'}, xlabel='Number of calls $n$', ylabel='$\\\\min f(x)$ after $n$ calls'>"
      ]
     },
     "execution_count": 18,
     "metadata": {},
     "output_type": "execute_result"
    },
    {
     "data": {
      "image/png": "[encoded data removed]",
      "text/plain": [
       "<Figure size 432x288 with 1 Axes>"
      ]
     },
     "metadata": {
      "needs_background": "light"
     },
     "output_type": "display_data"
    }
   ],
   "source": [
    "plot_convergence(my_res)"
   ]
  },
  {
   "cell_type": "code",
   "execution_count": null,
   "id": "34d2f0a6-7015-4c4a-a897-8436ea9dfebf",
   "metadata": {},
   "outputs": [],
   "source": []
  }
 ],
 "metadata": {
  "kernelspec": {
   "display_name": "Python [conda env:root] *",
   "language": "python",
   "name": "conda-root-py"
  },
  "language_info": {
   "codemirror_mode": {
    "name": "ipython",
    "version": 3
   },
   "file_extension": ".py",
   "mimetype": "text/x-python",
   "name": "python",
   "nbconvert_exporter": "python",
   "pygments_lexer": "ipython3",
   "version": "3.8.10"
  }
 },
 "nbformat": 4,
 "nbformat_minor": 5
}
