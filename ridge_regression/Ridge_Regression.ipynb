{
 "cells": [
  {
   "cell_type": "code",
   "execution_count": 12,
   "id": "99d71f40-8915-429b-88e9-c79d292587dc",
   "metadata": {},
   "outputs": [],
   "source": [
    "%config IPCompleter.use_jedi = False"
   ]
  },
  {
   "cell_type": "code",
   "execution_count": 13,
   "id": "4c8ef3bf-d856-4aa9-b9b9-e011bc586d86",
   "metadata": {},
   "outputs": [],
   "source": [
    "from loader import load_data\n",
    "import numpy as np\n",
    "from sklearn.linear_model import RidgeCV\n",
    "from rascal.representations import SphericalInvariants as SOAP\n",
    "from rascal.utils import get_optimal_radial_basis_hypers\n",
    "from rascal.neighbourlist.structure_manager import mask_center_atoms_by_id"
   ]
  },
  {
   "cell_type": "code",
   "execution_count": 14,
   "id": "6df25aa5-a033-470f-a244-acbedfc88682",
   "metadata": {},
   "outputs": [],
   "source": [
    "train_structures, test_structures, train_properties, test_properties = load_data(\"../make_tensor_data/train_tensor/CSD-3k+S546_shift_tensors.xyz\",\\\n",
    "                                                                                    \"../make_tensor_data/test_tensor/CSD-500+104-7_shift_tensors.xyz\",selected_species=1,random_subsample_train=200,random_subsample_test=200)"
   ]
  },
  {
   "cell_type": "code",
   "execution_count": 15,
   "id": "3b263c85-d4c7-40c5-9578-c022145858ea",
   "metadata": {},
   "outputs": [
    {
     "data": {
      "text/plain": [
       "(array([ 4,  5,  6,  7, 24, 25, 26, 27, 32, 33, 34, 35, 44, 45, 46, 47]),)"
      ]
     },
     "execution_count": 15,
     "metadata": {},
     "output_type": "execute_result"
    }
   ],
   "source": [
    "train_structures[0].arrays[\"center_atoms_mask\"].nonzero()"
   ]
  },
  {
   "cell_type": "code",
   "execution_count": 16,
   "id": "28e45305-d1b0-4234-b554-0bed4951120f",
   "metadata": {},
   "outputs": [
    {
     "data": {
      "text/plain": [
       "array([8, 8, 8, 8, 1, 1, 1, 1, 8, 8, 8, 8, 6, 6, 6, 6, 6, 6, 6, 6, 8, 8,\n",
       "       8, 8, 1, 1, 1, 1, 8, 8, 8, 8, 1, 1, 1, 1, 6, 6, 6, 6, 8, 8, 8, 8,\n",
       "       1, 1, 1, 1, 8, 8, 8, 8])"
      ]
     },
     "execution_count": 16,
     "metadata": {},
     "output_type": "execute_result"
    }
   ],
   "source": [
    "train_structures[0].get_atomic_numbers()"
   ]
  },
  {
   "cell_type": "code",
   "execution_count": 17,
   "id": "c83a8084-4b9a-40d6-898c-17b6070b09a6",
   "metadata": {
    "tags": []
   },
   "outputs": [],
   "source": [
    "\n",
    "def generate_atom_features(frames):\n",
    "    \n",
    "    atom_features = []\n",
    "    count = 0\n",
    "    \n",
    "    for frame in train_structures:\n",
    "        for masked in frame.arrays[\"center_atoms_mask\"].nonzero()[0]:\n",
    "            new_masked = frame.copy()\n",
    "            new_masked.arrays.pop(\"center_atoms_mask\")\n",
    "            #print(type(masked))\n",
    "            mask_center_atoms_by_id(new_masked, id_select=[masked])\n",
    "            atom_features.append([new_masked,count])\n",
    "            count += 1\n",
    "            \n",
    "    return np.array(atom_features)\n",
    "        "
   ]
  },
  {
   "cell_type": "code",
   "execution_count": 18,
   "id": "fe147bc5-d623-460a-8b43-5a2054467889",
   "metadata": {},
   "outputs": [
    {
     "data": {
      "text/plain": [
       "dtype('O')"
      ]
     },
     "execution_count": 18,
     "metadata": {},
     "output_type": "execute_result"
    }
   ],
   "source": [
    "generate_atom_features(train_structures)[:,1].dtype"
   ]
  },
  {
   "cell_type": "code",
   "execution_count": 19,
   "id": "100eb2cc-eeea-4141-9b5e-e9b7495e38b4",
   "metadata": {},
   "outputs": [],
   "source": [
    "from sklearn.base import BaseEstimator\n",
    "from sklearn.linear_model import LinearRegression, Ridge\n",
    "from sklearn import logging\n",
    "from copy import deepcopy"
   ]
  },
  {
   "cell_type": "code",
   "execution_count": 20,
   "id": "fe430166-abd4-4e14-a91a-675765d22e64",
   "metadata": {},
   "outputs": [],
   "source": [
    "import inspect"
   ]
  },
  {
   "cell_type": "code",
   "execution_count": 48,
   "id": "8298360c-ffc6-46e7-9dd1-22cd84978cd2",
   "metadata": {
    "tags": []
   },
   "outputs": [],
   "source": [
    "class SOAPEstimator(BaseEstimator):\n",
    "    \"\"\"\"\"\"\n",
    "    def __init__(self, structures, calculator_params, calculator=SOAP, X=(None,None), est_class=Ridge, **kwargs):\n",
    "\n",
    "        self.est_class = est_class\n",
    "        self.calculator = calculator\n",
    "        self.structures = structures\n",
    "        self.X = X\n",
    "        self.calculator_params = calculator_params\n",
    "\n",
    "        # kwargs depend on the model\n",
    "        for key, value in kwargs.items():\n",
    "            setattr(self, key, value)\n",
    "            \n",
    "        #calculator params depend on calculator used\n",
    "        for key,value in calculator_params.items():\n",
    "            setattr(self, key, value)\n",
    "\n",
    "        # these attributes support the logging functionality\n",
    "        self.param_names = ['est_class','calculator','structures','X','calculator_params'] + list(kwargs.keys()) #+ list(calculator_params.keys())\n",
    "        \n",
    "        #print(\"\")\n",
    "        #print(self.X[0])\n",
    "        \n",
    "\n",
    "    # in the transformer case, we did not implement get_params\n",
    "    # nor set_params since we inherited them from BaseEstimator\n",
    "    # but such implementation will not work here due to the **kwargs\n",
    "    # in the constructor, so we implemented it\n",
    "    \n",
    "    def fit(self,X_indices,y,**kwargs):\n",
    "\n",
    "        #print(\"I fit\")\n",
    "        print(self.X[1])\n",
    "        \n",
    "        if self.X[0] is None:\n",
    "            print(\"calculation\")\n",
    "            calculator = self.calculator(**self.calculator_params)\n",
    "            self.X = tuple([calculator.transform(self.structures).get_features(calculator), deepcopy(self.calculator_params)])  #deepcopy\n",
    "        \n",
    "        else:\n",
    "            #print(\"data already in store\")\n",
    "            if self.X[1] == self.calculator_params:\n",
    "                #print(self.X[1])\n",
    "                #print(\"equal hyperparameters\")\n",
    "                print(\"\")\n",
    "            else:\n",
    "                print(\"calculation\")\n",
    "                calculator = self.calculator(**self.calculator_params)\n",
    "                self.X = tuple([calculator.transform(self.structures).get_features(calculator), deepcopy(self.calculator_params)]) #deepcopy\n",
    "\n",
    "        \n",
    "        \n",
    "        est_kwargs = self.get_params() #deepcopy\n",
    "        #print(kwargs[\"alpha\"])\n",
    "        \n",
    "        for key in ['est_class','calculator','structures','X','calculator_params']:\n",
    "            del est_kwargs[key]\n",
    "        \n",
    "        for key in self.calculator_params:\n",
    "             est_kwargs.pop(key, None)\n",
    "        \n",
    "        self.model_ = self.est_class(**est_kwargs)\n",
    "       \n",
    "        X = self.X[0][X_indices]\n",
    "        \n",
    "        \n",
    "        # this is not ideal because sample weights can not be passed, and not a general\n",
    "        #sample_weights = est_kwargs.pop(key, None)\n",
    "        \n",
    "        self.model_.fit(X, y)\n",
    "        # fit must return self\n",
    "        return self\n",
    "    \n",
    "    def _get_features(self):\n",
    "        return self.X[1]\n",
    "    \n",
    "    def _get_paramdicts(self):\n",
    "        return self.X[1], self.calculator_params\n",
    "    \n",
    "    def score(self, X_indices, y, **kwargs):\n",
    "        X = self.X[0][X_indices]\n",
    "        score = self.model_.score(X, y, **kwargs)\n",
    "        #print(score)\n",
    "        return score\n",
    "    \n",
    "    def get_params(self, deep=True):\n",
    "        # Note: we are ignoring the deep parameter\n",
    "        # this will not work with estimators that have sub-estimators\n",
    "        # see https://scikit-learn.org/stable/developers/develop.html#get-params-and-set-params\n",
    "        \n",
    "        \"\"\"additional = {\"calculator\":self.calculator, \"est_class\":self.est_class,\n",
    "                        \"structures\":self.structures, \"X\":self.X,\"calculator_params\":self.calculator_params}\"\"\"\n",
    "        #**additional,\n",
    "        return {**{param: getattr(self, param)\n",
    "                for param in self.param_names}}\n",
    "\n",
    "    def set_params(self, **parameters):\n",
    "        \n",
    "        #print(\"I fit\")\n",
    "        #\"print(self.X[0])\"\n",
    "        \n",
    "        \n",
    "        for parameter, value in parameters.items():\n",
    "            #print(\"parameter: {}, value: {}\".format(parameter,value))\"\n",
    "            if parameter in self.calculator_params:\n",
    "                self.calculator_params[parameter] = value\n",
    "                print(\"I update my self.calculator_params\")\n",
    "            setattr(self, parameter, value)\n",
    "            self.param_names.append(parameter)\n",
    "            print(self.calculator_params[\"max_angular\"])\n",
    "        return self   \n",
    "    \n",
    "    \"\"\"def __getattr__(self, key):\n",
    "        if key != 'model_':\n",
    "            if hasattr(self, 'model_'):\n",
    "                return getattr(self.model_, key)\n",
    "            else:\n",
    "                return getattr(self.est_class_, key)\n",
    "        else:\n",
    "            raise AttributeError(\n",
    "                \"'{}' object has no attribute 'model_'\".format(type(self).__name__))\"\"\""
   ]
  },
  {
   "cell_type": "code",
   "execution_count": 34,
   "id": "c6371e57-9505-497b-b039-ba8efc57076f",
   "metadata": {},
   "outputs": [],
   "source": [
    "from skopt.space import Real, Integer\n",
    "from skopt.utils import use_named_args\n",
    "from skopt import gp_minimize"
   ]
  },
  {
   "cell_type": "code",
   "execution_count": 272,
   "id": "5081f4ba-4013-4f6d-8d59-e3a273188d19",
   "metadata": {},
   "outputs": [
    {
     "name": "stdout",
     "output_type": "stream",
     "text": [
      "Collecting scikit-optimize\n",
      "  Downloading scikit_optimize-0.9.0-py2.py3-none-any.whl (100 kB)\n",
      "\u001b[K     |████████████████████████████████| 100 kB 3.2 MB/s ta 0:00:011\n",
      "\u001b[?25hCollecting pyaml>=16.9\n",
      "  Downloading pyaml-21.10.1-py2.py3-none-any.whl (24 kB)\n",
      "Requirement already satisfied: joblib>=0.11 in /ssd/scratch/kellner/miniconda3/lib/python3.8/site-packages (from scikit-optimize) (1.1.0)\n",
      "Requirement already satisfied: numpy>=1.13.3 in /ssd/scratch/kellner/miniconda3/lib/python3.8/site-packages (from scikit-optimize) (1.17.5)\n",
      "Requirement already satisfied: scikit-learn>=0.20.0 in /ssd/scratch/kellner/miniconda3/lib/python3.8/site-packages (from scikit-optimize) (0.22.2.post1)\n",
      "Requirement already satisfied: scipy>=0.19.1 in /ssd/scratch/kellner/miniconda3/lib/python3.8/site-packages (from scikit-optimize) (1.3.3)\n",
      "Collecting PyYAML\n",
      "  Downloading PyYAML-6.0-cp38-cp38-manylinux_2_5_x86_64.manylinux1_x86_64.manylinux_2_12_x86_64.manylinux2010_x86_64.whl (701 kB)\n",
      "\u001b[K     |████████████████████████████████| 701 kB 20.4 MB/s eta 0:00:01\n",
      "\u001b[?25hInstalling collected packages: PyYAML, pyaml, scikit-optimize\n",
      "Successfully installed PyYAML-6.0 pyaml-21.10.1 scikit-optimize-0.9.0\n",
      "\u001b[33mWARNING: You are using pip version 20.3.4; however, version 22.0.3 is available.\n",
      "You should consider upgrading via the '/ssd/scratch/kellner/miniconda3/bin/python -m pip install --upgrade pip' command.\u001b[0m\n",
      "Note: you may need to restart the kernel to use updated packages.\n"
     ]
    }
   ],
   "source": []
  },
  {
   "cell_type": "code",
   "execution_count": 54,
   "id": "74538558-e1eb-49a7-8156-aa479d7ad42d",
   "metadata": {
    "collapsed": true,
    "jupyter": {
     "outputs_hidden": true
    },
    "tags": []
   },
   "outputs": [
    {
     "name": "stdout",
     "output_type": "stream",
     "text": [
      "None\n",
      "calculation\n",
      "3\n",
      "I update my self.calculator_params\n",
      "2\n",
      "{'soap_type': 'PowerSpectrum', 'interaction_cutoff': 3.0, 'max_radial': 3, 'max_angular': 3, 'gaussian_sigma_constant': 0.3, 'gaussian_sigma_type': 'Constant', 'radial_basis': 'GTO', 'normalize': True, 'cutoff_smooth_width': 0.3, 'optimization': {'Spline': {'accuracy': 1e-05}}, 'compute_gradients': False}\n",
      "calculation\n",
      "3\n",
      "I update my self.calculator_params\n",
      "2\n",
      "{'soap_type': 'PowerSpectrum', 'interaction_cutoff': 3.0, 'max_radial': 3, 'max_angular': 3, 'gaussian_sigma_constant': 0.3, 'gaussian_sigma_type': 'Constant', 'radial_basis': 'GTO', 'normalize': True, 'cutoff_smooth_width': 0.3, 'optimization': {'Spline': {'accuracy': 1e-05}}, 'compute_gradients': False}\n",
      "calculation\n",
      "3\n",
      "I update my self.calculator_params\n",
      "2\n",
      "{'soap_type': 'PowerSpectrum', 'interaction_cutoff': 3.0, 'max_radial': 3, 'max_angular': 3, 'gaussian_sigma_constant': 0.3, 'gaussian_sigma_type': 'Constant', 'radial_basis': 'GTO', 'normalize': True, 'cutoff_smooth_width': 0.3, 'optimization': {'Spline': {'accuracy': 1e-05}}, 'compute_gradients': False}\n",
      "calculation\n",
      "3\n",
      "I update my self.calculator_params\n",
      "3\n",
      "{'soap_type': 'PowerSpectrum', 'interaction_cutoff': 3.0, 'max_radial': 3, 'max_angular': 3, 'gaussian_sigma_constant': 0.3, 'gaussian_sigma_type': 'Constant', 'radial_basis': 'GTO', 'normalize': True, 'cutoff_smooth_width': 0.3, 'optimization': {'Spline': {'accuracy': 1e-05}}, 'compute_gradients': False}\n",
      "\n",
      "3\n",
      "I update my self.calculator_params\n",
      "3\n",
      "{'soap_type': 'PowerSpectrum', 'interaction_cutoff': 3.0, 'max_radial': 3, 'max_angular': 3, 'gaussian_sigma_constant': 0.3, 'gaussian_sigma_type': 'Constant', 'radial_basis': 'GTO', 'normalize': True, 'cutoff_smooth_width': 0.3, 'optimization': {'Spline': {'accuracy': 1e-05}}, 'compute_gradients': False}\n",
      "\n",
      "3\n",
      "I update my self.calculator_params\n",
      "3\n",
      "{'soap_type': 'PowerSpectrum', 'interaction_cutoff': 3.0, 'max_radial': 3, 'max_angular': 3, 'gaussian_sigma_constant': 0.3, 'gaussian_sigma_type': 'Constant', 'radial_basis': 'GTO', 'normalize': True, 'cutoff_smooth_width': 0.3, 'optimization': {'Spline': {'accuracy': 1e-05}}, 'compute_gradients': False}\n",
      "\n",
      "3\n",
      "I update my self.calculator_params\n",
      "4\n",
      "{'soap_type': 'PowerSpectrum', 'interaction_cutoff': 3.0, 'max_radial': 3, 'max_angular': 3, 'gaussian_sigma_constant': 0.3, 'gaussian_sigma_type': 'Constant', 'radial_basis': 'GTO', 'normalize': True, 'cutoff_smooth_width': 0.3, 'optimization': {'Spline': {'accuracy': 1e-05}}, 'compute_gradients': False}\n",
      "calculation\n",
      "3\n",
      "I update my self.calculator_params\n",
      "4\n",
      "{'soap_type': 'PowerSpectrum', 'interaction_cutoff': 3.0, 'max_radial': 3, 'max_angular': 3, 'gaussian_sigma_constant': 0.3, 'gaussian_sigma_type': 'Constant', 'radial_basis': 'GTO', 'normalize': True, 'cutoff_smooth_width': 0.3, 'optimization': {'Spline': {'accuracy': 1e-05}}, 'compute_gradients': False}\n",
      "calculation\n",
      "3\n",
      "I update my self.calculator_params\n",
      "4\n",
      "{'soap_type': 'PowerSpectrum', 'interaction_cutoff': 3.0, 'max_radial': 3, 'max_angular': 3, 'gaussian_sigma_constant': 0.3, 'gaussian_sigma_type': 'Constant', 'radial_basis': 'GTO', 'normalize': True, 'cutoff_smooth_width': 0.3, 'optimization': {'Spline': {'accuracy': 1e-05}}, 'compute_gradients': False}\n",
      "calculation\n",
      "3\n",
      "I update my self.calculator_params\n",
      "5\n",
      "{'soap_type': 'PowerSpectrum', 'interaction_cutoff': 3.0, 'max_radial': 3, 'max_angular': 3, 'gaussian_sigma_constant': 0.3, 'gaussian_sigma_type': 'Constant', 'radial_basis': 'GTO', 'normalize': True, 'cutoff_smooth_width': 0.3, 'optimization': {'Spline': {'accuracy': 1e-05}}, 'compute_gradients': False}\n",
      "calculation\n",
      "3\n",
      "I update my self.calculator_params\n",
      "5\n",
      "{'soap_type': 'PowerSpectrum', 'interaction_cutoff': 3.0, 'max_radial': 3, 'max_angular': 3, 'gaussian_sigma_constant': 0.3, 'gaussian_sigma_type': 'Constant', 'radial_basis': 'GTO', 'normalize': True, 'cutoff_smooth_width': 0.3, 'optimization': {'Spline': {'accuracy': 1e-05}}, 'compute_gradients': False}\n",
      "calculation\n",
      "3\n",
      "I update my self.calculator_params\n",
      "5\n",
      "{'soap_type': 'PowerSpectrum', 'interaction_cutoff': 3.0, 'max_radial': 3, 'max_angular': 3, 'gaussian_sigma_constant': 0.3, 'gaussian_sigma_type': 'Constant', 'radial_basis': 'GTO', 'normalize': True, 'cutoff_smooth_width': 0.3, 'optimization': {'Spline': {'accuracy': 1e-05}}, 'compute_gradients': False}\n",
      "calculation\n",
      "3\n",
      "I update my self.calculator_params\n",
      "2\n",
      "{'soap_type': 'PowerSpectrum', 'interaction_cutoff': 3.0, 'max_radial': 3, 'max_angular': 3, 'gaussian_sigma_constant': 0.3, 'gaussian_sigma_type': 'Constant', 'radial_basis': 'GTO', 'normalize': True, 'cutoff_smooth_width': 0.3, 'optimization': {'Spline': {'accuracy': 1e-05}}, 'compute_gradients': False}\n",
      "calculation\n",
      "3\n",
      "I update my self.calculator_params\n",
      "2\n",
      "{'soap_type': 'PowerSpectrum', 'interaction_cutoff': 3.0, 'max_radial': 3, 'max_angular': 3, 'gaussian_sigma_constant': 0.3, 'gaussian_sigma_type': 'Constant', 'radial_basis': 'GTO', 'normalize': True, 'cutoff_smooth_width': 0.3, 'optimization': {'Spline': {'accuracy': 1e-05}}, 'compute_gradients': False}\n",
      "calculation\n",
      "3\n",
      "I update my self.calculator_params\n",
      "2\n",
      "{'soap_type': 'PowerSpectrum', 'interaction_cutoff': 3.0, 'max_radial': 3, 'max_angular': 3, 'gaussian_sigma_constant': 0.3, 'gaussian_sigma_type': 'Constant', 'radial_basis': 'GTO', 'normalize': True, 'cutoff_smooth_width': 0.3, 'optimization': {'Spline': {'accuracy': 1e-05}}, 'compute_gradients': False}\n",
      "calculation\n",
      "3\n",
      "I update my self.calculator_params\n",
      "3\n",
      "{'soap_type': 'PowerSpectrum', 'interaction_cutoff': 3.0, 'max_radial': 3, 'max_angular': 3, 'gaussian_sigma_constant': 0.3, 'gaussian_sigma_type': 'Constant', 'radial_basis': 'GTO', 'normalize': True, 'cutoff_smooth_width': 0.3, 'optimization': {'Spline': {'accuracy': 1e-05}}, 'compute_gradients': False}\n",
      "\n",
      "3\n",
      "I update my self.calculator_params\n",
      "3\n",
      "{'soap_type': 'PowerSpectrum', 'interaction_cutoff': 3.0, 'max_radial': 3, 'max_angular': 3, 'gaussian_sigma_constant': 0.3, 'gaussian_sigma_type': 'Constant', 'radial_basis': 'GTO', 'normalize': True, 'cutoff_smooth_width': 0.3, 'optimization': {'Spline': {'accuracy': 1e-05}}, 'compute_gradients': False}\n",
      "\n",
      "3\n",
      "I update my self.calculator_params\n",
      "3\n",
      "{'soap_type': 'PowerSpectrum', 'interaction_cutoff': 3.0, 'max_radial': 3, 'max_angular': 3, 'gaussian_sigma_constant': 0.3, 'gaussian_sigma_type': 'Constant', 'radial_basis': 'GTO', 'normalize': True, 'cutoff_smooth_width': 0.3, 'optimization': {'Spline': {'accuracy': 1e-05}}, 'compute_gradients': False}\n",
      "\n",
      "3\n",
      "I update my self.calculator_params\n",
      "4\n",
      "{'soap_type': 'PowerSpectrum', 'interaction_cutoff': 3.0, 'max_radial': 3, 'max_angular': 3, 'gaussian_sigma_constant': 0.3, 'gaussian_sigma_type': 'Constant', 'radial_basis': 'GTO', 'normalize': True, 'cutoff_smooth_width': 0.3, 'optimization': {'Spline': {'accuracy': 1e-05}}, 'compute_gradients': False}\n",
      "calculation\n",
      "3\n",
      "I update my self.calculator_params\n",
      "4\n",
      "{'soap_type': 'PowerSpectrum', 'interaction_cutoff': 3.0, 'max_radial': 3, 'max_angular': 3, 'gaussian_sigma_constant': 0.3, 'gaussian_sigma_type': 'Constant', 'radial_basis': 'GTO', 'normalize': True, 'cutoff_smooth_width': 0.3, 'optimization': {'Spline': {'accuracy': 1e-05}}, 'compute_gradients': False}\n",
      "calculation\n",
      "3\n",
      "I update my self.calculator_params\n",
      "4\n",
      "{'soap_type': 'PowerSpectrum', 'interaction_cutoff': 3.0, 'max_radial': 3, 'max_angular': 3, 'gaussian_sigma_constant': 0.3, 'gaussian_sigma_type': 'Constant', 'radial_basis': 'GTO', 'normalize': True, 'cutoff_smooth_width': 0.3, 'optimization': {'Spline': {'accuracy': 1e-05}}, 'compute_gradients': False}\n",
      "calculation\n",
      "3\n",
      "I update my self.calculator_params\n",
      "5\n",
      "{'soap_type': 'PowerSpectrum', 'interaction_cutoff': 3.0, 'max_radial': 3, 'max_angular': 3, 'gaussian_sigma_constant': 0.3, 'gaussian_sigma_type': 'Constant', 'radial_basis': 'GTO', 'normalize': True, 'cutoff_smooth_width': 0.3, 'optimization': {'Spline': {'accuracy': 1e-05}}, 'compute_gradients': False}\n",
      "calculation\n",
      "3\n",
      "I update my self.calculator_params\n",
      "5\n",
      "{'soap_type': 'PowerSpectrum', 'interaction_cutoff': 3.0, 'max_radial': 3, 'max_angular': 3, 'gaussian_sigma_constant': 0.3, 'gaussian_sigma_type': 'Constant', 'radial_basis': 'GTO', 'normalize': True, 'cutoff_smooth_width': 0.3, 'optimization': {'Spline': {'accuracy': 1e-05}}, 'compute_gradients': False}\n",
      "calculation\n",
      "3\n",
      "I update my self.calculator_params\n",
      "5\n",
      "{'soap_type': 'PowerSpectrum', 'interaction_cutoff': 3.0, 'max_radial': 3, 'max_angular': 3, 'gaussian_sigma_constant': 0.3, 'gaussian_sigma_type': 'Constant', 'radial_basis': 'GTO', 'normalize': True, 'cutoff_smooth_width': 0.3, 'optimization': {'Spline': {'accuracy': 1e-05}}, 'compute_gradients': False}\n",
      "calculation\n",
      "3\n",
      "I update my self.calculator_params\n",
      "2\n",
      "{'soap_type': 'PowerSpectrum', 'interaction_cutoff': 3.0, 'max_radial': 3, 'max_angular': 3, 'gaussian_sigma_constant': 0.3, 'gaussian_sigma_type': 'Constant', 'radial_basis': 'GTO', 'normalize': True, 'cutoff_smooth_width': 0.3, 'optimization': {'Spline': {'accuracy': 1e-05}}, 'compute_gradients': False}\n",
      "calculation\n",
      "3\n",
      "I update my self.calculator_params\n",
      "2\n",
      "{'soap_type': 'PowerSpectrum', 'interaction_cutoff': 3.0, 'max_radial': 3, 'max_angular': 3, 'gaussian_sigma_constant': 0.3, 'gaussian_sigma_type': 'Constant', 'radial_basis': 'GTO', 'normalize': True, 'cutoff_smooth_width': 0.3, 'optimization': {'Spline': {'accuracy': 1e-05}}, 'compute_gradients': False}\n",
      "calculation\n",
      "3\n",
      "I update my self.calculator_params\n",
      "2\n",
      "{'soap_type': 'PowerSpectrum', 'interaction_cutoff': 3.0, 'max_radial': 3, 'max_angular': 3, 'gaussian_sigma_constant': 0.3, 'gaussian_sigma_type': 'Constant', 'radial_basis': 'GTO', 'normalize': True, 'cutoff_smooth_width': 0.3, 'optimization': {'Spline': {'accuracy': 1e-05}}, 'compute_gradients': False}\n",
      "calculation\n",
      "3\n",
      "I update my self.calculator_params\n",
      "3\n",
      "{'soap_type': 'PowerSpectrum', 'interaction_cutoff': 3.0, 'max_radial': 3, 'max_angular': 3, 'gaussian_sigma_constant': 0.3, 'gaussian_sigma_type': 'Constant', 'radial_basis': 'GTO', 'normalize': True, 'cutoff_smooth_width': 0.3, 'optimization': {'Spline': {'accuracy': 1e-05}}, 'compute_gradients': False}\n",
      "\n",
      "3\n",
      "I update my self.calculator_params\n",
      "3\n",
      "{'soap_type': 'PowerSpectrum', 'interaction_cutoff': 3.0, 'max_radial': 3, 'max_angular': 3, 'gaussian_sigma_constant': 0.3, 'gaussian_sigma_type': 'Constant', 'radial_basis': 'GTO', 'normalize': True, 'cutoff_smooth_width': 0.3, 'optimization': {'Spline': {'accuracy': 1e-05}}, 'compute_gradients': False}\n",
      "\n",
      "3\n",
      "I update my self.calculator_params\n",
      "3\n",
      "{'soap_type': 'PowerSpectrum', 'interaction_cutoff': 3.0, 'max_radial': 3, 'max_angular': 3, 'gaussian_sigma_constant': 0.3, 'gaussian_sigma_type': 'Constant', 'radial_basis': 'GTO', 'normalize': True, 'cutoff_smooth_width': 0.3, 'optimization': {'Spline': {'accuracy': 1e-05}}, 'compute_gradients': False}\n",
      "\n",
      "3\n",
      "I update my self.calculator_params\n",
      "4\n",
      "{'soap_type': 'PowerSpectrum', 'interaction_cutoff': 3.0, 'max_radial': 3, 'max_angular': 3, 'gaussian_sigma_constant': 0.3, 'gaussian_sigma_type': 'Constant', 'radial_basis': 'GTO', 'normalize': True, 'cutoff_smooth_width': 0.3, 'optimization': {'Spline': {'accuracy': 1e-05}}, 'compute_gradients': False}\n",
      "calculation\n",
      "3\n",
      "I update my self.calculator_params\n",
      "4\n",
      "{'soap_type': 'PowerSpectrum', 'interaction_cutoff': 3.0, 'max_radial': 3, 'max_angular': 3, 'gaussian_sigma_constant': 0.3, 'gaussian_sigma_type': 'Constant', 'radial_basis': 'GTO', 'normalize': True, 'cutoff_smooth_width': 0.3, 'optimization': {'Spline': {'accuracy': 1e-05}}, 'compute_gradients': False}\n",
      "calculation\n",
      "3\n",
      "I update my self.calculator_params\n",
      "4\n",
      "{'soap_type': 'PowerSpectrum', 'interaction_cutoff': 3.0, 'max_radial': 3, 'max_angular': 3, 'gaussian_sigma_constant': 0.3, 'gaussian_sigma_type': 'Constant', 'radial_basis': 'GTO', 'normalize': True, 'cutoff_smooth_width': 0.3, 'optimization': {'Spline': {'accuracy': 1e-05}}, 'compute_gradients': False}\n",
      "calculation\n",
      "3\n",
      "I update my self.calculator_params\n",
      "5\n",
      "{'soap_type': 'PowerSpectrum', 'interaction_cutoff': 3.0, 'max_radial': 3, 'max_angular': 3, 'gaussian_sigma_constant': 0.3, 'gaussian_sigma_type': 'Constant', 'radial_basis': 'GTO', 'normalize': True, 'cutoff_smooth_width': 0.3, 'optimization': {'Spline': {'accuracy': 1e-05}}, 'compute_gradients': False}\n",
      "calculation\n",
      "3\n",
      "I update my self.calculator_params\n",
      "5\n",
      "{'soap_type': 'PowerSpectrum', 'interaction_cutoff': 3.0, 'max_radial': 3, 'max_angular': 3, 'gaussian_sigma_constant': 0.3, 'gaussian_sigma_type': 'Constant', 'radial_basis': 'GTO', 'normalize': True, 'cutoff_smooth_width': 0.3, 'optimization': {'Spline': {'accuracy': 1e-05}}, 'compute_gradients': False}\n",
      "calculation\n",
      "3\n",
      "I update my self.calculator_params\n",
      "5\n",
      "{'soap_type': 'PowerSpectrum', 'interaction_cutoff': 3.0, 'max_radial': 3, 'max_angular': 3, 'gaussian_sigma_constant': 0.3, 'gaussian_sigma_type': 'Constant', 'radial_basis': 'GTO', 'normalize': True, 'cutoff_smooth_width': 0.3, 'optimization': {'Spline': {'accuracy': 1e-05}}, 'compute_gradients': False}\n",
      "calculation\n",
      "3\n",
      "I update my self.calculator_params\n",
      "5\n",
      "{'soap_type': 'PowerSpectrum', 'interaction_cutoff': 3.0, 'max_radial': 3, 'max_angular': 3, 'gaussian_sigma_constant': 0.3, 'gaussian_sigma_type': 'Constant', 'radial_basis': 'GTO', 'normalize': True, 'cutoff_smooth_width': 0.3, 'optimization': {'Spline': {'accuracy': 1e-05}}, 'compute_gradients': False}\n",
      "calculation\n"
     ]
    },
    {
     "data": {
      "text/plain": [
       "GridSearchCV(cv=[(array([   0,    1,    2, ..., 7628, 7629, 7630]),\n",
       "                  array([  16,   17,   18, ..., 7392, 7393, 7394])),\n",
       "                 (array([  16,   17,   18, ..., 7600, 7601, 7602]),\n",
       "                  array([   0,    1,    2, ..., 7628, 7629, 7630])),\n",
       "                 (array([   0,    1,    2, ..., 7628, 7629, 7630]),\n",
       "                  array([  52,   53,   54, ..., 7600, 7601, 7602]))],\n",
       "             error_score=nan,\n",
       "             estimator=SOAPEstimator(X=(array([[5.41661356e-01, 5.17701241e-05, 4.08924940e-05, ...,\n",
       "        0.00000000e+0...\n",
       "                                                 Atoms(symbols='C40H32O10', pbc=True, cell=[[9.094064136, 0.0, 0.0], [-1.93013326629, 10.2936803243, 0.0], [-2.17404516048, -2.54633795808, 7.83678248701]], center_atoms_mask=..., cs_iso=..., cs_tensor=...),\n",
       "                                                 Atoms(symbols='C24H48O16S8', pbc=True, cell=[[12.640681414, 0.0, 0.0], [0.0, 4.16782227242, 0.0], [-2.83162640287, 0.0, 19.7379436821]], center_atoms_mask=..., cs_iso=..., cs_tensor=...), ...]),\n",
       "             iid='deprecated', n_jobs=None,\n",
       "             param_grid={'alpha': [1, 2, 3], 'max_angular': [2, 3, 4, 5]},\n",
       "             pre_dispatch='2*n_jobs', refit=True, return_train_score=False,\n",
       "             scoring=None, verbose=0)"
      ]
     },
     "execution_count": 54,
     "metadata": {},
     "output_type": "execute_result"
    }
   ],
   "source": [
    "atom_groups = atom_groups_by_frame(train_structures)\n",
    "\n",
    "param_grid = {\n",
    "    'alpha' : [1,2,3],\n",
    "    'max_angular': [2,3,4,5]#np.logspace(5,-5,20)\n",
    "\n",
    "}\n",
    "\n",
    "splits = list(GroupKFold(n_splits=3).split(np.arange(len(train_properties)),train_properties,groups=atom_groups))\n",
    "clf = GridSearchCV(SOAPEstimator(train_structures,hypers).fit(np.arange(len(train_properties)),train_properties),param_grid,cv=splits)\n",
    "clf.fit(np.arange(len(train_properties)),train_properties,structures=train_structures,calculator_params=hypers)"
   ]
  },
  {
   "cell_type": "code",
   "execution_count": 36,
   "id": "fe39e5ad-bf3b-4d2f-b657-6d802ec6213d",
   "metadata": {},
   "outputs": [
    {
     "name": "stdout",
     "output_type": "stream",
     "text": [
      "calculation\n"
     ]
    }
   ],
   "source": [
    "myestim = SOAPEstimator(train_structures,hypers)"
   ]
  },
  {
   "cell_type": "code",
   "execution_count": 42,
   "id": "1587bf55-6c1d-4860-ad82-dcf08a4eee57",
   "metadata": {},
   "outputs": [
    {
     "name": "stdout",
     "output_type": "stream",
     "text": [
      "\n"
     ]
    },
    {
     "data": {
      "text/plain": [
       "SOAPEstimator(X=(array([[5.41661356e-01, 5.17701241e-05, 4.08924940e-05, ...,\n",
       "        0.00000000e+00, 0.00000000e+00, 0.00000000e+00],\n",
       "       [5.41705779e-01, 5.17631114e-05, 4.08899639e-05, ...,\n",
       "        0.00000000e+00, 0.00000000e+00, 0.00000000e+00],\n",
       "       [5.41661793e-01, 5.17705052e-05, 4.08925444e-05, ...,\n",
       "        0.00000000e+00, 0.00000000e+00, 0.00000000e+00],\n",
       "       ...,\n",
       "       [5.89895039e-01, 9.83149951e-04, 1.5...\n",
       "                          Atoms(symbols='C40H32O10', pbc=True, cell=[[9.094064136, 0.0, 0.0], [-1.93013326629, 10.2936803243, 0.0], [-2.17404516048, -2.54633795808, 7.83678248701]], center_atoms_mask=..., cs_iso=..., cs_tensor=...),\n",
       "                          Atoms(symbols='C24H48O16S8', pbc=True, cell=[[12.640681414, 0.0, 0.0], [0.0, 4.16782227242, 0.0], [-2.83162640287, 0.0, 19.7379436821]], center_atoms_mask=..., cs_iso=..., cs_tensor=...), ...])"
      ]
     },
     "execution_count": 42,
     "metadata": {},
     "output_type": "execute_result"
    }
   ],
   "source": [
    "myestim.fit(np.arange(len(train_properties)),train_properties)"
   ]
  },
  {
   "cell_type": "code",
   "execution_count": 43,
   "id": "08d3fc62-c15c-46d8-ba91-ab72a8a3557f",
   "metadata": {
    "tags": []
   },
   "outputs": [
    {
     "data": {
      "text/plain": [
       "(array([[5.41661356e-01, 5.17701241e-05, 4.08924940e-05, ...,\n",
       "         0.00000000e+00, 0.00000000e+00, 0.00000000e+00],\n",
       "        [5.41705779e-01, 5.17631114e-05, 4.08899639e-05, ...,\n",
       "         0.00000000e+00, 0.00000000e+00, 0.00000000e+00],\n",
       "        [5.41661793e-01, 5.17705052e-05, 4.08925444e-05, ...,\n",
       "         0.00000000e+00, 0.00000000e+00, 0.00000000e+00],\n",
       "        ...,\n",
       "        [5.89895039e-01, 9.83149951e-04, 1.53102311e-03, ...,\n",
       "         0.00000000e+00, 0.00000000e+00, 0.00000000e+00],\n",
       "        [4.19741145e-01, 2.47285689e-04, 4.82745847e-05, ...,\n",
       "         0.00000000e+00, 0.00000000e+00, 0.00000000e+00],\n",
       "        [4.19740847e-01, 2.47285272e-04, 4.82740812e-05, ...,\n",
       "         0.00000000e+00, 0.00000000e+00, 0.00000000e+00]]),\n",
       " {'soap_type': 'PowerSpectrum',\n",
       "  'interaction_cutoff': 3.0,\n",
       "  'max_radial': 3,\n",
       "  'max_angular': 3,\n",
       "  'gaussian_sigma_constant': 0.3,\n",
       "  'gaussian_sigma_type': 'Constant',\n",
       "  'radial_basis': 'GTO',\n",
       "  'normalize': True,\n",
       "  'cutoff_smooth_width': 0.3,\n",
       "  'optimization': {'Spline': {'accuracy': 1e-05}},\n",
       "  'compute_gradients': False})"
      ]
     },
     "execution_count": 43,
     "metadata": {},
     "output_type": "execute_result"
    }
   ],
   "source": [
    "myestim.X"
   ]
  },
  {
   "cell_type": "code",
   "execution_count": 38,
   "id": "08e64ee0-f757-47bf-aae7-a14cb2971b4a",
   "metadata": {},
   "outputs": [
    {
     "name": "stdout",
     "output_type": "stream",
     "text": [
      "\n"
     ]
    }
   ],
   "source": [
    "new_mod = clone(myestim)"
   ]
  },
  {
   "cell_type": "code",
   "execution_count": 39,
   "id": "8e3abf2d-400b-4664-9ce4-204382a99441",
   "metadata": {},
   "outputs": [
    {
     "data": {
      "text/plain": [
       "(array([[5.41661356e-01, 5.17701241e-05, 4.08924940e-05, ...,\n",
       "         0.00000000e+00, 0.00000000e+00, 0.00000000e+00],\n",
       "        [5.41705779e-01, 5.17631114e-05, 4.08899639e-05, ...,\n",
       "         0.00000000e+00, 0.00000000e+00, 0.00000000e+00],\n",
       "        [5.41661793e-01, 5.17705052e-05, 4.08925444e-05, ...,\n",
       "         0.00000000e+00, 0.00000000e+00, 0.00000000e+00],\n",
       "        ...,\n",
       "        [5.89895039e-01, 9.83149951e-04, 1.53102311e-03, ...,\n",
       "         0.00000000e+00, 0.00000000e+00, 0.00000000e+00],\n",
       "        [4.19741145e-01, 2.47285689e-04, 4.82745847e-05, ...,\n",
       "         0.00000000e+00, 0.00000000e+00, 0.00000000e+00],\n",
       "        [4.19740847e-01, 2.47285272e-04, 4.82740812e-05, ...,\n",
       "         0.00000000e+00, 0.00000000e+00, 0.00000000e+00]]),\n",
       " {'soap_type': 'PowerSpectrum',\n",
       "  'interaction_cutoff': 3.0,\n",
       "  'max_radial': 3,\n",
       "  'max_angular': 3,\n",
       "  'gaussian_sigma_constant': 0.3,\n",
       "  'gaussian_sigma_type': 'Constant',\n",
       "  'radial_basis': 'GTO',\n",
       "  'normalize': True,\n",
       "  'cutoff_smooth_width': 0.3,\n",
       "  'optimization': {'Spline': {'accuracy': 1e-05}},\n",
       "  'compute_gradients': False})"
      ]
     },
     "execution_count": 39,
     "metadata": {},
     "output_type": "execute_result"
    }
   ],
   "source": [
    "new_mod.X"
   ]
  },
  {
   "cell_type": "code",
   "execution_count": 229,
   "id": "763751c5-961e-4918-8b3e-3d8211b2933b",
   "metadata": {},
   "outputs": [
    {
     "data": {
      "text/plain": [
       "3"
      ]
     },
     "execution_count": 229,
     "metadata": {},
     "output_type": "execute_result"
    }
   ],
   "source": [
    "myestim.get_params()[\"max_angular\"]"
   ]
  },
  {
   "cell_type": "code",
   "execution_count": 197,
   "id": "bde36506-5280-455c-92f8-4662c23a0d35",
   "metadata": {},
   "outputs": [
    {
     "data": {
      "text/plain": [
       "2"
      ]
     },
     "execution_count": 197,
     "metadata": {},
     "output_type": "execute_result"
    }
   ],
   "source": [
    "myestim.alpha"
   ]
  },
  {
   "cell_type": "code",
   "execution_count": 237,
   "id": "ab76f36d-2b9d-4be3-9401-221d6e93bfbc",
   "metadata": {},
   "outputs": [],
   "source": [
    "myestim = SOAPEstimator(train_structures,hypers)"
   ]
  },
  {
   "cell_type": "code",
   "execution_count": 238,
   "id": "81b47e43-287d-4bc4-8c3c-ee37c074ebae",
   "metadata": {},
   "outputs": [
    {
     "name": "stdout",
     "output_type": "stream",
     "text": [
      "parameter: alpha, value: 2\n"
     ]
    },
    {
     "data": {
      "text/plain": [
       "SOAPEstimator(X=(None, None), alpha=2,\n",
       "              calculator=<class 'rascal.representations.spherical_invariants.SphericalInvariants'>,\n",
       "              calculator_params={'compute_gradients': False,\n",
       "                                 'cutoff_smooth_width': 0.3,\n",
       "                                 'gaussian_sigma_constant': 0.3,\n",
       "                                 'gaussian_sigma_type': 'Constant',\n",
       "                                 'interaction_cutoff': 3.0, 'max_angular': 3,\n",
       "                                 'max_radial': 3, 'normalize': True,\n",
       "                                 'optimization': {'Spline...\n",
       "                          Atoms(symbols='C20H4N28O16', pbc=True, cell=[6.567811734, 10.8166210941, 11.2579189323], center_atoms_mask=..., cs_iso=..., cs_tensor=...),\n",
       "                          Atoms(symbols='C40H20N28O8', pbc=True, cell=[[13.646070496, 0.0, 0.0], [0.0, 7.74403583792, 0.0], [-0.36646522317, 0.0, 10.6057259895]], center_atoms_mask=..., cs_iso=..., cs_tensor=...),\n",
       "                          Atoms(symbols='C24H12N20O24', pbc=True, cell=[7.009835788, 9.36304467187, 13.3440706126], center_atoms_mask=..., cs_iso=..., cs_tensor=...), ...])"
      ]
     },
     "execution_count": 238,
     "metadata": {},
     "output_type": "execute_result"
    }
   ],
   "source": [
    "myestim.set_params(alpha=2)"
   ]
  },
  {
   "cell_type": "code",
   "execution_count": 240,
   "id": "3fba0e10-20e6-4954-a830-6f228ce59761",
   "metadata": {},
   "outputs": [
    {
     "data": {
      "text/plain": [
       "{'alpha': 0.0016681005372000558, 'max_angular': 3}"
      ]
     },
     "execution_count": 240,
     "metadata": {},
     "output_type": "execute_result"
    }
   ],
   "source": [
    "clf.best_params_"
   ]
  },
  {
   "cell_type": "code",
   "execution_count": 172,
   "id": "08bca470-ed7a-45d3-960e-7af944a3c1b0",
   "metadata": {},
   "outputs": [
    {
     "ename": "IndentationError",
     "evalue": "unexpected indent (<ipython-input-172-ef89c6c5a300>, line 2)",
     "output_type": "error",
     "traceback": [
      "\u001b[0;36m  File \u001b[0;32m\"<ipython-input-172-ef89c6c5a300>\"\u001b[0;36m, line \u001b[0;32m2\u001b[0m\n\u001b[0;31m    self.structures = structures\u001b[0m\n\u001b[0m    ^\u001b[0m\n\u001b[0;31mIndentationError\u001b[0m\u001b[0;31m:\u001b[0m unexpected indent\n"
     ]
    }
   ],
   "source": [
    "self.calculator = calculator\n",
    "        self.structures = structures\n",
    "        self.X = X\n",
    "        self.calculator_params = calculator_params"
   ]
  },
  {
   "cell_type": "code",
   "execution_count": 156,
   "id": "797d9257-bde3-4440-bacf-668e1a65e2ea",
   "metadata": {},
   "outputs": [],
   "source": [
    "my_estim = SOAPEstimator(train_structures,hypers,**hypers)"
   ]
  },
  {
   "cell_type": "code",
   "execution_count": 154,
   "id": "443bc5a1-65f3-4cba-99db-ae480436fceb",
   "metadata": {},
   "outputs": [
    {
     "ename": "SyntaxError",
     "evalue": "invalid syntax (<ipython-input-154-ce63f691987a>, line 1)",
     "output_type": "error",
     "traceback": [
      "\u001b[0;36m  File \u001b[0;32m\"<ipython-input-154-ce63f691987a>\"\u001b[0;36m, line \u001b[0;32m1\u001b[0m\n\u001b[0;31m    my_estim.\u001b[0m\n\u001b[0m             ^\u001b[0m\n\u001b[0;31mSyntaxError\u001b[0m\u001b[0;31m:\u001b[0m invalid syntax\n"
     ]
    }
   ],
   "source": [
    "my_estim."
   ]
  },
  {
   "cell_type": "code",
   "execution_count": 170,
   "id": "1cd4435f-911f-466b-8f62-d10fe136f8e5",
   "metadata": {},
   "outputs": [
    {
     "data": {
      "text/plain": [
       "{'alpha': 100000.0}"
      ]
     },
     "execution_count": 170,
     "metadata": {},
     "output_type": "execute_result"
    }
   ],
   "source": [
    "clf.best_params_"
   ]
  },
  {
   "cell_type": "code",
   "execution_count": 144,
   "id": "b6371f42-a2d6-4de1-90fd-4bb10b543cdf",
   "metadata": {},
   "outputs": [],
   "source": [
    "my_trans = SOAPEstimator(train_structures,hypers)"
   ]
  },
  {
   "cell_type": "code",
   "execution_count": 145,
   "id": "2d5c1e81-9077-4ad4-b9b4-a8459e0d7634",
   "metadata": {
    "tags": []
   },
   "outputs": [
    {
     "data": {
      "text/plain": [
       "SOAPEstimator(X=(None, None),\n",
       "              calculator=<class 'rascal.representations.spherical_invariants.SphericalInvariants'>,\n",
       "              calculator_params={'compute_gradients': False,\n",
       "                                 'cutoff_smooth_width': 0.3,\n",
       "                                 'gaussian_sigma_constant': 0.3,\n",
       "                                 'gaussian_sigma_type': 'Constant',\n",
       "                                 'interaction_cutoff': 3.0, 'max_angular': 3,\n",
       "                                 'max_radial': 3, 'normalize': True,\n",
       "                                 'optimization': {'Spline': {'accu...\n",
       "                          Atoms(symbols='C20H4N28O16', pbc=True, cell=[6.567811734, 10.8166210941, 11.2579189323], center_atoms_mask=..., cs_iso=..., cs_tensor=...),\n",
       "                          Atoms(symbols='C40H20N28O8', pbc=True, cell=[[13.646070496, 0.0, 0.0], [0.0, 7.74403583792, 0.0], [-0.36646522317, 0.0, 10.6057259895]], center_atoms_mask=..., cs_iso=..., cs_tensor=...),\n",
       "                          Atoms(symbols='C24H12N20O24', pbc=True, cell=[7.009835788, 9.36304467187, 13.3440706126], center_atoms_mask=..., cs_iso=..., cs_tensor=...), ...])"
      ]
     },
     "execution_count": 145,
     "metadata": {},
     "output_type": "execute_result"
    }
   ],
   "source": [
    "clone(my_trans)"
   ]
  },
  {
   "cell_type": "code",
   "execution_count": null,
   "id": "a53fc995-e918-4f51-8cad-02eecd239e46",
   "metadata": {},
   "outputs": [],
   "source": []
  },
  {
   "cell_type": "code",
   "execution_count": 127,
   "id": "872423a3-d6f9-4125-96f6-9667a1e1d71f",
   "metadata": {
    "tags": []
   },
   "outputs": [
    {
     "data": {
      "text/plain": [
       "ColumnSelector(columns=None, structures='a')"
      ]
     },
     "execution_count": 127,
     "metadata": {},
     "output_type": "execute_result"
    }
   ],
   "source": [
    "from sklearn.base import BaseEstimator, TransformerMixin\n",
    "\n",
    "\n",
    "class ColumnSelector(TransformerMixin, BaseEstimator):\n",
    "    def __init__(self, structures=None,columns=None,**kwargs):\n",
    "        self.columns = columns\n",
    "        self.structures = structures\n",
    "        \n",
    "        #setattr(self,\"columns\",columns)\n",
    "        self._param_names = [\"columns\",\"structures\"] + list(kwargs.keys())\n",
    "        \n",
    "        for key, value in kwargs.items():\n",
    "            setattr(self, key, value)\n",
    "        \n",
    "    def fit(self, X, y=None):\n",
    "        return self\n",
    "    \n",
    "    def transform(self, X, y=None):\n",
    "        return X[self.columns]\n",
    "    \n",
    "    def score(self, X, y, **kwargs):\n",
    "        return 1\n",
    "    \n",
    "    \"\"\"def get_params(estimator):\n",
    "        init_sig = inspect.signature(estimator.__init__)\n",
    "        params = [p.name for p in init_sig.parameters.values()]\n",
    "\n",
    "        return {param: getattr(estimator, param) for param in params}\"\"\"\n",
    "    \n",
    "    def get_params(self, deep=True):\n",
    "        # Note: we are ignoring the deep parameter\n",
    "        # this will not work with estimators that have sub-estimators\n",
    "        # see https://scikit-learn.org/stable/developers/develop.html#get-params-and-set-params\n",
    "        return {param: getattr(self, param)\n",
    "                for param in self._param_names}\n",
    "    \n",
    "    \n",
    "    \n",
    "    \"\"\"def get_params(self,deep=True):\n",
    "        init_sig = inspect.signature(self.__init__)\n",
    "        params = [p.name for p in init_sig.parameters.values()]\n",
    "        return {param: getattr(self, param) for param in params}\"\"\"\n",
    "    \n",
    "from sklearn import clone\n",
    "clone(ColumnSelector('a'))\n",
    "# ColumnSelector(columns=None)"
   ]
  },
  {
   "cell_type": "code",
   "execution_count": 116,
   "id": "664f52dc-bad1-4dd1-9735-017140c626df",
   "metadata": {
    "tags": []
   },
   "outputs": [],
   "source": [
    "class LoggingEstimator(BaseEstimator):\n",
    "    \"\"\"\n",
    "    A wrapper for scikit-learn estimators that logs every prediction\n",
    "\n",
    "    Parameters\n",
    "    ----------\n",
    "    est_class\n",
    "        The estimator class to use\n",
    "    **kwargs\n",
    "        Keyword arguments to initialize the estimator\n",
    "    \"\"\"\n",
    "\n",
    "    # NOTE: we arbitrarily selected a default estimator class\n",
    "    # so check_estimator does not fail when doing LoggingEstimator()\n",
    "    def __init__(self, est_class=LinearRegression, **kwargs):\n",
    "\n",
    "        self.est_class = est_class\n",
    "\n",
    "        # kwargs depend on the model used, so assign them whatever they are\n",
    "        for key, value in kwargs.items():\n",
    "            setattr(self, key, value)\n",
    "\n",
    "        # these attributes support the logging functionality\n",
    "        self._logger = logging.getLogger(__name__)\n",
    "        self._logging_enabled = False\n",
    "        self._param_names = ['est_class'] + list(kwargs.keys())\n",
    "\n",
    "    # in the transformer case, we did not implement get_params\n",
    "    # nor set_params since we inherited them from BaseEstimator\n",
    "    # but such implementation will not work here due to the **kwargs\n",
    "    # in the constructor, so we implemented it\n",
    "\n",
    "    def get_params(self, deep=True):\n",
    "        # Note: we are ignoring the deep parameter\n",
    "        # this will not work with estimators that have sub-estimators\n",
    "        # see https://scikit-learn.org/stable/developers/develop.html#get-params-and-set-params\n",
    "        return {param: getattr(self, param)\n",
    "                for param in self._param_names}\n",
    "\n",
    "    def set_params(self, **parameters):\n",
    "        for parameter, value in parameters.items():\n",
    "            setattr(self, parameter, value)\n",
    "\n",
    "        return self\n",
    "\n",
    "    # our fit method instantiates the actual model, and\n",
    "    # it forwards any extra keyword arguments\n",
    "    def fit(self, X, y, **kwargs):\n",
    "        est_kwargs = self.get_params()\n",
    "        del est_kwargs['est_class']\n",
    "        # remember the trailing underscore\n",
    "        self.model_ = self.est_class(**est_kwargs)\n",
    "        self.model_.fit(X, y, **kwargs)\n",
    "        # fit must return self\n",
    "        return self\n",
    "\n",
    "    def predict(self, X):\n",
    "        check_is_fitted(self)\n",
    "\n",
    "        # we use the fitted model and log if logging is enabled\n",
    "        y_pred = self.model_.predict(X)\n",
    "\n",
    "        if self._logging_enabled:\n",
    "            self._logger.info('Logging predicted values: %s', y_pred)\n",
    "\n",
    "        return y_pred\n",
    "\n",
    "    # requiring a score method is not documented but throws an\n",
    "    # error if not implemented\n",
    "    def score(self, X, y, **kwargs):\n",
    "        return self.model_.score(X, y, **kwargs)\n",
    "\n",
    "    # some models implement custom methods. Anything that is not implemented here\n",
    "    # will be delegated to the underlying model. There is one condition we have\n",
    "    # to cover: if the underlying estimator has class attributes they won't\n",
    "    # be accessible until we fit the model (since we instantiate the model there)\n",
    "    # to fix it, we try to look it up attributes in the instance, if there\n",
    "    # is no instance, we look up the class. More info here:\n",
    "    # https://scikit-learn.org/stable/developers/develop.html#estimator-types\n",
    "    def __getattr__(self, key):\n",
    "        if key != 'model_':\n",
    "            if hasattr(self, 'model_'):\n",
    "                return getattr(self.model_, key)\n",
    "            else:\n",
    "                return getattr(self.est_class, key)\n",
    "        else:\n",
    "            raise AttributeError(\n",
    "                \"'{}' object has no attribute 'model_'\".format(type(self).__name__))\n",
    "\n",
    "    # these two control logging\n",
    "\n",
    "    def enable_logging(self):\n",
    "        self._logging_enabled = True\n",
    "\n",
    "    def disable_logging(self):\n",
    "        self._logging_enabled = False\n",
    "\n",
    "    # ignore the following two for now, more info in the Appendix\n",
    "\n",
    "    def __getstate__(self):\n",
    "        state = self.__dict__.copy()\n",
    "        del state['_logger']\n",
    "        return state\n",
    "\n",
    "    def __setstate__(self, state):\n",
    "        self.__dict__.update(state)\n",
    "        self._logger = logging.getLogger(__name__)"
   ]
  },
  {
   "cell_type": "code",
   "execution_count": 130,
   "id": "3499f7ce-f8fa-4037-bc8f-e958205dc81b",
   "metadata": {},
   "outputs": [],
   "source": [
    "mest = ColumnSelector(columns=1,rocket=1)"
   ]
  },
  {
   "cell_type": "code",
   "execution_count": 131,
   "id": "ce79d92f-b6fa-4e62-ae81-f43742ca9d52",
   "metadata": {},
   "outputs": [
    {
     "data": {
      "text/plain": [
       "['columns', 'structures']"
      ]
     },
     "execution_count": 131,
     "metadata": {},
     "output_type": "execute_result"
    }
   ],
   "source": [
    "mest._get_param_names()"
   ]
  },
  {
   "cell_type": "code",
   "execution_count": 132,
   "id": "ffa2fdbc-5d3e-4854-b549-1fd26d5e1d27",
   "metadata": {},
   "outputs": [],
   "source": [
    "def get_params(estimator):\n",
    "    init_sig = inspect.signature(estimator.__init__)\n",
    "    params = [p.name for p in init_sig.parameters.values()]\n",
    "\n",
    "    return {param: getattr(estimator, param) for param in params}"
   ]
  },
  {
   "cell_type": "code",
   "execution_count": 134,
   "id": "46a89045-acdd-4a62-9fd2-7be9f39ff258",
   "metadata": {},
   "outputs": [
    {
     "data": {
      "text/plain": [
       "{'columns': 1, 'structures': None, 'rocket': 1}"
      ]
     },
     "execution_count": 134,
     "metadata": {},
     "output_type": "execute_result"
    }
   ],
   "source": [
    "mest.get_params()"
   ]
  },
  {
   "cell_type": "code",
   "execution_count": 119,
   "id": "9a3bf486-79be-4408-96c7-b58c836affb6",
   "metadata": {},
   "outputs": [
    {
     "data": {
      "text/plain": [
       "<Signature (structures=None, columns=None)>"
      ]
     },
     "execution_count": 119,
     "metadata": {},
     "output_type": "execute_result"
    }
   ],
   "source": [
    "inspect.signature(mest.__init__)"
   ]
  },
  {
   "cell_type": "code",
   "execution_count": 120,
   "id": "67b94ad5-da2e-4d9a-9ee4-b114fc2ebaa5",
   "metadata": {},
   "outputs": [
    {
     "data": {
      "text/plain": [
       "ColumnSelector(columns=1, structures=None)"
      ]
     },
     "execution_count": 120,
     "metadata": {},
     "output_type": "execute_result"
    }
   ],
   "source": [
    "clone(mest)"
   ]
  },
  {
   "cell_type": "code",
   "execution_count": null,
   "id": "3b434990-3135-44bb-8860-a28d2478532d",
   "metadata": {},
   "outputs": [],
   "source": [
    "inspect."
   ]
  },
  {
   "cell_type": "code",
   "execution_count": 91,
   "id": "1d07aed4-3661-4abd-934d-2dd4acef74e2",
   "metadata": {},
   "outputs": [],
   "source": [
    "from sklearn.model_selection import GridSearchCV"
   ]
  },
  {
   "cell_type": "code",
   "execution_count": 135,
   "id": "b57a6afb-351e-49df-99f7-b524ee364e44",
   "metadata": {
    "tags": []
   },
   "outputs": [],
   "source": [
    "clf = GridSearchCV(ColumnSelector(),param_grid)"
   ]
  },
  {
   "cell_type": "code",
   "execution_count": 136,
   "id": "1415a9a3-b9d5-46e8-bc83-db7280c57c93",
   "metadata": {
    "collapsed": true,
    "jupyter": {
     "outputs_hidden": true
    },
    "tags": []
   },
   "outputs": [
    {
     "ename": "ValueError",
     "evalue": "Invalid parameter alpha for estimator ColumnSelector(columns=None, structures=None). Check the list of available parameters with `estimator.get_params().keys()`.",
     "output_type": "error",
     "traceback": [
      "\u001b[0;31m---------------------------------------------------------------------------\u001b[0m",
      "\u001b[0;31mValueError\u001b[0m                                Traceback (most recent call last)",
      "\u001b[0;32m<ipython-input-136-6a3f01e578a8>\u001b[0m in \u001b[0;36m<module>\u001b[0;34m\u001b[0m\n\u001b[0;32m----> 1\u001b[0;31m \u001b[0mclf\u001b[0m\u001b[0;34m.\u001b[0m\u001b[0mfit\u001b[0m\u001b[0;34m(\u001b[0m\u001b[0mnp\u001b[0m\u001b[0;34m.\u001b[0m\u001b[0marange\u001b[0m\u001b[0;34m(\u001b[0m\u001b[0;36m100\u001b[0m\u001b[0;34m)\u001b[0m\u001b[0;34m)\u001b[0m\u001b[0;34m\u001b[0m\u001b[0;34m\u001b[0m\u001b[0m\n\u001b[0m",
      "\u001b[0;32m/ssd/scratch/kellner/miniconda3/lib/python3.8/site-packages/sklearn/model_selection/_search.py\u001b[0m in \u001b[0;36mfit\u001b[0;34m(self, X, y, groups, **fit_params)\u001b[0m\n\u001b[1;32m    708\u001b[0m                 \u001b[0;32mreturn\u001b[0m \u001b[0mresults\u001b[0m\u001b[0;34m\u001b[0m\u001b[0;34m\u001b[0m\u001b[0m\n\u001b[1;32m    709\u001b[0m \u001b[0;34m\u001b[0m\u001b[0m\n\u001b[0;32m--> 710\u001b[0;31m             \u001b[0mself\u001b[0m\u001b[0;34m.\u001b[0m\u001b[0m_run_search\u001b[0m\u001b[0;34m(\u001b[0m\u001b[0mevaluate_candidates\u001b[0m\u001b[0;34m)\u001b[0m\u001b[0;34m\u001b[0m\u001b[0;34m\u001b[0m\u001b[0m\n\u001b[0m\u001b[1;32m    711\u001b[0m \u001b[0;34m\u001b[0m\u001b[0m\n\u001b[1;32m    712\u001b[0m         \u001b[0;31m# For multi-metric evaluation, store the best_index_, best_params_ and\u001b[0m\u001b[0;34m\u001b[0m\u001b[0;34m\u001b[0m\u001b[0;34m\u001b[0m\u001b[0m\n",
      "\u001b[0;32m/ssd/scratch/kellner/miniconda3/lib/python3.8/site-packages/sklearn/model_selection/_search.py\u001b[0m in \u001b[0;36m_run_search\u001b[0;34m(self, evaluate_candidates)\u001b[0m\n\u001b[1;32m   1149\u001b[0m     \u001b[0;32mdef\u001b[0m \u001b[0m_run_search\u001b[0m\u001b[0;34m(\u001b[0m\u001b[0mself\u001b[0m\u001b[0;34m,\u001b[0m \u001b[0mevaluate_candidates\u001b[0m\u001b[0;34m)\u001b[0m\u001b[0;34m:\u001b[0m\u001b[0;34m\u001b[0m\u001b[0;34m\u001b[0m\u001b[0m\n\u001b[1;32m   1150\u001b[0m         \u001b[0;34m\"\"\"Search all candidates in param_grid\"\"\"\u001b[0m\u001b[0;34m\u001b[0m\u001b[0;34m\u001b[0m\u001b[0m\n\u001b[0;32m-> 1151\u001b[0;31m         \u001b[0mevaluate_candidates\u001b[0m\u001b[0;34m(\u001b[0m\u001b[0mParameterGrid\u001b[0m\u001b[0;34m(\u001b[0m\u001b[0mself\u001b[0m\u001b[0;34m.\u001b[0m\u001b[0mparam_grid\u001b[0m\u001b[0;34m)\u001b[0m\u001b[0;34m)\u001b[0m\u001b[0;34m\u001b[0m\u001b[0;34m\u001b[0m\u001b[0m\n\u001b[0m\u001b[1;32m   1152\u001b[0m \u001b[0;34m\u001b[0m\u001b[0m\n\u001b[1;32m   1153\u001b[0m \u001b[0;34m\u001b[0m\u001b[0m\n",
      "\u001b[0;32m/ssd/scratch/kellner/miniconda3/lib/python3.8/site-packages/sklearn/model_selection/_search.py\u001b[0m in \u001b[0;36mevaluate_candidates\u001b[0;34m(candidate_params)\u001b[0m\n\u001b[1;32m    680\u001b[0m                               n_splits, n_candidates, n_candidates * n_splits))\n\u001b[1;32m    681\u001b[0m \u001b[0;34m\u001b[0m\u001b[0m\n\u001b[0;32m--> 682\u001b[0;31m                 out = parallel(delayed(_fit_and_score)(clone(base_estimator),\n\u001b[0m\u001b[1;32m    683\u001b[0m                                                        \u001b[0mX\u001b[0m\u001b[0;34m,\u001b[0m \u001b[0my\u001b[0m\u001b[0;34m,\u001b[0m\u001b[0;34m\u001b[0m\u001b[0;34m\u001b[0m\u001b[0m\n\u001b[1;32m    684\u001b[0m                                                        \u001b[0mtrain\u001b[0m\u001b[0;34m=\u001b[0m\u001b[0mtrain\u001b[0m\u001b[0;34m,\u001b[0m \u001b[0mtest\u001b[0m\u001b[0;34m=\u001b[0m\u001b[0mtest\u001b[0m\u001b[0;34m,\u001b[0m\u001b[0;34m\u001b[0m\u001b[0;34m\u001b[0m\u001b[0m\n",
      "\u001b[0;32m/ssd/scratch/kellner/miniconda3/lib/python3.8/site-packages/joblib/parallel.py\u001b[0m in \u001b[0;36m__call__\u001b[0;34m(self, iterable)\u001b[0m\n\u001b[1;32m   1041\u001b[0m             \u001b[0;31m# remaining jobs.\u001b[0m\u001b[0;34m\u001b[0m\u001b[0;34m\u001b[0m\u001b[0;34m\u001b[0m\u001b[0m\n\u001b[1;32m   1042\u001b[0m             \u001b[0mself\u001b[0m\u001b[0;34m.\u001b[0m\u001b[0m_iterating\u001b[0m \u001b[0;34m=\u001b[0m \u001b[0;32mFalse\u001b[0m\u001b[0;34m\u001b[0m\u001b[0;34m\u001b[0m\u001b[0m\n\u001b[0;32m-> 1043\u001b[0;31m             \u001b[0;32mif\u001b[0m \u001b[0mself\u001b[0m\u001b[0;34m.\u001b[0m\u001b[0mdispatch_one_batch\u001b[0m\u001b[0;34m(\u001b[0m\u001b[0miterator\u001b[0m\u001b[0;34m)\u001b[0m\u001b[0;34m:\u001b[0m\u001b[0;34m\u001b[0m\u001b[0;34m\u001b[0m\u001b[0m\n\u001b[0m\u001b[1;32m   1044\u001b[0m                 \u001b[0mself\u001b[0m\u001b[0;34m.\u001b[0m\u001b[0m_iterating\u001b[0m \u001b[0;34m=\u001b[0m \u001b[0mself\u001b[0m\u001b[0;34m.\u001b[0m\u001b[0m_original_iterator\u001b[0m \u001b[0;32mis\u001b[0m \u001b[0;32mnot\u001b[0m \u001b[0;32mNone\u001b[0m\u001b[0;34m\u001b[0m\u001b[0;34m\u001b[0m\u001b[0m\n\u001b[1;32m   1045\u001b[0m \u001b[0;34m\u001b[0m\u001b[0m\n",
      "\u001b[0;32m/ssd/scratch/kellner/miniconda3/lib/python3.8/site-packages/joblib/parallel.py\u001b[0m in \u001b[0;36mdispatch_one_batch\u001b[0;34m(self, iterator)\u001b[0m\n\u001b[1;32m    859\u001b[0m                 \u001b[0;32mreturn\u001b[0m \u001b[0;32mFalse\u001b[0m\u001b[0;34m\u001b[0m\u001b[0;34m\u001b[0m\u001b[0m\n\u001b[1;32m    860\u001b[0m             \u001b[0;32melse\u001b[0m\u001b[0;34m:\u001b[0m\u001b[0;34m\u001b[0m\u001b[0;34m\u001b[0m\u001b[0m\n\u001b[0;32m--> 861\u001b[0;31m                 \u001b[0mself\u001b[0m\u001b[0;34m.\u001b[0m\u001b[0m_dispatch\u001b[0m\u001b[0;34m(\u001b[0m\u001b[0mtasks\u001b[0m\u001b[0;34m)\u001b[0m\u001b[0;34m\u001b[0m\u001b[0;34m\u001b[0m\u001b[0m\n\u001b[0m\u001b[1;32m    862\u001b[0m                 \u001b[0;32mreturn\u001b[0m \u001b[0;32mTrue\u001b[0m\u001b[0;34m\u001b[0m\u001b[0;34m\u001b[0m\u001b[0m\n\u001b[1;32m    863\u001b[0m \u001b[0;34m\u001b[0m\u001b[0m\n",
      "\u001b[0;32m/ssd/scratch/kellner/miniconda3/lib/python3.8/site-packages/joblib/parallel.py\u001b[0m in \u001b[0;36m_dispatch\u001b[0;34m(self, batch)\u001b[0m\n\u001b[1;32m    777\u001b[0m         \u001b[0;32mwith\u001b[0m \u001b[0mself\u001b[0m\u001b[0;34m.\u001b[0m\u001b[0m_lock\u001b[0m\u001b[0;34m:\u001b[0m\u001b[0;34m\u001b[0m\u001b[0;34m\u001b[0m\u001b[0m\n\u001b[1;32m    778\u001b[0m             \u001b[0mjob_idx\u001b[0m \u001b[0;34m=\u001b[0m \u001b[0mlen\u001b[0m\u001b[0;34m(\u001b[0m\u001b[0mself\u001b[0m\u001b[0;34m.\u001b[0m\u001b[0m_jobs\u001b[0m\u001b[0;34m)\u001b[0m\u001b[0;34m\u001b[0m\u001b[0;34m\u001b[0m\u001b[0m\n\u001b[0;32m--> 779\u001b[0;31m             \u001b[0mjob\u001b[0m \u001b[0;34m=\u001b[0m \u001b[0mself\u001b[0m\u001b[0;34m.\u001b[0m\u001b[0m_backend\u001b[0m\u001b[0;34m.\u001b[0m\u001b[0mapply_async\u001b[0m\u001b[0;34m(\u001b[0m\u001b[0mbatch\u001b[0m\u001b[0;34m,\u001b[0m \u001b[0mcallback\u001b[0m\u001b[0;34m=\u001b[0m\u001b[0mcb\u001b[0m\u001b[0;34m)\u001b[0m\u001b[0;34m\u001b[0m\u001b[0;34m\u001b[0m\u001b[0m\n\u001b[0m\u001b[1;32m    780\u001b[0m             \u001b[0;31m# A job can complete so quickly than its callback is\u001b[0m\u001b[0;34m\u001b[0m\u001b[0;34m\u001b[0m\u001b[0;34m\u001b[0m\u001b[0m\n\u001b[1;32m    781\u001b[0m             \u001b[0;31m# called before we get here, causing self._jobs to\u001b[0m\u001b[0;34m\u001b[0m\u001b[0;34m\u001b[0m\u001b[0;34m\u001b[0m\u001b[0m\n",
      "\u001b[0;32m/ssd/scratch/kellner/miniconda3/lib/python3.8/site-packages/joblib/_parallel_backends.py\u001b[0m in \u001b[0;36mapply_async\u001b[0;34m(self, func, callback)\u001b[0m\n\u001b[1;32m    206\u001b[0m     \u001b[0;32mdef\u001b[0m \u001b[0mapply_async\u001b[0m\u001b[0;34m(\u001b[0m\u001b[0mself\u001b[0m\u001b[0;34m,\u001b[0m \u001b[0mfunc\u001b[0m\u001b[0;34m,\u001b[0m \u001b[0mcallback\u001b[0m\u001b[0;34m=\u001b[0m\u001b[0;32mNone\u001b[0m\u001b[0;34m)\u001b[0m\u001b[0;34m:\u001b[0m\u001b[0;34m\u001b[0m\u001b[0;34m\u001b[0m\u001b[0m\n\u001b[1;32m    207\u001b[0m         \u001b[0;34m\"\"\"Schedule a func to be run\"\"\"\u001b[0m\u001b[0;34m\u001b[0m\u001b[0;34m\u001b[0m\u001b[0m\n\u001b[0;32m--> 208\u001b[0;31m         \u001b[0mresult\u001b[0m \u001b[0;34m=\u001b[0m \u001b[0mImmediateResult\u001b[0m\u001b[0;34m(\u001b[0m\u001b[0mfunc\u001b[0m\u001b[0;34m)\u001b[0m\u001b[0;34m\u001b[0m\u001b[0;34m\u001b[0m\u001b[0m\n\u001b[0m\u001b[1;32m    209\u001b[0m         \u001b[0;32mif\u001b[0m \u001b[0mcallback\u001b[0m\u001b[0;34m:\u001b[0m\u001b[0;34m\u001b[0m\u001b[0;34m\u001b[0m\u001b[0m\n\u001b[1;32m    210\u001b[0m             \u001b[0mcallback\u001b[0m\u001b[0;34m(\u001b[0m\u001b[0mresult\u001b[0m\u001b[0;34m)\u001b[0m\u001b[0;34m\u001b[0m\u001b[0;34m\u001b[0m\u001b[0m\n",
      "\u001b[0;32m/ssd/scratch/kellner/miniconda3/lib/python3.8/site-packages/joblib/_parallel_backends.py\u001b[0m in \u001b[0;36m__init__\u001b[0;34m(self, batch)\u001b[0m\n\u001b[1;32m    570\u001b[0m         \u001b[0;31m# Don't delay the application, to avoid keeping the input\u001b[0m\u001b[0;34m\u001b[0m\u001b[0;34m\u001b[0m\u001b[0;34m\u001b[0m\u001b[0m\n\u001b[1;32m    571\u001b[0m         \u001b[0;31m# arguments in memory\u001b[0m\u001b[0;34m\u001b[0m\u001b[0;34m\u001b[0m\u001b[0;34m\u001b[0m\u001b[0m\n\u001b[0;32m--> 572\u001b[0;31m         \u001b[0mself\u001b[0m\u001b[0;34m.\u001b[0m\u001b[0mresults\u001b[0m \u001b[0;34m=\u001b[0m \u001b[0mbatch\u001b[0m\u001b[0;34m(\u001b[0m\u001b[0;34m)\u001b[0m\u001b[0;34m\u001b[0m\u001b[0;34m\u001b[0m\u001b[0m\n\u001b[0m\u001b[1;32m    573\u001b[0m \u001b[0;34m\u001b[0m\u001b[0m\n\u001b[1;32m    574\u001b[0m     \u001b[0;32mdef\u001b[0m \u001b[0mget\u001b[0m\u001b[0;34m(\u001b[0m\u001b[0mself\u001b[0m\u001b[0;34m)\u001b[0m\u001b[0;34m:\u001b[0m\u001b[0;34m\u001b[0m\u001b[0;34m\u001b[0m\u001b[0m\n",
      "\u001b[0;32m/ssd/scratch/kellner/miniconda3/lib/python3.8/site-packages/joblib/parallel.py\u001b[0m in \u001b[0;36m__call__\u001b[0;34m(self)\u001b[0m\n\u001b[1;32m    260\u001b[0m         \u001b[0;31m# change the default number of processes to -1\u001b[0m\u001b[0;34m\u001b[0m\u001b[0;34m\u001b[0m\u001b[0;34m\u001b[0m\u001b[0m\n\u001b[1;32m    261\u001b[0m         \u001b[0;32mwith\u001b[0m \u001b[0mparallel_backend\u001b[0m\u001b[0;34m(\u001b[0m\u001b[0mself\u001b[0m\u001b[0;34m.\u001b[0m\u001b[0m_backend\u001b[0m\u001b[0;34m,\u001b[0m \u001b[0mn_jobs\u001b[0m\u001b[0;34m=\u001b[0m\u001b[0mself\u001b[0m\u001b[0;34m.\u001b[0m\u001b[0m_n_jobs\u001b[0m\u001b[0;34m)\u001b[0m\u001b[0;34m:\u001b[0m\u001b[0;34m\u001b[0m\u001b[0;34m\u001b[0m\u001b[0m\n\u001b[0;32m--> 262\u001b[0;31m             return [func(*args, **kwargs)\n\u001b[0m\u001b[1;32m    263\u001b[0m                     for func, args, kwargs in self.items]\n\u001b[1;32m    264\u001b[0m \u001b[0;34m\u001b[0m\u001b[0m\n",
      "\u001b[0;32m/ssd/scratch/kellner/miniconda3/lib/python3.8/site-packages/joblib/parallel.py\u001b[0m in \u001b[0;36m<listcomp>\u001b[0;34m(.0)\u001b[0m\n\u001b[1;32m    260\u001b[0m         \u001b[0;31m# change the default number of processes to -1\u001b[0m\u001b[0;34m\u001b[0m\u001b[0;34m\u001b[0m\u001b[0;34m\u001b[0m\u001b[0m\n\u001b[1;32m    261\u001b[0m         \u001b[0;32mwith\u001b[0m \u001b[0mparallel_backend\u001b[0m\u001b[0;34m(\u001b[0m\u001b[0mself\u001b[0m\u001b[0;34m.\u001b[0m\u001b[0m_backend\u001b[0m\u001b[0;34m,\u001b[0m \u001b[0mn_jobs\u001b[0m\u001b[0;34m=\u001b[0m\u001b[0mself\u001b[0m\u001b[0;34m.\u001b[0m\u001b[0m_n_jobs\u001b[0m\u001b[0;34m)\u001b[0m\u001b[0;34m:\u001b[0m\u001b[0;34m\u001b[0m\u001b[0;34m\u001b[0m\u001b[0m\n\u001b[0;32m--> 262\u001b[0;31m             return [func(*args, **kwargs)\n\u001b[0m\u001b[1;32m    263\u001b[0m                     for func, args, kwargs in self.items]\n\u001b[1;32m    264\u001b[0m \u001b[0;34m\u001b[0m\u001b[0m\n",
      "\u001b[0;32m/ssd/scratch/kellner/miniconda3/lib/python3.8/site-packages/sklearn/model_selection/_validation.py\u001b[0m in \u001b[0;36m_fit_and_score\u001b[0;34m(estimator, X, y, scorer, train, test, verbose, parameters, fit_params, return_train_score, return_parameters, return_n_test_samples, return_times, return_estimator, error_score)\u001b[0m\n\u001b[1;32m    502\u001b[0m             \u001b[0mcloned_parameters\u001b[0m\u001b[0;34m[\u001b[0m\u001b[0mk\u001b[0m\u001b[0;34m]\u001b[0m \u001b[0;34m=\u001b[0m \u001b[0mclone\u001b[0m\u001b[0;34m(\u001b[0m\u001b[0mv\u001b[0m\u001b[0;34m,\u001b[0m \u001b[0msafe\u001b[0m\u001b[0;34m=\u001b[0m\u001b[0;32mFalse\u001b[0m\u001b[0;34m)\u001b[0m\u001b[0;34m\u001b[0m\u001b[0;34m\u001b[0m\u001b[0m\n\u001b[1;32m    503\u001b[0m \u001b[0;34m\u001b[0m\u001b[0m\n\u001b[0;32m--> 504\u001b[0;31m         \u001b[0mestimator\u001b[0m \u001b[0;34m=\u001b[0m \u001b[0mestimator\u001b[0m\u001b[0;34m.\u001b[0m\u001b[0mset_params\u001b[0m\u001b[0;34m(\u001b[0m\u001b[0;34m**\u001b[0m\u001b[0mcloned_parameters\u001b[0m\u001b[0;34m)\u001b[0m\u001b[0;34m\u001b[0m\u001b[0;34m\u001b[0m\u001b[0m\n\u001b[0m\u001b[1;32m    505\u001b[0m \u001b[0;34m\u001b[0m\u001b[0m\n\u001b[1;32m    506\u001b[0m     \u001b[0mstart_time\u001b[0m \u001b[0;34m=\u001b[0m \u001b[0mtime\u001b[0m\u001b[0;34m.\u001b[0m\u001b[0mtime\u001b[0m\u001b[0;34m(\u001b[0m\u001b[0;34m)\u001b[0m\u001b[0;34m\u001b[0m\u001b[0;34m\u001b[0m\u001b[0m\n",
      "\u001b[0;32m/ssd/scratch/kellner/miniconda3/lib/python3.8/site-packages/sklearn/base.py\u001b[0m in \u001b[0;36mset_params\u001b[0;34m(self, **params)\u001b[0m\n\u001b[1;32m    231\u001b[0m             \u001b[0mkey\u001b[0m\u001b[0;34m,\u001b[0m \u001b[0mdelim\u001b[0m\u001b[0;34m,\u001b[0m \u001b[0msub_key\u001b[0m \u001b[0;34m=\u001b[0m \u001b[0mkey\u001b[0m\u001b[0;34m.\u001b[0m\u001b[0mpartition\u001b[0m\u001b[0;34m(\u001b[0m\u001b[0;34m'__'\u001b[0m\u001b[0;34m)\u001b[0m\u001b[0;34m\u001b[0m\u001b[0;34m\u001b[0m\u001b[0m\n\u001b[1;32m    232\u001b[0m             \u001b[0;32mif\u001b[0m \u001b[0mkey\u001b[0m \u001b[0;32mnot\u001b[0m \u001b[0;32min\u001b[0m \u001b[0mvalid_params\u001b[0m\u001b[0;34m:\u001b[0m\u001b[0;34m\u001b[0m\u001b[0;34m\u001b[0m\u001b[0m\n\u001b[0;32m--> 233\u001b[0;31m                 raise ValueError('Invalid parameter %s for estimator %s. '\n\u001b[0m\u001b[1;32m    234\u001b[0m                                  \u001b[0;34m'Check the list of available parameters '\u001b[0m\u001b[0;34m\u001b[0m\u001b[0;34m\u001b[0m\u001b[0m\n\u001b[1;32m    235\u001b[0m                                  \u001b[0;34m'with `estimator.get_params().keys()`.'\u001b[0m \u001b[0;34m%\u001b[0m\u001b[0;34m\u001b[0m\u001b[0;34m\u001b[0m\u001b[0m\n",
      "\u001b[0;31mValueError\u001b[0m: Invalid parameter alpha for estimator ColumnSelector(columns=None, structures=None). Check the list of available parameters with `estimator.get_params().keys()`."
     ]
    }
   ],
   "source": [
    "clf.fit(np.arange(100))"
   ]
  },
  {
   "cell_type": "code",
   "execution_count": 58,
   "id": "44a2f591-8d91-48ec-8537-6879a44d11b6",
   "metadata": {},
   "outputs": [],
   "source": [
    "param_grid = {\n",
    "    'alpha': [0.1,1.,10.]\n",
    "\n",
    "}"
   ]
  },
  {
   "cell_type": "code",
   "execution_count": 51,
   "id": "13390031-186e-4c7a-af40-d4a5ce5fc48c",
   "metadata": {},
   "outputs": [],
   "source": [
    "my_estim = ColumnSelector(z=3)"
   ]
  },
  {
   "cell_type": "code",
   "execution_count": 50,
   "id": "747c1795-a7bb-4229-9d5c-f097a57d1712",
   "metadata": {},
   "outputs": [
    {
     "data": {
      "text/plain": [
       "ColumnSelector(columns=None, structures=None)"
      ]
     },
     "execution_count": 50,
     "metadata": {},
     "output_type": "execute_result"
    }
   ],
   "source": [
    "clone(my_estim)"
   ]
  },
  {
   "cell_type": "code",
   "execution_count": 31,
   "id": "c2d97e00-ec02-44a4-9ccc-22c871cdfc9a",
   "metadata": {},
   "outputs": [],
   "source": [
    "import warnings"
   ]
  },
  {
   "cell_type": "code",
   "execution_count": 49,
   "id": "9222eb87-7736-464b-a39a-787784866ad9",
   "metadata": {},
   "outputs": [],
   "source": [
    "warnings.filterwarnings('always')\n",
    "warnings.filterwarnings(\"ignore\", category=DeprecationWarning)"
   ]
  },
  {
   "cell_type": "code",
   "execution_count": 25,
   "id": "f8384d07-28bc-4e45-b9e1-13c066e4f89d",
   "metadata": {},
   "outputs": [],
   "source": [
    "from sklearn.base import clone"
   ]
  },
  {
   "cell_type": "code",
   "execution_count": 18,
   "id": "65a524c5-9aa9-4b0a-82d3-91d368e61842",
   "metadata": {},
   "outputs": [],
   "source": [
    "myestim = SOAPEstimator(structures=train_structures,calculator_params=hypers,**hypers)"
   ]
  },
  {
   "cell_type": "code",
   "execution_count": 19,
   "id": "65a5af73-603e-4d0f-ad2f-4285a8f5a7cb",
   "metadata": {},
   "outputs": [
    {
     "ename": "AttributeError",
     "evalue": "'SOAPEstimator' object has no attribute 'param_names'",
     "output_type": "error",
     "traceback": [
      "\u001b[0;31m---------------------------------------------------------------------------\u001b[0m",
      "\u001b[0;31mAttributeError\u001b[0m                            Traceback (most recent call last)",
      "\u001b[0;32m<ipython-input-19-eb6392d57a32>\u001b[0m in \u001b[0;36m<module>\u001b[0;34m\u001b[0m\n\u001b[0;32m----> 1\u001b[0;31m \u001b[0mclone\u001b[0m\u001b[0;34m(\u001b[0m\u001b[0mmyestim\u001b[0m\u001b[0;34m)\u001b[0m\u001b[0;34m\u001b[0m\u001b[0;34m\u001b[0m\u001b[0m\n\u001b[0m",
      "\u001b[0;32m/ssd/scratch/kellner/miniconda3/lib/python3.8/site-packages/sklearn/base.py\u001b[0m in \u001b[0;36mclone\u001b[0;34m(estimator, safe)\u001b[0m\n\u001b[1;32m     67\u001b[0m                             % (repr(estimator), type(estimator)))\n\u001b[1;32m     68\u001b[0m     \u001b[0mklass\u001b[0m \u001b[0;34m=\u001b[0m \u001b[0mestimator\u001b[0m\u001b[0;34m.\u001b[0m\u001b[0m__class__\u001b[0m\u001b[0;34m\u001b[0m\u001b[0;34m\u001b[0m\u001b[0m\n\u001b[0;32m---> 69\u001b[0;31m     \u001b[0mnew_object_params\u001b[0m \u001b[0;34m=\u001b[0m \u001b[0mestimator\u001b[0m\u001b[0;34m.\u001b[0m\u001b[0mget_params\u001b[0m\u001b[0;34m(\u001b[0m\u001b[0mdeep\u001b[0m\u001b[0;34m=\u001b[0m\u001b[0;32mFalse\u001b[0m\u001b[0;34m)\u001b[0m\u001b[0;34m\u001b[0m\u001b[0;34m\u001b[0m\u001b[0m\n\u001b[0m\u001b[1;32m     70\u001b[0m     \u001b[0;32mfor\u001b[0m \u001b[0mname\u001b[0m\u001b[0;34m,\u001b[0m \u001b[0mparam\u001b[0m \u001b[0;32min\u001b[0m \u001b[0mnew_object_params\u001b[0m\u001b[0;34m.\u001b[0m\u001b[0mitems\u001b[0m\u001b[0;34m(\u001b[0m\u001b[0;34m)\u001b[0m\u001b[0;34m:\u001b[0m\u001b[0;34m\u001b[0m\u001b[0;34m\u001b[0m\u001b[0m\n\u001b[1;32m     71\u001b[0m         \u001b[0mnew_object_params\u001b[0m\u001b[0;34m[\u001b[0m\u001b[0mname\u001b[0m\u001b[0;34m]\u001b[0m \u001b[0;34m=\u001b[0m \u001b[0mclone\u001b[0m\u001b[0;34m(\u001b[0m\u001b[0mparam\u001b[0m\u001b[0;34m,\u001b[0m \u001b[0msafe\u001b[0m\u001b[0;34m=\u001b[0m\u001b[0;32mFalse\u001b[0m\u001b[0;34m)\u001b[0m\u001b[0;34m\u001b[0m\u001b[0;34m\u001b[0m\u001b[0m\n",
      "\u001b[0;32m<ipython-input-15-132adc7a63ff>\u001b[0m in \u001b[0;36mget_params\u001b[0;34m(self, deep)\u001b[0m\n\u001b[1;32m     74\u001b[0m         \u001b[0;31m#**additional,\u001b[0m\u001b[0;34m\u001b[0m\u001b[0;34m\u001b[0m\u001b[0;34m\u001b[0m\u001b[0m\n\u001b[1;32m     75\u001b[0m         return {**{param: getattr(self, param)\n\u001b[0;32m---> 76\u001b[0;31m                 for param in self.param_names}}\n\u001b[0m\u001b[1;32m     77\u001b[0m \u001b[0;34m\u001b[0m\u001b[0m\n\u001b[1;32m     78\u001b[0m     \u001b[0;32mdef\u001b[0m \u001b[0mset_params\u001b[0m\u001b[0;34m(\u001b[0m\u001b[0mself\u001b[0m\u001b[0;34m,\u001b[0m \u001b[0;34m**\u001b[0m\u001b[0mparameters\u001b[0m\u001b[0;34m)\u001b[0m\u001b[0;34m:\u001b[0m\u001b[0;34m\u001b[0m\u001b[0;34m\u001b[0m\u001b[0m\n",
      "\u001b[0;31mAttributeError\u001b[0m: 'SOAPEstimator' object has no attribute 'param_names'"
     ]
    }
   ],
   "source": [
    "clone(myestim)"
   ]
  },
  {
   "cell_type": "code",
   "execution_count": 549,
   "id": "70ddb7e3-efb3-4d51-9669-25e1313e3cc4",
   "metadata": {},
   "outputs": [
    {
     "ename": "NameError",
     "evalue": "name 'estimator' is not defined",
     "output_type": "error",
     "traceback": [
      "\u001b[0;31m---------------------------------------------------------------------------\u001b[0m",
      "\u001b[0;31mNameError\u001b[0m                                 Traceback (most recent call last)",
      "\u001b[0;32m<ipython-input-549-5f86f94a2f21>\u001b[0m in \u001b[0;36m<module>\u001b[0;34m\u001b[0m\n\u001b[0;32m----> 1\u001b[0;31m \u001b[0misinstance\u001b[0m\u001b[0;34m(\u001b[0m\u001b[0mtest_estim\u001b[0m\u001b[0;34m,\u001b[0m \u001b[0mtype\u001b[0m\u001b[0;34m(\u001b[0m\u001b[0mestimator\u001b[0m\u001b[0;34m)\u001b[0m\u001b[0;34m)\u001b[0m\u001b[0;34m\u001b[0m\u001b[0;34m\u001b[0m\u001b[0m\n\u001b[0m",
      "\u001b[0;31mNameError\u001b[0m: name 'estimator' is not defined"
     ]
    }
   ],
   "source": [
    "isinstance(test_estim, type(estimator))"
   ]
  },
  {
   "cell_type": "code",
   "execution_count": 480,
   "id": "43b65303-8624-410f-aea7-f0f4b66ab15f",
   "metadata": {
    "collapsed": true,
    "jupyter": {
     "outputs_hidden": true
    },
    "tags": []
   },
   "outputs": [
    {
     "name": "stdout",
     "output_type": "stream",
     "text": [
      "Package                       Version\n",
      "----------------------------- ------------\n",
      "alabaster                     0.7.12\n",
      "anyio                         3.3.4\n",
      "appdirs                       1.4.4\n",
      "argon2-cffi                   21.1.0\n",
      "ase                           3.22.0\n",
      "async-generator               1.10\n",
      "attrs                         21.2.0\n",
      "Babel                         2.9.1\n",
      "backcall                      0.2.0\n",
      "backports.functools-lru-cache 1.6.4\n",
      "black                         20.8b1\n",
      "bleach                        4.1.0\n",
      "breathe                       4.31.0\n",
      "brotlipy                      0.7.0\n",
      "certifi                       2021.10.8\n",
      "cffi                          1.14.6\n",
      "chardet                       4.0.0\n",
      "click                         8.0.3\n",
      "conda                         4.10.3\n",
      "conda-package-handling        1.7.3\n",
      "coverage                      6.0.2\n",
      "cpplint                       1.5.5\n",
      "cryptography                  3.4.7\n",
      "cycler                        0.10.0\n",
      "Cython                        0.29.25\n",
      "debugpy                       1.5.1\n",
      "decorator                     5.1.0\n",
      "defusedxml                    0.7.1\n",
      "docutils                      0.17.1\n",
      "entrypoints                   0.3\n",
      "falkon                        0.7.1\n",
      "filelock                      3.4.0\n",
      "idna                          2.10\n",
      "imagesize                     1.2.0\n",
      "importlib-metadata            4.8.2\n",
      "importlib-resources           5.4.0\n",
      "iniconfig                     1.1.1\n",
      "ipykernel                     6.4.2\n",
      "ipython                       7.29.0\n",
      "ipython-genutils              0.2.0\n",
      "ipywidgets                    7.6.5\n",
      "jedi                          0.18.0\n",
      "Jinja2                        2.11.3\n",
      "joblib                        1.1.0\n",
      "json5                         0.9.5\n",
      "jsonschema                    4.2.1\n",
      "jupyter                       1.0.0\n",
      "jupyter-client                7.0.6\n",
      "jupyter-console               6.4.0\n",
      "jupyter-core                  4.9.1\n",
      "jupyter-server                1.11.2\n",
      "jupyterlab                    3.2.3\n",
      "jupyterlab-pygments           0.1.2\n",
      "jupyterlab-server             2.8.2\n",
      "jupyterlab-widgets            1.0.2\n",
      "kiwisolver                    1.3.2\n",
      "MarkupSafe                    2.0.1\n",
      "matplotlib                    3.4.3\n",
      "matplotlib-inline             0.1.3\n",
      "mistune                       0.8.4\n",
      "mpmath                        1.2.1\n",
      "mypy-extensions               0.4.3\n",
      "nbclassic                     0.3.4\n",
      "nbclient                      0.5.8\n",
      "nbconvert                     6.3.0\n",
      "nbformat                      5.1.3\n",
      "nbsphinx                      0.8.7\n",
      "nbval                         0.9.6\n",
      "nest-asyncio                  1.5.1\n",
      "nice                          0.0.0\n",
      "notebook                      6.4.6\n",
      "numpy                         1.17.5\n",
      "packaging                     21.0\n",
      "pandas                        1.3.5\n",
      "pandocfilters                 1.5.0\n",
      "parse                         1.19.0\n",
      "parso                         0.8.2\n",
      "pathspec                      0.9.0\n",
      "pexpect                       4.8.0\n",
      "pickleshare                   0.7.5\n",
      "Pillow                        8.4.0\n",
      "pip                           20.3.4\n",
      "pluggy                        1.0.0\n",
      "prometheus-client             0.12.0\n",
      "prompt-toolkit                3.0.22\n",
      "psutil                        5.6.7\n",
      "ptyprocess                    0.7.0\n",
      "py                            1.10.0\n",
      "py-ubjson                     0.16.1\n",
      "pycosat                       0.6.3\n",
      "pycparser                     2.20\n",
      "Pygments                      2.10.0\n",
      "pykeops                       1.5\n",
      "pyOpenSSL                     20.0.1\n",
      "pyparsing                     3.0.6\n",
      "pyrsistent                    0.18.0\n",
      "PySocks                       1.7.1\n",
      "pytest                        6.2.5\n",
      "python-dateutil               2.8.2\n",
      "pytz                          2021.3\n",
      "pyzmq                         22.3.0\n",
      "qtconsole                     5.1.1\n",
      "QtPy                          1.11.2\n",
      "rascal                        0.0.0\n",
      "regex                         2021.10.23\n",
      "requests                      2.25.1\n",
      "ruamel-yaml-conda             0.15.100\n",
      "scikit-learn                  0.22.2.post1\n",
      "scipy                         1.3.3\n",
      "seaborn                       0.11.2\n",
      "Send2Trash                    1.8.0\n",
      "setuptools                    49.6.0\n",
      "six                           1.16.0\n",
      "skcosmo                       0.1.0rc2\n",
      "sklearn                       0.0\n",
      "sniffio                       1.2.0\n",
      "snowballstemmer               2.1.0\n",
      "Sphinx                        4.0.2\n",
      "sphinx-rtd-theme              1.0.0\n",
      "sphinxcontrib-applehelp       1.0.2\n",
      "sphinxcontrib-devhelp         1.0.2\n",
      "sphinxcontrib-htmlhelp        2.0.0\n",
      "sphinxcontrib-jsmath          1.0.1\n",
      "sphinxcontrib-qthelp          1.0.3\n",
      "sphinxcontrib-serializinghtml 1.1.5\n",
      "sympy                         1.9\n",
      "terminado                     0.12.1\n",
      "testpath                      0.5.0\n",
      "threadpoolctl                 3.0.0\n",
      "toml                          0.10.2\n",
      "torch                         1.10.0\n",
      "tornado                       6.1\n",
      "tqdm                          4.61.2\n",
      "traitlets                     5.1.1\n",
      "typed-ast                     1.4.3\n",
      "typing-extensions             3.10.0.2\n",
      "urllib3                       1.26.6\n",
      "wcwidth                       0.2.5\n",
      "webencodings                  0.5.1\n",
      "websocket-client              1.2.1\n",
      "wheel                         0.37.0\n",
      "widgetsnbextension            3.5.1\n",
      "zipp                          3.6.0\n",
      "\u001b[33mWARNING: You are using pip version 20.3.4; however, version 22.0.3 is available.\n",
      "You should consider upgrading via the '/ssd/scratch/kellner/miniconda3/bin/python -m pip install --upgrade pip' command.\u001b[0m\n",
      "Note: you may need to restart the kernel to use updated packages.\n"
     ]
    }
   ],
   "source": [
    "%pip list"
   ]
  },
  {
   "cell_type": "code",
   "execution_count": 487,
   "id": "88bee21b-ace7-4664-9b76-689d3e4bc6ff",
   "metadata": {},
   "outputs": [],
   "source": [
    "atom_groups = atom_groups_by_frame(train_structures)\n",
    "\n",
    "param_grid = {\n",
    "    'alpha': [0.1,1.,10.]\n",
    "\n",
    "}\n",
    "\n",
    "splits = list(GroupKFold(n_splits=3).split(np.arange(len(train_properties)),train_properties,groups=atom_groups))\n",
    "clf = GridSearchCV(SOAPEstimator(train_structures,hypers,**hypers),param_grid,cv=splits)\n",
    "clf.fit(np.arange(len(train_properties)),train_properties,structures=train_structures,calculator_params=hypers)\n"
   ]
  },
  {
   "cell_type": "code",
   "execution_count": 558,
   "id": "c31ad177-f686-454d-a31f-90c7a8b145b3",
   "metadata": {},
   "outputs": [],
   "source": [
    "test_estim = SOAPEstimator(structures=train_structures,calculator_params=hypers,**hypers)"
   ]
  },
  {
   "cell_type": "code",
   "execution_count": 559,
   "id": "3a349e2e-3d90-45b0-b4d3-5f9e34af0b6c",
   "metadata": {
    "collapsed": true,
    "jupyter": {
     "outputs_hidden": true
    },
    "tags": []
   },
   "outputs": [
    {
     "data": {
      "text/plain": [
       "{'calculator': rascal.representations.spherical_invariants.SphericalInvariants,\n",
       " 'est_class': sklearn.linear_model._ridge.Ridge,\n",
       " 'structures': [Atoms(symbols='N2H2O2C2O2C2N2H2C2H2C2H2C2H2C2H2C4O2H4O2H4', pbc=True, cell=[[7.023647386, 0.0, 0.0], [1.86505230323, 7.49982960783, 0.0], [1.76396797005, 0.254719596101, 8.62248940601]], center_atoms_mask=..., cs_iso=..., cs_tensor=...),\n",
       "  Atoms(symbols='C22H36O14', pbc=True, cell=[[6.55601102, 0.0, 0.0], [-3.12960364455, 9.51873796005, 0.0], [-2.76990809994, 1.88335839774, 10.8654475197]], center_atoms_mask=..., cs_iso=..., cs_tensor=...),\n",
       "  Atoms(symbols='C24H36N12O4', pbc=True, cell=[10.344040214, 9.4700412242, 6.98402700745], center_atoms_mask=..., cs_iso=..., cs_tensor=...),\n",
       "  Atoms(symbols='O12N4H4N4H4C16H4C4H4', pbc=True, cell=[6.2840125, 6.70501620145, 12.8302254216], center_atoms_mask=..., cs_iso=..., cs_tensor=...),\n",
       "  Atoms(symbols='C48H72O8', pbc=True, cell=[[7.464030982, 0.0, 0.0], [0.0, 13.8530549018, 0.0], [-5.1234452186, 0.0, 11.2008980931]], center_atoms_mask=..., cs_iso=..., cs_tensor=...),\n",
       "  Atoms(symbols='C16H36N24O14', pbc=True, cell=[[3.584612402, 0.0, 0.0], [0.421120264987, 9.77837097149, 0.0], [0.489174131439, 2.31709704127, 22.0664653009]], center_atoms_mask=..., cs_iso=..., cs_tensor=...),\n",
       "  Atoms(symbols='C24H32N16', pbc=True, cell=[13.074079834, 8.52105767997, 5.10202891442], center_atoms_mask=..., cs_iso=..., cs_tensor=...),\n",
       "  Atoms(symbols='C45H84O12S9', pbc=True, cell=[[8.993467018, 0.0, 0.0], [-4.496733509, 7.78856727426, 0.0], [0.0, 0.0, 22.21916968]], center_atoms_mask=..., cs_iso=..., cs_tensor=...),\n",
       "  Atoms(symbols='C36H32O18', pbc=True, cell=[[8.13905299, 0.0, 0.0], [0.0, 11.2740696988, 0.0], [-0.603836341328, 0.0, 9.30729196092]], center_atoms_mask=..., cs_iso=..., cs_tensor=...),\n",
       "  Atoms(symbols='C72H80N16O24', pbc=True, cell=[9.658170016, 9.71407150405, 20.1411477514], center_atoms_mask=..., cs_iso=..., cs_tensor=...),\n",
       "  Atoms(symbols='C10H14N18O20', pbc=True, cell=[[6.052919594, 0.0, 0.0], [1.60655986572, 9.84946813927, 0.0], [1.35355387961, 2.24736430438, 10.7695966584]], center_atoms_mask=..., cs_iso=..., cs_tensor=...),\n",
       "  Atoms(symbols='C72H56O28', pbc=True, cell=[[11.12706786, 0.0, 0.0], [0.0, 12.7970738398, 0.0], [-5.42624816674, 0.0, 9.66156626043]], center_atoms_mask=..., cs_iso=..., cs_tensor=...),\n",
       "  Atoms(symbols='C24H30N2O6', pbc=True, cell=[[11.69408423, 0.0, 0.0], [0.0, 45.011325399, 0.0], [-1.39775880576, 0.0, 8.27281617133]], center_atoms_mask=..., cs_iso=..., cs_tensor=...),\n",
       "  Atoms(symbols='C22H36N12', pbc=True, cell=[[5.485003618, 0.0, 0.0], [0.951818162835, 10.315086834, 0.0], [1.30352207982, 2.64119379218, 10.3222173387]], center_atoms_mask=..., cs_iso=..., cs_tensor=...),\n",
       "  Atoms(symbols='C28H72N40', pbc=True, cell=[[6.574320648, 0.0, 0.0], [0.0, 23.7968777943, 0.0], [-0.876139989797, 0.0, 7.84434791078]], center_atoms_mask=..., cs_iso=..., cs_tensor=...),\n",
       "  Atoms(symbols='C36H60N12O12', pbc=True, cell=[7.9350541, 8.25705859538, 16.9981158156], center_atoms_mask=..., cs_iso=..., cs_tensor=...),\n",
       "  Atoms(symbols='O8N12H4N16C4H8', pbc=True, cell=[9.229057954, 5.52713514372, 10.295060293], center_atoms_mask=..., cs_iso=..., cs_tensor=...),\n",
       "  Atoms(symbols='C52H64N8O4', pbc=True, cell=[[11.316038038, 0.0, 0.0], [0.0, 6.2290262984, 0.0], [-1.99193954375, 0.0, 15.3896759392]], center_atoms_mask=..., cs_iso=..., cs_tensor=...),\n",
       "  Atoms(symbols='C32H48S24', pbc=True, cell=[[7.183036402, 0.0, 0.0], [0.0, 12.7270619239, 0.0], [-2.3362323085, 0.0, 14.4403094852]], center_atoms_mask=..., cs_iso=..., cs_tensor=...),\n",
       "  Atoms(symbols='C48H32N64O16', pbc=True, cell=[11.092776996, 8.74424752874, 16.8729124909], center_atoms_mask=..., cs_iso=..., cs_tensor=...),\n",
       "  Atoms(symbols='O8N4C18H20', pbc=True, cell=[[8.002947894, 0.0, 0.0], [0.0, 5.49523217436, 0.0], [-1.30150341011, 0.0, 10.8502847134]], center_atoms_mask=..., cs_iso=..., cs_tensor=...),\n",
       "  Atoms(symbols='O16N4C16H20', pbc=True, cell=[[5.356042452, 0.0, 0.0], [0.0, 6.68805271752, 0.0], [-2.04292849225, 0.0, 16.6623588419]], center_atoms_mask=..., cs_iso=..., cs_tensor=...),\n",
       "  Atoms(symbols='C36H28N4O8', pbc=True, cell=[[6.306343896, 0.0, 0.0], [-2.59287851822, 10.5348799115, 0.0], [-1.93061150763, -4.3807080937, 11.4105283741]], center_atoms_mask=..., cs_iso=..., cs_tensor=...),\n",
       "  Atoms(symbols='C32H28N4O8', pbc=True, cell=[[6.91505965, 0.0, 0.0], [0.0, 15.502132318, 0.0], [-2.72938787397, 0.0, 6.47208092882]], center_atoms_mask=..., cs_iso=..., cs_tensor=...),\n",
       "  Atoms(symbols='C4H24N24O16', pbc=True, cell=[[10.792573182, 0.0, 0.0], [0.0, 6.29944149259, 0.0], [-5.11823752811, 0.0, 9.35679400131]], center_atoms_mask=..., cs_iso=..., cs_tensor=...),\n",
       "  Atoms(symbols='C12H36N44O16', pbc=True, cell=[[13.77349704, 0.0, 0.0], [0.0, 10.4858734845, 0.0], [-1.58570139372, 0.0, 6.92020434431]], center_atoms_mask=..., cs_iso=..., cs_tensor=...),\n",
       "  Atoms(symbols='C52H36N4O8', pbc=True, cell=[[11.450079332, 0.0, 0.0], [0.0, 6.55004078203, 0.0], [-0.101928606213, 0.0, 14.5997442545]], center_atoms_mask=..., cs_iso=..., cs_tensor=...),\n",
       "  Atoms(symbols='C48H40N24', pbc=True, cell=[[6.602525942, 0.0, 0.0], [0.0, 14.4033575223, 0.0], [-1.01861789475, 0.0, 11.3507324732]], center_atoms_mask=..., cs_iso=..., cs_tensor=...),\n",
       "  Atoms(symbols='C24H64N8O24', pbc=True, cell=[[6.592048178, 0.0, 0.0], [0.0, 16.3581214094, 0.0], [-0.142091598477, 0.0, 9.35699049759]], center_atoms_mask=..., cs_iso=..., cs_tensor=...),\n",
       "  Atoms(symbols='O4N2C4H10', pbc=True, cell=[[5.14601091, 0.0, 0.0], [-0.990025600942, 5.2647345277, 0.0], [-1.77618168766, -2.07608605749, 6.60415368539]], center_atoms_mask=..., cs_iso=..., cs_tensor=...),\n",
       "  Atoms(symbols='C16H36N4O12', pbc=True, cell=[[5.504424524, 0.0, 0.0], [0.0, 10.0817443298, 0.0], [-0.560185283807, 0.0, 10.2049828905]], center_atoms_mask=..., cs_iso=..., cs_tensor=...),\n",
       "  Atoms(symbols='C80H48N48', pbc=True, cell=[[9.779458072, 0.0, 0.0], [0.0, 17.1331020103, 0.0], [-2.68566411411, 0.0, 10.9250042316]], center_atoms_mask=..., cs_iso=..., cs_tensor=...),\n",
       "  Atoms(symbols='C24H40N40O16', pbc=True, cell=[[18.381120218, 0.0, 0.0], [0.0, 4.44293733013, 0.0], [-0.220242582452, 0.0, 14.8444640202]], center_atoms_mask=..., cs_iso=..., cs_tensor=...),\n",
       "  Atoms(symbols='C32H44N8O8', pbc=True, cell=[[7.964053164, 0.0, 0.0], [-3.87711610967, 7.45740399387, 0.0], [-0.756521338155, -2.83009796831, 14.5072794233]], center_atoms_mask=..., cs_iso=..., cs_tensor=...),\n",
       "  Atoms(symbols='C40H80N32O16', pbc=True, cell=[8.346967812, 10.2983803759, 17.8417438618], center_atoms_mask=..., cs_iso=..., cs_tensor=...),\n",
       "  Atoms(symbols='C8H4S4N4H4N8H8N4O12', pbc=True, cell=[[6.689734806, 0.0, 0.0], [0.0, 8.37734082604, 0.0], [-2.52462563897, 0.0, 10.6790912602]], center_atoms_mask=..., cs_iso=..., cs_tensor=...),\n",
       "  Atoms(symbols='C18H22N6O20', pbc=True, cell=[[8.935045546, 0.0, 0.0], [0.0, 10.2230502315, 0.0], [-0.378166867689, 0.0, 6.51907177568]], center_atoms_mask=..., cs_iso=..., cs_tensor=...),\n",
       "  Atoms(symbols='S2O6C2O2C4N4C2N2H4N2H8C4H4O2H4', pbc=True, cell=[[7.6334215, 0.0, 0.0], [3.71665186098, 7.15882878508, 0.0], [0.872606945351, 3.82322969196, 9.1024124003]], center_atoms_mask=..., cs_iso=..., cs_tensor=...),\n",
       "  Atoms(symbols='C28H40N8O8', pbc=True, cell=[[7.022059846, 0.0, 0.0], [0.0, 14.5941225294, 0.0], [-2.47233385264, 0.0, 7.1517853796]], center_atoms_mask=..., cs_iso=..., cs_tensor=...),\n",
       "  Atoms(symbols='O2N2H2N4C2H2C4H2', pbc=True, cell=[[3.658115504, 0.0, 0.0], [0.0, 10.2040424979, 0.0], [-0.0147604960586, 0.0, 5.49180443023]], center_atoms_mask=..., cs_iso=..., cs_tensor=...),\n",
       "  Atoms(symbols='C28H32N16S8', pbc=True, cell=[[8.230019032, 0.0, 0.0], [0.0, 14.6340355114, 0.0], [-3.72154876612, 0.0, 7.36742250724]], center_atoms_mask=..., cs_iso=..., cs_tensor=...),\n",
       "  Atoms(symbols='C28H44N4O12', pbc=True, cell=[[9.878044306, 0.0, 0.0], [0.0, 5.64002744522, 0.0], [-4.21761869929, 0.0, 14.8611719268]], center_atoms_mask=..., cs_iso=..., cs_tensor=...),\n",
       "  Atoms(symbols='C28H28N4O8', pbc=True, cell=[[7.095033768, 0.0, 0.0], [0.0, 7.64803488995, 0.0], [-0.32618708245, 0.0, 12.0546468427]], center_atoms_mask=..., cs_iso=..., cs_tensor=...),\n",
       "  Atoms(symbols='C72H72S4', pbc=True, cell=[17.285082602, 8.2300328047, 9.15903685423], center_atoms_mask=..., cs_iso=..., cs_tensor=...),\n",
       "  Atoms(symbols='C32H56N88', pbc=True, cell=[[13.96267889, 0.0, 0.0], [0.0, 6.72393745966, 0.0], [-0.590369988827, 0.0, 19.3228954652]], center_atoms_mask=..., cs_iso=..., cs_tensor=...),\n",
       "  Atoms(symbols='O2N10C14H14', pbc=True, cell=[[7.582038122, 0.0, 0.0], [-3.65880348023, 6.92488013185, 0.0], [-0.489511545233, -3.64025023294, 7.28441279756]], center_atoms_mask=..., cs_iso=..., cs_tensor=...),\n",
       "  Atoms(symbols='C24H48N16O16', pbc=True, cell=[[7.201028522, 0.0, 0.0], [0.0, 17.3200650227, 0.0], [-2.58253366296, 0.0, 7.70051346337]], center_atoms_mask=..., cs_iso=..., cs_tensor=...),\n",
       "  Atoms(symbols='C32H24O20', pbc=True, cell=[[10.105062526, 0.0, 0.0], [0.0, 6.20204275571, 0.0], [-3.37846597457, 0.0, 11.6667494141]], center_atoms_mask=..., cs_iso=..., cs_tensor=...),\n",
       "  Atoms(symbols='C28H32N8O16', pbc=True, cell=[[3.906195088, 0.0, 0.0], [0.0, 18.333976642, 0.0], [-0.123795134729, 0.0, 11.6273248282]], center_atoms_mask=..., cs_iso=..., cs_tensor=...),\n",
       "  Atoms(symbols='C60H60N12O8', pbc=True, cell=[[7.507053316, 0.0, 0.0], [-1.91413344041, 16.5940861152, 0.0], [-0.0578643669597, -0.548157526081, 11.0373202084]], center_atoms_mask=..., cs_iso=..., cs_tensor=...),\n",
       "  Atoms(symbols='N10H4O2C2N4H2N4H4N2H4C4H2', pbc=True, cell=[[6.070012108, 0.0, 0.0], [2.98330776088, 6.51791223144, 0.0], [0.306565961515, 2.51185599046, 10.2953960965]], center_atoms_mask=..., cs_iso=..., cs_tensor=...),\n",
       "  Atoms(symbols='S4O12N4H12C4H8C4H8', pbc=True, cell=[[5.272908274, 0.0, 0.0], [0.0, 11.6565177656, 0.0], [-0.548271729422, 0.0, 7.81911131298]], center_atoms_mask=..., cs_iso=..., cs_tensor=...),\n",
       "  Atoms(symbols='C16H48N8O4', pbc=True, cell=[[9.856030418, 0.0, 0.0], [0.0, 6.68101863518, 0.0], [-2.95249218408, 0.0, 8.68383300833]], center_atoms_mask=..., cs_iso=..., cs_tensor=...),\n",
       "  Atoms(symbols='N4C2O2C6O2H8', pbc=True, cell=[[5.818122428, 0.0, 0.0], [-1.7083403798, 5.54272742099, 0.0], [-1.18871804763, 1.11918566649, 7.12434327619]], center_atoms_mask=..., cs_iso=..., cs_tensor=...),\n",
       "  Atoms(symbols='C52H88N8O8', pbc=True, cell=[[10.650065008, 0.0, 0.0], [0.0, 9.12705246153, 0.0], [-4.3428728589, 0.0, 13.3977924301]], center_atoms_mask=..., cs_iso=..., cs_tensor=...),\n",
       "  Atoms(symbols='C36H36N12', pbc=True, cell=[[13.796675124, 0.0, 0.0], [0.0, 3.96481951376, 0.0], [-1.72421188027, 0.0, 13.9640287933]], center_atoms_mask=..., cs_iso=..., cs_tensor=...),\n",
       "  Atoms(symbols='C32H44N4O12', pbc=True, cell=[8.611028632, 6.13801870815, 14.9120455011], center_atoms_mask=..., cs_iso=..., cs_tensor=...),\n",
       "  Atoms(symbols='C48H72N24', pbc=True, cell=[14.83106327, 16.8480730437, 5.49622890617], center_atoms_mask=..., cs_iso=..., cs_tensor=...),\n",
       "  Atoms(symbols='C48H64N16O24', pbc=True, cell=[11.27973629, 8.52182948736, 14.3066422437], center_atoms_mask=..., cs_iso=..., cs_tensor=...),\n",
       "  Atoms(symbols='C20H36N4O20', pbc=True, cell=[[7.50271404, 0.0, 0.0], [0.0, 6.93651422226, 0.0], [-2.06911348338, 0.0, 13.6636502038]], center_atoms_mask=..., cs_iso=..., cs_tensor=...),\n",
       "  Atoms(symbols='C16H16N32O24', pbc=True, cell=[14.864084102, 5.38503470889, 11.6300607317], center_atoms_mask=..., cs_iso=..., cs_tensor=...),\n",
       "  Atoms(symbols='C32H48O4S24', pbc=True, cell=[[13.301045136, 0.0, 0.0], [0.0, 12.7100397975, 0.0], [-0.514564232131, 0.0, 8.08867147124]], center_atoms_mask=..., cs_iso=..., cs_tensor=...),\n",
       "  Atoms(symbols='N2C4H4N2C2O2C2H6N2H4O2S2C2H6C2H6', pbc=True, cell=[[5.899721984, 0.0, 0.0], [1.30633414086, 7.18402066325, 0.0], [1.22504187165, 2.57686286901, 10.9090874248]], center_atoms_mask=..., cs_iso=..., cs_tensor=...),\n",
       "  Atoms(symbols='C12H32N8O12', pbc=True, cell=[6.272053032, 15.0811264272, 5.56704918299], center_atoms_mask=..., cs_iso=..., cs_tensor=...),\n",
       "  Atoms(symbols='C52H56N8O28', pbc=True, cell=[[7.861021818, 0.0, 0.0], [0.0, 17.6000496093, 0.0], [-0.448431989608, 0.0, 10.1891656227]], center_atoms_mask=..., cs_iso=..., cs_tensor=...),\n",
       "  Atoms(symbols='C24H72N24O36', pbc=True, cell=[[6.025349316, 0.0, 0.0], [0.0, 19.4046615736, 0.0], [-1.89112818702, 0.0, 11.8053885853]], center_atoms_mask=..., cs_iso=..., cs_tensor=...),\n",
       "  Atoms(symbols='C28H24N24O24', pbc=True, cell=[[5.33360522, 0.0, 0.0], [0.0, 7.96880621907, 0.0], [-1.97983425766, 0.0, 25.4170343293]], center_atoms_mask=..., cs_iso=..., cs_tensor=...),\n",
       "  Atoms(symbols='C72H80N8O16', pbc=True, cell=[[9.410831284, 0.0, 0.0], [0.0, 12.6470373568, 0.0], [-4.53110822496, 0.0, 13.8001182815]], center_atoms_mask=..., cs_iso=..., cs_tensor=...),\n",
       "  Atoms(symbols='C16H40N16O12', pbc=True, cell=[12.704077178, 7.45804284404, 7.59104182802], center_atoms_mask=..., cs_iso=..., cs_tensor=...),\n",
       "  Atoms(symbols='C32H32O16', pbc=True, cell=[[3.926039338, 0.0, 0.0], [0.0, 21.3252131357, 0.0], [-1.91099572173, 0.0, 9.13944267909]], center_atoms_mask=..., cs_iso=..., cs_tensor=...),\n",
       "  Atoms(symbols='C24H48O24S16', pbc=True, cell=[[10.468873776, 0.0, 0.0], [0.0, 6.77734997398, 0.0], [-1.14600667451, 0.0, 16.6305806898]], center_atoms_mask=..., cs_iso=..., cs_tensor=...),\n",
       "  Atoms(symbols='C32H48N32O24', pbc=True, cell=[[8.902448058, 0.0, 0.0], [0.0, 12.6341673325, 0.0], [-4.20472414472, 0.0, 12.6568240628]], center_atoms_mask=..., cs_iso=..., cs_tensor=...),\n",
       "  Atoms(symbols='C52H44O16', pbc=True, cell=[[9.44903808, 0.0, 0.0], [-1.62284394313, 11.7252735573, 0.0], [-3.98499007467, -5.47113478389, 10.2881977028]], center_atoms_mask=..., cs_iso=..., cs_tensor=...),\n",
       "  Atoms(symbols='C28H28N12O24', pbc=True, cell=[15.268060114, 6.92102691774, 8.80702931138], center_atoms_mask=..., cs_iso=..., cs_tensor=...),\n",
       "  Atoms(symbols='C40H24N24O8S8', pbc=True, cell=[[12.668092938, 0.0, 0.0], [0.0, 6.21534643817, 0.0], [-1.68865678864, 0.0, 16.3129566381]], center_atoms_mask=..., cs_iso=..., cs_tensor=...),\n",
       "  Atoms(symbols='C16H48O8', pbc=True, cell=[11.341438678, 11.341438678, 4.8799148443], center_atoms_mask=..., cs_iso=..., cs_tensor=...),\n",
       "  Atoms(symbols='C60H40O28', pbc=True, cell=[14.799894568, 11.2379743425, 10.3512682593], center_atoms_mask=..., cs_iso=..., cs_tensor=...),\n",
       "  Atoms(symbols='C40H24N88O16', pbc=True, cell=[[19.46112368, 0.0, 0.0], [0.0, 8.78665841927, 0.0], [-3.31191348899, 0.0, 10.8347859976]], center_atoms_mask=..., cs_iso=..., cs_tensor=...),\n",
       "  Atoms(symbols='C32H28N4O12', pbc=True, cell=[[8.797035402, 0.0, 0.0], [0.0, 7.75602942067, 0.0], [-2.69769007934, 0.0, 10.5526773512]], center_atoms_mask=..., cs_iso=..., cs_tensor=...),\n",
       "  Atoms(symbols='N4C4H4N4C4H4C8H4C4O4H4O4', pbc=True, cell=[[3.623242542, 0.0, 0.0], [0.0, 11.2121312927, 0.0], [-1.52216042432, 0.0, 12.659971766]], center_atoms_mask=..., cs_iso=..., cs_tensor=...),\n",
       "  Atoms(symbols='C24H40O16', pbc=True, cell=[[11.581051382, 0.0, 0.0], [0.0, 4.28121358859, 0.0], [-3.93931778969, 0.0, 14.7656204721]], center_atoms_mask=..., cs_iso=..., cs_tensor=...),\n",
       "  Atoms(symbols='C56H96N24O16', pbc=True, cell=[[12.731382866, 0.0, 0.0], [0.0, 15.6702061671, 0.0], [-3.36159433194, 0.0, 8.82949410799]], center_atoms_mask=..., cs_iso=..., cs_tensor=...),\n",
       "  Atoms(symbols='C24H28O20', pbc=True, cell=[[3.88603333, 0.0, 0.0], [0.00057901896617, 11.0240936522, 0.0], [0.467116750399, 0.0480274859255, 15.907205414]], center_atoms_mask=..., cs_iso=..., cs_tensor=...),\n",
       "  Atoms(symbols='C8H4O8', pbc=True, cell=[[6.119014176, 0.0, 0.0], [-0.005354137404, 6.13301448043, 0.0], [0.0, 0.0, 5.29701028765]], center_atoms_mask=..., cs_iso=..., cs_tensor=...),\n",
       "  Atoms(symbols='N4H4C4H4N4C4H4C4H4', pbc=True, cell=[[7.414023472, 0.0, 0.0], [0.0, 5.09101715361, 0.0], [-5.06113863902, 0.0, 8.17871326693]], center_atoms_mask=..., cs_iso=..., cs_tensor=...),\n",
       "  Atoms(symbols='C32H20N8O4', pbc=True, cell=[[6.81901348, 0.0, 0.0], [2.55867115205, 8.85371163624, 0.0], [2.62596117707, 3.7235973199, 10.688346756]], center_atoms_mask=..., cs_iso=..., cs_tensor=...),\n",
       "  Atoms(symbols='C12H24N24O24', pbc=True, cell=[[13.165575056, 0.0, 0.0], [0.0, 4.98663270494, 0.0], [-5.26857349476, 0.0, 11.6506913278]], center_atoms_mask=..., cs_iso=..., cs_tensor=...),\n",
       "  Atoms(symbols='C56H48N16O8', pbc=True, cell=[[20.25912712, 0.0, 0.0], [0.0, 5.79303662258, 0.0], [-4.60226590785, 0.0, 11.0889547839]], center_atoms_mask=..., cs_iso=..., cs_tensor=...),\n",
       "  Atoms(symbols='O6N8C12H20', pbc=True, cell=[[6.953054774, 0.0, 0.0], [-3.19205705703, 7.88872735494, 0.0], [-3.35340269306, -2.80971552806, 7.83658639719]], center_atoms_mask=..., cs_iso=..., cs_tensor=...),\n",
       "  Atoms(symbols='C72H72N24', pbc=True, cell=[6.861030372, 6.861030372, 35.8131583086], center_atoms_mask=..., cs_iso=..., cs_tensor=...),\n",
       "  Atoms(symbols='C56H96O16', pbc=True, cell=[6.075938924, 9.23695830109, 25.7301674216], center_atoms_mask=..., cs_iso=..., cs_tensor=...),\n",
       "  Atoms(symbols='O14N6C6H10', pbc=True, cell=[[5.32302162, 0.0, 0.0], [-1.27009957364, 8.06463325934, 0.0], [-1.0279446741, -2.05624066763, 9.05064316912]], center_atoms_mask=..., cs_iso=..., cs_tensor=...),\n",
       "  Atoms(symbols='C8N12O6H24', pbc=True, cell=[[7.204044848, 0.0, 0.0], [0.610384311881, 7.50928022821, 0.0], [2.43452050784, 1.62569357658, 8.32113285831]], center_atoms_mask=..., cs_iso=..., cs_tensor=...),\n",
       "  Atoms(symbols='C30H40N8O12', pbc=True, cell=[[11.560042936, 0.0, 0.0], [0.0, 5.44491894337, 0.0], [-2.36009836581, 0.0, 13.0554385302]], center_atoms_mask=..., cs_iso=..., cs_tensor=...),\n",
       "  Atoms(symbols='C52H80N16', pbc=True, cell=[[15.199160878, 0.0, 0.0], [0.0, 10.2064341187, 0.0], [-1.0552625406, 0.0, 8.79485764961]], center_atoms_mask=..., cs_iso=..., cs_tensor=...),\n",
       "  Atoms(symbols='C64H64O8', pbc=True, cell=[[10.599052056, 0.0, 0.0], [0.0, 9.55404911759, 0.0], [3.91755802663, 0.0, 12.0498291033]], center_atoms_mask=..., cs_iso=..., cs_tensor=...),\n",
       "  Atoms(symbols='C48H84N12O24', pbc=True, cell=[[11.535436066, 0.0, 0.0], [0.0, 12.7225362561, 0.0], [-5.23130872049, 0.0, 10.6755961971]], center_atoms_mask=..., cs_iso=..., cs_tensor=...),\n",
       "  Atoms(symbols='C40H48N8O24', pbc=True, cell=[[14.467093266, 0.0, 0.0], [0.0, 6.59703793058, 0.0], [-3.85401917897, 0.0, 11.2502482757]], center_atoms_mask=..., cs_iso=..., cs_tensor=...),\n",
       "  Atoms(symbols='C72H48O24', pbc=True, cell=[[12.642057282, 0.0, 0.0], [0.0, 11.4120483187, 0.0], [-5.48533808643, 0.0, 10.4170931265]], center_atoms_mask=..., cs_iso=..., cs_tensor=...),\n",
       "  Atoms(symbols='C2H2C2H2C2H2C2H2C2H2C2H2C2H2C2H2C2H2C2H2N8O2H4', pbc=True, cell=[[6.808112372, 0.0, 0.0], [0.0, 7.51401150329, 0.0], [-1.69213590572, 0.0, 10.482321265]], center_atoms_mask=..., cs_iso=..., cs_tensor=...),\n",
       "  Atoms(symbols='C56H56O16', pbc=True, cell=[[6.05090871, 0.0, 0.0], [0.0, 18.1250250699, 0.0], [-1.02807359346, 0.0, 10.3200305358]], center_atoms_mask=..., cs_iso=..., cs_tensor=...),\n",
       "  Atoms(symbols='C20H24O20', pbc=True, cell=[[16.710075614, 0.0, 0.0], [0.0, 6.37502752735, 0.0], [-0.455600211616, 0.0, 5.50620385587]], center_atoms_mask=..., cs_iso=..., cs_tensor=...),\n",
       "  Atoms(symbols='C48H56N8O8', pbc=True, cell=[[12.832456246, 0.0, 0.0], [0.0, 7.38212710464, 0.0], [-2.52203962076, 0.0, 10.5463798307]], center_atoms_mask=..., cs_iso=..., cs_tensor=...),\n",
       "  Atoms(symbols='C40H56N16O16', pbc=True, cell=[5.66725321, 9.82149149426, 21.2190007682], center_atoms_mask=..., cs_iso=..., cs_tensor=...),\n",
       "  Atoms(symbols='C16H32N32O16', pbc=True, cell=[[9.252659382, 0.0, 0.0], [0.0, 11.3617753301, 0.0], [-2.66888333544, 0.0, 9.2127711674]], center_atoms_mask=..., cs_iso=..., cs_tensor=...),\n",
       "  Atoms(symbols='C64H32N32O16', pbc=True, cell=[18.682117802, 9.59306198803, 8.56106180065], center_atoms_mask=..., cs_iso=..., cs_tensor=...),\n",
       "  Atoms(symbols='C24H40O16S8', pbc=True, cell=[[11.285081008, 0.0, 0.0], [0.0, 5.74603598192, 0.0], [-3.36544814329, 0.0, 13.8161102616]], center_atoms_mask=..., cs_iso=..., cs_tensor=...),\n",
       "  Atoms(symbols='N4H8C4H8N4H8C4H8', pbc=True, cell=[[9.690026652, 0.0, 0.0], [0.0, 7.48801654547, 0.0], [-1.97226926464, 0.0, 4.42979568396]], center_atoms_mask=..., cs_iso=..., cs_tensor=...),\n",
       "  Atoms(symbols='C28H32N8O8', pbc=True, cell=[[7.660039254, 0.0, 0.0], [0.0, 9.72005361058, 0.0], [-0.563472487524, 0.0, 9.08258514386]], center_atoms_mask=..., cs_iso=..., cs_tensor=...),\n",
       "  Atoms(symbols='C28H32N8O4', pbc=True, cell=[[12.905059742, 0.0, 0.0], [0.603763220029, 7.9371021336, 0.0], [1.59785287702, 0.645369132638, 6.79801122535]], center_atoms_mask=..., cs_iso=..., cs_tensor=...),\n",
       "  Atoms(symbols='C56H96N4O22', pbc=True, cell=[[11.293071626, 0.0, 0.0], [-1.88386503636, 11.185538998, 0.0], [-1.82497166783, -3.55215662846, 14.4545670277]], center_atoms_mask=..., cs_iso=..., cs_tensor=...),\n",
       "  Atoms(symbols='C52H60N12O16', pbc=True, cell=[6.72032141, 10.1187341845, 18.5765610934], center_atoms_mask=..., cs_iso=..., cs_tensor=...),\n",
       "  Atoms(symbols='C24H44N4O8', pbc=True, cell=[[11.693078788, 0.0, 0.0], [0.0, 7.2250481454, 0.0], [-1.87151233926, 0.0, 7.67723119521]], center_atoms_mask=..., cs_iso=..., cs_tensor=...),\n",
       "  Atoms(symbols='O2N16C6H6N2H8', pbc=True, cell=[[6.998723008, 0.0, 0.0], [-0.570815848532, 7.30174671808, 0.0], [-3.43211777334, -1.62984161793, 7.40643361683]], center_atoms_mask=..., cs_iso=..., cs_tensor=...),\n",
       "  Atoms(symbols='C12H24N24O16', pbc=True, cell=[[9.403158174, 0.0, 0.0], [0.0, 8.58915498035, 0.0], [-0.190949933039, 0.0, 9.01803302467]], center_atoms_mask=..., cs_iso=..., cs_tensor=...),\n",
       "  Atoms(symbols='C36H48N4S2', pbc=True, cell=[[6.342010628, 0.0, 0.0], [-1.2320624047, 10.2713872309, 0.0], [-1.37133295809, -0.680396268214, 11.5490042979]], center_atoms_mask=..., cs_iso=..., cs_tensor=...),\n",
       "  Atoms(symbols='O4N6C10H14', pbc=True, cell=[[5.697046044, 0.0, 0.0], [1.66141814372, 6.93522494006, 0.0], [0.474837393675, 2.78518896113, 8.21001305401]], center_atoms_mask=..., cs_iso=..., cs_tensor=...),\n",
       "  Atoms(symbols='C44H16N24O4S8', pbc=True, cell=[[11.101455548, 0.0, 0.0], [0.0, 15.1270764603, 0.0], [-0.410498521798, 0.0, 6.62432733714]], center_atoms_mask=..., cs_iso=..., cs_tensor=...),\n",
       "  Atoms(symbols='N4H4C4H8C4H8C4H8C4H8', pbc=True, cell=[[8.717023386, 0.0, 0.0], [0.0, 5.23301219611, 0.0], [-3.78425162638, 0.0, 10.1484283622]], center_atoms_mask=..., cs_iso=..., cs_tensor=...),\n",
       "  Atoms(symbols='O6H4O2H4N4H4N4H2C4H2C6H2C6H6', pbc=True, cell=[[7.047513404, 0.0, 0.0], [2.27274555014, 6.91626051436, 0.0], [3.45352118342, 1.51593422823, 10.3232187767]], center_atoms_mask=..., cs_iso=..., cs_tensor=...),\n",
       "  Atoms(symbols='C32H56N24O8S24', pbc=True, cell=[[17.43489346, 0.0, 0.0], [0.0, 4.61051809635, 0.0], [-2.01507268143, 0.0, 22.44575158]], center_atoms_mask=..., cs_iso=..., cs_tensor=...),\n",
       "  Atoms(symbols='C16H28N52O12', pbc=True, cell=[6.495737418, 6.79484014315, 24.327140734], center_atoms_mask=..., cs_iso=..., cs_tensor=...),\n",
       "  Atoms(symbols='O8N28C4H20', pbc=True, cell=[[8.012420216, 0.0, 0.0], [0.0, 10.3237230136, 0.0], [-1.99397890737, 0.0, 6.86958468333]], center_atoms_mask=..., cs_iso=..., cs_tensor=...),\n",
       "  Atoms(symbols='C48H40O20', pbc=True, cell=[[6.610040298, 0.0, 0.0], [0.0, 7.41804501399, 0.0], [-1.31287959395, 0.0, 21.8407100715]], center_atoms_mask=..., cs_iso=..., cs_tensor=...),\n",
       "  Atoms(symbols='C48H104N24O12S4', pbc=True, cell=[[13.101491358, 0.0, 0.0], [0.0, 8.96376525583, 0.0], [-1.82899439656, 0.0, 16.072883395]], center_atoms_mask=..., cs_iso=..., cs_tensor=...),\n",
       "  Atoms(symbols='C12H28N4O16', pbc=True, cell=[[9.143066204, 0.0, 0.0], [0.0, 8.24806059636, 0.0], [-0.828279510487, 0.0, 7.50247097662]], center_atoms_mask=..., cs_iso=..., cs_tensor=...),\n",
       "  Atoms(symbols='N10O2H2O4C4H4', pbc=True, cell=[[6.613109542, 0.0, 0.0], [0.0, 5.49050774481, 0.0], [-0.0763218972242, 0.0, 7.56562877488]], center_atoms_mask=..., cs_iso=..., cs_tensor=...),\n",
       "  Atoms(symbols='C28H32N8O8', pbc=True, cell=[[6.440808534, 0.0, 0.0], [0.0, 16.4150188665, 0.0], [-0.478983608248, 0.0, 6.86532222448]], center_atoms_mask=..., cs_iso=..., cs_tensor=...),\n",
       "  Atoms(symbols='C4N4O4H12', pbc=True, cell=[[3.690025058, 0.0, 0.0], [0.0, 9.18006278942, 0.0], [-0.956126082803, 0.0, 6.80318849868]], center_atoms_mask=..., cs_iso=..., cs_tensor=...),\n",
       "  Atoms(symbols='C64H80N32O16', pbc=True, cell=[13.631782636, 7.49704423276, 18.935009562], center_atoms_mask=..., cs_iso=..., cs_tensor=...),\n",
       "  Atoms(symbols='C64H112N16', pbc=True, cell=[16.42707015, 7.05802210651, 14.201054301], center_atoms_mask=..., cs_iso=..., cs_tensor=...),\n",
       "  Atoms(symbols='C16H48N48O16', pbc=True, cell=[36.123202668, 3.57630543374, 8.91173859101], center_atoms_mask=..., cs_iso=..., cs_tensor=...),\n",
       "  Atoms(symbols='C24H40N24O32', pbc=True, cell=[[5.928033114, 0.0, 0.0], [0.0, 15.8380861276, 0.0], [-0.714659960091, 0.0, 12.663618467]], center_atoms_mask=..., cs_iso=..., cs_tensor=...),\n",
       "  Atoms(symbols='C32H40N16O16', pbc=True, cell=[7.397830564, 10.1302414763, 13.7118567569], center_atoms_mask=..., cs_iso=..., cs_tensor=...),\n",
       "  Atoms(symbols='C36H40N8O4', pbc=True, cell=[[7.392062502, 0.0, 0.0], [0.0, 16.8661437601, 0.0], [-3.60877534523, 0.0, 6.80430482834]], center_atoms_mask=..., cs_iso=..., cs_tensor=...),\n",
       "  Atoms(symbols='C48H96N32O16', pbc=True, cell=[17.386103064, 7.94195449353, 12.1162709087], center_atoms_mask=..., cs_iso=..., cs_tensor=...),\n",
       "  Atoms(symbols='C40H60N4O8', pbc=True, cell=[6.382334144, 9.06294639615, 19.545802581], center_atoms_mask=..., cs_iso=..., cs_tensor=...),\n",
       "  Atoms(symbols='C48H40N8', pbc=True, cell=[[12.184051992, 0.0, 0.0], [0.0, 5.78882586218, 0.0], [-5.81286499676, 0.0, 14.0751752538]], center_atoms_mask=..., cs_iso=..., cs_tensor=...),\n",
       "  Atoms(symbols='C20H56N8O16', pbc=True, cell=[[9.185030178, 0.0, 0.0], [0.0, 11.2250345656, 0.0], [-1.08129849267, 0.0, 8.74342311207]], center_atoms_mask=..., cs_iso=..., cs_tensor=...),\n",
       "  Atoms(symbols='C24H32N32O16', pbc=True, cell=[8.713954142, 9.81985949007, 12.889079704], center_atoms_mask=..., cs_iso=..., cs_tensor=...),\n",
       "  Atoms(symbols='C16H20N28O20', pbc=True, cell=[[6.596440372, 0.0, 0.0], [0.0, 7.47754670181, 0.0], [-2.14458192222, 0.0, 17.3585328389]], center_atoms_mask=..., cs_iso=..., cs_tensor=...),\n",
       "  Atoms(symbols='C24H36N20O12', pbc=True, cell=[[9.098032986, 0.0, 0.0], [0.0, 10.6300416625, 0.0], [-0.807996309487, 0.0, 9.01790660949]], center_atoms_mask=..., cs_iso=..., cs_tensor=...),\n",
       "  Atoms(symbols='C56H96N16O12', pbc=True, cell=[[7.931826102, 0.0, 0.0], [0.0, 6.64232533712, 0.0], [-5.17485818999, 0.0, 30.7588284409]], center_atoms_mask=..., cs_iso=..., cs_tensor=...),\n",
       "  Atoms(symbols='C24H24N8O8S8', pbc=True, cell=[[13.681049294, 0.0, 0.0], [0.0, 4.88841676639, 0.0], [-6.55433077682, 0.0, 12.1169359714]], center_atoms_mask=..., cs_iso=..., cs_tensor=...),\n",
       "  Atoms(symbols='N4C8H28', pbc=True, cell=[[8.263357372, 0.0, 0.0], [0.0, 7.30984856484, 0.0], [-0.873742618443, 0.0, 5.46229407018]], center_atoms_mask=..., cs_iso=..., cs_tensor=...),\n",
       "  Atoms(symbols='C56H48S24', pbc=True, cell=[[17.110664874, 0.0, 0.0], [0.0, 7.12722501462, 0.0], [-3.30660176557, 0.0, 13.149580177]], center_atoms_mask=..., cs_iso=..., cs_tensor=...),\n",
       "  Atoms(symbols='C40H48N32O40', pbc=True, cell=[6.113034442, 10.7080618323, 24.2401377336], center_atoms_mask=..., cs_iso=..., cs_tensor=...),\n",
       "  Atoms(symbols='C18H18N6O18S6', pbc=True, cell=[[8.292356436, 0.0, 0.0], [1.1163584852, 9.77542779987, 0.0], [3.75368440317, 4.18185193539, 10.4500939195]], center_atoms_mask=..., cs_iso=..., cs_tensor=...),\n",
       "  Atoms(symbols='C40H60N4O24', pbc=True, cell=[7.424712908, 9.33951666812, 16.742326673], center_atoms_mask=..., cs_iso=..., cs_tensor=...),\n",
       "  Atoms(symbols='O2C2H2N2C2H6C2H6O2C2H2N2C2H6C2H6', pbc=True, cell=[[5.945548972, 0.0, 0.0], [1.77975252038, 6.77437038979, 0.0], [0.339146004461, 2.28719323404, 10.1440043241]], center_atoms_mask=..., cs_iso=..., cs_tensor=...),\n",
       "  Atoms(symbols='C32H48N8O8', pbc=True, cell=[[6.79652333, 0.0, 0.0], [-0.471107811142, 13.7662900397, 0.0], [-1.8074742109, -0.0695148406192, 8.58422645454]], center_atoms_mask=..., cs_iso=..., cs_tensor=...),\n",
       "  Atoms(symbols='C24H32N16O4', pbc=True, cell=[12.737045092, 6.98802694518, 8.10302787254], center_atoms_mask=..., cs_iso=..., cs_tensor=...),\n",
       "  Atoms(symbols='C40H44N12O24S4', pbc=True, cell=[6.383022078, 8.02122469432, 22.0071792638], center_atoms_mask=..., cs_iso=..., cs_tensor=...),\n",
       "  Atoms(symbols='C32H36O4S2', pbc=True, cell=[[14.660085212, 0.0, 0.0], [0.0, 6.10003213654, 0.0], [-1.66625062511, 0.0, 7.97586333984]], center_atoms_mask=..., cs_iso=..., cs_tensor=...),\n",
       "  Atoms(symbols='C60H72N8O8', pbc=True, cell=[[5.613118096, 0.0, 0.0], [0.0, 25.3310814159, 0.0], [-0.311499988738, 0.0, 10.1031298446]], center_atoms_mask=..., cs_iso=..., cs_tensor=...),\n",
       "  Atoms(symbols='C44H40O8', pbc=True, cell=[[9.34505421, 0.0, 0.0], [0.0, 13.2860785066, 0.0], [-1.17054280024, 0.0, 8.10293763957]], center_atoms_mask=..., cs_iso=..., cs_tensor=...),\n",
       "  Atoms(symbols='C32H32N64O16', pbc=True, cell=[[11.839449976, 0.0, 0.0], [0.0, 15.5423681899, 0.0], [-2.08620580137, 0.0, 8.15832818946]], center_atoms_mask=..., cs_iso=..., cs_tensor=...),\n",
       "  Atoms(symbols='C64H64O16', pbc=True, cell=[8.756023952, 10.6610283031, 15.5280467048], center_atoms_mask=..., cs_iso=..., cs_tensor=...),\n",
       "  Atoms(symbols='C36H48N16O24', pbc=True, cell=[25.601146302, 6.19414614548, 7.47704518782], center_atoms_mask=..., cs_iso=..., cs_tensor=...),\n",
       "  Atoms(symbols='O12N10C4H2C10H2C2H2C2H2C2H2C2H4', pbc=True, cell=[[7.359253342, 0.0, 0.0], [-2.59615323847, 7.71432259724, 0.0], [-1.56786684675, -2.96363019485, 10.6246129239]], center_atoms_mask=..., cs_iso=..., cs_tensor=...),\n",
       "  Atoms(symbols='C8H8N4O12H16N4', pbc=True, cell=[[3.606996716, 0.0, 0.0], [0.0, 10.0069919851, 0.0], [-1.16416179709, 0.0, 11.8730537011]], center_atoms_mask=..., cs_iso=..., cs_tensor=...),\n",
       "  Atoms(symbols='C36H36N20O4', pbc=True, cell=[[17.17506608, 0.0, 0.0], [0.0, 4.06532096607, 0.0], [-4.35808714247, 0.0, 13.7467683148]], center_atoms_mask=..., cs_iso=..., cs_tensor=...),\n",
       "  Atoms(symbols='C16H24N16S8', pbc=True, cell=[[8.59626451, 0.0, 0.0], [0.0, 10.2017802363, 0.0], [-1.57392445419, 0.0, 8.54624284682]], center_atoms_mask=..., cs_iso=..., cs_tensor=...),\n",
       "  Atoms(symbols='C24H44N4O16', pbc=True, cell=[7.804029132, 14.6710518982, 6.23602018671], center_atoms_mask=..., cs_iso=..., cs_tensor=...),\n",
       "  Atoms(symbols='N4O4C4H4C12H4C4H4N4H12', pbc=True, cell=[6.657243154, 6.79684554294, 11.9725791482], center_atoms_mask=..., cs_iso=..., cs_tensor=...),\n",
       "  Atoms(symbols='C20H48N16O16', pbc=True, cell=[5.073036988, 9.51307056671, 16.8421226145], center_atoms_mask=..., cs_iso=..., cs_tensor=...),\n",
       "  Atoms(symbols='O4H2C4N4H2N4H2C4O4H2O2H4O2H4', pbc=True, cell=[[3.562810186, 0.0, 0.0], [1.77005041694, 9.64292034611, 0.0], [1.78224947901, 2.85646525257, 11.6489321189]], center_atoms_mask=..., cs_iso=..., cs_tensor=...),\n",
       "  Atoms(symbols='C12H28N20O12', pbc=True, cell=[[9.459145418, 0.0, 0.0], [0.0, 6.7214322554, 0.0], [-1.90313276237, 0.0, 9.48204600906]], center_atoms_mask=..., cs_iso=..., cs_tensor=...),\n",
       "  Atoms(symbols='C28H32N8O8', pbc=True, cell=[[5.035041864, 0.0, 0.0], [0.0, 17.2051408526, 0.0], [-0.435767768204, 0.0, 7.72177544792]], center_atoms_mask=..., cs_iso=..., cs_tensor=...),\n",
       "  Atoms(symbols='C16H16N16O16', pbc=True, cell=[8.412056952, 12.6460891656, 6.56304477367], center_atoms_mask=..., cs_iso=..., cs_tensor=...),\n",
       "  Atoms(symbols='C2O2N2C4O4C2O6H14', pbc=True, cell=[[6.735032614, 0.0, 0.0], [2.63715590027, 7.58994397886, 0.0], [2.65478821566, 1.54003255752, 6.96260263099]], center_atoms_mask=..., cs_iso=..., cs_tensor=...),\n",
       "  Atoms(symbols='C20H24N8O16', pbc=True, cell=[[11.421080268, 0.0, 0.0], [0.0, 6.0190463542, 0.0], [-2.5687608474, 0.0, 9.84755235516]], center_atoms_mask=..., cs_iso=..., cs_tensor=...),\n",
       "  Atoms(symbols='C24H32N16O16', pbc=True, cell=[[15.488093158, 0.0, 0.0], [0.0, 6.07202948213, 0.0], [-1.62953325734, 0.0, 9.8967985994]], center_atoms_mask=..., cs_iso=..., cs_tensor=...),\n",
       "  Atoms(symbols='C4H24N32O12', pbc=True, cell=[7.714438958, 17.6050902883, 5.23932293384], center_atoms_mask=..., cs_iso=..., cs_tensor=...),\n",
       "  Atoms(symbols='C36H36N4O28', pbc=True, cell=[[8.132067814, 0.0, 0.0], [0.0, 10.7820891488, 0.0], [-1.99791081675, 0.0, 12.6715669733]], center_atoms_mask=..., cs_iso=..., cs_tensor=...),\n",
       "  Atoms(symbols='C4N4C4H4C4H4N4H4C4H4N4O4H4', pbc=True, cell=[7.180549256, 7.180549256, 10.3586675373], center_atoms_mask=..., cs_iso=..., cs_tensor=...),\n",
       "  Atoms(symbols='C148H36O16', pbc=True, cell=[[9.98906627, 0.0, 0.0], [0.0, 9.9840617478, 0.0], [-4.44526434801, 0.0, 20.5723521252]], center_atoms_mask=..., cs_iso=..., cs_tensor=...),\n",
       "  Atoms(symbols='C48H68N28', pbc=True, cell=[[5.943432252, 0.0, 0.0], [0.0, 30.4661644793, 0.0], [-0.437389066289, 0.0, 7.37077128105]], center_atoms_mask=..., cs_iso=..., cs_tensor=...),\n",
       "  Atoms(symbols='C2H2C4H2C2H2C2H6N4O4S2', pbc=True, cell=[[4.989320712, 0.0, 0.0], [-0.79941391108, 7.01744465618, 0.0], [-0.800037576169, -3.15819510681, 9.16924388218]], center_atoms_mask=..., cs_iso=..., cs_tensor=...),\n",
       "  Atoms(symbols='C20H28N8O14', pbc=True, cell=[[7.3000381, 0.0, 0.0], [1.77696067423, 9.63455378419, 0.0], [0.264867282382, 4.66230073325, 9.78373006276]], center_atoms_mask=..., cs_iso=..., cs_tensor=...),\n",
       "  Atoms(symbols='C40H48N16O8S16', pbc=True, cell=[[15.071998924, 0.0, 0.0], [0.0, 11.4131807532, 0.0], [-0.453290367639, 0.0, 8.31871851012]], center_atoms_mask=..., cs_iso=..., cs_tensor=...),\n",
       "  Atoms(symbols='N4C4H4N4O16N4H12N4H8', pbc=True, cell=[[3.701032002, 0.0, 0.0], [0.0, 13.8751208621, 0.0], [-1.65118952047, 0.0, 10.6255629499]], center_atoms_mask=..., cs_iso=..., cs_tensor=...),\n",
       "  Atoms(symbols='C48H32O24', pbc=True, cell=[[7.627018422, 0.0, 0.0], [0.0, 13.877032057, 0.0], [-1.82043963802, 0.0, 9.65286129314]], center_atoms_mask=..., cs_iso=..., cs_tensor=...),\n",
       "  Atoms(symbols='C24H24N8O16S8', pbc=True, cell=[7.29262958, 9.36423957216, 13.1208553846], center_atoms_mask=..., cs_iso=..., cs_tensor=...),\n",
       "  Atoms(symbols='C32H48O8', pbc=True, cell=[[10.055055016, 0.0, 0.0], [0.0, 6.84103712058, 0.0], [-4.31205001328, 0.0, 11.6613601099]], center_atoms_mask=..., cs_iso=..., cs_tensor=...),\n",
       "  Atoms(symbols='C12H32N32', pbc=True, cell=[[6.421017202, 0.0, 0.0], [0.0, 13.298934725, 0.0], [-0.92581436527, 0.0, 8.21240394915]], center_atoms_mask=..., cs_iso=..., cs_tensor=...),\n",
       "  Atoms(symbols='C16H20N12O32', pbc=True, cell=[[6.219029196, 0.0, 0.0], [0.0, 17.2630797557, 0.0], [-1.11663291117, 0.0, 8.5161457911]], center_atoms_mask=..., cs_iso=..., cs_tensor=...),\n",
       "  Atoms(symbols='C56H56O10', pbc=True, cell=[[11.973067926, 0.0, 0.0], [0.0, 4.45562157878, 0.0], [-2.90968299431, 0.0, 21.9531348842]], center_atoms_mask=..., cs_iso=..., cs_tensor=...),\n",
       "  Atoms(symbols='N4O8N4C4N4H8N4H4N4O8', pbc=True, cell=[9.646528056, 10.7694321544, 5.05831133061], center_atoms_mask=..., cs_iso=..., cs_tensor=...),\n",
       "  Atoms(symbols='O4N8C16H20', pbc=True, cell=[[3.997002376, 0.0, 0.0], [0.0, 8.47400476733, 0.0], [-1.58644221905, 0.0, 12.9955337651]], center_atoms_mask=..., cs_iso=..., cs_tensor=...),\n",
       "  Atoms(symbols='C26H22N10O4', pbc=True, cell=[[6.659518628, 0.0, 0.0], [-3.31004713886, 6.51318236567, 0.0], [-0.0913086599085, -0.926039362817, 13.9951382252]], center_atoms_mask=..., cs_iso=..., cs_tensor=...),\n",
       "  Atoms(symbols='C60H88N8O12', pbc=True, cell=[6.553947218, 11.5029835031, 19.5241432229], center_atoms_mask=..., cs_iso=..., cs_tensor=...),\n",
       "  Atoms(symbols='O4N8C4H4C4H4C4H8', pbc=True, cell=[5.102406478, 8.29221160457, 9.30641183779], center_atoms_mask=..., cs_iso=..., cs_tensor=...),\n",
       "  Atoms(symbols='C88H64O12', pbc=True, cell=[[11.04028234, 0.0, 0.0], [0.0, 20.0565497186, 0.0], [-0.845729788373, 0.0, 7.21888733309]], center_atoms_mask=..., cs_iso=..., cs_tensor=...),\n",
       "  Atoms(symbols='C16H56N56O16', pbc=True, cell=[5.392026692, 13.3160682382, 18.4830910483], center_atoms_mask=..., cs_iso=..., cs_tensor=...),\n",
       "  Atoms(symbols='C22H24N8O16', pbc=True, cell=[[7.98506161, 0.0, 0.0], [-0.593202241945, 9.61890103615, 0.0], [-3.90784922663, -1.30978167083, 8.74854529078]], center_atoms_mask=..., cs_iso=..., cs_tensor=...),\n",
       "  Atoms(symbols='C34H22N10O4', pbc=True, cell=[[6.968348076, 0.0, 0.0], [2.76274096169, 7.10694851923, 0.0], [0.736484708152, 3.56433791427, 13.9408214141]], center_atoms_mask=..., cs_iso=..., cs_tensor=...),\n",
       "  Atoms(symbols='C12H36N4O16S12', pbc=True, cell=[[13.255271066, 0.0, 0.0], [0.0, 5.47992788775, 0.0], [-6.14259865415, 0.0, 12.2515421751]], center_atoms_mask=..., cs_iso=..., cs_tensor=...),\n",
       "  Atoms(symbols='C24H20N28O20', pbc=True, cell=[[10.480833244, 0.0, 0.0], [0.0, 6.73161909512, 0.0], [-3.66699201208, 0.0, 13.3402246505]], center_atoms_mask=..., cs_iso=..., cs_tensor=...),\n",
       "  Atoms(symbols='C44H84N20', pbc=True, cell=[[9.970068708, 0.0, 0.0], [0.0, 10.0960704363, 0.0], [-3.62863641648, 0.0, 13.5744778575]], center_atoms_mask=..., cs_iso=..., cs_tensor=...)],\n",
       " 'X': (None, None),\n",
       " 'calculator_params': {'soap_type': 'PowerSpectrum',\n",
       "  'interaction_cutoff': 3.0,\n",
       "  'max_radial': 5,\n",
       "  'max_angular': 5,\n",
       "  'gaussian_sigma_constant': 0.3,\n",
       "  'gaussian_sigma_type': 'Constant',\n",
       "  'radial_basis': 'GTO',\n",
       "  'normalize': True,\n",
       "  'cutoff_smooth_width': 0.3,\n",
       "  'optimization': {'Spline': {'accuracy': 1e-05}},\n",
       "  'compute_gradients': False},\n",
       " 'soap_type': 'PowerSpectrum',\n",
       " 'interaction_cutoff': 3.0,\n",
       " 'max_radial': 5,\n",
       " 'max_angular': 5,\n",
       " 'gaussian_sigma_constant': 0.3,\n",
       " 'gaussian_sigma_type': 'Constant',\n",
       " 'radial_basis': 'GTO',\n",
       " 'normalize': True,\n",
       " 'cutoff_smooth_width': 0.3,\n",
       " 'optimization': {'Spline': {'accuracy': 1e-05}},\n",
       " 'compute_gradients': False}"
      ]
     },
     "execution_count": 559,
     "metadata": {},
     "output_type": "execute_result"
    }
   ],
   "source": [
    "test_estim.get_params()"
   ]
  },
  {
   "cell_type": "code",
   "execution_count": 507,
   "id": "3fc4fe3c-93fa-4685-b1ab-cfa4ee3f87ba",
   "metadata": {},
   "outputs": [
    {
     "data": {
      "text/plain": [
       "__main__.SOAPEstimator"
      ]
     },
     "execution_count": 507,
     "metadata": {},
     "output_type": "execute_result"
    }
   ],
   "source": [
    "type(test_estim)"
   ]
  },
  {
   "cell_type": "code",
   "execution_count": 566,
   "id": "e1711cd6-611a-47d2-9a43-cb8a80fee608",
   "metadata": {},
   "outputs": [],
   "source": [
    "clf = GridSearchCV(SOAPEstimator,param_grid,cv=splits)"
   ]
  },
  {
   "cell_type": "code",
   "execution_count": 567,
   "id": "23e398e6-3de0-49ed-b38c-b2297bd1b617",
   "metadata": {},
   "outputs": [
    {
     "ename": "TypeError",
     "evalue": "Cannot clone object '<class '__main__.SOAPEstimator'>' (type <class 'type'>): it does not seem to be a scikit-learn estimator as it does not implement a 'get_params' methods.",
     "output_type": "error",
     "traceback": [
      "\u001b[0;31m---------------------------------------------------------------------------\u001b[0m",
      "\u001b[0;31mTypeError\u001b[0m                                 Traceback (most recent call last)",
      "\u001b[0;32m<ipython-input-567-abb2b51954bd>\u001b[0m in \u001b[0;36m<module>\u001b[0;34m\u001b[0m\n\u001b[0;32m----> 1\u001b[0;31m \u001b[0mclf\u001b[0m\u001b[0;34m.\u001b[0m\u001b[0mfit\u001b[0m\u001b[0;34m(\u001b[0m\u001b[0mnp\u001b[0m\u001b[0;34m.\u001b[0m\u001b[0marange\u001b[0m\u001b[0;34m(\u001b[0m\u001b[0mlen\u001b[0m\u001b[0;34m(\u001b[0m\u001b[0mtrain_properties\u001b[0m\u001b[0;34m)\u001b[0m\u001b[0;34m)\u001b[0m\u001b[0;34m,\u001b[0m\u001b[0mtrain_properties\u001b[0m\u001b[0;34m,\u001b[0m\u001b[0mstructures\u001b[0m\u001b[0;34m=\u001b[0m\u001b[0mtrain_structures\u001b[0m\u001b[0;34m,\u001b[0m\u001b[0mcalculator_params\u001b[0m\u001b[0;34m=\u001b[0m\u001b[0mhypers\u001b[0m\u001b[0;34m,\u001b[0m\u001b[0msafe\u001b[0m\u001b[0;34m=\u001b[0m\u001b[0;32mFalse\u001b[0m\u001b[0;34m)\u001b[0m\u001b[0;34m\u001b[0m\u001b[0;34m\u001b[0m\u001b[0m\n\u001b[0m",
      "\u001b[0;32m/ssd/scratch/kellner/miniconda3/lib/python3.8/site-packages/sklearn/model_selection/_search.py\u001b[0m in \u001b[0;36mfit\u001b[0;34m(self, X, y, groups, **fit_params)\u001b[0m\n\u001b[1;32m    653\u001b[0m         \u001b[0mn_splits\u001b[0m \u001b[0;34m=\u001b[0m \u001b[0mcv\u001b[0m\u001b[0;34m.\u001b[0m\u001b[0mget_n_splits\u001b[0m\u001b[0;34m(\u001b[0m\u001b[0mX\u001b[0m\u001b[0;34m,\u001b[0m \u001b[0my\u001b[0m\u001b[0;34m,\u001b[0m \u001b[0mgroups\u001b[0m\u001b[0;34m)\u001b[0m\u001b[0;34m\u001b[0m\u001b[0;34m\u001b[0m\u001b[0m\n\u001b[1;32m    654\u001b[0m \u001b[0;34m\u001b[0m\u001b[0m\n\u001b[0;32m--> 655\u001b[0;31m         \u001b[0mbase_estimator\u001b[0m \u001b[0;34m=\u001b[0m \u001b[0mclone\u001b[0m\u001b[0;34m(\u001b[0m\u001b[0mself\u001b[0m\u001b[0;34m.\u001b[0m\u001b[0mestimator\u001b[0m\u001b[0;34m)\u001b[0m\u001b[0;34m\u001b[0m\u001b[0;34m\u001b[0m\u001b[0m\n\u001b[0m\u001b[1;32m    656\u001b[0m \u001b[0;34m\u001b[0m\u001b[0m\n\u001b[1;32m    657\u001b[0m         parallel = Parallel(n_jobs=self.n_jobs, verbose=self.verbose,\n",
      "\u001b[0;32m/ssd/scratch/kellner/miniconda3/lib/python3.8/site-packages/sklearn/base.py\u001b[0m in \u001b[0;36mclone\u001b[0;34m(estimator, safe)\u001b[0m\n\u001b[1;32m     62\u001b[0m             \u001b[0;32mreturn\u001b[0m \u001b[0mcopy\u001b[0m\u001b[0;34m.\u001b[0m\u001b[0mdeepcopy\u001b[0m\u001b[0;34m(\u001b[0m\u001b[0mestimator\u001b[0m\u001b[0;34m)\u001b[0m\u001b[0;34m\u001b[0m\u001b[0;34m\u001b[0m\u001b[0m\n\u001b[1;32m     63\u001b[0m         \u001b[0;32melse\u001b[0m\u001b[0;34m:\u001b[0m\u001b[0;34m\u001b[0m\u001b[0;34m\u001b[0m\u001b[0m\n\u001b[0;32m---> 64\u001b[0;31m             raise TypeError(\"Cannot clone object '%s' (type %s): \"\n\u001b[0m\u001b[1;32m     65\u001b[0m                             \u001b[0;34m\"it does not seem to be a scikit-learn estimator \"\u001b[0m\u001b[0;34m\u001b[0m\u001b[0;34m\u001b[0m\u001b[0m\n\u001b[1;32m     66\u001b[0m                             \u001b[0;34m\"as it does not implement a 'get_params' methods.\"\u001b[0m\u001b[0;34m\u001b[0m\u001b[0;34m\u001b[0m\u001b[0m\n",
      "\u001b[0;31mTypeError\u001b[0m: Cannot clone object '<class '__main__.SOAPEstimator'>' (type <class 'type'>): it does not seem to be a scikit-learn estimator as it does not implement a 'get_params' methods."
     ]
    }
   ],
   "source": [
    "clf.fit(np.arange(len(train_properties)),train_properties,structures=train_structures,calculator_params=hypers,safe=False)"
   ]
  },
  {
   "cell_type": "code",
   "execution_count": 447,
   "id": "39c9cbb7-116f-4a21-8c1c-d126f9758972",
   "metadata": {},
   "outputs": [
    {
     "ename": "TypeError",
     "evalue": "__init__() missing 2 required positional arguments: 'structures' and 'calculator_params'",
     "output_type": "error",
     "traceback": [
      "\u001b[0;31m---------------------------------------------------------------------------\u001b[0m",
      "\u001b[0;31mTypeError\u001b[0m                                 Traceback (most recent call last)",
      "\u001b[0;32m<ipython-input-447-41f792bd831a>\u001b[0m in \u001b[0;36m<module>\u001b[0;34m\u001b[0m\n\u001b[0;32m----> 1\u001b[0;31m \u001b[0mclf\u001b[0m\u001b[0;34m.\u001b[0m\u001b[0mfit\u001b[0m\u001b[0;34m(\u001b[0m\u001b[0mnp\u001b[0m\u001b[0;34m.\u001b[0m\u001b[0marange\u001b[0m\u001b[0;34m(\u001b[0m\u001b[0mlen\u001b[0m\u001b[0;34m(\u001b[0m\u001b[0mtrain_properties\u001b[0m\u001b[0;34m)\u001b[0m\u001b[0;34m)\u001b[0m\u001b[0;34m,\u001b[0m\u001b[0my\u001b[0m\u001b[0;34m=\u001b[0m\u001b[0mtrain_properties\u001b[0m\u001b[0;34m,\u001b[0m\u001b[0mstructures\u001b[0m\u001b[0;34m=\u001b[0m\u001b[0mtrain_structures\u001b[0m\u001b[0;34m,\u001b[0m\u001b[0mcalculator_params\u001b[0m\u001b[0;34m=\u001b[0m\u001b[0mhypers\u001b[0m\u001b[0;34m,\u001b[0m\u001b[0;34m**\u001b[0m\u001b[0mhypers\u001b[0m\u001b[0;34m)\u001b[0m\u001b[0;34m\u001b[0m\u001b[0;34m\u001b[0m\u001b[0m\n\u001b[0m",
      "\u001b[0;32m/ssd/scratch/kellner/miniconda3/lib/python3.8/site-packages/sklearn/model_selection/_search.py\u001b[0m in \u001b[0;36mfit\u001b[0;34m(self, X, y, groups, **fit_params)\u001b[0m\n\u001b[1;32m    653\u001b[0m         \u001b[0mn_splits\u001b[0m \u001b[0;34m=\u001b[0m \u001b[0mcv\u001b[0m\u001b[0;34m.\u001b[0m\u001b[0mget_n_splits\u001b[0m\u001b[0;34m(\u001b[0m\u001b[0mX\u001b[0m\u001b[0;34m,\u001b[0m \u001b[0my\u001b[0m\u001b[0;34m,\u001b[0m \u001b[0mgroups\u001b[0m\u001b[0;34m)\u001b[0m\u001b[0;34m\u001b[0m\u001b[0;34m\u001b[0m\u001b[0m\n\u001b[1;32m    654\u001b[0m \u001b[0;34m\u001b[0m\u001b[0m\n\u001b[0;32m--> 655\u001b[0;31m         \u001b[0mbase_estimator\u001b[0m \u001b[0;34m=\u001b[0m \u001b[0mclone\u001b[0m\u001b[0;34m(\u001b[0m\u001b[0mself\u001b[0m\u001b[0;34m.\u001b[0m\u001b[0mestimator\u001b[0m\u001b[0;34m)\u001b[0m\u001b[0;34m\u001b[0m\u001b[0;34m\u001b[0m\u001b[0m\n\u001b[0m\u001b[1;32m    656\u001b[0m \u001b[0;34m\u001b[0m\u001b[0m\n\u001b[1;32m    657\u001b[0m         parallel = Parallel(n_jobs=self.n_jobs, verbose=self.verbose,\n",
      "\u001b[0;32m/ssd/scratch/kellner/miniconda3/lib/python3.8/site-packages/sklearn/base.py\u001b[0m in \u001b[0;36mclone\u001b[0;34m(estimator, safe)\u001b[0m\n\u001b[1;32m     70\u001b[0m     \u001b[0;32mfor\u001b[0m \u001b[0mname\u001b[0m\u001b[0;34m,\u001b[0m \u001b[0mparam\u001b[0m \u001b[0;32min\u001b[0m \u001b[0mnew_object_params\u001b[0m\u001b[0;34m.\u001b[0m\u001b[0mitems\u001b[0m\u001b[0;34m(\u001b[0m\u001b[0;34m)\u001b[0m\u001b[0;34m:\u001b[0m\u001b[0;34m\u001b[0m\u001b[0;34m\u001b[0m\u001b[0m\n\u001b[1;32m     71\u001b[0m         \u001b[0mnew_object_params\u001b[0m\u001b[0;34m[\u001b[0m\u001b[0mname\u001b[0m\u001b[0;34m]\u001b[0m \u001b[0;34m=\u001b[0m \u001b[0mclone\u001b[0m\u001b[0;34m(\u001b[0m\u001b[0mparam\u001b[0m\u001b[0;34m,\u001b[0m \u001b[0msafe\u001b[0m\u001b[0;34m=\u001b[0m\u001b[0;32mFalse\u001b[0m\u001b[0;34m)\u001b[0m\u001b[0;34m\u001b[0m\u001b[0;34m\u001b[0m\u001b[0m\n\u001b[0;32m---> 72\u001b[0;31m     \u001b[0mnew_object\u001b[0m \u001b[0;34m=\u001b[0m \u001b[0mklass\u001b[0m\u001b[0;34m(\u001b[0m\u001b[0;34m**\u001b[0m\u001b[0mnew_object_params\u001b[0m\u001b[0;34m)\u001b[0m\u001b[0;34m\u001b[0m\u001b[0;34m\u001b[0m\u001b[0m\n\u001b[0m\u001b[1;32m     73\u001b[0m     \u001b[0mparams_set\u001b[0m \u001b[0;34m=\u001b[0m \u001b[0mnew_object\u001b[0m\u001b[0;34m.\u001b[0m\u001b[0mget_params\u001b[0m\u001b[0;34m(\u001b[0m\u001b[0mdeep\u001b[0m\u001b[0;34m=\u001b[0m\u001b[0;32mFalse\u001b[0m\u001b[0;34m)\u001b[0m\u001b[0;34m\u001b[0m\u001b[0;34m\u001b[0m\u001b[0m\n\u001b[1;32m     74\u001b[0m \u001b[0;34m\u001b[0m\u001b[0m\n",
      "\u001b[0;31mTypeError\u001b[0m: __init__() missing 2 required positional arguments: 'structures' and 'calculator_params'"
     ]
    }
   ],
   "source": [
    "clf.fit(np.arange(len(train_properties)),y=train_properties,structures=train_structures,calculator_params=hypers,**hypers)"
   ]
  },
  {
   "cell_type": "code",
   "execution_count": null,
   "id": "737d2b03-73ef-4e51-ba43-d1007364102a",
   "metadata": {},
   "outputs": [],
   "source": []
  },
  {
   "cell_type": "code",
   "execution_count": 437,
   "id": "b4381800-1f2a-46dc-97de-c83e12b03861",
   "metadata": {},
   "outputs": [
    {
     "data": {
      "text/plain": [
       "SOAPEstimator(compute_gradients=False, cutoff_smooth_width=0.3,\n",
       "              est_class=<class 'sklearn.linear_model._ridge.Ridge'>,\n",
       "              gaussian_sigma_constant=0.3, gaussian_sigma_type='Constant',\n",
       "              interaction_cutoff=3.0, max_angular=5, max_radial=5,\n",
       "              normalize=True, optimization={'Spline': {'accuracy': 1e-05}},\n",
       "              radial_basis='GTO', soap_type='PowerSpectrum')"
      ]
     },
     "execution_count": 437,
     "metadata": {},
     "output_type": "execute_result"
    }
   ],
   "source": [
    "test_estim.set_params(max_radial=5, max_angular=5)"
   ]
  },
  {
   "cell_type": "code",
   "execution_count": 434,
   "id": "92cc4021-4e51-4777-a27f-25fe723798cf",
   "metadata": {},
   "outputs": [
    {
     "data": {
      "text/plain": [
       "{'est_class': sklearn.linear_model._ridge.Ridge,\n",
       " 'soap_type': 'PowerSpectrum',\n",
       " 'interaction_cutoff': 3.0,\n",
       " 'max_radial': 6,\n",
       " 'max_angular': 6,\n",
       " 'gaussian_sigma_constant': 0.3,\n",
       " 'gaussian_sigma_type': 'Constant',\n",
       " 'radial_basis': 'GTO',\n",
       " 'normalize': True,\n",
       " 'cutoff_smooth_width': 0.3,\n",
       " 'optimization': {'Spline': {'accuracy': 1e-05}},\n",
       " 'compute_gradients': False}"
      ]
     },
     "execution_count": 434,
     "metadata": {},
     "output_type": "execute_result"
    }
   ],
   "source": [
    "test_estim.get_params()"
   ]
  },
  {
   "cell_type": "code",
   "execution_count": 426,
   "id": "673a86e0-ab89-47e7-b382-b6b605c0bdd5",
   "metadata": {},
   "outputs": [],
   "source": [
    "paramdicts = test_estim._get_paramdicts()"
   ]
  },
  {
   "cell_type": "code",
   "execution_count": 415,
   "id": "a2c0df9d-427d-484e-b55f-5c5fe286e05e",
   "metadata": {
    "collapsed": true,
    "jupyter": {
     "outputs_hidden": true
    },
    "tags": []
   },
   "outputs": [
    {
     "ename": "TypeError",
     "evalue": "'NoneType' object is not iterable",
     "output_type": "error",
     "traceback": [
      "\u001b[0;31m---------------------------------------------------------------------------\u001b[0m",
      "\u001b[0;31mTypeError\u001b[0m                                 Traceback (most recent call last)",
      "\u001b[0;32m<ipython-input-415-bd6ee22890e5>\u001b[0m in \u001b[0;36m<module>\u001b[0;34m\u001b[0m\n\u001b[0;32m----> 1\u001b[0;31m \u001b[0many\u001b[0m\u001b[0;34m(\u001b[0m\u001b[0mi\u001b[0m\u001b[0;34m[\u001b[0m\u001b[0;36m0\u001b[0m\u001b[0;34m]\u001b[0m \u001b[0;34m==\u001b[0m \u001b[0mi\u001b[0m\u001b[0;34m[\u001b[0m\u001b[0;36m1\u001b[0m\u001b[0;34m]\u001b[0m \u001b[0;32mfor\u001b[0m \u001b[0mi\u001b[0m \u001b[0;32min\u001b[0m \u001b[0mzip\u001b[0m\u001b[0;34m(\u001b[0m\u001b[0mparamdicts\u001b[0m\u001b[0;34m[\u001b[0m\u001b[0;36m0\u001b[0m\u001b[0;34m]\u001b[0m\u001b[0;34m,\u001b[0m\u001b[0mparamdicts\u001b[0m\u001b[0;34m[\u001b[0m\u001b[0;36m1\u001b[0m\u001b[0;34m]\u001b[0m\u001b[0;34m)\u001b[0m\u001b[0;34m)\u001b[0m\u001b[0;34m\u001b[0m\u001b[0;34m\u001b[0m\u001b[0m\n\u001b[0m",
      "\u001b[0;31mTypeError\u001b[0m: 'NoneType' object is not iterable"
     ]
    }
   ],
   "source": [
    "any(i[0] == i[1] for i in zip(paramdicts[0],paramdicts[1]))"
   ]
  },
  {
   "cell_type": "code",
   "execution_count": null,
   "id": "ff0bfbdd-81a9-4149-8061-b8c7b9afd85e",
   "metadata": {},
   "outputs": [
    {
     "data": {
      "text/plain": [
       "False"
      ]
     },
     "execution_count": 349,
     "metadata": {},
     "output_type": "execute_result"
    }
   ],
   "source": [
    "paramdicts[0] == paramdicts[1]"
   ]
  },
  {
   "cell_type": "code",
   "execution_count": 438,
   "id": "b5981d3d-7e12-4fde-a51c-3fbffeac201a",
   "metadata": {},
   "outputs": [
    {
     "name": "stdout",
     "output_type": "stream",
     "text": [
      "unequal hyperparameters\n"
     ]
    },
    {
     "data": {
      "text/plain": [
       "SOAPEstimator(compute_gradients=False, cutoff_smooth_width=0.3,\n",
       "              est_class=<class 'sklearn.linear_model._ridge.Ridge'>,\n",
       "              gaussian_sigma_constant=0.3, gaussian_sigma_type='Constant',\n",
       "              interaction_cutoff=3.0, max_angular=5, max_radial=5,\n",
       "              normalize=True, optimization={'Spline': {'accuracy': 1e-05}},\n",
       "              radial_basis='GTO', soap_type='PowerSpectrum')"
      ]
     },
     "execution_count": 438,
     "metadata": {},
     "output_type": "execute_result"
    }
   ],
   "source": [
    "test_estim.fit(np.arange(len(train_properties)),train_properties)"
   ]
  },
  {
   "cell_type": "code",
   "execution_count": 439,
   "id": "1134fa0b-3efd-4048-af41-db1a81c14af1",
   "metadata": {},
   "outputs": [
    {
     "data": {
      "text/plain": [
       "0.9179886880143598"
      ]
     },
     "execution_count": 439,
     "metadata": {},
     "output_type": "execute_result"
    }
   ],
   "source": [
    "test_estim.score(np.arange(len(train_properties)),train_properties)"
   ]
  },
  {
   "cell_type": "code",
   "execution_count": 208,
   "id": "b09b8cd9-af62-47df-af0a-6bda8a4fd250",
   "metadata": {},
   "outputs": [],
   "source": [
    "mytup = (1,2)"
   ]
  },
  {
   "cell_type": "code",
   "execution_count": 209,
   "id": "5109f1dd-2c05-4843-a7c9-d57c02d092d5",
   "metadata": {},
   "outputs": [
    {
     "ename": "TypeError",
     "evalue": "'tuple' object does not support item assignment",
     "output_type": "error",
     "traceback": [
      "\u001b[0;31m---------------------------------------------------------------------------\u001b[0m",
      "\u001b[0;31mTypeError\u001b[0m                                 Traceback (most recent call last)",
      "\u001b[0;32m<ipython-input-209-ad967c7b4af3>\u001b[0m in \u001b[0;36m<module>\u001b[0;34m\u001b[0m\n\u001b[0;32m----> 1\u001b[0;31m \u001b[0mmytup\u001b[0m\u001b[0;34m[\u001b[0m\u001b[0;36m0\u001b[0m\u001b[0;34m]\u001b[0m \u001b[0;34m=\u001b[0m \u001b[0;36m2\u001b[0m\u001b[0;34m\u001b[0m\u001b[0;34m\u001b[0m\u001b[0m\n\u001b[0m",
      "\u001b[0;31mTypeError\u001b[0m: 'tuple' object does not support item assignment"
     ]
    }
   ],
   "source": [
    "mytup[0] = 2"
   ]
  },
  {
   "cell_type": "code",
   "execution_count": 203,
   "id": "e891a65e-8ba0-48d7-8361-a29a3823703b",
   "metadata": {},
   "outputs": [],
   "source": [
    "anestimator = SOAPEstimator(calculator_params=hypers,**hypers)"
   ]
  },
  {
   "cell_type": "code",
   "execution_count": 204,
   "id": "697ae981-3cbf-4cc8-8337-b56ef373a889",
   "metadata": {},
   "outputs": [
    {
     "data": {
      "text/plain": [
       "SOAPEstimator(compute_gradients=False, cutoff_smooth_width=0.3,\n",
       "              est_class=<class 'sklearn.linear_model._base.LinearRegression'>,\n",
       "              gaussian_sigma_constant=0.3, gaussian_sigma_type='Constant',\n",
       "              interaction_cutoff=3.0, max_angular=3, max_radial=4,\n",
       "              normalize=True, optimization={'Spline': {'accuracy': 1e-05}},\n",
       "              radial_basis='GTO', soap_type='PowerSpectrum', something_else=3)"
      ]
     },
     "execution_count": 204,
     "metadata": {},
     "output_type": "execute_result"
    }
   ],
   "source": [
    "anestimator.set_params(max_radial=4)"
   ]
  },
  {
   "cell_type": "code",
   "execution_count": 205,
   "id": "3b4cedde-8eae-422b-bd2d-5be6fa2395eb",
   "metadata": {},
   "outputs": [
    {
     "data": {
      "text/plain": [
       "{'est_class': sklearn.linear_model._base.LinearRegression,\n",
       " 'soap_type': 'PowerSpectrum',\n",
       " 'interaction_cutoff': 3.0,\n",
       " 'max_radial': 4,\n",
       " 'max_angular': 3,\n",
       " 'gaussian_sigma_constant': 0.3,\n",
       " 'gaussian_sigma_type': 'Constant',\n",
       " 'radial_basis': 'GTO',\n",
       " 'normalize': True,\n",
       " 'cutoff_smooth_width': 0.3,\n",
       " 'optimization': {'Spline': {'accuracy': 1e-05}},\n",
       " 'compute_gradients': False,\n",
       " 'something_else': 3}"
      ]
     },
     "execution_count": 205,
     "metadata": {},
     "output_type": "execute_result"
    }
   ],
   "source": [
    "anestimator.get_params()"
   ]
  },
  {
   "cell_type": "code",
   "execution_count": 142,
   "id": "3f9cd86c-b934-460b-ad9a-fcff50326d69",
   "metadata": {
    "collapsed": true,
    "jupyter": {
     "outputs_hidden": true
    },
    "tags": []
   },
   "outputs": [
    {
     "ename": "KeyError",
     "evalue": "'that'",
     "output_type": "error",
     "traceback": [
      "\u001b[0;31m---------------------------------------------------------------------------\u001b[0m",
      "\u001b[0;31mKeyError\u001b[0m                                  Traceback (most recent call last)",
      "\u001b[0;32m<ipython-input-142-772d3dbcf0e5>\u001b[0m in \u001b[0;36m<module>\u001b[0;34m\u001b[0m\n\u001b[0;32m----> 1\u001b[0;31m \u001b[0mtestdict\u001b[0m\u001b[0;34m[\u001b[0m\u001b[0;34m\"that\"\u001b[0m\u001b[0;34m]\u001b[0m\u001b[0;34m\u001b[0m\u001b[0;34m\u001b[0m\u001b[0m\n\u001b[0m",
      "\u001b[0;31mKeyError\u001b[0m: 'that'"
     ]
    }
   ],
   "source": [
    "testdict[\"that\"]"
   ]
  },
  {
   "cell_type": "code",
   "execution_count": null,
   "id": "474a6dbc-3bae-46d9-a8b7-5413e15ccf4d",
   "metadata": {},
   "outputs": [],
   "source": [
    "class custom_estimator()"
   ]
  },
  {
   "cell_type": "code",
   "execution_count": 32,
   "id": "b1df657e-10ff-483d-b5a4-7e84a2381be1",
   "metadata": {},
   "outputs": [],
   "source": [
    "hypers = dict(soap_type=\"PowerSpectrum\",\n",
    "              interaction_cutoff=3.,\n",
    "              max_radial=3,\n",
    "              max_angular=3,\n",
    "              gaussian_sigma_constant=0.3,\n",
    "              gaussian_sigma_type=\"Constant\",\n",
    "              radial_basis=\"GTO\",\n",
    "              normalize=True,\n",
    "              cutoff_smooth_width=0.3,\n",
    "              optimization=\n",
    "                    dict(\n",
    "                            Spline=dict(\n",
    "                               accuracy=1.0e-05\n",
    "                            )\n",
    "                        ),\n",
    "              compute_gradients=False,\n",
    "              )"
   ]
  },
  {
   "cell_type": "code",
   "execution_count": 215,
   "id": "3369bdca-3ac7-4230-b772-45f4cf538a9b",
   "metadata": {
    "tags": []
   },
   "outputs": [],
   "source": [
    "calculator1 = SOAP(**hypers)\n",
    "calculator2 = SOAP(**hypers)"
   ]
  },
  {
   "cell_type": "code",
   "execution_count": 140,
   "id": "0158ce25-2452-4818-814f-5297c7ff1d0e",
   "metadata": {},
   "outputs": [
    {
     "data": {
      "text/plain": [
       "False"
      ]
     },
     "execution_count": 140,
     "metadata": {},
     "output_type": "execute_result"
    }
   ],
   "source": [
    "None or False"
   ]
  },
  {
   "cell_type": "code",
   "execution_count": 217,
   "id": "5ae825d7-52cc-434f-b0cf-d5d05538a197",
   "metadata": {},
   "outputs": [
    {
     "data": {
      "text/plain": [
       "array([[5.41785833e-01, 1.10014738e-04, 4.84635745e-05, ...,\n",
       "        0.00000000e+00, 0.00000000e+00, 0.00000000e+00],\n",
       "       [5.41786234e-01, 1.10014679e-04, 4.84635211e-05, ...,\n",
       "        0.00000000e+00, 0.00000000e+00, 0.00000000e+00],\n",
       "       [5.23035199e-01, 3.40452881e-06, 6.06416121e-05, ...,\n",
       "        0.00000000e+00, 0.00000000e+00, 0.00000000e+00],\n",
       "       ...,\n",
       "       [5.57798208e-01, 8.49432112e-04, 8.71898266e-04, ...,\n",
       "        0.00000000e+00, 0.00000000e+00, 0.00000000e+00],\n",
       "       [5.57811405e-01, 8.49498815e-04, 8.71915955e-04, ...,\n",
       "        0.00000000e+00, 0.00000000e+00, 0.00000000e+00],\n",
       "       [5.57799885e-01, 8.49472811e-04, 8.71933209e-04, ...,\n",
       "        0.00000000e+00, 0.00000000e+00, 0.00000000e+00]])"
      ]
     },
     "execution_count": 217,
     "metadata": {},
     "output_type": "execute_result"
    }
   ],
   "source": [
    "calculator1.transform(atom_features).get_features(calculator1)"
   ]
  },
  {
   "cell_type": "code",
   "execution_count": 56,
   "id": "0e7c16c6-5edb-4e4e-98fa-6d57999137a5",
   "metadata": {},
   "outputs": [
    {
     "name": "stdout",
     "output_type": "stream",
     "text": [
      "CPU times: user 2.93 s, sys: 362 ms, total: 3.3 s\n",
      "Wall time: 3.29 s\n"
     ]
    }
   ],
   "source": [
    "%%time\n",
    "this1 = calculator1.transform(atom_features)"
   ]
  },
  {
   "cell_type": "code",
   "execution_count": 50,
   "id": "0f4f5c7a-6ddf-456c-9d85-91bfad49fd1b",
   "metadata": {},
   "outputs": [
    {
     "name": "stdout",
     "output_type": "stream",
     "text": [
      "CPU times: user 221 ms, sys: 169 ms, total: 390 ms\n",
      "Wall time: 387 ms\n"
     ]
    },
    {
     "data": {
      "text/plain": [
       "array([[4.40537344e-01, 1.75525280e-07, 8.96905486e-08, ...,\n",
       "        0.00000000e+00, 0.00000000e+00, 0.00000000e+00],\n",
       "       [4.40537458e-01, 1.75525300e-07, 8.96905670e-08, ...,\n",
       "        0.00000000e+00, 0.00000000e+00, 0.00000000e+00],\n",
       "       [4.45389604e-01, 1.06477011e-08, 1.84489352e-07, ...,\n",
       "        0.00000000e+00, 0.00000000e+00, 0.00000000e+00],\n",
       "       ...,\n",
       "       [4.14811339e-01, 9.82317286e-07, 5.80091854e-07, ...,\n",
       "        0.00000000e+00, 0.00000000e+00, 0.00000000e+00],\n",
       "       [4.14822465e-01, 9.82034239e-07, 5.80357420e-07, ...,\n",
       "        0.00000000e+00, 0.00000000e+00, 0.00000000e+00],\n",
       "       [4.14812085e-01, 9.82270304e-07, 5.80068255e-07, ...,\n",
       "        0.00000000e+00, 0.00000000e+00, 0.00000000e+00]])"
      ]
     },
     "execution_count": 50,
     "metadata": {},
     "output_type": "execute_result"
    }
   ],
   "source": [
    "%%time\n",
    "this1.get_features(calculator1)"
   ]
  },
  {
   "cell_type": "code",
   "execution_count": 112,
   "id": "5666f432-ce79-4189-9d22-d0f1c56b9764",
   "metadata": {},
   "outputs": [],
   "source": []
  },
  {
   "cell_type": "code",
   "execution_count": 113,
   "id": "19fa4c04-7cf4-4696-86a3-e4308bb80ef8",
   "metadata": {},
   "outputs": [
    {
     "data": {
      "text/plain": [
       "(7944, 15000)"
      ]
     },
     "execution_count": 113,
     "metadata": {},
     "output_type": "execute_result"
    }
   ],
   "source": []
  },
  {
   "cell_type": "code",
   "execution_count": 57,
   "id": "6083b525-1d75-4c04-b6cd-737af0b75b13",
   "metadata": {},
   "outputs": [
    {
     "name": "stdout",
     "output_type": "stream",
     "text": [
      "CPU times: user 894 ms, sys: 27.6 ms, total: 921 ms\n",
      "Wall time: 919 ms\n"
     ]
    }
   ],
   "source": [
    "%%time\n",
    "this2 = calculator2.transform(train_structures)"
   ]
  },
  {
   "cell_type": "code",
   "execution_count": 55,
   "id": "1c9f380d-fc29-4672-9d38-931077dcd7fc",
   "metadata": {},
   "outputs": [
    {
     "name": "stdout",
     "output_type": "stream",
     "text": [
      "CPU times: user 148 ms, sys: 180 ms, total: 328 ms\n",
      "Wall time: 326 ms\n"
     ]
    },
    {
     "data": {
      "text/plain": [
       "array([[4.40537344e-01, 1.75525280e-07, 8.96905486e-08, ...,\n",
       "        0.00000000e+00, 0.00000000e+00, 0.00000000e+00],\n",
       "       [4.40537458e-01, 1.75525300e-07, 8.96905670e-08, ...,\n",
       "        0.00000000e+00, 0.00000000e+00, 0.00000000e+00],\n",
       "       [4.45389604e-01, 1.06477011e-08, 1.84489352e-07, ...,\n",
       "        0.00000000e+00, 0.00000000e+00, 0.00000000e+00],\n",
       "       ...,\n",
       "       [4.14811339e-01, 9.82317286e-07, 5.80091854e-07, ...,\n",
       "        0.00000000e+00, 0.00000000e+00, 0.00000000e+00],\n",
       "       [4.14822465e-01, 9.82034239e-07, 5.80357420e-07, ...,\n",
       "        0.00000000e+00, 0.00000000e+00, 0.00000000e+00],\n",
       "       [4.14812085e-01, 9.82270304e-07, 5.80068255e-07, ...,\n",
       "        0.00000000e+00, 0.00000000e+00, 0.00000000e+00]])"
      ]
     },
     "execution_count": 55,
     "metadata": {},
     "output_type": "execute_result"
    }
   ],
   "source": [
    "%%time\n",
    "this2.get_features(calculator2)"
   ]
  },
  {
   "cell_type": "code",
   "execution_count": null,
   "id": "5ccc884d-0c99-4308-900d-1c2afeac2d07",
   "metadata": {},
   "outputs": [],
   "source": []
  },
  {
   "cell_type": "code",
   "execution_count": 25,
   "id": "7a48d6fc-a34e-440e-85b9-89184a235eea",
   "metadata": {},
   "outputs": [],
   "source": [
    "import sys"
   ]
  },
  {
   "cell_type": "code",
   "execution_count": 30,
   "id": "99bd8937-bb5c-4546-b6d9-26a614a538a6",
   "metadata": {},
   "outputs": [
    {
     "data": {
      "text/plain": [
       "(array([3]),)"
      ]
     },
     "execution_count": 30,
     "metadata": {},
     "output_type": "execute_result"
    }
   ],
   "source": [
    "atom_features[1].arrays[\"center_atoms_mask\"].nonzero()"
   ]
  },
  {
   "cell_type": "code",
   "execution_count": 26,
   "id": "8ec27898-a8e9-4ef2-94d5-a608538b3737",
   "metadata": {},
   "outputs": [
    {
     "data": {
      "text/plain": [
       "69152"
      ]
     },
     "execution_count": 26,
     "metadata": {},
     "output_type": "execute_result"
    }
   ],
   "source": [
    "sys.getsizeof(atom_features)"
   ]
  },
  {
   "cell_type": "code",
   "execution_count": 24,
   "id": "3fa939a9-c9a3-4cd6-8f69-1d6a28a26285",
   "metadata": {},
   "outputs": [
    {
     "data": {
      "text/plain": [
       "7944"
      ]
     },
     "execution_count": 24,
     "metadata": {},
     "output_type": "execute_result"
    }
   ],
   "source": [
    "len(atom_features)"
   ]
  },
  {
   "cell_type": "code",
   "execution_count": 139,
   "id": "82709b4d-de81-42c9-bf4e-40623fc0a883",
   "metadata": {},
   "outputs": [
    {
     "data": {
      "text/plain": [
       "200"
      ]
     },
     "execution_count": 139,
     "metadata": {},
     "output_type": "execute_result"
    }
   ],
   "source": [
    "len(train_structures)"
   ]
  },
  {
   "cell_type": "code",
   "execution_count": 29,
   "id": "5f798283-6bf8-40b8-8733-88d72700672a",
   "metadata": {
    "tags": []
   },
   "outputs": [],
   "source": [
    "#pipeline.get_params().keys()\n",
    "from sklearn.pipeline import Pipeline, make_pipeline\n",
    "from sklearn.preprocessing import StandardScaler, FunctionTransformer\n",
    "from sklearn.svm import SVC\n",
    "from sklearn.model_selection import GroupKFold"
   ]
  },
  {
   "cell_type": "code",
   "execution_count": 28,
   "id": "2791f41f-8d81-4b6e-bcec-475155899ce4",
   "metadata": {
    "tags": []
   },
   "outputs": [],
   "source": [
    "from skcosmo.model_selection import atom_groups_by_frame"
   ]
  },
  {
   "cell_type": "code",
   "execution_count": 101,
   "id": "5bc9092d-15c6-4289-b9ad-79e5ef6b8bea",
   "metadata": {
    "tags": []
   },
   "outputs": [],
   "source": [
    "param_grid = {\n",
    "    'ridge__alpha': np.logspace()\n",
    "\n",
    "}"
   ]
  },
  {
   "cell_type": "code",
   "execution_count": 68,
   "id": "549daea2-c7e9-4e69-825c-51e8f9240acd",
   "metadata": {},
   "outputs": [],
   "source": [
    "atom_groups = atom_groups_by_frame(train_structures)"
   ]
  },
  {
   "cell_type": "code",
   "execution_count": 166,
   "id": "e90101ab-5802-4fe0-829a-d5e040475ff2",
   "metadata": {},
   "outputs": [
    {
     "data": {
      "text/plain": [
       "array([  0,   0,   0, ..., 199, 199, 199])"
      ]
     },
     "execution_count": 166,
     "metadata": {},
     "output_type": "execute_result"
    }
   ],
   "source": [
    "this"
   ]
  },
  {
   "cell_type": "code",
   "execution_count": 179,
   "id": "fdfd1ea0-2d5d-4033-8a42-ef57f3f74d1f",
   "metadata": {},
   "outputs": [],
   "source": [
    "my_structs  = np.random.shuffle(train_structures)"
   ]
  },
  {
   "cell_type": "code",
   "execution_count": 182,
   "id": "eeee3171-875a-4f82-ba14-a3a7988dc946",
   "metadata": {},
   "outputs": [
    {
     "data": {
      "text/plain": [
       "NoneType"
      ]
     },
     "execution_count": 182,
     "metadata": {},
     "output_type": "execute_result"
    }
   ],
   "source": [
    "type(my_structs)"
   ]
  },
  {
   "cell_type": "code",
   "execution_count": null,
   "id": "4b2bc2c1-51fb-49b4-b090-591282bf567e",
   "metadata": {},
   "outputs": [],
   "source": []
  },
  {
   "cell_type": "code",
   "execution_count": 26,
   "id": "29ae44ab-004c-4834-bee9-51d8d4123b54",
   "metadata": {},
   "outputs": [],
   "source": [
    "from helpers import grouper"
   ]
  },
  {
   "cell_type": "code",
   "execution_count": 198,
   "id": "249aef1b-265d-4fb3-a1c9-f62b85080fee",
   "metadata": {},
   "outputs": [
    {
     "data": {
      "text/plain": [
       "list"
      ]
     },
     "execution_count": 198,
     "metadata": {},
     "output_type": "execute_result"
    }
   ],
   "source": [
    "type(train_structures)"
   ]
  },
  {
   "cell_type": "code",
   "execution_count": 61,
   "id": "ad5546d3-71eb-4ef1-912b-48a5c0609991",
   "metadata": {},
   "outputs": [],
   "source": [
    "class AtomsSplit:\n",
    "    def __init__(self, n_splits=2):\n",
    "        self.n_splits = n_splits\n",
    "    \n",
    "    def split(self,frames,prop=\"cs_iso\"):\n",
    "        \n",
    "        ids = list(range(len(frames)))\n",
    "        np.random.shuffle(ids)\n",
    "        framegroups = [[frames[id_] for id_ in id_group] for id_group in np.array_split(ids,self.n_splits)]\n",
    "        property_group = [np.concatenate([structure.arrays[prop][structure.arrays[\"center_atoms_mask\"]] for structure in group]) for group in framegroups]\n",
    "        return [i for i in zip(framegroups,property_group)]\n",
    "        "
   ]
  },
  {
   "cell_type": "code",
   "execution_count": 71,
   "id": "697ace05-8c26-49a7-acaf-c66b405b58f8",
   "metadata": {
    "tags": []
   },
   "outputs": [],
   "source": [
    "splits = list(GroupKFold(n_splits=2).split(atom_features,groups=atom_groups))"
   ]
  },
  {
   "cell_type": "code",
   "execution_count": 72,
   "id": "08ab1738-c1fb-4ac0-af9e-fa4644552db8",
   "metadata": {
    "tags": []
   },
   "outputs": [
    {
     "data": {
      "text/plain": [
       "[(array([   0,    1,    2, ..., 7941, 7942, 7943]),\n",
       "  array([  20,   21,   22, ..., 7801, 7802, 7803])),\n",
       " (array([  20,   21,   22, ..., 7801, 7802, 7803]),\n",
       "  array([   0,    1,    2, ..., 7941, 7942, 7943]))]"
      ]
     },
     "execution_count": 72,
     "metadata": {},
     "output_type": "execute_result"
    }
   ],
   "source": [
    "splits"
   ]
  },
  {
   "cell_type": "code",
   "execution_count": 236,
   "id": "0610aadc-c280-4124-8e4e-4bfdb10780a3",
   "metadata": {
    "collapsed": true,
    "jupyter": {
     "outputs_hidden": true
    },
    "tags": []
   },
   "outputs": [
    {
     "data": {
      "text/plain": [
       "[array([Atoms(symbols='C24H28N20', pbc=True, cell=[[7.487738246, 0.0, 0.0], [0.0, 12.2678654158, 0.0], [-2.89054400927, 0.0, 7.11499114838]], center_atoms_mask=..., cs_iso=..., cs_tensor=...),\n",
       "        Atoms(symbols='C80H80O32', pbc=True, cell=[[15.275098208, 0.0, 0.0], [0.0, 16.0231044921, 0.0], [-2.25840799495, 0.0, 7.38233276314]], center_atoms_mask=..., cs_iso=..., cs_tensor=...),\n",
       "        Atoms(symbols='C24H40N16O16', pbc=True, cell=[8.068037034, 20.4510942469, 5.07502119942], center_atoms_mask=..., cs_iso=..., cs_tensor=...),\n",
       "        Atoms(symbols='N4H8C4O4N4H8', pbc=True, cell=[3.538997086, 8.23399341415, 8.78999109035], center_atoms_mask=..., cs_iso=..., cs_tensor=...),\n",
       "        Atoms(symbols='C56H96O16', pbc=True, cell=[6.075938924, 9.23695830109, 25.7301674216], center_atoms_mask=..., cs_iso=..., cs_tensor=...),\n",
       "        Atoms(symbols='C24H40N8O12', pbc=True, cell=[[6.794036184, 0.0, 0.0], [0.0, 9.42605259572, 0.0], [-2.31131072769, 0.0, 11.5459957062]], center_atoms_mask=..., cs_iso=..., cs_tensor=...),\n",
       "        Atoms(symbols='C32H20N4O20', pbc=True, cell=[14.017078594, 3.76882798988, 14.6047866653], center_atoms_mask=..., cs_iso=..., cs_tensor=...),\n",
       "        Atoms(symbols='C58H48O10', pbc=True, cell=[[8.409040626, 0.0, 0.0], [-6.9641908566, 16.9047700518, 0.0], [-1.47193528926, -2.00494232934, 7.99927648534]], center_atoms_mask=..., cs_iso=..., cs_tensor=...),\n",
       "        Atoms(symbols='C12H36N4O24S4', pbc=True, cell=[6.48854057, 17.8341106264, 5.09833182163], center_atoms_mask=..., cs_iso=..., cs_tensor=...),\n",
       "        Atoms(symbols='C32H64N32O16', pbc=True, cell=[[13.865098098, 0.0, 0.0], [0.0, 5.69203872217, 0.0], [-3.27880453312, 0.0, 17.2207568699]], center_atoms_mask=..., cs_iso=..., cs_tensor=...),\n",
       "        Atoms(symbols='C56H56N8O16', pbc=True, cell=[[6.949562186, 0.0, 0.0], [0.0, 21.2530885312, 0.0], [-2.41399297137, 0.0, 8.22004639703]], center_atoms_mask=..., cs_iso=..., cs_tensor=...),\n",
       "        Atoms(symbols='C24H56O12', pbc=True, cell=[[8.431054514, 0.0, 0.0], [0.0, 9.59806421772, 0.0], [-1.43130640062, 0.0, 9.07791874053]], center_atoms_mask=..., cs_iso=..., cs_tensor=...),\n",
       "        Atoms(symbols='N8C4O4C12O4N4H20', pbc=True, cell=[[4.970111478, 0.0, 0.0], [0.0, 13.4730328658, 0.0], [-0.714885924661, 0.0, 7.44618125545]], center_atoms_mask=..., cs_iso=..., cs_tensor=...),\n",
       "        Atoms(symbols='S4C4H8C4H8N4H12', pbc=True, cell=[[5.18702236, 0.0, 0.0], [0.0, 9.31133795293, 0.0], [-1.65928695679, 0.0, 8.69004160167]], center_atoms_mask=..., cs_iso=..., cs_tensor=...),\n",
       "        Atoms(symbols='C16H24N24O16', pbc=True, cell=[[6.970835222, 0.0, 0.0], [0.0, 14.408075087, 0.0], [-2.15154132044, 0.0, 7.50825176344]], center_atoms_mask=..., cs_iso=..., cs_tensor=...),\n",
       "        Atoms(symbols='C40H36N12O8S4', pbc=True, cell=[[9.677273414, 0.0, 0.0], [0.0, 5.53483911095, 0.0], [-2.33321965194, 0.0, 18.9369531256]], center_atoms_mask=..., cs_iso=..., cs_tensor=...),\n",
       "        Atoms(symbols='O8N8C8H24', pbc=True, cell=[[8.20202541, 0.0, 0.0], [0.0, 7.08102178911, 0.0], [-1.4433104114, 0.0, 7.17224471572]], center_atoms_mask=..., cs_iso=..., cs_tensor=...),\n",
       "        Atoms(symbols='C20H16N32O28', pbc=True, cell=[6.962738768, 9.78615718938, 15.435688612], center_atoms_mask=..., cs_iso=..., cs_tensor=...),\n",
       "        Atoms(symbols='C28H32N16O24', pbc=True, cell=[[13.982999402, 0.0, 0.0], [0.0, 5.18454660328, 0.0], [-4.77294303288, 0.0, 13.7982140649]], center_atoms_mask=..., cs_iso=..., cs_tensor=...),\n",
       "        Atoms(symbols='C20H40N24O8', pbc=True, cell=[[12.15605837, 0.0, 0.0], [0.0, 7.3970344545, 0.0], [-4.00440012401, 0.0, 9.07918981174]], center_atoms_mask=..., cs_iso=..., cs_tensor=...),\n",
       "        Atoms(symbols='C48H60N4O20', pbc=True, cell=[[10.050027806, 0.0, 0.0], [-2.58977156527, 11.2354185357, 0.0], [-0.628890539988, -5.13539335839, 11.8389026054]], center_atoms_mask=..., cs_iso=..., cs_tensor=...),\n",
       "        Atoms(symbols='O4C4N8H16', pbc=True, cell=[[3.737016242, 0.0, 0.0], [0.0, 10.6090453055, 0.0], [-0.585306431887, 0.0, 6.54792138189]], center_atoms_mask=..., cs_iso=..., cs_tensor=...),\n",
       "        Atoms(symbols='C48H64O40', pbc=True, cell=[[7.081963022, 0.0, 0.0], [0.0, 7.43696766437, 0.0], [-1.21830301671, 0.0, 25.4470794978]], center_atoms_mask=..., cs_iso=..., cs_tensor=...),\n",
       "        Atoms(symbols='C12H36N44O12', pbc=True, cell=[[7.147052162, 0.0, 0.0], [0.0, 7.3979565752, 0.0], [-3.54634584163, 0.0, 19.531700001]], center_atoms_mask=..., cs_iso=..., cs_tensor=...),\n",
       "        Atoms(symbols='C56H28N4O20', pbc=True, cell=[[7.46964029, 0.0, 0.0], [0.0, 10.1464531147, 0.0], [-0.0300130146852, 0.0, 14.5732457969]], center_atoms_mask=..., cs_iso=..., cs_tensor=...),\n",
       "        Atoms(symbols='C40H44N4O16', pbc=True, cell=[[9.524075804, 0.0, 0.0], [0.0, 8.11106486957, 0.0], [-1.95413082531, 0.0, 11.4201097669]], center_atoms_mask=..., cs_iso=..., cs_tensor=...),\n",
       "        Atoms(symbols='C20H24N24', pbc=True, cell=[[3.958901416, 0.0, 0.0], [0.0, 10.9827051302, 0.0], [-0.829164189271, 0.0, 15.3283951735]], center_atoms_mask=..., cs_iso=..., cs_tensor=...),\n",
       "        Atoms(symbols='C76H84N12O24', pbc=True, cell=[[10.060029308, 0.0, 0.0], [0.0, 19.2820581746, 0.0], [-4.33138585868, 0.0, 9.45184017616]], center_atoms_mask=..., cs_iso=..., cs_tensor=...),\n",
       "        Atoms(symbols='C56H32O24', pbc=True, cell=[[10.326048094, 0.0, 0.0], [0.0, 11.418048332, 0.0], [-3.78196674467, 0.0, 9.41267816194]], center_atoms_mask=..., cs_iso=..., cs_tensor=...),\n",
       "        Atoms(symbols='C16H20N36O2S2', pbc=True, cell=[[9.753951596, 0.0, 0.0], [2.77194624221, 9.4468679379, 0.0], [4.87502500768, 0.50499133598, 8.86206976996]], center_atoms_mask=..., cs_iso=..., cs_tensor=...),\n",
       "        Atoms(symbols='C52H80N16O8', pbc=True, cell=[[9.903233274, 0.0, 0.0], [0.0, 10.1842375181, 0.0], [-2.95287677501, 0.0, 13.2593201918]], center_atoms_mask=..., cs_iso=..., cs_tensor=...),\n",
       "        Atoms(symbols='O12N8C8H16', pbc=True, cell=[[8.385068772, 0.0, 0.0], [0.0, 5.12604409239, 0.0], [-3.85708132471, 0.0, 10.1007041532]], center_atoms_mask=..., cs_iso=..., cs_tensor=...),\n",
       "        Atoms(symbols='C28H24O16S8', pbc=True, cell=[[8.223033856, 0.0, 0.0], [0.072181791188, 15.905904841, 0.0], [-3.17483114146, -0.844637145553, 6.65088023611]], center_atoms_mask=..., cs_iso=..., cs_tensor=...),\n",
       "        Atoms(symbols='C24H48N24O16', pbc=True, cell=[7.334064374, 11.2361019857, 11.6251007601], center_atoms_mask=..., cs_iso=..., cs_tensor=...),\n",
       "        Atoms(symbols='S2O6C2O2C4N4C2N2H4N2H8C4H4O2H4', pbc=True, cell=[[7.6334215, 0.0, 0.0], [3.71665186098, 7.15882878508, 0.0], [0.872606945351, 3.82322969196, 9.1024124003]], center_atoms_mask=..., cs_iso=..., cs_tensor=...),\n",
       "        Atoms(symbols='C40H56N40O16', pbc=True, cell=[[8.791955274, 0.0, 0.0], [0.0, 16.8984105872, 0.0], [-0.0937046593103, 0.0, 9.57020157094]], center_atoms_mask=..., cs_iso=..., cs_tensor=...),\n",
       "        Atoms(symbols='C64H56O20', pbc=True, cell=[[10.13406159, 0.0, 0.0], [0.0, 6.51603945738, 0.0], [-3.72128822022, 0.0, 21.8140033371]], center_atoms_mask=..., cs_iso=..., cs_tensor=...),\n",
       "        Atoms(symbols='C96H36O36', pbc=True, cell=[[7.020736896, 0.0, 0.0], [0.0321970994051, 14.9982457747, 0.0], [2.167189148, 5.62947958974, 17.351975902]], center_atoms_mask=..., cs_iso=..., cs_tensor=...),\n",
       "        Atoms(symbols='C20H44N44O28', pbc=True, cell=[[9.688439112, 0.0, 0.0], [0.0, 7.15433097787, 0.0], [-2.55336875109, 0.0, 18.1383372332]], center_atoms_mask=..., cs_iso=..., cs_tensor=...),\n",
       "        Atoms(symbols='C68H120O8', pbc=True, cell=[[9.54402589, 0.0, 0.0], [0.0, 11.8260311124, 0.0], [-0.954698453803, 0.0, 14.2982010506]], center_atoms_mask=..., cs_iso=..., cs_tensor=...),\n",
       "        Atoms(symbols='C22H36O14', pbc=True, cell=[[6.55601102, 0.0, 0.0], [-3.12960364455, 9.51873796005, 0.0], [-2.76990809994, 1.88335839774, 10.8654475197]], center_atoms_mask=..., cs_iso=..., cs_tensor=...),\n",
       "        Atoms(symbols='C12H16N24O24', pbc=True, cell=[[8.862759558, 0.0, 0.0], [0.0, 8.65935922614, 0.0], [-0.990076595743, 0.0, 10.7071973124]], center_atoms_mask=..., cs_iso=..., cs_tensor=...),\n",
       "        Atoms(symbols='C14O6H16', pbc=True, cell=[[4.27683276, 0.0, 0.0], [0.0, 11.0488852267, 0.0], [-1.71704998599, 0.0, 6.93360982418]], center_atoms_mask=..., cs_iso=..., cs_tensor=...),\n",
       "        Atoms(symbols='C4H20N28O12', pbc=True, cell=[[11.90707918, 0.0, 0.0], [0.0, 5.00893909157, 0.0], [-0.0364713835283, 0.0, 9.90499907252]], center_atoms_mask=..., cs_iso=..., cs_tensor=...),\n",
       "        Atoms(symbols='C36H36N20O4', pbc=True, cell=[[17.17506608, 0.0, 0.0], [0.0, 4.06532096607, 0.0], [-4.35808714247, 0.0, 13.7467683148]], center_atoms_mask=..., cs_iso=..., cs_tensor=...),\n",
       "        Atoms(symbols='C24H24N16O8', pbc=True, cell=[[3.742043452, 0.0, 0.0], [0.0, 14.7101711381, 0.0], [-1.43969134546, 0.0, 12.0736096468]], center_atoms_mask=..., cs_iso=..., cs_tensor=...),\n",
       "        Atoms(symbols='C32H104N8O16S8', pbc=True, cell=[[6.452926756, 0.0, 0.0], [-2.20357124035, 11.7951822117, 0.0], [-0.180830366483, -1.716310741, 20.403225181]], center_atoms_mask=..., cs_iso=..., cs_tensor=...),\n",
       "        Atoms(symbols='C72H48O24', pbc=True, cell=[[12.642057282, 0.0, 0.0], [0.0, 11.4120483187, 0.0], [-5.48533808643, 0.0, 10.4170931265]], center_atoms_mask=..., cs_iso=..., cs_tensor=...),\n",
       "        Atoms(symbols='C56H56N8', pbc=True, cell=[[7.783761538, 0.0, 0.0], [0.0, 8.98677301874, 0.0], [-1.78272268881, 0.0, 15.8733314993]], center_atoms_mask=..., cs_iso=..., cs_tensor=...),\n",
       "        Atoms(symbols='C48H48N8O24', pbc=True, cell=[[12.7770511, 0.0, 0.0], [0.0, 7.95403373603, 0.0], [-2.41997347834, 0.0, 12.2105549854]], center_atoms_mask=..., cs_iso=..., cs_tensor=...),\n",
       "        Atoms(symbols='C26H22N10O4', pbc=True, cell=[[6.659518628, 0.0, 0.0], [-3.31004713886, 6.51318236567, 0.0], [-0.0913086599085, -0.926039362817, 13.9951382252]], center_atoms_mask=..., cs_iso=..., cs_tensor=...),\n",
       "        Atoms(symbols='C16H48N16O8S4', pbc=True, cell=[[5.513050158, 0.0, 0.0], [0.0, 10.9520986437, 0.0], [-2.70245308305, 0.0, 14.3987197763]], center_atoms_mask=..., cs_iso=..., cs_tensor=...),\n",
       "        Atoms(symbols='C12H24N8O20', pbc=True, cell=[[3.530001026, 0.0, 0.0], [0.0, 9.64200365246, 0.0], [-0.311967370674, 0.0, 16.7030929448]], center_atoms_mask=..., cs_iso=..., cs_tensor=...),\n",
       "        Atoms(symbols='C20H20N20O16S4', pbc=True, cell=[[7.733066094, 0.0, 0.0], [0.0, 6.24465193062, 0.0], [-2.11275872061, 0.0, 17.6083538904]], center_atoms_mask=..., cs_iso=..., cs_tensor=...),\n",
       "        Atoms(symbols='C20H52N4O14S6', pbc=True, cell=[[7.523034552, 0.0, 0.0], [0.0, 10.959052692, 0.0], [-0.241323902359, 0.0, 10.394245827]], center_atoms_mask=..., cs_iso=..., cs_tensor=...),\n",
       "        Atoms(symbols='C40H56O4', pbc=True, cell=[10.060029308, 10.060029308, 8.89002777942], center_atoms_mask=..., cs_iso=..., cs_tensor=...),\n",
       "        Atoms(symbols='C56H72N8O40', pbc=True, cell=[9.144865416, 9.144865416, 19.350141991], center_atoms_mask=..., cs_iso=..., cs_tensor=...),\n",
       "        Atoms(symbols='S8O2C10H20', pbc=True, cell=[[11.840084992, 0.0, 0.0], [0.0, 5.00003237187, 0.0], [-0.928902027962, 0.0, 7.67605734125]], center_atoms_mask=..., cs_iso=..., cs_tensor=...),\n",
       "        Atoms(symbols='C16H48N8O4S16', pbc=True, cell=[[20.561130146, 0.0, 0.0], [0.0, 5.47304386678, 0.0], [-4.10264454255, 0.0, 9.1032758831]], center_atoms_mask=..., cs_iso=..., cs_tensor=...),\n",
       "        Atoms(symbols='O2N16C6H6O2H4O2H4N2H8', pbc=True, cell=[[6.48404254, 0.0, 0.0], [-0.591759658371, 8.33707815325, 0.0], [-2.7545444678, -2.72632591467, 8.38688856804]], center_atoms_mask=..., cs_iso=..., cs_tensor=...),\n",
       "        Atoms(symbols='C16H36N20O12', pbc=True, cell=[[7.116042214, 0.0, 0.0], [0.0, 8.73504855832, 0.0], [-2.53811435668, 0.0, 12.9130050309]], center_atoms_mask=..., cs_iso=..., cs_tensor=...),\n",
       "        Atoms(symbols='C42H44N4O16', pbc=True, cell=[[7.421537828, 0.0, 0.0], [-2.76182140116, 11.5535458076, 0.0], [-1.04352016938, -6.18663846265, 11.9784362698]], center_atoms_mask=..., cs_iso=..., cs_tensor=...),\n",
       "        Atoms(symbols='C40H56O16', pbc=True, cell=[[19.121178448, 0.0, 0.0], [0.0, 5.10105238047, 0.0], [-0.255019156961, 0.0, 10.0464583684]], center_atoms_mask=..., cs_iso=..., cs_tensor=...),\n",
       "        Atoms(symbols='C72H48O8', pbc=True, cell=[12.851083382, 9.8680642052, 9.80605772789], center_atoms_mask=..., cs_iso=..., cs_tensor=...),\n",
       "        Atoms(symbols='C20H36N4O24', pbc=True, cell=[5.630422282, 7.23532911011, 19.5970788821], center_atoms_mask=..., cs_iso=..., cs_tensor=...),\n",
       "        Atoms(symbols='C52H40N40O24', pbc=True, cell=[[11.549035992, 0.0, 0.0], [0.0, 11.44603014, 0.0], [-3.76108215923, 0.0, 12.9061863095]], center_atoms_mask=..., cs_iso=..., cs_tensor=...),\n",
       "        Atoms(symbols='C40H56N16O28', pbc=True, cell=[[16.367061138, 0.0, 0.0], [0.0, 6.63483014294, 0.0], [-3.5346141563, 0.0, 11.2384097963]], center_atoms_mask=..., cs_iso=..., cs_tensor=...),\n",
       "        Atoms(symbols='C24H14N38O30', pbc=True, cell=[[8.267961238, 0.0, 0.0], [0.0, 11.4176079998, 0.0], [0.250238114829, 0.0, 11.7339650006]], center_atoms_mask=..., cs_iso=..., cs_tensor=...),\n",
       "        Atoms(symbols='N2H6N2H2N2O4H2O4C2H6C2H2C2H6C4H2C6', pbc=True, cell=[[6.669361376, 0.0, 0.0], [3.13355275698, 8.26563967454, 0.0], [1.65736297938, 1.01721766643, 9.12251922413]], center_atoms_mask=..., cs_iso=..., cs_tensor=...),\n",
       "        Atoms(symbols='O8N4C6H2C2H2C2H4C2H4', pbc=True, cell=[[5.099919332, 0.0, 0.0], [0.0, 4.62732000734, 0.0], [-4.41198611339, 0.0, 14.3476183565]], center_atoms_mask=..., cs_iso=..., cs_tensor=...),\n",
       "        Atoms(symbols='O2N14C8H6C2H6C2H4C2H2C2H4', pbc=True, cell=[[7.958549692, 0.0, 0.0], [3.46772314745, 7.7442100317, 0.0], [2.94022251531, 3.06380287493, 8.00895914575]], center_atoms_mask=..., cs_iso=..., cs_tensor=...),\n",
       "        Atoms(symbols='C12H24N16O12', pbc=True, cell=[12.618085428, 5.18713088434, 9.87406824423], center_atoms_mask=..., cs_iso=..., cs_tensor=...),\n",
       "        Atoms(symbols='C36H60O10S2', pbc=True, cell=[[10.141364274, 0.0, 0.0], [0.0, 8.54455576224, 0.0], [-2.90949656202, 0.0, 10.3863492108]], center_atoms_mask=..., cs_iso=..., cs_tensor=...),\n",
       "        Atoms(symbols='C28H40N16O12', pbc=True, cell=[[9.394056278, 0.0, 0.0], [0.0, 12.4610747419, 0.0], [-0.465719734038, 0.0, 7.72502369314]], center_atoms_mask=..., cs_iso=..., cs_tensor=...),\n",
       "        Atoms(symbols='C56H96O12', pbc=True, cell=[[8.976639094, 0.0, 0.0], [0.0, 17.1420772664, 0.0], [-2.96370921, 0.0, 9.84983268523]], center_atoms_mask=..., cs_iso=..., cs_tensor=...),\n",
       "        Atoms(symbols='C32H48O40', pbc=True, cell=[[6.081019052, 0.0, 0.0], [0.0, 15.0340486731, 0.0], [-2.7527374614, 0.0, 11.9921526747]], center_atoms_mask=..., cs_iso=..., cs_tensor=...),\n",
       "        Atoms(symbols='C20H28N28O24', pbc=True, cell=[[15.950861068, 0.0, 0.0], [0.0, 5.64261710281, 0.0], [-1.40905121416, 0.0, 10.5899042699]], center_atoms_mask=..., cs_iso=..., cs_tensor=...),\n",
       "        Atoms(symbols='C32H28N4O20', pbc=True, cell=[[11.250684308, 0.0, 0.0], [0.0, 7.87255383768, 0.0], [-4.48844925399, 0.0, 9.58268035386]], center_atoms_mask=..., cs_iso=..., cs_tensor=...),\n",
       "        Atoms(symbols='NOHO3CHC2H2CH2CHCHCH2C3HCHCHCHCHOH2', pbc=True, cell=[[6.882356326, 0.0, 0.0], [-3.39220331538, 6.36211212896, 0.0], [-0.421654442669, -2.31432996174, 15.0615206427]], center_atoms_mask=..., cs_iso=..., cs_tensor=...),\n",
       "        Atoms(symbols='C8H10N10O6', pbc=True, cell=[[9.670076566, 0.0, 0.0], [0.556793338594, 10.6955978559, 0.0], [-4.12357206973, -0.77484389508, 3.13907124463]], center_atoms_mask=..., cs_iso=..., cs_tensor=...),\n",
       "        Atoms(symbols='C80H48N16O8', pbc=True, cell=[11.900041086, 9.19782735636, 14.5210489353], center_atoms_mask=..., cs_iso=..., cs_tensor=...),\n",
       "        Atoms(symbols='C32H64N64', pbc=True, cell=[5.435049026, 12.4301147389, 21.4051905521], center_atoms_mask=..., cs_iso=..., cs_tensor=...),\n",
       "        Atoms(symbols='C52H72O8', pbc=True, cell=[[6.300522916, 0.0, 0.0], [0.0, 22.3730812684, 0.0], [-0.884952547213, 0.0, 7.47915543737]], center_atoms_mask=..., cs_iso=..., cs_tensor=...),\n",
       "        Atoms(symbols='C48H56O12', pbc=True, cell=[[5.747635652, 0.0, 0.0], [0.0, 11.0298680024, 0.0], [-1.24243766071, 0.0, 16.1764561513]], center_atoms_mask=..., cs_iso=..., cs_tensor=...),\n",
       "        Atoms(symbols='C40H28O4', pbc=True, cell=[[9.390140346, 0.0, 0.0], [5.38023115349, 17.6973158059, 0.0], [-0.937333199478, 0.23502582272, 4.09904979482]], center_atoms_mask=..., cs_iso=..., cs_tensor=...),\n",
       "        Atoms(symbols='C16H32N16O8', pbc=True, cell=[[7.07751791, 0.0, 0.0], [0.745552814157, 9.39347994065, 0.0], [1.57680729269, 1.11180728848, 9.54447170775]], center_atoms_mask=..., cs_iso=..., cs_tensor=...),\n",
       "        Atoms(symbols='C22H38N10O2', pbc=True, cell=[[6.613109542, 0.0, 0.0], [1.09496561242, 8.89467201265, 0.0], [0.180299818553, 0.00361737091947, 10.9538289963]], center_atoms_mask=..., cs_iso=..., cs_tensor=...),\n",
       "        Atoms(symbols='C8H72N72O32', pbc=True, cell=[12.521774668, 8.10365430302, 16.9860002073], center_atoms_mask=..., cs_iso=..., cs_tensor=...),\n",
       "        Atoms(symbols='C24H48N32O24', pbc=True, cell=[[7.20901914, 0.0, 0.0], [0.0, 7.14302056977, 0.0], [-12.3541609814, 0.0, 21.5454152782]], center_atoms_mask=..., cs_iso=..., cs_tensor=...),\n",
       "        Atoms(symbols='N4O10C14H24', pbc=True, cell=[[9.900058194, 0.0, 0.0], [-1.45890227564, 7.00166765683, 0.0], [-1.61456089063, 2.38595362499, 6.73691040055]], center_atoms_mask=..., cs_iso=..., cs_tensor=...),\n",
       "        Atoms(symbols='C32H28N20O8', pbc=True, cell=[[6.33931181, 0.0, 0.0], [0.0, 4.93810836339, 0.0], [-5.94135517182, 0.0, 28.1815691342]], center_atoms_mask=..., cs_iso=..., cs_tensor=...),\n",
       "        Atoms(symbols='C48H68O16', pbc=True, cell=[[7.86493775, 0.0, 0.0], [0.0, 10.962150236, 0.0], [-0.762521444738, 0.0, 13.3094409074]], center_atoms_mask=..., cs_iso=..., cs_tensor=...),\n",
       "        Atoms(symbols='C8H10N2O6', pbc=True, cell=[[7.367032288, 0.0, 0.0], [0.0, 9.0410430348, 0.0], [-0.610520699771, 0.0, 3.69187772565]], center_atoms_mask=..., cs_iso=..., cs_tensor=...),\n",
       "        Atoms(symbols='C45H84O12S9', pbc=True, cell=[[8.993467018, 0.0, 0.0], [-4.496733509, 7.78856727426, 0.0], [0.0, 0.0, 22.21916968]], center_atoms_mask=..., cs_iso=..., cs_tensor=...),\n",
       "        Atoms(symbols='C36H40N24O8', pbc=True, cell=[[11.634075218, 0.0, 0.0], [0.0, 9.73805834565, 0.0], [-1.5435741977, 0.0, 9.62609200575]], center_atoms_mask=..., cs_iso=..., cs_tensor=...),\n",
       "        Atoms(symbols='C4O4C4O4C4H24', pbc=True, cell=[[7.700045262, 0.0, 0.0], [0.0, 6.96004011214, 0.0], [-2.59479205257, 0.0, 7.5358263967]], center_atoms_mask=..., cs_iso=..., cs_tensor=...),\n",
       "        Atoms(symbols='C36H32N8O20', pbc=True, cell=[[7.237224434, 0.0, 0.0], [0.0, 13.3960445295, 0.0], [-0.00166456161982, 0.0, 9.55193487362]], center_atoms_mask=..., cs_iso=..., cs_tensor=...),\n",
       "        Atoms(symbols='C72H72N8O16', pbc=True, cell=[[20.019091072, 0.0, 0.0], [0.0, 7.1950415031, 0.0], [-2.62204049134, 0.0, 11.1879092747]], center_atoms_mask=..., cs_iso=..., cs_tensor=...),\n",
       "        Atoms(symbols='C24H32N48O32', pbc=True, cell=[7.555949548, 10.1845661684, 19.2350296454], center_atoms_mask=..., cs_iso=..., cs_tensor=...),\n",
       "        Atoms(symbols='N4C4O4N4C4O4C4O4H8', pbc=True, cell=[[10.704041368, 0.0, 0.0], [0.0, 8.18702885648, 0.0], [-0.201150345387, 0.0, 4.96494114005]], center_atoms_mask=..., cs_iso=..., cs_tensor=...)],\n",
       "       dtype=object),\n",
       " array([Atoms(symbols='C40H48N32O40', pbc=True, cell=[6.113034442, 10.7080618323, 24.2401377336], center_atoms_mask=..., cs_iso=..., cs_tensor=...),\n",
       "        Atoms(symbols='C18H16N24O16', pbc=True, cell=[[8.06655533, 0.0, 0.0], [-3.91298112536, 7.33329738395, 0.0], [-3.37155393161, -1.98984980225, 13.3570782422]], center_atoms_mask=..., cs_iso=..., cs_tensor=...),\n",
       "        Atoms(symbols='C40H60N20O8', pbc=True, cell=[[5.716837376, 0.0, 0.0], [0.0, 25.6341673067, 0.0], [-1.47490974198, 0.0, 7.8492863193]], center_atoms_mask=..., cs_iso=..., cs_tensor=...),\n",
       "        Atoms(symbols='C48H72O8', pbc=True, cell=[[7.464030982, 0.0, 0.0], [0.0, 13.8530549018, 0.0], [-5.1234452186, 0.0, 11.2008980931]], center_atoms_mask=..., cs_iso=..., cs_tensor=...),\n",
       "        Atoms(symbols='S4C18N2H34', pbc=True, cell=[[8.208745996, 0.0, 0.0], [0.0, 7.35514312611, 0.0], [-2.90859676002, 0.0, 9.85906512602]], center_atoms_mask=..., cs_iso=..., cs_tensor=...),\n",
       "        Atoms(symbols='S8N4H4N4H4C12H4C4H4', pbc=True, cell=[[4.192640222, 0.0, 0.0], [0.0, 14.5356404765, 0.0], [-1.66097312091, 0.0, 9.64410809273]], center_atoms_mask=..., cs_iso=..., cs_tensor=...),\n",
       "        Atoms(symbols='C8H8N8S12', pbc=True, cell=[[4.10299713, 0.0, 0.0], [0.0, 10.5669942075, 0.0], [-1.79925040444, 0.0, 12.6739119547]], center_atoms_mask=..., cs_iso=..., cs_tensor=...),\n",
       "        Atoms(symbols='C60H52N20O4', pbc=True, cell=[[20.699087372, 0.0, 0.0], [0.0, 4.45301536543, 0.0], [-5.92952266585, 0.0, 14.5588893949]], center_atoms_mask=..., cs_iso=..., cs_tensor=...),\n",
       "        Atoms(symbols='C32H36N20O4', pbc=True, cell=[[5.143417928, 0.0, 0.0], [0.0, 6.58852291589, 0.0], [-1.8982863981, 0.0, 25.684032893]], center_atoms_mask=..., cs_iso=..., cs_tensor=...),\n",
       "        Atoms(symbols='C32H56N24O32', pbc=True, cell=[13.228071214, 13.2600699183, 7.13904452541], center_atoms_mask=..., cs_iso=..., cs_tensor=...),\n",
       "        Atoms(symbols='C40H40N32O4', pbc=True, cell=[[7.879331446, 0.0, 0.0], [0.0, 12.2420463537, 0.0], [-1.06756273829, 0.0, 11.821944039]], center_atoms_mask=..., cs_iso=..., cs_tensor=...),\n",
       "        Atoms(symbols='C72H88O4S4', pbc=True, cell=[[8.705063918, 0.0, 0.0], [0.0, 7.93006078244, 0.0], [-1.43875555424, 0.0, 22.4310694229]], center_atoms_mask=..., cs_iso=..., cs_tensor=...),\n",
       "        Atoms(symbols='C6H2C2H2C2H2C4H6N6O4H6', pbc=True, cell=[[6.946440024, 0.0, 0.0], [-0.999509362173, 6.92669824145, 0.0], [-2.04967911144, -1.46910260068, 7.52619685484]], center_atoms_mask=..., cs_iso=..., cs_tensor=...),\n",
       "        Atoms(symbols='N2C2O2N4O4C2N2C2O2N4O4C2H8', pbc=True, cell=[[6.392018138, 0.0, 0.0], [-0.807567571555, 6.93717418894, 0.0], [-1.85082163589, -2.36532156784, 8.72560333578]], center_atoms_mask=..., cs_iso=..., cs_tensor=...),\n",
       "        Atoms(symbols='C40H48N16O28', pbc=True, cell=[[10.738067642, 0.0, 0.0], [0.0, 9.0000577038, 0.0], [-0.349996576723, 0.0, 13.0183822103]], center_atoms_mask=..., cs_iso=..., cs_tensor=...),\n",
       "        Atoms(symbols='N2H2C2O2N2H2C2O2N2C2N2C2H4C2H6C2H4C2H6O2H4', pbc=True, cell=[[6.65602604, 0.0, 0.0], [2.78756367363, 8.17905791847, 0.0], [0.30019343043, 0.150133323358, 8.77061223278]], center_atoms_mask=..., cs_iso=..., cs_tensor=...),\n",
       "        Atoms(symbols='S8O8N4C4H8C8H4', pbc=True, cell=[[3.919795014, 0.0, 0.0], [0.0, 18.3221763203, 0.0], [-1.81483765292, 0.0, 7.72486938733]], center_atoms_mask=..., cs_iso=..., cs_tensor=...),\n",
       "        Atoms(symbols='C36H28N4O12', pbc=True, cell=[[11.324081574, 0.0, 0.0], [0.0, 6.60404583681, 0.0], [-5.39744229694, 0.0, 10.5629900514]], center_atoms_mask=..., cs_iso=..., cs_tensor=...),\n",
       "        Atoms(symbols='C48H104N8', pbc=True, cell=[[11.0201735, 0.0, 0.0], [0.0, 10.3027712253, 0.0], [-5.20100394385, 0.0, 11.6215553881]], center_atoms_mask=..., cs_iso=..., cs_tensor=...),\n",
       "        Atoms(symbols='C16H32N48O16', pbc=True, cell=[[12.817956714, 0.0, 0.0], [0.0, 4.84631561808, 0.0], [-3.32342699885, 0.0, 17.9420759079]], center_atoms_mask=..., cs_iso=..., cs_tensor=...),\n",
       "        Atoms(symbols='N16C4N8H16', pbc=True, cell=[[6.780012914, 0.0, 0.0], [0.0, 6.11201214165, 0.0], [-3.17122222028, 0.0, 10.2130046529]], center_atoms_mask=..., cs_iso=..., cs_tensor=...),\n",
       "        Atoms(symbols='C24H24N8O8S8', pbc=True, cell=[[13.681049294, 0.0, 0.0], [0.0, 4.88841676639, 0.0], [-6.55433077682, 0.0, 12.1169359714]], center_atoms_mask=..., cs_iso=..., cs_tensor=...),\n",
       "        Atoms(symbols='C36H60N4O32', pbc=True, cell=[10.009069274, 15.3611087871, 7.98605621048], center_atoms_mask=..., cs_iso=..., cs_tensor=...),\n",
       "        Atoms(symbols='C14H24N12O18', pbc=True, cell=[[4.90470483, 0.0, 0.0], [2.00072228955, 9.79884002109, 0.0], [1.51592655004, 2.11746407391, 14.7234873809]], center_atoms_mask=..., cs_iso=..., cs_tensor=...),\n",
       "        Atoms(symbols='C36H36N4O20', pbc=True, cell=[[4.782040906, 0.0, 0.0], [0.0, 17.2371485861, 0.0], [-0.322797325237, 0.0, 12.2698609795]], center_atoms_mask=..., cs_iso=..., cs_tensor=...),\n",
       "        Atoms(symbols='C52H32O8', pbc=True, cell=[13.63008926, 14.1100864834, 4.86002640708], center_atoms_mask=..., cs_iso=..., cs_tensor=...),\n",
       "        Atoms(symbols='C28H44N12O16', pbc=True, cell=[[6.260040646, 0.0, 0.0], [0.0, 11.5000765292, 0.0], [-3.04005727888, 0.0, 12.1505448326]], center_atoms_mask=..., cs_iso=..., cs_tensor=...),\n",
       "        Atoms(symbols='C16O8H24', pbc=True, cell=[[5.340008298, 0.0, 0.0], [2.28164670552, 6.14829865403, 0.0], [-1.53246490134, -3.13585045289, 13.3864930017]], center_atoms_mask=..., cs_iso=..., cs_tensor=...),\n",
       "        Atoms(symbols='C28H32N16', pbc=True, cell=[7.997021078, 9.28702054809, 10.0490246985], center_atoms_mask=..., cs_iso=..., cs_tensor=...),\n",
       "        Atoms(symbols='C28H24N8O8', pbc=True, cell=[4.47659821, 7.10149633642, 20.0949927517], center_atoms_mask=..., cs_iso=..., cs_tensor=...),\n",
       "        Atoms(symbols='C24H24N16S8', pbc=True, cell=[[14.08306734, 0.0, 0.0], [0.0, 6.39282533912, 0.0], [-5.30040180555, 0.0, 8.38764957863]], center_atoms_mask=..., cs_iso=..., cs_tensor=...),\n",
       "        Atoms(symbols='C56H72N40', pbc=True, cell=[[12.045089324, 0.0, 0.0], [0.0, 6.13504579629, 0.0], [-8.67513832311, 0.0, 21.7003847458]], center_atoms_mask=..., cs_iso=..., cs_tensor=...),\n",
       "        Atoms(symbols='C30H44O10', pbc=True, cell=[[13.76106131, 0.0, 0.0], [0.0, 17.9740790354, 0.0], [-1.13739300046, 0.0, 6.15481356469]], center_atoms_mask=..., cs_iso=..., cs_tensor=...),\n",
       "        Atoms(symbols='C12H40N56', pbc=True, cell=[4.084317076, 14.1931611275, 17.6960756677], center_atoms_mask=..., cs_iso=..., cs_tensor=...),\n",
       "        Atoms(symbols='C12H28N4O20', pbc=True, cell=[[4.241801044, 0.0, 0.0], [0.0, 9.02580182285, 0.0], [-1.07463484369, 0.0, 14.1763323881]], center_atoms_mask=..., cs_iso=..., cs_tensor=...),\n",
       "        Atoms(symbols='C32H28N28O24', pbc=True, cell=[5.76250561, 9.55361195077, 20.5353226169], center_atoms_mask=..., cs_iso=..., cs_tensor=...),\n",
       "        Atoms(symbols='C40H44N12O24', pbc=True, cell=[[9.602076936, 0.0, 0.0], [0.0, 7.52805712405, 0.0], [-2.90376408622, 0.0, 16.6721533985]], center_atoms_mask=..., cs_iso=..., cs_tensor=...),\n",
       "        Atoms(symbols='C16H24N32', pbc=True, cell=[[10.880046636, 0.0, 0.0], [0.0, 6.39782646351, 0.0], [-5.31812327549, 0.0, 10.6154112617]], center_atoms_mask=..., cs_iso=..., cs_tensor=...),\n",
       "        Atoms(symbols='C56H56N24O8', pbc=True, cell=[[13.092071954, 0.0, 0.0], [0.0, 13.2400778274, 0.0], [-1.69023885755, 0.0, 7.70687072095]], center_atoms_mask=..., cs_iso=..., cs_tensor=...),\n",
       "        Atoms(symbols='C4H28N20O16', pbc=True, cell=[[6.887912716, 0.0, 0.0], [0.0, 9.57012103091, 0.0], [-2.43704683761, 0.0, 8.65671492564]], center_atoms_mask=..., cs_iso=..., cs_tensor=...),\n",
       "        Atoms(symbols='C44H32N16O32', pbc=True, cell=[6.400008756, 12.0850149338, 17.3210220973], center_atoms_mask=..., cs_iso=..., cs_tensor=...),\n",
       "        Atoms(symbols='C36H36N12O12', pbc=True, cell=[16.696793196, 4.27872022441, 13.126267455], center_atoms_mask=..., cs_iso=..., cs_tensor=...),\n",
       "        Atoms(symbols='N4H4C4O4C8H4C4H4O8', pbc=True, cell=[[7.740739204, 0.0, 0.0], [0.0, 5.54052697413, 0.0], [-2.47491558274, 0.0, 10.1965970868]], center_atoms_mask=..., cs_iso=..., cs_tensor=...),\n",
       "        Atoms(symbols='C32H16N32S8', pbc=True, cell=[[11.8139435, 0.0, 0.0], [0.0, 3.86461263955, 0.0], [-2.42195292905, 0.0, 23.1014694916]], center_atoms_mask=..., cs_iso=..., cs_tensor=...),\n",
       "        Atoms(symbols='C48H72N24', pbc=True, cell=[14.83106327, 16.8480730437, 5.49622890617], center_atoms_mask=..., cs_iso=..., cs_tensor=...),\n",
       "        Atoms(symbols='N20C4H4C4H4C4H4C4H4C4H4', pbc=True, cell=[[9.95705088, 0.0, 0.0], [0.0, 7.12593273214, 0.0], [-1.74655633781, 0.0, 8.72637930533]], center_atoms_mask=..., cs_iso=..., cs_tensor=...),\n",
       "        Atoms(symbols='C32H52N20O8', pbc=True, cell=[[6.34301607, 0.0, 0.0], [0.0, 13.895036375, 0.0], [-1.02532951867, 0.0, 12.3655956542]], center_atoms_mask=..., cs_iso=..., cs_tensor=...),\n",
       "        Atoms(symbols='C64H32O8S16', pbc=True, cell=[[12.739055976, 0.0, 0.0], [0.0, 14.7070617775, 0.0], [-4.49972756901, 0.0, 7.91774367793]], center_atoms_mask=..., cs_iso=..., cs_tensor=...),\n",
       "        Atoms(symbols='C24H24N8O16', pbc=True, cell=[[9.84856898, 0.0, 0.0], [0.0, 14.8602004283, 0.0], [-0.426147579765, 0.0, 5.17010477174]], center_atoms_mask=..., cs_iso=..., cs_tensor=...),\n",
       "        Atoms(symbols='C20H44N4', pbc=True, cell=[[5.864055252, 0.0, 0.0], [2.32423002724, 7.76676525962, 0.0], [0.230908903658, 0.427513084092, 11.4948442501]], center_atoms_mask=..., cs_iso=..., cs_tensor=...),\n",
       "        Atoms(symbols='O2C4O2C6O4C8H16', pbc=True, cell=[[6.480126608, 0.0, 0.0], [2.99789449253, 6.97408721895, 0.0], [0.74890175196, -0.159754561267, 9.33919734821]], center_atoms_mask=..., cs_iso=..., cs_tensor=...),\n",
       "        Atoms(symbols='C36H28N32O32', pbc=True, cell=[[7.457945412, 0.0, 0.0], [0.0, 9.78706176417, 0.0], [-1.65835619976, 0.0, 19.4635967773]], center_atoms_mask=..., cs_iso=..., cs_tensor=...),\n",
       "        Atoms(symbols='C24H48N8O24', pbc=True, cell=[[6.713918332, 0.0, 0.0], [0.0, 9.5116282427, 0.0], [-2.94184430945, 0.0, 14.9243623463]], center_atoms_mask=..., cs_iso=..., cs_tensor=...),\n",
       "        Atoms(symbols='C36H16O24', pbc=True, cell=[[11.53506564, 0.0, 0.0], [0.0, 5.37183392829, 0.0], [-1.33747932589, 0.0, 12.33376512]], center_atoms_mask=..., cs_iso=..., cs_tensor=...),\n",
       "        Atoms(symbols='C48H64O16', pbc=True, cell=[[6.734133008, 0.0, 0.0], [0.0, 19.7600944339, 0.0], [-1.71253042873, 0.0, 7.99845974612]], center_atoms_mask=..., cs_iso=..., cs_tensor=...),\n",
       "        Atoms(symbols='C68H72N16O12', pbc=True, cell=[[36.050175828, 0.0, 0.0], [0.0, 4.94301985866, 0.0], [-6.352473583, 0.0, 18.7460193302]], center_atoms_mask=..., cs_iso=..., cs_tensor=...),\n",
       "        Atoms(symbols='C96H72N24O8', pbc=True, cell=[[22.496129734, 0.0, 0.0], [0.0, 10.7160538949, 0.0], [-2.00013089465, 0.0, 11.3897904843]], center_atoms_mask=..., cs_iso=..., cs_tensor=...),\n",
       "        Atoms(symbols='C24H44N4O16', pbc=True, cell=[7.804029132, 14.6710518982, 6.23602018671], center_atoms_mask=..., cs_iso=..., cs_tensor=...),\n",
       "        Atoms(symbols='O10N4C22H16', pbc=True, cell=[[3.880000678, 0.0, 0.0], [1.22169193348, 11.8019377423, 0.0], [0.154412386982, 0.424468194173, 11.9474688077]], center_atoms_mask=..., cs_iso=..., cs_tensor=...),\n",
       "        Atoms(symbols='C20H40N8O12', pbc=True, cell=[[16.05108776, 0.0, 0.0], [0.0, 4.65382028296, 0.0], [-2.8196945868, 0.0, 9.52892086178]], center_atoms_mask=..., cs_iso=..., cs_tensor=...),\n",
       "        Atoms(symbols='C8H48N16O16', pbc=True, cell=[17.12108972, 6.53102800568, 6.74202831539], center_atoms_mask=..., cs_iso=..., cs_tensor=...),\n",
       "        Atoms(symbols='C72H72N8O8', pbc=True, cell=[[23.200097888, 0.0, 0.0], [0.0, 6.57022132169, 0.0], [-1.47378621834, 0.0, 9.51456894475]], center_atoms_mask=..., cs_iso=..., cs_tensor=...),\n",
       "        Atoms(symbols='C48H40N24O8', pbc=True, cell=[[6.926013676, 0.0, 0.0], [0.0, 9.24201724114, 0.0], [-0.0126746050271, 0.0, 18.1580339446]], center_atoms_mask=..., cs_iso=..., cs_tensor=...),\n",
       "        Atoms(symbols='C36H96O12', pbc=True, cell=[[6.542040668, 0.0, 0.0], [0.0, 13.4150824256, 0.0], [-2.46028486014, 0.0, 14.2583841779]], center_atoms_mask=..., cs_iso=..., cs_tensor=...),\n",
       "        Atoms(symbols='C24H48N24O36', pbc=True, cell=[[11.88405985, 0.0, 0.0], [0.0, 8.41664770757, 0.0], [-2.71643463239, 0.0, 12.8238156508]], center_atoms_mask=..., cs_iso=..., cs_tensor=...),\n",
       "        Atoms(symbols='C52H64N16O24', pbc=True, cell=[[7.89404265, 0.0, 0.0], [0.0, 21.0371105495, 0.0], [-3.76301908487, 0.0, 9.13429937287]], center_atoms_mask=..., cs_iso=..., cs_tensor=...),\n",
       "        Atoms(symbols='C28H28N12O12', pbc=True, cell=[[6.844519956, 0.0, 0.0], [2.30455671371, 9.87981130925, 0.0], [2.30333154463, 0.779145929191, 11.3147101619]], center_atoms_mask=..., cs_iso=..., cs_tensor=...),\n",
       "        Atoms(symbols='C56H48O40', pbc=True, cell=[[25.690154378, 0.0, 0.0], [0.0, 4.89461666287, 0.0], [-3.0114512765, 0.0, 10.6806303023]], center_atoms_mask=..., cs_iso=..., cs_tensor=...),\n",
       "        Atoms(symbols='C24H24N8O16S8', pbc=True, cell=[7.29262958, 9.36423957216, 13.1208553846], center_atoms_mask=..., cs_iso=..., cs_tensor=...),\n",
       "        Atoms(symbols='C56H56N8O8', pbc=True, cell=[[10.15205371, 0.0, 0.0], [0.0, 9.0012473576, 0.0], [-3.87785101998, 0.0, 12.0032096396]], center_atoms_mask=..., cs_iso=..., cs_tensor=...),\n",
       "        Atoms(symbols='C16O4N8H32', pbc=True, cell=[[9.813061002, 0.0, 0.0], [0.0, 4.84703391214, 0.0], [-1.5663215449, 0.0, 11.5543886768]], center_atoms_mask=..., cs_iso=..., cs_tensor=...),\n",
       "        Atoms(symbols='C44H64O16', pbc=True, cell=[7.810061784, 8.61106953063, 17.4311363146], center_atoms_mask=..., cs_iso=..., cs_tensor=...),\n",
       "        Atoms(symbols='C40H44N12O8', pbc=True, cell=[[7.09154118, 0.0, 0.0], [0.0, 11.6427646616, 0.0], [-0.702892287138, 0.0, 11.5584178708]], center_atoms_mask=..., cs_iso=..., cs_tensor=...),\n",
       "        Atoms(symbols='C24H20N28O20', pbc=True, cell=[[10.480833244, 0.0, 0.0], [0.0, 6.73161909512, 0.0], [-3.66699201208, 0.0, 13.3402246505]], center_atoms_mask=..., cs_iso=..., cs_tensor=...),\n",
       "        Atoms(symbols='C40H32N32S8', pbc=True, cell=[14.597059874, 13.153060323, 6.58403305029], center_atoms_mask=..., cs_iso=..., cs_tensor=...),\n",
       "        Atoms(symbols='C24H64N24', pbc=True, cell=[[6.599033354, 0.0, 0.0], [0.0, 17.6660874191, 0.0], [-1.22031304492, 0.0, 8.59585465369]], center_atoms_mask=..., cs_iso=..., cs_tensor=...),\n",
       "        Atoms(symbols='C12H18N6O4', pbc=True, cell=[[4.62000599, 0.0, 0.0], [0.0, 7.55000916885, 0.0], [-1.50606189266, 0.0, 9.94663727616]], center_atoms_mask=..., cs_iso=..., cs_tensor=...),\n",
       "        Atoms(symbols='C18H40O8S4', pbc=True, cell=[[5.54501263, 0.0, 0.0], [-0.184027879164, 8.18494878304, 0.0], [-1.62532637704, -1.59783420442, 13.6784427007]], center_atoms_mask=..., cs_iso=..., cs_tensor=...),\n",
       "        Atoms(symbols='C12H16N32O4', pbc=True, cell=[[10.616038734, 0.0, 0.0], [0.0, 7.35242425828, 0.0], [-3.81193287633, 0.0, 9.077105911]], center_atoms_mask=..., cs_iso=..., cs_tensor=...),\n",
       "        Atoms(symbols='C56H88N8O32', pbc=True, cell=[18.161087174, 8.51504365458, 9.84305499309], center_atoms_mask=..., cs_iso=..., cs_tensor=...),\n",
       "        Atoms(symbols='N8C4H4C4H4C4H4C4H4', pbc=True, cell=[[11.171042718, 0.0, 0.0], [0.0, 9.24503207195, 0.0], [-0.0244310704243, 0.0, 3.58842936813]], center_atoms_mask=..., cs_iso=..., cs_tensor=...),\n",
       "        Atoms(symbols='C36H28N4O8', pbc=True, cell=[[6.306343896, 0.0, 0.0], [-2.59287851822, 10.5348799115, 0.0], [-1.93061150763, -4.3807080937, 11.4105283741]], center_atoms_mask=..., cs_iso=..., cs_tensor=...),\n",
       "        Atoms(symbols='C12H24S36', pbc=True, cell=[[11.454048182, 0.0, 0.0], [0.0, 5.93602610818, 0.0], [-4.20733534036, 0.0, 18.7303582841]], center_atoms_mask=..., cs_iso=..., cs_tensor=...),\n",
       "        Atoms(symbols='C36H36N4O24', pbc=True, cell=[[9.633033966, 0.0, 0.0], [0.0, 5.17701401311, 0.0], [-4.29642947918, 0.0, 19.2258500152]], center_atoms_mask=..., cs_iso=..., cs_tensor=...),\n",
       "        Atoms(symbols='C12H32N16O16', pbc=True, cell=[[9.98007021, 0.0, 0.0], [-0.0949004876269, 8.36451640455, 0.0], [0.0, 0.0, 8.58405798903]], center_atoms_mask=..., cs_iso=..., cs_tensor=...),\n",
       "        Atoms(symbols='C28H24N16O20', pbc=True, cell=[[13.968076526, 0.0, 0.0], [0.0, 7.60804811372, 0.0], [-0.632963387776, 0.0, 8.63989786285]], center_atoms_mask=..., cs_iso=..., cs_tensor=...),\n",
       "        Atoms(symbols='C12H36N8O14S4', pbc=True, cell=[[5.729008516, 0.0, 0.0], [-1.69857081887, 10.4296084423, 0.0], [-2.38790231055, -3.55453468871, 10.8635120893]], center_atoms_mask=..., cs_iso=..., cs_tensor=...),\n",
       "        Atoms(symbols='C36H60N12O16', pbc=True, cell=[[11.693978394, 0.0, 0.0], [0.0, 10.696470343, 0.0], [-0.489369607832, 0.0, 8.83612209623]], center_atoms_mask=..., cs_iso=..., cs_tensor=...),\n",
       "        Atoms(symbols='C16H48N16O24S8', pbc=True, cell=[[8.298018662, 0.0, 0.0], [0.0, 6.85901775573, 0.0], [-3.18083800361, 0.0, 18.766384105]], center_atoms_mask=..., cs_iso=..., cs_tensor=...),\n",
       "        Atoms(symbols='O2N2O2N4C8H10', pbc=True, cell=[[4.944710838, 0.0, 0.0], [-0.817182691931, 5.23096509312, 0.0], [-0.101524802926, -0.163046895172, 10.4792613977]], center_atoms_mask=..., cs_iso=..., cs_tensor=...),\n",
       "        Atoms(symbols='C16H36N12O4', pbc=True, cell=[[7.488055754, 0.0, 0.0], [0.0, 9.6720745116, 0.0], [-2.01118694274, 0.0, 8.4551606188]], center_atoms_mask=..., cs_iso=..., cs_tensor=...),\n",
       "        Atoms(symbols='C24H40O16S8', pbc=True, cell=[[11.285081008, 0.0, 0.0], [0.0, 5.74603598192, 0.0], [-3.36544814329, 0.0, 13.8161102616]], center_atoms_mask=..., cs_iso=..., cs_tensor=...),\n",
       "        Atoms(symbols='C56H48S24', pbc=True, cell=[[17.110664874, 0.0, 0.0], [0.0, 7.12722501462, 0.0], [-3.30660176557, 0.0, 13.149580177]], center_atoms_mask=..., cs_iso=..., cs_tensor=...),\n",
       "        Atoms(symbols='O8N12H4N16C4H8', pbc=True, cell=[9.229057954, 5.52713514372, 10.295060293], center_atoms_mask=..., cs_iso=..., cs_tensor=...),\n",
       "        Atoms(symbols='C28H32N8O8', pbc=True, cell=[[6.440808534, 0.0, 0.0], [0.0, 16.4150188665, 0.0], [-0.478983608248, 0.0, 6.86532222448]], center_atoms_mask=..., cs_iso=..., cs_tensor=...),\n",
       "        Atoms(symbols='C76H80O24', pbc=True, cell=[23.088546744, 10.4956608445, 7.33294553444], center_atoms_mask=..., cs_iso=..., cs_tensor=...),\n",
       "        Atoms(symbols='C40H72O20', pbc=True, cell=[[8.897050422, 0.0, 0.0], [0.0, 6.76803963832, 0.0], [-0.116604742831, 0.0, 18.3037327892]], center_atoms_mask=..., cs_iso=..., cs_tensor=...),\n",
       "        Atoms(symbols='C24H28N28O16', pbc=True, cell=[[4.231905378, 0.0, 0.0], [0.0, 22.0771267012, 0.0], [-1.88032866136, 0.0, 10.7804573256]], center_atoms_mask=..., cs_iso=..., cs_tensor=...),\n",
       "        Atoms(symbols='C36H40N8O28', pbc=True, cell=[[13.93807202, 0.0, 0.0], [0.0, 6.92203683115, 0.0], [-1.05953042074, 0.0, 10.7479539722]], center_atoms_mask=..., cs_iso=..., cs_tensor=...),\n",
       "        Atoms(symbols='C30H28N4O14S2', pbc=True, cell=[[5.792245526, 0.0, 0.0], [2.01768818326, 8.8118184179, 0.0], [1.51266229585, 1.43215587529, 15.310764236]], center_atoms_mask=..., cs_iso=..., cs_tensor=...)],\n",
       "       dtype=object)]"
      ]
     },
     "execution_count": 236,
     "metadata": {},
     "output_type": "execute_result"
    }
   ],
   "source": [
    "np.array_split(train_structures,2)"
   ]
  },
  {
   "cell_type": "code",
   "execution_count": 202,
   "id": "870fbadb-ead9-49dd-a93c-f74086eb636c",
   "metadata": {
    "collapsed": true,
    "jupyter": {
     "outputs_hidden": true
    },
    "tags": []
   },
   "outputs": [
    {
     "data": {
      "text/plain": [
       "[0,\n",
       " 1,\n",
       " 2,\n",
       " 3,\n",
       " 4,\n",
       " 5,\n",
       " 6,\n",
       " 7,\n",
       " 8,\n",
       " 9,\n",
       " 10,\n",
       " 11,\n",
       " 12,\n",
       " 13,\n",
       " 14,\n",
       " 15,\n",
       " 16,\n",
       " 17,\n",
       " 18,\n",
       " 19,\n",
       " 20,\n",
       " 21,\n",
       " 22,\n",
       " 23,\n",
       " 24,\n",
       " 25,\n",
       " 26,\n",
       " 27,\n",
       " 28,\n",
       " 29,\n",
       " 30,\n",
       " 31,\n",
       " 32,\n",
       " 33,\n",
       " 34,\n",
       " 35,\n",
       " 36,\n",
       " 37,\n",
       " 38,\n",
       " 39,\n",
       " 40,\n",
       " 41,\n",
       " 42,\n",
       " 43,\n",
       " 44,\n",
       " 45,\n",
       " 46,\n",
       " 47,\n",
       " 48,\n",
       " 49,\n",
       " 50,\n",
       " 51,\n",
       " 52,\n",
       " 53,\n",
       " 54,\n",
       " 55,\n",
       " 56,\n",
       " 57,\n",
       " 58,\n",
       " 59,\n",
       " 60,\n",
       " 61,\n",
       " 62,\n",
       " 63,\n",
       " 64,\n",
       " 65,\n",
       " 66,\n",
       " 67,\n",
       " 68,\n",
       " 69,\n",
       " 70,\n",
       " 71,\n",
       " 72,\n",
       " 73,\n",
       " 74,\n",
       " 75,\n",
       " 76,\n",
       " 77,\n",
       " 78,\n",
       " 79,\n",
       " 80,\n",
       " 81,\n",
       " 82,\n",
       " 83,\n",
       " 84,\n",
       " 85,\n",
       " 86,\n",
       " 87,\n",
       " 88,\n",
       " 89,\n",
       " 90,\n",
       " 91,\n",
       " 92,\n",
       " 93,\n",
       " 94,\n",
       " 95,\n",
       " 96,\n",
       " 97,\n",
       " 98,\n",
       " 99,\n",
       " 100,\n",
       " 101,\n",
       " 102,\n",
       " 103,\n",
       " 104,\n",
       " 105,\n",
       " 106,\n",
       " 107,\n",
       " 108,\n",
       " 109,\n",
       " 110,\n",
       " 111,\n",
       " 112,\n",
       " 113,\n",
       " 114,\n",
       " 115,\n",
       " 116,\n",
       " 117,\n",
       " 118,\n",
       " 119,\n",
       " 120,\n",
       " 121,\n",
       " 122,\n",
       " 123,\n",
       " 124,\n",
       " 125,\n",
       " 126,\n",
       " 127,\n",
       " 128,\n",
       " 129,\n",
       " 130,\n",
       " 131,\n",
       " 132,\n",
       " 133,\n",
       " 134,\n",
       " 135,\n",
       " 136,\n",
       " 137,\n",
       " 138,\n",
       " 139,\n",
       " 140,\n",
       " 141,\n",
       " 142,\n",
       " 143,\n",
       " 144,\n",
       " 145,\n",
       " 146,\n",
       " 147,\n",
       " 148,\n",
       " 149,\n",
       " 150,\n",
       " 151,\n",
       " 152,\n",
       " 153,\n",
       " 154,\n",
       " 155,\n",
       " 156,\n",
       " 157,\n",
       " 158,\n",
       " 159,\n",
       " 160,\n",
       " 161,\n",
       " 162,\n",
       " 163,\n",
       " 164,\n",
       " 165,\n",
       " 166,\n",
       " 167,\n",
       " 168,\n",
       " 169,\n",
       " 170,\n",
       " 171,\n",
       " 172,\n",
       " 173,\n",
       " 174,\n",
       " 175,\n",
       " 176,\n",
       " 177,\n",
       " 178,\n",
       " 179,\n",
       " 180,\n",
       " 181,\n",
       " 182,\n",
       " 183,\n",
       " 184,\n",
       " 185,\n",
       " 186,\n",
       " 187,\n",
       " 188,\n",
       " 189,\n",
       " 190,\n",
       " 191,\n",
       " 192,\n",
       " 193,\n",
       " 194,\n",
       " 195,\n",
       " 196,\n",
       " 197,\n",
       " 198,\n",
       " 199]"
      ]
     },
     "execution_count": 202,
     "metadata": {},
     "output_type": "execute_result"
    }
   ],
   "source": [
    "list(range(len(train_structures)))"
   ]
  },
  {
   "cell_type": "code",
   "execution_count": 187,
   "id": "1285272d-a58c-4870-9e89-ac31b4d63187",
   "metadata": {},
   "outputs": [
    {
     "data": {
      "text/plain": [
       "[(array([  96,   97,   98, ..., 8050, 8051, 8052]),\n",
       "  array([   0,    1,    2, ..., 8026, 8027, 8028])),\n",
       " (array([   0,    1,    2, ..., 8026, 8027, 8028]),\n",
       "  array([  96,   97,   98, ..., 8050, 8051, 8052]))]"
      ]
     },
     "execution_count": 187,
     "metadata": {},
     "output_type": "execute_result"
    }
   ],
   "source": [
    "splits"
   ]
  },
  {
   "cell_type": "code",
   "execution_count": 114,
   "id": "6cd274ec-ac8e-4a5a-9ced-99bb2278e110",
   "metadata": {},
   "outputs": [],
   "source": [
    "def scale(train_structures,hypers):\n",
    "    calculator = SOAP(**hypers)\n",
    "    return calculator.transform(train_structures).get_features(calculator)"
   ]
  },
  {
   "cell_type": "code",
   "execution_count": 116,
   "id": "54eb577d-775b-4600-9e3e-0e72b53516f3",
   "metadata": {},
   "outputs": [],
   "source": [
    "data = scale(atom_features,hypers)"
   ]
  },
  {
   "cell_type": "code",
   "execution_count": 117,
   "id": "6194b3d0-692b-4509-8ebf-efb801bc9221",
   "metadata": {},
   "outputs": [
    {
     "data": {
      "text/plain": [
       "(7944, 540)"
      ]
     },
     "execution_count": 117,
     "metadata": {},
     "output_type": "execute_result"
    }
   ],
   "source": [
    "data.shape"
   ]
  },
  {
   "cell_type": "code",
   "execution_count": 81,
   "id": "ea60930d-44f4-4fb2-90eb-4e3b1451bbfd",
   "metadata": {},
   "outputs": [],
   "source": [
    "myscale = FunctionTransformer(scale,kw_args={\"hypers\":hypers},check_inverse=False)"
   ]
  },
  {
   "cell_type": "code",
   "execution_count": 123,
   "id": "f7094b61-9c55-4e46-868f-a159b2dcbb60",
   "metadata": {},
   "outputs": [],
   "source": [
    "data = myscale.fit_transform(atom_features)"
   ]
  },
  {
   "cell_type": "code",
   "execution_count": 125,
   "id": "1151d92b-9e8c-42bf-9046-518bafb99247",
   "metadata": {},
   "outputs": [
    {
     "data": {
      "text/plain": [
       "(7944, 540)"
      ]
     },
     "execution_count": 125,
     "metadata": {},
     "output_type": "execute_result"
    }
   ],
   "source": [
    "data.shape"
   ]
  },
  {
   "cell_type": "code",
   "execution_count": 54,
   "id": "6284ed05-8128-4f82-b593-d853b7ac4ad3",
   "metadata": {},
   "outputs": [],
   "source": [
    "pipeline = Pipeline(steps=[['outlier_removal',],['svc', ]]) "
   ]
  },
  {
   "cell_type": "code",
   "execution_count": 106,
   "id": "c4f03f89-dfee-4a07-af61-7758baca345f",
   "metadata": {
    "collapsed": true,
    "jupyter": {
     "outputs_hidden": true
    },
    "tags": []
   },
   "outputs": [
    {
     "ename": "TypeError",
     "evalue": "'FunctionTransformer' object is not iterable",
     "output_type": "error",
     "traceback": [
      "\u001b[0;31m---------------------------------------------------------------------------\u001b[0m",
      "\u001b[0;31mTypeError\u001b[0m                                 Traceback (most recent call last)",
      "\u001b[0;32m<ipython-input-106-1462af44d42b>\u001b[0m in \u001b[0;36m<module>\u001b[0;34m\u001b[0m\n\u001b[0;32m----> 1\u001b[0;31m \u001b[0mpipe\u001b[0m \u001b[0;34m=\u001b[0m \u001b[0mPipeline\u001b[0m\u001b[0;34m(\u001b[0m\u001b[0;34m(\u001b[0m\u001b[0;34m'make_structs'\u001b[0m\u001b[0;34m,\u001b[0m\u001b[0mmyscale\u001b[0m\u001b[0;34m)\u001b[0m\u001b[0;34m,\u001b[0m \u001b[0;34m(\u001b[0m\u001b[0;34m'ridge'\u001b[0m\u001b[0;34m,\u001b[0m \u001b[0mRidgeCV\u001b[0m\u001b[0;34m(\u001b[0m\u001b[0;34m)\u001b[0m\u001b[0;34m)\u001b[0m\u001b[0;34m)\u001b[0m\u001b[0;34m\u001b[0m\u001b[0;34m\u001b[0m\u001b[0m\n\u001b[0m",
      "\u001b[0;32m/ssd/scratch/kellner/miniconda3/lib/python3.8/site-packages/sklearn/pipeline.py\u001b[0m in \u001b[0;36m__init__\u001b[0;34m(self, steps, memory, verbose)\u001b[0m\n\u001b[1;32m    134\u001b[0m         \u001b[0mself\u001b[0m\u001b[0;34m.\u001b[0m\u001b[0mmemory\u001b[0m \u001b[0;34m=\u001b[0m \u001b[0mmemory\u001b[0m\u001b[0;34m\u001b[0m\u001b[0;34m\u001b[0m\u001b[0m\n\u001b[1;32m    135\u001b[0m         \u001b[0mself\u001b[0m\u001b[0;34m.\u001b[0m\u001b[0mverbose\u001b[0m \u001b[0;34m=\u001b[0m \u001b[0mverbose\u001b[0m\u001b[0;34m\u001b[0m\u001b[0;34m\u001b[0m\u001b[0m\n\u001b[0;32m--> 136\u001b[0;31m         \u001b[0mself\u001b[0m\u001b[0;34m.\u001b[0m\u001b[0m_validate_steps\u001b[0m\u001b[0;34m(\u001b[0m\u001b[0;34m)\u001b[0m\u001b[0;34m\u001b[0m\u001b[0;34m\u001b[0m\u001b[0m\n\u001b[0m\u001b[1;32m    137\u001b[0m \u001b[0;34m\u001b[0m\u001b[0m\n\u001b[1;32m    138\u001b[0m     \u001b[0;32mdef\u001b[0m \u001b[0mget_params\u001b[0m\u001b[0;34m(\u001b[0m\u001b[0mself\u001b[0m\u001b[0;34m,\u001b[0m \u001b[0mdeep\u001b[0m\u001b[0;34m=\u001b[0m\u001b[0;32mTrue\u001b[0m\u001b[0;34m)\u001b[0m\u001b[0;34m:\u001b[0m\u001b[0;34m\u001b[0m\u001b[0;34m\u001b[0m\u001b[0m\n",
      "\u001b[0;32m/ssd/scratch/kellner/miniconda3/lib/python3.8/site-packages/sklearn/pipeline.py\u001b[0m in \u001b[0;36m_validate_steps\u001b[0;34m(self)\u001b[0m\n\u001b[1;32m    165\u001b[0m \u001b[0;34m\u001b[0m\u001b[0m\n\u001b[1;32m    166\u001b[0m     \u001b[0;32mdef\u001b[0m \u001b[0m_validate_steps\u001b[0m\u001b[0;34m(\u001b[0m\u001b[0mself\u001b[0m\u001b[0;34m)\u001b[0m\u001b[0;34m:\u001b[0m\u001b[0;34m\u001b[0m\u001b[0;34m\u001b[0m\u001b[0m\n\u001b[0;32m--> 167\u001b[0;31m         \u001b[0mnames\u001b[0m\u001b[0;34m,\u001b[0m \u001b[0mestimators\u001b[0m \u001b[0;34m=\u001b[0m \u001b[0mzip\u001b[0m\u001b[0;34m(\u001b[0m\u001b[0;34m*\u001b[0m\u001b[0mself\u001b[0m\u001b[0;34m.\u001b[0m\u001b[0msteps\u001b[0m\u001b[0;34m)\u001b[0m\u001b[0;34m\u001b[0m\u001b[0;34m\u001b[0m\u001b[0m\n\u001b[0m\u001b[1;32m    168\u001b[0m \u001b[0;34m\u001b[0m\u001b[0m\n\u001b[1;32m    169\u001b[0m         \u001b[0;31m# validate names\u001b[0m\u001b[0;34m\u001b[0m\u001b[0;34m\u001b[0m\u001b[0;34m\u001b[0m\u001b[0m\n",
      "\u001b[0;31mTypeError\u001b[0m: 'FunctionTransformer' object is not iterable"
     ]
    }
   ],
   "source": [
    "pipe = Pipeline(('make_structs',myscale), ('ridge', RidgeCV()))"
   ]
  },
  {
   "cell_type": "code",
   "execution_count": 92,
   "id": "47b073b4-30d1-47ab-8a34-38081dfc327e",
   "metadata": {},
   "outputs": [],
   "source": [
    "from sklearn.linear_model import Ridge"
   ]
  },
  {
   "cell_type": "code",
   "execution_count": 93,
   "id": "776e8ede-401e-4ca3-8014-8ea331c67556",
   "metadata": {},
   "outputs": [],
   "source": [
    "pip2 = make_pipeline(myscale,Ridge())"
   ]
  },
  {
   "cell_type": "code",
   "execution_count": 145,
   "id": "26ee8f6c-a7db-424b-b589-11c5e4b4266d",
   "metadata": {
    "collapsed": true,
    "jupyter": {
     "outputs_hidden": true
    },
    "tags": []
   },
   "outputs": [
    {
     "data": {
      "text/plain": [
       "Pipeline(memory=None,\n",
       "         steps=[('functiontransformer',\n",
       "                 FunctionTransformer(accept_sparse=False, check_inverse=False,\n",
       "                                     func=<function scale at 0x7f554361cee0>,\n",
       "                                     inv_kw_args=None, inverse_func=None,\n",
       "                                     kw_args={'hypers': {'compute_gradients': False,\n",
       "                                                         'cutoff_smooth_width': 0.3,\n",
       "                                                         'gaussian_sigma_constant': 0.3,\n",
       "                                                         'gaussian_sigma_type': 'Constant',\n",
       "                                                         'interaction_cutoff': 3.0,\n",
       "                                                         'max_angular': 4,\n",
       "                                                         'max_radial': 3,\n",
       "                                                         'normalize': True,\n",
       "                                                         'optimization': {'Spline': {'accuracy': 1e-05}},\n",
       "                                                         'radial_basis': 'GTO',\n",
       "                                                         'soap_type': 'PowerSpectrum'}},\n",
       "                                     validate=False)),\n",
       "                ('ridgecv',\n",
       "                 RidgeCV(alphas=array([ 0.1,  1. , 10. ]), cv=None,\n",
       "                         fit_intercept=True, gcv_mode=None, normalize=False,\n",
       "                         scoring=None, store_cv_values=False))],\n",
       "         verbose=False)"
      ]
     },
     "execution_count": 145,
     "metadata": {},
     "output_type": "execute_result"
    }
   ],
   "source": [
    "pip2.fit(train_structures,train_properties)"
   ]
  },
  {
   "cell_type": "code",
   "execution_count": 96,
   "id": "e853d65a-44a1-467c-b160-baeb537c0f87",
   "metadata": {
    "collapsed": true,
    "jupyter": {
     "outputs_hidden": true
    },
    "tags": []
   },
   "outputs": [
    {
     "data": {
      "text/plain": [
       "{'memory': None,\n",
       " 'steps': [('functiontransformer',\n",
       "   FunctionTransformer(accept_sparse=False, check_inverse=False,\n",
       "                       func=<function scale at 0x7f08485db940>, inv_kw_args=None,\n",
       "                       inverse_func=None,\n",
       "                       kw_args={'hypers': {'compute_gradients': False,\n",
       "                                           'cutoff_smooth_width': 0.3,\n",
       "                                           'gaussian_sigma_constant': 0.3,\n",
       "                                           'gaussian_sigma_type': 'Constant',\n",
       "                                           'interaction_cutoff': 3.0,\n",
       "                                           'max_angular': 3, 'max_radial': 3,\n",
       "                                           'normalize': True,\n",
       "                                           'optimization': {'Spline': {'accuracy': 1e-05}},\n",
       "                                           'radial_basis': 'GTO',\n",
       "                                           'soap_type': 'PowerSpectrum'}},\n",
       "                       validate=False)),\n",
       "  ('ridge',\n",
       "   Ridge(alpha=1.0, copy_X=True, fit_intercept=True, max_iter=None,\n",
       "         normalize=False, random_state=None, solver='auto', tol=0.001))],\n",
       " 'verbose': False,\n",
       " 'functiontransformer': FunctionTransformer(accept_sparse=False, check_inverse=False,\n",
       "                     func=<function scale at 0x7f08485db940>, inv_kw_args=None,\n",
       "                     inverse_func=None,\n",
       "                     kw_args={'hypers': {'compute_gradients': False,\n",
       "                                         'cutoff_smooth_width': 0.3,\n",
       "                                         'gaussian_sigma_constant': 0.3,\n",
       "                                         'gaussian_sigma_type': 'Constant',\n",
       "                                         'interaction_cutoff': 3.0,\n",
       "                                         'max_angular': 3, 'max_radial': 3,\n",
       "                                         'normalize': True,\n",
       "                                         'optimization': {'Spline': {'accuracy': 1e-05}},\n",
       "                                         'radial_basis': 'GTO',\n",
       "                                         'soap_type': 'PowerSpectrum'}},\n",
       "                     validate=False),\n",
       " 'ridge': Ridge(alpha=1.0, copy_X=True, fit_intercept=True, max_iter=None,\n",
       "       normalize=False, random_state=None, solver='auto', tol=0.001),\n",
       " 'functiontransformer__accept_sparse': False,\n",
       " 'functiontransformer__check_inverse': False,\n",
       " 'functiontransformer__func': <function __main__.scale(train_structures, hypers)>,\n",
       " 'functiontransformer__inv_kw_args': None,\n",
       " 'functiontransformer__inverse_func': None,\n",
       " 'functiontransformer__kw_args': {'hypers': {'soap_type': 'PowerSpectrum',\n",
       "   'interaction_cutoff': 3.0,\n",
       "   'max_radial': 3,\n",
       "   'max_angular': 3,\n",
       "   'gaussian_sigma_constant': 0.3,\n",
       "   'gaussian_sigma_type': 'Constant',\n",
       "   'radial_basis': 'GTO',\n",
       "   'normalize': True,\n",
       "   'cutoff_smooth_width': 0.3,\n",
       "   'optimization': {'Spline': {'accuracy': 1e-05}},\n",
       "   'compute_gradients': False}},\n",
       " 'functiontransformer__validate': False,\n",
       " 'ridge__alpha': 1.0,\n",
       " 'ridge__copy_X': True,\n",
       " 'ridge__fit_intercept': True,\n",
       " 'ridge__max_iter': None,\n",
       " 'ridge__normalize': False,\n",
       " 'ridge__random_state': None,\n",
       " 'ridge__solver': 'auto',\n",
       " 'ridge__tol': 0.001}"
      ]
     },
     "execution_count": 96,
     "metadata": {},
     "output_type": "execute_result"
    }
   ],
   "source": [
    "pip2.get_params()"
   ]
  },
  {
   "cell_type": "code",
   "execution_count": 74,
   "id": "bdacd83c-c22f-49bd-b700-b5acee7857ec",
   "metadata": {},
   "outputs": [],
   "source": [
    "from sklearn.model_selection import GridSearchCV"
   ]
  },
  {
   "cell_type": "code",
   "execution_count": 127,
   "id": "d6dc6d27-4055-47f7-9bf2-6bdb615d3c0b",
   "metadata": {},
   "outputs": [],
   "source": [
    "import cProfile"
   ]
  },
  {
   "cell_type": "code",
   "execution_count": 128,
   "id": "f3c0d0da-7df3-41d0-ab59-7554f93447df",
   "metadata": {
    "collapsed": true,
    "jupyter": {
     "outputs_hidden": true
    },
    "tags": []
   },
   "outputs": [
    {
     "name": "stdout",
     "output_type": "stream",
     "text": [
      "         2526068 function calls (2525370 primitive calls) in 16.292 seconds\n",
      "\n",
      "   Ordered by: standard name\n",
      "\n",
      "   ncalls  tottime  percall  cumtime  percall filename:lineno(function)\n",
      "    55608    0.033    0.000    0.321    0.000 <__array_function__ internals>:2(all)\n",
      "        1    0.000    0.000    0.000    0.000 <__array_function__ internals>:2(argsort)\n",
      "        7    0.000    0.000    0.001    0.000 <__array_function__ internals>:2(array_equal)\n",
      "        7    0.000    0.000    0.000    0.000 <__array_function__ internals>:2(atleast_1d)\n",
      "        7    0.000    0.000    0.000    0.000 <__array_function__ internals>:2(atleast_2d)\n",
      "       32    0.000    0.000    0.014    0.000 <__array_function__ internals>:2(average)\n",
      "        2    0.000    0.000    0.000    0.000 <__array_function__ internals>:2(concatenate)\n",
      "        8    0.000    0.000    0.000    0.000 <__array_function__ internals>:2(copyto)\n",
      "        7    0.000    0.000    0.000    0.000 <__array_function__ internals>:2(dot)\n",
      "        7    0.000    0.000    0.000    0.000 <__array_function__ internals>:2(may_share_memory)\n",
      "        2    0.000    0.000    0.000    0.000 <__array_function__ internals>:2(ndim)\n",
      "        1    0.000    0.000    0.000    0.000 <__array_function__ internals>:2(nonzero)\n",
      "        1    0.000    0.000    0.000    0.000 <__array_function__ internals>:2(ravel)\n",
      "       39    0.000    0.000    0.032    0.001 <__array_function__ internals>:2(sum)\n",
      "       27    0.000    0.000    0.003    0.000 <__array_function__ internals>:2(unique)\n",
      "        7    0.000    0.000    0.000    0.000 <frozen importlib._bootstrap>:1017(_handle_fromlist)\n",
      "       52    0.000    0.000    0.000    0.000 <frozen importlib._bootstrap>:389(parent)\n",
      "       13    0.542    0.042   15.892    1.222 <ipython-input-80-7fc1cec55925>:1(scale)\n",
      "        1    0.000    0.000   16.292   16.292 <string>:1(<module>)\n",
      "       26    0.000    0.000    0.001    0.000 __init__.py:183(dumps)\n",
      "       12    0.000    0.000    0.000    0.000 __init__.py:190(_array_indexing)\n",
      "       12    0.000    0.000    0.014    0.001 __init__.py:216(_list_indexing)\n",
      "       12    0.014    0.001    0.014    0.001 __init__.py:225(<listcomp>)\n",
      "       24    0.000    0.000    0.000    0.000 __init__.py:228(_determine_key_type)\n",
      "       24    0.000    0.000    0.015    0.001 __init__.py:340(_safe_indexing)\n",
      "       28    0.000    0.000    0.000    0.000 __init__.py:944(_print_elapsed_time)\n",
      "   111307    0.028    0.000    0.201    0.000 _asarray.py:16(asarray)\n",
      "      172    0.000    0.000    0.000    0.000 _asarray.py:88(asanyarray)\n",
      "        7    0.014    0.002    0.053    0.008 _base.py:101(_preprocess_data)\n",
      "        6    0.000    0.000    0.015    0.002 _base.py:204(_decision_function)\n",
      "        6    0.000    0.000    0.015    0.002 _base.py:211(predict)\n",
      "        7    0.000    0.000    0.000    0.000 _base.py:229(_set_intercept)\n",
      "       39    0.000    0.000    0.000    0.000 _config.py:13(get_config)\n",
      "        7    0.000    0.000    0.000    0.000 _function_transformer.py:108(fit)\n",
      "       13    0.000    0.000   15.911    1.224 _function_transformer.py:128(transform)\n",
      "       13    0.019    0.001   15.911    1.224 _function_transformer.py:159(_transform)\n",
      "        9    0.000    0.000    0.000    0.000 _function_transformer.py:82(__init__)\n",
      "       20    0.000    0.000    0.000    0.000 _function_transformer.py:93(_check_input)\n",
      "        1    0.000    0.000    0.000    0.000 _internal.py:830(npy_ctypes_check)\n",
      "       32    0.001    0.000    0.013    0.000 _methods.py:134(_mean)\n",
      "       21    0.000    0.000    0.001    0.000 _methods.py:47(_all)\n",
      "       32    0.000    0.000    0.000    0.000 _methods.py:50(_count_reduce_items)\n",
      "        2    0.000    0.000    0.000    0.000 _parallel_backends.py:137(retrieval_context)\n",
      "        1    0.000    0.000    0.000    0.000 _parallel_backends.py:185(in_main_thread)\n",
      "        2    0.000    0.000    0.000    0.000 _parallel_backends.py:200(effective_n_jobs)\n",
      "        6    0.000    0.000   13.931    2.322 _parallel_backends.py:206(apply_async)\n",
      "        6    0.000    0.000    0.000    0.000 _parallel_backends.py:213(get_nested_backend)\n",
      "        7    0.000    0.000    0.000    0.000 _parallel_backends.py:280(__init__)\n",
      "        8    0.000    0.000    0.000    0.000 _parallel_backends.py:34(__init__)\n",
      "        1    0.000    0.000    0.000    0.000 _parallel_backends.py:486(configure)\n",
      "        1    0.000    0.000    0.000    0.000 _parallel_backends.py:501(effective_n_jobs)\n",
      "        6    0.000    0.000   13.931    2.322 _parallel_backends.py:569(__init__)\n",
      "        6    0.000    0.000    0.000    0.000 _parallel_backends.py:574(get)\n",
      "        1    0.000    0.000    0.000    0.000 _parallel_backends.py:609(__init__)\n",
      "        1    0.000    0.000    0.000    0.000 _parallel_backends.py:70(configure)\n",
      "        1    0.000    0.000    0.000    0.000 _parallel_backends.py:80(start_call)\n",
      "        1    0.000    0.000    0.000    0.000 _parallel_backends.py:83(stop_call)\n",
      "        1    0.000    0.000    0.000    0.000 _parallel_backends.py:86(terminate)\n",
      "        7    0.000    0.000    0.000    0.000 _parallel_backends.py:89(compute_batch_size)\n",
      "        6    0.000    0.000    0.000    0.000 _parallel_backends.py:93(batch_completed)\n",
      "        6    0.000    0.000    0.003    0.001 _regression.py:192(mean_squared_error)\n",
      "        6    0.000    0.000    0.002    0.000 _regression.py:50(_check_reg_targets)\n",
      "        7    0.001    0.000    0.258    0.037 _ridge.py:135(_solve_cholesky)\n",
      "        7    0.000    0.000    0.000    0.000 _ridge.py:231(_get_valid_accept_sparse)\n",
      "        7    0.000    0.000    0.258    0.037 _ridge.py:382(_ridge_regression)\n",
      "        9    0.000    0.000    0.000    0.000 _ridge.py:525(__init__)\n",
      "        7    0.000    0.000    0.327    0.047 _ridge.py:538(fit)\n",
      "        9    0.000    0.000    0.000    0.000 _ridge.py:738(__init__)\n",
      "        7    0.000    0.000    0.327    0.047 _ridge.py:747(fit)\n",
      "        6    0.000    0.000    6.840    1.140 _scorer.py:177(_score)\n",
      "        1    0.000    0.000    0.000    0.000 _scorer.py:338(get_scorer)\n",
      "        1    0.000    0.000    0.000    0.000 _scorer.py:374(check_scoring)\n",
      "        1    0.000    0.000    0.000    0.000 _scorer.py:436(_check_multimetric_scoring)\n",
      "        6    0.000    0.000    6.837    1.139 _scorer.py:49(_cached_call)\n",
      "        6    0.000    0.000    0.000    0.000 _scorer.py:75(__init__)\n",
      "        6    0.000    0.000    6.840    1.140 _scorer.py:78(__call__)\n",
      "        6    0.000    0.000    0.000    0.000 _scorer.py:93(_use_cache)\n",
      "        4    0.000    0.000    0.000    0.000 _search.py:113(__iter__)\n",
      "        1    0.000    0.000   13.939   13.939 _search.py:1149(_run_search)\n",
      "        2    0.000    0.000    0.000    0.000 _search.py:133(__len__)\n",
      "        4    0.000    0.000    0.000    0.000 _search.py:137(<genexpr>)\n",
      "        1    0.000    0.000   16.292   16.292 _search.py:603(fit)\n",
      "        1    0.000    0.000   13.939   13.939 _search.py:673(evaluate_candidates)\n",
      "        7    0.000    0.000    0.006    0.001 _search.py:682(<genexpr>)\n",
      "        1    0.000    0.000    0.001    0.001 _search.py:753(_format_results)\n",
      "        3    0.000    0.000    0.000    0.000 _search.py:772(_store)\n",
      "        1    0.000    0.000    0.000    0.000 _search.py:90(__init__)\n",
      "        1    0.000    0.000    0.000    0.000 _split.py:1915(__init__)\n",
      "        1    0.000    0.000    0.000    0.000 _split.py:1918(get_n_splits)\n",
      "        3    0.000    0.000    0.000    0.000 _split.py:1939(split)\n",
      "        1    0.000    0.000    0.000    0.000 _split.py:1965(check_cv)\n",
      "       14    0.000    0.000    0.003    0.000 _util.py:193(_asarray_validated)\n",
      "        1    0.000    0.000    0.000    0.000 _validation.py:1481(_aggregate_score_dicts)\n",
      "        1    0.000    0.000    0.000    0.000 _validation.py:1504(<dictcomp>)\n",
      "        1    0.000    0.000    0.000    0.000 _validation.py:1504(<listcomp>)\n",
      "        6    0.000    0.000   13.930    2.322 _validation.py:394(_fit_and_score)\n",
      "        6    0.000    0.000    6.840    1.140 _validation.py:579(_score)\n",
      "       92    0.000    0.000    0.000    0.000 abc.py:100(__subclasscheck__)\n",
      "      143    0.000    0.000    0.000    0.000 abc.py:96(__instancecheck__)\n",
      "       27    0.000    0.000    0.000    0.000 arraysetops.py:138(_unpack_tuple)\n",
      "       27    0.000    0.000    0.000    0.000 arraysetops.py:146(_unique_dispatcher)\n",
      "       27    0.000    0.000    0.003    0.000 arraysetops.py:151(unique)\n",
      "       27    0.001    0.000    0.002    0.000 arraysetops.py:297(_unique1d)\n",
      "    55608    0.031    0.000    0.195    0.000 arraywrapper.py:66(attr)\n",
      "    55608    0.009    0.000    0.009    0.000 atoms.py:1947(cell)\n",
      "    55608    0.035    0.000    0.214    0.000 atoms.py:399(get_cell)\n",
      "    55608    0.007    0.000    0.007    0.000 atoms.py:433(pbc)\n",
      "    55608    0.033    0.000    0.059    0.000 atoms.py:446(get_pbc)\n",
      "    55608    0.018    0.000    0.043    0.000 atoms.py:480(get_array)\n",
      "    55608    0.017    0.000    0.049    0.000 atoms.py:522(get_atomic_numbers)\n",
      "    55608    0.025    0.000    0.086    0.000 atoms.py:695(get_positions)\n",
      "    55608    0.112    0.000    0.463    0.000 base.py:112(adapt_structure)\n",
      "      123    0.000    0.000    0.000    0.000 base.py:1189(isspmatrix)\n",
      "       98    0.001    0.000    0.010    0.000 base.py:146(_get_param_names)\n",
      "       98    0.001    0.000    0.001    0.000 base.py:160(<listcomp>)\n",
      "       98    0.000    0.000    0.000    0.000 base.py:171(<listcomp>)\n",
      "       98    0.001    0.000    0.010    0.000 base.py:173(get_params)\n",
      "     14/7    0.000    0.000    0.003    0.000 base.py:205(set_params)\n",
      "       13    0.073    0.006    0.074    0.006 base.py:28(CalculatorFactory)\n",
      "   231/15    0.001    0.000    0.009    0.001 base.py:39(clone)\n",
      "       13    0.000    0.000    0.000    0.000 base.py:40(cutoff_function_dict_switch)\n",
      "        7    0.000    0.000    9.090    1.299 base.py:544(fit_transform)\n",
      "     27/9    0.000    0.000    0.006    0.001 base.py:59(<listcomp>)\n",
      "        1    0.000    0.000    0.000    0.000 base.py:639(is_classifier)\n",
      "       13    0.000    0.000    0.000    0.000 base.py:67(check_optimization_for_spherical_representations)\n",
      "       13    0.001    0.000    0.001    0.000 base.py:74(StructureCollectionFactory)\n",
      "    55608    0.024    0.000    0.034    0.000 base.py:99(is_valid_structure)\n",
      "       14    0.000    0.000    0.000    0.000 basic.py:25(_solve_check)\n",
      "        7    0.058    0.008    0.062    0.009 basic.py:42(solve)\n",
      "       21    0.000    0.000    0.000    0.000 blas.py:253(find_best_blas_type)\n",
      "        7    0.000    0.000    0.000    0.000 blas.py:300(<listcomp>)\n",
      "       21    0.000    0.000    0.001    0.000 blas.py:318(_get_funcs)\n",
      "    55608    0.042    0.000    0.169    0.000 cell.py:195(copy)\n",
      "    55608    0.014    0.000    0.014    0.000 cell.py:222(__array__)\n",
      "    55608    0.042    0.000    0.094    0.000 cell.py:23(__init__)\n",
      "        1    0.000    0.000    0.000    0.000 context.py:233(get_context)\n",
      "       15    0.000    0.000    0.000    0.000 contextlib.py:108(__enter__)\n",
      "       15    0.000    0.000    0.000    0.000 contextlib.py:117(__exit__)\n",
      "       15    0.000    0.000    0.000    0.000 contextlib.py:238(helper)\n",
      "        6    0.000    0.000    0.000    0.000 contextlib.py:353(__init__)\n",
      "        6    0.000    0.000    0.000    0.000 contextlib.py:356(__enter__)\n",
      "        6    0.000    0.000    0.000    0.000 contextlib.py:359(__exit__)\n",
      "       15    0.000    0.000    0.000    0.000 contextlib.py:82(__init__)\n",
      "  559/203    0.001    0.000    0.002    0.000 copy.py:128(deepcopy)\n",
      "      484    0.000    0.000    0.000    0.000 copy.py:182(_deepcopy_atomic)\n",
      "    75/35    0.000    0.000    0.001    0.000 copy.py:226(_deepcopy_dict)\n",
      "       75    0.000    0.000    0.000    0.000 copy.py:242(_keep_alive)\n",
      "        1    0.000    0.000    0.000    0.000 core.py:1278(_replace_dtype_fields_recursive)\n",
      "        1    0.000    0.000    0.000    0.000 core.py:1310(_replace_dtype_fields)\n",
      "        1    0.000    0.000    0.000    0.000 core.py:1324(make_mask_descr)\n",
      "        4    0.000    0.000    0.000    0.000 core.py:1357(getmask)\n",
      "        1    0.000    0.000    0.000    0.000 core.py:2773(__new__)\n",
      "        1    0.000    0.000    0.000    0.000 core.py:2903(_update_from)\n",
      "        1    0.000    0.000    0.000    0.000 core.py:2929(__array_finalize__)\n",
      "        3    0.000    0.000    0.000    0.000 core.py:3281(__setitem__)\n",
      "        2    0.000    0.000    0.000    0.000 core.py:3347(dtype)\n",
      "        2    0.000    0.000    0.000    0.000 core.py:3363(shape)\n",
      "        3    0.000    0.000    0.000    0.000 core.py:3577(_get_data)\n",
      "       14    0.000    0.000    0.000    0.000 core.py:6251(isMaskedArray)\n",
      "        1    0.000    0.000    0.000    0.000 disk.py:42(memstr_to_bytes)\n",
      "       26    0.000    0.000    0.001    0.000 encoder.py:182(encode)\n",
      "       26    0.001    0.000    0.001    0.000 encoder.py:204(iterencode)\n",
      "      652    0.001    0.000    0.001    0.000 enum.py:313(__call__)\n",
      "      652    0.000    0.000    0.000    0.000 enum.py:631(__new__)\n",
      "       20    0.199    0.010    0.199    0.010 extmath.py:118(safe_sparse_dot)\n",
      "       39    0.000    0.000    0.032    0.001 extmath.py:681(_safe_accumulator_op)\n",
      "        1    0.000    0.000    0.000    0.000 fromnumeric.py:1644(_ravel_dispatcher)\n",
      "        1    0.000    0.000    0.000    0.000 fromnumeric.py:1648(ravel)\n",
      "        1    0.000    0.000    0.000    0.000 fromnumeric.py:1755(_nonzero_dispatcher)\n",
      "        1    0.000    0.000    0.000    0.000 fromnumeric.py:1759(nonzero)\n",
      "       39    0.000    0.000    0.000    0.000 fromnumeric.py:2040(_sum_dispatcher)\n",
      "       39    0.000    0.000    0.032    0.001 fromnumeric.py:2045(sum)\n",
      "    55608    0.009    0.000    0.009    0.000 fromnumeric.py:2273(_all_dispatcher)\n",
      "    55608    0.035    0.000    0.253    0.000 fromnumeric.py:2277(all)\n",
      "        2    0.000    0.000    0.000    0.000 fromnumeric.py:2982(_ndim_dispatcher)\n",
      "        2    0.000    0.000    0.000    0.000 fromnumeric.py:2986(ndim)\n",
      "        2    0.000    0.000    0.000    0.000 fromnumeric.py:55(_wrapfunc)\n",
      "    55647    0.069    0.000    0.250    0.000 fromnumeric.py:73(_wrapreduction)\n",
      "    55647    0.016    0.000    0.016    0.000 fromnumeric.py:74(<dictcomp>)\n",
      "        1    0.000    0.000    0.000    0.000 fromnumeric.py:974(_argsort_dispatcher)\n",
      "        1    0.000    0.000    0.000    0.000 fromnumeric.py:978(argsort)\n",
      "       32    0.000    0.000    0.000    0.000 function_base.py:289(_average_dispatcher)\n",
      "       32    0.000    0.000    0.013    0.000 function_base.py:293(average)\n",
      "       14    0.003    0.000    0.003    0.000 function_base.py:432(asarray_chkfinite)\n",
      "       12    0.000    0.000    0.000    0.000 functools.py:34(update_wrapper)\n",
      "        6    0.000    0.000    0.000    0.000 functools.py:64(wraps)\n",
      "        2    0.000    0.000    0.000    0.000 index_tricks.py:318(__getitem__)\n",
      "      196    0.000    0.000    0.000    0.000 inspect.py:158(isfunction)\n",
      "       98    0.002    0.000    0.006    0.000 inspect.py:2124(_signature_from_function)\n",
      "       98    0.001    0.000    0.007    0.000 inspect.py:2218(_signature_from_callable)\n",
      "      652    0.001    0.000    0.002    0.000 inspect.py:2489(__init__)\n",
      "     1858    0.000    0.000    0.000    0.000 inspect.py:2539(name)\n",
      "     1108    0.000    0.000    0.000    0.000 inspect.py:2551(kind)\n",
      "       98    0.001    0.000    0.001    0.000 inspect.py:2772(__init__)\n",
      "      750    0.000    0.000    0.000    0.000 inspect.py:2821(<genexpr>)\n",
      "       98    0.000    0.000    0.007    0.000 inspect.py:2851(from_callable)\n",
      "       98    0.000    0.000    0.000    0.000 inspect.py:2857(parameters)\n",
      "       98    0.000    0.000    0.007    0.000 inspect.py:3103(signature)\n",
      "       98    0.000    0.000    0.000    0.000 inspect.py:493(unwrap)\n",
      "       98    0.000    0.000    0.000    0.000 inspect.py:513(_is_wrapper)\n",
      "        6    0.000    0.000    0.000    0.000 inspect.py:72(isclass)\n",
      "       21    0.000    0.000    0.001    0.000 lapack.py:662(get_lapack_funcs)\n",
      "        1    0.000    0.000    0.000    0.000 logger.py:23(_squeeze_time)\n",
      "        1    0.000    0.000    0.000    0.000 logger.py:39(short_format_time)\n",
      "        7    0.000    0.000    0.000    0.000 logger.py:67(__init__)\n",
      "        7    0.000    0.000    0.000    0.000 memory.py:100(_store_backend_factory)\n",
      "        7    0.000    0.000    0.000    0.000 memory.py:345(__init__)\n",
      "        7    0.000    0.000    9.090    1.299 memory.py:348(__call__)\n",
      "        7    0.000    0.000    0.000    0.000 memory.py:916(__init__)\n",
      "        7    0.000    0.000    0.000    0.000 memory.py:971(cache)\n",
      "        6    0.000    0.000    6.836    1.139 metaestimators.py:116(<lambda>)\n",
      "       12    0.000    0.000    0.015    0.001 metaestimators.py:145(_safe_split)\n",
      "       41    0.000    0.000    0.006    0.000 metaestimators.py:24(_get_params)\n",
      "        7    0.000    0.000    0.003    0.000 metaestimators.py:36(_set_params)\n",
      "       16    0.000    0.000    0.002    0.000 metaestimators.py:62(_validate_names)\n",
      "       16    0.000    0.000    0.000    0.000 metaestimators.py:70(<listcomp>)\n",
      "        6    0.000    0.000    0.000    0.000 metaestimators.py:99(__get__)\n",
      "        7    0.000    0.000    0.000    0.000 misc.py:177(_datacopied)\n",
      "        8    0.000    0.000    0.000    0.000 multiarray.py:1043(copyto)\n",
      "        7    0.000    0.000    0.000    0.000 multiarray.py:1309(may_share_memory)\n",
      "        2    0.000    0.000    0.000    0.000 multiarray.py:145(concatenate)\n",
      "        7    0.000    0.000    0.000    0.000 multiarray.py:707(dot)\n",
      "        8    0.000    0.000    0.000    0.000 numeric.py:166(ones)\n",
      "       12    0.000    0.000    0.000    0.000 numeric.py:1782(isscalar)\n",
      "        7    0.000    0.000    0.000    0.000 numeric.py:2295(_array_equal_dispatcher)\n",
      "        7    0.000    0.000    0.001    0.000 numeric.py:2299(array_equal)\n",
      "      114    0.000    0.000    0.000    0.000 numerictypes.py:293(issubclass_)\n",
      "       57    0.000    0.000    0.000    0.000 numerictypes.py:365(issubdtype)\n",
      "        4    0.000    0.000    0.000    0.000 numerictypes.py:578(_can_coerce_all)\n",
      "        2    0.000    0.000    0.000    0.000 numerictypes.py:602(find_common_type)\n",
      "        2    0.000    0.000    0.000    0.000 numerictypes.py:654(<listcomp>)\n",
      "        2    0.000    0.000    0.000    0.000 numerictypes.py:655(<listcomp>)\n",
      "        6    0.000    0.000    0.000    0.000 parallel.py:184(__init__)\n",
      "        6    0.000    0.000    0.000    0.000 parallel.py:216(__enter__)\n",
      "        6    0.000    0.000    0.000    0.000 parallel.py:219(__exit__)\n",
      "        6    0.000    0.000    0.000    0.000 parallel.py:222(unregister)\n",
      "        6    0.000    0.000    0.000    0.000 parallel.py:245(__init__)\n",
      "        6    0.000    0.000   13.931    2.322 parallel.py:258(__call__)\n",
      "        6    0.001    0.000   13.931    2.322 parallel.py:262(<listcomp>)\n",
      "       18    0.000    0.000    0.000    0.000 parallel.py:275(__len__)\n",
      "        6    0.000    0.000    0.000    0.000 parallel.py:321(delayed)\n",
      "        6    0.000    0.000    0.000    0.000 parallel.py:324(delayed_function)\n",
      "        6    0.000    0.000    0.000    0.000 parallel.py:345(__init__)\n",
      "        6    0.000    0.000    0.000    0.000 parallel.py:350(__call__)\n",
      "        1    0.000    0.000    0.000    0.000 parallel.py:639(__init__)\n",
      "        1    0.000    0.000    0.000    0.000 parallel.py:723(__enter__)\n",
      "        1    0.000    0.000    0.000    0.000 parallel.py:728(__exit__)\n",
      "      2/1    0.000    0.000    0.000    0.000 parallel.py:732(_initialize_backend)\n",
      "        1    0.000    0.000    0.000    0.000 parallel.py:752(_effective_n_jobs)\n",
      "        1    0.000    0.000    0.000    0.000 parallel.py:757(_terminate_backend)\n",
      "        7    0.000    0.000    0.000    0.000 parallel.py:76(get_active_backend)\n",
      "        6    0.000    0.000   13.931    2.322 parallel.py:761(_dispatch)\n",
      "        7    0.000    0.000   13.938    1.991 parallel.py:798(dispatch_one_batch)\n",
      "        2    0.000    0.000    0.000    0.000 parallel.py:864(_print)\n",
      "        6    0.000    0.000    0.000    0.000 parallel.py:877(print_progress)\n",
      "        1    0.000    0.000    0.000    0.000 parallel.py:920(retrieve)\n",
      "        1    0.000    0.000   13.938   13.938 parallel.py:960(__call__)\n",
      "        9    0.000    0.000    0.001    0.000 pipeline.py:132(__init__)\n",
      "       41    0.000    0.000    0.006    0.000 pipeline.py:138(get_params)\n",
      "        7    0.000    0.000    0.003    0.000 pipeline.py:154(set_params)\n",
      "       16    0.000    0.000    0.002    0.000 pipeline.py:166(_validate_steps)\n",
      "       26    0.000    0.000    0.000    0.000 pipeline.py:194(_iter)\n",
      "        1    0.000    0.000    0.000    0.000 pipeline.py:237(_estimator_type)\n",
      "       27    0.000    0.000    0.000    0.000 pipeline.py:246(_final_estimator)\n",
      "       14    0.000    0.000    0.000    0.000 pipeline.py:251(_log_message)\n",
      "        7    0.000    0.000    9.092    1.299 pipeline.py:262(_fit)\n",
      "        7    0.000    0.000    0.000    0.000 pipeline.py:271(<dictcomp>)\n",
      "        7    0.000    0.000    9.419    1.346 pipeline.py:324(fit)\n",
      "        6    0.000    0.000    6.836    1.139 pipeline.py:395(predict)\n",
      "       12    0.000    0.000    0.000    0.000 pipeline.py:625(_pairwise)\n",
      "        7    0.000    0.000    9.090    1.299 pipeline.py:714(_fit_transform_one)\n",
      "        1    0.000    0.000    0.000    0.000 process.py:198(daemon)\n",
      "        1    0.000    0.000    0.000    0.000 process.py:37(current_process)\n",
      "        6    0.000    0.000    0.000    0.000 queue.py:121(put)\n",
      "       13    0.000    0.000    0.000    0.000 queue.py:153(get)\n",
      "        1    0.000    0.000    0.000    0.000 queue.py:205(_init)\n",
      "       13    0.000    0.000    0.000    0.000 queue.py:208(_qsize)\n",
      "        6    0.000    0.000    0.000    0.000 queue.py:212(_put)\n",
      "        6    0.000    0.000    0.000    0.000 queue.py:216(_get)\n",
      "        1    0.000    0.000    0.000    0.000 queue.py:33(__init__)\n",
      "        7    0.000    0.000    0.000    0.000 shape_base.py:20(_atleast_1d_dispatcher)\n",
      "        7    0.000    0.000    0.000    0.000 shape_base.py:24(atleast_1d)\n",
      "        7    0.000    0.000    0.000    0.000 shape_base.py:78(_atleast_2d_dispatcher)\n",
      "        7    0.000    0.000    0.000    0.000 shape_base.py:82(atleast_2d)\n",
      "       13    0.000    0.000    0.076    0.006 spherical_invariants.py:208(__init__)\n",
      "       26    0.000    0.000    0.000    0.000 spherical_invariants.py:295(update_hyperparameters)\n",
      "       26    0.000    0.000    0.000    0.000 spherical_invariants.py:320(<dictcomp>)\n",
      "       13    1.253    0.096   14.916    1.147 spherical_invariants.py:325(transform)\n",
      "        1    0.000    0.000    0.000    0.000 stats.py:6594(rankdata)\n",
      "       13    0.358    0.028    0.358    0.028 structure_manager.py:117(get_features)\n",
      "       13    0.607    0.047    2.248    0.173 structure_manager.py:231(convert_to_structure_list)\n",
      "    55608    0.123    0.000    0.444    0.000 structure_manager.py:265(sanitize_non_periodic_structure)\n",
      "    55608    0.032    0.000    0.059    0.000 structure_manager.py:298(is_ase_Atoms)\n",
      "    55608    0.152    0.000    1.103    0.000 structure_manager.py:311(unpack_ase)\n",
      "       13   11.414    0.878   13.663    1.051 structure_manager.py:35(__init__)\n",
      "        1    0.000    0.000    0.000    0.000 threading.py:1306(current_thread)\n",
      "        3    0.000    0.000    0.000    0.000 threading.py:222(__init__)\n",
      "       19    0.000    0.000    0.000    0.000 threading.py:246(__enter__)\n",
      "       19    0.000    0.000    0.000    0.000 threading.py:249(__exit__)\n",
      "       12    0.000    0.000    0.000    0.000 threading.py:261(_is_owned)\n",
      "       12    0.000    0.000    0.000    0.000 threading.py:341(notify)\n",
      "        1    0.000    0.000    0.000    0.000 threading.py:81(RLock)\n",
      "        1    0.000    0.000    0.000    0.000 uuid.py:132(__init__)\n",
      "        1    0.000    0.000    0.000    0.000 uuid.py:327(hex)\n",
      "        1    0.000    0.000    0.000    0.000 uuid.py:780(uuid4)\n",
      "        7    0.000    0.000    0.000    0.000 validation.py:1331(_check_fit_params)\n",
      "       99    0.001    0.000    0.001    0.000 validation.py:136(_num_samples)\n",
      "        7    0.000    0.000    0.001    0.000 validation.py:164(check_memory)\n",
      "       27    0.000    0.000    0.003    0.000 validation.py:197(check_consistent_length)\n",
      "       27    0.000    0.000    0.001    0.000 validation.py:208(<listcomp>)\n",
      "        3    0.000    0.000    0.000    0.000 validation.py:215(_make_indexable)\n",
      "        1    0.000    0.000    0.001    0.001 validation.py:235(indexable)\n",
      "        1    0.000    0.000    0.000    0.000 validation.py:247(<listcomp>)\n",
      "       39    0.000    0.000    0.000    0.000 validation.py:343(_ensure_no_complex_data)\n",
      "       39    0.001    0.000    0.051    0.001 validation.py:350(check_array)\n",
      "       39    0.001    0.000    0.033    0.001 validation.py:37(_assert_all_finite)\n",
      "        7    0.000    0.000    0.014    0.002 validation.py:636(check_X_y)\n",
      "        6    0.000    0.000    0.000    0.000 validation.py:904(check_is_fitted)\n",
      "        6    0.000    0.000    0.000    0.000 validation.py:963(<listcomp>)\n",
      "       14    0.000    0.000    0.000    0.000 version.py:302(__init__)\n",
      "       14    0.000    0.000    0.000    0.000 version.py:307(parse)\n",
      "       14    0.000    0.000    0.000    0.000 version.py:312(<listcomp>)\n",
      "        7    0.000    0.000    0.000    0.000 version.py:331(_cmp)\n",
      "        7    0.000    0.000    0.000    0.000 version.py:51(__lt__)\n",
      "       39    0.000    0.000    0.000    0.000 warnings.py:165(simplefilter)\n",
      "       39    0.000    0.000    0.000    0.000 warnings.py:181(_add_filter)\n",
      "       39    0.000    0.000    0.000    0.000 warnings.py:437(__init__)\n",
      "       39    0.000    0.000    0.000    0.000 warnings.py:458(__enter__)\n",
      "       39    0.000    0.000    0.000    0.000 warnings.py:477(__exit__)\n",
      "      143    0.000    0.000    0.000    0.000 {built-in method _abc._abc_instancecheck}\n",
      "       92    0.000    0.000    0.000    0.000 {built-in method _abc._abc_subclasscheck}\n",
      "        1    0.000    0.000    0.000    0.000 {built-in method _thread.allocate_lock}\n",
      "        1    0.000    0.000    0.000    0.000 {built-in method _thread.get_ident}\n",
      "      117    0.000    0.000    0.000    0.000 {built-in method _warnings._filters_mutated}\n",
      "      100    0.000    0.000    0.000    0.000 {built-in method builtins.callable}\n",
      "        1    0.000    0.000   16.292   16.292 {built-in method builtins.exec}\n",
      "56662/56602    0.016    0.000    0.016    0.000 {built-in method builtins.getattr}\n",
      "   223559    0.028    0.000    0.028    0.000 {built-in method builtins.hasattr}\n",
      "      842    0.000    0.000    0.000    0.000 {built-in method builtins.id}\n",
      "    57513    0.011    0.000    0.012    0.000 {built-in method builtins.isinstance}\n",
      "      235    0.000    0.000    0.000    0.000 {built-in method builtins.issubclass}\n",
      "        1    0.000    0.000    0.000    0.000 {built-in method builtins.iter}\n",
      "      436    0.000    0.000    0.000    0.000 {built-in method builtins.len}\n",
      "       14    0.000    0.000    0.000    0.000 {built-in method builtins.max}\n",
      "       30    0.000    0.000    0.000    0.000 {built-in method builtins.next}\n",
      "       67    0.000    0.000    0.000    0.000 {built-in method builtins.setattr}\n",
      "       99    0.000    0.000    0.000    0.000 {built-in method builtins.sorted}\n",
      "        2    0.000    0.000    0.000    0.000 {built-in method builtins.sum}\n",
      "        6    0.000    0.000    0.000    0.000 {built-in method builtins.vars}\n",
      "        1    0.000    0.000    0.000    0.000 {built-in method from_bytes}\n",
      "        1    0.000    0.000    0.000    0.000 {built-in method numpy.arange}\n",
      "   222711    0.289    0.000    0.303    0.000 {built-in method numpy.array}\n",
      "    55756    0.027    0.000    0.328    0.000 {built-in method numpy.core._multiarray_umath.implement_array_function}\n",
      "       37    0.000    0.000    0.000    0.000 {built-in method numpy.empty}\n",
      "        1    0.000    0.000    0.000    0.000 {built-in method posix.urandom}\n",
      "       98    0.000    0.000    0.000    0.000 {built-in method sys.getrecursionlimit}\n",
      "       41    0.000    0.000    0.000    0.000 {built-in method time.time}\n",
      "       19    0.000    0.000    0.000    0.000 {method '__enter__' of '_thread.lock' objects}\n",
      "       19    0.000    0.000    0.000    0.000 {method '__exit__' of '_thread.lock' objects}\n",
      "       12    0.000    0.000    0.000    0.000 {method 'acquire' of '_thread.lock' objects}\n",
      "       21    0.000    0.000    0.001    0.000 {method 'all' of 'numpy.ndarray' objects}\n",
      "        6    0.000    0.000    0.000    0.000 {method 'append' of 'collections.deque' objects}\n",
      "      802    0.000    0.000    0.000    0.000 {method 'append' of 'list' objects}\n",
      "        1    0.000    0.000    0.000    0.000 {method 'argmin' of 'numpy.ndarray' objects}\n",
      "        1    0.000    0.000    0.000    0.000 {method 'argsort' of 'numpy.ndarray' objects}\n",
      "    55610    0.029    0.000    0.029    0.000 {method 'astype' of 'numpy.ndarray' objects}\n",
      "       39    0.000    0.000    0.000    0.000 {method 'copy' of 'dict' objects}\n",
      "   278040    0.170    0.000    0.170    0.000 {method 'copy' of 'numpy.ndarray' objects}\n",
      "        1    0.000    0.000    0.000    0.000 {method 'count' of 'list' objects}\n",
      "        1    0.000    0.000    0.000    0.000 {method 'cumsum' of 'numpy.ndarray' objects}\n",
      "        1    0.000    0.000    0.000    0.000 {method 'disable' of '_lsprof.Profiler' objects}\n",
      "       66    0.000    0.000    0.000    0.000 {method 'endswith' of 'str' objects}\n",
      "       14    0.000    0.000    0.000    0.000 {method 'extend' of 'list' objects}\n",
      "       27    0.000    0.000    0.000    0.000 {method 'flatten' of 'numpy.ndarray' objects}\n",
      "     1960    0.000    0.000    0.000    0.000 {method 'get' of 'dict' objects}\n",
      "       11    0.000    0.000    0.000    0.000 {method 'index' of 'list' objects}\n",
      "       97    0.000    0.000    0.000    0.000 {method 'insert' of 'list' objects}\n",
      "       16    0.000    0.000    0.000    0.000 {method 'intersection' of 'set' objects}\n",
      "      652    0.000    0.000    0.000    0.000 {method 'isidentifier' of 'str' objects}\n",
      "        6    0.000    0.000    0.000    0.000 {method 'item' of 'numpy.generic' objects}\n",
      "    55827    0.008    0.000    0.008    0.000 {method 'items' of 'dict' objects}\n",
      "       78    0.000    0.000    0.000    0.000 {method 'join' of 'str' objects}\n",
      "    55640    0.008    0.000    0.008    0.000 {method 'keys' of 'dict' objects}\n",
      "       32    0.000    0.000    0.013    0.000 {method 'mean' of 'numpy.ndarray' objects}\n",
      "        1    0.000    0.000    0.000    0.000 {method 'nonzero' of 'numpy.ndarray' objects}\n",
      "       14    0.000    0.000    0.000    0.000 {method 'partition' of 'str' objects}\n",
      "       19    0.000    0.000    0.000    0.000 {method 'pop' of 'list' objects}\n",
      "        6    0.000    0.000    0.000    0.000 {method 'popleft' of 'collections.deque' objects}\n",
      "       15    0.000    0.000    0.000    0.000 {method 'ravel' of 'numpy.ndarray' objects}\n",
      "    55700    0.170    0.000    0.170    0.000 {method 'reduce' of 'numpy.ufunc' objects}\n",
      "       39    0.000    0.000    0.000    0.000 {method 'remove' of 'list' objects}\n",
      "   111238    0.042    0.000    0.042    0.000 {method 'reshape' of 'numpy.ndarray' objects}\n",
      "       52    0.000    0.000    0.000    0.000 {method 'rpartition' of 'str' objects}\n",
      "       27    0.001    0.000    0.001    0.000 {method 'sort' of 'numpy.ndarray' objects}\n",
      "       14    0.000    0.000    0.000    0.000 {method 'split' of 're.Pattern' objects}\n",
      "       19    0.000    0.000    0.000    0.000 {method 'startswith' of 'str' objects}\n",
      "       64    0.000    0.000    0.000    0.000 {method 'update' of 'dict' objects}\n",
      "        2    0.000    0.000    0.000    0.000 {method 'values' of 'dict' objects}\n",
      "       98    0.000    0.000    0.000    0.000 {method 'values' of 'mappingproxy' objects}\n",
      "        1    0.000    0.000    0.000    0.000 {method 'view' of 'numpy.generic' objects}\n",
      "        4    0.000    0.000    0.000    0.000 {method 'view' of 'numpy.ndarray' objects}\n",
      "\n",
      "\n"
     ]
    }
   ],
   "source": [
    "cProfile.run(\"clf.fit(atom_features,train_properties)\")"
   ]
  },
  {
   "cell_type": "code",
   "execution_count": 106,
   "id": "147db690-611e-4779-8d7d-9e2c06baa2e2",
   "metadata": {},
   "outputs": [],
   "source": [
    "clf = GridSearchCV(pip2,param_grid,cv=splits,scoring=\"neg_mean_squared_error\")"
   ]
  },
  {
   "cell_type": "code",
   "execution_count": 107,
   "id": "7cf28874-b65a-4f2a-a548-2bb05050b1f5",
   "metadata": {
    "tags": []
   },
   "outputs": [
    {
     "data": {
      "text/plain": [
       "GridSearchCV(cv=[(array([   0,    1,    2, ..., 7941, 7942, 7943]),\n",
       "                  array([  20,   21,   22, ..., 7801, 7802, 7803])),\n",
       "                 (array([  20,   21,   22, ..., 7801, 7802, 7803]),\n",
       "                  array([   0,    1,    2, ..., 7941, 7942, 7943]))],\n",
       "             error_score=nan,\n",
       "             estimator=Pipeline(memory=None,\n",
       "                                steps=[('functiontransformer',\n",
       "                                        FunctionTransformer(accept_sparse=False,\n",
       "                                                            check_inverse=False,\n",
       "                                                            func=<function scale at 0x7f08485db940>,\n",
       "                                                            inv_kw_args=...\n",
       "                                                                                'soap_type': 'PowerSpectrum'}},\n",
       "                                                            validate=False)),\n",
       "                                       ('ridge',\n",
       "                                        Ridge(alpha=1.0, copy_X=True,\n",
       "                                              fit_intercept=True, max_iter=None,\n",
       "                                              normalize=False,\n",
       "                                              random_state=None, solver='auto',\n",
       "                                              tol=0.001))],\n",
       "                                verbose=False),\n",
       "             iid='deprecated', n_jobs=None,\n",
       "             param_grid={'ridge__alpha': [0.1, 1.0, 10.0]},\n",
       "             pre_dispatch='2*n_jobs', refit=True, return_train_score=False,\n",
       "             scoring='neg_mean_squared_error', verbose=0)"
      ]
     },
     "execution_count": 107,
     "metadata": {},
     "output_type": "execute_result"
    }
   ],
   "source": [
    "#predetermine splits b\n",
    "\n",
    "\n",
    "clf.fit(atom_features,train_properties)"
   ]
  },
  {
   "cell_type": "code",
   "execution_count": 126,
   "id": "a29e4b81-e4cc-4ba7-8caf-d221c9fe7309",
   "metadata": {},
   "outputs": [
    {
     "data": {
      "text/plain": [
       "{'mean_fit_time': array([1.13930106, 1.13338792, 1.13879526]),\n",
       " 'std_fit_time': array([0.00464582, 0.00759375, 0.00576675]),\n",
       " 'mean_score_time': array([1.10077107, 1.09531081, 1.09504533]),\n",
       " 'std_score_time': array([0.01100814, 0.00511205, 0.00370145]),\n",
       " 'param_ridge__alpha': masked_array(data=[0.1, 1.0, 10.0],\n",
       "              mask=[False, False, False],\n",
       "        fill_value='?',\n",
       "             dtype=object),\n",
       " 'params': [{'ridge__alpha': 0.1},\n",
       "  {'ridge__alpha': 1.0},\n",
       "  {'ridge__alpha': 10.0}],\n",
       " 'split0_test_score': array([-1.24175044, -1.88565849, -3.47001125]),\n",
       " 'split1_test_score': array([-0.92682083, -1.29157667, -2.43152023]),\n",
       " 'mean_test_score': array([-1.08428563, -1.58861758, -2.95076574]),\n",
       " 'std_test_score': array([0.15746481, 0.29704091, 0.51924551]),\n",
       " 'rank_test_score': array([1, 2, 3], dtype=int32)}"
      ]
     },
     "execution_count": 126,
     "metadata": {},
     "output_type": "execute_result"
    }
   ],
   "source": []
  },
  {
   "cell_type": "code",
   "execution_count": 108,
   "id": "2b3096b1-67a2-4759-bd89-fa7d4cd2f098",
   "metadata": {},
   "outputs": [
    {
     "data": {
      "text/plain": [
       "dtype('float64')"
      ]
     },
     "execution_count": 108,
     "metadata": {},
     "output_type": "execute_result"
    }
   ],
   "source": [
    "train_properties.dtype"
   ]
  },
  {
   "cell_type": "code",
   "execution_count": 111,
   "id": "6b20e362-2b77-49f4-851f-02a85a8ae171",
   "metadata": {},
   "outputs": [
    {
     "data": {
      "text/plain": [
       "nan"
      ]
     },
     "execution_count": 111,
     "metadata": {},
     "output_type": "execute_result"
    }
   ],
   "source": [
    "clf."
   ]
  },
  {
   "cell_type": "code",
   "execution_count": null,
   "id": "4002a64d-cf92-43d0-8175-431b9d3090df",
   "metadata": {},
   "outputs": [],
   "source": [
    "from skl groups = atom_groups_by_frame(frames) "
   ]
  },
  {
   "cell_type": "code",
   "execution_count": 160,
   "id": "8fa408e7-c2da-4e44-a047-6beabefa44c3",
   "metadata": {},
   "outputs": [
    {
     "data": {
      "text/plain": [
       "8053"
      ]
     },
     "execution_count": 160,
     "metadata": {},
     "output_type": "execute_result"
    }
   ],
   "source": [
    "len(train_properties)"
   ]
  },
  {
   "cell_type": "code",
   "execution_count": 146,
   "id": "1f5f6633-fe8e-43b8-9b39-9b8e006e2f36",
   "metadata": {},
   "outputs": [],
   "source": [
    "this = pip2.predict(test_structures)"
   ]
  },
  {
   "cell_type": "code",
   "execution_count": 147,
   "id": "2f5ed32e-adf5-4a5f-8b94-d1eafc345172",
   "metadata": {},
   "outputs": [
    {
     "data": {
      "text/plain": [
       "11650"
      ]
     },
     "execution_count": 147,
     "metadata": {},
     "output_type": "execute_result"
    }
   ],
   "source": [
    "len(test_properties)"
   ]
  },
  {
   "cell_type": "code",
   "execution_count": 148,
   "id": "c136e213-d2d3-4989-8c24-3e2a97915fd1",
   "metadata": {},
   "outputs": [
    {
     "data": {
      "text/plain": [
       "11650"
      ]
     },
     "execution_count": 148,
     "metadata": {},
     "output_type": "execute_result"
    }
   ],
   "source": [
    "len(this)"
   ]
  },
  {
   "cell_type": "code",
   "execution_count": 7,
   "id": "ac7751eb-ec93-4c27-ad47-6a018c371cb9",
   "metadata": {},
   "outputs": [
    {
     "data": {
      "text/plain": [
       "dict_keys(['memory', 'steps', 'verbose', 'scaler', 'svc', 'scaler__copy', 'scaler__with_mean', 'scaler__with_std', 'svc__C', 'svc__break_ties', 'svc__cache_size', 'svc__class_weight', 'svc__coef0', 'svc__decision_function_shape', 'svc__degree', 'svc__gamma', 'svc__kernel', 'svc__max_iter', 'svc__probability', 'svc__random_state', 'svc__shrinking', 'svc__tol', 'svc__verbose'])"
      ]
     },
     "execution_count": 7,
     "metadata": {},
     "output_type": "execute_result"
    }
   ],
   "source": [
    "pipe.get_params().keys()"
   ]
  },
  {
   "cell_type": "code",
   "execution_count": 72,
   "id": "68c2b817-77ff-48df-ae0e-a0ec7836dc01",
   "metadata": {},
   "outputs": [],
   "source": [
    "calculator = SOAP(**hypers)\n",
    "alphas = np.logspace(-10,5,50)\n",
    "X_train = calculator.transform(train_structures).get_features(calculator)\n",
    "X_test = calculator.transform(test_structures).get_features(calculator)"
   ]
  },
  {
   "cell_type": "code",
   "execution_count": 73,
   "id": "9ae97355-c877-4e23-a8a5-f72cd1e72b57",
   "metadata": {},
   "outputs": [
    {
     "data": {
      "text/plain": [
       "(35289, 675)"
      ]
     },
     "execution_count": 73,
     "metadata": {},
     "output_type": "execute_result"
    }
   ],
   "source": [
    "X_test.shape"
   ]
  },
  {
   "cell_type": "code",
   "execution_count": 64,
   "id": "bd1b7b24-e2b4-49e7-bae7-f5dde85a0951",
   "metadata": {},
   "outputs": [
    {
     "data": {
      "text/plain": [
       "array([[ 0.5529693 , -0.20741266,  0.15095154, ...,  0.        ,\n",
       "         0.        ,  0.        ],\n",
       "       [ 0.55296926, -0.20741289,  0.15095152, ...,  0.        ,\n",
       "         0.        ,  0.        ],\n",
       "       [ 0.55296883, -0.20741247,  0.15095141, ...,  0.        ,\n",
       "         0.        ,  0.        ],\n",
       "       ...,\n",
       "       [ 0.66396997, -0.23213863,  0.20915502, ...,  0.        ,\n",
       "         0.        ,  0.        ],\n",
       "       [ 0.66432824, -0.23208143,  0.20858611, ...,  0.        ,\n",
       "         0.        ,  0.        ],\n",
       "       [ 0.6639702 , -0.23213745,  0.20915491, ...,  0.        ,\n",
       "         0.        ,  0.        ]])"
      ]
     },
     "execution_count": 64,
     "metadata": {},
     "output_type": "execute_result"
    }
   ],
   "source": [
    "X_test"
   ]
  },
  {
   "cell_type": "code",
   "execution_count": 25,
   "id": "3a0f04b0-e5da-428b-ba13-e28f73066abc",
   "metadata": {},
   "outputs": [],
   "source": [
    "model = RidgeCV(alphas=alphas)"
   ]
  },
  {
   "cell_type": "code",
   "execution_count": 35,
   "id": "7a78cbcd-797a-4c36-81a2-cfa239c1720a",
   "metadata": {
    "collapsed": true,
    "jupyter": {
     "outputs_hidden": true
    },
    "tags": []
   },
   "outputs": [
    {
     "ename": "TypeError",
     "evalue": "'bool' object is not callable",
     "output_type": "error",
     "traceback": [
      "\u001b[0;31m---------------------------------------------------------------------------\u001b[0m",
      "\u001b[0;31mTypeError\u001b[0m                                 Traceback (most recent call last)",
      "\u001b[0;32m<ipython-input-35-88a82fbce699>\u001b[0m in \u001b[0;36m<module>\u001b[0;34m\u001b[0m\n\u001b[0;32m----> 1\u001b[0;31m \u001b[0mmodel\u001b[0m\u001b[0;34m.\u001b[0m\u001b[0mfit_intercept\u001b[0m\u001b[0;34m(\u001b[0m\u001b[0mX_train\u001b[0m\u001b[0;34m,\u001b[0m\u001b[0mtrain_properties\u001b[0m\u001b[0;34m)\u001b[0m\u001b[0;34m\u001b[0m\u001b[0;34m\u001b[0m\u001b[0m\n\u001b[0m",
      "\u001b[0;31mTypeError\u001b[0m: 'bool' object is not callable"
     ]
    }
   ],
   "source": [
    "model.fit(X_train,train_properties)"
   ]
  },
  {
   "cell_type": "code",
   "execution_count": 27,
   "id": "687eeb21-e6b3-45ca-b80f-18d1cf54d7f7",
   "metadata": {},
   "outputs": [
    {
     "data": {
      "text/plain": [
       "array([1.00000000e-10, 2.02358965e-10, 4.09491506e-10, 8.28642773e-10,\n",
       "       1.67683294e-09, 3.39322177e-09, 6.86648845e-09, 1.38949549e-08,\n",
       "       2.81176870e-08, 5.68986603e-08, 1.15139540e-07, 2.32995181e-07,\n",
       "       4.71486636e-07, 9.54095476e-07, 1.93069773e-06, 3.90693994e-06,\n",
       "       7.90604321e-06, 1.59985872e-05, 3.23745754e-05, 6.55128557e-05,\n",
       "       1.32571137e-04, 2.68269580e-04, 5.42867544e-04, 1.09854114e-03,\n",
       "       2.22299648e-03, 4.49843267e-03, 9.10298178e-03, 1.84206997e-02,\n",
       "       3.72759372e-02, 7.54312006e-02, 1.52641797e-01, 3.08884360e-01,\n",
       "       6.25055193e-01, 1.26485522e+00, 2.55954792e+00, 5.17947468e+00,\n",
       "       1.04811313e+01, 2.12095089e+01, 4.29193426e+01, 8.68511374e+01,\n",
       "       1.75751062e+02, 3.55648031e+02, 7.19685673e+02, 1.45634848e+03,\n",
       "       2.94705170e+03, 5.96362332e+03, 1.20679264e+04, 2.44205309e+04,\n",
       "       4.94171336e+04, 1.00000000e+05])"
      ]
     },
     "execution_count": 27,
     "metadata": {},
     "output_type": "execute_result"
    }
   ],
   "source": [
    "model.alphas"
   ]
  },
  {
   "cell_type": "code",
   "execution_count": 136,
   "id": "0010705d-ea1c-4bee-8c22-1014bf8f53f4",
   "metadata": {
    "collapsed": true,
    "jupyter": {
     "outputs_hidden": true
    },
    "tags": []
   },
   "outputs": [
    {
     "ename": "NameError",
     "evalue": "name 'model' is not defined",
     "output_type": "error",
     "traceback": [
      "\u001b[0;31m---------------------------------------------------------------------------\u001b[0m",
      "\u001b[0;31mNameError\u001b[0m                                 Traceback (most recent call last)",
      "\u001b[0;32m<ipython-input-136-33f45f2977c2>\u001b[0m in \u001b[0;36m<module>\u001b[0;34m\u001b[0m\n\u001b[0;32m----> 1\u001b[0;31m \u001b[0my_pred\u001b[0m \u001b[0;34m=\u001b[0m \u001b[0mmodel\u001b[0m\u001b[0;34m.\u001b[0m\u001b[0mpredict\u001b[0m\u001b[0;34m(\u001b[0m\u001b[0mX_test\u001b[0m\u001b[0;34m)\u001b[0m\u001b[0;34m\u001b[0m\u001b[0;34m\u001b[0m\u001b[0m\n\u001b[0m",
      "\u001b[0;31mNameError\u001b[0m: name 'model' is not defined"
     ]
    }
   ],
   "source": [
    "y_pred = model.predict(X_test)"
   ]
  },
  {
   "cell_type": "code",
   "execution_count": 150,
   "id": "71621c2f-7ed1-43f9-a845-349bfc28982e",
   "metadata": {},
   "outputs": [],
   "source": [
    "from sklearn.metrics import mean_squared_error"
   ]
  },
  {
   "cell_type": "code",
   "execution_count": 152,
   "id": "9608a682-6f82-41c6-83c8-c1dc3cfe436a",
   "metadata": {},
   "outputs": [
    {
     "data": {
      "text/plain": [
       "0.8638981891049953"
      ]
     },
     "execution_count": 152,
     "metadata": {},
     "output_type": "execute_result"
    }
   ],
   "source": [
    "mean_squared_error(this,test_properties)"
   ]
  },
  {
   "cell_type": "code",
   "execution_count": 15,
   "id": "14912a34-3518-43bb-a9a9-11427f0c91bf",
   "metadata": {},
   "outputs": [],
   "source": [
    "somehyps = dict(a=1,b=2)\n",
    "def scale(x,*somehyps):\n",
    "    return somehyps[\"b\"] * x"
   ]
  },
  {
   "cell_type": "code",
   "execution_count": null,
   "id": "3d993d48-2907-4d32-801a-29a29e088db6",
   "metadata": {},
   "outputs": [],
   "source": []
  },
  {
   "cell_type": "code",
   "execution_count": 37,
   "id": "b6e1d726-4fc6-4943-9bbf-ce2b41ba0fbc",
   "metadata": {},
   "outputs": [
    {
     "data": {
      "text/plain": [
       "(35289,)"
      ]
     },
     "execution_count": 37,
     "metadata": {},
     "output_type": "execute_result"
    }
   ],
   "source": [
    "test_properties.shape"
   ]
  },
  {
   "cell_type": "code",
   "execution_count": 34,
   "id": "5efc3a3a-d02f-4a3f-a76d-803f8f77a090",
   "metadata": {},
   "outputs": [],
   "source": [
    "from sklearn.metrics import mean_squared_error, mean_absolute_error"
   ]
  },
  {
   "cell_type": "code",
   "execution_count": 38,
   "id": "eb77f22e-e377-4e9b-a66a-b6af7a919544",
   "metadata": {},
   "outputs": [
    {
     "data": {
      "text/plain": [
       "1343.5849374876655"
      ]
     },
     "execution_count": 38,
     "metadata": {},
     "output_type": "execute_result"
    }
   ],
   "source": [
    "mean_squared_error(y_pred,test_properties)"
   ]
  },
  {
   "cell_type": "code",
   "execution_count": 39,
   "id": "31ab5bc8-3635-450e-a5ea-253e6e8edd1a",
   "metadata": {},
   "outputs": [
    {
     "data": {
      "text/plain": [
       "5.967220681338672"
      ]
     },
     "execution_count": 39,
     "metadata": {},
     "output_type": "execute_result"
    }
   ],
   "source": [
    "mean_absolute_error(y_pred,test_properties)"
   ]
  },
  {
   "cell_type": "code",
   "execution_count": 32,
   "id": "1fcf3313-fb3a-43fd-ae74-26f8b8303746",
   "metadata": {},
   "outputs": [
    {
     "data": {
      "text/plain": [
       "(4514, 1500)"
      ]
     },
     "execution_count": 32,
     "metadata": {},
     "output_type": "execute_result"
    }
   ],
   "source": [
    "X_train.shape"
   ]
  },
  {
   "cell_type": "code",
   "execution_count": 47,
   "id": "955815c8-c565-4ed5-a96e-a2589fcc4538",
   "metadata": {},
   "outputs": [
    {
     "data": {
      "text/plain": [
       "array([2. , 2.5, 3. , 3.5, 4. , 4.5, 5. , 5.5, 6. , 6.5, 7. , 7.5, 8. ])"
      ]
     },
     "execution_count": 48,
     "metadata": {},
     "output_type": "execute_result"
    }
   ],
   "source": [
    "np.linspace(2.,8.,num=13)"
   ]
  },
  {
   "cell_type": "code",
   "execution_count": 85,
   "id": "5f90a286-9dff-4b8c-a82c-58b783457f3c",
   "metadata": {
    "collapsed": true,
    "jupyter": {
     "outputs_hidden": true
    },
    "tags": []
   },
   "outputs": [
    {
     "name": "stdout",
     "output_type": "stream",
     "text": [
      "l: 0, done \n",
      "l: 0, done \n",
      "l: 1, done \n",
      "l: 0, done \n"
     ]
    },
    {
     "ename": "KeyboardInterrupt",
     "evalue": "",
     "output_type": "error",
     "traceback": [
      "\u001b[0;31m---------------------------------------------------------------------------\u001b[0m",
      "\u001b[0;31mKeyboardInterrupt\u001b[0m                         Traceback (most recent call last)",
      "\u001b[0;32m<ipython-input-85-7dfc54858d16>\u001b[0m in \u001b[0;36m<module>\u001b[0;34m\u001b[0m\n\u001b[1;32m     41\u001b[0m \u001b[0;34m\u001b[0m\u001b[0m\n\u001b[1;32m     42\u001b[0m                 \u001b[0mmodel\u001b[0m \u001b[0;34m=\u001b[0m \u001b[0mRidgeCV\u001b[0m\u001b[0;34m(\u001b[0m\u001b[0malphas\u001b[0m\u001b[0;34m=\u001b[0m\u001b[0malphas\u001b[0m\u001b[0;34m)\u001b[0m\u001b[0;34m\u001b[0m\u001b[0;34m\u001b[0m\u001b[0m\n\u001b[0;32m---> 43\u001b[0;31m                 \u001b[0mmodel\u001b[0m\u001b[0;34m.\u001b[0m\u001b[0mfit\u001b[0m\u001b[0;34m(\u001b[0m\u001b[0mX_train\u001b[0m\u001b[0;34m,\u001b[0m\u001b[0mtrain_properties\u001b[0m\u001b[0;34m)\u001b[0m\u001b[0;34m\u001b[0m\u001b[0;34m\u001b[0m\u001b[0m\n\u001b[0m\u001b[1;32m     44\u001b[0m                 \u001b[0my_pred\u001b[0m \u001b[0;34m=\u001b[0m \u001b[0mmodel\u001b[0m\u001b[0;34m.\u001b[0m\u001b[0mpredict\u001b[0m\u001b[0;34m(\u001b[0m\u001b[0mX_test\u001b[0m\u001b[0;34m)\u001b[0m\u001b[0;34m\u001b[0m\u001b[0;34m\u001b[0m\u001b[0m\n\u001b[1;32m     45\u001b[0m \u001b[0;34m\u001b[0m\u001b[0m\n",
      "\u001b[0;32m/ssd/scratch/kellner/miniconda3/lib/python3.8/site-packages/sklearn/linear_model/_ridge.py\u001b[0m in \u001b[0;36mfit\u001b[0;34m(self, X, y, sample_weight)\u001b[0m\n\u001b[1;32m   1567\u001b[0m                                   \u001b[0mgcv_mode\u001b[0m\u001b[0;34m=\u001b[0m\u001b[0mself\u001b[0m\u001b[0;34m.\u001b[0m\u001b[0mgcv_mode\u001b[0m\u001b[0;34m,\u001b[0m\u001b[0;34m\u001b[0m\u001b[0;34m\u001b[0m\u001b[0m\n\u001b[1;32m   1568\u001b[0m                                   store_cv_values=self.store_cv_values)\n\u001b[0;32m-> 1569\u001b[0;31m             \u001b[0mestimator\u001b[0m\u001b[0;34m.\u001b[0m\u001b[0mfit\u001b[0m\u001b[0;34m(\u001b[0m\u001b[0mX\u001b[0m\u001b[0;34m,\u001b[0m \u001b[0my\u001b[0m\u001b[0;34m,\u001b[0m \u001b[0msample_weight\u001b[0m\u001b[0;34m=\u001b[0m\u001b[0msample_weight\u001b[0m\u001b[0;34m)\u001b[0m\u001b[0;34m\u001b[0m\u001b[0;34m\u001b[0m\u001b[0m\n\u001b[0m\u001b[1;32m   1570\u001b[0m             \u001b[0mself\u001b[0m\u001b[0;34m.\u001b[0m\u001b[0malpha_\u001b[0m \u001b[0;34m=\u001b[0m \u001b[0mestimator\u001b[0m\u001b[0;34m.\u001b[0m\u001b[0malpha_\u001b[0m\u001b[0;34m\u001b[0m\u001b[0;34m\u001b[0m\u001b[0m\n\u001b[1;32m   1571\u001b[0m             \u001b[0;32mif\u001b[0m \u001b[0mself\u001b[0m\u001b[0;34m.\u001b[0m\u001b[0mstore_cv_values\u001b[0m\u001b[0;34m:\u001b[0m\u001b[0;34m\u001b[0m\u001b[0;34m\u001b[0m\u001b[0m\n",
      "\u001b[0;32m/ssd/scratch/kellner/miniconda3/lib/python3.8/site-packages/sklearn/linear_model/_ridge.py\u001b[0m in \u001b[0;36mfit\u001b[0;34m(self, X, y, sample_weight)\u001b[0m\n\u001b[1;32m   1475\u001b[0m         \u001b[0mX_mean\u001b[0m\u001b[0;34m,\u001b[0m \u001b[0;34m*\u001b[0m\u001b[0mdecomposition\u001b[0m \u001b[0;34m=\u001b[0m \u001b[0mdecompose\u001b[0m\u001b[0;34m(\u001b[0m\u001b[0mX\u001b[0m\u001b[0;34m,\u001b[0m \u001b[0my\u001b[0m\u001b[0;34m,\u001b[0m \u001b[0msqrt_sw\u001b[0m\u001b[0;34m)\u001b[0m\u001b[0;34m\u001b[0m\u001b[0;34m\u001b[0m\u001b[0m\n\u001b[1;32m   1476\u001b[0m         \u001b[0;32mfor\u001b[0m \u001b[0mi\u001b[0m\u001b[0;34m,\u001b[0m \u001b[0malpha\u001b[0m \u001b[0;32min\u001b[0m \u001b[0menumerate\u001b[0m\u001b[0;34m(\u001b[0m\u001b[0mself\u001b[0m\u001b[0;34m.\u001b[0m\u001b[0malphas\u001b[0m\u001b[0;34m)\u001b[0m\u001b[0;34m:\u001b[0m\u001b[0;34m\u001b[0m\u001b[0;34m\u001b[0m\u001b[0m\n\u001b[0;32m-> 1477\u001b[0;31m             G_inverse_diag, c = solve(\n\u001b[0m\u001b[1;32m   1478\u001b[0m                 float(alpha), y, sqrt_sw, X_mean, *decomposition)\n\u001b[1;32m   1479\u001b[0m             \u001b[0;32mif\u001b[0m \u001b[0merror\u001b[0m\u001b[0;34m:\u001b[0m\u001b[0;34m\u001b[0m\u001b[0;34m\u001b[0m\u001b[0m\n",
      "\u001b[0;32m/ssd/scratch/kellner/miniconda3/lib/python3.8/site-packages/sklearn/linear_model/_ridge.py\u001b[0m in \u001b[0;36m_solve_svd_design_matrix\u001b[0;34m(self, alpha, y, sqrt_sw, X_mean, singvals_sq, U, UT_y)\u001b[0m\n\u001b[1;32m   1404\u001b[0m             \u001b[0mw\u001b[0m\u001b[0;34m[\u001b[0m\u001b[0mintercept_dim\u001b[0m\u001b[0;34m]\u001b[0m \u001b[0;34m=\u001b[0m \u001b[0;34m-\u001b[0m \u001b[0;34m(\u001b[0m\u001b[0malpha\u001b[0m \u001b[0;34m**\u001b[0m \u001b[0;34m-\u001b[0m\u001b[0;36m1\u001b[0m\u001b[0;34m)\u001b[0m\u001b[0;34m\u001b[0m\u001b[0;34m\u001b[0m\u001b[0m\n\u001b[1;32m   1405\u001b[0m         \u001b[0mc\u001b[0m \u001b[0;34m=\u001b[0m \u001b[0mnp\u001b[0m\u001b[0;34m.\u001b[0m\u001b[0mdot\u001b[0m\u001b[0;34m(\u001b[0m\u001b[0mU\u001b[0m\u001b[0;34m,\u001b[0m \u001b[0mself\u001b[0m\u001b[0;34m.\u001b[0m\u001b[0m_diag_dot\u001b[0m\u001b[0;34m(\u001b[0m\u001b[0mw\u001b[0m\u001b[0;34m,\u001b[0m \u001b[0mUT_y\u001b[0m\u001b[0;34m)\u001b[0m\u001b[0;34m)\u001b[0m \u001b[0;34m+\u001b[0m \u001b[0;34m(\u001b[0m\u001b[0malpha\u001b[0m \u001b[0;34m**\u001b[0m \u001b[0;34m-\u001b[0m\u001b[0;36m1\u001b[0m\u001b[0;34m)\u001b[0m \u001b[0;34m*\u001b[0m \u001b[0my\u001b[0m\u001b[0;34m\u001b[0m\u001b[0;34m\u001b[0m\u001b[0m\n\u001b[0;32m-> 1406\u001b[0;31m         \u001b[0mG_inverse_diag\u001b[0m \u001b[0;34m=\u001b[0m \u001b[0mself\u001b[0m\u001b[0;34m.\u001b[0m\u001b[0m_decomp_diag\u001b[0m\u001b[0;34m(\u001b[0m\u001b[0mw\u001b[0m\u001b[0;34m,\u001b[0m \u001b[0mU\u001b[0m\u001b[0;34m)\u001b[0m \u001b[0;34m+\u001b[0m \u001b[0;34m(\u001b[0m\u001b[0malpha\u001b[0m \u001b[0;34m**\u001b[0m \u001b[0;34m-\u001b[0m\u001b[0;36m1\u001b[0m\u001b[0;34m)\u001b[0m\u001b[0;34m\u001b[0m\u001b[0;34m\u001b[0m\u001b[0m\n\u001b[0m\u001b[1;32m   1407\u001b[0m         \u001b[0;32mif\u001b[0m \u001b[0mlen\u001b[0m\u001b[0;34m(\u001b[0m\u001b[0my\u001b[0m\u001b[0;34m.\u001b[0m\u001b[0mshape\u001b[0m\u001b[0;34m)\u001b[0m \u001b[0;34m!=\u001b[0m \u001b[0;36m1\u001b[0m\u001b[0;34m:\u001b[0m\u001b[0;34m\u001b[0m\u001b[0;34m\u001b[0m\u001b[0m\n\u001b[1;32m   1408\u001b[0m             \u001b[0;31m# handle case where y is 2-d\u001b[0m\u001b[0;34m\u001b[0m\u001b[0;34m\u001b[0m\u001b[0;34m\u001b[0m\u001b[0m\n",
      "\u001b[0;32m/ssd/scratch/kellner/miniconda3/lib/python3.8/site-packages/sklearn/linear_model/_ridge.py\u001b[0m in \u001b[0;36m_decomp_diag\u001b[0;34m(self, v_prime, Q)\u001b[0m\n\u001b[1;32m   1111\u001b[0m     \u001b[0;32mdef\u001b[0m \u001b[0m_decomp_diag\u001b[0m\u001b[0;34m(\u001b[0m\u001b[0mself\u001b[0m\u001b[0;34m,\u001b[0m \u001b[0mv_prime\u001b[0m\u001b[0;34m,\u001b[0m \u001b[0mQ\u001b[0m\u001b[0;34m)\u001b[0m\u001b[0;34m:\u001b[0m\u001b[0;34m\u001b[0m\u001b[0;34m\u001b[0m\u001b[0m\n\u001b[1;32m   1112\u001b[0m         \u001b[0;31m# compute diagonal of the matrix: dot(Q, dot(diag(v_prime), Q^T))\u001b[0m\u001b[0;34m\u001b[0m\u001b[0;34m\u001b[0m\u001b[0;34m\u001b[0m\u001b[0m\n\u001b[0;32m-> 1113\u001b[0;31m         \u001b[0;32mreturn\u001b[0m \u001b[0;34m(\u001b[0m\u001b[0mv_prime\u001b[0m \u001b[0;34m*\u001b[0m \u001b[0mQ\u001b[0m \u001b[0;34m**\u001b[0m \u001b[0;36m2\u001b[0m\u001b[0;34m)\u001b[0m\u001b[0;34m.\u001b[0m\u001b[0msum\u001b[0m\u001b[0;34m(\u001b[0m\u001b[0maxis\u001b[0m\u001b[0;34m=\u001b[0m\u001b[0;34m-\u001b[0m\u001b[0;36m1\u001b[0m\u001b[0;34m)\u001b[0m\u001b[0;34m\u001b[0m\u001b[0;34m\u001b[0m\u001b[0m\n\u001b[0m\u001b[1;32m   1114\u001b[0m \u001b[0;34m\u001b[0m\u001b[0m\n\u001b[1;32m   1115\u001b[0m     \u001b[0;32mdef\u001b[0m \u001b[0m_diag_dot\u001b[0m\u001b[0;34m(\u001b[0m\u001b[0mself\u001b[0m\u001b[0;34m,\u001b[0m \u001b[0mD\u001b[0m\u001b[0;34m,\u001b[0m \u001b[0mB\u001b[0m\u001b[0;34m)\u001b[0m\u001b[0;34m:\u001b[0m\u001b[0;34m\u001b[0m\u001b[0;34m\u001b[0m\u001b[0m\n",
      "\u001b[0;31mKeyboardInterrupt\u001b[0m: "
     ]
    }
   ],
   "source": [
    "#do linear regression with varying n, l\n",
    "n_max = 5\n",
    "l_max = 5\n",
    "\n",
    "MSEs = np.zeros((n_max,l_max))\n",
    "MAEs = np.zeros((n_max,l_max))\n",
    "Alphas = np.zeros((n_max,l_max))\n",
    "timings = np.zeros((n_max,l_max))\n",
    "cutoff = np.zeros((n_max,l_max))\n",
    "sigma = np.zeros((n_max,l_max))\n",
    "\n",
    "\n",
    "\n",
    "count = 0\n",
    "\n",
    "\n",
    "\n",
    "for n_ind,n in enumerate(range(1,n_max+1)):\n",
    "    for l_ind,l in enumerate(range(0,n)):\n",
    "        \n",
    "        tmp_MSEs = []\n",
    "        tmp_MAEs = []\n",
    "        tmp_Alphas = []\n",
    "        tmp_timings = []\n",
    "        tmp_cutoff = []\n",
    "        tmp_sigma = []\n",
    "        \n",
    "        for cutoff in np.linspace(2.,8.,num=13):\n",
    "            for sigma in np.linspace(0.05,1.5,num=30):\n",
    "                \n",
    "                hypers[\"interaction_cutoff\"] = cutoff\n",
    "                hypers[\"max_radial\"] = n\n",
    "                hypers[\"max_angular\"] = l\n",
    "                hypers[\"gaussian_sigma_constant\"] = sigma\n",
    "                \n",
    "                calculator = SOAP(**hypers)\n",
    "                alphas = np.logspace(-10,5,50)\n",
    "                \n",
    "                X_train = calculator.transform(train_structures).get_features(calculator)\n",
    "                X_test = calculator.transform(test_structures).get_features(calculator)\n",
    "                \n",
    "                model = RidgeCV(alphas=alphas)\n",
    "                model.fit(X_train,train_properties)\n",
    "                y_pred = model.predict(X_test)\n",
    "                \n",
    "                tmp_MSEs.append(mean_squared_error(y_pred,test_properties))\n",
    "                tmp_MAEs.append(mean_squared_error(y_pred,test_properties))\n",
    "        \n",
    "        \n",
    "        MSEs[n_ind][l_ind] = max(tmp_MSEs)\n",
    "        MAEs[n_ind][l_ind] = max(tmp_MAEs)\n",
    "                \n",
    "                \n",
    "    \n",
    "        print(\"l: {}, done \".format(l))\n",
    "            #find optimal cutoff\n",
    "            #find optimal cutoff range (from 0-10)\n",
    "        \n",
    "        "
   ]
  },
  {
   "cell_type": "code",
   "execution_count": 27,
   "id": "d8447b16-7ba6-4634-88d9-8a58b531375e",
   "metadata": {},
   "outputs": [],
   "source": [
    "from sklearn.model_selection import GroupKFold, GridSearchCV"
   ]
  },
  {
   "cell_type": "code",
   "execution_count": 306,
   "id": "f196e1d7-fdc1-4aa0-a9e7-d20c40bf8a98",
   "metadata": {},
   "outputs": [
    {
     "data": {
      "text/plain": [
       "array([  0,   0,   0, ..., 199, 199, 199])"
      ]
     },
     "execution_count": 306,
     "metadata": {},
     "output_type": "execute_result"
    }
   ],
   "source": [
    "atom_groups_by_frame(train_structures)"
   ]
  },
  {
   "cell_type": "code",
   "execution_count": 308,
   "id": "f8cf23fc-034b-4371-b504-cfbbbbac11be",
   "metadata": {},
   "outputs": [
    {
     "data": {
      "text/plain": [
       "72"
      ]
     },
     "execution_count": 308,
     "metadata": {},
     "output_type": "execute_result"
    }
   ],
   "source": [
    "len(train_structures[0])"
   ]
  },
  {
   "cell_type": "code",
   "execution_count": 327,
   "id": "d609dd01-a9c8-4c2f-a169-cc953246c364",
   "metadata": {},
   "outputs": [
    {
     "data": {
      "text/plain": [
       "array([  0,   0,   0, ..., 199, 199, 199])"
      ]
     },
     "execution_count": 327,
     "metadata": {},
     "output_type": "execute_result"
    }
   ],
   "source": [
    "atom_groups_by_frame(train_structures)"
   ]
  },
  {
   "cell_type": "code",
   "execution_count": 334,
   "id": "db03c816-3465-4d53-8c62-92c5756f7b5f",
   "metadata": {},
   "outputs": [
    {
     "data": {
      "text/plain": [
       "list"
      ]
     },
     "execution_count": 334,
     "metadata": {},
     "output_type": "execute_result"
    }
   ],
   "source": [
    "type(train_structures)"
   ]
  },
  {
   "cell_type": "code",
   "execution_count": 338,
   "id": "29fbd147-416d-4128-863f-33143ceffd95",
   "metadata": {},
   "outputs": [],
   "source": [
    "X = atom_groups_by_frame(train_structures)"
   ]
  },
  {
   "cell_type": "code",
   "execution_count": 342,
   "id": "49171195-1aa9-487e-a596-a0332590324f",
   "metadata": {},
   "outputs": [
    {
     "data": {
      "text/plain": [
       "array([  0,   0,   0, ..., 199, 199, 199])"
      ]
     },
     "execution_count": 342,
     "metadata": {},
     "output_type": "execute_result"
    }
   ],
   "source": [
    "GroupKFold(n_)"
   ]
  },
  {
   "cell_type": "code",
   "execution_count": 341,
   "id": "778d5d96-a63a-41ea-af76-515d6879e304",
   "metadata": {
    "tags": []
   },
   "outputs": [
    {
     "data": {
      "text/plain": [
       "[(array([   0,    1,    2, ..., 7802, 7803, 7804]),\n",
       "  array([ 148,  149,  150, ..., 8050, 8051, 8052])),\n",
       " (array([ 148,  149,  150, ..., 8050, 8051, 8052]),\n",
       "  array([   0,    1,    2, ..., 7802, 7803, 7804]))]"
      ]
     },
     "execution_count": 341,
     "metadata": {},
     "output_type": "execute_result"
    }
   ],
   "source": [
    "list(GroupKFold(n_splits=2).split(X, groups=atom_groups_by_frame(train_structures)))"
   ]
  },
  {
   "cell_type": "code",
   "execution_count": 331,
   "id": "30733ed8-e5e0-4bfd-aea8-d54062337cda",
   "metadata": {},
   "outputs": [
    {
     "data": {
      "text/plain": [
       "2"
      ]
     },
     "execution_count": 331,
     "metadata": {},
     "output_type": "execute_result"
    }
   ],
   "source": [
    "len(this)"
   ]
  },
  {
   "cell_type": "code",
   "execution_count": 340,
   "id": "1328a0ec-8cb2-42f5-952e-fce200e506a9",
   "metadata": {
    "tags": []
   },
   "outputs": [
    {
     "data": {
      "text/plain": [
       "[(array([   0,    1,    2, ..., 7802, 7803, 7804]),\n",
       "  array([ 148,  149,  150, ..., 8050, 8051, 8052])),\n",
       " (array([ 148,  149,  150, ..., 8050, 8051, 8052]),\n",
       "  array([   0,    1,    2, ..., 7802, 7803, 7804]))]"
      ]
     },
     "execution_count": 340,
     "metadata": {},
     "output_type": "execute_result"
    }
   ],
   "source": [
    "this"
   ]
  },
  {
   "cell_type": "code",
   "execution_count": 5,
   "id": "98f9506f-7182-43af-945a-b2c145ffb182",
   "metadata": {},
   "outputs": [],
   "source": [
    "import seaborn as sns\n",
    "import matplotlib.pyplot as plt"
   ]
  },
  {
   "cell_type": "code",
   "execution_count": 8,
   "id": "50382653-9685-4d69-bf0a-03dbf2467680",
   "metadata": {
    "tags": []
   },
   "outputs": [
    {
     "data": {
      "image/png": "[encoded data removed]",
      "text/plain": [
       "<Figure size 504x360 with 2 Axes>"
      ]
     },
     "metadata": {},
     "output_type": "display_data"
    }
   ],
   "source": [
    "\n",
    "mask = np.zeros_like(MSEs)\n",
    "\n",
    "mask[np.triu_indices_from(mask,k=1)] = True\n",
    "\n",
    "with sns.axes_style(\"white\"):\n",
    "\n",
    "    f, ax = plt.subplots(figsize=(7, 5))\n",
    "\n",
    "    ax = sns.heatmap(MSEs, mask=mask,  vmax=90, square=True,xticklabels=[str(i) for i in range(1,n_max+1)],yticklabels=[str(i) for i in range(1,n_max+1)])\n",
    "    ax.set_xlabel(\"l$_{max}$\")\n",
    "    ax.set_ylabel(\"n$_{max}$\")"
   ]
  },
  {
   "cell_type": "code",
   "execution_count": null,
   "id": "4fde8b19-4244-4da3-b85a-9d185e9a62fc",
   "metadata": {},
   "outputs": [],
   "source": [
    "xticklabels=[]\n",
    "yticklabels=[]"
   ]
  },
  {
   "cell_type": "code",
   "execution_count": null,
   "id": "dd8f0c37-980b-489e-934b-29680991a06b",
   "metadata": {},
   "outputs": [],
   "source": [
    "# w and w/o projection"
   ]
  },
  {
   "cell_type": "code",
   "execution_count": 55,
   "id": "66937252-e750-4e58-acc8-ae5850230cd7",
   "metadata": {},
   "outputs": [],
   "source": [
    "from sklearn.datasets import load_boston\n",
    "from sklearn.ensemble import GradientBoostingRegressor\n",
    "from sklearn.model_selection import cross_val_score\n",
    "\n",
    "boston = load_boston()\n",
    "X, y = boston.data, boston.target\n",
    "n_features = X.shape[1]\n",
    "\n",
    "# gradient boosted trees tend to do well on problems like this\n",
    "reg = GradientBoostingRegressor(n_estimators=50, random_state=0)"
   ]
  },
  {
   "cell_type": "code",
   "execution_count": 71,
   "id": "afff188e-6071-4ffc-a696-dcd9ad18ddab",
   "metadata": {
    "collapsed": true,
    "jupyter": {
     "outputs_hidden": true
    },
    "tags": []
   },
   "outputs": [
    {
     "ename": "TypeError",
     "evalue": "dec_check() missing 1 required positional argument: 'space'",
     "output_type": "error",
     "traceback": [
      "\u001b[0;31m---------------------------------------------------------------------------\u001b[0m",
      "\u001b[0;31mTypeError\u001b[0m                                 Traceback (most recent call last)",
      "\u001b[0;32m<ipython-input-84-6d1f19ede297>\u001b[0m in \u001b[0;36m<module>\u001b[0;34m\u001b[0m\n\u001b[1;32m     18\u001b[0m \u001b[0;34m\u001b[0m\u001b[0m\n\u001b[1;32m     19\u001b[0m \u001b[0;34m\u001b[0m\u001b[0m\n\u001b[0;32m---> 20\u001b[0;31m \u001b[0;34m@\u001b[0m\u001b[0mdec_check\u001b[0m\u001b[0;34m(\u001b[0m\u001b[0mspace\u001b[0m\u001b[0;34m)\u001b[0m\u001b[0;34m\u001b[0m\u001b[0;34m\u001b[0m\u001b[0m\n\u001b[0m\u001b[1;32m     21\u001b[0m \u001b[0;32mdef\u001b[0m \u001b[0mobjective\u001b[0m\u001b[0;34m(\u001b[0m\u001b[0mthis\u001b[0m\u001b[0;34m=\u001b[0m\u001b[0;32mNone\u001b[0m\u001b[0;34m,\u001b[0m\u001b[0;34m**\u001b[0m\u001b[0mparams\u001b[0m\u001b[0;34m)\u001b[0m\u001b[0;34m:\u001b[0m\u001b[0;34m\u001b[0m\u001b[0;34m\u001b[0m\u001b[0m\n\u001b[1;32m     22\u001b[0m     \u001b[0mreg\u001b[0m\u001b[0;34m.\u001b[0m\u001b[0mset_params\u001b[0m\u001b[0;34m(\u001b[0m\u001b[0;34m**\u001b[0m\u001b[0mparams\u001b[0m\u001b[0;34m)\u001b[0m\u001b[0;34m\u001b[0m\u001b[0;34m\u001b[0m\u001b[0m\n",
      "\u001b[0;31mTypeError\u001b[0m: dec_check() missing 1 required positional argument: 'space'"
     ]
    }
   ],
   "source": [
    "from skopt.space import Real, Integer\n",
    "from skopt.utils import use_named_args\n",
    "\n",
    "\n",
    "# The list of hyper-parameters we want to optimize. For each one we define the\n",
    "# bounds, the corresponding scikit-learn parameter name, as well as how to\n",
    "# sample values from that dimension (`'log-uniform'` for the learning rate)\n",
    "space  = [Integer(1, 5, name='max_depth'),\n",
    "          Real(10**-5, 10**0, \"log-uniform\", name='learning_rate'),\n",
    "          Integer(1, n_features, name='max_features'),\n",
    "          Integer(2, 100, name='min_samples_split'),\n",
    "          Integer(1, 100, name='min_samples_leaf')]\n",
    "\n",
    "# this decorator allows your objective function to receive a the parameters as\n",
    "# keyword arguments. This is particularly convenient when you want to set\n",
    "# scikit-learn estimator parameters\n",
    "\n",
    "\n",
    "\n",
    "@dec_check(space)\n",
    "def objective(this=None,**params):\n",
    "    reg.set_params(**params)\n",
    "\n",
    "    return -np.mean(cross_val_score(reg, X, y, cv=5, n_jobs=-1,\n",
    "                                    scoring=\"neg_mean_absolute_error\"))"
   ]
  },
  {
   "cell_type": "code",
   "execution_count": 150,
   "id": "6b917997-e3ab-4be0-af3a-c5a86217a2b4",
   "metadata": {},
   "outputs": [],
   "source": [
    "import copy"
   ]
  },
  {
   "cell_type": "code",
   "execution_count": 190,
   "id": "f870efd6-fa37-4846-8359-d62c2d235002",
   "metadata": {
    "tags": []
   },
   "outputs": [
    {
     "name": "stdout",
     "output_type": "stream",
     "text": [
      "{'max_radial': 4}\n",
      "{'max_radial': 4}\n",
      "{'max_radial': 4}\n",
      "I initially calculate\n",
      "(7631, 540)\n",
      "3\n",
      "{'max_radial': 4}\n",
      "{'max_radial': 4}\n",
      "{'max_radial': 4}\n",
      "I only return what I store\n",
      "(7631, 540)\n",
      "3\n",
      "{'max_radial': 3}\n",
      "{'max_radial': 3}\n",
      "{'max_radial': 3}\n",
      "I recalculate\n",
      "3\n",
      "(7631, 540)\n",
      "3\n",
      "{'max_radial': 1}\n",
      "{'max_radial': 1}\n",
      "{'max_radial': 1}\n",
      "I recalculate\n",
      "3\n",
      "(7631, 540)\n",
      "3\n",
      "{'max_radial': 3}\n",
      "{'max_radial': 3}\n",
      "{'max_radial': 3}\n",
      "I recalculate\n",
      "3\n",
      "(7631, 540)\n",
      "3\n",
      "{'max_radial': 3}\n",
      "{'max_radial': 3}\n",
      "{'max_radial': 3}\n",
      "I only return what I store\n",
      "(7631, 540)\n",
      "3\n",
      "{'max_radial': 4}\n",
      "{'max_radial': 4}\n",
      "{'max_radial': 4}\n",
      "I recalculate\n",
      "3\n",
      "(7631, 540)\n",
      "3\n",
      "{'max_radial': 4}\n",
      "{'max_radial': 4}\n",
      "{'max_radial': 4}\n",
      "I only return what I store\n",
      "(7631, 540)\n",
      "3\n"
     ]
    },
    {
     "ename": "KeyboardInterrupt",
     "evalue": "",
     "output_type": "error",
     "traceback": [
      "\u001b[0;31m---------------------------------------------------------------------------\u001b[0m",
      "\u001b[0;31mKeyboardInterrupt\u001b[0m                         Traceback (most recent call last)",
      "\u001b[0;32m<ipython-input-190-ac6f291c56e2>\u001b[0m in \u001b[0;36m<module>\u001b[0;34m\u001b[0m\n\u001b[1;32m     49\u001b[0m                                     scoring=\"neg_mean_squared_error\"))\n\u001b[1;32m     50\u001b[0m \u001b[0;34m\u001b[0m\u001b[0m\n\u001b[0;32m---> 51\u001b[0;31m \u001b[0mres_gp\u001b[0m \u001b[0;34m=\u001b[0m \u001b[0mgp_minimize\u001b[0m\u001b[0;34m(\u001b[0m\u001b[0msoap_objective\u001b[0m\u001b[0;34m,\u001b[0m \u001b[0mspace\u001b[0m\u001b[0;34m,\u001b[0m \u001b[0mn_calls\u001b[0m\u001b[0;34m=\u001b[0m\u001b[0;36m50\u001b[0m\u001b[0;34m,\u001b[0m \u001b[0mrandom_state\u001b[0m\u001b[0;34m=\u001b[0m\u001b[0;36m0\u001b[0m\u001b[0;34m)\u001b[0m\u001b[0;34m\u001b[0m\u001b[0;34m\u001b[0m\u001b[0m\n\u001b[0m",
      "\u001b[0;32m/ssd/scratch/kellner/miniconda3/lib/python3.8/site-packages/skopt/optimizer/gp.py\u001b[0m in \u001b[0;36mgp_minimize\u001b[0;34m(func, dimensions, base_estimator, n_calls, n_random_starts, n_initial_points, initial_point_generator, acq_func, acq_optimizer, x0, y0, random_state, verbose, callback, n_points, n_restarts_optimizer, xi, kappa, noise, n_jobs, model_queue_size)\u001b[0m\n\u001b[1;32m    257\u001b[0m             noise=noise)\n\u001b[1;32m    258\u001b[0m \u001b[0;34m\u001b[0m\u001b[0m\n\u001b[0;32m--> 259\u001b[0;31m     return base_minimize(\n\u001b[0m\u001b[1;32m    260\u001b[0m         \u001b[0mfunc\u001b[0m\u001b[0;34m,\u001b[0m \u001b[0mspace\u001b[0m\u001b[0;34m,\u001b[0m \u001b[0mbase_estimator\u001b[0m\u001b[0;34m=\u001b[0m\u001b[0mbase_estimator\u001b[0m\u001b[0;34m,\u001b[0m\u001b[0;34m\u001b[0m\u001b[0;34m\u001b[0m\u001b[0m\n\u001b[1;32m    261\u001b[0m         \u001b[0macq_func\u001b[0m\u001b[0;34m=\u001b[0m\u001b[0macq_func\u001b[0m\u001b[0;34m,\u001b[0m\u001b[0;34m\u001b[0m\u001b[0;34m\u001b[0m\u001b[0m\n",
      "\u001b[0;32m/ssd/scratch/kellner/miniconda3/lib/python3.8/site-packages/skopt/optimizer/base.py\u001b[0m in \u001b[0;36mbase_minimize\u001b[0;34m(func, dimensions, base_estimator, n_calls, n_random_starts, n_initial_points, initial_point_generator, acq_func, acq_optimizer, x0, y0, random_state, verbose, callback, n_points, n_restarts_optimizer, xi, kappa, n_jobs, model_queue_size)\u001b[0m\n\u001b[1;32m    297\u001b[0m     \u001b[0;32mfor\u001b[0m \u001b[0mn\u001b[0m \u001b[0;32min\u001b[0m \u001b[0mrange\u001b[0m\u001b[0;34m(\u001b[0m\u001b[0mn_calls\u001b[0m\u001b[0;34m)\u001b[0m\u001b[0;34m:\u001b[0m\u001b[0;34m\u001b[0m\u001b[0;34m\u001b[0m\u001b[0m\n\u001b[1;32m    298\u001b[0m         \u001b[0mnext_x\u001b[0m \u001b[0;34m=\u001b[0m \u001b[0moptimizer\u001b[0m\u001b[0;34m.\u001b[0m\u001b[0mask\u001b[0m\u001b[0;34m(\u001b[0m\u001b[0;34m)\u001b[0m\u001b[0;34m\u001b[0m\u001b[0;34m\u001b[0m\u001b[0m\n\u001b[0;32m--> 299\u001b[0;31m         \u001b[0mnext_y\u001b[0m \u001b[0;34m=\u001b[0m \u001b[0mfunc\u001b[0m\u001b[0;34m(\u001b[0m\u001b[0mnext_x\u001b[0m\u001b[0;34m)\u001b[0m\u001b[0;34m\u001b[0m\u001b[0;34m\u001b[0m\u001b[0m\n\u001b[0m\u001b[1;32m    300\u001b[0m         \u001b[0mresult\u001b[0m \u001b[0;34m=\u001b[0m \u001b[0moptimizer\u001b[0m\u001b[0;34m.\u001b[0m\u001b[0mtell\u001b[0m\u001b[0;34m(\u001b[0m\u001b[0mnext_x\u001b[0m\u001b[0;34m,\u001b[0m \u001b[0mnext_y\u001b[0m\u001b[0;34m)\u001b[0m\u001b[0;34m\u001b[0m\u001b[0;34m\u001b[0m\u001b[0m\n\u001b[1;32m    301\u001b[0m         \u001b[0mresult\u001b[0m\u001b[0;34m.\u001b[0m\u001b[0mspecs\u001b[0m \u001b[0;34m=\u001b[0m \u001b[0mspecs\u001b[0m\u001b[0;34m\u001b[0m\u001b[0;34m\u001b[0m\u001b[0m\n",
      "\u001b[0;32m/ssd/scratch/kellner/miniconda3/lib/python3.8/site-packages/skopt/utils.py\u001b[0m in \u001b[0;36mwrapper\u001b[0;34m(x)\u001b[0m\n\u001b[1;32m    787\u001b[0m \u001b[0;34m\u001b[0m\u001b[0m\n\u001b[1;32m    788\u001b[0m             \u001b[0;31m# Call the wrapped objective function with the named arguments.\u001b[0m\u001b[0;34m\u001b[0m\u001b[0;34m\u001b[0m\u001b[0;34m\u001b[0m\u001b[0m\n\u001b[0;32m--> 789\u001b[0;31m             \u001b[0mobjective_value\u001b[0m \u001b[0;34m=\u001b[0m \u001b[0mfunc\u001b[0m\u001b[0;34m(\u001b[0m\u001b[0;34m**\u001b[0m\u001b[0marg_dict\u001b[0m\u001b[0;34m)\u001b[0m\u001b[0;34m\u001b[0m\u001b[0;34m\u001b[0m\u001b[0m\n\u001b[0m\u001b[1;32m    790\u001b[0m \u001b[0;34m\u001b[0m\u001b[0m\n\u001b[1;32m    791\u001b[0m             \u001b[0;32mreturn\u001b[0m \u001b[0mobjective_value\u001b[0m\u001b[0;34m\u001b[0m\u001b[0;34m\u001b[0m\u001b[0m\n",
      "\u001b[0;32m<ipython-input-190-ac6f291c56e2>\u001b[0m in \u001b[0;36msoap_objective\u001b[0;34m(**params)\u001b[0m\n\u001b[1;32m     46\u001b[0m     \u001b[0msplits\u001b[0m \u001b[0;34m=\u001b[0m \u001b[0mlist\u001b[0m\u001b[0;34m(\u001b[0m\u001b[0mGroupKFold\u001b[0m\u001b[0;34m(\u001b[0m\u001b[0mn_splits\u001b[0m\u001b[0;34m=\u001b[0m\u001b[0;36m5\u001b[0m\u001b[0;34m)\u001b[0m\u001b[0;34m.\u001b[0m\u001b[0msplit\u001b[0m\u001b[0;34m(\u001b[0m\u001b[0mX\u001b[0m\u001b[0;34m,\u001b[0m\u001b[0my\u001b[0m\u001b[0;34m,\u001b[0m\u001b[0mgroups\u001b[0m\u001b[0;34m=\u001b[0m\u001b[0matom_groups\u001b[0m\u001b[0;34m)\u001b[0m\u001b[0;34m)\u001b[0m\u001b[0;34m\u001b[0m\u001b[0;34m\u001b[0m\u001b[0m\n\u001b[1;32m     47\u001b[0m \u001b[0;34m\u001b[0m\u001b[0m\n\u001b[0;32m---> 48\u001b[0;31m     return -np.mean(cross_val_score(reg, X, y, cv=splits, n_jobs=-1,\n\u001b[0m\u001b[1;32m     49\u001b[0m                                     scoring=\"neg_mean_squared_error\"))\n\u001b[1;32m     50\u001b[0m \u001b[0;34m\u001b[0m\u001b[0m\n",
      "\u001b[0;32m/ssd/scratch/kellner/miniconda3/lib/python3.8/site-packages/sklearn/model_selection/_validation.py\u001b[0m in \u001b[0;36mcross_val_score\u001b[0;34m(estimator, X, y, groups, scoring, cv, n_jobs, verbose, fit_params, pre_dispatch, error_score)\u001b[0m\n\u001b[1;32m    383\u001b[0m     \u001b[0mscorer\u001b[0m \u001b[0;34m=\u001b[0m \u001b[0mcheck_scoring\u001b[0m\u001b[0;34m(\u001b[0m\u001b[0mestimator\u001b[0m\u001b[0;34m,\u001b[0m \u001b[0mscoring\u001b[0m\u001b[0;34m=\u001b[0m\u001b[0mscoring\u001b[0m\u001b[0;34m)\u001b[0m\u001b[0;34m\u001b[0m\u001b[0;34m\u001b[0m\u001b[0m\n\u001b[1;32m    384\u001b[0m \u001b[0;34m\u001b[0m\u001b[0m\n\u001b[0;32m--> 385\u001b[0;31m     cv_results = cross_validate(estimator=estimator, X=X, y=y, groups=groups,\n\u001b[0m\u001b[1;32m    386\u001b[0m                                 \u001b[0mscoring\u001b[0m\u001b[0;34m=\u001b[0m\u001b[0;34m{\u001b[0m\u001b[0;34m'score'\u001b[0m\u001b[0;34m:\u001b[0m \u001b[0mscorer\u001b[0m\u001b[0;34m}\u001b[0m\u001b[0;34m,\u001b[0m \u001b[0mcv\u001b[0m\u001b[0;34m=\u001b[0m\u001b[0mcv\u001b[0m\u001b[0;34m,\u001b[0m\u001b[0;34m\u001b[0m\u001b[0;34m\u001b[0m\u001b[0m\n\u001b[1;32m    387\u001b[0m                                 \u001b[0mn_jobs\u001b[0m\u001b[0;34m=\u001b[0m\u001b[0mn_jobs\u001b[0m\u001b[0;34m,\u001b[0m \u001b[0mverbose\u001b[0m\u001b[0;34m=\u001b[0m\u001b[0mverbose\u001b[0m\u001b[0;34m,\u001b[0m\u001b[0;34m\u001b[0m\u001b[0;34m\u001b[0m\u001b[0m\n",
      "\u001b[0;32m/ssd/scratch/kellner/miniconda3/lib/python3.8/site-packages/sklearn/model_selection/_validation.py\u001b[0m in \u001b[0;36mcross_validate\u001b[0;34m(estimator, X, y, groups, scoring, cv, n_jobs, verbose, fit_params, pre_dispatch, return_train_score, return_estimator, error_score)\u001b[0m\n\u001b[1;32m    228\u001b[0m     parallel = Parallel(n_jobs=n_jobs, verbose=verbose,\n\u001b[1;32m    229\u001b[0m                         pre_dispatch=pre_dispatch)\n\u001b[0;32m--> 230\u001b[0;31m     scores = parallel(\n\u001b[0m\u001b[1;32m    231\u001b[0m         delayed(_fit_and_score)(\n\u001b[1;32m    232\u001b[0m             \u001b[0mclone\u001b[0m\u001b[0;34m(\u001b[0m\u001b[0mestimator\u001b[0m\u001b[0;34m)\u001b[0m\u001b[0;34m,\u001b[0m \u001b[0mX\u001b[0m\u001b[0;34m,\u001b[0m \u001b[0my\u001b[0m\u001b[0;34m,\u001b[0m \u001b[0mscorers\u001b[0m\u001b[0;34m,\u001b[0m \u001b[0mtrain\u001b[0m\u001b[0;34m,\u001b[0m \u001b[0mtest\u001b[0m\u001b[0;34m,\u001b[0m \u001b[0mverbose\u001b[0m\u001b[0;34m,\u001b[0m \u001b[0;32mNone\u001b[0m\u001b[0;34m,\u001b[0m\u001b[0;34m\u001b[0m\u001b[0;34m\u001b[0m\u001b[0m\n",
      "\u001b[0;32m/ssd/scratch/kellner/miniconda3/lib/python3.8/site-packages/joblib/parallel.py\u001b[0m in \u001b[0;36m__call__\u001b[0;34m(self, iterable)\u001b[0m\n\u001b[1;32m   1054\u001b[0m \u001b[0;34m\u001b[0m\u001b[0m\n\u001b[1;32m   1055\u001b[0m             \u001b[0;32mwith\u001b[0m \u001b[0mself\u001b[0m\u001b[0;34m.\u001b[0m\u001b[0m_backend\u001b[0m\u001b[0;34m.\u001b[0m\u001b[0mretrieval_context\u001b[0m\u001b[0;34m(\u001b[0m\u001b[0;34m)\u001b[0m\u001b[0;34m:\u001b[0m\u001b[0;34m\u001b[0m\u001b[0;34m\u001b[0m\u001b[0m\n\u001b[0;32m-> 1056\u001b[0;31m                 \u001b[0mself\u001b[0m\u001b[0;34m.\u001b[0m\u001b[0mretrieve\u001b[0m\u001b[0;34m(\u001b[0m\u001b[0;34m)\u001b[0m\u001b[0;34m\u001b[0m\u001b[0;34m\u001b[0m\u001b[0m\n\u001b[0m\u001b[1;32m   1057\u001b[0m             \u001b[0;31m# Make sure that we get a last message telling us we are done\u001b[0m\u001b[0;34m\u001b[0m\u001b[0;34m\u001b[0m\u001b[0;34m\u001b[0m\u001b[0m\n\u001b[1;32m   1058\u001b[0m             \u001b[0melapsed_time\u001b[0m \u001b[0;34m=\u001b[0m \u001b[0mtime\u001b[0m\u001b[0;34m.\u001b[0m\u001b[0mtime\u001b[0m\u001b[0;34m(\u001b[0m\u001b[0;34m)\u001b[0m \u001b[0;34m-\u001b[0m \u001b[0mself\u001b[0m\u001b[0;34m.\u001b[0m\u001b[0m_start_time\u001b[0m\u001b[0;34m\u001b[0m\u001b[0;34m\u001b[0m\u001b[0m\n",
      "\u001b[0;32m/ssd/scratch/kellner/miniconda3/lib/python3.8/site-packages/joblib/parallel.py\u001b[0m in \u001b[0;36mretrieve\u001b[0;34m(self)\u001b[0m\n\u001b[1;32m    933\u001b[0m             \u001b[0;32mtry\u001b[0m\u001b[0;34m:\u001b[0m\u001b[0;34m\u001b[0m\u001b[0;34m\u001b[0m\u001b[0m\n\u001b[1;32m    934\u001b[0m                 \u001b[0;32mif\u001b[0m \u001b[0mgetattr\u001b[0m\u001b[0;34m(\u001b[0m\u001b[0mself\u001b[0m\u001b[0;34m.\u001b[0m\u001b[0m_backend\u001b[0m\u001b[0;34m,\u001b[0m \u001b[0;34m'supports_timeout'\u001b[0m\u001b[0;34m,\u001b[0m \u001b[0;32mFalse\u001b[0m\u001b[0;34m)\u001b[0m\u001b[0;34m:\u001b[0m\u001b[0;34m\u001b[0m\u001b[0;34m\u001b[0m\u001b[0m\n\u001b[0;32m--> 935\u001b[0;31m                     \u001b[0mself\u001b[0m\u001b[0;34m.\u001b[0m\u001b[0m_output\u001b[0m\u001b[0;34m.\u001b[0m\u001b[0mextend\u001b[0m\u001b[0;34m(\u001b[0m\u001b[0mjob\u001b[0m\u001b[0;34m.\u001b[0m\u001b[0mget\u001b[0m\u001b[0;34m(\u001b[0m\u001b[0mtimeout\u001b[0m\u001b[0;34m=\u001b[0m\u001b[0mself\u001b[0m\u001b[0;34m.\u001b[0m\u001b[0mtimeout\u001b[0m\u001b[0;34m)\u001b[0m\u001b[0;34m)\u001b[0m\u001b[0;34m\u001b[0m\u001b[0;34m\u001b[0m\u001b[0m\n\u001b[0m\u001b[1;32m    936\u001b[0m                 \u001b[0;32melse\u001b[0m\u001b[0;34m:\u001b[0m\u001b[0;34m\u001b[0m\u001b[0;34m\u001b[0m\u001b[0m\n\u001b[1;32m    937\u001b[0m                     \u001b[0mself\u001b[0m\u001b[0;34m.\u001b[0m\u001b[0m_output\u001b[0m\u001b[0;34m.\u001b[0m\u001b[0mextend\u001b[0m\u001b[0;34m(\u001b[0m\u001b[0mjob\u001b[0m\u001b[0;34m.\u001b[0m\u001b[0mget\u001b[0m\u001b[0;34m(\u001b[0m\u001b[0;34m)\u001b[0m\u001b[0;34m)\u001b[0m\u001b[0;34m\u001b[0m\u001b[0;34m\u001b[0m\u001b[0m\n",
      "\u001b[0;32m/ssd/scratch/kellner/miniconda3/lib/python3.8/site-packages/joblib/_parallel_backends.py\u001b[0m in \u001b[0;36mwrap_future_result\u001b[0;34m(future, timeout)\u001b[0m\n\u001b[1;32m    540\u001b[0m         AsyncResults.get from multiprocessing.\"\"\"\n\u001b[1;32m    541\u001b[0m         \u001b[0;32mtry\u001b[0m\u001b[0;34m:\u001b[0m\u001b[0;34m\u001b[0m\u001b[0;34m\u001b[0m\u001b[0m\n\u001b[0;32m--> 542\u001b[0;31m             \u001b[0;32mreturn\u001b[0m \u001b[0mfuture\u001b[0m\u001b[0;34m.\u001b[0m\u001b[0mresult\u001b[0m\u001b[0;34m(\u001b[0m\u001b[0mtimeout\u001b[0m\u001b[0;34m=\u001b[0m\u001b[0mtimeout\u001b[0m\u001b[0;34m)\u001b[0m\u001b[0;34m\u001b[0m\u001b[0;34m\u001b[0m\u001b[0m\n\u001b[0m\u001b[1;32m    543\u001b[0m         \u001b[0;32mexcept\u001b[0m \u001b[0mCfTimeoutError\u001b[0m \u001b[0;32mas\u001b[0m \u001b[0me\u001b[0m\u001b[0;34m:\u001b[0m\u001b[0;34m\u001b[0m\u001b[0;34m\u001b[0m\u001b[0m\n\u001b[1;32m    544\u001b[0m             \u001b[0;32mraise\u001b[0m \u001b[0mTimeoutError\u001b[0m \u001b[0;32mfrom\u001b[0m \u001b[0me\u001b[0m\u001b[0;34m\u001b[0m\u001b[0;34m\u001b[0m\u001b[0m\n",
      "\u001b[0;32m/ssd/scratch/kellner/miniconda3/lib/python3.8/concurrent/futures/_base.py\u001b[0m in \u001b[0;36mresult\u001b[0;34m(self, timeout)\u001b[0m\n\u001b[1;32m    437\u001b[0m                     \u001b[0;32mreturn\u001b[0m \u001b[0mself\u001b[0m\u001b[0;34m.\u001b[0m\u001b[0m__get_result\u001b[0m\u001b[0;34m(\u001b[0m\u001b[0;34m)\u001b[0m\u001b[0;34m\u001b[0m\u001b[0;34m\u001b[0m\u001b[0m\n\u001b[1;32m    438\u001b[0m \u001b[0;34m\u001b[0m\u001b[0m\n\u001b[0;32m--> 439\u001b[0;31m                 \u001b[0mself\u001b[0m\u001b[0;34m.\u001b[0m\u001b[0m_condition\u001b[0m\u001b[0;34m.\u001b[0m\u001b[0mwait\u001b[0m\u001b[0;34m(\u001b[0m\u001b[0mtimeout\u001b[0m\u001b[0;34m)\u001b[0m\u001b[0;34m\u001b[0m\u001b[0;34m\u001b[0m\u001b[0m\n\u001b[0m\u001b[1;32m    440\u001b[0m \u001b[0;34m\u001b[0m\u001b[0m\n\u001b[1;32m    441\u001b[0m                 \u001b[0;32mif\u001b[0m \u001b[0mself\u001b[0m\u001b[0;34m.\u001b[0m\u001b[0m_state\u001b[0m \u001b[0;32min\u001b[0m \u001b[0;34m[\u001b[0m\u001b[0mCANCELLED\u001b[0m\u001b[0;34m,\u001b[0m \u001b[0mCANCELLED_AND_NOTIFIED\u001b[0m\u001b[0;34m]\u001b[0m\u001b[0;34m:\u001b[0m\u001b[0;34m\u001b[0m\u001b[0;34m\u001b[0m\u001b[0m\n",
      "\u001b[0;32m/ssd/scratch/kellner/miniconda3/lib/python3.8/threading.py\u001b[0m in \u001b[0;36mwait\u001b[0;34m(self, timeout)\u001b[0m\n\u001b[1;32m    300\u001b[0m         \u001b[0;32mtry\u001b[0m\u001b[0;34m:\u001b[0m    \u001b[0;31m# restore state no matter what (e.g., KeyboardInterrupt)\u001b[0m\u001b[0;34m\u001b[0m\u001b[0;34m\u001b[0m\u001b[0m\n\u001b[1;32m    301\u001b[0m             \u001b[0;32mif\u001b[0m \u001b[0mtimeout\u001b[0m \u001b[0;32mis\u001b[0m \u001b[0;32mNone\u001b[0m\u001b[0;34m:\u001b[0m\u001b[0;34m\u001b[0m\u001b[0;34m\u001b[0m\u001b[0m\n\u001b[0;32m--> 302\u001b[0;31m                 \u001b[0mwaiter\u001b[0m\u001b[0;34m.\u001b[0m\u001b[0macquire\u001b[0m\u001b[0;34m(\u001b[0m\u001b[0;34m)\u001b[0m\u001b[0;34m\u001b[0m\u001b[0;34m\u001b[0m\u001b[0m\n\u001b[0m\u001b[1;32m    303\u001b[0m                 \u001b[0mgotit\u001b[0m \u001b[0;34m=\u001b[0m \u001b[0;32mTrue\u001b[0m\u001b[0;34m\u001b[0m\u001b[0;34m\u001b[0m\u001b[0m\n\u001b[1;32m    304\u001b[0m             \u001b[0;32melse\u001b[0m\u001b[0;34m:\u001b[0m\u001b[0;34m\u001b[0m\u001b[0;34m\u001b[0m\u001b[0m\n",
      "\u001b[0;31mKeyboardInterrupt\u001b[0m: "
     ]
    }
   ],
   "source": [
    "hypers = dict(soap_type=\"PowerSpectrum\",\n",
    "              interaction_cutoff=3.,\n",
    "              max_radial=3,\n",
    "              max_angular=3,\n",
    "              gaussian_sigma_constant=0.3,\n",
    "              gaussian_sigma_type=\"Constant\",\n",
    "              radial_basis=\"GTO\",\n",
    "              normalize=True,\n",
    "              cutoff_smooth_width=0.3,\n",
    "              optimization=\n",
    "                    dict(\n",
    "                            Spline=dict(\n",
    "                               accuracy=1.0e-05\n",
    "                            )\n",
    "                        ),\n",
    "              compute_gradients=False,\n",
    "              )\n",
    "\n",
    "space = [Real(10**-5, 10**0, \"log-uniform\", name='alpha'),\n",
    "        Integer(1, 5, name='max_radial')]\n",
    "reg = Ridge()\n",
    "y = train_properties\n",
    "atom_groups = atom_groups_by_frame(train_structures)\n",
    "Feature_gen = BufferedFeatures(train_structures, hypers)\n",
    "\n",
    "\n",
    "@use_named_args(space)\n",
    "def soap_objective(**params):\n",
    "    update_dict = {}\n",
    "    \n",
    "    new_params = params.copy()\n",
    "    \n",
    "    for key, value in new_params.items():\n",
    "        if key in Feature_gen.hypers:\n",
    "            hypers[key] = value\n",
    "            update_dict[key] = params.pop(key, None)\n",
    "    \n",
    "    print(update_dict)\n",
    "    reg.set_params(**params)\n",
    "    \n",
    "\n",
    "    X = Feature_gen.get_features(update_dict)\n",
    "    print(X.shape)\n",
    "    \n",
    "    print(Feature_gen.hypers[\"max_angular\"])\n",
    "    splits = list(GroupKFold(n_splits=5).split(X,y,groups=atom_groups))\n",
    "    \n",
    "    return -np.mean(cross_val_score(reg, X, y, cv=splits, n_jobs=-1,\n",
    "                                    scoring=\"neg_mean_squared_error\"))\n",
    "\n",
    "res_gp = gp_minimize(soap_objective, space, n_calls=50, random_state=0)"
   ]
  },
  {
   "cell_type": "code",
   "execution_count": 126,
   "id": "f25f6a86-bc37-4e82-b581-ec0babd18257",
   "metadata": {
    "collapsed": true,
    "jupyter": {
     "outputs_hidden": true
    },
    "tags": []
   },
   "outputs": [
    {
     "ename": "TypeError",
     "evalue": "__init__() missing 1 required positional argument: 'space'",
     "output_type": "error",
     "traceback": [
      "\u001b[0;31m---------------------------------------------------------------------------\u001b[0m",
      "\u001b[0;31mTypeError\u001b[0m                                 Traceback (most recent call last)",
      "\u001b[0;32m<ipython-input-126-76608a69603a>\u001b[0m in \u001b[0;36m<module>\u001b[0;34m\u001b[0m\n\u001b[0;32m----> 1\u001b[0;31m \u001b[0mres_gp\u001b[0m \u001b[0;34m=\u001b[0m \u001b[0mgp_minimize\u001b[0m\u001b[0;34m(\u001b[0m\u001b[0mobjective\u001b[0m\u001b[0;34m,\u001b[0m \u001b[0mspace\u001b[0m\u001b[0;34m,\u001b[0m \u001b[0mn_calls\u001b[0m\u001b[0;34m=\u001b[0m\u001b[0;36m50\u001b[0m\u001b[0;34m,\u001b[0m \u001b[0mrandom_state\u001b[0m\u001b[0;34m=\u001b[0m\u001b[0;36m0\u001b[0m\u001b[0;34m)\u001b[0m\u001b[0;34m\u001b[0m\u001b[0;34m\u001b[0m\u001b[0m\n\u001b[0m",
      "\u001b[0;32m/ssd/scratch/kellner/miniconda3/lib/python3.8/site-packages/skopt/optimizer/gp.py\u001b[0m in \u001b[0;36mgp_minimize\u001b[0;34m(func, dimensions, base_estimator, n_calls, n_random_starts, n_initial_points, initial_point_generator, acq_func, acq_optimizer, x0, y0, random_state, verbose, callback, n_points, n_restarts_optimizer, xi, kappa, noise, n_jobs, model_queue_size)\u001b[0m\n\u001b[1;32m    257\u001b[0m             noise=noise)\n\u001b[1;32m    258\u001b[0m \u001b[0;34m\u001b[0m\u001b[0m\n\u001b[0;32m--> 259\u001b[0;31m     return base_minimize(\n\u001b[0m\u001b[1;32m    260\u001b[0m         \u001b[0mfunc\u001b[0m\u001b[0;34m,\u001b[0m \u001b[0mspace\u001b[0m\u001b[0;34m,\u001b[0m \u001b[0mbase_estimator\u001b[0m\u001b[0;34m=\u001b[0m\u001b[0mbase_estimator\u001b[0m\u001b[0;34m,\u001b[0m\u001b[0;34m\u001b[0m\u001b[0;34m\u001b[0m\u001b[0m\n\u001b[1;32m    261\u001b[0m         \u001b[0macq_func\u001b[0m\u001b[0;34m=\u001b[0m\u001b[0macq_func\u001b[0m\u001b[0;34m,\u001b[0m\u001b[0;34m\u001b[0m\u001b[0;34m\u001b[0m\u001b[0m\n",
      "\u001b[0;32m/ssd/scratch/kellner/miniconda3/lib/python3.8/site-packages/skopt/optimizer/base.py\u001b[0m in \u001b[0;36mbase_minimize\u001b[0;34m(func, dimensions, base_estimator, n_calls, n_random_starts, n_initial_points, initial_point_generator, acq_func, acq_optimizer, x0, y0, random_state, verbose, callback, n_points, n_restarts_optimizer, xi, kappa, n_jobs, model_queue_size)\u001b[0m\n\u001b[1;32m    297\u001b[0m     \u001b[0;32mfor\u001b[0m \u001b[0mn\u001b[0m \u001b[0;32min\u001b[0m \u001b[0mrange\u001b[0m\u001b[0;34m(\u001b[0m\u001b[0mn_calls\u001b[0m\u001b[0;34m)\u001b[0m\u001b[0;34m:\u001b[0m\u001b[0;34m\u001b[0m\u001b[0;34m\u001b[0m\u001b[0m\n\u001b[1;32m    298\u001b[0m         \u001b[0mnext_x\u001b[0m \u001b[0;34m=\u001b[0m \u001b[0moptimizer\u001b[0m\u001b[0;34m.\u001b[0m\u001b[0mask\u001b[0m\u001b[0;34m(\u001b[0m\u001b[0;34m)\u001b[0m\u001b[0;34m\u001b[0m\u001b[0;34m\u001b[0m\u001b[0m\n\u001b[0;32m--> 299\u001b[0;31m         \u001b[0mnext_y\u001b[0m \u001b[0;34m=\u001b[0m \u001b[0mfunc\u001b[0m\u001b[0;34m(\u001b[0m\u001b[0mnext_x\u001b[0m\u001b[0;34m)\u001b[0m\u001b[0;34m\u001b[0m\u001b[0;34m\u001b[0m\u001b[0m\n\u001b[0m\u001b[1;32m    300\u001b[0m         \u001b[0mresult\u001b[0m \u001b[0;34m=\u001b[0m \u001b[0moptimizer\u001b[0m\u001b[0;34m.\u001b[0m\u001b[0mtell\u001b[0m\u001b[0;34m(\u001b[0m\u001b[0mnext_x\u001b[0m\u001b[0;34m,\u001b[0m \u001b[0mnext_y\u001b[0m\u001b[0;34m)\u001b[0m\u001b[0;34m\u001b[0m\u001b[0;34m\u001b[0m\u001b[0m\n\u001b[1;32m    301\u001b[0m         \u001b[0mresult\u001b[0m\u001b[0;34m.\u001b[0m\u001b[0mspecs\u001b[0m \u001b[0;34m=\u001b[0m \u001b[0mspecs\u001b[0m\u001b[0;34m\u001b[0m\u001b[0;34m\u001b[0m\u001b[0m\n",
      "\u001b[0;31mTypeError\u001b[0m: __init__() missing 1 required positional argument: 'space'"
     ]
    }
   ],
   "source": [
    "res_gp = gp_minimize(objective, space, n_calls=50, random_state=0)"
   ]
  },
  {
   "cell_type": "code",
   "execution_count": 91,
   "id": "145b64b8-4695-4abc-b699-af3b56fe8175",
   "metadata": {},
   "outputs": [],
   "source": [
    "from functools import wraps\n",
    "\n",
    "def wrapper(method,space):\n",
    "    @use_named_args(method,space)\n",
    "    def _impl(self, *method_args, **method_kwargs):\n",
    "        method_output = method(self, *method_args, **method_kwargs)\n",
    "        return method_output \n",
    "    return _impl\n"
   ]
  },
  {
   "cell_type": "code",
   "execution_count": 72,
   "id": "fed47816-a77b-4f9b-9a84-97fe6c98ef93",
   "metadata": {},
   "outputs": [
    {
     "data": {
      "text/plain": [
       "'Best score=2.9882'"
      ]
     },
     "execution_count": 72,
     "metadata": {},
     "output_type": "execute_result"
    }
   ],
   "source": [
    "from skopt import gp_minimize\n",
    "res_gp = gp_minimize(objective, space, n_calls=50, random_state=0)\n",
    "\n",
    "\"Best score=%.4f\" % res_gp.fun"
   ]
  },
  {
   "cell_type": "code",
   "execution_count": 155,
   "id": "b87a4d11-1bf5-4263-af3d-b2e6075351db",
   "metadata": {},
   "outputs": [],
   "source": [
    "from copy import deepcopy"
   ]
  },
  {
   "cell_type": "code",
   "execution_count": 191,
   "id": "4aaeffdc-1868-47f0-b59c-650201f19ca2",
   "metadata": {},
   "outputs": [],
   "source": [
    "class BufferedFeatures:\n",
    "    def __init__(self, structures, calculator_params, calculator=SOAP):\n",
    "        \n",
    "        self.calculator = calculator(**calculator_params)\n",
    "        self.hypers = deepcopy(self.calculator.hypers)\n",
    "        self.X = None\n",
    "        self.structures = structures\n",
    "\n",
    "    def get_features(self, update_params):\n",
    "        print(self.calculator.hypers[\"max_radial\"])\n",
    "        self.calculator.update_hyperparameters(**update_params)\n",
    "        print(self.calculator.hypers[\"max_radial\"])\n",
    "        \n",
    "        if self.X is None:\n",
    "            print(\"I initially calculate\")\n",
    "            self.hypers = deepcopy(self.calculator.hypers)\n",
    "            self.X = self.calculator.transform(self.structures).get_features(self.calculator)\n",
    "            return self.X\n",
    "        \n",
    "        else:\n",
    "            \n",
    "            if self.hypers == self.calculator.hypers:\n",
    "                print(\"I only return what I store\")\n",
    "                self.hypers = deepcopy(self.calculator.hypers)\n",
    "                return self.X\n",
    "            \n",
    "            else:\n",
    "                print(\"I recalculate\")\n",
    "                self.hypers = deepcopy(self.calculator.hypers)\n",
    "                \n",
    "                #print(self.calculator.transform(self.structures).get_features(self.calculator).shape)\n",
    "                return self.X\n",
    "        #fitted? - yes\n",
    "        \n",
    "        #fitted? - no\n",
    "        "
   ]
  },
  {
   "cell_type": "code",
   "execution_count": 181,
   "id": "5778d9c4-33a0-42d3-8182-7a38d5c9fcfb",
   "metadata": {
    "tags": []
   },
   "outputs": [
    {
     "ename": "TypeError",
     "evalue": "Object of type int64 is not JSON serializable",
     "output_type": "error",
     "traceback": [
      "\u001b[0;31m---------------------------------------------------------------------------\u001b[0m",
      "\u001b[0;31mTypeError\u001b[0m                                 Traceback (most recent call last)",
      "\u001b[0;32m<ipython-input-181-7eead5a84954>\u001b[0m in \u001b[0;36m<module>\u001b[0;34m\u001b[0m\n\u001b[0;32m----> 1\u001b[0;31m \u001b[0mbuffered_feat\u001b[0m \u001b[0;34m=\u001b[0m \u001b[0mBufferedFeatures\u001b[0m\u001b[0;34m(\u001b[0m\u001b[0mtrain_structures\u001b[0m\u001b[0;34m,\u001b[0m\u001b[0mhypers\u001b[0m\u001b[0;34m)\u001b[0m\u001b[0;34m\u001b[0m\u001b[0;34m\u001b[0m\u001b[0m\n\u001b[0m",
      "\u001b[0;32m<ipython-input-174-13fc8f6e8a59>\u001b[0m in \u001b[0;36m__init__\u001b[0;34m(self, structures, calculator_params, calculator)\u001b[0m\n\u001b[1;32m      2\u001b[0m     \u001b[0;32mdef\u001b[0m \u001b[0m__init__\u001b[0m\u001b[0;34m(\u001b[0m\u001b[0mself\u001b[0m\u001b[0;34m,\u001b[0m \u001b[0mstructures\u001b[0m\u001b[0;34m,\u001b[0m \u001b[0mcalculator_params\u001b[0m\u001b[0;34m,\u001b[0m \u001b[0mcalculator\u001b[0m\u001b[0;34m=\u001b[0m\u001b[0mSOAP\u001b[0m\u001b[0;34m)\u001b[0m\u001b[0;34m:\u001b[0m\u001b[0;34m\u001b[0m\u001b[0;34m\u001b[0m\u001b[0m\n\u001b[1;32m      3\u001b[0m \u001b[0;34m\u001b[0m\u001b[0m\n\u001b[0;32m----> 4\u001b[0;31m         \u001b[0mself\u001b[0m\u001b[0;34m.\u001b[0m\u001b[0mcalculator\u001b[0m \u001b[0;34m=\u001b[0m \u001b[0mcalculator\u001b[0m\u001b[0;34m(\u001b[0m\u001b[0;34m**\u001b[0m\u001b[0mcalculator_params\u001b[0m\u001b[0;34m)\u001b[0m\u001b[0;34m\u001b[0m\u001b[0;34m\u001b[0m\u001b[0m\n\u001b[0m\u001b[1;32m      5\u001b[0m         \u001b[0mself\u001b[0m\u001b[0;34m.\u001b[0m\u001b[0mhypers\u001b[0m \u001b[0;34m=\u001b[0m \u001b[0mdeepcopy\u001b[0m\u001b[0;34m(\u001b[0m\u001b[0mself\u001b[0m\u001b[0;34m.\u001b[0m\u001b[0mcalculator\u001b[0m\u001b[0;34m.\u001b[0m\u001b[0mhypers\u001b[0m\u001b[0;34m)\u001b[0m\u001b[0;34m\u001b[0m\u001b[0;34m\u001b[0m\u001b[0m\n\u001b[1;32m      6\u001b[0m         \u001b[0mself\u001b[0m\u001b[0;34m.\u001b[0m\u001b[0mX\u001b[0m \u001b[0;34m=\u001b[0m \u001b[0;32mNone\u001b[0m\u001b[0;34m\u001b[0m\u001b[0;34m\u001b[0m\u001b[0m\n",
      "\u001b[0;32m/ssd/scratch/kellner/miniconda3/lib/python3.8/site-packages/rascal/representations/spherical_invariants.py\u001b[0m in \u001b[0;36m__init__\u001b[0;34m(self, interaction_cutoff, cutoff_smooth_width, max_radial, max_angular, gaussian_sigma_type, gaussian_sigma_constant, cutoff_function_type, soap_type, inversion_symmetry, radial_basis, normalize, optimization, optimization_args, expansion_by_species_method, global_species, compute_gradients, cutoff_function_parameters, coefficient_subselection)\u001b[0m\n\u001b[1;32m    291\u001b[0m         \u001b[0mself\u001b[0m\u001b[0;34m.\u001b[0m\u001b[0mrep_options\u001b[0m \u001b[0;34m=\u001b[0m \u001b[0mdict\u001b[0m\u001b[0;34m(\u001b[0m\u001b[0mname\u001b[0m\u001b[0;34m=\u001b[0m\u001b[0mself\u001b[0m\u001b[0;34m.\u001b[0m\u001b[0mname\u001b[0m\u001b[0;34m,\u001b[0m \u001b[0margs\u001b[0m\u001b[0;34m=\u001b[0m\u001b[0;34m[\u001b[0m\u001b[0mself\u001b[0m\u001b[0;34m.\u001b[0m\u001b[0mhypers\u001b[0m\u001b[0;34m]\u001b[0m\u001b[0;34m)\u001b[0m\u001b[0;34m\u001b[0m\u001b[0;34m\u001b[0m\u001b[0m\n\u001b[1;32m    292\u001b[0m \u001b[0;34m\u001b[0m\u001b[0m\n\u001b[0;32m--> 293\u001b[0;31m         \u001b[0mself\u001b[0m\u001b[0;34m.\u001b[0m\u001b[0m_representation\u001b[0m \u001b[0;34m=\u001b[0m \u001b[0mCalculatorFactory\u001b[0m\u001b[0;34m(\u001b[0m\u001b[0mself\u001b[0m\u001b[0;34m.\u001b[0m\u001b[0mrep_options\u001b[0m\u001b[0;34m)\u001b[0m\u001b[0;34m\u001b[0m\u001b[0;34m\u001b[0m\u001b[0m\n\u001b[0m\u001b[1;32m    294\u001b[0m \u001b[0;34m\u001b[0m\u001b[0m\n\u001b[1;32m    295\u001b[0m     \u001b[0;32mdef\u001b[0m \u001b[0mupdate_hyperparameters\u001b[0m\u001b[0;34m(\u001b[0m\u001b[0mself\u001b[0m\u001b[0;34m,\u001b[0m \u001b[0;34m**\u001b[0m\u001b[0mhypers\u001b[0m\u001b[0;34m)\u001b[0m\u001b[0;34m:\u001b[0m\u001b[0;34m\u001b[0m\u001b[0;34m\u001b[0m\u001b[0m\n",
      "\u001b[0;32m/ssd/scratch/kellner/miniconda3/lib/python3.8/site-packages/rascal/representations/base.py\u001b[0m in \u001b[0;36mCalculatorFactory\u001b[0;34m(rep_options)\u001b[0m\n\u001b[1;32m     35\u001b[0m             ).format(name, list(_representations.keys()))\n\u001b[1;32m     36\u001b[0m         )\n\u001b[0;32m---> 37\u001b[0;31m     \u001b[0;32mreturn\u001b[0m \u001b[0m_representations\u001b[0m\u001b[0;34m[\u001b[0m\u001b[0mname\u001b[0m\u001b[0;34m]\u001b[0m\u001b[0;34m(\u001b[0m\u001b[0;34m*\u001b[0m\u001b[0mrep_options\u001b[0m\u001b[0;34m[\u001b[0m\u001b[0;34m\"args\"\u001b[0m\u001b[0;34m]\u001b[0m\u001b[0;34m)\u001b[0m\u001b[0;34m\u001b[0m\u001b[0;34m\u001b[0m\u001b[0m\n\u001b[0m\u001b[1;32m     38\u001b[0m \u001b[0;34m\u001b[0m\u001b[0m\n\u001b[1;32m     39\u001b[0m \u001b[0;34m\u001b[0m\u001b[0m\n",
      "\u001b[0;32m/ssd/scratch/kellner/miniconda3/lib/python3.8/json/__init__.py\u001b[0m in \u001b[0;36mdumps\u001b[0;34m(obj, skipkeys, ensure_ascii, check_circular, allow_nan, cls, indent, separators, default, sort_keys, **kw)\u001b[0m\n\u001b[1;32m    229\u001b[0m         \u001b[0mcls\u001b[0m \u001b[0;32mis\u001b[0m \u001b[0;32mNone\u001b[0m \u001b[0;32mand\u001b[0m \u001b[0mindent\u001b[0m \u001b[0;32mis\u001b[0m \u001b[0;32mNone\u001b[0m \u001b[0;32mand\u001b[0m \u001b[0mseparators\u001b[0m \u001b[0;32mis\u001b[0m \u001b[0;32mNone\u001b[0m \u001b[0;32mand\u001b[0m\u001b[0;34m\u001b[0m\u001b[0;34m\u001b[0m\u001b[0m\n\u001b[1;32m    230\u001b[0m         default is None and not sort_keys and not kw):\n\u001b[0;32m--> 231\u001b[0;31m         \u001b[0;32mreturn\u001b[0m \u001b[0m_default_encoder\u001b[0m\u001b[0;34m.\u001b[0m\u001b[0mencode\u001b[0m\u001b[0;34m(\u001b[0m\u001b[0mobj\u001b[0m\u001b[0;34m)\u001b[0m\u001b[0;34m\u001b[0m\u001b[0;34m\u001b[0m\u001b[0m\n\u001b[0m\u001b[1;32m    232\u001b[0m     \u001b[0;32mif\u001b[0m \u001b[0mcls\u001b[0m \u001b[0;32mis\u001b[0m \u001b[0;32mNone\u001b[0m\u001b[0;34m:\u001b[0m\u001b[0;34m\u001b[0m\u001b[0;34m\u001b[0m\u001b[0m\n\u001b[1;32m    233\u001b[0m         \u001b[0mcls\u001b[0m \u001b[0;34m=\u001b[0m \u001b[0mJSONEncoder\u001b[0m\u001b[0;34m\u001b[0m\u001b[0;34m\u001b[0m\u001b[0m\n",
      "\u001b[0;32m/ssd/scratch/kellner/miniconda3/lib/python3.8/json/encoder.py\u001b[0m in \u001b[0;36mencode\u001b[0;34m(self, o)\u001b[0m\n\u001b[1;32m    197\u001b[0m         \u001b[0;31m# exceptions aren't as detailed.  The list call should be roughly\u001b[0m\u001b[0;34m\u001b[0m\u001b[0;34m\u001b[0m\u001b[0;34m\u001b[0m\u001b[0m\n\u001b[1;32m    198\u001b[0m         \u001b[0;31m# equivalent to the PySequence_Fast that ''.join() would do.\u001b[0m\u001b[0;34m\u001b[0m\u001b[0;34m\u001b[0m\u001b[0;34m\u001b[0m\u001b[0m\n\u001b[0;32m--> 199\u001b[0;31m         \u001b[0mchunks\u001b[0m \u001b[0;34m=\u001b[0m \u001b[0mself\u001b[0m\u001b[0;34m.\u001b[0m\u001b[0miterencode\u001b[0m\u001b[0;34m(\u001b[0m\u001b[0mo\u001b[0m\u001b[0;34m,\u001b[0m \u001b[0m_one_shot\u001b[0m\u001b[0;34m=\u001b[0m\u001b[0;32mTrue\u001b[0m\u001b[0;34m)\u001b[0m\u001b[0;34m\u001b[0m\u001b[0;34m\u001b[0m\u001b[0m\n\u001b[0m\u001b[1;32m    200\u001b[0m         \u001b[0;32mif\u001b[0m \u001b[0;32mnot\u001b[0m \u001b[0misinstance\u001b[0m\u001b[0;34m(\u001b[0m\u001b[0mchunks\u001b[0m\u001b[0;34m,\u001b[0m \u001b[0;34m(\u001b[0m\u001b[0mlist\u001b[0m\u001b[0;34m,\u001b[0m \u001b[0mtuple\u001b[0m\u001b[0;34m)\u001b[0m\u001b[0;34m)\u001b[0m\u001b[0;34m:\u001b[0m\u001b[0;34m\u001b[0m\u001b[0;34m\u001b[0m\u001b[0m\n\u001b[1;32m    201\u001b[0m             \u001b[0mchunks\u001b[0m \u001b[0;34m=\u001b[0m \u001b[0mlist\u001b[0m\u001b[0;34m(\u001b[0m\u001b[0mchunks\u001b[0m\u001b[0;34m)\u001b[0m\u001b[0;34m\u001b[0m\u001b[0;34m\u001b[0m\u001b[0m\n",
      "\u001b[0;32m/ssd/scratch/kellner/miniconda3/lib/python3.8/json/encoder.py\u001b[0m in \u001b[0;36miterencode\u001b[0;34m(self, o, _one_shot)\u001b[0m\n\u001b[1;32m    255\u001b[0m                 \u001b[0mself\u001b[0m\u001b[0;34m.\u001b[0m\u001b[0mkey_separator\u001b[0m\u001b[0;34m,\u001b[0m \u001b[0mself\u001b[0m\u001b[0;34m.\u001b[0m\u001b[0mitem_separator\u001b[0m\u001b[0;34m,\u001b[0m \u001b[0mself\u001b[0m\u001b[0;34m.\u001b[0m\u001b[0msort_keys\u001b[0m\u001b[0;34m,\u001b[0m\u001b[0;34m\u001b[0m\u001b[0;34m\u001b[0m\u001b[0m\n\u001b[1;32m    256\u001b[0m                 self.skipkeys, _one_shot)\n\u001b[0;32m--> 257\u001b[0;31m         \u001b[0;32mreturn\u001b[0m \u001b[0m_iterencode\u001b[0m\u001b[0;34m(\u001b[0m\u001b[0mo\u001b[0m\u001b[0;34m,\u001b[0m \u001b[0;36m0\u001b[0m\u001b[0;34m)\u001b[0m\u001b[0;34m\u001b[0m\u001b[0;34m\u001b[0m\u001b[0m\n\u001b[0m\u001b[1;32m    258\u001b[0m \u001b[0;34m\u001b[0m\u001b[0m\n\u001b[1;32m    259\u001b[0m def _make_iterencode(markers, _default, _encoder, _indent, _floatstr,\n",
      "\u001b[0;32m/ssd/scratch/kellner/miniconda3/lib/python3.8/json/encoder.py\u001b[0m in \u001b[0;36mdefault\u001b[0;34m(self, o)\u001b[0m\n\u001b[1;32m    177\u001b[0m \u001b[0;34m\u001b[0m\u001b[0m\n\u001b[1;32m    178\u001b[0m         \"\"\"\n\u001b[0;32m--> 179\u001b[0;31m         raise TypeError(f'Object of type {o.__class__.__name__} '\n\u001b[0m\u001b[1;32m    180\u001b[0m                         f'is not JSON serializable')\n\u001b[1;32m    181\u001b[0m \u001b[0;34m\u001b[0m\u001b[0m\n",
      "\u001b[0;31mTypeError\u001b[0m: Object of type int64 is not JSON serializable"
     ]
    }
   ],
   "source": [
    "buffered_feat = BufferedFeatures(train_structures,hypers)"
   ]
  },
  {
   "cell_type": "code",
   "execution_count": 180,
   "id": "250fa3fc-157a-4687-9d94-f2d21b7e9c3e",
   "metadata": {
    "collapsed": true,
    "jupyter": {
     "outputs_hidden": true
    },
    "tags": []
   },
   "outputs": [
    {
     "ename": "TypeError",
     "evalue": "Object of type int64 is not JSON serializable",
     "output_type": "error",
     "traceback": [
      "\u001b[0;31m---------------------------------------------------------------------------\u001b[0m",
      "\u001b[0;31mTypeError\u001b[0m                                 Traceback (most recent call last)",
      "\u001b[0;32m<ipython-input-180-29fb2ee8a82f>\u001b[0m in \u001b[0;36m<module>\u001b[0;34m\u001b[0m\n\u001b[0;32m----> 1\u001b[0;31m \u001b[0mthis\u001b[0m \u001b[0;34m=\u001b[0m \u001b[0mSOAP\u001b[0m\u001b[0;34m(\u001b[0m\u001b[0;34m**\u001b[0m\u001b[0mhypers\u001b[0m\u001b[0;34m)\u001b[0m\u001b[0;34m\u001b[0m\u001b[0;34m\u001b[0m\u001b[0m\n\u001b[0m",
      "\u001b[0;32m/ssd/scratch/kellner/miniconda3/lib/python3.8/site-packages/rascal/representations/spherical_invariants.py\u001b[0m in \u001b[0;36m__init__\u001b[0;34m(self, interaction_cutoff, cutoff_smooth_width, max_radial, max_angular, gaussian_sigma_type, gaussian_sigma_constant, cutoff_function_type, soap_type, inversion_symmetry, radial_basis, normalize, optimization, optimization_args, expansion_by_species_method, global_species, compute_gradients, cutoff_function_parameters, coefficient_subselection)\u001b[0m\n\u001b[1;32m    291\u001b[0m         \u001b[0mself\u001b[0m\u001b[0;34m.\u001b[0m\u001b[0mrep_options\u001b[0m \u001b[0;34m=\u001b[0m \u001b[0mdict\u001b[0m\u001b[0;34m(\u001b[0m\u001b[0mname\u001b[0m\u001b[0;34m=\u001b[0m\u001b[0mself\u001b[0m\u001b[0;34m.\u001b[0m\u001b[0mname\u001b[0m\u001b[0;34m,\u001b[0m \u001b[0margs\u001b[0m\u001b[0;34m=\u001b[0m\u001b[0;34m[\u001b[0m\u001b[0mself\u001b[0m\u001b[0;34m.\u001b[0m\u001b[0mhypers\u001b[0m\u001b[0;34m]\u001b[0m\u001b[0;34m)\u001b[0m\u001b[0;34m\u001b[0m\u001b[0;34m\u001b[0m\u001b[0m\n\u001b[1;32m    292\u001b[0m \u001b[0;34m\u001b[0m\u001b[0m\n\u001b[0;32m--> 293\u001b[0;31m         \u001b[0mself\u001b[0m\u001b[0;34m.\u001b[0m\u001b[0m_representation\u001b[0m \u001b[0;34m=\u001b[0m \u001b[0mCalculatorFactory\u001b[0m\u001b[0;34m(\u001b[0m\u001b[0mself\u001b[0m\u001b[0;34m.\u001b[0m\u001b[0mrep_options\u001b[0m\u001b[0;34m)\u001b[0m\u001b[0;34m\u001b[0m\u001b[0;34m\u001b[0m\u001b[0m\n\u001b[0m\u001b[1;32m    294\u001b[0m \u001b[0;34m\u001b[0m\u001b[0m\n\u001b[1;32m    295\u001b[0m     \u001b[0;32mdef\u001b[0m \u001b[0mupdate_hyperparameters\u001b[0m\u001b[0;34m(\u001b[0m\u001b[0mself\u001b[0m\u001b[0;34m,\u001b[0m \u001b[0;34m**\u001b[0m\u001b[0mhypers\u001b[0m\u001b[0;34m)\u001b[0m\u001b[0;34m:\u001b[0m\u001b[0;34m\u001b[0m\u001b[0;34m\u001b[0m\u001b[0m\n",
      "\u001b[0;32m/ssd/scratch/kellner/miniconda3/lib/python3.8/site-packages/rascal/representations/base.py\u001b[0m in \u001b[0;36mCalculatorFactory\u001b[0;34m(rep_options)\u001b[0m\n\u001b[1;32m     35\u001b[0m             ).format(name, list(_representations.keys()))\n\u001b[1;32m     36\u001b[0m         )\n\u001b[0;32m---> 37\u001b[0;31m     \u001b[0;32mreturn\u001b[0m \u001b[0m_representations\u001b[0m\u001b[0;34m[\u001b[0m\u001b[0mname\u001b[0m\u001b[0;34m]\u001b[0m\u001b[0;34m(\u001b[0m\u001b[0;34m*\u001b[0m\u001b[0mrep_options\u001b[0m\u001b[0;34m[\u001b[0m\u001b[0;34m\"args\"\u001b[0m\u001b[0;34m]\u001b[0m\u001b[0;34m)\u001b[0m\u001b[0;34m\u001b[0m\u001b[0;34m\u001b[0m\u001b[0m\n\u001b[0m\u001b[1;32m     38\u001b[0m \u001b[0;34m\u001b[0m\u001b[0m\n\u001b[1;32m     39\u001b[0m \u001b[0;34m\u001b[0m\u001b[0m\n",
      "\u001b[0;32m/ssd/scratch/kellner/miniconda3/lib/python3.8/json/__init__.py\u001b[0m in \u001b[0;36mdumps\u001b[0;34m(obj, skipkeys, ensure_ascii, check_circular, allow_nan, cls, indent, separators, default, sort_keys, **kw)\u001b[0m\n\u001b[1;32m    229\u001b[0m         \u001b[0mcls\u001b[0m \u001b[0;32mis\u001b[0m \u001b[0;32mNone\u001b[0m \u001b[0;32mand\u001b[0m \u001b[0mindent\u001b[0m \u001b[0;32mis\u001b[0m \u001b[0;32mNone\u001b[0m \u001b[0;32mand\u001b[0m \u001b[0mseparators\u001b[0m \u001b[0;32mis\u001b[0m \u001b[0;32mNone\u001b[0m \u001b[0;32mand\u001b[0m\u001b[0;34m\u001b[0m\u001b[0;34m\u001b[0m\u001b[0m\n\u001b[1;32m    230\u001b[0m         default is None and not sort_keys and not kw):\n\u001b[0;32m--> 231\u001b[0;31m         \u001b[0;32mreturn\u001b[0m \u001b[0m_default_encoder\u001b[0m\u001b[0;34m.\u001b[0m\u001b[0mencode\u001b[0m\u001b[0;34m(\u001b[0m\u001b[0mobj\u001b[0m\u001b[0;34m)\u001b[0m\u001b[0;34m\u001b[0m\u001b[0;34m\u001b[0m\u001b[0m\n\u001b[0m\u001b[1;32m    232\u001b[0m     \u001b[0;32mif\u001b[0m \u001b[0mcls\u001b[0m \u001b[0;32mis\u001b[0m \u001b[0;32mNone\u001b[0m\u001b[0;34m:\u001b[0m\u001b[0;34m\u001b[0m\u001b[0;34m\u001b[0m\u001b[0m\n\u001b[1;32m    233\u001b[0m         \u001b[0mcls\u001b[0m \u001b[0;34m=\u001b[0m \u001b[0mJSONEncoder\u001b[0m\u001b[0;34m\u001b[0m\u001b[0;34m\u001b[0m\u001b[0m\n",
      "\u001b[0;32m/ssd/scratch/kellner/miniconda3/lib/python3.8/json/encoder.py\u001b[0m in \u001b[0;36mencode\u001b[0;34m(self, o)\u001b[0m\n\u001b[1;32m    197\u001b[0m         \u001b[0;31m# exceptions aren't as detailed.  The list call should be roughly\u001b[0m\u001b[0;34m\u001b[0m\u001b[0;34m\u001b[0m\u001b[0;34m\u001b[0m\u001b[0m\n\u001b[1;32m    198\u001b[0m         \u001b[0;31m# equivalent to the PySequence_Fast that ''.join() would do.\u001b[0m\u001b[0;34m\u001b[0m\u001b[0;34m\u001b[0m\u001b[0;34m\u001b[0m\u001b[0m\n\u001b[0;32m--> 199\u001b[0;31m         \u001b[0mchunks\u001b[0m \u001b[0;34m=\u001b[0m \u001b[0mself\u001b[0m\u001b[0;34m.\u001b[0m\u001b[0miterencode\u001b[0m\u001b[0;34m(\u001b[0m\u001b[0mo\u001b[0m\u001b[0;34m,\u001b[0m \u001b[0m_one_shot\u001b[0m\u001b[0;34m=\u001b[0m\u001b[0;32mTrue\u001b[0m\u001b[0;34m)\u001b[0m\u001b[0;34m\u001b[0m\u001b[0;34m\u001b[0m\u001b[0m\n\u001b[0m\u001b[1;32m    200\u001b[0m         \u001b[0;32mif\u001b[0m \u001b[0;32mnot\u001b[0m \u001b[0misinstance\u001b[0m\u001b[0;34m(\u001b[0m\u001b[0mchunks\u001b[0m\u001b[0;34m,\u001b[0m \u001b[0;34m(\u001b[0m\u001b[0mlist\u001b[0m\u001b[0;34m,\u001b[0m \u001b[0mtuple\u001b[0m\u001b[0;34m)\u001b[0m\u001b[0;34m)\u001b[0m\u001b[0;34m:\u001b[0m\u001b[0;34m\u001b[0m\u001b[0;34m\u001b[0m\u001b[0m\n\u001b[1;32m    201\u001b[0m             \u001b[0mchunks\u001b[0m \u001b[0;34m=\u001b[0m \u001b[0mlist\u001b[0m\u001b[0;34m(\u001b[0m\u001b[0mchunks\u001b[0m\u001b[0;34m)\u001b[0m\u001b[0;34m\u001b[0m\u001b[0;34m\u001b[0m\u001b[0m\n",
      "\u001b[0;32m/ssd/scratch/kellner/miniconda3/lib/python3.8/json/encoder.py\u001b[0m in \u001b[0;36miterencode\u001b[0;34m(self, o, _one_shot)\u001b[0m\n\u001b[1;32m    255\u001b[0m                 \u001b[0mself\u001b[0m\u001b[0;34m.\u001b[0m\u001b[0mkey_separator\u001b[0m\u001b[0;34m,\u001b[0m \u001b[0mself\u001b[0m\u001b[0;34m.\u001b[0m\u001b[0mitem_separator\u001b[0m\u001b[0;34m,\u001b[0m \u001b[0mself\u001b[0m\u001b[0;34m.\u001b[0m\u001b[0msort_keys\u001b[0m\u001b[0;34m,\u001b[0m\u001b[0;34m\u001b[0m\u001b[0;34m\u001b[0m\u001b[0m\n\u001b[1;32m    256\u001b[0m                 self.skipkeys, _one_shot)\n\u001b[0;32m--> 257\u001b[0;31m         \u001b[0;32mreturn\u001b[0m \u001b[0m_iterencode\u001b[0m\u001b[0;34m(\u001b[0m\u001b[0mo\u001b[0m\u001b[0;34m,\u001b[0m \u001b[0;36m0\u001b[0m\u001b[0;34m)\u001b[0m\u001b[0;34m\u001b[0m\u001b[0;34m\u001b[0m\u001b[0m\n\u001b[0m\u001b[1;32m    258\u001b[0m \u001b[0;34m\u001b[0m\u001b[0m\n\u001b[1;32m    259\u001b[0m def _make_iterencode(markers, _default, _encoder, _indent, _floatstr,\n",
      "\u001b[0;32m/ssd/scratch/kellner/miniconda3/lib/python3.8/json/encoder.py\u001b[0m in \u001b[0;36mdefault\u001b[0;34m(self, o)\u001b[0m\n\u001b[1;32m    177\u001b[0m \u001b[0;34m\u001b[0m\u001b[0m\n\u001b[1;32m    178\u001b[0m         \"\"\"\n\u001b[0;32m--> 179\u001b[0;31m         raise TypeError(f'Object of type {o.__class__.__name__} '\n\u001b[0m\u001b[1;32m    180\u001b[0m                         f'is not JSON serializable')\n\u001b[1;32m    181\u001b[0m \u001b[0;34m\u001b[0m\u001b[0m\n",
      "\u001b[0;31mTypeError\u001b[0m: Object of type int64 is not JSON serializable"
     ]
    }
   ],
   "source": [
    "this = SOAP(**hypers)"
   ]
  },
  {
   "cell_type": "code",
   "execution_count": 132,
   "id": "859d97c7-45a5-4e9b-83fb-1b5e40c3b5b4",
   "metadata": {},
   "outputs": [
    {
     "data": {
      "text/plain": [
       "{'max_radial': 3,\n",
       " 'max_angular': 3,\n",
       " 'soap_type': 'PowerSpectrum',\n",
       " 'normalize': True,\n",
       " 'inversion_symmetry': True,\n",
       " 'expansion_by_species_method': 'environment wise',\n",
       " 'global_species': [],\n",
       " 'compute_gradients': False,\n",
       " 'cutoff_function': {'type': 'ShiftedCosine',\n",
       "  'cutoff': {'value': 3.0, 'unit': 'AA'},\n",
       "  'smooth_width': {'value': 0.3, 'unit': 'AA'}},\n",
       " 'gaussian_density': {'type': 'Constant',\n",
       "  'gaussian_sigma': {'value': 0.3, 'unit': 'AA'}},\n",
       " 'radial_contribution': {'type': 'GTO',\n",
       "  'optimization': {'Spline': {'accuracy': 1e-05}}}}"
      ]
     },
     "execution_count": 132,
     "metadata": {},
     "output_type": "execute_result"
    }
   ],
   "source": [
    "this.hypers"
   ]
  },
  {
   "cell_type": "code",
   "execution_count": 188,
   "id": "ea49ee49-6900-4e7b-abd7-ce041209de94",
   "metadata": {},
   "outputs": [],
   "source": [
    "this.update_hyperparameters(**hypers)"
   ]
  },
  {
   "cell_type": "code",
   "execution_count": 175,
   "id": "2461c864-1035-41c1-a138-e0f60c167687",
   "metadata": {},
   "outputs": [],
   "source": [
    "feat = buffered_feat.get_features(**hypers)"
   ]
  },
  {
   "cell_type": "code",
   "execution_count": 176,
   "id": "b10c80aa-98d7-481f-be2a-47fb6e6e35c9",
   "metadata": {},
   "outputs": [
    {
     "data": {
      "text/plain": [
       "(7631, 540)"
      ]
     },
     "execution_count": 176,
     "metadata": {},
     "output_type": "execute_result"
    }
   ],
   "source": [
    "feat.shape"
   ]
  },
  {
   "cell_type": "code",
   "execution_count": 92,
   "id": "195d7f9c-37d1-49c3-a3fd-7d8dab32acea",
   "metadata": {
    "collapsed": true,
    "jupyter": {
     "outputs_hidden": true
    },
    "tags": []
   },
   "outputs": [
    {
     "ename": "NameError",
     "evalue": "name 'self' is not defined",
     "output_type": "error",
     "traceback": [
      "\u001b[0;31m---------------------------------------------------------------------------\u001b[0m",
      "\u001b[0;31mNameError\u001b[0m                                 Traceback (most recent call last)",
      "\u001b[0;32m<ipython-input-92-5104a4b04626>\u001b[0m in \u001b[0;36m<module>\u001b[0;34m\u001b[0m\n\u001b[0;32m----> 1\u001b[0;31m \u001b[0;32mclass\u001b[0m \u001b[0mobjective\u001b[0m\u001b[0;34m:\u001b[0m\u001b[0;34m\u001b[0m\u001b[0;34m\u001b[0m\u001b[0m\n\u001b[0m\u001b[1;32m      2\u001b[0m \u001b[0;34m\u001b[0m\u001b[0m\n\u001b[1;32m      3\u001b[0m     \u001b[0;32mdef\u001b[0m \u001b[0mobjective\u001b[0m\u001b[0;34m(\u001b[0m\u001b[0mreg\u001b[0m\u001b[0;34m,\u001b[0m\u001b[0;34m**\u001b[0m\u001b[0mparams\u001b[0m\u001b[0;34m)\u001b[0m\u001b[0;34m:\u001b[0m\u001b[0;34m\u001b[0m\u001b[0;34m\u001b[0m\u001b[0m\n\u001b[1;32m      4\u001b[0m         \u001b[0mreg\u001b[0m\u001b[0;34m.\u001b[0m\u001b[0mset_params\u001b[0m\u001b[0;34m(\u001b[0m\u001b[0;34m**\u001b[0m\u001b[0mparams\u001b[0m\u001b[0;34m)\u001b[0m\u001b[0;34m\u001b[0m\u001b[0;34m\u001b[0m\u001b[0m\n\u001b[1;32m      5\u001b[0m         return -np.mean(cross_val_score(reg, X, y, cv=5, n_jobs=-1,\n",
      "\u001b[0;32m<ipython-input-92-5104a4b04626>\u001b[0m in \u001b[0;36mobjective\u001b[0;34m()\u001b[0m\n\u001b[1;32m     11\u001b[0m         \u001b[0mself\u001b[0m\u001b[0;34m.\u001b[0m\u001b[0mspace\u001b[0m \u001b[0;34m=\u001b[0m \u001b[0mspace\u001b[0m\u001b[0;34m\u001b[0m\u001b[0;34m\u001b[0m\u001b[0m\n\u001b[1;32m     12\u001b[0m \u001b[0;34m\u001b[0m\u001b[0m\n\u001b[0;32m---> 13\u001b[0;31m     \u001b[0;34m@\u001b[0m\u001b[0mwrapper\u001b[0m\u001b[0;34m(\u001b[0m\u001b[0mself\u001b[0m\u001b[0;34m.\u001b[0m\u001b[0mspace\u001b[0m\u001b[0;34m)\u001b[0m\u001b[0;34m\u001b[0m\u001b[0;34m\u001b[0m\u001b[0m\n\u001b[0m\u001b[1;32m     14\u001b[0m     \u001b[0;32mdef\u001b[0m \u001b[0m__call__\u001b[0m\u001b[0;34m(\u001b[0m\u001b[0mself\u001b[0m\u001b[0;34m,\u001b[0m\u001b[0;34m**\u001b[0m\u001b[0mparams\u001b[0m\u001b[0;34m)\u001b[0m\u001b[0;34m:\u001b[0m\u001b[0;34m\u001b[0m\u001b[0;34m\u001b[0m\u001b[0m\n\u001b[1;32m     15\u001b[0m         \u001b[0mreg\u001b[0m\u001b[0;34m.\u001b[0m\u001b[0mset_params\u001b[0m\u001b[0;34m(\u001b[0m\u001b[0;34m**\u001b[0m\u001b[0mparams\u001b[0m\u001b[0;34m)\u001b[0m\u001b[0;34m\u001b[0m\u001b[0;34m\u001b[0m\u001b[0m\n",
      "\u001b[0;31mNameError\u001b[0m: name 'self' is not defined"
     ]
    }
   ],
   "source": [
    "class objective:\n",
    "    \n",
    "    def objective(reg,**params):\n",
    "        reg.set_params(**params)\n",
    "        return -np.mean(cross_val_score(reg, X, y, cv=5, n_jobs=-1,\n",
    "                                        scoring=\"neg_mean_absolute_error\"))\n",
    "    \n",
    "    \n",
    "    def __init__(self, reg, space):\n",
    "        self.reg = reg\n",
    "        self.space = space\n",
    "    \n",
    "    @wrapper(self.space)\n",
    "    def __call__(self,**params):\n",
    "        reg.set_params(**params)\n",
    "\n",
    "        return -np.mean(cross_val_score(reg, X, y, cv=5, n_jobs=-1,\n",
    "                                        scoring=\"neg_mean_absolute_error\"))"
   ]
  },
  {
   "cell_type": "code",
   "execution_count": null,
   "id": "afc83e1c-d91b-434d-bc47-78ae9c18ba00",
   "metadata": {},
   "outputs": [],
   "source": [
    "class objective:"
   ]
  },
  {
   "cell_type": "code",
   "execution_count": 67,
   "id": "fed1dfe2-82bc-4793-872b-7e62492c39b5",
   "metadata": {},
   "outputs": [],
   "source": [
    "class BufferedCalculator:\n",
    "    def __init__(self, parameters, calculator=SOAP, **params):\n",
    "\n",
    "        for key, value in params.items():\n",
    "            pass\n",
    "    \n",
    "    def get\n",
    "    "
   ]
  },
  {
   "cell_type": "code",
   "execution_count": 69,
   "id": "e716c166-1558-4c0b-b70a-d747946b63f8",
   "metadata": {
    "tags": []
   },
   "outputs": [
    {
     "ename": "TypeError",
     "evalue": "__init__() missing 5 required positional arguments: 'interaction_cutoff', 'cutoff_smooth_width', 'max_radial', 'max_angular', and 'gaussian_sigma_type'",
     "output_type": "error",
     "traceback": [
      "\u001b[0;31m---------------------------------------------------------------------------\u001b[0m",
      "\u001b[0;31mTypeError\u001b[0m                                 Traceback (most recent call last)",
      "\u001b[0;32m<ipython-input-69-a1f189617072>\u001b[0m in \u001b[0;36m<module>\u001b[0;34m\u001b[0m\n\u001b[0;32m----> 1\u001b[0;31m \u001b[0mSOAP\u001b[0m\u001b[0;34m(\u001b[0m\u001b[0;34m)\u001b[0m\u001b[0;34m\u001b[0m\u001b[0;34m\u001b[0m\u001b[0m\n\u001b[0m",
      "\u001b[0;31mTypeError\u001b[0m: __init__() missing 5 required positional arguments: 'interaction_cutoff', 'cutoff_smooth_width', 'max_radial', 'max_angular', and 'gaussian_sigma_type'"
     ]
    }
   ],
   "source": [
    "SOAP()"
   ]
  },
  {
   "cell_type": "code",
   "execution_count": 68,
   "id": "609944b8-9f75-4a31-b388-decc4534e231",
   "metadata": {},
   "outputs": [
    {
     "name": "stdout",
     "output_type": "stream",
     "text": [
      "jumps\n"
     ]
    },
    {
     "data": {
      "text/plain": [
       "<__main__.objective at 0x7ff9077f51f0>"
      ]
     },
     "execution_count": 68,
     "metadata": {},
     "output_type": "execute_result"
    }
   ],
   "source": [
    "objective(1,1,jumps=3)"
   ]
  },
  {
   "cell_type": "code",
   "execution_count": 60,
   "id": "385c6b06-a315-41ec-88da-f0f6d7746ea8",
   "metadata": {},
   "outputs": [],
   "source": [
    "ob = objective(reg,space)"
   ]
  },
  {
   "cell_type": "code",
   "execution_count": 61,
   "id": "5481171f-ed31-4080-bbda-f6dd1e2c0298",
   "metadata": {
    "collapsed": true,
    "jupyter": {
     "outputs_hidden": true
    },
    "tags": []
   },
   "outputs": [
    {
     "ename": "TypeError",
     "evalue": "wrapper() takes 1 positional argument but 2 were given",
     "output_type": "error",
     "traceback": [
      "\u001b[0;31m---------------------------------------------------------------------------\u001b[0m",
      "\u001b[0;31mTypeError\u001b[0m                                 Traceback (most recent call last)",
      "\u001b[0;32m<ipython-input-61-23fce3842a28>\u001b[0m in \u001b[0;36m<module>\u001b[0;34m\u001b[0m\n\u001b[0;32m----> 1\u001b[0;31m \u001b[0mres_gp\u001b[0m \u001b[0;34m=\u001b[0m \u001b[0mgp_minimize\u001b[0m\u001b[0;34m(\u001b[0m\u001b[0mob\u001b[0m\u001b[0;34m,\u001b[0m \u001b[0mspace\u001b[0m\u001b[0;34m,\u001b[0m \u001b[0mn_calls\u001b[0m\u001b[0;34m=\u001b[0m\u001b[0;36m50\u001b[0m\u001b[0;34m,\u001b[0m \u001b[0mrandom_state\u001b[0m\u001b[0;34m=\u001b[0m\u001b[0;36m0\u001b[0m\u001b[0;34m)\u001b[0m\u001b[0;34m\u001b[0m\u001b[0;34m\u001b[0m\u001b[0m\n\u001b[0m",
      "\u001b[0;32m/ssd/scratch/kellner/miniconda3/lib/python3.8/site-packages/skopt/optimizer/gp.py\u001b[0m in \u001b[0;36mgp_minimize\u001b[0;34m(func, dimensions, base_estimator, n_calls, n_random_starts, n_initial_points, initial_point_generator, acq_func, acq_optimizer, x0, y0, random_state, verbose, callback, n_points, n_restarts_optimizer, xi, kappa, noise, n_jobs, model_queue_size)\u001b[0m\n\u001b[1;32m    257\u001b[0m             noise=noise)\n\u001b[1;32m    258\u001b[0m \u001b[0;34m\u001b[0m\u001b[0m\n\u001b[0;32m--> 259\u001b[0;31m     return base_minimize(\n\u001b[0m\u001b[1;32m    260\u001b[0m         \u001b[0mfunc\u001b[0m\u001b[0;34m,\u001b[0m \u001b[0mspace\u001b[0m\u001b[0;34m,\u001b[0m \u001b[0mbase_estimator\u001b[0m\u001b[0;34m=\u001b[0m\u001b[0mbase_estimator\u001b[0m\u001b[0;34m,\u001b[0m\u001b[0;34m\u001b[0m\u001b[0;34m\u001b[0m\u001b[0m\n\u001b[1;32m    261\u001b[0m         \u001b[0macq_func\u001b[0m\u001b[0;34m=\u001b[0m\u001b[0macq_func\u001b[0m\u001b[0;34m,\u001b[0m\u001b[0;34m\u001b[0m\u001b[0;34m\u001b[0m\u001b[0m\n",
      "\u001b[0;32m/ssd/scratch/kellner/miniconda3/lib/python3.8/site-packages/skopt/optimizer/base.py\u001b[0m in \u001b[0;36mbase_minimize\u001b[0;34m(func, dimensions, base_estimator, n_calls, n_random_starts, n_initial_points, initial_point_generator, acq_func, acq_optimizer, x0, y0, random_state, verbose, callback, n_points, n_restarts_optimizer, xi, kappa, n_jobs, model_queue_size)\u001b[0m\n\u001b[1;32m    297\u001b[0m     \u001b[0;32mfor\u001b[0m \u001b[0mn\u001b[0m \u001b[0;32min\u001b[0m \u001b[0mrange\u001b[0m\u001b[0;34m(\u001b[0m\u001b[0mn_calls\u001b[0m\u001b[0;34m)\u001b[0m\u001b[0;34m:\u001b[0m\u001b[0;34m\u001b[0m\u001b[0;34m\u001b[0m\u001b[0m\n\u001b[1;32m    298\u001b[0m         \u001b[0mnext_x\u001b[0m \u001b[0;34m=\u001b[0m \u001b[0moptimizer\u001b[0m\u001b[0;34m.\u001b[0m\u001b[0mask\u001b[0m\u001b[0;34m(\u001b[0m\u001b[0;34m)\u001b[0m\u001b[0;34m\u001b[0m\u001b[0;34m\u001b[0m\u001b[0m\n\u001b[0;32m--> 299\u001b[0;31m         \u001b[0mnext_y\u001b[0m \u001b[0;34m=\u001b[0m \u001b[0mfunc\u001b[0m\u001b[0;34m(\u001b[0m\u001b[0mnext_x\u001b[0m\u001b[0;34m)\u001b[0m\u001b[0;34m\u001b[0m\u001b[0;34m\u001b[0m\u001b[0m\n\u001b[0m\u001b[1;32m    300\u001b[0m         \u001b[0mresult\u001b[0m \u001b[0;34m=\u001b[0m \u001b[0moptimizer\u001b[0m\u001b[0;34m.\u001b[0m\u001b[0mtell\u001b[0m\u001b[0;34m(\u001b[0m\u001b[0mnext_x\u001b[0m\u001b[0;34m,\u001b[0m \u001b[0mnext_y\u001b[0m\u001b[0;34m)\u001b[0m\u001b[0;34m\u001b[0m\u001b[0;34m\u001b[0m\u001b[0m\n\u001b[1;32m    301\u001b[0m         \u001b[0mresult\u001b[0m\u001b[0;34m.\u001b[0m\u001b[0mspecs\u001b[0m \u001b[0;34m=\u001b[0m \u001b[0mspecs\u001b[0m\u001b[0;34m\u001b[0m\u001b[0;34m\u001b[0m\u001b[0m\n",
      "\u001b[0;31mTypeError\u001b[0m: wrapper() takes 1 positional argument but 2 were given"
     ]
    }
   ],
   "source": [
    "res_gp = gp_minimize(ob, space, n_calls=50, random_state=0)"
   ]
  },
  {
   "cell_type": "code",
   "execution_count": null,
   "id": "c927be74-d6ee-41ed-a6a3-a53a8bf2d54f",
   "metadata": {},
   "outputs": [],
   "source": []
  }
 ],
 "metadata": {
  "kernelspec": {
   "display_name": "Python 3",
   "language": "python",
   "name": "python3"
  },
  "language_info": {
   "codemirror_mode": {
    "name": "ipython",
    "version": 3
   },
   "file_extension": ".py",
   "mimetype": "text/x-python",
   "name": "python",
   "nbconvert_exporter": "python",
   "pygments_lexer": "ipython3",
   "version": "3.8.10"
  }
 },
 "nbformat": 4,
 "nbformat_minor": 5
}
