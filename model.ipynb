{
 "cells": [
  {
   "cell_type": "code",
   "execution_count": 7,
   "metadata": {},
   "outputs": [],
   "source": [
    "from helpers import load_CSD_data, make_element_wise_environments"
   ]
  },
  {
   "cell_type": "code",
   "execution_count": 8,
   "metadata": {},
   "outputs": [],
   "source": [
    "#------loading subsample of dataset--------\n",
    "\n",
    "PATH_TRAIN = \"CSD-2k_relaxed_shifts.txt\"\n",
    "PATH_TEST = \"CSD-500.txt\"\n",
    "#structures_test, shifts_test = load_CSD_data(PATH_TEST,random_subsample=100)\n",
    "structures_train, shifts_train = load_CSD_data(PATH_TRAIN,prop_string=\"CS\",random_subsample=200)"
   ]
  },
  {
   "cell_type": "code",
   "execution_count": 9,
   "metadata": {},
   "outputs": [
    {
     "data": {
      "text/plain": [
       "(18140,)"
      ]
     },
     "execution_count": 9,
     "metadata": {},
     "output_type": "execute_result"
    }
   ],
   "source": [
    "shifts_train.shape"
   ]
  },
  {
   "cell_type": "code",
   "execution_count": 10,
   "metadata": {},
   "outputs": [],
   "source": [
    "from rascal.representations import SphericalInvariants\n",
    "\n",
    "hypers = {\"soap_type\": \"PowerSpectrum\",\n",
    "          \"interaction_cutoff\": 3,\n",
    "          \"radial_basis\": \"GTO\",\n",
    "          \"max_radial\": 9,\n",
    "          \"max_angular\": 9,\n",
    "          \"gaussian_sigma_constant\": 0.3,\n",
    "          \"gaussian_sigma_type\":\"Constant\",\n",
    "          \"cutoff_function_type\":\"ShiftedCosine\",\n",
    "          \"cutoff_smooth_width\": 0.5,\n",
    "          \"normalize\": True,\n",
    "          \"compute_gradients\":False,\n",
    "          \"cutoff_function_parameters\":dict(rate=1,scale=3.5,exponent=4),\n",
    "          #\"optimization\": dict(Spline=dict(accuracy=1.0e-05))\n",
    "          #\"expansion_by_species_method\":'structure wise'\n",
    "         }"
   ]
  },
  {
   "cell_type": "code",
   "execution_count": 11,
   "metadata": {},
   "outputs": [],
   "source": [
    "calculator = SphericalInvariants(**hypers)"
   ]
  },
  {
   "cell_type": "code",
   "execution_count": 17,
   "metadata": {},
   "outputs": [
    {
     "data": {
      "text/plain": [
       "(18140,)"
      ]
     },
     "execution_count": 17,
     "metadata": {},
     "output_type": "execute_result"
    }
   ],
   "source": [
    "shifts_train.shape"
   ]
  },
  {
   "cell_type": "code",
   "execution_count": 21,
   "metadata": {},
   "outputs": [],
   "source": [
    "import numpy as np"
   ]
  },
  {
   "cell_type": "code",
   "execution_count": 22,
   "metadata": {},
   "outputs": [],
   "source": [
    "def make_element_wise_environments_DEBUG(calculator,frames,y=None,select=False):\n",
    "    \"\"\"Returns shifts and environments of only one atomtype from the atoms in frames. \n",
    "       Or returns a dictionary of atomic-type-wise \n",
    "    \n",
    "    Parameters\n",
    "    ----------\n",
    "    calculator : rascal.representations calculator object\n",
    "                 calculator object with hyperparameters \n",
    "    \n",
    "    frames     : list of ase.atoms objects\n",
    "                 wrapped structures of the dataset\n",
    "    \n",
    "    y          : numpy array of shape (N_environments,X)\n",
    "                 array of atomic properties\n",
    "                 \n",
    "    select     : int\n",
    "                 atomic number to select atomic species\n",
    "    Returns\n",
    "    -------\n",
    "    \n",
    "    X_element_wise: dict or numpy.array\n",
    "                    either dict with atomic numbers keys containing the representations in numpy array, \n",
    "                    or numpy array with representations of the selected atomic species\n",
    "    y_element_wise: dict or numpy.array\n",
    "                    either dict with atomic numbers keys containing the shifts in numpy arrays, \n",
    "                    or numpy array with representations of the selected atomic species\n",
    "    \n",
    "    \"\"\"\n",
    "    \n",
    "    \n",
    "    #get unique elements \n",
    "    y_element_wise = {}\n",
    "    X_element_wise = {}\n",
    "    \n",
    "    atoms_list = calculator.transform(frames)\n",
    "    X_repr = atoms_list.get_features(calculator)\n",
    "    \n",
    "    elements = np.unique(atoms_list.get_representation_info()[:,2])\n",
    "    \n",
    "\n",
    "    for element in elements:\n",
    "        \n",
    "        ind = atoms_list.get_representation_info()[:,2] == element\n",
    "        print(ind.shape)\n",
    "        if y is not None:\n",
    "            y_element_wise[element] = y[ind]\n",
    "        X_element_wise[element] = X_repr[ind]\n",
    "    \n",
    "    #TODO: Change this not to loop over array\n",
    "    if select is not None:\n",
    "        return X_element_wise[select], y_element_wise[select] \n",
    "    else:\n",
    "        return X_element_wise, y_element_wise"
   ]
  },
  {
   "cell_type": "code",
   "execution_count": 23,
   "metadata": {},
   "outputs": [
    {
     "name": "stdout",
     "output_type": "stream",
     "text": [
      "(18140,)\n",
      "(18140,)\n",
      "(18140,)\n",
      "(18140,)\n"
     ]
    }
   ],
   "source": [
    "H_environments_train, H_shifts_train = make_element_wise_environments_DEBUG(calculator,structures_train,shifts_train,select=6)"
   ]
  },
  {
   "cell_type": "code",
   "execution_count": null,
   "metadata": {},
   "outputs": [],
   "source": []
  },
  {
   "cell_type": "code",
   "execution_count": 13,
   "metadata": {},
   "outputs": [],
   "source": [
    "from rascal.models.kernels import Kernel"
   ]
  },
  {
   "cell_type": "code",
   "execution_count": null,
   "metadata": {},
   "outputs": [],
   "source": []
  },
  {
   "cell_type": "code",
   "execution_count": 14,
   "metadata": {},
   "outputs": [
    {
     "name": "stdout",
     "output_type": "stream",
     "text": [
      "368 megabytes\n"
     ]
    }
   ],
   "source": [
    "print(\"%d megabytes\" % (H_environments_train.size/1e06 * H_environments_train.itemsize))"
   ]
  },
  {
   "cell_type": "code",
   "execution_count": 22,
   "metadata": {},
   "outputs": [
    {
     "data": {
      "text/plain": [
       "KernelRidge(alpha=1e-06, degree=2, kernel='poly')"
      ]
     },
     "execution_count": 22,
     "metadata": {},
     "output_type": "execute_result"
    }
   ],
   "source": [
    "from sklearn.kernel_ridge import KernelRidge\n",
    "from sklearn.metrics.pairwise import polynomial_kernel\n",
    "\n",
    "import numpy as np\n",
    "\n",
    "y = H_shifts_train\n",
    "\n",
    "X = H_environments_train\n",
    "clf = KernelRidge(alpha=1e-06,kernel='poly', degree=2, coef0=1)\n",
    "clf.fit(X, y)"
   ]
  },
  {
   "cell_type": "code",
   "execution_count": 16,
   "metadata": {},
   "outputs": [
    {
     "ename": "KeyboardInterrupt",
     "evalue": "",
     "output_type": "error",
     "traceback": [
      "\u001b[0;31m---------------------------------------------------------------------------\u001b[0m",
      "\u001b[0;31mKeyboardInterrupt\u001b[0m                         Traceback (most recent call last)",
      "\u001b[0;32m<ipython-input-16-377c0bd7a7fb>\u001b[0m in \u001b[0;36m<module>\u001b[0;34m\u001b[0m\n\u001b[1;32m      1\u001b[0m \u001b[0;31m#eval\u001b[0m\u001b[0;34m\u001b[0m\u001b[0;34m\u001b[0m\u001b[0;34m\u001b[0m\u001b[0m\n\u001b[1;32m      2\u001b[0m \u001b[0mstructures_test\u001b[0m\u001b[0;34m,\u001b[0m \u001b[0mshifts_test\u001b[0m \u001b[0;34m=\u001b[0m \u001b[0mload_CSD_data\u001b[0m\u001b[0;34m(\u001b[0m\u001b[0mPATH_TEST\u001b[0m\u001b[0;34m)\u001b[0m\u001b[0;34m\u001b[0m\u001b[0;34m\u001b[0m\u001b[0m\n\u001b[0;32m----> 3\u001b[0;31m \u001b[0mH_environments_test\u001b[0m\u001b[0;34m,\u001b[0m \u001b[0mH_shifts_test\u001b[0m \u001b[0;34m=\u001b[0m \u001b[0mmake_element_wise_environments\u001b[0m\u001b[0;34m(\u001b[0m\u001b[0mcalculator\u001b[0m\u001b[0;34m,\u001b[0m\u001b[0mstructures_test\u001b[0m\u001b[0;34m,\u001b[0m\u001b[0mshifts_test\u001b[0m\u001b[0;34m,\u001b[0m\u001b[0mselect\u001b[0m\u001b[0;34m=\u001b[0m\u001b[0;36m6\u001b[0m\u001b[0;34m)\u001b[0m\u001b[0;34m\u001b[0m\u001b[0;34m\u001b[0m\u001b[0m\n\u001b[0m",
      "\u001b[0;32m~/Desktop/EPFL_2021/COSMO_project/helpers.py\u001b[0m in \u001b[0;36mmake_element_wise_environments\u001b[0;34m(calculator, frames, y, select)\u001b[0m\n\u001b[1;32m     83\u001b[0m     \u001b[0;31m#get unique elements\u001b[0m\u001b[0;34m\u001b[0m\u001b[0;34m\u001b[0m\u001b[0;34m\u001b[0m\u001b[0m\n\u001b[1;32m     84\u001b[0m     \u001b[0my_element_wise\u001b[0m \u001b[0;34m=\u001b[0m \u001b[0;34m{\u001b[0m\u001b[0;34m}\u001b[0m\u001b[0;34m\u001b[0m\u001b[0;34m\u001b[0m\u001b[0m\n\u001b[0;32m---> 85\u001b[0;31m     \u001b[0mX_element_wise\u001b[0m \u001b[0;34m=\u001b[0m \u001b[0;34m{\u001b[0m\u001b[0;34m}\u001b[0m\u001b[0;34m\u001b[0m\u001b[0;34m\u001b[0m\u001b[0m\n\u001b[0m\u001b[1;32m     86\u001b[0m \u001b[0;34m\u001b[0m\u001b[0m\n\u001b[1;32m     87\u001b[0m     \u001b[0matoms_list\u001b[0m \u001b[0;34m=\u001b[0m \u001b[0mcalculator\u001b[0m\u001b[0;34m.\u001b[0m\u001b[0mtransform\u001b[0m\u001b[0;34m(\u001b[0m\u001b[0mframes\u001b[0m\u001b[0;34m)\u001b[0m\u001b[0;34m\u001b[0m\u001b[0;34m\u001b[0m\u001b[0m\n",
      "\u001b[0;32m~/anaconda3/lib/python3.7/site-packages/rascal/representations/spherical_invariants.py\u001b[0m in \u001b[0;36mtransform\u001b[0;34m(self, frames)\u001b[0m\n\u001b[1;32m    339\u001b[0m             \u001b[0mframes\u001b[0m \u001b[0;34m=\u001b[0m \u001b[0mAtomsList\u001b[0m\u001b[0;34m(\u001b[0m\u001b[0mframes\u001b[0m\u001b[0;34m,\u001b[0m \u001b[0mself\u001b[0m\u001b[0;34m.\u001b[0m\u001b[0mnl_options\u001b[0m\u001b[0;34m)\u001b[0m\u001b[0;34m\u001b[0m\u001b[0;34m\u001b[0m\u001b[0m\n\u001b[1;32m    340\u001b[0m \u001b[0;34m\u001b[0m\u001b[0m\n\u001b[0;32m--> 341\u001b[0;31m         \u001b[0mself\u001b[0m\u001b[0;34m.\u001b[0m\u001b[0m_representation\u001b[0m\u001b[0;34m.\u001b[0m\u001b[0mcompute\u001b[0m\u001b[0;34m(\u001b[0m\u001b[0mframes\u001b[0m\u001b[0;34m.\u001b[0m\u001b[0mmanagers\u001b[0m\u001b[0;34m)\u001b[0m\u001b[0;34m\u001b[0m\u001b[0;34m\u001b[0m\u001b[0m\n\u001b[0m\u001b[1;32m    342\u001b[0m \u001b[0;34m\u001b[0m\u001b[0m\n\u001b[1;32m    343\u001b[0m         \u001b[0;32mreturn\u001b[0m \u001b[0mframes\u001b[0m\u001b[0;34m\u001b[0m\u001b[0;34m\u001b[0m\u001b[0m\n",
      "\u001b[0;31mKeyboardInterrupt\u001b[0m: "
     ]
    }
   ],
   "source": [
    "#eval\n",
    "structures_test, shifts_test = load_CSD_data(PATH_TEST)\n",
    "H_environments_test, H_shifts_test = make_element_wise_environments(calculator,structures_test,shifts_test,select=6)"
   ]
  },
  {
   "cell_type": "code",
   "execution_count": 15,
   "metadata": {},
   "outputs": [
    {
     "ename": "NameError",
     "evalue": "name 'shifts_test' is not defined",
     "output_type": "error",
     "traceback": [
      "\u001b[0;31m---------------------------------------------------------------------------\u001b[0m",
      "\u001b[0;31mNameError\u001b[0m                                 Traceback (most recent call last)",
      "\u001b[0;32m<ipython-input-15-620471c4f027>\u001b[0m in \u001b[0;36m<module>\u001b[0;34m\u001b[0m\n\u001b[0;32m----> 1\u001b[0;31m \u001b[0mshifts_test\u001b[0m\u001b[0;34m.\u001b[0m\u001b[0mshape\u001b[0m\u001b[0;34m\u001b[0m\u001b[0;34m\u001b[0m\u001b[0m\n\u001b[0m",
      "\u001b[0;31mNameError\u001b[0m: name 'shifts_test' is not defined"
     ]
    }
   ],
   "source": [
    "sh"
   ]
  },
  {
   "cell_type": "code",
   "execution_count": 24,
   "metadata": {},
   "outputs": [],
   "source": [
    "y_predicted = clf.predict(H_environments_test)"
   ]
  },
  {
   "cell_type": "code",
   "execution_count": 11,
   "metadata": {},
   "outputs": [],
   "source": [
    "from sklearn.metrics import mean_squared_error, mean_absolute_error"
   ]
  },
  {
   "cell_type": "code",
   "execution_count": 27,
   "metadata": {},
   "outputs": [
    {
     "data": {
      "text/plain": [
       "11.732554953455425"
      ]
     },
     "execution_count": 27,
     "metadata": {},
     "output_type": "execute_result"
    }
   ],
   "source": [
    "np.sqrt(2*mean_squared_error(H_shifts_test[:,0], np.array(y_predicted),squared=True))"
   ]
  },
  {
   "cell_type": "code",
   "execution_count": 26,
   "metadata": {},
   "outputs": [
    {
     "data": {
      "text/plain": [
       "5.788674852147157"
      ]
     },
     "execution_count": 26,
     "metadata": {},
     "output_type": "execute_result"
    }
   ],
   "source": [
    "mean_absolute_error(H_shifts_test[:,0],y_predicted)"
   ]
  },
  {
   "cell_type": "code",
   "execution_count": 39,
   "metadata": {},
   "outputs": [],
   "source": [
    "def optimize_hypers(X_train,X_test,y_train,y_test,y_ML_old,alphas=np.logspace(-8, 0, num=25)):\n",
    "    errors = []\n",
    "    errors_ml = []\n",
    "    \n",
    "    for val in alphas:\n",
    "        clf = KernelRidge(alpha=val, degree=2)\n",
    "        clf.fit(X_train, y_train)\n",
    "        y_predicted = clf.predict(X_test)\n",
    "        errors.append(np.sqrt(2*mean_squared_error(y_predicted, y_test,squared=True)))\n",
    "        errors_ml.append(np.sqrt(2*mean_squared_error(y_ML_old, y_predicted,squared=True)))\n",
    "    return errors, errors_ml, alphas\n",
    "    \n",
    "    \n",
    "    "
   ]
  },
  {
   "cell_type": "code",
   "execution_count": null,
   "metadata": {},
   "outputs": [],
   "source": []
  }
 ],
 "metadata": {
  "kernelspec": {
   "display_name": "Python 3",
   "language": "python",
   "name": "python3"
  },
  "language_info": {
   "codemirror_mode": {
    "name": "ipython",
    "version": 3
   },
   "file_extension": ".py",
   "mimetype": "text/x-python",
   "name": "python",
   "nbconvert_exporter": "python",
   "pygments_lexer": "ipython3",
   "version": "3.7.3"
  }
 },
 "nbformat": 4,
 "nbformat_minor": 4
}
