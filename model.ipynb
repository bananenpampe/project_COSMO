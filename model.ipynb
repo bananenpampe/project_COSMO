{
 "cells": [
  {
   "cell_type": "code",
   "execution_count": 17,
   "metadata": {},
   "outputs": [],
   "source": [
    "from helpers import load_CSD_data, make_element_wise_environments"
   ]
  },
  {
   "cell_type": "code",
   "execution_count": 18,
   "metadata": {},
   "outputs": [],
   "source": [
    "#------loading subsample of dataset--------\n",
    "\n",
    "PATH_TRAIN = \"CSD-2k_relaxed_shifts.txt\"\n",
    "PATH_TEST = \"CSD-500.txt\"\n",
    "#structures_test, shifts_test = load_CSD_data(PATH_TEST,random_subsample=100)\n",
    "structures_train, shifts_train = load_CSD_data(PATH_TRAIN,random_subsample=100)"
   ]
  },
  {
   "cell_type": "code",
   "execution_count": 19,
   "metadata": {},
   "outputs": [],
   "source": [
    "from rascal.representations import SphericalInvariants\n",
    "\n",
    "hypers = {\"soap_type\": \"PowerSpectrum\",\n",
    "          \"interaction_cutoff\": 3,\n",
    "          \"radial_basis\": \"GTO\",\n",
    "          \"max_radial\": 9,\n",
    "          \"max_angular\": 9,\n",
    "          \"gaussian_sigma_constant\": 0.3,\n",
    "          \"gaussian_sigma_type\":\"Constant\",\n",
    "          \"cutoff_function_type\":\"ShiftedCosine\",\n",
    "          \"cutoff_smooth_width\": 0.5,\n",
    "          \"normalize\": True,\n",
    "          \"compute_gradients\":False,\n",
    "          \"cutoff_function_parameters\":dict(rate=1,scale=3.5,exponent=4),\n",
    "          #\"optimization\": dict(Spline=dict(accuracy=1.0e-05))\n",
    "          #\"expansion_by_species_method\":'structure wise'\n",
    "         }"
   ]
  },
  {
   "cell_type": "code",
   "execution_count": 20,
   "metadata": {},
   "outputs": [],
   "source": [
    "calculator = SphericalInvariants(**hypers)"
   ]
  },
  {
   "cell_type": "code",
   "execution_count": 21,
   "metadata": {},
   "outputs": [],
   "source": [
    "H_environments_train, H_shifts_train = make_element_wise_environments(calculator,structures_train,shifts_train,select=6)"
   ]
  },
  {
   "cell_type": "code",
   "execution_count": 6,
   "metadata": {},
   "outputs": [
    {
     "name": "stdout",
     "output_type": "stream",
     "text": [
      "1196 megabytes\n"
     ]
    }
   ],
   "source": [
    "print(\"%d megabytes\" % (H_environments_train.size/1e06 * H_environments_train.itemsize))"
   ]
  },
  {
   "cell_type": "code",
   "execution_count": 22,
   "metadata": {},
   "outputs": [
    {
     "data": {
      "text/plain": [
       "KernelRidge(alpha=1e-06, degree=2, kernel='poly')"
      ]
     },
     "execution_count": 22,
     "metadata": {},
     "output_type": "execute_result"
    }
   ],
   "source": [
    "from sklearn.kernel_ridge import KernelRidge\n",
    "from sklearn.metrics.pairwise import polynomial_kernel\n",
    "\n",
    "import numpy as np\n",
    "\n",
    "y = H_shifts_train\n",
    "\n",
    "X = H_environments_train\n",
    "clf = KernelRidge(alpha=1e-06,kernel='poly', degree=2, coef0=1)\n",
    "clf.fit(X, y)"
   ]
  },
  {
   "cell_type": "code",
   "execution_count": 23,
   "metadata": {},
   "outputs": [],
   "source": [
    "#eval\n",
    "structures_test, shifts_test = load_CSD_data(PATH_TEST)\n",
    "H_environments_test, H_shifts_test = make_element_wise_environments(calculator,structures_test,shifts_test,select=6)"
   ]
  },
  {
   "cell_type": "code",
   "execution_count": 24,
   "metadata": {},
   "outputs": [],
   "source": [
    "y_predicted = clf.predict(H_environments_test)"
   ]
  },
  {
   "cell_type": "code",
   "execution_count": 17,
   "metadata": {
    "collapsed": true,
    "jupyter": {
     "outputs_hidden": true
    }
   },
   "outputs": [],
   "source": [
    "y_predicted = []\n",
    "for n, env in enumerate(H_environments_test):\n",
    "    y_predicted.append(clf.predict(env.reshape(1, -1)))\n",
    "    if n%50"
   ]
  },
  {
   "cell_type": "code",
   "execution_count": 11,
   "metadata": {},
   "outputs": [],
   "source": [
    "from sklearn.metrics import mean_squared_error, mean_absolute_error"
   ]
  },
  {
   "cell_type": "code",
   "execution_count": 27,
   "metadata": {},
   "outputs": [
    {
     "data": {
      "text/plain": [
       "11.732554953455425"
      ]
     },
     "execution_count": 27,
     "metadata": {},
     "output_type": "execute_result"
    }
   ],
   "source": [
    "np.sqrt(2*mean_squared_error(H_shifts_test[:,0], np.array(y_predicted),squared=True))"
   ]
  },
  {
   "cell_type": "code",
   "execution_count": 26,
   "metadata": {},
   "outputs": [
    {
     "data": {
      "text/plain": [
       "5.788674852147157"
      ]
     },
     "execution_count": 26,
     "metadata": {},
     "output_type": "execute_result"
    }
   ],
   "source": [
    "mean_absolute_error(H_shifts_test[:,0],y_predicted)"
   ]
  },
  {
   "cell_type": "code",
   "execution_count": 39,
   "metadata": {},
   "outputs": [],
   "source": [
    "def optimize_hypers(X_train,X_test,y_train,y_test,y_ML_old,alphas=np.logspace(-8, 0, num=25)):\n",
    "    errors = []\n",
    "    errors_ml = []\n",
    "    \n",
    "    for val in alphas:\n",
    "        clf = KernelRidge(alpha=val, degree=2)\n",
    "        clf.fit(X_train, y_train)\n",
    "        y_predicted = clf.predict(X_test)\n",
    "        errors.append(np.sqrt(2*mean_squared_error(y_predicted, y_test,squared=True)))\n",
    "        errors_ml.append(np.sqrt(2*mean_squared_error(y_ML_old, y_predicted,squared=True)))\n",
    "    return errors, errors_ml, alphas\n",
    "    \n",
    "    \n",
    "    "
   ]
  },
  {
   "cell_type": "code",
   "execution_count": null,
   "metadata": {},
   "outputs": [],
   "source": []
  }
 ],
 "metadata": {
  "kernelspec": {
   "display_name": "Python 3",
   "language": "python",
   "name": "python3"
  },
  "language_info": {
   "codemirror_mode": {
    "name": "ipython",
    "version": 3
   },
   "file_extension": ".py",
   "mimetype": "text/x-python",
   "name": "python",
   "nbconvert_exporter": "python",
   "pygments_lexer": "ipython3",
   "version": "3.7.3"
  }
 },
 "nbformat": 4,
 "nbformat_minor": 4
}
