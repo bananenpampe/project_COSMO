{
 "cells": [
  {
   "cell_type": "code",
   "execution_count": 1,
   "id": "1f42b9c5-56dd-4cc7-bb2a-df7b05feecb8",
   "metadata": {},
   "outputs": [],
   "source": [
    "from helpers import *\n",
    "from rascal.neighbourlist.structure_manager import mask_center_atoms_by_species\n",
    "from rascal.representations import SphericalExpansion\n",
    "from rascal.utils import ClebschGordanReal, compute_lambda_soap, spherical_expansion_reshape, xyz_to_spherical"
   ]
  },
  {
   "cell_type": "code",
   "execution_count": 2,
   "id": "51d6d616-fcbf-46df-a562-fb79aca19b3d",
   "metadata": {},
   "outputs": [],
   "source": [
    "#load data get indices process tensors\n",
    "#build lsoaps, 0,1,2\n",
    "##get an optimal radial basis\n",
    "##do PCA,FPS to reduce number of features?\n",
    "\n",
    "##test\n",
    "#\n",
    "#return optimal radial\n",
    "#error metric"
   ]
  },
  {
   "cell_type": "code",
   "execution_count": 29,
   "id": "e3741a0a-8549-49c1-8a0d-1fe75a5fa9ef",
   "metadata": {},
   "outputs": [],
   "source": [
    "PATH_TRAIN = \"./train_tensor/CSD-3k+S546_shift_tensors.xyz\"\n",
    "PATH_TEST = \"./test_tensor/CSD-500+104-7_shift_tensors.xyz\"\n",
    "\n",
    "#\n",
    "structures_train, tensors_train = load_CSD_data(PATH_TRAIN,prop_string=\"cs_tensor\",random_subsample=100)\n",
    "structures_test, tensors_test = load_CSD_data(PATH_TEST,prop_string=\"cs_tensor\")\n",
    "\n",
    "for structure in structures_train: mask_center_atoms_by_species(structure,species_select=[1])\n",
    "for structure in structures_test: mask_center_atoms_by_species(structure,species_select=[1])\n",
    "\n",
    "train_tensors = np.array([tensor for structure in structures_train for tensor in structure.arrays[\"cs_tensor\"][structure.arrays[\"center_atoms_mask\"]]])\n",
    "test_tensors = np.array([tensor for structure in structures_test for tensor in structure.arrays[\"cs_tensor\"][structure.arrays[\"center_atoms_mask\"]]])\n",
    "\n"
   ]
  },
  {
   "cell_type": "code",
   "execution_count": 28,
   "id": "e976f884-3d13-4639-8b1d-faa28941b8f5",
   "metadata": {},
   "outputs": [
    {
     "data": {
      "text/plain": [
       "(76968, 9)"
      ]
     },
     "execution_count": 28,
     "metadata": {},
     "output_type": "execute_result"
    }
   ],
   "source": [
    "tensors_test.shape"
   ]
  },
  {
   "cell_type": "code",
   "execution_count": 17,
   "id": "d482ea2e-dc7b-47ba-b4eb-52e7f1e180ca",
   "metadata": {},
   "outputs": [],
   "source": [
    "#these are nearly optimal parameters of the shiftml 2.0\n",
    "\n",
    "hypers = dict(interaction_cutoff=4.5,\n",
    "              max_radial=9,\n",
    "              max_angular=9,\n",
    "              gaussian_sigma_constant=0.3,\n",
    "              gaussian_sigma_type=\"Constant\",\n",
    "              cutoff_function_type=\"RadialScaling\",\n",
    "              cutoff_smooth_width=0.5,\n",
    "              cutoff_function_parameters=\n",
    "                    dict(\n",
    "                            rate=1,\n",
    "                            scale=2.0,\n",
    "                            exponent=3\n",
    "                        ),\n",
    "              radial_basis=\"GTO\",\n",
    "              optimization=\n",
    "                    dict(\n",
    "                            Spline=dict(\n",
    "                               accuracy=1.0e-05\n",
    "                            )\n",
    "                        ),\n",
    "              compute_gradients=False\n",
    "              )\n",
    "\n",
    "#i tried scale=3.0 and exponent=6 aswell\n",
    "\n",
    "#hypers = get_optimal_radial_basis_hypers(hypers, structures_train+structures_test, expanded_max_radial=50)"
   ]
  },
  {
   "cell_type": "code",
   "execution_count": 18,
   "id": "5c895ee0-b72f-41c8-afa5-20e56938ec71",
   "metadata": {},
   "outputs": [],
   "source": [
    "def build_lambda(hypers,structures_train, CG):\n",
    "    structures_train = list(filter(None, structures_train))\n",
    "    spex = SphericalExpansion(**hypers)\n",
    "    feats = spex.transform(structures_train).get_features(spex)\n",
    "    ref_feats = 1e6*spherical_expansion_reshape(feats, **hypers)\n",
    "    lsoap = compute_lambda_soap(ref_feats, CG, 2, 1)\n",
    "    return lsoap"
   ]
  },
  {
   "cell_type": "code",
   "execution_count": null,
   "id": "0cba8780-ab8d-42aa-8a3e-6b79fbed170d",
   "metadata": {},
   "outputs": [],
   "source": []
  },
  {
   "cell_type": "code",
   "execution_count": 19,
   "id": "c9c73750-f065-4e15-80fd-de197af2086f",
   "metadata": {},
   "outputs": [],
   "source": [
    "from itertools import zip_longest\n",
    "\n",
    "def grouper(iterable, n, fillvalue=None):\n",
    "    args = [iter(iterable)] * n\n",
    "    return zip_longest(*args, fillvalue=fillvalue)"
   ]
  },
  {
   "cell_type": "code",
   "execution_count": 20,
   "id": "2ad891fb-0672-4e5d-a712-4836585fe73b",
   "metadata": {},
   "outputs": [],
   "source": [
    "grouped = grouper(structures_train, 10)"
   ]
  },
  {
   "cell_type": "code",
   "execution_count": 21,
   "id": "3f3eb849-13a4-4ed8-93b2-f2f9e73c2d2d",
   "metadata": {},
   "outputs": [],
   "source": [
    "CG = ClebschGordanReal(lmax=hypers[\"max_angular\"]) "
   ]
  },
  {
   "cell_type": "code",
   "execution_count": 22,
   "id": "880f65ea-ac57-415a-a814-6880c74b0bd5",
   "metadata": {},
   "outputs": [
    {
     "ename": "AttributeError",
     "evalue": "'ClebschGordanReal' object has no attribute 'shape'",
     "output_type": "error",
     "traceback": [
      "\u001b[0;31m---------------------------------------------------------------------------\u001b[0m",
      "\u001b[0;31mAttributeError\u001b[0m                            Traceback (most recent call last)",
      "\u001b[0;32m<ipython-input-22-186a927092c3>\u001b[0m in \u001b[0;36m<module>\u001b[0;34m\u001b[0m\n\u001b[0;32m----> 1\u001b[0;31m \u001b[0mCG\u001b[0m\u001b[0;34m.\u001b[0m\u001b[0mshape\u001b[0m\u001b[0;34m\u001b[0m\u001b[0;34m\u001b[0m\u001b[0m\n\u001b[0m",
      "\u001b[0;31mAttributeError\u001b[0m: 'ClebschGordanReal' object has no attribute 'shape'"
     ]
    }
   ],
   "source": [
    "CG.shape"
   ]
  },
  {
   "cell_type": "code",
   "execution_count": 23,
   "id": "e662284a-02c3-4e8b-92a1-4effdbd22e6f",
   "metadata": {},
   "outputs": [],
   "source": [
    "this = [build_lambda(hypers,group,CG) for group in grouped]"
   ]
  },
  {
   "cell_type": "code",
   "execution_count": 31,
   "id": "0a453bdd-7a85-4fe1-b8d8-1c33bc59df85",
   "metadata": {},
   "outputs": [],
   "source": [
    "import scipy as sp"
   ]
  },
  {
   "cell_type": "code",
   "execution_count": null,
   "id": "e7819fb8-431d-4791-8fa4-9ba7f1ecc00a",
   "metadata": {},
   "outputs": [],
   "source": [
    "lsr = np.moveaxis(this_,-1,1).reshape((this_.shape[0]*this_.shape[-1], -1))\n",
    "u, s, vt = sp.linalg.svd(lsr, full_matrices=False)"
   ]
  },
  {
   "cell_type": "code",
   "execution_count": null,
   "id": "64ac0d99-d33d-4245-87cb-994de966330b",
   "metadata": {},
   "outputs": [],
   "source": []
  },
  {
   "cell_type": "code",
   "execution_count": 25,
   "id": "f2c2d9ff-008f-43c2-9fb9-3d8d0a3c9a96",
   "metadata": {},
   "outputs": [],
   "source": [
    "this_ = np.concatenate(this)"
   ]
  },
  {
   "cell_type": "code",
   "execution_count": null,
   "id": "0475358c-81c2-46d1-830a-15235fc7311d",
   "metadata": {},
   "outputs": [],
   "source": [
    "this_.shape"
   ]
  },
  {
   "cell_type": "code",
   "execution_count": 26,
   "id": "7dc98f88-a030-47b7-83d4-7b354aed5e14",
   "metadata": {},
   "outputs": [
    {
     "data": {
      "text/plain": [
       "5429.5109999999995"
      ]
     },
     "execution_count": 26,
     "metadata": {},
     "output_type": "execute_result"
    }
   ],
   "source": [
    "this_.nbytes * 1e-06"
   ]
  },
  {
   "cell_type": "code",
   "execution_count": 32,
   "id": "42f163a1-d238-409e-923f-27c318d6bc6e",
   "metadata": {},
   "outputs": [
    {
     "data": {
      "text/plain": [
       "0.0"
      ]
     },
     "execution_count": 32,
     "metadata": {},
     "output_type": "execute_result"
    }
   ],
   "source": [
    "lsoap.nbytes * 1e-06"
   ]
  },
  {
   "cell_type": "code",
   "execution_count": 33,
   "id": "4da8e1fd-0574-4617-80d7-ab869c7b1f8f",
   "metadata": {},
   "outputs": [
    {
     "data": {
      "text/plain": [
       "0"
      ]
     },
     "execution_count": 33,
     "metadata": {},
     "output_type": "execute_result"
    }
   ],
   "source": [
    "lsoap.size * lsoap.itemsize"
   ]
  },
  {
   "cell_type": "code",
   "execution_count": 34,
   "id": "10ffa5fe-5c88-4d96-bbd3-423df072383e",
   "metadata": {},
   "outputs": [
    {
     "data": {
      "text/plain": [
       "array([], shape=(20076, 5, 12, 5, 12, 0, 5), dtype=float64)"
      ]
     },
     "execution_count": 34,
     "metadata": {},
     "output_type": "execute_result"
    }
   ],
   "source": [
    "lsoap"
   ]
  },
  {
   "cell_type": "code",
   "execution_count": null,
   "id": "7e125e2d-d50b-4036-97b9-771181c2ca5f",
   "metadata": {},
   "outputs": [],
   "source": []
  }
 ],
 "metadata": {
  "kernelspec": {
   "display_name": "Python 3",
   "language": "python",
   "name": "python3"
  },
  "language_info": {
   "codemirror_mode": {
    "name": "ipython",
    "version": 3
   },
   "file_extension": ".py",
   "mimetype": "text/x-python",
   "name": "python",
   "nbconvert_exporter": "python",
   "pygments_lexer": "ipython3",
   "version": "3.8.10"
  }
 },
 "nbformat": 4,
 "nbformat_minor": 5
}
