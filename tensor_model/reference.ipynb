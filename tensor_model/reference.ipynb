{
 "cells": [
  {
   "cell_type": "code",
   "execution_count": 1,
   "metadata": {},
   "outputs": [],
   "source": [
    "%load_ext autoreload \n",
    "%autoreload 2"
   ]
  },
  {
   "cell_type": "code",
   "execution_count": 2,
   "metadata": {},
   "outputs": [],
   "source": [
    "from ase.io import read\n",
    "import ase\n",
    "import time \n",
    "from tqdm.notebook import tqdm\n",
    "from copy import deepcopy\n",
    "import numpy as np\n",
    "import scipy as sp\n",
    "import matplotlib.pyplot as plt\n",
    "\n",
    "from rascal.representations import SphericalExpansion, SphericalInvariants\n",
    "from rascal.utils import (get_radial_basis_covariance, get_radial_basis_pca, \n",
    "                          get_radial_basis_projections, get_optimal_radial_basis_hypers )\n",
    "from rascal.utils import radial_basis\n",
    "from rascal.utils import (WignerDReal, ClebschGordanReal, \n",
    "                          spherical_expansion_reshape, spherical_expansion_conjugate,\n",
    "                    lm_slice, real2complex_matrix, compute_lambda_soap, xyz_to_spherical, spherical_to_xyz)\n",
    "from rascal.neighbourlist.structure_manager import mask_center_atoms_by_species,mask_center_atoms_by_id"
   ]
  },
  {
   "cell_type": "code",
   "execution_count": 3,
   "metadata": {},
   "outputs": [],
   "source": [
    "from skcosmo.linear_model import AtomRidge\n",
    "from skcosmo.model_selection import atom_groups_by_frame, train_test_split_by_frame"
   ]
  },
  {
   "cell_type": "code",
   "execution_count": 2,
   "metadata": {
    "collapsed": true,
    "jupyter": {
     "outputs_hidden": true
    },
    "tags": []
   },
   "outputs": [
    {
     "name": "stdout",
     "output_type": "stream",
     "text": [
      "Help on class AtomRidge in module skcosmo.linear_model._atom_ridge:\n",
      "\n",
      "class AtomRidge(sklearn.base.BaseEstimator, sklearn.base.MultiOutputMixin, sklearn.base.RegressorMixin)\n",
      " |  AtomRidge(delta, sigma, *, feature_groups=None, solver='auto')\n",
      " |  \n",
      " |  Solves a regularized linear regression problem for a model meant\n",
      " |  to describe a set of atom-centered properties. Difference with conventional\n",
      " |  Ridge involves mainly the definition of regularization, that is structured\n",
      " |  as an \"error tolerance\". This also supports computing combinations of\n",
      " |  multiple models, that are fit jointly.\n",
      " |  \n",
      " |  Method resolution order:\n",
      " |      AtomRidge\n",
      " |      sklearn.base.BaseEstimator\n",
      " |      sklearn.base.MultiOutputMixin\n",
      " |      sklearn.base.RegressorMixin\n",
      " |      builtins.object\n",
      " |  \n",
      " |  Methods defined here:\n",
      " |  \n",
      " |  __init__(self, delta, sigma, *, feature_groups=None, solver='auto')\n",
      " |      Initialize self.  See help(type(self)) for accurate signature.\n",
      " |  \n",
      " |  fit(self, X, y, sample_sigmas=None)\n",
      " |  \n",
      " |  predict(self, X)\n",
      " |  \n",
      " |  ----------------------------------------------------------------------\n",
      " |  Methods inherited from sklearn.base.BaseEstimator:\n",
      " |  \n",
      " |  __getstate__(self)\n",
      " |  \n",
      " |  __repr__(self, N_CHAR_MAX=700)\n",
      " |      Return repr(self).\n",
      " |  \n",
      " |  __setstate__(self, state)\n",
      " |  \n",
      " |  get_params(self, deep=True)\n",
      " |      Get parameters for this estimator.\n",
      " |      \n",
      " |      Parameters\n",
      " |      ----------\n",
      " |      deep : bool, default=True\n",
      " |          If True, will return the parameters for this estimator and\n",
      " |          contained subobjects that are estimators.\n",
      " |      \n",
      " |      Returns\n",
      " |      -------\n",
      " |      params : dict\n",
      " |          Parameter names mapped to their values.\n",
      " |  \n",
      " |  set_params(self, **params)\n",
      " |      Set the parameters of this estimator.\n",
      " |      \n",
      " |      The method works on simple estimators as well as on nested objects\n",
      " |      (such as :class:`~sklearn.pipeline.Pipeline`). The latter have\n",
      " |      parameters of the form ``<component>__<parameter>`` so that it's\n",
      " |      possible to update each component of a nested object.\n",
      " |      \n",
      " |      Parameters\n",
      " |      ----------\n",
      " |      **params : dict\n",
      " |          Estimator parameters.\n",
      " |      \n",
      " |      Returns\n",
      " |      -------\n",
      " |      self : estimator instance\n",
      " |          Estimator instance.\n",
      " |  \n",
      " |  ----------------------------------------------------------------------\n",
      " |  Data descriptors inherited from sklearn.base.BaseEstimator:\n",
      " |  \n",
      " |  __dict__\n",
      " |      dictionary for instance variables (if defined)\n",
      " |  \n",
      " |  __weakref__\n",
      " |      list of weak references to the object (if defined)\n",
      " |  \n",
      " |  ----------------------------------------------------------------------\n",
      " |  Methods inherited from sklearn.base.RegressorMixin:\n",
      " |  \n",
      " |  score(self, X, y, sample_weight=None)\n",
      " |      Return the coefficient of determination of the prediction.\n",
      " |      \n",
      " |      The coefficient of determination :math:`R^2` is defined as\n",
      " |      :math:`(1 - \\frac{u}{v})`, where :math:`u` is the residual\n",
      " |      sum of squares ``((y_true - y_pred)** 2).sum()`` and :math:`v`\n",
      " |      is the total sum of squares ``((y_true - y_true.mean()) ** 2).sum()``.\n",
      " |      The best possible score is 1.0 and it can be negative (because the\n",
      " |      model can be arbitrarily worse). A constant model that always predicts\n",
      " |      the expected value of `y`, disregarding the input features, would get\n",
      " |      a :math:`R^2` score of 0.0.\n",
      " |      \n",
      " |      Parameters\n",
      " |      ----------\n",
      " |      X : array-like of shape (n_samples, n_features)\n",
      " |          Test samples. For some estimators this may be a precomputed\n",
      " |          kernel matrix or a list of generic objects instead with shape\n",
      " |          ``(n_samples, n_samples_fitted)``, where ``n_samples_fitted``\n",
      " |          is the number of samples used in the fitting for the estimator.\n",
      " |      \n",
      " |      y : array-like of shape (n_samples,) or (n_samples, n_outputs)\n",
      " |          True values for `X`.\n",
      " |      \n",
      " |      sample_weight : array-like of shape (n_samples,), default=None\n",
      " |          Sample weights.\n",
      " |      \n",
      " |      Returns\n",
      " |      -------\n",
      " |      score : float\n",
      " |          :math:`R^2` of ``self.predict(X)`` wrt. `y`.\n",
      " |      \n",
      " |      Notes\n",
      " |      -----\n",
      " |      The :math:`R^2` score used when calling ``score`` on a regressor uses\n",
      " |      ``multioutput='uniform_average'`` from version 0.23 to keep consistent\n",
      " |      with default value of :func:`~sklearn.metrics.r2_score`.\n",
      " |      This influences the ``score`` method of all the multioutput\n",
      " |      regressors (except for\n",
      " |      :class:`~sklearn.multioutput.MultiOutputRegressor`).\n",
      "\n"
     ]
    }
   ],
   "source": [
    "help(AtomRidge)"
   ]
  },
  {
   "cell_type": "code",
   "execution_count": 4,
   "metadata": {},
   "outputs": [
    {
     "ename": "SyntaxError",
     "evalue": "invalid syntax (<ipython-input-4-ff0087a4ad30>, line 1)",
     "output_type": "error",
     "traceback": [
      "\u001b[0;36m  File \u001b[0;32m\"<ipython-input-4-ff0087a4ad30>\"\u001b[0;36m, line \u001b[0;32m1\u001b[0m\n\u001b[0;31m    from skcosmo.model_selection import\u001b[0m\n\u001b[0m                                        ^\u001b[0m\n\u001b[0;31mSyntaxError\u001b[0m\u001b[0;31m:\u001b[0m invalid syntax\n"
     ]
    }
   ],
   "source": [
    "from skcosmo.model_selection import "
   ]
  },
  {
   "cell_type": "code",
   "execution_count": 5,
   "metadata": {
    "tags": []
   },
   "outputs": [
    {
     "name": "stdout",
     "output_type": "stream",
     "text": [
      "Help on function atom_groups_by_frame in module skcosmo.model_selection._split:\n",
      "\n",
      "atom_groups_by_frame(frames)\n",
      "    Creates a list of group IDs associated with a series of ASE frames that\n",
      "    point to the frame each atom center belongs to. If present, does the indexing\n",
      "    referring only to the atoms selected by the `center_atoms_mask` array.\n",
      "    \n",
      "    Parameters\n",
      "    ----------\n",
      "    frames: list of ASE atom frames, used to infer the indexing of atoms to frames.\n",
      "            all the atoms with `center_atom_mask[i] = True` are considered to be\n",
      "            active - i.e. the targets will contain a list of all such atoms, in the\n",
      "            same order as they appear in the frames.\n",
      "    \n",
      "    Returns\n",
      "    -------\n",
      "    groups: frame IDs for all the active atoms in the data set\n",
      "\n"
     ]
    }
   ],
   "source": [
    "help(atom_groups_by_frame)"
   ]
  },
  {
   "cell_type": "code",
   "execution_count": 6,
   "metadata": {},
   "outputs": [
    {
     "name": "stdout",
     "output_type": "stream",
     "text": [
      "Help on function fit in module skcosmo.linear_model._atom_ridge:\n",
      "\n",
      "fit(self, X, y, sample_sigmas=None)\n",
      "\n"
     ]
    }
   ],
   "source": [
    "help(AtomRidge.fit)"
   ]
  },
  {
   "cell_type": "code",
   "execution_count": 7,
   "metadata": {
    "tags": []
   },
   "outputs": [
    {
     "name": "stdout",
     "output_type": "stream",
     "text": [
      "Help on function train_test_split_by_frame in module skcosmo.model_selection._split:\n",
      "\n",
      "train_test_split_by_frame(frames, *arrays, **options)\n",
      "    Splits a dataset of atom-centered data into train and test sets along\n",
      "    frame boundaries, using GroupShuffleSplit and atom_groups_by_frame to\n",
      "    determine the list of frame IDs of each atomic center. Also returns a\n",
      "    list of frame IDs for each of the train and test samples, that can be\n",
      "    used to further keep the frames together in CV folding.\n",
      "    \n",
      "    Parameters\n",
      "    ----------\n",
      "    frames: list of ASE atom frames, used to infer frame indexing (see also\n",
      "            `atom_groups_by_frame`\n",
      "    \n",
      "    *arrays, **options: arrays to perform the splitting, will be passed as\n",
      "            arguments to GroupShuffleSplit\n",
      "    \n",
      "    Returns\n",
      "    -------\n",
      "    [train, test, ...], group_train, group_test :\n",
      "            sequence of (train, test) splits of each array, plus the split of\n",
      "            the frame IDs\n",
      "\n"
     ]
    }
   ],
   "source": [
    "help(train_test_split_by_frame)"
   ]
  },
  {
   "cell_type": "code",
   "execution_count": 6,
   "metadata": {},
   "outputs": [],
   "source": [
    "frames = read(\"./train_tensor/CSD-3k+S546_shift_tensors.xyz\",\":\")\n",
    "clean_frames = []\n",
    "for f in frames:\n",
    "    if f.info['STATUS'] == 'PASSING':\n",
    "        clean_frames.append(f)\n",
    "    else:\n",
    "        pass\n",
    "        #print(f.info['NAME'], f.info['STATUS'])"
   ]
  },
  {
   "cell_type": "code",
   "execution_count": 9,
   "metadata": {
    "collapsed": true,
    "jupyter": {
     "outputs_hidden": true
    },
    "tags": []
   },
   "outputs": [
    {
     "data": {
      "text/plain": [
       "{'numbers': array([7, 7, 7, 7, 8, 8, 8, 8, 6, 6, 6, 6, 6, 6, 6, 6, 6, 6, 6, 6, 6, 6,\n",
       "        6, 6, 6, 6, 6, 6, 1, 1, 1, 1, 1, 1, 1, 1, 1, 1, 1, 1, 1, 1, 1, 1,\n",
       "        1, 1, 1, 1]),\n",
       " 'positions': array([[4.20583137e+00, 1.25509489e+00, 3.87305102e+00],\n",
       "        [1.09878552e+01, 1.64241627e+00, 1.73096237e+00],\n",
       "        [9.35821623e+00, 4.15260604e+00, 4.53296907e+00],\n",
       "        [2.57619243e+00, 4.53992742e+00, 1.07104433e+00],\n",
       "        [4.79432114e+00, 2.10391940e-01, 1.89885815e+00],\n",
       "        [1.15763449e+01, 2.68711921e+00, 3.70515524e+00],\n",
       "        [8.76972646e+00, 3.10790310e+00, 9.03148550e-01],\n",
       "        [1.98770266e+00, 5.58463037e+00, 4.70086485e+00],\n",
       "        [4.95197606e+00, 1.17802397e+00, 2.68591201e+00],\n",
       "        [1.17339999e+01, 1.71947362e+00, 2.91810138e+00],\n",
       "        [8.61207154e+00, 4.07553512e+00, 1.16094680e-01],\n",
       "        [1.83004774e+00, 4.61698478e+00, 5.48793227e+00],\n",
       "        [5.86558249e+00, 2.27275112e+00, 2.47581848e+00],\n",
       "        [1.26476063e+01, 6.24760030e-01, 3.12820848e+00],\n",
       "        [7.69846511e+00, 5.17026228e+00, 3.26201780e-01],\n",
       "        [9.16441310e-01, 3.52227119e+00, 5.27782518e+00],\n",
       "        [5.94175818e+00, 3.31845781e+00, 3.37617283e+00],\n",
       "        [1.27237820e+01, 5.37407566e+00, 2.22784056e+00],\n",
       "        [7.62228942e+00, 4.20946650e-01, 5.02986082e+00],\n",
       "        [8.40265620e-01, 2.47656450e+00, 5.74166130e-01],\n",
       "        [5.14588768e+00, 3.33767806e+00, 4.54742834e+00],\n",
       "        [1.19279115e+01, 5.35484184e+00, 1.05658505e+00],\n",
       "        [8.41815991e+00, 4.40166910e-01, 3.85859175e+00],\n",
       "        [1.63613611e+00, 2.45733068e+00, 1.74542164e+00],\n",
       "        [4.28815157e+00, 2.28181191e+00, 4.75878333e+00],\n",
       "        [1.10701754e+01, 6.15699250e-01, 8.45243630e-01],\n",
       "        [9.27589602e+00, 5.17932306e+00, 3.64725032e+00],\n",
       "        [2.49387223e+00, 3.51321040e+00, 1.95676307e+00],\n",
       "        [3.47684519e+00, 5.38302790e-01, 4.06979753e+00],\n",
       "        [1.02588690e+01, 2.35920836e+00, 1.53422942e+00],\n",
       "        [1.00872024e+01, 3.43581395e+00, 4.33623612e+00],\n",
       "        [3.30517861e+00, 5.25671952e+00, 1.26777727e+00],\n",
       "        [6.52415769e+00, 2.22324235e+00, 1.61047294e+00],\n",
       "        [1.33061815e+01, 6.74268810e-01, 3.99354046e+00],\n",
       "        [7.03988991e+00, 5.12075350e+00, 1.19153376e+00],\n",
       "        [2.57866110e-01, 3.57177996e+00, 4.41249320e+00],\n",
       "        [6.64849931e+00, 4.12914024e+00, 3.19205445e+00],\n",
       "        [1.34305231e+01, 4.56339322e+00, 2.41197251e+00],\n",
       "        [6.91554828e+00, 1.23162909e+00, 5.21397920e+00],\n",
       "        [1.33524480e-01, 1.66588207e+00, 3.90047750e-01],\n",
       "        [5.21585104e+00, 4.14012712e+00, 5.27471901e+00],\n",
       "        [1.19978748e+01, 4.55240635e+00, 3.29307950e-01],\n",
       "        [8.34819655e+00, 1.24261596e+00, 3.13131464e+00],\n",
       "        [1.56617276e+00, 1.65489519e+00, 2.47271231e+00],\n",
       "        [3.62208901e+00, 2.19511051e+00, 1.23161600e-02],\n",
       "        [1.04041128e+01, 7.02400640e-01, 5.59169724e+00],\n",
       "        [9.94195858e+00, 5.09262167e+00, 2.78969054e+00],\n",
       "        [3.15993478e+00, 3.59991180e+00, 2.81433642e+00]]),\n",
       " 'cs_tensor': array([[ 6.134220e+01, -1.013244e+02,  4.790300e+01, -1.050865e+02,\n",
       "         -1.369840e+01, -3.422440e+01,  3.546350e+01, -5.488320e+01,\n",
       "          6.002970e+01],\n",
       "        [ 6.134220e+01,  1.013244e+02, -4.790300e+01,  1.050865e+02,\n",
       "         -1.369840e+01, -3.422440e+01, -3.546350e+01, -5.488320e+01,\n",
       "          6.002970e+01],\n",
       "        [ 6.134220e+01,  1.013244e+02,  4.790300e+01,  1.050865e+02,\n",
       "         -1.369840e+01,  3.422440e+01,  3.546350e+01,  5.488320e+01,\n",
       "          6.002970e+01],\n",
       "        [ 6.134220e+01, -1.013244e+02, -4.790300e+01, -1.050865e+02,\n",
       "         -1.369840e+01,  3.422440e+01, -3.546350e+01,  5.488320e+01,\n",
       "          6.002970e+01],\n",
       "        [ 1.014164e+02, -1.379255e+02,  1.089492e+02, -1.303350e+02,\n",
       "         -2.855410e+01, -1.260561e+02,  1.181770e+02, -1.493661e+02,\n",
       "         -6.556990e+01],\n",
       "        [ 1.014164e+02,  1.379255e+02, -1.089492e+02,  1.303350e+02,\n",
       "         -2.855410e+01, -1.260561e+02, -1.181770e+02, -1.493661e+02,\n",
       "         -6.556990e+01],\n",
       "        [ 1.014164e+02,  1.379255e+02,  1.089492e+02,  1.303350e+02,\n",
       "         -2.855410e+01,  1.260561e+02,  1.181770e+02,  1.493661e+02,\n",
       "         -6.556990e+01],\n",
       "        [ 1.014164e+02, -1.379255e+02, -1.089492e+02, -1.303350e+02,\n",
       "         -2.855410e+01,  1.260561e+02, -1.181770e+02,  1.493661e+02,\n",
       "         -6.556990e+01],\n",
       "        [ 1.172720e+01, -4.428330e+01,  6.559850e+01, -3.094130e+01,\n",
       "          2.352230e+01, -2.125810e+01,  6.603680e+01, -8.763500e+00,\n",
       "         -2.328870e+01],\n",
       "        [ 1.172720e+01,  4.428330e+01, -6.559850e+01,  3.094130e+01,\n",
       "          2.352230e+01, -2.125810e+01, -6.603680e+01, -8.763500e+00,\n",
       "         -2.328870e+01],\n",
       "        [ 1.172720e+01,  4.428330e+01,  6.559850e+01,  3.094130e+01,\n",
       "          2.352230e+01,  2.125810e+01,  6.603680e+01,  8.763500e+00,\n",
       "         -2.328870e+01],\n",
       "        [ 1.172720e+01, -4.428330e+01, -6.559850e+01, -3.094130e+01,\n",
       "          2.352230e+01,  2.125810e+01, -6.603680e+01,  8.763500e+00,\n",
       "         -2.328870e+01],\n",
       "        [ 5.448280e+01, -4.950130e+01,  7.551290e+01, -4.627910e+01,\n",
       "          5.497620e+01, -2.048560e+01,  7.705980e+01, -2.265380e+01,\n",
       "          1.972320e+01],\n",
       "        [ 5.448280e+01,  4.950130e+01, -7.551290e+01,  4.627910e+01,\n",
       "          5.497620e+01, -2.048560e+01, -7.705980e+01, -2.265380e+01,\n",
       "          1.972320e+01],\n",
       "        [ 5.448280e+01,  4.950130e+01,  7.551290e+01,  4.627910e+01,\n",
       "          5.497620e+01,  2.048560e+01,  7.705980e+01,  2.265380e+01,\n",
       "          1.972320e+01],\n",
       "        [ 5.448280e+01, -4.950130e+01, -7.551290e+01, -4.627910e+01,\n",
       "          5.497620e+01,  2.048560e+01, -7.705980e+01,  2.265380e+01,\n",
       "          1.972320e+01],\n",
       "        [ 3.626870e+01, -1.000372e+02,  8.253900e+01, -1.021894e+02,\n",
       "         -9.249000e-01, -1.727080e+01,  7.250120e+01, -2.831010e+01,\n",
       "          3.274680e+01],\n",
       "        [ 3.626870e+01,  1.000372e+02, -8.253900e+01,  1.021894e+02,\n",
       "         -9.249000e-01, -1.727080e+01, -7.250120e+01, -2.831010e+01,\n",
       "          3.274680e+01],\n",
       "        [ 3.626870e+01,  1.000372e+02,  8.253900e+01,  1.021894e+02,\n",
       "         -9.249000e-01,  1.727080e+01,  7.250120e+01,  2.831010e+01,\n",
       "          3.274680e+01],\n",
       "        [ 3.626870e+01, -1.000372e+02, -8.253900e+01, -1.021894e+02,\n",
       "         -9.249000e-01,  1.727080e+01, -7.250120e+01,  2.831010e+01,\n",
       "          3.274680e+01],\n",
       "        [ 1.131408e+02, -4.119140e+01,  4.082140e+01, -4.154820e+01,\n",
       "          2.971590e+01, -7.384250e+01,  4.418510e+01, -6.915750e+01,\n",
       "          3.149050e+01],\n",
       "        [ 1.131408e+02,  4.119140e+01, -4.082140e+01,  4.154820e+01,\n",
       "          2.971590e+01, -7.384250e+01, -4.418510e+01, -6.915750e+01,\n",
       "          3.149050e+01],\n",
       "        [ 1.131408e+02,  4.119140e+01,  4.082140e+01,  4.154820e+01,\n",
       "          2.971590e+01,  7.384250e+01,  4.418510e+01,  6.915750e+01,\n",
       "          3.149050e+01],\n",
       "        [ 1.131408e+02, -4.119140e+01, -4.082140e+01, -4.154820e+01,\n",
       "          2.971590e+01,  7.384250e+01, -4.418510e+01,  6.915750e+01,\n",
       "          3.149050e+01],\n",
       "        [ 6.266520e+01, -3.706300e+01,  7.547190e+01, -3.323870e+01,\n",
       "          3.689180e+01, -5.136940e+01,  7.511400e+01, -4.969810e+01,\n",
       "         -1.755630e+01],\n",
       "        [ 6.266520e+01,  3.706300e+01, -7.547190e+01,  3.323870e+01,\n",
       "          3.689180e+01, -5.136940e+01, -7.511400e+01, -4.969810e+01,\n",
       "         -1.755630e+01],\n",
       "        [ 6.266520e+01,  3.706300e+01,  7.547190e+01,  3.323870e+01,\n",
       "          3.689180e+01,  5.136940e+01,  7.511400e+01,  4.969810e+01,\n",
       "         -1.755630e+01],\n",
       "        [ 6.266520e+01, -3.706300e+01, -7.547190e+01, -3.323870e+01,\n",
       "          3.689180e+01,  5.136940e+01, -7.511400e+01,  4.969810e+01,\n",
       "         -1.755630e+01],\n",
       "        [ 2.187770e+01,  5.556400e+00, -4.717900e+00,  8.161300e+00,\n",
       "          1.836830e+01, -1.834300e+00, -4.681800e+00, -3.797200e+00,\n",
       "          1.492780e+01],\n",
       "        [ 2.187770e+01, -5.556400e+00,  4.717900e+00, -8.161300e+00,\n",
       "          1.836830e+01, -1.834300e+00,  4.681800e+00, -3.797200e+00,\n",
       "          1.492780e+01],\n",
       "        [ 2.187770e+01, -5.556400e+00, -4.717900e+00, -8.161300e+00,\n",
       "          1.836830e+01,  1.834300e+00, -4.681800e+00,  3.797200e+00,\n",
       "          1.492780e+01],\n",
       "        [ 2.187770e+01,  5.556400e+00,  4.717900e+00,  8.161300e+00,\n",
       "          1.836830e+01,  1.834300e+00,  4.681800e+00,  3.797200e+00,\n",
       "          1.492780e+01],\n",
       "        [ 2.415810e+01,  7.166000e-01,  1.899000e+00,  7.878000e-01,\n",
       "          2.450510e+01, -6.220000e-02, -1.333000e+00,  1.506400e+00,\n",
       "          2.418680e+01],\n",
       "        [ 2.415810e+01, -7.166000e-01, -1.899000e+00, -7.878000e-01,\n",
       "          2.450510e+01, -6.220000e-02,  1.333000e+00,  1.506400e+00,\n",
       "          2.418680e+01],\n",
       "        [ 2.415810e+01, -7.166000e-01,  1.899000e+00, -7.878000e-01,\n",
       "          2.450510e+01,  6.220000e-02, -1.333000e+00, -1.506400e+00,\n",
       "          2.418680e+01],\n",
       "        [ 2.415810e+01,  7.166000e-01, -1.899000e+00,  7.878000e-01,\n",
       "          2.450510e+01,  6.220000e-02,  1.333000e+00, -1.506400e+00,\n",
       "          2.418680e+01],\n",
       "        [ 2.473890e+01,  7.766000e-01,  3.606200e+00,  7.706000e-01,\n",
       "          2.412410e+01,  2.738800e+00, -5.329000e-01,  1.522800e+00,\n",
       "          2.525580e+01],\n",
       "        [ 2.473890e+01, -7.766000e-01, -3.606200e+00, -7.706000e-01,\n",
       "          2.412410e+01,  2.738800e+00,  5.329000e-01,  1.522800e+00,\n",
       "          2.525580e+01],\n",
       "        [ 2.473890e+01, -7.766000e-01,  3.606200e+00, -7.706000e-01,\n",
       "          2.412410e+01, -2.738800e+00, -5.329000e-01, -1.522800e+00,\n",
       "          2.525580e+01],\n",
       "        [ 2.473890e+01,  7.766000e-01, -3.606200e+00,  7.706000e-01,\n",
       "          2.412410e+01, -2.738800e+00,  5.329000e-01, -1.522800e+00,\n",
       "          2.525580e+01],\n",
       "        [ 2.657640e+01, -3.586000e-01,  2.763000e-01,  2.986500e+00,\n",
       "          2.438260e+01, -9.293000e-01, -1.482500e+00,  1.140000e-01,\n",
       "          2.418140e+01],\n",
       "        [ 2.657640e+01,  3.586000e-01, -2.763000e-01, -2.986500e+00,\n",
       "          2.438260e+01, -9.293000e-01,  1.482500e+00,  1.140000e-01,\n",
       "          2.418140e+01],\n",
       "        [ 2.657640e+01,  3.586000e-01,  2.763000e-01, -2.986500e+00,\n",
       "          2.438260e+01,  9.293000e-01, -1.482500e+00, -1.140000e-01,\n",
       "          2.418140e+01],\n",
       "        [ 2.657640e+01, -3.586000e-01, -2.763000e-01,  2.986500e+00,\n",
       "          2.438260e+01,  9.293000e-01,  1.482500e+00, -1.140000e-01,\n",
       "          2.418140e+01],\n",
       "        [ 2.557480e+01, -2.127900e+00, -1.808000e+00,  3.231000e-01,\n",
       "          2.512980e+01,  1.481000e+00, -3.868200e+00,  1.835600e+00,\n",
       "          2.450820e+01],\n",
       "        [ 2.557480e+01,  2.127900e+00,  1.808000e+00, -3.231000e-01,\n",
       "          2.512980e+01,  1.481000e+00,  3.868200e+00,  1.835600e+00,\n",
       "          2.450820e+01],\n",
       "        [ 2.557480e+01,  2.127900e+00, -1.808000e+00, -3.231000e-01,\n",
       "          2.512980e+01, -1.481000e+00, -3.868200e+00, -1.835600e+00,\n",
       "          2.450820e+01],\n",
       "        [ 2.557480e+01, -2.127900e+00,  1.808000e+00,  3.231000e-01,\n",
       "          2.512980e+01, -1.481000e+00,  3.868200e+00, -1.835600e+00,\n",
       "          2.450820e+01]]),\n",
       " 'cs_iso': array([35.89, 35.89, 35.89, 35.89,  2.43,  2.43,  2.43,  2.43,  3.99,\n",
       "         3.99,  3.99,  3.99, 43.06, 43.06, 43.06, 43.06, 22.7 , 22.7 ,\n",
       "        22.7 , 22.7 , 58.12, 58.12, 58.12, 58.12, 27.33, 27.33, 27.33,\n",
       "        27.33, 18.39, 18.39, 18.39, 18.39, 24.28, 24.28, 24.28, 24.28,\n",
       "        24.71, 24.71, 24.71, 24.71, 25.05, 25.05, 25.05, 25.05, 25.07,\n",
       "        25.07, 25.07, 25.07])}"
      ]
     },
     "execution_count": 9,
     "metadata": {},
     "output_type": "execute_result"
    }
   ],
   "source": [
    "frames[0].arrays"
   ]
  },
  {
   "cell_type": "code",
   "execution_count": null,
   "metadata": {},
   "outputs": [],
   "source": []
  },
  {
   "cell_type": "code",
   "execution_count": 9,
   "metadata": {},
   "outputs": [
    {
     "data": {
      "text/plain": [
       "3546"
      ]
     },
     "execution_count": 9,
     "metadata": {},
     "output_type": "execute_result"
    }
   ],
   "source": [
    "len(frames)"
   ]
  },
  {
   "cell_type": "code",
   "execution_count": 5,
   "metadata": {},
   "outputs": [],
   "source": [
    "%config IPCompleter.use_jedi = False"
   ]
  },
  {
   "cell_type": "code",
   "execution_count": 8,
   "metadata": {},
   "outputs": [],
   "source": [
    "from nice.utilities import get_all_species"
   ]
  },
  {
   "cell_type": "code",
   "execution_count": null,
   "metadata": {},
   "outputs": [],
   "source": [
    "for atom_number in all_atom_numbers:\n",
    "    # get bindicts\n",
    "    # get features\n",
    "    # then do feature selection:\n",
    "    # get absolut IDs as feature_IDs\n",
    "    # build dict that containes entries of {feature_ID:FRAME}\n",
    "    # "
   ]
  },
  {
   "cell_type": "code",
   "execution_count": 31,
   "metadata": {},
   "outputs": [
    {
     "data": {
      "text/plain": [
       "array([7, 7, 7, 7, 8, 8, 8, 8, 6, 6, 6, 6, 6, 6, 6, 6, 6, 6, 6, 6, 6, 6,\n",
       "       6, 6, 6, 6, 6, 6, 1, 1, 1, 1, 1, 1, 1, 1, 1, 1, 1, 1, 1, 1, 1, 1,\n",
       "       1, 1, 1, 1])"
      ]
     },
     "execution_count": 31,
     "metadata": {},
     "output_type": "execute_result"
    }
   ],
   "source": [
    "frames[0].numbers"
   ]
  },
  {
   "cell_type": "code",
   "execution_count": 145,
   "metadata": {},
   "outputs": [],
   "source": []
  },
  {
   "cell_type": "code",
   "execution_count": 209,
   "metadata": {},
   "outputs": [],
   "source": [
    "atomic_numbers = np.concatenate([frame.numbers for frame in frames[-100:]])\n",
    "all_species = np.unique(atomic_numbers).tolist()"
   ]
  },
  {
   "cell_type": "code",
   "execution_count": 210,
   "metadata": {},
   "outputs": [
    {
     "data": {
      "text/plain": [
       "[1, 6, 7, 8, 16]"
      ]
     },
     "execution_count": 210,
     "metadata": {},
     "output_type": "execute_result"
    }
   ],
   "source": [
    "all_species"
   ]
  },
  {
   "cell_type": "code",
   "execution_count": 4,
   "metadata": {},
   "outputs": [],
   "source": [
    "i_selected = np.array([1,2,3,4,5,6,7,8,370])\n",
    "selected_ids = i_selected\n",
    "\n",
    "\n",
    "def return_relative_inds(frames, selected_ids, atom_type):\n",
    "    #TODO: Test this!\n",
    "    \"\"\"helper function that returns a numpy array of shape (N_environments_selected, 2)\n",
    "       entries contain CSD identifier and \n",
    "    \"\"\"\n",
    "    \n",
    "    accum_numbers = np.array([len(frame) for frame in frames])\n",
    "\n",
    "    #bins with accumulated count of atomic environments\n",
    "    bins = np.cumsum(accum_numbers)\n",
    "\n",
    "    #array with atomic indices\n",
    "    frame_names = np.array([frame.info[\"NAME\"] for frame in frames])\n",
    "\n",
    "    #atomic numbers of all the cumulated atomic environments\n",
    "    atomic_numbers = np.concatenate([frame.numbers for frame in frames]) \n",
    "\n",
    "    #atomic numbers split environments \n",
    "    all_species = np.unique(atomic_numbers).tolist()\n",
    "    number_loc = {i: np.where(atomic_numbers == i)[0] for i in all_species}\n",
    "\n",
    "    #we get from a X_raw of one atomtype of environment the selected ids (atom_type, selected_ids)\n",
    "    #first, we convert them into total ids:\n",
    "    number_loc_absolute = number_loc[atom_type][selected_ids]\n",
    "\n",
    "    #now convert them into binned environments\n",
    "    in_bin = np.digitize(number_loc_absolute, bins)\n",
    "    in_bin_names = frame_names[in_bin]\n",
    "\n",
    "    #what is left are relative selections within structure (1st in structure A, 0th in structure B)\n",
    "    #how to? substract in bin[0] with 0, substract in bin[1] with accum[0] in bin[2] with accum[1] etc....\n",
    "    #add accum_numbers_bin[0] to all\n",
    "\n",
    "    #find a better solution for this, this is not smart\n",
    "    bins_concat = np.concatenate([np.array([0]),bins])\n",
    "    inds_relative = number_loc_absolute - bins_concat[in_bin]\n",
    "\n",
    "    #finally return dict/np.array with the selected ids\n",
    "    return np.vstack((in_bin_names,inds_relative)).T\n"
   ]
  },
  {
   "cell_type": "code",
   "execution_count": 223,
   "metadata": {},
   "outputs": [
    {
     "data": {
      "text/plain": [
       "3430"
      ]
     },
     "execution_count": 223,
     "metadata": {},
     "output_type": "execute_result"
    }
   ],
   "source": [
    "len(clean_frames)"
   ]
  },
  {
   "cell_type": "code",
   "execution_count": 222,
   "metadata": {},
   "outputs": [
    {
     "ename": "IndexError",
     "evalue": "index 800 is out of bounds for axis 0 with size 750",
     "output_type": "error",
     "traceback": [
      "\u001b[0;31m---------------------------------------------------------------------------\u001b[0m",
      "\u001b[0;31mIndexError\u001b[0m                                Traceback (most recent call last)",
      "\u001b[0;32m<ipython-input-222-c2ed34466082>\u001b[0m in \u001b[0;36m<module>\u001b[0;34m\u001b[0m\n\u001b[0;32m----> 1\u001b[0;31m \u001b[0mreturn_relative_inds\u001b[0m\u001b[0;34m(\u001b[0m\u001b[0mclean_frames\u001b[0m\u001b[0;34m[\u001b[0m\u001b[0;34m-\u001b[0m\u001b[0;36m100\u001b[0m\u001b[0;34m:\u001b[0m\u001b[0;34m]\u001b[0m\u001b[0;34m,\u001b[0m \u001b[0;34m[\u001b[0m\u001b[0;36m1\u001b[0m\u001b[0;34m,\u001b[0m\u001b[0;36m50\u001b[0m\u001b[0;34m,\u001b[0m\u001b[0;36m500\u001b[0m\u001b[0;34m,\u001b[0m\u001b[0;36m800\u001b[0m\u001b[0;34m]\u001b[0m\u001b[0;34m,\u001b[0m \u001b[0;36m8\u001b[0m\u001b[0;34m)\u001b[0m\u001b[0;34m\u001b[0m\u001b[0;34m\u001b[0m\u001b[0m\n\u001b[0m",
      "\u001b[0;32m<ipython-input-203-72b8d6066e1b>\u001b[0m in \u001b[0;36mreturn_relative_inds\u001b[0;34m(frames, selected_ids, atom_type)\u001b[0m\n\u001b[1;32m     21\u001b[0m     \u001b[0;31m#we get from a X_raw of one atomtype of environment the selected ids (atom_type, selected_ids)\u001b[0m\u001b[0;34m\u001b[0m\u001b[0;34m\u001b[0m\u001b[0;34m\u001b[0m\u001b[0m\n\u001b[1;32m     22\u001b[0m     \u001b[0;31m#first, we convert them into total ids:\u001b[0m\u001b[0;34m\u001b[0m\u001b[0;34m\u001b[0m\u001b[0;34m\u001b[0m\u001b[0m\n\u001b[0;32m---> 23\u001b[0;31m     \u001b[0mnumber_loc_absolute\u001b[0m \u001b[0;34m=\u001b[0m \u001b[0mnumber_loc\u001b[0m\u001b[0;34m[\u001b[0m\u001b[0matom_type\u001b[0m\u001b[0;34m]\u001b[0m\u001b[0;34m[\u001b[0m\u001b[0mselected_ids\u001b[0m\u001b[0;34m]\u001b[0m\u001b[0;34m\u001b[0m\u001b[0;34m\u001b[0m\u001b[0m\n\u001b[0m\u001b[1;32m     24\u001b[0m \u001b[0;34m\u001b[0m\u001b[0m\n\u001b[1;32m     25\u001b[0m     \u001b[0;31m#now convert them into binned environments\u001b[0m\u001b[0;34m\u001b[0m\u001b[0;34m\u001b[0m\u001b[0;34m\u001b[0m\u001b[0m\n",
      "\u001b[0;31mIndexError\u001b[0m: index 800 is out of bounds for axis 0 with size 750"
     ]
    }
   ],
   "source": [
    "return_relative_inds(clean_frames[-100:], [1,50,500,800], 8)"
   ]
  },
  {
   "cell_type": "code",
   "execution_count": 221,
   "metadata": {},
   "outputs": [
    {
     "data": {
      "text/plain": [
       "array([['PYRIDO04', '29'],\n",
       "       ['PYRIDO04', '30'],\n",
       "       ['PYRIDO04', '31'],\n",
       "       ['PYRIDO04', '32'],\n",
       "       ['PYRIDO04', '33'],\n",
       "       ['PYRIDO04', '34'],\n",
       "       ['PYRIDO04', '35'],\n",
       "       ['PYRIDO04', '36'],\n",
       "       ['DAZVEF', '60']], dtype='<U21')"
      ]
     },
     "execution_count": 221,
     "metadata": {},
     "output_type": "execute_result"
    }
   ],
   "source": [
    "return_relative_inds(clean_frames, i_selected, 1)"
   ]
  },
  {
   "cell_type": "code",
   "execution_count": 200,
   "metadata": {},
   "outputs": [
    {
     "data": {
      "text/plain": [
       "array([['PYRIDO04', '29'],\n",
       "       ['PYRIDO04', '30'],\n",
       "       ['PYRIDO04', '31'],\n",
       "       ['PYRIDO04', '32'],\n",
       "       ['PYRIDO04', '33'],\n",
       "       ['PYRIDO04', '34'],\n",
       "       ['PYRIDO04', '35'],\n",
       "       ['PYRIDO04', '36'],\n",
       "       ['DAZVEF', '60']], dtype='<U21')"
      ]
     },
     "execution_count": 200,
     "metadata": {},
     "output_type": "execute_result"
    }
   ],
   "source": [
    "struct_name_relative_ind"
   ]
  },
  {
   "cell_type": "code",
   "execution_count": 202,
   "metadata": {},
   "outputs": [
    {
     "data": {
      "text/plain": [
       "Atom('H', [3.99426644, 9.937785740000002, 7.10353254], index=60)"
      ]
     },
     "execution_count": 202,
     "metadata": {},
     "output_type": "execute_result"
    }
   ],
   "source": [
    "frames[8][60]"
   ]
  },
  {
   "cell_type": "code",
   "execution_count": 160,
   "metadata": {},
   "outputs": [
    {
     "data": {
      "text/plain": [
       "array([29, 30, 31, 32, 33, 34, 35, 36, 70])"
      ]
     },
     "execution_count": 160,
     "metadata": {},
     "output_type": "execute_result"
    }
   ],
   "source": [
    "inds_relative"
   ]
  },
  {
   "cell_type": "code",
   "execution_count": 147,
   "metadata": {},
   "outputs": [
    {
     "data": {
      "text/plain": [
       "array([     0,     48,    118, ..., 340743, 340817, 340941])"
      ]
     },
     "execution_count": 147,
     "metadata": {},
     "output_type": "execute_result"
    }
   ],
   "source": [
    "bins_concat"
   ]
  },
  {
   "cell_type": "code",
   "execution_count": 136,
   "metadata": {},
   "outputs": [
    {
     "data": {
      "text/plain": [
       "array([ 29,  30,  31,  32,  33,  34,  35,  36, 880])"
      ]
     },
     "execution_count": 136,
     "metadata": {},
     "output_type": "execute_result"
    }
   ],
   "source": [
    "number_loc_absolute"
   ]
  },
  {
   "cell_type": "code",
   "execution_count": 137,
   "metadata": {},
   "outputs": [
    {
     "data": {
      "text/plain": [
       "array([-1, -1, -1, -1, -1, -1, -1, -1,  6])"
      ]
     },
     "execution_count": 137,
     "metadata": {},
     "output_type": "execute_result"
    }
   ],
   "source": [
    "in_bin-1"
   ]
  },
  {
   "cell_type": "code",
   "execution_count": 132,
   "metadata": {},
   "outputs": [
    {
     "data": {
      "text/plain": [
       "array([ 48,  48,  48,  48,  48,  48,  48,  48, 940])"
      ]
     },
     "execution_count": 132,
     "metadata": {},
     "output_type": "execute_result"
    }
   ],
   "source": [
    "bins[in_bin]"
   ]
  },
  {
   "cell_type": "code",
   "execution_count": 127,
   "metadata": {},
   "outputs": [
    {
     "data": {
      "text/plain": [
       "48"
      ]
     },
     "execution_count": 127,
     "metadata": {},
     "output_type": "execute_result"
    }
   ],
   "source": [
    "accum_numbers[0]"
   ]
  },
  {
   "cell_type": "code",
   "execution_count": 138,
   "metadata": {},
   "outputs": [
    {
     "data": {
      "text/plain": [
       "array([ 29,  30,  31,  32,  33,  34,  35,  36, 880])"
      ]
     },
     "execution_count": 138,
     "metadata": {},
     "output_type": "execute_result"
    }
   ],
   "source": [
    "number_loc_absolute"
   ]
  },
  {
   "cell_type": "code",
   "execution_count": 125,
   "metadata": {},
   "outputs": [
    {
     "data": {
      "text/plain": [
       "array(['PYRIDO04', 'PYRIDO04', 'PYRIDO04', 'PYRIDO04', 'PYRIDO04',\n",
       "       'PYRIDO04', 'PYRIDO04', 'PYRIDO04', 'FEHCUQ'], dtype='<U8')"
      ]
     },
     "execution_count": 125,
     "metadata": {},
     "output_type": "execute_result"
    }
   ],
   "source": [
    "in_bin_names"
   ]
  },
  {
   "cell_type": "code",
   "execution_count": 144,
   "metadata": {},
   "outputs": [
    {
     "data": {
      "text/plain": [
       "array([ 29,  30,  31,  32,  33,  34,  35,  36, 136])"
      ]
     },
     "execution_count": 144,
     "metadata": {},
     "output_type": "execute_result"
    }
   ],
   "source": [
    "inds_relative"
   ]
  },
  {
   "cell_type": "code",
   "execution_count": 121,
   "metadata": {},
   "outputs": [
    {
     "data": {
      "text/plain": [
       "array([ 29,  30,  31,  32,  33,  34,  35,  36, 890])"
      ]
     },
     "execution_count": 121,
     "metadata": {},
     "output_type": "execute_result"
    }
   ],
   "source": [
    "number_loc_absolute"
   ]
  },
  {
   "cell_type": "code",
   "execution_count": 98,
   "metadata": {},
   "outputs": [
    {
     "data": {
      "text/plain": [
       "list"
      ]
     },
     "execution_count": 98,
     "metadata": {},
     "output_type": "execute_result"
    }
   ],
   "source": [
    "type(accum_numbers)"
   ]
  },
  {
   "cell_type": "code",
   "execution_count": 97,
   "metadata": {},
   "outputs": [
    {
     "ename": "TypeError",
     "evalue": "only integer scalar arrays can be converted to a scalar index",
     "output_type": "error",
     "traceback": [
      "\u001b[0;31m---------------------------------------------------------------------------\u001b[0m",
      "\u001b[0;31mTypeError\u001b[0m                                 Traceback (most recent call last)",
      "\u001b[0;32m<ipython-input-97-6f0a7a13df7e>\u001b[0m in \u001b[0;36m<module>\u001b[0;34m\u001b[0m\n\u001b[0;32m----> 1\u001b[0;31m \u001b[0maccum_numbers\u001b[0m\u001b[0;34m[\u001b[0m\u001b[0min_bin\u001b[0m\u001b[0;34m.\u001b[0m\u001b[0mastype\u001b[0m\u001b[0;34m(\u001b[0m\u001b[0;34m\"int\"\u001b[0m\u001b[0;34m)\u001b[0m\u001b[0;34m]\u001b[0m\u001b[0;34m\u001b[0m\u001b[0;34m\u001b[0m\u001b[0m\n\u001b[0m",
      "\u001b[0;31mTypeError\u001b[0m: only integer scalar arrays can be converted to a scalar index"
     ]
    }
   ],
   "source": [
    "accum_numbers[in_bin.astype(\"int\")]"
   ]
  },
  {
   "cell_type": "code",
   "execution_count": 88,
   "metadata": {},
   "outputs": [
    {
     "data": {
      "text/plain": [
       "dtype('int64')"
      ]
     },
     "execution_count": 88,
     "metadata": {},
     "output_type": "execute_result"
    }
   ],
   "source": [
    "in_bin.dtype"
   ]
  },
  {
   "cell_type": "code",
   "execution_count": 89,
   "metadata": {},
   "outputs": [
    {
     "data": {
      "text/plain": [
       "48"
      ]
     },
     "execution_count": 89,
     "metadata": {},
     "output_type": "execute_result"
    }
   ],
   "source": [
    "accum_numbers[0]"
   ]
  },
  {
   "cell_type": "code",
   "execution_count": 76,
   "metadata": {},
   "outputs": [
    {
     "data": {
      "text/plain": [
       "'TUHHUZ'"
      ]
     },
     "execution_count": 76,
     "metadata": {},
     "output_type": "execute_result"
    }
   ],
   "source": [
    "selection"
   ]
  },
  {
   "cell_type": "code",
   "execution_count": 73,
   "metadata": {},
   "outputs": [
    {
     "data": {
      "text/plain": [
       "array([ 1,  6,  7,  8, 16])"
      ]
     },
     "execution_count": 73,
     "metadata": {},
     "output_type": "execute_result"
    }
   ],
   "source": [
    "np.unique(atomic_numbers)"
   ]
  },
  {
   "cell_type": "code",
   "execution_count": 57,
   "metadata": {},
   "outputs": [
    {
     "data": {
      "text/plain": [
       "array(['PYRIDO04', 'PYRIDO04', 'PYRIDO04', 'PYRIDO04', 'PYRIDO04',\n",
       "       'PYRIDO04', 'PYRIDO04', 'PYRIDO04'], dtype='<U8')"
      ]
     },
     "execution_count": 57,
     "metadata": {},
     "output_type": "execute_result"
    }
   ],
   "source": [
    "frame_names[in_bin]"
   ]
  },
  {
   "cell_type": "code",
   "execution_count": 49,
   "metadata": {},
   "outputs": [
    {
     "data": {
      "text/plain": [
       "array([    48,    118,    226, ..., 340743, 340817, 340941])"
      ]
     },
     "execution_count": 49,
     "metadata": {},
     "output_type": "execute_result"
    }
   ],
   "source": [
    "np.cumsum(accum_numbers)"
   ]
  },
  {
   "cell_type": "code",
   "execution_count": 48,
   "metadata": {},
   "outputs": [
    {
     "data": {
      "text/plain": [
       "3546"
      ]
     },
     "execution_count": 48,
     "metadata": {},
     "output_type": "execute_result"
    }
   ],
   "source": [
    "len(accum_numbers)"
   ]
  },
  {
   "cell_type": "code",
   "execution_count": 45,
   "metadata": {},
   "outputs": [
    {
     "data": {
      "text/plain": [
       "3546"
      ]
     },
     "execution_count": 45,
     "metadata": {},
     "output_type": "execute_result"
    }
   ],
   "source": [
    "len(frames)"
   ]
  },
  {
   "cell_type": "code",
   "execution_count": 7,
   "metadata": {},
   "outputs": [
    {
     "ename": "ValueError",
     "evalue": "not enough values to unpack (expected 2, got 1)",
     "output_type": "error",
     "traceback": [
      "\u001b[0;31m---------------------------------------------------------------------------\u001b[0m",
      "\u001b[0;31mValueError\u001b[0m                                Traceback (most recent call last)",
      "\u001b[0;32m/tmp/ipykernel_31983/1429657144.py\u001b[0m in \u001b[0;36m<module>\u001b[0;34m\u001b[0m\n\u001b[1;32m      1\u001b[0m \u001b[0mbindict\u001b[0m \u001b[0;34m=\u001b[0m \u001b[0;34m{\u001b[0m\u001b[0mframe\u001b[0m\u001b[0;34m.\u001b[0m\u001b[0minfo\u001b[0m\u001b[0;34m[\u001b[0m\u001b[0;34m\"NAME\"\u001b[0m\u001b[0;34m]\u001b[0m\u001b[0;34m:\u001b[0m\u001b[0;34m[\u001b[0m\u001b[0;34m]\u001b[0m \u001b[0;32mfor\u001b[0m \u001b[0mframe\u001b[0m \u001b[0;32min\u001b[0m \u001b[0mframes\u001b[0m\u001b[0;34m}\u001b[0m \u001b[0;31m#dict with all the frames\u001b[0m\u001b[0;34m\u001b[0m\u001b[0;34m\u001b[0m\u001b[0m\n\u001b[0;32m----> 2\u001b[0;31m \u001b[0mselected_to_frame\u001b[0m \u001b[0;34m=\u001b[0m \u001b[0;34m{\u001b[0m \u001b[0mnumber\u001b[0m \u001b[0;34m:\u001b[0m \u001b[0mframe\u001b[0m\u001b[0;34m.\u001b[0m\u001b[0minfo\u001b[0m\u001b[0;34m[\u001b[0m\u001b[0;34m\"NAME\"\u001b[0m\u001b[0;34m]\u001b[0m \u001b[0;32mfor\u001b[0m \u001b[0mn\u001b[0m\u001b[0;34m,\u001b[0m \u001b[0mframe\u001b[0m \u001b[0;32min\u001b[0m \u001b[0mzip\u001b[0m\u001b[0;34m(\u001b[0m\u001b[0mframes\u001b[0m\u001b[0;34m)\u001b[0m \u001b[0;32mfor\u001b[0m \u001b[0mnumber\u001b[0m \u001b[0;32min\u001b[0m \u001b[0mlen\u001b[0m\u001b[0;34m(\u001b[0m\u001b[0mframe\u001b[0m\u001b[0;34m)\u001b[0m \u001b[0;34m}\u001b[0m\u001b[0;34m\u001b[0m\u001b[0;34m\u001b[0m\u001b[0m\n\u001b[0m",
      "\u001b[0;32m/tmp/ipykernel_31983/1429657144.py\u001b[0m in \u001b[0;36m<dictcomp>\u001b[0;34m(.0)\u001b[0m\n\u001b[1;32m      1\u001b[0m \u001b[0mbindict\u001b[0m \u001b[0;34m=\u001b[0m \u001b[0;34m{\u001b[0m\u001b[0mframe\u001b[0m\u001b[0;34m.\u001b[0m\u001b[0minfo\u001b[0m\u001b[0;34m[\u001b[0m\u001b[0;34m\"NAME\"\u001b[0m\u001b[0;34m]\u001b[0m\u001b[0;34m:\u001b[0m\u001b[0;34m[\u001b[0m\u001b[0;34m]\u001b[0m \u001b[0;32mfor\u001b[0m \u001b[0mframe\u001b[0m \u001b[0;32min\u001b[0m \u001b[0mframes\u001b[0m\u001b[0;34m}\u001b[0m \u001b[0;31m#dict with all the frames\u001b[0m\u001b[0;34m\u001b[0m\u001b[0;34m\u001b[0m\u001b[0m\n\u001b[0;32m----> 2\u001b[0;31m \u001b[0mselected_to_frame\u001b[0m \u001b[0;34m=\u001b[0m \u001b[0;34m{\u001b[0m \u001b[0mnumber\u001b[0m \u001b[0;34m:\u001b[0m \u001b[0mframe\u001b[0m\u001b[0;34m.\u001b[0m\u001b[0minfo\u001b[0m\u001b[0;34m[\u001b[0m\u001b[0;34m\"NAME\"\u001b[0m\u001b[0;34m]\u001b[0m \u001b[0;32mfor\u001b[0m \u001b[0mn\u001b[0m\u001b[0;34m,\u001b[0m \u001b[0mframe\u001b[0m \u001b[0;32min\u001b[0m \u001b[0mzip\u001b[0m\u001b[0;34m(\u001b[0m\u001b[0mframes\u001b[0m\u001b[0;34m)\u001b[0m \u001b[0;32mfor\u001b[0m \u001b[0mnumber\u001b[0m \u001b[0;32min\u001b[0m \u001b[0mlen\u001b[0m\u001b[0;34m(\u001b[0m\u001b[0mframe\u001b[0m\u001b[0;34m)\u001b[0m \u001b[0;34m}\u001b[0m\u001b[0;34m\u001b[0m\u001b[0;34m\u001b[0m\u001b[0m\n\u001b[0m",
      "\u001b[0;31mValueError\u001b[0m: not enough values to unpack (expected 2, got 1)"
     ]
    }
   ],
   "source": [
    "bindict = {frame.info[\"NAME\"]:[] for frame in frames} #dict with all the frames\n",
    "selected_to_frame = { number : frame.info[\"NAME\"] for n, frame in zip(frames) for number in len(frame) }"
   ]
  },
  {
   "cell_type": "code",
   "execution_count": null,
   "metadata": {},
   "outputs": [],
   "source": []
  },
  {
   "cell_type": "code",
   "execution_count": 30,
   "metadata": {},
   "outputs": [
    {
     "data": {
      "text/plain": [
       "{7: 'HEMYON', 8: 'HEMYON', 6: 'HEMYON', 1: 'HEMYON', 16: 'HEMYON'}"
      ]
     },
     "execution_count": 30,
     "metadata": {},
     "output_type": "execute_result"
    }
   ],
   "source": [
    "selected_to_frame"
   ]
  },
  {
   "cell_type": "code",
   "execution_count": null,
   "metadata": {},
   "outputs": [],
   "source": [
    "[entry for tag in tags for entry in entries if tag in entry]"
   ]
  },
  {
   "cell_type": "code",
   "execution_count": 27,
   "metadata": {
    "collapsed": true,
    "jupyter": {
     "outputs_hidden": true
    },
    "tags": []
   },
   "outputs": [
    {
     "data": {
      "text/plain": [
       "{'PYRIDO04': [],\n",
       " 'MODYOU': [],\n",
       " 'ELIGOX': [],\n",
       " 'TUHHUZ': [],\n",
       " 'CSURCD10': [],\n",
       " 'DAVARO': [],\n",
       " 'BOZGIH': [],\n",
       " 'FEHCUQ': [],\n",
       " 'DAZVEF': [],\n",
       " 'PUBMUU23': [],\n",
       " 'MOKPUX': [],\n",
       " 'TEOXDE01': [],\n",
       " 'RIGJOG': [],\n",
       " 'BINROF': [],\n",
       " 'UPONAQ': [],\n",
       " 'HMBFUR': [],\n",
       " 'RAYLAE': [],\n",
       " 'VABLIT': [],\n",
       " 'UREJAD': [],\n",
       " 'XURCIW': [],\n",
       " 'MCBPCX': [],\n",
       " 'DOXKOR': [],\n",
       " 'UDURUH': [],\n",
       " 'DALGON03': [],\n",
       " 'XUHPIB': [],\n",
       " 'TABFAG': [],\n",
       " 'MEWSUE': [],\n",
       " 'KENMOF': [],\n",
       " 'BUXWIA': [],\n",
       " 'KIFJAK': [],\n",
       " 'JEXZUH': [],\n",
       " 'GAFWIV': [],\n",
       " 'EXIGAU': [],\n",
       " 'ULEZES': [],\n",
       " 'RIZZEH': [],\n",
       " 'XIBTUY': [],\n",
       " 'SITQET': [],\n",
       " 'FIZJON01': [],\n",
       " 'NEPBEQ': [],\n",
       " 'TRZPUR': [],\n",
       " 'HOFLAQ01': [],\n",
       " 'BUWCAX': [],\n",
       " 'AMTETA': [],\n",
       " 'DIHIXL10': [],\n",
       " 'ZIPSIC': [],\n",
       " 'BOQQUT08': [],\n",
       " 'SEYJAH': [],\n",
       " 'DOYTUG': [],\n",
       " 'NEHQAU': [],\n",
       " 'TUPWEI': [],\n",
       " 'YITKAP': [],\n",
       " 'VOBJEB': [],\n",
       " 'AZOXCH': [],\n",
       " 'GIVXUE': [],\n",
       " 'INEZUY': [],\n",
       " 'XOMWAX': [],\n",
       " 'XOKXIE': [],\n",
       " 'NERJIE': [],\n",
       " 'EFUMAU02': [],\n",
       " 'APENOA': [],\n",
       " 'GACLEE': [],\n",
       " 'NTRACD': [],\n",
       " 'SIBFOA': [],\n",
       " 'EVIQAB': [],\n",
       " 'OCPNDN': [],\n",
       " 'FUGLEA': [],\n",
       " 'DAFNON': [],\n",
       " 'QIZBIL': [],\n",
       " 'TEZPDZ10': [],\n",
       " 'YIZXOV': [],\n",
       " 'TABBEE': [],\n",
       " 'VUWXIU': [],\n",
       " 'BARBAD07': [],\n",
       " 'DHNAPH17': [],\n",
       " 'NTRGUA01': [],\n",
       " 'YAMXUF': [],\n",
       " 'COYMUY': [],\n",
       " 'CADBOB': [],\n",
       " 'PEKSAZ': [],\n",
       " 'ZEFPUX01': [],\n",
       " 'PAPHOD': [],\n",
       " 'DASRIY': [],\n",
       " 'CEDHUQ': [],\n",
       " 'PNOIZA': [],\n",
       " 'FADTIQ': [],\n",
       " 'JAPBIL': [],\n",
       " 'HUYYAB01': [],\n",
       " 'FECVEP': [],\n",
       " 'DORKEA': [],\n",
       " 'NEPGCL02': [],\n",
       " 'KIKTEE': [],\n",
       " 'GAFRAJ': [],\n",
       " 'EROGOI': [],\n",
       " 'MNPYDO29': [],\n",
       " 'OSEXEQ': [],\n",
       " 'JOTKUY01': [],\n",
       " 'MIPHOL': [],\n",
       " 'VALWOW': [],\n",
       " 'PARGIZ': [],\n",
       " 'CITVIL': [],\n",
       " 'KUQCAB': [],\n",
       " 'NMALAM01': [],\n",
       " 'IVAGUH': [],\n",
       " 'PELJOG': [],\n",
       " 'QAKFAK': [],\n",
       " 'SOJCUP': [],\n",
       " 'OKINAY': [],\n",
       " 'NENFES': [],\n",
       " 'COHWIF01': [],\n",
       " 'NIMVAG': [],\n",
       " 'KEDBAX': [],\n",
       " 'QEGSOL': [],\n",
       " 'NOGUNA': [],\n",
       " 'CAZCIR': [],\n",
       " 'BOXBEV': [],\n",
       " 'PUYTEI': [],\n",
       " 'DODCHD': [],\n",
       " 'NAKVUT': [],\n",
       " 'MENPDL': [],\n",
       " 'AJASAG': [],\n",
       " 'FATZEH': [],\n",
       " 'SUYQEK': [],\n",
       " 'MUVDOX': [],\n",
       " 'NOGHIA': [],\n",
       " 'UREANT03': [],\n",
       " 'JOWGAF01': [],\n",
       " 'FAQROE': [],\n",
       " 'XOZHEZ': [],\n",
       " 'GLYCNI': [],\n",
       " 'JUDZIR': [],\n",
       " 'QUDNOU': [],\n",
       " 'YIFXIV': [],\n",
       " 'TIWHAK': [],\n",
       " 'MEUREA01': [],\n",
       " 'MFCBXA': [],\n",
       " 'METAMI': [],\n",
       " 'PIKDAO': [],\n",
       " 'LAKRAR': [],\n",
       " 'KECYBU02': [],\n",
       " 'HAZQUV': [],\n",
       " 'WAJQAC': [],\n",
       " 'VETQUI': [],\n",
       " 'JINYIP': [],\n",
       " 'MEXZOE': [],\n",
       " 'CODPAN': [],\n",
       " 'QUGGAA': [],\n",
       " 'NOCNOK': [],\n",
       " 'FIBXUL': [],\n",
       " 'ALIWID': [],\n",
       " 'QIFDOZ': [],\n",
       " 'BISMEV10': [],\n",
       " 'INEZIM': [],\n",
       " 'BUYZAW': [],\n",
       " 'NAPHET': [],\n",
       " 'ZILNOX01': [],\n",
       " 'SOJMOT': [],\n",
       " 'OXAZDO': [],\n",
       " 'DALQOW': [],\n",
       " 'GADZER': [],\n",
       " 'AHPHAL01': [],\n",
       " 'DIBGEA01': [],\n",
       " 'SOQNIW': [],\n",
       " 'PELDER': [],\n",
       " 'EJEQUF': [],\n",
       " 'QOBHIA': [],\n",
       " 'WULYIN': [],\n",
       " 'NUMXAV': [],\n",
       " 'BAXVEB': [],\n",
       " 'NOCNEA': [],\n",
       " 'EMOHAQ': [],\n",
       " 'BOGGAH': [],\n",
       " 'DUYREU': [],\n",
       " 'BAKFUO': [],\n",
       " 'XYLTOL02': [],\n",
       " 'POWBEI': [],\n",
       " 'HMBQOX10': [],\n",
       " 'SARCEU': [],\n",
       " 'TAPHEY': [],\n",
       " 'VOTMEY': [],\n",
       " 'FUNSOW': [],\n",
       " 'ORAVUZ': [],\n",
       " 'HEYJOK01': [],\n",
       " 'PACFIL': [],\n",
       " 'IMAZOL19': [],\n",
       " 'KOHMOJ': [],\n",
       " 'IYAWAG': [],\n",
       " 'SILDOH': [],\n",
       " 'QAPZAJ': [],\n",
       " 'ARCLAM03': [],\n",
       " 'VIWYEH': [],\n",
       " 'ULANUS': [],\n",
       " 'LESPUW': [],\n",
       " 'PHTHAO': [],\n",
       " 'HYXBUR10': [],\n",
       " 'UVIZEG': [],\n",
       " 'ACEMID03': [],\n",
       " 'PEHXAC': [],\n",
       " 'HYDRZN11': [],\n",
       " 'ACARBM': [],\n",
       " 'ZESSOF': [],\n",
       " 'AMXBPM10': [],\n",
       " 'PHGLYA': [],\n",
       " 'QONRAO': [],\n",
       " 'PUPBAD02': [],\n",
       " 'YANSEN': [],\n",
       " 'UNEPOT': [],\n",
       " 'KEPNOI': [],\n",
       " 'ABUMAL': [],\n",
       " 'SIGBOZ': [],\n",
       " 'TAFKAM': [],\n",
       " 'YODHUV': [],\n",
       " 'YALLOO': [],\n",
       " 'AHUZUZ': [],\n",
       " 'EHIXOI': [],\n",
       " 'XACSOL': [],\n",
       " 'IHEHIO': [],\n",
       " 'POVKAO': [],\n",
       " 'HADFEY': [],\n",
       " 'BAZYAC01': [],\n",
       " 'UTUVAI': [],\n",
       " 'IKEGAH': [],\n",
       " 'AGEQIO': [],\n",
       " 'IYAQOP01': [],\n",
       " 'TUNMUL': [],\n",
       " 'FUNXER': [],\n",
       " 'GOLDIV': [],\n",
       " 'AMACET': [],\n",
       " 'JIXCOI01': [],\n",
       " 'ZOTDAP': [],\n",
       " 'FUMRAM01': [],\n",
       " 'XUDSOG': [],\n",
       " 'FABFAQ': [],\n",
       " 'HXIBAC': [],\n",
       " 'FACQAE': [],\n",
       " 'HAMCEF': [],\n",
       " 'IMUWIX': [],\n",
       " 'MEPYRZ': [],\n",
       " 'KONWOB': [],\n",
       " 'SEWHUY': [],\n",
       " 'DUTTAN10': [],\n",
       " 'DUMPUW': [],\n",
       " 'IMEGIR09': [],\n",
       " 'FUSVAQ01': [],\n",
       " 'PYRZOL05': [],\n",
       " 'QONRUI': [],\n",
       " 'TCMPCQ01': [],\n",
       " 'BODSAO': [],\n",
       " 'EFOBOR': [],\n",
       " 'FIHNIV': [],\n",
       " 'NOKYER': [],\n",
       " 'YIQXAY': [],\n",
       " 'KAMFAH': [],\n",
       " 'IZARAC': [],\n",
       " 'FASFAG': [],\n",
       " 'WIGBOE': [],\n",
       " 'SIWDAD': [],\n",
       " 'HEYQUY': [],\n",
       " 'TIVSUM': [],\n",
       " 'HONSIO': [],\n",
       " 'ZIYGUL': [],\n",
       " 'PORXEA': [],\n",
       " 'HEHVAR': [],\n",
       " 'LUVNAS': [],\n",
       " 'RUGJUZ': [],\n",
       " 'LIWGOO': [],\n",
       " 'BOVLEF': [],\n",
       " 'BUFKIX': [],\n",
       " 'GLYCIN18': [],\n",
       " 'NIPLED': [],\n",
       " 'SAGMOE': [],\n",
       " 'MOHCUI': [],\n",
       " 'FETNUO': [],\n",
       " 'EXETEI': [],\n",
       " 'GIZSOX': [],\n",
       " 'BUWJEK': [],\n",
       " 'KECXIZ': [],\n",
       " 'ULIZAS': [],\n",
       " 'ACYGLY12': [],\n",
       " 'MUQHOW': [],\n",
       " 'DUNVEN': [],\n",
       " 'SAZGOP': [],\n",
       " 'MISGAX': [],\n",
       " 'DUSBUQ': [],\n",
       " 'HEXTIN02': [],\n",
       " 'CANXIA': [],\n",
       " 'TENZOD': [],\n",
       " 'KICCOO': [],\n",
       " 'THYMIN02': [],\n",
       " 'MOGYOX': [],\n",
       " 'IYINAF': [],\n",
       " 'WOFVAQ': [],\n",
       " 'IHINEU': [],\n",
       " 'URNFRO': [],\n",
       " 'LEFYUS': [],\n",
       " 'FUFMAU': [],\n",
       " 'JOHBUD': [],\n",
       " 'AZETAC': [],\n",
       " 'CACGUI': [],\n",
       " 'FADCUI': [],\n",
       " 'TIJLIH': [],\n",
       " 'WAJPUV': [],\n",
       " 'CILBII': [],\n",
       " 'GOGXUV': [],\n",
       " 'YANVUG': [],\n",
       " 'VADQAU': [],\n",
       " 'HIFKUC01': [],\n",
       " 'CUBRUN': [],\n",
       " 'MAXYOZ': [],\n",
       " 'PODFIZ': [],\n",
       " 'TATNBZ': [],\n",
       " 'DNPMTA': [],\n",
       " 'HOYSOF': [],\n",
       " 'KANQAR01': [],\n",
       " 'WIKQOX': [],\n",
       " 'TIMFUS': [],\n",
       " 'AJAKOL': [],\n",
       " 'XEXYII': [],\n",
       " 'POWBAE': [],\n",
       " 'OCEBAA': [],\n",
       " 'HDNBPP': [],\n",
       " 'APENIU': [],\n",
       " 'BIZTOV': [],\n",
       " 'NESFIA': [],\n",
       " 'YUFKUF': [],\n",
       " 'WUFVAW': [],\n",
       " 'REHCAK': [],\n",
       " 'PEDLER': [],\n",
       " 'MUTVEE': [],\n",
       " 'SEGCAI01': [],\n",
       " 'PYMDON': [],\n",
       " 'PIMELA08': [],\n",
       " 'SERVOA': [],\n",
       " 'KUQTIB': [],\n",
       " 'EMIMUI': [],\n",
       " 'GACGAU': [],\n",
       " 'CAKREM': [],\n",
       " 'GOVKEH': [],\n",
       " 'MOQLUA': [],\n",
       " 'VITNIW': [],\n",
       " 'GUKVOX': [],\n",
       " 'EHUPAZ': [],\n",
       " 'DIDFAY': [],\n",
       " 'NEQWEN': [],\n",
       " 'QORROF': [],\n",
       " 'CDECOL11': [],\n",
       " 'DOJLAQ': [],\n",
       " 'LETGIA10': [],\n",
       " 'ECIBIB': [],\n",
       " 'ELEYOJ': [],\n",
       " 'PHALIM': [],\n",
       " 'COKJOB': [],\n",
       " 'AJASEK': [],\n",
       " 'OXOGEO': [],\n",
       " 'YOWLUS': [],\n",
       " 'KIXXEW': [],\n",
       " 'GIPPAW': [],\n",
       " 'IQUJEK': [],\n",
       " 'KOJZUE': [],\n",
       " 'ACOWOE': [],\n",
       " 'GIQRAZ': [],\n",
       " 'DUBTEA': [],\n",
       " 'COXYAR01': [],\n",
       " 'ODEZEE': [],\n",
       " 'QEJJUK': [],\n",
       " 'DZBASK': [],\n",
       " 'FOYGIL': [],\n",
       " 'QARVOV': [],\n",
       " 'TETZIB': [],\n",
       " 'OROMIT': [],\n",
       " 'TIGBIU': [],\n",
       " 'PYRZIN14': [],\n",
       " 'BELBUP02': [],\n",
       " 'UREWAQ': [],\n",
       " 'EROWEO': [],\n",
       " 'HOFGUF': [],\n",
       " 'YUYSIU': [],\n",
       " 'MUYHIY': [],\n",
       " 'MOLMUV': [],\n",
       " 'SOLHAD': [],\n",
       " 'KEHYAZ': [],\n",
       " 'NADQUF': [],\n",
       " 'HIXLEG': [],\n",
       " 'EWAMIZ': [],\n",
       " 'AYUKIP': [],\n",
       " 'RIKPEG': [],\n",
       " 'COGDEH': [],\n",
       " 'JEVPIJ': [],\n",
       " 'CUYXAV': [],\n",
       " 'CILZII': [],\n",
       " 'SUSYAI': [],\n",
       " 'KENMIA': [],\n",
       " 'ONOQUE': [],\n",
       " 'JERJOF': [],\n",
       " 'JASLEV': [],\n",
       " 'MIRTOW': [],\n",
       " 'GLYALB02': [],\n",
       " 'FENTOH01': [],\n",
       " 'MEUREA': [],\n",
       " 'CEMGIK': [],\n",
       " 'PEVKUX': [],\n",
       " 'XODBAU': [],\n",
       " 'DUHTUW': [],\n",
       " 'VEMFEY01': [],\n",
       " 'AHEYAO': [],\n",
       " 'KAYSUY': [],\n",
       " 'KULMUA': [],\n",
       " 'IPABUX': [],\n",
       " 'RATGEZ': [],\n",
       " 'ESOYUI': [],\n",
       " 'KECZAU': [],\n",
       " 'HACMUT': [],\n",
       " 'AJUKIZ01': [],\n",
       " 'AGUSEB': [],\n",
       " 'QIGCIS': [],\n",
       " 'LSERIN12': [],\n",
       " 'PEPYIS': [],\n",
       " 'XAJSAE': [],\n",
       " 'FUJTUZ': [],\n",
       " 'TIHHOJ': [],\n",
       " 'IFUWIR': [],\n",
       " 'PEDERL': [],\n",
       " 'NIYMAJ': [],\n",
       " 'YAGQOM': [],\n",
       " 'APITEA': [],\n",
       " 'GULHEA': [],\n",
       " 'WIQDIJ': [],\n",
       " 'MOZWII': [],\n",
       " 'DOZSUG': [],\n",
       " 'FEYTOU': [],\n",
       " 'FOXJOT': [],\n",
       " 'GLICAC01': [],\n",
       " 'DIKXEB': [],\n",
       " 'BEXGAM': [],\n",
       " 'QURYUZ01': [],\n",
       " 'KUBPOM': [],\n",
       " 'WECRED': [],\n",
       " 'SEQBUN': [],\n",
       " 'ANOLUL': [],\n",
       " 'EGAFAU': [],\n",
       " 'JAYRAC': [],\n",
       " 'BUHGOA': [],\n",
       " 'OHAHAI': [],\n",
       " 'KUSJIR': [],\n",
       " 'FEHVIY': [],\n",
       " 'ZAVTEV': [],\n",
       " 'BENZAC18': [],\n",
       " 'TAHNEV': [],\n",
       " 'ECUXUW': [],\n",
       " 'UREAOH12': [],\n",
       " 'FULTEM': [],\n",
       " 'FURDCB01': [],\n",
       " 'KABWUF': [],\n",
       " 'WOLNIW': [],\n",
       " 'DOXDAN': [],\n",
       " 'SOQNOC': [],\n",
       " 'LAPSIG': [],\n",
       " 'HRFPZO10': [],\n",
       " 'SUYWOA': [],\n",
       " 'ULAVIO': [],\n",
       " 'AMTETZ': [],\n",
       " 'ACRLAC04': [],\n",
       " 'NOLDOJ01': [],\n",
       " 'UNEWUG': [],\n",
       " 'SUMKIU': [],\n",
       " 'OSOLEO': [],\n",
       " 'TECNUL': [],\n",
       " 'VUHDEJ': [],\n",
       " 'DLGYAH': [],\n",
       " 'CALFOM': [],\n",
       " 'LALNIN28': [],\n",
       " 'WIKBAT': [],\n",
       " 'QAFFIM': [],\n",
       " 'WIDJOI': [],\n",
       " 'AXOSIQ': [],\n",
       " 'FEHDAX01': [],\n",
       " 'KUCPED': [],\n",
       " 'FEMCEF': [],\n",
       " 'SEYDIJ02': [],\n",
       " 'TAQXAL': [],\n",
       " 'LIKYOV': [],\n",
       " 'VIKVOA': [],\n",
       " 'MEMALA': [],\n",
       " 'ZACSOO': [],\n",
       " 'FENCIK': [],\n",
       " 'MEGLAN01': [],\n",
       " 'MOWBUX': [],\n",
       " 'UREAXX27': [],\n",
       " 'JOPNOR': [],\n",
       " 'JUXHUF': [],\n",
       " 'IXAQAB': [],\n",
       " 'YOTSUV': [],\n",
       " 'UBEGUF': [],\n",
       " 'JEVPOQ': [],\n",
       " 'MUKVUJ': [],\n",
       " 'UGUXAW': [],\n",
       " 'EJIQEU02': [],\n",
       " 'SAFMAQ01': [],\n",
       " 'TUBYIY': [],\n",
       " 'NABKIN': [],\n",
       " 'TEKQAB01': [],\n",
       " 'ACRLAC03': [],\n",
       " 'ZAWDIM': [],\n",
       " 'LESLAX': [],\n",
       " 'LAGHOQ': [],\n",
       " 'GOMJUO': [],\n",
       " 'TMZBCO10': [],\n",
       " 'YOBBEW': [],\n",
       " 'PAGVAU': [],\n",
       " 'UNURUS': [],\n",
       " 'KAXWIQ': [],\n",
       " 'LAJZAZ': [],\n",
       " 'KEMHOB': [],\n",
       " 'PRONAC02': [],\n",
       " 'SOZHUM': [],\n",
       " 'WOKPAO': [],\n",
       " 'BEVXEF01': [],\n",
       " 'RIWTIB01': [],\n",
       " 'DACLOL': [],\n",
       " 'FIKXAY': [],\n",
       " 'DUHYIP': [],\n",
       " 'QOTWUR': [],\n",
       " 'DAZDOZ': [],\n",
       " 'HOYMAJ': [],\n",
       " 'FERDUD': [],\n",
       " 'PICNOE': [],\n",
       " 'NEZMUA': [],\n",
       " 'RIZBOS': [],\n",
       " 'GAVMUM': [],\n",
       " 'NOFBIT': [],\n",
       " 'NOLCOG': [],\n",
       " 'ADOJEK': [],\n",
       " 'FEDCOI': [],\n",
       " 'VOFVAN23': [],\n",
       " 'FORRUB': [],\n",
       " 'KOVHIM': [],\n",
       " 'VACTIF': [],\n",
       " 'PUTTUU': [],\n",
       " 'EKUKEC': [],\n",
       " 'REQQUA': [],\n",
       " 'MUGNUX': [],\n",
       " 'NRURAM11': [],\n",
       " 'TILJOP': [],\n",
       " 'AMOXAM': [],\n",
       " 'NADQOZ': [],\n",
       " 'EDAWIP': [],\n",
       " 'WECCAK': [],\n",
       " 'XISJIT': [],\n",
       " 'AVAKAK': [],\n",
       " 'COFHOW': [],\n",
       " 'ZEVJAL': [],\n",
       " 'MUDDEU': [],\n",
       " 'HAXTAD': [],\n",
       " 'LEPFES': [],\n",
       " 'FOBSEU': [],\n",
       " 'VONNET': [],\n",
       " 'PAKMAR': [],\n",
       " 'JUTGEK': [],\n",
       " 'VIGTUA': [],\n",
       " 'BUBNAN': [],\n",
       " 'YOLQOF': [],\n",
       " 'VIZWEI': [],\n",
       " 'QONROC': [],\n",
       " 'AZASER11': [],\n",
       " 'DOKQEA': [],\n",
       " 'OTAKEB': [],\n",
       " 'HAJXIB': [],\n",
       " 'QIWJAI': [],\n",
       " 'METRIM': [],\n",
       " 'QEXBAX': [],\n",
       " 'PPYRED': [],\n",
       " 'FOVVUI': [],\n",
       " 'WEHCAO': [],\n",
       " 'ACETAC09': [],\n",
       " 'ESIWUZ': [],\n",
       " 'DEBSOS': [],\n",
       " 'HEWQOQ': [],\n",
       " 'VOBDOF': [],\n",
       " 'MAYCEW': [],\n",
       " 'DMADEN10': [],\n",
       " 'LURYOM': [],\n",
       " 'QEFBUY01': [],\n",
       " 'OREHOK': [],\n",
       " 'YIHHON09': [],\n",
       " 'EFAXIS': [],\n",
       " 'YITJES': [],\n",
       " 'TEVJIP01': [],\n",
       " 'YEHPIK': [],\n",
       " 'EACLID': [],\n",
       " 'XELNAE': [],\n",
       " 'WEZCAG': [],\n",
       " 'ZOYGUP': [],\n",
       " 'QUDNAG': [],\n",
       " 'BIDJON': [],\n",
       " 'ARADEN10': [],\n",
       " 'EBULAO': [],\n",
       " 'MDXTCU': [],\n",
       " 'KOXBOO': [],\n",
       " 'ZUTKAC': [],\n",
       " 'PIFZAG': [],\n",
       " 'DUPNOT': [],\n",
       " 'ETBARB': [],\n",
       " 'FEKVOG': [],\n",
       " 'HEKTEW': [],\n",
       " 'XISPOF': [],\n",
       " 'CIDROW': [],\n",
       " 'DETYLE': [],\n",
       " 'JAXSOR': [],\n",
       " 'ZEGDIA': [],\n",
       " 'ZZZTXI11': [],\n",
       " 'FOHMUK': [],\n",
       " 'UDOZUJ': [],\n",
       " 'QEXJIN': [],\n",
       " 'QARWAI': [],\n",
       " 'QIJDES': [],\n",
       " 'MOMFAV': [],\n",
       " 'TALHET': [],\n",
       " 'LUHPAF': [],\n",
       " 'QQQGEM01': [],\n",
       " 'BZTZAD': [],\n",
       " 'WAHBOX': [],\n",
       " 'DUFDOX10': [],\n",
       " 'FONMEB': [],\n",
       " 'FIBYEW': [],\n",
       " 'NUPVUR': [],\n",
       " 'DOPLOL05': [],\n",
       " 'INEZOS': [],\n",
       " 'IJEFAG': [],\n",
       " 'KOWRUJ': [],\n",
       " 'OPISUC': [],\n",
       " 'PYRCOX01': [],\n",
       " 'XDHURC': [],\n",
       " 'ZUTKEG': [],\n",
       " 'BISKET': [],\n",
       " 'DIXRIL': [],\n",
       " 'VEBTIG': [],\n",
       " 'CYAMPD01': [],\n",
       " 'AXUDED03': [],\n",
       " 'TRIRED': [],\n",
       " 'FIMWII': [],\n",
       " 'BOCZIE': [],\n",
       " 'ZZZRTW01': [],\n",
       " 'ACAMOX': [],\n",
       " 'OKESAY': [],\n",
       " 'CIKRET': [],\n",
       " 'PECYON': [],\n",
       " 'LUHSIR': [],\n",
       " 'ITIXUE01': [],\n",
       " 'QAMSII': [],\n",
       " 'LACFON': [],\n",
       " 'KABBEW': [],\n",
       " 'YASSIV': [],\n",
       " 'CATNUI': [],\n",
       " 'UDAZIJ': [],\n",
       " 'GEJSET': [],\n",
       " 'MEOXAL': [],\n",
       " 'PAPJUM': [],\n",
       " 'CPRDCA': [],\n",
       " 'ODEVUQ': [],\n",
       " 'MORPHN': [],\n",
       " 'DUROQN10': [],\n",
       " 'ANIMUH': [],\n",
       " 'UKIJUV': [],\n",
       " 'MOYHAJ': [],\n",
       " 'YEKGUS': [],\n",
       " 'GUHOXM02': [],\n",
       " 'LIWJOQ': [],\n",
       " 'GENZEF': [],\n",
       " 'QOLRIT': [],\n",
       " 'QIQKIK': [],\n",
       " 'PUVPED': [],\n",
       " 'QIWJEM': [],\n",
       " 'JUXLEV': [],\n",
       " 'IFAYIZ': [],\n",
       " 'ZZZRJG01': [],\n",
       " 'YAMFOI': [],\n",
       " 'FUTFIJ': [],\n",
       " 'XADBAI': [],\n",
       " 'HUZLUJ': [],\n",
       " 'CALVAM': [],\n",
       " 'LAJGUA': [],\n",
       " 'BIGFEC': [],\n",
       " 'MACLEI': [],\n",
       " 'XIMKUA': [],\n",
       " 'ISOMUS': [],\n",
       " 'MIOZPO01': [],\n",
       " 'ULOBAA': [],\n",
       " 'IJEPOE': [],\n",
       " 'RAMGUH01': [],\n",
       " 'MMXPDZ10': [],\n",
       " 'DATFIO': [],\n",
       " 'URAWER': [],\n",
       " 'UKIHON': [],\n",
       " 'WOQXOR': [],\n",
       " 'LOCVEE': [],\n",
       " 'HAMHUZ': [],\n",
       " 'ZZZNYY01': [],\n",
       " 'FEPNAP': [],\n",
       " 'HOZPET01': [],\n",
       " 'SUCPYR11': [],\n",
       " 'IHANUB': [],\n",
       " 'AJAPIL03': [],\n",
       " 'LILLEY': [],\n",
       " 'JUMWUL': [],\n",
       " 'XABFOY': [],\n",
       " 'ITIPEG': [],\n",
       " 'CEKVIX': [],\n",
       " 'RODLOM': [],\n",
       " 'LUQPOE01': [],\n",
       " 'QEHBEL': [],\n",
       " 'YARYAS': [],\n",
       " 'CONXIN': [],\n",
       " 'COTTAI': [],\n",
       " 'IBPRAC14': [],\n",
       " 'XEXVEB': [],\n",
       " 'LUYJIZ': [],\n",
       " 'ZEQVIC': [],\n",
       " 'OBAYOF': [],\n",
       " 'DUVXIB': [],\n",
       " 'LOXBAD': [],\n",
       " 'FAFKEC': [],\n",
       " 'NINDOD': [],\n",
       " 'ZOVHID': [],\n",
       " 'HEXDAQ': [],\n",
       " 'XUHREX': [],\n",
       " 'SAWJUW': [],\n",
       " 'ZTNONX': [],\n",
       " 'SODBIW': [],\n",
       " 'LIKLAU': [],\n",
       " 'DIPGIS11': [],\n",
       " 'BEHZIX': [],\n",
       " 'QQQAUJ07': [],\n",
       " 'HABFUL': [],\n",
       " 'MIKTOQ': [],\n",
       " 'MTETAC01': [],\n",
       " 'GAGSIR01': [],\n",
       " 'HUQRAM': [],\n",
       " 'BONGIW': [],\n",
       " 'XATZAT': [],\n",
       " 'NTROMA01': [],\n",
       " 'MOAZCD': [],\n",
       " 'MUYBAK': [],\n",
       " 'PORPIN01': [],\n",
       " 'KAMRAS': [],\n",
       " 'NOPPOY': [],\n",
       " 'HEQWOR': [],\n",
       " 'KADPOU02': [],\n",
       " 'HIHJEN': [],\n",
       " 'SEZJEN': [],\n",
       " 'WUDHOU': [],\n",
       " 'FIGYID01': [],\n",
       " 'WIKRAL': [],\n",
       " 'XUDTIB': [],\n",
       " 'ZERMOY': [],\n",
       " 'CROTAM': [],\n",
       " 'GUHROQ01': [],\n",
       " 'KAYWIR01': [],\n",
       " 'BCBANN06': [],\n",
       " 'IKASUK': [],\n",
       " 'MUHFOK': [],\n",
       " 'PUNLOB': [],\n",
       " 'YENGOP': [],\n",
       " 'CEVTUU': [],\n",
       " 'KIJNUM': [],\n",
       " 'HTMTZC': [],\n",
       " 'CEDXUE01': [],\n",
       " 'MTZOPZ10': [],\n",
       " 'GUNTEP': [],\n",
       " 'GEJCEF': [],\n",
       " 'MAZGAX': [],\n",
       " 'IFIDUW': [],\n",
       " 'CABHUL': [],\n",
       " 'WOCREL': [],\n",
       " 'ZOBYAQ': [],\n",
       " 'IFUVOW': [],\n",
       " 'AFEXUF': [],\n",
       " 'QOPKUB': [],\n",
       " 'PUHHOQ': [],\n",
       " 'FEMFUY01': [],\n",
       " 'MAZMEH': [],\n",
       " 'LAQDUE': [],\n",
       " 'EDEBUK': [],\n",
       " 'TIGKUQ': [],\n",
       " 'CAHOAM': [],\n",
       " 'RAMVUW': [],\n",
       " 'INEJOA': [],\n",
       " 'CECWAK': [],\n",
       " 'WAWVUN': [],\n",
       " 'QAMSUU': [],\n",
       " 'GALDEC01': [],\n",
       " 'JUKWIV': [],\n",
       " 'CORYIR10': [],\n",
       " 'URICAC': [],\n",
       " 'ZEFPAD': [],\n",
       " 'XUSGOI': [],\n",
       " 'GADCIX': [],\n",
       " 'UPAWEP': [],\n",
       " 'VEXGOU': [],\n",
       " 'HUSTIY': [],\n",
       " 'DIHRUH10': [],\n",
       " 'KEMZIL01': [],\n",
       " 'BAHSUY': [],\n",
       " 'YODHIJ01': [],\n",
       " 'VIZZIP': [],\n",
       " 'POVKIW': [],\n",
       " 'SIXYEE': [],\n",
       " 'KOYLIT': [],\n",
       " 'POLYUM': [],\n",
       " 'QUDPOW': [],\n",
       " 'HOHTAZ02': [],\n",
       " 'FEDCIC': [],\n",
       " 'TAZWIB': [],\n",
       " 'PULGOU': [],\n",
       " 'AIPMGH': [],\n",
       " 'XEPNUD': [],\n",
       " 'WOQPEY': [],\n",
       " 'BAKQUA': [],\n",
       " 'TAFKIU': [],\n",
       " 'HIVGAW': [],\n",
       " 'BZAMID06': [],\n",
       " 'WIHJAZ': [],\n",
       " 'QARVUB': [],\n",
       " 'CIFROY': [],\n",
       " 'QEDFOW': [],\n",
       " 'JOQTAM': [],\n",
       " 'PAZDID': [],\n",
       " 'OGIQOL': [],\n",
       " 'DUFBOV11': [],\n",
       " 'CASYIG': [],\n",
       " 'PODHOH': [],\n",
       " 'EXUJAI': [],\n",
       " 'DILSEY': [],\n",
       " 'SIKGIC': [],\n",
       " 'JABLUW01': [],\n",
       " 'LSERMH15': [],\n",
       " 'MLEICA': [],\n",
       " 'HAVKOE': [],\n",
       " 'IPRPOL03': [],\n",
       " 'DIMEDO03': [],\n",
       " 'KETVEK03': [],\n",
       " 'ZIWXEK': [],\n",
       " 'TUGSUL': [],\n",
       " 'MEQPAZ': [],\n",
       " 'ROFLAZ01': [],\n",
       " 'HISTPU': [],\n",
       " 'MINGEX01': [],\n",
       " 'NBZOAO05': [],\n",
       " 'DACETA11': [],\n",
       " 'TORQIC': [],\n",
       " 'NOKLOP': [],\n",
       " 'LAYSOV': [],\n",
       " 'NOACTD': [],\n",
       " 'ABIVUD': [],\n",
       " 'IWUGIQ01': [],\n",
       " 'EKATOB': [],\n",
       " 'CAZCAJ': [],\n",
       " 'EMOGUJ': [],\n",
       " 'GIRRUV': [],\n",
       " 'EVIXEM': [],\n",
       " 'HAWYIN': [],\n",
       " 'KUZWOS': [],\n",
       " 'TANCUI': [],\n",
       " 'OXHEPA': [],\n",
       " 'VOFDEZ': [],\n",
       " 'EKUJUR': [],\n",
       " 'ZUNTOR': [],\n",
       " 'QAHCUA': [],\n",
       " 'KUSLIU': [],\n",
       " 'SOQNUI': [],\n",
       " 'HOKSOR': [],\n",
       " 'QAKKOE': [],\n",
       " 'VOHCEC': [],\n",
       " 'KEPDIU': [],\n",
       " 'MALNAC02': [],\n",
       " 'GUDKAS': [],\n",
       " 'ACETAC01': [],\n",
       " 'FIXPUX': [],\n",
       " 'KOWTEV': [],\n",
       " 'QAGRIC': [],\n",
       " 'NINHYD02': [],\n",
       " 'ITIZUG': [],\n",
       " 'DOTTUB': [],\n",
       " 'ZZZJII01': [],\n",
       " 'MOVNAN': [],\n",
       " 'VINYLC': [],\n",
       " 'ILOFIA': [],\n",
       " 'GOFPUN02': [],\n",
       " 'CILWUP11': [],\n",
       " 'PARBAC03': [],\n",
       " 'XAYYUS': [],\n",
       " 'XARQAK': [],\n",
       " 'UCONIJ': [],\n",
       " 'BAGQIJ': [],\n",
       " 'IFOSON': [],\n",
       " 'HEWFEW': [],\n",
       " 'OXAZIL10': [],\n",
       " 'AMIPYZ': [],\n",
       " 'TOLDAM01': [],\n",
       " 'NITPOL02': [],\n",
       " 'XOWNON': [],\n",
       " 'MELAMI01': [],\n",
       " 'IJUMEG': [],\n",
       " 'EFARIO': [],\n",
       " 'SOWSEC': [],\n",
       " 'XIMQUG': [],\n",
       " 'ADMNTB04': [],\n",
       " 'DUPDAU': [],\n",
       " 'NILQAC': [],\n",
       " 'LIZCEC': [],\n",
       " 'RIQWIZ': [],\n",
       " 'VOFVAN26': [],\n",
       " 'ECADER': [],\n",
       " 'DOMQUS': [],\n",
       " 'PHENOL11': [],\n",
       " 'AMPHOM03': [],\n",
       " 'COYZEX': [],\n",
       " 'KUTHAI': [],\n",
       " 'THYMMH': [],\n",
       " 'VIZWAE': [],\n",
       " 'MABZNA01': [],\n",
       " 'DAFLUO': [],\n",
       " 'EPAHOT': [],\n",
       " 'DAYQEZ': [],\n",
       " 'VUGMIV': [],\n",
       " 'VUWXAM': [],\n",
       " 'GAQSEY': [],\n",
       " 'NENZOX': [],\n",
       " 'SAYBID01': [],\n",
       " 'JEMFUD': [],\n",
       " 'ROFQIO': [],\n",
       " 'SOVGIT': [],\n",
       " 'INOSND10': [],\n",
       " 'YUJDOW': [],\n",
       " 'LOYXAA': [],\n",
       " 'PHGLOL01': [],\n",
       " 'HINXAF': [],\n",
       " 'RESKIK': [],\n",
       " 'UHAMOF': [],\n",
       " 'NEYKIN': [],\n",
       " 'DEKRUG': [],\n",
       " 'AFZPYM': [],\n",
       " 'SEGCOW': [],\n",
       " 'HYZMAC': [],\n",
       " 'ODEJEN': [],\n",
       " 'LIJLEW': [],\n",
       " 'SECMOE': [],\n",
       " 'LAYYOB': [],\n",
       " 'EXIHAV': [],\n",
       " 'FOLXIN': [],\n",
       " 'NIVBUP': [],\n",
       " 'NURWOM03': [],\n",
       " 'TALSOP': [],\n",
       " 'BUVBUR': [],\n",
       " 'HOTNAF': [],\n",
       " 'KEHWUR': [],\n",
       " 'BIJJIP': [],\n",
       " 'UXAZEZ': [],\n",
       " 'USIZOM': [],\n",
       " 'XAYROG': [],\n",
       " 'CBOHAZ04': [],\n",
       " 'BATWOK': [],\n",
       " 'LETGIA03': [],\n",
       " 'CUXXAW': [],\n",
       " 'NAXTIQ': [],\n",
       " 'REYGUZ': [],\n",
       " 'BODFEF': [],\n",
       " 'QIJDAO01': [],\n",
       " 'COWSOY': [],\n",
       " 'RAWBAS06': [],\n",
       " 'NUZKAU': [],\n",
       " 'COWYET': [],\n",
       " 'NAYPAF': [],\n",
       " 'VAYJIO': [],\n",
       " 'ZAXLIV': [],\n",
       " 'EDAJIE': [],\n",
       " 'AQUHAX': [],\n",
       " 'LIWCUP': [],\n",
       " 'QIGVAD': [],\n",
       " 'QAFFOS': [],\n",
       " 'FUSJOT': [],\n",
       " 'HMNCXC01': [],\n",
       " 'CBUDCX03': [],\n",
       " 'JABCAT': [],\n",
       " 'ROKTAO': [],\n",
       " 'GEYSEI': [],\n",
       " 'MIYPEP': [],\n",
       " 'IKIGUE': [],\n",
       " 'CAXNIY': [],\n",
       " 'GOTSOX': [],\n",
       " 'KOVGIL': [],\n",
       " 'UNEVOZ01': [],\n",
       " 'LASCAC12': [],\n",
       " 'MALIAC02': [],\n",
       " 'IKIDAH': [],\n",
       " 'OGOKEC': [],\n",
       " 'DEBMOM': [],\n",
       " 'ZEXJAP': [],\n",
       " 'EKUJIF': [],\n",
       " 'TEFMEW': [],\n",
       " 'ECARBM10': [],\n",
       " 'RAYPOY': [],\n",
       " ...}"
      ]
     },
     "execution_count": 27,
     "metadata": {},
     "output_type": "execute_result"
    }
   ],
   "source": [
    "bindict"
   ]
  },
  {
   "cell_type": "code",
   "execution_count": 8,
   "metadata": {},
   "outputs": [
    {
     "ename": "IndentationError",
     "evalue": "expected an indented block (1947971115.py, line 9)",
     "output_type": "error",
     "traceback": [
      "\u001b[0;36m  File \u001b[0;32m\"/tmp/ipykernel_31983/1947971115.py\"\u001b[0;36m, line \u001b[0;32m9\u001b[0m\n\u001b[0;31m    pass\u001b[0m\n\u001b[0m    ^\u001b[0m\n\u001b[0;31mIndentationError\u001b[0m\u001b[0;31m:\u001b[0m expected an indented block\n"
     ]
    }
   ],
   "source": [
    "def get_type_ids(frames):\n",
    "    idx = 0\n",
    "    type_numbers = {number: [] for number in get_all_species(frames).to_list()}\n",
    "    numbers_frame_accum = type_numbers\n",
    "    for frame in frames:\n",
    "        for atom in frame.numbers:\n",
    "    \n",
    "            \n",
    "    pass"
   ]
  },
  {
   "cell_type": "code",
   "execution_count": 9,
   "metadata": {},
   "outputs": [],
   "source": [
    "atomic_numbers = np.concatenate([frame.numbers for frame in frames]) \n",
    "number_loc = {i: np.where(atomic_numbers == i)[0] for i in [1, 6, 7, 8]}"
   ]
  },
  {
   "cell_type": "code",
   "execution_count": 70,
   "metadata": {},
   "outputs": [
    {
     "data": {
      "text/plain": [
       "array([29, 30, 31, 32, 33, 34, 35, 36])"
      ]
     },
     "execution_count": 70,
     "metadata": {},
     "output_type": "execute_result"
    }
   ],
   "source": [
    "number_loc[1][i_selected]"
   ]
  },
  {
   "cell_type": "code",
   "execution_count": 72,
   "metadata": {},
   "outputs": [
    {
     "data": {
      "text/plain": [
       "(array([28, 29, 30, 31, 32, 33, 34, 35, 36, 37, 38, 39, 40, 41, 42, 43, 44,\n",
       "        45, 46, 47]),)"
      ]
     },
     "execution_count": 72,
     "metadata": {},
     "output_type": "execute_result"
    }
   ],
   "source": [
    "np.where(frames[0].numbers == 1)"
   ]
  },
  {
   "cell_type": "code",
   "execution_count": 7,
   "metadata": {},
   "outputs": [],
   "source": [
    "y = []\n",
    "ty = []\n",
    "s = []\n",
    "atom_sigma = {'H': 0.1, 'C': 1, 'N':1, 'O':1, 'S':2}\n",
    "type_idx = {'H': [], 'C': [], 'N': [], 'O': [], 'S': []}\n",
    "idx = 0\n",
    "groups = []\n",
    "for iframe, f in enumerate(frames):\n",
    "    y.append(f.arrays['cs_iso'])\n",
    "    ty.append(f.arrays['cs_tensor'].reshape((-1,3,3)))\n",
    "    f.wrap(eps=1e-12)\n",
    "    for l in f.symbols:\n",
    "        type_idx[l].append(idx)\n",
    "        idx+=1\n",
    "        s.append(atom_sigma[l])    \n",
    "groups = atom_groups_by_frame(frames)        \n",
    "cs = np.concatenate(y)\n",
    "tcs = np.concatenate(ty)\n",
    "sigmas = np.asarray(s)"
   ]
  },
  {
   "cell_type": "code",
   "execution_count": 14,
   "metadata": {},
   "outputs": [
    {
     "data": {
      "text/plain": [
       "340941"
      ]
     },
     "execution_count": 14,
     "metadata": {},
     "output_type": "execute_result"
    }
   ],
   "source": [
    "len(groups) #is total indices of atomic indices\n"
   ]
  },
  {
   "cell_type": "code",
   "execution_count": 20,
   "metadata": {},
   "outputs": [],
   "source": [
    "#this = train_test_split_by_frame(frames)"
   ]
  },
  {
   "cell_type": "code",
   "execution_count": 7,
   "metadata": {},
   "outputs": [
    {
     "data": {
      "text/plain": [
       "{'magres_units': {'cs_tensor': 'ppm', 'cs_iso': 'ppm'},\n",
       " 'STATUS': 'PASSING',\n",
       " 'NAME': 'FADBOB',\n",
       " 'ENERGY': -2300.05217586}"
      ]
     },
     "execution_count": 7,
     "metadata": {},
     "output_type": "execute_result"
    }
   ],
   "source": [
    "f.info"
   ]
  },
  {
   "cell_type": "code",
   "execution_count": 13,
   "metadata": {},
   "outputs": [],
   "source": [
    "frames = frames[-100:]"
   ]
  },
  {
   "cell_type": "code",
   "execution_count": 11,
   "metadata": {},
   "outputs": [],
   "source": [
    "hypers_1 = {\n",
    "    'interaction_cutoff': 6,\n",
    "    'max_radial': 10,\n",
    "    'max_angular': 0,\n",
    "    'gaussian_sigma_type': 'Constant',\n",
    "    'gaussian_sigma_constant': 0.2,\n",
    "    'cutoff_smooth_width': 0.3,\n",
    "    'radial_basis': 'DVR',        \n",
    "    'soap_type' : \"RadialSpectrum\",\n",
    "    'normalize' : False\n",
    "}\n",
    "\n",
    "hypers_2 = {\n",
    "    'interaction_cutoff': 6,\n",
    "    'max_radial': 8,\n",
    "    'max_angular': 6,\n",
    "    'gaussian_sigma_type': 'Constant',\n",
    "    'gaussian_sigma_constant': 0.2,\n",
    "    'cutoff_smooth_width': 0.3,\n",
    "    'radial_basis': 'DVR',\n",
    "    'normalize' : False,\n",
    "    'soap_type' : \"PowerSpectrum\"\n",
    "}\n",
    "\n",
    "hypers_1 = get_optimal_radial_basis_hypers(hypers_1, frames, expanded_max_radial=20)\n",
    "hypers_2 = get_optimal_radial_basis_hypers(hypers_2, frames, expanded_max_radial=50)"
   ]
  },
  {
   "cell_type": "code",
   "execution_count": 24,
   "metadata": {},
   "outputs": [],
   "source": [
    "import json"
   ]
  },
  {
   "cell_type": "code",
   "execution_count": 27,
   "metadata": {},
   "outputs": [],
   "source": [
    "with open(\"hypers_1.json\", 'w') as f: \n",
    "    json.dump(hypers_1, f)"
   ]
  },
  {
   "cell_type": "code",
   "execution_count": 23,
   "metadata": {
    "collapsed": true,
    "jupyter": {
     "outputs_hidden": true
    },
    "tags": []
   },
   "outputs": [
    {
     "data": {
      "text/plain": [
       "[[[-0.08469535809523869,\n",
       "   -0.5686583802185792,\n",
       "   -0.7197209668513921,\n",
       "   -0.12821259177343627,\n",
       "   -0.004098006449016495,\n",
       "   -0.010720797870861373,\n",
       "   -0.01205101304126996,\n",
       "   -0.04366820381386255,\n",
       "   -0.11920661495849395,\n",
       "   -0.0821762381341865,\n",
       "   -0.11995516860182065,\n",
       "   -0.12265198334987305,\n",
       "   -0.13190032074998065,\n",
       "   -0.15845614140530825,\n",
       "   -0.1671617923817393,\n",
       "   -0.10739372800482049,\n",
       "   -0.021267808777168364,\n",
       "   -0.0017251717288386443,\n",
       "   -0.00012711177032230782,\n",
       "   -1.6529079046109e-05],\n",
       "  [0.03298753588324479,\n",
       "   0.22148290426312364,\n",
       "   0.28027945817611016,\n",
       "   0.048276062820857744,\n",
       "   -0.02340484077051256,\n",
       "   -0.09048472200407941,\n",
       "   -0.09746199705137285,\n",
       "   -0.07810880162877244,\n",
       "   -0.19258683066885535,\n",
       "   -0.2662092481355976,\n",
       "   -0.3356676619200806,\n",
       "   -0.3381532965027015,\n",
       "   -0.3712272601538803,\n",
       "   -0.3909729568786146,\n",
       "   -0.39120469971407423,\n",
       "   -0.2517023148105238,\n",
       "   -0.05074225740202574,\n",
       "   -0.004222599821955457,\n",
       "   -0.00031667625726824523,\n",
       "   -4.153023254747151e-05],\n",
       "  [-0.004321100984449884,\n",
       "   -0.02901556297525671,\n",
       "   -0.036879856836223975,\n",
       "   -0.01324513795361174,\n",
       "   -0.11588218416271384,\n",
       "   -0.584866213965812,\n",
       "   -0.5128955603727982,\n",
       "   0.11313454465252931,\n",
       "   0.5553813244425321,\n",
       "   0.2014177541837038,\n",
       "   -0.08247411515546296,\n",
       "   -0.08668665830779151,\n",
       "   -0.04895385773424179,\n",
       "   0.005095070213674869,\n",
       "   -0.02175556377769615,\n",
       "   0.0006028458298808066,\n",
       "   0.0038762131978897245,\n",
       "   0.00044712990533709744,\n",
       "   3.552870006607488e-05,\n",
       "   4.651534307415321e-06],\n",
       "  [0.0014429498203663788,\n",
       "   0.009687870924600429,\n",
       "   0.012242498691551997,\n",
       "   0.001181390690486957,\n",
       "   -0.02721613166439819,\n",
       "   -0.242820622616697,\n",
       "   -0.24362891540182002,\n",
       "   -0.06919514276633777,\n",
       "   -0.4261457018221607,\n",
       "   0.15020586377161957,\n",
       "   0.7453544472901008,\n",
       "   0.06635617620740483,\n",
       "   -0.2729590672691661,\n",
       "   -0.19262125537790195,\n",
       "   0.012097036097695817,\n",
       "   -0.003917817349919422,\n",
       "   -0.004168987134328953,\n",
       "   -0.00041859912954081657,\n",
       "   -3.446049835522237e-05,\n",
       "   -4.818871310256787e-06],\n",
       "  [0.0016897421164173195,\n",
       "   0.011343835160268977,\n",
       "   0.014285893451631603,\n",
       "   -0.00047767954964536406,\n",
       "   -0.048948233041977506,\n",
       "   -0.23189497480835705,\n",
       "   -0.25587534380507215,\n",
       "   -0.05927943965647615,\n",
       "   -0.36829332769077056,\n",
       "   -0.0823027880960539,\n",
       "   -0.13987249338468813,\n",
       "   0.3763831239153461,\n",
       "   0.6285726296062722,\n",
       "   0.07590916825412138,\n",
       "   -0.3600476564031891,\n",
       "   -0.19957575758317164,\n",
       "   -0.023074562506435484,\n",
       "   -0.0011873882543786116,\n",
       "   -6.73130473286211e-05,\n",
       "   -7.822740584516707e-06],\n",
       "  [-0.0013133923690719662,\n",
       "   -0.008820227451587446,\n",
       "   -0.011262571879664937,\n",
       "   -0.00622404093589633,\n",
       "   -0.06991657247865965,\n",
       "   -0.2742483529428716,\n",
       "   -0.1919753739093772,\n",
       "   -0.1252709213089829,\n",
       "   -0.41573448493551285,\n",
       "   -0.29042117298622605,\n",
       "   -0.26242924403976053,\n",
       "   -0.23059845940818985,\n",
       "   -0.08540044232481594,\n",
       "   0.3936818314068334,\n",
       "   0.5547322305646114,\n",
       "   0.13369472953534303,\n",
       "   0.0011678965127751172,\n",
       "   -0.0007504725139978889,\n",
       "   -8.574198013783872e-05,\n",
       "   -1.2969337553651877e-05],\n",
       "  [0.0022774007597023346,\n",
       "   0.015292061492911097,\n",
       "   0.01941829048817234,\n",
       "   0.0061229767316724705,\n",
       "   0.038687791743305916,\n",
       "   0.08012105701380419,\n",
       "   0.023495415582083977,\n",
       "   -0.08064649937061358,\n",
       "   -0.22153997603127937,\n",
       "   0.7308516238494263,\n",
       "   -0.08764026205854644,\n",
       "   -0.4997255822987888,\n",
       "   0.10794979631398653,\n",
       "   0.28579948328750343,\n",
       "   -0.14236000960521047,\n",
       "   -0.17123558077618573,\n",
       "   -0.02859240973972114,\n",
       "   -0.0019523703161928516,\n",
       "   -0.00012772211119790877,\n",
       "   -1.5553319182509072e-05],\n",
       "  [-0.0010499321863412386,\n",
       "   -0.007050280314144343,\n",
       "   -0.008966529339032848,\n",
       "   -0.0031714352030251533,\n",
       "   -0.010055696099342374,\n",
       "   0.05925509554541813,\n",
       "   -0.022169131840459065,\n",
       "   0.01895680255861772,\n",
       "   0.21007476847253373,\n",
       "   -0.48143659229012953,\n",
       "   0.45803680967407545,\n",
       "   -0.500907874345823,\n",
       "   0.25189616292828465,\n",
       "   0.33973327481001636,\n",
       "   -0.2224383996034679,\n",
       "   -0.1729601679629402,\n",
       "   -0.022598294495830243,\n",
       "   -0.001216076635136902,\n",
       "   -6.34360873025832e-05,\n",
       "   -6.621716539001469e-06],\n",
       "  [0.0002769990987256646,\n",
       "   0.001858176573121553,\n",
       "   0.0022678557940593053,\n",
       "   -0.0029660941119638387,\n",
       "   -0.04623301224260997,\n",
       "   -0.07847163258117129,\n",
       "   0.05107322270669255,\n",
       "   -0.14552415801083302,\n",
       "   -0.019991492725429633,\n",
       "   0.016731306965647893,\n",
       "   0.028574876568310165,\n",
       "   -0.3863771210521816,\n",
       "   0.5135561130352656,\n",
       "   -0.596992078124158,\n",
       "   0.1951569163773987,\n",
       "   0.3914426030451936,\n",
       "   0.07507428369723669,\n",
       "   0.005371681778994375,\n",
       "   0.00035461488468565487,\n",
       "   4.32317672434503e-05],\n",
       "  [-0.0002495226898571409,\n",
       "   -0.001671863316403405,\n",
       "   -0.001936627969037791,\n",
       "   0.007394537773010173,\n",
       "   0.15286277983558133,\n",
       "   0.503208890936497,\n",
       "   -0.5966794848995431,\n",
       "   -0.5838081828318532,\n",
       "   0.13779864956776214,\n",
       "   -0.004335722906702078,\n",
       "   -0.016115047120340165,\n",
       "   0.058671779168497334,\n",
       "   -0.021480171430575436,\n",
       "   -0.009813891522263812,\n",
       "   0.041913049654880866,\n",
       "   0.038339256877263514,\n",
       "   0.0005948572724563778,\n",
       "   -0.00029545885620874183,\n",
       "   -3.152326820710168e-05,\n",
       "   -4.559491857442163e-06]]]"
      ]
     },
     "execution_count": 23,
     "metadata": {},
     "output_type": "execute_result"
    }
   ],
   "source": [
    "hypers_1[\"optimization\"][\"RadialDimReduction\"]['projection_matrices'][8]"
   ]
  },
  {
   "cell_type": "code",
   "execution_count": 12,
   "metadata": {},
   "outputs": [
    {
     "data": {
      "text/plain": [
       "835305450"
      ]
     },
     "execution_count": 12,
     "metadata": {},
     "output_type": "execute_result"
    }
   ],
   "source": [
    "340941*2450"
   ]
  },
  {
   "cell_type": "code",
   "execution_count": 12,
   "metadata": {},
   "outputs": [],
   "source": [
    "soap1 = SphericalInvariants(**hypers_1)\n",
    "soap2 = SphericalInvariants(**hypers_2)"
   ]
  },
  {
   "cell_type": "code",
   "execution_count": 13,
   "metadata": {},
   "outputs": [],
   "source": [
    "feat1 = soap1.transform(frames).get_features(soap1)\n",
    "feat2 = soap2.transform(frames).get_features(soap2)"
   ]
  },
  {
   "cell_type": "code",
   "execution_count": 14,
   "metadata": {},
   "outputs": [],
   "source": [
    "from sklearn.model_selection import GroupKFold, GridSearchCV, train_test_split"
   ]
  },
  {
   "cell_type": "code",
   "execution_count": 15,
   "metadata": {},
   "outputs": [],
   "source": [
    "from skcosmo.kernel_model import RKHSTransform\n",
    "from skcosmo.sample_selection import CUR, PCovCUR, FPS"
   ]
  },
  {
   "cell_type": "code",
   "execution_count": null,
   "metadata": {},
   "outputs": [],
   "source": [
    "feats = np.hstack([feat1, feat2])\n",
    "X_train, X_test, y_train, y_test, sig_train, sig_test, g_train, g_test = train_test_split_by_frame(frames, feats, cs, sigmas, train_size=0.8)"
   ]
  },
  {
   "cell_type": "code",
   "execution_count": null,
   "metadata": {},
   "outputs": [],
   "source": [
    "ar = AtomRidge(sigma=1, delta=[10, 2], feature_groups=[slice(0,feat1.shape[1]), slice(feat1.shape[1],feat1.shape[1]+feat2.shape[1])])"
   ]
  },
  {
   "cell_type": "code",
   "execution_count": null,
   "metadata": {},
   "outputs": [],
   "source": [
    "splits = list(GroupKFold(n_splits=2).split(X_train, y_train, g_train))\n",
    "gcv = GridSearchCV(ar, dict(delta=[[1,100], [1,10], [1, 1], [10, 1], [100,1]]), cv = splits, scoring='neg_mean_squared_error')"
   ]
  },
  {
   "cell_type": "code",
   "execution_count": null,
   "metadata": {},
   "outputs": [],
   "source": [
    "ar.fit(X_train, y_train, sample_sigmas=sig_train)"
   ]
  },
  {
   "cell_type": "code",
   "execution_count": null,
   "metadata": {},
   "outputs": [],
   "source": [
    "gcv.fit(X_train, y_train, sample_sigmas=sig_train)"
   ]
  },
  {
   "cell_type": "code",
   "execution_count": 17,
   "metadata": {
    "collapsed": true,
    "jupyter": {
     "outputs_hidden": true
    },
    "tags": []
   },
   "outputs": [
    {
     "data": {
      "text/plain": [
       "{'mean_fit_time': array([12.62226784, 11.41047299, 10.33597493, 10.8238939 , 11.28379452]),\n",
       " 'std_fit_time': array([0.85140407, 0.25386012, 1.32430291, 0.82745206, 0.48295629]),\n",
       " 'mean_score_time': array([1.31691337, 1.46901071, 1.0062598 , 1.15554893, 1.98514438]),\n",
       " 'std_score_time': array([0.37100816, 0.07117593, 0.06159365, 0.19415653, 0.04891634]),\n",
       " 'param_delta': masked_array(data=[list([1, 100]), list([1, 10]), list([1, 1]),\n",
       "                    list([10, 1]), list([100, 1])],\n",
       "              mask=[False, False, False, False, False],\n",
       "        fill_value='?',\n",
       "             dtype=object),\n",
       " 'params': [{'delta': [1, 100]},\n",
       "  {'delta': [1, 10]},\n",
       "  {'delta': [1, 1]},\n",
       "  {'delta': [10, 1]},\n",
       "  {'delta': [100, 1]}],\n",
       " 'split0_test_score': array([-2990.80983736, -2809.06744737, -2569.79538167, -2640.59620488,\n",
       "        -2649.73508213]),\n",
       " 'split1_test_score': array([-2264.2629626 , -2030.42550369, -2193.61853362, -2079.42343749,\n",
       "        -2077.68757716]),\n",
       " 'mean_test_score': array([-2627.53639998, -2419.74647553, -2381.70695764, -2360.00982119,\n",
       "        -2363.71132965]),\n",
       " 'std_test_score': array([363.27343738, 389.32097184, 188.08842402, 280.58638369,\n",
       "        286.02375249]),\n",
       " 'rank_test_score': array([5, 4, 3, 1, 2], dtype=int32)}"
      ]
     },
     "execution_count": 17,
     "metadata": {},
     "output_type": "execute_result"
    }
   ],
   "source": [
    "gcv.cv_results_"
   ]
  },
  {
   "cell_type": "code",
   "execution_count": null,
   "metadata": {},
   "outputs": [],
   "source": [
    "cs_pred = gcv.predict(feats)"
   ]
  },
  {
   "cell_type": "code",
   "execution_count": null,
   "metadata": {},
   "outputs": [],
   "source": [
    "p_test = gcv.predict(X_test)"
   ]
  },
  {
   "cell_type": "code",
   "execution_count": null,
   "metadata": {
    "tags": []
   },
   "outputs": [],
   "source": [
    "plt.plot(p_test, y_test, 'r.')\n",
    "np.sqrt(np.mean((p_test-y_test)**2))"
   ]
  },
  {
   "cell_type": "code",
   "execution_count": null,
   "metadata": {
    "tags": []
   },
   "outputs": [],
   "source": [
    "plt.plot(cs[type_idx['C']], cs_pred[type_idx['C']], 'r.')\n",
    "plt.plot(cs[type_idx['H']], cs_pred[type_idx['H']], 'b.')"
   ]
  },
  {
   "cell_type": "code",
   "execution_count": null,
   "metadata": {},
   "outputs": [],
   "source": [
    "sel = FPS(n_to_select = 1000, progress_bar=tqdm)"
   ]
  },
  {
   "cell_type": "code",
   "execution_count": null,
   "metadata": {},
   "outputs": [],
   "source": [
    "sel.fit(feats)"
   ]
  },
  {
   "cell_type": "code",
   "execution_count": null,
   "metadata": {},
   "outputs": [],
   "source": [
    "KBB1 = (feat1[sel.selected_idx_]@feat1[sel.selected_idx_].T)**2\n",
    "KBB2 = (feat2[sel.selected_idx_]@feat2[sel.selected_idx_].T)**2"
   ]
  },
  {
   "cell_type": "code",
   "execution_count": null,
   "metadata": {},
   "outputs": [],
   "source": [
    "rkhs1 = RKHSTransform(jitter=1e-10)\n",
    "rkhs1.fit(KBB1)\n",
    "rkhs2 = RKHSTransform(jitter=1e-10)\n",
    "rkhs2.fit(KBB2)"
   ]
  },
  {
   "cell_type": "code",
   "execution_count": null,
   "metadata": {},
   "outputs": [],
   "source": [
    "feats = np.hstack([rkhs1.transform((feat1@feat1[sel.selected_idx_].T)**2), \n",
    "                   rkhs2.transform((feat2@feat2[sel.selected_idx_].T)**2)])\n",
    "X_train, X_test, y_train, y_test, sig_train, sig_test, g_train, g_test = train_test_split_by_frame(frames, feats, cs, sigmas, train_size=0.8)"
   ]
  },
  {
   "cell_type": "code",
   "execution_count": null,
   "metadata": {},
   "outputs": [],
   "source": [
    "ar = AtomRidge(sigma=1, delta=[10, 2], feature_groups=[slice(0,rkhs1.nB_), slice(rkhs1.nB_,rkhs1.nB_+rkhs2.nB_)])\n",
    "splits = list(GroupKFold(n_splits=2).split(X_train, y_train, g_train))\n",
    "gcv = GridSearchCV(ar, dict(delta=[[1,100], [1,10], [1, 1], [10, 1], [100,1]]), cv = splits, scoring='neg_mean_squared_error')"
   ]
  },
  {
   "cell_type": "code",
   "execution_count": null,
   "metadata": {},
   "outputs": [],
   "source": [
    "gcv.fit(X_train, y_train, sample_sigmas=sig_train)"
   ]
  },
  {
   "cell_type": "code",
   "execution_count": null,
   "metadata": {},
   "outputs": [],
   "source": [
    "gcv.cv_results_"
   ]
  },
  {
   "cell_type": "code",
   "execution_count": null,
   "metadata": {},
   "outputs": [],
   "source": [
    "cs_pred = gcv.predict(feats)"
   ]
  },
  {
   "cell_type": "code",
   "execution_count": null,
   "metadata": {},
   "outputs": [],
   "source": [
    "plt.plot(cs[type_idx['C']], cs_pred[type_idx['C']], 'r.')\n",
    "plt.plot(cs[type_idx['H']], cs_pred[type_idx['H']], 'b.')\n",
    "plt.plot([-50,200],[-50,200], 'k--')"
   ]
  },
  {
   "cell_type": "code",
   "execution_count": null,
   "metadata": {},
   "outputs": [],
   "source": [
    "p_test = gcv.predict(X_test)"
   ]
  },
  {
   "cell_type": "code",
   "execution_count": null,
   "metadata": {},
   "outputs": [],
   "source": [
    "plt.plot(p_test, y_test, 'r.')\n",
    "np.sqrt(np.mean((p_test-y_test)**2))"
   ]
  },
  {
   "cell_type": "code",
   "execution_count": null,
   "metadata": {},
   "outputs": [],
   "source": [
    "http://127.0.0.1:8889/?token=59dc34f32750d9c64db74139213c3a7c2f4492022ccddd55"
   ]
  },
  {
   "cell_type": "code",
   "execution_count": 34,
   "metadata": {},
   "outputs": [],
   "source": [
    "feats = np.hstack([feat1, feat2, rkhs1.transform((feat1@feat1[sel.selected_idx_].T)**2), \n",
    "                   rkhs2.transform((feat2@feat2[sel.selected_idx_].T)**2)])\n",
    "ar = AtomRidge(sigma=1, delta=[10, 2], \n",
    "               feature_groups=[slice(0,feat1.shape[1]),\n",
    "                               slice(feat1.shape[1],feat1.shape[1]+feat2.shape[1]),\n",
    "                               slice(feat1.shape[1]+feat2.shape[1],feat1.shape[1]+feat2.shape[1]+rkhs1.nB_),\n",
    "                               slice(feat1.shape[1]+feat2.shape[1]+rkhs1.nB_,\n",
    "                                     feat1.shape[1]+feat2.shape[1]+rkhs1.nB_+rkhs2.nB_)])\n",
    "X_train, X_test, y_train, y_test, sig_train, sig_test, g_train, g_test = train_test_split_by_frame(frames, feats, cs, sigmas, train_size=0.8)"
   ]
  },
  {
   "cell_type": "code",
   "execution_count": 35,
   "metadata": {},
   "outputs": [],
   "source": [
    "splits = list(GroupKFold(n_splits=2).split(X_train, y_train, g_train))\n",
    "gcv = GridSearchCV(ar, dict(delta=[[1,1,1,1], [10,1,1,1], [1, 10, 1, 1], [1, 1, 1,10]]), cv = splits, scoring='neg_mean_squared_error')"
   ]
  },
  {
   "cell_type": "code",
   "execution_count": 36,
   "metadata": {},
   "outputs": [
    {
     "data": {
      "text/plain": [
       "GridSearchCV(cv=[(array([    0,     1,     2, ..., 12873, 12874, 12875]),\n",
       "                  array([   86,    87,    88, ..., 12605, 12606, 12607])),\n",
       "                 (array([   86,    87,    88, ..., 12605, 12606, 12607]),\n",
       "                  array([    0,     1,     2, ..., 12873, 12874, 12875]))],\n",
       "             estimator=AtomRidge(delta=[10, 2],\n",
       "                                 feature_groups=[slice(0, 50, None),\n",
       "                                                 slice(50, 6770, None),\n",
       "                                                 slice(6770, 7731, None),\n",
       "                                                 slice(7731, 8731, None)],\n",
       "                                 sigma=1),\n",
       "             param_grid={'delta': [[1, 1, 1, 1], [10, 1, 1, 1], [1, 10, 1, 1],\n",
       "                                   [1, 1, 1, 10]]},\n",
       "             scoring='neg_mean_squared_error')"
      ]
     },
     "execution_count": 36,
     "metadata": {},
     "output_type": "execute_result"
    }
   ],
   "source": [
    "gcv.fit(X_train, y_train, sample_sigmas=sig_train)"
   ]
  },
  {
   "cell_type": "code",
   "execution_count": 37,
   "metadata": {},
   "outputs": [
    {
     "data": {
      "text/plain": [
       "{'mean_fit_time': array([ 9.85993683, 13.27722335, 12.66051674, 11.67009723]),\n",
       " 'std_fit_time': array([1.35135758, 1.50251627, 0.07989526, 0.10312021]),\n",
       " 'mean_score_time': array([1.03893089, 1.13393652, 1.11975455, 0.98259676]),\n",
       " 'std_score_time': array([0.07027054, 0.11650789, 0.00368428, 0.00716817]),\n",
       " 'param_delta': masked_array(data=[list([1, 1, 1, 1]), list([10, 1, 1, 1]),\n",
       "                    list([1, 10, 1, 1]), list([1, 1, 1, 10])],\n",
       "              mask=[False, False, False, False],\n",
       "        fill_value='?',\n",
       "             dtype=object),\n",
       " 'params': [{'delta': [1, 1, 1, 1]},\n",
       "  {'delta': [10, 1, 1, 1]},\n",
       "  {'delta': [1, 10, 1, 1]},\n",
       "  {'delta': [1, 1, 1, 10]}],\n",
       " 'split0_test_score': array([-2254.38191997, -2350.89008397, -2407.5595815 , -4178.02238631]),\n",
       " 'split1_test_score': array([-1904.86760492, -1755.33312981, -2329.76061556, -5183.96133146]),\n",
       " 'mean_test_score': array([-2079.62476245, -2053.11160689, -2368.66009853, -4680.99185888]),\n",
       " 'std_test_score': array([174.75715753, 297.77847708,  38.89948297, 502.96947258]),\n",
       " 'rank_test_score': array([2, 1, 3, 4], dtype=int32)}"
      ]
     },
     "execution_count": 37,
     "metadata": {},
     "output_type": "execute_result"
    }
   ],
   "source": [
    "gcv.cv_results_"
   ]
  },
  {
   "cell_type": "code",
   "execution_count": 53,
   "metadata": {},
   "outputs": [],
   "source": [
    "cs_pred = gcv.predict(feats)"
   ]
  },
  {
   "cell_type": "code",
   "execution_count": 54,
   "metadata": {},
   "outputs": [
    {
     "data": {
      "text/plain": [
       "[<matplotlib.lines.Line2D at 0x7f0cfe652790>]"
      ]
     },
     "execution_count": 54,
     "metadata": {},
     "output_type": "execute_result"
    },
    {
     "data": {
      "image/png": "[encoded data removed]",
      "text/plain": [
       "<Figure size 432x288 with 1 Axes>"
      ]
     },
     "metadata": {
      "needs_background": "light"
     },
     "output_type": "display_data"
    }
   ],
   "source": [
    "plt.plot(cs[type_idx['C']], cs_pred[type_idx['C']], 'r.')\n",
    "plt.plot(cs[type_idx['H']], cs_pred[type_idx['H']], 'b.')\n",
    "plt.plot([-50,200],[-50,200], 'k--')"
   ]
  },
  {
   "cell_type": "code",
   "execution_count": 55,
   "metadata": {},
   "outputs": [],
   "source": [
    "p_test = gcv.predict(X_test)"
   ]
  },
  {
   "cell_type": "code",
   "execution_count": 56,
   "metadata": {},
   "outputs": [
    {
     "data": {
      "text/plain": [
       "33.52512284197961"
      ]
     },
     "execution_count": 56,
     "metadata": {},
     "output_type": "execute_result"
    },
    {
     "data": {
      "image/png": "[encoded data removed]",
      "text/plain": [
       "<Figure size 432x288 with 1 Axes>"
      ]
     },
     "metadata": {
      "needs_background": "light"
     },
     "output_type": "display_data"
    }
   ],
   "source": [
    "plt.plot(p_test, y_test, 'r.')\n",
    "np.sqrt(np.mean((p_test-y_test)**2))"
   ]
  },
  {
   "cell_type": "markdown",
   "metadata": {},
   "source": [
    "# Tensor stuff"
   ]
  },
  {
   "cell_type": "code",
   "execution_count": 4,
   "metadata": {},
   "outputs": [],
   "source": [
    "cg = ClebschGordanReal(lmax=2)"
   ]
  },
  {
   "cell_type": "code",
   "execution_count": null,
   "metadata": {},
   "outputs": [],
   "source": [
    "cg.couple()"
   ]
  },
  {
   "cell_type": "code",
   "execution_count": 18,
   "metadata": {},
   "outputs": [],
   "source": [
    "tcs_coupled = cg.couple(xyz_to_spherical(tcs))"
   ]
  },
  {
   "cell_type": "code",
   "execution_count": 19,
   "metadata": {},
   "outputs": [
    {
     "data": {
      "text/plain": [
       "(340941, 9)"
      ]
     },
     "execution_count": 19,
     "metadata": {},
     "output_type": "execute_result"
    }
   ],
   "source": [
    "np.concatenate([tcs_coupled[(1,1)][l] for l in [0,1,2]],axis=1).shape"
   ]
  },
  {
   "cell_type": "code",
   "execution_count": 11,
   "metadata": {},
   "outputs": [],
   "source": [
    "tcs_cart = spherical_to_xyz(cg.decouple(tcs_coupled))"
   ]
  },
  {
   "cell_type": "code",
   "execution_count": 12,
   "metadata": {},
   "outputs": [
    {
     "data": {
      "text/plain": [
       "array([[  61.3422, -101.3244,   47.903 ],\n",
       "       [-105.0865,  -13.6984,  -34.2244],\n",
       "       [  35.4635,  -54.8832,   60.0297]])"
      ]
     },
     "execution_count": 12,
     "metadata": {},
     "output_type": "execute_result"
    }
   ],
   "source": [
    "tcs[0]"
   ]
  },
  {
   "cell_type": "code",
   "execution_count": 13,
   "metadata": {},
   "outputs": [
    {
     "name": "stdout",
     "output_type": "stream",
     "text": [
      "[-62.16532421] [-8.7960548   2.66020642 14.60797757] [-145.9545471   -63.00858822   29.5635449    58.94901747   53.06171712]\n"
     ]
    }
   ],
   "source": [
    "print(tcs_coupled[(1,1)][0][0], tcs_coupled[(1,1)][1][0], tcs_coupled[(1,1)][2][0])"
   ]
  },
  {
   "cell_type": "code",
   "execution_count": 14,
   "metadata": {},
   "outputs": [
    {
     "data": {
      "text/plain": [
       "array([[  61.3422, -101.3244,   47.903 ],\n",
       "       [-105.0865,  -13.6984,  -34.2244],\n",
       "       [  35.4635,  -54.8832,   60.0297]])"
      ]
     },
     "execution_count": 14,
     "metadata": {},
     "output_type": "execute_result"
    }
   ],
   "source": [
    "tcs_cart[0]"
   ]
  },
  {
   "cell_type": "code",
   "execution_count": 15,
   "metadata": {},
   "outputs": [
    {
     "data": {
      "text/plain": [
       "62.163303483647006"
      ]
     },
     "execution_count": 15,
     "metadata": {},
     "output_type": "execute_result"
    }
   ],
   "source": [
    "cs[0]*np.sqrt(3)"
   ]
  },
  {
   "cell_type": "code",
   "execution_count": 16,
   "metadata": {},
   "outputs": [
    {
     "data": {
      "text/plain": [
       "35.89116666666666"
      ]
     },
     "execution_count": 16,
     "metadata": {},
     "output_type": "execute_result"
    }
   ],
   "source": [
    "tcs[0].trace()/3"
   ]
  },
  {
   "cell_type": "code",
   "execution_count": 17,
   "metadata": {},
   "outputs": [
    {
     "data": {
      "text/plain": [
       "array([[-145.9545471 ,  -63.00858822,   29.5635449 ,   58.94901747,\n",
       "          53.06171712],\n",
       "       [ 145.9545471 ,  -63.00858822,   29.5635449 ,  -58.94901747,\n",
       "          53.06171712],\n",
       "       [ 145.9545471 ,   63.00858822,   29.5635449 ,   58.94901747,\n",
       "          53.06171712],\n",
       "       ...,\n",
       "       [   3.03405378,   -3.12788685,    0.84454324,   -2.4951677 ,\n",
       "           2.93937218],\n",
       "       [  -3.03405378,    3.12788685,    0.84454324,   -2.4951677 ,\n",
       "           2.93937218],\n",
       "       [   3.03405378,   -3.12788685,    0.84454324,   -2.4951677 ,\n",
       "           2.93937218]])"
      ]
     },
     "execution_count": 17,
     "metadata": {},
     "output_type": "execute_result"
    }
   ],
   "source": [
    "tcs_coupled[(1,1)][2]"
   ]
  },
  {
   "cell_type": "markdown",
   "metadata": {},
   "source": [
    "## builds lambda-SOAP"
   ]
  },
  {
   "cell_type": "code",
   "execution_count": 68,
   "metadata": {},
   "outputs": [],
   "source": [
    "hypers_2 = {\n",
    "    'interaction_cutoff': 6,\n",
    "    'max_radial': 8,\n",
    "    'max_angular': 6,\n",
    "    'gaussian_sigma_type': 'Constant',\n",
    "    'gaussian_sigma_constant': 0.2,\n",
    "    'cutoff_smooth_width': 0.3,\n",
    "    'radial_basis': 'DVR'\n",
    "}\n",
    "hypers_2 = get_optimal_radial_basis_hypers(hypers_2, frames, expanded_max_radial=50)"
   ]
  },
  {
   "cell_type": "code",
   "execution_count": 69,
   "metadata": {},
   "outputs": [],
   "source": [
    "CG = ClebschGordanReal(lmax=hypers_2[\"max_angular\"])"
   ]
  },
  {
   "cell_type": "code",
   "execution_count": 70,
   "metadata": {},
   "outputs": [],
   "source": [
    "spex = SphericalExpansion(**hypers_2)"
   ]
  },
  {
   "cell_type": "code",
   "execution_count": 71,
   "metadata": {},
   "outputs": [],
   "source": [
    "feats = spex.transform(frames).get_features(spex)\n",
    "ref_feats = 1e3*spherical_expansion_reshape(feats, **hypers_2)"
   ]
  },
  {
   "cell_type": "code",
   "execution_count": 238,
   "metadata": {},
   "outputs": [],
   "source": [
    "isel =type_idx['H'][::10]\n",
    "nsel = len(isel)"
   ]
  },
  {
   "cell_type": "code",
   "execution_count": 239,
   "metadata": {},
   "outputs": [
    {
     "data": {
      "text/plain": [
       "643"
      ]
     },
     "execution_count": 239,
     "metadata": {},
     "output_type": "execute_result"
    }
   ],
   "source": [
    "nsel"
   ]
  },
  {
   "cell_type": "code",
   "execution_count": 181,
   "metadata": {},
   "outputs": [],
   "source": [
    "lsoap = compute_lambda_soap(ref_feats[isel], CG, 2, 1)"
   ]
  },
  {
   "cell_type": "markdown",
   "metadata": {},
   "source": [
    "this is a simple PCA contraction"
   ]
  },
  {
   "cell_type": "code",
   "execution_count": 172,
   "metadata": {},
   "outputs": [],
   "source": [
    "lsr = np.moveaxis(lsoap,-1,1).reshape((lsoap.shape[0]*lsoap.shape[-1], -1))"
   ]
  },
  {
   "cell_type": "code",
   "execution_count": 173,
   "metadata": {},
   "outputs": [],
   "source": [
    "u, s, vt = sp.linalg.svd(lsr, full_matrices=False)"
   ]
  },
  {
   "cell_type": "code",
   "execution_count": 178,
   "metadata": {},
   "outputs": [
    {
     "data": {
      "text/plain": [
       "(0.01, 10000.0)"
      ]
     },
     "execution_count": 178,
     "metadata": {},
     "output_type": "execute_result"
    },
    {
     "data": {
      "image/png": "[encoded data removed]",
      "text/plain": [
       "<Figure size 432x288 with 1 Axes>"
      ]
     },
     "metadata": {
      "needs_background": "light"
     },
     "output_type": "display_data"
    }
   ],
   "source": [
    "plt.loglog(s)\n",
    "plt.ylim(1e-2,1e4)"
   ]
  },
  {
   "cell_type": "code",
   "execution_count": 28,
   "metadata": {},
   "outputs": [
    {
     "data": {
      "text/plain": [
       "(2515, 9000)"
      ]
     },
     "execution_count": 28,
     "metadata": {},
     "output_type": "execute_result"
    }
   ],
   "source": [
    "vt.shape"
   ]
  },
  {
   "cell_type": "code",
   "execution_count": 29,
   "metadata": {},
   "outputs": [],
   "source": [
    "lsoap_pca = np.moveaxis((lsr@vt[:1000].T).reshape((lsoap.shape[0], lsoap.shape[-1], -1)), 1, -1)"
   ]
  },
  {
   "cell_type": "code",
   "execution_count": 30,
   "metadata": {},
   "outputs": [
    {
     "data": {
      "text/plain": [
       "(503, 1000, 5)"
      ]
     },
     "execution_count": 30,
     "metadata": {},
     "output_type": "execute_result"
    }
   ],
   "source": [
    "lsoap_pca.shape"
   ]
  },
  {
   "cell_type": "markdown",
   "metadata": {},
   "source": [
    "now do 0-1-2"
   ]
  },
  {
   "cell_type": "markdown",
   "metadata": {},
   "source": [
    "no - pca"
   ]
  },
  {
   "cell_type": "code",
   "execution_count": 148,
   "metadata": {},
   "outputs": [],
   "source": [
    "lsoap0 = compute_lambda_soap(ref_feats[:nsel], CG, 0, 1)\n",
    "lsoap0.shape = (lsoap0.shape[0], -1, lsoap0.shape[-1])\n",
    "lsoap1 = compute_lambda_soap(ref_feats[:nsel], CG, 1, -1)\n",
    "lsoap1.shape = (lsoap1.shape[0], -1, lsoap1.shape[-1])\n",
    "lsoap2 = compute_lambda_soap(ref_feats[:nsel], CG, 2, 1)\n",
    "lsoap2.shape = (lsoap2.shape[0], -1, lsoap2.shape[-1])"
   ]
  },
  {
   "cell_type": "markdown",
   "metadata": {},
   "source": [
    "pca"
   ]
  },
  {
   "cell_type": "code",
   "execution_count": 240,
   "metadata": {},
   "outputs": [],
   "source": [
    "lsoap0 = compute_lambda_soap(ref_feats[isel], CG, 0, 1)\n",
    "lsr = np.moveaxis(lsoap0,-1,1).reshape((lsoap0.shape[0]*lsoap0.shape[-1], -1))\n",
    "u, s, vt = sp.linalg.svd(lsr, full_matrices=False)\n",
    "lsoap0 = np.moveaxis((lsr@vt[:1000].T).reshape((lsoap0.shape[0], lsoap0.shape[-1], -1)), 1, -1)"
   ]
  },
  {
   "cell_type": "code",
   "execution_count": 241,
   "metadata": {},
   "outputs": [],
   "source": [
    "lsoap1 = compute_lambda_soap(ref_feats[isel], CG, 1, -1)\n",
    "lsr = np.moveaxis(lsoap1,-1,1).reshape((lsoap1.shape[0]*lsoap1.shape[-1], -1))\n",
    "u, s, vt = sp.linalg.svd(lsr, full_matrices=False)\n",
    "lsoap1 = np.moveaxis((lsr@vt[:1000].T).reshape((lsoap1.shape[0], lsoap1.shape[-1], -1)), 1, -1)"
   ]
  },
  {
   "cell_type": "code",
   "execution_count": 242,
   "metadata": {},
   "outputs": [],
   "source": [
    "lsoap2 = compute_lambda_soap(ref_feats[isel], CG, 2, 1)\n",
    "lsr = np.moveaxis(lsoap2,-1,1).reshape((lsoap2.shape[0]*lsoap2.shape[-1], -1))\n",
    "u, s, vt = sp.linalg.svd(lsr, full_matrices=False)\n",
    "lsoap2 = np.moveaxis((lsr@vt[:1000].T).reshape((lsoap2.shape[0], lsoap2.shape[-1], -1)), 1, -1)"
   ]
  },
  {
   "cell_type": "code",
   "execution_count": 107,
   "metadata": {},
   "outputs": [],
   "source": [
    "from sklearn.linear_model import Ridge"
   ]
  },
  {
   "cell_type": "code",
   "execution_count": 124,
   "metadata": {
    "code_folding": []
   },
   "outputs": [],
   "source": [
    "class SASplitter:\n",
    "    \"\"\" CV splitter that takes into account the presence of \"L blocks\"\n",
    "    associated with symmetry-adapted regression. Basically, you can trick conventional\n",
    "    regression schemes to work on symmetry-adapted data y^M_L(A_i) by having the (2L+1)\n",
    "    angular channels \"unrolled\" into a flat array. Then however splitting of train/test\n",
    "    or cross validation must not \"cut\" across the M block. This takes care of that.\n",
    "    \"\"\"\n",
    "    def __init__(self, L, cv=2):\n",
    "        self.L = L\n",
    "        self.cv = cv\n",
    "        self.n_splits = cv\n",
    "\n",
    "    def split(self, X, y, groups=None):\n",
    "\n",
    "        ntrain = X.shape[0]\n",
    "        if ntrain % (2*self.L+1) != 0:\n",
    "            raise ValueError(\"Size of training data is inconsistent with the L value\")\n",
    "        ntrain = ntrain // (2*self.L+1)\n",
    "        nbatch = (2*self.L+1)*(ntrain//self.n_splits)\n",
    "        idx = np.arange(len(X))\n",
    "        np.random.shuffle(idx)\n",
    "        for n in range(self.n_splits):\n",
    "            itest = idx[n*nbatch:(n+1)*nbatch]\n",
    "            itrain = np.concatenate([idx[:n*nbatch], idx[(n+1)*nbatch:]])\n",
    "            yield itrain, itest\n",
    "\n",
    "    def get_n_splits(self, X, y, groups=None):\n",
    "        return self.n_splits\n",
    "    \n",
    "class SARidge(Ridge):\n",
    "    \"\"\" Symmetry-adapted ridge regression class \"\"\"\n",
    "\n",
    "    def __init__(self, L, alpha=1, alphas=None, cv=2, solver='auto',\n",
    "                 fit_intercept=False, scoring='neg_root_mean_squared_error'):\n",
    "        self.L = L\n",
    "        # L>0 components have zero mean by symmetry\n",
    "        if L>0:\n",
    "            fit_intercept = False\n",
    "        self.cv = SASplitter(L, cv)\n",
    "        self.alphas = alphas\n",
    "        self.cv_stats = None\n",
    "        self.scoring = scoring\n",
    "        self.solver = solver\n",
    "        super(SARidge, self).__init__(alpha=alpha, fit_intercept=fit_intercept, solver=solver)\n",
    "\n",
    "    def fit(self, Xm, Ym, X0=None):\n",
    "        # this expects properties in the form [i, m] and features in the form [i, q, m]\n",
    "        # in order to train a SA-GPR model the m indices have to be moved and merged with the i\n",
    "\n",
    "        Xm_flat = np.moveaxis(Xm, 2, 1).reshape((-1, Xm.shape[1]))\n",
    "        Ym_flat = Ym.flatten()\n",
    "        if self.alphas is not None:\n",
    "            # determines alpha by grid search\n",
    "            rcv = Ridge(fit_intercept=self.fit_intercept)\n",
    "            gscv = GridSearchCV(rcv, dict(alpha=self.alphas), cv=self.cv, scoring=self.scoring)\n",
    "            gscv.fit(Xm_flat, Ym_flat)\n",
    "            self.cv_stats = gscv.cv_results_\n",
    "            self.alpha = gscv.best_params_[\"alpha\"]\n",
    "\n",
    "        super(SARidge, self).fit(Xm_flat, Ym_flat)\n",
    "    def predict(self, Xm, X0=None):\n",
    "\n",
    "        Y = super(SARidge, self).predict(np.moveaxis(Xm, 2, 1).reshape((-1, Xm.shape[1])))\n",
    "        return Y.reshape((-1, 2*self.L+1))"
   ]
  },
  {
   "cell_type": "code",
   "execution_count": 243,
   "metadata": {},
   "outputs": [],
   "source": [
    "tgt0 = tcs_coupled[(1,1)][0][isel]\n",
    "tgt1 = tcs_coupled[(1,1)][1][isel]\n",
    "tgt2 = tcs_coupled[(1,1)][2][isel]"
   ]
  },
  {
   "cell_type": "code",
   "execution_count": 256,
   "metadata": {},
   "outputs": [],
   "source": [
    "reg = 1e3\n",
    "sar0 = SARidge(L=0, alpha=reg)\n",
    "sar1 = SARidge(L=1, alpha=reg)\n",
    "sar2 = SARidge(L=2, alpha=reg)"
   ]
  },
  {
   "cell_type": "code",
   "execution_count": 257,
   "metadata": {},
   "outputs": [],
   "source": [
    "sar0.fit(lsoap0[::2], tgt0[::2])\n",
    "sar1.fit(lsoap1[::2], tgt1[::2])\n",
    "sar2.fit(lsoap2[::2], tgt2[::2])"
   ]
  },
  {
   "cell_type": "code",
   "execution_count": 258,
   "metadata": {},
   "outputs": [],
   "source": [
    "pred0 = sar0.predict(lsoap0)\n",
    "pred1 = sar1.predict(lsoap1)\n",
    "pred2 = sar2.predict(lsoap2)"
   ]
  },
  {
   "cell_type": "code",
   "execution_count": 259,
   "metadata": {},
   "outputs": [
    {
     "name": "stdout",
     "output_type": "stream",
     "text": [
      "2.2131415444738542\n"
     ]
    },
    {
     "data": {
      "image/png": "[encoded data removed]",
      "text/plain": [
       "<Figure size 432x288 with 1 Axes>"
      ]
     },
     "metadata": {
      "needs_background": "light"
     },
     "output_type": "display_data"
    }
   ],
   "source": [
    "plt.plot(pred0[1::2], tgt0[1::2], 'b.')\n",
    "plt.plot(pred0[::2], tgt0[::2], 'r.')\n",
    "print(np.mean(np.abs(pred0[1::2]-tgt0[1::2])))"
   ]
  },
  {
   "cell_type": "code",
   "execution_count": 260,
   "metadata": {},
   "outputs": [
    {
     "name": "stdout",
     "output_type": "stream",
     "text": [
      "0.977980063501437\n"
     ]
    },
    {
     "data": {
      "image/png": "[encoded data removed]",
      "text/plain": [
       "<Figure size 432x288 with 1 Axes>"
      ]
     },
     "metadata": {
      "needs_background": "light"
     },
     "output_type": "display_data"
    }
   ],
   "source": [
    "plt.plot(pred1[1::2].flatten(), tgt1[1::2].flatten(), 'b.')\n",
    "plt.plot(pred1[::2].flatten(), tgt1[::2].flatten(), 'r.')\n",
    "print(np.mean(np.abs(pred1[1::2]-tgt1[1::2])))"
   ]
  },
  {
   "cell_type": "code",
   "execution_count": 261,
   "metadata": {},
   "outputs": [
    {
     "name": "stdout",
     "output_type": "stream",
     "text": [
      "1.5383210083715102\n"
     ]
    },
    {
     "data": {
      "image/png": "[encoded data removed]",
      "text/plain": [
       "<Figure size 432x288 with 1 Axes>"
      ]
     },
     "metadata": {
      "needs_background": "light"
     },
     "output_type": "display_data"
    }
   ],
   "source": [
    "plt.plot(pred2[1::2].flatten(), tgt2[1::2].flatten(), 'b.')\n",
    "plt.plot(pred2[::2].flatten(), tgt2[::2].flatten(), 'r.')\n",
    "print(np.mean(np.abs(pred2[1::2]- tgt2[1::2])))"
   ]
  },
  {
   "cell_type": "code",
   "execution_count": null,
   "metadata": {},
   "outputs": [],
   "source": []
  }
 ],
 "metadata": {
  "kernelspec": {
   "display_name": "Python 3 (ipykernel)",
   "language": "python",
   "name": "python3"
  },
  "language_info": {
   "codemirror_mode": {
    "name": "ipython",
    "version": 3
   },
   "file_extension": ".py",
   "mimetype": "text/x-python",
   "name": "python",
   "nbconvert_exporter": "python",
   "pygments_lexer": "ipython3",
   "version": "3.8.10"
  },
  "toc": {
   "base_numbering": 1,
   "nav_menu": {},
   "number_sections": true,
   "sideBar": true,
   "skip_h1_title": false,
   "title_cell": "Table of Contents",
   "title_sidebar": "Contents",
   "toc_cell": false,
   "toc_position": {},
   "toc_section_display": true,
   "toc_window_display": false
  }
 },
 "nbformat": 4,
 "nbformat_minor": 4
}
