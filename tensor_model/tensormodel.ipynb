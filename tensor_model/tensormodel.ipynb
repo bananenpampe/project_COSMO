{
 "cells": [
  {
   "cell_type": "code",
   "execution_count": 2,
   "id": "ef450068-cff1-4202-ad91-4eb552d19957",
   "metadata": {},
   "outputs": [],
   "source": [
    "from helpers import *\n",
    "from rascal.representations import SphericalCovariants \n",
    "from rascal.neighbourlist.structure_manager import mask_center_atoms_by_species #change later\n",
    "from rascal.representations import SphericalExpansion\n",
    "from rascal.utils import ClebschGordanReal, compute_lambda_soap, spherical_expansion_reshape, xyz_to_spherical\n",
    "from rascal.representations import SphericalInvariants\n",
    "from sklearn.metrics import mean_squared_error, mean_absolute_error\n",
    "\n"
   ]
  },
  {
   "cell_type": "code",
   "execution_count": 3,
   "id": "58bd5875-d987-4638-86a7-858c926ee7c8",
   "metadata": {},
   "outputs": [],
   "source": [
    "hypers = {\"interaction_cutoff\": 3,\n",
    "          \"radial_basis\": \"GTO\",\n",
    "          \"max_radial\": 9,\n",
    "          \"max_angular\": 9,\n",
    "          \"gaussian_sigma_constant\": 0.3,\n",
    "          \"gaussian_sigma_type\":\"Constant\",\n",
    "          \"cutoff_function_type\":\"ShiftedCosine\",\n",
    "          \"cutoff_smooth_width\": 0.5,\n",
    "          \"compute_gradients\":False,\n",
    "          \"cutoff_function_parameters\":dict(rate=1,scale=3.5,exponent=4),\n",
    "         }\n",
    "hypers_soap = {\"soap_type\": \"PowerSpectrum\",\n",
    "          \"interaction_cutoff\": 3,\n",
    "          \"radial_basis\": \"GTO\",\n",
    "          \"max_radial\": 9,\n",
    "          \"max_angular\": 9,\n",
    "          \"gaussian_sigma_constant\": 0.3,\n",
    "          \"gaussian_sigma_type\":\"Constant\",\n",
    "          \"cutoff_function_type\":\"ShiftedCosine\",\n",
    "          \"cutoff_smooth_width\": 0.5,\n",
    "          \"normalize\": True,\n",
    "          \"compute_gradients\":False,\n",
    "          \"cutoff_function_parameters\":dict(rate=1,scale=3.5,exponent=4),\n",
    "         }"
   ]
  },
  {
   "cell_type": "code",
   "execution_count": 4,
   "id": "2a09290a-6a8a-46f0-8b5d-669d79d7c653",
   "metadata": {},
   "outputs": [],
   "source": [
    "def build_lambda(structures,hypers):\n",
    "    spex = SphericalExpansion(**hypers)\n",
    "    feat_scaling = 1e6            # just a scaling to make coefficients O(1)\n",
    "    feats = spex.transform(structures).get_features(spex)\n",
    "    ref_feats = feat_scaling*spherical_expansion_reshape(feats, **hypers)\n",
    "    CG = ClebschGordanReal(lmax=hypers[\"max_angular\"])\n",
    "    sel_lambda = 2\n",
    "    lsoap_utils = compute_lambda_soap(ref_feats, CG, sel_lambda, 1)\n",
    "    return lsoap_utils.reshape(lsoap_utils.shape[0],5,-1)\n",
    "\n",
    "def f2v(vec):\n",
    "    t = ()\n",
    "    for s in vec.shape:\n",
    "        t += (s//5,5)\n",
    "    return vec.reshape(t)\n",
    "\n",
    "def v2f(vec):\n",
    "    t = ()\n",
    "    for s in vec.shape[:-1:2]:        \n",
    "        t += tuple([s*5])\n",
    "    if len(vec.shape)%2==1: #if the number of dimensions is uneven\n",
    "        t += tuple([-1])\n",
    "    #print(t)\n",
    "    return vec.reshape(t)\n",
    "\n",
    "def train_model(X_train, y_train, sigma=1e-03):\n",
    "    KMM = f2v(v2f(X_train) @ v2f(X_train).T)\n",
    "    A = v2f(KMM)\n",
    "    weights = f2v( np.linalg.lstsq(A + sigma * np.eye(A.shape[0]), v2f(y_train), rcond=None)[0] )\n",
    "    return weights\n",
    "\n",
    "def train_soap(X_train,y_train):\n",
    "    kernel = (X_train@X_train.T)**1\n",
    "    weights = np.linalg.lstsq( kernel + 1e-3*np.eye(kernel.shape[0]), y_train, rcond=None)[0]\n",
    "    return weights\n",
    "\n",
    "def predict_soap(X_test,X_train,weights):\n",
    "    kernel = (X_test@X_train.T)**1\n",
    "    return kernel @ weights\n",
    "\n",
    "def predict(X_test, X_train, weights):\n",
    "    lKM = f2v(v2f(X_test) @ v2f(X_train).T)\n",
    "    y_pred = f2v(v2f(lKM) @ v2f(weights) )\n",
    "    return y_pred"
   ]
  },
  {
   "cell_type": "code",
   "execution_count": 13,
   "id": "79c41f7c-3a26-4b50-804c-d57a8445868e",
   "metadata": {},
   "outputs": [],
   "source": [
    "A = np.eye(2*5*2*5)"
   ]
  },
  {
   "cell_type": "code",
   "execution_count": 15,
   "id": "3b99ea50-02c7-4754-93c0-f72cbc3b66ad",
   "metadata": {},
   "outputs": [
    {
     "data": {
      "text/plain": [
       "array([[1., 0., 0., ..., 0., 0., 0.],\n",
       "       [0., 1., 0., ..., 0., 0., 0.],\n",
       "       [0., 0., 1., ..., 0., 0., 0.],\n",
       "       ...,\n",
       "       [0., 0., 0., ..., 1., 0., 0.],\n",
       "       [0., 0., 0., ..., 0., 1., 0.],\n",
       "       [0., 0., 0., ..., 0., 0., 1.]])"
      ]
     },
     "execution_count": 15,
     "metadata": {},
     "output_type": "execute_result"
    }
   ],
   "source": [
    "A"
   ]
  },
  {
   "cell_type": "code",
   "execution_count": 5,
   "id": "b061deaf-308f-4bb0-ae66-fa6e248e5d51",
   "metadata": {
    "tags": []
   },
   "outputs": [],
   "source": [
    "PATH_TRAIN = \"./train_tensor/CSD-3k+S546_shift_tensors.xyz\"\n",
    "PATH_TEST = \"./test_tensor/CSD-500+104-7_shift_tensors.xyz\"\n",
    "\n",
    "structures_train, tensors_train = load_CSD_data(PATH_TRAIN,prop_string=\"cs_tensor\",random_subsample=20)\n",
    "structures_test, tensors_test = load_CSD_data(PATH_TEST,prop_string=\"cs_tensor\",random_subsample=20)#,random_subsample=20)\n",
    "\n",
    "\n",
    "#-----mask----\n",
    "for structure in structures_train: mask_center_atoms_by_species(structure,species_select=[1])\n",
    "for structure in structures_test: mask_center_atoms_by_species(structure,species_select=[1])\n",
    "\n",
    "#-----select tensors-----\n",
    "train_tensors = np.array([tensor for structure in structures_train for tensor in structure.arrays[\"cs_tensor\"][structure.arrays[\"center_atoms_mask\"]]])\n",
    "test_tensors = np.array([tensor for structure in structures_test for tensor in structure.arrays[\"cs_tensor\"][structure.arrays[\"center_atoms_mask\"]]])\n",
    "\n",
    "#------transform tensors\n",
    "cg = ClebschGordanReal(lmax=2)\n",
    "tensors_train_coupled = cg.couple(xyz_to_spherical(train_tensors.reshape(train_tensors.shape[0],3,3)))\n",
    "train_tensors_trans = tensors_train_coupled[(1,1)][2]\n",
    "\n",
    "tensors_test_coupled = cg.couple(xyz_to_spherical(test_tensors.reshape(test_tensors.shape[0],3,3)))\n",
    "test_tensors_trans = tensors_test_coupled[(1,1)][2]\n",
    "\n",
    "###-----lambda=2-------\n",
    "X_train = build_lambda(structures_train,hypers)\n",
    "X_test = build_lambda(structures_test,hypers)\n",
    "\n",
    "#-----train model for lambda=2------\n",
    "weights = train_model(X_train, train_tensors_trans)\n",
    "y_pred = predict(X_test,X_train,weights)\n"
   ]
  },
  {
   "cell_type": "code",
   "execution_count": 6,
   "id": "3ee4737d-a0fa-4e9b-b09f-4951ce810149",
   "metadata": {},
   "outputs": [
    {
     "data": {
      "text/plain": [
       "array([[-1.12521902, -0.55260395,  0.25397126, -1.98534371,  0.38091842],\n",
       "       [ 1.12811816,  0.54871486,  0.2556859 , -1.98675792,  0.38176695],\n",
       "       [-1.12521902, -0.55260395,  0.25397126, -1.98534371,  0.38091842],\n",
       "       ...,\n",
       "       [-3.62526576,  4.96834438,  4.65219339, -3.33761472, -1.20936473],\n",
       "       [-0.53938105, -0.04970961,  2.98274366,  4.51699812,  4.27884455],\n",
       "       [ 0.53938105,  0.04970961,  2.98274366,  4.51699812,  4.27884455]])"
      ]
     },
     "execution_count": 6,
     "metadata": {},
     "output_type": "execute_result"
    }
   ],
   "source": [
    "test_tensors_trans"
   ]
  },
  {
   "cell_type": "code",
   "execution_count": 7,
   "id": "7ac48f62-b90d-4d61-be40-0d65a738cf78",
   "metadata": {},
   "outputs": [
    {
     "data": {
      "text/plain": [
       "array([[-292.41765499,  192.70286943,    0.        , -119.63180183,\n",
       "           0.        ],\n",
       "       [-342.22134746,  171.88116508,    0.        ,  -41.30900212,\n",
       "           0.        ],\n",
       "       [-292.40830452,  192.67330828,    0.        , -119.64078283,\n",
       "           0.        ],\n",
       "       ...,\n",
       "       [   6.16603156, -315.95919229,    0.        ,    0.        ,\n",
       "           0.        ],\n",
       "       [ 194.61824219, -742.11742675,    0.        ,  -37.37815157,\n",
       "           0.        ],\n",
       "       [ 234.42091028, -606.2672545 ,    0.        ,  -48.33771909,\n",
       "           0.        ]])"
      ]
     },
     "execution_count": 7,
     "metadata": {},
     "output_type": "execute_result"
    }
   ],
   "source": [
    "y_pred"
   ]
  },
  {
   "cell_type": "code",
   "execution_count": 8,
   "id": "c961df4d-864e-4c5a-b605-a5bee74bd0cc",
   "metadata": {},
   "outputs": [
    {
     "data": {
      "text/plain": [
       "array([-2.91292436e+02,  1.93255473e+02, -2.53971261e-01, -1.17646458e+02,\n",
       "       -3.80918423e-01])"
      ]
     },
     "execution_count": 8,
     "metadata": {},
     "output_type": "execute_result"
    }
   ],
   "source": [
    "y_pred[0]-test_tensors_trans[0]"
   ]
  },
  {
   "cell_type": "code",
   "execution_count": 9,
   "id": "12c5a513-7191-40ff-b183-5e24eb239010",
   "metadata": {},
   "outputs": [],
   "source": [
    "def rmse_tens(y_true,y_pred):\n",
    "    return np.sqrt(np.average([np.linalg.norm(i[0]-i[1])**2 for i in zip(y_true,y_pred)]))"
   ]
  },
  {
   "cell_type": "code",
   "execution_count": 10,
   "id": "4dd383ca-d7e3-4174-8502-ebef29c6da39",
   "metadata": {},
   "outputs": [
    {
     "data": {
      "text/plain": [
       "515.4703021574411"
      ]
     },
     "execution_count": 10,
     "metadata": {},
     "output_type": "execute_result"
    }
   ],
   "source": [
    "rmse_tens(y_pred,test_tensors_trans)"
   ]
  },
  {
   "cell_type": "code",
   "execution_count": 11,
   "id": "eb0590e5-03ae-4d53-84a4-56d7785ca08a",
   "metadata": {},
   "outputs": [
    {
     "data": {
      "text/plain": [
       "(5, 3)"
      ]
     },
     "execution_count": 11,
     "metadata": {},
     "output_type": "execute_result"
    }
   ],
   "source": [
    "A = np.arange(3*3*5)\n",
    "A = A.reshape(5,3,3)\n",
    "\n",
    "np.linalg.norm(A,axis=2).shape"
   ]
  },
  {
   "cell_type": "code",
   "execution_count": 12,
   "id": "76f5ee2e-6249-42c7-97ab-ef9cfadda198",
   "metadata": {},
   "outputs": [
    {
     "data": {
      "text/plain": [
       "(5, 3, 3)"
      ]
     },
     "execution_count": 12,
     "metadata": {},
     "output_type": "execute_result"
    }
   ],
   "source": [
    "A.shape"
   ]
  },
  {
   "cell_type": "code",
   "execution_count": null,
   "id": "17181eae-0bb9-49fe-92aa-2af1981249c3",
   "metadata": {},
   "outputs": [],
   "source": [
    "f\n"
   ]
  },
  {
   "cell_type": "code",
   "execution_count": null,
   "id": "86f3d721-cb70-4fc2-b0cf-6a333dfc5345",
   "metadata": {},
   "outputs": [],
   "source": []
  },
  {
   "cell_type": "code",
   "execution_count": null,
   "id": "3b46cbea-d93e-4ff3-9046-27cad4e370b4",
   "metadata": {},
   "outputs": [],
   "source": []
  }
 ],
 "metadata": {
  "kernelspec": {
   "display_name": "Python 3",
   "language": "python",
   "name": "python3"
  },
  "language_info": {
   "codemirror_mode": {
    "name": "ipython",
    "version": 3
   },
   "file_extension": ".py",
   "mimetype": "text/x-python",
   "name": "python",
   "nbconvert_exporter": "python",
   "pygments_lexer": "ipython3",
   "version": "3.8.10"
  }
 },
 "nbformat": 4,
 "nbformat_minor": 5
}
