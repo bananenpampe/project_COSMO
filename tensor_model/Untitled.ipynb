{
 "cells": [
  {
   "cell_type": "code",
   "execution_count": 4,
   "id": "c38f6254-3085-445c-9ea6-5efc70f8939d",
   "metadata": {},
   "outputs": [],
   "source": [
    "from helpers import *\n",
    "from rascal.representations import SphericalCovariants \n",
    "from rascal.neighbourlist.structure_manager import mask_center_atoms_by_species #change later\n",
    "from rascal.representations import SphericalExpansion\n",
    "from rascal.utils import ClebschGordanReal, compute_lambda_soap, spherical_expansion_reshape, xyz_to_spherical\n",
    "from rascal.representations import SphericalInvariants\n",
    "from sklearn.metrics import mean_squared_error, mean_absolute_error"
   ]
  },
  {
   "cell_type": "code",
   "execution_count": 5,
   "id": "34fdb2b5-3f8d-4001-82a5-1cd01d5ab6eb",
   "metadata": {},
   "outputs": [],
   "source": [
    "hypers = {\"interaction_cutoff\": 3,\n",
    "          \"radial_basis\": \"GTO\",\n",
    "          \"max_radial\": 6,\n",
    "          \"max_angular\": 4,\n",
    "          \"gaussian_sigma_constant\": 0.3,\n",
    "          \"gaussian_sigma_type\":\"Constant\",\n",
    "          \"cutoff_function_type\":\"ShiftedCosine\",\n",
    "          \"cutoff_smooth_width\": 0.5,\n",
    "          \"compute_gradients\":False,\n",
    "          \"cutoff_function_parameters\":dict(rate=1,scale=3.5,exponent=4),\n",
    "         }\n",
    "hypers_soap = {\"soap_type\": \"PowerSpectrum\",\n",
    "          \"interaction_cutoff\": 3,\n",
    "          \"radial_basis\": \"GTO\",\n",
    "          \"max_radial\": 9,\n",
    "          \"max_angular\": 9,\n",
    "          \"gaussian_sigma_constant\": 0.3,\n",
    "          \"gaussian_sigma_type\":\"Constant\",\n",
    "          \"cutoff_function_type\":\"ShiftedCosine\",\n",
    "          \"cutoff_smooth_width\": 0.5,\n",
    "          \"normalize\": True,\n",
    "          \"compute_gradients\":False,\n",
    "          \"cutoff_function_parameters\":dict(rate=1,scale=3.5,exponent=4),\n",
    "         }"
   ]
  },
  {
   "cell_type": "code",
   "execution_count": 133,
   "id": "5f9cc242-acd7-40bb-89ae-76ecec181af3",
   "metadata": {},
   "outputs": [],
   "source": [
    "def build_lambda(structures,hypers):\n",
    "    spex = SphericalExpansion(**hypers)\n",
    "    feat_scaling = 1e6            # just a scaling to make coefficients O(1)\n",
    "    feats = spex.transform(structures).get_features(spex)\n",
    "    ref_feats = feat_scaling*spherical_expansion_reshape(feats, **hypers)\n",
    "    CG = ClebschGordanReal(lmax=hypers[\"max_angular\"])\n",
    "    sel_lambda = 2\n",
    "    lsoap_utils = compute_lambda_soap(ref_feats, CG, sel_lambda, 1)\n",
    "    return lsoap_utils.reshape(lsoap_utils.shape[0],5,-1)\n",
    "\n",
    "def build_soap(structures,hypers):\n",
    "    soap = SphericalInvariants(**hypers)\n",
    "    X = soap.transform(structures).get_features(soap)\n",
    "    return X\n",
    "\n",
    "def tensvec_to_irrep(tensor,order=2):\n",
    "    #flatten tensor?\n",
    "    fivevec = np.zeros((6))\n",
    "    fivevec[0] = np.trace(tensor)/np.sqrt(3)\n",
    "    fivevec[1:4] = tensor[0,1],tensor[1,2],tensor[0,2]\n",
    "    fivevec[4] = 1/(2*np.sqrt(3)) * (2*tensor[2,2]-tensor[0,0]-tensor[1,1])\n",
    "    fivevec[5] = 0.5 * (tensor[0,0]-tensor[1,1])\n",
    "    fivevec[1:] = np.sqrt(2) * fivevec[1:]\n",
    "    return fivevec\n",
    "    \n",
    "def irrep_to_tensvec(b):\n",
    "    #vector is axx, ayy, azz, axy, ayz, axz\n",
    "    A = np.array([[1,1,1,0,0,0],[0,0,0,1,0,0],[0,0,0,0,1,0],[0,0,0,0,0,1],[-1,-1,2,0,0,0],[1,-1,0,0,0,0]])\n",
    "    print(A)\n",
    "    b[0] = b[0] * np.sqrt(3)\n",
    "    b[1:] = b[1:] * 1/np.sqrt(2)\n",
    "    b[4] = b[4] * 2*np.sqrt(3)\n",
    "    b[5] = b[5] * 2\n",
    "    tensvec = np.linalg.solve(A, b)\n",
    "    #permutate\n",
    "    return tensvec"
   ]
  },
  {
   "cell_type": "code",
   "execution_count": null,
   "id": "4ea42e6e-e7c0-443c-9ef2-b72e0b39f35c",
   "metadata": {},
   "outputs": [],
   "source": []
  },
  {
   "cell_type": "code",
   "execution_count": null,
   "id": "92881866-977f-4d83-9426-9c45003deeab",
   "metadata": {},
   "outputs": [],
   "source": []
  },
  {
   "cell_type": "code",
   "execution_count": 2,
   "id": "69c21d1f-e0c6-46b9-a4af-3f2549dda344",
   "metadata": {},
   "outputs": [
    {
     "ename": "NameError",
     "evalue": "name 'ClebschGordanReal' is not defined",
     "output_type": "error",
     "traceback": [
      "\u001b[0;31m---------------------------------------------------------------------------\u001b[0m",
      "\u001b[0;31mNameError\u001b[0m                                 Traceback (most recent call last)",
      "\u001b[0;32m<ipython-input-2-3035802020a1>\u001b[0m in \u001b[0;36m<module>\u001b[0;34m\u001b[0m\n\u001b[0;32m----> 1\u001b[0;31m \u001b[0mcg\u001b[0m \u001b[0;34m=\u001b[0m \u001b[0mClebschGordanReal\u001b[0m\u001b[0;34m(\u001b[0m\u001b[0mlmax\u001b[0m\u001b[0;34m=\u001b[0m\u001b[0;36m2\u001b[0m\u001b[0;34m)\u001b[0m\u001b[0;34m\u001b[0m\u001b[0;34m\u001b[0m\u001b[0m\n\u001b[0m",
      "\u001b[0;31mNameError\u001b[0m: name 'ClebschGordanReal' is not defined"
     ]
    }
   ],
   "source": [
    "cg = ClebschGordanReal(lmax=2)"
   ]
  },
  {
   "cell_type": "code",
   "execution_count": 3,
   "id": "5181dae2-4b3a-4ce6-9b7d-767966e30394",
   "metadata": {},
   "outputs": [
    {
     "ename": "NameError",
     "evalue": "name 'cg' is not defined",
     "output_type": "error",
     "traceback": [
      "\u001b[0;31m---------------------------------------------------------------------------\u001b[0m",
      "\u001b[0;31mNameError\u001b[0m                                 Traceback (most recent call last)",
      "\u001b[0;32m<ipython-input-3-1bd81eb3dc6c>\u001b[0m in \u001b[0;36m<module>\u001b[0;34m\u001b[0m\n\u001b[0;32m----> 1\u001b[0;31m \u001b[0mcg\u001b[0m\u001b[0;34m.\u001b[0m\u001b[0mcouple\u001b[0m\u001b[0;34m(\u001b[0m\u001b[0mxyz_to_spherical\u001b[0m\u001b[0;34m(\u001b[0m\u001b[0mtensors_train\u001b[0m\u001b[0;34m[\u001b[0m\u001b[0;36m0\u001b[0m\u001b[0;34m]\u001b[0m\u001b[0;34m.\u001b[0m\u001b[0mreshape\u001b[0m\u001b[0;34m(\u001b[0m\u001b[0;36m3\u001b[0m\u001b[0;34m,\u001b[0m\u001b[0;36m3\u001b[0m\u001b[0;34m)\u001b[0m\u001b[0;34m.\u001b[0m\u001b[0mT\u001b[0m\u001b[0;34m)\u001b[0m\u001b[0;34m)\u001b[0m\u001b[0;34m[\u001b[0m\u001b[0;34m(\u001b[0m\u001b[0;36m1\u001b[0m\u001b[0;34m,\u001b[0m\u001b[0;36m1\u001b[0m\u001b[0;34m)\u001b[0m\u001b[0;34m]\u001b[0m\u001b[0;34m[\u001b[0m\u001b[0;36m2\u001b[0m\u001b[0;34m]\u001b[0m\u001b[0;34m\u001b[0m\u001b[0;34m\u001b[0m\u001b[0m\n\u001b[0m",
      "\u001b[0;31mNameError\u001b[0m: name 'cg' is not defined"
     ]
    }
   ],
   "source": [
    "cg.couple(xyz_to_spherical(tensors_train[0].reshape(3,3).T))[(1,1)][2]"
   ]
  },
  {
   "cell_type": "code",
   "execution_count": 86,
   "id": "73a3b333-3cb3-4e33-bd14-197935ea5c96",
   "metadata": {},
   "outputs": [],
   "source": [
    "xx_spherical = xyz_to_spherical(tensors_train[0])\n",
    "\n"
   ]
  },
  {
   "cell_type": "code",
   "execution_count": 55,
   "id": "66d89f2a-ca48-4b06-9c3b-fffbd6c4ef0e",
   "metadata": {},
   "outputs": [],
   "source": [
    "def f2v(vec):\n",
    "    t = ()\n",
    "    for s in vec.shape:\n",
    "        t += (s//5,5)\n",
    "    return vec.reshape(t)\n",
    "\n",
    "def v2f(vec):\n",
    "    t = ()\n",
    "    for s in vec.shape[:-1:2]:        \n",
    "        t += tuple([s*5])\n",
    "    if len(vec.shape)%2==1: #if the number of dimensions is uneven\n",
    "        t += tuple([-1])\n",
    "    #print(t)\n",
    "    return vec.reshape(t)\n",
    "\n",
    "def train_model(X_train, y_train, sigma=1e-08):\n",
    "    KMM = f2v(v2f(X_train) @ v2f(X_train).T)\n",
    "    weights = f2v( np.linalg.lstsq(v2f(KMM) + sigma *  v2f(KMM), v2f(y_train), rcond=None)[0] )\n",
    "    return weights\n",
    "\n",
    "def train_soap(X_train,y_train):\n",
    "    kernel = (X_train@X_train.T)**1\n",
    "    weights = np.linalg.lstsq( kernel + 1e-3*np.eye(kernel.shape[0]), y_train, rcond=None)[0]\n",
    "    return weights\n",
    "\n",
    "def predict_soap(X_test,X_train,weights):\n",
    "    kernel = (X_test@X_train.T)**1\n",
    "    return kernel @ weights\n",
    "\n",
    "def predict(X_test, X_train, weights):\n",
    "    lKM = f2v(v2f(X_test) @ v2f(X_train).T)\n",
    "    y_pred = f2v(v2f(lKM) @ v2f(weights) )\n",
    "    return y_pred"
   ]
  },
  {
   "cell_type": "code",
   "execution_count": null,
   "id": "11c4b5ad-627c-4edd-96c6-8814d1b4110b",
   "metadata": {},
   "outputs": [],
   "source": []
  },
  {
   "cell_type": "code",
   "execution_count": 85,
   "id": "738eaf06-b507-45e2-8a8f-94795437efcb",
   "metadata": {
    "tags": []
   },
   "outputs": [],
   "source": [
    "#load_data\n",
    "\n",
    "PATH_TRAIN = \"./train_tensor/CSD-3k+S546_shift_tensors.xyz\"\n",
    "PATH_TEST = \"./test_tensor/CSD-500+104-7_shift_tensors.xyz\"\n",
    "\n",
    "structures_train, tensors_train = load_CSD_data(PATH_TRAIN,prop_string=\"cs_tensor\",random_subsample=100)\n",
    "structures_test, tensors_test = load_CSD_data(PATH_TEST,prop_string=\"cs_tensor\")#,random_subsample=20)\n",
    "\n",
    "\n",
    "#-----mask----\n",
    "for structure in structures_train: mask_center_atoms_by_species(structure,species_select=[1])\n",
    "for structure in structures_test: mask_center_atoms_by_species(structure,species_select=[1])\n",
    "\n",
    "#-----select tensors-----\n",
    "train_tensors = np.array([tensor for structure in structures_train for tensor in structure.arrays[\"cs_tensor\"][structure.arrays[\"center_atoms_mask\"]]])\n",
    "test_tensors = np.array([tensor for structure in structures_test for tensor in structure.arrays[\"cs_tensor\"][structure.arrays[\"center_atoms_mask\"]]])\n",
    "#train_shift = np.array([tensor for structure in structures_train for tensor in structure.arrays[\"cs_iso\"][structure.arrays[\"center_atoms_mask\"]]])\n",
    "#test_shift = np.array([tensor for structure in structures_test for tensor in structure.arrays[\"cs_iso\"][structure.arrays[\"center_atoms_mask\"]]])\n",
    "\n",
    "#-----transform tensors-----\n",
    "#train_tensors_trans = np.vstack([tensvec_to_irrep(tens)  for tens in train_tensors.reshape(-1,3,3)])\n",
    "#test_tensors_trans  = np.vstack([tensvec_to_irrep(tens)  for tens in test_tensors.reshape(-1,3,3)])\n",
    "\n",
    "cg = ClebschGordanReal(lmax=2)\n",
    "train_tensors_trans = cg.couple(xyz_to_spherical(train_tensors.reshape(3,3)))\n",
    "\n",
    "\n",
    "#------build_data------\n",
    "\n",
    "###-----lambda=2-------\n",
    "#X_train = build_lambda(structures_train,hypers)\n",
    "#X_test = build_lambda(structures_test,hypers)\n",
    "###-----lambda=0-------\n",
    "#X_train_soap = build_soap(structures_train,hypers_soap)\n",
    "#X_test_soap = build_soap(structures_test,hypers_soap)\n",
    "\n",
    "#-----train model for lambda=2------\n",
    "weights = train_model(X_train, train_tensors_trans[:,1:])\n",
    "y_pred = predict(X_test,X_train,weights)\n",
    "\n",
    "#-----train model for lambda=0------\n",
    "#\n",
    "#weights_soap = train_soap(X_train_soap,train_tensors_trans[:,0])\n",
    "#y_pred_soap = predict_soap(X_test_soap,X_train_soap,weights_soap)\n",
    "\n",
    "#-----train model for lambda=0, for shift------\n",
    "#weights_soap_shift = train_soap(X_train_soap,train_shift)\n",
    "#y_pred_soap_shift = predict_soap(X_test_soap,X_train_soap,weights_soap_shift)\n",
    "\n",
    "#-----evaluate error--------\n",
    "#print(mean_squared_error(test_shift,y_pred_soap_shift))\n"
   ]
  },
  {
   "cell_type": "code",
   "execution_count": 65,
   "id": "6e81c167-98bb-43fb-910a-50e5b1224bf6",
   "metadata": {},
   "outputs": [],
   "source": [
    "from rascal.utils import from_dict, to_dict, CURFilter, FPSFilter, dump_obj, load_obj"
   ]
  },
  {
   "cell_type": "code",
   "execution_count": 76,
   "id": "008f6660-0ae3-469c-97a3-f6863bca842b",
   "metadata": {},
   "outputs": [],
   "source": [
    "n_sparse_env = 50\n",
    "soap = SphericalInvariants(**hypers)\n",
    "managers = soap.transform(structures_train)\n",
    "sample_compressor = FPSFilter(soap, n_sparse_env, act_on='sample')\n",
    "X_sparse = sample_compressor.select_and_filter(managers)"
   ]
  },
  {
   "cell_type": "code",
   "execution_count": 80,
   "id": "8b5e3ba8-fce0-49ae-a186-ad12ec0ea3ee",
   "metadata": {},
   "outputs": [
    {
     "data": {
      "text/plain": [
       "array([   0,  148,  581, 1623,  724, 2820, 1063, 2052,  864,  441,  691,\n",
       "       2533, 1850, 1194, 1832, 2785,  972,  166, 1665, 2367,  642, 1251,\n",
       "       3653, 3369,  747, 3375,  488, 1511,  687,  777, 1620,  375,  451,\n",
       "       1139, 3696, 1131,  846,  733, 1546,  174, 1888,   11, 1532, 2397,\n",
       "       2983,   88,  249, 3077, 1566, 1614])"
      ]
     },
     "execution_count": 80,
     "metadata": {},
     "output_type": "execute_result"
    }
   ],
   "source": [
    "sample_compressor.selected_sample_ids"
   ]
  },
  {
   "cell_type": "code",
   "execution_count": 69,
   "id": "8380f5ce-7927-4063-8d44-507f890541f2",
   "metadata": {
    "collapsed": true,
    "jupyter": {
     "outputs_hidden": true
    },
    "tags": []
   },
   "outputs": [
    {
     "data": {
      "text/plain": [
       "[[0, 11],\n",
       " [],\n",
       " [],\n",
       " [12],\n",
       " [],\n",
       " [],\n",
       " [0, 18, 26],\n",
       " [],\n",
       " [],\n",
       " [1],\n",
       " [],\n",
       " [],\n",
       " [3],\n",
       " [],\n",
       " [17, 27],\n",
       " [],\n",
       " [4],\n",
       " [],\n",
       " [],\n",
       " [1],\n",
       " [83, 34, 79],\n",
       " [20, 29],\n",
       " [7, 37],\n",
       " [],\n",
       " [2],\n",
       " [0],\n",
       " [],\n",
       " [],\n",
       " [0],\n",
       " [],\n",
       " [],\n",
       " [3],\n",
       " [],\n",
       " [11, 3],\n",
       " [2],\n",
       " [],\n",
       " [7],\n",
       " [],\n",
       " [],\n",
       " [],\n",
       " [],\n",
       " [31, 52],\n",
       " [10],\n",
       " [0],\n",
       " [9, 51, 6, 0],\n",
       " [],\n",
       " [],\n",
       " [],\n",
       " [40, 22],\n",
       " [6],\n",
       " [],\n",
       " [],\n",
       " [],\n",
       " [22],\n",
       " [],\n",
       " [],\n",
       " [],\n",
       " [],\n",
       " [],\n",
       " [55],\n",
       " [],\n",
       " [1],\n",
       " [],\n",
       " [],\n",
       " [25],\n",
       " [],\n",
       " [],\n",
       " [],\n",
       " [5],\n",
       " [],\n",
       " [12],\n",
       " [],\n",
       " [],\n",
       " [],\n",
       " [],\n",
       " [],\n",
       " [25],\n",
       " [],\n",
       " [],\n",
       " [23],\n",
       " [],\n",
       " [],\n",
       " [],\n",
       " [],\n",
       " [],\n",
       " [],\n",
       " [],\n",
       " [],\n",
       " [],\n",
       " [11],\n",
       " [5],\n",
       " [],\n",
       " [],\n",
       " [],\n",
       " [],\n",
       " [],\n",
       " [],\n",
       " [23],\n",
       " [10],\n",
       " []]"
      ]
     },
     "execution_count": 69,
     "metadata": {},
     "output_type": "execute_result"
    }
   ],
   "source": [
    "sample_compressor.selected_ids"
   ]
  },
  {
   "cell_type": "code",
   "execution_count": 60,
   "id": "932fcf57-53b9-423e-8314-40c60c8d2d82",
   "metadata": {},
   "outputs": [
    {
     "data": {
      "text/plain": [
       "array([26.12058508, 26.12059182, 26.1205717 , ..., 23.86020068,\n",
       "       23.86464609, 23.86016068])"
      ]
     },
     "execution_count": 60,
     "metadata": {},
     "output_type": "execute_result"
    }
   ],
   "source": [
    "y_pred_soap_shift"
   ]
  },
  {
   "cell_type": "code",
   "execution_count": 61,
   "id": "7129d0b2-471a-4570-9943-b0d8223eeb60",
   "metadata": {},
   "outputs": [
    {
     "data": {
      "text/plain": [
       "1.0781622872684926"
      ]
     },
     "execution_count": 61,
     "metadata": {},
     "output_type": "execute_result"
    }
   ],
   "source": [
    "mean_squared_error(test_shift,y_pred_soap_shift)"
   ]
  },
  {
   "cell_type": "code",
   "execution_count": 18,
   "id": "8f3cc85a-4a3e-4f3d-a924-d7d11163e9da",
   "metadata": {},
   "outputs": [
    {
     "data": {
      "text/plain": [
       "(3833,)"
      ]
     },
     "execution_count": 18,
     "metadata": {},
     "output_type": "execute_result"
    }
   ],
   "source": [
    "weights_soap_shift.shape"
   ]
  },
  {
   "cell_type": "code",
   "execution_count": 7,
   "id": "c0d80cbc-92f2-46d0-94d9-9b581084d537",
   "metadata": {},
   "outputs": [
    {
     "data": {
      "text/plain": [
       "(15501, 12150)"
      ]
     },
     "execution_count": 7,
     "metadata": {},
     "output_type": "execute_result"
    }
   ],
   "source": [
    "X_train_soap.shape"
   ]
  },
  {
   "cell_type": "code",
   "execution_count": 62,
   "id": "7f9c47e9-b4b0-4b6a-9f89-9fc8e0108ee5",
   "metadata": {},
   "outputs": [
    {
     "data": {
      "text/plain": [
       "KernelRidge(alpha=1e-06, coef0=0, degree=1.0, kernel='poly')"
      ]
     },
     "execution_count": 62,
     "metadata": {},
     "output_type": "execute_result"
    }
   ],
   "source": [
    "from sklearn.kernel_ridge import KernelRidge\n",
    "from sklearn.metrics.pairwise import polynomial_kernel\n",
    "\n",
    "clf = KernelRidge(alpha=1e-06,kernel='poly',degree=1.,coef0=0)\n",
    "clf.fit(X_train_soap, train_shift)"
   ]
  },
  {
   "cell_type": "code",
   "execution_count": 63,
   "id": "e6d6619a-3546-4148-a4a6-93139082de07",
   "metadata": {},
   "outputs": [],
   "source": [
    "y_predicted = clf.predict(X_test_soap)"
   ]
  },
  {
   "cell_type": "code",
   "execution_count": 64,
   "id": "154b54d7-8c4b-4c4b-83f8-036d2ab00658",
   "metadata": {},
   "outputs": [
    {
     "data": {
      "text/plain": [
       "0.9721504568406262"
      ]
     },
     "execution_count": 64,
     "metadata": {},
     "output_type": "execute_result"
    }
   ],
   "source": [
    "mean_squared_error(test_shift, np.array(y_predicted),squared=True)"
   ]
  },
  {
   "cell_type": "code",
   "execution_count": 41,
   "id": "0f477ee8-047a-4ed1-b52f-ab70adf97fe4",
   "metadata": {
    "tags": []
   },
   "outputs": [
    {
     "data": {
      "text/plain": [
       "4.9797490692489275"
      ]
     },
     "execution_count": 41,
     "metadata": {},
     "output_type": "execute_result"
    }
   ],
   "source": [
    "mean_squared_error(test_shift, np.array(y_predicted),squared=True)"
   ]
  },
  {
   "cell_type": "code",
   "execution_count": 14,
   "id": "4d1374fb-3c69-4b76-ac9b-1d18f523d831",
   "metadata": {},
   "outputs": [
    {
     "data": {
      "text/plain": [
       "(35289,)"
      ]
     },
     "execution_count": 14,
     "metadata": {},
     "output_type": "execute_result"
    }
   ],
   "source": [
    "test_shift.shape"
   ]
  },
  {
   "cell_type": "code",
   "execution_count": 42,
   "id": "a437d019-c041-4900-ba47-bab089ab776f",
   "metadata": {},
   "outputs": [
    {
     "data": {
      "text/plain": [
       "(3690, 12150)"
      ]
     },
     "execution_count": 42,
     "metadata": {},
     "output_type": "execute_result"
    }
   ],
   "source": [
    "X_train_soap.shape"
   ]
  },
  {
   "cell_type": "code",
   "execution_count": 45,
   "id": "e3163d02-1b00-4157-bfa6-245100907b95",
   "metadata": {},
   "outputs": [
    {
     "data": {
      "text/plain": [
       "(3690, 9)"
      ]
     },
     "execution_count": 45,
     "metadata": {},
     "output_type": "execute_result"
    }
   ],
   "source": [
    "train_tensors.shape"
   ]
  },
  {
   "cell_type": "code",
   "execution_count": null,
   "id": "27b4aa26-83e9-413e-ab13-7020ab74641c",
   "metadata": {},
   "outputs": [],
   "source": [
    "#object_ only store features\n",
    "#build KN_pred_N_find and return features"
   ]
  }
 ],
 "metadata": {
  "kernelspec": {
   "display_name": "Python 3 (ipykernel)",
   "language": "python",
   "name": "python3"
  },
  "language_info": {
   "codemirror_mode": {
    "name": "ipython",
    "version": 3
   },
   "file_extension": ".py",
   "mimetype": "text/x-python",
   "name": "python",
   "nbconvert_exporter": "python",
   "pygments_lexer": "ipython3",
   "version": "3.8.10"
  }
 },
 "nbformat": 4,
 "nbformat_minor": 5
}
