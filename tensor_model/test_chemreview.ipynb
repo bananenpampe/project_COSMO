{
 "cells": [
  {
   "cell_type": "code",
   "execution_count": 61,
   "id": "b09eabf9-e169-46b3-ae0e-21f9ec5c91bd",
   "metadata": {},
   "outputs": [],
   "source": [
    "from helpers import *\n",
    "from rascal.representations import SphericalCovariants \n",
    "from rascal.neighbourlist.structure_manager import mask_center_atoms_by_species #change later\n",
    "from rascal.representations import SphericalExpansion\n",
    "from rascal.utils import ClebschGordanReal, compute_lambda_soap, spherical_expansion_reshape, xyz_to_spherical\n",
    "from rascal.representations import SphericalInvariants\n",
    "from sklearn.metrics import mean_squared_error, mean_absolute_error\n",
    "import numpy as np"
   ]
  },
  {
   "cell_type": "code",
   "execution_count": null,
   "id": "7402b8af-dc5f-46f6-91dd-85f82147ce84",
   "metadata": {},
   "outputs": [],
   "source": []
  },
  {
   "cell_type": "code",
   "execution_count": 62,
   "id": "32e2c6d0-2a37-4ffb-8c71-2c9e440d7fa2",
   "metadata": {},
   "outputs": [],
   "source": [
    "PATH_TRAIN = \"./train_tensor/CSD-3k+S546_shift_tensors.xyz\"\n",
    "PATH_TEST = \"./test_tensor/CSD-500+104-7_shift_tensors.xyz\"\n",
    "\n",
    "structures_train, tensors_train = load_CSD_data(PATH_TRAIN,prop_string=\"cs_tensor\",random_subsample=100)\n",
    "structures_test, tensors_test = load_CSD_data(PATH_TEST,prop_string=\"cs_tensor\",random_subsample=100)#,random_subsample=20)\n",
    "\n",
    "\n",
    "#-----mask----\n",
    "for structure in structures_train: mask_center_atoms_by_species(structure,species_select=[6])\n",
    "for structure in structures_test: mask_center_atoms_by_species(structure,species_select=[6])\n",
    "\n",
    "#-----select tensors-----\n",
    "train_tensors = np.array([tensor for structure in structures_train for tensor in structure.arrays[\"cs_tensor\"][structure.arrays[\"center_atoms_mask\"]]])\n",
    "test_tensors = np.array([tensor for structure in structures_test for tensor in structure.arrays[\"cs_tensor\"][structure.arrays[\"center_atoms_mask\"]]])\n",
    "\n",
    "#------transform tensors\n",
    "cg = ClebschGordanReal(lmax=2)\n",
    "tensors_train_coupled = cg.couple(xyz_to_spherical(train_tensors.reshape(train_tensors.shape[0],3,3)))\n",
    "train_tensors_trans = tensors_train_coupled[(1,1)][2]\n",
    "\n",
    "tensors_test_coupled = cg.couple(xyz_to_spherical(test_tensors.reshape(test_tensors.shape[0],3,3)))\n",
    "test_tensors_trans = tensors_test_coupled[(1,1)][2]"
   ]
  },
  {
   "cell_type": "code",
   "execution_count": 63,
   "id": "f7b0aa7c-01c3-4481-a2f5-5c56ac6138a5",
   "metadata": {},
   "outputs": [
    {
     "data": {
      "text/plain": [
       "(3296, 5)"
      ]
     },
     "execution_count": 63,
     "metadata": {},
     "output_type": "execute_result"
    }
   ],
   "source": [
    "train_tensors_trans.shape"
   ]
  },
  {
   "cell_type": "code",
   "execution_count": 64,
   "id": "f198b78d-b187-4ed7-8535-c145ad10aa25",
   "metadata": {},
   "outputs": [],
   "source": [
    "HYPERS = {\n",
    "    'soap_type': 'LambdaSpectrum',\n",
    "    'interaction_cutoff': 3.0,\n",
    "    'max_radial': 9,\n",
    "    'max_angular': 9,\n",
    "    'gaussian_sigma_constant': 0.5,\n",
    "    'gaussian_sigma_type': 'Constant',\n",
    "    'cutoff_smooth_width': 0.5,\n",
    "    'radial_basis': 'GTO',\n",
    "    'inversion_symmetry': True,\n",
    "    'covariant_lambda' : 2,\n",
    "    \"cutoff_function_parameters\":dict(rate=1,scale=3.5,exponent=4)\n",
    "}\n",
    "\n",
    "lsoap = SphericalCovariants(**HYPERS)\n",
    "lX_train = lsoap.transform(structures_train).get_features(lsoap)\n",
    "lX_test = lsoap.transform(structures_test).get_features(lsoap)"
   ]
  },
  {
   "cell_type": "code",
   "execution_count": null,
   "id": "d72e5069-12c2-46a1-8c29-239be9b3eab2",
   "metadata": {},
   "outputs": [],
   "source": [
    "hypers_2 = {\n",
    "    'interaction_cutoff': 6,\n",
    "    'max_radial': 9,\n",
    "    'max_angular': 9,\n",
    "    'gaussian_sigma_type': 'Constant',\n",
    "    'gaussian_sigma_constant': 0.2,\n",
    "    'cutoff_smooth_width': 0.3,\n",
    "    'radial_basis': 'DVR'\n",
    "}\n",
    "hypers_2 = get_optimal_radial_basis_hypers(hypers_2, frames, expanded_max_radial=50)\n",
    "CG = ClebschGordanReal(lmax=hypers_2[\"max_angular\"])\n",
    "spex = SphericalExpansion(**hypers_2)\n",
    "feats = spex.transform(frames).get_features(spex)\n",
    "ref_feats = 1e3*spherical_expansion_reshape(feats, **hypers_2)"
   ]
  },
  {
   "cell_type": "code",
   "execution_count": 65,
   "id": "f89dfa88-20cb-42df-bfbf-1e079dd4ea40",
   "metadata": {},
   "outputs": [],
   "source": [
    "ntot = len(lX_train)"
   ]
  },
  {
   "cell_type": "code",
   "execution_count": 66,
   "id": "db1f241d-e739-406b-9325-1de9deaa6b57",
   "metadata": {},
   "outputs": [
    {
     "data": {
      "text/plain": [
       "1099"
      ]
     },
     "execution_count": 66,
     "metadata": {},
     "output_type": "execute_result"
    }
   ],
   "source": [
    "len(np.arange(ntot)[::3])"
   ]
  },
  {
   "cell_type": "code",
   "execution_count": 67,
   "id": "6da75aaa-70b3-4f31-9548-274e939b98fb",
   "metadata": {},
   "outputs": [
    {
     "data": {
      "text/plain": [
       "3296"
      ]
     },
     "execution_count": 67,
     "metadata": {},
     "output_type": "execute_result"
    }
   ],
   "source": [
    "ntot"
   ]
  },
  {
   "cell_type": "code",
   "execution_count": 68,
   "id": "1eabee53-a55a-4986-aff7-e44606ce855a",
   "metadata": {},
   "outputs": [],
   "source": [
    "ntot = len(lX_train)\n",
    "itrain = np.arange(ntot)\n",
    "np.random.seed(42)\n",
    "np.random.shuffle(itrain)\n",
    "isparse = np.arange(ntot)[::7]\n",
    "np.random.shuffle(isparse)"
   ]
  },
  {
   "cell_type": "code",
   "execution_count": null,
   "id": "58ed996d-0376-4472-a2c7-3e39ecf49a92",
   "metadata": {},
   "outputs": [],
   "source": []
  },
  {
   "cell_type": "code",
   "execution_count": 69,
   "id": "84507392-1e28-4e47-bea7-69d90e70124f",
   "metadata": {},
   "outputs": [
    {
     "ename": "NameError",
     "evalue": "name 'lX' is not defined",
     "output_type": "error",
     "traceback": [
      "\u001b[0;31m---------------------------------------------------------------------------\u001b[0m",
      "\u001b[0;31mNameError\u001b[0m                                 Traceback (most recent call last)",
      "\u001b[0;32m<ipython-input-69-6bccd0bf8b2c>\u001b[0m in \u001b[0;36m<module>\u001b[0;34m\u001b[0m\n\u001b[0;32m----> 1\u001b[0;31m \u001b[0mlX\u001b[0m\u001b[0;34m\u001b[0m\u001b[0;34m\u001b[0m\u001b[0m\n\u001b[0m",
      "\u001b[0;31mNameError\u001b[0m: name 'lX' is not defined"
     ]
    }
   ],
   "source": [
    "lX"
   ]
  },
  {
   "cell_type": "code",
   "execution_count": 70,
   "id": "51b3a90a-f8bc-46b6-9715-d52b0b8f5517",
   "metadata": {},
   "outputs": [],
   "source": [
    "def f2v(vec):\n",
    "    t = ()\n",
    "    for s in vec.shape:\n",
    "        t += (s//5,5)\n",
    "    return vec.reshape(t)\n",
    "\n",
    "def v2f(vec):\n",
    "    t = ()\n",
    "    for s in vec.shape[:-1:2]:        \n",
    "        t += tuple([s*5])\n",
    "    if len(vec.shape)%2==1:\n",
    "        t += tuple([-1])\n",
    "    return vec.reshape(t)"
   ]
  },
  {
   "cell_type": "code",
   "execution_count": 78,
   "id": "d9aa44da-571c-4844-9d8b-ce9ae1714f06",
   "metadata": {},
   "outputs": [],
   "source": [
    "lX_test  = np.moveaxis(lX_test.reshape((lX_test.shape[0],-1,5)),2,1)\n",
    "lX_train = np.moveaxis(lX_train.reshape((lX_train.shape[0],-1,5)),2,1) #why this moveaxis??"
   ]
  },
  {
   "cell_type": "code",
   "execution_count": 90,
   "id": "af3ecb9f-1b8c-4715-8bb8-1736a06785f7",
   "metadata": {},
   "outputs": [],
   "source": [
    "lX_test = np.moveaxis(lX_test,1,2)"
   ]
  },
  {
   "cell_type": "code",
   "execution_count": 91,
   "id": "15478c81-2722-47bf-9024-44f3b2536f3c",
   "metadata": {},
   "outputs": [
    {
     "data": {
      "text/plain": [
       "(5308, 30375, 5)"
      ]
     },
     "execution_count": 91,
     "metadata": {},
     "output_type": "execute_result"
    }
   ],
   "source": [
    "lX_test.shape"
   ]
  },
  {
   "cell_type": "code",
   "execution_count": 92,
   "id": "06c3746c-cc64-4dbc-9065-cd2480358225",
   "metadata": {},
   "outputs": [
    {
     "data": {
      "text/plain": [
       "(26540, 30375)"
      ]
     },
     "execution_count": 92,
     "metadata": {},
     "output_type": "execute_result"
    }
   ],
   "source": [
    "v2f(lX_test).shape"
   ]
  },
  {
   "cell_type": "code",
   "execution_count": 93,
   "id": "022222de-6391-4497-8d62-4cbac5e988f0",
   "metadata": {},
   "outputs": [
    {
     "data": {
      "text/plain": [
       "(26540, 30375)"
      ]
     },
     "execution_count": 93,
     "metadata": {},
     "output_type": "execute_result"
    }
   ],
   "source": [
    "np.moveaxis(lX_test, 2, 1).reshape((-1, lX_test.shape[1])).shape #does the same as v2f?\n"
   ]
  },
  {
   "cell_type": "code",
   "execution_count": 94,
   "id": "566f541f-74ae-44f9-8dfa-58aa5fa859a7",
   "metadata": {},
   "outputs": [
    {
     "data": {
      "text/plain": [
       "(5308, 30375, 5)"
      ]
     },
     "execution_count": 94,
     "metadata": {},
     "output_type": "execute_result"
    }
   ],
   "source": [
    "lX_test.shape"
   ]
  },
  {
   "cell_type": "code",
   "execution_count": 87,
   "id": "34be7b44-4805-49ff-937f-a0b66145be83",
   "metadata": {},
   "outputs": [
    {
     "data": {
      "text/plain": [
       "(5308, 5)"
      ]
     },
     "execution_count": 87,
     "metadata": {},
     "output_type": "execute_result"
    }
   ],
   "source": [
    "test_tensors_trans.shape"
   ]
  },
  {
   "cell_type": "code",
   "execution_count": 86,
   "id": "835c5fcb-6ef0-4e2d-bf1c-95e00155c325",
   "metadata": {},
   "outputs": [
    {
     "data": {
      "text/plain": [
       "(26540,)"
      ]
     },
     "execution_count": 86,
     "metadata": {},
     "output_type": "execute_result"
    }
   ],
   "source": [
    "test_tensors_trans.flatten().shape"
   ]
  },
  {
   "cell_type": "code",
   "execution_count": 72,
   "id": "bbe6b4e4-b5b5-4202-8690-ed6e57ed577c",
   "metadata": {},
   "outputs": [
    {
     "data": {
      "text/plain": [
       "(3296, 5, 30375)"
      ]
     },
     "execution_count": 72,
     "metadata": {},
     "output_type": "execute_result"
    }
   ],
   "source": [
    "lX_train.shape"
   ]
  },
  {
   "cell_type": "code",
   "execution_count": 73,
   "id": "d9c9515e-41d5-4b4d-a842-4ab6e8c75e1e",
   "metadata": {},
   "outputs": [],
   "source": [
    "lKNM = f2v(v2f(lX_train[itrain]) @ v2f(lX_train[isparse]).T)\n",
    "lKMM = f2v(v2f(lX_train[isparse]) @ v2f(lX_train[isparse]).T)\n",
    "lKM = f2v(v2f(lX_test) @ v2f(lX_train[isparse]).T)"
   ]
  },
  {
   "cell_type": "code",
   "execution_count": 97,
   "id": "983017b9-f5c7-4550-81ac-8f07334b1ae9",
   "metadata": {},
   "outputs": [
    {
     "data": {
      "text/plain": [
       "471"
      ]
     },
     "execution_count": 97,
     "metadata": {},
     "output_type": "execute_result"
    }
   ],
   "source": [
    "len(isparse)"
   ]
  },
  {
   "cell_type": "code",
   "execution_count": 98,
   "id": "0db0c1ce-2ddf-45e7-8c31-cc938c3e6511",
   "metadata": {},
   "outputs": [
    {
     "data": {
      "text/plain": [
       "(471, 5, 471, 5)"
      ]
     },
     "execution_count": 98,
     "metadata": {},
     "output_type": "execute_result"
    }
   ],
   "source": [
    "lKMM.shape"
   ]
  },
  {
   "cell_type": "code",
   "execution_count": 74,
   "id": "bb27ad6d-1e41-4b85-a7c6-72538c809666",
   "metadata": {},
   "outputs": [],
   "source": [
    "wlsparse = f2v( np.linalg.lstsq(v2f(lKNM).T@v2f(lKNM) + 1e-8* v2f(lKMM), \n",
    "                           v2f(lKNM).T@v2f(train_tensors_trans[itrain]), rcond=None)[0] )"
   ]
  },
  {
   "cell_type": "code",
   "execution_count": 75,
   "id": "a36526d1-7c50-4fb6-9734-96d2e410dea1",
   "metadata": {},
   "outputs": [],
   "source": [
    "ylpred_sparse = f2v(v2f(lKM) @ v2f(wlsparse) )"
   ]
  },
  {
   "cell_type": "code",
   "execution_count": 76,
   "id": "edfdabb8-afe7-4f21-b938-4a0ef1fb2605",
   "metadata": {},
   "outputs": [
    {
     "data": {
      "text/plain": [
       "array([[-59.65362124,  10.9974187 , -12.13477327,  86.37655682,\n",
       "         38.81831115],\n",
       "       [-59.53716592, -10.89499325, -12.41964435, -86.32156216,\n",
       "         38.90290481],\n",
       "       [ 59.65258334,  10.99573367, -12.14126189, -86.37346957,\n",
       "         38.81656139],\n",
       "       ...,\n",
       "       [  2.2830482 , -20.41357875,  20.49128175, -38.74074996,\n",
       "          4.31568436],\n",
       "       [ -2.27731818,  20.41229305,  20.48412093, -38.74640131,\n",
       "          4.31017081],\n",
       "       [ -2.27855596, -20.41219771,  20.48407182,  38.74530479,\n",
       "          4.31134247]])"
      ]
     },
     "execution_count": 76,
     "metadata": {},
     "output_type": "execute_result"
    }
   ],
   "source": [
    "ylpred_sparse"
   ]
  },
  {
   "cell_type": "code",
   "execution_count": 77,
   "id": "f8e61eb9-26a3-46cb-8bc1-67a564dcaa99",
   "metadata": {},
   "outputs": [
    {
     "data": {
      "text/plain": [
       "array([[-39.09430759,  11.37381258,   2.69039706,  61.02126461,\n",
       "        -65.85278382],\n",
       "       [-38.98541314, -11.38144933,   2.64201964, -61.08242934,\n",
       "        -65.89061403],\n",
       "       [ 39.09416616,  11.37374186,   2.69056036, -61.02112319,\n",
       "        -65.8526424 ],\n",
       "       ...,\n",
       "       [-11.06975666,  24.26988463,  22.88488864, -47.51948488,\n",
       "         24.99558832],\n",
       "       [ 11.06975666, -24.26988463,  22.88488864, -47.51948488,\n",
       "         24.99558832],\n",
       "       [ 11.06975666,  24.26988463,  22.88488864,  47.51955559,\n",
       "         24.99572974]])"
      ]
     },
     "execution_count": 77,
     "metadata": {},
     "output_type": "execute_result"
    }
   ],
   "source": [
    "test_tensors_trans"
   ]
  },
  {
   "cell_type": "code",
   "execution_count": null,
   "id": "f42d0f44-a6dd-43df-9f2a-e82d1e6832ec",
   "metadata": {},
   "outputs": [],
   "source": []
  }
 ],
 "metadata": {
  "kernelspec": {
   "display_name": "Python 3",
   "language": "python",
   "name": "python3"
  },
  "language_info": {
   "codemirror_mode": {
    "name": "ipython",
    "version": 3
   },
   "file_extension": ".py",
   "mimetype": "text/x-python",
   "name": "python",
   "nbconvert_exporter": "python",
   "pygments_lexer": "ipython3",
   "version": "3.8.10"
  }
 },
 "nbformat": 4,
 "nbformat_minor": 5
}
