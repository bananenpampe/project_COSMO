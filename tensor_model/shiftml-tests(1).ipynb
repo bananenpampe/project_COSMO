{
 "cells": [
  {
   "cell_type": "code",
   "execution_count": 1,
   "metadata": {},
   "outputs": [],
   "source": [
    "%load_ext autoreload \n",
    "%autoreload 2|"
   ]
  },
  {
   "cell_type": "code",
   "execution_count": 2,
   "metadata": {},
   "outputs": [],
   "source": [
    "from ase.io import read\n",
    "import ase\n",
    "import time \n",
    "from tqdm.notebook import tqdm\n",
    "from copy import deepcopy\n",
    "import numpy as np\n",
    "import scipy as sp\n",
    "import matplotlib.pyplot as plt\n",
    "\n",
    "from rascal.representations import SphericalExpansion, SphericalInvariants\n",
    "from rascal.utils import (get_radial_basis_covariance, get_radial_basis_pca, \n",
    "                          get_radial_basis_projections, get_optimal_radial_basis_hypers )\n",
    "from rascal.utils import radial_basis\n",
    "from rascal.utils import (WignerDReal, ClebschGordanReal, \n",
    "                          spherical_expansion_reshape, spherical_expansion_conjugate,\n",
    "                    lm_slice, real2complex_matrix, compute_lambda_soap, xyz_to_spherical, spherical_to_xyz)\n",
    "from rascal.neighbourlist.structure_manager import mask_center_atoms_by_species,mask_center_atoms_by_id"
   ]
  },
  {
   "cell_type": "code",
   "execution_count": 3,
   "metadata": {},
   "outputs": [],
   "source": [
    "from skcosmo.linear_model import AtomRidge\n",
    "from skcosmo.model_selection import atom_groups_by_frame, train_test_split_by_frame"
   ]
  },
  {
   "cell_type": "code",
   "execution_count": 4,
   "metadata": {},
   "outputs": [
    {
     "name": "stdout",
     "output_type": "stream",
     "text": [
      "ORAVUZ SUSPICIOUS\n",
      "SAJYEH SUSPICIOUS\n",
      "DIZVOZ SUSPICIOUS\n",
      "CUGLUN SUSPICIOUS\n"
     ]
    }
   ],
   "source": [
    "frames = read(\"CSD-3k+S546_shift_tensors.xyz\",\"::20\")\n",
    "clean_frames = []\n",
    "for f in frames:\n",
    "    if f.info['STATUS'] == 'PASSING':\n",
    "        clean_frames.append(f)\n",
    "    else:\n",
    "        print(f.info['NAME'], f.info['STATUS'])\n",
    "frames = clean_frames"
   ]
  },
  {
   "cell_type": "code",
   "execution_count": 5,
   "metadata": {},
   "outputs": [],
   "source": [
    "y = []\n",
    "ty = []\n",
    "s = []\n",
    "atom_sigma = {'H': 0.1, 'C': 1, 'N':1, 'O':1, 'S':2}\n",
    "type_idx = {'H': [], 'C': [], 'N': [], 'O': [], 'S': []}\n",
    "idx = 0\n",
    "groups = []\n",
    "for iframe, f in enumerate(frames):\n",
    "    y.append(f.arrays['cs_iso'])\n",
    "    ty.append(f.arrays['cs_tensor'].reshape((-1,3,3)))\n",
    "    f.wrap(eps=1e-12)\n",
    "    for l in f.symbols:\n",
    "        type_idx[l].append(idx)\n",
    "        idx+=1\n",
    "        s.append(atom_sigma[l])    \n",
    "groups = atom_groups_by_frame(frames)        \n",
    "cs = np.concatenate(y)\n",
    "tcs = np.concatenate(ty)\n",
    "sigmas = np.asarray(s)"
   ]
  },
  {
   "cell_type": "code",
   "execution_count": 6,
   "metadata": {},
   "outputs": [
    {
     "data": {
      "text/plain": [
       "{'magres_units': '_JSON \\\\\"cs_tensor\\\\\": \\\\\"ppm\\\\\", \\\\\"cs_iso\\\\\": \\\\\"ppm\\\\\"',\n",
       " 'STATUS': 'PASSING',\n",
       " 'NAME': 'FADBOB',\n",
       " 'ENERGY': -2300.05217586}"
      ]
     },
     "execution_count": 6,
     "metadata": {},
     "output_type": "execute_result"
    }
   ],
   "source": [
    "f.info"
   ]
  },
  {
   "cell_type": "code",
   "execution_count": 7,
   "metadata": {},
   "outputs": [],
   "source": [
    "hypers_1 = {\n",
    "    'interaction_cutoff': 6,\n",
    "    'max_radial': 10,\n",
    "    'max_angular': 0,\n",
    "    'gaussian_sigma_type': 'Constant',\n",
    "    'gaussian_sigma_constant': 0.2,\n",
    "    'cutoff_smooth_width': 0.3,\n",
    "    'radial_basis': 'DVR',        \n",
    "    'soap_type' : \"RadialSpectrum\",\n",
    "    'normalize' : False\n",
    "}\n",
    "\n",
    "hypers_2 = {\n",
    "    'interaction_cutoff': 6,\n",
    "    'max_radial': 8,\n",
    "    'max_angular': 6,\n",
    "    'gaussian_sigma_type': 'Constant',\n",
    "    'gaussian_sigma_constant': 0.2,\n",
    "    'cutoff_smooth_width': 0.3,\n",
    "    'radial_basis': 'DVR',\n",
    "    'normalize' : False,\n",
    "    'soap_type' : \"PowerSpectrum\"\n",
    "}\n",
    "\n",
    "hypers_1 = get_optimal_radial_basis_hypers(hypers_1, frames, expanded_max_radial=50)\n",
    "hypers_2 = get_optimal_radial_basis_hypers(hypers_2, frames, expanded_max_radial=50)"
   ]
  },
  {
   "cell_type": "code",
   "execution_count": 8,
   "metadata": {},
   "outputs": [],
   "source": [
    "soap1 = SphericalInvariants(**hypers_1)\n",
    "soap2 = SphericalInvariants(**hypers_2)"
   ]
  },
  {
   "cell_type": "code",
   "execution_count": 9,
   "metadata": {},
   "outputs": [],
   "source": [
    "feat1 = soap1.transform(frames).get_features(soap1)\n",
    "feat2 = soap2.transform(frames).get_features(soap2)"
   ]
  },
  {
   "cell_type": "code",
   "execution_count": 10,
   "metadata": {},
   "outputs": [],
   "source": [
    "from sklearn.model_selection import GroupKFold, GridSearchCV, train_test_split"
   ]
  },
  {
   "cell_type": "code",
   "execution_count": 11,
   "metadata": {},
   "outputs": [],
   "source": [
    "from skcosmo.kernel_model import RKHSTransform\n",
    "from skcosmo.sample_selection import CUR, PCovCUR, FPS"
   ]
  },
  {
   "cell_type": "code",
   "execution_count": 12,
   "metadata": {},
   "outputs": [],
   "source": [
    "feats = np.hstack([feat1, feat2])\n",
    "X_train, X_test, y_train, y_test, sig_train, sig_test, g_train, g_test = train_test_split_by_frame(frames, feats, cs, sigmas, train_size=0.8)"
   ]
  },
  {
   "cell_type": "code",
   "execution_count": 13,
   "metadata": {},
   "outputs": [],
   "source": [
    "ar = AtomRidge(sigma=1, delta=[10, 2], feature_groups=[slice(0,feat1.shape[1]), slice(feat1.shape[1],feat1.shape[1]+feat2.shape[1])])"
   ]
  },
  {
   "cell_type": "code",
   "execution_count": 14,
   "metadata": {},
   "outputs": [],
   "source": [
    "splits = list(GroupKFold(n_splits=2).split(X_train, y_train, g_train))\n",
    "gcv = GridSearchCV(ar, dict(delta=[[1,100], [1,10], [1, 1], [10, 1], [100,1]]), cv = splits, scoring='neg_mean_squared_error')"
   ]
  },
  {
   "cell_type": "code",
   "execution_count": 15,
   "metadata": {},
   "outputs": [],
   "source": [
    "ar.fit(X_train, y_train, sample_sigmas=sig_train)"
   ]
  },
  {
   "cell_type": "code",
   "execution_count": 16,
   "metadata": {},
   "outputs": [
    {
     "data": {
      "text/plain": [
       "GridSearchCV(cv=[(array([    0,     1,     2, ..., 12545, 12546, 12547]),\n",
       "                  array([  172,   173,   174, ..., 12397, 12398, 12399])),\n",
       "                 (array([  172,   173,   174, ..., 12397, 12398, 12399]),\n",
       "                  array([    0,     1,     2, ..., 12545, 12546, 12547]))],\n",
       "             estimator=AtomRidge(delta=[10, 2],\n",
       "                                 feature_groups=[slice(0, 50, None),\n",
       "                                                 slice(50, 6770, None)],\n",
       "                                 sigma=1),\n",
       "             param_grid={'delta': [[1, 100], [1, 10], [1, 1], [10, 1],\n",
       "                                   [100, 1]]},\n",
       "             scoring='neg_mean_squared_error')"
      ]
     },
     "execution_count": 16,
     "metadata": {},
     "output_type": "execute_result"
    }
   ],
   "source": [
    "gcv.fit(X_train, y_train, sample_sigmas=sig_train)"
   ]
  },
  {
   "cell_type": "code",
   "execution_count": 17,
   "metadata": {},
   "outputs": [
    {
     "data": {
      "text/plain": [
       "{'mean_fit_time': array([12.62226784, 11.41047299, 10.33597493, 10.8238939 , 11.28379452]),\n",
       " 'std_fit_time': array([0.85140407, 0.25386012, 1.32430291, 0.82745206, 0.48295629]),\n",
       " 'mean_score_time': array([1.31691337, 1.46901071, 1.0062598 , 1.15554893, 1.98514438]),\n",
       " 'std_score_time': array([0.37100816, 0.07117593, 0.06159365, 0.19415653, 0.04891634]),\n",
       " 'param_delta': masked_array(data=[list([1, 100]), list([1, 10]), list([1, 1]),\n",
       "                    list([10, 1]), list([100, 1])],\n",
       "              mask=[False, False, False, False, False],\n",
       "        fill_value='?',\n",
       "             dtype=object),\n",
       " 'params': [{'delta': [1, 100]},\n",
       "  {'delta': [1, 10]},\n",
       "  {'delta': [1, 1]},\n",
       "  {'delta': [10, 1]},\n",
       "  {'delta': [100, 1]}],\n",
       " 'split0_test_score': array([-2990.80983736, -2809.06744737, -2569.79538167, -2640.59620488,\n",
       "        -2649.73508213]),\n",
       " 'split1_test_score': array([-2264.2629626 , -2030.42550369, -2193.61853362, -2079.42343749,\n",
       "        -2077.68757716]),\n",
       " 'mean_test_score': array([-2627.53639998, -2419.74647553, -2381.70695764, -2360.00982119,\n",
       "        -2363.71132965]),\n",
       " 'std_test_score': array([363.27343738, 389.32097184, 188.08842402, 280.58638369,\n",
       "        286.02375249]),\n",
       " 'rank_test_score': array([5, 4, 3, 1, 2], dtype=int32)}"
      ]
     },
     "execution_count": 17,
     "metadata": {},
     "output_type": "execute_result"
    }
   ],
   "source": [
    "gcv.cv_results_"
   ]
  },
  {
   "cell_type": "code",
   "execution_count": 18,
   "metadata": {},
   "outputs": [],
   "source": [
    "cs_pred = gcv.predict(feats)"
   ]
  },
  {
   "cell_type": "code",
   "execution_count": 19,
   "metadata": {},
   "outputs": [],
   "source": [
    "p_test = gcv.predict(X_test)"
   ]
  },
  {
   "cell_type": "code",
   "execution_count": 20,
   "metadata": {},
   "outputs": [
    {
     "data": {
      "text/plain": [
       "33.401580962589065"
      ]
     },
     "execution_count": 20,
     "metadata": {},
     "output_type": "execute_result"
    },
    {
     "data": {
      "image/png": "[encoded data removed]",
      "text/plain": [
       "<Figure size 432x288 with 1 Axes>"
      ]
     },
     "metadata": {
      "needs_background": "light"
     },
     "output_type": "display_data"
    }
   ],
   "source": [
    "plt.plot(p_test, y_test, 'r.')\n",
    "np.sqrt(np.mean((p_test-y_test)**2))"
   ]
  },
  {
   "cell_type": "code",
   "execution_count": 21,
   "metadata": {},
   "outputs": [
    {
     "data": {
      "text/plain": [
       "[<matplotlib.lines.Line2D at 0x7f2c3c0c1970>]"
      ]
     },
     "execution_count": 21,
     "metadata": {},
     "output_type": "execute_result"
    },
    {
     "data": {
      "image/png": "[encoded data removed]",
      "text/plain": [
       "<Figure size 432x288 with 1 Axes>"
      ]
     },
     "metadata": {
      "needs_background": "light"
     },
     "output_type": "display_data"
    }
   ],
   "source": [
    "plt.plot(cs[type_idx['C']], cs_pred[type_idx['C']], 'r.')\n",
    "plt.plot(cs[type_idx['H']], cs_pred[type_idx['H']], 'b.')"
   ]
  },
  {
   "cell_type": "code",
   "execution_count": 22,
   "metadata": {},
   "outputs": [],
   "source": [
    "sel = FPS(n_to_select = 1000, progress_bar=tqdm)"
   ]
  },
  {
   "cell_type": "code",
   "execution_count": 23,
   "metadata": {},
   "outputs": [
    {
     "data": {
      "application/vnd.jupyter.widget-view+json": {
       "model_id": "7db6095e87eb454e8936e90351820e2c",
       "version_major": 2,
       "version_minor": 0
      },
      "text/plain": [
       "HBox(children=(FloatProgress(value=0.0, max=999.0), HTML(value='')))"
      ]
     },
     "metadata": {},
     "output_type": "display_data"
    },
    {
     "name": "stdout",
     "output_type": "stream",
     "text": [
      "\n"
     ]
    },
    {
     "data": {
      "text/plain": [
       "FPS()"
      ]
     },
     "execution_count": 23,
     "metadata": {},
     "output_type": "execute_result"
    }
   ],
   "source": [
    "sel.fit(feats)"
   ]
  },
  {
   "cell_type": "code",
   "execution_count": 24,
   "metadata": {},
   "outputs": [],
   "source": [
    "KBB1 = (feat1[sel.selected_idx_]@feat1[sel.selected_idx_].T)**2\n",
    "KBB2 = (feat2[sel.selected_idx_]@feat2[sel.selected_idx_].T)**2"
   ]
  },
  {
   "cell_type": "code",
   "execution_count": 25,
   "metadata": {},
   "outputs": [],
   "source": [
    "rkhs1 = RKHSTransform(jitter=1e-10)\n",
    "rkhs1.fit(KBB1)\n",
    "rkhs2 = RKHSTransform(jitter=1e-10)\n",
    "rkhs2.fit(KBB2)"
   ]
  },
  {
   "cell_type": "code",
   "execution_count": 26,
   "metadata": {},
   "outputs": [],
   "source": [
    "feats = np.hstack([rkhs1.transform((feat1@feat1[sel.selected_idx_].T)**2), \n",
    "                   rkhs2.transform((feat2@feat2[sel.selected_idx_].T)**2)])\n",
    "X_train, X_test, y_train, y_test, sig_train, sig_test, g_train, g_test = train_test_split_by_frame(frames, feats, cs, sigmas, train_size=0.8)"
   ]
  },
  {
   "cell_type": "code",
   "execution_count": 27,
   "metadata": {},
   "outputs": [],
   "source": [
    "ar = AtomRidge(sigma=1, delta=[10, 2], feature_groups=[slice(0,rkhs1.nB_), slice(rkhs1.nB_,rkhs1.nB_+rkhs2.nB_)])\n",
    "splits = list(GroupKFold(n_splits=2).split(X_train, y_train, g_train))\n",
    "gcv = GridSearchCV(ar, dict(delta=[[1,100], [1,10], [1, 1], [10, 1], [100,1]]), cv = splits, scoring='neg_mean_squared_error')"
   ]
  },
  {
   "cell_type": "code",
   "execution_count": 28,
   "metadata": {},
   "outputs": [
    {
     "data": {
      "text/plain": [
       "GridSearchCV(cv=[(array([   48,    49,    50, ..., 12806, 12807, 12808]),\n",
       "                  array([    0,     1,     2, ..., 12658, 12659, 12660])),\n",
       "                 (array([    0,     1,     2, ..., 12658, 12659, 12660]),\n",
       "                  array([   48,    49,    50, ..., 12806, 12807, 12808]))],\n",
       "             estimator=AtomRidge(delta=[10, 2],\n",
       "                                 feature_groups=[slice(0, 961, None),\n",
       "                                                 slice(961, 1961, None)],\n",
       "                                 sigma=1),\n",
       "             param_grid={'delta': [[1, 100], [1, 10], [1, 1], [10, 1],\n",
       "                                   [100, 1]]},\n",
       "             scoring='neg_mean_squared_error')"
      ]
     },
     "execution_count": 28,
     "metadata": {},
     "output_type": "execute_result"
    }
   ],
   "source": [
    "gcv.fit(X_train, y_train, sample_sigmas=sig_train)"
   ]
  },
  {
   "cell_type": "code",
   "execution_count": 29,
   "metadata": {},
   "outputs": [
    {
     "data": {
      "text/plain": [
       "{'mean_fit_time': array([0.57306707, 0.56071413, 0.57852292, 0.59785664, 0.66454113]),\n",
       " 'std_fit_time': array([0.00267851, 0.00508988, 0.00524592, 0.00488198, 0.05927074]),\n",
       " 'mean_score_time': array([0.08969927, 0.08821619, 0.09062922, 0.09227931, 0.10231376]),\n",
       " 'std_score_time': array([2.85792351e-03, 5.90682030e-04, 4.64916229e-06, 3.19838524e-04,\n",
       "        2.43973732e-03]),\n",
       " 'param_delta': masked_array(data=[list([1, 100]), list([1, 10]), list([1, 1]),\n",
       "                    list([10, 1]), list([100, 1])],\n",
       "              mask=[False, False, False, False, False],\n",
       "        fill_value='?',\n",
       "             dtype=object),\n",
       " 'params': [{'delta': [1, 100]},\n",
       "  {'delta': [1, 10]},\n",
       "  {'delta': [1, 1]},\n",
       "  {'delta': [10, 1]},\n",
       "  {'delta': [100, 1]}],\n",
       " 'split0_test_score': array([-6871.25681638, -4275.81785461, -2327.1206239 , -2435.99582069,\n",
       "        -3313.62749191]),\n",
       " 'split1_test_score': array([-8311.50051452, -4682.43061987, -1994.2089419 , -2013.5957211 ,\n",
       "        -3163.56645951]),\n",
       " 'mean_test_score': array([-7591.37866545, -4479.12423724, -2160.6647829 , -2224.7957709 ,\n",
       "        -3238.59697571]),\n",
       " 'std_test_score': array([720.12184907, 203.30638263, 166.455841  , 211.20004979,\n",
       "         75.0305162 ]),\n",
       " 'rank_test_score': array([5, 4, 1, 2, 3], dtype=int32)}"
      ]
     },
     "execution_count": 29,
     "metadata": {},
     "output_type": "execute_result"
    }
   ],
   "source": [
    "gcv.cv_results_"
   ]
  },
  {
   "cell_type": "code",
   "execution_count": 30,
   "metadata": {},
   "outputs": [],
   "source": [
    "cs_pred = gcv.predict(feats)"
   ]
  },
  {
   "cell_type": "code",
   "execution_count": 31,
   "metadata": {},
   "outputs": [
    {
     "data": {
      "text/plain": [
       "[<matplotlib.lines.Line2D at 0x7f2c96c57280>]"
      ]
     },
     "execution_count": 31,
     "metadata": {},
     "output_type": "execute_result"
    },
    {
     "data": {
      "image/png": "[encoded data removed]",
      "text/plain": [
       "<Figure size 432x288 with 1 Axes>"
      ]
     },
     "metadata": {
      "needs_background": "light"
     },
     "output_type": "display_data"
    }
   ],
   "source": [
    "plt.plot(cs[type_idx['C']], cs_pred[type_idx['C']], 'r.')\n",
    "plt.plot(cs[type_idx['H']], cs_pred[type_idx['H']], 'b.')\n",
    "plt.plot([-50,200],[-50,200], 'k--')"
   ]
  },
  {
   "cell_type": "code",
   "execution_count": 32,
   "metadata": {},
   "outputs": [],
   "source": [
    "p_test = gcv.predict(X_test)"
   ]
  },
  {
   "cell_type": "code",
   "execution_count": 33,
   "metadata": {},
   "outputs": [
    {
     "data": {
      "text/plain": [
       "37.9234057386919"
      ]
     },
     "execution_count": 33,
     "metadata": {},
     "output_type": "execute_result"
    },
    {
     "data": {
      "image/png": "[encoded data removed]",
      "text/plain": [
       "<Figure size 432x288 with 1 Axes>"
      ]
     },
     "metadata": {
      "needs_background": "light"
     },
     "output_type": "display_data"
    }
   ],
   "source": [
    "plt.plot(p_test, y_test, 'r.')\n",
    "np.sqrt(np.mean((p_test-y_test)**2))"
   ]
  },
  {
   "cell_type": "code",
   "execution_count": 34,
   "metadata": {},
   "outputs": [],
   "source": [
    "feats = np.hstack([feat1, feat2, rkhs1.transform((feat1@feat1[sel.selected_idx_].T)**2), \n",
    "                   rkhs2.transform((feat2@feat2[sel.selected_idx_].T)**2)])\n",
    "ar = AtomRidge(sigma=1, delta=[10, 2], \n",
    "               feature_groups=[slice(0,feat1.shape[1]),\n",
    "                               slice(feat1.shape[1],feat1.shape[1]+feat2.shape[1]),\n",
    "                               slice(feat1.shape[1]+feat2.shape[1],feat1.shape[1]+feat2.shape[1]+rkhs1.nB_),\n",
    "                               slice(feat1.shape[1]+feat2.shape[1]+rkhs1.nB_,\n",
    "                                     feat1.shape[1]+feat2.shape[1]+rkhs1.nB_+rkhs2.nB_)])\n",
    "X_train, X_test, y_train, y_test, sig_train, sig_test, g_train, g_test = train_test_split_by_frame(frames, feats, cs, sigmas, train_size=0.8)"
   ]
  },
  {
   "cell_type": "code",
   "execution_count": 35,
   "metadata": {},
   "outputs": [],
   "source": [
    "splits = list(GroupKFold(n_splits=2).split(X_train, y_train, g_train))\n",
    "gcv = GridSearchCV(ar, dict(delta=[[1,1,1,1], [10,1,1,1], [1, 10, 1, 1], [1, 1, 1,10]]), cv = splits, scoring='neg_mean_squared_error')"
   ]
  },
  {
   "cell_type": "code",
   "execution_count": 36,
   "metadata": {},
   "outputs": [
    {
     "data": {
      "text/plain": [
       "GridSearchCV(cv=[(array([    0,     1,     2, ..., 12873, 12874, 12875]),\n",
       "                  array([   86,    87,    88, ..., 12605, 12606, 12607])),\n",
       "                 (array([   86,    87,    88, ..., 12605, 12606, 12607]),\n",
       "                  array([    0,     1,     2, ..., 12873, 12874, 12875]))],\n",
       "             estimator=AtomRidge(delta=[10, 2],\n",
       "                                 feature_groups=[slice(0, 50, None),\n",
       "                                                 slice(50, 6770, None),\n",
       "                                                 slice(6770, 7731, None),\n",
       "                                                 slice(7731, 8731, None)],\n",
       "                                 sigma=1),\n",
       "             param_grid={'delta': [[1, 1, 1, 1], [10, 1, 1, 1], [1, 10, 1, 1],\n",
       "                                   [1, 1, 1, 10]]},\n",
       "             scoring='neg_mean_squared_error')"
      ]
     },
     "execution_count": 36,
     "metadata": {},
     "output_type": "execute_result"
    }
   ],
   "source": [
    "gcv.fit(X_train, y_train, sample_sigmas=sig_train)"
   ]
  },
  {
   "cell_type": "code",
   "execution_count": 37,
   "metadata": {},
   "outputs": [
    {
     "data": {
      "text/plain": [
       "{'mean_fit_time': array([ 9.85993683, 13.27722335, 12.66051674, 11.67009723]),\n",
       " 'std_fit_time': array([1.35135758, 1.50251627, 0.07989526, 0.10312021]),\n",
       " 'mean_score_time': array([1.03893089, 1.13393652, 1.11975455, 0.98259676]),\n",
       " 'std_score_time': array([0.07027054, 0.11650789, 0.00368428, 0.00716817]),\n",
       " 'param_delta': masked_array(data=[list([1, 1, 1, 1]), list([10, 1, 1, 1]),\n",
       "                    list([1, 10, 1, 1]), list([1, 1, 1, 10])],\n",
       "              mask=[False, False, False, False],\n",
       "        fill_value='?',\n",
       "             dtype=object),\n",
       " 'params': [{'delta': [1, 1, 1, 1]},\n",
       "  {'delta': [10, 1, 1, 1]},\n",
       "  {'delta': [1, 10, 1, 1]},\n",
       "  {'delta': [1, 1, 1, 10]}],\n",
       " 'split0_test_score': array([-2254.38191997, -2350.89008397, -2407.5595815 , -4178.02238631]),\n",
       " 'split1_test_score': array([-1904.86760492, -1755.33312981, -2329.76061556, -5183.96133146]),\n",
       " 'mean_test_score': array([-2079.62476245, -2053.11160689, -2368.66009853, -4680.99185888]),\n",
       " 'std_test_score': array([174.75715753, 297.77847708,  38.89948297, 502.96947258]),\n",
       " 'rank_test_score': array([2, 1, 3, 4], dtype=int32)}"
      ]
     },
     "execution_count": 37,
     "metadata": {},
     "output_type": "execute_result"
    }
   ],
   "source": [
    "gcv.cv_results_"
   ]
  },
  {
   "cell_type": "code",
   "execution_count": 53,
   "metadata": {},
   "outputs": [],
   "source": [
    "cs_pred = gcv.predict(feats)"
   ]
  },
  {
   "cell_type": "code",
   "execution_count": 54,
   "metadata": {},
   "outputs": [
    {
     "data": {
      "text/plain": [
       "[<matplotlib.lines.Line2D at 0x7f0cfe652790>]"
      ]
     },
     "execution_count": 54,
     "metadata": {},
     "output_type": "execute_result"
    },
    {
     "data": {
      "image/png": "[encoded data removed]",
      "text/plain": [
       "<Figure size 432x288 with 1 Axes>"
      ]
     },
     "metadata": {
      "needs_background": "light"
     },
     "output_type": "display_data"
    }
   ],
   "source": [
    "plt.plot(cs[type_idx['C']], cs_pred[type_idx['C']], 'r.')\n",
    "plt.plot(cs[type_idx['H']], cs_pred[type_idx['H']], 'b.')\n",
    "plt.plot([-50,200],[-50,200], 'k--')"
   ]
  },
  {
   "cell_type": "code",
   "execution_count": 55,
   "metadata": {},
   "outputs": [],
   "source": [
    "p_test = gcv.predict(X_test)"
   ]
  },
  {
   "cell_type": "code",
   "execution_count": 56,
   "metadata": {},
   "outputs": [
    {
     "data": {
      "text/plain": [
       "33.52512284197961"
      ]
     },
     "execution_count": 56,
     "metadata": {},
     "output_type": "execute_result"
    },
    {
     "data": {
      "image/png": "[encoded data removed]",
      "text/plain": [
       "<Figure size 432x288 with 1 Axes>"
      ]
     },
     "metadata": {
      "needs_background": "light"
     },
     "output_type": "display_data"
    }
   ],
   "source": [
    "plt.plot(p_test, y_test, 'r.')\n",
    "np.sqrt(np.mean((p_test-y_test)**2))"
   ]
  },
  {
   "cell_type": "markdown",
   "metadata": {},
   "source": [
    "# Tensor stuff"
   ]
  },
  {
   "cell_type": "code",
   "execution_count": 50,
   "metadata": {},
   "outputs": [],
   "source": [
    "cg = ClebschGordanReal(lmax=2)"
   ]
  },
  {
   "cell_type": "code",
   "execution_count": 51,
   "metadata": {},
   "outputs": [],
   "source": [
    "tcs_coupled = cg.couple(xyz_to_spherical(tcs))"
   ]
  },
  {
   "cell_type": "code",
   "execution_count": 52,
   "metadata": {},
   "outputs": [],
   "source": [
    "tcs_cart = spherical_to_xyz(cg.decouple(tcs_coupled))"
   ]
  },
  {
   "cell_type": "code",
   "execution_count": 53,
   "metadata": {},
   "outputs": [
    {
     "data": {
      "text/plain": [
       "array([[  61.3422, -101.3244,   47.903 ],\n",
       "       [-105.0865,  -13.6984,  -34.2244],\n",
       "       [  35.4635,  -54.8832,   60.0297]])"
      ]
     },
     "execution_count": 53,
     "metadata": {},
     "output_type": "execute_result"
    }
   ],
   "source": [
    "tcs[0]"
   ]
  },
  {
   "cell_type": "code",
   "execution_count": 54,
   "metadata": {},
   "outputs": [
    {
     "name": "stdout",
     "output_type": "stream",
     "text": [
      "[-62.16532421] [-8.7960548   2.66020642 14.60797757] [-145.9545471   -63.00858822   29.5635449    58.94901747   53.06171712]\n"
     ]
    }
   ],
   "source": [
    "print(tcs_coupled[(1,1)][0][0], tcs_coupled[(1,1)][1][0], tcs_coupled[(1,1)][2][0])"
   ]
  },
  {
   "cell_type": "code",
   "execution_count": 55,
   "metadata": {},
   "outputs": [
    {
     "data": {
      "text/plain": [
       "array([[  61.3422, -101.3244,   47.903 ],\n",
       "       [-105.0865,  -13.6984,  -34.2244],\n",
       "       [  35.4635,  -54.8832,   60.0297]])"
      ]
     },
     "execution_count": 55,
     "metadata": {},
     "output_type": "execute_result"
    }
   ],
   "source": [
    "tcs_cart[0]"
   ]
  },
  {
   "cell_type": "code",
   "execution_count": 56,
   "metadata": {},
   "outputs": [
    {
     "data": {
      "text/plain": [
       "62.163303483647006"
      ]
     },
     "execution_count": 56,
     "metadata": {},
     "output_type": "execute_result"
    }
   ],
   "source": [
    "cs[0]*np.sqrt(3)"
   ]
  },
  {
   "cell_type": "code",
   "execution_count": 57,
   "metadata": {},
   "outputs": [
    {
     "data": {
      "text/plain": [
       "35.89116666666666"
      ]
     },
     "execution_count": 57,
     "metadata": {},
     "output_type": "execute_result"
    }
   ],
   "source": [
    "tcs[0].trace()/3"
   ]
  },
  {
   "cell_type": "code",
   "execution_count": 58,
   "metadata": {},
   "outputs": [
    {
     "data": {
      "text/plain": [
       "array([[-145.9545471 ,  -63.00858822,   29.5635449 ,   58.94901747,\n",
       "          53.06171712],\n",
       "       [ 145.9545471 ,  -63.00858822,   29.5635449 ,  -58.94901747,\n",
       "          53.06171712],\n",
       "       [ 145.9545471 ,   63.00858822,   29.5635449 ,   58.94901747,\n",
       "          53.06171712],\n",
       "       ...,\n",
       "       [   3.03405378,   -3.12788685,    0.84454324,   -2.4951677 ,\n",
       "           2.93937218],\n",
       "       [  -3.03405378,    3.12788685,    0.84454324,   -2.4951677 ,\n",
       "           2.93937218],\n",
       "       [   3.03405378,   -3.12788685,    0.84454324,   -2.4951677 ,\n",
       "           2.93937218]])"
      ]
     },
     "execution_count": 58,
     "metadata": {},
     "output_type": "execute_result"
    }
   ],
   "source": [
    "tcs_coupled[(1,1)][2]"
   ]
  },
  {
   "cell_type": "markdown",
   "metadata": {},
   "source": [
    "## builds lambda-SOAP"
   ]
  },
  {
   "cell_type": "code",
   "execution_count": 6,
   "metadata": {},
   "outputs": [],
   "source": [
    "hypers_2 = {\n",
    "    'interaction_cutoff': 6,\n",
    "    'max_radial': 8,\n",
    "    'max_angular': 6,\n",
    "    'gaussian_sigma_type': 'Constant',\n",
    "    'gaussian_sigma_constant': 0.2,\n",
    "    'cutoff_smooth_width': 0.3,\n",
    "    'radial_basis': 'DVR'\n",
    "}\n",
    "hypers_2 = get_optimal_radial_basis_hypers(hypers_2, frames, expanded_max_radial=50)"
   ]
  },
  {
   "cell_type": "code",
   "execution_count": 7,
   "metadata": {},
   "outputs": [],
   "source": [
    "CG = ClebschGordanReal(lmax=hypers_2[\"max_angular\"])"
   ]
  },
  {
   "cell_type": "code",
   "execution_count": 8,
   "metadata": {},
   "outputs": [],
   "source": [
    "spex = SphericalExpansion(**hypers_2)"
   ]
  },
  {
   "cell_type": "code",
   "execution_count": 83,
   "metadata": {},
   "outputs": [],
   "source": [
    "feats = spex.transform(frames).get_features(spex)\n",
    "ref_feats = 1e3*spherical_expansion_reshape(feats, **hypers_2)"
   ]
  },
  {
   "cell_type": "code",
   "execution_count": 84,
   "metadata": {},
   "outputs": [],
   "source": [
    "nsmall = 500"
   ]
  },
  {
   "cell_type": "code",
   "execution_count": 85,
   "metadata": {},
   "outputs": [],
   "source": [
    "lsoap = compute_lambda_soap(ref_feats[:nsmall], CG, 2)"
   ]
  },
  {
   "cell_type": "markdown",
   "metadata": {},
   "source": [
    "this is a simple PCA contraction"
   ]
  },
  {
   "cell_type": "code",
   "execution_count": 86,
   "metadata": {},
   "outputs": [],
   "source": [
    "lsr = np.moveaxis(lsoap,-1,1).reshape((lsoap.shape[0]*lsoap.shape[-1], -1))"
   ]
  },
  {
   "cell_type": "code",
   "execution_count": 87,
   "metadata": {},
   "outputs": [],
   "source": [
    "u, s, vt = sp.linalg.svd(lsr, full_matrices=False)"
   ]
  },
  {
   "cell_type": "code",
   "execution_count": 88,
   "metadata": {},
   "outputs": [
    {
     "data": {
      "text/plain": [
       "[<matplotlib.lines.Line2D at 0x7f5eb6ead970>]"
      ]
     },
     "execution_count": 88,
     "metadata": {},
     "output_type": "execute_result"
    },
    {
     "data": {
      "image/png": "[encoded data removed]",
      "text/plain": [
       "<Figure size 432x288 with 1 Axes>"
      ]
     },
     "metadata": {
      "needs_background": "light"
     },
     "output_type": "display_data"
    }
   ],
   "source": [
    "plt.loglog(s)"
   ]
  },
  {
   "cell_type": "code",
   "execution_count": 89,
   "metadata": {},
   "outputs": [
    {
     "data": {
      "text/plain": [
       "(2500, 25600)"
      ]
     },
     "execution_count": 89,
     "metadata": {},
     "output_type": "execute_result"
    }
   ],
   "source": [
    "vt.shape"
   ]
  },
  {
   "cell_type": "code",
   "execution_count": 90,
   "metadata": {},
   "outputs": [],
   "source": [
    "lsoap_pca = np.moveaxis((lsr@vt[:1000].T).reshape((lsoap.shape[0], lsoap.shape[-1], -1)), 1, -1)"
   ]
  },
  {
   "cell_type": "code",
   "execution_count": 91,
   "metadata": {},
   "outputs": [
    {
     "data": {
      "text/plain": [
       "(500, 1000, 5)"
      ]
     },
     "execution_count": 91,
     "metadata": {},
     "output_type": "execute_result"
    }
   ],
   "source": [
    "lsoap_pca.shape"
   ]
  },
  {
   "cell_type": "markdown",
   "metadata": {},
   "source": [
    "now do 0-1-2"
   ]
  },
  {
   "cell_type": "code",
   "execution_count": 101,
   "metadata": {},
   "outputs": [],
   "source": [
    "lsoap0 = compute_lambda_soap(ref_feats[:nsmall], CG, 0, 0)\n",
    "lsr = np.moveaxis(lsoap0,-1,1).reshape((lsoap0.shape[0]*lsoap0.shape[-1], -1))\n",
    "u, s, vt = sp.linalg.svd(lsr, full_matrices=False)"
   ]
  },
  {
   "cell_type": "code",
   "execution_count": 92,
   "metadata": {},
   "outputs": [],
   "source": [
    "from sklearn.linear_model import Ridge"
   ]
  },
  {
   "cell_type": "code",
   "execution_count": 93,
   "metadata": {
    "code_folding": []
   },
   "outputs": [],
   "source": [
    "class SASplitter:\n",
    "    \"\"\" CV splitter that takes into account the presence of \"L blocks\"\n",
    "    associated with symmetry-adapted regression. Basically, you can trick conventional\n",
    "    regression schemes to work on symmetry-adapted data y^M_L(A_i) by having the (2L+1)\n",
    "    angular channels \"unrolled\" into a flat array. Then however splitting of train/test\n",
    "    or cross validation must not \"cut\" across the M block. This takes care of that.\n",
    "    \"\"\"\n",
    "    def __init__(self, L, cv=2):\n",
    "        self.L = L\n",
    "        self.cv = cv\n",
    "        self.n_splits = cv\n",
    "\n",
    "    def split(self, X, y, groups=None):\n",
    "\n",
    "        ntrain = X.shape[0]\n",
    "        if ntrain % (2*self.L+1) != 0:\n",
    "            raise ValueError(\"Size of training data is inconsistent with the L value\")\n",
    "        ntrain = ntrain // (2*self.L+1)\n",
    "        nbatch = (2*self.L+1)*(ntrain//self.n_splits)\n",
    "        idx = np.arange(len(X))\n",
    "        np.random.shuffle(idx)\n",
    "        for n in range(self.n_splits):\n",
    "            itest = idx[n*nbatch:(n+1)*nbatch]\n",
    "            itrain = np.concatenate([idx[:n*nbatch], idx[(n+1)*nbatch:]])\n",
    "            yield itrain, itest\n",
    "\n",
    "    def get_n_splits(self, X, y, groups=None):\n",
    "        return self.n_splits\n",
    "    \n",
    "class SARidge(Ridge):\n",
    "    \"\"\" Symmetry-adapted ridge regression class \"\"\"\n",
    "\n",
    "    def __init__(self, L, alpha=1, alphas=None, cv=2, solver='auto',\n",
    "                 fit_intercept=False, scoring='neg_root_mean_squared_error'):\n",
    "        self.L = L\n",
    "        # L>0 components have zero mean by symmetry\n",
    "        if L>0:\n",
    "            fit_intercept = False\n",
    "        self.cv = SASplitter(L, cv)\n",
    "        self.alphas = alphas\n",
    "        self.cv_stats = None\n",
    "        self.scoring = scoring\n",
    "        self.solver = solver\n",
    "        super(SARidge, self).__init__(alpha=alpha, fit_intercept=fit_intercept, solver=solver)\n",
    "\n",
    "    def fit(self, Xm, Ym, X0=None):\n",
    "        # this expects properties in the form [i, m] and features in the form [i, q, m]\n",
    "        # in order to train a SA-GPR model the m indices have to be moved and merged with the i\n",
    "\n",
    "        Xm_flat = np.moveaxis(Xm, 2, 1).reshape((-1, Xm.shape[1]))\n",
    "        Ym_flat = Ym.flatten()\n",
    "        if self.alphas is not None:\n",
    "            # determines alpha by grid search\n",
    "            rcv = Ridge(fit_intercept=self.fit_intercept)\n",
    "            gscv = GridSearchCV(rcv, dict(alpha=self.alphas), cv=self.cv, scoring=self.scoring)\n",
    "            gscv.fit(Xm_flat, Ym_flat)\n",
    "            self.cv_stats = gscv.cv_results_\n",
    "            self.alpha = gscv.best_params_[\"alpha\"]\n",
    "\n",
    "        super(SARidge, self).fit(Xm_flat, Ym_flat)\n",
    "    def predict(self, Xm, X0=None):\n",
    "\n",
    "        Y = super(SARidge, self).predict(np.moveaxis(Xm, 2, 1).reshape((-1, Xm.shape[1])))\n",
    "        return Y.reshape((-1, 2*self.L+1))"
   ]
  },
  {
   "cell_type": "code",
   "execution_count": 94,
   "metadata": {},
   "outputs": [],
   "source": [
    "tgt0 = tcs_coupled[(1,1)][0][:nsmall]\n",
    "tgt1 = tcs_coupled[(1,1)][1][:nsmall]\n",
    "tgt2 = tcs_coupled[(1,1)][2][:nsmall]"
   ]
  },
  {
   "cell_type": "code",
   "execution_count": 99,
   "metadata": {},
   "outputs": [],
   "source": [
    "sar0 = SARidge(L=0, alpha=1e-8)\n",
    "sar1 = SARidge(L=0, alpha=1e-8)\n",
    "sar2 = SARidge(L=0, alpha=1e-8)"
   ]
  },
  {
   "cell_type": "code",
   "execution_count": 96,
   "metadata": {},
   "outputs": [],
   "source": [
    "sar0.fit(lsoap_pca, tgt)"
   ]
  },
  {
   "cell_type": "code",
   "execution_count": 97,
   "metadata": {},
   "outputs": [],
   "source": [
    "pred = sar.predict(lsoap_pca)"
   ]
  },
  {
   "cell_type": "code",
   "execution_count": 98,
   "metadata": {},
   "outputs": [
    {
     "data": {
      "text/plain": [
       "array([[-146.06110104,  -62.45600929,   29.45890017,   58.89890078,\n",
       "          52.75158594],\n",
       "       [ 146.06227312,  -62.45718553,   29.45863174,  -58.89821988,\n",
       "          52.75282588],\n",
       "       [ 146.06160222,   62.45821775,   29.45829112,   58.89774792,\n",
       "          52.75302877],\n",
       "       ...,\n",
       "       [ -22.54198138,    9.54173894,  -10.20029496,  -10.64388952,\n",
       "           7.04538645],\n",
       "       [  24.68580685,  -10.38951916,  -10.27640242,  -14.04975365,\n",
       "           4.90882667],\n",
       "       [ -24.67287818,   10.41448863,  -10.27313732,  -14.05283799,\n",
       "           4.90994857]])"
      ]
     },
     "execution_count": 98,
     "metadata": {},
     "output_type": "execute_result"
    }
   ],
   "source": [
    "pred"
   ]
  },
  {
   "cell_type": "code",
   "execution_count": 82,
   "metadata": {},
   "outputs": [
    {
     "data": {
      "text/plain": [
       "array([[-145.9545471 ,  -63.00858822,   29.5635449 ,   58.94901747,\n",
       "          53.06171712],\n",
       "       [ 145.9545471 ,  -63.00858822,   29.5635449 ,  -58.94901747,\n",
       "          53.06171712],\n",
       "       [ 145.9545471 ,   63.00858822,   29.5635449 ,   58.94901747,\n",
       "          53.06171712],\n",
       "       ...,\n",
       "       [ -22.88940006,   10.46482681,  -10.3575449 ,  -12.1693077 ,\n",
       "           5.89281578],\n",
       "       [  22.88692519,  -10.4627762 ,  -10.35746325,  -12.16789349,\n",
       "           5.89776553],\n",
       "       [ -22.88940006,   10.46482681,  -10.3575449 ,  -12.1693077 ,\n",
       "           5.89281578]])"
      ]
     },
     "execution_count": 82,
     "metadata": {},
     "output_type": "execute_result"
    }
   ],
   "source": [
    "tgt"
   ]
  },
  {
   "cell_type": "code",
   "execution_count": null,
   "metadata": {},
   "outputs": [],
   "source": []
  },
  {
   "cell_type": "code",
   "execution_count": null,
   "metadata": {},
   "outputs": [],
   "source": []
  }
 ],
 "metadata": {
  "kernelspec": {
   "display_name": "Python 3",
   "language": "python",
   "name": "python3"
  },
  "language_info": {
   "codemirror_mode": {
    "name": "ipython",
    "version": 3
   },
   "file_extension": ".py",
   "mimetype": "text/x-python",
   "name": "python",
   "nbconvert_exporter": "python",
   "pygments_lexer": "ipython3",
   "version": "3.8.10"
  },
  "toc": {
   "base_numbering": 1,
   "nav_menu": {},
   "number_sections": true,
   "sideBar": true,
   "skip_h1_title": false,
   "title_cell": "Table of Contents",
   "title_sidebar": "Contents",
   "toc_cell": false,
   "toc_position": {},
   "toc_section_display": true,
   "toc_window_display": false
  }
 },
 "nbformat": 4,
 "nbformat_minor": 4
}
