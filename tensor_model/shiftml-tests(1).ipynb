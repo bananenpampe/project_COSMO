{
 "cells": [
  {
   "cell_type": "code",
   "execution_count": 1,
   "metadata": {},
   "outputs": [],
   "source": [
    "%load_ext autoreload \n",
    "%autoreload 2|"
   ]
  },
  {
   "cell_type": "code",
   "execution_count": 2,
   "metadata": {},
   "outputs": [],
   "source": [
    "from ase.io import read\n",
    "import ase\n",
    "import time \n",
    "from tqdm.notebook import tqdm\n",
    "from copy import deepcopy\n",
    "import numpy as np\n",
    "import scipy as sp\n",
    "import matplotlib.pyplot as plt\n",
    "\n",
    "from rascal.representations import SphericalExpansion, SphericalInvariants\n",
    "from rascal.utils import (get_radial_basis_covariance, get_radial_basis_pca, \n",
    "                          get_radial_basis_projections, get_optimal_radial_basis_hypers )\n",
    "from rascal.utils import radial_basis\n",
    "from rascal.utils import (WignerDReal, ClebschGordanReal, \n",
    "                          spherical_expansion_reshape, spherical_expansion_conjugate,\n",
    "                    lm_slice, real2complex_matrix, compute_lambda_soap, xyz_to_spherical, spherical_to_xyz)\n",
    "from rascal.neighbourlist.structure_manager import mask_center_atoms_by_species,mask_center_atoms_by_id"
   ]
  },
  {
   "cell_type": "code",
   "execution_count": 3,
   "metadata": {},
   "outputs": [],
   "source": [
    "from skcosmo.linear_model import AtomRidge\n",
    "from skcosmo.model_selection import atom_groups_by_frame, train_test_split_by_frame"
   ]
  },
  {
   "cell_type": "code",
   "execution_count": 4,
   "metadata": {},
   "outputs": [
    {
     "name": "stdout",
     "output_type": "stream",
     "text": [
      "ORAVUZ SUSPICIOUS\n",
      "SAJYEH SUSPICIOUS\n",
      "DIZVOZ SUSPICIOUS\n",
      "CUGLUN SUSPICIOUS\n"
     ]
    }
   ],
   "source": [
    "frames = read(\"./train_tensor/CSD-3k+S546_shift_tensors.xyz\",\"::20\")\n",
    "clean_frames = []\n",
    "for f in frames:\n",
    "    if f.info['STATUS'] == 'PASSING':\n",
    "        clean_frames.append(f)\n",
    "    else:\n",
    "        print(f.info['NAME'], f.info['STATUS'])\n",
    "frames = clean_frames"
   ]
  },
  {
   "cell_type": "code",
   "execution_count": 5,
   "metadata": {},
   "outputs": [],
   "source": [
    "y = []\n",
    "ty = []\n",
    "s = []\n",
    "atom_sigma = {'H': 0.1, 'C': 1, 'N':1, 'O':1, 'S':2}\n",
    "type_idx = {'H': [], 'C': [], 'N': [], 'O': [], 'S': []}\n",
    "idx = 0\n",
    "groups = []\n",
    "for iframe, f in enumerate(frames):\n",
    "    y.append(f.arrays['cs_iso'])\n",
    "    ty.append(f.arrays['cs_tensor'].reshape((-1,3,3)))\n",
    "    f.wrap(eps=1e-12)\n",
    "    for l in f.symbols:\n",
    "        type_idx[l].append(idx)\n",
    "        idx+=1\n",
    "        s.append(atom_sigma[l])    \n",
    "groups = atom_groups_by_frame(frames)        \n",
    "cs = np.concatenate(y)\n",
    "tcs = np.concatenate(ty)\n",
    "sigmas = np.asarray(s)"
   ]
  },
  {
   "cell_type": "code",
   "execution_count": 7,
   "metadata": {},
   "outputs": [
    {
     "data": {
      "text/plain": [
       "{'magres_units': {'cs_tensor': 'ppm', 'cs_iso': 'ppm'},\n",
       " 'STATUS': 'PASSING',\n",
       " 'NAME': 'FADBOB',\n",
       " 'ENERGY': -2300.05217586}"
      ]
     },
     "execution_count": 7,
     "metadata": {},
     "output_type": "execute_result"
    }
   ],
   "source": [
    "f.info"
   ]
  },
  {
   "cell_type": "code",
   "execution_count": 8,
   "metadata": {},
   "outputs": [],
   "source": [
    "hypers_1 = {\n",
    "    'interaction_cutoff': 6,\n",
    "    'max_radial': 10,\n",
    "    'max_angular': 0,\n",
    "    'gaussian_sigma_type': 'Constant',\n",
    "    'gaussian_sigma_constant': 0.2,\n",
    "    'cutoff_smooth_width': 0.3,\n",
    "    'radial_basis': 'DVR',        \n",
    "    'soap_type' : \"RadialSpectrum\",\n",
    "    'normalize' : False\n",
    "}\n",
    "\n",
    "hypers_2 = {\n",
    "    'interaction_cutoff': 6,\n",
    "    'max_radial': 8,\n",
    "    'max_angular': 6,\n",
    "    'gaussian_sigma_type': 'Constant',\n",
    "    'gaussian_sigma_constant': 0.2,\n",
    "    'cutoff_smooth_width': 0.3,\n",
    "    'radial_basis': 'DVR',\n",
    "    'normalize' : False,\n",
    "    'soap_type' : \"PowerSpectrum\"\n",
    "}\n",
    "\n",
    "hypers_1 = get_optimal_radial_basis_hypers(hypers_1, frames, expanded_max_radial=50)\n",
    "hypers_2 = get_optimal_radial_basis_hypers(hypers_2, frames, expanded_max_radial=50)"
   ]
  },
  {
   "cell_type": "code",
   "execution_count": 9,
   "metadata": {},
   "outputs": [],
   "source": [
    "soap1 = SphericalInvariants(**hypers_1)\n",
    "soap2 = SphericalInvariants(**hypers_2)"
   ]
  },
  {
   "cell_type": "code",
   "execution_count": 10,
   "metadata": {},
   "outputs": [],
   "source": [
    "feat1 = soap1.transform(frames).get_features(soap1)\n",
    "feat2 = soap2.transform(frames).get_features(soap2)"
   ]
  },
  {
   "cell_type": "code",
   "execution_count": 11,
   "metadata": {},
   "outputs": [],
   "source": [
    "from sklearn.model_selection import GroupKFold, GridSearchCV, train_test_split"
   ]
  },
  {
   "cell_type": "code",
   "execution_count": 12,
   "metadata": {},
   "outputs": [],
   "source": [
    "from skcosmo.kernel_model import RKHSTransform\n",
    "from skcosmo.sample_selection import CUR, PCovCUR, FPS"
   ]
  },
  {
   "cell_type": "code",
   "execution_count": 13,
   "metadata": {},
   "outputs": [],
   "source": [
    "feats = np.hstack([feat1, feat2])\n",
    "X_train, X_test, y_train, y_test, sig_train, sig_test, g_train, g_test = train_test_split_by_frame(frames, feats, cs, sigmas, train_size=0.8)"
   ]
  },
  {
   "cell_type": "code",
   "execution_count": 14,
   "metadata": {},
   "outputs": [],
   "source": [
    "ar = AtomRidge(sigma=1, delta=[10, 2], feature_groups=[slice(0,feat1.shape[1]), slice(feat1.shape[1],feat1.shape[1]+feat2.shape[1])])"
   ]
  },
  {
   "cell_type": "code",
   "execution_count": 15,
   "metadata": {},
   "outputs": [],
   "source": [
    "splits = list(GroupKFold(n_splits=2).split(X_train, y_train, g_train))\n",
    "gcv = GridSearchCV(ar, dict(delta=[[1,100], [1,10], [1, 1], [10, 1], [100,1]]), cv = splits, scoring='neg_mean_squared_error')"
   ]
  },
  {
   "cell_type": "code",
   "execution_count": 16,
   "metadata": {},
   "outputs": [],
   "source": [
    "ar.fit(X_train, y_train, sample_sigmas=sig_train)"
   ]
  },
  {
   "cell_type": "code",
   "execution_count": 17,
   "metadata": {},
   "outputs": [
    {
     "data": {
      "text/plain": [
       "GridSearchCV(cv=[(array([    0,     1,     2, ..., 12269, 12270, 12271]),\n",
       "                  array([   86,    87,    88, ..., 12121, 12122, 12123])),\n",
       "                 (array([   86,    87,    88, ..., 12121, 12122, 12123]),\n",
       "                  array([    0,     1,     2, ..., 12269, 12270, 12271]))],\n",
       "             estimator=AtomRidge(delta=[10, 2],\n",
       "                                 feature_groups=[slice(0, 50, None),\n",
       "                                                 slice(50, 6770, None)],\n",
       "                                 sigma=1),\n",
       "             param_grid={'delta': [[1, 100], [1, 10], [1, 1], [10, 1],\n",
       "                                   [100, 1]]},\n",
       "             scoring='neg_mean_squared_error')"
      ]
     },
     "execution_count": 17,
     "metadata": {},
     "output_type": "execute_result"
    }
   ],
   "source": [
    "gcv.fit(X_train, y_train, sample_sigmas=sig_train)"
   ]
  },
  {
   "cell_type": "code",
   "execution_count": 18,
   "metadata": {},
   "outputs": [
    {
     "data": {
      "text/plain": [
       "{'mean_fit_time': array([12.09271193,  8.83682048,  8.71389151,  8.56214142,  8.52858102]),\n",
       " 'std_fit_time': array([1.39309692, 0.41549146, 0.06667256, 0.07831645, 0.17472303]),\n",
       " 'mean_score_time': array([0.93924952, 0.69663191, 0.71643901, 0.71022534, 0.70349801]),\n",
       " 'std_score_time': array([0.18988657, 0.00534987, 0.00594997, 0.01554155, 0.00495708]),\n",
       " 'param_delta': masked_array(data=[list([1, 100]), list([1, 10]), list([1, 1]),\n",
       "                    list([10, 1]), list([100, 1])],\n",
       "              mask=[False, False, False, False, False],\n",
       "        fill_value='?',\n",
       "             dtype=object),\n",
       " 'params': [{'delta': [1, 100]},\n",
       "  {'delta': [1, 10]},\n",
       "  {'delta': [1, 1]},\n",
       "  {'delta': [10, 1]},\n",
       "  {'delta': [100, 1]}],\n",
       " 'split0_test_score': array([-2762.86451858, -2447.96003846, -2236.87300819, -2247.9306043 ,\n",
       "        -2252.69336344]),\n",
       " 'split1_test_score': array([-2552.53812364, -2143.2317906 , -1770.52057161, -1647.44200732,\n",
       "        -1644.20339292]),\n",
       " 'mean_test_score': array([-2657.70132111, -2295.59591453, -2003.6967899 , -1947.68630581,\n",
       "        -1948.44837818]),\n",
       " 'std_test_score': array([105.16319747, 152.36412393, 233.17621829, 300.24429849,\n",
       "        304.24498526]),\n",
       " 'rank_test_score': array([5, 4, 3, 1, 2], dtype=int32)}"
      ]
     },
     "execution_count": 18,
     "metadata": {},
     "output_type": "execute_result"
    }
   ],
   "source": [
    "gcv.cv_results_"
   ]
  },
  {
   "cell_type": "code",
   "execution_count": 19,
   "metadata": {},
   "outputs": [],
   "source": [
    "cs_pred = gcv.predict(feats)"
   ]
  },
  {
   "cell_type": "code",
   "execution_count": 20,
   "metadata": {},
   "outputs": [],
   "source": [
    "p_test = gcv.predict(X_test)"
   ]
  },
  {
   "cell_type": "code",
   "execution_count": 21,
   "metadata": {},
   "outputs": [
    {
     "data": {
      "text/plain": [
       "42.89172789574077"
      ]
     },
     "execution_count": 21,
     "metadata": {},
     "output_type": "execute_result"
    },
    {
     "data": {
      "image/png": "[encoded data removed]",
      "text/plain": [
       "<Figure size 432x288 with 1 Axes>"
      ]
     },
     "metadata": {
      "needs_background": "light"
     },
     "output_type": "display_data"
    }
   ],
   "source": [
    "plt.plot(p_test, y_test, 'r.')\n",
    "np.sqrt(np.mean((p_test-y_test)**2))"
   ]
  },
  {
   "cell_type": "code",
   "execution_count": 22,
   "metadata": {},
   "outputs": [
    {
     "data": {
      "text/plain": [
       "[<matplotlib.lines.Line2D at 0x7fb072f89470>]"
      ]
     },
     "execution_count": 22,
     "metadata": {},
     "output_type": "execute_result"
    },
    {
     "data": {
      "image/png": "[encoded data removed]",
      "text/plain": [
       "<Figure size 432x288 with 1 Axes>"
      ]
     },
     "metadata": {
      "needs_background": "light"
     },
     "output_type": "display_data"
    }
   ],
   "source": [
    "plt.plot(cs[type_idx['C']], cs_pred[type_idx['C']], 'r.')\n",
    "plt.plot(cs[type_idx['H']], cs_pred[type_idx['H']], 'b.')"
   ]
  },
  {
   "cell_type": "code",
   "execution_count": 23,
   "metadata": {},
   "outputs": [],
   "source": [
    "sel = FPS(n_to_select = 1000, progress_bar=tqdm)"
   ]
  },
  {
   "cell_type": "code",
   "execution_count": 24,
   "metadata": {},
   "outputs": [
    {
     "data": {
      "application/vnd.jupyter.widget-view+json": {
       "model_id": "a7f8858f24634d1a80be35b491da91ea",
       "version_major": 2,
       "version_minor": 0
      },
      "text/plain": [
       "  0%|          | 0/999 [00:00<?, ?it/s]"
      ]
     },
     "metadata": {},
     "output_type": "display_data"
    },
    {
     "data": {
      "text/plain": [
       "FPS()"
      ]
     },
     "execution_count": 24,
     "metadata": {},
     "output_type": "execute_result"
    }
   ],
   "source": [
    "sel.fit(feats)"
   ]
  },
  {
   "cell_type": "code",
   "execution_count": 25,
   "metadata": {},
   "outputs": [],
   "source": [
    "KBB1 = (feat1[sel.selected_idx_]@feat1[sel.selected_idx_].T)**2\n",
    "KBB2 = (feat2[sel.selected_idx_]@feat2[sel.selected_idx_].T)**2"
   ]
  },
  {
   "cell_type": "code",
   "execution_count": 26,
   "metadata": {},
   "outputs": [],
   "source": [
    "rkhs1 = RKHSTransform(jitter=1e-10)\n",
    "rkhs1.fit(KBB1)\n",
    "rkhs2 = RKHSTransform(jitter=1e-10)\n",
    "rkhs2.fit(KBB2)"
   ]
  },
  {
   "cell_type": "code",
   "execution_count": 27,
   "metadata": {},
   "outputs": [],
   "source": [
    "feats = np.hstack([rkhs1.transform((feat1@feat1[sel.selected_idx_].T)**2), \n",
    "                   rkhs2.transform((feat2@feat2[sel.selected_idx_].T)**2)])\n",
    "X_train, X_test, y_train, y_test, sig_train, sig_test, g_train, g_test = train_test_split_by_frame(frames, feats, cs, sigmas, train_size=0.8)"
   ]
  },
  {
   "cell_type": "code",
   "execution_count": 28,
   "metadata": {},
   "outputs": [],
   "source": [
    "ar = AtomRidge(sigma=1, delta=[10, 2], feature_groups=[slice(0,rkhs1.nB_), slice(rkhs1.nB_,rkhs1.nB_+rkhs2.nB_)])\n",
    "splits = list(GroupKFold(n_splits=2).split(X_train, y_train, g_train))\n",
    "gcv = GridSearchCV(ar, dict(delta=[[1,100], [1,10], [1, 1], [10, 1], [100,1]]), cv = splits, scoring='neg_mean_squared_error')"
   ]
  },
  {
   "cell_type": "code",
   "execution_count": 29,
   "metadata": {},
   "outputs": [
    {
     "data": {
      "text/plain": [
       "GridSearchCV(cv=[(array([  236,   237,   238, ..., 12936, 12937, 12938]),\n",
       "                  array([    0,     1,     2, ..., 12788, 12789, 12790])),\n",
       "                 (array([    0,     1,     2, ..., 12788, 12789, 12790]),\n",
       "                  array([  236,   237,   238, ..., 12936, 12937, 12938]))],\n",
       "             estimator=AtomRidge(delta=[10, 2],\n",
       "                                 feature_groups=[slice(0, 961, None),\n",
       "                                                 slice(961, 1961, None)],\n",
       "                                 sigma=1),\n",
       "             param_grid={'delta': [[1, 100], [1, 10], [1, 1], [10, 1],\n",
       "                                   [100, 1]]},\n",
       "             scoring='neg_mean_squared_error')"
      ]
     },
     "execution_count": 29,
     "metadata": {},
     "output_type": "execute_result"
    }
   ],
   "source": [
    "gcv.fit(X_train, y_train, sample_sigmas=sig_train)"
   ]
  },
  {
   "cell_type": "code",
   "execution_count": 30,
   "metadata": {},
   "outputs": [
    {
     "data": {
      "text/plain": [
       "{'mean_fit_time': array([1.57725811, 1.07465994, 1.05632591, 1.22664976, 1.23667967]),\n",
       " 'std_fit_time': array([0.08924603, 0.0405401 , 0.00127697, 0.01882601, 0.07600439]),\n",
       " 'mean_score_time': array([0.20299292, 0.19146645, 0.18796015, 0.18870914, 0.19250989]),\n",
       " 'std_score_time': array([0.02007103, 0.00424659, 0.00057912, 0.00759399, 0.00755405]),\n",
       " 'param_delta': masked_array(data=[list([1, 100]), list([1, 10]), list([1, 1]),\n",
       "                    list([10, 1]), list([100, 1])],\n",
       "              mask=[False, False, False, False, False],\n",
       "        fill_value='?',\n",
       "             dtype=object),\n",
       " 'params': [{'delta': [1, 100]},\n",
       "  {'delta': [1, 10]},\n",
       "  {'delta': [1, 1]},\n",
       "  {'delta': [10, 1]},\n",
       "  {'delta': [100, 1]}],\n",
       " 'split0_test_score': array([-8362.86944586, -5057.28549958, -1897.63411686, -1806.58363248,\n",
       "        -3629.66053668]),\n",
       " 'split1_test_score': array([-5393.94795229, -3474.5058167 , -2175.68240399, -1776.42589891,\n",
       "        -3732.77189298]),\n",
       " 'mean_test_score': array([-6878.40869907, -4265.89565814, -2036.65826042, -1791.50476569,\n",
       "        -3681.21621483]),\n",
       " 'std_test_score': array([1484.46074679,  791.38984144,  139.02414356,   15.07886679,\n",
       "          51.55567815]),\n",
       " 'rank_test_score': array([5, 4, 2, 1, 3], dtype=int32)}"
      ]
     },
     "execution_count": 30,
     "metadata": {},
     "output_type": "execute_result"
    }
   ],
   "source": [
    "gcv.cv_results_"
   ]
  },
  {
   "cell_type": "code",
   "execution_count": 31,
   "metadata": {},
   "outputs": [],
   "source": [
    "cs_pred = gcv.predict(feats)"
   ]
  },
  {
   "cell_type": "code",
   "execution_count": 32,
   "metadata": {},
   "outputs": [
    {
     "data": {
      "text/plain": [
       "[<matplotlib.lines.Line2D at 0x7fb072ca3a58>]"
      ]
     },
     "execution_count": 32,
     "metadata": {},
     "output_type": "execute_result"
    },
    {
     "data": {
      "image/png": "[encoded data removed]",
      "text/plain": [
       "<Figure size 432x288 with 1 Axes>"
      ]
     },
     "metadata": {
      "needs_background": "light"
     },
     "output_type": "display_data"
    }
   ],
   "source": [
    "plt.plot(cs[type_idx['C']], cs_pred[type_idx['C']], 'r.')\n",
    "plt.plot(cs[type_idx['H']], cs_pred[type_idx['H']], 'b.')\n",
    "plt.plot([-50,200],[-50,200], 'k--')"
   ]
  },
  {
   "cell_type": "code",
   "execution_count": 33,
   "metadata": {},
   "outputs": [],
   "source": [
    "p_test = gcv.predict(X_test)"
   ]
  },
  {
   "cell_type": "code",
   "execution_count": 34,
   "metadata": {},
   "outputs": [
    {
     "data": {
      "text/plain": [
       "37.88392670384584"
      ]
     },
     "execution_count": 34,
     "metadata": {},
     "output_type": "execute_result"
    },
    {
     "data": {
      "image/png": "[encoded data removed]",
      "text/plain": [
       "<Figure size 432x288 with 1 Axes>"
      ]
     },
     "metadata": {
      "needs_background": "light"
     },
     "output_type": "display_data"
    }
   ],
   "source": [
    "plt.plot(p_test, y_test, 'r.')\n",
    "np.sqrt(np.mean((p_test-y_test)**2))"
   ]
  },
  {
   "cell_type": "code",
   "execution_count": 35,
   "metadata": {},
   "outputs": [],
   "source": [
    "feats = np.hstack([feat1, feat2, rkhs1.transform((feat1@feat1[sel.selected_idx_].T)**2), \n",
    "                   rkhs2.transform((feat2@feat2[sel.selected_idx_].T)**2)])\n",
    "ar = AtomRidge(sigma=1, delta=[10, 2], \n",
    "               feature_groups=[slice(0,feat1.shape[1]),\n",
    "                               slice(feat1.shape[1],feat1.shape[1]+feat2.shape[1]),\n",
    "                               slice(feat1.shape[1]+feat2.shape[1],feat1.shape[1]+feat2.shape[1]+rkhs1.nB_),\n",
    "                               slice(feat1.shape[1]+feat2.shape[1]+rkhs1.nB_,\n",
    "                                     feat1.shape[1]+feat2.shape[1]+rkhs1.nB_+rkhs2.nB_)])\n",
    "X_train, X_test, y_train, y_test, sig_train, sig_test, g_train, g_test = train_test_split_by_frame(frames, feats, cs, sigmas, train_size=0.8)"
   ]
  },
  {
   "cell_type": "code",
   "execution_count": 36,
   "metadata": {},
   "outputs": [],
   "source": [
    "splits = list(GroupKFold(n_splits=2).split(X_train, y_train, g_train))\n",
    "gcv = GridSearchCV(ar, dict(delta=[[1,1,1,1], [10,1,1,1], [1, 10, 1, 1], [1, 1, 1,10]]), cv = splits, scoring='neg_mean_squared_error')"
   ]
  },
  {
   "cell_type": "code",
   "execution_count": 37,
   "metadata": {},
   "outputs": [
    {
     "data": {
      "text/plain": [
       "GridSearchCV(cv=[(array([   86,    87,    88, ..., 12739, 12740, 12741]),\n",
       "                  array([    0,     1,     2, ..., 12887, 12888, 12889])),\n",
       "                 (array([    0,     1,     2, ..., 12887, 12888, 12889]),\n",
       "                  array([   86,    87,    88, ..., 12739, 12740, 12741]))],\n",
       "             estimator=AtomRidge(delta=[10, 2],\n",
       "                                 feature_groups=[slice(0, 50, None),\n",
       "                                                 slice(50, 6770, None),\n",
       "                                                 slice(6770, 7731, None),\n",
       "                                                 slice(7731, 8731, None)],\n",
       "                                 sigma=1),\n",
       "             param_grid={'delta': [[1, 1, 1, 1], [10, 1, 1, 1], [1, 10, 1, 1],\n",
       "                                   [1, 1, 1, 10]]},\n",
       "             scoring='neg_mean_squared_error')"
      ]
     },
     "execution_count": 37,
     "metadata": {},
     "output_type": "execute_result"
    }
   ],
   "source": [
    "gcv.fit(X_train, y_train, sample_sigmas=sig_train)"
   ]
  },
  {
   "cell_type": "code",
   "execution_count": 38,
   "metadata": {},
   "outputs": [
    {
     "data": {
      "text/plain": [
       "{'mean_fit_time': array([25.9908464 , 18.66943681, 14.19351351, 13.47021151]),\n",
       " 'std_fit_time': array([7.87567043, 5.03466594, 0.4240545 , 0.23257041]),\n",
       " 'mean_score_time': array([2.45875156, 1.50464952, 1.19806254, 1.2817291 ]),\n",
       " 'std_score_time': array([0.00236547, 0.24427855, 0.02094448, 0.03424489]),\n",
       " 'param_delta': masked_array(data=[list([1, 1, 1, 1]), list([10, 1, 1, 1]),\n",
       "                    list([1, 10, 1, 1]), list([1, 1, 1, 10])],\n",
       "              mask=[False, False, False, False],\n",
       "        fill_value='?',\n",
       "             dtype=object),\n",
       " 'params': [{'delta': [1, 1, 1, 1]},\n",
       "  {'delta': [10, 1, 1, 1]},\n",
       "  {'delta': [1, 10, 1, 1]},\n",
       "  {'delta': [1, 1, 1, 10]}],\n",
       " 'split0_test_score': array([-1766.45767912, -1675.88456838, -2139.97735554, -3986.15773773]),\n",
       " 'split1_test_score': array([-1615.56222064, -1588.44167681, -2015.18216864, -3926.14533309]),\n",
       " 'mean_test_score': array([-1691.00994988, -1632.1631226 , -2077.57976209, -3956.15153541]),\n",
       " 'std_test_score': array([75.44772924, 43.72144578, 62.39759345, 30.00620232]),\n",
       " 'rank_test_score': array([2, 1, 3, 4], dtype=int32)}"
      ]
     },
     "execution_count": 38,
     "metadata": {},
     "output_type": "execute_result"
    }
   ],
   "source": [
    "gcv.cv_results_"
   ]
  },
  {
   "cell_type": "code",
   "execution_count": 39,
   "metadata": {},
   "outputs": [],
   "source": [
    "cs_pred = gcv.predict(feats)"
   ]
  },
  {
   "cell_type": "code",
   "execution_count": 40,
   "metadata": {},
   "outputs": [
    {
     "data": {
      "text/plain": [
       "[<matplotlib.lines.Line2D at 0x7fb072d6c7b8>]"
      ]
     },
     "execution_count": 40,
     "metadata": {},
     "output_type": "execute_result"
    },
    {
     "data": {
      "image/png": "[encoded data removed]",
      "text/plain": [
       "<Figure size 432x288 with 1 Axes>"
      ]
     },
     "metadata": {
      "needs_background": "light"
     },
     "output_type": "display_data"
    }
   ],
   "source": [
    "plt.plot(cs[type_idx['C']], cs_pred[type_idx['C']], 'r.')\n",
    "plt.plot(cs[type_idx['H']], cs_pred[type_idx['H']], 'b.')\n",
    "plt.plot([-50,200],[-50,200], 'k--')"
   ]
  },
  {
   "cell_type": "code",
   "execution_count": 41,
   "metadata": {},
   "outputs": [],
   "source": [
    "p_test = gcv.predict(X_test)"
   ]
  },
  {
   "cell_type": "code",
   "execution_count": 42,
   "metadata": {},
   "outputs": [
    {
     "data": {
      "text/plain": [
       "35.15884039375685"
      ]
     },
     "execution_count": 42,
     "metadata": {},
     "output_type": "execute_result"
    },
    {
     "data": {
      "image/png": "[encoded data removed]",
      "text/plain": [
       "<Figure size 432x288 with 1 Axes>"
      ]
     },
     "metadata": {
      "needs_background": "light"
     },
     "output_type": "display_data"
    }
   ],
   "source": [
    "plt.plot(p_test, y_test, 'r.')\n",
    "np.sqrt(np.mean((p_test-y_test)**2))"
   ]
  },
  {
   "cell_type": "markdown",
   "metadata": {},
   "source": [
    "# Tensor stuff"
   ]
  },
  {
   "cell_type": "code",
   "execution_count": 6,
   "metadata": {},
   "outputs": [],
   "source": [
    "cg = ClebschGordanReal(lmax=2)"
   ]
  },
  {
   "cell_type": "code",
   "execution_count": 7,
   "metadata": {},
   "outputs": [],
   "source": [
    "tcs_coupled = cg.couple(xyz_to_spherical(tcs))"
   ]
  },
  {
   "cell_type": "code",
   "execution_count": 10,
   "metadata": {},
   "outputs": [
    {
     "data": {
      "text/plain": [
       "(15894, 3, 3)"
      ]
     },
     "execution_count": 10,
     "metadata": {},
     "output_type": "execute_result"
    }
   ],
   "source": [
    "xyz_to_spherical(tcs).shape"
   ]
  },
  {
   "cell_type": "code",
   "execution_count": 8,
   "metadata": {},
   "outputs": [],
   "source": [
    "tcs_cart = spherical_to_xyz(cg.decouple(tcs_coupled))"
   ]
  },
  {
   "cell_type": "code",
   "execution_count": 25,
   "metadata": {},
   "outputs": [
    {
     "data": {
      "text/plain": [
       "True"
      ]
     },
     "execution_count": 25,
     "metadata": {},
     "output_type": "execute_result"
    }
   ],
   "source": [
    "np.allclose(tcs_cart, tcs)"
   ]
  },
  {
   "cell_type": "code",
   "execution_count": 9,
   "metadata": {},
   "outputs": [
    {
     "data": {
      "text/plain": [
       "array([[  61.3422, -101.3244,   47.903 ],\n",
       "       [-105.0865,  -13.6984,  -34.2244],\n",
       "       [  35.4635,  -54.8832,   60.0297]])"
      ]
     },
     "execution_count": 9,
     "metadata": {},
     "output_type": "execute_result"
    }
   ],
   "source": [
    "tcs[0]"
   ]
  },
  {
   "cell_type": "code",
   "execution_count": 16,
   "metadata": {},
   "outputs": [
    {
     "data": {
      "text/plain": [
       "-62.16532420958917"
      ]
     },
     "execution_count": 16,
     "metadata": {},
     "output_type": "execute_result"
    }
   ],
   "source": [
    "- 1/np.sqrt(3) * np.trace(tcs[0]) #cs[0][0,0] + tcs[0][1,1] + tcs[0][2,2]"
   ]
  },
  {
   "cell_type": "code",
   "execution_count": 20,
   "metadata": {},
   "outputs": [
    {
     "data": {
      "text/plain": [
       "2.660206421501913"
      ]
     },
     "execution_count": 20,
     "metadata": {},
     "output_type": "execute_result"
    }
   ],
   "source": [
    "1/np.sqrt(2) * (-tcs[0][1,0]+tcs[0][0,1])"
   ]
  },
  {
   "cell_type": "code",
   "execution_count": 21,
   "metadata": {},
   "outputs": [
    {
     "data": {
      "text/plain": [
       "{(1,\n",
       "  1): {0: array([[-62.16532421],\n",
       "         [-62.16532421],\n",
       "         [-62.16532421],\n",
       "         ...,\n",
       "         [-45.1345305 ],\n",
       "         [-45.1345305 ],\n",
       "         [-45.1345305 ]]), 1: array([[ -8.7960548 ,   2.66020642,  14.60797757],\n",
       "         [  8.7960548 ,  -2.66020642,  14.60797757],\n",
       "         [ -8.7960548 ,  -2.66020642, -14.60797757],\n",
       "         ...,\n",
       "         [  0.7794438 ,   0.21736462,  -0.90290465],\n",
       "         [  0.7794438 ,  -0.21736462,   0.90290465],\n",
       "         [  0.7794438 ,   0.21736462,  -0.90290465]]), 2: array([[-145.9545471 ,  -63.00858822,   29.5635449 ,   58.94901747,\n",
       "            53.06171712],\n",
       "         [ 145.9545471 ,  -63.00858822,   29.5635449 ,  -58.94901747,\n",
       "            53.06171712],\n",
       "         [ 145.9545471 ,   63.00858822,   29.5635449 ,   58.94901747,\n",
       "            53.06171712],\n",
       "         ...,\n",
       "         [   3.03405378,   -3.12788685,    0.84454324,   -2.4951677 ,\n",
       "             2.93937218],\n",
       "         [  -3.03405378,    3.12788685,    0.84454324,   -2.4951677 ,\n",
       "             2.93937218],\n",
       "         [   3.03405378,   -3.12788685,    0.84454324,   -2.4951677 ,\n",
       "             2.93937218]])}}"
      ]
     },
     "execution_count": 21,
     "metadata": {},
     "output_type": "execute_result"
    }
   ],
   "source": [
    "tcs_coupled"
   ]
  },
  {
   "cell_type": "code",
   "execution_count": 47,
   "metadata": {},
   "outputs": [
    {
     "name": "stdout",
     "output_type": "stream",
     "text": [
      "[-62.16532421] [-8.7960548   2.66020642 14.60797757] [-145.9545471   -63.00858822   29.5635449    58.94901747   53.06171712]\n"
     ]
    }
   ],
   "source": [
    "print(tcs_coupled[(1,1)][0][0], tcs_coupled[(1,1)][1][0], tcs_coupled[(1,1)][2][0])"
   ]
  },
  {
   "cell_type": "code",
   "execution_count": 48,
   "metadata": {},
   "outputs": [
    {
     "data": {
      "text/plain": [
       "array([[  61.3422, -101.3244,   47.903 ],\n",
       "       [-105.0865,  -13.6984,  -34.2244],\n",
       "       [  35.4635,  -54.8832,   60.0297]])"
      ]
     },
     "execution_count": 48,
     "metadata": {},
     "output_type": "execute_result"
    }
   ],
   "source": [
    "tcs_cart[0]"
   ]
  },
  {
   "cell_type": "code",
   "execution_count": 49,
   "metadata": {},
   "outputs": [
    {
     "data": {
      "text/plain": [
       "62.163303483647006"
      ]
     },
     "execution_count": 49,
     "metadata": {},
     "output_type": "execute_result"
    }
   ],
   "source": [
    "cs[0]*np.sqrt(3)"
   ]
  },
  {
   "cell_type": "code",
   "execution_count": 50,
   "metadata": {},
   "outputs": [
    {
     "data": {
      "text/plain": [
       "35.89116666666666"
      ]
     },
     "execution_count": 50,
     "metadata": {},
     "output_type": "execute_result"
    }
   ],
   "source": [
    "tcs[0].trace()/3"
   ]
  },
  {
   "cell_type": "code",
   "execution_count": 51,
   "metadata": {},
   "outputs": [
    {
     "data": {
      "text/plain": [
       "array([[-145.9545471 ,  -63.00858822,   29.5635449 ,   58.94901747,\n",
       "          53.06171712],\n",
       "       [ 145.9545471 ,  -63.00858822,   29.5635449 ,  -58.94901747,\n",
       "          53.06171712],\n",
       "       [ 145.9545471 ,   63.00858822,   29.5635449 ,   58.94901747,\n",
       "          53.06171712],\n",
       "       ...,\n",
       "       [   3.03405378,   -3.12788685,    0.84454324,   -2.4951677 ,\n",
       "           2.93937218],\n",
       "       [  -3.03405378,    3.12788685,    0.84454324,   -2.4951677 ,\n",
       "           2.93937218],\n",
       "       [   3.03405378,   -3.12788685,    0.84454324,   -2.4951677 ,\n",
       "           2.93937218]])"
      ]
     },
     "execution_count": 51,
     "metadata": {},
     "output_type": "execute_result"
    }
   ],
   "source": [
    "tcs_coupled[(1,1)][2]"
   ]
  },
  {
   "cell_type": "markdown",
   "metadata": {},
   "source": [
    "## builds lambda-SOAP"
   ]
  },
  {
   "cell_type": "code",
   "execution_count": 52,
   "metadata": {},
   "outputs": [],
   "source": [
    "hypers_2 = {\n",
    "    'interaction_cutoff': 6,\n",
    "    'max_radial': 8,\n",
    "    'max_angular': 6,\n",
    "    'gaussian_sigma_type': 'Constant',\n",
    "    'gaussian_sigma_constant': 0.2,\n",
    "    'cutoff_smooth_width': 0.3,\n",
    "    'radial_basis': 'DVR'\n",
    "}\n",
    "hypers_2 = get_optimal_radial_basis_hypers(hypers_2, frames, expanded_max_radial=50)"
   ]
  },
  {
   "cell_type": "code",
   "execution_count": 53,
   "metadata": {},
   "outputs": [],
   "source": [
    "CG = ClebschGordanReal(lmax=hypers_2[\"max_angular\"])"
   ]
  },
  {
   "cell_type": "code",
   "execution_count": 54,
   "metadata": {},
   "outputs": [],
   "source": [
    "spex = SphericalExpansion(**hypers_2)"
   ]
  },
  {
   "cell_type": "code",
   "execution_count": 55,
   "metadata": {},
   "outputs": [],
   "source": [
    "feats = spex.transform(frames).get_features(spex)\n",
    "ref_feats = 1e3*spherical_expansion_reshape(feats, **hypers_2)"
   ]
  },
  {
   "cell_type": "code",
   "execution_count": 56,
   "metadata": {},
   "outputs": [],
   "source": [
    "nsmall = 500"
   ]
  },
  {
   "cell_type": "code",
   "execution_count": 57,
   "metadata": {},
   "outputs": [],
   "source": [
    "lsoap = compute_lambda_soap(ref_feats[:nsmall], CG, 2)"
   ]
  },
  {
   "cell_type": "markdown",
   "metadata": {},
   "source": [
    "this is a simple PCA contraction"
   ]
  },
  {
   "cell_type": "code",
   "execution_count": 58,
   "metadata": {},
   "outputs": [],
   "source": [
    "lsr = np.moveaxis(lsoap,-1,1).reshape((lsoap.shape[0]*lsoap.shape[-1], -1))"
   ]
  },
  {
   "cell_type": "code",
   "execution_count": null,
   "metadata": {},
   "outputs": [],
   "source": [
    "u, s, vt = sp.linalg.svd(lsr, full_matrices=False)"
   ]
  },
  {
   "cell_type": "code",
   "execution_count": null,
   "metadata": {},
   "outputs": [],
   "source": [
    "plt.loglog(s)"
   ]
  },
  {
   "cell_type": "code",
   "execution_count": null,
   "metadata": {},
   "outputs": [],
   "source": [
    "vt.shape"
   ]
  },
  {
   "cell_type": "code",
   "execution_count": null,
   "metadata": {},
   "outputs": [],
   "source": [
    "lsoap_pca = np.moveaxis((lsr@vt[:1000].T).reshape((lsoap.shape[0], lsoap.shape[-1], -1)), 1, -1)"
   ]
  },
  {
   "cell_type": "code",
   "execution_count": null,
   "metadata": {},
   "outputs": [],
   "source": [
    "lsoap_pca.shape"
   ]
  },
  {
   "cell_type": "markdown",
   "metadata": {},
   "source": [
    "now do 0-1-2"
   ]
  },
  {
   "cell_type": "code",
   "execution_count": null,
   "metadata": {},
   "outputs": [],
   "source": [
    "lsoap0 = compute_lambda_soap(ref_feats[:nsmall], CG, 0, 0)\n",
    "lsr = np.moveaxis(lsoap0,-1,1).reshape((lsoap0.shape[0]*lsoap0.shape[-1], -1))\n",
    "u, s, vt = sp.linalg.svd(lsr, full_matrices=False)"
   ]
  },
  {
   "cell_type": "code",
   "execution_count": null,
   "metadata": {},
   "outputs": [],
   "source": [
    "from sklearn.linear_model import Ridge"
   ]
  },
  {
   "cell_type": "code",
   "execution_count": null,
   "metadata": {
    "code_folding": []
   },
   "outputs": [],
   "source": [
    "class SASplitter:\n",
    "    \"\"\" CV splitter that takes into account the presence of \"L blocks\"\n",
    "    associated with symmetry-adapted regression. Basically, you can trick conventional\n",
    "    regression schemes to work on symmetry-adapted data y^M_L(A_i) by having the (2L+1)\n",
    "    angular channels \"unrolled\" into a flat array. Then however splitting of train/test\n",
    "    or cross validation must not \"cut\" across the M block. This takes care of that.\n",
    "    \"\"\"\n",
    "    def __init__(self, L, cv=2):\n",
    "        self.L = L\n",
    "        self.cv = cv\n",
    "        self.n_splits = cv\n",
    "\n",
    "    def split(self, X, y, groups=None):\n",
    "\n",
    "        ntrain = X.shape[0]\n",
    "        if ntrain % (2*self.L+1) != 0:\n",
    "            raise ValueError(\"Size of training data is inconsistent with the L value\")\n",
    "        ntrain = ntrain // (2*self.L+1)\n",
    "        nbatch = (2*self.L+1)*(ntrain//self.n_splits)\n",
    "        idx = np.arange(len(X))\n",
    "        np.random.shuffle(idx)\n",
    "        for n in range(self.n_splits):\n",
    "            itest = idx[n*nbatch:(n+1)*nbatch]\n",
    "            itrain = np.concatenate([idx[:n*nbatch], idx[(n+1)*nbatch:]])\n",
    "            yield itrain, itest\n",
    "\n",
    "    def get_n_splits(self, X, y, groups=None):\n",
    "        return self.n_splits\n",
    "    \n",
    "class SARidge(Ridge):\n",
    "    \"\"\" Symmetry-adapted ridge regression class \"\"\"\n",
    "\n",
    "    def __init__(self, L, alpha=1, alphas=None, cv=2, solver='auto',\n",
    "                 fit_intercept=False, scoring='neg_root_mean_squared_error'):\n",
    "        self.L = L\n",
    "        # L>0 components have zero mean by symmetry\n",
    "        if L>0:\n",
    "            fit_intercept = False\n",
    "        self.cv = SASplitter(L, cv)\n",
    "        self.alphas = alphas\n",
    "        self.cv_stats = None\n",
    "        self.scoring = scoring\n",
    "        self.solver = solver\n",
    "        super(SARidge, self).__init__(alpha=alpha, fit_intercept=fit_intercept, solver=solver)\n",
    "\n",
    "    def fit(self, Xm, Ym, X0=None):\n",
    "        # this expects properties in the form [i, m] and features in the form [i, q, m]\n",
    "        # in order to train a SA-GPR model the m indices have to be moved and merged with the i\n",
    "\n",
    "        Xm_flat = np.moveaxis(Xm, 2, 1).reshape((-1, Xm.shape[1]))\n",
    "        Ym_flat = Ym.flatten()\n",
    "        if self.alphas is not None:\n",
    "            # determines alpha by grid search\n",
    "            rcv = Ridge(fit_intercept=self.fit_intercept)\n",
    "            gscv = GridSearchCV(rcv, dict(alpha=self.alphas), cv=self.cv, scoring=self.scoring)\n",
    "            gscv.fit(Xm_flat, Ym_flat)\n",
    "            self.cv_stats = gscv.cv_results_\n",
    "            self.alpha = gscv.best_params_[\"alpha\"]\n",
    "\n",
    "        super(SARidge, self).fit(Xm_flat, Ym_flat)\n",
    "    def predict(self, Xm, X0=None):\n",
    "\n",
    "        Y = super(SARidge, self).predict(np.moveaxis(Xm, 2, 1).reshape((-1, Xm.shape[1])))\n",
    "        return Y.reshape((-1, 2*self.L+1))"
   ]
  },
  {
   "cell_type": "code",
   "execution_count": null,
   "metadata": {},
   "outputs": [],
   "source": [
    "tgt0 = tcs_coupled[(1,1)][0][:nsmall]\n",
    "tgt1 = tcs_coupled[(1,1)][1][:nsmall]\n",
    "tgt2 = tcs_coupled[(1,1)][2][:nsmall]"
   ]
  },
  {
   "cell_type": "code",
   "execution_count": null,
   "metadata": {},
   "outputs": [],
   "source": [
    "sar0 = SARidge(L=0, alpha=1e-8)\n",
    "sar1 = SARidge(L=0, alpha=1e-8)\n",
    "sar2 = SARidge(L=0, alpha=1e-8)"
   ]
  },
  {
   "cell_type": "code",
   "execution_count": null,
   "metadata": {},
   "outputs": [],
   "source": [
    "sar0.fit(lsoap_pca, tgt)"
   ]
  },
  {
   "cell_type": "code",
   "execution_count": null,
   "metadata": {},
   "outputs": [],
   "source": [
    "pred = sar.predict(lsoap_pca)"
   ]
  },
  {
   "cell_type": "code",
   "execution_count": null,
   "metadata": {},
   "outputs": [],
   "source": [
    "pred"
   ]
  },
  {
   "cell_type": "code",
   "execution_count": null,
   "metadata": {},
   "outputs": [],
   "source": [
    "tgt"
   ]
  },
  {
   "cell_type": "code",
   "execution_count": null,
   "metadata": {},
   "outputs": [],
   "source": []
  },
  {
   "cell_type": "code",
   "execution_count": null,
   "metadata": {},
   "outputs": [],
   "source": []
  }
 ],
 "metadata": {
  "kernelspec": {
   "display_name": "Python 3 (ipykernel)",
   "language": "python",
   "name": "python3"
  },
  "language_info": {
   "codemirror_mode": {
    "name": "ipython",
    "version": 3
   },
   "file_extension": ".py",
   "mimetype": "text/x-python",
   "name": "python",
   "nbconvert_exporter": "python",
   "pygments_lexer": "ipython3",
   "version": "3.7.3"
  },
  "toc": {
   "base_numbering": 1,
   "nav_menu": {},
   "number_sections": true,
   "sideBar": true,
   "skip_h1_title": false,
   "title_cell": "Table of Contents",
   "title_sidebar": "Contents",
   "toc_cell": false,
   "toc_position": {},
   "toc_section_display": true,
   "toc_window_display": false
  }
 },
 "nbformat": 4,
 "nbformat_minor": 4
}
