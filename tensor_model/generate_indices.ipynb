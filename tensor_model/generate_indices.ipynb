{
 "cells": [
  {
   "cell_type": "code",
   "execution_count": 2,
   "id": "fa6cccae-bae1-4aa2-94f3-70934c74d2a3",
   "metadata": {},
   "outputs": [],
   "source": [
    "from helpers import *\n",
    "from rascal.representations import SphericalInvariants\n",
    "from rascal.neighbourlist.structure_manager import mask_center_atoms_by_species\n"
   ]
  },
  {
   "cell_type": "code",
   "execution_count": 3,
   "id": "0f81cc2a-a9d1-4375-b3ea-3aa5cdc9f791",
   "metadata": {},
   "outputs": [],
   "source": [
    "PATH_TRAIN = \"./train_tensor/CSD-3k+S546_shift_tensors.xyz\"\n",
    "PATH_TEST = \"./test_tensor/CSD-500+104-7_shift_tensors.xyz\"\n",
    "\n",
    "structures_train, tensors_train = load_CSD_data(PATH_TRAIN,prop_string=\"cs_iso\")\n",
    "\n",
    "\n",
    "\n",
    "\n",
    "#-----mask----\n",
    "for structure in structures_train: mask_center_atoms_by_species(structure,species_select=[1])\n",
    "\n",
    "\n",
    "#-----select tensors-----\n",
    "train_tensors = np.array([tensor for structure in structures_train for tensor in structure.arrays[\"cs_tensor\"][structure.arrays[\"center_atoms_mask\"]]])\n"
   ]
  },
  {
   "cell_type": "code",
   "execution_count": 4,
   "id": "5fd452e2-c0be-48a0-a678-a4946ad3df03",
   "metadata": {},
   "outputs": [],
   "source": [
    "\n",
    "hypers = dict(soap_type=\"PowerSpectrum\",\n",
    "              interaction_cutoff=4.5,\n",
    "              max_radial=12,\n",
    "              max_angular=9,\n",
    "              gaussian_sigma_constant=0.3,\n",
    "              gaussian_sigma_type=\"Constant\",\n",
    "              cutoff_function_type=\"RadialScaling\",\n",
    "              cutoff_smooth_width=0.5,\n",
    "              cutoff_function_parameters=\n",
    "                    dict(\n",
    "                            rate=1,\n",
    "                            scale=3.0,\n",
    "                            exponent=6\n",
    "                        ),\n",
    "              radial_basis=\"GTO\",\n",
    "              normalize=True,\n",
    "              optimization=\n",
    "                    dict(\n",
    "                            Spline=dict(\n",
    "                               accuracy=1.0e-05\n",
    "                            )\n",
    "                        ),\n",
    "              compute_gradients=False\n",
    "              )"
   ]
  },
  {
   "cell_type": "code",
   "execution_count": 5,
   "id": "ca126445-061f-4174-a734-589fed417551",
   "metadata": {},
   "outputs": [],
   "source": [
    "from rascal.utils import FPSFilter"
   ]
  },
  {
   "cell_type": "code",
   "execution_count": null,
   "id": "0fb72f9d-530f-4f99-bc55-900aa1d436af",
   "metadata": {},
   "outputs": [],
   "source": [
    "for i in "
   ]
  },
  {
   "cell_type": "code",
   "execution_count": 6,
   "id": "1b8dd627-8814-48c2-b7ff-ed740d6ec2cf",
   "metadata": {},
   "outputs": [],
   "source": [
    "def write_selection_indices(PATH_TRAIN,hypers,elements=[1]):\n",
    "    for element in elements:\n",
    "        structures = read(PATH_TRAIN,format=\"extxyz\",index=\":\")\n",
    "        #[f(x) for x in sequence if condition]\n",
    "        for atom in structures_train:\n",
    "            atom.wrap(eps=1e-10)\n",
    "        for structure in structures_train: mask_center_atoms_by_species(structure,species_select=[element])\n",
    "        soap = SphericalInvariants(**hypers)\n",
    "        #sample_compressor = FPSFilter(soap, 20000, act_on='sample')\n",
    "        managers = soap.transform(structures_train)\n",
    "        print(\"passed\")\n",
    "        #_ = sample_compressor.select_and_filter(managers)\n",
    "        #selected_ids = sample_compressor.selected_ids\n",
    "        #np.save(\"{}_selected_ids\".format(element),selected_ids)\n",
    "    "
   ]
  },
  {
   "cell_type": "code",
   "execution_count": null,
   "id": "fb1e3f61-8f7a-4666-a246-2e0213efc79e",
   "metadata": {},
   "outputs": [],
   "source": []
  },
  {
   "cell_type": "code",
   "execution_count": 7,
   "id": "fffffb7e-8353-49e2-bcf4-0932889c0824",
   "metadata": {},
   "outputs": [
    {
     "ename": "KeyboardInterrupt",
     "evalue": "",
     "output_type": "error",
     "traceback": [
      "\u001b[0;31m---------------------------------------------------------------------------\u001b[0m",
      "\u001b[0;31mKeyboardInterrupt\u001b[0m                         Traceback (most recent call last)",
      "\u001b[0;32m<ipython-input-7-cb460af1d631>\u001b[0m in \u001b[0;36m<module>\u001b[0;34m\u001b[0m\n\u001b[0;32m----> 1\u001b[0;31m \u001b[0mwrite_selection_indices\u001b[0m\u001b[0;34m(\u001b[0m\u001b[0;34m\"./train_tensor/CSD-3k+S546_shift_tensors.xyz\"\u001b[0m\u001b[0;34m,\u001b[0m\u001b[0mhypers\u001b[0m\u001b[0;34m)\u001b[0m\u001b[0;34m\u001b[0m\u001b[0;34m\u001b[0m\u001b[0m\n\u001b[0m",
      "\u001b[0;32m<ipython-input-6-fa5511eef063>\u001b[0m in \u001b[0;36mwrite_selection_indices\u001b[0;34m(PATH_TRAIN, hypers, elements)\u001b[0m\n\u001b[1;32m      8\u001b[0m         \u001b[0msoap\u001b[0m \u001b[0;34m=\u001b[0m \u001b[0mSphericalInvariants\u001b[0m\u001b[0;34m(\u001b[0m\u001b[0;34m**\u001b[0m\u001b[0mhypers\u001b[0m\u001b[0;34m)\u001b[0m\u001b[0;34m\u001b[0m\u001b[0;34m\u001b[0m\u001b[0m\n\u001b[1;32m      9\u001b[0m         \u001b[0;31m#sample_compressor = FPSFilter(soap, 20000, act_on='sample')\u001b[0m\u001b[0;34m\u001b[0m\u001b[0;34m\u001b[0m\u001b[0;34m\u001b[0m\u001b[0m\n\u001b[0;32m---> 10\u001b[0;31m         \u001b[0mmanagers\u001b[0m \u001b[0;34m=\u001b[0m \u001b[0msoap\u001b[0m\u001b[0;34m.\u001b[0m\u001b[0mtransform\u001b[0m\u001b[0;34m(\u001b[0m\u001b[0mstructures_train\u001b[0m\u001b[0;34m)\u001b[0m\u001b[0;34m\u001b[0m\u001b[0;34m\u001b[0m\u001b[0m\n\u001b[0m\u001b[1;32m     11\u001b[0m         \u001b[0mprint\u001b[0m\u001b[0;34m(\u001b[0m\u001b[0;34m\"passed\"\u001b[0m\u001b[0;34m)\u001b[0m\u001b[0;34m\u001b[0m\u001b[0;34m\u001b[0m\u001b[0m\n\u001b[1;32m     12\u001b[0m         \u001b[0m_\u001b[0m \u001b[0;34m=\u001b[0m \u001b[0msample_compressor\u001b[0m\u001b[0;34m.\u001b[0m\u001b[0mselect_and_filter\u001b[0m\u001b[0;34m(\u001b[0m\u001b[0mmanagers\u001b[0m\u001b[0;34m)\u001b[0m\u001b[0;34m\u001b[0m\u001b[0;34m\u001b[0m\u001b[0m\n",
      "\u001b[0;32m/ssd/scratch/kellner/miniconda3/lib/python3.8/site-packages/rascal/representations/spherical_invariants.py\u001b[0m in \u001b[0;36mtransform\u001b[0;34m(self, frames)\u001b[0m\n\u001b[1;32m    339\u001b[0m             \u001b[0mframes\u001b[0m \u001b[0;34m=\u001b[0m \u001b[0mAtomsList\u001b[0m\u001b[0;34m(\u001b[0m\u001b[0mframes\u001b[0m\u001b[0;34m,\u001b[0m \u001b[0mself\u001b[0m\u001b[0;34m.\u001b[0m\u001b[0mnl_options\u001b[0m\u001b[0;34m)\u001b[0m\u001b[0;34m\u001b[0m\u001b[0;34m\u001b[0m\u001b[0m\n\u001b[1;32m    340\u001b[0m \u001b[0;34m\u001b[0m\u001b[0m\n\u001b[0;32m--> 341\u001b[0;31m         \u001b[0mself\u001b[0m\u001b[0;34m.\u001b[0m\u001b[0m_representation\u001b[0m\u001b[0;34m.\u001b[0m\u001b[0mcompute\u001b[0m\u001b[0;34m(\u001b[0m\u001b[0mframes\u001b[0m\u001b[0;34m.\u001b[0m\u001b[0mmanagers\u001b[0m\u001b[0;34m)\u001b[0m\u001b[0;34m\u001b[0m\u001b[0;34m\u001b[0m\u001b[0m\n\u001b[0m\u001b[1;32m    342\u001b[0m \u001b[0;34m\u001b[0m\u001b[0m\n\u001b[1;32m    343\u001b[0m         \u001b[0;32mreturn\u001b[0m \u001b[0mframes\u001b[0m\u001b[0;34m\u001b[0m\u001b[0;34m\u001b[0m\u001b[0m\n",
      "\u001b[0;31mKeyboardInterrupt\u001b[0m: "
     ]
    }
   ],
   "source": [
    "write_selection_indices(\"./train_tensor/CSD-3k+S546_shift_tensors.xyz\",hypers)"
   ]
  },
  {
   "cell_type": "code",
   "execution_count": 21,
   "id": "d7cd4d57-9afd-4ad2-863b-4a51f3434cc2",
   "metadata": {},
   "outputs": [],
   "source": [
    "this = np.load(\"1_selected_ids.npy\",allow_pickle=True)"
   ]
  },
  {
   "cell_type": "code",
   "execution_count": 22,
   "id": "63d2850d-101a-48a3-b8f3-19709f05c214",
   "metadata": {},
   "outputs": [
    {
     "data": {
      "text/plain": [
       "array([list([0]), list([]), list([]), list([]), list([]), list([]),\n",
       "       list([]), list([]), list([]), list([28]), list([]), list([]),\n",
       "       list([]), list([]), list([]), list([15]), list([]), list([17]),\n",
       "       list([]), list([])], dtype=object)"
      ]
     },
     "execution_count": 22,
     "metadata": {},
     "output_type": "execute_result"
    }
   ],
   "source": [
    "this"
   ]
  },
  {
   "cell_type": "code",
   "execution_count": null,
   "id": "572cbc3a-a598-4bb1-bd3e-58795abb3de4",
   "metadata": {},
   "outputs": [],
   "source": []
  }
 ],
 "metadata": {
  "kernelspec": {
   "display_name": "Python 3",
   "language": "python",
   "name": "python3"
  },
  "language_info": {
   "codemirror_mode": {
    "name": "ipython",
    "version": 3
   },
   "file_extension": ".py",
   "mimetype": "text/x-python",
   "name": "python",
   "nbconvert_exporter": "python",
   "pygments_lexer": "ipython3",
   "version": "3.8.10"
  }
 },
 "nbformat": 4,
 "nbformat_minor": 5
}
